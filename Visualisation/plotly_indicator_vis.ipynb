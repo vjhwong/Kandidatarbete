{
 "cells": [
  {
   "cell_type": "code",
   "execution_count": 223,
   "metadata": {},
   "outputs": [],
   "source": [
    "import pandas as pd\n",
    "import numpy as np\n",
    "import plotly.express as px"
   ]
  },
  {
   "cell_type": "code",
   "execution_count": 224,
   "metadata": {},
   "outputs": [],
   "source": [
    "def extract_chosen_isolates(\n",
    "    chosen_isolates: pd.DataFrame, matrix_EU: pd.DataFrame\n",
    ") -> pd.DataFrame:\n",
    "    \"\"\"\n",
    "    Select the chosen isolates from the script. Return a DataFrame only containing the rows of selected isolates\n",
    "    \"\"\"\n",
    "    chosen_rows = matrix_EU[\"Isolate\"].isin(chosen_isolates[\"Isolate\"])\n",
    "    return matrix_EU[chosen_rows]"
   ]
  },
  {
   "cell_type": "code",
   "execution_count": 225,
   "metadata": {},
   "outputs": [],
   "source": [
    "def find_digits(SIR: str) -> int:\n",
    "    \"\"\"Find numbers in a string\"\"\"\n",
    "    digit = \"\"\n",
    "    for character in SIR:\n",
    "        if character.isdigit() or character == \".\":\n",
    "            digit += character\n",
    "    return float(digit)"
   ]
  },
  {
   "cell_type": "code",
   "execution_count": 226,
   "metadata": {},
   "outputs": [],
   "source": [
    "def get_scale(SIR: str) -> bool:\n",
    "    \"\"\"Get on or off scale. True == on-scale\"\"\"\n",
    "    if \"=\" in SIR:\n",
    "        return True\n",
    "    elif \"<\" in SIR or \">\" in SIR:\n",
    "        return False\n",
    "    else:\n",
    "        raise ValueError(\"Not a valid SIR\")"
   ]
  },
  {
   "cell_type": "code",
   "execution_count": 227,
   "metadata": {},
   "outputs": [],
   "source": [
    "def parse_SIR(SIR: str) -> bool:\n",
    "    \"\"\"\n",
    "    Find the isolates with valid SIRs. Not 'Missing BP'\n",
    "    and not 'nip'.\n",
    "    \"\"\"\n",
    "    if SIR.startswith(\"Missing BP\"):\n",
    "        return False\n",
    "    if SIR == \"nip\":\n",
    "        return False\n",
    "    return True      "
   ]
  },
  {
   "cell_type": "code",
   "execution_count": 228,
   "metadata": {},
   "outputs": [],
   "source": [
    "def extract_SIR(chosen_isolates: pd.DataFrame, antibiotics: list) -> dict:\n",
    "    \"\"\"\n",
    "    Extract all SIRs for an antibiotic. Returns a dictionary\n",
    "    with antibiotcs as keys and lists of the isolates and their\n",
    "    SIRs in tuples as value.\n",
    "    \"\"\"\n",
    "    chosen_isolates_SIR ={antibiotic: [] for antibiotic in antibiotics}\n",
    "    \n",
    "    for index, row in chosen_isolates.iterrows():\n",
    "        isolate, pathogen, antibiotic_SIR = row[0], row[1], list(row[3:].items())\n",
    "        for antibiotic, SIR in antibiotic_SIR:\n",
    "            if parse_SIR(SIR):\n",
    "                mic_category = SIR[0]\n",
    "                mic = find_digits(SIR)\n",
    "                scale = get_scale(SIR)\n",
    "                chosen_isolates_SIR[antibiotic].append((isolate, mic, mic_category, scale, pathogen))\n",
    "            else:\n",
    "                # If SIR = \"Missing BP\" or \"nip\"\n",
    "                chosen_isolates_SIR[antibiotic].append((isolate, SIR, None, None, pathogen))\n",
    "    return chosen_isolates_SIR"
   ]
  },
  {
   "cell_type": "code",
   "execution_count": 229,
   "metadata": {},
   "outputs": [],
   "source": [
    "def filter_mic_values(chosen_isolates_SIR: dict) -> None:\n",
    "    \"\"\"\n",
    "    Remove the tuples that have None in their SIR data\n",
    "    \"\"\"\n",
    "    for antibiotic, SIR_data in chosen_isolates_SIR.items():\n",
    "        # tup = (isolate, mic_value, mic_category, scale, pathogen)\n",
    "        chosen_isolates_SIR[antibiotic] = list((tup for tup in SIR_data if tup[2] is not None))\n",
    "    return chosen_isolates_SIR"
   ]
  },
  {
   "cell_type": "code",
   "execution_count": 230,
   "metadata": {},
   "outputs": [],
   "source": [
    "def extract_mic_data(chosen_isolates_SIR: dict, antibiotics: list) -> list:\n",
    "    \"\"\"\n",
    "    Extract the mic-values of each isolate for each antibiotic.\n",
    "    Returns a nested list. Each list represents the mic-values of \n",
    "    all isolates for an antibiotic.\n",
    "    \"\"\"\n",
    "    mic_values = []\n",
    "    # Iterate over all antibioticsz\n",
    "    for antibiotic in antibiotics:\n",
    "        # Create a list to hold the mic-values of isolates for that abx\n",
    "        antibiotic_mic_values = []\n",
    "        # Get value of current abx. List of (isolate, mic_value, mic_category)\n",
    "        SIR_data = chosen_isolates_SIR[antibiotic]\n",
    "        for isolate, mic_value, mic_category, scale, pathogen in SIR_data:\n",
    "            antibiotic_mic_values.append((isolate, np.log2(mic_value), mic_category, scale, pathogen))\n",
    "        mic_values.append(antibiotic_mic_values)\n",
    "    return mic_values"
   ]
  },
  {
   "cell_type": "code",
   "execution_count": 231,
   "metadata": {},
   "outputs": [],
   "source": [
    "def extract_mic_data(chosen_isolates_SIR: dict, antibiotics: list) -> dict:\n",
    "    \"\"\"\n",
    "    Extract the mic-values of each isolate for each antibiotic.\n",
    "    Returns a nested list. Each list represents the mic-values of \n",
    "    all isolates for an antibiotic.\n",
    "    \"\"\"\n",
    "    mic_values = {}\n",
    "    \n",
    "    # Iterate over all antibioticsz\n",
    "    for antibiotic in antibiotics:\n",
    "        # Create a list to hold the mic-values of isolates for that abx\n",
    "        mic_values[antibiotic] = []\n",
    "        # Get value of current abx. List of (isolate, mic_value, mic_category)\n",
    "        SIR_data = chosen_isolates_SIR[antibiotic]\n",
    "        for isolate, mic_value, mic_category, scale, pathogen in SIR_data:\n",
    "            mic_values[antibiotic].append((isolate, np.log2(mic_value), mic_category, scale, pathogen))\n",
    "    return mic_values"
   ]
  },
  {
   "cell_type": "code",
   "execution_count": 232,
   "metadata": {},
   "outputs": [],
   "source": [
    "def create_plot_df(antibiotics: list, mic_data: list, x_jitter: float=0.15 , y_jitter: float=0.05) -> pd.DataFrame:\n",
    "    \"\"\"Create dataframe used for plotting\"\"\"\n",
    "    \n",
    "    mic_dict = {\n",
    "        \"S\": (\"limegreen\", \"Sensitive\"),\n",
    "        \"I\": (\"gold\", \"Intermediate\"),\n",
    "        \"R\": (\"tomato\", \"Resistant\"),\n",
    "    }\n",
    "    \n",
    "    # Set ticks of x axis\n",
    "    x_axis = [i for i in range(len(antibiotics))]\n",
    "\n",
    "    # Initialize lists to hold values used for plotting\n",
    "    x_values, y_values = [], []\n",
    "    SIR_category_list = []\n",
    "    isolate_names = []\n",
    "    on_off_scale = []\n",
    "    pathogen_list = []\n",
    "\n",
    "    for antibiotic in antibiotics:\n",
    "        for x_value, (isolate, mic_value, SIR_category, scale, pathogen) in zip(x_axis, mic_data[antibiotic]):\n",
    "            # Add random noise to avoid overlapping\n",
    "            x_value_jitter = x_value + np.random.uniform(-x_jitter, x_jitter)\n",
    "            mic_value_jitter = mic_value + np.random.uniform(-y_jitter, y_jitter)\n",
    "            # Add data to the lists\n",
    "            isolate_names.append(isolate)\n",
    "            x_values.append(x_value_jitter)\n",
    "            SIR_category_list.append(mic_dict[SIR_category][1])\n",
    "            on_off_scale.append(scale)\n",
    "            pathogen_list.append(pathogen)\n",
    "            if scale is True:\n",
    "                y_values.append(mic_value_jitter)\n",
    "            elif scale is False:\n",
    "                if SIR_category == \"S\":\n",
    "                    y_values.append(-10)\n",
    "                elif SIR_category == \"R\":\n",
    "                    y_values.append(11)\n",
    "                else:\n",
    "                    raise ValueError(f\"SIR Category must be either S or R, not: {SIR_category}\")\n",
    "            else:\n",
    "                raise ValueError(f\"scale must be Boolean value, not {type(scale)}. Current value: {scale}\")\n",
    "\n",
    "    # Create a DF used for plotting\n",
    "    plot_df = pd.DataFrame(\n",
    "        {\n",
    "            \"Antibiotics\": x_values,\n",
    "            \"Log2(MIC-value)\": y_values,\n",
    "            \"Isolate names\": isolate_names,\n",
    "            \"SIR\": SIR_category_list,\n",
    "            \"Scale\": on_off_scale,\n",
    "            \"Pathogen\": pathogen_list\n",
    "        },\n",
    "        index=np.arange(len(x_values)),\n",
    "    )\n",
    "    \n",
    "    return plot_df"
   ]
  },
  {
   "cell_type": "code",
   "execution_count": 233,
   "metadata": {},
   "outputs": [],
   "source": [
    "def plotly_dotplot(plot_df: pd.DataFrame, antibiotics: list) -> None:\n",
    "    \n",
    "    # Set ticks of x axis\n",
    "    x_axis = [i for i in range(len(antibiotics))]\n",
    "    \n",
    "    y_axis_ticktext = [\n",
    "            \"Min C\", \"0.00195\", \"0.00391\", \"0.00781\", \"0.01563\",\"0.03125\", \"0.0625\", \"0.125\", \n",
    "            \"0.25\", \"0.5\", \"1\", \"2\", \"4\", \"8\", \"16\", \"32\", \"64\", \"128\", \"256\", \"512\", \"1024\", \"Max C\"\n",
    "            ]\n",
    "\n",
    "    #plot\n",
    "    fig = px.scatter(\n",
    "        plot_df,\n",
    "        x=\"Antibiotics\",\n",
    "        y=\"Log2(MIC-value)\",\n",
    "        hover_name=\"Isolate names\",\n",
    "        color=\"SIR\",\n",
    "        opacity=0.3,\n",
    "        title=\"Isolate log2(MIC-values) for different antibiotics\",\n",
    "        range_y=[-11, 12],\n",
    "        hover_data={\n",
    "            \"Antibiotics\": False, \n",
    "            \"Log2(MIC-value)\": \":.0f\", \n",
    "            \"Scale\": True,\n",
    "            \"Pathogen\": True\n",
    "            },\n",
    "    )\n",
    "\n",
    "    # Changes the dot color depending on SIR category\n",
    "    def change_trace_color(trace):\n",
    "        if trace.name == \"Resistant\":\n",
    "            trace.update(marker_color=\"tomato\")\n",
    "        elif trace.name == \"Intermediate\":\n",
    "            trace.update(marker_color=\"gold\")\n",
    "        elif trace.name == \"Sensitive\":\n",
    "            trace.update(marker_color=\"limegreen\")\n",
    "        else:\n",
    "            raise ValueError(\"Not a valid trace\")\n",
    "        \n",
    "        # if trace.scale == False:\n",
    "        #     trace.update(marker_symbol=\"square\")\n",
    "\n",
    "    # Update dot color\n",
    "    fig.for_each_trace(change_trace_color)\n",
    "\n",
    "    # Modify x-ticks, y-ticks, legend and title\n",
    "    fig.update_layout(\n",
    "        xaxis=dict(tickmode=\"array\", tickvals=x_axis, ticktext=antibiotics),\n",
    "        yaxis=dict(\n",
    "            tickmode=\"array\",\n",
    "            tickvals=[i for i in range(-10, 12)],\n",
    "            ticktext=y_axis_ticktext,\n",
    "        ),\n",
    "        legend=dict(orientation=\"h\", yanchor=\"bottom\", y=1.02, xanchor=\"right\", x=1),\n",
    "        title_x=0.5,\n",
    "        template=\"plotly_dark\"\n",
    "    )\n",
    "    \n",
    "    fig.show()"
   ]
  },
  {
   "cell_type": "code",
   "execution_count": 235,
   "metadata": {},
   "outputs": [
    {
     "data": {
      "application/vnd.plotly.v1+json": {
       "config": {
        "plotlyServerURL": "https://plot.ly"
       },
       "data": [
        {
         "customdata": [
          [
           true,
           "Staphylococcus aureus"
          ],
          [
           true,
           "Staphylococcus aureus"
          ],
          [
           true,
           "Staphylococcus aureus"
          ],
          [
           true,
           "Streptococcus mitis"
          ],
          [
           true,
           "Streptococcus pneumoniae"
          ],
          [
           true,
           "Staphylococcus aureus"
          ],
          [
           true,
           "Streptococcus mitis"
          ],
          [
           true,
           "Staphylococcus lugdunensis"
          ],
          [
           true,
           "Staphylococcus lugdunensis"
          ],
          [
           true,
           "Streptococcus mitis"
          ],
          [
           true,
           "Staphylococcus aureus"
          ],
          [
           true,
           "Staphylococcus lugdunensis"
          ],
          [
           false,
           "Enterococcus faecium"
          ],
          [
           false,
           "Enterococcus faecium"
          ],
          [
           true,
           "Enterococcus faecalis"
          ],
          [
           false,
           "Enterococcus faecium"
          ],
          [
           false,
           "Streptococcus mitis"
          ],
          [
           false,
           "Enterococcus faecium"
          ],
          [
           true,
           "Streptococcus mitis"
          ],
          [
           true,
           "Streptococcus mitis"
          ],
          [
           false,
           "Enterococcus faecium"
          ],
          [
           true,
           "Streptococcus mitis"
          ],
          [
           false,
           "Enterococcus faecium"
          ],
          [
           false,
           "Enterococcus faecalis"
          ],
          [
           true,
           "Staphylococcus aureus"
          ],
          [
           true,
           "Staphylococcus aureus"
          ],
          [
           true,
           "Streptococcus mitis"
          ],
          [
           true,
           "Streptococcus mitis"
          ],
          [
           true,
           "Streptococcus mitis"
          ],
          [
           true,
           "Streptococcus mitis"
          ],
          [
           true,
           "Streptococcus mitis"
          ],
          [
           true,
           "Streptococcus pneumoniae"
          ],
          [
           true,
           "Enterococcus faecalis"
          ],
          [
           false,
           "Enterococcus faecium"
          ],
          [
           false,
           "Enterococcus faecium"
          ],
          [
           false,
           "Enterococcus faecalis"
          ],
          [
           false,
           "Enterococcus faecium"
          ],
          [
           false,
           "Enterococcus faecium"
          ],
          [
           false,
           "Enterococcus faecium"
          ],
          [
           false,
           "Enterococcus faecium"
          ],
          [
           false,
           "Enterococcus faecalis"
          ],
          [
           true,
           "Streptococcus mitis"
          ],
          [
           false,
           "Staphylococcus aureus"
          ],
          [
           false,
           "Staphylococcus aureus"
          ],
          [
           true,
           "Staphylococcus aureus"
          ],
          [
           false,
           "Staphylococcus epidermidis"
          ],
          [
           true,
           "Staphylococcus capitis"
          ],
          [
           false,
           "Staphylococcus capitis"
          ],
          [
           false,
           "Staphylococcus capitis"
          ],
          [
           false,
           "Staphylococcus epidermidis"
          ],
          [
           true,
           "Staphylococcus epidermidis"
          ],
          [
           false,
           "Staphylococcus hominis"
          ],
          [
           true,
           "Staphylococcus capitis"
          ],
          [
           true,
           "Staphylococcus capitis"
          ],
          [
           false,
           "Staphylococcus hominis"
          ],
          [
           true,
           "Staphylococcus hominis"
          ],
          [
           false,
           "Staphylococcus hominis"
          ],
          [
           false,
           "Staphylococcus hominis"
          ],
          [
           false,
           "Staphylococcus hominis"
          ],
          [
           false,
           "Staphylococcus hominis"
          ],
          [
           true,
           "Streptococcus pneumoniae"
          ],
          [
           true,
           "Staphylococcus aureus"
          ],
          [
           true,
           "Staphylococcus aureus"
          ],
          [
           true,
           "Enterococcus faecalis"
          ],
          [
           false,
           "Enterococcus faecium"
          ],
          [
           false,
           "Enterococcus faecalis"
          ],
          [
           false,
           "Enterococcus faecium"
          ],
          [
           true,
           "Staphylococcus aureus"
          ],
          [
           true,
           "Staphylococcus aureus"
          ],
          [
           false,
           "Enterococcus faecium"
          ],
          [
           true,
           "Staphylococcus epidermidis"
          ],
          [
           true,
           "Staphylococcus epidermidis"
          ],
          [
           false,
           "Enterococcus faecalis"
          ],
          [
           true,
           "Staphylococcus hominis"
          ],
          [
           false,
           "Enterococcus faecalis"
          ],
          [
           false,
           "Enterococcus faecalis"
          ],
          [
           false,
           "Enterococcus faecalis"
          ],
          [
           false,
           "Enterococcus faecium"
          ],
          [
           false,
           "Enterococcus faecalis"
          ],
          [
           false,
           "Enterococcus faecium"
          ],
          [
           true,
           "Staphylococcus aureus"
          ],
          [
           true,
           "Staphylococcus aureus"
          ],
          [
           true,
           "Enterococcus faecalis"
          ],
          [
           false,
           "Enterococcus faecium"
          ],
          [
           false,
           "Enterococcus faecalis"
          ],
          [
           false,
           "Staphylococcus aureus"
          ],
          [
           false,
           "Staphylococcus aureus"
          ],
          [
           false,
           "Staphylococcus epidermidis"
          ],
          [
           false,
           "Staphylococcus capitis"
          ],
          [
           false,
           "Staphylococcus capitis"
          ],
          [
           false,
           "Staphylococcus capitis"
          ],
          [
           false,
           "Staphylococcus epidermidis"
          ],
          [
           false,
           "Staphylococcus epidermidis"
          ],
          [
           false,
           "Staphylococcus hominis"
          ],
          [
           false,
           "Staphylococcus hominis"
          ],
          [
           false,
           "Streptococcus pneumoniae"
          ],
          [
           false,
           "Streptococcus pneumoniae"
          ],
          [
           false,
           "Staphylococcus aureus"
          ],
          [
           false,
           "Staphylococcus capitis"
          ],
          [
           false,
           "Staphylococcus hominis"
          ],
          [
           false,
           "Staphylococcus hominis"
          ],
          [
           false,
           "Staphylococcus hominis"
          ],
          [
           false,
           "Staphylococcus hominis"
          ],
          [
           false,
           "Staphylococcus hominis"
          ],
          [
           false,
           "Staphylococcus aureus"
          ],
          [
           false,
           "Staphylococcus epidermidis"
          ],
          [
           false,
           "Staphylococcus capitis"
          ],
          [
           false,
           "Staphylococcus capitis"
          ],
          [
           false,
           "Staphylococcus capitis"
          ],
          [
           false,
           "Staphylococcus epidermidis"
          ],
          [
           false,
           "Staphylococcus epidermidis"
          ],
          [
           false,
           "Streptococcus pneumoniae"
          ],
          [
           false,
           "Staphylococcus aureus"
          ],
          [
           false,
           "Staphylococcus capitis"
          ],
          [
           false,
           "Staphylococcus hominis"
          ],
          [
           true,
           "Staphylococcus hominis"
          ],
          [
           true,
           "Staphylococcus hominis"
          ],
          [
           true,
           "Staphylococcus hominis"
          ],
          [
           true,
           "Staphylococcus hominis"
          ],
          [
           true,
           "Staphylococcus aureus"
          ],
          [
           true,
           "Staphylococcus aureus"
          ],
          [
           true,
           "Staphylococcus aureus"
          ],
          [
           true,
           "Staphylococcus capitis"
          ],
          [
           true,
           "Staphylococcus capitis"
          ],
          [
           true,
           "Staphylococcus hominis"
          ],
          [
           true,
           "Streptococcus pneumoniae"
          ],
          [
           true,
           "Streptococcus pneumoniae"
          ],
          [
           false,
           "Staphylococcus aureus"
          ],
          [
           true,
           "Staphylococcus hominis"
          ],
          [
           true,
           "Staphylococcus aureus"
          ],
          [
           true,
           "Staphylococcus aureus"
          ],
          [
           true,
           "Staphylococcus aureus"
          ],
          [
           false,
           "Staphylococcus aureus"
          ],
          [
           false,
           "Staphylococcus aureus"
          ],
          [
           false,
           "Staphylococcus capitis"
          ],
          [
           false,
           "Staphylococcus epidermidis"
          ],
          [
           false,
           "Staphylococcus epidermidis"
          ],
          [
           true,
           "Staphylococcus capitis"
          ],
          [
           true,
           "Staphylococcus capitis"
          ],
          [
           true,
           "Staphylococcus hominis"
          ],
          [
           true,
           "Staphylococcus lugdunensis"
          ],
          [
           true,
           "Streptococcus pneumoniae"
          ],
          [
           true,
           "Streptococcus pneumoniae"
          ],
          [
           true,
           "Staphylococcus aureus"
          ],
          [
           true,
           "Staphylococcus hominis"
          ],
          [
           true,
           "Staphylococcus hominis"
          ],
          [
           true,
           "Staphylococcus hominis"
          ],
          [
           true,
           "Staphylococcus hominis"
          ],
          [
           false,
           "Staphylococcus aureus"
          ],
          [
           false,
           "Staphylococcus aureus"
          ],
          [
           false,
           "Staphylococcus aureus"
          ],
          [
           false,
           "Staphylococcus epidermidis"
          ],
          [
           false,
           "Staphylococcus capitis"
          ],
          [
           false,
           "Staphylococcus capitis"
          ],
          [
           false,
           "Staphylococcus capitis"
          ],
          [
           false,
           "Staphylococcus epidermidis"
          ],
          [
           false,
           "Staphylococcus epidermidis"
          ],
          [
           false,
           "Staphylococcus hominis"
          ],
          [
           false,
           "Staphylococcus hominis"
          ],
          [
           false,
           "Streptococcus pneumoniae"
          ],
          [
           false,
           "Streptococcus pneumoniae"
          ],
          [
           false,
           "Staphylococcus aureus"
          ],
          [
           false,
           "Staphylococcus capitis"
          ],
          [
           false,
           "Staphylococcus hominis"
          ],
          [
           false,
           "Staphylococcus hominis"
          ],
          [
           false,
           "Staphylococcus hominis"
          ],
          [
           false,
           "Staphylococcus hominis"
          ]
         ],
         "hovertemplate": "<b>%{hovertext}</b><br><br>SIR=Resistant<br>Log2(MIC-value)=%{y:.0f}<br>Scale=%{customdata[0]}<br>Pathogen=%{customdata[1]}<extra></extra>",
         "hovertext": [
          "QM397",
          "QM992",
          "QM322",
          "QM134",
          "QM806",
          "QM1450",
          "QM1406",
          "PER152",
          "QM960",
          "BAR066",
          "AR0565",
          "QM1259",
          "PER107",
          "PER108",
          "QM312",
          "QM295",
          "QM134",
          "QM1252",
          "QM1406",
          "BAR064",
          "QM1522",
          "BAR066",
          "AR0572",
          "QM067",
          "AR0703",
          "AR0703",
          "QM134",
          "QM1406",
          "BAR064",
          "QM871",
          "BAR066",
          "QM027",
          "QM286",
          "PER107",
          "PER108",
          "QM312",
          "QM295",
          "QM1252",
          "QM1522",
          "AR0572",
          "QM067",
          "QM134",
          "QM397",
          "QM992",
          "QM322",
          "HV116",
          "QM899",
          "BAR002",
          "BAR003",
          "HV953",
          "QM968",
          "HV245",
          "QM1263",
          "QM1264",
          "HV987",
          "QM093",
          "QM1270",
          "QM1271",
          "QM1272",
          "QM1273",
          "QM326",
          "QM397",
          "QM992",
          "QM294",
          "PER107",
          "QM319",
          "PER108",
          "QM397",
          "QM992",
          "QM295",
          "HV146",
          "HV953",
          "BAR032",
          "HV245",
          "QM286",
          "QM065",
          "QM294",
          "PER107",
          "QM319",
          "PER108",
          "QM397",
          "QM992",
          "QM312",
          "QM295",
          "BAR032",
          "QM397",
          "QM322",
          "HV116",
          "QM899",
          "BAR002",
          "BAR003",
          "HV953",
          "QM968",
          "HV245",
          "HV414",
          "QM806",
          "BAR026",
          "QM1450",
          "QM1263",
          "HV987",
          "QM093",
          "QM1270",
          "QM1271",
          "QM1273",
          "QM397",
          "HV116",
          "QM899",
          "BAR002",
          "BAR003",
          "HV953",
          "QM968",
          "QM806",
          "QM1450",
          "QM1263",
          "QM093",
          "QM1270",
          "QM1271",
          "QM1272",
          "QM1273",
          "QM397",
          "QM992",
          "QM322",
          "QM086",
          "QM899",
          "HV414",
          "QM806",
          "BAR026",
          "QM1450",
          "HV987",
          "QM322",
          "QM397",
          "QM992",
          "QM397",
          "QM992",
          "QM085",
          "HV116",
          "QM968",
          "QM1263",
          "QM1264",
          "QM093",
          "PER152",
          "QM806",
          "BAR026",
          "QM1450",
          "QM1270",
          "QM1271",
          "QM1272",
          "QM1273",
          "QM397",
          "QM992",
          "QM322",
          "HV116",
          "QM899",
          "BAR002",
          "BAR003",
          "HV953",
          "QM968",
          "HV245",
          "HV414",
          "QM806",
          "BAR026",
          "QM1450",
          "QM1263",
          "HV987",
          "QM093",
          "QM1270",
          "QM1271"
         ],
         "legendgroup": "Resistant",
         "marker": {
          "color": "tomato",
          "opacity": 0.3,
          "symbol": "circle"
         },
         "mode": "markers",
         "name": "Resistant",
         "orientation": "v",
         "showlegend": true,
         "type": "scatter",
         "x": [
          0.022975126971919807,
          1.1399693879202804,
          1.913868531679185,
          2.903082834670686,
          4.0564854530601915,
          8.013765525354243,
          8.999552163101862,
          11.08687724154263,
          13.020758630816115,
          17.093129195054768,
          20.00973405231787,
          20.968835910431014,
          2.889535068763257,
          3.854993861968971,
          4.932507840181005,
          6.0299242861081845,
          6.919579450429159,
          11.149926253765173,
          12.015838435271322,
          13.09376550393359,
          14.083047725835378,
          17.082958579329315,
          20.127618090803246,
          21.006412583001968,
          11.137770825502413,
          11.114412836018403,
          0.11157263458688713,
          4.9413314832025,
          6.0731816490617945,
          8.916336179836238,
          9.94885834160819,
          11.951764590904121,
          -0.1211808229234325,
          3.0198687132563555,
          3.962091383831598,
          5.1087685710176345,
          6.108574211179027,
          7.005521686997355,
          7.958559407204241,
          8.915178562791947,
          10.062063181138697,
          -0.12628509553369474,
          0.11269093507692221,
          1.0208862343958014,
          1.998948273789383,
          4.926431612595087,
          6.078863763291841,
          7.130278185454739,
          7.983185558373906,
          9.872582648337495,
          10.935549936972004,
          12.010246568590436,
          15.063604402549332,
          16.141846184384047,
          16.953581085372534,
          18.147824686263263,
          19.096899858605063,
          19.85380724172849,
          20.936291094030626,
          22.093856370657942,
          3.9090010314674704,
          -0.13960245452400596,
          0.9629158857826499,
          2.0003985672151807,
          3.0016114481532052,
          3.9018897286150547,
          5.0886469794878995,
          5.87742398594172,
          6.988235390113529,
          9.87418737553478,
          16.935473724715074,
          19.052506752038493,
          20.1310636630978,
          22.03512685341385,
          -0.0488805502661776,
          1.1177990158825186,
          1.889242447915356,
          2.853446944673414,
          4.019177576103642,
          4.990182027018719,
          5.9812638882765565,
          6.86023747426839,
          9.084806579281144,
          10.068565761818377,
          20.061707369053085,
          -0.07258794421535632,
          1.1308242313519286,
          4.029509896075866,
          4.8783736673983755,
          5.975806766613816,
          6.8756456995229485,
          8.937718857832486,
          9.947083086638669,
          11.130356508264498,
          12.020471869895067,
          12.981508914767593,
          14.14975521900024,
          15.051024544899056,
          15.874984981617116,
          16.955347358196413,
          18.069501505467297,
          19.11596069765122,
          20.04760626515351,
          21.859434796181713,
          0.06716398210841718,
          2.8570696237564706,
          3.9959270043707975,
          4.8853008308852415,
          5.994661623248491,
          7.882657166809765,
          8.966636752253061,
          12.099317903830102,
          13.891022980738317,
          14.91100333911926,
          16.97091419842618,
          18.002306178545293,
          18.927240793921825,
          19.881594647524526,
          20.8662920016399,
          0.05695792148382417,
          1.0687797869984272,
          2.081839043484283,
          3.884821066282337,
          5.91542703630261,
          11.911809073695,
          12.857650113957481,
          13.871434887725602,
          15.116099589832807,
          15.955782988125952,
          3.9297427203761996,
          -0.0965854313027514,
          0.8559018604316505,
          0.03823929407305332,
          0.9168234300134069,
          3.0372285018049747,
          4.929200166086331,
          11.082130463583844,
          13.869231746376938,
          14.968631617344041,
          17.06967241573495,
          22.042518935849795,
          11.125699384373158,
          11.881007043702928,
          12.920103351769075,
          16.946412200711965,
          17.934714412091342,
          19.075718671125983,
          19.95131600084135,
          0.020671282150822423,
          0.9609089326541045,
          1.973459997868429,
          4.884235666749623,
          6.127443017641941,
          7.0969815829031475,
          8.07019251775682,
          9.983621633588161,
          10.9572934545815,
          12.116871465655034,
          13.072948266642815,
          14.097575561750226,
          14.922567685503001,
          15.899847378421635,
          17.052265853235237,
          18.86412239887973,
          19.957712379027377,
          20.920176832983795,
          22.088444182700023
         ],
         "xaxis": "x",
         "y": [
          3.9592538936115518,
          3.9589289303856763,
          5.026860223558318,
          2.9694361144219092,
          2.0324155797751593,
          5.999432323854677,
          2.9984319402883974,
          3.022967443357483,
          4.987829085847136,
          1.9739714141554014,
          6.035443532470243,
          2.955746454440677,
          11,
          11,
          5.961771080714164,
          11,
          11,
          11,
          3.999994511986208,
          3.048000621378256,
          11,
          2.969510960976262,
          11,
          11,
          3.0047457703323257,
          1.9540070759551922,
          1.001113333515179,
          0.9789996607588078,
          -0.03174322216224633,
          0.016849636504011972,
          1.9525332103155306,
          2.9788317134234923,
          4.028494068569649,
          11,
          11,
          11,
          11,
          11,
          11,
          11,
          11,
          1.9894153554700296,
          11,
          11,
          4.042886007341468,
          11,
          2.0144710321103534,
          11,
          11,
          11,
          3.997479049784505,
          11,
          2.974233834388017,
          3.046327282093467,
          11,
          3.022881302753356,
          11,
          11,
          11,
          11,
          2.9723715271715587,
          -0.9699636833550183,
          -0.953890399255645,
          6.01787987947796,
          11,
          11,
          11,
          1.9623265954635167,
          2.0434704475723873,
          11,
          3.0327863708722522,
          2.969051403998505,
          11,
          3.0434935699387284,
          11,
          11,
          11,
          11,
          11,
          11,
          1.9877401976176363,
          1.9839092386813924,
          2.963474984131799,
          11,
          11,
          11,
          11,
          11,
          11,
          11,
          11,
          11,
          11,
          11,
          11,
          11,
          11,
          11,
          11,
          11,
          11,
          11,
          11,
          11,
          11,
          11,
          11,
          11,
          11,
          11,
          11,
          11,
          11,
          11,
          11,
          -0.04378630328572736,
          0.004958988673270527,
          -0.002495793290385087,
          -0.026926270470556214,
          6.014579257038687,
          5.974939888439014,
          5.963581427259206,
          5.98630913295669,
          5.984677613682382,
          2.9521499327253853,
          2.991608812806074,
          3.9800213613846633,
          11,
          6.008895546616613,
          4.040799983418857,
          1.01245685710738,
          1.0477141866599697,
          11,
          11,
          11,
          11,
          11,
          1.9968158196025745,
          2.009440424379946,
          -1.033988016685299,
          1.004555836951669,
          3.9992323382183326,
          2.0283175162218634,
          3.9505111124249592,
          2.985656964133256,
          3.046403379195442,
          3.0482908781172853,
          3.0488362509327174,
          11,
          11,
          11,
          11,
          11,
          11,
          11,
          11,
          11,
          11,
          11,
          11,
          11,
          11,
          11,
          11,
          11,
          11,
          11
         ],
         "yaxis": "y"
        },
        {
         "customdata": [
          [
           true,
           "Streptococcus pneumoniae"
          ],
          [
           true,
           "Streptococcus oralis"
          ],
          [
           true,
           "Streptococcus oralis"
          ],
          [
           true,
           "Staphylococcus lugdunensis"
          ],
          [
           true,
           "Staphylococcus lugdunensis"
          ],
          [
           true,
           "Enterococcus faecalis"
          ],
          [
           true,
           "Enterococcus faecalis"
          ],
          [
           true,
           "Enterococcus faecalis"
          ],
          [
           true,
           "Enterococcus faecalis"
          ],
          [
           true,
           "Streptococcus oralis"
          ],
          [
           true,
           "Streptococcus oralis"
          ],
          [
           true,
           "Staphylococcus aureus"
          ],
          [
           true,
           "Staphylococcus aureus"
          ],
          [
           true,
           "Staphylococcus aureus"
          ],
          [
           true,
           "Staphylococcus aureus"
          ],
          [
           true,
           "Staphylococcus aureus"
          ],
          [
           true,
           "Staphylococcus aureus"
          ],
          [
           true,
           "Staphylococcus aureus"
          ],
          [
           true,
           "Staphylococcus aureus"
          ],
          [
           true,
           "Staphylococcus aureus"
          ],
          [
           true,
           "Staphylococcus aureus"
          ],
          [
           true,
           "Staphylococcus aureus"
          ],
          [
           true,
           "Staphylococcus aureus"
          ],
          [
           true,
           "Staphylococcus aureus"
          ],
          [
           true,
           "Staphylococcus aureus"
          ],
          [
           true,
           "Staphylococcus aureus"
          ],
          [
           true,
           "Staphylococcus aureus"
          ],
          [
           true,
           "Staphylococcus aureus"
          ],
          [
           true,
           "Staphylococcus aureus"
          ],
          [
           true,
           "Staphylococcus aureus"
          ],
          [
           true,
           "Staphylococcus aureus"
          ],
          [
           true,
           "Staphylococcus aureus"
          ],
          [
           true,
           "Staphylococcus aureus"
          ],
          [
           true,
           "Staphylococcus aureus"
          ],
          [
           true,
           "Staphylococcus aureus"
          ],
          [
           true,
           "Staphylococcus aureus"
          ],
          [
           true,
           "Staphylococcus aureus"
          ],
          [
           true,
           "Staphylococcus aureus"
          ],
          [
           true,
           "Staphylococcus aureus"
          ],
          [
           true,
           "Staphylococcus aureus"
          ],
          [
           true,
           "Staphylococcus aureus"
          ],
          [
           true,
           "Streptococcus pneumoniae"
          ],
          [
           true,
           "Streptococcus oralis"
          ],
          [
           true,
           "Streptococcus oralis"
          ],
          [
           true,
           "Streptococcus mitis"
          ],
          [
           true,
           "Streptococcus oralis"
          ],
          [
           true,
           "Streptococcus pneumoniae"
          ],
          [
           true,
           "Streptococcus pneumoniae"
          ],
          [
           true,
           "Streptococcus pneumoniae"
          ],
          [
           true,
           "Streptococcus oralis"
          ],
          [
           true,
           "Streptococcus oralis"
          ],
          [
           true,
           "Streptococcus mitis"
          ],
          [
           true,
           "Streptococcus mitis"
          ],
          [
           true,
           "Streptococcus pneumoniae"
          ],
          [
           true,
           "Streptococcus mitis"
          ],
          [
           true,
           "Streptococcus mitis"
          ],
          [
           true,
           "Streptococcus mitis"
          ],
          [
           true,
           "Streptococcus oralis"
          ],
          [
           true,
           "Streptococcus oralis"
          ],
          [
           true,
           "Streptococcus pneumoniae"
          ],
          [
           true,
           "Streptococcus pneumoniae"
          ],
          [
           true,
           "Streptococcus pneumoniae"
          ],
          [
           true,
           "Streptococcus pneumoniae"
          ],
          [
           true,
           "Enterococcus faecalis"
          ],
          [
           false,
           "Enterococcus faecalis"
          ],
          [
           true,
           "Enterococcus faecalis"
          ],
          [
           false,
           "Enterococcus faecium"
          ],
          [
           false,
           "Enterococcus faecalis"
          ],
          [
           false,
           "Enterococcus faecium"
          ],
          [
           true,
           "Enterococcus faecalis"
          ],
          [
           false,
           "Enterococcus faecium"
          ],
          [
           false,
           "Enterococcus faecium"
          ],
          [
           true,
           "Enterococcus faecium"
          ],
          [
           false,
           "Enterococcus faecalis"
          ],
          [
           true,
           "Staphylococcus aureus"
          ],
          [
           true,
           "Staphylococcus capitis"
          ],
          [
           true,
           "Staphylococcus capitis"
          ],
          [
           true,
           "Staphylococcus epidermidis"
          ],
          [
           true,
           "Staphylococcus capitis"
          ],
          [
           true,
           "Staphylococcus capitis"
          ],
          [
           true,
           "Staphylococcus capitis"
          ],
          [
           true,
           "Staphylococcus epidermidis"
          ],
          [
           true,
           "Staphylococcus epidermidis"
          ],
          [
           true,
           "Staphylococcus epidermidis"
          ],
          [
           true,
           "Staphylococcus hominis"
          ],
          [
           true,
           "Staphylococcus hominis"
          ],
          [
           true,
           "Staphylococcus capitis"
          ],
          [
           true,
           "Staphylococcus capitis"
          ],
          [
           true,
           "Staphylococcus hominis"
          ],
          [
           true,
           "Staphylococcus hominis"
          ],
          [
           true,
           "Staphylococcus hominis"
          ],
          [
           true,
           "Staphylococcus hominis"
          ],
          [
           true,
           "Staphylococcus hominis"
          ],
          [
           true,
           "Staphylococcus hominis"
          ],
          [
           true,
           "Staphylococcus lugdunensis"
          ],
          [
           true,
           "Enterococcus faecalis"
          ],
          [
           true,
           "Enterococcus faecalis"
          ],
          [
           true,
           "Staphylococcus aureus"
          ],
          [
           true,
           "Enterococcus faecalis"
          ],
          [
           true,
           "Staphylococcus capitis"
          ],
          [
           true,
           "Staphylococcus capitis"
          ],
          [
           true,
           "Staphylococcus epidermidis"
          ],
          [
           true,
           "Staphylococcus capitis"
          ],
          [
           true,
           "Staphylococcus capitis"
          ],
          [
           true,
           "Staphylococcus capitis"
          ],
          [
           true,
           "Streptococcus mitis"
          ],
          [
           true,
           "Staphylococcus epidermidis"
          ],
          [
           true,
           "Staphylococcus aureus"
          ],
          [
           true,
           "Staphylococcus capitis"
          ],
          [
           true,
           "Staphylococcus capitis"
          ],
          [
           true,
           "Staphylococcus epidermidis"
          ],
          [
           true,
           "Staphylococcus capitis"
          ],
          [
           true,
           "Staphylococcus capitis"
          ],
          [
           true,
           "Staphylococcus capitis"
          ],
          [
           true,
           "Staphylococcus epidermidis"
          ],
          [
           true,
           "Streptococcus mitis"
          ],
          [
           true,
           "Staphylococcus epidermidis"
          ],
          [
           true,
           "Staphylococcus epidermidis"
          ],
          [
           true,
           "Staphylococcus hominis"
          ],
          [
           true,
           "Staphylococcus capitis"
          ],
          [
           true,
           "Staphylococcus capitis"
          ],
          [
           true,
           "Staphylococcus epidermidis"
          ],
          [
           true,
           "Staphylococcus hominis"
          ],
          [
           true,
           "Staphylococcus aureus"
          ],
          [
           true,
           "Staphylococcus capitis"
          ],
          [
           true,
           "Staphylococcus epidermidis"
          ],
          [
           true,
           "Staphylococcus hominis"
          ],
          [
           true,
           "Staphylococcus hominis"
          ],
          [
           true,
           "Streptococcus pneumoniae"
          ],
          [
           true,
           "Staphylococcus hominis"
          ],
          [
           true,
           "Staphylococcus lugdunensis"
          ],
          [
           true,
           "Staphylococcus capitis"
          ],
          [
           true,
           "Staphylococcus capitis"
          ],
          [
           true,
           "Staphylococcus capitis"
          ],
          [
           true,
           "Staphylococcus hominis"
          ],
          [
           true,
           "Staphylococcus hominis"
          ],
          [
           true,
           "Staphylococcus hominis"
          ],
          [
           true,
           "Staphylococcus hominis"
          ],
          [
           true,
           "Staphylococcus hominis"
          ],
          [
           true,
           "Staphylococcus lugdunensis"
          ],
          [
           true,
           "Enterococcus faecium"
          ],
          [
           true,
           "Enterococcus faecium"
          ],
          [
           true,
           "Staphylococcus aureus"
          ],
          [
           true,
           "Staphylococcus aureus"
          ],
          [
           true,
           "Enterococcus faecalis"
          ],
          [
           true,
           "Enterococcus faecium"
          ],
          [
           true,
           "Staphylococcus capitis"
          ],
          [
           true,
           "Staphylococcus capitis"
          ],
          [
           true,
           "Staphylococcus epidermidis"
          ],
          [
           true,
           "Staphylococcus capitis"
          ],
          [
           true,
           "Staphylococcus capitis"
          ],
          [
           true,
           "Staphylococcus capitis"
          ],
          [
           true,
           "Staphylococcus epidermidis"
          ],
          [
           true,
           "Staphylococcus epidermidis"
          ],
          [
           true,
           "Enterococcus faecalis"
          ],
          [
           true,
           "Staphylococcus epidermidis"
          ],
          [
           true,
           "Staphylococcus hominis"
          ],
          [
           true,
           "Staphylococcus hominis"
          ],
          [
           true,
           "Streptococcus pneumoniae"
          ],
          [
           true,
           "Streptococcus pneumoniae"
          ],
          [
           true,
           "Enterococcus faecium"
          ],
          [
           true,
           "Staphylococcus aureus"
          ],
          [
           true,
           "Staphylococcus aureus"
          ],
          [
           true,
           "Staphylococcus capitis"
          ],
          [
           true,
           "Staphylococcus capitis"
          ],
          [
           true,
           "Staphylococcus epidermidis"
          ],
          [
           true,
           "Staphylococcus capitis"
          ],
          [
           true,
           "Staphylococcus capitis"
          ],
          [
           true,
           "Staphylococcus epidermidis"
          ],
          [
           true,
           "Staphylococcus epidermidis"
          ],
          [
           true,
           "Staphylococcus epidermidis"
          ],
          [
           true,
           "Staphylococcus hominis"
          ],
          [
           true,
           "Staphylococcus hominis"
          ],
          [
           true,
           "Staphylococcus aureus"
          ],
          [
           true,
           "Staphylococcus capitis"
          ],
          [
           true,
           "Staphylococcus capitis"
          ],
          [
           true,
           "Staphylococcus hominis"
          ],
          [
           true,
           "Staphylococcus hominis"
          ],
          [
           true,
           "Staphylococcus hominis"
          ],
          [
           true,
           "Staphylococcus hominis"
          ],
          [
           true,
           "Staphylococcus hominis"
          ],
          [
           true,
           "Staphylococcus hominis"
          ],
          [
           true,
           "Staphylococcus lugdunensis"
          ],
          [
           true,
           "Staphylococcus aureus"
          ],
          [
           true,
           "Staphylococcus capitis"
          ],
          [
           true,
           "Staphylococcus capitis"
          ],
          [
           true,
           "Staphylococcus capitis"
          ],
          [
           true,
           "Staphylococcus capitis"
          ],
          [
           true,
           "Staphylococcus epidermidis"
          ],
          [
           true,
           "Staphylococcus epidermidis"
          ],
          [
           true,
           "Staphylococcus hominis"
          ],
          [
           true,
           "Staphylococcus aureus"
          ],
          [
           true,
           "Staphylococcus hominis"
          ],
          [
           true,
           "Staphylococcus hominis"
          ],
          [
           true,
           "Staphylococcus hominis"
          ],
          [
           true,
           "Staphylococcus hominis"
          ],
          [
           true,
           "Staphylococcus hominis"
          ],
          [
           true,
           "Staphylococcus aureus"
          ],
          [
           true,
           "Staphylococcus capitis"
          ],
          [
           true,
           "Staphylococcus capitis"
          ],
          [
           true,
           "Staphylococcus capitis"
          ],
          [
           true,
           "Staphylococcus capitis"
          ],
          [
           true,
           "Staphylococcus capitis"
          ],
          [
           true,
           "Staphylococcus epidermidis"
          ],
          [
           true,
           "Staphylococcus hominis"
          ],
          [
           true,
           "Staphylococcus capitis"
          ],
          [
           true,
           "Staphylococcus hominis"
          ],
          [
           true,
           "Staphylococcus hominis"
          ],
          [
           true,
           "Staphylococcus lugdunensis"
          ],
          [
           true,
           "Staphylococcus lugdunensis"
          ],
          [
           true,
           "Staphylococcus capitis"
          ],
          [
           true,
           "Staphylococcus capitis"
          ],
          [
           true,
           "Staphylococcus epidermidis"
          ],
          [
           true,
           "Staphylococcus capitis"
          ]
         ],
         "hovertemplate": "<b>%{hovertext}</b><br><br>SIR=Sensitive<br>Log2(MIC-value)=%{y:.0f}<br>Scale=%{customdata[0]}<br>Pathogen=%{customdata[1]}<extra></extra>",
         "hovertext": [
          "BAR026",
          "QM169",
          "QM874",
          "QM889",
          "QM1260",
          "QM286",
          "QM065",
          "QM294",
          "BAR032",
          "QM169",
          "QM874",
          "QM397",
          "QM992",
          "QM322",
          "QM1450",
          "AR0565",
          "AR0217",
          "AR0218",
          "AR0219",
          "AR0222",
          "AR0227",
          "AR0228",
          "AR0708",
          "AR0711",
          "AR0717",
          "AR0718",
          "QM397",
          "QM992",
          "QM322",
          "QM1450",
          "AR0565",
          "AR0217",
          "AR0218",
          "AR0219",
          "AR0222",
          "AR0227",
          "AR0228",
          "AR0708",
          "AR0711",
          "AR0717",
          "AR0718",
          "BAR026",
          "QM169",
          "QM874",
          "QM870",
          "HV752",
          "QM402",
          "QM806",
          "BAR026",
          "QM169",
          "QM874",
          "QM1406",
          "BAR064",
          "QM1470",
          "QM870",
          "QM871",
          "BAR066",
          "HV752",
          "QM138",
          "QM027",
          "QM326",
          "QM328",
          "QM402",
          "QM286",
          "QM065",
          "QM294",
          "PER107",
          "QM319",
          "PER108",
          "QM312",
          "QM295",
          "QM1252",
          "AR0572",
          "QM067",
          "QM322",
          "QM085",
          "QM086",
          "HV116",
          "QM899",
          "BAR002",
          "BAR003",
          "HV146",
          "HV953",
          "QM968",
          "HV245",
          "HV414",
          "QM1263",
          "QM1264",
          "HV987",
          "QM093",
          "QM1270",
          "QM1271",
          "QM1272",
          "QM1273",
          "PER152",
          "QM286",
          "QM065",
          "QM322",
          "QM312",
          "QM085",
          "QM086",
          "HV116",
          "QM899",
          "BAR002",
          "BAR003",
          "QM134",
          "QM968",
          "QM322",
          "QM085",
          "QM086",
          "HV116",
          "QM899",
          "BAR002",
          "BAR003",
          "HV146",
          "QM134",
          "HV953",
          "QM968",
          "HV245",
          "QM085",
          "QM086",
          "HV146",
          "QM1272",
          "QM322",
          "QM086",
          "HV146",
          "HV245",
          "HV414",
          "BAR026",
          "HV987",
          "PER152",
          "QM085",
          "BAR002",
          "BAR003",
          "HV245",
          "QM1270",
          "QM1271",
          "QM1272",
          "QM1273",
          "PER152",
          "PER107",
          "PER108",
          "QM397",
          "QM992",
          "QM312",
          "QM295",
          "QM085",
          "QM086",
          "HV116",
          "QM899",
          "BAR002",
          "BAR003",
          "HV146",
          "HV953",
          "BAR032",
          "QM968",
          "HV245",
          "HV414",
          "QM806",
          "BAR026",
          "QM1252",
          "QM1450",
          "QM322",
          "QM085",
          "QM086",
          "HV116",
          "QM899",
          "BAR003",
          "HV146",
          "HV953",
          "QM968",
          "HV245",
          "HV414",
          "QM1450",
          "QM1263",
          "QM1264",
          "HV987",
          "QM093",
          "QM1270",
          "QM1271",
          "QM1272",
          "QM1273",
          "PER152",
          "QM322",
          "QM086",
          "QM899",
          "BAR002",
          "BAR003",
          "HV146",
          "HV953",
          "HV245",
          "QM1450",
          "HV987",
          "QM1270",
          "QM1271",
          "QM1272",
          "QM1273",
          "QM322",
          "QM085",
          "QM086",
          "QM899",
          "BAR002",
          "BAR003",
          "HV146",
          "HV414",
          "QM1263",
          "HV987",
          "QM093",
          "QM889",
          "QM894",
          "QM085",
          "QM086",
          "HV146",
          "QM1264"
         ],
         "legendgroup": "Sensitive",
         "marker": {
          "color": "limegreen",
          "opacity": 0.3,
          "symbol": "circle"
         },
         "mode": "markers",
         "name": "Sensitive",
         "orientation": "v",
         "showlegend": true,
         "type": "scatter",
         "x": [
          4.875518440972074,
          5.939959502904931,
          6.9889954465044175,
          12.003720549259905,
          22.07879870192227,
          0.13946946941592656,
          1.0795266008126276,
          1.870985537488885,
          7.983625248872167,
          8.925804114458542,
          9.940165531908605,
          0.112156959862207,
          1.113445627899892,
          1.9834184242873196,
          3.0299818002052454,
          3.858729512286672,
          4.891833479347964,
          5.990005573524202,
          7.0913669406249475,
          8.021632165607466,
          8.944084237386308,
          9.875889723147168,
          11.992528694280399,
          12.859857348384498,
          13.928296703374906,
          15.036259665207169,
          0.12320570995219146,
          0.8682560950572341,
          2.0545568131133733,
          3.133191077571954,
          3.9018519831697156,
          5.064713301953062,
          5.954230759459765,
          7.02262080044634,
          7.875053955388776,
          8.873141476500065,
          10.030619710975692,
          12.11917895370227,
          13.140600703247461,
          14.095905901136186,
          15.038334682604395,
          2.1033543437396447,
          3.0868933803325564,
          3.956040069935607,
          7.869092333080805,
          11.044806991930988,
          14.885120341527195,
          1.0130005346635782,
          1.9441638523622524,
          2.910583672907765,
          4.107679558237119,
          5.035612900598986,
          6.111294178474523,
          7.136576527733261,
          7.8582045074633635,
          9.017196390579507,
          9.942461426037294,
          11.110103692934526,
          12.097681287593112,
          12.942699757428558,
          14.058565905234103,
          15.06310194916684,
          15.87856571095002,
          -0.03815573313045777,
          0.8885151433632847,
          2.0579236651807884,
          2.8725846189405644,
          3.9739526924556157,
          4.980449275053695,
          5.854879605235543,
          7.023418207556485,
          7.983313171597473,
          8.865537613470218,
          9.88823063217825,
          2.131621339231213,
          3.123531712268049,
          3.8630043379842602,
          4.89087835722619,
          6.009939284384867,
          6.892485718004064,
          7.906324988226468,
          8.879956396976953,
          10.142393651945714,
          10.854141564610964,
          11.980425127492557,
          13.047384219302284,
          13.996574126068541,
          14.956376215593469,
          16.098480268250395,
          17.13712535173273,
          18.029135431656012,
          19.0567902696555,
          19.920269909257108,
          21.06635701910535,
          21.856914867042565,
          -0.013770732107228956,
          1.0036102097734585,
          8.035023633573331,
          9.009013887000151,
          11.127102788367747,
          12.022302861242501,
          12.876261343762526,
          14.071070916659277,
          14.898281056352396,
          15.878810953544745,
          17.951250836235698,
          20.996651507621035,
          7.928951997475964,
          11.101011820718506,
          12.105105461363621,
          12.923488304710087,
          14.129848547642375,
          15.013227363339855,
          16.131222537357715,
          16.99512939877924,
          17.863050944136766,
          18.933837342968324,
          20.989941661218477,
          21.89319963615324,
          2.140774606976347,
          3.1230213468094,
          8.017564639291098,
          21.111492663289308,
          0.8916451172686344,
          2.1079262289878047,
          6.97376907891727,
          10.081332340552358,
          10.880369250820726,
          12.996796894015093,
          15.896957533205235,
          22.134581564773107,
          2.9841639556251955,
          7.1046955720385,
          8.03610651105928,
          11.047984878434919,
          18.149271568820144,
          18.86077458831338,
          20.021689639990427,
          21.07935113870277,
          21.964500127346945,
          0.07796840146677009,
          1.0471460840329214,
          1.9891657793403867,
          2.90625116148366,
          5.044282591181207,
          5.898223506853658,
          6.911961560534422,
          7.991200564157115,
          8.990420719702186,
          10.08402917631919,
          10.916458069880038,
          11.906796211429851,
          13.096151080492556,
          13.869910968121895,
          14.97564373557902,
          16.08202143432814,
          17.046577990919907,
          17.87953614695735,
          18.88201282661018,
          19.9440426945109,
          21.131012506792363,
          21.936735073667823,
          1.9871047223030975,
          3.1036128694019975,
          3.9707494743035436,
          4.973370194993184,
          6.139770774192564,
          7.140042364220787,
          7.862824469693906,
          9.10387989100259,
          10.085256241834303,
          11.11053078976477,
          12.015652204722274,
          12.977801387399003,
          13.905846459972096,
          15.057191064982618,
          15.983686166418908,
          17.07959097529943,
          18.03075995593672,
          18.88780229837256,
          20.054184746826888,
          20.999633607130285,
          22.103300085163834,
          1.8972814140495389,
          3.944248868995945,
          6.118438187893168,
          7.0355826707050655,
          7.952056149146023,
          8.975582426720898,
          9.98482292612938,
          11.967925234616962,
          12.961674790762844,
          15.881250940583156,
          18.13745642692371,
          19.020406380868362,
          20.108574931186684,
          21.13301826558597,
          0.12252178020686003,
          1.0655644159590603,
          1.916938933886608,
          2.9943995103417573,
          3.9321335458648736,
          5.137235883223754,
          5.882177151709734,
          9.956625293238112,
          14.034115375276622,
          15.132115200590569,
          15.867771949100344,
          21.07284571104433,
          21.853345538213098,
          3.046043971422718,
          4.0426548561930105,
          8.878812055992443,
          17.96795352205518
         ],
         "xaxis": "x",
         "y": [
          -5.997401426895134,
          -7.011144185513225,
          -3.9628130372467107,
          -3.014026459770977,
          -3.0062114770401624,
          2.046349839629986,
          1.0188445126506651,
          0.0014198513050283426,
          -0.031535478280967144,
          -5.97097392025386,
          -4.991058247942151,
          -0.046787031942871385,
          0.04669270111694647,
          -2.0245537212295797,
          -0.9729491782461367,
          -0.045747192169537154,
          -1.030855662223178,
          -1.0176051028732753,
          -0.02377221673939314,
          -0.9812178853227053,
          -0.9905145626884664,
          -1.042513310329904,
          -1.0351909161696893,
          -0.9720790315071145,
          -0.029238449123296296,
          -0.012726602858018209,
          1.0453799922520473,
          1.028793160762807,
          -1.0487191530531423,
          -0.030026235426739024,
          1.026110412609433,
          -0.01820427459198095,
          -0.009705514203078039,
          0.9981342300255676,
          0.03985991759065327,
          0.014947272921188248,
          1.0196031517930289,
          1.024477894949648,
          0.013160677921771266,
          1.0418916619003016,
          0.9691988839295191,
          -5.99082453332308,
          -6.978601961956264,
          -2.9862143848321216,
          -0.993475818928095,
          -1.0086874037144034,
          -3.9698565225044495,
          -0.9868977752698886,
          -7.020505697148439,
          -6.036547308141433,
          -6.018597946132633,
          0.9512524009676177,
          -0.9694480931302567,
          -0.9850993910459918,
          -2.032529667925703,
          -1.9526986661940762,
          0.9546806020092131,
          -3.023742136358598,
          -0.9804726230520265,
          0.9708988116407528,
          -0.02222611394698012,
          -1.039152178620438,
          -6.047496086563323,
          7.0234816520539995,
          -10,
          6.992739523359854,
          -10,
          -10,
          -10,
          7.002613349236313,
          -10,
          -10,
          6.984386227602213,
          -10,
          -6.028765967572081,
          -4.975168305422185,
          -5.9636791482249265,
          -5.011749168515323,
          -6.0019218037245325,
          -5.043528928598004,
          -5.028429659032189,
          -4.046379206487241,
          -3.959780060001361,
          -4.984316744237691,
          -5.012201997403454,
          -7.986814088852612,
          -5.0110788457087825,
          -4.993455601974318,
          -5.037871411536534,
          -4.953965538635204,
          -5.032344672970647,
          -4.9646335941089195,
          -4.982029283136977,
          -5.999956868998092,
          -4.980036204974073,
          -1.0134827457733109,
          -1.9940983119824198,
          -1.9564241233636652,
          -1.0120475773694622,
          -1.0272803718636068,
          -0.9836194004874497,
          1.0114129342043845,
          -0.9808022086529409,
          0.03811916036197127,
          -0.9685966764153376,
          -4.958920009654333,
          1.98881423099106,
          -0.9915579456739396,
          0.01298412628162332,
          -1.008810331357565,
          1.0139478509888067,
          -0.9518250288863446,
          -1.0025419106333533,
          -1.0147628082801545,
          1.0239434446996836,
          -0.9729470663246462,
          0.9735166839506918,
          0.966545714944683,
          0.023954389132185255,
          -1.9985696976252678,
          -3.000388628102699,
          -3.0402684596825793,
          -0.9578196993326387,
          -1.9743670848336177,
          -3.993390190737446,
          -3.9640182559703865,
          -3.9906366323637834,
          -3.981139011256667,
          -2.0161288444386942,
          -4.014796576259672,
          -4.040525898247807,
          -2.0289083850320124,
          -2.003874929995271,
          -2.0109954862990103,
          -2.031547149151198,
          -1.986724500106803,
          -2.0251800340554795,
          -2.0230223469835313,
          -2.025059788905755,
          -2.996133897019007,
          0.038900363515077724,
          0.03822193109442208,
          -0.01906351558755387,
          -0.04746479200362768,
          0.9854156699279657,
          0.9670144043030643,
          -0.025351387905875378,
          -0.02486477526566644,
          0.03682997586487667,
          0.01731387351803998,
          0.025312583726197074,
          -0.0075081212111844375,
          0.02040312774735295,
          -0.9967541266541207,
          0.018884949294282943,
          -0.020109012418996364,
          -0.04732457214537075,
          -0.03745002553380882,
          0.04755623181365699,
          -0.9734638184433663,
          1.0091202080053256,
          0.9775928517166803,
          -1.9752295153059092,
          -0.04607694368283624,
          -0.03413866574714136,
          -1.0082713310071902,
          0.049181355387948086,
          -0.9809650424316511,
          -1.029028026213155,
          -0.9607131922360123,
          -2.0377699113358876,
          -2.0100399483682136,
          -3.9855866493953385,
          -1.0477572442671845,
          -0.046537436712063174,
          -0.027029226604611725,
          -1.966279887123952,
          -2.020908664774398,
          -1.9785503562162339,
          -1.952681902803299,
          -1.9653045505803308,
          -2.0362566002282065,
          -1.96503864414591,
          -7.952924165808222,
          -4.96647463748903,
          -6.980513393002556,
          -5.998594714502975,
          -5.955143159100604,
          -7.012230143708696,
          -6.974170929790479,
          -7.014507249822356,
          -7.007296407239541,
          -7.048385949754048,
          -6.994885053422298,
          -6.984319160998964,
          -7.033635668271387,
          -7.008741010886319,
          -5.011914654447402,
          -4.973279156849707,
          -5.006915340458084,
          -2.9828640705928167,
          -3.0012185064551615,
          -3.0451331956885275,
          -3.047531799473113,
          0.9880098083770447,
          -1.0466881503245922,
          0.963949469780421,
          -2.049836856730459,
          -3.9750559767425426,
          -1.953316933928425,
          2.0446746645031086,
          2.0405042768274666,
          2.032835896000571,
          2.03155713388446
         ],
         "yaxis": "y"
        },
        {
         "customdata": [
          [
           true,
           "Streptococcus mitis"
          ],
          [
           true,
           "Streptococcus pneumoniae"
          ],
          [
           true,
           "Streptococcus mitis"
          ],
          [
           true,
           "Streptococcus mitis"
          ],
          [
           true,
           "Streptococcus oralis"
          ],
          [
           true,
           "Streptococcus oralis"
          ],
          [
           true,
           "Streptococcus mitis"
          ],
          [
           true,
           "Streptococcus mitis"
          ],
          [
           true,
           "Streptococcus oralis"
          ],
          [
           true,
           "Streptococcus oralis"
          ],
          [
           true,
           "Streptococcus pneumoniae"
          ],
          [
           true,
           "Streptococcus pneumoniae"
          ],
          [
           true,
           "Streptococcus pneumoniae"
          ],
          [
           true,
           "Streptococcus pneumoniae"
          ],
          [
           true,
           "Enterococcus faecalis"
          ],
          [
           true,
           "Enterococcus faecalis"
          ],
          [
           true,
           "Staphylococcus capitis"
          ],
          [
           true,
           "Staphylococcus capitis"
          ],
          [
           true,
           "Staphylococcus epidermidis"
          ],
          [
           true,
           "Staphylococcus hominis"
          ],
          [
           true,
           "Staphylococcus aureus"
          ],
          [
           true,
           "Streptococcus pneumoniae"
          ],
          [
           true,
           "Streptococcus pneumoniae"
          ],
          [
           true,
           "Streptococcus pneumoniae"
          ],
          [
           true,
           "Streptococcus pneumoniae"
          ],
          [
           true,
           "Streptococcus pneumoniae"
          ],
          [
           true,
           "Staphylococcus epidermidis"
          ],
          [
           true,
           "Staphylococcus epidermidis"
          ],
          [
           true,
           "Staphylococcus epidermidis"
          ],
          [
           true,
           "Staphylococcus hominis"
          ],
          [
           true,
           "Staphylococcus epidermidis"
          ],
          [
           true,
           "Staphylococcus epidermidis"
          ],
          [
           true,
           "Staphylococcus hominis"
          ]
         ],
         "hovertemplate": "<b>%{hovertext}</b><br><br>SIR=Intermediate<br>Log2(MIC-value)=%{y:.0f}<br>Scale=%{customdata[0]}<br>Pathogen=%{customdata[1]}<extra></extra>",
         "hovertext": [
          "BAR064",
          "QM1470",
          "QM870",
          "QM871",
          "HV752",
          "QM138",
          "QM870",
          "QM871",
          "HV752",
          "QM138",
          "QM806",
          "QM1470",
          "QM326",
          "QM328",
          "QM065",
          "QM294",
          "QM085",
          "QM086",
          "HV146",
          "HV414",
          "QM1450",
          "QM806",
          "BAR026",
          "QM1470",
          "QM027",
          "QM328",
          "HV116",
          "HV146",
          "QM968",
          "QM093",
          "HV953",
          "QM968",
          "HV245"
         ],
         "legendgroup": "Intermediate",
         "marker": {
          "color": "gold",
          "opacity": 0.3,
          "symbol": "circle"
         },
         "mode": "markers",
         "name": "Intermediate",
         "orientation": "v",
         "showlegend": true,
         "type": "scatter",
         "x": [
          10.08520811185717,
          14.09168856616445,
          14.86247693505997,
          16.020909338481324,
          18.0411233276983,
          19.009689945683764,
          15.057506813460305,
          16.029298824376475,
          17.9681373686425,
          18.951257970227875,
          0.9747076307325705,
          6.851681057351329,
          13.132233680603616,
          13.897388555162246,
          0.9908946647067678,
          2.072445406815616,
          3.0735169713180195,
          3.9499946209600942,
          8.923017612213535,
          13.013489924961199,
          14.137235040592577,
          0.13334431256238113,
          0.9514470848266894,
          1.9262573782023054,
          2.948447923956484,
          4.983202467120852,
          5.145250788639201,
          8.987922725202823,
          10.022508154275036,
          16.964925042611558,
          7.044810884497322,
          7.916575023270816,
          8.962066934031501
         ],
         "xaxis": "x",
         "y": [
          0.9794050938964501,
          0.967633641650895,
          -0.012871719632749017,
          -0.9893105489573963,
          -0.03098958613756807,
          -0.04036334026969618,
          0.9567630506716291,
          -0.012203593517032887,
          0.047783793468158406,
          1.0353685781787538,
          0.008091953237877633,
          -0.0017551841254506706,
          0.02239337807679638,
          -0.021587689428258373,
          1.9653002267317037,
          1.0279656243439654,
          -1.984828226158671,
          -2.044730970896426,
          -2.0227935654432825,
          -4.000655703785084,
          -0.9824193491116594,
          0.02795266028303721,
          0.021306335515379596,
          -0.0399748583704535,
          -0.04641691757088217,
          0.011744817208250269,
          0.9504693736364058,
          1.0340172626988673,
          1.0464784017067346,
          1.0458005096019354,
          1.9850664255580897,
          1.9533385144688842,
          2.0006054652521494
         ],
         "yaxis": "y"
        }
       ],
       "layout": {
        "legend": {
         "orientation": "h",
         "title": {
          "text": "SIR"
         },
         "tracegroupgap": 0,
         "x": 1,
         "xanchor": "right",
         "y": 1.02,
         "yanchor": "bottom"
        },
        "template": {
         "data": {
          "bar": [
           {
            "error_x": {
             "color": "#f2f5fa"
            },
            "error_y": {
             "color": "#f2f5fa"
            },
            "marker": {
             "line": {
              "color": "rgb(17,17,17)",
              "width": 0.5
             },
             "pattern": {
              "fillmode": "overlay",
              "size": 10,
              "solidity": 0.2
             }
            },
            "type": "bar"
           }
          ],
          "barpolar": [
           {
            "marker": {
             "line": {
              "color": "rgb(17,17,17)",
              "width": 0.5
             },
             "pattern": {
              "fillmode": "overlay",
              "size": 10,
              "solidity": 0.2
             }
            },
            "type": "barpolar"
           }
          ],
          "carpet": [
           {
            "aaxis": {
             "endlinecolor": "#A2B1C6",
             "gridcolor": "#506784",
             "linecolor": "#506784",
             "minorgridcolor": "#506784",
             "startlinecolor": "#A2B1C6"
            },
            "baxis": {
             "endlinecolor": "#A2B1C6",
             "gridcolor": "#506784",
             "linecolor": "#506784",
             "minorgridcolor": "#506784",
             "startlinecolor": "#A2B1C6"
            },
            "type": "carpet"
           }
          ],
          "choropleth": [
           {
            "colorbar": {
             "outlinewidth": 0,
             "ticks": ""
            },
            "type": "choropleth"
           }
          ],
          "contour": [
           {
            "colorbar": {
             "outlinewidth": 0,
             "ticks": ""
            },
            "colorscale": [
             [
              0,
              "#0d0887"
             ],
             [
              0.1111111111111111,
              "#46039f"
             ],
             [
              0.2222222222222222,
              "#7201a8"
             ],
             [
              0.3333333333333333,
              "#9c179e"
             ],
             [
              0.4444444444444444,
              "#bd3786"
             ],
             [
              0.5555555555555556,
              "#d8576b"
             ],
             [
              0.6666666666666666,
              "#ed7953"
             ],
             [
              0.7777777777777778,
              "#fb9f3a"
             ],
             [
              0.8888888888888888,
              "#fdca26"
             ],
             [
              1,
              "#f0f921"
             ]
            ],
            "type": "contour"
           }
          ],
          "contourcarpet": [
           {
            "colorbar": {
             "outlinewidth": 0,
             "ticks": ""
            },
            "type": "contourcarpet"
           }
          ],
          "heatmap": [
           {
            "colorbar": {
             "outlinewidth": 0,
             "ticks": ""
            },
            "colorscale": [
             [
              0,
              "#0d0887"
             ],
             [
              0.1111111111111111,
              "#46039f"
             ],
             [
              0.2222222222222222,
              "#7201a8"
             ],
             [
              0.3333333333333333,
              "#9c179e"
             ],
             [
              0.4444444444444444,
              "#bd3786"
             ],
             [
              0.5555555555555556,
              "#d8576b"
             ],
             [
              0.6666666666666666,
              "#ed7953"
             ],
             [
              0.7777777777777778,
              "#fb9f3a"
             ],
             [
              0.8888888888888888,
              "#fdca26"
             ],
             [
              1,
              "#f0f921"
             ]
            ],
            "type": "heatmap"
           }
          ],
          "heatmapgl": [
           {
            "colorbar": {
             "outlinewidth": 0,
             "ticks": ""
            },
            "colorscale": [
             [
              0,
              "#0d0887"
             ],
             [
              0.1111111111111111,
              "#46039f"
             ],
             [
              0.2222222222222222,
              "#7201a8"
             ],
             [
              0.3333333333333333,
              "#9c179e"
             ],
             [
              0.4444444444444444,
              "#bd3786"
             ],
             [
              0.5555555555555556,
              "#d8576b"
             ],
             [
              0.6666666666666666,
              "#ed7953"
             ],
             [
              0.7777777777777778,
              "#fb9f3a"
             ],
             [
              0.8888888888888888,
              "#fdca26"
             ],
             [
              1,
              "#f0f921"
             ]
            ],
            "type": "heatmapgl"
           }
          ],
          "histogram": [
           {
            "marker": {
             "pattern": {
              "fillmode": "overlay",
              "size": 10,
              "solidity": 0.2
             }
            },
            "type": "histogram"
           }
          ],
          "histogram2d": [
           {
            "colorbar": {
             "outlinewidth": 0,
             "ticks": ""
            },
            "colorscale": [
             [
              0,
              "#0d0887"
             ],
             [
              0.1111111111111111,
              "#46039f"
             ],
             [
              0.2222222222222222,
              "#7201a8"
             ],
             [
              0.3333333333333333,
              "#9c179e"
             ],
             [
              0.4444444444444444,
              "#bd3786"
             ],
             [
              0.5555555555555556,
              "#d8576b"
             ],
             [
              0.6666666666666666,
              "#ed7953"
             ],
             [
              0.7777777777777778,
              "#fb9f3a"
             ],
             [
              0.8888888888888888,
              "#fdca26"
             ],
             [
              1,
              "#f0f921"
             ]
            ],
            "type": "histogram2d"
           }
          ],
          "histogram2dcontour": [
           {
            "colorbar": {
             "outlinewidth": 0,
             "ticks": ""
            },
            "colorscale": [
             [
              0,
              "#0d0887"
             ],
             [
              0.1111111111111111,
              "#46039f"
             ],
             [
              0.2222222222222222,
              "#7201a8"
             ],
             [
              0.3333333333333333,
              "#9c179e"
             ],
             [
              0.4444444444444444,
              "#bd3786"
             ],
             [
              0.5555555555555556,
              "#d8576b"
             ],
             [
              0.6666666666666666,
              "#ed7953"
             ],
             [
              0.7777777777777778,
              "#fb9f3a"
             ],
             [
              0.8888888888888888,
              "#fdca26"
             ],
             [
              1,
              "#f0f921"
             ]
            ],
            "type": "histogram2dcontour"
           }
          ],
          "mesh3d": [
           {
            "colorbar": {
             "outlinewidth": 0,
             "ticks": ""
            },
            "type": "mesh3d"
           }
          ],
          "parcoords": [
           {
            "line": {
             "colorbar": {
              "outlinewidth": 0,
              "ticks": ""
             }
            },
            "type": "parcoords"
           }
          ],
          "pie": [
           {
            "automargin": true,
            "type": "pie"
           }
          ],
          "scatter": [
           {
            "marker": {
             "line": {
              "color": "#283442"
             }
            },
            "type": "scatter"
           }
          ],
          "scatter3d": [
           {
            "line": {
             "colorbar": {
              "outlinewidth": 0,
              "ticks": ""
             }
            },
            "marker": {
             "colorbar": {
              "outlinewidth": 0,
              "ticks": ""
             }
            },
            "type": "scatter3d"
           }
          ],
          "scattercarpet": [
           {
            "marker": {
             "colorbar": {
              "outlinewidth": 0,
              "ticks": ""
             }
            },
            "type": "scattercarpet"
           }
          ],
          "scattergeo": [
           {
            "marker": {
             "colorbar": {
              "outlinewidth": 0,
              "ticks": ""
             }
            },
            "type": "scattergeo"
           }
          ],
          "scattergl": [
           {
            "marker": {
             "line": {
              "color": "#283442"
             }
            },
            "type": "scattergl"
           }
          ],
          "scattermapbox": [
           {
            "marker": {
             "colorbar": {
              "outlinewidth": 0,
              "ticks": ""
             }
            },
            "type": "scattermapbox"
           }
          ],
          "scatterpolar": [
           {
            "marker": {
             "colorbar": {
              "outlinewidth": 0,
              "ticks": ""
             }
            },
            "type": "scatterpolar"
           }
          ],
          "scatterpolargl": [
           {
            "marker": {
             "colorbar": {
              "outlinewidth": 0,
              "ticks": ""
             }
            },
            "type": "scatterpolargl"
           }
          ],
          "scatterternary": [
           {
            "marker": {
             "colorbar": {
              "outlinewidth": 0,
              "ticks": ""
             }
            },
            "type": "scatterternary"
           }
          ],
          "surface": [
           {
            "colorbar": {
             "outlinewidth": 0,
             "ticks": ""
            },
            "colorscale": [
             [
              0,
              "#0d0887"
             ],
             [
              0.1111111111111111,
              "#46039f"
             ],
             [
              0.2222222222222222,
              "#7201a8"
             ],
             [
              0.3333333333333333,
              "#9c179e"
             ],
             [
              0.4444444444444444,
              "#bd3786"
             ],
             [
              0.5555555555555556,
              "#d8576b"
             ],
             [
              0.6666666666666666,
              "#ed7953"
             ],
             [
              0.7777777777777778,
              "#fb9f3a"
             ],
             [
              0.8888888888888888,
              "#fdca26"
             ],
             [
              1,
              "#f0f921"
             ]
            ],
            "type": "surface"
           }
          ],
          "table": [
           {
            "cells": {
             "fill": {
              "color": "#506784"
             },
             "line": {
              "color": "rgb(17,17,17)"
             }
            },
            "header": {
             "fill": {
              "color": "#2a3f5f"
             },
             "line": {
              "color": "rgb(17,17,17)"
             }
            },
            "type": "table"
           }
          ]
         },
         "layout": {
          "annotationdefaults": {
           "arrowcolor": "#f2f5fa",
           "arrowhead": 0,
           "arrowwidth": 1
          },
          "autotypenumbers": "strict",
          "coloraxis": {
           "colorbar": {
            "outlinewidth": 0,
            "ticks": ""
           }
          },
          "colorscale": {
           "diverging": [
            [
             0,
             "#8e0152"
            ],
            [
             0.1,
             "#c51b7d"
            ],
            [
             0.2,
             "#de77ae"
            ],
            [
             0.3,
             "#f1b6da"
            ],
            [
             0.4,
             "#fde0ef"
            ],
            [
             0.5,
             "#f7f7f7"
            ],
            [
             0.6,
             "#e6f5d0"
            ],
            [
             0.7,
             "#b8e186"
            ],
            [
             0.8,
             "#7fbc41"
            ],
            [
             0.9,
             "#4d9221"
            ],
            [
             1,
             "#276419"
            ]
           ],
           "sequential": [
            [
             0,
             "#0d0887"
            ],
            [
             0.1111111111111111,
             "#46039f"
            ],
            [
             0.2222222222222222,
             "#7201a8"
            ],
            [
             0.3333333333333333,
             "#9c179e"
            ],
            [
             0.4444444444444444,
             "#bd3786"
            ],
            [
             0.5555555555555556,
             "#d8576b"
            ],
            [
             0.6666666666666666,
             "#ed7953"
            ],
            [
             0.7777777777777778,
             "#fb9f3a"
            ],
            [
             0.8888888888888888,
             "#fdca26"
            ],
            [
             1,
             "#f0f921"
            ]
           ],
           "sequentialminus": [
            [
             0,
             "#0d0887"
            ],
            [
             0.1111111111111111,
             "#46039f"
            ],
            [
             0.2222222222222222,
             "#7201a8"
            ],
            [
             0.3333333333333333,
             "#9c179e"
            ],
            [
             0.4444444444444444,
             "#bd3786"
            ],
            [
             0.5555555555555556,
             "#d8576b"
            ],
            [
             0.6666666666666666,
             "#ed7953"
            ],
            [
             0.7777777777777778,
             "#fb9f3a"
            ],
            [
             0.8888888888888888,
             "#fdca26"
            ],
            [
             1,
             "#f0f921"
            ]
           ]
          },
          "colorway": [
           "#636efa",
           "#EF553B",
           "#00cc96",
           "#ab63fa",
           "#FFA15A",
           "#19d3f3",
           "#FF6692",
           "#B6E880",
           "#FF97FF",
           "#FECB52"
          ],
          "font": {
           "color": "#f2f5fa"
          },
          "geo": {
           "bgcolor": "rgb(17,17,17)",
           "lakecolor": "rgb(17,17,17)",
           "landcolor": "rgb(17,17,17)",
           "showlakes": true,
           "showland": true,
           "subunitcolor": "#506784"
          },
          "hoverlabel": {
           "align": "left"
          },
          "hovermode": "closest",
          "mapbox": {
           "style": "dark"
          },
          "paper_bgcolor": "rgb(17,17,17)",
          "plot_bgcolor": "rgb(17,17,17)",
          "polar": {
           "angularaxis": {
            "gridcolor": "#506784",
            "linecolor": "#506784",
            "ticks": ""
           },
           "bgcolor": "rgb(17,17,17)",
           "radialaxis": {
            "gridcolor": "#506784",
            "linecolor": "#506784",
            "ticks": ""
           }
          },
          "scene": {
           "xaxis": {
            "backgroundcolor": "rgb(17,17,17)",
            "gridcolor": "#506784",
            "gridwidth": 2,
            "linecolor": "#506784",
            "showbackground": true,
            "ticks": "",
            "zerolinecolor": "#C8D4E3"
           },
           "yaxis": {
            "backgroundcolor": "rgb(17,17,17)",
            "gridcolor": "#506784",
            "gridwidth": 2,
            "linecolor": "#506784",
            "showbackground": true,
            "ticks": "",
            "zerolinecolor": "#C8D4E3"
           },
           "zaxis": {
            "backgroundcolor": "rgb(17,17,17)",
            "gridcolor": "#506784",
            "gridwidth": 2,
            "linecolor": "#506784",
            "showbackground": true,
            "ticks": "",
            "zerolinecolor": "#C8D4E3"
           }
          },
          "shapedefaults": {
           "line": {
            "color": "#f2f5fa"
           }
          },
          "sliderdefaults": {
           "bgcolor": "#C8D4E3",
           "bordercolor": "rgb(17,17,17)",
           "borderwidth": 1,
           "tickwidth": 0
          },
          "ternary": {
           "aaxis": {
            "gridcolor": "#506784",
            "linecolor": "#506784",
            "ticks": ""
           },
           "baxis": {
            "gridcolor": "#506784",
            "linecolor": "#506784",
            "ticks": ""
           },
           "bgcolor": "rgb(17,17,17)",
           "caxis": {
            "gridcolor": "#506784",
            "linecolor": "#506784",
            "ticks": ""
           }
          },
          "title": {
           "x": 0.05
          },
          "updatemenudefaults": {
           "bgcolor": "#506784",
           "borderwidth": 0
          },
          "xaxis": {
           "automargin": true,
           "gridcolor": "#283442",
           "linecolor": "#506784",
           "ticks": "",
           "title": {
            "standoff": 15
           },
           "zerolinecolor": "#283442",
           "zerolinewidth": 2
          },
          "yaxis": {
           "automargin": true,
           "gridcolor": "#283442",
           "linecolor": "#506784",
           "ticks": "",
           "title": {
            "standoff": 15
           },
           "zerolinecolor": "#283442",
           "zerolinewidth": 2
          }
         }
        },
        "title": {
         "text": "Isolate log2(MIC-values) for different antibiotics",
         "x": 0.5
        },
        "xaxis": {
         "anchor": "y",
         "domain": [
          0,
          1
         ],
         "tickmode": "array",
         "ticktext": [
          "Benzylpenicillin",
          "Ampicillin",
          "Cefoxitin",
          "Ceftaroline",
          "Ceftobiprole",
          "Ceftriaxone",
          "Imipenem",
          "Meropenem",
          "Ciprofloxacin",
          "Levofloxacin",
          "Gentamicin",
          "Dalbavancin",
          "Teicoplanin",
          "Vancomycin",
          "Erythromycin",
          "Clindamycin",
          "Tetracycline",
          "Linezolid",
          "Daptomycin",
          "Rifampicin",
          "Trimeth-sulf",
          "D-test",
          "Optochin"
         ],
         "tickvals": [
          0,
          1,
          2,
          3,
          4,
          5,
          6,
          7,
          8,
          9,
          10,
          11,
          12,
          13,
          14,
          15,
          16,
          17,
          18,
          19,
          20,
          21,
          22
         ],
         "title": {
          "text": "Antibiotics"
         }
        },
        "yaxis": {
         "anchor": "x",
         "domain": [
          0,
          1
         ],
         "range": [
          -11,
          12
         ],
         "tickmode": "array",
         "ticktext": [
          "Min C",
          "0.00195",
          "0.00391",
          "0.00781",
          "0.01563",
          "0.03125",
          "0.0625",
          "0.125",
          "0.25",
          "0.5",
          "1",
          "2",
          "4",
          "8",
          "16",
          "32",
          "64",
          "128",
          "256",
          "512",
          "1024",
          "Max C"
         ],
         "tickvals": [
          -10,
          -9,
          -8,
          -7,
          -6,
          -5,
          -4,
          -3,
          -2,
          -1,
          0,
          1,
          2,
          3,
          4,
          5,
          6,
          7,
          8,
          9,
          10,
          11
         ],
         "title": {
          "text": "Log2(MIC-value)"
         }
        }
       }
      }
     },
     "metadata": {},
     "output_type": "display_data"
    }
   ],
   "source": [
    "def main():\n",
    "    # Load files\n",
    "    chosen_isolates_list = pd.read_csv(\"Chosen_isolates_list.csv\")\n",
    "    CIB = pd.ExcelFile(\"CIB_TF-data_AllIsolates_20230302.xlsx\")\n",
    "    matrix_EU = pd.read_excel(CIB, \"matrix EU\")\n",
    "    \n",
    "    # Rename a long name for plotting purposes\n",
    "    matrix_EU.rename(columns={\"Trimethoprim-sulfamethoxazole\": \"Trimeth-sulf\"}, inplace=True)\n",
    "    \n",
    "    # Select isolates\n",
    "    chosen_isolates = extract_chosen_isolates(chosen_isolates_list, matrix_EU)\n",
    "    \n",
    "    # List of antiiotic names\n",
    "    antibiotics = list(chosen_isolates.columns[3:])    \n",
    "     \n",
    "    # Extract all SIRs for an antibiotic.\n",
    "    chosen_isolates_SIR = extract_SIR(chosen_isolates, antibiotics)\n",
    "    \n",
    "    # Remove the tuples that have None in their SIR data\n",
    "    filtered_chosen_isolates_SIR = filter_mic_values(chosen_isolates_SIR)\n",
    "    \n",
    "    # Extract the mic-values of each isolate for each antibiotic.\n",
    "    mic_data = extract_mic_data(filtered_chosen_isolates_SIR, antibiotics)\n",
    "    \n",
    "    # Create dataframe used for plotting\n",
    "    plot_df = create_plot_df(antibiotics, mic_data)\n",
    "    \n",
    "    plotly_dotplot(plot_df, antibiotics)\n",
    "    \n",
    "if __name__ == \"__main__\":\n",
    "    main()\n"
   ]
  }
 ],
 "metadata": {
  "kernelspec": {
   "display_name": "Python 3",
   "language": "python",
   "name": "python3"
  },
  "language_info": {
   "codemirror_mode": {
    "name": "ipython",
    "version": 3
   },
   "file_extension": ".py",
   "mimetype": "text/x-python",
   "name": "python",
   "nbconvert_exporter": "python",
   "pygments_lexer": "ipython3",
   "version": "3.11.0"
  },
  "orig_nbformat": 4
 },
 "nbformat": 4,
 "nbformat_minor": 2
}
