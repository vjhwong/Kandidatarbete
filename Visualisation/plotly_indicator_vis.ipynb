{
 "cells": [
  {
   "cell_type": "code",
   "execution_count": 194,
   "metadata": {},
   "outputs": [],
   "source": [
    "import pandas as pd\n",
    "import numpy as np\n",
    "import plotly.express as px"
   ]
  },
  {
   "cell_type": "code",
   "execution_count": 195,
   "metadata": {},
   "outputs": [],
   "source": [
    "def extract_chosen_isolates(\n",
    "    chosen_isolates: pd.DataFrame, matrix_EU: pd.DataFrame\n",
    ") -> pd.DataFrame:\n",
    "    \"\"\"\n",
    "    Select the chosen isolates from the script. Return a DataFrame only containing the rows of selected isolates\n",
    "    \"\"\"\n",
    "    chosen_rows = matrix_EU[\"Isolate\"].isin(chosen_isolates[\"Isolate\"])\n",
    "    return matrix_EU[chosen_rows]"
   ]
  },
  {
   "cell_type": "code",
   "execution_count": 196,
   "metadata": {},
   "outputs": [],
   "source": [
    "def find_digits(SIR: str) -> int:\n",
    "    \"\"\"Find numbers in a string\"\"\"\n",
    "    digit = \"\"\n",
    "    for character in SIR:\n",
    "        if character.isdigit() or character == \".\":\n",
    "            digit += character\n",
    "    return float(digit)"
   ]
  },
  {
   "cell_type": "code",
   "execution_count": 197,
   "metadata": {},
   "outputs": [],
   "source": [
    "def get_scale(SIR: str) -> bool:\n",
    "    \"\"\"Get on or off scale. True == on-scale\"\"\"\n",
    "    if \"=\" in SIR:\n",
    "        return True\n",
    "    elif \"<\" in SIR or \">\" in SIR:\n",
    "        return False\n",
    "    else:\n",
    "        raise ValueError(\"Not a valid SIR\")"
   ]
  },
  {
   "cell_type": "code",
   "execution_count": 198,
   "metadata": {},
   "outputs": [],
   "source": [
    "def parse_SIR(SIR: str) -> bool:\n",
    "    \"\"\"\n",
    "    Find the isolates with valid SIRs. Not 'Missing BP'\n",
    "    and not 'nip'.\n",
    "    \"\"\"\n",
    "    if SIR.startswith(\"Missing BP\"):\n",
    "        return False\n",
    "    if SIR == \"nip\":\n",
    "        return False\n",
    "    return True      "
   ]
  },
  {
   "cell_type": "code",
   "execution_count": 199,
   "metadata": {},
   "outputs": [],
   "source": [
    "def extract_SIR(chosen_isolates: pd.DataFrame, antibiotics: list) -> dict:\n",
    "    \"\"\"\n",
    "    Extract all SIRs for an antibiotic. Returns a dictionary\n",
    "    with antibiotcs as keys and lists of the isolates and their\n",
    "    SIRs in tuples as value.\n",
    "    \"\"\"\n",
    "    chosen_isolates_SIR = {antibiotic: [] for antibiotic in antibiotics}\n",
    "    \n",
    "    for index, row in chosen_isolates.iterrows():\n",
    "        isolate, pathogen, antibiotic_SIR = row[0], row[1], list(row[3:].items())\n",
    "        for antibiotic, SIR in antibiotic_SIR:\n",
    "            if parse_SIR(SIR):\n",
    "                mic_category = SIR[0]\n",
    "                mic = find_digits(SIR)\n",
    "                scale = get_scale(SIR)\n",
    "                chosen_isolates_SIR[antibiotic].append((isolate, np.log2(mic), mic_category, scale, pathogen))\n",
    "            else:\n",
    "                # If SIR = \"Missing BP\" or \"nip\"\n",
    "                chosen_isolates_SIR[antibiotic].append((isolate, SIR, None, None, pathogen))\n",
    "    return chosen_isolates_SIR"
   ]
  },
  {
   "cell_type": "code",
   "execution_count": 200,
   "metadata": {},
   "outputs": [],
   "source": [
    "def filter_mic_values(chosen_isolates_SIR: dict) -> None:\n",
    "    \"\"\"\n",
    "    Remove the tuples that have None in their SIR data\n",
    "    \"\"\"\n",
    "    for antibiotic, SIR_data in chosen_isolates_SIR.items():\n",
    "        # tup = (isolate, mic_value, mic_category, scale, pathogen)\n",
    "        chosen_isolates_SIR[antibiotic] = list((tup for tup in SIR_data if tup[2] is not None))\n",
    "    return chosen_isolates_SIR"
   ]
  },
  {
   "cell_type": "code",
   "execution_count": 201,
   "metadata": {},
   "outputs": [],
   "source": [
    "def extract_mic_data(chosen_isolates_SIR: dict, antibiotics: list) -> list:\n",
    "    \"\"\"\n",
    "    Extract the mic-values of each isolate for each antibiotic.\n",
    "    Returns a nested list. Each list represents the mic-values of \n",
    "    all isolates for an antibiotic.\n",
    "    \"\"\"\n",
    "    mic_values = []\n",
    "    # Iterate over all antibiotics\n",
    "    for antibiotic in antibiotics:\n",
    "        # Create a list to hold the mic-values of isolates for that abx\n",
    "        antibiotic_mic_values = []\n",
    "        # Get value of current abx. List of (isolate, mic_value, mic_category)\n",
    "        SIR_data = chosen_isolates_SIR[antibiotic]\n",
    "        for isolate, mic_value, mic_category, scale, pathogen in SIR_data:\n",
    "            antibiotic_mic_values.append((isolate, mic_value, mic_category, scale, pathogen))\n",
    "        mic_values.append(antibiotic_mic_values)\n",
    "    return mic_values"
   ]
  },
  {
   "cell_type": "code",
   "execution_count": 202,
   "metadata": {},
   "outputs": [],
   "source": [
    "def create_plot_df(antibiotics: list, mic_data: list, jitter: float=0.15) -> pd.DataFrame:\n",
    "    \"\"\"Create dataframe used for plotting\"\"\"\n",
    "    \n",
    "    mic_dict = {\n",
    "        \"S\": (\"limegreen\", \"Sensitive\"),\n",
    "        \"I\": (\"gold\", \"Intermediate\"),\n",
    "        \"R\": (\"tomato\", \"Resistant\"),\n",
    "    }\n",
    "    \n",
    "    # Set ticks of x axis\n",
    "    x_axis = [i for i in range(len(antibiotics))]\n",
    "\n",
    "    # Initialize lists to hold values used for plotting\n",
    "    x_values, y_values = [], []\n",
    "    SIR_category_list = []\n",
    "    isolate_names = []\n",
    "    on_off_scale = []\n",
    "    pathogen_list = []\n",
    "\n",
    "    for x_value, abx_mic_data in zip(x_axis, mic_data):\n",
    "        for isolate, mic_value, SIR_category, scale, pathogen in abx_mic_data:            \n",
    "            # Add random noise to avoid overlapping\n",
    "            x_value_jitter = x_value + np.random.uniform(-jitter, jitter)\n",
    "            mic_value_jitter = mic_value + np.random.uniform(-jitter, jitter)\n",
    "            # Add data to the lists\n",
    "            isolate_names.append(isolate)\n",
    "            x_values.append(x_value_jitter)\n",
    "            SIR_category_list.append(mic_dict[SIR_category][1])\n",
    "            on_off_scale.append(scale)\n",
    "            pathogen_list.append(pathogen)\n",
    "            if scale is True:\n",
    "                y_values.append(mic_value_jitter)\n",
    "            elif scale is False:\n",
    "                if SIR_category == \"S\":\n",
    "                    y_values.append(mic_value_jitter-1)\n",
    "                elif SIR_category == \"R\":\n",
    "                    y_values.append(mic_value_jitter+1)\n",
    "                else:\n",
    "                    raise ValueError(f\"SIR Category must be either S or R, not: {SIR_category}\")\n",
    "            else:\n",
    "                raise ValueError(f\"scale must be Boolean value, not {type(scale)}. Current value: {scale}\")\n",
    "\n",
    "    # Create a DF used for plotting\n",
    "    plot_df = pd.DataFrame(\n",
    "        {\n",
    "            \"Antibiotics\": x_values,\n",
    "            \"Log2(MIC-value)\": y_values,\n",
    "            \"Isolate names\": isolate_names,\n",
    "            \"SIR\": SIR_category_list,\n",
    "            \"Scale\": on_off_scale,\n",
    "            \"Pathogen\": pathogen_list\n",
    "        },\n",
    "        index=np.arange(len(x_values)),\n",
    "    )\n",
    "    \n",
    "    return plot_df"
   ]
  },
  {
   "cell_type": "code",
   "execution_count": 203,
   "metadata": {},
   "outputs": [],
   "source": [
    "def plotly_dotplot(plot_df: pd.DataFrame, antibiotics: list) -> None:\n",
    "    \n",
    "    # Set ticks of x axis\n",
    "    x_axis = [i for i in range(len(antibiotics))]\n",
    "    \n",
    "    y_axis_ticktext = [\n",
    "            \"Min C\", \"0.00195\", \"0.00391\", \"0.00781\", \"0.01563\",\"0.03125\", \"0.0625\", \"0.125\", \n",
    "            \"0.25\", \"0.5\", \"1\", \"2\", \"4\", \"8\", \"16\", \"32\", \"64\", \"128\", \"256\", \"512\", \"1024\", \"Max C\"\n",
    "            ]\n",
    "\n",
    "    #plot\n",
    "    fig = px.scatter(\n",
    "        plot_df,\n",
    "        x=\"Antibiotics\",\n",
    "        y=\"Log2(MIC-value)\",\n",
    "        hover_name=\"Isolate names\",\n",
    "        color=\"SIR\",\n",
    "        title=\"Isolate log2(MIC-values) for different antibiotics\",\n",
    "        range_y=[-10, 11],\n",
    "        hover_data={\"Antibiotics\": False, \"Log2(MIC-value)\": \":.0f\", \"Scale\": True,\"Pathogen\": True},\n",
    "    )\n",
    "\n",
    "    # Changes the dot color depending on SIR category\n",
    "    def change_trace_color(trace):\n",
    "        if trace.name == \"Resistant\":\n",
    "            trace.update(marker_color=\"tomato\")\n",
    "        elif trace.name == \"Intermediate\":\n",
    "            trace.update(marker_color=\"gold\")\n",
    "        elif trace.name == \"Sensitive\":\n",
    "            trace.update(marker_color=\"limegreen\")\n",
    "        else:\n",
    "            raise ValueError(\"Not a valid trace\")\n",
    "        \n",
    "        # if trace.scale == False:\n",
    "        #     trace.update(marker_symbol=\"square\")\n",
    "\n",
    "    # Update dot color\n",
    "    fig.for_each_trace(change_trace_color)\n",
    "\n",
    "    # Change xticks to antibiotic names\n",
    "    fig.update_layout(\n",
    "        xaxis=dict(\n",
    "            tickmode=\"array\", tickvals=x_axis, ticktext=antibiotics\n",
    "            ),\n",
    "        yaxis=dict(\n",
    "            tickmode=\"array\",tickvals= [i for i in range(-10, 12)], ticktext = y_axis_ticktext)\n",
    "    )\n",
    "    \n",
    "    # fig.update_layout(\n",
    "    #     yaxis=dict(tickmode=\"array\",tickvals= [i for i in range(-10, 12)],\n",
    "    #     ticktext = y_axis_ticktext)\n",
    "    # )\n",
    "\n",
    "    # Set horizontal legend\n",
    "    fig.update_layout(\n",
    "        legend=dict(orientation=\"h\", yanchor=\"bottom\", y=1.02, xanchor=\"right\", x=1)\n",
    "    )\n",
    "    fig.show()"
   ]
  },
  {
   "cell_type": "code",
   "execution_count": 204,
   "metadata": {},
   "outputs": [
    {
     "data": {
      "application/vnd.plotly.v1+json": {
       "config": {
        "plotlyServerURL": "https://plot.ly"
       },
       "data": [
        {
         "customdata": [
          [
           true,
           "Staphylococcus aureus"
          ],
          [
           true,
           "Staphylococcus aureus"
          ],
          [
           true,
           "Staphylococcus aureus"
          ],
          [
           true,
           "Staphylococcus aureus"
          ],
          [
           true,
           "Staphylococcus aureus"
          ],
          [
           true,
           "Staphylococcus aureus"
          ],
          [
           true,
           "Staphylococcus aureus"
          ],
          [
           true,
           "Staphylococcus aureus"
          ],
          [
           true,
           "Staphylococcus aureus"
          ],
          [
           true,
           "Staphylococcus aureus"
          ],
          [
           true,
           "Staphylococcus aureus"
          ],
          [
           true,
           "Staphylococcus aureus"
          ],
          [
           true,
           "Staphylococcus aureus"
          ],
          [
           true,
           "Staphylococcus aureus"
          ],
          [
           true,
           "Staphylococcus aureus"
          ],
          [
           true,
           "Staphylococcus aureus"
          ],
          [
           true,
           "Staphylococcus aureus"
          ],
          [
           true,
           "Staphylococcus aureus"
          ],
          [
           true,
           "Staphylococcus aureus"
          ],
          [
           true,
           "Staphylococcus aureus"
          ],
          [
           true,
           "Staphylococcus aureus"
          ],
          [
           true,
           "Staphylococcus aureus"
          ],
          [
           true,
           "Staphylococcus aureus"
          ],
          [
           true,
           "Staphylococcus aureus"
          ],
          [
           true,
           "Staphylococcus aureus"
          ],
          [
           true,
           "Streptococcus mitis"
          ],
          [
           true,
           "Staphylococcus aureus"
          ],
          [
           true,
           "Streptococcus pneumoniae"
          ],
          [
           true,
           "Streptococcus pneumoniae"
          ],
          [
           true,
           "Streptococcus pneumoniae"
          ],
          [
           true,
           "Streptococcus salivarius"
          ],
          [
           true,
           "Staphylococcus aureus"
          ],
          [
           true,
           "Staphylococcus aureus"
          ],
          [
           true,
           "Staphylococcus aureus"
          ],
          [
           true,
           "Staphylococcus aureus"
          ],
          [
           true,
           "Staphylococcus aureus"
          ],
          [
           true,
           "Staphylococcus aureus"
          ],
          [
           true,
           "Staphylococcus aureus"
          ],
          [
           true,
           "Staphylococcus aureus"
          ],
          [
           true,
           "Staphylococcus aureus"
          ],
          [
           true,
           "Staphylococcus aureus"
          ],
          [
           true,
           "Staphylococcus aureus"
          ],
          [
           true,
           "Staphylococcus aureus"
          ],
          [
           true,
           "Staphylococcus aureus"
          ],
          [
           true,
           "Staphylococcus aureus"
          ],
          [
           true,
           "Staphylococcus aureus"
          ],
          [
           true,
           "Staphylococcus aureus"
          ],
          [
           true,
           "Staphylococcus aureus"
          ],
          [
           true,
           "Staphylococcus aureus"
          ],
          [
           true,
           "Streptococcus mitis"
          ],
          [
           true,
           "Staphylococcus lugdunensis"
          ],
          [
           true,
           "Staphylococcus lugdunensis"
          ],
          [
           true,
           "Streptococcus mitis"
          ],
          [
           true,
           "Streptococcus sanguinis"
          ],
          [
           true,
           "Streptococcus sanguinis"
          ],
          [
           true,
           "Staphylococcus aureus"
          ],
          [
           true,
           "Staphylococcus aureus"
          ],
          [
           true,
           "Staphylococcus aureus"
          ],
          [
           true,
           "Staphylococcus aureus"
          ],
          [
           true,
           "Staphylococcus aureus"
          ],
          [
           true,
           "Staphylococcus aureus"
          ],
          [
           true,
           "Staphylococcus aureus"
          ],
          [
           true,
           "Staphylococcus aureus"
          ],
          [
           true,
           "Staphylococcus aureus"
          ],
          [
           true,
           "Staphylococcus aureus"
          ],
          [
           true,
           "Staphylococcus aureus"
          ],
          [
           true,
           "Staphylococcus aureus"
          ],
          [
           true,
           "Staphylococcus aureus"
          ],
          [
           true,
           "Staphylococcus aureus"
          ],
          [
           true,
           "Staphylococcus aureus"
          ],
          [
           true,
           "Staphylococcus aureus"
          ],
          [
           true,
           "Staphylococcus aureus"
          ],
          [
           true,
           "Staphylococcus aureus"
          ],
          [
           true,
           "Staphylococcus aureus"
          ],
          [
           false,
           "Staphylococcus aureus"
          ],
          [
           true,
           "Staphylococcus lugdunensis"
          ],
          [
           true,
           "Staphylococcus lugdunensis"
          ],
          [
           true,
           "Staphylococcus lugdunensis"
          ],
          [
           true,
           "Staphylococcus aureus"
          ],
          [
           true,
           "Staphylococcus aureus"
          ],
          [
           true,
           "Staphylococcus aureus"
          ],
          [
           true,
           "Staphylococcus aureus"
          ],
          [
           true,
           "Staphylococcus aureus"
          ],
          [
           true,
           "Staphylococcus aureus"
          ],
          [
           true,
           "Staphylococcus aureus"
          ],
          [
           true,
           "Staphylococcus aureus"
          ],
          [
           true,
           "Staphylococcus aureus"
          ],
          [
           true,
           "Staphylococcus aureus"
          ],
          [
           true,
           "Staphylococcus aureus"
          ],
          [
           true,
           "Staphylococcus aureus"
          ],
          [
           true,
           "Staphylococcus aureus"
          ],
          [
           true,
           "Staphylococcus aureus"
          ],
          [
           true,
           "Staphylococcus aureus"
          ],
          [
           true,
           "Staphylococcus aureus"
          ],
          [
           true,
           "Staphylococcus aureus"
          ],
          [
           true,
           "Staphylococcus aureus"
          ],
          [
           true,
           "Staphylococcus aureus"
          ],
          [
           true,
           "Staphylococcus aureus"
          ],
          [
           false,
           "Staphylococcus aureus"
          ],
          [
           true,
           "Staphylococcus aureus"
          ],
          [
           true,
           "Staphylococcus aureus"
          ],
          [
           true,
           "Staphylococcus aureus"
          ],
          [
           true,
           "Staphylococcus aureus"
          ],
          [
           true,
           "Staphylococcus aureus"
          ],
          [
           true,
           "Staphylococcus aureus"
          ],
          [
           true,
           "Staphylococcus aureus"
          ],
          [
           true,
           "Staphylococcus aureus"
          ],
          [
           true,
           "Staphylococcus aureus"
          ],
          [
           true,
           "Staphylococcus aureus"
          ],
          [
           true,
           "Staphylococcus aureus"
          ],
          [
           true,
           "Staphylococcus aureus"
          ],
          [
           true,
           "Staphylococcus aureus"
          ],
          [
           true,
           "Staphylococcus aureus"
          ],
          [
           true,
           "Staphylococcus aureus"
          ],
          [
           true,
           "Staphylococcus aureus"
          ],
          [
           true,
           "Staphylococcus aureus"
          ],
          [
           true,
           "Streptococcus pneumoniae"
          ],
          [
           true,
           "Streptococcus pneumoniae"
          ],
          [
           true,
           "Streptococcus pneumoniae"
          ],
          [
           false,
           "Streptococcus pneumoniae"
          ],
          [
           false,
           "Streptococcus salivarius"
          ],
          [
           true,
           "Staphylococcus aureus"
          ],
          [
           true,
           "Staphylococcus aureus"
          ],
          [
           true,
           "Staphylococcus aureus"
          ],
          [
           true,
           "Staphylococcus aureus"
          ],
          [
           false,
           "Enterococcus faecium"
          ],
          [
           false,
           "Enterococcus faecium"
          ],
          [
           false,
           "Enterococcus faecium"
          ],
          [
           false,
           "Enterococcus faecium"
          ],
          [
           true,
           "Enterococcus faecium"
          ],
          [
           false,
           "Enterococcus faecium"
          ],
          [
           false,
           "Enterococcus faecium"
          ],
          [
           true,
           "Enterococcus faecium"
          ],
          [
           true,
           "Enterococcus faecalis"
          ],
          [
           false,
           "Enterococcus faecium"
          ],
          [
           false,
           "Enterococcus faecium"
          ],
          [
           false,
           "Enterococcus faecium"
          ],
          [
           false,
           "Enterococcus faecium"
          ],
          [
           false,
           "Streptococcus mitis"
          ],
          [
           true,
           "Streptococcus sanguinis"
          ],
          [
           true,
           "Streptococcus salivarius"
          ],
          [
           true,
           "Enterococcus faecium"
          ],
          [
           false,
           "Enterococcus faecium"
          ],
          [
           false,
           "Enterococcus faecium"
          ],
          [
           false,
           "Enterococcus faecium"
          ],
          [
           false,
           "Enterococcus faecium"
          ],
          [
           false,
           "Enterococcus faecium"
          ],
          [
           false,
           "Enterococcus faecium"
          ],
          [
           true,
           "Enterococcus faecium"
          ],
          [
           false,
           "Enterococcus faecium"
          ],
          [
           false,
           "Enterococcus faecium"
          ],
          [
           false,
           "Enterococcus faecium"
          ],
          [
           false,
           "Enterococcus faecium"
          ],
          [
           false,
           "Enterococcus faecium"
          ],
          [
           false,
           "Enterococcus faecium"
          ],
          [
           false,
           "Enterococcus faecium"
          ],
          [
           false,
           "Enterococcus faecium"
          ],
          [
           false,
           "Enterococcus faecium"
          ],
          [
           false,
           "Enterococcus faecium"
          ],
          [
           false,
           "Enterococcus faecium"
          ],
          [
           true,
           "Streptococcus mitis"
          ],
          [
           true,
           "Streptococcus sanguinis"
          ],
          [
           true,
           "Streptococcus mitis"
          ],
          [
           true,
           "Streptococcus anginosus"
          ],
          [
           false,
           "Enterococcus faecium"
          ],
          [
           false,
           "Enterococcus faecium"
          ],
          [
           false,
           "Enterococcus faecium"
          ],
          [
           false,
           "Enterococcus faecium"
          ],
          [
           false,
           "Enterococcus faecium"
          ],
          [
           false,
           "Enterococcus faecium"
          ],
          [
           false,
           "Enterococcus faecium"
          ],
          [
           false,
           "Enterococcus faecium"
          ],
          [
           false,
           "Enterococcus faecium"
          ],
          [
           true,
           "Streptococcus sanguinis"
          ],
          [
           true,
           "Streptococcus mitis"
          ],
          [
           false,
           "Streptococcus sanguinis"
          ],
          [
           true,
           "Streptococcus sanguinis"
          ],
          [
           false,
           "Enterococcus faecium"
          ],
          [
           false,
           "Enterococcus faecium"
          ],
          [
           true,
           "Streptococcus salivarius"
          ],
          [
           true,
           "Streptococcus salivarius"
          ],
          [
           false,
           "Enterococcus faecalis"
          ],
          [
           true,
           "Staphylococcus aureus"
          ],
          [
           true,
           "Staphylococcus aureus"
          ],
          [
           true,
           "Streptococcus mitis"
          ],
          [
           true,
           "Streptococcus mitis"
          ],
          [
           true,
           "Streptococcus mitis"
          ],
          [
           true,
           "Streptococcus mitis"
          ],
          [
           true,
           "Streptococcus mitis"
          ],
          [
           true,
           "Streptococcus sanguinis"
          ],
          [
           true,
           "Streptococcus sanguinis"
          ],
          [
           true,
           "Streptococcus sanguinis"
          ],
          [
           true,
           "Streptococcus pneumoniae"
          ],
          [
           true,
           "Streptococcus salivarius"
          ],
          [
           true,
           "Streptococcus salivarius"
          ],
          [
           true,
           "Streptococcus salivarius"
          ],
          [
           true,
           "Enterococcus faecalis"
          ],
          [
           false,
           "Enterococcus faecium"
          ],
          [
           true,
           "Enterococcus faecium"
          ],
          [
           false,
           "Enterococcus faecium"
          ],
          [
           false,
           "Enterococcus faecium"
          ],
          [
           false,
           "Enterococcus faecium"
          ],
          [
           false,
           "Enterococcus faecium"
          ],
          [
           false,
           "Enterococcus faecium"
          ],
          [
           false,
           "Enterococcus faecium"
          ],
          [
           false,
           "Enterococcus faecium"
          ],
          [
           false,
           "Enterococcus faecalis"
          ],
          [
           false,
           "Enterococcus faecium"
          ],
          [
           false,
           "Enterococcus faecium"
          ],
          [
           false,
           "Enterococcus faecium"
          ],
          [
           false,
           "Enterococcus faecium"
          ],
          [
           false,
           "Enterococcus faecium"
          ],
          [
           false,
           "Enterococcus faecium"
          ],
          [
           false,
           "Enterococcus faecium"
          ],
          [
           false,
           "Enterococcus faecium"
          ],
          [
           false,
           "Enterococcus faecium"
          ],
          [
           false,
           "Enterococcus faecium"
          ],
          [
           false,
           "Enterococcus faecium"
          ],
          [
           false,
           "Enterococcus faecium"
          ],
          [
           false,
           "Enterococcus faecium"
          ],
          [
           false,
           "Enterococcus faecium"
          ],
          [
           false,
           "Enterococcus faecium"
          ],
          [
           false,
           "Enterococcus faecium"
          ],
          [
           false,
           "Enterococcus faecium"
          ],
          [
           false,
           "Enterococcus faecium"
          ],
          [
           false,
           "Enterococcus faecium"
          ],
          [
           false,
           "Enterococcus faecium"
          ],
          [
           false,
           "Enterococcus faecium"
          ],
          [
           false,
           "Enterococcus faecium"
          ],
          [
           false,
           "Enterococcus faecium"
          ],
          [
           false,
           "Enterococcus faecium"
          ],
          [
           false,
           "Enterococcus faecium"
          ],
          [
           false,
           "Enterococcus faecium"
          ],
          [
           false,
           "Enterococcus faecium"
          ],
          [
           false,
           "Enterococcus faecium"
          ],
          [
           false,
           "Enterococcus faecium"
          ],
          [
           false,
           "Enterococcus faecium"
          ],
          [
           false,
           "Enterococcus faecium"
          ],
          [
           false,
           "Enterococcus faecium"
          ],
          [
           true,
           "Enterococcus faecium"
          ],
          [
           false,
           "Enterococcus faecium"
          ],
          [
           false,
           "Enterococcus faecium"
          ],
          [
           false,
           "Enterococcus faecalis"
          ],
          [
           true,
           "Streptococcus mitis"
          ],
          [
           true,
           "Staphylococcus aureus"
          ],
          [
           true,
           "Staphylococcus aureus"
          ],
          [
           false,
           "Staphylococcus aureus"
          ],
          [
           false,
           "Staphylococcus aureus"
          ],
          [
           false,
           "Staphylococcus aureus"
          ],
          [
           false,
           "Staphylococcus aureus"
          ],
          [
           false,
           "Staphylococcus aureus"
          ],
          [
           false,
           "Staphylococcus aureus"
          ],
          [
           false,
           "Staphylococcus aureus"
          ],
          [
           false,
           "Staphylococcus aureus"
          ],
          [
           false,
           "Staphylococcus aureus"
          ],
          [
           false,
           "Staphylococcus aureus"
          ],
          [
           false,
           "Staphylococcus aureus"
          ],
          [
           false,
           "Staphylococcus aureus"
          ],
          [
           false,
           "Staphylococcus aureus"
          ],
          [
           false,
           "Staphylococcus aureus"
          ],
          [
           false,
           "Staphylococcus aureus"
          ],
          [
           false,
           "Staphylococcus aureus"
          ],
          [
           false,
           "Staphylococcus aureus"
          ],
          [
           false,
           "Staphylococcus aureus"
          ],
          [
           false,
           "Staphylococcus aureus"
          ],
          [
           false,
           "Staphylococcus aureus"
          ],
          [
           true,
           "Staphylococcus aureus"
          ],
          [
           true,
           "Staphylococcus aureus"
          ],
          [
           true,
           "Staphylococcus aureus"
          ],
          [
           false,
           "Staphylococcus aureus"
          ],
          [
           false,
           "Staphylococcus epidermidis"
          ],
          [
           false,
           "Staphylococcus epidermidis"
          ],
          [
           true,
           "Staphylococcus capitis"
          ],
          [
           false,
           "Staphylococcus capitis"
          ],
          [
           false,
           "Staphylococcus capitis"
          ],
          [
           false,
           "Staphylococcus epidermidis"
          ],
          [
           false,
           "Staphylococcus epidermidis"
          ],
          [
           true,
           "Staphylococcus epidermidis"
          ],
          [
           true,
           "Staphylococcus epidermidis"
          ],
          [
           true,
           "Staphylococcus epidermidis"
          ],
          [
           false,
           "Staphylococcus epidermidis"
          ],
          [
           false,
           "Staphylococcus epidermidis"
          ],
          [
           true,
           "Staphylococcus epidermidis"
          ],
          [
           true,
           "Staphylococcus epidermidis"
          ],
          [
           true,
           "Staphylococcus epidermidis"
          ],
          [
           false,
           "Staphylococcus epidermidis"
          ],
          [
           true,
           "Staphylococcus epidermidis"
          ],
          [
           true,
           "Staphylococcus epidermidis"
          ],
          [
           true,
           "Staphylococcus epidermidis"
          ],
          [
           false,
           "Staphylococcus epidermidis"
          ],
          [
           true,
           "Staphylococcus epidermidis"
          ],
          [
           false,
           "Staphylococcus epidermidis"
          ],
          [
           true,
           "Staphylococcus epidermidis"
          ],
          [
           false,
           "Staphylococcus epidermidis"
          ],
          [
           true,
           "Staphylococcus epidermidis"
          ],
          [
           false,
           "Staphylococcus aureus"
          ],
          [
           true,
           "Staphylococcus epidermidis"
          ],
          [
           false,
           "Staphylococcus epidermidis"
          ],
          [
           true,
           "Staphylococcus epidermidis"
          ],
          [
           false,
           "Staphylococcus epidermidis"
          ],
          [
           false,
           "Staphylococcus epidermidis"
          ],
          [
           true,
           "Staphylococcus epidermidis"
          ],
          [
           false,
           "Staphylococcus epidermidis"
          ],
          [
           true,
           "Staphylococcus epidermidis"
          ],
          [
           true,
           "Staphylococcus epidermidis"
          ],
          [
           true,
           "Staphylococcus epidermidis"
          ],
          [
           false,
           "Staphylococcus hominis"
          ],
          [
           false,
           "Staphylococcus hominis"
          ],
          [
           false,
           "Staphylococcus hominis"
          ],
          [
           false,
           "Staphylococcus hominis"
          ],
          [
           true,
           "Staphylococcus aureus"
          ],
          [
           false,
           "Staphylococcus aureus"
          ],
          [
           false,
           "Staphylococcus aureus"
          ],
          [
           false,
           "Staphylococcus aureus"
          ],
          [
           true,
           "Staphylococcus capitis"
          ],
          [
           true,
           "Staphylococcus capitis"
          ],
          [
           true,
           "Staphylococcus hominis"
          ],
          [
           false,
           "Staphylococcus hominis"
          ],
          [
           true,
           "Staphylococcus hominis"
          ],
          [
           false,
           "Staphylococcus hominis"
          ],
          [
           false,
           "Staphylococcus hominis"
          ],
          [
           false,
           "Staphylococcus hominis"
          ],
          [
           false,
           "Staphylococcus hominis"
          ],
          [
           false,
           "Staphylococcus hominis"
          ],
          [
           false,
           "Staphylococcus hominis"
          ],
          [
           false,
           "Staphylococcus hominis"
          ],
          [
           true,
           "Staphylococcus aureus"
          ],
          [
           false,
           "Staphylococcus aureus"
          ],
          [
           false,
           "Staphylococcus aureus"
          ],
          [
           false,
           "Staphylococcus aureus"
          ],
          [
           true,
           "Staphylococcus aureus"
          ],
          [
           true,
           "Staphylococcus aureus"
          ],
          [
           false,
           "Staphylococcus aureus"
          ],
          [
           false,
           "Staphylococcus aureus"
          ],
          [
           false,
           "Staphylococcus aureus"
          ],
          [
           false,
           "Staphylococcus aureus"
          ],
          [
           false,
           "Staphylococcus aureus"
          ],
          [
           false,
           "Staphylococcus aureus"
          ],
          [
           false,
           "Staphylococcus aureus"
          ],
          [
           true,
           "Staphylococcus aureus"
          ],
          [
           true,
           "Staphylococcus capitis"
          ],
          [
           false,
           "Staphylococcus epidermidis"
          ],
          [
           false,
           "Staphylococcus epidermidis"
          ],
          [
           false,
           "Staphylococcus epidermidis"
          ],
          [
           false,
           "Staphylococcus epidermidis"
          ],
          [
           false,
           "Staphylococcus epidermidis"
          ],
          [
           true,
           "Staphylococcus epidermidis"
          ],
          [
           false,
           "Staphylococcus aureus"
          ],
          [
           false,
           "Staphylococcus aureus"
          ],
          [
           false,
           "Staphylococcus aureus"
          ],
          [
           true,
           "Staphylococcus aureus"
          ],
          [
           false,
           "Staphylococcus aureus"
          ],
          [
           false,
           "Staphylococcus aureus"
          ],
          [
           false,
           "Staphylococcus aureus"
          ],
          [
           false,
           "Staphylococcus aureus"
          ],
          [
           false,
           "Staphylococcus aureus"
          ],
          [
           false,
           "Staphylococcus aureus"
          ],
          [
           false,
           "Staphylococcus aureus"
          ],
          [
           true,
           "Staphylococcus aureus"
          ],
          [
           true,
           "Staphylococcus aureus"
          ],
          [
           true,
           "Staphylococcus aureus"
          ],
          [
           false,
           "Staphylococcus aureus"
          ],
          [
           false,
           "Staphylococcus aureus"
          ],
          [
           false,
           "Staphylococcus aureus"
          ],
          [
           true,
           "Staphylococcus aureus"
          ],
          [
           true,
           "Staphylococcus aureus"
          ],
          [
           false,
           "Staphylococcus aureus"
          ],
          [
           false,
           "Staphylococcus aureus"
          ],
          [
           true,
           "Staphylococcus aureus"
          ],
          [
           true,
           "Staphylococcus aureus"
          ],
          [
           true,
           "Staphylococcus aureus"
          ],
          [
           true,
           "Staphylococcus aureus"
          ],
          [
           false,
           "Staphylococcus aureus"
          ],
          [
           true,
           "Staphylococcus aureus"
          ],
          [
           true,
           "Staphylococcus aureus"
          ],
          [
           true,
           "Staphylococcus aureus"
          ],
          [
           true,
           "Staphylococcus aureus"
          ],
          [
           true,
           "Staphylococcus aureus"
          ],
          [
           false,
           "Staphylococcus aureus"
          ],
          [
           false,
           "Staphylococcus aureus"
          ],
          [
           false,
           "Staphylococcus aureus"
          ],
          [
           true,
           "Staphylococcus aureus"
          ],
          [
           true,
           "Staphylococcus aureus"
          ],
          [
           true,
           "Staphylococcus aureus"
          ],
          [
           true,
           "Staphylococcus aureus"
          ],
          [
           true,
           "Staphylococcus aureus"
          ],
          [
           false,
           "Staphylococcus epidermidis"
          ],
          [
           false,
           "Staphylococcus epidermidis"
          ],
          [
           false,
           "Staphylococcus epidermidis"
          ],
          [
           false,
           "Staphylococcus epidermidis"
          ],
          [
           true,
           "Staphylococcus epidermidis"
          ],
          [
           false,
           "Staphylococcus aureus"
          ],
          [
           false,
           "Staphylococcus aureus"
          ],
          [
           false,
           "Staphylococcus aureus"
          ],
          [
           true,
           "Streptococcus agalactiae"
          ],
          [
           true,
           "Streptococcus agalactiae"
          ],
          [
           true,
           "Streptococcus pneumoniae"
          ],
          [
           true,
           "Staphylococcus aureus"
          ],
          [
           true,
           "Staphylococcus aureus"
          ],
          [
           true,
           "Staphylococcus aureus"
          ],
          [
           true,
           "Staphylococcus aureus"
          ],
          [
           true,
           "Staphylococcus aureus"
          ],
          [
           true,
           "Staphylococcus aureus"
          ],
          [
           true,
           "Staphylococcus aureus"
          ],
          [
           true,
           "Staphylococcus aureus"
          ],
          [
           true,
           "Staphylococcus aureus"
          ],
          [
           true,
           "Staphylococcus aureus"
          ],
          [
           true,
           "Staphylococcus aureus"
          ],
          [
           true,
           "Staphylococcus aureus"
          ],
          [
           true,
           "Staphylococcus aureus"
          ],
          [
           true,
           "Staphylococcus aureus"
          ],
          [
           true,
           "Staphylococcus aureus"
          ],
          [
           true,
           "Staphylococcus aureus"
          ],
          [
           true,
           "Staphylococcus aureus"
          ],
          [
           true,
           "Staphylococcus aureus"
          ],
          [
           true,
           "Staphylococcus aureus"
          ],
          [
           true,
           "Staphylococcus aureus"
          ],
          [
           false,
           "Enterococcus faecium"
          ],
          [
           true,
           "Enterococcus faecalis"
          ],
          [
           false,
           "Enterococcus faecium"
          ],
          [
           false,
           "Enterococcus faecalis"
          ],
          [
           false,
           "Enterococcus faecium"
          ],
          [
           false,
           "Enterococcus faecium"
          ],
          [
           true,
           "Staphylococcus aureus"
          ],
          [
           true,
           "Staphylococcus aureus"
          ],
          [
           false,
           "Enterococcus faecium"
          ],
          [
           false,
           "Enterococcus faecium"
          ],
          [
           true,
           "Staphylococcus epidermidis"
          ],
          [
           true,
           "Staphylococcus epidermidis"
          ],
          [
           false,
           "Enterococcus faecalis"
          ],
          [
           true,
           "Staphylococcus hominis"
          ],
          [
           false,
           "Streptococcus salivarius"
          ],
          [
           true,
           "Enterococcus faecium"
          ],
          [
           false,
           "Enterococcus faecium"
          ],
          [
           true,
           "Enterococcus faecium"
          ],
          [
           true,
           "Enterococcus faecium"
          ],
          [
           true,
           "Enterococcus faecium"
          ],
          [
           true,
           "Enterococcus faecium"
          ],
          [
           false,
           "Enterococcus faecium"
          ],
          [
           false,
           "Enterococcus faecium"
          ],
          [
           false,
           "Enterococcus faecium"
          ],
          [
           false,
           "Enterococcus faecium"
          ],
          [
           false,
           "Enterococcus faecium"
          ],
          [
           false,
           "Enterococcus faecium"
          ],
          [
           true,
           "Enterococcus faecium"
          ],
          [
           false,
           "Enterococcus faecium"
          ],
          [
           true,
           "Staphylococcus aureus"
          ],
          [
           true,
           "Staphylococcus aureus"
          ],
          [
           true,
           "Staphylococcus aureus"
          ],
          [
           true,
           "Staphylococcus aureus"
          ],
          [
           true,
           "Staphylococcus aureus"
          ],
          [
           true,
           "Staphylococcus aureus"
          ],
          [
           true,
           "Staphylococcus aureus"
          ],
          [
           true,
           "Staphylococcus aureus"
          ],
          [
           true,
           "Staphylococcus aureus"
          ],
          [
           true,
           "Staphylococcus aureus"
          ],
          [
           true,
           "Staphylococcus aureus"
          ],
          [
           true,
           "Staphylococcus aureus"
          ],
          [
           true,
           "Staphylococcus aureus"
          ],
          [
           false,
           "Enterococcus faecium"
          ],
          [
           false,
           "Enterococcus faecium"
          ],
          [
           true,
           "Staphylococcus epidermidis"
          ],
          [
           true,
           "Staphylococcus epidermidis"
          ],
          [
           false,
           "Streptococcus pneumoniae"
          ],
          [
           false,
           "Enterococcus faecalis"
          ],
          [
           false,
           "Enterococcus faecalis"
          ],
          [
           false,
           "Enterococcus faecalis"
          ],
          [
           false,
           "Enterococcus faecium"
          ],
          [
           false,
           "Enterococcus faecalis"
          ],
          [
           false,
           "Enterococcus faecium"
          ],
          [
           false,
           "Enterococcus faecalis"
          ],
          [
           true,
           "Enterococcus faecium"
          ],
          [
           false,
           "Enterococcus faecium"
          ],
          [
           false,
           "Enterococcus faecium"
          ],
          [
           true,
           "Staphylococcus aureus"
          ],
          [
           true,
           "Staphylococcus aureus"
          ],
          [
           false,
           "Enterococcus faecium"
          ],
          [
           false,
           "Enterococcus faecium"
          ],
          [
           true,
           "Enterococcus faecalis"
          ],
          [
           false,
           "Enterococcus faecium"
          ],
          [
           true,
           "Enterococcus faecium"
          ],
          [
           false,
           "Enterococcus faecalis"
          ],
          [
           false,
           "Streptococcus salivarius"
          ],
          [
           false,
           "Enterococcus faecium"
          ],
          [
           true,
           "Enterococcus faecium"
          ],
          [
           false,
           "Enterococcus faecium"
          ],
          [
           true,
           "Enterococcus faecium"
          ],
          [
           true,
           "Enterococcus faecium"
          ],
          [
           true,
           "Enterococcus faecium"
          ],
          [
           true,
           "Enterococcus faecium"
          ],
          [
           false,
           "Enterococcus faecium"
          ],
          [
           true,
           "Enterococcus faecium"
          ],
          [
           false,
           "Enterococcus faecium"
          ],
          [
           false,
           "Enterococcus faecium"
          ],
          [
           false,
           "Enterococcus faecium"
          ],
          [
           false,
           "Enterococcus faecium"
          ],
          [
           false,
           "Enterococcus faecium"
          ],
          [
           false,
           "Enterococcus faecium"
          ],
          [
           false,
           "Enterococcus faecium"
          ],
          [
           false,
           "Enterococcus faecium"
          ],
          [
           false,
           "Enterococcus faecium"
          ],
          [
           false,
           "Enterococcus faecium"
          ],
          [
           false,
           "Enterococcus faecium"
          ],
          [
           false,
           "Enterococcus faecium"
          ],
          [
           false,
           "Enterococcus faecium"
          ],
          [
           false,
           "Enterococcus faecium"
          ],
          [
           false,
           "Enterococcus faecium"
          ],
          [
           false,
           "Enterococcus faecium"
          ],
          [
           false,
           "Enterococcus faecium"
          ],
          [
           true,
           "Staphylococcus aureus"
          ],
          [
           true,
           "Staphylococcus aureus"
          ],
          [
           true,
           "Staphylococcus aureus"
          ],
          [
           true,
           "Staphylococcus aureus"
          ],
          [
           true,
           "Staphylococcus aureus"
          ],
          [
           true,
           "Staphylococcus aureus"
          ],
          [
           true,
           "Staphylococcus aureus"
          ],
          [
           true,
           "Staphylococcus aureus"
          ],
          [
           true,
           "Staphylococcus aureus"
          ],
          [
           true,
           "Staphylococcus aureus"
          ],
          [
           true,
           "Staphylococcus aureus"
          ],
          [
           true,
           "Staphylococcus aureus"
          ],
          [
           true,
           "Staphylococcus aureus"
          ],
          [
           true,
           "Staphylococcus aureus"
          ],
          [
           true,
           "Staphylococcus aureus"
          ],
          [
           true,
           "Staphylococcus aureus"
          ],
          [
           true,
           "Staphylococcus aureus"
          ],
          [
           false,
           "Enterococcus faecium"
          ],
          [
           false,
           "Enterococcus faecium"
          ],
          [
           false,
           "Streptococcus pneumoniae"
          ],
          [
           false,
           "Enterococcus faecalis"
          ],
          [
           false,
           "Staphylococcus aureus"
          ],
          [
           false,
           "Staphylococcus aureus"
          ],
          [
           false,
           "Staphylococcus aureus"
          ],
          [
           false,
           "Staphylococcus aureus"
          ],
          [
           false,
           "Staphylococcus aureus"
          ],
          [
           false,
           "Staphylococcus aureus"
          ],
          [
           false,
           "Staphylococcus aureus"
          ],
          [
           false,
           "Staphylococcus aureus"
          ],
          [
           false,
           "Staphylococcus aureus"
          ],
          [
           false,
           "Staphylococcus aureus"
          ],
          [
           false,
           "Staphylococcus aureus"
          ],
          [
           false,
           "Staphylococcus aureus"
          ],
          [
           false,
           "Staphylococcus aureus"
          ],
          [
           false,
           "Staphylococcus aureus"
          ],
          [
           true,
           "Staphylococcus aureus"
          ],
          [
           false,
           "Streptococcus agalactiae"
          ],
          [
           false,
           "Streptococcus agalactiae"
          ],
          [
           false,
           "Streptococcus agalactiae"
          ],
          [
           false,
           "Streptococcus agalactiae"
          ],
          [
           false,
           "Streptococcus agalactiae"
          ],
          [
           false,
           "Streptococcus agalactiae"
          ],
          [
           false,
           "Streptococcus agalactiae"
          ],
          [
           false,
           "Streptococcus agalactiae"
          ],
          [
           false,
           "Streptococcus agalactiae"
          ],
          [
           false,
           "Streptococcus agalactiae"
          ],
          [
           false,
           "Streptococcus agalactiae"
          ],
          [
           false,
           "Staphylococcus epidermidis"
          ],
          [
           false,
           "Staphylococcus epidermidis"
          ],
          [
           false,
           "Staphylococcus capitis"
          ],
          [
           false,
           "Staphylococcus capitis"
          ],
          [
           false,
           "Staphylococcus capitis"
          ],
          [
           false,
           "Staphylococcus capitis"
          ],
          [
           false,
           "Staphylococcus capitis"
          ],
          [
           false,
           "Staphylococcus capitis"
          ],
          [
           false,
           "Staphylococcus epidermidis"
          ],
          [
           false,
           "Staphylococcus epidermidis"
          ],
          [
           false,
           "Staphylococcus epidermidis"
          ],
          [
           false,
           "Staphylococcus epidermidis"
          ],
          [
           false,
           "Staphylococcus epidermidis"
          ],
          [
           false,
           "Streptococcus agalactiae"
          ],
          [
           false,
           "Streptococcus agalactiae"
          ],
          [
           false,
           "Streptococcus agalactiae"
          ],
          [
           false,
           "Streptococcus agalactiae"
          ],
          [
           false,
           "Staphylococcus epidermidis"
          ],
          [
           false,
           "Staphylococcus epidermidis"
          ],
          [
           false,
           "Staphylococcus epidermidis"
          ],
          [
           false,
           "Staphylococcus epidermidis"
          ],
          [
           true,
           "Staphylococcus epidermidis"
          ],
          [
           false,
           "Staphylococcus epidermidis"
          ],
          [
           false,
           "Staphylococcus epidermidis"
          ],
          [
           false,
           "Staphylococcus epidermidis"
          ],
          [
           false,
           "Staphylococcus epidermidis"
          ],
          [
           false,
           "Staphylococcus epidermidis"
          ],
          [
           false,
           "Staphylococcus epidermidis"
          ],
          [
           false,
           "Staphylococcus epidermidis"
          ],
          [
           false,
           "Staphylococcus epidermidis"
          ],
          [
           false,
           "Staphylococcus epidermidis"
          ],
          [
           false,
           "Staphylococcus epidermidis"
          ],
          [
           false,
           "Staphylococcus epidermidis"
          ],
          [
           false,
           "Staphylococcus epidermidis"
          ],
          [
           false,
           "Staphylococcus epidermidis"
          ],
          [
           false,
           "Staphylococcus epidermidis"
          ],
          [
           false,
           "Staphylococcus epidermidis"
          ],
          [
           false,
           "Staphylococcus epidermidis"
          ],
          [
           false,
           "Staphylococcus epidermidis"
          ],
          [
           false,
           "Staphylococcus aureus"
          ],
          [
           false,
           "Staphylococcus aureus"
          ],
          [
           false,
           "Staphylococcus epidermidis"
          ],
          [
           false,
           "Staphylococcus epidermidis"
          ],
          [
           false,
           "Staphylococcus epidermidis"
          ],
          [
           false,
           "Staphylococcus epidermidis"
          ],
          [
           false,
           "Staphylococcus epidermidis"
          ],
          [
           false,
           "Staphylococcus epidermidis"
          ],
          [
           false,
           "Staphylococcus epidermidis"
          ],
          [
           false,
           "Staphylococcus epidermidis"
          ],
          [
           false,
           "Staphylococcus epidermidis"
          ],
          [
           false,
           "Staphylococcus epidermidis"
          ],
          [
           false,
           "Staphylococcus hominis"
          ],
          [
           false,
           "Staphylococcus epidermidis"
          ],
          [
           false,
           "Staphylococcus hominis"
          ],
          [
           true,
           "Staphylococcus hominis"
          ],
          [
           false,
           "Staphylococcus hominis"
          ],
          [
           false,
           "Staphylococcus hominis"
          ],
          [
           false,
           "Staphylococcus hominis"
          ],
          [
           false,
           "Staphylococcus hominis"
          ],
          [
           false,
           "Staphylococcus hominis"
          ],
          [
           false,
           "Staphylococcus hominis"
          ],
          [
           false,
           "Staphylococcus hominis"
          ],
          [
           false,
           "Staphylococcus hominis"
          ],
          [
           false,
           "Streptococcus pneumoniae"
          ],
          [
           false,
           "Streptococcus pneumoniae"
          ],
          [
           false,
           "Streptococcus pneumoniae"
          ],
          [
           false,
           "Streptococcus pneumoniae"
          ],
          [
           true,
           "Streptococcus pneumoniae"
          ],
          [
           false,
           "Streptococcus pneumoniae"
          ],
          [
           false,
           "Streptococcus pneumoniae"
          ],
          [
           false,
           "Streptococcus pneumoniae"
          ],
          [
           false,
           "Streptococcus pyogenes"
          ],
          [
           false,
           "Streptococcus pyogenes"
          ],
          [
           false,
           "Streptococcus pyogenes"
          ],
          [
           false,
           "Streptococcus pneumoniae"
          ],
          [
           false,
           "Streptococcus pyogenes"
          ],
          [
           true,
           "Streptococcus pyogenes"
          ],
          [
           false,
           "Streptococcus pyogenes"
          ],
          [
           false,
           "Streptococcus pyogenes"
          ],
          [
           false,
           "Streptococcus pyogenes"
          ],
          [
           false,
           "Streptococcus pyogenes"
          ],
          [
           false,
           "Staphylococcus hominis"
          ],
          [
           false,
           "Staphylococcus hominis"
          ],
          [
           false,
           "Staphylococcus hominis"
          ],
          [
           true,
           "Staphylococcus hominis"
          ],
          [
           false,
           "Staphylococcus hominis"
          ],
          [
           false,
           "Staphylococcus hominis"
          ],
          [
           false,
           "Staphylococcus hominis"
          ],
          [
           false,
           "Staphylococcus aureus"
          ],
          [
           false,
           "Staphylococcus aureus"
          ],
          [
           false,
           "Staphylococcus aureus"
          ],
          [
           false,
           "Staphylococcus aureus"
          ],
          [
           false,
           "Staphylococcus aureus"
          ],
          [
           false,
           "Staphylococcus aureus"
          ],
          [
           false,
           "Staphylococcus aureus"
          ],
          [
           false,
           "Staphylococcus aureus"
          ],
          [
           false,
           "Staphylococcus aureus"
          ],
          [
           true,
           "Staphylococcus aureus"
          ],
          [
           false,
           "Staphylococcus aureus"
          ],
          [
           false,
           "Staphylococcus aureus"
          ],
          [
           false,
           "Staphylococcus aureus"
          ],
          [
           false,
           "Staphylococcus aureus"
          ],
          [
           false,
           "Staphylococcus aureus"
          ],
          [
           false,
           "Staphylococcus aureus"
          ],
          [
           false,
           "Staphylococcus aureus"
          ],
          [
           false,
           "Staphylococcus capitis"
          ],
          [
           true,
           "Streptococcus pneumoniae"
          ],
          [
           false,
           "Streptococcus agalactiae"
          ],
          [
           false,
           "Streptococcus pneumoniae"
          ],
          [
           false,
           "Staphylococcus hominis"
          ],
          [
           false,
           "Staphylococcus hominis"
          ],
          [
           false,
           "Staphylococcus hominis"
          ],
          [
           false,
           "Staphylococcus hominis"
          ],
          [
           false,
           "Staphylococcus hominis"
          ],
          [
           false,
           "Staphylococcus hominis"
          ],
          [
           false,
           "Streptococcus agalactiae"
          ],
          [
           false,
           "Staphylococcus hominis"
          ],
          [
           false,
           "Staphylococcus hominis"
          ],
          [
           false,
           "Staphylococcus hominis"
          ],
          [
           false,
           "Staphylococcus lugdunensis"
          ],
          [
           false,
           "Staphylococcus lugdunensis"
          ],
          [
           false,
           "Streptococcus agalactiae"
          ],
          [
           false,
           "Streptococcus agalactiae"
          ],
          [
           false,
           "Streptococcus agalactiae"
          ],
          [
           false,
           "Streptococcus agalactiae"
          ],
          [
           false,
           "Streptococcus agalactiae"
          ],
          [
           true,
           "Streptococcus agalactiae"
          ],
          [
           false,
           "Streptococcus agalactiae"
          ],
          [
           false,
           "Streptococcus agalactiae"
          ],
          [
           false,
           "Streptococcus pneumoniae"
          ],
          [
           false,
           "Streptococcus pneumoniae"
          ],
          [
           false,
           "Streptococcus pneumoniae"
          ],
          [
           false,
           "Streptococcus pneumoniae"
          ],
          [
           false,
           "Streptococcus pneumoniae"
          ],
          [
           false,
           "Streptococcus pneumoniae"
          ],
          [
           false,
           "Streptococcus pneumoniae"
          ],
          [
           false,
           "Streptococcus pneumoniae"
          ],
          [
           true,
           "Staphylococcus hominis"
          ],
          [
           true,
           "Staphylococcus hominis"
          ],
          [
           false,
           "Staphylococcus hominis"
          ],
          [
           false,
           "Staphylococcus hominis"
          ],
          [
           false,
           "Staphylococcus hominis"
          ],
          [
           false,
           "Streptococcus agalactiae"
          ],
          [
           false,
           "Streptococcus pneumoniae"
          ],
          [
           false,
           "Streptococcus pyogenes"
          ],
          [
           false,
           "Streptococcus pyogenes"
          ],
          [
           false,
           "Streptococcus pyogenes"
          ],
          [
           false,
           "Streptococcus pyogenes"
          ],
          [
           false,
           "Streptococcus pyogenes"
          ],
          [
           false,
           "Streptococcus pyogenes"
          ],
          [
           false,
           "Streptococcus pyogenes"
          ],
          [
           false,
           "Streptococcus pyogenes"
          ],
          [
           false,
           "Streptococcus pyogenes"
          ],
          [
           false,
           "Streptococcus pyogenes"
          ],
          [
           false,
           "Streptococcus pyogenes"
          ],
          [
           false,
           "Streptococcus pyogenes"
          ],
          [
           false,
           "Staphylococcus aureus"
          ],
          [
           false,
           "Staphylococcus aureus"
          ],
          [
           false,
           "Staphylococcus aureus"
          ],
          [
           false,
           "Staphylococcus aureus"
          ],
          [
           false,
           "Staphylococcus aureus"
          ],
          [
           false,
           "Staphylococcus aureus"
          ],
          [
           false,
           "Staphylococcus aureus"
          ],
          [
           false,
           "Staphylococcus aureus"
          ],
          [
           false,
           "Staphylococcus aureus"
          ],
          [
           false,
           "Staphylococcus aureus"
          ],
          [
           false,
           "Staphylococcus aureus"
          ],
          [
           false,
           "Staphylococcus aureus"
          ],
          [
           false,
           "Staphylococcus aureus"
          ],
          [
           false,
           "Staphylococcus aureus"
          ],
          [
           false,
           "Staphylococcus aureus"
          ],
          [
           false,
           "Staphylococcus aureus"
          ],
          [
           false,
           "Staphylococcus aureus"
          ],
          [
           false,
           "Staphylococcus aureus"
          ],
          [
           false,
           "Staphylococcus capitis"
          ],
          [
           false,
           "Staphylococcus lugdunensis"
          ],
          [
           false,
           "Staphylococcus lugdunensis"
          ],
          [
           false,
           "Staphylococcus lugdunensis"
          ],
          [
           false,
           "Staphylococcus lugdunensis"
          ],
          [
           false,
           "Staphylococcus lugdunensis"
          ],
          [
           false,
           "Staphylococcus lugdunensis"
          ],
          [
           false,
           "Staphylococcus epidermidis"
          ],
          [
           false,
           "Staphylococcus epidermidis"
          ],
          [
           false,
           "Staphylococcus epidermidis"
          ],
          [
           false,
           "Staphylococcus epidermidis"
          ],
          [
           false,
           "Staphylococcus epidermidis"
          ],
          [
           false,
           "Staphylococcus epidermidis"
          ],
          [
           false,
           "Staphylococcus epidermidis"
          ],
          [
           false,
           "Staphylococcus lugdunensis"
          ],
          [
           false,
           "Staphylococcus aureus"
          ],
          [
           false,
           "Staphylococcus aureus"
          ],
          [
           false,
           "Staphylococcus aureus"
          ],
          [
           false,
           "Staphylococcus aureus"
          ],
          [
           false,
           "Staphylococcus aureus"
          ],
          [
           false,
           "Staphylococcus aureus"
          ],
          [
           false,
           "Staphylococcus aureus"
          ],
          [
           false,
           "Staphylococcus aureus"
          ],
          [
           false,
           "Staphylococcus aureus"
          ],
          [
           false,
           "Staphylococcus aureus"
          ],
          [
           true,
           "Staphylococcus aureus"
          ],
          [
           false,
           "Staphylococcus aureus"
          ],
          [
           true,
           "Staphylococcus aureus"
          ],
          [
           true,
           "Staphylococcus aureus"
          ],
          [
           false,
           "Staphylococcus aureus"
          ],
          [
           false,
           "Staphylococcus aureus"
          ],
          [
           false,
           "Staphylococcus aureus"
          ],
          [
           false,
           "Staphylococcus aureus"
          ],
          [
           false,
           "Staphylococcus aureus"
          ],
          [
           false,
           "Staphylococcus aureus"
          ],
          [
           false,
           "Staphylococcus aureus"
          ],
          [
           false,
           "Staphylococcus aureus"
          ],
          [
           false,
           "Staphylococcus aureus"
          ],
          [
           false,
           "Staphylococcus aureus"
          ],
          [
           false,
           "Staphylococcus aureus"
          ],
          [
           false,
           "Staphylococcus aureus"
          ],
          [
           true,
           "Staphylococcus aureus"
          ],
          [
           true,
           "Staphylococcus aureus"
          ],
          [
           false,
           "Staphylococcus aureus"
          ],
          [
           false,
           "Staphylococcus aureus"
          ],
          [
           false,
           "Staphylococcus aureus"
          ],
          [
           false,
           "Staphylococcus aureus"
          ],
          [
           false,
           "Staphylococcus aureus"
          ],
          [
           false,
           "Staphylococcus aureus"
          ],
          [
           false,
           "Staphylococcus aureus"
          ],
          [
           true,
           "Staphylococcus aureus"
          ],
          [
           false,
           "Staphylococcus aureus"
          ],
          [
           true,
           "Staphylococcus epidermidis"
          ],
          [
           true,
           "Staphylococcus epidermidis"
          ],
          [
           true,
           "Staphylococcus epidermidis"
          ],
          [
           false,
           "Staphylococcus epidermidis"
          ],
          [
           false,
           "Staphylococcus epidermidis"
          ],
          [
           false,
           "Streptococcus pneumoniae"
          ],
          [
           false,
           "Streptococcus pneumoniae"
          ],
          [
           false,
           "Streptococcus pneumoniae"
          ],
          [
           false,
           "Streptococcus pneumoniae"
          ],
          [
           false,
           "Streptococcus pneumoniae"
          ],
          [
           false,
           "Streptococcus pneumoniae"
          ],
          [
           false,
           "Streptococcus pneumoniae"
          ],
          [
           false,
           "Staphylococcus aureus"
          ],
          [
           false,
           "Staphylococcus aureus"
          ],
          [
           false,
           "Staphylococcus aureus"
          ],
          [
           false,
           "Staphylococcus aureus"
          ],
          [
           false,
           "Staphylococcus aureus"
          ],
          [
           false,
           "Staphylococcus aureus"
          ],
          [
           false,
           "Staphylococcus aureus"
          ],
          [
           false,
           "Staphylococcus aureus"
          ],
          [
           false,
           "Staphylococcus aureus"
          ],
          [
           false,
           "Staphylococcus aureus"
          ],
          [
           false,
           "Staphylococcus aureus"
          ],
          [
           false,
           "Staphylococcus aureus"
          ],
          [
           false,
           "Staphylococcus aureus"
          ],
          [
           false,
           "Staphylococcus aureus"
          ],
          [
           false,
           "Staphylococcus aureus"
          ],
          [
           false,
           "Streptococcus agalactiae"
          ],
          [
           false,
           "Streptococcus agalactiae"
          ],
          [
           false,
           "Streptococcus agalactiae"
          ],
          [
           false,
           "Streptococcus agalactiae"
          ],
          [
           false,
           "Streptococcus agalactiae"
          ],
          [
           false,
           "Streptococcus agalactiae"
          ],
          [
           false,
           "Streptococcus agalactiae"
          ],
          [
           false,
           "Streptococcus agalactiae"
          ],
          [
           false,
           "Streptococcus agalactiae"
          ],
          [
           false,
           "Staphylococcus epidermidis"
          ],
          [
           false,
           "Staphylococcus epidermidis"
          ],
          [
           false,
           "Staphylococcus capitis"
          ],
          [
           false,
           "Staphylococcus capitis"
          ],
          [
           false,
           "Staphylococcus capitis"
          ],
          [
           false,
           "Staphylococcus capitis"
          ],
          [
           false,
           "Staphylococcus capitis"
          ],
          [
           false,
           "Staphylococcus capitis"
          ],
          [
           false,
           "Staphylococcus epidermidis"
          ],
          [
           false,
           "Staphylococcus epidermidis"
          ],
          [
           true,
           "Staphylococcus epidermidis"
          ],
          [
           false,
           "Streptococcus agalactiae"
          ],
          [
           false,
           "Streptococcus agalactiae"
          ],
          [
           false,
           "Streptococcus agalactiae"
          ],
          [
           false,
           "Staphylococcus epidermidis"
          ],
          [
           false,
           "Staphylococcus epidermidis"
          ],
          [
           false,
           "Staphylococcus epidermidis"
          ],
          [
           true,
           "Staphylococcus epidermidis"
          ],
          [
           false,
           "Staphylococcus epidermidis"
          ],
          [
           false,
           "Staphylococcus epidermidis"
          ],
          [
           false,
           "Staphylococcus epidermidis"
          ],
          [
           false,
           "Staphylococcus epidermidis"
          ],
          [
           false,
           "Staphylococcus epidermidis"
          ],
          [
           false,
           "Staphylococcus epidermidis"
          ],
          [
           false,
           "Staphylococcus epidermidis"
          ],
          [
           false,
           "Staphylococcus epidermidis"
          ],
          [
           false,
           "Staphylococcus epidermidis"
          ],
          [
           false,
           "Staphylococcus epidermidis"
          ],
          [
           false,
           "Staphylococcus epidermidis"
          ],
          [
           false,
           "Staphylococcus epidermidis"
          ],
          [
           false,
           "Staphylococcus epidermidis"
          ],
          [
           false,
           "Staphylococcus epidermidis"
          ],
          [
           false,
           "Staphylococcus epidermidis"
          ],
          [
           false,
           "Staphylococcus epidermidis"
          ],
          [
           false,
           "Staphylococcus epidermidis"
          ],
          [
           false,
           "Staphylococcus epidermidis"
          ],
          [
           false,
           "Staphylococcus epidermidis"
          ],
          [
           false,
           "Staphylococcus hominis"
          ],
          [
           false,
           "Staphylococcus epidermidis"
          ],
          [
           false,
           "Staphylococcus hominis"
          ],
          [
           false,
           "Streptococcus pneumoniae"
          ],
          [
           false,
           "Streptococcus pneumoniae"
          ],
          [
           false,
           "Streptococcus pneumoniae"
          ],
          [
           false,
           "Streptococcus pneumoniae"
          ],
          [
           false,
           "Streptococcus pyogenes"
          ],
          [
           false,
           "Streptococcus pneumoniae"
          ],
          [
           false,
           "Streptococcus pyogenes"
          ],
          [
           false,
           "Streptococcus pyogenes"
          ],
          [
           false,
           "Streptococcus pyogenes"
          ],
          [
           false,
           "Staphylococcus hominis"
          ],
          [
           false,
           "Staphylococcus aureus"
          ],
          [
           false,
           "Staphylococcus aureus"
          ],
          [
           false,
           "Staphylococcus aureus"
          ],
          [
           false,
           "Staphylococcus aureus"
          ],
          [
           false,
           "Staphylococcus capitis"
          ],
          [
           false,
           "Streptococcus pneumoniae"
          ],
          [
           false,
           "Streptococcus agalactiae"
          ],
          [
           false,
           "Staphylococcus hominis"
          ],
          [
           false,
           "Staphylococcus hominis"
          ],
          [
           false,
           "Staphylococcus hominis"
          ],
          [
           false,
           "Staphylococcus hominis"
          ],
          [
           false,
           "Streptococcus agalactiae"
          ],
          [
           true,
           "Staphylococcus hominis"
          ],
          [
           true,
           "Staphylococcus hominis"
          ],
          [
           true,
           "Staphylococcus hominis"
          ],
          [
           true,
           "Staphylococcus hominis"
          ],
          [
           false,
           "Staphylococcus lugdunensis"
          ],
          [
           false,
           "Streptococcus agalactiae"
          ],
          [
           false,
           "Streptococcus agalactiae"
          ],
          [
           false,
           "Streptococcus agalactiae"
          ],
          [
           false,
           "Streptococcus agalactiae"
          ],
          [
           false,
           "Streptococcus agalactiae"
          ],
          [
           false,
           "Streptococcus agalactiae"
          ],
          [
           false,
           "Streptococcus pneumoniae"
          ],
          [
           false,
           "Streptococcus pneumoniae"
          ],
          [
           false,
           "Streptococcus pneumoniae"
          ],
          [
           false,
           "Streptococcus pneumoniae"
          ],
          [
           false,
           "Streptococcus pneumoniae"
          ],
          [
           false,
           "Streptococcus pneumoniae"
          ],
          [
           false,
           "Streptococcus pneumoniae"
          ],
          [
           false,
           "Streptococcus pneumoniae"
          ],
          [
           false,
           "Staphylococcus hominis"
          ],
          [
           false,
           "Streptococcus pneumoniae"
          ],
          [
           false,
           "Streptococcus pyogenes"
          ],
          [
           false,
           "Streptococcus pyogenes"
          ],
          [
           false,
           "Streptococcus pyogenes"
          ],
          [
           false,
           "Streptococcus pyogenes"
          ],
          [
           false,
           "Staphylococcus aureus"
          ],
          [
           false,
           "Staphylococcus aureus"
          ],
          [
           false,
           "Staphylococcus aureus"
          ],
          [
           false,
           "Staphylococcus aureus"
          ],
          [
           false,
           "Staphylococcus aureus"
          ],
          [
           false,
           "Staphylococcus aureus"
          ],
          [
           false,
           "Staphylococcus capitis"
          ],
          [
           false,
           "Staphylococcus lugdunensis"
          ],
          [
           false,
           "Staphylococcus lugdunensis"
          ],
          [
           false,
           "Staphylococcus lugdunensis"
          ],
          [
           false,
           "Staphylococcus lugdunensis"
          ],
          [
           false,
           "Staphylococcus epidermidis"
          ],
          [
           false,
           "Staphylococcus epidermidis"
          ],
          [
           false,
           "Staphylococcus epidermidis"
          ],
          [
           false,
           "Staphylococcus epidermidis"
          ],
          [
           false,
           "Staphylococcus epidermidis"
          ],
          [
           false,
           "Staphylococcus epidermidis"
          ],
          [
           true,
           "Staphylococcus epidermidis"
          ],
          [
           false,
           "Staphylococcus lugdunensis"
          ],
          [
           false,
           "Staphylococcus aureus"
          ],
          [
           false,
           "Staphylococcus aureus"
          ],
          [
           false,
           "Staphylococcus aureus"
          ],
          [
           false,
           "Staphylococcus aureus"
          ],
          [
           false,
           "Staphylococcus aureus"
          ],
          [
           false,
           "Staphylococcus aureus"
          ],
          [
           false,
           "Staphylococcus aureus"
          ],
          [
           false,
           "Staphylococcus aureus"
          ],
          [
           false,
           "Staphylococcus aureus"
          ],
          [
           false,
           "Staphylococcus aureus"
          ],
          [
           false,
           "Staphylococcus aureus"
          ],
          [
           false,
           "Staphylococcus aureus"
          ],
          [
           false,
           "Staphylococcus aureus"
          ],
          [
           false,
           "Staphylococcus aureus"
          ],
          [
           false,
           "Staphylococcus aureus"
          ],
          [
           true,
           "Staphylococcus aureus"
          ],
          [
           false,
           "Staphylococcus aureus"
          ],
          [
           false,
           "Staphylococcus aureus"
          ],
          [
           false,
           "Staphylococcus aureus"
          ],
          [
           true,
           "Staphylococcus aureus"
          ],
          [
           true,
           "Staphylococcus aureus"
          ],
          [
           true,
           "Staphylococcus epidermidis"
          ],
          [
           true,
           "Staphylococcus epidermidis"
          ],
          [
           true,
           "Staphylococcus epidermidis"
          ],
          [
           false,
           "Streptococcus pneumoniae"
          ],
          [
           false,
           "Streptococcus pneumoniae"
          ],
          [
           false,
           "Streptococcus pneumoniae"
          ],
          [
           false,
           "Streptococcus pneumoniae"
          ],
          [
           false,
           "Streptococcus pneumoniae"
          ],
          [
           false,
           "Staphylococcus aureus"
          ],
          [
           false,
           "Staphylococcus aureus"
          ],
          [
           true,
           "Staphylococcus aureus"
          ],
          [
           false,
           "Staphylococcus aureus"
          ],
          [
           true,
           "Staphylococcus aureus"
          ],
          [
           true,
           "Staphylococcus aureus"
          ],
          [
           true,
           "Staphylococcus aureus"
          ],
          [
           true,
           "Staphylococcus aureus"
          ],
          [
           false,
           "Staphylococcus aureus"
          ],
          [
           true,
           "Staphylococcus capitis"
          ],
          [
           true,
           "Staphylococcus capitis"
          ],
          [
           true,
           "Staphylococcus epidermidis"
          ],
          [
           false,
           "Staphylococcus epidermidis"
          ],
          [
           true,
           "Staphylococcus epidermidis"
          ],
          [
           false,
           "Staphylococcus epidermidis"
          ],
          [
           false,
           "Staphylococcus epidermidis"
          ],
          [
           false,
           "Staphylococcus epidermidis"
          ],
          [
           true,
           "Staphylococcus epidermidis"
          ],
          [
           true,
           "Staphylococcus epidermidis"
          ],
          [
           false,
           "Staphylococcus epidermidis"
          ],
          [
           true,
           "Staphylococcus epidermidis"
          ],
          [
           true,
           "Staphylococcus epidermidis"
          ],
          [
           true,
           "Staphylococcus hominis"
          ],
          [
           false,
           "Staphylococcus hominis"
          ],
          [
           false,
           "Staphylococcus hominis"
          ],
          [
           true,
           "Staphylococcus hominis"
          ],
          [
           true,
           "Staphylococcus hominis"
          ],
          [
           true,
           "Staphylococcus hominis"
          ],
          [
           false,
           "Streptococcus pneumoniae"
          ],
          [
           false,
           "Streptococcus pneumoniae"
          ],
          [
           false,
           "Streptococcus pneumoniae"
          ],
          [
           true,
           "Streptococcus pneumoniae"
          ],
          [
           false,
           "Streptococcus pneumoniae"
          ],
          [
           false,
           "Streptococcus pneumoniae"
          ],
          [
           false,
           "Streptococcus pneumoniae"
          ],
          [
           true,
           "Streptococcus pneumoniae"
          ],
          [
           false,
           "Streptococcus pneumoniae"
          ],
          [
           true,
           "Staphylococcus hominis"
          ],
          [
           false,
           "Staphylococcus hominis"
          ],
          [
           true,
           "Staphylococcus hominis"
          ],
          [
           true,
           "Staphylococcus hominis"
          ],
          [
           true,
           "Staphylococcus aureus"
          ],
          [
           true,
           "Staphylococcus aureus"
          ],
          [
           true,
           "Staphylococcus aureus"
          ],
          [
           false,
           "Staphylococcus aureus"
          ],
          [
           false,
           "Streptococcus pneumoniae"
          ],
          [
           false,
           "Streptococcus pneumoniae"
          ],
          [
           true,
           "Staphylococcus hominis"
          ],
          [
           true,
           "Staphylococcus lugdunensis"
          ],
          [
           true,
           "Staphylococcus lugdunensis"
          ],
          [
           false,
           "Streptococcus pneumoniae"
          ],
          [
           false,
           "Streptococcus pneumoniae"
          ],
          [
           false,
           "Streptococcus pneumoniae"
          ],
          [
           false,
           "Streptococcus pneumoniae"
          ],
          [
           false,
           "Streptococcus pneumoniae"
          ],
          [
           false,
           "Streptococcus pneumoniae"
          ],
          [
           false,
           "Streptococcus pneumoniae"
          ],
          [
           false,
           "Streptococcus pneumoniae"
          ],
          [
           false,
           "Staphylococcus hominis"
          ],
          [
           true,
           "Staphylococcus hominis"
          ],
          [
           false,
           "Staphylococcus hominis"
          ],
          [
           false,
           "Streptococcus pneumoniae"
          ],
          [
           true,
           "Staphylococcus aureus"
          ],
          [
           true,
           "Staphylococcus aureus"
          ],
          [
           false,
           "Staphylococcus aureus"
          ],
          [
           false,
           "Staphylococcus aureus"
          ],
          [
           true,
           "Staphylococcus aureus"
          ],
          [
           false,
           "Staphylococcus epidermidis"
          ],
          [
           false,
           "Staphylococcus epidermidis"
          ],
          [
           false,
           "Staphylococcus epidermidis"
          ],
          [
           true,
           "Staphylococcus epidermidis"
          ],
          [
           true,
           "Staphylococcus aureus"
          ],
          [
           true,
           "Staphylococcus aureus"
          ],
          [
           true,
           "Staphylococcus aureus"
          ],
          [
           true,
           "Staphylococcus aureus"
          ],
          [
           true,
           "Staphylococcus aureus"
          ],
          [
           true,
           "Staphylococcus aureus"
          ],
          [
           true,
           "Staphylococcus aureus"
          ],
          [
           true,
           "Staphylococcus aureus"
          ],
          [
           true,
           "Staphylococcus aureus"
          ],
          [
           false,
           "Streptococcus pneumoniae"
          ],
          [
           false,
           "Streptococcus pneumoniae"
          ],
          [
           false,
           "Streptococcus pneumoniae"
          ],
          [
           true,
           "Staphylococcus aureus"
          ],
          [
           true,
           "Staphylococcus lugdunensis"
          ],
          [
           true,
           "Staphylococcus aureus"
          ],
          [
           true,
           "Staphylococcus aureus"
          ],
          [
           false,
           "Staphylococcus aureus"
          ],
          [
           true,
           "Staphylococcus aureus"
          ],
          [
           true,
           "Enterococcus faecium"
          ],
          [
           true,
           "Staphylococcus hominis"
          ],
          [
           true,
           "Staphylococcus hominis"
          ],
          [
           true,
           "Staphylococcus hominis"
          ],
          [
           true,
           "Staphylococcus hominis"
          ],
          [
           true,
           "Staphylococcus aureus"
          ],
          [
           true,
           "Staphylococcus aureus"
          ],
          [
           true,
           "Staphylococcus aureus"
          ],
          [
           true,
           "Staphylococcus aureus"
          ],
          [
           true,
           "Staphylococcus aureus"
          ],
          [
           true,
           "Staphylococcus aureus"
          ],
          [
           true,
           "Staphylococcus aureus"
          ],
          [
           true,
           "Staphylococcus aureus"
          ],
          [
           true,
           "Staphylococcus aureus"
          ],
          [
           false,
           "Staphylococcus aureus"
          ],
          [
           true,
           "Staphylococcus aureus"
          ],
          [
           true,
           "Staphylococcus aureus"
          ],
          [
           false,
           "Staphylococcus aureus"
          ],
          [
           true,
           "Staphylococcus aureus"
          ],
          [
           true,
           "Staphylococcus aureus"
          ],
          [
           false,
           "Staphylococcus aureus"
          ],
          [
           true,
           "Staphylococcus aureus"
          ],
          [
           true,
           "Staphylococcus epidermidis"
          ],
          [
           false,
           "Staphylococcus epidermidis"
          ],
          [
           false,
           "Staphylococcus epidermidis"
          ],
          [
           false,
           "Staphylococcus epidermidis"
          ],
          [
           true,
           "Staphylococcus epidermidis"
          ],
          [
           false,
           "Streptococcus pneumoniae"
          ],
          [
           true,
           "Staphylococcus aureus"
          ],
          [
           true,
           "Staphylococcus aureus"
          ],
          [
           true,
           "Staphylococcus aureus"
          ],
          [
           true,
           "Staphylococcus aureus"
          ],
          [
           true,
           "Staphylococcus aureus"
          ],
          [
           true,
           "Staphylococcus aureus"
          ],
          [
           true,
           "Staphylococcus aureus"
          ],
          [
           true,
           "Staphylococcus aureus"
          ],
          [
           true,
           "Staphylococcus aureus"
          ],
          [
           true,
           "Staphylococcus aureus"
          ],
          [
           true,
           "Staphylococcus aureus"
          ],
          [
           false,
           "Staphylococcus aureus"
          ],
          [
           false,
           "Staphylococcus aureus"
          ],
          [
           false,
           "Staphylococcus aureus"
          ],
          [
           true,
           "Staphylococcus aureus"
          ],
          [
           false,
           "Staphylococcus aureus"
          ],
          [
           false,
           "Staphylococcus aureus"
          ],
          [
           false,
           "Staphylococcus capitis"
          ],
          [
           false,
           "Staphylococcus epidermidis"
          ],
          [
           false,
           "Staphylococcus epidermidis"
          ],
          [
           false,
           "Staphylococcus epidermidis"
          ],
          [
           false,
           "Staphylococcus epidermidis"
          ],
          [
           false,
           "Staphylococcus epidermidis"
          ],
          [
           false,
           "Staphylococcus epidermidis"
          ],
          [
           false,
           "Staphylococcus epidermidis"
          ],
          [
           true,
           "Staphylococcus aureus"
          ],
          [
           true,
           "Staphylococcus capitis"
          ],
          [
           true,
           "Staphylococcus capitis"
          ],
          [
           true,
           "Staphylococcus hominis"
          ],
          [
           true,
           "Staphylococcus lugdunensis"
          ],
          [
           true,
           "Staphylococcus hominis"
          ],
          [
           true,
           "Staphylococcus aureus"
          ],
          [
           true,
           "Staphylococcus capitis"
          ],
          [
           false,
           "Staphylococcus epidermidis"
          ],
          [
           false,
           "Staphylococcus epidermidis"
          ],
          [
           false,
           "Staphylococcus epidermidis"
          ],
          [
           false,
           "Staphylococcus aureus"
          ],
          [
           true,
           "Staphylococcus aureus"
          ],
          [
           true,
           "Staphylococcus aureus"
          ],
          [
           false,
           "Staphylococcus aureus"
          ],
          [
           false,
           "Staphylococcus aureus"
          ],
          [
           false,
           "Staphylococcus aureus"
          ],
          [
           false,
           "Staphylococcus aureus"
          ],
          [
           false,
           "Staphylococcus aureus"
          ],
          [
           false,
           "Staphylococcus aureus"
          ],
          [
           false,
           "Staphylococcus aureus"
          ],
          [
           false,
           "Staphylococcus aureus"
          ],
          [
           true,
           "Staphylococcus aureus"
          ],
          [
           true,
           "Staphylococcus aureus"
          ],
          [
           true,
           "Staphylococcus aureus"
          ],
          [
           true,
           "Staphylococcus aureus"
          ],
          [
           false,
           "Staphylococcus epidermidis"
          ],
          [
           false,
           "Staphylococcus epidermidis"
          ],
          [
           false,
           "Staphylococcus epidermidis"
          ],
          [
           true,
           "Staphylococcus epidermidis"
          ],
          [
           true,
           "Staphylococcus epidermidis"
          ],
          [
           true,
           "Staphylococcus epidermidis"
          ],
          [
           true,
           "Staphylococcus epidermidis"
          ],
          [
           true,
           "Staphylococcus epidermidis"
          ],
          [
           true,
           "Staphylococcus epidermidis"
          ],
          [
           true,
           "Staphylococcus epidermidis"
          ],
          [
           true,
           "Staphylococcus hominis"
          ],
          [
           true,
           "Streptococcus pneumoniae"
          ],
          [
           true,
           "Streptococcus pneumoniae"
          ],
          [
           true,
           "Streptococcus pneumoniae"
          ],
          [
           true,
           "Streptococcus pneumoniae"
          ],
          [
           true,
           "Streptococcus pneumoniae"
          ],
          [
           false,
           "Streptococcus pyogenes"
          ],
          [
           true,
           "Streptococcus pneumoniae"
          ],
          [
           true,
           "Staphylococcus hominis"
          ],
          [
           true,
           "Staphylococcus aureus"
          ],
          [
           true,
           "Streptococcus pneumoniae"
          ],
          [
           true,
           "Streptococcus pneumoniae"
          ],
          [
           true,
           "Staphylococcus hominis"
          ],
          [
           true,
           "Staphylococcus hominis"
          ],
          [
           true,
           "Staphylococcus hominis"
          ],
          [
           true,
           "Staphylococcus hominis"
          ],
          [
           true,
           "Streptococcus pneumoniae"
          ],
          [
           true,
           "Staphylococcus hominis"
          ],
          [
           true,
           "Staphylococcus hominis"
          ],
          [
           false,
           "Streptococcus pyogenes"
          ],
          [
           true,
           "Staphylococcus aureus"
          ],
          [
           false,
           "Staphylococcus aureus"
          ],
          [
           true,
           "Staphylococcus aureus"
          ],
          [
           true,
           "Staphylococcus aureus"
          ],
          [
           false,
           "Staphylococcus epidermidis"
          ],
          [
           true,
           "Staphylococcus epidermidis"
          ],
          [
           false,
           "Staphylococcus epidermidis"
          ],
          [
           true,
           "Streptococcus pneumoniae"
          ],
          [
           true,
           "Streptococcus pneumoniae"
          ],
          [
           true,
           "Streptococcus pneumoniae"
          ],
          [
           true,
           "Streptococcus pneumoniae"
          ],
          [
           true,
           "Streptococcus pneumoniae"
          ],
          [
           false,
           "Staphylococcus aureus"
          ],
          [
           false,
           "Staphylococcus aureus"
          ],
          [
           false,
           "Staphylococcus aureus"
          ],
          [
           false,
           "Staphylococcus aureus"
          ],
          [
           false,
           "Staphylococcus aureus"
          ],
          [
           false,
           "Staphylococcus aureus"
          ],
          [
           false,
           "Staphylococcus aureus"
          ],
          [
           false,
           "Staphylococcus aureus"
          ],
          [
           false,
           "Staphylococcus aureus"
          ],
          [
           false,
           "Staphylococcus aureus"
          ],
          [
           false,
           "Staphylococcus aureus"
          ],
          [
           false,
           "Staphylococcus aureus"
          ],
          [
           false,
           "Staphylococcus aureus"
          ],
          [
           false,
           "Staphylococcus aureus"
          ],
          [
           false,
           "Staphylococcus aureus"
          ],
          [
           false,
           "Staphylococcus aureus"
          ],
          [
           false,
           "Staphylococcus aureus"
          ],
          [
           false,
           "Staphylococcus aureus"
          ],
          [
           false,
           "Staphylococcus aureus"
          ],
          [
           false,
           "Staphylococcus aureus"
          ],
          [
           false,
           "Staphylococcus aureus"
          ],
          [
           false,
           "Staphylococcus aureus"
          ],
          [
           false,
           "Staphylococcus aureus"
          ],
          [
           false,
           "Staphylococcus aureus"
          ],
          [
           false,
           "Streptococcus agalactiae"
          ],
          [
           false,
           "Streptococcus agalactiae"
          ],
          [
           false,
           "Streptococcus agalactiae"
          ],
          [
           false,
           "Streptococcus agalactiae"
          ],
          [
           false,
           "Streptococcus agalactiae"
          ],
          [
           false,
           "Streptococcus agalactiae"
          ],
          [
           false,
           "Streptococcus agalactiae"
          ],
          [
           false,
           "Streptococcus agalactiae"
          ],
          [
           false,
           "Streptococcus agalactiae"
          ],
          [
           false,
           "Streptococcus agalactiae"
          ],
          [
           false,
           "Streptococcus agalactiae"
          ],
          [
           false,
           "Staphylococcus epidermidis"
          ],
          [
           false,
           "Staphylococcus epidermidis"
          ],
          [
           false,
           "Staphylococcus capitis"
          ],
          [
           false,
           "Staphylococcus capitis"
          ],
          [
           false,
           "Staphylococcus capitis"
          ],
          [
           false,
           "Staphylococcus capitis"
          ],
          [
           false,
           "Staphylococcus capitis"
          ],
          [
           false,
           "Staphylococcus capitis"
          ],
          [
           false,
           "Staphylococcus epidermidis"
          ],
          [
           false,
           "Staphylococcus epidermidis"
          ],
          [
           false,
           "Staphylococcus epidermidis"
          ],
          [
           false,
           "Staphylococcus epidermidis"
          ],
          [
           false,
           "Staphylococcus epidermidis"
          ],
          [
           false,
           "Streptococcus agalactiae"
          ],
          [
           false,
           "Streptococcus agalactiae"
          ],
          [
           false,
           "Streptococcus agalactiae"
          ],
          [
           false,
           "Streptococcus agalactiae"
          ],
          [
           false,
           "Staphylococcus epidermidis"
          ],
          [
           false,
           "Staphylococcus epidermidis"
          ],
          [
           false,
           "Staphylococcus epidermidis"
          ],
          [
           false,
           "Staphylococcus epidermidis"
          ],
          [
           false,
           "Staphylococcus epidermidis"
          ],
          [
           false,
           "Staphylococcus epidermidis"
          ],
          [
           false,
           "Staphylococcus epidermidis"
          ],
          [
           false,
           "Staphylococcus epidermidis"
          ],
          [
           false,
           "Staphylococcus epidermidis"
          ],
          [
           false,
           "Staphylococcus epidermidis"
          ],
          [
           false,
           "Staphylococcus epidermidis"
          ],
          [
           false,
           "Staphylococcus epidermidis"
          ],
          [
           false,
           "Staphylococcus epidermidis"
          ],
          [
           false,
           "Staphylococcus epidermidis"
          ],
          [
           false,
           "Staphylococcus epidermidis"
          ],
          [
           false,
           "Staphylococcus epidermidis"
          ],
          [
           false,
           "Staphylococcus epidermidis"
          ],
          [
           false,
           "Staphylococcus epidermidis"
          ],
          [
           false,
           "Staphylococcus epidermidis"
          ],
          [
           false,
           "Staphylococcus epidermidis"
          ],
          [
           false,
           "Staphylococcus epidermidis"
          ],
          [
           false,
           "Staphylococcus aureus"
          ],
          [
           false,
           "Staphylococcus epidermidis"
          ],
          [
           false,
           "Staphylococcus epidermidis"
          ],
          [
           false,
           "Staphylococcus epidermidis"
          ],
          [
           false,
           "Staphylococcus epidermidis"
          ],
          [
           false,
           "Staphylococcus epidermidis"
          ],
          [
           false,
           "Staphylococcus epidermidis"
          ],
          [
           false,
           "Staphylococcus epidermidis"
          ],
          [
           false,
           "Staphylococcus epidermidis"
          ],
          [
           false,
           "Staphylococcus epidermidis"
          ],
          [
           false,
           "Staphylococcus epidermidis"
          ],
          [
           false,
           "Staphylococcus hominis"
          ],
          [
           false,
           "Staphylococcus epidermidis"
          ],
          [
           false,
           "Staphylococcus hominis"
          ],
          [
           false,
           "Staphylococcus hominis"
          ],
          [
           false,
           "Staphylococcus hominis"
          ],
          [
           false,
           "Staphylococcus hominis"
          ],
          [
           false,
           "Staphylococcus hominis"
          ],
          [
           false,
           "Staphylococcus hominis"
          ],
          [
           false,
           "Staphylococcus hominis"
          ],
          [
           false,
           "Staphylococcus hominis"
          ],
          [
           false,
           "Staphylococcus hominis"
          ],
          [
           false,
           "Streptococcus pneumoniae"
          ],
          [
           false,
           "Streptococcus pneumoniae"
          ],
          [
           false,
           "Streptococcus pneumoniae"
          ],
          [
           false,
           "Streptococcus pneumoniae"
          ],
          [
           false,
           "Streptococcus pneumoniae"
          ],
          [
           false,
           "Streptococcus pyogenes"
          ],
          [
           false,
           "Streptococcus pyogenes"
          ],
          [
           false,
           "Streptococcus pyogenes"
          ],
          [
           false,
           "Streptococcus pneumoniae"
          ],
          [
           false,
           "Streptococcus pyogenes"
          ],
          [
           false,
           "Streptococcus pyogenes"
          ],
          [
           false,
           "Streptococcus pyogenes"
          ],
          [
           false,
           "Streptococcus pyogenes"
          ],
          [
           false,
           "Streptococcus pyogenes"
          ],
          [
           false,
           "Streptococcus pyogenes"
          ],
          [
           false,
           "Staphylococcus hominis"
          ],
          [
           false,
           "Staphylococcus hominis"
          ],
          [
           false,
           "Staphylococcus hominis"
          ],
          [
           false,
           "Staphylococcus hominis"
          ],
          [
           false,
           "Staphylococcus hominis"
          ],
          [
           false,
           "Staphylococcus hominis"
          ],
          [
           false,
           "Staphylococcus aureus"
          ],
          [
           false,
           "Staphylococcus aureus"
          ],
          [
           false,
           "Staphylococcus aureus"
          ],
          [
           false,
           "Staphylococcus aureus"
          ],
          [
           false,
           "Staphylococcus aureus"
          ],
          [
           false,
           "Staphylococcus aureus"
          ],
          [
           false,
           "Staphylococcus aureus"
          ],
          [
           false,
           "Staphylococcus aureus"
          ],
          [
           false,
           "Staphylococcus aureus"
          ],
          [
           false,
           "Staphylococcus aureus"
          ],
          [
           false,
           "Staphylococcus aureus"
          ],
          [
           false,
           "Staphylococcus aureus"
          ],
          [
           false,
           "Staphylococcus aureus"
          ],
          [
           false,
           "Staphylococcus aureus"
          ],
          [
           false,
           "Staphylococcus aureus"
          ],
          [
           false,
           "Staphylococcus capitis"
          ],
          [
           false,
           "Streptococcus pneumoniae"
          ],
          [
           false,
           "Streptococcus agalactiae"
          ],
          [
           false,
           "Staphylococcus hominis"
          ],
          [
           false,
           "Staphylococcus hominis"
          ],
          [
           false,
           "Staphylococcus hominis"
          ],
          [
           false,
           "Staphylococcus hominis"
          ],
          [
           false,
           "Staphylococcus hominis"
          ],
          [
           false,
           "Staphylococcus hominis"
          ],
          [
           false,
           "Streptococcus agalactiae"
          ],
          [
           false,
           "Staphylococcus hominis"
          ],
          [
           false,
           "Staphylococcus hominis"
          ],
          [
           false,
           "Staphylococcus hominis"
          ],
          [
           false,
           "Staphylococcus lugdunensis"
          ],
          [
           false,
           "Staphylococcus lugdunensis"
          ],
          [
           false,
           "Streptococcus agalactiae"
          ],
          [
           false,
           "Streptococcus agalactiae"
          ],
          [
           false,
           "Streptococcus agalactiae"
          ],
          [
           false,
           "Streptococcus agalactiae"
          ],
          [
           false,
           "Streptococcus agalactiae"
          ],
          [
           false,
           "Streptococcus agalactiae"
          ],
          [
           false,
           "Streptococcus agalactiae"
          ],
          [
           false,
           "Streptococcus agalactiae"
          ],
          [
           false,
           "Streptococcus pneumoniae"
          ],
          [
           false,
           "Streptococcus pneumoniae"
          ],
          [
           false,
           "Streptococcus pneumoniae"
          ],
          [
           false,
           "Streptococcus pneumoniae"
          ],
          [
           false,
           "Streptococcus pneumoniae"
          ],
          [
           false,
           "Streptococcus pneumoniae"
          ],
          [
           false,
           "Streptococcus pneumoniae"
          ],
          [
           false,
           "Streptococcus pneumoniae"
          ],
          [
           false,
           "Staphylococcus hominis"
          ],
          [
           false,
           "Staphylococcus hominis"
          ],
          [
           false,
           "Staphylococcus hominis"
          ],
          [
           false,
           "Streptococcus agalactiae"
          ],
          [
           false,
           "Streptococcus pneumoniae"
          ],
          [
           false,
           "Streptococcus pyogenes"
          ],
          [
           false,
           "Streptococcus pyogenes"
          ],
          [
           false,
           "Streptococcus pyogenes"
          ],
          [
           false,
           "Streptococcus pyogenes"
          ],
          [
           false,
           "Streptococcus pyogenes"
          ],
          [
           false,
           "Streptococcus pyogenes"
          ],
          [
           false,
           "Streptococcus pyogenes"
          ],
          [
           false,
           "Streptococcus pyogenes"
          ],
          [
           false,
           "Streptococcus pyogenes"
          ],
          [
           false,
           "Streptococcus pyogenes"
          ],
          [
           false,
           "Streptococcus pyogenes"
          ],
          [
           false,
           "Streptococcus pyogenes"
          ],
          [
           false,
           "Staphylococcus aureus"
          ],
          [
           false,
           "Staphylococcus aureus"
          ],
          [
           false,
           "Staphylococcus aureus"
          ],
          [
           false,
           "Staphylococcus aureus"
          ],
          [
           false,
           "Staphylococcus aureus"
          ],
          [
           false,
           "Staphylococcus aureus"
          ],
          [
           false,
           "Staphylococcus aureus"
          ],
          [
           false,
           "Staphylococcus aureus"
          ],
          [
           false,
           "Staphylococcus aureus"
          ],
          [
           false,
           "Staphylococcus aureus"
          ],
          [
           false,
           "Staphylococcus aureus"
          ],
          [
           false,
           "Staphylococcus aureus"
          ],
          [
           false,
           "Staphylococcus aureus"
          ],
          [
           false,
           "Staphylococcus aureus"
          ],
          [
           false,
           "Staphylococcus aureus"
          ],
          [
           false,
           "Staphylococcus capitis"
          ],
          [
           false,
           "Staphylococcus lugdunensis"
          ],
          [
           false,
           "Staphylococcus lugdunensis"
          ],
          [
           false,
           "Staphylococcus lugdunensis"
          ],
          [
           false,
           "Staphylococcus lugdunensis"
          ],
          [
           false,
           "Staphylococcus lugdunensis"
          ],
          [
           false,
           "Staphylococcus lugdunensis"
          ],
          [
           false,
           "Staphylococcus epidermidis"
          ],
          [
           false,
           "Staphylococcus epidermidis"
          ],
          [
           false,
           "Staphylococcus epidermidis"
          ],
          [
           false,
           "Staphylococcus epidermidis"
          ],
          [
           false,
           "Staphylococcus epidermidis"
          ],
          [
           false,
           "Staphylococcus epidermidis"
          ],
          [
           false,
           "Staphylococcus epidermidis"
          ],
          [
           false,
           "Staphylococcus lugdunensis"
          ],
          [
           false,
           "Staphylococcus aureus"
          ],
          [
           false,
           "Staphylococcus aureus"
          ],
          [
           false,
           "Staphylococcus aureus"
          ],
          [
           false,
           "Staphylococcus aureus"
          ],
          [
           false,
           "Staphylococcus aureus"
          ],
          [
           false,
           "Staphylococcus aureus"
          ],
          [
           false,
           "Staphylococcus aureus"
          ],
          [
           false,
           "Staphylococcus aureus"
          ],
          [
           false,
           "Staphylococcus aureus"
          ],
          [
           false,
           "Staphylococcus aureus"
          ],
          [
           false,
           "Staphylococcus aureus"
          ],
          [
           false,
           "Staphylococcus aureus"
          ],
          [
           false,
           "Staphylococcus aureus"
          ],
          [
           false,
           "Staphylococcus aureus"
          ],
          [
           false,
           "Staphylococcus aureus"
          ],
          [
           false,
           "Staphylococcus aureus"
          ],
          [
           false,
           "Staphylococcus aureus"
          ],
          [
           false,
           "Staphylococcus aureus"
          ],
          [
           false,
           "Staphylococcus aureus"
          ],
          [
           false,
           "Staphylococcus aureus"
          ],
          [
           false,
           "Staphylococcus aureus"
          ],
          [
           false,
           "Staphylococcus aureus"
          ],
          [
           false,
           "Staphylococcus aureus"
          ],
          [
           false,
           "Staphylococcus aureus"
          ],
          [
           false,
           "Staphylococcus aureus"
          ],
          [
           false,
           "Staphylococcus aureus"
          ],
          [
           false,
           "Staphylococcus aureus"
          ],
          [
           false,
           "Staphylococcus aureus"
          ],
          [
           false,
           "Staphylococcus aureus"
          ],
          [
           false,
           "Staphylococcus aureus"
          ],
          [
           false,
           "Streptococcus pneumoniae"
          ],
          [
           false,
           "Streptococcus pneumoniae"
          ],
          [
           false,
           "Streptococcus pneumoniae"
          ],
          [
           false,
           "Streptococcus pneumoniae"
          ],
          [
           false,
           "Streptococcus pneumoniae"
          ],
          [
           false,
           "Staphylococcus haemolyticus"
          ],
          [
           false,
           "Staphylococcus haemolyticus"
          ],
          [
           false,
           "Staphylococcus haemolyticus"
          ],
          [
           false,
           "Staphylococcus haemolyticus"
          ],
          [
           false,
           "Staphylococcus warneri"
          ],
          [
           false,
           "Staphylococcus warneri"
          ],
          [
           false,
           "Staphylococcus warneri"
          ],
          [
           false,
           "Staphylococcus warneri"
          ],
          [
           false,
           "Staphylococcus aureus"
          ],
          [
           false,
           "Staphylococcus aureus"
          ],
          [
           false,
           "Staphylococcus aureus"
          ],
          [
           false,
           "Staphylococcus aureus"
          ]
         ],
         "hovertemplate": "<b>%{hovertext}</b><br><br>SIR=Resistant<br>Log2(MIC-value)=%{y:.0f}<br>Scale=%{customdata[0]}<br>Pathogen=%{customdata[1]}<extra></extra>",
         "hovertext": [
          "QM307",
          "QM321",
          "QM398",
          "QM518",
          "QM980",
          "QM982",
          "QM984",
          "QM985",
          "QM986",
          "QM988",
          "QM989",
          "QM990",
          "QM991",
          "QM993",
          "QM397",
          "QM995",
          "QM992",
          "QM996",
          "QM997",
          "QM994",
          "HV447",
          "QM262",
          "QM322",
          "HV480",
          "QM998",
          "QM134",
          "BAR052",
          "QM805",
          "QM806",
          "QM807",
          "HV985",
          "QM1325",
          "QM1326",
          "QM1327",
          "QM1358",
          "QM1359",
          "QM1360",
          "QM1362",
          "QM1364",
          "QM1366",
          "QM1367",
          "QM1368",
          "QM1369",
          "QM1370",
          "QM1379",
          "QM1385",
          "QM1388",
          "QM1450",
          "QM1452",
          "QM1406",
          "PER152",
          "QM960",
          "BAR066",
          "QM1491",
          "QM1492",
          "AR0561",
          "AR0562",
          "AR0563",
          "AR0564",
          "AR0565",
          "AR0566",
          "AR0462",
          "AR0465",
          "AR0467",
          "AR0468",
          "AR0469",
          "AR0470",
          "AR0472",
          "AR0474",
          "AR0475",
          "AR0476",
          "AR0477",
          "AR0478",
          "AR0479",
          "AR0480",
          "QM1259",
          "QM1261",
          "QM1269",
          "AR0215",
          "AR0216",
          "AR0217",
          "AR0218",
          "AR0219",
          "AR0220",
          "AR0222",
          "AR0481",
          "AR0482",
          "AR0483",
          "AR0485",
          "AR0486",
          "AR0490",
          "AR0223",
          "AR0224",
          "AR0225",
          "AR0226",
          "AR0227",
          "AR0228",
          "AR0701",
          "AR0702",
          "AR0703",
          "AR0704",
          "AR0705",
          "AR0708",
          "AR0709",
          "AR0711",
          "AR0712",
          "AR0713",
          "AR0715",
          "AR0716",
          "AR0717",
          "AR0718",
          "AR0719",
          "AR0721",
          "AR0722",
          "AR0723",
          "AR0724",
          "QM027",
          "QM326",
          "QM328",
          "QM402",
          "QM1485",
          "QM1324",
          "AR0567",
          "AR0568",
          "AR0570",
          "HV519",
          "PER107",
          "HV772",
          "PER110",
          "QM867",
          "PER108",
          "PER104",
          "QM292",
          "QM312",
          "QM295",
          "QM068",
          "HV896",
          "HV510",
          "QM134",
          "QM1333",
          "HV985",
          "QM1248",
          "QM1250",
          "QM1252",
          "QM1253",
          "QM1254",
          "QM1255",
          "QM1288",
          "QM1289",
          "QM1308",
          "QM1309",
          "QM1310",
          "QM1311",
          "QM1312",
          "QM1313",
          "QM1314",
          "QM1315",
          "QM1316",
          "QM1317",
          "QM1373",
          "QM1406",
          "QM152",
          "BAR064",
          "QM1387",
          "QM1522",
          "QM1523",
          "QM1524",
          "QM1525",
          "QM1526",
          "QM1527",
          "QM1528",
          "QM1530",
          "QM1531",
          "QM872",
          "BAR066",
          "QM1489",
          "QM1491",
          "AR0572",
          "AR0575",
          "QM1483",
          "QM1485",
          "QM067",
          "AR0703",
          "AR0703",
          "QM134",
          "QM1406",
          "BAR064",
          "QM871",
          "BAR066",
          "QM1489",
          "QM1491",
          "QM1492",
          "QM027",
          "QM1483",
          "QM1485",
          "QM1486",
          "QM286",
          "HV519",
          "QM076",
          "PER107",
          "HV772",
          "PER110",
          "QM867",
          "PER108",
          "PER104",
          "QM292",
          "QM312",
          "QM295",
          "QM068",
          "HV896",
          "HV510",
          "QM1248",
          "QM1250",
          "QM1252",
          "QM1253",
          "QM1254",
          "QM1255",
          "QM1288",
          "QM1289",
          "QM1308",
          "QM1309",
          "QM1310",
          "QM1311",
          "QM1312",
          "QM1313",
          "QM1314",
          "QM1315",
          "QM1316",
          "QM1317",
          "QM1373",
          "QM1522",
          "QM1523",
          "QM1524",
          "QM1525",
          "QM1526",
          "QM1527",
          "QM1528",
          "QM1530",
          "QM1531",
          "QM1249",
          "AR0572",
          "AR0575",
          "QM067",
          "QM134",
          "QM307",
          "QM321",
          "QM398",
          "QM518",
          "QM980",
          "QM982",
          "QM984",
          "QM985",
          "QM986",
          "QM988",
          "QM989",
          "QM990",
          "QM991",
          "QM993",
          "QM397",
          "QM995",
          "QM992",
          "QM996",
          "QM997",
          "QM994",
          "HV447",
          "QM262",
          "QM322",
          "HV480",
          "QM308",
          "QM998",
          "HV109",
          "HV116",
          "QM899",
          "BAR002",
          "BAR003",
          "HV119",
          "HV136",
          "HV205",
          "HV254",
          "HV884",
          "HV950",
          "HV953",
          "HV983",
          "HV455",
          "HV462",
          "HV498",
          "HV521",
          "HV523",
          "HV538",
          "HV594",
          "HV283",
          "HV285",
          "HV326",
          "HV413",
          "HV416",
          "BAR052",
          "QM351",
          "QM365",
          "QM370",
          "QM373",
          "QM380",
          "QM381",
          "QM957",
          "QM958",
          "QM968",
          "QM977",
          "HV245",
          "HV262",
          "HV277",
          "HV599",
          "QM1358",
          "QM1366",
          "QM1368",
          "QM1369",
          "QM1263",
          "QM1264",
          "QM971",
          "HV987",
          "QM093",
          "QM1270",
          "QM1271",
          "QM1272",
          "QM1273",
          "HV813",
          "HV820",
          "HV88",
          "AR0561",
          "AR0562",
          "AR0564",
          "AR0565",
          "AR0566",
          "AR0461",
          "AR0462",
          "AR0465",
          "AR0467",
          "AR0468",
          "AR0469",
          "AR0474",
          "AR0479",
          "AR0480",
          "QM1265",
          "QM1258",
          "HV678",
          "HV733",
          "HV734",
          "HV744",
          "HV901",
          "AR0215",
          "AR0216",
          "AR0217",
          "AR0218",
          "AR0219",
          "AR0220",
          "AR0222",
          "AR0482",
          "AR0483",
          "AR0485",
          "AR0486",
          "AR0223",
          "AR0224",
          "AR0225",
          "AR0227",
          "AR0228",
          "AR0701",
          "AR0702",
          "AR0703",
          "AR0705",
          "AR0706",
          "AR0707",
          "AR0708",
          "AR0709",
          "AR0710",
          "AR0711",
          "AR0712",
          "AR0713",
          "AR0714",
          "AR0715",
          "AR0716",
          "AR0717",
          "AR0718",
          "AR0719",
          "AR0720",
          "AR0721",
          "AR0722",
          "AR0723",
          "AR0724",
          "AR0726",
          "AR0727",
          "AR0728",
          "AR0729",
          "AR0730",
          "AR0567",
          "AR0568",
          "AR0570",
          "PER128",
          "QM1546",
          "QM326",
          "QM397",
          "QM992",
          "AR0461",
          "AR0462",
          "AR0465",
          "AR0467",
          "AR0468",
          "AR0474",
          "AR0215",
          "AR0216",
          "AR0217",
          "AR0218",
          "AR0219",
          "AR0221",
          "AR0223",
          "AR0224",
          "AR0225",
          "AR0226",
          "AR0227",
          "AR0228",
          "QM076",
          "QM294",
          "PER107",
          "QM319",
          "QM867",
          "PER108",
          "QM397",
          "QM992",
          "PER104",
          "QM295",
          "HV146",
          "HV953",
          "BAR032",
          "HV245",
          "HV985",
          "QM1248",
          "QM1252",
          "QM1289",
          "QM1312",
          "QM1317",
          "QM1391",
          "QM1523",
          "QM1524",
          "QM1525",
          "QM1526",
          "QM1527",
          "QM1528",
          "QM1531",
          "QM1249",
          "AR0465",
          "AR0467",
          "AR0468",
          "AR0215",
          "AR0216",
          "AR0217",
          "AR0218",
          "AR0219",
          "AR0220",
          "AR0486",
          "AR0223",
          "AR0224",
          "AR0227",
          "AR0572",
          "AR0575",
          "AR0727",
          "AR0729",
          "QM402",
          "QM067",
          "QM286",
          "QM065",
          "QM076",
          "QM294",
          "PER107",
          "QM319",
          "PER110",
          "QM867",
          "PER108",
          "QM397",
          "QM992",
          "PER104",
          "QM292",
          "QM312",
          "QM295",
          "QM068",
          "BAR032",
          "HV985",
          "QM1248",
          "QM1250",
          "QM1252",
          "QM1253",
          "QM1254",
          "QM1255",
          "QM1288",
          "QM1289",
          "QM1308",
          "QM1309",
          "QM1310",
          "QM1311",
          "QM1312",
          "QM1313",
          "QM1314",
          "QM1316",
          "QM1317",
          "QM1391",
          "QM1523",
          "QM1524",
          "QM1525",
          "QM1526",
          "QM1527",
          "QM1528",
          "QM1531",
          "QM1249",
          "AR0462",
          "AR0465",
          "AR0467",
          "AR0468",
          "AR0474",
          "AR0215",
          "AR0216",
          "AR0217",
          "AR0218",
          "AR0219",
          "AR0220",
          "AR0221",
          "AR0222",
          "AR0223",
          "AR0224",
          "AR0227",
          "AR0228",
          "AR0572",
          "AR0575",
          "QM402",
          "QM067",
          "QM321",
          "QM985",
          "QM986",
          "QM988",
          "QM989",
          "QM991",
          "QM993",
          "QM397",
          "QM995",
          "QM996",
          "HV447",
          "QM262",
          "QM322",
          "QM323",
          "QM308",
          "PER128",
          "QM1007",
          "QM1008",
          "QM1010",
          "QM1011",
          "QM1013",
          "QM1014",
          "QM1015",
          "QM886",
          "BAR006",
          "BAR008",
          "HV109",
          "HV116",
          "QM895",
          "QM897",
          "QM899",
          "BAR001",
          "BAR002",
          "BAR003",
          "HV119",
          "HV136",
          "HV156",
          "HV205",
          "HV254",
          "BAR018",
          "BAR019",
          "BAR023",
          "BAR024",
          "HV884",
          "HV912",
          "HV950",
          "HV953",
          "HV975",
          "QM034",
          "QM088",
          "QM089",
          "HV455",
          "HV462",
          "HV498",
          "HV521",
          "HV523",
          "HV538",
          "HV559",
          "HV594",
          "HV615",
          "HV283",
          "HV285",
          "HV326",
          "HV413",
          "HV416",
          "BAR052",
          "BAR059",
          "QM351",
          "QM359",
          "QM365",
          "QM370",
          "QM373",
          "QM380",
          "QM381",
          "QM957",
          "QM958",
          "QM968",
          "QM970",
          "QM977",
          "HV103",
          "HV107",
          "HV114",
          "HV245",
          "HV262",
          "HV271",
          "HV277",
          "HV330",
          "HV412",
          "HV414",
          "QM803",
          "QM804",
          "QM805",
          "QM806",
          "QM807",
          "QM808",
          "QM810",
          "BAR026",
          "QM1002",
          "QM878",
          "QM879",
          "PER134",
          "QM880",
          "QM882",
          "QM883",
          "QM884",
          "PER159",
          "BAR009",
          "HV740",
          "HV753",
          "HV448",
          "HV500",
          "HV508",
          "HV517",
          "HV599",
          "QM1325",
          "QM1327",
          "QM1358",
          "QM1359",
          "QM1360",
          "QM1362",
          "QM1364",
          "QM1366",
          "QM1367",
          "QM1368",
          "QM1369",
          "QM1370",
          "QM1379",
          "QM1385",
          "QM1388",
          "QM1450",
          "QM1452",
          "QM1263",
          "QM325",
          "QM1440",
          "QM1353",
          "QM971",
          "HV986",
          "HV987",
          "QM093",
          "QM963",
          "QM964",
          "QM1533",
          "QM1270",
          "QM1271",
          "QM1273",
          "QM887",
          "QM960",
          "QM1536",
          "QM1537",
          "QM1539",
          "QM1540",
          "QM1541",
          "QM1542",
          "QM1543",
          "QM1545",
          "QM1456",
          "QM1457",
          "QM1460",
          "QM1461",
          "QM1464",
          "QM1468",
          "QM1469",
          "QM1470",
          "HV794",
          "HV813",
          "HV820",
          "HV88",
          "HV902",
          "QM1546",
          "QM1574",
          "QM1547",
          "QM1549",
          "QM1551",
          "QM1552",
          "QM1554",
          "QM1555",
          "QM1556",
          "QM1557",
          "QM1558",
          "QM1559",
          "QM1561",
          "QM1565",
          "AR0562",
          "AR0563",
          "AR0564",
          "AR0565",
          "AR0461",
          "AR0465",
          "AR0467",
          "AR0468",
          "AR0469",
          "AR0470",
          "AR0472",
          "AR0474",
          "AR0475",
          "AR0476",
          "AR0477",
          "AR0478",
          "AR0479",
          "AR0480",
          "QM1265",
          "QM1259",
          "QM1260",
          "QM1261",
          "QM1262",
          "QM1267",
          "QM1269",
          "HV678",
          "HV733",
          "HV734",
          "HV744",
          "HV754",
          "HV773",
          "HV901",
          "BAR040",
          "AR0215",
          "AR0216",
          "AR0218",
          "AR0219",
          "AR0220",
          "AR0481",
          "AR0482",
          "AR0483",
          "AR0485",
          "AR0486",
          "AR0490",
          "AR0224",
          "AR0225",
          "AR0226",
          "AR0227",
          "AR0228",
          "AR0703",
          "AR0704",
          "AR0705",
          "AR0706",
          "AR0707",
          "AR0708",
          "AR0709",
          "AR0710",
          "AR0711",
          "AR0712",
          "AR0713",
          "AR0714",
          "AR0715",
          "AR0716",
          "AR0717",
          "AR0718",
          "AR0719",
          "AR0721",
          "AR0722",
          "AR0723",
          "AR0724",
          "AR0726",
          "AR0727",
          "AR0728",
          "AR0729",
          "AR0730",
          "QM025",
          "QM026",
          "QM027",
          "QM326",
          "QM328",
          "QM329",
          "QM402",
          "QM1324",
          "AR0567",
          "AR0568",
          "AR0570",
          "QM985",
          "QM986",
          "QM988",
          "QM989",
          "QM991",
          "QM993",
          "QM397",
          "QM995",
          "QM996",
          "QM262",
          "QM323",
          "QM1007",
          "QM1008",
          "QM1010",
          "QM1011",
          "QM1014",
          "QM1015",
          "QM886",
          "BAR006",
          "BAR008",
          "HV109",
          "HV116",
          "QM895",
          "QM897",
          "QM899",
          "BAR001",
          "BAR002",
          "BAR003",
          "HV119",
          "HV136",
          "HV156",
          "BAR018",
          "BAR019",
          "BAR023",
          "HV912",
          "HV950",
          "HV953",
          "HV975",
          "QM034",
          "QM088",
          "QM089",
          "HV498",
          "HV523",
          "HV559",
          "HV594",
          "HV283",
          "HV413",
          "QM351",
          "QM359",
          "QM365",
          "QM370",
          "QM373",
          "QM380",
          "QM381",
          "QM957",
          "QM958",
          "QM968",
          "QM970",
          "QM977",
          "HV330",
          "QM803",
          "QM804",
          "QM806",
          "QM810",
          "QM879",
          "PER134",
          "QM880",
          "PER159",
          "BAR009",
          "HV448",
          "QM1358",
          "QM1366",
          "QM1369",
          "QM1450",
          "QM1263",
          "QM325",
          "QM1440",
          "QM971",
          "QM093",
          "QM963",
          "QM964",
          "QM1533",
          "QM1270",
          "QM1271",
          "QM1272",
          "QM1273",
          "QM960",
          "QM1537",
          "QM1540",
          "QM1541",
          "QM1542",
          "QM1543",
          "QM1545",
          "QM1456",
          "QM1457",
          "QM1460",
          "QM1461",
          "QM1464",
          "QM1468",
          "QM1469",
          "QM1470",
          "HV820",
          "QM1574",
          "QM1547",
          "QM1551",
          "QM1555",
          "QM1565",
          "AR0562",
          "AR0564",
          "AR0565",
          "AR0461",
          "AR0469",
          "AR0474",
          "QM1265",
          "QM1259",
          "QM1260",
          "QM1261",
          "QM1262",
          "HV678",
          "HV733",
          "HV734",
          "HV744",
          "HV754",
          "HV773",
          "HV901",
          "BAR040",
          "AR0215",
          "AR0218",
          "AR0219",
          "AR0220",
          "AR0483",
          "AR0485",
          "AR0486",
          "AR0227",
          "AR0228",
          "AR0703",
          "AR0707",
          "AR0709",
          "AR0710",
          "AR0711",
          "AR0712",
          "AR0716",
          "AR0717",
          "AR0718",
          "AR0719",
          "AR0720",
          "AR0721",
          "AR0728",
          "AR0729",
          "AR0730",
          "QM025",
          "QM027",
          "QM326",
          "QM328",
          "QM402",
          "AR0567",
          "AR0570",
          "QM518",
          "QM985",
          "QM397",
          "QM992",
          "QM262",
          "QM322",
          "QM308",
          "QM086",
          "QM899",
          "HV156",
          "HV205",
          "HV884",
          "HV975",
          "QM034",
          "HV462",
          "HV538",
          "HV594",
          "HV615",
          "HV416",
          "QM958",
          "HV103",
          "HV107",
          "HV271",
          "HV330",
          "HV412",
          "HV414",
          "QM803",
          "QM804",
          "QM805",
          "QM806",
          "QM807",
          "QM808",
          "QM810",
          "BAR026",
          "PER134",
          "HV753",
          "HV500",
          "HV508",
          "HV517",
          "QM1326",
          "QM1362",
          "QM1367",
          "QM1450",
          "QM325",
          "QM1353",
          "HV987",
          "QM889",
          "QM894",
          "QM1456",
          "QM1457",
          "QM1460",
          "QM1461",
          "QM1464",
          "QM1468",
          "QM1469",
          "QM1470",
          "HV794",
          "HV813",
          "HV820",
          "QM1574",
          "AR0561",
          "AR0562",
          "AR0565",
          "AR0470",
          "AR0480",
          "HV733",
          "HV734",
          "HV744",
          "HV901",
          "AR0219",
          "AR0222",
          "AR0701",
          "AR0702",
          "AR0707",
          "AR0710",
          "AR0718",
          "AR0720",
          "AR0722",
          "QM025",
          "QM027",
          "QM326",
          "QM1324",
          "BAR043",
          "AR0568",
          "AR0570",
          "QM321",
          "QM322",
          "QM1522",
          "QM1270",
          "QM1271",
          "QM1272",
          "QM1273",
          "AR0702",
          "AR0706",
          "AR0708",
          "AR0710",
          "AR0711",
          "AR0712",
          "AR0713",
          "AR0714",
          "AR0715",
          "AR0716",
          "AR0717",
          "AR0718",
          "AR0720",
          "AR0721",
          "AR0722",
          "AR0723",
          "AR0724",
          "AR0726",
          "AR0727",
          "AR0728",
          "AR0729",
          "AR0730",
          "QM402",
          "QM397",
          "QM992",
          "AR0564",
          "AR0474",
          "AR0216",
          "AR0217",
          "AR0218",
          "AR0222",
          "AR0226",
          "AR0227",
          "AR0228",
          "QM398",
          "QM518",
          "QM980",
          "QM984",
          "QM397",
          "QM992",
          "QM085",
          "HV116",
          "HV254",
          "HV983",
          "HV498",
          "HV413",
          "QM968",
          "QM977",
          "QM1358",
          "QM1263",
          "QM1264",
          "QM093",
          "PER152",
          "HV88",
          "AR0474",
          "QM1265",
          "QM1258",
          "HV678",
          "HV773",
          "AR0219",
          "AR0221",
          "AR0222",
          "AR0485",
          "AR0486",
          "AR0226",
          "AR0702",
          "AR0703",
          "AR0705",
          "AR0708",
          "AR0711",
          "AR0714",
          "AR0718",
          "AR0721",
          "AR0722",
          "AR0726",
          "AR0729",
          "AR0730",
          "HV950",
          "HV983",
          "HV285",
          "QM370",
          "QM373",
          "QM380",
          "QM381",
          "HV262",
          "QM805",
          "QM806",
          "QM807",
          "QM808",
          "BAR026",
          "QM879",
          "PER134",
          "HV599",
          "QM1450",
          "QM325",
          "QM1353",
          "QM1270",
          "QM1271",
          "QM1272",
          "QM1273",
          "QM1470",
          "HV813",
          "HV820",
          "QM1565",
          "AR0565",
          "AR0217",
          "AR0222",
          "AR0703",
          "AR0727",
          "AR0729",
          "AR0730",
          "QM025",
          "QM026",
          "QM027",
          "QM326",
          "QM329",
          "QM307",
          "QM321",
          "QM398",
          "QM980",
          "QM982",
          "QM984",
          "QM985",
          "QM986",
          "QM988",
          "QM989",
          "QM990",
          "QM991",
          "QM993",
          "QM397",
          "QM995",
          "QM992",
          "QM996",
          "QM997",
          "QM994",
          "QM262",
          "QM322",
          "QM323",
          "HV480",
          "QM998",
          "PER128",
          "QM1007",
          "QM1008",
          "QM1010",
          "QM1011",
          "QM1013",
          "QM1014",
          "QM1015",
          "QM886",
          "BAR006",
          "BAR008",
          "HV109",
          "HV116",
          "QM895",
          "QM897",
          "QM899",
          "BAR001",
          "BAR002",
          "BAR003",
          "HV119",
          "HV136",
          "HV156",
          "HV205",
          "HV254",
          "BAR018",
          "BAR019",
          "BAR023",
          "BAR024",
          "HV884",
          "HV912",
          "HV950",
          "HV953",
          "HV975",
          "QM034",
          "QM088",
          "QM089",
          "HV455",
          "HV498",
          "HV521",
          "HV523",
          "HV538",
          "HV559",
          "HV594",
          "HV615",
          "HV283",
          "HV285",
          "HV326",
          "HV413",
          "HV416",
          "BAR059",
          "QM351",
          "QM359",
          "QM365",
          "QM370",
          "QM373",
          "QM380",
          "QM381",
          "QM957",
          "QM958",
          "QM968",
          "QM970",
          "QM977",
          "HV103",
          "HV114",
          "HV245",
          "HV262",
          "HV271",
          "HV277",
          "HV330",
          "HV412",
          "HV414",
          "QM803",
          "QM804",
          "QM806",
          "QM810",
          "BAR026",
          "QM1002",
          "QM878",
          "QM879",
          "PER134",
          "QM880",
          "QM882",
          "QM883",
          "QM884",
          "PER159",
          "BAR009",
          "HV740",
          "HV753",
          "HV448",
          "HV508",
          "HV517",
          "HV599",
          "QM1325",
          "QM1327",
          "QM1358",
          "QM1359",
          "QM1360",
          "QM1362",
          "QM1364",
          "QM1366",
          "QM1367",
          "QM1369",
          "QM1370",
          "QM1379",
          "QM1385",
          "QM1388",
          "QM1450",
          "QM1263",
          "QM325",
          "QM1440",
          "QM971",
          "HV986",
          "HV987",
          "QM093",
          "QM963",
          "QM964",
          "QM1533",
          "QM1270",
          "QM1271",
          "QM1273",
          "QM887",
          "QM960",
          "QM1536",
          "QM1537",
          "QM1539",
          "QM1540",
          "QM1541",
          "QM1542",
          "QM1543",
          "QM1545",
          "QM1456",
          "QM1457",
          "QM1460",
          "QM1461",
          "QM1464",
          "QM1468",
          "QM1469",
          "QM1470",
          "HV820",
          "HV88",
          "HV902",
          "QM1546",
          "QM1574",
          "QM1547",
          "QM1549",
          "QM1551",
          "QM1552",
          "QM1554",
          "QM1555",
          "QM1556",
          "QM1557",
          "QM1558",
          "QM1559",
          "QM1561",
          "QM1565",
          "AR0562",
          "AR0564",
          "AR0565",
          "AR0461",
          "AR0465",
          "AR0467",
          "AR0468",
          "AR0469",
          "AR0470",
          "AR0472",
          "AR0474",
          "AR0476",
          "AR0477",
          "AR0478",
          "AR0479",
          "QM1265",
          "QM1259",
          "QM1260",
          "QM1261",
          "QM1262",
          "QM1267",
          "QM1269",
          "HV678",
          "HV733",
          "HV734",
          "HV744",
          "HV754",
          "HV773",
          "HV901",
          "BAR040",
          "AR0215",
          "AR0218",
          "AR0219",
          "AR0220",
          "AR0481",
          "AR0482",
          "AR0483",
          "AR0485",
          "AR0486",
          "AR0224",
          "AR0227",
          "AR0228",
          "AR0701",
          "AR0703",
          "AR0705",
          "AR0707",
          "AR0708",
          "AR0709",
          "AR0710",
          "AR0711",
          "AR0712",
          "AR0715",
          "AR0716",
          "AR0717",
          "AR0718",
          "AR0719",
          "AR0720",
          "AR0721",
          "AR0722",
          "AR0724",
          "QM025",
          "QM027",
          "QM326",
          "QM328",
          "QM402",
          "QM1498",
          "QM1499",
          "QM1501",
          "QM1503",
          "QM1472",
          "QM1473",
          "QM1474",
          "QM1476",
          "QM1324",
          "AR0567",
          "AR0568",
          "AR0570"
         ],
         "legendgroup": "Resistant",
         "marker": {
          "color": "tomato",
          "symbol": "circle"
         },
         "mode": "markers",
         "name": "Resistant",
         "showlegend": true,
         "type": "scattergl",
         "x": [
          -0.0018830360828577253,
          -0.14282442560567582,
          0.09770871045293802,
          0.08218070984463763,
          0.09810684131338385,
          0.12624757210805085,
          0.13070508575123121,
          -0.06898538241107544,
          0.0640250710993312,
          -0.04852698915246756,
          0.13283859047595906,
          -0.04616782038324266,
          -0.07766172105428493,
          -0.0709479322843621,
          0.092717063753773,
          -0.13168456946918408,
          0.09002024012669738,
          0.13664148838417436,
          0.13076300883883182,
          -0.03319752190834416,
          -0.10091080022817897,
          -0.13444077996772874,
          0.1433609112969403,
          -0.10704936308988652,
          -0.022985764708267714,
          0.027795000119811952,
          0.08210615420958312,
          0.027670390876138207,
          0.0701554415953328,
          -0.040902711615965925,
          -0.14373812790951448,
          0.09388118238438747,
          -0.0016429158680409395,
          -0.1278749959288832,
          0.088496422948212,
          -0.0885733708534846,
          -0.11305959893077314,
          0.021641759312658826,
          -0.005426292847135583,
          -0.14389870588219386,
          0.06246639397874476,
          0.055945544976245654,
          0.07656238326025347,
          -0.1072727219191611,
          -0.1185283054222116,
          -0.03283222662815351,
          0.03196677748598911,
          -0.050699809568895554,
          0.07282161112262461,
          0.08331101721019629,
          0.11031542413808884,
          -0.07810001449715749,
          0.10851896534331848,
          -0.07832400764899593,
          0.03434504066781685,
          0.06950041744122631,
          -0.007849039883715186,
          -0.07121356848697237,
          -0.11848237477598389,
          -0.10591865756230381,
          0.08813245228578595,
          -0.1222245218130333,
          0.036697467654738025,
          -0.11991665022366699,
          0.010832325763652118,
          0.033231788802224244,
          -0.05786423896051822,
          -0.10912164865877647,
          0.03639202169424971,
          -0.006913359694157045,
          -0.04376961837466234,
          -0.0934265929704183,
          -0.055719953228022465,
          0.0796079727866266,
          0.06682083819380963,
          0.06302863974945191,
          -0.11286906086936974,
          0.019773158053250167,
          0.10719190504792939,
          0.04885082343719149,
          0.0530690716103947,
          -0.05555448672558028,
          0.10355773877836352,
          0.0872453670720999,
          -0.14357475319407517,
          0.0781190723819,
          0.09529769618547768,
          -0.032096051469160766,
          -0.008047987012096386,
          0.08954834150151633,
          0.14717295434800196,
          -0.11798600650699845,
          0.12756974519656636,
          0.001594165438178613,
          -0.11876188340446382,
          -0.031380493482466326,
          0.08001291157491175,
          0.044193643330198956,
          -0.004878723887049019,
          -0.1383623081110178,
          -0.01645827120741164,
          -0.11359938584256221,
          0.0867627739499473,
          -0.10153197628328513,
          0.12166718246588185,
          0.0599257457293898,
          -0.08335049197386309,
          0.12068731214509079,
          0.051969625317302676,
          -0.13672599590086684,
          0.1379988072252669,
          0.11130585951317387,
          0.13087190539761165,
          -0.005770838792728411,
          0.0055357970478576435,
          0.13295462697537083,
          0.08671754220689659,
          -0.07387164590053855,
          0.00971082598767814,
          -0.08307485121381897,
          0.050344060129472734,
          0.05732313824539775,
          0.011142889902149594,
          0.030304727903726486,
          -0.09531681961906421,
          0.9652071015215454,
          1.0426841992793328,
          1.091243288373743,
          1.0351110658899387,
          0.9047910941811244,
          1.0570893911464505,
          0.8793167530444996,
          1.0324918959733356,
          0.9107003034115372,
          0.9054192540513111,
          1.0984762221069497,
          0.9917409539184209,
          0.8699904361685964,
          1.1151116864564223,
          0.8990711589200884,
          1.0000607272449236,
          1.1172690477793512,
          1.086366321030879,
          1.1371875667695581,
          0.8987997599018909,
          1.0360194769368922,
          1.1228851674215767,
          0.9092496303977643,
          0.8534312800752948,
          1.106449258013694,
          0.987869962538642,
          1.1022491865209094,
          0.9240787449305481,
          1.1327054436862014,
          1.1157121607298082,
          0.8661247781015138,
          1.0830306498395994,
          1.0321790219488696,
          0.9079296188361652,
          0.9913521934700569,
          0.909286052052777,
          1.123636690488076,
          0.8591634770059899,
          0.9518165093407469,
          0.9781061950080868,
          1.0806173483725119,
          0.9526152819241024,
          0.9268897349694835,
          0.8901669553901982,
          1.0088744815481607,
          0.8983177389202919,
          1.1094846711320971,
          1.0502823352266408,
          1.0624130154573166,
          1.0651181728088996,
          1.0640222226410425,
          0.8533203237470128,
          1.0446893118888496,
          1.0092225401360704,
          1.1282374040211383,
          0.9768460006901434,
          1.093181219168258,
          3.010122695314546,
          3.8909116656751337,
          5.108367329644053,
          5.139700180854542,
          4.972210434612384,
          5.025682450928818,
          4.863397748188159,
          4.997374262898904,
          5.021658312502326,
          4.94106769934662,
          5.045321071773296,
          5.145647056531699,
          4.987038914704177,
          4.966443022587662,
          5.913397044108734,
          6.006151401093931,
          6.117481110492814,
          5.998362809238366,
          6.073153878803466,
          5.85934113122019,
          6.070132068285359,
          5.903889173385108,
          5.924594802030719,
          6.091939942158735,
          5.9446514810337785,
          5.97659280642843,
          6.114174870881997,
          6.004607943245532,
          5.886751970931293,
          5.943879817582179,
          6.028693552844696,
          6.10113816115123,
          5.927077910165901,
          6.148458556723566,
          6.105844881775916,
          6.048796110851575,
          5.854926482113415,
          5.925710337168802,
          5.986509618531151,
          6.093015707537758,
          6.069414583045062,
          5.9862833961220705,
          5.90970217185947,
          5.8845903860975834,
          6.097261880791836,
          5.881526585248925,
          5.928575015154031,
          6.123003999544284,
          6.059729830191621,
          5.9398206005963665,
          5.9921806552238195,
          5.964610704665504,
          6.128816555005945,
          6.01645102739389,
          5.958687311121344,
          6.0079435496679405,
          5.859007795652,
          6.117617378698025,
          5.93491232853151,
          6.1475503439296455,
          5.946594171986828,
          6.964034211079764,
          7.88029567822336,
          7.954777055221727,
          8.083860277069341,
          7.938816768425985,
          7.915995367039677,
          7.8937641580772295,
          7.912988845767888,
          7.87007659847772,
          8.064211147557195,
          7.892058842034701,
          8.069053182886963,
          8.094274441579907,
          8.094947506045589,
          8.106784991669846,
          8.070352683307986,
          7.915381561972916,
          8.011461559425141,
          7.875650494454073,
          8.113032975630237,
          7.897793883211284,
          8.051349315751203,
          8.148272385274193,
          8.011277025003052,
          8.117621355673986,
          8.033368057865145,
          8.01513623320852,
          8.128899130766921,
          7.885270476111049,
          8.140245416685207,
          7.983064882793488,
          7.851206853432497,
          7.944512680079885,
          8.084256387275678,
          7.859190684835754,
          7.880026262574785,
          7.889186564876975,
          7.9339900060166055,
          7.968622974678704,
          7.930561468847628,
          7.945129483000446,
          7.879550558861174,
          8.110599608536855,
          7.9266975116318985,
          8.029883685928963,
          7.9077388760650775,
          7.979260966280444,
          7.994661914119652,
          7.9791459546057375,
          8.11295395561609,
          7.889191457854096,
          7.90774434177415,
          8.0396713514589,
          7.902214995524333,
          8.06323023736919,
          7.950745211638731,
          8.138112170658976,
          8.044582868692318,
          7.934332054653002,
          8.085956699544175,
          8.143384305108802,
          8.11158437413113,
          8.093108378432031,
          8.060340723276724,
          7.928581822650025,
          7.931247248347553,
          7.878409154299447,
          8.138314686830281,
          8.008183354024247,
          7.929259584820208,
          7.97193812994659,
          8.116031371465718,
          8.12475842210847,
          8.14472023495321,
          7.935982616782014,
          7.898515927128624,
          7.88319365521698,
          7.95444523989289,
          7.96375580825657,
          7.953725537890101,
          7.875733445770858,
          7.901474353754126,
          8.011824556852826,
          8.010286984068783,
          8.13110789754197,
          8.078640446137431,
          8.084451769460687,
          8.103366424479285,
          7.895569635467833,
          8.122823214406372,
          7.920877850425033,
          8.148592502164542,
          8.061892514494103,
          8.073305475792111,
          7.88300729376374,
          8.12291393973623,
          7.872013047584048,
          8.075090570710097,
          7.886052340097458,
          7.867463482495261,
          7.969340900369439,
          7.994635038895828,
          7.880704970447668,
          7.888099904198779,
          8.02296126944449,
          8.080980233452077,
          7.987577016944867,
          8.129637343752009,
          8.148436023864864,
          8.117657593131236,
          8.042363586109532,
          7.957030866655957,
          8.042328861242309,
          8.100571550293425,
          7.888142530278091,
          8.001502864974775,
          8.071038210144366,
          8.123842845718949,
          7.960200831910408,
          8.008252111144184,
          7.899448419777002,
          8.062084681323672,
          8.094089269870324,
          8.028457907315792,
          8.129269141447022,
          7.913436913752733,
          8.048470115292734,
          7.86488831978099,
          8.100961352265914,
          7.977077497720592,
          7.99028472315213,
          8.123025177739818,
          8.140408744988015,
          7.939733089952695,
          8.102723751139152,
          8.045154971660159,
          8.064535523645626,
          7.943906629106525,
          7.886376196182816,
          7.975702459469747,
          7.872277097180678,
          8.043065424548358,
          7.855065183246789,
          7.863390981684813,
          8.070610959063682,
          7.890411632345296,
          7.925568954589562,
          8.095067173439134,
          7.907566007054029,
          7.948915401306036,
          7.8733717618986585,
          9.042378769201587,
          9.023470309844106,
          8.99944415271975,
          10.887529018561711,
          11.032632354976556,
          10.91154466500496,
          10.901087939612436,
          11.008979908548584,
          11.130539870155838,
          10.97238875858044,
          11.028894957671524,
          10.913390131601734,
          10.892070598963102,
          11.11757946085323,
          11.03416774206694,
          11.107921057517569,
          11.082446978826107,
          11.083861845340238,
          11.086783375545709,
          11.024124514049728,
          11.079562924166607,
          11.100061009586831,
          10.930363738670769,
          12.112341420099458,
          12.012784989765734,
          12.051420663566189,
          11.863700734469854,
          12.146498893475849,
          11.940606160754562,
          11.93710377717679,
          12.05796318157271,
          11.906661941910334,
          12.143400410251013,
          12.132734480261048,
          12.097704991557574,
          12.08200510101767,
          11.853715681648353,
          11.899367173060382,
          11.86731662731993,
          11.898173153269164,
          12.10054385572416,
          11.878633007778966,
          12.05597703328254,
          11.993410169340923,
          11.994553309533151,
          12.072739763105513,
          12.00651275660595,
          11.895904619428105,
          12.100410452164088,
          12.031659673780295,
          11.911693282138776,
          12.063554076366518,
          11.941349753049959,
          11.960128345519548,
          12.028407730576172,
          11.996509848634833,
          11.89124057187607,
          12.037928712012814,
          11.914824723417592,
          11.898865766622029,
          11.928012849890342,
          12.117895419332427,
          11.899931279536586,
          12.095769020720132,
          12.122309778583018,
          12.041976527545097,
          11.972134087486047,
          11.986195933473828,
          11.982990501101282,
          12.028139923765481,
          12.13159530843073,
          12.85355851757344,
          13.018588103571206,
          13.000333355991334,
          13.137330426756012,
          12.850760560712748,
          13.086789895394894,
          13.124771059683317,
          13.113713450165603,
          12.935396963468248,
          12.895499088082346,
          13.118611732077763,
          13.04346384567118,
          13.035440925359953,
          12.973666569972275,
          12.878088782725555,
          12.852967299114795,
          12.886762563350183,
          13.03825464132032,
          13.148549367847222,
          13.072551600595135,
          13.11627145135285,
          13.038878461333482,
          12.980210335209728,
          12.994037977815752,
          12.980227391872484,
          13.057850286150135,
          13.116195009222851,
          12.881437676704092,
          12.977347580447017,
          12.897651391511104,
          13.087017517572777,
          13.069552971998329,
          12.974750239500823,
          12.895242601426073,
          13.03606006270987,
          12.858412307494588,
          12.914036584927032,
          13.075964180174392,
          12.946509999106587,
          12.966414671920488,
          12.904137116924586,
          12.903967669567226,
          13.07490449164588,
          13.132258022522274,
          13.10584224832464,
          13.017363220168983,
          13.145264005020746,
          12.8636491122757,
          12.97575422300127,
          12.999873879799763,
          13.003695727474534,
          13.118763403314356,
          12.96869512861744,
          13.003360790633458,
          13.0803783489271,
          12.949362383839759,
          12.945572327094071,
          12.908983604614223,
          12.904279545218358,
          13.055400780732326,
          13.125336553460903,
          13.038111231393783,
          13.143301699424061,
          12.925560856906435,
          13.025174835213944,
          13.956413462972442,
          13.977874023810006,
          13.959800709825075,
          13.874885716376317,
          13.960617970553258,
          13.865890984060771,
          13.874025602711066,
          13.99747467893701,
          14.06490219390039,
          14.131939613467893,
          13.968603365301112,
          14.114363323490611,
          13.98832562233223,
          13.997734083213487,
          13.87490770054627,
          14.005344978946926,
          14.01255221589782,
          14.013616653999756,
          13.976313314970831,
          13.857684398369047,
          13.958764350336828,
          14.146552486860541,
          13.940506699710065,
          14.048433662749625,
          13.974973141975255,
          14.02260530613246,
          14.057376000697362,
          14.03774650388185,
          14.090995253995015,
          13.871119943902027,
          14.129979138822733,
          13.920681568131462,
          14.02017460849926,
          13.966721715573113,
          13.930149408854394,
          14.016953047670988,
          14.140265332374563,
          13.877466141733972,
          13.979967762725488,
          13.992000932566407,
          13.958848005741217,
          14.005493676214419,
          13.9387369368946,
          14.117901683152146,
          13.907069686041591,
          14.072596861722555,
          14.133426341456945,
          13.856494238779414,
          14.011013290183918,
          13.996146294328952,
          14.14373152342012,
          14.059864416909887,
          13.889549652554411,
          14.121963755490789,
          14.114461518492192,
          13.908198330535546,
          13.8895205725637,
          13.886741492947555,
          13.919480327012678,
          14.125834247314618,
          14.006302310478146,
          14.037719429638283,
          14.045418080481964,
          14.035113554975007,
          14.075898465364697,
          13.941838096587498,
          14.024372597857989,
          14.146437570010448,
          14.094429601020089,
          14.112851756733956,
          14.038259571243797,
          14.04834680868355,
          13.905178763541965,
          14.030080726390647,
          14.009630362746947,
          14.014908966953941,
          14.079793658236605,
          13.895453844316291,
          14.053367203361486,
          14.024868021512043,
          14.05365820866985,
          14.095061642470723,
          14.045139033871068,
          13.868290783146517,
          13.931044806509785,
          14.11030334517056,
          14.020478741345405,
          13.956279973997916,
          13.954486565191024,
          14.037010861709717,
          14.010625793207376,
          14.123075508109187,
          14.04715410834324,
          14.026094498395038,
          13.94045278531903,
          14.044930959667985,
          13.89992795966509,
          13.978943771505644,
          14.104548078201518,
          13.988888197366784,
          13.936214372459624,
          14.026912216617427,
          13.86751277092323,
          14.00302823443022,
          14.126415785102536,
          13.851935705466202,
          14.076641634261215,
          14.084044143861188,
          14.032480788059992,
          13.932552865860039,
          13.882259659587234,
          14.120988958946112,
          14.048994563010524,
          14.085975338014876,
          14.121635084969471,
          14.013063628324725,
          14.13634622255777,
          14.144423646589763,
          14.091682533997252,
          14.145400925600544,
          13.945117205047321,
          14.006464440896114,
          13.89589203841686,
          14.110913558032381,
          13.862372279727879,
          13.884784816696357,
          13.851793176967504,
          13.996878784449583,
          14.146429013936899,
          14.1304870956089,
          13.92166793286346,
          14.1357559420465,
          14.06854472683115,
          14.115197976114787,
          13.943528206359828,
          13.99783789425244,
          13.92721166973243,
          14.127325804415534,
          13.880015705327278,
          13.953848062081924,
          14.132280317550785,
          13.861894813544938,
          13.967449637618003,
          13.955969373024347,
          14.063107033736296,
          14.14748561832708,
          14.08079893520246,
          14.091780741037923,
          14.093284626441271,
          14.052373326077342,
          14.002227916782394,
          14.095155501949653,
          14.11125093573566,
          14.137703019824132,
          13.990005920759375,
          13.892875735717459,
          14.127821528120423,
          13.981076449309407,
          13.892997536475727,
          13.86877433894327,
          13.874039151063892,
          14.063123526471957,
          13.863452104249456,
          14.136996100564504,
          13.871260118485933,
          13.996463075186442,
          14.026061082577543,
          13.866365581872868,
          14.065449429516052,
          13.935316089173636,
          14.099674185832571,
          13.932339681938558,
          13.909075416158563,
          13.977740341048182,
          13.93090643362634,
          13.870566380886334,
          14.107203630790435,
          14.035521484396476,
          14.12628719577352,
          13.924890060558246,
          13.93851953948056,
          13.97637906564981,
          14.069950486015555,
          14.047332081009266,
          13.858693987020322,
          13.853436782507925,
          13.889078427125694,
          14.009138298951832,
          14.11575883967847,
          13.86157784068692,
          13.88749693283492,
          14.012462686811864,
          13.96442736045531,
          14.078967439906924,
          13.879503168009514,
          13.953822371908412,
          14.074427390611444,
          14.032520780856597,
          14.126495833997144,
          13.957522357478691,
          13.981619994349458,
          13.897420896904931,
          14.14714718653096,
          13.933866606081201,
          14.017144719730918,
          14.124590709500978,
          14.050045388935823,
          14.027611923068173,
          13.996587905743105,
          13.944078745821164,
          14.041648193383924,
          13.860178613086175,
          13.86619868780929,
          14.037970648263991,
          14.026036843089507,
          14.000778599023398,
          13.85602581244523,
          14.03150320497213,
          14.029253886109172,
          14.007964616963013,
          13.889248240890804,
          13.949334622566248,
          13.86030014705816,
          13.974995355871252,
          14.024063632730485,
          13.985111653385223,
          13.87590017196425,
          14.140431925975092,
          13.97284146006164,
          13.975698110437115,
          13.964425786934486,
          14.118913357234906,
          13.944274969419439,
          14.092904911018602,
          13.922263069865016,
          14.000200389554927,
          13.883721944510192,
          13.948940099678348,
          14.076018236923126,
          13.906968441824231,
          14.069938434997662,
          14.037406193350467,
          14.05290319230937,
          14.060516124686316,
          14.075304234602335,
          14.012758131623798,
          14.009631085907918,
          14.08411254930879,
          14.040954434736413,
          13.892379435311895,
          13.888186956774698,
          13.965424183407265,
          13.895049420120383,
          13.874251126338809,
          14.106074201621661,
          14.05206775686669,
          14.125285474482807,
          13.94955854446046,
          13.91071498062737,
          14.097584474999136,
          13.889316082625028,
          13.875989330199623,
          13.873752302566228,
          13.923246749638682,
          14.005124301671662,
          13.858562435069345,
          14.067798717976219,
          14.051224064211384,
          15.055546478212658,
          14.895922779402367,
          15.020872527619723,
          15.078742597462456,
          15.14361656113485,
          14.984263358999943,
          15.040443039060241,
          15.03027119273704,
          14.907423787326183,
          14.919159468215565,
          14.998113759832432,
          15.039030363446885,
          15.06823843190949,
          14.868953366601707,
          14.930141211975142,
          15.026125476448625,
          14.851893628017608,
          14.998478076156529,
          14.871082577303659,
          15.03831155490671,
          14.906817165377495,
          15.077188077378274,
          15.016889598513801,
          14.92301180471239,
          15.13031808906157,
          15.017651268962716,
          15.052397894700231,
          14.977878072043447,
          14.909276339197945,
          15.118630980342994,
          14.967703308518097,
          15.005352964994307,
          14.891503849369203,
          15.049233700214527,
          14.871156326307823,
          14.977369397759269,
          14.85326071460774,
          14.906559949156403,
          14.971671135792995,
          14.982004718110089,
          14.994176280126839,
          14.893144586092975,
          14.8604756086731,
          15.146051962305862,
          15.00393770994905,
          15.044213291843953,
          14.961849176891105,
          15.118744032590648,
          14.936156772748378,
          15.091093087884483,
          15.065377404815091,
          15.054434644540233,
          14.911386025103,
          15.061308340685045,
          15.076895851910407,
          14.973724240137946,
          15.066622565520616,
          15.01139227845332,
          14.949220572384684,
          15.044252205546947,
          14.998354875424559,
          14.94220900201735,
          14.959434914420159,
          14.983414036210709,
          15.12486389000242,
          15.114380661493446,
          15.037647888243614,
          14.904943131065812,
          15.01741257661639,
          15.110141580407072,
          15.05166157893464,
          14.93760044373909,
          14.917681561771621,
          14.903089173606903,
          14.86830105783497,
          15.13060700707782,
          15.128790636033802,
          15.079724398984721,
          15.04225629353629,
          15.07125203154217,
          15.133323113561904,
          15.11687257894363,
          15.010836714008635,
          14.993182254073771,
          14.943388642171083,
          14.95448244027287,
          14.991169622219978,
          15.112781625840967,
          15.01850261272665,
          15.011951604456348,
          15.124084272301255,
          15.132356196977092,
          14.93730133603208,
          15.054904403500641,
          14.920407297878768,
          15.059902331435183,
          14.974366618870198,
          15.014715338585676,
          15.115710651866879,
          15.013845664318561,
          14.885319568221696,
          14.861984585922341,
          14.901224885816008,
          15.003508673398652,
          14.995868617985156,
          15.015618411993291,
          14.892455286425431,
          15.055335431231057,
          15.07122252729441,
          14.906746428285183,
          14.957591086768058,
          15.07163002821841,
          15.054927780188523,
          15.135558162494117,
          15.006279192654437,
          14.97521311314589,
          14.856057911924246,
          14.851111424146113,
          14.923642612235822,
          15.011119718207414,
          14.8728831961032,
          15.061970779187332,
          14.867368182010859,
          15.005961117832586,
          15.128156407601711,
          14.85739799582329,
          14.91317015547145,
          15.061106364811888,
          15.008931774768499,
          15.11406019284895,
          15.111085569132694,
          14.9305992506522,
          15.058140826840239,
          15.036028588203767,
          14.993436806753792,
          15.06945534628903,
          14.856199197551499,
          14.924329828902868,
          14.985924957901988,
          14.897071673234796,
          14.934320601844602,
          15.003654539976614,
          14.881082848199462,
          15.095854741503599,
          15.105750090059264,
          15.125384143511491,
          14.916162691392183,
          14.977334034691436,
          14.884402818246594,
          15.033975547963049,
          15.0454568287344,
          15.1160339323578,
          14.914315884298375,
          14.951997933399598,
          15.105398952159083,
          14.977528435882503,
          15.022459879150045,
          16.05683404093551,
          16.07854789794059,
          16.053328590451727,
          15.969487860038363,
          15.887578371660924,
          16.024133156217168,
          15.994796457500904,
          15.998785124679035,
          16.061199304128934,
          15.962157992815278,
          15.857563390639404,
          16.076620013355,
          15.870013490085011,
          15.988718105951651,
          16.14845882624633,
          15.860487956691534,
          15.929439779927582,
          15.876975535441316,
          16.034462627638508,
          15.899266283232613,
          16.006844208522157,
          15.899847731963016,
          16.083254257735696,
          16.142449900712325,
          15.866803743126392,
          15.978044740965593,
          16.07427601742847,
          15.958462241823193,
          15.992524672957677,
          16.118677343750157,
          16.042198230901043,
          15.982760738530597,
          15.929331239089294,
          16.122569616936374,
          16.01881305787113,
          15.888902167146163,
          16.051283093023905,
          15.90368135205879,
          15.877602618019255,
          15.912063886562121,
          16.0077409013067,
          16.1130301711721,
          15.92674777750546,
          16.116375442622992,
          15.951684176230172,
          16.08138728369872,
          15.868708303553834,
          15.956528346497173,
          16.015212730565434,
          16.052415188137715,
          15.924210956396973,
          16.029533895733238,
          16.0127309377817,
          15.895763900472488,
          16.08974412344895,
          16.00861087932612,
          15.879172217149662,
          15.96811167105663,
          16.032240673861967,
          15.94663815481108,
          16.016630005193893,
          15.898377916558953,
          16.05543654355043,
          16.07902712299555,
          16.135540471410472,
          15.906589119417653,
          16.09039229558388,
          16.129053402886676,
          16.036134737239514,
          16.097717026061822,
          16.028263431360582,
          15.87819860095256,
          16.054842961016274,
          16.054349052204532,
          15.918940385899514,
          15.917867984930755,
          15.87909579443204,
          15.987941607030319,
          15.97734167301184,
          16.116687524104524,
          16.09260209945513,
          15.929296806852301,
          16.106269176367313,
          16.14825093637964,
          16.13343759239397,
          17.002991825730536,
          16.959662005681135,
          16.929443310298403,
          17.081540148243054,
          17.000884400579366,
          17.142793629666542,
          17.132346143655276,
          17.124165387545528,
          17.084066996712245,
          17.07825432593595,
          16.892657954662187,
          17.08171920098877,
          17.01043546221179,
          16.91644792625037,
          16.97671091601308,
          17.115655797265443,
          17.0318017452203,
          16.98743556177447,
          17.10645755299728,
          16.861972363503853,
          17.07677729589778,
          17.08164339454417,
          17.102912604533525,
          16.85180421322376,
          17.081863918450473,
          16.98738843570683,
          16.8870650072702,
          17.13394134439687,
          17.01504746755141,
          17.058569753665914,
          18.10480908054777,
          18.036475555108062,
          17.913354075566982,
          17.867545164120482,
          18.08428929803961,
          17.887193120234734,
          18.086149074469446,
          18.09813185161896,
          18.138728427128314,
          18.076446822210652,
          18.05406576109571,
          19.028729555693044,
          18.97012068249676,
          19.118747291010724,
          19.052731843034636,
          19.1485085878168,
          19.127698191368935,
          19.02537773208124,
          19.03287850044925,
          18.850133637301806,
          19.062457137192528,
          18.995696729930593,
          19.014350392554245,
          19.006381096550854,
          18.914003670996863,
          19.038605717706893,
          18.966890658901363,
          19.090139425104613,
          18.914243323396484,
          19.096534686840567,
          19.11145574989925,
          18.938267042625306,
          19.128605060004674,
          18.93221765704262,
          18.93004640401921,
          18.850516037991458,
          18.95465790163738,
          19.042613076767008,
          19.103963075292892,
          18.973269585894244,
          19.07902377930101,
          18.928907989186364,
          18.952664650685943,
          19.10165936122352,
          18.99211552628972,
          18.932041093580207,
          18.95209941295112,
          19.117129032434846,
          19.014545354977873,
          19.045209205632958,
          18.97703762047004,
          18.871324661596056,
          18.995622483719504,
          18.976582461519072,
          20.023081980053895,
          20.102029507739122,
          19.89986786810997,
          20.13192264068888,
          19.891236813430613,
          20.05023822216673,
          19.999741899926892,
          20.14116842585369,
          20.12490269679628,
          20.09646969944675,
          19.858928556260036,
          19.891736858947585,
          19.9288932707309,
          20.12278666368838,
          20.0284083272482,
          20.106422150124732,
          20.01900252486162,
          19.942241346817337,
          20.018110467434582,
          20.115956270523345,
          20.024793733145057,
          19.951781935346443,
          20.067572012669363,
          20.015857941080036,
          20.035171423373257,
          19.949592585818515,
          20.13969549511223,
          20.121961390770085,
          19.88143059413692,
          19.958148342956605,
          20.05244157455361,
          20.146081034886226,
          20.099441407272742,
          20.08747185414281,
          19.987103769780653,
          19.92803997879339,
          20.010929296877023,
          19.890091539434103,
          20.061754270991976,
          21.133906344745483,
          21.068527865332715,
          21.13582099839747,
          20.966355118171965,
          21.11532112357076,
          20.979947807468143,
          21.04344671028776,
          20.86280220732214,
          21.081762650628047,
          20.952576700716563,
          20.969794641629164,
          20.87032430736194,
          21.039952819100172,
          21.055031246476677,
          21.071408462718008,
          20.970284451040566,
          20.87119459024482,
          21.109552976404263,
          20.984059948358826,
          20.86935148416496,
          21.065934376263037,
          21.043321924855835,
          20.901083935527137,
          21.02283505011208,
          20.92877371797125,
          20.939320524070126,
          20.97092124222989,
          20.941720481255892,
          20.947949937848026,
          21.106753139731403,
          21.08486841288356,
          21.034182707783337,
          20.99090762356098,
          21.016497915536945,
          20.95286621308039,
          21.14983833270602,
          20.901843862274742,
          21.134596102122742,
          20.957442076672805,
          21.03498991176407,
          21.03620989499052,
          21.05749510028077,
          20.919370942240587,
          21.073550414158614,
          21.0524517355938,
          21.095875663846915,
          21.08109806824202,
          21.02616251037671,
          21.048112452363537,
          21.04697242660844,
          21.137578399701265,
          20.89979515823835,
          20.9063338523817,
          20.938852175704916,
          20.95757941178149,
          20.880087675276474,
          20.943168052327017,
          21.00361150808014,
          20.96041559947501,
          21.131405252915652,
          20.914779597012647,
          20.868848791976944,
          20.916984124985287,
          20.875242908453462,
          20.96729599024584,
          20.86380393561126,
          21.050054088483723,
          21.007147113696973,
          20.999676866171114,
          21.089136376762017,
          20.99376487796017,
          20.898057874955253,
          21.07407380427964,
          20.9083426870136,
          21.024095226406764,
          20.957669278375505,
          20.9695775667231,
          20.89333754168601,
          21.09256567595756,
          20.85689549384777,
          21.000840761717246,
          20.96539057520523,
          20.901751184745468,
          20.859387871944914,
          21.142303641195962,
          21.087326483332863,
          20.882108034513188,
          20.91187945558022,
          21.09626908584027,
          20.949856798035356,
          21.007560362156703,
          20.88973593610692,
          20.91467558930293,
          21.020759262778682,
          20.980388133023837,
          21.098818471289604,
          20.981218288610226,
          21.01875111900398,
          21.14389714935136,
          21.030348471021167,
          20.860525721951497,
          20.99465113310182,
          21.087072082255816,
          20.906362987648148,
          21.144352152460893,
          20.906794075353254,
          21.14531296029366,
          20.876432046532397,
          20.91596469660339,
          20.990128948843143,
          20.94700317741217,
          20.862960569112957,
          20.980007066412764,
          20.870290289198937,
          20.91971008533155,
          20.860191277685573,
          21.123042912741273,
          21.044877805595597,
          20.88606228547945,
          20.984932058607438,
          20.971106552601793,
          21.04559920776545,
          21.131794291164933,
          21.00016405594946,
          20.947602675233053,
          20.89226788767692,
          21.019915749598134,
          21.062107491124387,
          21.0517303337582,
          20.94827624993482,
          21.07080477091919,
          21.061361321557623,
          21.126347932806222,
          20.879055034078576,
          20.984028000054575,
          20.993312614964353,
          20.978867226026097,
          20.88166581815352,
          21.071665990609336,
          20.996793711900462,
          21.027270768528435,
          21.128269389068972,
          20.973108567393275,
          21.084452849731328,
          21.09841238463387,
          21.12009296910751,
          20.938527552705544,
          20.89154765585831,
          21.038622038837975,
          21.038712213030188,
          21.051424056673056,
          21.137091533935145,
          20.92381371624206,
          20.91175880262764,
          21.139796581887232,
          21.10645329154778,
          21.025581594323537,
          21.087443305149325,
          20.9786677989984,
          20.943451505049673,
          21.074023262239486,
          21.143641387379517,
          20.92446755987212,
          21.113107412155824,
          20.983291693284023,
          20.960939257897223,
          21.085838907822584,
          21.08526495674043,
          21.02339885464472,
          20.979450047697313,
          21.132445913319962,
          20.87715936711368,
          21.087678380662542,
          20.962675605778696,
          20.94957826203658,
          21.0113625380186,
          20.940516213599643,
          20.898381191924084,
          21.058512921364724,
          20.8744446580711,
          20.923278095252886,
          20.853579924755525,
          21.054387902089168,
          21.105253654094096,
          21.127499953847693,
          20.948593138789263,
          20.938134522656952,
          21.140059983600185,
          20.939069173615383,
          21.130433104874587,
          20.979457714809676,
          20.89976500682902,
          21.021611046024326,
          21.112547401381278,
          21.09279586138228,
          20.952315456007707,
          21.016600329833324,
          21.06868673272685,
          21.14273960550439,
          20.899693841891825,
          20.950997304899005,
          20.86640412605972,
          21.00726076957322,
          21.054107017649308,
          20.875305426200324,
          20.860361754672514,
          20.977592512341,
          20.890500912999517,
          20.950072603162877,
          21.121939443821724,
          20.897867010734064,
          21.016187747615618,
          21.114664567869053,
          20.8566826727359,
          20.871514293950277,
          21.044425428726743,
          20.89380326172224,
          21.11920620968112,
          20.857420429169615,
          20.907807380160303,
          21.02752272464126,
          20.905531124269146,
          20.981473792886835,
          20.85232210139604,
          21.029474436263122,
          21.13656814168077,
          20.882152986531192,
          21.033055843652274,
          21.1005791117524,
          21.119787338127047,
          21.049398676789995,
          21.052631034024653,
          20.87682183593556,
          21.019812011047662,
          20.895204995032675,
          20.91150953084784,
          20.880042470066453,
          21.126231823845536,
          21.045932632243105,
          21.14745124446678,
          21.13807308139203,
          21.067385655112997,
          21.042939084311115,
          21.121777249638907,
          20.981698965249727,
          20.928116999982336,
          20.990249463232374,
          21.06333447173343,
          21.120740254616415,
          20.952185909329696,
          20.854792145896056,
          20.871798665259263,
          21.08384010942879,
          21.052307486048598,
          20.981373195553022,
          21.127519922978735
         ],
         "xaxis": "x",
         "y": [
          0.07619201994967514,
          0.9673860556207187,
          4.141343551309173,
          6.060440429570953,
          4.144532421815876,
          5.0689279216251535,
          5.0050887878616575,
          0.09009999409118036,
          6.000985584517212,
          5.964676064288253,
          6.1230288380126625,
          6.082998164025596,
          5.996310035038544,
          4.921084491652421,
          3.982836567630849,
          6.0902698226767855,
          3.930301329870857,
          5.97484914769605,
          3.896182869567116,
          5.974216524805744,
          4.145121500254248,
          4.893745719533097,
          4.880035170586252,
          4.983225602513089,
          5.087920388595926,
          3.0935353847806577,
          3.9844930980895517,
          2.0190035171185365,
          1.8990380719981796,
          2.134021837643445,
          3.9620267321692904,
          4.120867173498805,
          1.9340600509257435,
          3.8598559857203525,
          1.1199305867171252,
          3.939078407931255,
          1.0979655402554116,
          3.08181148793176,
          -0.14322184206979977,
          3.8672551724430106,
          6.010056773915885,
          2.000532219742573,
          5.142674507672819,
          0.08800134206229257,
          -1.8940807940135398,
          1.0479711887757066,
          -1.8511848535673199,
          6.015509651264988,
          5.134038093943029,
          3.099050616645425,
          3.0451572544749927,
          5.018129499838267,
          1.9348736461119995,
          2.018535093425957,
          1.9549952295112971,
          5.918227874395736,
          5.925033233947287,
          5.867282816871839,
          5.060431724857249,
          6.130209989037329,
          2.0967391384880667,
          -0.9400743203176534,
          1.1387547283156876,
          1.0486147575823859,
          0.8546391393780988,
          -0.1168059450626772,
          2.095277834363466,
          1.9244407984808187,
          0.8689176405387243,
          5.873618053138706,
          1.8543491244881845,
          2.9519510249178538,
          3.068996981148435,
          3.9144806937652783,
          5.916117136271269,
          3.013332857138459,
          2.1005151258860497,
          2.9149557847319842,
          4.054542424952402,
          -0.9091274435358262,
          2.9721944593211416,
          3.104878165566556,
          3.882268776419327,
          1.8502061649497534,
          4.07776748831413,
          2.8719281422393297,
          1.9988361496637406,
          0.13872837155203502,
          -0.12126268885376351,
          -0.12171739047659355,
          6.141645983580656,
          0.8543520803771127,
          4.0648046906571755,
          1.1301395841470785,
          4.094038693576364,
          1.8919020268616944,
          1.1326252351166417,
          6.017598521685843,
          6.113768186414359,
          6.1402270966693235,
          5.110475566585865,
          5.985187131861977,
          4.145706016772083,
          3.944461433598428,
          3.978033696009668,
          1.96058921815636,
          5.043287887905652,
          4.940707265244537,
          0.9494935166709471,
          5.001614454287299,
          4.030245071352782,
          3.9957031389288336,
          1.971599225318151,
          3.8885268462868767,
          4.127644078708256,
          3.8585776717963376,
          3.055591001838992,
          1.959466633021594,
          2.123386005090396,
          3.9410222204318472,
          3.851174711000751,
          3.006739716847971,
          5.936787952785183,
          0.9150964147915442,
          5.931007801323265,
          5.924975727366624,
          6.0439117311897075,
          5.980891729395805,
          5.913379947494456,
          4.989901953150992,
          6.044454449437635,
          5.9279860100137896,
          4.926680438661416,
          5.919362893480029,
          6.028544555949566,
          6.040007134233329,
          5.900178526469451,
          6.083995672070326,
          4.048331823860093,
          2.04312749537543,
          2.892501601596458,
          5.09918849351106,
          6.00845262149046,
          6.014514081279745,
          5.974937786397443,
          5.890962428729777,
          5.966817272152743,
          6.147476952457752,
          6.111027495160867,
          6.038324384136734,
          5.909850591383642,
          6.087694804137768,
          6.132124968638495,
          5.995102344893634,
          6.1105115865603565,
          6.067744423182951,
          6.14199973039893,
          5.968870425417917,
          6.134272304993919,
          6.008948845689646,
          4.093747124516787,
          2.0184450231120095,
          3.0079758514940744,
          4.1325008276709765,
          6.130716410924943,
          5.968288314575,
          6.0245609621744105,
          5.9651482085186815,
          6.052849154110552,
          6.104271581796076,
          6.040344925965143,
          5.9985217179933805,
          6.046947510701974,
          1.9580171132365545,
          3.1451226243836294,
          4.089729399292845,
          3.9185355781943825,
          5.902988236729736,
          5.943740503716504,
          1.8707840200139434,
          2.9619127678364014,
          6.130745686204515,
          3.0146131469792015,
          2.006001015975358,
          1.1120456723420375,
          1.0375566447804951,
          -0.07067115307979675,
          -0.07028253712807161,
          1.9220187288361692,
          2.036933412515114,
          2.8800129851119163,
          0.9736216294670534,
          2.935225318295891,
          0.1315693566621273,
          4.084820196441453,
          0.913277834660681,
          4.004084703005871,
          4.954821615677685,
          3.963878171660358,
          4.851006930798036,
          4.99266678856292,
          5.075266054794969,
          5.021605505293209,
          4.8725540850886455,
          5.126525206075724,
          5.102880436539701,
          4.853885446128385,
          5.1352983928601965,
          4.987253590012309,
          4.93303292599991,
          5.072708696183254,
          4.850513694007152,
          5.109772161869666,
          4.927705632839207,
          5.044816198994422,
          4.919711764359629,
          4.9008749239817435,
          5.050795334249572,
          4.915660571666669,
          5.094760228353861,
          5.061045632769245,
          4.941957409138782,
          5.1042230901230665,
          4.894132708083504,
          4.988622765301789,
          4.99487204487805,
          4.980814151847958,
          4.931065270921659,
          4.944202044253826,
          5.076959903357246,
          4.945869034447667,
          5.030387110976138,
          4.881936389740371,
          4.879850706315635,
          5.119084618436632,
          5.048587322766348,
          4.858885706768201,
          5.119290937596942,
          5.092239055563033,
          4.043011380304452,
          5.006843278241506,
          5.015222380118349,
          5.110174263743756,
          1.9577105312884893,
          3.986206498998392,
          3.9624952806823455,
          3.95939573951134,
          3.9533066612309797,
          3.850957882330051,
          3.961541931312669,
          3.9651417011025045,
          4.102753713089757,
          3.96939788937567,
          3.918343548710687,
          3.8988573406755513,
          4.067745540883544,
          4.0696186776358285,
          3.8833964434878614,
          4.043082475837929,
          3.9110127507947308,
          3.970916972737747,
          3.9558112676520656,
          3.9779688996812355,
          4.075395184839645,
          4.05308788186326,
          3.903101328036015,
          4.054032888108702,
          1.1252406733643443,
          3.102828999567082,
          3.991939383959637,
          4.116058809269372,
          3.9359826006188507,
          2.007734925819818,
          4.08267506600729,
          4.047912440802821,
          3.998784790002752,
          4.027041766256193,
          2.071739206776132,
          3.117060247067113,
          1.877254693541717,
          3.97027281548511,
          3.992167870434751,
          2.078966050625443,
          2.136558574821627,
          0.89808205381556,
          4.141068683925451,
          2.014482141698359,
          2.9849187703123654,
          1.9891111618258424,
          4.107939285068238,
          3.882331342749299,
          3.9332092095969062,
          4.109386701137076,
          3.9872692806561045,
          1.9132101716171317,
          4.06131416253933,
          2.1174406348084815,
          4.082361968615082,
          4.013328999238397,
          4.06118368951193,
          3.957717619625763,
          4.088937429728499,
          3.917054691451093,
          2.0492918012114347,
          4.066196075461387,
          1.898606426014777,
          3.8648560413017083,
          3.9086344993141657,
          4.11772972769641,
          3.982845565050585,
          3.0207996140024056,
          3.97927690382424,
          3.9087149765230644,
          4.062886196835255,
          2.852062540319324,
          2.9712638984025737,
          3.1497893016134566,
          4.082243353100453,
          2.96382082070817,
          3.8873313718475684,
          4.090166523697748,
          3.87219879327423,
          3.921252788588054,
          4.08320838592688,
          3.987044410803069,
          3.946997830303552,
          3.9500775656400102,
          4.058486582264796,
          3.8772062977463504,
          3.8651901654274927,
          4.023368391303881,
          4.006571438449747,
          4.117918864275978,
          4.111349331837836,
          3.9587480605473147,
          3.8789538474294845,
          4.045640697942565,
          3.980169225797596,
          4.108837649983694,
          3.9911811355105815,
          3.08603153135274,
          3.9607463176408317,
          4.015659382604166,
          3.8922419523201297,
          3.908090693928328,
          4.074157353463012,
          1.891060829459624,
          4.03911935814812,
          3.8832936797873514,
          4.001439039148182,
          3.925594424922285,
          4.149928587232608,
          4.022035579605477,
          3.9074850833536905,
          4.049870420218667,
          4.084122706197416,
          3.8594944929557884,
          4.084363514777674,
          4.040472881632724,
          4.008384991003934,
          3.870158183381028,
          3.9746780537914037,
          3.8630444875405328,
          4.142983277784695,
          3.886849660790614,
          2.922522883901631,
          4.146284285179288,
          4.056852655158213,
          4.139826216553382,
          4.013855867387698,
          4.128780437343359,
          2.1291874857808852,
          4.110109455917079,
          1.0311704084882143,
          4.143201700086536,
          3.8814031574004146,
          3.977156518741651,
          3.885044026964914,
          3.974689963592427,
          4.089526966421566,
          3.9300769945556855,
          3.9708218188223574,
          4.135336256039737,
          4.0699495654319895,
          3.017565865622821,
          3.8660311888794183,
          4.142953428759653,
          4.022628270138193,
          3.8512930975154474,
          3.971473403855605,
          3.8605811646912676,
          3.854242661891334,
          4.132094258699721,
          4.012150522283562,
          4.85086203783546,
          5.075170775329459,
          2.8746371089007647,
          -1.0664563488536358,
          -0.9058559534002553,
          -1.9658929733178079,
          -1.963374751441601,
          -1.9432118919252457,
          -1.1246423088330524,
          -2.094731272740729,
          -2.0689078749746765,
          -1.087776266100551,
          -2.0030685626486147,
          -2.0231126803842137,
          -2.0949158762464597,
          0.06712351924655027,
          -2.1357980942982286,
          -1.9475957972008955,
          -0.08796274237832047,
          -1.9854680035896406,
          -2.0482122068380075,
          -2.0351231235123044,
          -1.8949908724918663,
          5.949567372448326,
          5.881384424307203,
          5.916155315673851,
          6.141065423305842,
          5.94942176827174,
          6.0410848721051496,
          2.025761113272731,
          1.8666336405408548,
          6.120009877086084,
          6.115266954376416,
          2.935773857541209,
          3.0017202691313374,
          5.933511344213789,
          3.1329857904219005,
          3.118322953446595,
          5.94240718149628,
          5.986562683891694,
          4.868681637789432,
          5.001110978810343,
          4.943686662609948,
          4.85478421749883,
          5.9151891398241565,
          6.016472368259433,
          6.097266807537071,
          5.922741684791808,
          5.904825207404998,
          5.990172450432623,
          5.117179232519132,
          5.9175125441182175,
          1.8917155114174382,
          2.13571856751243,
          1.8544486214216538,
          1.9344994978252412,
          1.8802375472393653,
          1.97267229176336,
          2.019505625329008,
          1.9444008899037994,
          1.9642105592396786,
          1.9072309570632617,
          1.8548974647111507,
          2.9457115069918194,
          1.9018673692558614,
          5.926424436956566,
          6.009284897938046,
          3.126053864515434,
          4.05499344194207,
          3.0390723774420874,
          6.144738215190715,
          5.929113161851629,
          5.957366725780532,
          6.010913844263368,
          5.954626586358439,
          5.883277596669338,
          5.9896372581710215,
          2.954935471137557,
          5.893052207135704,
          6.106327913508539,
          1.8917146536784206,
          1.9497172153412081,
          5.968546326688258,
          6.063563052611721,
          2.9308921526153466,
          5.859206590383481,
          4.856202866839087,
          5.909917784606478,
          3.019178130703158,
          6.039785078568344,
          3.9178156077564963,
          6.139957891100428,
          6.11571221388613,
          6.068777812179079,
          4.0952425830540955,
          3.9838401118609768,
          5.928813133004286,
          4.059710419581416,
          5.857508288208477,
          6.0494394491030175,
          6.135402981287766,
          5.914049130368807,
          5.971043741060558,
          6.077220302746497,
          6.112870051158433,
          6.042552684533746,
          5.865753288372292,
          5.965200515109385,
          5.874671010716244,
          6.066421640305274,
          5.894114315625298,
          5.936738392680029,
          5.9876848479924165,
          6.127379052609733,
          5.898299815738495,
          2.1010158055950225,
          1.8675676330012623,
          2.095454487185008,
          2.0952091119947815,
          1.968734651292881,
          1.988038434123507,
          1.8649909788518695,
          1.8609647110694358,
          2.100535765977459,
          2.9937291003185647,
          1.8927486246617515,
          2.098661065865931,
          1.9785172285469805,
          1.9685407483120958,
          1.8644736335819008,
          2.0935848269473696,
          1.8996351872686077,
          5.859105396700713,
          5.915792993690909,
          3.09984878165894,
          5.901059150223722,
          4.889500357531578,
          5.108750867905717,
          5.0655334545661725,
          4.894442067276233,
          5.072528335257233,
          5.101898432690596,
          5.135266662219609,
          5.051541583057462,
          5.109195042581164,
          4.998596544647349,
          4.992889194196111,
          5.008683206955963,
          5.100395337553141,
          4.972982934500515,
          3.0796143918097036,
          0.9394972830970514,
          1.1272903721678587,
          0.9289463335905239,
          0.9290277043559155,
          0.979923626181773,
          1.1378135324946517,
          1.0150101962627815,
          0.889897763504058,
          1.120170045015513,
          0.9913807727113517,
          1.0236164857560284,
          5.121769634049922,
          5.065309546136866,
          5.091822856163787,
          5.063242200513846,
          4.8541119602553735,
          4.880706840188164,
          4.934240590526019,
          5.113915612846393,
          4.947970618612663,
          5.101778018090968,
          5.034107973832832,
          4.8657253519435235,
          4.984327864781866,
          0.9610992220315159,
          1.1238079177135103,
          1.1160079695512244,
          0.8901099337181866,
          5.034267885256943,
          4.95340268413495,
          5.0453525860974775,
          4.932264508079059,
          4.947686378493337,
          4.907511458442851,
          4.9500143989512795,
          5.143116001230584,
          4.92383093079915,
          5.0885748198743235,
          4.966718520545841,
          5.127016627881437,
          4.973032807289374,
          5.127470551609532,
          4.917995230936418,
          5.102610732665284,
          5.003442505999987,
          4.987269355519199,
          4.897744713357164,
          5.007174798676491,
          5.063456995909534,
          5.0960884790744565,
          4.97891085379519,
          4.898942537148924,
          4.917679520064076,
          5.136122850865451,
          5.03707064401922,
          4.863460761966157,
          5.112691934078753,
          4.903965634155913,
          4.859123038302986,
          4.986730152020933,
          4.894790999695042,
          5.003378434429662,
          5.1359609669161905,
          4.981864294766966,
          5.114392316196502,
          4.9585088463723785,
          4.892418150832006,
          5.108926209906837,
          5.046424088393543,
          5.101741272695334,
          4.988949608861715,
          5.106109390599501,
          5.059568325406276,
          4.893094216391587,
          0.9854240659208376,
          1.0005490463667897,
          0.8606131865242332,
          0.9492164696508765,
          0.8536661322435914,
          0.8995093523883251,
          0.9120207478247032,
          1.0761197293363005,
          1.081824053588253,
          1.1046457216922994,
          1.1393339879746427,
          0.986881623825069,
          1.0190886098751002,
          0.9809289155383425,
          0.8705348583773552,
          0.9190490329268373,
          0.9225278247988877,
          0.8778620403737262,
          5.089223509041723,
          4.922690455819857,
          5.074613911832162,
          4.850747008949995,
          5.0602122937838665,
          5.056676252830039,
          5.053190843725476,
          4.9633038798491205,
          4.992289406609681,
          5.048869083032415,
          5.123850525143059,
          5.11570122783062,
          5.035158885941312,
          4.8530986833597325,
          4.982663059825404,
          4.938112151829584,
          2.9301138529699435,
          4.890179335458196,
          4.990217040641402,
          5.014456568997903,
          4.943782656504274,
          5.085261775881351,
          5.021064596495573,
          5.1160065260086105,
          4.988109527117054,
          -0.08759140788552204,
          0.9617156363930027,
          0.9952580053681576,
          4.917820709106826,
          5.034870175572356,
          4.990419614882794,
          5.106864398181832,
          4.907687846188535,
          4.97597549134206,
          1.0851099681257792,
          5.075236946671401,
          4.985245770620297,
          4.908765267402055,
          4.864188519875435,
          4.892401704366826,
          0.9471211053651556,
          1.135387992260451,
          0.9814181424521846,
          0.987333120348314,
          1.0007335233007644,
          0.9127356875290771,
          0.9729762142067109,
          0.9000015371220551,
          1.1020600692991596,
          0.9853954935716893,
          0.9242443186495983,
          1.1156043559122235,
          0.875813570010845,
          1.044327006929846,
          1.03957792657406,
          0.913653848717543,
          4.933956151374754,
          4.108650890621469,
          5.007017118217791,
          5.083026883496129,
          4.976446973139141,
          1.1284643590261527,
          0.8583249799010484,
          1.0054291350891011,
          0.9195567100208897,
          1.0751659046348323,
          1.1461193165185952,
          0.9054707018785744,
          1.013066220879413,
          1.0747136656100498,
          1.051829106135315,
          0.9666976577545774,
          1.1355788744964472,
          0.8757081061735368,
          0.9110786582734891,
          4.945797110794996,
          5.084460453889945,
          5.089118741005522,
          4.906408230074536,
          4.933577555196039,
          4.930109027933476,
          4.962232053128421,
          5.138878530266554,
          5.071147428468362,
          4.939673227959912,
          5.0400215640662624,
          5.122092088900054,
          4.99215753559746,
          5.0290044878055715,
          4.859413104034457,
          5.051750696343049,
          5.144497203514471,
          5.13236632998667,
          5.026618372698367,
          4.981436814560382,
          4.91802685353014,
          4.882321616038007,
          4.869076964177921,
          5.017035808091703,
          4.89392546476054,
          5.088396163409127,
          5.1354687783551904,
          4.975105777581198,
          4.896502674647069,
          4.888700569966688,
          5.023247258149871,
          4.985978521947522,
          4.927487629915888,
          5.134569426436131,
          5.002986676315312,
          5.010192365527927,
          5.033002858722249,
          5.04975786164256,
          4.872570145549131,
          4.977633669289723,
          4.962513311166058,
          4.9396922376453585,
          4.924261137577368,
          5.046749342260418,
          4.965764710268417,
          5.141247493508441,
          2.992347561851902,
          4.94276953302799,
          4.9649921141686235,
          4.92028816669117,
          4.92217637702325,
          4.869531216610755,
          5.107885233794414,
          4.9953440351201355,
          5.062150039685806,
          5.113656613538385,
          4.96532230725008,
          5.0097030888064955,
          5.0369858433052945,
          2.9415140310145262,
          5.099201605441845,
          4.977273161248333,
          4.907232149235082,
          4.9655297007736525,
          4.9322636898773435,
          4.862749032189918,
          5.000074140928568,
          5.091968084368455,
          3.0115110908570797,
          4.854576297143666,
          2.9392466709361087,
          3.058824265482634,
          2.000879678528046,
          5.014236125712171,
          5.130419361139372,
          0.8848616790309027,
          0.8534724268069818,
          1.1415582566895839,
          0.900806056193288,
          1.1490810139218028,
          0.9209532078166375,
          1.0569468066441878,
          5.053394822194338,
          5.0826934046318515,
          5.107538683695796,
          5.02193900559961,
          4.860608604216366,
          5.043826705361966,
          5.038032040292312,
          4.999406732837365,
          4.897012067494434,
          5.058154743463853,
          5.0868880926762055,
          4.854803030161568,
          5.082191758348594,
          5.032778765177974,
          5.032298152027041,
          0.8892093859244219,
          0.9312948384278084,
          1.1218174385820927,
          1.005070611113406,
          0.9827001446426973,
          1.0287533497849606,
          1.022956318778069,
          0.8577558818645493,
          1.1495511056975642,
          5.146311693599132,
          4.951068042517441,
          5.055905156199591,
          5.094724759285238,
          5.115028965548162,
          4.926155750194521,
          4.9333624251242565,
          4.890747564978639,
          5.013657490017884,
          4.861645578674539,
          0.14571995570316706,
          1.0628622238032317,
          0.9181396782252552,
          0.8619889907127536,
          4.944446956144551,
          5.0942961712754,
          4.929554949530645,
          0.11281597966491183,
          4.933265858910708,
          4.905562298334848,
          5.009154762425768,
          5.146515574562201,
          4.970627026219954,
          5.125186201761739,
          5.062699499317801,
          4.930116595860456,
          4.992440324339263,
          5.101965759284489,
          4.8973681646524865,
          4.953376644984306,
          5.113318438931432,
          5.1139291035009125,
          5.110615540713534,
          5.121900133638505,
          4.894594444197297,
          5.044398774087589,
          4.96059927852147,
          4.887035856695984,
          4.875456495675518,
          5.045857473545123,
          1.0479282629105096,
          0.8677853030238472,
          1.1496820805057946,
          0.9964767709836155,
          1.1395978990179954,
          1.1193982611014714,
          0.9702992712848643,
          0.9313213650344336,
          0.8858498770305934,
          4.860070139178738,
          4.980472680449482,
          5.128195308733698,
          5.139499647653909,
          5.0722485535855855,
          5.10852570012206,
          1.059504982598547,
          0.9159252121110955,
          4.927899198905211,
          5.0226852605134535,
          5.000176338191688,
          5.125354979112592,
          0.9790633002897235,
          -0.066083702253257,
          -0.051801846343409744,
          -0.02260869714759256,
          -0.017614857749068402,
          5.131471669511048,
          0.9594799827565142,
          1.063347466488918,
          0.8594465197730496,
          1.01209645749993,
          0.9057221769214544,
          0.9910765949761915,
          1.145800948914435,
          1.1340338086508897,
          1.013315024803092,
          1.117544407628169,
          1.069510689277688,
          0.9689609237769333,
          0.9748593727531545,
          1.0031134053860569,
          4.9402427143170575,
          1.1212122060378094,
          0.9770679054579001,
          1.1401114583142304,
          1.0300355559457606,
          0.9110953160985993,
          5.0283323786473755,
          5.149645408117546,
          4.896196702445005,
          5.0598281942088255,
          4.956914076303315,
          5.097421359263248,
          5.016528598322613,
          5.086303262333475,
          5.066528600746098,
          4.993469133203239,
          4.9398835750107315,
          5.0771522508758595,
          4.854946975146931,
          4.977687587406449,
          5.131167076142378,
          5.0103009406594765,
          5.025012623327898,
          -0.04217982027934376,
          5.009019912018966,
          4.942158512261959,
          4.897995706453462,
          4.959458763992948,
          5.066935756096586,
          4.874832221215875,
          5.144261174073023,
          4.997967462778295,
          4.864669158602621,
          5.032552351043941,
          4.955182029827426,
          4.874495486467196,
          4.920758533111709,
          4.969838503743611,
          4.981327446313384,
          4.855547121825332,
          -0.009816019129490372,
          4.866379168711714,
          5.059706440056842,
          5.03814247815064,
          4.908521199777436,
          -0.1138490376308364,
          0.09321103706786826,
          0.10811038761028116,
          -0.06824527369133854,
          0.980884490262245,
          0.9711836136429484,
          1.0658897083279242,
          0.8574623033943957,
          0.9438842681762173,
          4.99015400485253,
          4.85504513264253,
          5.9052347059189545,
          6.095747732676599,
          6.072976269749052,
          6.13150840150065,
          6.118935096787704,
          6.07707140066321,
          6.122812593498085,
          5.964889376948718,
          6.092119001927039,
          6.073289735477156,
          6.101251783378729,
          2.904634033775683,
          5.946668791505429,
          5.981764760588532,
          5.863759149580452,
          3.0369401623800525,
          3.9520424287716187,
          6.070459017993103,
          2.889271823236346,
          5.122636851122563,
          6.1170195279293695,
          6.090582086571436,
          6.102140080396601,
          6.130212664148443,
          5.8686087043725985,
          3.0228075558830234,
          4.129504463817614,
          4.13085483461568,
          3.862145745638012,
          3.0241896872056953,
          4.149167447072832,
          4.113856917822809,
          3.9809888508816864,
          4.1226864633119416,
          3.9764229821165356,
          5.972467700349393,
          5.914059043290941,
          5.992605184070225,
          6.03496974905282,
          5.860969594751771,
          5.027073351978214,
          6.01360093479494,
          5.87897513817138,
          4.1082075696534,
          4.143362165070235,
          6.0197223622395555,
          5.869294162779886,
          2.903449149411325,
          4.0628365787779765,
          3.965788570819672,
          4.073192731296907,
          4.036649327974207,
          4.065122192034561,
          4.1263157403047055,
          4.021184900227292,
          4.12724800873312,
          6.142614654402177,
          4.924129594690906,
          5.86114454859383,
          4.053078254888379,
          4.973205032157578,
          5.97253912598221,
          6.115237642547857,
          6.141532676072789,
          5.986278563000916,
          6.107207062974617,
          6.061332625713177,
          6.0538309956167575,
          4.091984456067859,
          6.046946570437165,
          5.091594340456897,
          5.9449606887717685,
          5.940579501093572,
          5.053159407406076,
          5.858023132275668,
          5.9191769547021815,
          5.903771697734552,
          5.977989340692089,
          4.1496005294915195,
          4.042845097083134,
          3.891920932716377,
          4.9793057257726625,
          4.890925940040142,
          5.964262671191075,
          6.007137841140493,
          4.856524063884284,
          3.9770110909914616,
          4.117268065856608,
          5.148865183805661,
          5.072257097052305,
          5.069093181418964,
          5.046764301118455,
          3.122349126773025,
          2.8741980141150614,
          3.1338826739761036,
          4.099245708006732,
          2.872861928396112,
          4.123435556429606,
          2.9514854222063804,
          2.851496891061334,
          4.067459759616869,
          4.922422226632238,
          3.871502427206791,
          3.853318453626191,
          4.8877979140785515,
          5.046114527818701,
          5.06429204708032,
          4.932539084741558,
          5.093469368099093,
          5.047321485844199,
          4.943426047898837,
          4.886933957898169,
          4.860252741903003,
          4.9320141314581125,
          3.0896477992342275,
          1.044095836054104,
          0.9100449726105079,
          2.112733293347921,
          1.1037278737574978,
          2.06796675341413,
          0.8524725299312389,
          2.070847015340527,
          2.036089927501623,
          0.9410261410598444,
          0.9308091263931354,
          1.0107059344668476,
          3.877951043084143,
          3.9558472666192506,
          4.139520190979715,
          3.9371080949300192,
          3.941328349386255,
          4.095854055672444,
          3.943314859850615,
          4.028944716119908,
          4.003255462985082,
          4.079579684292719,
          3.983288870721336,
          3.9462807106213456,
          4.031980119221396,
          4.056342396212259,
          1.0333390183336248,
          2.1269230044638228,
          1.8656190625173579,
          -1.0455290807976265,
          1.000476229088627,
          0.13734521836422328,
          4.0777029170911705,
          1.9558976781089272,
          3.8668610400806456,
          4.029386380812618,
          3.872597382228496,
          3.966333398276061,
          0.12613343513526695,
          -0.11613667977631631,
          3.9396648964353003,
          3.940394980820814,
          3.9039110961144097,
          3.9593508966792608,
          3.9081332404709372,
          3.8742777666417942,
          4.1274476253720485,
          3.8622705848501657,
          2.968817591631887,
          4.128938017879459,
          1.021686860983952,
          2.9432916956671966,
          3.861606595377352,
          4.099796215279287,
          3.938848065610703,
          3.069144651156885,
          2.9034213988836903,
          3.890774280384846,
          3.043607644691199,
          3.123889742034049,
          2.9393460361272687,
          2.9861173656998954,
          4.099175465830749,
          2.900318728119904,
          3.9801213185335076,
          2.084253488882248,
          3.116567499441726,
          1.8747935182981337,
          4.050314760390519,
          1.8630898842844774,
          4.040434758156609,
          4.140058030155189,
          1.9533398259815482,
          3.0222441334063963,
          2.9296354348803506,
          3.020251160746948,
          2.936116606450488,
          2.8953402793787477,
          2.941424291555609,
          2.993399058813013,
          3.0942119634940717,
          3.9462674918792713,
          3.9744267702296314,
          4.050535909983269,
          3.9465773923918093,
          4.129012950999731,
          4.08169616530482,
          3.906474105610852,
          4.007960256968218,
          2.9709256380889895,
          2.8788189841357776,
          3.992484041204217,
          1.9484917641344819,
          3.956764127577393,
          1.9274162860733595,
          1.910424954679914,
          2.1268191530244493,
          1.9291984635733013,
          2.1124877821153856,
          1.9494134445199536,
          1.9067918873555116,
          1.8957945650387884,
          1.953565736605482,
          1.8652128637989027,
          2.0888710322535164,
          1.9161305715229493,
          1.9410992533166702,
          2.0914844412302234,
          2.108911016665071,
          1.8710313032319632,
          1.914429630993143,
          2.073214410767382,
          2.131241325618955,
          2.0414243603692213,
          1.9993262105242393,
          1.9140852305222358,
          2.051121089408296,
          1.9571087092377524,
          -0.07482220045034142,
          -0.015976804315688403,
          -0.02861974959874375,
          0.08310718765552277,
          0.07091940398854257,
          0.010357537951385665,
          0.09926353765856397,
          -0.08021853435228456,
          0.05067175996349915,
          -0.04103384687929798,
          0.05512499466704654,
          2.0634718888031265,
          2.0213172500130328,
          2.021074969383098,
          2.089553132142984,
          1.9449619101903517,
          1.9053314771459495,
          2.089363943181071,
          2.1477352154450062,
          2.124038256987084,
          2.061333822886936,
          1.9206946822802993,
          2.04322861790215,
          1.8620555940001204,
          0.10123245116944038,
          -0.029993895158558256,
          -0.09872920846448285,
          -0.14024674942582724,
          1.950560721057831,
          1.9182059126169244,
          2.1217053610349645,
          1.9730501008289476,
          2.128275911068793,
          2.047747554905725,
          2.032227688045763,
          1.9160657735302027,
          2.1247444923407564,
          1.9937256007869393,
          2.0222330264005874,
          2.034592892574106,
          2.001428227979158,
          2.091782612958714,
          2.132630632601111,
          2.131199213481204,
          2.1416309936938034,
          2.0487459336910008,
          1.9425811449059436,
          2.1042295651550047,
          1.8678366605093546,
          2.074038944102692,
          1.8886177000339688,
          2.0127295688175613,
          1.9082900197957793,
          1.8592564137992853,
          1.909122356429039,
          2.070743378796694,
          2.0305105462660493,
          2.0706080297644536,
          1.9640245552280706,
          2.028873548814253,
          1.9521636198450816,
          2.1102608857419582,
          2.0790000453292983,
          1.9892752052151934,
          1.9287267284712988,
          2.076449432389614,
          2.0931638864687283,
          1.9362934887627397,
          2.050061026993309,
          1.861712364210049,
          2.1177215173147284,
          0.1095382072468539,
          -0.11258195641161706,
          -0.037672050508388136,
          -0.13548526020489662,
          0.0560300150873049,
          0.13153578124057755,
          0.01655986042524646,
          -0.04064582613867353,
          0.0648990840886256,
          0.10763246751020913,
          0.032366564927174546,
          -0.025288306093740623,
          0.10305648652089419,
          -0.0672898360965851,
          0.0889297433586961,
          2.0215800739758802,
          1.921136686766148,
          1.9357830846843644,
          2.14156694396816,
          2.1031739416746533,
          1.934748612759328,
          1.8533339172990533,
          2.0432029090654744,
          2.110440532868886,
          2.0698783126001494,
          2.019741964929943,
          2.048903497869053,
          1.8987542939507067,
          2.053504340732233,
          1.8629119702262926,
          1.872436839400627,
          1.8684759749903999,
          2.027526913446301,
          1.870647202998938,
          1.938251185674163,
          1.9905206925182366,
          1.9117863152968613,
          -0.041235753705825134,
          0.07598074711719549,
          1.907310698556544,
          1.8513797605892224,
          2.0877817906260145,
          1.9300988707420919,
          2.0550285286604897,
          2.0902372489373233,
          -0.0641542886793744,
          1.9489586314700469,
          2.076984648885047,
          1.8577359040377408,
          2.030226903014316,
          1.9476911253819709,
          -0.1436687370224178,
          0.0035231325052373086,
          -0.14568051633525128,
          0.06285858103486086,
          0.1463817152855509,
          -0.13021474875820627,
          0.10874167578337643,
          -0.13877770685797836,
          0.07797956496984129,
          -0.1124395991321307,
          -0.11418770713611506,
          -0.1312531031715666,
          -0.011497763411092793,
          0.11020229211136298,
          -0.12312911985196368,
          0.11991425183296514,
          1.8974627803863733,
          2.02697173373593,
          1.8975416618280876,
          0.0009236465511590353,
          -0.08343164251622746,
          -0.04519431776243324,
          0.09989510364778334,
          -0.1076492759947531,
          0.08774187368278874,
          -0.09908775238747747,
          -0.12551726393156354,
          -0.13800017030878253,
          0.033867037042117215,
          0.08066476281353674,
          0.09108159645952757,
          0.022087997018906402,
          0.08692805009062282,
          1.903281363323024,
          1.9512441263231728,
          2.1325350607006825,
          1.9268151881096534,
          1.9581270154604034,
          2.032727182395526,
          2.0770292302177547,
          2.0223597840877003,
          1.988818028174721,
          1.8932414337137726,
          2.135561433646156,
          2.129290401156477,
          1.8666617454631071,
          1.9888435365458634,
          2.0343367990474843,
          1.9284686872994876,
          2.099759368962008,
          1.9110506265421698,
          2.1263519502938313,
          2.1120972909824527,
          1.9461188119193036,
          1.9677351539650858,
          2.058005668758639,
          1.9242606590766973,
          2.0895500598246444,
          1.9506612169150321,
          1.8783820635745017,
          2.099816576019439,
          1.9323911196150843,
          2.071767406225104,
          2.0550500430377356,
          2.135992801329685,
          2.1075723607483208,
          2.0613613359902754,
          1.923881232379216,
          2.1424002934059634,
          2.117913843026445,
          1.945783972150699,
          1.9972398610229962,
          2.037854191864262,
          1.9527515928341381,
          2.137597570518496,
          2.0478803847740443,
          2.1468883506592684,
          2.1477941112749845,
          2.10201714948022,
          1.9850936629691405,
          1.8705837356881534,
          2.104094741972776,
          1.9998318490613507,
          2.143842075439792,
          1.9649354425158856,
          1.9325325202430963,
          2.081037879428051,
          1.8660789189414129,
          1.9455954551976333,
          1.9081536616165822,
          1.9447378067748595,
          1.9686608711421203,
          1.8795502085591866,
          -0.01871735155766216,
          -0.07462995761364039,
          0.12129599622154211,
          -0.08234613536871337,
          -0.04451903641117902,
          1.8662153429618338,
          2.1457362477081587,
          1.8918220542596598,
          1.9982000143856384,
          1.9739479248318017,
          2.1235344719606606,
          1.9513142325238733,
          1.9659588928673017,
          2.1020613623187434,
          1.993386637924955,
          1.997448651094878,
          1.9226822132700205
         ],
         "yaxis": "y"
        },
        {
         "customdata": [
          [
           true,
           "Streptococcus agalactiae"
          ],
          [
           true,
           "Streptococcus agalactiae"
          ],
          [
           true,
           "Streptococcus anginosus"
          ],
          [
           true,
           "Streptococcus anginosus"
          ],
          [
           true,
           "Streptococcus anginosus"
          ],
          [
           true,
           "Streptococcus agalactiae"
          ],
          [
           true,
           "Streptococcus agalactiae"
          ],
          [
           true,
           "Streptococcus agalactiae"
          ],
          [
           true,
           "Streptococcus agalactiae"
          ],
          [
           true,
           "Streptococcus agalactiae"
          ],
          [
           true,
           "Streptococcus agalactiae"
          ],
          [
           true,
           "Streptococcus agalactiae"
          ],
          [
           true,
           "Streptococcus agalactiae"
          ],
          [
           true,
           "Streptococcus agalactiae"
          ],
          [
           true,
           "Streptococcus anginosus"
          ],
          [
           true,
           "Streptococcus salivarius"
          ],
          [
           true,
           "Staphylococcus aureus"
          ],
          [
           true,
           "Streptococcus pneumoniae"
          ],
          [
           true,
           "Streptococcus pneumoniae"
          ],
          [
           true,
           "Streptococcus pyogenes"
          ],
          [
           true,
           "Streptococcus pyogenes"
          ],
          [
           true,
           "Streptococcus pyogenes"
          ],
          [
           true,
           "Streptococcus oralis"
          ],
          [
           true,
           "Streptococcus oralis"
          ],
          [
           true,
           "Streptococcus oralis"
          ],
          [
           true,
           "Streptococcus pneumoniae"
          ],
          [
           true,
           "Streptococcus pyogenes"
          ],
          [
           true,
           "Streptococcus pyogenes"
          ],
          [
           true,
           "Streptococcus pyogenes"
          ],
          [
           true,
           "Streptococcus pyogenes"
          ],
          [
           true,
           "Streptococcus pyogenes"
          ],
          [
           true,
           "Streptococcus pyogenes"
          ],
          [
           true,
           "Streptococcus agalactiae"
          ],
          [
           true,
           "Streptococcus anginosus"
          ],
          [
           true,
           "Streptococcus sanguinis"
          ],
          [
           true,
           "Streptococcus agalactiae"
          ],
          [
           true,
           "Staphylococcus lugdunensis"
          ],
          [
           true,
           "Staphylococcus lugdunensis"
          ],
          [
           true,
           "Streptococcus agalactiae"
          ],
          [
           true,
           "Streptococcus agalactiae"
          ],
          [
           true,
           "Streptococcus agalactiae"
          ],
          [
           true,
           "Streptococcus agalactiae"
          ],
          [
           true,
           "Streptococcus agalactiae"
          ],
          [
           true,
           "Streptococcus agalactiae"
          ],
          [
           true,
           "Streptococcus agalactiae"
          ],
          [
           true,
           "Streptococcus agalactiae"
          ],
          [
           true,
           "Streptococcus pyogenes"
          ],
          [
           true,
           "Streptococcus pyogenes"
          ],
          [
           true,
           "Streptococcus pyogenes"
          ],
          [
           true,
           "Streptococcus pyogenes"
          ],
          [
           true,
           "Streptococcus pyogenes"
          ],
          [
           true,
           "Streptococcus pyogenes"
          ],
          [
           true,
           "Streptococcus pyogenes"
          ],
          [
           true,
           "Streptococcus pyogenes"
          ],
          [
           true,
           "Streptococcus pyogenes"
          ],
          [
           true,
           "Streptococcus pyogenes"
          ],
          [
           true,
           "Streptococcus pyogenes"
          ],
          [
           true,
           "Streptococcus pyogenes"
          ],
          [
           true,
           "Staphylococcus aureus"
          ],
          [
           true,
           "Staphylococcus lugdunensis"
          ],
          [
           true,
           "Staphylococcus lugdunensis"
          ],
          [
           true,
           "Staphylococcus lugdunensis"
          ],
          [
           true,
           "Staphylococcus aureus"
          ],
          [
           true,
           "Streptococcus pneumoniae"
          ],
          [
           true,
           "Staphylococcus lugdunensis"
          ],
          [
           true,
           "Enterococcus faecalis"
          ],
          [
           true,
           "Enterococcus faecalis"
          ],
          [
           true,
           "Enterococcus faecalis"
          ],
          [
           true,
           "Streptococcus anginosus"
          ],
          [
           true,
           "Streptococcus anginosus"
          ],
          [
           true,
           "Streptococcus anginosus"
          ],
          [
           true,
           "Streptococcus anginosus"
          ],
          [
           true,
           "Streptococcus salivarius"
          ],
          [
           true,
           "Enterococcus faecalis"
          ],
          [
           true,
           "Streptococcus oralis"
          ],
          [
           true,
           "Streptococcus oralis"
          ],
          [
           true,
           "Streptococcus oralis"
          ],
          [
           true,
           "Enterococcus faecium"
          ],
          [
           true,
           "Staphylococcus aureus"
          ],
          [
           true,
           "Staphylococcus aureus"
          ],
          [
           true,
           "Staphylococcus aureus"
          ],
          [
           true,
           "Staphylococcus aureus"
          ],
          [
           true,
           "Staphylococcus aureus"
          ],
          [
           true,
           "Staphylococcus aureus"
          ],
          [
           true,
           "Staphylococcus aureus"
          ],
          [
           true,
           "Staphylococcus aureus"
          ],
          [
           true,
           "Staphylococcus aureus"
          ],
          [
           true,
           "Staphylococcus aureus"
          ],
          [
           true,
           "Staphylococcus aureus"
          ],
          [
           true,
           "Staphylococcus aureus"
          ],
          [
           true,
           "Staphylococcus aureus"
          ],
          [
           true,
           "Staphylococcus aureus"
          ],
          [
           true,
           "Staphylococcus aureus"
          ],
          [
           true,
           "Staphylococcus aureus"
          ],
          [
           true,
           "Staphylococcus aureus"
          ],
          [
           true,
           "Staphylococcus aureus"
          ],
          [
           true,
           "Staphylococcus aureus"
          ],
          [
           true,
           "Staphylococcus aureus"
          ],
          [
           true,
           "Staphylococcus aureus"
          ],
          [
           true,
           "Staphylococcus aureus"
          ],
          [
           true,
           "Staphylococcus aureus"
          ],
          [
           true,
           "Staphylococcus aureus"
          ],
          [
           true,
           "Staphylococcus aureus"
          ],
          [
           true,
           "Staphylococcus aureus"
          ],
          [
           true,
           "Staphylococcus aureus"
          ],
          [
           true,
           "Staphylococcus aureus"
          ],
          [
           true,
           "Staphylococcus aureus"
          ],
          [
           true,
           "Staphylococcus aureus"
          ],
          [
           true,
           "Staphylococcus aureus"
          ],
          [
           true,
           "Staphylococcus aureus"
          ],
          [
           true,
           "Staphylococcus aureus"
          ],
          [
           true,
           "Staphylococcus aureus"
          ],
          [
           true,
           "Staphylococcus aureus"
          ],
          [
           true,
           "Staphylococcus aureus"
          ],
          [
           true,
           "Staphylococcus aureus"
          ],
          [
           true,
           "Staphylococcus aureus"
          ],
          [
           true,
           "Staphylococcus aureus"
          ],
          [
           true,
           "Staphylococcus aureus"
          ],
          [
           true,
           "Staphylococcus aureus"
          ],
          [
           true,
           "Staphylococcus aureus"
          ],
          [
           true,
           "Staphylococcus aureus"
          ],
          [
           true,
           "Staphylococcus aureus"
          ],
          [
           true,
           "Staphylococcus aureus"
          ],
          [
           true,
           "Staphylococcus aureus"
          ],
          [
           true,
           "Staphylococcus aureus"
          ],
          [
           true,
           "Staphylococcus aureus"
          ],
          [
           true,
           "Staphylococcus aureus"
          ],
          [
           true,
           "Staphylococcus aureus"
          ],
          [
           true,
           "Staphylococcus aureus"
          ],
          [
           true,
           "Staphylococcus aureus"
          ],
          [
           true,
           "Staphylococcus aureus"
          ],
          [
           true,
           "Staphylococcus aureus"
          ],
          [
           true,
           "Staphylococcus aureus"
          ],
          [
           true,
           "Staphylococcus aureus"
          ],
          [
           true,
           "Staphylococcus aureus"
          ],
          [
           true,
           "Staphylococcus aureus"
          ],
          [
           true,
           "Staphylococcus aureus"
          ],
          [
           true,
           "Staphylococcus aureus"
          ],
          [
           true,
           "Staphylococcus aureus"
          ],
          [
           true,
           "Staphylococcus aureus"
          ],
          [
           true,
           "Staphylococcus aureus"
          ],
          [
           true,
           "Staphylococcus aureus"
          ],
          [
           true,
           "Staphylococcus aureus"
          ],
          [
           true,
           "Staphylococcus aureus"
          ],
          [
           true,
           "Staphylococcus aureus"
          ],
          [
           true,
           "Staphylococcus aureus"
          ],
          [
           true,
           "Staphylococcus aureus"
          ],
          [
           true,
           "Staphylococcus aureus"
          ],
          [
           true,
           "Staphylococcus aureus"
          ],
          [
           true,
           "Staphylococcus aureus"
          ],
          [
           true,
           "Staphylococcus aureus"
          ],
          [
           true,
           "Staphylococcus aureus"
          ],
          [
           true,
           "Staphylococcus aureus"
          ],
          [
           true,
           "Staphylococcus aureus"
          ],
          [
           true,
           "Staphylococcus aureus"
          ],
          [
           true,
           "Staphylococcus aureus"
          ],
          [
           true,
           "Staphylococcus aureus"
          ],
          [
           true,
           "Staphylococcus aureus"
          ],
          [
           true,
           "Staphylococcus aureus"
          ],
          [
           true,
           "Staphylococcus aureus"
          ],
          [
           true,
           "Staphylococcus aureus"
          ],
          [
           true,
           "Staphylococcus aureus"
          ],
          [
           true,
           "Staphylococcus aureus"
          ],
          [
           true,
           "Staphylococcus aureus"
          ],
          [
           true,
           "Staphylococcus aureus"
          ],
          [
           true,
           "Staphylococcus aureus"
          ],
          [
           true,
           "Staphylococcus aureus"
          ],
          [
           true,
           "Staphylococcus aureus"
          ],
          [
           true,
           "Staphylococcus aureus"
          ],
          [
           true,
           "Staphylococcus aureus"
          ],
          [
           true,
           "Staphylococcus aureus"
          ],
          [
           true,
           "Staphylococcus aureus"
          ],
          [
           true,
           "Staphylococcus aureus"
          ],
          [
           true,
           "Staphylococcus aureus"
          ],
          [
           true,
           "Staphylococcus aureus"
          ],
          [
           true,
           "Staphylococcus aureus"
          ],
          [
           true,
           "Staphylococcus aureus"
          ],
          [
           true,
           "Staphylococcus aureus"
          ],
          [
           true,
           "Staphylococcus aureus"
          ],
          [
           true,
           "Staphylococcus aureus"
          ],
          [
           true,
           "Staphylococcus aureus"
          ],
          [
           true,
           "Staphylococcus aureus"
          ],
          [
           true,
           "Staphylococcus aureus"
          ],
          [
           true,
           "Staphylococcus aureus"
          ],
          [
           true,
           "Staphylococcus aureus"
          ],
          [
           true,
           "Staphylococcus aureus"
          ],
          [
           true,
           "Staphylococcus aureus"
          ],
          [
           true,
           "Staphylococcus aureus"
          ],
          [
           true,
           "Staphylococcus aureus"
          ],
          [
           true,
           "Staphylococcus aureus"
          ],
          [
           true,
           "Staphylococcus aureus"
          ],
          [
           true,
           "Staphylococcus aureus"
          ],
          [
           true,
           "Staphylococcus aureus"
          ],
          [
           true,
           "Staphylococcus aureus"
          ],
          [
           true,
           "Staphylococcus aureus"
          ],
          [
           true,
           "Staphylococcus aureus"
          ],
          [
           true,
           "Staphylococcus aureus"
          ],
          [
           true,
           "Staphylococcus aureus"
          ],
          [
           true,
           "Staphylococcus aureus"
          ],
          [
           true,
           "Staphylococcus aureus"
          ],
          [
           true,
           "Staphylococcus aureus"
          ],
          [
           true,
           "Staphylococcus aureus"
          ],
          [
           true,
           "Staphylococcus aureus"
          ],
          [
           true,
           "Staphylococcus aureus"
          ],
          [
           true,
           "Staphylococcus aureus"
          ],
          [
           true,
           "Staphylococcus aureus"
          ],
          [
           true,
           "Staphylococcus aureus"
          ],
          [
           true,
           "Staphylococcus aureus"
          ],
          [
           true,
           "Staphylococcus aureus"
          ],
          [
           true,
           "Staphylococcus aureus"
          ],
          [
           true,
           "Staphylococcus aureus"
          ],
          [
           true,
           "Staphylococcus aureus"
          ],
          [
           true,
           "Staphylococcus aureus"
          ],
          [
           true,
           "Staphylococcus aureus"
          ],
          [
           true,
           "Staphylococcus aureus"
          ],
          [
           true,
           "Staphylococcus aureus"
          ],
          [
           true,
           "Staphylococcus aureus"
          ],
          [
           true,
           "Staphylococcus aureus"
          ],
          [
           true,
           "Staphylococcus aureus"
          ],
          [
           true,
           "Staphylococcus aureus"
          ],
          [
           true,
           "Staphylococcus aureus"
          ],
          [
           true,
           "Staphylococcus aureus"
          ],
          [
           true,
           "Staphylococcus aureus"
          ],
          [
           true,
           "Staphylococcus aureus"
          ],
          [
           true,
           "Staphylococcus aureus"
          ],
          [
           true,
           "Staphylococcus aureus"
          ],
          [
           true,
           "Staphylococcus aureus"
          ],
          [
           true,
           "Staphylococcus aureus"
          ],
          [
           true,
           "Staphylococcus aureus"
          ],
          [
           true,
           "Staphylococcus aureus"
          ],
          [
           true,
           "Staphylococcus aureus"
          ],
          [
           true,
           "Staphylococcus aureus"
          ],
          [
           true,
           "Staphylococcus aureus"
          ],
          [
           true,
           "Staphylococcus aureus"
          ],
          [
           true,
           "Staphylococcus aureus"
          ],
          [
           true,
           "Staphylococcus aureus"
          ],
          [
           true,
           "Staphylococcus aureus"
          ],
          [
           true,
           "Staphylococcus aureus"
          ],
          [
           true,
           "Staphylococcus aureus"
          ],
          [
           true,
           "Staphylococcus aureus"
          ],
          [
           true,
           "Staphylococcus aureus"
          ],
          [
           true,
           "Staphylococcus aureus"
          ],
          [
           true,
           "Staphylococcus aureus"
          ],
          [
           true,
           "Staphylococcus aureus"
          ],
          [
           true,
           "Staphylococcus aureus"
          ],
          [
           true,
           "Staphylococcus aureus"
          ],
          [
           true,
           "Staphylococcus aureus"
          ],
          [
           true,
           "Staphylococcus aureus"
          ],
          [
           true,
           "Staphylococcus aureus"
          ],
          [
           true,
           "Staphylococcus aureus"
          ],
          [
           true,
           "Staphylococcus aureus"
          ],
          [
           true,
           "Staphylococcus aureus"
          ],
          [
           true,
           "Staphylococcus aureus"
          ],
          [
           true,
           "Staphylococcus aureus"
          ],
          [
           true,
           "Staphylococcus aureus"
          ],
          [
           true,
           "Staphylococcus aureus"
          ],
          [
           true,
           "Staphylococcus aureus"
          ],
          [
           true,
           "Staphylococcus aureus"
          ],
          [
           true,
           "Staphylococcus aureus"
          ],
          [
           true,
           "Staphylococcus aureus"
          ],
          [
           true,
           "Staphylococcus aureus"
          ],
          [
           true,
           "Staphylococcus aureus"
          ],
          [
           true,
           "Staphylococcus aureus"
          ],
          [
           true,
           "Staphylococcus aureus"
          ],
          [
           true,
           "Staphylococcus aureus"
          ],
          [
           true,
           "Staphylococcus aureus"
          ],
          [
           true,
           "Staphylococcus aureus"
          ],
          [
           true,
           "Staphylococcus aureus"
          ],
          [
           true,
           "Staphylococcus aureus"
          ],
          [
           true,
           "Staphylococcus aureus"
          ],
          [
           true,
           "Staphylococcus aureus"
          ],
          [
           true,
           "Staphylococcus aureus"
          ],
          [
           true,
           "Staphylococcus aureus"
          ],
          [
           true,
           "Staphylococcus aureus"
          ],
          [
           true,
           "Staphylococcus aureus"
          ],
          [
           true,
           "Staphylococcus aureus"
          ],
          [
           true,
           "Staphylococcus aureus"
          ],
          [
           true,
           "Staphylococcus aureus"
          ],
          [
           true,
           "Staphylococcus aureus"
          ],
          [
           true,
           "Staphylococcus aureus"
          ],
          [
           true,
           "Staphylococcus aureus"
          ],
          [
           true,
           "Staphylococcus aureus"
          ],
          [
           true,
           "Staphylococcus aureus"
          ],
          [
           true,
           "Staphylococcus aureus"
          ],
          [
           true,
           "Staphylococcus aureus"
          ],
          [
           true,
           "Staphylococcus aureus"
          ],
          [
           true,
           "Staphylococcus aureus"
          ],
          [
           true,
           "Staphylococcus aureus"
          ],
          [
           true,
           "Staphylococcus aureus"
          ],
          [
           true,
           "Staphylococcus aureus"
          ],
          [
           true,
           "Staphylococcus aureus"
          ],
          [
           true,
           "Staphylococcus aureus"
          ],
          [
           true,
           "Staphylococcus aureus"
          ],
          [
           true,
           "Staphylococcus aureus"
          ],
          [
           true,
           "Staphylococcus aureus"
          ],
          [
           true,
           "Staphylococcus aureus"
          ],
          [
           true,
           "Staphylococcus aureus"
          ],
          [
           true,
           "Staphylococcus aureus"
          ],
          [
           true,
           "Staphylococcus aureus"
          ],
          [
           true,
           "Staphylococcus aureus"
          ],
          [
           true,
           "Staphylococcus aureus"
          ],
          [
           true,
           "Staphylococcus aureus"
          ],
          [
           true,
           "Streptococcus anginosus"
          ],
          [
           true,
           "Streptococcus anginosus"
          ],
          [
           true,
           "Streptococcus salivarius"
          ],
          [
           true,
           "Streptococcus pneumoniae"
          ],
          [
           true,
           "Streptococcus pneumoniae"
          ],
          [
           true,
           "Streptococcus pneumoniae"
          ],
          [
           true,
           "Streptococcus pneumoniae"
          ],
          [
           true,
           "Streptococcus pneumoniae"
          ],
          [
           true,
           "Streptococcus oralis"
          ],
          [
           true,
           "Streptococcus oralis"
          ],
          [
           true,
           "Streptococcus pneumoniae"
          ],
          [
           true,
           "Streptococcus sanguinis"
          ],
          [
           true,
           "Streptococcus salivarius"
          ],
          [
           true,
           "Streptococcus pneumoniae"
          ],
          [
           true,
           "Streptococcus anginosus"
          ],
          [
           true,
           "Streptococcus sanguinis"
          ],
          [
           true,
           "Streptococcus anginosus"
          ],
          [
           true,
           "Streptococcus pneumoniae"
          ],
          [
           true,
           "Streptococcus pneumoniae"
          ],
          [
           true,
           "Streptococcus pneumoniae"
          ],
          [
           true,
           "Streptococcus pneumoniae"
          ],
          [
           true,
           "Streptococcus pneumoniae"
          ],
          [
           true,
           "Streptococcus pneumoniae"
          ],
          [
           true,
           "Streptococcus pneumoniae"
          ],
          [
           true,
           "Streptococcus mitis"
          ],
          [
           true,
           "Streptococcus sanguinis"
          ],
          [
           true,
           "Streptococcus oralis"
          ],
          [
           true,
           "Streptococcus pneumoniae"
          ],
          [
           true,
           "Streptococcus pneumoniae"
          ],
          [
           true,
           "Streptococcus pneumoniae"
          ],
          [
           true,
           "Streptococcus pneumoniae"
          ],
          [
           true,
           "Streptococcus pneumoniae"
          ],
          [
           true,
           "Streptococcus salivarius"
          ],
          [
           true,
           "Streptococcus anginosus"
          ],
          [
           true,
           "Streptococcus anginosus"
          ],
          [
           true,
           "Streptococcus anginosus"
          ],
          [
           true,
           "Streptococcus anginosus"
          ],
          [
           true,
           "Streptococcus salivarius"
          ],
          [
           true,
           "Streptococcus pneumoniae"
          ],
          [
           true,
           "Streptococcus pneumoniae"
          ],
          [
           true,
           "Streptococcus pneumoniae"
          ],
          [
           true,
           "Streptococcus pneumoniae"
          ],
          [
           true,
           "Streptococcus pneumoniae"
          ],
          [
           true,
           "Streptococcus pneumoniae"
          ],
          [
           true,
           "Streptococcus pneumoniae"
          ],
          [
           true,
           "Streptococcus pneumoniae"
          ],
          [
           true,
           "Streptococcus oralis"
          ],
          [
           true,
           "Streptococcus oralis"
          ],
          [
           true,
           "Streptococcus oralis"
          ],
          [
           true,
           "Streptococcus pneumoniae"
          ],
          [
           true,
           "Streptococcus sanguinis"
          ],
          [
           true,
           "Streptococcus salivarius"
          ],
          [
           true,
           "Streptococcus salivarius"
          ],
          [
           true,
           "Streptococcus pneumoniae"
          ],
          [
           true,
           "Streptococcus anginosus"
          ],
          [
           true,
           "Streptococcus mitis"
          ],
          [
           true,
           "Streptococcus pneumoniae"
          ],
          [
           true,
           "Streptococcus sanguinis"
          ],
          [
           true,
           "Streptococcus sanguinis"
          ],
          [
           true,
           "Streptococcus mitis"
          ],
          [
           true,
           "Streptococcus anginosus"
          ],
          [
           true,
           "Streptococcus pneumoniae"
          ],
          [
           true,
           "Streptococcus pneumoniae"
          ],
          [
           true,
           "Streptococcus pneumoniae"
          ],
          [
           true,
           "Streptococcus pneumoniae"
          ],
          [
           true,
           "Streptococcus pneumoniae"
          ],
          [
           true,
           "Streptococcus pneumoniae"
          ],
          [
           true,
           "Streptococcus pneumoniae"
          ],
          [
           true,
           "Streptococcus pneumoniae"
          ],
          [
           true,
           "Streptococcus mitis"
          ],
          [
           true,
           "Streptococcus mitis"
          ],
          [
           true,
           "Streptococcus sanguinis"
          ],
          [
           true,
           "Streptococcus mitis"
          ],
          [
           true,
           "Streptococcus oralis"
          ],
          [
           true,
           "Streptococcus oralis"
          ],
          [
           true,
           "Streptococcus pneumoniae"
          ],
          [
           true,
           "Streptococcus sanguinis"
          ],
          [
           true,
           "Streptococcus sanguinis"
          ],
          [
           true,
           "Streptococcus sanguinis"
          ],
          [
           true,
           "Streptococcus pneumoniae"
          ],
          [
           true,
           "Streptococcus pneumoniae"
          ],
          [
           true,
           "Streptococcus pneumoniae"
          ],
          [
           true,
           "Streptococcus pneumoniae"
          ],
          [
           true,
           "Streptococcus pneumoniae"
          ],
          [
           true,
           "Streptococcus pneumoniae"
          ],
          [
           true,
           "Streptococcus pneumoniae"
          ],
          [
           true,
           "Streptococcus salivarius"
          ],
          [
           true,
           "Streptococcus salivarius"
          ],
          [
           true,
           "Streptococcus salivarius"
          ],
          [
           true,
           "Streptococcus salivarius"
          ],
          [
           true,
           "Enterococcus faecalis"
          ],
          [
           false,
           "Enterococcus faecalis"
          ],
          [
           true,
           "Enterococcus faecium"
          ],
          [
           false,
           "Enterococcus faecium"
          ],
          [
           true,
           "Enterococcus faecalis"
          ],
          [
           false,
           "Enterococcus faecium"
          ],
          [
           false,
           "Enterococcus faecalis"
          ],
          [
           true,
           "Enterococcus faecium"
          ],
          [
           false,
           "Enterococcus faecium"
          ],
          [
           true,
           "Enterococcus faecium"
          ],
          [
           false,
           "Enterococcus faecium"
          ],
          [
           false,
           "Enterococcus faecium"
          ],
          [
           false,
           "Enterococcus faecium"
          ],
          [
           true,
           "Enterococcus faecalis"
          ],
          [
           false,
           "Enterococcus faecium"
          ],
          [
           true,
           "Enterococcus faecium"
          ],
          [
           false,
           "Enterococcus faecium"
          ],
          [
           true,
           "Enterococcus faecium"
          ],
          [
           true,
           "Enterococcus faecium"
          ],
          [
           true,
           "Enterococcus faecium"
          ],
          [
           false,
           "Enterococcus faecium"
          ],
          [
           true,
           "Enterococcus faecium"
          ],
          [
           false,
           "Enterococcus faecium"
          ],
          [
           true,
           "Enterococcus faecium"
          ],
          [
           true,
           "Enterococcus faecium"
          ],
          [
           false,
           "Enterococcus faecium"
          ],
          [
           true,
           "Enterococcus faecium"
          ],
          [
           false,
           "Enterococcus faecium"
          ],
          [
           true,
           "Enterococcus faecium"
          ],
          [
           true,
           "Enterococcus faecium"
          ],
          [
           true,
           "Enterococcus faecium"
          ],
          [
           true,
           "Enterococcus faecium"
          ],
          [
           true,
           "Enterococcus faecium"
          ],
          [
           true,
           "Enterococcus faecium"
          ],
          [
           true,
           "Enterococcus faecium"
          ],
          [
           true,
           "Enterococcus faecium"
          ],
          [
           true,
           "Enterococcus faecium"
          ],
          [
           true,
           "Enterococcus faecium"
          ],
          [
           false,
           "Enterococcus faecium"
          ],
          [
           false,
           "Enterococcus faecium"
          ],
          [
           false,
           "Enterococcus faecium"
          ],
          [
           false,
           "Enterococcus faecium"
          ],
          [
           true,
           "Enterococcus faecium"
          ],
          [
           true,
           "Enterococcus faecium"
          ],
          [
           false,
           "Enterococcus faecalis"
          ],
          [
           true,
           "Staphylococcus aureus"
          ],
          [
           true,
           "Staphylococcus aureus"
          ],
          [
           true,
           "Staphylococcus aureus"
          ],
          [
           true,
           "Staphylococcus aureus"
          ],
          [
           true,
           "Staphylococcus aureus"
          ],
          [
           true,
           "Staphylococcus aureus"
          ],
          [
           true,
           "Staphylococcus aureus"
          ],
          [
           true,
           "Staphylococcus aureus"
          ],
          [
           true,
           "Staphylococcus aureus"
          ],
          [
           true,
           "Staphylococcus aureus"
          ],
          [
           true,
           "Staphylococcus aureus"
          ],
          [
           true,
           "Staphylococcus aureus"
          ],
          [
           true,
           "Staphylococcus aureus"
          ],
          [
           true,
           "Staphylococcus aureus"
          ],
          [
           true,
           "Staphylococcus aureus"
          ],
          [
           true,
           "Staphylococcus aureus"
          ],
          [
           true,
           "Staphylococcus aureus"
          ],
          [
           true,
           "Staphylococcus aureus"
          ],
          [
           true,
           "Staphylococcus aureus"
          ],
          [
           true,
           "Staphylococcus aureus"
          ],
          [
           true,
           "Staphylococcus aureus"
          ],
          [
           true,
           "Staphylococcus aureus"
          ],
          [
           true,
           "Staphylococcus aureus"
          ],
          [
           true,
           "Staphylococcus aureus"
          ],
          [
           true,
           "Staphylococcus aureus"
          ],
          [
           true,
           "Staphylococcus capitis"
          ],
          [
           true,
           "Staphylococcus capitis"
          ],
          [
           true,
           "Staphylococcus epidermidis"
          ],
          [
           true,
           "Staphylococcus epidermidis"
          ],
          [
           true,
           "Staphylococcus capitis"
          ],
          [
           true,
           "Staphylococcus capitis"
          ],
          [
           true,
           "Staphylococcus capitis"
          ],
          [
           true,
           "Staphylococcus capitis"
          ],
          [
           true,
           "Staphylococcus capitis"
          ],
          [
           true,
           "Staphylococcus capitis"
          ],
          [
           true,
           "Staphylococcus epidermidis"
          ],
          [
           true,
           "Staphylococcus epidermidis"
          ],
          [
           true,
           "Staphylococcus epidermidis"
          ],
          [
           true,
           "Staphylococcus epidermidis"
          ],
          [
           true,
           "Staphylococcus epidermidis"
          ],
          [
           true,
           "Staphylococcus epidermidis"
          ],
          [
           true,
           "Staphylococcus epidermidis"
          ],
          [
           true,
           "Staphylococcus epidermidis"
          ],
          [
           true,
           "Staphylococcus epidermidis"
          ],
          [
           true,
           "Staphylococcus epidermidis"
          ],
          [
           true,
           "Staphylococcus epidermidis"
          ],
          [
           true,
           "Staphylococcus epidermidis"
          ],
          [
           true,
           "Staphylococcus epidermidis"
          ],
          [
           true,
           "Staphylococcus epidermidis"
          ],
          [
           true,
           "Staphylococcus epidermidis"
          ],
          [
           true,
           "Staphylococcus epidermidis"
          ],
          [
           true,
           "Staphylococcus epidermidis"
          ],
          [
           true,
           "Staphylococcus epidermidis"
          ],
          [
           true,
           "Staphylococcus epidermidis"
          ],
          [
           true,
           "Staphylococcus epidermidis"
          ],
          [
           true,
           "Staphylococcus epidermidis"
          ],
          [
           true,
           "Staphylococcus epidermidis"
          ],
          [
           true,
           "Staphylococcus epidermidis"
          ],
          [
           true,
           "Staphylococcus epidermidis"
          ],
          [
           true,
           "Staphylococcus epidermidis"
          ],
          [
           true,
           "Staphylococcus epidermidis"
          ],
          [
           true,
           "Staphylococcus epidermidis"
          ],
          [
           true,
           "Staphylococcus epidermidis"
          ],
          [
           true,
           "Staphylococcus epidermidis"
          ],
          [
           true,
           "Staphylococcus aureus"
          ],
          [
           true,
           "Staphylococcus aureus"
          ],
          [
           true,
           "Staphylococcus epidermidis"
          ],
          [
           true,
           "Staphylococcus epidermidis"
          ],
          [
           true,
           "Staphylococcus epidermidis"
          ],
          [
           true,
           "Staphylococcus epidermidis"
          ],
          [
           true,
           "Staphylococcus epidermidis"
          ],
          [
           true,
           "Staphylococcus epidermidis"
          ],
          [
           true,
           "Staphylococcus epidermidis"
          ],
          [
           true,
           "Staphylococcus epidermidis"
          ],
          [
           true,
           "Staphylococcus epidermidis"
          ],
          [
           true,
           "Staphylococcus hominis"
          ],
          [
           true,
           "Staphylococcus epidermidis"
          ],
          [
           true,
           "Staphylococcus hominis"
          ],
          [
           true,
           "Staphylococcus hominis"
          ],
          [
           true,
           "Staphylococcus hominis"
          ],
          [
           true,
           "Staphylococcus hominis"
          ],
          [
           true,
           "Staphylococcus hominis"
          ],
          [
           true,
           "Staphylococcus hominis"
          ],
          [
           true,
           "Staphylococcus hominis"
          ],
          [
           true,
           "Staphylococcus hominis"
          ],
          [
           true,
           "Staphylococcus hominis"
          ],
          [
           true,
           "Staphylococcus hominis"
          ],
          [
           true,
           "Staphylococcus hominis"
          ],
          [
           true,
           "Staphylococcus hominis"
          ],
          [
           true,
           "Staphylococcus hominis"
          ],
          [
           true,
           "Staphylococcus hominis"
          ],
          [
           true,
           "Staphylococcus hominis"
          ],
          [
           true,
           "Staphylococcus hominis"
          ],
          [
           true,
           "Staphylococcus aureus"
          ],
          [
           true,
           "Staphylococcus aureus"
          ],
          [
           true,
           "Staphylococcus aureus"
          ],
          [
           true,
           "Staphylococcus aureus"
          ],
          [
           true,
           "Staphylococcus aureus"
          ],
          [
           true,
           "Staphylococcus aureus"
          ],
          [
           true,
           "Staphylococcus aureus"
          ],
          [
           true,
           "Staphylococcus aureus"
          ],
          [
           true,
           "Staphylococcus aureus"
          ],
          [
           true,
           "Staphylococcus aureus"
          ],
          [
           true,
           "Staphylococcus aureus"
          ],
          [
           true,
           "Staphylococcus aureus"
          ],
          [
           true,
           "Staphylococcus aureus"
          ],
          [
           true,
           "Staphylococcus aureus"
          ],
          [
           true,
           "Staphylococcus aureus"
          ],
          [
           true,
           "Staphylococcus aureus"
          ],
          [
           true,
           "Staphylococcus aureus"
          ],
          [
           true,
           "Staphylococcus capitis"
          ],
          [
           true,
           "Staphylococcus capitis"
          ],
          [
           true,
           "Staphylococcus hominis"
          ],
          [
           true,
           "Staphylococcus hominis"
          ],
          [
           true,
           "Staphylococcus hominis"
          ],
          [
           true,
           "Staphylococcus hominis"
          ],
          [
           true,
           "Staphylococcus hominis"
          ],
          [
           true,
           "Staphylococcus hominis"
          ],
          [
           true,
           "Staphylococcus hominis"
          ],
          [
           true,
           "Staphylococcus hominis"
          ],
          [
           true,
           "Staphylococcus hominis"
          ],
          [
           true,
           "Staphylococcus lugdunensis"
          ],
          [
           true,
           "Staphylococcus lugdunensis"
          ],
          [
           true,
           "Staphylococcus lugdunensis"
          ],
          [
           true,
           "Staphylococcus lugdunensis"
          ],
          [
           true,
           "Staphylococcus lugdunensis"
          ],
          [
           true,
           "Staphylococcus hominis"
          ],
          [
           true,
           "Staphylococcus hominis"
          ],
          [
           true,
           "Staphylococcus hominis"
          ],
          [
           true,
           "Staphylococcus hominis"
          ],
          [
           true,
           "Staphylococcus hominis"
          ],
          [
           true,
           "Staphylococcus aureus"
          ],
          [
           true,
           "Staphylococcus aureus"
          ],
          [
           true,
           "Staphylococcus aureus"
          ],
          [
           true,
           "Staphylococcus aureus"
          ],
          [
           true,
           "Staphylococcus aureus"
          ],
          [
           true,
           "Staphylococcus aureus"
          ],
          [
           true,
           "Staphylococcus aureus"
          ],
          [
           true,
           "Staphylococcus aureus"
          ],
          [
           true,
           "Staphylococcus aureus"
          ],
          [
           true,
           "Staphylococcus aureus"
          ],
          [
           true,
           "Staphylococcus aureus"
          ],
          [
           true,
           "Staphylococcus aureus"
          ],
          [
           true,
           "Staphylococcus aureus"
          ],
          [
           true,
           "Staphylococcus aureus"
          ],
          [
           true,
           "Staphylococcus aureus"
          ],
          [
           true,
           "Staphylococcus capitis"
          ],
          [
           true,
           "Staphylococcus epidermidis"
          ],
          [
           true,
           "Staphylococcus lugdunensis"
          ],
          [
           true,
           "Staphylococcus lugdunensis"
          ],
          [
           true,
           "Staphylococcus lugdunensis"
          ],
          [
           true,
           "Staphylococcus lugdunensis"
          ],
          [
           true,
           "Staphylococcus lugdunensis"
          ],
          [
           true,
           "Staphylococcus epidermidis"
          ],
          [
           true,
           "Staphylococcus epidermidis"
          ],
          [
           true,
           "Staphylococcus epidermidis"
          ],
          [
           true,
           "Staphylococcus epidermidis"
          ],
          [
           true,
           "Staphylococcus epidermidis"
          ],
          [
           true,
           "Staphylococcus epidermidis"
          ],
          [
           true,
           "Staphylococcus lugdunensis"
          ],
          [
           true,
           "Staphylococcus aureus"
          ],
          [
           true,
           "Staphylococcus aureus"
          ],
          [
           true,
           "Staphylococcus aureus"
          ],
          [
           true,
           "Staphylococcus aureus"
          ],
          [
           true,
           "Staphylococcus aureus"
          ],
          [
           true,
           "Staphylococcus aureus"
          ],
          [
           true,
           "Staphylococcus aureus"
          ],
          [
           true,
           "Staphylococcus aureus"
          ],
          [
           true,
           "Staphylococcus aureus"
          ],
          [
           true,
           "Staphylococcus aureus"
          ],
          [
           true,
           "Staphylococcus aureus"
          ],
          [
           true,
           "Staphylococcus aureus"
          ],
          [
           true,
           "Staphylococcus aureus"
          ],
          [
           true,
           "Staphylococcus aureus"
          ],
          [
           true,
           "Staphylococcus aureus"
          ],
          [
           true,
           "Staphylococcus aureus"
          ],
          [
           true,
           "Staphylococcus aureus"
          ],
          [
           true,
           "Staphylococcus aureus"
          ],
          [
           true,
           "Staphylococcus aureus"
          ],
          [
           true,
           "Staphylococcus aureus"
          ],
          [
           true,
           "Staphylococcus aureus"
          ],
          [
           true,
           "Staphylococcus aureus"
          ],
          [
           true,
           "Staphylococcus aureus"
          ],
          [
           true,
           "Staphylococcus aureus"
          ],
          [
           true,
           "Staphylococcus aureus"
          ],
          [
           true,
           "Staphylococcus aureus"
          ],
          [
           true,
           "Staphylococcus aureus"
          ],
          [
           true,
           "Staphylococcus aureus"
          ],
          [
           true,
           "Staphylococcus aureus"
          ],
          [
           true,
           "Staphylococcus aureus"
          ],
          [
           true,
           "Staphylococcus epidermidis"
          ],
          [
           true,
           "Staphylococcus epidermidis"
          ],
          [
           true,
           "Staphylococcus epidermidis"
          ],
          [
           true,
           "Staphylococcus epidermidis"
          ],
          [
           true,
           "Staphylococcus epidermidis"
          ],
          [
           true,
           "Staphylococcus aureus"
          ],
          [
           true,
           "Staphylococcus lugdunensis"
          ],
          [
           true,
           "Staphylococcus aureus"
          ],
          [
           true,
           "Staphylococcus aureus"
          ],
          [
           true,
           "Staphylococcus aureus"
          ],
          [
           true,
           "Enterococcus faecalis"
          ],
          [
           true,
           "Enterococcus faecalis"
          ],
          [
           true,
           "Enterococcus faecium"
          ],
          [
           true,
           "Enterococcus faecium"
          ],
          [
           true,
           "Enterococcus faecium"
          ],
          [
           true,
           "Staphylococcus aureus"
          ],
          [
           true,
           "Staphylococcus aureus"
          ],
          [
           true,
           "Staphylococcus aureus"
          ],
          [
           true,
           "Staphylococcus aureus"
          ],
          [
           true,
           "Staphylococcus aureus"
          ],
          [
           true,
           "Staphylococcus aureus"
          ],
          [
           true,
           "Staphylococcus aureus"
          ],
          [
           true,
           "Staphylococcus aureus"
          ],
          [
           true,
           "Staphylococcus aureus"
          ],
          [
           true,
           "Staphylococcus aureus"
          ],
          [
           true,
           "Staphylococcus aureus"
          ],
          [
           true,
           "Staphylococcus aureus"
          ],
          [
           true,
           "Staphylococcus aureus"
          ],
          [
           true,
           "Staphylococcus aureus"
          ],
          [
           true,
           "Staphylococcus aureus"
          ],
          [
           true,
           "Staphylococcus aureus"
          ],
          [
           true,
           "Staphylococcus aureus"
          ],
          [
           true,
           "Staphylococcus aureus"
          ],
          [
           true,
           "Staphylococcus aureus"
          ],
          [
           true,
           "Staphylococcus aureus"
          ],
          [
           true,
           "Staphylococcus aureus"
          ],
          [
           true,
           "Staphylococcus aureus"
          ],
          [
           true,
           "Enterococcus faecium"
          ],
          [
           true,
           "Enterococcus faecalis"
          ],
          [
           true,
           "Enterococcus faecium"
          ],
          [
           true,
           "Enterococcus faecium"
          ],
          [
           true,
           "Enterococcus faecium"
          ],
          [
           true,
           "Staphylococcus aureus"
          ],
          [
           true,
           "Staphylococcus aureus"
          ],
          [
           true,
           "Staphylococcus aureus"
          ],
          [
           true,
           "Streptococcus agalactiae"
          ],
          [
           true,
           "Streptococcus agalactiae"
          ],
          [
           true,
           "Streptococcus agalactiae"
          ],
          [
           true,
           "Streptococcus anginosus"
          ],
          [
           true,
           "Streptococcus anginosus"
          ],
          [
           true,
           "Streptococcus anginosus"
          ],
          [
           true,
           "Streptococcus agalactiae"
          ],
          [
           true,
           "Streptococcus agalactiae"
          ],
          [
           true,
           "Streptococcus agalactiae"
          ],
          [
           true,
           "Streptococcus agalactiae"
          ],
          [
           true,
           "Streptococcus agalactiae"
          ],
          [
           true,
           "Streptococcus agalactiae"
          ],
          [
           true,
           "Streptococcus agalactiae"
          ],
          [
           true,
           "Streptococcus agalactiae"
          ],
          [
           true,
           "Staphylococcus capitis"
          ],
          [
           true,
           "Staphylococcus capitis"
          ],
          [
           true,
           "Staphylococcus epidermidis"
          ],
          [
           true,
           "Staphylococcus capitis"
          ],
          [
           true,
           "Staphylococcus capitis"
          ],
          [
           true,
           "Staphylococcus capitis"
          ],
          [
           true,
           "Staphylococcus capitis"
          ],
          [
           true,
           "Staphylococcus capitis"
          ],
          [
           true,
           "Staphylococcus capitis"
          ],
          [
           true,
           "Staphylococcus epidermidis"
          ],
          [
           true,
           "Staphylococcus epidermidis"
          ],
          [
           true,
           "Staphylococcus epidermidis"
          ],
          [
           true,
           "Staphylococcus epidermidis"
          ],
          [
           true,
           "Streptococcus agalactiae"
          ],
          [
           true,
           "Streptococcus agalactiae"
          ],
          [
           true,
           "Streptococcus agalactiae"
          ],
          [
           true,
           "Streptococcus anginosus"
          ],
          [
           true,
           "Streptococcus salivarius"
          ],
          [
           true,
           "Streptococcus mitis"
          ],
          [
           true,
           "Staphylococcus epidermidis"
          ],
          [
           true,
           "Staphylococcus epidermidis"
          ],
          [
           true,
           "Staphylococcus epidermidis"
          ],
          [
           true,
           "Staphylococcus epidermidis"
          ],
          [
           true,
           "Staphylococcus epidermidis"
          ],
          [
           true,
           "Staphylococcus epidermidis"
          ],
          [
           true,
           "Staphylococcus epidermidis"
          ],
          [
           true,
           "Staphylococcus epidermidis"
          ],
          [
           true,
           "Staphylococcus epidermidis"
          ],
          [
           true,
           "Staphylococcus epidermidis"
          ],
          [
           true,
           "Staphylococcus epidermidis"
          ],
          [
           true,
           "Staphylococcus epidermidis"
          ],
          [
           true,
           "Staphylococcus epidermidis"
          ],
          [
           true,
           "Staphylococcus epidermidis"
          ],
          [
           true,
           "Staphylococcus epidermidis"
          ],
          [
           true,
           "Staphylococcus epidermidis"
          ],
          [
           true,
           "Staphylococcus epidermidis"
          ],
          [
           true,
           "Staphylococcus epidermidis"
          ],
          [
           true,
           "Staphylococcus epidermidis"
          ],
          [
           true,
           "Staphylococcus epidermidis"
          ],
          [
           true,
           "Staphylococcus aureus"
          ],
          [
           true,
           "Staphylococcus aureus"
          ],
          [
           true,
           "Staphylococcus epidermidis"
          ],
          [
           true,
           "Staphylococcus epidermidis"
          ],
          [
           true,
           "Staphylococcus epidermidis"
          ],
          [
           true,
           "Staphylococcus epidermidis"
          ],
          [
           true,
           "Staphylococcus epidermidis"
          ],
          [
           true,
           "Staphylococcus epidermidis"
          ],
          [
           true,
           "Staphylococcus epidermidis"
          ],
          [
           true,
           "Staphylococcus epidermidis"
          ],
          [
           true,
           "Staphylococcus epidermidis"
          ],
          [
           true,
           "Staphylococcus epidermidis"
          ],
          [
           true,
           "Staphylococcus hominis"
          ],
          [
           true,
           "Staphylococcus epidermidis"
          ],
          [
           true,
           "Staphylococcus hominis"
          ],
          [
           true,
           "Staphylococcus hominis"
          ],
          [
           true,
           "Staphylococcus hominis"
          ],
          [
           true,
           "Staphylococcus hominis"
          ],
          [
           true,
           "Staphylococcus hominis"
          ],
          [
           true,
           "Staphylococcus hominis"
          ],
          [
           true,
           "Staphylococcus hominis"
          ],
          [
           true,
           "Staphylococcus hominis"
          ],
          [
           true,
           "Staphylococcus hominis"
          ],
          [
           true,
           "Streptococcus pneumoniae"
          ],
          [
           true,
           "Streptococcus pneumoniae"
          ],
          [
           true,
           "Streptococcus pneumoniae"
          ],
          [
           true,
           "Streptococcus pneumoniae"
          ],
          [
           true,
           "Streptococcus pyogenes"
          ],
          [
           true,
           "Streptococcus pyogenes"
          ],
          [
           true,
           "Streptococcus pyogenes"
          ],
          [
           true,
           "Streptococcus oralis"
          ],
          [
           true,
           "Streptococcus oralis"
          ],
          [
           true,
           "Streptococcus oralis"
          ],
          [
           true,
           "Streptococcus pneumoniae"
          ],
          [
           true,
           "Streptococcus sanguinis"
          ],
          [
           true,
           "Streptococcus pyogenes"
          ],
          [
           true,
           "Streptococcus pyogenes"
          ],
          [
           true,
           "Streptococcus pyogenes"
          ],
          [
           true,
           "Streptococcus pyogenes"
          ],
          [
           true,
           "Streptococcus pyogenes"
          ],
          [
           true,
           "Streptococcus pyogenes"
          ],
          [
           true,
           "Streptococcus salivarius"
          ],
          [
           true,
           "Staphylococcus hominis"
          ],
          [
           true,
           "Staphylococcus hominis"
          ],
          [
           true,
           "Staphylococcus hominis"
          ],
          [
           true,
           "Staphylococcus hominis"
          ],
          [
           true,
           "Staphylococcus hominis"
          ],
          [
           true,
           "Staphylococcus hominis"
          ],
          [
           true,
           "Staphylococcus hominis"
          ],
          [
           true,
           "Enterococcus faecium"
          ],
          [
           true,
           "Enterococcus faecium"
          ],
          [
           true,
           "Enterococcus faecium"
          ],
          [
           true,
           "Enterococcus faecium"
          ],
          [
           true,
           "Enterococcus faecium"
          ],
          [
           true,
           "Enterococcus faecium"
          ],
          [
           true,
           "Enterococcus faecium"
          ],
          [
           true,
           "Enterococcus faecium"
          ],
          [
           true,
           "Enterococcus faecium"
          ],
          [
           true,
           "Enterococcus faecium"
          ],
          [
           true,
           "Staphylococcus aureus"
          ],
          [
           true,
           "Staphylococcus aureus"
          ],
          [
           true,
           "Staphylococcus aureus"
          ],
          [
           true,
           "Staphylococcus aureus"
          ],
          [
           true,
           "Staphylococcus aureus"
          ],
          [
           true,
           "Staphylococcus aureus"
          ],
          [
           true,
           "Staphylococcus aureus"
          ],
          [
           true,
           "Staphylococcus aureus"
          ],
          [
           true,
           "Staphylococcus aureus"
          ],
          [
           true,
           "Staphylococcus aureus"
          ],
          [
           true,
           "Staphylococcus aureus"
          ],
          [
           true,
           "Staphylococcus aureus"
          ],
          [
           true,
           "Staphylococcus aureus"
          ],
          [
           true,
           "Staphylococcus aureus"
          ],
          [
           true,
           "Staphylococcus aureus"
          ],
          [
           true,
           "Staphylococcus aureus"
          ],
          [
           true,
           "Staphylococcus aureus"
          ],
          [
           true,
           "Staphylococcus aureus"
          ],
          [
           true,
           "Staphylococcus capitis"
          ],
          [
           true,
           "Staphylococcus capitis"
          ],
          [
           true,
           "Streptococcus pneumoniae"
          ],
          [
           true,
           "Streptococcus agalactiae"
          ],
          [
           true,
           "Streptococcus anginosus"
          ],
          [
           true,
           "Streptococcus mitis"
          ],
          [
           true,
           "Streptococcus pneumoniae"
          ],
          [
           true,
           "Streptococcus sanguinis"
          ],
          [
           true,
           "Streptococcus sanguinis"
          ],
          [
           true,
           "Streptococcus mitis"
          ],
          [
           true,
           "Streptococcus anginosus"
          ],
          [
           true,
           "Staphylococcus hominis"
          ],
          [
           true,
           "Staphylococcus hominis"
          ],
          [
           true,
           "Staphylococcus hominis"
          ],
          [
           true,
           "Staphylococcus hominis"
          ],
          [
           true,
           "Staphylococcus hominis"
          ],
          [
           true,
           "Enterococcus faecium"
          ],
          [
           true,
           "Enterococcus faecium"
          ],
          [
           true,
           "Streptococcus agalactiae"
          ],
          [
           true,
           "Staphylococcus hominis"
          ],
          [
           true,
           "Staphylococcus hominis"
          ],
          [
           true,
           "Staphylococcus hominis"
          ],
          [
           true,
           "Staphylococcus hominis"
          ],
          [
           true,
           "Staphylococcus lugdunensis"
          ],
          [
           true,
           "Staphylococcus lugdunensis"
          ],
          [
           true,
           "Staphylococcus lugdunensis"
          ],
          [
           true,
           "Staphylococcus lugdunensis"
          ],
          [
           true,
           "Staphylococcus lugdunensis"
          ],
          [
           true,
           "Streptococcus agalactiae"
          ],
          [
           true,
           "Streptococcus agalactiae"
          ],
          [
           true,
           "Streptococcus agalactiae"
          ],
          [
           true,
           "Streptococcus agalactiae"
          ],
          [
           true,
           "Streptococcus agalactiae"
          ],
          [
           true,
           "Streptococcus agalactiae"
          ],
          [
           true,
           "Streptococcus agalactiae"
          ],
          [
           true,
           "Streptococcus agalactiae"
          ],
          [
           true,
           "Streptococcus pneumoniae"
          ],
          [
           true,
           "Streptococcus pneumoniae"
          ],
          [
           true,
           "Staphylococcus hominis"
          ],
          [
           true,
           "Staphylococcus hominis"
          ],
          [
           true,
           "Staphylococcus hominis"
          ],
          [
           true,
           "Staphylococcus hominis"
          ],
          [
           true,
           "Staphylococcus hominis"
          ],
          [
           true,
           "Streptococcus mitis"
          ],
          [
           true,
           "Streptococcus mitis"
          ],
          [
           true,
           "Streptococcus sanguinis"
          ],
          [
           true,
           "Streptococcus mitis"
          ],
          [
           true,
           "Streptococcus oralis"
          ],
          [
           true,
           "Streptococcus oralis"
          ],
          [
           true,
           "Streptococcus agalactiae"
          ],
          [
           true,
           "Streptococcus pneumoniae"
          ],
          [
           true,
           "Streptococcus pyogenes"
          ],
          [
           true,
           "Streptococcus pyogenes"
          ],
          [
           true,
           "Streptococcus pyogenes"
          ],
          [
           true,
           "Streptococcus pyogenes"
          ],
          [
           true,
           "Streptococcus pyogenes"
          ],
          [
           true,
           "Streptococcus pyogenes"
          ],
          [
           true,
           "Streptococcus pyogenes"
          ],
          [
           true,
           "Streptococcus pyogenes"
          ],
          [
           true,
           "Streptococcus pyogenes"
          ],
          [
           true,
           "Streptococcus pyogenes"
          ],
          [
           true,
           "Streptococcus pyogenes"
          ],
          [
           true,
           "Streptococcus pyogenes"
          ],
          [
           true,
           "Streptococcus sanguinis"
          ],
          [
           true,
           "Streptococcus sanguinis"
          ],
          [
           true,
           "Streptococcus sanguinis"
          ],
          [
           true,
           "Staphylococcus aureus"
          ],
          [
           true,
           "Staphylococcus aureus"
          ],
          [
           true,
           "Staphylococcus aureus"
          ],
          [
           true,
           "Staphylococcus aureus"
          ],
          [
           true,
           "Staphylococcus aureus"
          ],
          [
           true,
           "Staphylococcus aureus"
          ],
          [
           true,
           "Staphylococcus aureus"
          ],
          [
           true,
           "Staphylococcus aureus"
          ],
          [
           true,
           "Staphylococcus aureus"
          ],
          [
           true,
           "Staphylococcus aureus"
          ],
          [
           true,
           "Staphylococcus aureus"
          ],
          [
           true,
           "Staphylococcus aureus"
          ],
          [
           true,
           "Staphylococcus aureus"
          ],
          [
           true,
           "Staphylococcus aureus"
          ],
          [
           true,
           "Staphylococcus aureus"
          ],
          [
           true,
           "Staphylococcus aureus"
          ],
          [
           true,
           "Staphylococcus aureus"
          ],
          [
           true,
           "Staphylococcus aureus"
          ],
          [
           true,
           "Staphylococcus capitis"
          ],
          [
           true,
           "Staphylococcus epidermidis"
          ],
          [
           true,
           "Staphylococcus lugdunensis"
          ],
          [
           true,
           "Staphylococcus lugdunensis"
          ],
          [
           true,
           "Staphylococcus lugdunensis"
          ],
          [
           true,
           "Staphylococcus lugdunensis"
          ],
          [
           true,
           "Staphylococcus lugdunensis"
          ],
          [
           true,
           "Staphylococcus lugdunensis"
          ],
          [
           true,
           "Staphylococcus epidermidis"
          ],
          [
           true,
           "Staphylococcus epidermidis"
          ],
          [
           true,
           "Staphylococcus epidermidis"
          ],
          [
           true,
           "Staphylococcus epidermidis"
          ],
          [
           true,
           "Staphylococcus epidermidis"
          ],
          [
           true,
           "Staphylococcus epidermidis"
          ],
          [
           true,
           "Staphylococcus lugdunensis"
          ],
          [
           true,
           "Staphylococcus aureus"
          ],
          [
           true,
           "Staphylococcus aureus"
          ],
          [
           true,
           "Staphylococcus aureus"
          ],
          [
           true,
           "Staphylococcus aureus"
          ],
          [
           true,
           "Staphylococcus aureus"
          ],
          [
           true,
           "Staphylococcus aureus"
          ],
          [
           true,
           "Staphylococcus aureus"
          ],
          [
           true,
           "Staphylococcus aureus"
          ],
          [
           true,
           "Staphylococcus aureus"
          ],
          [
           true,
           "Staphylococcus aureus"
          ],
          [
           true,
           "Staphylococcus aureus"
          ],
          [
           true,
           "Staphylococcus aureus"
          ],
          [
           true,
           "Staphylococcus aureus"
          ],
          [
           true,
           "Staphylococcus aureus"
          ],
          [
           true,
           "Staphylococcus aureus"
          ],
          [
           true,
           "Staphylococcus aureus"
          ],
          [
           true,
           "Staphylococcus aureus"
          ],
          [
           true,
           "Staphylococcus aureus"
          ],
          [
           true,
           "Staphylococcus aureus"
          ],
          [
           true,
           "Staphylococcus aureus"
          ],
          [
           true,
           "Staphylococcus aureus"
          ],
          [
           true,
           "Staphylococcus aureus"
          ],
          [
           true,
           "Staphylococcus aureus"
          ],
          [
           true,
           "Staphylococcus aureus"
          ],
          [
           true,
           "Staphylococcus aureus"
          ],
          [
           true,
           "Staphylococcus aureus"
          ],
          [
           true,
           "Staphylococcus aureus"
          ],
          [
           true,
           "Staphylococcus aureus"
          ],
          [
           true,
           "Staphylococcus aureus"
          ],
          [
           true,
           "Staphylococcus aureus"
          ],
          [
           true,
           "Staphylococcus aureus"
          ],
          [
           true,
           "Staphylococcus aureus"
          ],
          [
           true,
           "Staphylococcus aureus"
          ],
          [
           true,
           "Staphylococcus aureus"
          ],
          [
           true,
           "Staphylococcus epidermidis"
          ],
          [
           true,
           "Staphylococcus epidermidis"
          ],
          [
           true,
           "Streptococcus pneumoniae"
          ],
          [
           true,
           "Streptococcus pneumoniae"
          ],
          [
           true,
           "Streptococcus pneumoniae"
          ],
          [
           true,
           "Streptococcus pneumoniae"
          ],
          [
           true,
           "Streptococcus pneumoniae"
          ],
          [
           true,
           "Streptococcus pneumoniae"
          ],
          [
           true,
           "Streptococcus salivarius"
          ],
          [
           true,
           "Streptococcus salivarius"
          ],
          [
           true,
           "Streptococcus salivarius"
          ],
          [
           true,
           "Streptococcus salivarius"
          ],
          [
           true,
           "Staphylococcus aureus"
          ],
          [
           true,
           "Staphylococcus lugdunensis"
          ],
          [
           true,
           "Staphylococcus aureus"
          ],
          [
           true,
           "Staphylococcus aureus"
          ],
          [
           true,
           "Staphylococcus aureus"
          ],
          [
           true,
           "Enterococcus faecium"
          ],
          [
           true,
           "Enterococcus faecium"
          ],
          [
           true,
           "Staphylococcus aureus"
          ],
          [
           true,
           "Staphylococcus aureus"
          ],
          [
           true,
           "Staphylococcus aureus"
          ],
          [
           true,
           "Staphylococcus aureus"
          ],
          [
           true,
           "Staphylococcus aureus"
          ],
          [
           true,
           "Staphylococcus aureus"
          ],
          [
           true,
           "Staphylococcus aureus"
          ],
          [
           true,
           "Staphylococcus aureus"
          ],
          [
           true,
           "Staphylococcus aureus"
          ],
          [
           true,
           "Staphylococcus aureus"
          ],
          [
           true,
           "Staphylococcus aureus"
          ],
          [
           true,
           "Staphylococcus aureus"
          ],
          [
           true,
           "Staphylococcus aureus"
          ],
          [
           true,
           "Staphylococcus aureus"
          ],
          [
           true,
           "Staphylococcus aureus"
          ],
          [
           true,
           "Staphylococcus aureus"
          ],
          [
           true,
           "Staphylococcus aureus"
          ],
          [
           true,
           "Staphylococcus aureus"
          ],
          [
           true,
           "Staphylococcus aureus"
          ],
          [
           true,
           "Staphylococcus aureus"
          ],
          [
           true,
           "Staphylococcus aureus"
          ],
          [
           true,
           "Staphylococcus aureus"
          ],
          [
           true,
           "Enterococcus faecium"
          ],
          [
           true,
           "Enterococcus faecium"
          ],
          [
           true,
           "Staphylococcus aureus"
          ],
          [
           true,
           "Staphylococcus aureus"
          ],
          [
           true,
           "Staphylococcus aureus"
          ],
          [
           true,
           "Streptococcus agalactiae"
          ],
          [
           true,
           "Streptococcus agalactiae"
          ],
          [
           true,
           "Streptococcus agalactiae"
          ],
          [
           true,
           "Streptococcus anginosus"
          ],
          [
           true,
           "Streptococcus anginosus"
          ],
          [
           true,
           "Streptococcus anginosus"
          ],
          [
           true,
           "Streptococcus agalactiae"
          ],
          [
           true,
           "Streptococcus agalactiae"
          ],
          [
           true,
           "Streptococcus agalactiae"
          ],
          [
           true,
           "Streptococcus agalactiae"
          ],
          [
           true,
           "Streptococcus agalactiae"
          ],
          [
           true,
           "Streptococcus agalactiae"
          ],
          [
           true,
           "Streptococcus agalactiae"
          ],
          [
           true,
           "Streptococcus agalactiae"
          ],
          [
           true,
           "Staphylococcus capitis"
          ],
          [
           true,
           "Staphylococcus capitis"
          ],
          [
           true,
           "Staphylococcus epidermidis"
          ],
          [
           true,
           "Staphylococcus epidermidis"
          ],
          [
           true,
           "Staphylococcus capitis"
          ],
          [
           true,
           "Staphylococcus capitis"
          ],
          [
           true,
           "Staphylococcus capitis"
          ],
          [
           true,
           "Staphylococcus capitis"
          ],
          [
           true,
           "Staphylococcus capitis"
          ],
          [
           true,
           "Staphylococcus epidermidis"
          ],
          [
           true,
           "Staphylococcus epidermidis"
          ],
          [
           true,
           "Staphylococcus epidermidis"
          ],
          [
           true,
           "Staphylococcus epidermidis"
          ],
          [
           true,
           "Staphylococcus epidermidis"
          ],
          [
           true,
           "Staphylococcus epidermidis"
          ],
          [
           true,
           "Streptococcus agalactiae"
          ],
          [
           true,
           "Streptococcus agalactiae"
          ],
          [
           true,
           "Streptococcus agalactiae"
          ],
          [
           true,
           "Streptococcus agalactiae"
          ],
          [
           true,
           "Streptococcus anginosus"
          ],
          [
           true,
           "Streptococcus salivarius"
          ],
          [
           true,
           "Streptococcus mitis"
          ],
          [
           true,
           "Staphylococcus epidermidis"
          ],
          [
           true,
           "Staphylococcus epidermidis"
          ],
          [
           true,
           "Staphylococcus epidermidis"
          ],
          [
           true,
           "Staphylococcus epidermidis"
          ],
          [
           true,
           "Staphylococcus epidermidis"
          ],
          [
           true,
           "Staphylococcus epidermidis"
          ],
          [
           true,
           "Staphylococcus epidermidis"
          ],
          [
           true,
           "Staphylococcus epidermidis"
          ],
          [
           true,
           "Staphylococcus epidermidis"
          ],
          [
           true,
           "Staphylococcus epidermidis"
          ],
          [
           true,
           "Staphylococcus epidermidis"
          ],
          [
           true,
           "Staphylococcus epidermidis"
          ],
          [
           true,
           "Staphylococcus epidermidis"
          ],
          [
           true,
           "Staphylococcus epidermidis"
          ],
          [
           true,
           "Staphylococcus epidermidis"
          ],
          [
           true,
           "Staphylococcus epidermidis"
          ],
          [
           true,
           "Staphylococcus epidermidis"
          ],
          [
           true,
           "Staphylococcus epidermidis"
          ],
          [
           true,
           "Staphylococcus epidermidis"
          ],
          [
           true,
           "Staphylococcus epidermidis"
          ],
          [
           true,
           "Staphylococcus epidermidis"
          ],
          [
           true,
           "Staphylococcus epidermidis"
          ],
          [
           true,
           "Staphylococcus aureus"
          ],
          [
           true,
           "Staphylococcus aureus"
          ],
          [
           true,
           "Staphylococcus epidermidis"
          ],
          [
           true,
           "Staphylococcus epidermidis"
          ],
          [
           true,
           "Staphylococcus epidermidis"
          ],
          [
           true,
           "Staphylococcus epidermidis"
          ],
          [
           true,
           "Staphylococcus epidermidis"
          ],
          [
           true,
           "Staphylococcus epidermidis"
          ],
          [
           true,
           "Staphylococcus epidermidis"
          ],
          [
           true,
           "Staphylococcus epidermidis"
          ],
          [
           true,
           "Staphylococcus epidermidis"
          ],
          [
           true,
           "Staphylococcus epidermidis"
          ],
          [
           true,
           "Staphylococcus hominis"
          ],
          [
           true,
           "Staphylococcus epidermidis"
          ],
          [
           true,
           "Staphylococcus hominis"
          ],
          [
           true,
           "Staphylococcus hominis"
          ],
          [
           true,
           "Staphylococcus hominis"
          ],
          [
           true,
           "Staphylococcus hominis"
          ],
          [
           true,
           "Staphylococcus hominis"
          ],
          [
           true,
           "Staphylococcus hominis"
          ],
          [
           true,
           "Staphylococcus hominis"
          ],
          [
           true,
           "Staphylococcus hominis"
          ],
          [
           true,
           "Staphylococcus hominis"
          ],
          [
           true,
           "Streptococcus pneumoniae"
          ],
          [
           true,
           "Streptococcus pneumoniae"
          ],
          [
           true,
           "Streptococcus pneumoniae"
          ],
          [
           true,
           "Streptococcus pneumoniae"
          ],
          [
           true,
           "Streptococcus pneumoniae"
          ],
          [
           true,
           "Streptococcus pneumoniae"
          ],
          [
           true,
           "Streptococcus pneumoniae"
          ],
          [
           true,
           "Streptococcus pyogenes"
          ],
          [
           true,
           "Streptococcus pyogenes"
          ],
          [
           true,
           "Streptococcus pyogenes"
          ],
          [
           true,
           "Streptococcus oralis"
          ],
          [
           true,
           "Streptococcus oralis"
          ],
          [
           true,
           "Streptococcus oralis"
          ],
          [
           true,
           "Streptococcus pneumoniae"
          ],
          [
           true,
           "Streptococcus sanguinis"
          ],
          [
           true,
           "Streptococcus pyogenes"
          ],
          [
           true,
           "Streptococcus pyogenes"
          ],
          [
           true,
           "Streptococcus pyogenes"
          ],
          [
           true,
           "Streptococcus pyogenes"
          ],
          [
           true,
           "Streptococcus pyogenes"
          ],
          [
           true,
           "Streptococcus pyogenes"
          ],
          [
           true,
           "Streptococcus salivarius"
          ],
          [
           true,
           "Staphylococcus hominis"
          ],
          [
           true,
           "Staphylococcus hominis"
          ],
          [
           true,
           "Staphylococcus hominis"
          ],
          [
           true,
           "Staphylococcus hominis"
          ],
          [
           true,
           "Staphylococcus hominis"
          ],
          [
           true,
           "Staphylococcus hominis"
          ],
          [
           true,
           "Enterococcus faecium"
          ],
          [
           true,
           "Enterococcus faecium"
          ],
          [
           true,
           "Staphylococcus aureus"
          ],
          [
           true,
           "Staphylococcus aureus"
          ],
          [
           true,
           "Staphylococcus aureus"
          ],
          [
           true,
           "Staphylococcus aureus"
          ],
          [
           true,
           "Staphylococcus aureus"
          ],
          [
           true,
           "Staphylococcus aureus"
          ],
          [
           true,
           "Staphylococcus aureus"
          ],
          [
           true,
           "Staphylococcus aureus"
          ],
          [
           true,
           "Staphylococcus aureus"
          ],
          [
           true,
           "Staphylococcus aureus"
          ],
          [
           true,
           "Staphylococcus aureus"
          ],
          [
           true,
           "Staphylococcus aureus"
          ],
          [
           true,
           "Staphylococcus aureus"
          ],
          [
           true,
           "Staphylococcus aureus"
          ],
          [
           true,
           "Staphylococcus aureus"
          ],
          [
           true,
           "Staphylococcus aureus"
          ],
          [
           true,
           "Staphylococcus aureus"
          ],
          [
           true,
           "Staphylococcus aureus"
          ],
          [
           true,
           "Staphylococcus capitis"
          ],
          [
           true,
           "Staphylococcus capitis"
          ],
          [
           true,
           "Streptococcus pneumoniae"
          ],
          [
           true,
           "Streptococcus agalactiae"
          ],
          [
           true,
           "Streptococcus mitis"
          ],
          [
           true,
           "Streptococcus pneumoniae"
          ],
          [
           true,
           "Streptococcus sanguinis"
          ],
          [
           true,
           "Streptococcus sanguinis"
          ],
          [
           true,
           "Streptococcus anginosus"
          ],
          [
           true,
           "Staphylococcus hominis"
          ],
          [
           true,
           "Staphylococcus hominis"
          ],
          [
           true,
           "Staphylococcus hominis"
          ],
          [
           true,
           "Staphylococcus hominis"
          ],
          [
           true,
           "Staphylococcus hominis"
          ],
          [
           true,
           "Enterococcus faecium"
          ],
          [
           true,
           "Enterococcus faecium"
          ],
          [
           true,
           "Streptococcus agalactiae"
          ],
          [
           true,
           "Staphylococcus hominis"
          ],
          [
           true,
           "Staphylococcus hominis"
          ],
          [
           true,
           "Staphylococcus hominis"
          ],
          [
           true,
           "Staphylococcus hominis"
          ],
          [
           true,
           "Staphylococcus lugdunensis"
          ],
          [
           true,
           "Staphylococcus lugdunensis"
          ],
          [
           true,
           "Staphylococcus lugdunensis"
          ],
          [
           true,
           "Staphylococcus lugdunensis"
          ],
          [
           true,
           "Staphylococcus lugdunensis"
          ],
          [
           true,
           "Streptococcus agalactiae"
          ],
          [
           true,
           "Streptococcus agalactiae"
          ],
          [
           true,
           "Streptococcus agalactiae"
          ],
          [
           true,
           "Streptococcus agalactiae"
          ],
          [
           true,
           "Streptococcus agalactiae"
          ],
          [
           true,
           "Streptococcus agalactiae"
          ],
          [
           true,
           "Streptococcus agalactiae"
          ],
          [
           true,
           "Streptococcus pneumoniae"
          ],
          [
           true,
           "Streptococcus pneumoniae"
          ],
          [
           true,
           "Streptococcus pneumoniae"
          ],
          [
           true,
           "Streptococcus pneumoniae"
          ],
          [
           true,
           "Streptococcus pneumoniae"
          ],
          [
           true,
           "Streptococcus pneumoniae"
          ],
          [
           true,
           "Streptococcus pneumoniae"
          ],
          [
           true,
           "Streptococcus pneumoniae"
          ],
          [
           true,
           "Staphylococcus hominis"
          ],
          [
           true,
           "Staphylococcus hominis"
          ],
          [
           true,
           "Staphylococcus hominis"
          ],
          [
           true,
           "Staphylococcus hominis"
          ],
          [
           true,
           "Staphylococcus hominis"
          ],
          [
           true,
           "Streptococcus mitis"
          ],
          [
           true,
           "Streptococcus mitis"
          ],
          [
           true,
           "Streptococcus sanguinis"
          ],
          [
           true,
           "Streptococcus mitis"
          ],
          [
           true,
           "Streptococcus oralis"
          ],
          [
           true,
           "Streptococcus oralis"
          ],
          [
           true,
           "Streptococcus agalactiae"
          ],
          [
           true,
           "Streptococcus pneumoniae"
          ],
          [
           true,
           "Streptococcus pyogenes"
          ],
          [
           true,
           "Streptococcus pyogenes"
          ],
          [
           true,
           "Streptococcus pyogenes"
          ],
          [
           true,
           "Streptococcus pyogenes"
          ],
          [
           true,
           "Streptococcus pyogenes"
          ],
          [
           true,
           "Streptococcus pyogenes"
          ],
          [
           true,
           "Streptococcus pyogenes"
          ],
          [
           true,
           "Streptococcus pyogenes"
          ],
          [
           true,
           "Streptococcus pyogenes"
          ],
          [
           true,
           "Streptococcus pyogenes"
          ],
          [
           true,
           "Streptococcus pyogenes"
          ],
          [
           true,
           "Streptococcus pyogenes"
          ],
          [
           true,
           "Streptococcus sanguinis"
          ],
          [
           true,
           "Streptococcus sanguinis"
          ],
          [
           true,
           "Streptococcus sanguinis"
          ],
          [
           true,
           "Staphylococcus aureus"
          ],
          [
           true,
           "Staphylococcus aureus"
          ],
          [
           true,
           "Staphylococcus aureus"
          ],
          [
           true,
           "Staphylococcus aureus"
          ],
          [
           true,
           "Staphylococcus aureus"
          ],
          [
           true,
           "Staphylococcus aureus"
          ],
          [
           true,
           "Staphylococcus aureus"
          ],
          [
           true,
           "Staphylococcus aureus"
          ],
          [
           true,
           "Staphylococcus aureus"
          ],
          [
           true,
           "Staphylococcus aureus"
          ],
          [
           true,
           "Staphylococcus aureus"
          ],
          [
           true,
           "Staphylococcus aureus"
          ],
          [
           true,
           "Staphylococcus aureus"
          ],
          [
           true,
           "Staphylococcus aureus"
          ],
          [
           true,
           "Staphylococcus aureus"
          ],
          [
           true,
           "Staphylococcus aureus"
          ],
          [
           true,
           "Staphylococcus capitis"
          ],
          [
           true,
           "Staphylococcus epidermidis"
          ],
          [
           true,
           "Staphylococcus lugdunensis"
          ],
          [
           true,
           "Staphylococcus lugdunensis"
          ],
          [
           true,
           "Staphylococcus lugdunensis"
          ],
          [
           true,
           "Staphylococcus lugdunensis"
          ],
          [
           true,
           "Staphylococcus lugdunensis"
          ],
          [
           true,
           "Staphylococcus lugdunensis"
          ],
          [
           true,
           "Staphylococcus epidermidis"
          ],
          [
           true,
           "Staphylococcus epidermidis"
          ],
          [
           true,
           "Staphylococcus epidermidis"
          ],
          [
           true,
           "Staphylococcus epidermidis"
          ],
          [
           true,
           "Staphylococcus epidermidis"
          ],
          [
           true,
           "Staphylococcus epidermidis"
          ],
          [
           true,
           "Staphylococcus lugdunensis"
          ],
          [
           true,
           "Staphylococcus aureus"
          ],
          [
           true,
           "Staphylococcus aureus"
          ],
          [
           true,
           "Staphylococcus aureus"
          ],
          [
           true,
           "Staphylococcus aureus"
          ],
          [
           true,
           "Staphylococcus aureus"
          ],
          [
           true,
           "Staphylococcus aureus"
          ],
          [
           true,
           "Staphylococcus aureus"
          ],
          [
           true,
           "Staphylococcus aureus"
          ],
          [
           true,
           "Staphylococcus aureus"
          ],
          [
           true,
           "Staphylococcus aureus"
          ],
          [
           true,
           "Staphylococcus aureus"
          ],
          [
           true,
           "Staphylococcus aureus"
          ],
          [
           true,
           "Staphylococcus aureus"
          ],
          [
           true,
           "Staphylococcus aureus"
          ],
          [
           true,
           "Staphylococcus aureus"
          ],
          [
           true,
           "Staphylococcus aureus"
          ],
          [
           true,
           "Staphylococcus aureus"
          ],
          [
           true,
           "Staphylococcus aureus"
          ],
          [
           true,
           "Staphylococcus aureus"
          ],
          [
           true,
           "Staphylococcus aureus"
          ],
          [
           true,
           "Staphylococcus aureus"
          ],
          [
           true,
           "Staphylococcus aureus"
          ],
          [
           true,
           "Staphylococcus aureus"
          ],
          [
           true,
           "Staphylococcus aureus"
          ],
          [
           true,
           "Staphylococcus aureus"
          ],
          [
           true,
           "Staphylococcus aureus"
          ],
          [
           true,
           "Staphylococcus aureus"
          ],
          [
           true,
           "Staphylococcus aureus"
          ],
          [
           true,
           "Staphylococcus aureus"
          ],
          [
           true,
           "Staphylococcus aureus"
          ],
          [
           true,
           "Staphylococcus epidermidis"
          ],
          [
           true,
           "Staphylococcus epidermidis"
          ],
          [
           true,
           "Staphylococcus epidermidis"
          ],
          [
           true,
           "Staphylococcus epidermidis"
          ],
          [
           true,
           "Staphylococcus epidermidis"
          ],
          [
           true,
           "Streptococcus pneumoniae"
          ],
          [
           true,
           "Streptococcus pneumoniae"
          ],
          [
           true,
           "Streptococcus pneumoniae"
          ],
          [
           true,
           "Streptococcus pneumoniae"
          ],
          [
           true,
           "Streptococcus pneumoniae"
          ],
          [
           true,
           "Streptococcus pneumoniae"
          ],
          [
           true,
           "Streptococcus salivarius"
          ],
          [
           true,
           "Streptococcus salivarius"
          ],
          [
           true,
           "Streptococcus salivarius"
          ],
          [
           true,
           "Streptococcus salivarius"
          ],
          [
           true,
           "Staphylococcus aureus"
          ],
          [
           true,
           "Staphylococcus lugdunensis"
          ],
          [
           true,
           "Staphylococcus aureus"
          ],
          [
           true,
           "Staphylococcus aureus"
          ],
          [
           true,
           "Staphylococcus capitis"
          ],
          [
           true,
           "Staphylococcus capitis"
          ],
          [
           true,
           "Staphylococcus epidermidis"
          ],
          [
           true,
           "Staphylococcus epidermidis"
          ],
          [
           true,
           "Staphylococcus aureus"
          ],
          [
           true,
           "Staphylococcus hominis"
          ],
          [
           true,
           "Staphylococcus lugdunensis"
          ],
          [
           true,
           "Staphylococcus lugdunensis"
          ],
          [
           true,
           "Staphylococcus lugdunensis"
          ],
          [
           true,
           "Staphylococcus aureus"
          ],
          [
           true,
           "Staphylococcus aureus"
          ],
          [
           true,
           "Staphylococcus aureus"
          ],
          [
           true,
           "Staphylococcus epidermidis"
          ],
          [
           true,
           "Staphylococcus aureus"
          ],
          [
           true,
           "Staphylococcus aureus"
          ],
          [
           true,
           "Staphylococcus aureus"
          ],
          [
           true,
           "Staphylococcus aureus"
          ],
          [
           true,
           "Staphylococcus aureus"
          ],
          [
           true,
           "Staphylococcus lugdunensis"
          ],
          [
           true,
           "Staphylococcus aureus"
          ],
          [
           true,
           "Staphylococcus aureus"
          ],
          [
           true,
           "Staphylococcus aureus"
          ],
          [
           true,
           "Staphylococcus aureus"
          ],
          [
           true,
           "Streptococcus agalactiae"
          ],
          [
           true,
           "Streptococcus agalactiae"
          ],
          [
           true,
           "Staphylococcus capitis"
          ],
          [
           true,
           "Staphylococcus epidermidis"
          ],
          [
           true,
           "Staphylococcus epidermidis"
          ],
          [
           true,
           "Staphylococcus epidermidis"
          ],
          [
           true,
           "Streptococcus agalactiae"
          ],
          [
           true,
           "Staphylococcus epidermidis"
          ],
          [
           true,
           "Staphylococcus epidermidis"
          ],
          [
           true,
           "Staphylococcus epidermidis"
          ],
          [
           true,
           "Staphylococcus epidermidis"
          ],
          [
           true,
           "Staphylococcus epidermidis"
          ],
          [
           true,
           "Staphylococcus epidermidis"
          ],
          [
           true,
           "Staphylococcus epidermidis"
          ],
          [
           true,
           "Staphylococcus epidermidis"
          ],
          [
           true,
           "Staphylococcus aureus"
          ],
          [
           true,
           "Staphylococcus aureus"
          ],
          [
           true,
           "Staphylococcus hominis"
          ],
          [
           true,
           "Staphylococcus hominis"
          ],
          [
           true,
           "Staphylococcus hominis"
          ],
          [
           true,
           "Staphylococcus hominis"
          ],
          [
           true,
           "Staphylococcus hominis"
          ],
          [
           true,
           "Staphylococcus hominis"
          ],
          [
           true,
           "Staphylococcus hominis"
          ],
          [
           true,
           "Staphylococcus hominis"
          ],
          [
           true,
           "Staphylococcus hominis"
          ],
          [
           true,
           "Streptococcus pneumoniae"
          ],
          [
           true,
           "Streptococcus pneumoniae"
          ],
          [
           true,
           "Streptococcus pneumoniae"
          ],
          [
           true,
           "Streptococcus pneumoniae"
          ],
          [
           true,
           "Streptococcus pyogenes"
          ],
          [
           true,
           "Streptococcus pyogenes"
          ],
          [
           true,
           "Streptococcus pyogenes"
          ],
          [
           true,
           "Streptococcus pyogenes"
          ],
          [
           true,
           "Staphylococcus hominis"
          ],
          [
           true,
           "Staphylococcus hominis"
          ],
          [
           true,
           "Staphylococcus hominis"
          ],
          [
           true,
           "Staphylococcus hominis"
          ],
          [
           true,
           "Staphylococcus hominis"
          ],
          [
           true,
           "Staphylococcus hominis"
          ],
          [
           true,
           "Staphylococcus aureus"
          ],
          [
           true,
           "Staphylococcus aureus"
          ],
          [
           true,
           "Staphylococcus aureus"
          ],
          [
           true,
           "Staphylococcus aureus"
          ],
          [
           true,
           "Staphylococcus aureus"
          ],
          [
           true,
           "Staphylococcus aureus"
          ],
          [
           true,
           "Staphylococcus aureus"
          ],
          [
           true,
           "Staphylococcus aureus"
          ],
          [
           true,
           "Staphylococcus aureus"
          ],
          [
           true,
           "Staphylococcus aureus"
          ],
          [
           true,
           "Staphylococcus aureus"
          ],
          [
           true,
           "Staphylococcus aureus"
          ],
          [
           true,
           "Staphylococcus aureus"
          ],
          [
           true,
           "Staphylococcus aureus"
          ],
          [
           true,
           "Streptococcus pneumoniae"
          ],
          [
           true,
           "Staphylococcus hominis"
          ],
          [
           true,
           "Staphylococcus hominis"
          ],
          [
           true,
           "Staphylococcus lugdunensis"
          ],
          [
           true,
           "Staphylococcus lugdunensis"
          ],
          [
           true,
           "Staphylococcus lugdunensis"
          ],
          [
           true,
           "Staphylococcus lugdunensis"
          ],
          [
           true,
           "Streptococcus agalactiae"
          ],
          [
           true,
           "Streptococcus agalactiae"
          ],
          [
           true,
           "Staphylococcus hominis"
          ],
          [
           true,
           "Staphylococcus hominis"
          ],
          [
           true,
           "Staphylococcus hominis"
          ],
          [
           true,
           "Staphylococcus hominis"
          ],
          [
           true,
           "Streptococcus agalactiae"
          ],
          [
           true,
           "Streptococcus pyogenes"
          ],
          [
           true,
           "Streptococcus pyogenes"
          ],
          [
           true,
           "Streptococcus pyogenes"
          ],
          [
           true,
           "Streptococcus pyogenes"
          ],
          [
           true,
           "Streptococcus pyogenes"
          ],
          [
           true,
           "Staphylococcus aureus"
          ],
          [
           true,
           "Staphylococcus aureus"
          ],
          [
           true,
           "Staphylococcus aureus"
          ],
          [
           true,
           "Staphylococcus aureus"
          ],
          [
           true,
           "Staphylococcus aureus"
          ],
          [
           true,
           "Staphylococcus aureus"
          ],
          [
           true,
           "Staphylococcus aureus"
          ],
          [
           true,
           "Staphylococcus aureus"
          ],
          [
           true,
           "Staphylococcus aureus"
          ],
          [
           true,
           "Staphylococcus aureus"
          ],
          [
           true,
           "Staphylococcus aureus"
          ],
          [
           true,
           "Staphylococcus aureus"
          ],
          [
           true,
           "Staphylococcus aureus"
          ],
          [
           true,
           "Staphylococcus aureus"
          ],
          [
           true,
           "Staphylococcus aureus"
          ],
          [
           true,
           "Staphylococcus lugdunensis"
          ],
          [
           true,
           "Staphylococcus lugdunensis"
          ],
          [
           true,
           "Staphylococcus aureus"
          ],
          [
           true,
           "Staphylococcus aureus"
          ],
          [
           true,
           "Staphylococcus aureus"
          ],
          [
           true,
           "Staphylococcus aureus"
          ],
          [
           true,
           "Staphylococcus aureus"
          ],
          [
           true,
           "Staphylococcus aureus"
          ],
          [
           true,
           "Staphylococcus aureus"
          ],
          [
           true,
           "Staphylococcus aureus"
          ],
          [
           true,
           "Staphylococcus aureus"
          ],
          [
           true,
           "Staphylococcus aureus"
          ],
          [
           true,
           "Staphylococcus aureus"
          ],
          [
           true,
           "Staphylococcus aureus"
          ],
          [
           true,
           "Staphylococcus aureus"
          ],
          [
           true,
           "Staphylococcus aureus"
          ],
          [
           true,
           "Staphylococcus aureus"
          ],
          [
           true,
           "Streptococcus pneumoniae"
          ],
          [
           true,
           "Streptococcus pneumoniae"
          ],
          [
           true,
           "Staphylococcus aureus"
          ],
          [
           true,
           "Staphylococcus lugdunensis"
          ],
          [
           true,
           "Staphylococcus aureus"
          ],
          [
           true,
           "Staphylococcus aureus"
          ],
          [
           true,
           "Staphylococcus capitis"
          ],
          [
           true,
           "Staphylococcus epidermidis"
          ],
          [
           true,
           "Staphylococcus capitis"
          ],
          [
           true,
           "Staphylococcus capitis"
          ],
          [
           true,
           "Staphylococcus capitis"
          ],
          [
           true,
           "Staphylococcus capitis"
          ],
          [
           true,
           "Staphylococcus capitis"
          ],
          [
           true,
           "Staphylococcus epidermidis"
          ],
          [
           true,
           "Staphylococcus epidermidis"
          ],
          [
           true,
           "Staphylococcus epidermidis"
          ],
          [
           true,
           "Staphylococcus epidermidis"
          ],
          [
           true,
           "Staphylococcus epidermidis"
          ],
          [
           true,
           "Staphylococcus epidermidis"
          ],
          [
           true,
           "Staphylococcus epidermidis"
          ],
          [
           true,
           "Staphylococcus epidermidis"
          ],
          [
           true,
           "Staphylococcus epidermidis"
          ],
          [
           true,
           "Staphylococcus epidermidis"
          ],
          [
           true,
           "Staphylococcus aureus"
          ],
          [
           true,
           "Staphylococcus aureus"
          ],
          [
           true,
           "Staphylococcus epidermidis"
          ],
          [
           true,
           "Staphylococcus epidermidis"
          ],
          [
           true,
           "Staphylococcus epidermidis"
          ],
          [
           true,
           "Staphylococcus epidermidis"
          ],
          [
           true,
           "Staphylococcus epidermidis"
          ],
          [
           true,
           "Staphylococcus hominis"
          ],
          [
           true,
           "Staphylococcus hominis"
          ],
          [
           true,
           "Staphylococcus hominis"
          ],
          [
           true,
           "Staphylococcus hominis"
          ],
          [
           true,
           "Staphylococcus hominis"
          ],
          [
           true,
           "Staphylococcus hominis"
          ],
          [
           true,
           "Staphylococcus hominis"
          ],
          [
           true,
           "Staphylococcus aureus"
          ],
          [
           true,
           "Staphylococcus aureus"
          ],
          [
           true,
           "Staphylococcus aureus"
          ],
          [
           true,
           "Staphylococcus aureus"
          ],
          [
           true,
           "Staphylococcus aureus"
          ],
          [
           true,
           "Staphylococcus aureus"
          ],
          [
           true,
           "Staphylococcus aureus"
          ],
          [
           true,
           "Staphylococcus hominis"
          ],
          [
           true,
           "Staphylococcus hominis"
          ],
          [
           true,
           "Staphylococcus hominis"
          ],
          [
           true,
           "Staphylococcus hominis"
          ],
          [
           true,
           "Staphylococcus hominis"
          ],
          [
           true,
           "Staphylococcus hominis"
          ],
          [
           true,
           "Staphylococcus hominis"
          ],
          [
           true,
           "Staphylococcus hominis"
          ],
          [
           true,
           "Staphylococcus lugdunensis"
          ],
          [
           true,
           "Staphylococcus lugdunensis"
          ],
          [
           true,
           "Staphylococcus lugdunensis"
          ],
          [
           true,
           "Staphylococcus hominis"
          ],
          [
           true,
           "Staphylococcus hominis"
          ],
          [
           true,
           "Staphylococcus aureus"
          ],
          [
           true,
           "Staphylococcus aureus"
          ],
          [
           true,
           "Staphylococcus aureus"
          ],
          [
           true,
           "Staphylococcus aureus"
          ],
          [
           true,
           "Staphylococcus aureus"
          ],
          [
           true,
           "Staphylococcus aureus"
          ],
          [
           true,
           "Staphylococcus aureus"
          ],
          [
           true,
           "Staphylococcus aureus"
          ],
          [
           true,
           "Staphylococcus aureus"
          ],
          [
           true,
           "Staphylococcus aureus"
          ],
          [
           true,
           "Staphylococcus aureus"
          ],
          [
           true,
           "Staphylococcus aureus"
          ],
          [
           true,
           "Staphylococcus aureus"
          ],
          [
           true,
           "Staphylococcus aureus"
          ],
          [
           true,
           "Staphylococcus aureus"
          ],
          [
           true,
           "Staphylococcus aureus"
          ],
          [
           true,
           "Staphylococcus lugdunensis"
          ],
          [
           true,
           "Staphylococcus lugdunensis"
          ],
          [
           true,
           "Staphylococcus lugdunensis"
          ],
          [
           true,
           "Staphylococcus lugdunensis"
          ],
          [
           true,
           "Staphylococcus epidermidis"
          ],
          [
           true,
           "Staphylococcus epidermidis"
          ],
          [
           true,
           "Staphylococcus epidermidis"
          ],
          [
           true,
           "Staphylococcus aureus"
          ],
          [
           true,
           "Staphylococcus aureus"
          ],
          [
           true,
           "Staphylococcus aureus"
          ],
          [
           true,
           "Staphylococcus aureus"
          ],
          [
           true,
           "Staphylococcus aureus"
          ],
          [
           true,
           "Staphylococcus aureus"
          ],
          [
           true,
           "Staphylococcus aureus"
          ],
          [
           true,
           "Staphylococcus aureus"
          ],
          [
           true,
           "Staphylococcus aureus"
          ],
          [
           true,
           "Staphylococcus aureus"
          ],
          [
           true,
           "Staphylococcus aureus"
          ],
          [
           true,
           "Staphylococcus aureus"
          ],
          [
           true,
           "Staphylococcus aureus"
          ],
          [
           true,
           "Staphylococcus aureus"
          ],
          [
           true,
           "Staphylococcus aureus"
          ],
          [
           true,
           "Staphylococcus aureus"
          ],
          [
           true,
           "Staphylococcus aureus"
          ],
          [
           true,
           "Staphylococcus aureus"
          ],
          [
           true,
           "Staphylococcus aureus"
          ],
          [
           true,
           "Staphylococcus aureus"
          ],
          [
           true,
           "Staphylococcus aureus"
          ],
          [
           true,
           "Staphylococcus aureus"
          ],
          [
           true,
           "Staphylococcus aureus"
          ],
          [
           true,
           "Staphylococcus epidermidis"
          ],
          [
           true,
           "Staphylococcus epidermidis"
          ],
          [
           true,
           "Staphylococcus epidermidis"
          ],
          [
           true,
           "Streptococcus pneumoniae"
          ],
          [
           true,
           "Streptococcus pneumoniae"
          ],
          [
           true,
           "Streptococcus pneumoniae"
          ],
          [
           true,
           "Staphylococcus aureus"
          ],
          [
           true,
           "Enterococcus faecium"
          ],
          [
           true,
           "Enterococcus faecium"
          ],
          [
           true,
           "Enterococcus faecium"
          ],
          [
           true,
           "Enterococcus faecium"
          ],
          [
           true,
           "Enterococcus faecium"
          ],
          [
           true,
           "Staphylococcus aureus"
          ],
          [
           true,
           "Staphylococcus aureus"
          ],
          [
           true,
           "Staphylococcus aureus"
          ],
          [
           true,
           "Staphylococcus aureus"
          ],
          [
           true,
           "Staphylococcus aureus"
          ],
          [
           true,
           "Staphylococcus aureus"
          ],
          [
           true,
           "Staphylococcus aureus"
          ],
          [
           true,
           "Enterococcus faecalis"
          ],
          [
           true,
           "Enterococcus faecium"
          ],
          [
           true,
           "Enterococcus faecium"
          ],
          [
           true,
           "Enterococcus faecium"
          ],
          [
           true,
           "Enterococcus faecium"
          ],
          [
           true,
           "Streptococcus agalactiae"
          ],
          [
           true,
           "Streptococcus agalactiae"
          ],
          [
           true,
           "Streptococcus agalactiae"
          ],
          [
           true,
           "Streptococcus agalactiae"
          ],
          [
           true,
           "Streptococcus agalactiae"
          ],
          [
           true,
           "Streptococcus agalactiae"
          ],
          [
           true,
           "Streptococcus agalactiae"
          ],
          [
           true,
           "Streptococcus agalactiae"
          ],
          [
           true,
           "Streptococcus agalactiae"
          ],
          [
           true,
           "Streptococcus agalactiae"
          ],
          [
           true,
           "Streptococcus agalactiae"
          ],
          [
           true,
           "Staphylococcus capitis"
          ],
          [
           true,
           "Staphylococcus capitis"
          ],
          [
           true,
           "Staphylococcus epidermidis"
          ],
          [
           true,
           "Staphylococcus epidermidis"
          ],
          [
           true,
           "Staphylococcus capitis"
          ],
          [
           true,
           "Staphylococcus capitis"
          ],
          [
           true,
           "Staphylococcus capitis"
          ],
          [
           true,
           "Staphylococcus capitis"
          ],
          [
           true,
           "Staphylococcus capitis"
          ],
          [
           true,
           "Staphylococcus capitis"
          ],
          [
           true,
           "Staphylococcus epidermidis"
          ],
          [
           true,
           "Staphylococcus epidermidis"
          ],
          [
           true,
           "Staphylococcus epidermidis"
          ],
          [
           true,
           "Staphylococcus epidermidis"
          ],
          [
           true,
           "Streptococcus agalactiae"
          ],
          [
           true,
           "Streptococcus agalactiae"
          ],
          [
           true,
           "Streptococcus agalactiae"
          ],
          [
           true,
           "Streptococcus agalactiae"
          ],
          [
           true,
           "Staphylococcus epidermidis"
          ],
          [
           true,
           "Staphylococcus epidermidis"
          ],
          [
           true,
           "Staphylococcus epidermidis"
          ],
          [
           true,
           "Staphylococcus epidermidis"
          ],
          [
           true,
           "Staphylococcus epidermidis"
          ],
          [
           true,
           "Staphylococcus epidermidis"
          ],
          [
           true,
           "Staphylococcus epidermidis"
          ],
          [
           true,
           "Staphylococcus epidermidis"
          ],
          [
           true,
           "Staphylococcus epidermidis"
          ],
          [
           true,
           "Staphylococcus epidermidis"
          ],
          [
           true,
           "Staphylococcus epidermidis"
          ],
          [
           true,
           "Staphylococcus epidermidis"
          ],
          [
           true,
           "Staphylococcus epidermidis"
          ],
          [
           true,
           "Staphylococcus epidermidis"
          ],
          [
           true,
           "Staphylococcus epidermidis"
          ],
          [
           true,
           "Staphylococcus epidermidis"
          ],
          [
           true,
           "Staphylococcus epidermidis"
          ],
          [
           true,
           "Staphylococcus epidermidis"
          ],
          [
           true,
           "Staphylococcus epidermidis"
          ],
          [
           true,
           "Staphylococcus epidermidis"
          ],
          [
           true,
           "Enterococcus faecalis"
          ],
          [
           true,
           "Staphylococcus aureus"
          ],
          [
           true,
           "Staphylococcus aureus"
          ],
          [
           true,
           "Staphylococcus epidermidis"
          ],
          [
           true,
           "Staphylococcus epidermidis"
          ],
          [
           true,
           "Staphylococcus epidermidis"
          ],
          [
           true,
           "Staphylococcus epidermidis"
          ],
          [
           true,
           "Staphylococcus epidermidis"
          ],
          [
           true,
           "Staphylococcus epidermidis"
          ],
          [
           true,
           "Staphylococcus epidermidis"
          ],
          [
           true,
           "Staphylococcus hominis"
          ],
          [
           true,
           "Staphylococcus hominis"
          ],
          [
           true,
           "Staphylococcus hominis"
          ],
          [
           true,
           "Staphylococcus hominis"
          ],
          [
           true,
           "Staphylococcus hominis"
          ],
          [
           true,
           "Staphylococcus hominis"
          ],
          [
           true,
           "Staphylococcus hominis"
          ],
          [
           true,
           "Staphylococcus hominis"
          ],
          [
           true,
           "Staphylococcus hominis"
          ],
          [
           true,
           "Staphylococcus hominis"
          ],
          [
           true,
           "Staphylococcus hominis"
          ],
          [
           true,
           "Streptococcus pneumoniae"
          ],
          [
           true,
           "Streptococcus pneumoniae"
          ],
          [
           true,
           "Streptococcus pneumoniae"
          ],
          [
           true,
           "Streptococcus pneumoniae"
          ],
          [
           true,
           "Streptococcus pneumoniae"
          ],
          [
           true,
           "Streptococcus pneumoniae"
          ],
          [
           true,
           "Streptococcus pyogenes"
          ],
          [
           true,
           "Streptococcus pyogenes"
          ],
          [
           true,
           "Streptococcus pyogenes"
          ],
          [
           true,
           "Streptococcus pneumoniae"
          ],
          [
           true,
           "Streptococcus pyogenes"
          ],
          [
           true,
           "Streptococcus pyogenes"
          ],
          [
           true,
           "Streptococcus pyogenes"
          ],
          [
           true,
           "Streptococcus pyogenes"
          ],
          [
           true,
           "Streptococcus pyogenes"
          ],
          [
           true,
           "Staphylococcus hominis"
          ],
          [
           true,
           "Staphylococcus hominis"
          ],
          [
           true,
           "Staphylococcus hominis"
          ],
          [
           true,
           "Staphylococcus hominis"
          ],
          [
           true,
           "Staphylococcus hominis"
          ],
          [
           true,
           "Staphylococcus hominis"
          ],
          [
           true,
           "Staphylococcus hominis"
          ],
          [
           true,
           "Enterococcus faecium"
          ],
          [
           true,
           "Enterococcus faecium"
          ],
          [
           true,
           "Enterococcus faecium"
          ],
          [
           true,
           "Enterococcus faecium"
          ],
          [
           true,
           "Enterococcus faecium"
          ],
          [
           true,
           "Enterococcus faecium"
          ],
          [
           true,
           "Enterococcus faecium"
          ],
          [
           true,
           "Enterococcus faecium"
          ],
          [
           true,
           "Enterococcus faecium"
          ],
          [
           true,
           "Enterococcus faecium"
          ],
          [
           true,
           "Enterococcus faecium"
          ],
          [
           true,
           "Enterococcus faecium"
          ],
          [
           true,
           "Enterococcus faecium"
          ],
          [
           true,
           "Enterococcus faecium"
          ],
          [
           true,
           "Enterococcus faecium"
          ],
          [
           true,
           "Enterococcus faecium"
          ],
          [
           true,
           "Enterococcus faecium"
          ],
          [
           true,
           "Enterococcus faecium"
          ],
          [
           true,
           "Staphylococcus aureus"
          ],
          [
           true,
           "Staphylococcus aureus"
          ],
          [
           true,
           "Staphylococcus aureus"
          ],
          [
           true,
           "Staphylococcus aureus"
          ],
          [
           true,
           "Staphylococcus aureus"
          ],
          [
           true,
           "Staphylococcus aureus"
          ],
          [
           true,
           "Staphylococcus aureus"
          ],
          [
           true,
           "Staphylococcus aureus"
          ],
          [
           true,
           "Staphylococcus aureus"
          ],
          [
           true,
           "Staphylococcus aureus"
          ],
          [
           true,
           "Staphylococcus aureus"
          ],
          [
           true,
           "Staphylococcus aureus"
          ],
          [
           true,
           "Staphylococcus aureus"
          ],
          [
           true,
           "Staphylococcus capitis"
          ],
          [
           true,
           "Staphylococcus capitis"
          ],
          [
           true,
           "Streptococcus pneumoniae"
          ],
          [
           true,
           "Streptococcus agalactiae"
          ],
          [
           true,
           "Streptococcus pneumoniae"
          ],
          [
           true,
           "Staphylococcus hominis"
          ],
          [
           true,
           "Staphylococcus hominis"
          ],
          [
           true,
           "Staphylococcus hominis"
          ],
          [
           true,
           "Staphylococcus hominis"
          ],
          [
           true,
           "Staphylococcus hominis"
          ],
          [
           true,
           "Staphylococcus hominis"
          ],
          [
           true,
           "Enterococcus faecium"
          ],
          [
           true,
           "Enterococcus faecium"
          ],
          [
           true,
           "Enterococcus faecium"
          ],
          [
           true,
           "Enterococcus faecium"
          ],
          [
           true,
           "Enterococcus faecium"
          ],
          [
           true,
           "Enterococcus faecium"
          ],
          [
           true,
           "Enterococcus faecium"
          ],
          [
           true,
           "Streptococcus agalactiae"
          ],
          [
           true,
           "Staphylococcus lugdunensis"
          ],
          [
           true,
           "Staphylococcus lugdunensis"
          ],
          [
           true,
           "Staphylococcus lugdunensis"
          ],
          [
           true,
           "Streptococcus agalactiae"
          ],
          [
           true,
           "Streptococcus agalactiae"
          ],
          [
           true,
           "Streptococcus agalactiae"
          ],
          [
           true,
           "Streptococcus agalactiae"
          ],
          [
           true,
           "Streptococcus agalactiae"
          ],
          [
           true,
           "Streptococcus agalactiae"
          ],
          [
           true,
           "Streptococcus pneumoniae"
          ],
          [
           true,
           "Streptococcus pneumoniae"
          ],
          [
           true,
           "Streptococcus pneumoniae"
          ],
          [
           true,
           "Streptococcus pneumoniae"
          ],
          [
           true,
           "Streptococcus pneumoniae"
          ],
          [
           true,
           "Staphylococcus hominis"
          ],
          [
           true,
           "Staphylococcus hominis"
          ],
          [
           true,
           "Staphylococcus hominis"
          ],
          [
           true,
           "Staphylococcus hominis"
          ],
          [
           true,
           "Streptococcus agalactiae"
          ],
          [
           true,
           "Streptococcus pneumoniae"
          ],
          [
           true,
           "Streptococcus pyogenes"
          ],
          [
           true,
           "Streptococcus pyogenes"
          ],
          [
           true,
           "Streptococcus pyogenes"
          ],
          [
           true,
           "Streptococcus pyogenes"
          ],
          [
           true,
           "Streptococcus pyogenes"
          ],
          [
           true,
           "Streptococcus pyogenes"
          ],
          [
           true,
           "Streptococcus pyogenes"
          ],
          [
           true,
           "Streptococcus pyogenes"
          ],
          [
           true,
           "Streptococcus pyogenes"
          ],
          [
           true,
           "Streptococcus pyogenes"
          ],
          [
           true,
           "Staphylococcus aureus"
          ],
          [
           true,
           "Staphylococcus aureus"
          ],
          [
           true,
           "Staphylococcus aureus"
          ],
          [
           true,
           "Staphylococcus aureus"
          ],
          [
           true,
           "Staphylococcus aureus"
          ],
          [
           true,
           "Staphylococcus aureus"
          ],
          [
           true,
           "Staphylococcus aureus"
          ],
          [
           true,
           "Staphylococcus aureus"
          ],
          [
           true,
           "Staphylococcus aureus"
          ],
          [
           true,
           "Staphylococcus aureus"
          ],
          [
           true,
           "Staphylococcus aureus"
          ],
          [
           true,
           "Staphylococcus aureus"
          ],
          [
           true,
           "Staphylococcus aureus"
          ],
          [
           true,
           "Staphylococcus aureus"
          ],
          [
           true,
           "Staphylococcus aureus"
          ],
          [
           true,
           "Staphylococcus aureus"
          ],
          [
           true,
           "Staphylococcus aureus"
          ],
          [
           true,
           "Staphylococcus aureus"
          ],
          [
           true,
           "Staphylococcus aureus"
          ],
          [
           true,
           "Staphylococcus aureus"
          ],
          [
           true,
           "Staphylococcus capitis"
          ],
          [
           true,
           "Staphylococcus epidermidis"
          ],
          [
           true,
           "Staphylococcus lugdunensis"
          ],
          [
           true,
           "Staphylococcus lugdunensis"
          ],
          [
           true,
           "Staphylococcus lugdunensis"
          ],
          [
           true,
           "Staphylococcus lugdunensis"
          ],
          [
           true,
           "Staphylococcus lugdunensis"
          ],
          [
           true,
           "Staphylococcus epidermidis"
          ],
          [
           true,
           "Staphylococcus epidermidis"
          ],
          [
           true,
           "Staphylococcus epidermidis"
          ],
          [
           true,
           "Staphylococcus epidermidis"
          ],
          [
           true,
           "Staphylococcus epidermidis"
          ],
          [
           true,
           "Staphylococcus epidermidis"
          ],
          [
           true,
           "Staphylococcus aureus"
          ],
          [
           true,
           "Staphylococcus aureus"
          ],
          [
           true,
           "Staphylococcus aureus"
          ],
          [
           true,
           "Staphylococcus aureus"
          ],
          [
           true,
           "Staphylococcus aureus"
          ],
          [
           true,
           "Staphylococcus aureus"
          ],
          [
           true,
           "Staphylococcus aureus"
          ],
          [
           true,
           "Staphylococcus aureus"
          ],
          [
           true,
           "Staphylococcus aureus"
          ],
          [
           true,
           "Staphylococcus aureus"
          ],
          [
           true,
           "Staphylococcus aureus"
          ],
          [
           true,
           "Staphylococcus aureus"
          ],
          [
           true,
           "Staphylococcus aureus"
          ],
          [
           true,
           "Staphylococcus aureus"
          ],
          [
           true,
           "Staphylococcus aureus"
          ],
          [
           true,
           "Staphylococcus aureus"
          ],
          [
           true,
           "Staphylococcus aureus"
          ],
          [
           true,
           "Staphylococcus aureus"
          ],
          [
           true,
           "Staphylococcus aureus"
          ],
          [
           true,
           "Enterococcus faecium"
          ],
          [
           true,
           "Enterococcus faecium"
          ],
          [
           true,
           "Streptococcus pneumoniae"
          ],
          [
           true,
           "Streptococcus pneumoniae"
          ],
          [
           true,
           "Streptococcus pneumoniae"
          ],
          [
           true,
           "Staphylococcus aureus"
          ],
          [
           true,
           "Staphylococcus aureus"
          ],
          [
           true,
           "Staphylococcus aureus"
          ],
          [
           true,
           "Staphylococcus aureus"
          ],
          [
           true,
           "Staphylococcus aureus"
          ],
          [
           true,
           "Staphylococcus aureus"
          ],
          [
           true,
           "Staphylococcus aureus"
          ],
          [
           true,
           "Staphylococcus aureus"
          ],
          [
           true,
           "Staphylococcus aureus"
          ],
          [
           true,
           "Staphylococcus aureus"
          ],
          [
           true,
           "Staphylococcus aureus"
          ],
          [
           true,
           "Staphylococcus aureus"
          ],
          [
           true,
           "Staphylococcus aureus"
          ],
          [
           true,
           "Staphylococcus aureus"
          ],
          [
           true,
           "Staphylococcus aureus"
          ],
          [
           true,
           "Staphylococcus aureus"
          ],
          [
           true,
           "Staphylococcus aureus"
          ],
          [
           true,
           "Staphylococcus aureus"
          ],
          [
           true,
           "Staphylococcus aureus"
          ],
          [
           true,
           "Staphylococcus aureus"
          ],
          [
           true,
           "Staphylococcus aureus"
          ],
          [
           true,
           "Staphylococcus aureus"
          ],
          [
           true,
           "Staphylococcus aureus"
          ],
          [
           true,
           "Staphylococcus aureus"
          ],
          [
           true,
           "Staphylococcus aureus"
          ],
          [
           true,
           "Staphylococcus aureus"
          ],
          [
           true,
           "Staphylococcus aureus"
          ],
          [
           true,
           "Staphylococcus capitis"
          ],
          [
           true,
           "Staphylococcus capitis"
          ],
          [
           true,
           "Staphylococcus epidermidis"
          ],
          [
           true,
           "Staphylococcus epidermidis"
          ],
          [
           true,
           "Staphylococcus capitis"
          ],
          [
           true,
           "Staphylococcus capitis"
          ],
          [
           true,
           "Staphylococcus capitis"
          ],
          [
           true,
           "Staphylococcus capitis"
          ],
          [
           true,
           "Staphylococcus capitis"
          ],
          [
           true,
           "Staphylococcus epidermidis"
          ],
          [
           true,
           "Staphylococcus epidermidis"
          ],
          [
           true,
           "Staphylococcus epidermidis"
          ],
          [
           true,
           "Staphylococcus epidermidis"
          ],
          [
           true,
           "Staphylococcus epidermidis"
          ],
          [
           true,
           "Staphylococcus epidermidis"
          ],
          [
           true,
           "Staphylococcus epidermidis"
          ],
          [
           true,
           "Staphylococcus epidermidis"
          ],
          [
           true,
           "Staphylococcus epidermidis"
          ],
          [
           true,
           "Staphylococcus epidermidis"
          ],
          [
           true,
           "Staphylococcus epidermidis"
          ],
          [
           true,
           "Staphylococcus epidermidis"
          ],
          [
           true,
           "Staphylococcus epidermidis"
          ],
          [
           true,
           "Staphylococcus epidermidis"
          ],
          [
           true,
           "Staphylococcus epidermidis"
          ],
          [
           true,
           "Staphylococcus epidermidis"
          ],
          [
           true,
           "Staphylococcus epidermidis"
          ],
          [
           true,
           "Staphylococcus epidermidis"
          ],
          [
           true,
           "Staphylococcus epidermidis"
          ],
          [
           true,
           "Staphylococcus epidermidis"
          ],
          [
           true,
           "Staphylococcus epidermidis"
          ],
          [
           true,
           "Staphylococcus epidermidis"
          ],
          [
           true,
           "Staphylococcus epidermidis"
          ],
          [
           true,
           "Staphylococcus epidermidis"
          ],
          [
           true,
           "Staphylococcus epidermidis"
          ],
          [
           true,
           "Staphylococcus epidermidis"
          ],
          [
           true,
           "Staphylococcus epidermidis"
          ],
          [
           true,
           "Staphylococcus epidermidis"
          ],
          [
           true,
           "Staphylococcus epidermidis"
          ],
          [
           true,
           "Staphylococcus aureus"
          ],
          [
           true,
           "Staphylococcus aureus"
          ],
          [
           true,
           "Staphylococcus epidermidis"
          ],
          [
           true,
           "Staphylococcus epidermidis"
          ],
          [
           true,
           "Staphylococcus epidermidis"
          ],
          [
           true,
           "Staphylococcus epidermidis"
          ],
          [
           true,
           "Staphylococcus epidermidis"
          ],
          [
           true,
           "Staphylococcus epidermidis"
          ],
          [
           true,
           "Staphylococcus epidermidis"
          ],
          [
           true,
           "Staphylococcus epidermidis"
          ],
          [
           true,
           "Staphylococcus epidermidis"
          ],
          [
           true,
           "Staphylococcus epidermidis"
          ],
          [
           true,
           "Staphylococcus hominis"
          ],
          [
           true,
           "Staphylococcus epidermidis"
          ],
          [
           true,
           "Staphylococcus hominis"
          ],
          [
           true,
           "Staphylococcus hominis"
          ],
          [
           true,
           "Staphylococcus hominis"
          ],
          [
           true,
           "Staphylococcus hominis"
          ],
          [
           true,
           "Staphylococcus hominis"
          ],
          [
           true,
           "Staphylococcus hominis"
          ],
          [
           true,
           "Staphylococcus hominis"
          ],
          [
           true,
           "Staphylococcus hominis"
          ],
          [
           true,
           "Staphylococcus hominis"
          ],
          [
           true,
           "Staphylococcus hominis"
          ],
          [
           true,
           "Staphylococcus hominis"
          ],
          [
           true,
           "Staphylococcus hominis"
          ],
          [
           true,
           "Staphylococcus hominis"
          ],
          [
           true,
           "Staphylococcus hominis"
          ],
          [
           true,
           "Staphylococcus hominis"
          ],
          [
           true,
           "Staphylococcus hominis"
          ],
          [
           true,
           "Staphylococcus aureus"
          ],
          [
           true,
           "Staphylococcus aureus"
          ],
          [
           true,
           "Staphylococcus aureus"
          ],
          [
           true,
           "Staphylococcus aureus"
          ],
          [
           true,
           "Staphylococcus aureus"
          ],
          [
           true,
           "Staphylococcus aureus"
          ],
          [
           true,
           "Staphylococcus aureus"
          ],
          [
           true,
           "Staphylococcus aureus"
          ],
          [
           true,
           "Staphylococcus aureus"
          ],
          [
           true,
           "Staphylococcus aureus"
          ],
          [
           true,
           "Staphylococcus aureus"
          ],
          [
           true,
           "Staphylococcus aureus"
          ],
          [
           true,
           "Staphylococcus aureus"
          ],
          [
           true,
           "Staphylococcus aureus"
          ],
          [
           true,
           "Staphylococcus aureus"
          ],
          [
           true,
           "Staphylococcus aureus"
          ],
          [
           true,
           "Staphylococcus aureus"
          ],
          [
           true,
           "Staphylococcus capitis"
          ],
          [
           true,
           "Staphylococcus capitis"
          ],
          [
           true,
           "Staphylococcus hominis"
          ],
          [
           true,
           "Staphylococcus hominis"
          ],
          [
           true,
           "Staphylococcus hominis"
          ],
          [
           true,
           "Staphylococcus hominis"
          ],
          [
           true,
           "Staphylococcus hominis"
          ],
          [
           true,
           "Staphylococcus hominis"
          ],
          [
           true,
           "Staphylococcus hominis"
          ],
          [
           true,
           "Staphylococcus hominis"
          ],
          [
           true,
           "Staphylococcus hominis"
          ],
          [
           true,
           "Staphylococcus hominis"
          ],
          [
           true,
           "Staphylococcus lugdunensis"
          ],
          [
           true,
           "Staphylococcus lugdunensis"
          ],
          [
           true,
           "Staphylococcus lugdunensis"
          ],
          [
           true,
           "Staphylococcus lugdunensis"
          ],
          [
           true,
           "Staphylococcus lugdunensis"
          ],
          [
           true,
           "Staphylococcus hominis"
          ],
          [
           true,
           "Staphylococcus hominis"
          ],
          [
           true,
           "Staphylococcus hominis"
          ],
          [
           true,
           "Staphylococcus hominis"
          ],
          [
           true,
           "Staphylococcus hominis"
          ],
          [
           true,
           "Staphylococcus aureus"
          ],
          [
           true,
           "Staphylococcus aureus"
          ],
          [
           true,
           "Staphylococcus aureus"
          ],
          [
           true,
           "Staphylococcus aureus"
          ],
          [
           true,
           "Staphylococcus aureus"
          ],
          [
           true,
           "Staphylococcus aureus"
          ],
          [
           true,
           "Staphylococcus aureus"
          ],
          [
           true,
           "Staphylococcus aureus"
          ],
          [
           true,
           "Staphylococcus aureus"
          ],
          [
           true,
           "Staphylococcus aureus"
          ],
          [
           true,
           "Staphylococcus aureus"
          ],
          [
           true,
           "Staphylococcus aureus"
          ],
          [
           true,
           "Staphylococcus aureus"
          ],
          [
           true,
           "Staphylococcus aureus"
          ],
          [
           true,
           "Staphylococcus aureus"
          ],
          [
           true,
           "Staphylococcus aureus"
          ],
          [
           true,
           "Staphylococcus aureus"
          ],
          [
           true,
           "Staphylococcus aureus"
          ],
          [
           true,
           "Staphylococcus aureus"
          ],
          [
           true,
           "Staphylococcus capitis"
          ],
          [
           true,
           "Staphylococcus epidermidis"
          ],
          [
           true,
           "Staphylococcus lugdunensis"
          ],
          [
           true,
           "Staphylococcus lugdunensis"
          ],
          [
           true,
           "Staphylococcus lugdunensis"
          ],
          [
           true,
           "Staphylococcus lugdunensis"
          ],
          [
           true,
           "Staphylococcus lugdunensis"
          ],
          [
           true,
           "Staphylococcus lugdunensis"
          ],
          [
           true,
           "Staphylococcus epidermidis"
          ],
          [
           true,
           "Staphylococcus epidermidis"
          ],
          [
           true,
           "Staphylococcus epidermidis"
          ],
          [
           true,
           "Staphylococcus epidermidis"
          ],
          [
           true,
           "Staphylococcus epidermidis"
          ],
          [
           true,
           "Staphylococcus epidermidis"
          ],
          [
           true,
           "Staphylococcus epidermidis"
          ],
          [
           true,
           "Staphylococcus lugdunensis"
          ],
          [
           true,
           "Staphylococcus aureus"
          ],
          [
           true,
           "Staphylococcus aureus"
          ],
          [
           true,
           "Staphylococcus aureus"
          ],
          [
           true,
           "Staphylococcus aureus"
          ],
          [
           true,
           "Staphylococcus aureus"
          ],
          [
           true,
           "Staphylococcus aureus"
          ],
          [
           true,
           "Staphylococcus aureus"
          ],
          [
           true,
           "Staphylococcus aureus"
          ],
          [
           true,
           "Staphylococcus aureus"
          ],
          [
           true,
           "Staphylococcus aureus"
          ],
          [
           true,
           "Staphylococcus aureus"
          ],
          [
           true,
           "Staphylococcus aureus"
          ],
          [
           true,
           "Staphylococcus aureus"
          ],
          [
           true,
           "Staphylococcus aureus"
          ],
          [
           true,
           "Staphylococcus aureus"
          ],
          [
           true,
           "Staphylococcus aureus"
          ],
          [
           true,
           "Staphylococcus aureus"
          ],
          [
           true,
           "Staphylococcus aureus"
          ],
          [
           true,
           "Staphylococcus aureus"
          ],
          [
           true,
           "Staphylococcus aureus"
          ],
          [
           true,
           "Staphylococcus aureus"
          ],
          [
           true,
           "Staphylococcus aureus"
          ],
          [
           true,
           "Staphylococcus aureus"
          ],
          [
           true,
           "Staphylococcus aureus"
          ],
          [
           true,
           "Staphylococcus aureus"
          ],
          [
           true,
           "Staphylococcus aureus"
          ],
          [
           true,
           "Staphylococcus aureus"
          ],
          [
           true,
           "Staphylococcus aureus"
          ],
          [
           true,
           "Staphylococcus aureus"
          ],
          [
           true,
           "Staphylococcus aureus"
          ],
          [
           true,
           "Staphylococcus aureus"
          ],
          [
           true,
           "Staphylococcus aureus"
          ],
          [
           true,
           "Staphylococcus aureus"
          ],
          [
           true,
           "Staphylococcus aureus"
          ],
          [
           true,
           "Staphylococcus aureus"
          ],
          [
           true,
           "Staphylococcus epidermidis"
          ],
          [
           true,
           "Staphylococcus epidermidis"
          ],
          [
           true,
           "Staphylococcus epidermidis"
          ],
          [
           true,
           "Staphylococcus epidermidis"
          ],
          [
           true,
           "Staphylococcus epidermidis"
          ],
          [
           true,
           "Staphylococcus lugdunensis"
          ],
          [
           true,
           "Staphylococcus aureus"
          ],
          [
           true,
           "Staphylococcus aureus"
          ],
          [
           true,
           "Staphylococcus aureus"
          ],
          [
           true,
           "Staphylococcus aureus"
          ],
          [
           true,
           "Staphylococcus aureus"
          ],
          [
           true,
           "Staphylococcus aureus"
          ],
          [
           true,
           "Staphylococcus aureus"
          ],
          [
           true,
           "Staphylococcus aureus"
          ],
          [
           true,
           "Staphylococcus aureus"
          ],
          [
           true,
           "Staphylococcus aureus"
          ],
          [
           true,
           "Staphylococcus aureus"
          ],
          [
           true,
           "Staphylococcus aureus"
          ],
          [
           true,
           "Staphylococcus aureus"
          ],
          [
           true,
           "Staphylococcus aureus"
          ],
          [
           true,
           "Staphylococcus aureus"
          ],
          [
           true,
           "Staphylococcus aureus"
          ],
          [
           true,
           "Staphylococcus aureus"
          ],
          [
           true,
           "Staphylococcus aureus"
          ],
          [
           true,
           "Staphylococcus aureus"
          ],
          [
           true,
           "Staphylococcus aureus"
          ],
          [
           true,
           "Staphylococcus aureus"
          ],
          [
           true,
           "Staphylococcus aureus"
          ],
          [
           true,
           "Staphylococcus aureus"
          ],
          [
           true,
           "Staphylococcus aureus"
          ],
          [
           true,
           "Staphylococcus capitis"
          ],
          [
           true,
           "Staphylococcus epidermidis"
          ],
          [
           true,
           "Staphylococcus capitis"
          ],
          [
           true,
           "Staphylococcus capitis"
          ],
          [
           true,
           "Staphylococcus capitis"
          ],
          [
           true,
           "Staphylococcus capitis"
          ],
          [
           true,
           "Staphylococcus capitis"
          ],
          [
           true,
           "Staphylococcus capitis"
          ],
          [
           true,
           "Staphylococcus epidermidis"
          ],
          [
           true,
           "Staphylococcus epidermidis"
          ],
          [
           true,
           "Staphylococcus epidermidis"
          ],
          [
           true,
           "Staphylococcus epidermidis"
          ],
          [
           true,
           "Staphylococcus epidermidis"
          ],
          [
           true,
           "Staphylococcus epidermidis"
          ],
          [
           true,
           "Staphylococcus epidermidis"
          ],
          [
           true,
           "Staphylococcus epidermidis"
          ],
          [
           true,
           "Staphylococcus epidermidis"
          ],
          [
           true,
           "Staphylococcus epidermidis"
          ],
          [
           true,
           "Staphylococcus epidermidis"
          ],
          [
           true,
           "Staphylococcus epidermidis"
          ],
          [
           true,
           "Staphylococcus epidermidis"
          ],
          [
           true,
           "Staphylococcus epidermidis"
          ],
          [
           true,
           "Staphylococcus epidermidis"
          ],
          [
           true,
           "Staphylococcus epidermidis"
          ],
          [
           true,
           "Staphylococcus epidermidis"
          ],
          [
           true,
           "Staphylococcus epidermidis"
          ],
          [
           true,
           "Staphylococcus epidermidis"
          ],
          [
           true,
           "Staphylococcus epidermidis"
          ],
          [
           true,
           "Staphylococcus epidermidis"
          ],
          [
           true,
           "Staphylococcus epidermidis"
          ],
          [
           true,
           "Staphylococcus epidermidis"
          ],
          [
           true,
           "Staphylococcus epidermidis"
          ],
          [
           true,
           "Staphylococcus aureus"
          ],
          [
           true,
           "Staphylococcus aureus"
          ],
          [
           true,
           "Staphylococcus epidermidis"
          ],
          [
           true,
           "Staphylococcus epidermidis"
          ],
          [
           true,
           "Staphylococcus epidermidis"
          ],
          [
           true,
           "Staphylococcus epidermidis"
          ],
          [
           true,
           "Staphylococcus epidermidis"
          ],
          [
           true,
           "Staphylococcus epidermidis"
          ],
          [
           true,
           "Staphylococcus epidermidis"
          ],
          [
           true,
           "Staphylococcus epidermidis"
          ],
          [
           true,
           "Staphylococcus hominis"
          ],
          [
           true,
           "Staphylococcus hominis"
          ],
          [
           true,
           "Staphylococcus hominis"
          ],
          [
           true,
           "Staphylococcus hominis"
          ],
          [
           true,
           "Staphylococcus hominis"
          ],
          [
           true,
           "Staphylococcus hominis"
          ],
          [
           true,
           "Staphylococcus hominis"
          ],
          [
           true,
           "Staphylococcus hominis"
          ],
          [
           true,
           "Staphylococcus hominis"
          ],
          [
           true,
           "Staphylococcus hominis"
          ],
          [
           true,
           "Staphylococcus hominis"
          ],
          [
           true,
           "Staphylococcus hominis"
          ],
          [
           true,
           "Staphylococcus hominis"
          ],
          [
           true,
           "Staphylococcus hominis"
          ],
          [
           true,
           "Staphylococcus hominis"
          ],
          [
           true,
           "Staphylococcus hominis"
          ],
          [
           true,
           "Staphylococcus aureus"
          ],
          [
           true,
           "Staphylococcus aureus"
          ],
          [
           true,
           "Staphylococcus aureus"
          ],
          [
           true,
           "Staphylococcus aureus"
          ],
          [
           true,
           "Staphylococcus aureus"
          ],
          [
           true,
           "Staphylococcus aureus"
          ],
          [
           true,
           "Staphylococcus aureus"
          ],
          [
           true,
           "Staphylococcus aureus"
          ],
          [
           true,
           "Staphylococcus aureus"
          ],
          [
           true,
           "Staphylococcus aureus"
          ],
          [
           true,
           "Staphylococcus aureus"
          ],
          [
           true,
           "Staphylococcus aureus"
          ],
          [
           true,
           "Staphylococcus aureus"
          ],
          [
           true,
           "Staphylococcus aureus"
          ],
          [
           true,
           "Staphylococcus aureus"
          ],
          [
           true,
           "Staphylococcus hominis"
          ],
          [
           true,
           "Staphylococcus hominis"
          ],
          [
           true,
           "Staphylococcus hominis"
          ],
          [
           true,
           "Staphylococcus hominis"
          ],
          [
           true,
           "Staphylococcus hominis"
          ],
          [
           true,
           "Staphylococcus hominis"
          ],
          [
           true,
           "Staphylococcus hominis"
          ],
          [
           true,
           "Staphylococcus hominis"
          ],
          [
           true,
           "Staphylococcus hominis"
          ],
          [
           true,
           "Staphylococcus lugdunensis"
          ],
          [
           true,
           "Staphylococcus lugdunensis"
          ],
          [
           true,
           "Staphylococcus lugdunensis"
          ],
          [
           true,
           "Staphylococcus lugdunensis"
          ],
          [
           true,
           "Staphylococcus hominis"
          ],
          [
           true,
           "Staphylococcus hominis"
          ],
          [
           true,
           "Staphylococcus hominis"
          ],
          [
           true,
           "Staphylococcus aureus"
          ],
          [
           true,
           "Staphylococcus aureus"
          ],
          [
           true,
           "Staphylococcus aureus"
          ],
          [
           true,
           "Staphylococcus aureus"
          ],
          [
           true,
           "Staphylococcus aureus"
          ],
          [
           true,
           "Staphylococcus aureus"
          ],
          [
           true,
           "Staphylococcus aureus"
          ],
          [
           true,
           "Staphylococcus aureus"
          ],
          [
           true,
           "Staphylococcus aureus"
          ],
          [
           true,
           "Staphylococcus aureus"
          ],
          [
           true,
           "Staphylococcus aureus"
          ],
          [
           true,
           "Staphylococcus aureus"
          ],
          [
           true,
           "Staphylococcus aureus"
          ],
          [
           true,
           "Staphylococcus aureus"
          ],
          [
           true,
           "Staphylococcus aureus"
          ],
          [
           true,
           "Staphylococcus aureus"
          ],
          [
           true,
           "Staphylococcus aureus"
          ],
          [
           true,
           "Staphylococcus aureus"
          ],
          [
           true,
           "Staphylococcus aureus"
          ],
          [
           true,
           "Staphylococcus aureus"
          ],
          [
           true,
           "Staphylococcus lugdunensis"
          ],
          [
           true,
           "Staphylococcus lugdunensis"
          ],
          [
           true,
           "Staphylococcus lugdunensis"
          ],
          [
           true,
           "Staphylococcus lugdunensis"
          ],
          [
           true,
           "Staphylococcus lugdunensis"
          ],
          [
           true,
           "Staphylococcus epidermidis"
          ],
          [
           true,
           "Staphylococcus epidermidis"
          ],
          [
           true,
           "Staphylococcus epidermidis"
          ],
          [
           true,
           "Staphylococcus epidermidis"
          ],
          [
           true,
           "Staphylococcus epidermidis"
          ],
          [
           true,
           "Staphylococcus lugdunensis"
          ],
          [
           true,
           "Staphylococcus aureus"
          ],
          [
           true,
           "Staphylococcus aureus"
          ],
          [
           true,
           "Staphylococcus aureus"
          ],
          [
           true,
           "Staphylococcus aureus"
          ],
          [
           true,
           "Staphylococcus aureus"
          ],
          [
           true,
           "Staphylococcus aureus"
          ],
          [
           true,
           "Staphylococcus aureus"
          ],
          [
           true,
           "Staphylococcus aureus"
          ],
          [
           true,
           "Staphylococcus aureus"
          ],
          [
           true,
           "Staphylococcus aureus"
          ],
          [
           true,
           "Staphylococcus aureus"
          ],
          [
           true,
           "Staphylococcus aureus"
          ],
          [
           true,
           "Staphylococcus aureus"
          ],
          [
           true,
           "Staphylococcus aureus"
          ],
          [
           true,
           "Staphylococcus aureus"
          ],
          [
           true,
           "Staphylococcus aureus"
          ],
          [
           true,
           "Staphylococcus aureus"
          ],
          [
           true,
           "Staphylococcus aureus"
          ],
          [
           true,
           "Staphylococcus aureus"
          ],
          [
           true,
           "Staphylococcus aureus"
          ],
          [
           true,
           "Staphylococcus aureus"
          ],
          [
           true,
           "Staphylococcus aureus"
          ],
          [
           true,
           "Staphylococcus aureus"
          ],
          [
           true,
           "Staphylococcus aureus"
          ],
          [
           true,
           "Staphylococcus aureus"
          ],
          [
           true,
           "Staphylococcus aureus"
          ],
          [
           true,
           "Staphylococcus aureus"
          ],
          [
           true,
           "Staphylococcus epidermidis"
          ],
          [
           true,
           "Staphylococcus epidermidis"
          ],
          [
           true,
           "Staphylococcus aureus"
          ],
          [
           true,
           "Staphylococcus aureus"
          ],
          [
           true,
           "Staphylococcus aureus"
          ],
          [
           true,
           "Staphylococcus aureus"
          ],
          [
           true,
           "Staphylococcus aureus"
          ],
          [
           true,
           "Staphylococcus aureus"
          ],
          [
           true,
           "Staphylococcus aureus"
          ],
          [
           true,
           "Staphylococcus aureus"
          ],
          [
           true,
           "Staphylococcus aureus"
          ],
          [
           true,
           "Staphylococcus aureus"
          ],
          [
           true,
           "Staphylococcus aureus"
          ],
          [
           true,
           "Staphylococcus aureus"
          ],
          [
           true,
           "Staphylococcus aureus"
          ],
          [
           true,
           "Staphylococcus aureus"
          ],
          [
           true,
           "Staphylococcus aureus"
          ],
          [
           true,
           "Staphylococcus aureus"
          ],
          [
           true,
           "Staphylococcus aureus"
          ],
          [
           true,
           "Staphylococcus aureus"
          ],
          [
           true,
           "Streptococcus agalactiae"
          ],
          [
           true,
           "Streptococcus agalactiae"
          ],
          [
           true,
           "Streptococcus agalactiae"
          ],
          [
           true,
           "Streptococcus agalactiae"
          ],
          [
           true,
           "Streptococcus agalactiae"
          ],
          [
           true,
           "Streptococcus agalactiae"
          ],
          [
           true,
           "Streptococcus agalactiae"
          ],
          [
           true,
           "Streptococcus agalactiae"
          ],
          [
           true,
           "Streptococcus agalactiae"
          ],
          [
           true,
           "Streptococcus agalactiae"
          ],
          [
           true,
           "Staphylococcus capitis"
          ],
          [
           true,
           "Staphylococcus capitis"
          ],
          [
           true,
           "Staphylococcus capitis"
          ],
          [
           true,
           "Staphylococcus capitis"
          ],
          [
           true,
           "Staphylococcus capitis"
          ],
          [
           true,
           "Staphylococcus capitis"
          ],
          [
           true,
           "Staphylococcus capitis"
          ],
          [
           true,
           "Staphylococcus capitis"
          ],
          [
           true,
           "Staphylococcus epidermidis"
          ],
          [
           true,
           "Staphylococcus epidermidis"
          ],
          [
           true,
           "Staphylococcus epidermidis"
          ],
          [
           true,
           "Staphylococcus epidermidis"
          ],
          [
           true,
           "Streptococcus agalactiae"
          ],
          [
           true,
           "Streptococcus agalactiae"
          ],
          [
           true,
           "Streptococcus agalactiae"
          ],
          [
           true,
           "Streptococcus agalactiae"
          ],
          [
           true,
           "Staphylococcus epidermidis"
          ],
          [
           true,
           "Staphylococcus epidermidis"
          ],
          [
           true,
           "Staphylococcus epidermidis"
          ],
          [
           true,
           "Staphylococcus epidermidis"
          ],
          [
           true,
           "Staphylococcus epidermidis"
          ],
          [
           true,
           "Staphylococcus epidermidis"
          ],
          [
           true,
           "Staphylococcus epidermidis"
          ],
          [
           true,
           "Staphylococcus epidermidis"
          ],
          [
           true,
           "Staphylococcus epidermidis"
          ],
          [
           true,
           "Staphylococcus epidermidis"
          ],
          [
           true,
           "Staphylococcus epidermidis"
          ],
          [
           true,
           "Staphylococcus epidermidis"
          ],
          [
           true,
           "Staphylococcus epidermidis"
          ],
          [
           true,
           "Staphylococcus aureus"
          ],
          [
           true,
           "Staphylococcus epidermidis"
          ],
          [
           true,
           "Staphylococcus epidermidis"
          ],
          [
           true,
           "Staphylococcus epidermidis"
          ],
          [
           true,
           "Staphylococcus hominis"
          ],
          [
           true,
           "Staphylococcus hominis"
          ],
          [
           true,
           "Staphylococcus hominis"
          ],
          [
           true,
           "Staphylococcus hominis"
          ],
          [
           true,
           "Staphylococcus hominis"
          ],
          [
           true,
           "Staphylococcus hominis"
          ],
          [
           true,
           "Staphylococcus hominis"
          ],
          [
           true,
           "Streptococcus pneumoniae"
          ],
          [
           true,
           "Streptococcus pneumoniae"
          ],
          [
           true,
           "Streptococcus pneumoniae"
          ],
          [
           true,
           "Streptococcus pyogenes"
          ],
          [
           true,
           "Streptococcus pyogenes"
          ],
          [
           true,
           "Streptococcus pyogenes"
          ],
          [
           true,
           "Streptococcus pyogenes"
          ],
          [
           true,
           "Streptococcus pyogenes"
          ],
          [
           true,
           "Streptococcus pyogenes"
          ],
          [
           true,
           "Staphylococcus hominis"
          ],
          [
           true,
           "Staphylococcus hominis"
          ],
          [
           true,
           "Staphylococcus hominis"
          ],
          [
           true,
           "Staphylococcus hominis"
          ],
          [
           true,
           "Staphylococcus aureus"
          ],
          [
           true,
           "Staphylococcus aureus"
          ],
          [
           true,
           "Staphylococcus aureus"
          ],
          [
           true,
           "Staphylococcus aureus"
          ],
          [
           true,
           "Staphylococcus aureus"
          ],
          [
           true,
           "Staphylococcus aureus"
          ],
          [
           true,
           "Staphylococcus aureus"
          ],
          [
           true,
           "Staphylococcus aureus"
          ],
          [
           true,
           "Staphylococcus aureus"
          ],
          [
           true,
           "Staphylococcus aureus"
          ],
          [
           true,
           "Staphylococcus aureus"
          ],
          [
           true,
           "Staphylococcus aureus"
          ],
          [
           true,
           "Staphylococcus aureus"
          ],
          [
           true,
           "Staphylococcus aureus"
          ],
          [
           true,
           "Staphylococcus capitis"
          ],
          [
           true,
           "Streptococcus agalactiae"
          ],
          [
           true,
           "Staphylococcus hominis"
          ],
          [
           true,
           "Staphylococcus hominis"
          ],
          [
           true,
           "Staphylococcus hominis"
          ],
          [
           true,
           "Staphylococcus hominis"
          ],
          [
           true,
           "Streptococcus agalactiae"
          ],
          [
           true,
           "Staphylococcus lugdunensis"
          ],
          [
           true,
           "Staphylococcus lugdunensis"
          ],
          [
           true,
           "Staphylococcus lugdunensis"
          ],
          [
           true,
           "Staphylococcus lugdunensis"
          ],
          [
           true,
           "Streptococcus agalactiae"
          ],
          [
           true,
           "Streptococcus agalactiae"
          ],
          [
           true,
           "Streptococcus agalactiae"
          ],
          [
           true,
           "Streptococcus agalactiae"
          ],
          [
           true,
           "Streptococcus agalactiae"
          ],
          [
           true,
           "Streptococcus pneumoniae"
          ],
          [
           true,
           "Streptococcus pneumoniae"
          ],
          [
           true,
           "Streptococcus pneumoniae"
          ],
          [
           true,
           "Streptococcus pneumoniae"
          ],
          [
           true,
           "Streptococcus pneumoniae"
          ],
          [
           true,
           "Streptococcus pneumoniae"
          ],
          [
           true,
           "Streptococcus pneumoniae"
          ],
          [
           true,
           "Staphylococcus hominis"
          ],
          [
           true,
           "Streptococcus agalactiae"
          ],
          [
           true,
           "Streptococcus pneumoniae"
          ],
          [
           true,
           "Streptococcus pyogenes"
          ],
          [
           true,
           "Streptococcus pyogenes"
          ],
          [
           true,
           "Streptococcus pyogenes"
          ],
          [
           true,
           "Streptococcus pyogenes"
          ],
          [
           true,
           "Streptococcus pyogenes"
          ],
          [
           true,
           "Streptococcus pyogenes"
          ],
          [
           true,
           "Streptococcus pyogenes"
          ],
          [
           true,
           "Staphylococcus aureus"
          ],
          [
           true,
           "Staphylococcus aureus"
          ],
          [
           true,
           "Staphylococcus aureus"
          ],
          [
           true,
           "Staphylococcus aureus"
          ],
          [
           true,
           "Staphylococcus aureus"
          ],
          [
           true,
           "Staphylococcus aureus"
          ],
          [
           true,
           "Staphylococcus aureus"
          ],
          [
           true,
           "Staphylococcus aureus"
          ],
          [
           true,
           "Staphylococcus aureus"
          ],
          [
           true,
           "Staphylococcus aureus"
          ],
          [
           true,
           "Staphylococcus aureus"
          ],
          [
           true,
           "Staphylococcus aureus"
          ],
          [
           true,
           "Staphylococcus aureus"
          ],
          [
           true,
           "Staphylococcus aureus"
          ],
          [
           true,
           "Staphylococcus aureus"
          ],
          [
           true,
           "Staphylococcus aureus"
          ],
          [
           true,
           "Staphylococcus aureus"
          ],
          [
           true,
           "Staphylococcus aureus"
          ],
          [
           true,
           "Staphylococcus aureus"
          ],
          [
           true,
           "Staphylococcus aureus"
          ],
          [
           true,
           "Staphylococcus capitis"
          ],
          [
           true,
           "Staphylococcus lugdunensis"
          ],
          [
           true,
           "Staphylococcus lugdunensis"
          ],
          [
           true,
           "Staphylococcus lugdunensis"
          ],
          [
           true,
           "Staphylococcus lugdunensis"
          ],
          [
           true,
           "Staphylococcus lugdunensis"
          ],
          [
           true,
           "Staphylococcus lugdunensis"
          ],
          [
           true,
           "Staphylococcus epidermidis"
          ],
          [
           true,
           "Staphylococcus epidermidis"
          ],
          [
           true,
           "Staphylococcus aureus"
          ],
          [
           true,
           "Staphylococcus aureus"
          ],
          [
           true,
           "Staphylococcus aureus"
          ],
          [
           true,
           "Staphylococcus aureus"
          ],
          [
           true,
           "Staphylococcus aureus"
          ],
          [
           true,
           "Staphylococcus aureus"
          ],
          [
           true,
           "Staphylococcus aureus"
          ],
          [
           true,
           "Staphylococcus aureus"
          ],
          [
           true,
           "Staphylococcus aureus"
          ],
          [
           true,
           "Staphylococcus aureus"
          ],
          [
           true,
           "Staphylococcus aureus"
          ],
          [
           true,
           "Staphylococcus aureus"
          ],
          [
           true,
           "Staphylococcus aureus"
          ],
          [
           true,
           "Staphylococcus aureus"
          ],
          [
           true,
           "Staphylococcus aureus"
          ],
          [
           true,
           "Staphylococcus aureus"
          ],
          [
           true,
           "Staphylococcus aureus"
          ],
          [
           true,
           "Staphylococcus aureus"
          ],
          [
           true,
           "Staphylococcus aureus"
          ],
          [
           true,
           "Staphylococcus aureus"
          ],
          [
           true,
           "Staphylococcus aureus"
          ],
          [
           true,
           "Staphylococcus aureus"
          ],
          [
           true,
           "Staphylococcus aureus"
          ],
          [
           true,
           "Staphylococcus aureus"
          ],
          [
           true,
           "Staphylococcus aureus"
          ],
          [
           true,
           "Staphylococcus aureus"
          ],
          [
           true,
           "Staphylococcus aureus"
          ],
          [
           true,
           "Staphylococcus aureus"
          ],
          [
           true,
           "Staphylococcus aureus"
          ],
          [
           true,
           "Staphylococcus aureus"
          ],
          [
           true,
           "Staphylococcus aureus"
          ],
          [
           true,
           "Staphylococcus aureus"
          ],
          [
           true,
           "Staphylococcus aureus"
          ],
          [
           true,
           "Staphylococcus aureus"
          ],
          [
           true,
           "Streptococcus pneumoniae"
          ],
          [
           true,
           "Streptococcus pneumoniae"
          ],
          [
           true,
           "Staphylococcus aureus"
          ],
          [
           true,
           "Staphylococcus aureus"
          ],
          [
           true,
           "Staphylococcus aureus"
          ],
          [
           true,
           "Staphylococcus aureus"
          ],
          [
           true,
           "Staphylococcus aureus"
          ],
          [
           true,
           "Staphylococcus aureus"
          ],
          [
           true,
           "Staphylococcus capitis"
          ],
          [
           true,
           "Staphylococcus capitis"
          ],
          [
           true,
           "Staphylococcus epidermidis"
          ],
          [
           true,
           "Staphylococcus epidermidis"
          ],
          [
           true,
           "Staphylococcus epidermidis"
          ],
          [
           true,
           "Staphylococcus aureus"
          ],
          [
           true,
           "Staphylococcus hominis"
          ],
          [
           true,
           "Staphylococcus hominis"
          ],
          [
           true,
           "Staphylococcus aureus"
          ],
          [
           true,
           "Staphylococcus aureus"
          ],
          [
           true,
           "Staphylococcus aureus"
          ],
          [
           true,
           "Staphylococcus capitis"
          ],
          [
           true,
           "Streptococcus pneumoniae"
          ],
          [
           true,
           "Staphylococcus lugdunensis"
          ],
          [
           true,
           "Staphylococcus lugdunensis"
          ],
          [
           true,
           "Staphylococcus lugdunensis"
          ],
          [
           true,
           "Staphylococcus hominis"
          ],
          [
           true,
           "Staphylococcus hominis"
          ],
          [
           true,
           "Staphylococcus aureus"
          ],
          [
           true,
           "Staphylococcus aureus"
          ],
          [
           true,
           "Staphylococcus aureus"
          ],
          [
           true,
           "Staphylococcus aureus"
          ],
          [
           true,
           "Staphylococcus aureus"
          ],
          [
           true,
           "Staphylococcus aureus"
          ],
          [
           true,
           "Staphylococcus epidermidis"
          ],
          [
           true,
           "Staphylococcus aureus"
          ],
          [
           true,
           "Staphylococcus aureus"
          ],
          [
           true,
           "Staphylococcus aureus"
          ],
          [
           true,
           "Staphylococcus aureus"
          ],
          [
           true,
           "Staphylococcus aureus"
          ],
          [
           true,
           "Staphylococcus aureus"
          ],
          [
           true,
           "Staphylococcus epidermidis"
          ],
          [
           true,
           "Staphylococcus epidermidis"
          ],
          [
           true,
           "Staphylococcus epidermidis"
          ],
          [
           true,
           "Staphylococcus epidermidis"
          ],
          [
           true,
           "Staphylococcus epidermidis"
          ],
          [
           true,
           "Streptococcus pneumoniae"
          ],
          [
           true,
           "Streptococcus pneumoniae"
          ],
          [
           true,
           "Staphylococcus auricularis"
          ],
          [
           true,
           "Staphylococcus auricularis"
          ],
          [
           true,
           "Staphylococcus auricularis"
          ],
          [
           true,
           "Staphylococcus auricularis"
          ],
          [
           true,
           "Staphylococcus auricularis"
          ],
          [
           true,
           "Staphylococcus warneri"
          ]
         ],
         "hovertemplate": "<b>%{hovertext}</b><br><br>SIR=Sensitive<br>Log2(MIC-value)=%{y:.0f}<br>Scale=%{customdata[0]}<br>Pathogen=%{customdata[1]}<extra></extra>",
         "hovertext": [
          "QM1007",
          "QM1008",
          "HV236",
          "PER144",
          "PER149",
          "QM1010",
          "QM1011",
          "QM1013",
          "QM1014",
          "BAR008",
          "BAR018",
          "BAR019",
          "BAR023",
          "BAR024",
          "QM115",
          "BAR062",
          "BAR059",
          "QM804",
          "BAR026",
          "QM1002",
          "QM878",
          "QM879",
          "QM169",
          "QM874",
          "QM875",
          "PER134",
          "QM880",
          "QM882",
          "QM883",
          "QM884",
          "PER159",
          "BAR009",
          "QM1440",
          "QM1334",
          "QM868",
          "QM1533",
          "QM887",
          "QM889",
          "QM1536",
          "QM1537",
          "QM1539",
          "QM1541",
          "QM1542",
          "QM1543",
          "QM1545",
          "QM1546",
          "QM1547",
          "QM1549",
          "QM1551",
          "QM1552",
          "QM1554",
          "QM1555",
          "QM1556",
          "QM1557",
          "QM1558",
          "QM1559",
          "QM1561",
          "QM1565",
          "AR0461",
          "QM1260",
          "QM1262",
          "QM1267",
          "AR0221",
          "QM025",
          "BAR043",
          "QM286",
          "QM065",
          "QM294",
          "HV236",
          "PER144",
          "PER149",
          "QM115",
          "BAR062",
          "BAR032",
          "QM169",
          "QM874",
          "QM875",
          "QM1391",
          "QM307",
          "QM321",
          "QM398",
          "QM518",
          "QM980",
          "QM982",
          "QM984",
          "QM985",
          "QM986",
          "QM988",
          "QM989",
          "QM990",
          "QM991",
          "QM993",
          "QM397",
          "QM995",
          "QM992",
          "QM996",
          "QM997",
          "QM994",
          "HV447",
          "QM262",
          "QM322",
          "QM323",
          "HV480",
          "QM308",
          "QM998",
          "BAR052",
          "BAR059",
          "QM1325",
          "QM1326",
          "QM1327",
          "QM1358",
          "QM1359",
          "QM1360",
          "QM1362",
          "QM1364",
          "QM1366",
          "QM1367",
          "QM1368",
          "QM1369",
          "QM1370",
          "QM1379",
          "QM1385",
          "QM1388",
          "QM1450",
          "QM1452",
          "AR0561",
          "AR0562",
          "AR0563",
          "AR0564",
          "AR0565",
          "AR0566",
          "AR0461",
          "AR0462",
          "AR0465",
          "AR0467",
          "AR0468",
          "AR0469",
          "AR0470",
          "AR0472",
          "AR0474",
          "AR0475",
          "AR0476",
          "AR0477",
          "AR0478",
          "AR0479",
          "AR0480",
          "AR0215",
          "AR0216",
          "AR0217",
          "AR0218",
          "AR0219",
          "AR0220",
          "AR0221",
          "AR0222",
          "AR0481",
          "AR0482",
          "AR0483",
          "AR0485",
          "AR0486",
          "AR0490",
          "AR0223",
          "AR0224",
          "AR0225",
          "AR0226",
          "AR0227",
          "AR0228",
          "AR0701",
          "AR0704",
          "AR0705",
          "AR0706",
          "AR0707",
          "AR0708",
          "AR0709",
          "AR0710",
          "AR0711",
          "AR0712",
          "AR0713",
          "AR0714",
          "AR0715",
          "AR0716",
          "AR0717",
          "AR0718",
          "AR0719",
          "AR0720",
          "AR0721",
          "AR0722",
          "AR0723",
          "AR0724",
          "QM1324",
          "AR0567",
          "AR0568",
          "AR0570",
          "QM307",
          "QM321",
          "QM398",
          "QM518",
          "QM980",
          "QM982",
          "QM984",
          "QM985",
          "QM986",
          "QM988",
          "QM989",
          "QM990",
          "QM991",
          "QM993",
          "QM397",
          "QM995",
          "QM992",
          "QM996",
          "QM997",
          "QM994",
          "HV447",
          "QM262",
          "QM322",
          "QM323",
          "HV480",
          "QM308",
          "QM998",
          "BAR052",
          "BAR059",
          "QM1325",
          "QM1327",
          "QM1358",
          "QM1359",
          "QM1360",
          "QM1362",
          "QM1364",
          "QM1366",
          "QM1367",
          "QM1368",
          "QM1369",
          "QM1370",
          "QM1379",
          "QM1385",
          "QM1388",
          "QM1450",
          "QM1452",
          "AR0561",
          "AR0562",
          "AR0563",
          "AR0564",
          "AR0565",
          "AR0566",
          "AR0461",
          "AR0462",
          "AR0465",
          "AR0467",
          "AR0468",
          "AR0469",
          "AR0470",
          "AR0472",
          "AR0474",
          "AR0475",
          "AR0476",
          "AR0477",
          "AR0478",
          "AR0479",
          "AR0480",
          "AR0215",
          "AR0216",
          "AR0217",
          "AR0218",
          "AR0219",
          "AR0221",
          "AR0222",
          "AR0481",
          "AR0482",
          "AR0483",
          "AR0485",
          "AR0486",
          "AR0490",
          "AR0223",
          "AR0224",
          "AR0225",
          "AR0226",
          "AR0227",
          "AR0228",
          "AR0701",
          "AR0704",
          "AR0705",
          "AR0706",
          "AR0707",
          "AR0708",
          "AR0709",
          "AR0710",
          "AR0711",
          "AR0712",
          "AR0713",
          "AR0714",
          "AR0716",
          "AR0717",
          "AR0718",
          "AR0719",
          "AR0721",
          "AR0722",
          "AR0723",
          "AR0724",
          "QM1324",
          "AR0567",
          "AR0568",
          "AR0570",
          "PER144",
          "QM115",
          "BAR062",
          "QM803",
          "QM804",
          "QM808",
          "QM810",
          "BAR026",
          "QM169",
          "QM874",
          "PER134",
          "QM1333",
          "QM876",
          "QM325",
          "QM1334",
          "QM868",
          "QM1387",
          "QM1456",
          "QM1457",
          "QM1460",
          "QM1461",
          "QM1464",
          "QM1468",
          "QM1469",
          "QM870",
          "QM872",
          "HV752",
          "QM1574",
          "QM025",
          "QM026",
          "QM329",
          "QM402",
          "QM1487",
          "HV236",
          "PER144",
          "PER149",
          "QM115",
          "BAR062",
          "QM803",
          "QM804",
          "QM805",
          "QM806",
          "QM807",
          "QM808",
          "QM810",
          "BAR026",
          "QM169",
          "QM874",
          "QM875",
          "PER134",
          "QM1333",
          "HV985",
          "QM876",
          "QM325",
          "QM1334",
          "QM1406",
          "QM1353",
          "QM152",
          "QM868",
          "BAR064",
          "QM1387",
          "QM1456",
          "QM1457",
          "QM1460",
          "QM1461",
          "QM1464",
          "QM1468",
          "QM1469",
          "QM1470",
          "QM870",
          "QM871",
          "QM872",
          "BAR066",
          "HV752",
          "QM138",
          "QM1574",
          "QM1489",
          "QM1491",
          "QM1492",
          "QM025",
          "QM026",
          "QM027",
          "QM326",
          "QM328",
          "QM329",
          "QM402",
          "QM1483",
          "QM1485",
          "QM1486",
          "QM1487",
          "QM286",
          "QM065",
          "HV519",
          "QM076",
          "QM294",
          "PER107",
          "QM319",
          "HV772",
          "PER110",
          "QM867",
          "PER108",
          "PER104",
          "QM292",
          "QM312",
          "QM295",
          "QM068",
          "HV896",
          "HV510",
          "QM1248",
          "QM1250",
          "QM1252",
          "QM1253",
          "QM1254",
          "QM1255",
          "QM1288",
          "QM1289",
          "QM1308",
          "QM1309",
          "QM1310",
          "QM1311",
          "QM1312",
          "QM1313",
          "QM1314",
          "QM1315",
          "QM1316",
          "QM1317",
          "QM1373",
          "QM1391",
          "QM1524",
          "QM1526",
          "QM1530",
          "QM1531",
          "AR0572",
          "AR0575",
          "QM067",
          "QM307",
          "QM321",
          "QM398",
          "QM518",
          "QM980",
          "QM982",
          "QM984",
          "QM985",
          "QM986",
          "QM988",
          "QM989",
          "QM990",
          "QM991",
          "QM993",
          "QM995",
          "QM996",
          "QM997",
          "QM994",
          "HV447",
          "QM262",
          "QM322",
          "QM323",
          "HV480",
          "QM308",
          "QM998",
          "QM085",
          "QM086",
          "HV109",
          "HV116",
          "QM895",
          "QM897",
          "QM899",
          "BAR001",
          "BAR002",
          "BAR003",
          "HV119",
          "HV136",
          "HV146",
          "HV156",
          "HV205",
          "HV254",
          "HV884",
          "HV912",
          "HV950",
          "HV953",
          "HV975",
          "HV983",
          "QM034",
          "QM088",
          "QM089",
          "HV455",
          "HV462",
          "HV498",
          "HV521",
          "HV523",
          "HV538",
          "HV559",
          "HV594",
          "HV615",
          "HV283",
          "HV285",
          "HV326",
          "HV413",
          "HV416",
          "BAR052",
          "BAR059",
          "QM351",
          "QM359",
          "QM365",
          "QM370",
          "QM373",
          "QM380",
          "QM381",
          "QM958",
          "QM968",
          "QM970",
          "QM977",
          "HV103",
          "HV107",
          "HV114",
          "HV245",
          "HV262",
          "HV271",
          "HV277",
          "HV330",
          "HV412",
          "HV414",
          "HV740",
          "HV753",
          "HV500",
          "HV508",
          "HV517",
          "HV599",
          "QM1325",
          "QM1326",
          "QM1327",
          "QM1358",
          "QM1359",
          "QM1360",
          "QM1362",
          "QM1364",
          "QM1366",
          "QM1367",
          "QM1368",
          "QM1369",
          "QM1370",
          "QM1379",
          "QM1385",
          "QM1388",
          "QM1452",
          "QM1263",
          "QM1264",
          "QM971",
          "HV986",
          "HV987",
          "QM093",
          "QM963",
          "QM1270",
          "QM1271",
          "QM1272",
          "QM1273",
          "PER152",
          "QM887",
          "QM889",
          "QM894",
          "QM960",
          "HV794",
          "HV813",
          "HV820",
          "HV88",
          "HV902",
          "AR0561",
          "AR0562",
          "AR0563",
          "AR0564",
          "AR0565",
          "AR0566",
          "AR0469",
          "AR0470",
          "AR0472",
          "AR0475",
          "AR0476",
          "AR0477",
          "AR0478",
          "AR0479",
          "AR0480",
          "QM1265",
          "QM1258",
          "QM1259",
          "QM1261",
          "QM1262",
          "QM1267",
          "QM1269",
          "HV678",
          "HV733",
          "HV744",
          "HV754",
          "HV773",
          "HV901",
          "BAR040",
          "AR0220",
          "AR0222",
          "AR0481",
          "AR0482",
          "AR0483",
          "AR0485",
          "AR0486",
          "AR0490",
          "AR0702",
          "AR0703",
          "AR0704",
          "AR0705",
          "AR0706",
          "AR0707",
          "AR0708",
          "AR0709",
          "AR0710",
          "AR0711",
          "AR0712",
          "AR0713",
          "AR0714",
          "AR0715",
          "AR0716",
          "AR0717",
          "AR0718",
          "AR0719",
          "AR0721",
          "AR0722",
          "AR0723",
          "AR0724",
          "AR0726",
          "AR0727",
          "AR0728",
          "AR0729",
          "AR0730",
          "QM1324",
          "BAR043",
          "AR0567",
          "AR0568",
          "AR0570",
          "QM286",
          "QM065",
          "HV519",
          "HV772",
          "PER110",
          "QM307",
          "QM321",
          "QM398",
          "QM518",
          "QM980",
          "QM982",
          "QM984",
          "QM985",
          "QM986",
          "QM988",
          "QM989",
          "QM990",
          "QM991",
          "QM993",
          "QM995",
          "QM996",
          "QM997",
          "QM994",
          "HV447",
          "QM262",
          "QM322",
          "QM323",
          "QM292",
          "QM312",
          "QM068",
          "HV896",
          "HV510",
          "HV480",
          "QM308",
          "QM998",
          "PER128",
          "QM1007",
          "QM1008",
          "HV236",
          "PER144",
          "PER149",
          "QM1010",
          "QM1011",
          "QM1013",
          "QM1014",
          "QM1015",
          "QM886",
          "BAR006",
          "BAR008",
          "QM085",
          "QM086",
          "HV116",
          "QM895",
          "QM897",
          "QM899",
          "BAR001",
          "BAR002",
          "BAR003",
          "HV119",
          "HV136",
          "HV156",
          "HV205",
          "BAR018",
          "BAR023",
          "BAR024",
          "QM115",
          "BAR062",
          "QM134",
          "HV884",
          "HV912",
          "HV950",
          "HV975",
          "QM088",
          "QM089",
          "HV455",
          "HV462",
          "HV498",
          "HV521",
          "HV523",
          "HV538",
          "HV559",
          "HV594",
          "HV615",
          "HV283",
          "HV285",
          "HV326",
          "HV413",
          "HV416",
          "BAR052",
          "BAR059",
          "QM351",
          "QM359",
          "QM365",
          "QM370",
          "QM373",
          "QM380",
          "QM381",
          "QM957",
          "QM958",
          "QM968",
          "QM970",
          "QM977",
          "HV103",
          "HV107",
          "HV114",
          "HV262",
          "HV271",
          "HV277",
          "HV330",
          "HV412",
          "HV414",
          "QM804",
          "QM805",
          "QM806",
          "QM807",
          "QM1002",
          "QM878",
          "QM879",
          "QM169",
          "QM874",
          "QM875",
          "PER134",
          "QM1333",
          "QM880",
          "QM882",
          "QM883",
          "QM884",
          "PER159",
          "BAR009",
          "QM876",
          "HV740",
          "HV753",
          "HV448",
          "HV500",
          "HV508",
          "HV517",
          "HV599",
          "QM1250",
          "QM1253",
          "QM1254",
          "QM1255",
          "QM1288",
          "QM1308",
          "QM1309",
          "QM1310",
          "QM1315",
          "QM1373",
          "QM1325",
          "QM1326",
          "QM1327",
          "QM1358",
          "QM1359",
          "QM1360",
          "QM1362",
          "QM1364",
          "QM1366",
          "QM1367",
          "QM1368",
          "QM1369",
          "QM1370",
          "QM1379",
          "QM1385",
          "QM1388",
          "QM1450",
          "QM1452",
          "QM1263",
          "QM1264",
          "QM325",
          "QM1440",
          "QM1334",
          "QM1406",
          "QM1353",
          "QM152",
          "QM868",
          "BAR064",
          "QM1387",
          "QM971",
          "HV986",
          "QM093",
          "QM963",
          "QM964",
          "QM1522",
          "QM1530",
          "QM1533",
          "QM1270",
          "QM1271",
          "QM1272",
          "QM1273",
          "PER152",
          "QM887",
          "QM889",
          "QM894",
          "QM960",
          "QM1536",
          "QM1537",
          "QM1539",
          "QM1540",
          "QM1541",
          "QM1542",
          "QM1543",
          "QM1545",
          "QM1461",
          "QM1470",
          "HV794",
          "HV813",
          "HV820",
          "HV88",
          "HV902",
          "QM870",
          "QM871",
          "QM872",
          "BAR066",
          "HV752",
          "QM138",
          "QM1546",
          "QM1574",
          "QM1547",
          "QM1549",
          "QM1551",
          "QM1552",
          "QM1554",
          "QM1555",
          "QM1556",
          "QM1557",
          "QM1558",
          "QM1559",
          "QM1561",
          "QM1565",
          "QM1489",
          "QM1491",
          "QM1492",
          "AR0561",
          "AR0562",
          "AR0563",
          "AR0564",
          "AR0565",
          "AR0566",
          "AR0461",
          "AR0462",
          "AR0469",
          "AR0470",
          "AR0472",
          "AR0474",
          "AR0475",
          "AR0476",
          "AR0477",
          "AR0478",
          "AR0479",
          "AR0480",
          "QM1265",
          "QM1258",
          "QM1259",
          "QM1260",
          "QM1261",
          "QM1262",
          "QM1267",
          "QM1269",
          "HV678",
          "HV733",
          "HV744",
          "HV754",
          "HV773",
          "HV901",
          "BAR040",
          "AR0221",
          "AR0222",
          "AR0481",
          "AR0482",
          "AR0483",
          "AR0485",
          "AR0490",
          "AR0225",
          "AR0226",
          "AR0228",
          "AR0701",
          "AR0702",
          "AR0703",
          "AR0704",
          "AR0705",
          "AR0706",
          "AR0707",
          "AR0708",
          "AR0709",
          "AR0710",
          "AR0711",
          "AR0712",
          "AR0713",
          "AR0714",
          "AR0715",
          "AR0716",
          "AR0717",
          "AR0718",
          "AR0719",
          "AR0720",
          "AR0721",
          "AR0722",
          "AR0723",
          "AR0724",
          "AR0726",
          "AR0730",
          "QM025",
          "QM026",
          "QM027",
          "QM326",
          "QM328",
          "QM329",
          "QM1483",
          "QM1485",
          "QM1486",
          "QM1487",
          "QM1324",
          "BAR043",
          "AR0567",
          "AR0568",
          "AR0570",
          "HV519",
          "HV772",
          "QM307",
          "QM321",
          "QM398",
          "QM518",
          "QM980",
          "QM982",
          "QM984",
          "QM985",
          "QM986",
          "QM988",
          "QM989",
          "QM990",
          "QM991",
          "QM993",
          "QM995",
          "QM996",
          "QM997",
          "QM994",
          "HV447",
          "QM262",
          "QM322",
          "QM323",
          "HV896",
          "HV510",
          "HV480",
          "QM308",
          "QM998",
          "PER128",
          "QM1007",
          "QM1008",
          "HV236",
          "PER144",
          "PER149",
          "QM1010",
          "QM1011",
          "QM1013",
          "QM1014",
          "QM1015",
          "QM886",
          "BAR006",
          "BAR008",
          "QM085",
          "QM086",
          "HV109",
          "HV116",
          "QM895",
          "QM897",
          "QM899",
          "BAR002",
          "BAR003",
          "HV119",
          "HV136",
          "HV146",
          "HV156",
          "HV205",
          "HV254",
          "BAR018",
          "BAR019",
          "BAR023",
          "BAR024",
          "QM115",
          "BAR062",
          "QM134",
          "HV884",
          "HV912",
          "HV953",
          "HV975",
          "HV983",
          "QM034",
          "QM088",
          "QM089",
          "HV455",
          "HV462",
          "HV498",
          "HV521",
          "HV523",
          "HV538",
          "HV559",
          "HV594",
          "HV615",
          "HV283",
          "HV285",
          "HV326",
          "HV413",
          "HV416",
          "BAR052",
          "BAR059",
          "QM351",
          "QM359",
          "QM365",
          "QM370",
          "QM373",
          "QM380",
          "QM381",
          "QM957",
          "QM958",
          "QM968",
          "QM970",
          "QM977",
          "HV103",
          "HV114",
          "HV245",
          "HV262",
          "HV271",
          "HV277",
          "HV330",
          "HV412",
          "HV414",
          "QM803",
          "QM804",
          "QM805",
          "QM807",
          "QM808",
          "QM810",
          "BAR026",
          "QM1002",
          "QM878",
          "QM879",
          "QM169",
          "QM874",
          "QM875",
          "PER134",
          "QM1333",
          "QM880",
          "QM882",
          "QM883",
          "QM884",
          "PER159",
          "BAR009",
          "QM876",
          "HV740",
          "HV753",
          "HV448",
          "HV500",
          "HV508",
          "HV517",
          "QM1315",
          "QM1373",
          "QM1325",
          "QM1326",
          "QM1327",
          "QM1358",
          "QM1359",
          "QM1360",
          "QM1362",
          "QM1364",
          "QM1366",
          "QM1367",
          "QM1368",
          "QM1369",
          "QM1370",
          "QM1379",
          "QM1385",
          "QM1388",
          "QM1450",
          "QM1452",
          "QM1263",
          "QM1264",
          "QM325",
          "QM1440",
          "QM1406",
          "QM1353",
          "QM152",
          "QM868",
          "QM1387",
          "QM971",
          "HV986",
          "HV987",
          "QM093",
          "QM964",
          "QM1522",
          "QM1530",
          "QM1533",
          "QM1270",
          "QM1271",
          "QM1272",
          "QM1273",
          "PER152",
          "QM887",
          "QM889",
          "QM894",
          "QM960",
          "QM1536",
          "QM1537",
          "QM1539",
          "QM1540",
          "QM1541",
          "QM1542",
          "QM1545",
          "QM1456",
          "QM1457",
          "QM1460",
          "QM1461",
          "QM1464",
          "QM1468",
          "QM1469",
          "QM1470",
          "HV794",
          "HV813",
          "HV820",
          "HV88",
          "HV902",
          "QM870",
          "QM871",
          "QM872",
          "BAR066",
          "HV752",
          "QM138",
          "QM1546",
          "QM1574",
          "QM1547",
          "QM1549",
          "QM1551",
          "QM1552",
          "QM1554",
          "QM1555",
          "QM1556",
          "QM1557",
          "QM1558",
          "QM1559",
          "QM1561",
          "QM1565",
          "QM1489",
          "QM1491",
          "QM1492",
          "AR0561",
          "AR0562",
          "AR0563",
          "AR0564",
          "AR0565",
          "AR0566",
          "AR0461",
          "AR0469",
          "AR0470",
          "AR0472",
          "AR0475",
          "AR0476",
          "AR0477",
          "AR0478",
          "AR0479",
          "AR0480",
          "QM1265",
          "QM1258",
          "QM1259",
          "QM1260",
          "QM1261",
          "QM1262",
          "QM1267",
          "QM1269",
          "HV678",
          "HV733",
          "HV734",
          "HV744",
          "HV754",
          "HV773",
          "BAR040",
          "AR0481",
          "AR0482",
          "AR0483",
          "AR0485",
          "AR0486",
          "AR0490",
          "AR0225",
          "AR0226",
          "AR0701",
          "AR0702",
          "AR0703",
          "AR0704",
          "AR0705",
          "AR0706",
          "AR0707",
          "AR0708",
          "AR0709",
          "AR0710",
          "AR0711",
          "AR0712",
          "AR0713",
          "AR0714",
          "AR0717",
          "AR0718",
          "AR0719",
          "AR0720",
          "AR0721",
          "AR0722",
          "AR0723",
          "AR0724",
          "AR0726",
          "AR0727",
          "AR0728",
          "AR0729",
          "AR0730",
          "QM025",
          "QM026",
          "QM027",
          "QM326",
          "QM328",
          "QM329",
          "QM1483",
          "QM1485",
          "QM1486",
          "QM1487",
          "QM1324",
          "BAR043",
          "AR0567",
          "AR0568",
          "QM085",
          "QM086",
          "HV146",
          "HV983",
          "QM1326",
          "QM1272",
          "PER152",
          "QM889",
          "QM894",
          "AR0561",
          "AR0566",
          "AR0462",
          "QM1258",
          "AR0217",
          "AR0221",
          "AR0222",
          "AR0223",
          "AR0702",
          "BAR043",
          "QM518",
          "HV447",
          "QM322",
          "QM308",
          "PER128",
          "QM1013",
          "QM086",
          "HV146",
          "HV205",
          "HV254",
          "BAR024",
          "HV884",
          "HV462",
          "HV521",
          "HV538",
          "HV615",
          "HV285",
          "HV326",
          "HV416",
          "BAR052",
          "BAR059",
          "HV103",
          "HV107",
          "HV114",
          "HV245",
          "HV262",
          "HV271",
          "HV277",
          "HV412",
          "HV414",
          "QM805",
          "QM807",
          "QM808",
          "BAR026",
          "QM1002",
          "QM878",
          "QM882",
          "QM884",
          "HV740",
          "HV753",
          "HV500",
          "HV508",
          "HV517",
          "HV599",
          "QM1325",
          "QM1326",
          "QM1327",
          "QM1359",
          "QM1360",
          "QM1362",
          "QM1364",
          "QM1367",
          "QM1368",
          "QM1370",
          "QM1379",
          "QM1385",
          "QM1388",
          "QM1452",
          "QM1353",
          "HV986",
          "HV987",
          "PER152",
          "QM887",
          "QM889",
          "QM894",
          "QM1536",
          "QM1539",
          "HV794",
          "HV813",
          "HV88",
          "HV902",
          "QM1546",
          "QM1549",
          "QM1554",
          "QM1557",
          "QM1558",
          "QM1561",
          "AR0561",
          "AR0563",
          "AR0566",
          "AR0462",
          "AR0465",
          "AR0467",
          "AR0468",
          "AR0470",
          "AR0472",
          "AR0475",
          "AR0476",
          "AR0477",
          "AR0478",
          "AR0479",
          "AR0480",
          "QM1267",
          "QM1269",
          "AR0216",
          "AR0217",
          "AR0221",
          "AR0222",
          "AR0481",
          "AR0482",
          "AR0490",
          "AR0224",
          "AR0225",
          "AR0701",
          "AR0702",
          "AR0704",
          "AR0705",
          "AR0714",
          "AR0715",
          "QM026",
          "QM329",
          "QM1324",
          "BAR043",
          "AR0568",
          "QM323",
          "QM085",
          "HV109",
          "QM895",
          "QM897",
          "BAR001",
          "BAR002",
          "BAR003",
          "HV254",
          "HV912",
          "HV983",
          "HV455",
          "HV523",
          "HV559",
          "HV283",
          "HV285",
          "HV326",
          "HV413",
          "BAR052",
          "BAR059",
          "QM359",
          "QM370",
          "QM373",
          "QM381",
          "QM957",
          "QM970",
          "HV245",
          "HV262",
          "HV277",
          "HV740",
          "HV448",
          "HV599",
          "QM1325",
          "QM1327",
          "QM1358",
          "QM1359",
          "QM1369",
          "QM1379",
          "QM1388",
          "QM971",
          "HV986",
          "QM963",
          "QM964",
          "QM1270",
          "QM1271",
          "QM1272",
          "QM1273",
          "PER152",
          "QM887",
          "QM960",
          "HV88",
          "HV902",
          "AR0563",
          "AR0564",
          "AR0566",
          "AR0461",
          "AR0462",
          "AR0465",
          "AR0467",
          "AR0468",
          "AR0469",
          "AR0472",
          "AR0474",
          "AR0475",
          "AR0476",
          "AR0477",
          "AR0478",
          "AR0479",
          "QM1259",
          "QM1262",
          "QM1267",
          "QM1269",
          "HV678",
          "HV754",
          "HV773",
          "AR0215",
          "AR0216",
          "AR0217",
          "AR0218",
          "AR0220",
          "AR0221",
          "AR0481",
          "AR0482",
          "AR0483",
          "AR0486",
          "AR0224",
          "AR0226",
          "AR0227",
          "AR0228",
          "AR0704",
          "AR0705",
          "AR0708",
          "AR0709",
          "AR0711",
          "AR0713",
          "AR0714",
          "AR0717",
          "AR0723",
          "AR0726",
          "AR0728",
          "AR0729",
          "QM026",
          "QM328",
          "QM329",
          "AR0567",
          "HV519",
          "PER107",
          "HV772",
          "PER110",
          "PER108",
          "QM985",
          "QM988",
          "QM397",
          "QM995",
          "QM992",
          "QM262",
          "QM323",
          "QM312",
          "QM295",
          "QM068",
          "HV896",
          "HV510",
          "PER128",
          "QM1007",
          "QM1008",
          "QM1010",
          "QM1011",
          "QM1013",
          "QM1014",
          "QM1015",
          "QM886",
          "BAR006",
          "BAR008",
          "QM085",
          "QM086",
          "HV109",
          "HV116",
          "QM895",
          "QM897",
          "QM899",
          "BAR001",
          "BAR002",
          "BAR003",
          "HV119",
          "HV136",
          "HV146",
          "HV254",
          "BAR018",
          "BAR019",
          "BAR023",
          "BAR024",
          "HV884",
          "HV912",
          "HV950",
          "HV953",
          "HV975",
          "QM089",
          "HV455",
          "HV462",
          "HV498",
          "HV521",
          "HV523",
          "HV538",
          "HV559",
          "HV594",
          "HV615",
          "HV283",
          "HV285",
          "HV326",
          "HV413",
          "HV416",
          "BAR032",
          "BAR052",
          "BAR059",
          "QM351",
          "QM359",
          "QM370",
          "QM380",
          "QM957",
          "QM958",
          "QM968",
          "QM970",
          "HV103",
          "HV107",
          "HV114",
          "HV245",
          "HV262",
          "HV271",
          "HV277",
          "HV330",
          "HV412",
          "HV414",
          "QM803",
          "QM804",
          "QM806",
          "QM808",
          "QM810",
          "BAR026",
          "QM1002",
          "QM878",
          "QM879",
          "PER134",
          "QM880",
          "QM883",
          "QM884",
          "PER159",
          "BAR009",
          "HV740",
          "HV753",
          "HV448",
          "HV500",
          "HV508",
          "HV517",
          "HV599",
          "QM1248",
          "QM1250",
          "QM1252",
          "QM1254",
          "QM1255",
          "QM1288",
          "QM1289",
          "QM1308",
          "QM1309",
          "QM1310",
          "QM1312",
          "QM1313",
          "QM1314",
          "QM1315",
          "QM1316",
          "QM1317",
          "QM1373",
          "QM1391",
          "QM1325",
          "QM1326",
          "QM1327",
          "QM1358",
          "QM1362",
          "QM1364",
          "QM1366",
          "QM1367",
          "QM1368",
          "QM1369",
          "QM1379",
          "QM1450",
          "QM1452",
          "QM1263",
          "QM1264",
          "QM325",
          "QM1440",
          "QM1353",
          "QM971",
          "HV986",
          "HV987",
          "QM093",
          "QM963",
          "QM964",
          "QM1523",
          "QM1524",
          "QM1525",
          "QM1526",
          "QM1527",
          "QM1528",
          "QM1530",
          "QM1533",
          "QM889",
          "QM894",
          "QM960",
          "QM1536",
          "QM1539",
          "QM1540",
          "QM1541",
          "QM1543",
          "QM1545",
          "QM1457",
          "QM1460",
          "QM1461",
          "QM1469",
          "QM1470",
          "HV794",
          "HV813",
          "HV820",
          "HV902",
          "QM1546",
          "QM1574",
          "QM1547",
          "QM1551",
          "QM1552",
          "QM1554",
          "QM1555",
          "QM1556",
          "QM1557",
          "QM1558",
          "QM1559",
          "QM1561",
          "AR0561",
          "AR0563",
          "AR0564",
          "AR0565",
          "AR0566",
          "AR0461",
          "AR0462",
          "AR0465",
          "AR0467",
          "AR0468",
          "AR0469",
          "AR0470",
          "AR0472",
          "AR0474",
          "AR0475",
          "AR0476",
          "AR0477",
          "AR0478",
          "AR0479",
          "AR0480",
          "QM1265",
          "QM1258",
          "QM1259",
          "QM1260",
          "QM1261",
          "QM1267",
          "QM1269",
          "HV678",
          "HV733",
          "HV734",
          "HV744",
          "HV754",
          "HV773",
          "AR0215",
          "AR0216",
          "AR0217",
          "AR0218",
          "AR0219",
          "AR0220",
          "AR0221",
          "AR0222",
          "AR0481",
          "AR0482",
          "AR0483",
          "AR0485",
          "AR0486",
          "AR0224",
          "AR0225",
          "AR0226",
          "AR0228",
          "AR0703",
          "AR0705",
          "AR0572",
          "AR0575",
          "QM025",
          "QM326",
          "QM329",
          "QM1324",
          "AR0567",
          "AR0570",
          "QM307",
          "QM321",
          "QM398",
          "QM518",
          "QM980",
          "QM982",
          "QM984",
          "QM985",
          "QM986",
          "QM988",
          "QM989",
          "QM990",
          "QM991",
          "QM993",
          "QM995",
          "QM996",
          "QM997",
          "QM994",
          "HV447",
          "QM262",
          "QM322",
          "HV480",
          "QM308",
          "QM998",
          "QM085",
          "QM086",
          "HV109",
          "HV116",
          "QM895",
          "QM897",
          "QM899",
          "BAR001",
          "BAR003",
          "HV119",
          "HV136",
          "HV146",
          "HV156",
          "HV205",
          "HV254",
          "HV884",
          "HV912",
          "HV950",
          "HV953",
          "HV975",
          "HV983",
          "QM034",
          "QM088",
          "QM089",
          "HV455",
          "HV462",
          "HV498",
          "HV521",
          "HV523",
          "HV538",
          "HV559",
          "HV594",
          "HV615",
          "HV283",
          "HV285",
          "HV326",
          "HV413",
          "HV416",
          "BAR052",
          "BAR059",
          "QM351",
          "QM359",
          "QM365",
          "QM370",
          "QM373",
          "QM380",
          "QM381",
          "QM957",
          "QM958",
          "QM968",
          "QM970",
          "QM977",
          "HV103",
          "HV107",
          "HV114",
          "HV245",
          "HV262",
          "HV271",
          "HV277",
          "HV330",
          "HV412",
          "HV414",
          "HV753",
          "HV448",
          "HV500",
          "HV508",
          "HV517",
          "HV599",
          "QM1325",
          "QM1326",
          "QM1327",
          "QM1358",
          "QM1359",
          "QM1360",
          "QM1362",
          "QM1364",
          "QM1366",
          "QM1367",
          "QM1368",
          "QM1369",
          "QM1370",
          "QM1385",
          "QM1388",
          "QM1450",
          "QM1452",
          "QM1263",
          "QM1264",
          "QM971",
          "HV986",
          "HV987",
          "QM093",
          "QM963",
          "QM964",
          "QM1270",
          "QM1271",
          "QM1272",
          "QM1273",
          "PER152",
          "QM887",
          "QM889",
          "QM894",
          "QM960",
          "HV794",
          "HV813",
          "HV820",
          "HV88",
          "HV902",
          "AR0561",
          "AR0562",
          "AR0563",
          "AR0565",
          "AR0566",
          "AR0461",
          "AR0462",
          "AR0465",
          "AR0467",
          "AR0468",
          "AR0469",
          "AR0470",
          "AR0472",
          "AR0475",
          "AR0476",
          "AR0477",
          "AR0478",
          "AR0479",
          "AR0480",
          "QM1265",
          "QM1258",
          "QM1259",
          "QM1260",
          "QM1261",
          "QM1262",
          "QM1267",
          "QM1269",
          "HV678",
          "HV733",
          "HV734",
          "HV744",
          "HV754",
          "HV773",
          "HV901",
          "BAR040",
          "AR0215",
          "AR0219",
          "AR0220",
          "AR0221",
          "AR0481",
          "AR0482",
          "AR0483",
          "AR0485",
          "AR0486",
          "AR0490",
          "AR0223",
          "AR0224",
          "AR0701",
          "AR0702",
          "AR0703",
          "AR0704",
          "AR0705",
          "AR0706",
          "AR0707",
          "AR0708",
          "AR0709",
          "AR0710",
          "AR0711",
          "AR0712",
          "AR0713",
          "AR0715",
          "AR0716",
          "AR0717",
          "AR0718",
          "AR0719",
          "AR0720",
          "AR0721",
          "AR0722",
          "AR0723",
          "AR0724",
          "AR0726",
          "AR0727",
          "AR0728",
          "AR0729",
          "AR0730",
          "BAR043",
          "AR0567",
          "AR0568",
          "AR0570",
          "QM307",
          "QM321",
          "QM982",
          "QM985",
          "QM986",
          "QM988",
          "QM989",
          "QM990",
          "QM991",
          "QM993",
          "QM995",
          "QM996",
          "QM997",
          "QM994",
          "HV447",
          "QM262",
          "QM322",
          "QM323",
          "HV480",
          "QM308",
          "QM998",
          "QM086",
          "HV109",
          "QM895",
          "QM897",
          "QM899",
          "BAR001",
          "BAR002",
          "BAR003",
          "HV119",
          "HV136",
          "HV146",
          "HV205",
          "HV884",
          "HV912",
          "HV950",
          "HV953",
          "HV975",
          "QM034",
          "QM088",
          "QM089",
          "HV455",
          "HV462",
          "HV521",
          "HV523",
          "HV538",
          "HV559",
          "HV594",
          "HV615",
          "HV283",
          "HV285",
          "HV326",
          "HV416",
          "BAR052",
          "BAR059",
          "QM351",
          "QM359",
          "QM365",
          "QM370",
          "QM380",
          "QM381",
          "QM957",
          "QM958",
          "QM970",
          "HV103",
          "HV107",
          "HV114",
          "HV245",
          "HV262",
          "HV271",
          "HV277",
          "HV330",
          "HV412",
          "HV740",
          "HV753",
          "HV448",
          "HV500",
          "HV517",
          "HV599",
          "QM1326",
          "QM1327",
          "QM1360",
          "QM1362",
          "QM1364",
          "QM1366",
          "QM1367",
          "QM1368",
          "QM1369",
          "QM1370",
          "QM1379",
          "QM1385",
          "QM1388",
          "QM1450",
          "QM1452",
          "QM971",
          "HV986",
          "HV987",
          "QM963",
          "QM964",
          "QM1270",
          "QM1271",
          "QM1272",
          "QM1273",
          "QM887",
          "QM889",
          "QM894",
          "QM960",
          "HV794",
          "HV813",
          "HV820",
          "AR0561",
          "AR0562",
          "AR0563",
          "AR0564",
          "AR0565",
          "AR0566",
          "AR0461",
          "AR0462",
          "AR0465",
          "AR0467",
          "AR0468",
          "AR0469",
          "AR0470",
          "AR0472",
          "AR0475",
          "AR0476",
          "AR0477",
          "AR0478",
          "AR0479",
          "AR0480",
          "QM1260",
          "QM1261",
          "QM1262",
          "QM1267",
          "QM1269",
          "HV733",
          "HV734",
          "HV744",
          "HV754",
          "HV901",
          "BAR040",
          "AR0215",
          "AR0216",
          "AR0217",
          "AR0218",
          "AR0220",
          "AR0481",
          "AR0482",
          "AR0483",
          "AR0490",
          "AR0223",
          "AR0224",
          "AR0225",
          "AR0228",
          "AR0701",
          "AR0704",
          "AR0706",
          "AR0709",
          "AR0710",
          "AR0712",
          "AR0713",
          "AR0715",
          "AR0716",
          "AR0717",
          "AR0719",
          "AR0720",
          "AR0723",
          "AR0724",
          "AR0727",
          "AR0728",
          "QM1324",
          "AR0567",
          "AR0568",
          "AR0570",
          "QM321",
          "QM518",
          "QM985",
          "QM986",
          "QM988",
          "QM989",
          "QM991",
          "QM993",
          "QM995",
          "QM996",
          "HV447",
          "QM262",
          "QM322",
          "QM308",
          "QM1007",
          "QM1008",
          "QM1010",
          "QM1011",
          "QM1013",
          "QM1014",
          "QM1015",
          "QM886",
          "BAR006",
          "BAR008",
          "QM085",
          "QM086",
          "QM895",
          "QM897",
          "QM899",
          "BAR001",
          "BAR002",
          "BAR003",
          "HV146",
          "HV156",
          "HV205",
          "HV254",
          "BAR018",
          "BAR019",
          "BAR023",
          "BAR024",
          "HV884",
          "HV912",
          "HV975",
          "QM034",
          "QM089",
          "HV498",
          "HV521",
          "HV538",
          "HV559",
          "HV615",
          "HV283",
          "HV413",
          "HV416",
          "BAR059",
          "QM351",
          "QM359",
          "QM957",
          "QM970",
          "HV103",
          "HV107",
          "HV114",
          "HV330",
          "HV412",
          "HV414",
          "QM803",
          "QM804",
          "QM810",
          "QM1002",
          "QM878",
          "QM882",
          "QM883",
          "QM884",
          "PER159",
          "HV740",
          "HV753",
          "HV500",
          "HV508",
          "QM1325",
          "QM1327",
          "QM1359",
          "QM1360",
          "QM1362",
          "QM1364",
          "QM1366",
          "QM1367",
          "QM1368",
          "QM1369",
          "QM1370",
          "QM1379",
          "QM1388",
          "QM1452",
          "QM1263",
          "QM1440",
          "QM971",
          "HV986",
          "HV987",
          "QM093",
          "QM1533",
          "QM887",
          "QM889",
          "QM894",
          "QM960",
          "QM1536",
          "QM1537",
          "QM1542",
          "QM1543",
          "QM1545",
          "QM1456",
          "QM1457",
          "QM1460",
          "QM1461",
          "QM1464",
          "QM1468",
          "QM1469",
          "HV794",
          "QM1546",
          "QM1574",
          "QM1547",
          "QM1549",
          "QM1551",
          "QM1555",
          "QM1556",
          "QM1557",
          "QM1561",
          "AR0561",
          "AR0562",
          "AR0563",
          "AR0564",
          "AR0566",
          "AR0461",
          "AR0462",
          "AR0465",
          "AR0467",
          "AR0468",
          "AR0469",
          "AR0470",
          "AR0472",
          "AR0474",
          "AR0475",
          "AR0476",
          "AR0477",
          "AR0478",
          "AR0479",
          "AR0480",
          "QM1265",
          "QM1259",
          "QM1260",
          "QM1261",
          "QM1262",
          "QM1267",
          "QM1269",
          "HV678",
          "HV773",
          "AR0215",
          "AR0216",
          "AR0218",
          "AR0219",
          "AR0220",
          "AR0221",
          "AR0481",
          "AR0482",
          "AR0485",
          "AR0486",
          "AR0490",
          "AR0223",
          "AR0224",
          "AR0225",
          "AR0226",
          "AR0227",
          "AR0228",
          "AR0701",
          "AR0702",
          "AR0704",
          "AR0705",
          "AR0706",
          "AR0707",
          "AR0708",
          "AR0711",
          "AR0713",
          "AR0714",
          "AR0715",
          "AR0716",
          "AR0717",
          "AR0718",
          "AR0719",
          "AR0723",
          "AR0724",
          "QM328",
          "QM402",
          "QM1324",
          "AR0568",
          "AR0570",
          "QM518",
          "HV447",
          "QM308",
          "QM085",
          "QM086",
          "HV146",
          "HV983",
          "HV462",
          "BAR052",
          "HV107",
          "HV500",
          "QM1326",
          "QM1368",
          "QM1452",
          "QM1264",
          "QM1353",
          "PER152",
          "QM889",
          "QM894",
          "HV794",
          "HV813",
          "AR0561",
          "AR0563",
          "AR0566",
          "AR0462",
          "AR0475",
          "AR0480",
          "QM1258",
          "AR0216",
          "AR0217",
          "AR0221",
          "AR0222",
          "AR0490",
          "AR0723",
          "AR0726",
          "AR0727",
          "AR0728",
          "AR0729",
          "AR0730",
          "QM026",
          "QM329",
          "QM1493",
          "QM1494",
          "QM1566",
          "QM1567",
          "QM1569",
          "QM1572"
         ],
         "legendgroup": "Sensitive",
         "marker": {
          "color": "limegreen",
          "symbol": "circle"
         },
         "mode": "markers",
         "name": "Sensitive",
         "showlegend": true,
         "type": "scattergl",
         "x": [
          -0.126710450172744,
          -0.038932146862327946,
          0.048718149286543805,
          -0.12470006664520566,
          0.02585139526279112,
          -0.005339191859567799,
          -0.020748208379651273,
          0.040110032797437606,
          -0.09572895436760787,
          -0.13666632231309156,
          0.07288048874096059,
          0.003154074809765428,
          -0.08298098060105175,
          0.11066908972692599,
          0.13419149002764505,
          0.060747941191538646,
          0.08715034490973056,
          0.11946590680086741,
          0.1497374458654334,
          0.049323815804177024,
          -0.13049187798269843,
          -0.06008861010445389,
          0.08659019462754627,
          0.1278529805938897,
          -0.07035345886689218,
          -0.04455793244826463,
          0.13439360556370303,
          0.026441556968804764,
          -0.09492814525501111,
          -0.09074765553712938,
          -0.14639210896073165,
          0.08509980194819908,
          -0.003468333777467747,
          -0.06452362461549693,
          -0.019881033935655934,
          0.04490846905095003,
          -0.11341434172417342,
          -0.11979544253467755,
          -0.08193201769976946,
          -0.03733338061014424,
          0.04851254728454524,
          -0.08740525270121828,
          0.07292195447630423,
          -0.0031994504833618154,
          -0.09153507153604173,
          -0.041360656114506233,
          -0.14826254006106843,
          0.062145382714683284,
          0.10980694980660169,
          0.09689593319259915,
          -0.02684280934391084,
          0.0072128748449833135,
          -0.0043872667108776076,
          -0.14862143092674218,
          -0.11839267181905705,
          0.06361154083154072,
          -0.13159167788817042,
          -0.09266131252749588,
          0.12981932899837265,
          0.0006848293034373842,
          -0.075971566559054,
          0.11798882014295167,
          0.08501799657736248,
          0.07220106509979857,
          0.13993633378377798,
          1.0940886187102168,
          1.0809182145789575,
          0.9908534522810283,
          1.1422164366465377,
          0.8532755445870878,
          0.9765055231213409,
          0.9729291622813322,
          1.0421253511684814,
          1.0070451556788302,
          1.093067902645954,
          1.0449401435876897,
          1.0033647845260438,
          1.052988026515707,
          3.0539088309926776,
          3.0656769410352513,
          3.0207928095193295,
          3.0734195423239603,
          2.970737342339787,
          3.1320948472234345,
          2.891997144685915,
          2.9192778921134908,
          3.063769634655665,
          3.0715406852540164,
          2.9593395492672174,
          3.1185997974151545,
          3.10797897437606,
          2.9028561094741923,
          3.073039246500953,
          3.0731836919529494,
          3.090884069447941,
          2.8624104387574567,
          3.01507634393589,
          3.0747002981834117,
          2.912710309759138,
          2.8948648134920356,
          3.0801262367817257,
          2.9489820932604403,
          2.9870507113927465,
          2.9165843089567884,
          2.9448201201679303,
          3.0419048063728664,
          2.946276882141041,
          3.0095885516240437,
          2.989003713377572,
          2.9962342618510918,
          3.118450226802359,
          3.0459386304267855,
          3.0204866375242347,
          2.8710119360424287,
          2.91263766630555,
          3.0967339294449276,
          3.113974482101278,
          3.0897818069910374,
          2.972971638172079,
          2.9439128143921303,
          3.1150702780171073,
          2.8913495123190014,
          3.0812169635058395,
          3.107651712738699,
          2.965609062563338,
          2.9835661195013112,
          3.138418027667216,
          3.0318793143484633,
          3.09294757594925,
          3.0307431986650095,
          3.1388645910350674,
          2.9751642842588004,
          2.994819292446499,
          2.8692920338120085,
          3.0219178733393117,
          2.8661795770992318,
          3.019610743295843,
          3.0481486723207802,
          2.9913974018209943,
          2.994419871146557,
          3.109709419750109,
          2.882287508582027,
          2.882702542508496,
          2.9247572998839075,
          3.1375255011278886,
          2.8850772134946165,
          2.9340479481705146,
          3.106851764423999,
          3.0124495713714374,
          3.1052766983937947,
          3.0869179847663615,
          3.115491073745383,
          2.8968588815669163,
          3.0603292778081186,
          3.0785201074778037,
          2.9762102624093467,
          2.866445832910572,
          3.036285675697705,
          2.8979318866170014,
          2.9559595368535323,
          2.996496330548775,
          2.859119522338035,
          2.940176582924431,
          2.8722442228919314,
          2.9388593059875183,
          2.88438063170618,
          2.954023328462436,
          2.916412103566341,
          3.134717884803084,
          2.9077312487347493,
          3.042187433767537,
          3.077941939163631,
          2.893098701899042,
          3.0037660853456405,
          3.02099468874213,
          3.0389969325240513,
          3.057463203036118,
          2.970353192417522,
          3.060383347395342,
          3.1175614550560513,
          2.9021678546327045,
          3.056747715115097,
          3.006150737788338,
          3.1318721303611468,
          3.0141404579917013,
          3.00015508933079,
          2.9069533973056823,
          3.02816134635094,
          2.9897646261400337,
          3.081305834612376,
          3.100635919045259,
          2.8639114844514015,
          3.9840279728110253,
          3.9735842173953015,
          3.863200526035264,
          4.00464221024101,
          4.142496864192039,
          3.9077133874741623,
          4.0379673308828465,
          4.114025035030885,
          3.9394079279012653,
          3.9303510675459696,
          4.1457955446228905,
          4.1250359706910835,
          4.031913560848628,
          3.8954381103266487,
          4.115023908669141,
          3.968783241721839,
          3.8989694303176625,
          4.065244434601734,
          3.948380799778503,
          3.95479831745718,
          4.112826578154365,
          4.025745715335526,
          4.137479433567289,
          4.033843087885919,
          4.006707680704551,
          3.9504454445177366,
          3.920979465861906,
          4.115111412222532,
          3.999130580821137,
          4.113928422120276,
          3.9179147559678658,
          4.0069283883271405,
          3.9272995184837214,
          4.015180891798824,
          4.104874716546405,
          4.103595717315182,
          3.8569529185159293,
          4.137938481384364,
          3.9295999818329306,
          4.0830820102319105,
          4.060154969386431,
          3.94676597048825,
          3.8956540755691065,
          3.9835145441387447,
          4.031666679246029,
          3.942237560199878,
          3.9699646477281374,
          3.949218462233086,
          3.916842043087925,
          4.0656113763020665,
          4.077452356310671,
          3.903801136340755,
          3.9983840150898966,
          4.123296612172574,
          4.062797573404096,
          4.143545065056443,
          3.9137830399005065,
          4.147693822953616,
          3.9883771757941657,
          4.008244780324962,
          4.027354087351705,
          3.8803344505405466,
          3.881902456397065,
          4.025172970338722,
          3.9079062661918846,
          3.933295260456715,
          3.8884176497637593,
          4.026708629040851,
          3.986748571774472,
          3.961460655534245,
          3.8606489318066712,
          3.9528175985360727,
          3.9309151070761716,
          3.926357003144302,
          4.119298619413994,
          3.956336120471655,
          3.8615615104947945,
          3.950354838891338,
          3.8755680471929375,
          4.062694302578322,
          3.904910768199805,
          4.075849558115803,
          3.975623740378761,
          3.995901608377525,
          4.075036831957585,
          3.8544013286922723,
          3.937293150606016,
          3.8989855779704534,
          3.947184818757474,
          4.131620678207973,
          3.9803179468809824,
          3.9375985773712525,
          4.145592917534397,
          3.906572690593438,
          4.005214957550602,
          4.029172153774516,
          3.9605690439058847,
          4.14282732841224,
          4.048142306951523,
          3.89885386181434,
          3.88234109202666,
          4.04508980589158,
          4.032457738127628,
          3.942503288236579,
          3.884355758857962,
          4.051118647292594,
          4.144866433412879,
          4.031619454634414,
          4.111193342926854,
          3.868873986749261,
          4.873478409963741,
          5.0027875883548845,
          5.050263060183485,
          4.973098337253757,
          5.0577013834868225,
          4.900041487082364,
          4.922175274843296,
          4.94817957326421,
          5.076678216753258,
          5.045378704229686,
          4.920577740940622,
          4.96423571155822,
          4.883821057830738,
          5.149749163247572,
          4.863754888806153,
          5.146062127731133,
          5.04280120002185,
          4.971036288444671,
          5.132063439823827,
          5.050202501093557,
          5.016308177060699,
          5.054167327722932,
          4.8695720314198345,
          5.073285242604872,
          4.9159995311808204,
          5.037672129354795,
          5.042863030032509,
          5.062471830597118,
          4.9930551743763045,
          5.0939830099649575,
          4.879850113132442,
          4.8525285605135755,
          4.943304113192413,
          6.94418971424387,
          7.010732766215957,
          7.057409827941828,
          7.100500899005383,
          7.11235776581439,
          6.888528475400833,
          6.992564619401136,
          7.010578326927505,
          6.872167233414239,
          7.015063142971592,
          7.099290418290372,
          7.023030148528317,
          7.125425446174935,
          7.057956420573068,
          7.014290313319251,
          6.941683246644902,
          7.144868166106267,
          6.970168130221391,
          6.9606142578492305,
          6.930284315925327,
          6.8509233669050555,
          7.095893379287657,
          7.130863484185016,
          6.860317507447784,
          6.855410707490449,
          6.969452458319143,
          6.9547573999546755,
          6.987775046282915,
          7.124324997781315,
          6.941170683725347,
          7.0886213606196655,
          7.070464799849746,
          6.897046216274715,
          6.908434605851307,
          7.044182941259852,
          7.110001122362257,
          6.928994633564854,
          7.13051034162656,
          7.140035661420016,
          7.009277631852747,
          6.905803036952224,
          7.1182144324746055,
          7.047625427650017,
          7.127726243445484,
          6.870754725881459,
          7.137415972634615,
          6.955308549478958,
          7.09763748782751,
          6.93953851532158,
          6.9671087194102554,
          7.072155539734773,
          6.948306054292944,
          7.066932675271219,
          6.919323736637471,
          6.9803036689329225,
          6.95706020163411,
          7.052450408686584,
          10.050660136951658,
          9.917321116627805,
          10.038294908064715,
          9.91349777900035,
          9.92639256441985,
          9.981077088638733,
          10.135568262631974,
          9.890011925331041,
          10.057355878261458,
          9.869323564831538,
          10.0099858790715,
          9.956322760903742,
          10.036706039873229,
          10.060252100816552,
          9.905785116501246,
          10.068321154499792,
          10.145002006013257,
          10.013710776152132,
          9.958705186046013,
          9.898594987979475,
          9.887959749359604,
          10.146672406020725,
          9.917699483324597,
          9.917050248204314,
          9.9877966611935,
          10.109480150626382,
          10.138492842028338,
          10.09708471299183,
          10.042009314968855,
          9.905566920228894,
          10.096535114678511,
          9.862453047012105,
          10.133880330604242,
          9.975797193082448,
          10.043636625206304,
          10.127393649236149,
          10.135331590032447,
          10.088999918767811,
          9.999045168651941,
          10.0875100573187,
          10.073373420186249,
          9.852676902385266,
          10.045264950566235,
          10.092837046349358,
          9.885900706547634,
          11.05260937601449,
          11.044172950886374,
          11.079077474379334,
          11.12021313687232,
          10.942454714258576,
          10.8558836860473,
          10.874116213864735,
          11.0143191003447,
          10.963183092814056,
          10.900064077618639,
          10.85090602221111,
          10.912733954020254,
          10.877998293261033,
          10.92086980370358,
          10.911230693056007,
          11.101751184320525,
          10.917672029297858,
          11.032935292034521,
          11.037384773622485,
          10.875784608010512,
          11.106059997591974,
          10.912244750912514,
          11.126910250808747,
          10.899600848942713,
          10.958156748819714,
          11.079398915546562,
          11.053662193996125,
          10.96626697796227,
          11.057415789245562,
          10.863962457608825,
          11.116582588138186,
          10.974138955726042,
          10.988500052112789,
          11.102263900291074,
          11.13305773996091,
          10.856793643379717,
          11.104779448034558,
          10.935979571446559,
          11.127842808942829,
          10.976094942820104,
          10.875356766050594,
          10.900215045185046,
          11.069302168722105,
          10.886614242552463,
          10.883343417862093,
          11.019606675262596,
          10.981730340707793,
          10.96822398149861,
          10.963304693256362,
          10.972155382006,
          11.133941222107767,
          10.974447410488537,
          10.94764906008925,
          11.092080645774235,
          10.860229764894314,
          10.966406485208312,
          11.12128442815384,
          11.080145885302949,
          11.056475565385538,
          11.112891694201783,
          11.118703333594851,
          10.960084543738706,
          10.985307641724985,
          11.0317332552031,
          10.909179133055328,
          11.050425969175482,
          11.011316481182604,
          11.033899090846967,
          11.019434207869473,
          10.921184885489428,
          11.073277333808768,
          11.121505386829675,
          10.924173673900246,
          10.985560589362757,
          11.077884485307177,
          11.00778976817214,
          10.87387579677339,
          11.119166648883594,
          10.91073520373928,
          11.031153886443336,
          11.03372056151961,
          11.026812914948026,
          11.0102830852192,
          10.90203047453936,
          11.059879734300234,
          11.018484987990291,
          10.907535332700553,
          10.934222669061967,
          10.912007343885522,
          10.975816409656346,
          10.924124874464521,
          10.909699804482909,
          11.021305986975442,
          11.14874166341718,
          11.095000452357676,
          11.004303649792808,
          11.007615559705807,
          10.882220394452826,
          11.02428704812759,
          11.100036208402468,
          10.933999508967531,
          10.996123573044384,
          11.097658282515177,
          10.942861500818656,
          11.037911916656947,
          11.114345380342712,
          11.132271960199681,
          11.103144198556503,
          11.008633469820404,
          10.974906115793678,
          10.92568590404573,
          11.12777003297936,
          10.950301950753262,
          10.933291040379636,
          11.11198506146636,
          10.868915893952465,
          11.103812997598691,
          10.854569892850751,
          10.86632307546673,
          11.05499548035413,
          11.062339706778904,
          10.858304662712404,
          10.875317823714374,
          11.077326168478944,
          11.123755830360649,
          11.081972952917253,
          11.14506887633232,
          10.913622844874356,
          10.878021281596201,
          11.103827900409991,
          11.135128354283072,
          11.105410938377405,
          11.085513857046465,
          10.858627984717675,
          11.123987800959595,
          10.934061932478558,
          11.131016574137023,
          11.087783869509778,
          10.982665222482227,
          11.087541799806518,
          10.922638816024925,
          11.021258402618544,
          10.900374128792494,
          10.922977916711089,
          11.03718450821153,
          10.861383914006511,
          11.134217755608573,
          10.956207663916379,
          11.09242803716942,
          11.087064442022882,
          11.138229872835621,
          11.05788558897442,
          10.856799571584148,
          10.92784536058994,
          11.083632047612305,
          10.858064903284358,
          10.923211630507248,
          11.136554784366295,
          11.089928591729661,
          10.909076122046343,
          11.134973857008632,
          10.944621452583643,
          11.008982352188807,
          10.987189539647321,
          10.88603180291355,
          11.042407126842651,
          11.100471806769907,
          10.906762231740904,
          11.085675231958618,
          11.039591659165003,
          10.85302367043658,
          10.85462605797744,
          10.882458431654722,
          11.097186184943219,
          11.013777391897596,
          11.109106087530352,
          10.920351405108923,
          10.988168288513434,
          11.018493671484912,
          11.148382165887895,
          11.050020941243737,
          11.050732051549549,
          10.860890542053712,
          11.031384242567862,
          10.920154496010511,
          11.031058967917081,
          10.940235012553773,
          10.852467190653815,
          11.122263625807488,
          11.014270419551245,
          11.087434195768749,
          11.017926214690995,
          10.926972179673024,
          11.005218077542736,
          10.869229158169318,
          11.115653572068146,
          11.086551316286569,
          10.936650176307769,
          11.149867724877547,
          10.884351248842654,
          12.013711387120084,
          12.117143909345549,
          12.082014648118578,
          11.87968466863333,
          12.093310670563474,
          12.143073108485554,
          12.038068198556818,
          11.99353921225264,
          11.925887184888667,
          11.854461708666157,
          12.10862983316396,
          11.944760049956862,
          12.006452014865177,
          12.110743436369246,
          12.145664373626646,
          11.907284675053505,
          12.049153275289765,
          11.925740140089385,
          11.982608188380333,
          11.912156159407944,
          11.90262608597722,
          11.987555113375198,
          12.053110572358213,
          12.030436240646326,
          11.963759197278351,
          11.961347703179221,
          12.13881275076404,
          11.861195779493112,
          11.868773111547181,
          11.933902761304267,
          11.97437976970052,
          12.050065107199826,
          12.061332230180781,
          11.963866921636951,
          12.0194295601846,
          12.136916319887872,
          12.063617696342378,
          12.083777153567468,
          12.047164520917212,
          12.02456608000652,
          11.941513726442246,
          11.886820411180775,
          11.90637908909807,
          11.884899200305474,
          11.914006382069328,
          12.044259783579337,
          11.993246079228015,
          12.127399419912596,
          12.129251182330044,
          12.083777596532554,
          12.074354458307798,
          11.97904777109565,
          12.076797729042621,
          12.080981274512661,
          12.016656666638184,
          12.00435001618525,
          11.922139958834812,
          11.851150548821794,
          11.958049153721703,
          12.094670123529083,
          11.980384133731071,
          12.063682559741707,
          12.07950226671532,
          11.86322722454622,
          11.945371636297182,
          11.996196333094721,
          11.855328338380554,
          12.070358724362471,
          11.887086853642721,
          12.004226665867797,
          11.95897161720706,
          12.075119695036749,
          12.089302762311847,
          11.903592050606989,
          11.891992225457363,
          11.994337943567269,
          11.892386528182307,
          12.117758808748185,
          11.973759683919628,
          11.908512406073886,
          11.89028614073921,
          12.147484882308815,
          12.096217957264995,
          11.92892174770617,
          12.017449475377044,
          12.073302669141693,
          11.869229468439405,
          12.02956484046788,
          11.85685006158818,
          11.994528472349208,
          12.036216171387721,
          11.85731526384142,
          12.103017880546801,
          12.118872213501106,
          11.86326411185813,
          12.01187745020003,
          12.075631852375514,
          12.135566140295241,
          11.967058888079887,
          11.88780178256616,
          12.069400556604919,
          11.993599181488477,
          11.877266970026671,
          12.119119191597731,
          12.137982473747076,
          12.00923071643255,
          11.958188298954589,
          11.860656315561572,
          11.953715010782998,
          11.915154174457989,
          12.031545903415328,
          11.90381464459594,
          11.963068009105934,
          12.13785838245867,
          11.977681006074254,
          12.026147896896973,
          12.095677380237332,
          12.011523716601708,
          12.102081047016346,
          11.865666410973411,
          11.95390784805994,
          11.868801699540386,
          11.98479514223141,
          11.989707172485039,
          12.044450526197124,
          12.047882304116335,
          11.947533424255727,
          11.96522710669486,
          11.98949531416654,
          11.902965145156234,
          11.880984648848731,
          11.8619427708225,
          12.147781117769943,
          11.959912524757744,
          11.87508676296082,
          12.019520954551652,
          12.117197606256491,
          12.138267291029544,
          12.06041408235329,
          12.149892365791223,
          11.980424810893162,
          11.865032025457296,
          12.030648423022601,
          12.005134944561988,
          11.945671184966981,
          11.854354752801687,
          11.88806518465504,
          11.892163177089133,
          11.856590142832275,
          12.016099084346221,
          11.882713334199272,
          12.098799067436513,
          11.921294274678925,
          11.928992194474713,
          12.072625331037647,
          12.05445154766654,
          11.852042036145042,
          12.145659222495297,
          11.855694358338134,
          11.951129647079537,
          12.0846986767722,
          12.085328628528357,
          11.860238415402156,
          11.927564550169233,
          11.95916098774711,
          11.934845505240913,
          12.106893568598595,
          11.994152650370715,
          11.973772199445154,
          11.88304803834963,
          11.90946166433047,
          11.99688513379187,
          11.94695616630664,
          11.974639157140471,
          11.86002547551593,
          12.099045602733355,
          11.860191367655602,
          12.097435286283037,
          12.099667956811635,
          12.024005472530227,
          11.85549579983866,
          11.854715347537041,
          11.857466940044526,
          12.087878716683491,
          12.022101440585779,
          12.080408607610337,
          12.056397692994294,
          12.048292329908753,
          12.030227577144165,
          11.87015458608271,
          12.073784097418974,
          11.876561091415597,
          11.884842016142573,
          11.930150868289612,
          12.069796905433645,
          12.142667318062935,
          11.879613595245122,
          12.072350270402847,
          11.981612801907218,
          11.974865840046917,
          11.911706883830464,
          12.107135604664126,
          12.027515451238969,
          12.064863130509337,
          11.904718231924054,
          12.031692979246738,
          12.065929494752888,
          12.130445302548509,
          11.902294972937852,
          12.082726167876288,
          12.147019959956657,
          11.922974834457412,
          11.926752043138148,
          12.033802147717891,
          12.11728659304919,
          11.945541483763124,
          11.863223950301652,
          11.89834702804218,
          11.879527387862028,
          12.093054808127148,
          12.013817090499908,
          12.145803088414254,
          11.978154352810725,
          12.009172014867627,
          11.852604173756482,
          11.877742264330541,
          11.91007346638465,
          12.002861184933263,
          12.071270446492726,
          12.120012155136884,
          11.906235549938186,
          12.092239684359473,
          12.148184206745803,
          11.977173982097835,
          12.11598165908158,
          12.109331902954969,
          11.946007145635296,
          12.036270974942559,
          11.993407421307948,
          11.881059441022948,
          12.0175383696297,
          11.984304464954404,
          12.01574846576842,
          11.876493644095708,
          11.97402394646054,
          11.930082068713025,
          12.049577822430058,
          12.068245628496404,
          12.060059589024005,
          11.941575241741813,
          12.056397349282053,
          11.909284735979194,
          12.06799900206165,
          11.930959140936139,
          12.08725459035355,
          12.050879080033459,
          11.938448176859577,
          11.958716735017738,
          12.057796252973901,
          11.927919888585055,
          12.04586328513247,
          12.131235209883055,
          12.094687576439679,
          12.013144113488352,
          12.129618218582419,
          11.872351546659313,
          11.970101389084544,
          12.012690718006544,
          11.900888122744743,
          11.98149247662272,
          11.96983283871035,
          12.017173104765552,
          11.946850500074687,
          11.892499278582624,
          11.8605167725347,
          11.948255499733946,
          12.103507913682103,
          11.960408478406302,
          12.143470826991521,
          12.131535226344104,
          11.889156538780387,
          11.89097621593744,
          12.139069421711337,
          12.024866809702983,
          11.90935302650102,
          11.988861121927009,
          12.052095135931362,
          11.888373704958358,
          11.937856446572884,
          12.006215870117103,
          11.881471996786399,
          12.010156955644534,
          11.92143374329851,
          11.954219711970653,
          12.08206016672523,
          11.93195789094457,
          11.910819292508044,
          11.98452322102286,
          12.110337200245183,
          11.893100781467037,
          11.902942295266074,
          11.881765926757204,
          11.860559979595255,
          12.072265583110656,
          11.907071489882208,
          12.039671740304657,
          11.977951216061866,
          11.96947119452588,
          12.038001436124055,
          12.130542117549455,
          12.117560186705077,
          11.999291621523211,
          12.01991213190288,
          11.974451709929973,
          12.083191907875323,
          13.018538477608077,
          13.0419082097344,
          13.082146969078597,
          13.04628695826134,
          12.910600490113698,
          13.043409521577539,
          12.92714457466329,
          13.128635101429234,
          13.028787700131332,
          13.100449434418648,
          12.994726915292672,
          12.94638740938367,
          12.890573278393395,
          12.983407072661866,
          12.937795878740266,
          12.92005819533106,
          13.007580374325482,
          13.13017627213172,
          13.087920567058944,
          12.950870562598466,
          12.85030384250672,
          12.870054671428843,
          12.874831755476903,
          13.118229542177119,
          13.065781290045221,
          13.01815688173076,
          13.036951447410047,
          13.043042998529897,
          12.973025160835292,
          13.144012932850556,
          13.079294142407516,
          12.887281859419287,
          13.029103810431923,
          12.850703712957758,
          13.059465097150602,
          12.932531218599813,
          13.099361112128564,
          12.883826296292288,
          12.933455023009468,
          12.97145338857777,
          12.941836195231499,
          13.044678149288435,
          12.934931654649152,
          12.964122534266343,
          13.012086560606276,
          12.927755880964911,
          13.089424838709808,
          12.979124923683212,
          13.083456831436278,
          13.005583744653977,
          13.147057292561843,
          13.128986536147142,
          12.971300674221059,
          12.975445067738692,
          13.039783910076597,
          13.062470825351072,
          12.921522704254478,
          13.062701944427603,
          13.104642481139937,
          13.100006218308806,
          12.862462658197702,
          12.95585938884008,
          12.942144655435175,
          12.937720080079227,
          12.956372026755718,
          13.065535602800974,
          12.917482452497527,
          12.924036468509074,
          12.970004780849523,
          12.949653866223377,
          12.981472215785749,
          13.092931960685968,
          12.995419492415499,
          12.93730610050355,
          13.078981689850199,
          12.981399234331521,
          13.116854403583577,
          12.86551536517383,
          13.133140931744913,
          12.896594076667995,
          13.117423311493944,
          12.877796959732596,
          12.895717031274966,
          12.949321346342959,
          12.911181694047718,
          13.08318208372702,
          13.037764584122831,
          12.938579191980788,
          12.985336315073907,
          13.08145364515626,
          13.062163609929136,
          13.095025630843885,
          12.8868489688208,
          13.145624242911927,
          13.028373955091482,
          13.03678371338304,
          12.94388890362155,
          12.94380406124243,
          13.124750416325268,
          13.038009249529084,
          12.939848568370165,
          13.02341038990612,
          12.882561372792546,
          13.12829587178666,
          12.972655002536232,
          13.034163487125742,
          12.989039243910439,
          12.893014707020615,
          12.950105494216324,
          13.117045250849594,
          12.943684891245692,
          13.09772966298523,
          12.95577080469465,
          12.931284470681872,
          12.896733449744552,
          13.025235044307546,
          12.933910043956335,
          12.891016703097778,
          13.130827448164059,
          13.016869509014462,
          13.063066418454799,
          13.011118794289324,
          12.941288056140925,
          13.054748761868918,
          13.064721966686749,
          12.876120498556862,
          12.957031876753275,
          13.01687003488413,
          12.89847784815334,
          13.098859559378976,
          13.13342150227763,
          13.036178444012645,
          12.918213427807814,
          13.039600573807826,
          12.888126421552704,
          13.14555710232829,
          12.943694157941028,
          13.080697771803822,
          12.916129937489604,
          13.08331585242861,
          13.032036663814818,
          13.100236373361604,
          13.110130376373576,
          13.138060967190938,
          13.117014724707541,
          12.973565489567711,
          12.858995962502874,
          12.938064512644718,
          12.959523106905202,
          12.941503573136755,
          13.075069492542605,
          12.97918956590017,
          13.025453085513995,
          13.117539897555517,
          13.007565715658638,
          12.855301368119541,
          13.057332681514108,
          12.856396834036214,
          13.024219775534302,
          12.952998894241675,
          12.996015035975594,
          13.056015426644967,
          13.14328543551927,
          12.874306000590991,
          12.984152435851204,
          13.114929966595547,
          13.00326633421548,
          12.929143126101318,
          12.990904397662108,
          12.97288917041024,
          12.973912093883614,
          13.140545030749388,
          13.090919758127995,
          13.037575965794323,
          12.96616045216754,
          12.871918728302647,
          13.024637449805763,
          12.89281477611972,
          12.870347142616186,
          12.976897849682382,
          13.07142465489104,
          13.02008641944337,
          13.134486899299208,
          12.8642552452933,
          13.055321220061495,
          13.050280103647289,
          12.960529263725217,
          12.850361997125631,
          12.969137841940988,
          13.078315232282229,
          13.142694079387006,
          12.915561148389772,
          13.031794761540189,
          13.098469830648868,
          12.866945568707823,
          13.140630465168842,
          13.036899756774588,
          12.956877000817702,
          13.027249565683581,
          12.875451095142992,
          13.075895528282043,
          13.145624442732553,
          12.92704170711824,
          12.926884885899348,
          12.972950590420679,
          13.017778523749575,
          13.134440052634499,
          13.00521433571869,
          13.068960295599688,
          13.063024812453374,
          13.049699896271626,
          13.059609093444472,
          13.143038118138604,
          13.138776287372345,
          12.926198256503703,
          12.98399295655694,
          12.970693199673981,
          13.132981448965998,
          13.091782488889068,
          12.916655348035503,
          12.862285921555001,
          13.075120181233164,
          12.930987115345998,
          12.898866458755759,
          13.118950975607339,
          12.930340929122972,
          13.144012416700237,
          13.125272314448928,
          12.875703777048912,
          12.940391282187534,
          13.142605434143482,
          13.115583170661733,
          13.056945312281444,
          13.026559881175018,
          12.977455032970614,
          12.973493049228392,
          12.943183690409604,
          12.918250345326273,
          13.140877505157077,
          12.936202700847712,
          13.000261582728104,
          12.981318087982071,
          12.977807934688379,
          13.078626366563434,
          12.88356471769337,
          12.922470571675623,
          13.012162443554965,
          13.105858558430267,
          12.948391284538172,
          13.045674573062865,
          13.020142255713855,
          12.887753697365818,
          12.859370574031612,
          12.901304489136121,
          13.033684419913701,
          12.998305485673804,
          13.149562910147875,
          12.961298624096179,
          13.085505047493337,
          13.089841559578735,
          13.002473771542588,
          12.902187405162557,
          12.9126158370134,
          12.96347783715981,
          13.12436459450137,
          12.933592321908352,
          12.990139969913889,
          12.96320014225811,
          13.046791505036376,
          13.094037396214409,
          12.94657128967987,
          13.073387154839576,
          12.965424572829997,
          12.997604813499175,
          13.018677097167165,
          12.993237764108711,
          12.982338052526105,
          13.018141690437478,
          13.060178653947956,
          12.961698919007059,
          12.969187230218234,
          13.148870687887314,
          13.094144184473473,
          12.91765261445694,
          12.965124490524412,
          13.041617163010944,
          12.877254828967617,
          13.04352303573689,
          12.922087921411835,
          13.03450660231334,
          13.025304495095112,
          12.962163019575154,
          13.02078842821084,
          12.86597616899698,
          13.134993604329521,
          13.02949353947197,
          12.884647428239827,
          12.899304138622439,
          12.862715320414186,
          12.942516723712327,
          13.12383232748387,
          13.059996184585366,
          13.067317783284636,
          13.021732358104888,
          12.911880222044738,
          12.862039438891863,
          12.951293139526056,
          13.92226981280918,
          14.034869970658248,
          14.063266775650742,
          13.850833469410569,
          13.98224643759844,
          13.913139165638615,
          13.896352562974686,
          13.88467049180549,
          13.898999811491652,
          13.931063688469358,
          13.940983769633178,
          13.873864471553187,
          13.955607309257392,
          14.10531242170433,
          14.01653414267467,
          14.091807606534758,
          14.022289317581505,
          13.873551825874143,
          14.113468235967426,
          14.932513425410333,
          15.018920889629804,
          14.879883993895417,
          15.070617569110645,
          14.910133278932621,
          15.141022944878646,
          14.936546781559333,
          14.982319465386682,
          15.11770971993534,
          15.018827284183336,
          14.863764097156626,
          15.107286185534226,
          15.085109418958876,
          15.049382951364347,
          15.026005359426202,
          14.956137401789777,
          15.033896112010968,
          14.944790906676603,
          14.986735142496107,
          15.107115584676047,
          14.95274526138448,
          15.075610168460747,
          14.934822491976792,
          15.096580319942522,
          14.867998647270488,
          15.093977103096163,
          14.917018570174301,
          14.989955275193509,
          14.983911752792242,
          15.111628734425,
          14.97301527132765,
          14.89363608424588,
          14.98471858519666,
          15.146240168282958,
          15.013199826764069,
          15.032448947004417,
          15.091740692778306,
          14.928450488139921,
          15.051756617865497,
          15.07369810570183,
          14.980041920695841,
          14.997529914836067,
          14.867831249846269,
          15.062342732531263,
          14.959524803327172,
          15.124679084242008,
          14.891489356644314,
          15.049905669599084,
          14.905057472465911,
          14.998602438554613,
          15.041233204982483,
          15.043994054302456,
          15.104710154908222,
          14.990708506570922,
          14.936938634078285,
          15.088038644695107,
          15.08221877737489,
          15.017065948897786,
          14.955429319064319,
          15.129699285273698,
          15.119500741936971,
          15.0342678274519,
          14.950129055658673,
          14.915632620024342,
          15.070070939750456,
          14.880680969466122,
          15.012595947891134,
          15.023497720653328,
          14.938581023827142,
          15.143668005200707,
          14.895043207090243,
          14.934551532369161,
          14.895529155649324,
          14.995006653210439,
          15.046418726191714,
          14.857791919688657,
          15.119369521748816,
          14.97185807080106,
          15.111744202585337,
          14.968592465764255,
          14.973545909170412,
          14.924295321537029,
          15.057585953744855,
          15.05872659858461,
          15.119877237627728,
          15.028448341909755,
          14.854137546144397,
          15.03979351565916,
          15.036736848345607,
          14.911642210860233,
          14.988359195508163,
          14.857746274169374,
          15.01278323036944,
          15.078214991471407,
          14.942641830653827,
          14.967544932317498,
          15.055608302641923,
          15.11387050025993,
          14.907708659635116,
          14.910195534769143,
          15.09752897403538,
          14.968736511790596,
          15.02431286351746,
          15.077247534036042,
          14.853702114208502,
          15.000134317525038,
          15.008136828332086,
          14.953755807015598,
          15.084182712035108,
          15.131366263105111,
          14.90846667127929,
          15.133931536377853,
          15.021699583576838,
          15.000633767191818,
          16.046027519885605,
          15.970953027620004,
          16.089130408239225,
          16.01132463014979,
          15.909044839526691,
          15.929511982391636,
          16.03440849084617,
          16.023882004545236,
          16.05034469605347,
          16.016039905063483,
          16.071801950164637,
          15.871827354607698,
          15.930655943039122,
          15.866689741827935,
          16.142847626885757,
          15.981096559255993,
          16.087991487803503,
          16.070982962393046,
          16.14358907496153,
          16.14921498596393,
          15.986405901384858,
          16.12758110096504,
          15.904898634459014,
          15.964072517646123,
          16.13937479420215,
          16.052728305932554,
          16.110585855451145,
          15.948912760433936,
          15.973799009454536,
          16.05594947745669,
          15.942620031342159,
          15.914600871906398,
          16.00424796931395,
          15.947465585608851,
          15.88359741330047,
          15.933341989709922,
          15.99627345742302,
          15.906291694800212,
          16.047766710510803,
          15.988261481337881,
          16.098442831384954,
          15.958854979944183,
          16.118230798486273,
          16.020320046856526,
          16.14761097716256,
          16.054361014294084,
          16.05100697296138,
          16.080322461534042,
          16.12957713019334,
          16.075465751560102,
          15.925876831120162,
          16.008756736359974,
          15.894331446799413,
          16.132029105874377,
          15.98204821080534,
          15.90867230853732,
          16.03911327270368,
          15.992758780209321,
          15.968603015407083,
          16.020264987744604,
          16.068515247920526,
          15.853152299392388,
          16.04964884764687,
          15.889956231768823,
          15.966242864557161,
          16.137231716570017,
          15.866670337689953,
          15.915976840099278,
          15.938860730765795,
          16.027187584532562,
          16.03253796868504,
          15.865327302029,
          16.10839700246683,
          16.000756058373742,
          15.956982804804413,
          16.002526603103547,
          16.102707878330545,
          15.943464452159061,
          16.149152663474773,
          16.017841300952544,
          15.97773266776808,
          15.924453518018865,
          16.096665975322466,
          16.06546171242391,
          15.912794183596102,
          16.075164443906292,
          15.976200079641574,
          16.079496800414887,
          15.980138115252728,
          16.015942722821237,
          16.125186440994657,
          15.87478288069548,
          15.917473521778378,
          15.877518231227404,
          15.889059227363482,
          16.068390444530227,
          16.011492607604488,
          16.13998570055946,
          15.996863787298977,
          15.975878911196794,
          15.858954079762043,
          15.916508292314004,
          15.998408945774703,
          15.854274498368328,
          15.989810295499591,
          17.026890981188647,
          17.093542411194914,
          16.855734568582687,
          17.028149916131685,
          16.89338497174039,
          16.996900864254435,
          17.037674161344448,
          17.051904748489235,
          16.978740658150983,
          17.041740801977294,
          16.976051575073534,
          17.116064064298193,
          17.042685744481503,
          16.8531207581741,
          17.02516537582572,
          17.038000029840443,
          17.081694303261408,
          17.123998743460497,
          16.92443588299882,
          17.00737690940445,
          17.019198951166626,
          16.913375490108983,
          17.033317423307302,
          17.143339698245295,
          16.87546845127726,
          17.013494143076628,
          16.95930080746674,
          17.12555477195637,
          16.90881687738697,
          16.92378877087924,
          17.060235480281126,
          17.02880324956185,
          17.03532488573118,
          16.914428868313205,
          16.878522174702237,
          16.863609193926706,
          17.126582668831368,
          16.99368019678596,
          16.995406572484388,
          17.08919608603779,
          16.886419554293813,
          16.95236941007215,
          16.945997447578257,
          17.08944766628008,
          17.07764883248225,
          16.977528171153228,
          16.905826975034042,
          17.141398137603662,
          16.913681752467856,
          16.907686518473916,
          17.001839770122025,
          16.85814624450286,
          16.927753997621238,
          16.885874222234676,
          16.949664455683955,
          16.871599626170244,
          17.130299703142562,
          17.017759813317674,
          17.06648700586986,
          16.98450896748862,
          16.89218693226222,
          17.122078369796906,
          17.01862245344632,
          16.95429177034211,
          16.89862796150668,
          16.978454197134752,
          17.137354017180034,
          17.04347672407911,
          17.09664663069544,
          17.06439355351754,
          17.021046013731002,
          16.904988767374153,
          16.898356409146363,
          17.062074694690097,
          17.013193963892483,
          16.944610161844537,
          17.02610991591957,
          17.075898170339826,
          17.012823388727192,
          17.051269880735706,
          16.97259080894665,
          17.141507693493736,
          16.903668031387383,
          16.99439003053974,
          17.092854835337278,
          16.883546580311847,
          17.146581031802317,
          16.87213806732411,
          16.893453934267505,
          16.99779244165175,
          17.133435075696166,
          17.06054282598303,
          17.111342144326777,
          17.083188613135373,
          17.072181336772775,
          16.918559202127742,
          16.869822836759482,
          17.084100291358748,
          17.143436682851195,
          17.127630055139285,
          16.9996937395457,
          17.0707668507173,
          16.859165386370087,
          16.877205106397785,
          16.985715970912562,
          16.92766948862122,
          16.944303998923502,
          16.86930659822299,
          17.131233299751482,
          17.030370228045307,
          17.147133506813905,
          17.02552428217105,
          17.134040359789974,
          16.92262654467333,
          17.081868071120958,
          17.091309660550213,
          17.143061291464623,
          17.07148314972232,
          16.94640754698555,
          17.078225321545062,
          16.92871043223322,
          16.918073045640607,
          17.004099176195474,
          17.072794002205704,
          16.981888618284298,
          17.139451982987286,
          17.102258846539552,
          16.892369988462573,
          16.993660174794574,
          16.951756693525773,
          17.070554859517568,
          16.968717778635703,
          17.044175371273283,
          17.09365345578896,
          17.143093109459116,
          16.874270542956523,
          16.89910170221368,
          16.901362327334954,
          17.052291614751795,
          16.88899961564622,
          16.92364326620079,
          17.14883356471172,
          16.934031286731834,
          17.036862188392966,
          17.03228490275335,
          16.87281108176814,
          17.072246471016125,
          17.133893587129048,
          17.038876483182115,
          17.086162232474628,
          17.071482491993468,
          17.087181567720023,
          16.94533049137985,
          16.917107518181805,
          16.928197213803486,
          17.0553258547058,
          17.01311915308641,
          16.933309972208765,
          17.05719953183728,
          16.9017571040183,
          17.06087116878284,
          17.079498698902125,
          16.894176661844664,
          16.9821938426754,
          17.014874121265205,
          17.006737037416947,
          17.08475389121495,
          17.08500562237426,
          17.11809230437978,
          16.97578632515961,
          16.86696035619531,
          17.074289130329205,
          16.999996669153738,
          16.90189463256096,
          16.996555602356306,
          16.8929821693143,
          17.100234186707233,
          17.117922951333778,
          16.861676228171234,
          16.972780542596666,
          17.05587425214675,
          17.140083796532778,
          16.985062269499085,
          17.02078738293391,
          17.018171828000046,
          17.00019040514127,
          16.885511373813316,
          17.018360407406888,
          16.972003651010358,
          16.99915126467089,
          17.078695625863844,
          16.866774839388846,
          16.8984709057475,
          17.051491998929002,
          17.107307870673814,
          16.889264854690616,
          16.95698527561788,
          17.113507686098732,
          16.980931482652036,
          16.99649426316388,
          16.928993567211293,
          17.065216004173266,
          17.10025140225756,
          16.971726694579285,
          16.90164098329877,
          17.1375484080962,
          17.07009573170345,
          17.04987632403222,
          16.932011428934757,
          16.921672071684725,
          17.05233160875009,
          17.126880680384353,
          16.920743357118656,
          17.12867011947179,
          16.99559439277122,
          16.978750542085454,
          16.905783399225555,
          16.8894800159188,
          17.00691891323851,
          17.136246316469318,
          17.06001933385049,
          16.891418741084667,
          16.932632579983608,
          17.02218477645406,
          17.070951988556597,
          16.886861655716025,
          17.103237650891472,
          17.110887102174996,
          16.90758791226046,
          16.942875020211826,
          17.062911009415785,
          16.962702679883456,
          17.1375342568553,
          17.01833477602711,
          17.097832518850534,
          16.914726413934336,
          17.025883783043536,
          17.06471732390747,
          17.058641023139366,
          16.88919485753877,
          17.07168426440491,
          17.008407762248126,
          17.091241654756264,
          16.853289205997704,
          17.02573033711887,
          16.99665894022411,
          16.897605370961845,
          16.964872728506567,
          17.057671260822975,
          17.96242884783734,
          18.136224887771768,
          18.02802793684217,
          17.913244195822816,
          17.90613703611587,
          18.141444751559153,
          17.98877569831062,
          18.081321957642285,
          17.981486036424997,
          17.883836540903367,
          18.14019840938724,
          17.932986712557263,
          17.968670253008376,
          17.94537869464355,
          18.054838915816056,
          17.89998813077996,
          18.058365799897178,
          17.946327778750174,
          17.968223089204297,
          18.03699096780006,
          17.951860049538475,
          17.885889243522886,
          18.068628688383516,
          18.01759648546256,
          18.026939243346813,
          17.981224916443754,
          18.107170351294968,
          18.099320428072012,
          18.099405248322743,
          18.03922996811313,
          18.120499641901347,
          18.044944778714,
          17.999927578760452,
          18.003663437486914,
          18.138431419586407,
          17.993497524976878,
          18.05170320113576,
          18.06916855580164,
          18.064778062942153,
          18.07713496545576,
          18.041800591870746,
          18.142631630468976,
          17.87608108824526,
          18.127137155892804,
          18.036364102859114,
          17.97750988576565,
          17.9317257708137,
          18.088973910197794,
          18.028199620486824,
          17.90738396392717,
          17.955306881567672,
          18.076902280611346,
          17.988421605760593,
          17.85880267999628,
          17.95885190331485,
          17.884732521847788,
          17.87892567202902,
          18.106289687479826,
          17.999920429362454,
          18.146911916031677,
          18.082345267296017,
          18.042647155223243,
          18.13915467182305,
          18.139981483924466,
          18.034746470274804,
          17.901612904494474,
          17.90319255389879,
          18.055698028117163,
          18.09330828267442,
          17.855047387752467,
          17.91663064842733,
          17.86523653305665,
          18.050280396136003,
          18.112950292439372,
          18.00058064555637,
          17.873036248040297,
          18.14673436645635,
          18.00630370657502,
          18.091456315743198,
          18.033692210372543,
          18.000768914662412,
          18.036171879489284,
          17.887605729262077,
          17.94712390892003,
          18.06855407258209,
          18.146295136978242,
          18.052759116738752,
          17.87080063159457,
          17.876328149291513,
          18.0789827715933,
          17.95344287860515,
          17.985112567061634,
          17.9356955057366,
          17.853418073073872,
          18.075511934040456,
          18.027984090237705,
          17.935518129150882,
          17.93946564920999,
          18.132931283480584,
          17.915584815027874,
          18.077292368943155,
          17.92478575789477,
          18.137343215497083,
          18.090824910044333,
          18.024649128487052,
          17.960623345895335,
          17.95081172801455,
          17.946525241118806,
          18.063369337056336,
          18.086816664189197,
          17.97272594539926,
          18.01762624441689,
          18.075579691251324,
          17.97221242680582,
          17.867536793613336,
          17.965051741787935,
          18.091870440045586,
          18.099676108796753,
          17.853619614664215,
          17.964670640216884,
          17.96165386618301,
          18.105984360161216,
          18.088929436803703,
          17.948980367085493,
          18.123075157568564,
          17.874106597368883,
          18.04291834735904,
          17.87713629830252,
          17.88015069992656,
          18.06191016907089,
          18.0259347659436,
          17.986656208844508,
          18.136526343939387,
          17.95981386167783,
          18.033633940930695,
          18.120695618437114,
          17.98555331336097,
          18.004401360131524,
          17.934812135926073,
          17.951213140454296,
          18.068654622639347,
          17.97742022557688,
          17.88583930279123,
          17.931458481064478,
          17.98194482587673,
          18.005916460550356,
          17.875997445186414,
          18.05801558900782,
          18.11593213997445,
          17.882233515892054,
          18.086635449892313,
          18.02774281728978,
          18.130186640628608,
          17.854117692116084,
          17.96076808179682,
          18.104877463616514,
          18.098089039080087,
          17.969580739135765,
          17.867425194116404,
          17.96172514190747,
          17.90816906444785,
          18.097885391805097,
          17.89229695923785,
          18.015511048240942,
          17.90415881857768,
          18.090516126882804,
          18.006984402899814,
          18.08094610481562,
          18.07962294079669,
          18.11417416799514,
          18.075294083026872,
          17.96088662211985,
          17.985239915196335,
          17.88651568011192,
          17.874308441634142,
          17.865883362805103,
          17.943287762849476,
          17.915015319381233,
          18.102519165273655,
          18.00532456955573,
          17.92869758131408,
          17.929766893559457,
          17.900150804942022,
          18.067200913623147,
          17.867737714631833,
          17.995492123157277,
          18.076419733659232,
          17.85336617751635,
          17.994291036588816,
          18.05936767715059,
          18.063082717178936,
          18.079962233933898,
          18.06555880435029,
          18.055012879506716,
          18.053462495087594,
          17.867198527030673,
          18.07818266470697,
          17.9582229101946,
          17.914818859639063,
          18.01987766629105,
          17.929723140676057,
          17.93189837167794,
          17.955961634794974,
          17.958702038378973,
          17.918768440346046,
          17.99833428973136,
          17.949695119616816,
          17.891558175893515,
          18.04645417293511,
          18.12969658633688,
          18.8682134547573,
          19.00965614509557,
          18.901955564343883,
          18.9077638395655,
          18.85027733175237,
          19.10915628829762,
          19.00726857458383,
          19.12081004644549,
          18.857578370826527,
          18.937305364322913,
          19.109258037667235,
          18.874067455849072,
          19.07889927753575,
          19.077669894753182,
          19.045819919057763,
          19.101943953958337,
          18.92738319590298,
          19.054813185291202,
          19.075711748742233,
          18.964334936141636,
          19.115168091053004,
          18.97758917845001,
          19.136649316139717,
          18.96136547924506,
          18.948640517159866,
          19.029806301324996,
          19.018532368097496,
          19.140715840425205,
          19.134499533339394,
          18.972969596331705,
          19.033695319056225,
          19.137497363945396,
          18.852724870255596,
          19.021429086038463,
          18.99994364093215,
          18.938242307441055,
          19.035316799485937,
          19.076235018754037,
          18.97200823394391,
          18.919811477309327,
          18.913879243904237,
          19.13139917425723,
          18.90479379359052,
          19.05495597044298,
          19.125230056411116,
          18.879452805336424,
          19.117387289781288,
          18.998479317342312,
          19.041599879850445,
          19.12221287534875,
          19.013535304494283,
          18.950649553943656,
          18.971604821567254,
          19.125665083148604,
          19.13550831431844,
          18.983278474170962,
          19.05587525898264,
          18.899720836814282,
          19.033476749583496,
          19.12076236718039,
          18.86931420579966,
          19.00499470894095,
          18.903633429252746,
          18.91958381754106,
          19.020716608039287,
          18.875369771800475,
          18.97265906043732,
          18.874600712468553,
          19.05234384588899,
          18.90029451655103,
          19.106023504118138,
          18.896743184629003,
          19.022122517275566,
          19.06876181082884,
          19.054955336025316,
          18.927310241131796,
          18.980247027428845,
          19.04989823982753,
          18.91472438060684,
          18.98348655061553,
          18.983833349188195,
          18.934769738822528,
          18.86003417745414,
          19.000077218614877,
          18.924647443832473,
          18.85310426880451,
          19.013402991903963,
          19.008556318351957,
          18.99579017860516,
          18.97465464772295,
          18.982867089919043,
          18.915029081804043,
          18.896234517824418,
          18.985121109018895,
          19.106455979272386,
          19.02922807089757,
          19.14261661105012,
          19.1231757082954,
          18.931541599932075,
          19.033919759429512,
          19.1144549812734,
          19.018504530520595,
          18.94367861242735,
          19.069915143354052,
          18.854982525847078,
          18.989543193848547,
          19.148166796397245,
          18.9610485784812,
          18.860937790604996,
          18.957472102502905,
          19.144140014073546,
          18.901599079494392,
          18.971060770674214,
          18.983719610995838,
          18.897490210517397,
          18.893585366401854,
          18.991613332618144,
          18.91130116194004,
          18.89087899715374,
          19.060626309088043,
          19.124882504238986,
          18.967659046332127,
          18.89632969987767,
          18.91302455312598,
          18.87259232259657,
          18.94761380730614,
          18.853625986312505,
          18.916991082717505,
          18.85888605692965,
          19.113694853289303,
          18.95289746181867,
          18.87713980758303,
          18.88260086012158,
          19.103659168568157,
          18.94435248687779,
          18.95996435137687,
          18.85551394486994,
          19.050467522485473,
          18.93953360220645,
          18.910822469607844,
          18.874109392913944,
          18.954405626429125,
          19.00302102983868,
          19.129843712944925,
          19.05657115204686,
          18.851594427053726,
          19.016624587172522,
          19.075302396618362,
          19.084436572667467,
          19.133654152502768,
          18.9296552328536,
          18.970327294888943,
          18.892834293179394,
          18.89005803374696,
          18.900141715327567,
          19.072186084130127,
          18.87866461604492,
          19.026764211881968,
          19.06475048328626,
          18.903453878653085,
          18.948782404563364,
          19.06391720176506,
          18.93796260420464,
          18.87287265493051,
          18.94100399909297,
          18.854980258000776,
          18.94268942265776,
          19.01214697555698,
          18.932776374613223,
          19.043841589366195,
          19.13339102837284,
          18.985471517235997,
          19.076448164810035,
          18.888840397792404,
          19.911279318698714,
          20.14879567641554,
          19.888992350694654,
          20.00372210015205,
          20.003150783099024,
          19.995821315985953,
          19.91418588420355,
          19.959878287945696,
          19.927174529031525,
          20.105328745273123,
          19.882491951481818,
          20.04261082337492,
          20.0162695636641,
          20.09459954666876,
          19.98956498525524,
          20.092603319654618,
          19.912573020430727,
          19.928790136038035,
          19.90614207034736,
          20.13198208468055,
          20.14121938278063,
          19.997775368494832,
          20.04551800456377,
          19.91260124783572,
          20.118069053322426,
          19.877172408678838,
          20.023646975912406,
          19.916433321671178,
          19.903031200813302,
          20.00595607058112,
          19.89779335335965,
          20.10655383034154,
          20.124305754233422,
          19.877859656178018,
          19.99282439467203,
          20.021322054329865,
          19.99494001060072,
          19.92288685937492,
          19.928068319713567,
          20.02960349129042,
          19.86988019181009,
          20.071435545861597,
          19.9965157006735,
          20.104253362219985,
          19.95395221185226,
          20.024636969116177,
          19.860310533100208,
          20.135014530731205,
          20.138541548339617,
          20.0864599563778,
          20.121516967144615,
          19.868347077435256,
          19.953404439830134,
          19.882587293590007,
          20.10911247648545,
          20.039773313675983,
          19.896404650846144,
          19.859980124275967,
          20.00414621931698,
          20.07975487745102,
          20.110853462065506,
          20.0887117703808,
          19.921438255189262,
          20.04316132259394,
          19.918276038961416,
          19.94658075227249,
          19.856206547864375,
          20.09395433060491,
          19.946272341544702,
          20.00107792352661,
          19.944259352208128,
          19.981585450510934,
          19.881727130355404,
          19.974245741227943,
          19.99281758476753,
          20.091559778858812,
          20.11163723476605,
          20.047678342841433,
          20.047991818247457,
          20.008687066584724,
          19.901895727274145,
          20.002684683333918,
          19.95479756623727,
          20.020531571836074,
          20.12880191339083,
          19.97037729789607,
          20.01843957385946,
          20.006442415157405,
          19.96205283745062,
          19.898272017900428,
          19.919530758404306,
          19.86101793375375,
          19.862998196805396,
          20.058810093424114,
          20.140258417439366,
          19.91028815225301,
          19.85699057233287,
          19.896344484162302,
          19.991162337295453,
          19.923573990511926,
          20.13761783939292,
          19.93469057946159,
          20.1016885265622,
          19.954314101058436,
          20.035475554767874,
          19.97042338419778,
          19.92801937447317,
          19.856038318692573,
          19.917991999611672,
          20.019916405896097,
          20.01295856558883,
          20.02347316426941,
          20.039636485257404,
          20.046062360776176,
          19.965870346083353,
          20.080280212858987,
          20.137192307420353,
          19.921110392237694,
          19.877796639113495,
          20.006925980763636,
          20.02218045340101,
          20.105326152753143,
          19.888899186212445,
          20.092098275952125,
          20.020455768015452,
          19.874220537792553,
          20.079422837320223,
          20.03311161088348,
          20.10161029339884,
          20.04204939384404,
          20.077763523474584,
          19.95481046558662,
          19.92338002320729,
          20.14232713501546,
          20.083209242209612,
          20.082112208727146,
          20.10366742796404,
          20.054797682685518,
          20.086993917926407,
          19.99256492823705,
          20.023788106545172,
          20.074356014896416,
          20.010401233233882,
          20.046210912130494,
          20.12023500719549,
          19.97333680295763,
          19.88938590212542,
          19.99484072845425,
          20.131436482198342,
          20.057908964381006,
          20.116269426507362,
          19.968139705910787,
          19.94544640546721,
          20.064419184306203,
          19.907400518579767,
          19.991366836895082,
          20.07755668325736,
          19.992735117518627,
          19.938315177115292,
          20.06048494509858,
          20.088243604712517,
          19.886752250417665,
          19.95684501375882,
          19.85314056586449,
          20.099050706293834,
          20.13371384773444,
          20.066826534507005,
          20.147691110604963,
          20.14764822447636,
          20.03659647457172,
          19.942714628593503,
          20.032612922914666,
          20.042189348605998,
          20.13197180474345,
          20.124035232116647,
          20.111306775197143,
          20.1270406930102,
          19.976335160454955,
          19.92526850149449,
          19.89532030963734,
          20.070841629683226,
          19.970833003275164,
          20.080481118585297,
          19.9375535833472,
          19.86985117112763,
          20.09547296010936,
          19.973062069684293,
          20.093829001289706,
          20.13235625402295,
          20.05890659285954,
          20.04836604396169,
          19.95471233872114,
          21.047223521518063,
          21.131304752222018,
          20.99976437677392,
          20.89860889241343,
          21.049710352498245,
          20.992951415999936,
          20.983933770846384,
          21.130925734924627,
          21.02145617630043,
          20.852158612498524,
          20.926093501407404,
          21.019291378026715,
          20.953965860576194,
          20.89383285379637,
          21.04359804369651,
          21.100277003496885,
          20.965313653140885,
          21.14368414355747,
          21.021215892980106,
          21.025744109089484,
          20.92444173124398,
          20.952994788216813,
          21.120442430427698,
          21.081538554222433,
          20.898961938261543,
          20.917666682960306,
          21.01185472770139,
          21.11353805764705,
          20.873392933124368,
          21.113428853661215,
          20.959072247471802,
          21.14488945276898,
          20.963883626736436,
          20.883075580326423,
          21.111295342613133,
          21.02585558860783,
          21.02388446896786,
          21.04195065579792,
          21.00850410029185,
          20.95080818362362,
          21.05994332481317,
          21.05904373817327,
          21.0517085922153,
          20.97880480245774,
          21.020760363418002,
          21.039521041075602,
          20.95195263751313
         ],
         "xaxis": "x",
         "y": [
          -4.133871673108717,
          -4.921267643819754,
          -6.018991294419442,
          -3.9243743817109187,
          -5.1378969879741145,
          -4.127416864367356,
          -4.972897407608607,
          -3.8698552121917658,
          -3.861957862953171,
          -5.139107710136683,
          -3.943851255283348,
          -3.948759178297205,
          -5.039957632971245,
          -3.9282261597946153,
          -4.10511705324922,
          -4.00886333546282,
          -4.017185091974797,
          -4.940808960841562,
          -6.057820884593045,
          -6.955847178842749,
          -6.128320069776563,
          -7.01179436841071,
          -6.877052900680374,
          -3.9222813395506924,
          -2.0105691258999436,
          -4.12034649942533,
          -6.9634861643707655,
          -5.953333784331469,
          -5.854716213657976,
          -6.078884167771645,
          -6.921726225403844,
          -7.149899703781934,
          -3.8686226419037157,
          -2.855722935631782,
          -2.120893294836912,
          -4.135188862992132,
          -3.0671769431881786,
          -2.979295194703846,
          -3.879713016431807,
          -4.887375894275042,
          -5.049713638677282,
          -4.034429114993997,
          -5.115744623422181,
          -4.968199134060618,
          -4.098800183862755,
          -5.00974341477518,
          -6.913898820537471,
          -6.9046019932587575,
          -6.8792682095294255,
          -7.006572138701779,
          -6.882762373814431,
          -7.105609649343743,
          -6.927194348085463,
          -6.917360652283608,
          -5.867389666320606,
          -7.065909521786801,
          -7.115853084372599,
          -7.110358852890139,
          -5.02917579776929,
          -2.98929709233642,
          -3.06692233683061,
          -2.9863273253899756,
          -2.9813245570086626,
          -6.00228826283365,
          -4.03120593607681,
          2.1421888981456787,
          0.9420642534868161,
          0.031587218570994224,
          -5.043017376248019,
          -2.0373860905284795,
          -5.0790465462024645,
          -2.877581889989602,
          -2.988384866308972,
          -0.042287339544969924,
          -5.98205184282191,
          -5.138048397656292,
          -3.015379102919584,
          -2.052265695129109,
          -2.0710582077105935,
          -2.0898942400081943,
          -0.13408569488995267,
          0.1426128084639999,
          0.06252616856076748,
          -0.002840000362694134,
          0.0389997788009947,
          -1.957402323164454,
          0.03439852843244204,
          0.14296205956763872,
          0.09742517176649929,
          -0.1056777168549791,
          0.013826318959893003,
          -0.057184394192705434,
          0.1423809486561601,
          -0.07666321559750448,
          -0.012050459864523744,
          0.010746014047556263,
          -0.07868794558191473,
          0.00007911240604552283,
          -2.0871891279556354,
          0.1385038949499193,
          -1.9285658361009446,
          -3.1446351397763688,
          -1.1246888331182563,
          -0.8619932505724687,
          -0.11357281698396021,
          -2.017904118488157,
          -1.9954065558142373,
          -1.0973320631870442,
          -0.9343457113292419,
          -2.0493986459153732,
          -2.117934724166731,
          -1.888473702798534,
          -2.063508495732045,
          -1.9627131715478077,
          -1.9228292140846726,
          -1.96860101221251,
          -1.1226193029644065,
          -0.8925017276772604,
          -1.133261739496421,
          -1.995408651841251,
          -1.8828353126712385,
          -2.0553352412985415,
          -1.9888173699366276,
          -1.1141169694815471,
          -3.131520784929911,
          -0.9230013358499612,
          0.09742343628322536,
          -0.8526205246882067,
          0.0244936817555253,
          0.008175936329295252,
          -0.9101743737847732,
          -1.8711550952458686,
          -2.1420345826889364,
          -0.948205562919917,
          -1.0639650615866223,
          -1.0013131456139583,
          -1.9274397101398937,
          -1.8758734157536832,
          -1.9229004832937964,
          -2.1330818853197884,
          -1.0338810335811095,
          -2.11109417286836,
          -2.085623064496297,
          -2.14823751919326,
          -2.0623290965444774,
          -1.0469569971949086,
          -0.1452495971189243,
          -1.051712806310552,
          -1.009461783762117,
          -1.031310094768018,
          0.039799922787045194,
          -0.8896851565516403,
          -3.04956632299861,
          -1.1362625654123804,
          -1.0030866894015407,
          -1.946022580302712,
          -1.003228783150235,
          -1.9758233923007424,
          -1.8910864731502477,
          -0.910998892021295,
          -0.8967995706235301,
          -0.043352846865883254,
          -3.1264448917344714,
          -0.9563887055511056,
          -0.8693299365460154,
          -0.8775426897978245,
          -1.0794892385441577,
          -0.9756587205977925,
          -0.11663112887742058,
          -1.0243701672247574,
          -0.05228155245742884,
          -0.9458575229191831,
          -1.099216738802705,
          -1.0542659453681098,
          -0.9004191014359194,
          -0.9941416357739747,
          0.02318789716717573,
          0.022925185724031488,
          -2.069793644055796,
          -1.857930408607016,
          0.02477777099060824,
          0.06930863733499462,
          -0.1274346508310118,
          -1.095567355423757,
          -0.968162048028519,
          -1.0624568269593562,
          -0.9079179498261214,
          0.046225917792093923,
          -0.8864446037017665,
          -0.8829416913823565,
          -2.126378920010323,
          -0.11856889809721805,
          -0.883244454589991,
          -1.9471513876762399,
          1.1046266135524903,
          0.9449754102782294,
          0.9624942847818629,
          1.1401152992781236,
          0.8987149345071234,
          -0.8926007533714099,
          -0.12085447270873212,
          1.0344774190222712,
          0.8768763086032119,
          0.9720584171800128,
          1.1363401872603636,
          -0.11355723552482513,
          0.8967464754800003,
          0.870809637727307,
          0.8575018637507128,
          0.859898821038426,
          -0.003970087586590648,
          1.1207180687726588,
          -0.9932039495096634,
          1.1385649924758385,
          -1.0365623646083009,
          -0.967189418454909,
          -0.047112722116843905,
          -0.013399813204688082,
          0.05474980023400655,
          -0.8857040997345171,
          -0.995649023023277,
          0.08066304533418991,
          -0.9856452316313544,
          -0.9736503894870775,
          -0.9480557448201825,
          -0.9630840039931962,
          -1.1427335838633192,
          -1.0347702057088917,
          -0.9374555416378502,
          0.07986250252430652,
          -0.09559561103640543,
          0.07385152411590895,
          -0.9723482951869162,
          -1.097242096425842,
          -1.0547804426754546,
          -0.9083025224440155,
          -0.01460111374100792,
          -1.0968071576012453,
          0.06858957036443886,
          0.9398891657196609,
          0.12113680186668355,
          1.0700036018072394,
          1.1435410031910411,
          0.06694902635494818,
          -1.901017507793621,
          -0.11892305737291409,
          -0.012923358012707165,
          0.08220661205032709,
          -0.08891364382286863,
          -1.0492948180194857,
          -0.03977433970872782,
          -0.10460728142877196,
          0.057948010320869325,
          -0.06948773008489592,
          -0.12721153128251575,
          0.1368182885740448,
          -0.11359613702975077,
          0.022492189028636145,
          -0.14741964221507375,
          0.9327234144982711,
          0.04308538220461294,
          -0.1359656409382623,
          -0.05914116508783625,
          1.0977232558237433,
          -1.1186613655627717,
          0.04386569170663257,
          0.02259016082212051,
          -1.0269469807010827,
          -1.0372548324103836,
          -0.9559543329425197,
          -1.078467797767245,
          -0.9558185101687382,
          -0.08151100630408391,
          1.1314057857493194,
          -0.9979727634747705,
          0.046164134337099816,
          0.02853871527806076,
          0.8953824432689166,
          -0.06236191561087032,
          0.07752047968192458,
          1.0036687426083168,
          1.140587749589148,
          0.9816045899254451,
          0.9059602919531713,
          0.03222703807939953,
          -1.0852564162444414,
          -0.10173716597298309,
          -0.04532598588393716,
          1.0232514379961797,
          0.9578897317787772,
          -2.098462148808791,
          1.0140556108011194,
          0.8743272434524838,
          1.0464884374545589,
          0.9162587169289111,
          1.0742331513349221,
          -0.012131003326793871,
          0.8778659879725351,
          -0.8870474027728208,
          -0.9031221846703621,
          -1.1086810262978364,
          1.0069221999607099,
          -1.9244458275993244,
          -2.10626891372038,
          -2.1096216917321278,
          -0.9151078989346361,
          -2.857168665520735,
          -1.028030482465618,
          -2.942022242723286,
          -5.9806764788867675,
          -6.896422419732085,
          -3.1155446344380016,
          -3.901988111590991,
          -0.9816295543859522,
          -1.1073135390619397,
          -2.0342144128587965,
          -1.1313407901675445,
          -2.056640985298289,
          -2.961896746891004,
          -2.147006190535836,
          -2.0574533210454997,
          -3.8949758950655906,
          -2.0023985873995604,
          -4.10321274131423,
          -1.0620475830992353,
          -4.133188211779034,
          -1.0226568925857922,
          -1.0836531787351071,
          -0.8567713980851042,
          -1.8929793162576245,
          -6.010927605073666,
          -1.0407209275576554,
          -3.1430091805730136,
          -4.0101643510272105,
          -1.9695878199996477,
          -5.913617388671847,
          -3.026685032251236,
          -5.057781194961944,
          -4.065092509289555,
          -3.1197402983612283,
          -4.104237199815346,
          -5.997740211000545,
          0.12298608431275856,
          -0.8530150536038411,
          -0.08129568825914844,
          -2.1342746656754503,
          -4.005639113903679,
          -6.878700173474822,
          -6.12011860167011,
          -5.92929239565328,
          -4.1199691058020855,
          -5.855759183075482,
          -2.0820647651143798,
          -2.893600101164778,
          -3.037560842239437,
          -2.9445747759183925,
          -2.9561716109342613,
          0.881270626834528,
          -1.1069757527100499,
          -2.1379377916154594,
          -5.132806362771926,
          -0.945062955216458,
          -1.0706901920350584,
          -4.148610332446344,
          -4.042023103757104,
          -4.873131256591837,
          -4.117088865137098,
          -5.0550394445472495,
          -1.97285884490025,
          -3.8952654121732264,
          -0.8659676061584467,
          -2.135000922103954,
          -2.064635936505652,
          -0.009414284541863771,
          1.059906287028661,
          -3.068021085970512,
          -1.0424995147889615,
          -4.135942837398073,
          1.0120764873989783,
          1.1154177417345728,
          0.06505224063725112,
          -5.850146377656478,
          -1.050191266743569,
          0.9358867702455296,
          -0.10955279266748766,
          -1.0622501788574275,
          -3.0452871467477665,
          -5.891992727524156,
          -1.0310308755430524,
          0.05173509201646567,
          -1.020703874456183,
          -3.0896107269685777,
          6.961932233747865,
          7.010048092634757,
          6.942225606112559,
          6.968699424567721,
          7.021486822450699,
          7.101569455218629,
          7.028102508400475,
          7.092134330188121,
          7.033751721457532,
          6.89041006155723,
          7.113677362691442,
          6.993046199445251,
          7.136893958961476,
          7.076077466021046,
          7.003110865763857,
          6.982320602053759,
          6.9516318845392595,
          7.121562905137292,
          6.943194996571078,
          6.934553862182472,
          7.1292152346839375,
          6.958023151893451,
          7.052743608785014,
          6.880577191496396,
          7.080052557141022,
          7.001407230835919,
          6.904282940641761,
          6.95736941197529,
          7.126087652941924,
          7.122835129357268,
          7.045804440217696,
          6.930998366847863,
          7.083807504999433,
          7.041158459212031,
          7.088070587076429,
          7.034738608378212,
          6.885188678551579,
          7.0052863559925544,
          6.950991343274988,
          7.0270756842074595,
          7.017642063935743,
          6.900543931569938,
          6.9991324009430205,
          6.8766921521454085,
          7.004936077890169,
          -4.99511740511129,
          -5.105472706751177,
          -2.9563825639755175,
          -4.910654316478613,
          -3.025319535383944,
          -4.937732464249219,
          -5.096374113591366,
          -5.144885154520673,
          -4.890096838430255,
          -4.880476059566465,
          -4.989936800722959,
          -5.14699640407228,
          -4.909341689583995,
          -5.040416070409658,
          -4.893499323760106,
          -5.052139083750243,
          -5.012534796886012,
          -3.981255563409525,
          -5.027625496546282,
          -5.078471000484418,
          -6.133612269486935,
          -4.937305312696964,
          -5.097802131044803,
          -5.066334169745484,
          -3.8593768135724837,
          -5.134617591930184,
          -6.004284484631502,
          -4.916065651517024,
          -4.910941686565665,
          -5.9097617780927605,
          -6.855722875454403,
          -6.037075862529441,
          -5.148012531543973,
          -4.850803964139981,
          -4.901656524065905,
          -4.980596197118894,
          -4.896019015861809,
          -3.924173811371953,
          -6.070256997600472,
          -4.947239906317905,
          -5.112429675372143,
          -5.056589589626808,
          -5.046017147725735,
          -4.870215245157027,
          -3.857047415736207,
          -4.934198893682405,
          -6.01913261112829,
          -4.867943480467128,
          -5.961029394070872,
          -4.925271678368827,
          -5.06598315594968,
          -5.067010974252968,
          -6.1393320651362595,
          -3.938052483691022,
          -4.881805305457407,
          -4.964729444919593,
          -7.1447398861548965,
          -4.988187290970396,
          -4.970811655900255,
          -4.877549939096382,
          -5.025956977159154,
          -5.066774065129802,
          -5.132423857096772,
          -5.126165953471925,
          -5.05972615357916,
          -5.081625008319403,
          -5.060923186167254,
          -5.927214655908752,
          -5.924373312243061,
          -6.066902502896564,
          -4.997048687244209,
          -5.881047999017575,
          -5.113001447514924,
          -5.138872631720078,
          -5.071415254939373,
          -4.9671522878635015,
          -6.066343524371101,
          -5.002460445074375,
          -5.053955143431288,
          -5.109965143795411,
          -5.105864584486696,
          -6.124965661217716,
          -5.8529387875323735,
          -4.98564389543768,
          -5.911689539374133,
          -4.13049249019042,
          -8.091131431491814,
          -5.854660656982645,
          -4.983444337779524,
          -5.8821391875507025,
          -7.00744385850123,
          -5.877982470304207,
          -6.046090362386407,
          -4.934129704568883,
          -4.973869429551912,
          -5.006014408928959,
          -4.097397686850132,
          -5.059225955563992,
          -5.090371619129044,
          -4.895047375619099,
          -5.043513963504439,
          -3.981226974579219,
          -4.956176279890268,
          -4.10365841362884,
          -5.037922390241687,
          -4.97428930262237,
          -5.121745582188849,
          -5.963324035674795,
          -5.10094278891213,
          -3.8844798801912472,
          -5.060609832595246,
          -5.062263223202213,
          -4.959295026240909,
          -6.873209643382401,
          -4.932016792608451,
          -5.0583604605006665,
          -5.9584204165062475,
          -4.928921208126095,
          -5.084254284456958,
          -5.020499413523409,
          -5.8516985506440164,
          -4.963015731638341,
          -4.894806298180889,
          -5.090722463429097,
          -4.874987399304273,
          -5.10992072161106,
          -5.0623369907310645,
          -4.998635374861465,
          -4.855093383081524,
          -4.894198676177778,
          -6.071553599449698,
          -4.051806720284289,
          -3.97084868973034,
          -4.910292835178247,
          -2.880227214570808,
          -3.914012056305543,
          -3.912271110930918,
          -2.925689733083647,
          -3.996171709271105,
          -4.905751674933451,
          -4.931703473167931,
          -5.047012062016748,
          -4.99043409621894,
          -4.858501577295285,
          -5.0051906732059015,
          -5.047383411971797,
          -4.879574211150211,
          -4.856414453776512,
          -4.1428787862517265,
          -5.122533129940914,
          -4.938827475748145,
          -4.919791965247009,
          -5.080646562110894,
          -5.888851865125699,
          -4.1183492581600145,
          -2.9972620076551904,
          -5.96353050804711,
          -5.020373005444506,
          -5.091232018039641,
          -5.103511545692076,
          -2.952022308578459,
          -2.980524060710046,
          -5.138638994066205,
          -5.046870512988361,
          -5.125702730526515,
          -3.0065004048624173,
          -3.054122499304304,
          -4.934319379745296,
          -4.117129560181711,
          -5.066077730502972,
          -4.971505097408264,
          -4.85015100137915,
          -3.9028986087325546,
          -4.877189818661767,
          -4.885480108489706,
          -5.012146795555831,
          -5.127277723614976,
          -4.952308682897224,
          -5.034708778358736,
          -5.139678958513902,
          -4.8687637985848955,
          -5.144591392096933,
          -4.864904711074612,
          -4.855890038775181,
          -4.976151057819712,
          -4.126074259661193,
          -4.949125549291631,
          -4.065904380378337,
          -4.141781386740136,
          -4.061918805511197,
          -6.113511666872807,
          -5.123775324043369,
          -5.029486957274277,
          -2.8572377200667627,
          -3.1467861335245635,
          -4.965879062230477,
          -4.1220766539871585,
          -5.03266127754752,
          -4.872369557853363,
          -5.048641634321633,
          -0.9960694721306336,
          -1.917994982187308,
          -0.031374071712249804,
          0.02405837545565534,
          0.11761716867434405,
          -1.073078458839278,
          -1.9600305272569305,
          0.9101465983494059,
          -0.02066195204132021,
          0.8966737773326988,
          0.03824270926641565,
          0.05229107928626167,
          0.02515835740619879,
          -1.9925936922815894,
          -0.9707089746979329,
          -1.0618188313728476,
          0.07392135322605675,
          -1.0629076655295187,
          -0.9649329813251035,
          -0.9840735374721638,
          0.08586072732815747,
          -1.045710839593684,
          0.1163242912486798,
          -0.9229054628819431,
          0.06141514628692152,
          -1.8655964211170872,
          -1.0869647540763079,
          0.10804444747149103,
          -1.1359585222684268,
          -0.9022478786568586,
          -1.1378271502549067,
          -0.9478911766030317,
          -0.006257766653792046,
          -2.0063921584610944,
          -0.09902583762104944,
          -4.080361665988385,
          -3.0031875235728234,
          -3.1102131724314352,
          -4.903841263445024,
          -5.137522142165689,
          -4.96316121520511,
          -3.8656218613004794,
          -4.067846777965195,
          -3.9193185042049636,
          -3.9761467956200516,
          -4.1220931219787005,
          -3.857037404710632,
          -2.923195174673983,
          -4.046594146391357,
          -1.0462453408306307,
          -1.0927318964205122,
          1.1291585776342712,
          -0.9646360698289393,
          -1.9581227018816802,
          -0.8621683823802578,
          -0.1193802147537047,
          0.10978839243242103,
          -1.046318824068572,
          1.8932851188072473,
          0.914148748144189,
          -0.10240379497907413,
          1.0506077408338135,
          -2.9569580560048423,
          -2.9197924859873687,
          -2.9206610646363167,
          -4.952384054578835,
          -5.1049485704319935,
          -4.902952197940004,
          0.9063631559850818,
          -0.04087431654095913,
          1.0130405351616862,
          0.08406107645521316,
          -0.896466579763168,
          1.0236434413193367,
          1.8604472468142768,
          1.012046583189167,
          -0.1108053975228678,
          1.8578509636887985,
          1.1193885140975348,
          0.9672139236487343,
          -1.1135997044301256,
          0.9695011742614892,
          0.13107705958835206,
          1.004780103649069,
          0.02692188162653053,
          2.0412033645436907,
          0.8682079893062769,
          0.9781059929782311,
          -1.1064840178635929,
          -1.1355069329297653,
          0.9800159796614967,
          -0.07041751600512451,
          -0.005244810679489953,
          -0.07822551885110829,
          -0.0521103165112974,
          -0.05278930740900306,
          1.0934682190970437,
          -0.034649710564175346,
          1.0470498736935483,
          1.9740417514724478,
          1.0490441500616292,
          0.8818773154573804,
          -0.9130570939217958,
          0.9640639263778973,
          -0.8899780523173252,
          -1.9889867094537965,
          -1.8761498333601727,
          -0.9371434407998133,
          -2.1116698210298317,
          0.017726880062524236,
          -3.131916686524889,
          -4.138042811629862,
          -3.9528534670832842,
          -4.032878206679065,
          -3.9369724987778487,
          -4.128113597471004,
          -3.8954983549307376,
          -3.93254463828124,
          -4.943444519366569,
          -4.048848194407086,
          -4.057224373271159,
          -3.9438681203293755,
          -3.8881402235564684,
          -4.139080897178487,
          -5.061833223245077,
          -5.109615826863212,
          -4.11188828181805,
          -3.952403784940395,
          -4.01554553533662,
          -2.9643618081404397,
          -1.8719334449257348,
          -1.012372146521409,
          -2.0247188901591975,
          -0.9859784304691164,
          -2.080915487608873,
          -2.098923677308961,
          -1.145612340466613,
          -0.9528408064636765,
          -1.047701153746725,
          -1.0859640331931222,
          -0.8901479330500072,
          -1.131446498253207,
          -0.9255209712391063,
          -1.007335356624532,
          -1.0399145879279874,
          -0.9152179158944503,
          -1.1329013874776326,
          -0.8770132529358601,
          -0.11781610192581238,
          -0.05230414724603129,
          -0.138283385717375,
          -1.0158367244219209,
          -1.0502333331514153,
          0.07191719297083654,
          -0.007182932428565714,
          0.008984315447698926,
          -0.10150467573957717,
          -0.0924549892959299,
          -0.9099409266357938,
          0.05969487009321284,
          -0.9405403377109601,
          -1.9054071498436222,
          -0.9445984061384561,
          -1.0565572446063662,
          -0.09360992378483521,
          -0.05728945786735953,
          1.9667164518786233,
          -5.061868709978359,
          -2.9510200919600242,
          -4.1486343395970815,
          -3.0933547265488754,
          -3.9873607656744303,
          -3.9612402807867984,
          -4.969060790827032,
          -5.002607143723806,
          -3.0759867247873105,
          -1.1066612253101782,
          -1.9513194172214343,
          -0.9979429076103925,
          -2.0585731501846545,
          -2.0798593510197,
          -0.07393023649739834,
          -0.011045304190979877,
          -2.9712333473590613,
          -0.9874159819204202,
          -0.9683039293657354,
          -0.8577719115315116,
          -1.0794998616726885,
          -0.9338323771342829,
          -1.1372799081442655,
          -1.1032370289449065,
          -0.9898565427911307,
          -1.0260374021966738,
          -3.1139841097592282,
          -2.856870458629163,
          -3.0669423797046744,
          -2.9643118835313658,
          -2.997753679338142,
          -3.9896698217577335,
          -2.9679434966377083,
          -3.928216161838243,
          -4.083121287056333,
          -4.079912189740887,
          -1.098332752138753,
          -1.0560258904096107,
          -0.864945789131773,
          -1.0964686899615363,
          -2.0689680121849108,
          -5.067127477140028,
          -4.124723508626003,
          -3.9012296583300348,
          -2.9135833845831076,
          -5.149730641430074,
          -1.8517954350286097,
          -2.966088622453439,
          -3.968255896756168,
          -4.106765357778233,
          -3.1282578987209506,
          -5.138510987623754,
          -5.010186858283648,
          -5.072267929443597,
          -3.0809260590755274,
          -5.057280235762612,
          -5.01458395897698,
          -4.9744037970470325,
          -5.025898628125576,
          -4.036800049879691,
          -4.096313443191882,
          -3.0525335250037773,
          -2.9483696769420957,
          -3.103421262670351,
          -1.1048991289361851,
          -0.1333320446410577,
          -0.9376805450238553,
          1.0271024360225691,
          -0.1127400789900071,
          -1.1222323952901592,
          1.0418496872137868,
          0.9717289133469283,
          1.0471094736441953,
          -0.031259865608211784,
          -0.13968760046409515,
          0.8866030714049266,
          -2.073175959556969,
          0.06612479488468576,
          0.012334798831330485,
          0.026447148330624975,
          -0.862906405430764,
          -0.9977596020580166,
          -0.8624894663875992,
          0.9982712691974598,
          -1.1298839781972898,
          -2.117576826006487,
          -1.0196394043608272,
          -1.8875355461135304,
          -1.1123602623081934,
          -2.0808199672881207,
          -0.1470169096974383,
          1.8567733245641007,
          2.086209363144918,
          -1.0414583886451922,
          0.1345236515804865,
          1.0133748763024588,
          -1.1395858993869874,
          0.9023841385762964,
          1.1235613548837726,
          -1.120530874163323,
          -0.8501953375972768,
          -0.8712414308614297,
          0.9216045879806561,
          0.008923296203441872,
          0.9643481522794197,
          0.8988521666893078,
          0.8914856202662761,
          -0.9292269034914854,
          0.07560916463350151,
          0.13272649774419568,
          -1.0237577155099609,
          -1.0083479510164928,
          0.018471901089326725,
          -0.9335123456859078,
          -0.9012975132377066,
          -0.9030263184329202,
          -0.042203669026813745,
          0.0011688887365678413,
          -0.978681040820619,
          -0.9057671551854659,
          0.9676721848486598,
          -1.0771857823879927,
          -0.9512160471217656,
          -1.012701943464482,
          -1.0781560146290343,
          -0.899527574684152,
          0.07417454124063194,
          -0.9998454589948256,
          -0.0771864391290228,
          0.03837158909802976,
          -1.1138670631699144,
          0.1074934678526531,
          0.999537604763556,
          -3.985335891534267,
          -4.010121557112845,
          -3.853341281906133,
          -4.139156607529657,
          -3.8841624318708234,
          -3.8833983505168472,
          -2.851220045491513,
          -2.018000211325876,
          -1.861423503245237,
          -2.9262264794513615,
          -0.9662862039396777,
          -0.8979546549813953,
          -0.019372406167680767,
          -1.091983241266475,
          -1.0935162021060587,
          -0.9269218325536037,
          -1.1272770816041302,
          -0.07116702148006636,
          -0.8815179777433062,
          1.018090124429837,
          -1.0728826122902433,
          1.1064272200663106,
          -0.11564013696693828,
          -0.12118468743937609,
          -1.0347548363711176,
          -0.9720375131419159,
          0.14859983268594587,
          -0.9599039456867793,
          -1.0713341916195922,
          -0.8999744616453623,
          -0.11525462093455835,
          -0.008885395130317858,
          -0.1372099317699006,
          0.1247485324954147,
          0.1105649538426732,
          -0.9263937740582602,
          -0.8634516432442833,
          -0.9477288345036106,
          0.01722374057169712,
          -0.8771409543032745,
          -1.0081094888024094,
          -1.0775251404753523,
          -0.8969621585497427,
          -0.1343707402572059,
          -1.0538294769520784,
          -1.1218430213660127,
          -0.8669044631470384,
          -0.969641642891357,
          -0.022209646323368193,
          -0.9548061593681384,
          -1.0002238072623248,
          -2.0761767374598934,
          -0.9553938710648273,
          -2.145125903137577,
          -0.8978539665773112,
          -0.9932640413112643,
          -1.1405668802604225,
          -1.945716993920499,
          0.11614333972206062,
          -1.1401179665898729,
          0.8931125019501422,
          0.9962739552807811,
          -0.10355103707411789,
          -1.1494531897694478,
          -1.144167427782118,
          -0.9037511335352157,
          -0.9916548654862621,
          1.0236135391177483,
          0.9050513725748287,
          0.912057337407662,
          -0.023441437536884074,
          0.10572065459178956,
          0.8553251504564935,
          -0.8677478004096653,
          -1.1126466190037407,
          -1.1388347817751496,
          -0.8888045165510883,
          -0.8813070830190101,
          -0.017467079552847542,
          -1.1452316639781968,
          -0.11202590125098097,
          -0.08976278521865502,
          0.9003223573504734,
          0.04683164777079332,
          0.006013948066903363,
          -0.11120604464025284,
          -0.11792144836425089,
          0.08494919745326959,
          1.1053233271667862,
          0.028188394113990156,
          -1.0954606055162661,
          0.9672424124768798,
          1.0504168278648987,
          0.09737175808070778,
          -0.8683245176096933,
          0.07268247946145706,
          -0.04846902195718185,
          -0.12467278530409398,
          -0.06880045673976405,
          1.1113703592743658,
          0.10285308331935902,
          0.141311578953318,
          -0.048906814313546335,
          -1.069768655303613,
          0.017746144552265836,
          -0.11423206856977325,
          0.10076484223911883,
          -0.012914587309725611,
          -0.0315742257775071,
          -0.001267703178052193,
          0.9999902200824796,
          0.1433334016843912,
          -0.14547252860960827,
          0.9472311165271163,
          0.08498949581891119,
          0.059265153883274024,
          -1.125951202358899,
          0.07920948483499132,
          -0.11763504646122644,
          -0.9539217946147152,
          -0.8986141152004107,
          -0.07582244963838254,
          -2.055468482119687,
          -0.11701822093320008,
          -1.8937041384731865,
          -2.040295189982964,
          -1.890556678298705,
          -1.9104603789578403,
          -1.9295796901584392,
          -1.8604536011218378,
          -1.9263165125914623,
          -2.015480405372574,
          -1.969317066538892,
          -2.12892503920901,
          -1.1477308669080633,
          -1.0090925032971636,
          -1.128083859983227,
          -0.9828680793109216,
          -1.9040193662331701,
          -1.0088539444027131,
          -0.9131764651989602,
          -0.8639724337214378,
          -0.8904425643567334,
          -1.0233684936756018,
          -0.9107523571010473,
          -2.0999704119751077,
          -0.8955920203753391,
          -0.8595939557592237,
          -1.028223319719455,
          -1.9514481977087863,
          -0.8636409998974498,
          -0.9615458013585414,
          -1.0997457517924119,
          -1.0411046384418954,
          -0.9083412495899511,
          -0.019243179510798958,
          0.004883026829991199,
          -0.03465060101578296,
          -0.06735798742718883,
          0.13823948046387183,
          0.12765651391126379,
          0.07227335097964063,
          -0.07603239182136165,
          -0.0076097764288468595,
          0.03161739412885409,
          0.10215038706412541,
          -1.0467957453224799,
          0.010677706943176213,
          0.06269352855179772,
          -0.10426216281757975,
          0.05324953028177526,
          -0.14440291631526234,
          1.0015647426223904,
          -0.029354161410895543,
          0.9365028671656035,
          -3.078192819152224,
          -1.1225517278313226,
          -1.0173062855102717,
          -2.0217408236842354,
          -0.9706703844476319,
          -0.8506556662770194,
          -0.960512285973774,
          -0.8725501417917414,
          -0.9704456578243192,
          0.04089046721606726,
          0.04378450957429464,
          -0.9375271060107541,
          -0.8675514634162608,
          -0.8595036668764741,
          -0.951881437627345,
          -0.08279742009194968,
          -0.10326821046808848,
          0.13962100637248412,
          0.14545069491513127,
          -1.0390573222923911,
          -0.894060231562562,
          -0.12849253417722847,
          -0.9508442028621217,
          -0.05391539651762069,
          -0.9312567735696318,
          -0.860960878356536,
          -0.929721465261028,
          -1.0777025399174507,
          -0.8700867159954591,
          -1.9862677168269591,
          -1.0290192210996407,
          -2.1199779343266476,
          -1.9181105878021714,
          -2.126180115681892,
          -2.095006025316584,
          -1.923486673025397,
          -1.8541002373930302,
          -1.9898198442875998,
          -1.122022251775666,
          -1.0276385215176638,
          -0.8709159523027016,
          -0.0933135474307442,
          -1.0801337245552363,
          0.10290882924685693,
          -1.0326111035124306,
          -1.010027077255174,
          -1.0244948397929023,
          -0.8960322187012606,
          -0.9103897818516149,
          -1.118679151195432,
          -1.9147858897189318,
          -2.146848645688554,
          -2.010881016132736,
          -2.065501092553052,
          -1.9505696556817766,
          -2.0994033725017887,
          -2.0586917549457513,
          -1.8893058693341094,
          -1.8652870215216104,
          -1.9029193571867338,
          -1.945072104509481,
          -2.0771180833333682,
          -1.948464672905788,
          -1.9245279162549285,
          -2.1256633026042144,
          -1.1327689462056094,
          -1.0484546272106403,
          -1.0829613997662495,
          0.1270371201510663,
          -0.05416855775476066,
          1.071615988952293,
          -0.0027834668627729486,
          -0.05671858775835692,
          1.045825687586783,
          0.9854154383110236,
          -0.09714337251497078,
          -0.015613387076645696,
          -0.029918054201922104,
          0.0020497270581951443,
          -0.056661271181192366,
          0.018996413354624847,
          -0.07519018521242977,
          0.004816822770520202,
          0.005103935854708225,
          0.9031720822015707,
          0.13088107915179012,
          -0.9198054842272873,
          -0.1325360824881748,
          -1.1091670707465457,
          -0.9942964320389018,
          -1.030916919782468,
          -0.0819065720494,
          0.9347727720569593,
          1.1348747996236492,
          0.9726835057880306,
          0.061661826691365884,
          -0.05867392860421851,
          0.04049862143294114,
          -1.0148102354379032,
          -0.13190075999023676,
          -0.07515584068497715,
          1.1012097518023862,
          1.1255761800273905,
          -0.1476933461287068,
          0.9004727868918965,
          1.0236474343082809,
          -0.10254222215070555,
          -0.12325054415370094,
          -1.037375823076453,
          -0.012301221312992189,
          -0.00581858883502584,
          0.14353301154025552,
          -0.05955818793782462,
          -0.8644314500003417,
          0.06305059935918761,
          -0.011688447485864867,
          0.058075745238522936,
          0.14058346511370765,
          -1.0741454767859036,
          0.884201351989346,
          -0.9757783233346381,
          -0.029420851295291886,
          -0.8741682501151725,
          -0.13553612213308242,
          0.0011256305133490185,
          -0.0013316559321323584,
          -0.057391752954423086,
          0.06777428332784977,
          -0.14403856998897377,
          0.8773689338001079,
          1.0714252303674452,
          1.1405960594543438,
          1.0249897824899425,
          -2.135245270281954,
          -1.9001813509220824,
          -1.870181080545611,
          -2.0468178420743044,
          -2.0824134945123443,
          -1.986440894595544,
          -1.074320683965638,
          -1.094433419036063,
          -0.8858839451263921,
          -0.9393953306196352,
          -1.113177343819334,
          0.1345256335428142,
          -1.123508524451307,
          -0.8617637882081214,
          -1.8664435968430282,
          -2.8800640781518303,
          -3.018869237358865,
          -2.879876801796528,
          -2.079525548507818,
          -1.1272271534301788,
          -2.907185612617188,
          -2.8983125861951904,
          -4.055935869939171,
          -1.8621690542375533,
          -2.1045681283668993,
          -2.038281048738358,
          -2.0127599723030714,
          -2.879316961472768,
          -2.1235293188990063,
          -1.9413885240611604,
          -3.036239901533977,
          -0.9884884251745566,
          -4.1322814228187905,
          -3.075107851632385,
          -2.8538802834156822,
          -1.9063934850024213,
          -4.136072383670478,
          -3.9017323385442446,
          -3.89383546217034,
          -4.0445016962395215,
          -4.099863429629312,
          -4.06661674658597,
          -4.132046149233639,
          -4.106121032054682,
          -4.012444896704772,
          -4.092811664060408,
          -3.9335521687863664,
          -3.945146408000181,
          -4.0423885924589396,
          -4.120816022543672,
          -3.9675426602490367,
          -4.023611032908859,
          -3.040018501860016,
          -2.9620857500659215,
          -4.894682949420561,
          -3.8703752502487765,
          -5.014773390764742,
          -3.85172197892343,
          -4.006470467283477,
          -3.9846051139540406,
          -4.039028965016015,
          -4.960495574338699,
          -4.1128529487883325,
          -3.9353991434674875,
          -3.99445079987292,
          -3.918840084192354,
          -1.9746404555810848,
          -3.877563956693816,
          -4.14741967290932,
          -4.0158717498191905,
          -3.890215645821232,
          -4.034902678180061,
          -4.089355454542199,
          -4.047303829885284,
          -4.961585190234345,
          -5.04546892234709,
          -4.018164192480861,
          -3.0993819784362047,
          -3.0861084879003173,
          -3.0271856068739007,
          -2.9651388654527504,
          -2.9155417915009925,
          -1.905447173328991,
          -3.0691658412643883,
          -2.891643056668495,
          -3.12010017137142,
          -2.95860507092834,
          -2.9383854757540853,
          -3.143691777299752,
          -2.9272518361585074,
          -3.9555475535160745,
          -3.8823668310630315,
          -4.091667567660234,
          -3.9146805089959256,
          -3.9801476820123245,
          -4.109164283554721,
          -4.090825081320637,
          -4.9533146668610595,
          -4.042471330669638,
          -3.975423599413004,
          -3.999619742740471,
          -4.038358661964847,
          -2.8729995913974684,
          -4.035595098713868,
          -3.99418359045291,
          -2.923857453696137,
          -2.94539505743092,
          -2.990007412127616,
          -2.984253052254971,
          -4.058439546847702,
          -3.0610317489080074,
          -2.941296005788025,
          -2.9555111825678058,
          -4.114273299794527,
          -3.1283790427383398,
          -2.906904924354855,
          -2.9095127133277807,
          -3.063654144067025,
          -3.0016985151523636,
          -3.070796247003124,
          -2.853235669662657,
          -3.0634987404361933,
          -3.0981245276206413,
          -3.074022321046333,
          -3.0301639466802697,
          -3.1062756663987208,
          -2.8630859665007335,
          -3.8641171392505007,
          -3.9156835379744166,
          -4.035871170429568,
          -3.951847516696551,
          -3.14918102992198,
          -3.0066049357033573,
          -4.053237501029183,
          -3.1163932602463125,
          -3.1129302818335556,
          -1.8925715687641735,
          -2.134818675564964,
          -1.9958702519095541,
          -2.015339904638235,
          -4.133625406740427,
          -2.1146408175889997,
          -3.8703513086235133,
          -4.082389349569868,
          -2.9016877606739984,
          -4.125431703562386,
          -3.044158885423998,
          -3.9195110231338,
          -1.9287547160233927,
          -0.1317325067097557,
          0.07854638108442061,
          -0.9603025203791016,
          -1.9406823817389383,
          -2.012937966399242,
          -1.92051158431091,
          -0.09498312127412156,
          0.07433807347494242,
          -1.9011509459097407,
          -1.9295323444541392,
          -3.142415449016152,
          -3.895786267804918,
          -3.0858453109287245,
          -0.13152319169397306,
          -0.043479688940840505,
          -0.9772114287138696,
          -2.1036612423229926,
          -1.9193649772510142,
          0.1262110917660356,
          0.11954731179088421,
          -0.032321263239539016,
          0.07781667505913117,
          -3.1488803947152353,
          0.14007412092514862,
          -2.0433292771333025,
          -2.076812503856578,
          -1.9849279064162957,
          -2.037554081551867,
          -3.126818941946745,
          -1.874693893102246,
          -1.9032417680496905,
          -1.9002683476661135,
          -2.067764118390519,
          -1.9897176087017268,
          -1.9488766918025244,
          -2.0120491558946325,
          -2.1498379335902227,
          -1.8914092488640035,
          -1.9656089179477796,
          -1.8756854389631208,
          -2.130866088553535,
          -1.9507387153693543,
          -2.009334543984097,
          -2.030352608261387,
          -1.8876686807119052,
          -2.8617101116981587,
          -3.012949133691404,
          -2.9948434681264944,
          -2.981119106331521,
          -3.1380624007915268,
          -1.8998057548852165,
          0.024060020781435626,
          -2.0746479956109263,
          -3.030751343456821,
          -1.8670010298462438,
          -2.062352161313804,
          -1.8882199523654213,
          -2.056574115605458,
          -1.9486104499054027,
          -1.970464810917972,
          -2.958798727042686,
          -2.9873366994057116,
          -1.9519421793179181,
          -1.9109736655743037,
          -1.9300979161181666,
          -1.9026927898740738,
          -2.9822287071423816,
          -2.956691856414869,
          -2.9024544672671526,
          -2.9927697996155223,
          0.14317895687883977,
          -3.120939423498926,
          0.11061154669126697,
          -3.0566601932990087,
          -2.8846609061720607,
          -4.000177354266584,
          -2.032725631461684,
          -3.0205875547471273,
          -3.115128810016937,
          -2.977502025743126,
          -2.1241285768447025,
          -3.0998680699200016,
          -1.8666229703942272,
          -0.898366939173566,
          -0.019313066777064902,
          -2.0367465227362307,
          -3.8816894141077443,
          -2.9140027816073015,
          -2.991068804425881,
          -3.9347363801630553,
          -3.089373219118559,
          -1.9768561049580182,
          0.077261616717271,
          -3.068794709778153,
          -1.9654582198860615,
          -1.0443768335482546,
          0.10239222796857597,
          -0.06694157256442976,
          0.14436902564885642,
          -2.0680355563732133,
          -1.1183618465414122,
          -1.9371710203049965,
          -0.020084185146093392,
          -1.060746330323986,
          -0.13183723750722925,
          0.9767496437651304,
          1.1172413126794232,
          -0.045550976355631115,
          0.13063254919577624,
          0.0021042502907823724,
          -0.06285229686511308,
          -0.0640947307027454,
          -0.016273533327800405,
          -0.09363344419804653,
          -0.9303973121190476,
          1.1266276649687619,
          0.9279773947052709,
          0.06485664737923127,
          1.0720811709924274,
          0.08557350708321768,
          -0.07804766093739655,
          -0.9259494449219585,
          -0.8560833869994577,
          -0.9920609529477606,
          -0.1390333994867515,
          0.1359656663639264,
          0.12811131126993044,
          0.14762509715967662,
          -1.0460490496324941,
          0.08033801317524134,
          0.03678938356246372,
          -0.0004800786863158879,
          0.0597256616167709,
          -1.107885555753035,
          0.0073112640916091765,
          0.0955911306602838,
          -0.048800163427524995,
          0.035356615850973494,
          0.13695618235271298,
          -0.11090949272324546,
          -0.10204297418628067,
          0.09762856986832774,
          -1.0091619211021625,
          0.14809932462334105,
          0.018273214753313505,
          0.04228250691852081,
          0.1426941556159548,
          -0.1341968422416636,
          0.03884033927914679,
          -1.0436492706923586,
          -1.0523289078312978,
          -0.1359617452120392,
          -0.8868888713135167,
          -0.019685958135367332,
          0.05838334980673343,
          -0.98559415666295,
          0.04965059602358149,
          -0.07414024428121975,
          -1.0025555574841147,
          -1.0548136143186282,
          -0.8921220994353923,
          -1.9756389453562475,
          -0.8881723990191974,
          -1.08386248710437,
          -0.9484145119769578,
          -1.1285340116873093,
          -1.0203106946071507,
          -1.000261155910836,
          -1.0677835688031871,
          0.00037443139386633684,
          0.9589627248889016,
          1.0241621400528216,
          -1.0501986091303201,
          -1.1113874053418988,
          -1.1080265187133957,
          0.011552344384806457,
          -1.005455316493202,
          -1.127761072349946,
          0.11600490323093363,
          -1.0727149213951024,
          -0.874199376261827,
          -1.1068564721213703,
          -1.0349428133282368,
          -0.0723045494031141,
          -0.053162785251861425,
          -0.12410227304513893,
          0.13359421590455536,
          -0.08860219776933281,
          -0.8814730016948242,
          0.1226545300866286,
          0.1494991499832601,
          -0.8794750056527241,
          -0.14523847352028396,
          0.13936448518328123,
          0.05652404968943181,
          -1.0186926613836322,
          1.1327033344388782,
          1.0968476382540564,
          0.9791397683588768,
          -0.9774232889160611,
          -0.10530240113078013,
          -0.05815794350017929,
          0.12680521711002354,
          -0.03800438592220043,
          0.04791783386425508,
          -0.002527130556431223,
          -1.0478131610337102,
          -1.0710657652084383,
          0.08806018027232962,
          -1.022365165324405,
          -0.05537234168732204,
          0.04039228271044393,
          1.0211339051213915,
          1.0661766630523337,
          1.0180071366848544,
          1.1058990915237152,
          -0.029190086589053837,
          0.8657953508786276,
          1.06131411504425,
          1.0728164501618198,
          1.086674724534647,
          1.094468308837915,
          0.14360046098368787,
          -0.00905474948913737,
          -0.0278681143469848,
          0.07172072103555288,
          -0.06272751655947979,
          0.07469256175248978,
          0.9973765066277342,
          0.9551658592200307,
          0.9043564658040498,
          1.109712912262941,
          1.1410043475309801,
          1.078073199091143,
          1.0687585298314903,
          1.0882780017033948,
          1.041596058972694,
          0.9057880980309104,
          2.118333539364565,
          0.915820578468584,
          1.1298328566427445,
          1.0715123950691288,
          1.9829713798736885,
          0.1498712944269792,
          0.8742688017180666,
          -0.1347227777566602,
          0.9718340055869515,
          0.9896376732241154,
          -0.14325751894693564,
          0.0888317263475896,
          0.11437964051929736,
          0.11375719039741941,
          0.006460021016860662,
          0.03623614221369231,
          0.9363268982354731,
          0.9340172775153129,
          1.0193878926215496,
          0.14798774332116946,
          0.9819225151592963,
          0.8742090219695963,
          1.0130523571099461,
          -0.09415755431157118,
          -0.023387367880000898,
          -0.028367768082218817,
          -0.13386400993300382,
          0.06379296727650918,
          -0.07445192241778399,
          1.062220048282408,
          -0.06346074183320563,
          1.1148041969405555,
          -0.02970225002188913,
          0.06734239772809858,
          -0.10846637653516117,
          0.12297554228801547,
          0.07511604377991704,
          0.1449683693393992,
          -0.07893999816401982,
          0.10070735469618328,
          -0.08435145167321277,
          0.055591146447527995,
          0.044025665081086685,
          -0.015944252022065425,
          0.050283867452710546,
          -0.06546092588095578,
          1.1149327981816308,
          1.1277414110350135,
          -0.14571169933170183,
          -0.06959591034777342,
          1.1243902456232555,
          1.123396735805026,
          0.9889798554290785,
          0.8710166025470337,
          0.8749161135503649,
          1.0588664984284564,
          0.9658222926506027,
          -0.09586806078870522,
          1.070058232363318,
          0.030785342709962138,
          0.9229129747861444,
          0.9123142925891764,
          0.9807773110284019,
          0.9300431751068275,
          1.0857369985830707,
          -0.13016505982318274,
          0.9306408593483165,
          0.9653854802972053,
          1.0207945549266833,
          0.8521036417576454,
          1.120629113600938,
          0.9813692338464973,
          1.0410850584793694,
          0.8915294623190162,
          -0.0723652352454554,
          -0.1373776718089629,
          0.12641366913835625,
          -1.083102667235408,
          -0.07576689784177489,
          -0.022339031555673378,
          -0.9948064075891968,
          -1.0817443573429035,
          -1.0848191887449163,
          -1.036819904683094,
          -1.07161902512232,
          -1.8640227365875495,
          -0.9076591475835183,
          -0.10824542963549003,
          0.9347630901786749,
          0.07003647116256384,
          0.10728603396560635,
          0.03170414963490284,
          0.863826545215848,
          -0.03091384447892294,
          0.8927437754934036,
          0.00608760299286204,
          1.1271787203762085,
          1.1496557494346726,
          0.9735037370333954,
          0.9913883759332163,
          1.0535231585377014,
          0.9593149362574704,
          -0.09168237444204627,
          -0.06601767874435652,
          1.983930877367998,
          2.031287927123533,
          1.0146390588492704,
          1.0576832556291487,
          0.09545295852707866,
          -0.14696424380826809,
          1.0852594541383163,
          0.9152101106246481,
          1.0272037270600207,
          0.9819907247125216,
          -2.077198417584562,
          -1.148112313124428,
          -0.9992283608363868,
          -2.0057546318730575,
          -0.9558663903891558,
          -2.016263024703671,
          -0.8816330377368751,
          -2.062581373971451,
          -1.9943952557207976,
          -1.0443537540951038,
          -1.1489937927386138,
          -2.125533055661097,
          -0.9745872083271732,
          -1.8622476400034365,
          -0.9756603404597558,
          -1.0235234973543643,
          -1.0631040975124022,
          -0.9823640414741139,
          -1.0431793521985306,
          -1.0330648896370702,
          -1.9688882629406455,
          -1.9811090636138664,
          -0.9464689540150136,
          -1.1172155993936437,
          0.11012372829829878,
          -0.12484738973603732,
          -1.1484154690019521,
          -0.9934139467396068,
          -1.1288619612558575,
          -1.1069941301739818,
          -0.11471207076698467,
          -0.035836955067388127,
          -0.9885895110859029,
          -1.123153696380414,
          -0.8918359914305368,
          -0.9584655008841687,
          -1.9403533256429073,
          -1.9686449644595696,
          -0.8788119376523549,
          -2.028116467483045,
          -1.090006147445859,
          -1.9986928788846983,
          -0.9009872988995379,
          -2.0810853987167253,
          -1.9034252528824116,
          -0.8835180962871199,
          -0.9349969839949046,
          -1.1195645735740682,
          -0.8583143876342523,
          -1.1105578622679686,
          -2.0000031788592447,
          -1.1307686603667693,
          -1.013663748251219,
          -2.031088005575434,
          -2.1416302411242993,
          -1.0372306015977302,
          -2.046862628345062,
          -1.918524688400499,
          -0.8554257789671466,
          -1.0968345495091696,
          -1.8744662490849577,
          -1.9568493172516819,
          -1.1328381072335523,
          -2.009689330203946,
          -2.045315671896026,
          -2.058705806462322,
          -1.110437040231904,
          -2.102259828323807,
          -0.9219071755872279,
          -2.04110268958159,
          -1.90397679570291,
          -1.1169759637003893,
          -0.9411378166678265,
          -2.0018366031770434,
          -1.91162448493308,
          -2.107547690917122,
          -2.0287269817009226,
          -2.127204049445858,
          -1.9104559124027063,
          -1.9462917395095294,
          -2.037312078437184,
          -3.005275770666072,
          -1.9056524839335982,
          -2.87984600437639,
          -1.9084075265494171,
          -3.915145086252936,
          -2.0413760962661374,
          -2.9427525889929305,
          -2.0359340884303743,
          -2.986965244522119,
          -3.026143710613889,
          -1.9864498532359212,
          -1.0425850069845046,
          -1.8742759423705244,
          -1.0418055221915647,
          -0.0922366573373912,
          -2.0665482717668335,
          -1.9230574557637425,
          -1.0818218557803725,
          -0.8588024530058938,
          -1.071638777899167,
          -1.0601245264824237,
          -0.8905851390615726,
          -0.987185258454951,
          -0.8670044281159225,
          -2.0810218317712934,
          -0.8797609516731605,
          -0.8816857567811159,
          -1.0852097628650648,
          0.038590224998097694,
          -0.03503375421096511,
          -2.040677383230614,
          -2.09382012096021,
          -2.0415312972289352,
          -2.1126737875758046,
          -1.9540842967587344,
          -2.1414539791446017,
          -2.0044055831553305,
          -2.004659253637328,
          -2.000661094474888,
          -1.973090429399753,
          -1.9910656249137237,
          -2.0769241691171745,
          -2.039696965410303,
          -2.0748153938306984,
          -2.0439068892628294,
          -1.9859903382854867,
          -1.9552683220115161,
          -1.8530194141768932,
          -1.8877995131923542,
          -1.8860184108368399,
          -1.0897115920207732,
          -0.9334764899766885,
          -0.9806841943744653,
          -1.0661967386241198,
          -0.9696872636448575,
          -0.09161211425953344,
          -0.10230069341052103,
          -0.09917369400741968,
          0.08575584121681015,
          -0.09262357716046246,
          -0.012842742276280183,
          -0.87469558720321,
          -2.013260879588066,
          -1.9204413897929515,
          -0.9713410811654883,
          -1.0322629989808236,
          -1.1023885311271107,
          -1.0908225202731179,
          -0.8718853698266135,
          -0.014996812089304479,
          -0.9994491503587164,
          -2.0850781311271636,
          -1.89344336438126,
          -1.979375833213417,
          -1.899450311742494,
          -1.941135266413703,
          -2.0298339283506674,
          -1.9181052223097037,
          -0.9554499971284451,
          -0.8564721056205642,
          -0.9030955732421468,
          -1.9508540393880425,
          -0.9296580662879304,
          -1.0363375293014452,
          -2.117919333524556,
          -0.12961245779144662,
          -0.08357545464924007,
          -0.07716904002745546,
          0.01812681343756231,
          -1.9801339157633313,
          -1.0726754906099487,
          -1.871867763211057,
          0.11462078767710335,
          -0.11886344102126982,
          -2.0284115174747734,
          -0.007859968295131692,
          0.019639940591973742,
          -1.8826667706971356,
          -1.0659701315337777,
          -2.068218212658938,
          -1.881740962898947,
          -1.1035334310749132,
          -0.9540484914455994,
          -1.909042689912277,
          -0.9649264088297946,
          -0.8977212676816588,
          -0.9892351242714066,
          -0.9488122184150127,
          -1.1104082088854537,
          -1.8633208422687078,
          -2.1023986082128134,
          -0.8838434710387248,
          -1.0130193817974753,
          -0.9933225058676523,
          -0.988471045512511,
          -1.1402505603017856,
          -0.8617835323555962,
          -1.0148707569952777,
          -0.9899930304319244,
          -1.0523331590219844,
          -1.8706080499355786,
          -0.9623687473520433,
          -1.0365626400014727,
          -1.9014856480773088,
          -2.0027508668001057,
          -1.1464096711076204,
          -1.1099729433741923,
          -2.091736410674612,
          -1.1474713607611748,
          -6.969930761550456,
          -6.871780480927914,
          -6.980533793253315,
          -6.880418596551806,
          -7.049063397603192,
          -7.010251268723727,
          -7.109245452158325,
          -5.871467129498481,
          -5.943167758090549,
          -7.020538245924294,
          -6.92512167577791,
          -6.13476672938727,
          -7.007463580145404,
          -6.057597827449391,
          -7.082452317704712,
          -6.995609875103668,
          -8.013485478871072,
          -6.975677573263584,
          -6.868994074318269,
          -6.913454731267195,
          -6.007817562539606,
          -4.930203389105136,
          -7.983716970354178,
          -5.914530228167006,
          -5.909736514734289,
          -7.0484058001012375,
          -6.061130886123383,
          -6.082279312190399,
          -5.915722475898515,
          -8.044202949451485,
          -8.121701313011831,
          -7.045672894160359,
          -6.96846022849995,
          -6.923993288990359,
          -6.893541910045596,
          -6.993076359342578,
          -6.901860864537709,
          -6.986426820636329,
          -7.095437702939474,
          -7.064719392398112,
          -7.06644782612784,
          -7.11940423162282,
          -6.961647280295067,
          -7.057013995921061,
          -7.065430008279137,
          -7.134985737923321,
          -8.092145155592837,
          -6.897589785889637,
          -6.9757235968408144,
          -6.950083262297308,
          -7.009928441093547,
          -7.1456809844446845,
          -7.000162067801792,
          -6.988146747106522,
          -6.939015609034237,
          -7.025585780994476,
          -6.9530259001006405,
          -6.92883854465085,
          -6.866642129323212,
          -8.040239450893736,
          -8.093692502111974,
          -7.029035975673274,
          -6.898203018916774,
          -6.901222463792317,
          -7.902268674368542,
          -7.06954790505496,
          -8.892409835911053,
          -7.13492492471274,
          -6.9169091950741075,
          -7.0355270193230774,
          -7.02325359089754,
          -7.0390056049974925,
          -8.001564226662694,
          -7.027309423309699,
          -7.925169068041791,
          -6.995449231778941,
          -6.999726814975902,
          -6.959842130605634,
          -6.925303533035701,
          -6.147881109855425,
          -6.142950976251719,
          -7.076601605556743,
          -5.900633097619493,
          -6.117641197244234,
          -6.010717384996915,
          -7.101767604862303,
          -5.925906479288459,
          -7.040642083288354,
          -7.077980122275607,
          -6.891163319044618,
          -7.113267657614601,
          -7.087187948576267,
          -6.923965140552322,
          -6.905838021075198,
          -6.909622602863097,
          -6.934361072404455,
          -6.917298362424635,
          -7.0611917467491585,
          -6.89813591532958,
          -7.10835658710297,
          -6.859915033613105,
          -6.934762569298325,
          -6.912325571623944,
          -6.89710667380839,
          -7.008846806881821,
          -7.141729550387216,
          -7.061192288973283,
          -6.968388306620363,
          -7.040125504293978,
          -5.95989761597226,
          -6.073098057463089,
          -5.941607556427303,
          -5.889381621251493,
          -6.007807722576703,
          -6.93618080008475,
          -6.046409769347454,
          -4.919196096094908,
          -6.1136915114082475,
          -5.0595707849234834,
          -4.947170936954249,
          -5.117837875301362,
          -5.864635793744836,
          -6.050562379742628,
          -6.923153548886174,
          -6.93685940294454,
          -7.042281402891202,
          -6.0448653935600785,
          -5.908764830594495,
          -5.957302680699353,
          -6.045317462088605,
          -6.91241162222387,
          -6.872746398369256,
          -6.993902299149643,
          -7.060570521141577,
          -7.067923994197819,
          -6.940692000529063,
          -7.135410459088801,
          -7.075306745710792,
          -7.915951806984457,
          -6.857583101157884,
          -7.112058445349396,
          -5.854570091212939,
          -6.860880874596007,
          -5.893763162284918,
          -7.103121392849486,
          -6.14179177000855,
          -5.947333809349132,
          -6.04456217445565,
          -6.090445038039503,
          -6.097478643118209,
          -5.868457978916599,
          -4.940448658638004,
          -4.960912449290329,
          -6.093940887508826,
          -5.920505650877423,
          -5.957862591496272,
          -6.114852599683617,
          -7.028974214613613,
          -6.127725180148417,
          -6.023829793991565,
          -6.856278988322201,
          -7.963735143886174,
          -7.026977891297093,
          -5.976808599225205,
          -5.889881681610698,
          -6.099991454951791,
          -5.908632549499064,
          -6.919127289694983,
          -6.967044486681288,
          -7.12979999662971,
          -6.090373655074571,
          -7.09462134270365,
          -6.972880879677602,
          -5.92027748519621,
          -4.036431503838693,
          -2.861574096727664,
          -4.973787864701904,
          -4.091266991529793,
          -5.086485421943012,
          -4.005703420029433,
          -5.077344085951747,
          -3.919877072755453,
          -4.010916431155385,
          -3.908298853075893,
          -3.8711996640730506,
          -4.025895366652024,
          -4.913306829770524,
          -1.942800154286852,
          -4.083710147661979,
          -4.067552945317708,
          -4.1208422490450145,
          -3.004763449128334,
          -3.884585613011622,
          -2.93015459900224,
          -3.0612209576691,
          -3.9083239017422375,
          -4.092489152009462,
          -3.104831497150869,
          -4.993277025778399,
          -5.059894135799162,
          -5.132406686327776,
          -4.935232195695725,
          -2.982479208455896,
          -2.919890218554058,
          -3.0941749914027974,
          -3.0718947146979474,
          -3.0529147534340084,
          -2.9095159790522613,
          -3.11108427532332,
          -2.8977272870631308,
          -3.8617727847309165,
          -3.977387550580453,
          -1.8737205320452996,
          -2.9058091618690525,
          -3.896365372099762,
          0.9703984781297723,
          -3.1114163481882886,
          -3.0633935388977815,
          -3.087112372993095,
          -2.1410090667407156,
          -4.080904139123136,
          -2.9173581391804992,
          -3.015458424341569,
          -2.9399766259610303,
          -3.9871512829163085,
          0.9989360723604462,
          -3.930878204106335,
          -4.144961424122696,
          -4.0803432651178975,
          -3.117595892473657,
          0.04461640661533195,
          -5.097550035250748,
          -4.864344751471021,
          -2.8730310969602746,
          -4.974090556832545,
          -3.862027978907993,
          -5.040688946674487,
          0.8586206335490144,
          0.08858412749121597,
          -1.912479987262431,
          -1.0765375239834523,
          -0.9837513728770532,
          -3.986212300906131,
          -3.0269530932592685,
          -4.096883583065781,
          -3.951728797204293,
          -4.121371853650913,
          -3.9494987040452503,
          -4.858404205997614,
          -4.065702788032469,
          0.9330640726853725,
          0.9995374767291648,
          -4.142658200253122,
          -3.862610606544512,
          -4.047458488284342,
          -4.062220701500015,
          -4.034407465950467,
          -5.037597612832229,
          -3.853380436092651,
          -0.0641257389961263,
          -4.048470585895135,
          -5.01713116669433,
          -3.9690570824844817,
          -3.9024182450597262,
          -4.0338300877186395,
          -1.0031922584146198,
          -2.938113663594817,
          -3.9748917543206135,
          -1.9671196930351298,
          1.0463985531095694,
          -2.0896598459147477,
          -2.956943394550305,
          -2.9356215634707694,
          -4.106738569714764,
          -1.8580323541665247,
          -3.1182200809613496,
          -4.0533305382869536,
          -4.133773100510245,
          -1.9119837080882223,
          -4.005760811189499,
          -2.9286323013195,
          -1.115041673358042,
          -1.0861174260526973,
          -2.0657067780177583,
          -0.8721596980739815,
          -2.128128600807038,
          -2.0023627845689256,
          0.014985414271661696,
          -2.9606287289096382,
          -2.920633908054519,
          -1.108162833022493,
          -2.9291324887108567,
          -4.09787061209605,
          -2.8567306541445014,
          -3.890762741269689,
          -5.008541552956485,
          -4.021761980545688,
          -3.8638268490160796,
          -4.048561069904949,
          -4.124054704674454,
          -4.136310905751926,
          -4.040931141715491,
          -4.864330600040767,
          -4.063147683262564,
          -3.8902754050269928,
          -3.8529874032682208,
          -3.903109760754784,
          -3.8689220528552024,
          -4.039464428198512,
          -5.110863204553188,
          -3.8605789403186757,
          -4.078308274534474,
          -4.09807986208637,
          -4.043391196301162,
          -4.117681841471532,
          -3.9718865279033753,
          -3.9151216406063867,
          -4.128785916501187,
          -1.8620273467235051,
          -2.0818375974096672,
          -1.8812597439187517,
          -1.9051760381510472,
          -2.0453272868676025,
          -4.141603335277595,
          -1.902060954870107,
          -2.8764290512783903,
          -3.0419155862895177,
          -3.9752331510497285,
          -5.025421536989807,
          -4.1224903133638255,
          -4.0054142314903824,
          -4.113115264664812,
          -4.885110970118534,
          -4.00734420606681,
          -5.012310007726736,
          -3.9190147176221015,
          -3.9555872025108063,
          -2.1411881919898783,
          -4.090971274038691,
          -4.101409601725657,
          -4.016995359243155,
          -4.0227600842440685,
          -4.138210248038398,
          -4.110176650310465,
          -3.8661655372876513,
          1.035893537308781,
          -5.048739249626497,
          -3.8733731312175865,
          -4.125368219603452,
          -3.9630285158322893,
          -3.917813764965599,
          -3.858286269054185,
          -3.892827032998468,
          0.9558270688350426,
          -4.89627747615302,
          -3.942120862101998,
          -3.1010075614299146,
          -2.1008194004213627,
          -4.071203291941376,
          -3.982357350706551,
          -0.08245121123933098,
          -1.8888306137215678,
          -3.9608811182869044,
          -4.076678929013669,
          -3.860670967307118,
          -3.8547899957178533,
          1.9060288433175807,
          1.867411885966506,
          2.031076386566019,
          1.8810517828542028,
          1.9538871293616153,
          1.9182802189407389,
          1.906088706475912,
          2.1259393690214123,
          1.9792333742340815,
          1.9153573533351413,
          2.059060027649325,
          2.146335487576562,
          1.9650089897571357,
          1.8720867214545205,
          1.9894240003289154,
          -0.08525382681185407,
          1.9793979165926479,
          2.122496049625709,
          1.9652127812467883,
          2.015643090564644,
          2.02088866465985,
          1.8606211597605389,
          2.049222225078467,
          1.8989846276432558,
          1.851744251379281,
          2.028768797689722,
          2.125415391369967,
          2.109905104812173,
          2.14959812289086,
          1.8882759331414474,
          1.905248376247389,
          1.9239982386760806,
          1.9323102225603974,
          1.8804916776424123,
          1.9827258749706207,
          2.0758685065981304,
          2.0487851912721164,
          1.870074093062058,
          1.9510840585846814,
          0.005091230003386488,
          -0.045471318243629946,
          1.9062147157126117,
          1.8572358833055076,
          1.8570208426709391,
          2.015667659558274,
          1.9076280986767813,
          2.0461506303263413
         ],
         "yaxis": "y"
        },
        {
         "customdata": [
          [
           true,
           "Streptococcus pneumoniae"
          ],
          [
           true,
           "Streptococcus pneumoniae"
          ],
          [
           true,
           "Streptococcus sanguinis"
          ],
          [
           true,
           "Streptococcus salivarius"
          ],
          [
           true,
           "Streptococcus pneumoniae"
          ],
          [
           true,
           "Streptococcus pneumoniae"
          ],
          [
           true,
           "Streptococcus sanguinis"
          ],
          [
           true,
           "Streptococcus mitis"
          ],
          [
           true,
           "Streptococcus anginosus"
          ],
          [
           true,
           "Streptococcus pneumoniae"
          ],
          [
           true,
           "Streptococcus pneumoniae"
          ],
          [
           true,
           "Streptococcus pneumoniae"
          ],
          [
           true,
           "Streptococcus pneumoniae"
          ],
          [
           true,
           "Streptococcus pneumoniae"
          ],
          [
           true,
           "Streptococcus pneumoniae"
          ],
          [
           true,
           "Streptococcus pneumoniae"
          ],
          [
           true,
           "Streptococcus pneumoniae"
          ],
          [
           true,
           "Streptococcus mitis"
          ],
          [
           true,
           "Streptococcus mitis"
          ],
          [
           true,
           "Streptococcus sanguinis"
          ],
          [
           true,
           "Streptococcus oralis"
          ],
          [
           true,
           "Streptococcus oralis"
          ],
          [
           true,
           "Streptococcus pneumoniae"
          ],
          [
           true,
           "Streptococcus pneumoniae"
          ],
          [
           true,
           "Streptococcus pneumoniae"
          ],
          [
           true,
           "Streptococcus salivarius"
          ],
          [
           true,
           "Streptococcus salivarius"
          ],
          [
           true,
           "Streptococcus salivarius"
          ],
          [
           true,
           "Streptococcus anginosus"
          ],
          [
           true,
           "Streptococcus sanguinis"
          ],
          [
           true,
           "Enterococcus faecium"
          ],
          [
           true,
           "Streptococcus mitis"
          ],
          [
           true,
           "Streptococcus mitis"
          ],
          [
           true,
           "Streptococcus oralis"
          ],
          [
           true,
           "Streptococcus oralis"
          ],
          [
           true,
           "Streptococcus salivarius"
          ],
          [
           true,
           "Streptococcus salivarius"
          ],
          [
           true,
           "Streptococcus pneumoniae"
          ],
          [
           true,
           "Streptococcus pneumoniae"
          ],
          [
           true,
           "Streptococcus pneumoniae"
          ],
          [
           true,
           "Streptococcus pneumoniae"
          ],
          [
           true,
           "Streptococcus pneumoniae"
          ],
          [
           true,
           "Enterococcus faecalis"
          ],
          [
           true,
           "Enterococcus faecalis"
          ],
          [
           true,
           "Enterococcus faecium"
          ],
          [
           true,
           "Staphylococcus aureus"
          ],
          [
           true,
           "Staphylococcus capitis"
          ],
          [
           true,
           "Staphylococcus capitis"
          ],
          [
           true,
           "Staphylococcus capitis"
          ],
          [
           true,
           "Staphylococcus capitis"
          ],
          [
           true,
           "Staphylococcus epidermidis"
          ],
          [
           true,
           "Staphylococcus epidermidis"
          ],
          [
           true,
           "Staphylococcus epidermidis"
          ],
          [
           true,
           "Staphylococcus epidermidis"
          ],
          [
           true,
           "Staphylococcus epidermidis"
          ],
          [
           true,
           "Staphylococcus epidermidis"
          ],
          [
           true,
           "Staphylococcus epidermidis"
          ],
          [
           true,
           "Staphylococcus epidermidis"
          ],
          [
           true,
           "Staphylococcus aureus"
          ],
          [
           true,
           "Staphylococcus epidermidis"
          ],
          [
           true,
           "Staphylococcus hominis"
          ],
          [
           true,
           "Staphylococcus hominis"
          ],
          [
           true,
           "Staphylococcus hominis"
          ],
          [
           true,
           "Staphylococcus hominis"
          ],
          [
           true,
           "Staphylococcus hominis"
          ],
          [
           true,
           "Staphylococcus hominis"
          ],
          [
           true,
           "Staphylococcus hominis"
          ],
          [
           true,
           "Staphylococcus hominis"
          ],
          [
           true,
           "Staphylococcus hominis"
          ],
          [
           true,
           "Staphylococcus hominis"
          ],
          [
           true,
           "Staphylococcus hominis"
          ],
          [
           true,
           "Staphylococcus hominis"
          ],
          [
           true,
           "Staphylococcus hominis"
          ],
          [
           true,
           "Staphylococcus aureus"
          ],
          [
           true,
           "Staphylococcus aureus"
          ],
          [
           true,
           "Staphylococcus aureus"
          ],
          [
           true,
           "Staphylococcus aureus"
          ],
          [
           true,
           "Staphylococcus aureus"
          ],
          [
           true,
           "Staphylococcus aureus"
          ],
          [
           true,
           "Staphylococcus aureus"
          ],
          [
           true,
           "Staphylococcus aureus"
          ],
          [
           true,
           "Staphylococcus aureus"
          ],
          [
           true,
           "Staphylococcus aureus"
          ],
          [
           true,
           "Staphylococcus aureus"
          ],
          [
           true,
           "Staphylococcus aureus"
          ],
          [
           true,
           "Staphylococcus aureus"
          ],
          [
           true,
           "Staphylococcus hominis"
          ],
          [
           true,
           "Staphylococcus hominis"
          ],
          [
           true,
           "Staphylococcus hominis"
          ],
          [
           true,
           "Staphylococcus hominis"
          ],
          [
           true,
           "Staphylococcus hominis"
          ],
          [
           true,
           "Staphylococcus aureus"
          ],
          [
           true,
           "Staphylococcus aureus"
          ],
          [
           true,
           "Staphylococcus aureus"
          ],
          [
           true,
           "Staphylococcus aureus"
          ],
          [
           true,
           "Staphylococcus aureus"
          ],
          [
           true,
           "Staphylococcus aureus"
          ],
          [
           true,
           "Staphylococcus aureus"
          ],
          [
           true,
           "Staphylococcus aureus"
          ],
          [
           true,
           "Staphylococcus aureus"
          ],
          [
           true,
           "Staphylococcus aureus"
          ],
          [
           true,
           "Streptococcus agalactiae"
          ],
          [
           true,
           "Streptococcus agalactiae"
          ],
          [
           true,
           "Streptococcus agalactiae"
          ],
          [
           true,
           "Streptococcus agalactiae"
          ],
          [
           true,
           "Streptococcus agalactiae"
          ],
          [
           true,
           "Streptococcus agalactiae"
          ],
          [
           true,
           "Streptococcus agalactiae"
          ],
          [
           true,
           "Streptococcus agalactiae"
          ],
          [
           true,
           "Streptococcus agalactiae"
          ],
          [
           true,
           "Streptococcus agalactiae"
          ],
          [
           true,
           "Streptococcus agalactiae"
          ],
          [
           true,
           "Streptococcus agalactiae"
          ],
          [
           true,
           "Streptococcus agalactiae"
          ],
          [
           true,
           "Streptococcus agalactiae"
          ],
          [
           true,
           "Streptococcus pneumoniae"
          ],
          [
           true,
           "Streptococcus pneumoniae"
          ],
          [
           true,
           "Streptococcus pneumoniae"
          ],
          [
           true,
           "Streptococcus pneumoniae"
          ],
          [
           true,
           "Streptococcus pneumoniae"
          ],
          [
           true,
           "Streptococcus pneumoniae"
          ],
          [
           true,
           "Streptococcus pneumoniae"
          ],
          [
           true,
           "Streptococcus pneumoniae"
          ],
          [
           true,
           "Streptococcus pyogenes"
          ],
          [
           true,
           "Streptococcus pyogenes"
          ],
          [
           true,
           "Streptococcus pyogenes"
          ],
          [
           true,
           "Streptococcus pneumoniae"
          ],
          [
           true,
           "Streptococcus pyogenes"
          ],
          [
           true,
           "Streptococcus pyogenes"
          ],
          [
           true,
           "Streptococcus pyogenes"
          ],
          [
           true,
           "Streptococcus pyogenes"
          ],
          [
           true,
           "Streptococcus pyogenes"
          ],
          [
           true,
           "Streptococcus pyogenes"
          ],
          [
           true,
           "Streptococcus pneumoniae"
          ],
          [
           true,
           "Streptococcus agalactiae"
          ],
          [
           true,
           "Streptococcus pneumoniae"
          ],
          [
           true,
           "Streptococcus agalactiae"
          ],
          [
           true,
           "Streptococcus agalactiae"
          ],
          [
           true,
           "Streptococcus agalactiae"
          ],
          [
           true,
           "Streptococcus agalactiae"
          ],
          [
           true,
           "Streptococcus agalactiae"
          ],
          [
           true,
           "Streptococcus agalactiae"
          ],
          [
           true,
           "Streptococcus agalactiae"
          ],
          [
           true,
           "Streptococcus agalactiae"
          ],
          [
           true,
           "Streptococcus agalactiae"
          ],
          [
           true,
           "Streptococcus pneumoniae"
          ],
          [
           true,
           "Streptococcus pneumoniae"
          ],
          [
           true,
           "Streptococcus pneumoniae"
          ],
          [
           true,
           "Streptococcus pneumoniae"
          ],
          [
           true,
           "Streptococcus pneumoniae"
          ],
          [
           true,
           "Streptococcus pneumoniae"
          ],
          [
           true,
           "Streptococcus pneumoniae"
          ],
          [
           true,
           "Streptococcus pneumoniae"
          ],
          [
           true,
           "Streptococcus pneumoniae"
          ],
          [
           true,
           "Streptococcus pyogenes"
          ],
          [
           true,
           "Streptococcus pyogenes"
          ],
          [
           true,
           "Streptococcus pyogenes"
          ],
          [
           true,
           "Streptococcus pyogenes"
          ],
          [
           true,
           "Streptococcus pyogenes"
          ],
          [
           true,
           "Streptococcus pyogenes"
          ],
          [
           true,
           "Streptococcus pyogenes"
          ],
          [
           true,
           "Streptococcus pyogenes"
          ],
          [
           true,
           "Streptococcus pyogenes"
          ],
          [
           true,
           "Streptococcus pyogenes"
          ],
          [
           true,
           "Streptococcus pyogenes"
          ],
          [
           true,
           "Streptococcus pneumoniae"
          ],
          [
           true,
           "Streptococcus pneumoniae"
          ],
          [
           true,
           "Streptococcus pneumoniae"
          ],
          [
           true,
           "Streptococcus pneumoniae"
          ],
          [
           true,
           "Streptococcus pneumoniae"
          ],
          [
           true,
           "Staphylococcus aureus"
          ],
          [
           true,
           "Staphylococcus epidermidis"
          ],
          [
           true,
           "Staphylococcus aureus"
          ],
          [
           true,
           "Staphylococcus aureus"
          ],
          [
           true,
           "Staphylococcus aureus"
          ],
          [
           true,
           "Staphylococcus aureus"
          ],
          [
           true,
           "Staphylococcus epidermidis"
          ],
          [
           true,
           "Staphylococcus epidermidis"
          ],
          [
           true,
           "Staphylococcus epidermidis"
          ],
          [
           true,
           "Staphylococcus epidermidis"
          ],
          [
           true,
           "Staphylococcus aureus"
          ],
          [
           true,
           "Staphylococcus hominis"
          ],
          [
           true,
           "Staphylococcus epidermidis"
          ],
          [
           true,
           "Staphylococcus aureus"
          ],
          [
           true,
           "Staphylococcus aureus"
          ],
          [
           true,
           "Staphylococcus aureus"
          ],
          [
           true,
           "Staphylococcus aureus"
          ],
          [
           true,
           "Staphylococcus aureus"
          ],
          [
           true,
           "Staphylococcus epidermidis"
          ],
          [
           true,
           "Staphylococcus epidermidis"
          ],
          [
           true,
           "Staphylococcus epidermidis"
          ],
          [
           true,
           "Staphylococcus epidermidis"
          ],
          [
           true,
           "Staphylococcus epidermidis"
          ],
          [
           true,
           "Staphylococcus epidermidis"
          ],
          [
           true,
           "Staphylococcus hominis"
          ],
          [
           true,
           "Staphylococcus hominis"
          ],
          [
           true,
           "Staphylococcus hominis"
          ],
          [
           true,
           "Staphylococcus aureus"
          ],
          [
           true,
           "Staphylococcus hominis"
          ],
          [
           true,
           "Staphylococcus hominis"
          ],
          [
           true,
           "Staphylococcus hominis"
          ],
          [
           true,
           "Staphylococcus hominis"
          ],
          [
           true,
           "Staphylococcus epidermidis"
          ],
          [
           true,
           "Staphylococcus epidermidis"
          ],
          [
           true,
           "Staphylococcus epidermidis"
          ]
         ],
         "hovertemplate": "<b>%{hovertext}</b><br><br>SIR=Intermediate<br>Log2(MIC-value)=%{y:.0f}<br>Scale=%{customdata[0]}<br>Pathogen=%{customdata[1]}<extra></extra>",
         "hovertext": [
          "QM803",
          "QM810",
          "QM1333",
          "QM876",
          "QM325",
          "QM1353",
          "QM152",
          "BAR064",
          "QM1387",
          "QM1456",
          "QM1457",
          "QM1460",
          "QM1461",
          "QM1464",
          "QM1468",
          "QM1469",
          "QM1470",
          "QM870",
          "QM871",
          "QM872",
          "HV752",
          "QM138",
          "QM1574",
          "QM026",
          "QM329",
          "QM1486",
          "QM1487",
          "QM876",
          "QM1334",
          "QM868",
          "QM1249",
          "QM870",
          "QM871",
          "HV752",
          "QM138",
          "QM1486",
          "QM1487",
          "QM806",
          "QM1353",
          "QM1470",
          "QM326",
          "QM328",
          "QM065",
          "QM294",
          "QM1391",
          "QM323",
          "QM085",
          "QM086",
          "QM895",
          "QM897",
          "HV146",
          "HV156",
          "HV912",
          "HV975",
          "QM088",
          "QM089",
          "HV559",
          "HV615",
          "BAR059",
          "QM359",
          "HV103",
          "HV107",
          "HV114",
          "HV271",
          "HV330",
          "HV412",
          "HV414",
          "HV740",
          "HV753",
          "HV448",
          "HV500",
          "HV508",
          "HV517",
          "QM1325",
          "QM1326",
          "QM1327",
          "QM1359",
          "QM1360",
          "QM1362",
          "QM1364",
          "QM1367",
          "QM1370",
          "QM1379",
          "QM1385",
          "QM1388",
          "QM1450",
          "HV986",
          "QM963",
          "QM964",
          "HV794",
          "HV902",
          "AR0563",
          "AR0470",
          "AR0475",
          "AR0476",
          "AR0477",
          "AR0478",
          "AR0221",
          "AR0481",
          "AR0490",
          "AR0704",
          "QM1007",
          "QM1008",
          "QM1010",
          "QM1011",
          "QM1013",
          "QM1014",
          "QM1015",
          "QM886",
          "BAR006",
          "BAR008",
          "BAR018",
          "BAR019",
          "BAR023",
          "BAR024",
          "QM803",
          "QM804",
          "QM805",
          "QM806",
          "QM807",
          "QM808",
          "QM810",
          "BAR026",
          "QM1002",
          "QM878",
          "QM879",
          "PER134",
          "QM880",
          "QM882",
          "QM883",
          "QM884",
          "PER159",
          "BAR009",
          "QM325",
          "QM1440",
          "QM1353",
          "QM1533",
          "QM1536",
          "QM1537",
          "QM1539",
          "QM1540",
          "QM1541",
          "QM1542",
          "QM1543",
          "QM1545",
          "QM1456",
          "QM1457",
          "QM1460",
          "QM1461",
          "QM1464",
          "QM1468",
          "QM1469",
          "QM1470",
          "QM1574",
          "QM1547",
          "QM1549",
          "QM1551",
          "QM1552",
          "QM1555",
          "QM1556",
          "QM1557",
          "QM1558",
          "QM1559",
          "QM1561",
          "QM1565",
          "QM025",
          "QM026",
          "QM027",
          "QM328",
          "QM329",
          "AR0720",
          "HV455",
          "AR0706",
          "AR0724",
          "QM321",
          "QM993",
          "HV116",
          "HV119",
          "HV146",
          "QM968",
          "QM1452",
          "QM093",
          "QM1258",
          "AR0490",
          "AR0225",
          "AR0716",
          "AR0721",
          "AR0724",
          "HV109",
          "HV119",
          "HV136",
          "HV953",
          "HV523",
          "QM968",
          "HV245",
          "HV277",
          "HV517",
          "QM1358",
          "QM963",
          "QM964",
          "HV88",
          "HV902",
          "HV733",
          "HV734",
          "HV744"
         ],
         "legendgroup": "Intermediate",
         "marker": {
          "color": "gold",
          "symbol": "circle"
         },
         "mode": "markers",
         "name": "Intermediate",
         "showlegend": true,
         "type": "scattergl",
         "x": [
          -0.14230875858255093,
          0.131692680752395,
          -0.10391033508920869,
          -0.056842136134363966,
          0.13853601496004306,
          0.13102827782107604,
          0.07445419171381795,
          0.01300585514826949,
          0.013388533534525876,
          -0.08192285624975551,
          -0.05977544566176719,
          -0.12248903941884377,
          0.058523646787499356,
          0.006759171193975483,
          -0.007849360775701336,
          0.14423413404563692,
          0.14840890829768125,
          -0.056611064869943245,
          0.14914271721660918,
          0.1001120168311764,
          -0.052673159949308046,
          -0.048703371373970364,
          -0.02496889013427217,
          0.10325211761523209,
          -0.039044096643286494,
          -0.04256143468444902,
          0.03301376536757167,
          1.099211494104091,
          0.8900808549701172,
          0.8938058095463917,
          1.0215048397551187,
          1.0199242279710101,
          0.937757811095651,
          0.9994037672267673,
          1.1139462509039304,
          1.074865961642932,
          0.9746268688022725,
          5.0222491892130785,
          4.991176882422177,
          4.872596603825021,
          4.885216708933804,
          4.9629447849492765,
          5.951876002817853,
          5.93997015892087,
          5.925191350129846,
          8.148346152270463,
          7.9319019506796185,
          8.069315557047299,
          8.004823060869825,
          7.856517905124538,
          7.895294859087849,
          7.86972963798024,
          7.874735383345142,
          7.85019600618258,
          8.144924434608392,
          7.916763157227564,
          7.999817614131939,
          8.053441995480936,
          8.04783853163767,
          7.963666224006627,
          7.9273105124996155,
          7.86882947345202,
          8.087987983878321,
          7.874499666545277,
          7.99971587575679,
          7.96096462391839,
          7.877673488675635,
          8.031613106128829,
          8.113310076043215,
          7.956678902557091,
          7.914018737839518,
          8.062980032167847,
          8.11545594529853,
          7.870749656989533,
          7.857715394058444,
          7.943478746187759,
          7.9934036495467184,
          7.946027069266722,
          7.906170081941771,
          7.862336734620654,
          8.054751660615674,
          8.146245173633158,
          7.968056148060674,
          7.914184362893577,
          8.11492469716986,
          7.902958653665345,
          8.11526489795262,
          7.953175895398227,
          8.034374115631135,
          8.04652908875728,
          8.045303622323148,
          8.129433628320555,
          8.11634681892902,
          8.112389976663641,
          7.919807099214495,
          7.968117674935791,
          7.973349715461781,
          7.872097345899331,
          7.994937109499821,
          8.04937552306072,
          8.093075322445571,
          9.074076095690488,
          8.955628131248991,
          9.146225577060818,
          9.129009855178392,
          8.93853539788658,
          9.114462153241437,
          9.090259168410185,
          9.05200799425145,
          8.956486722072855,
          8.962858512954398,
          9.039719322036781,
          9.08277951836433,
          9.012818888389589,
          8.919232281274244,
          9.003294257173598,
          8.9136784476704,
          9.130824813900924,
          8.92001039241038,
          9.11991027727306,
          9.005150039120164,
          8.956558724217768,
          8.99979548483807,
          8.997023419477749,
          8.892441449981604,
          8.876112907828821,
          8.87858463692549,
          8.927165368713553,
          9.109755993255026,
          8.881625940334484,
          9.071629460722068,
          8.890068593404429,
          8.944486863670372,
          8.988369503743261,
          8.937023074390337,
          8.957824086630934,
          9.095671064871283,
          9.030436409393024,
          9.07373770518163,
          9.035572607671476,
          9.133992757885267,
          8.867882844080272,
          9.049049162221122,
          9.12910534722571,
          8.936651008061563,
          8.968459246278565,
          9.149674660219667,
          8.898518671402682,
          9.036683304311802,
          9.016600361873907,
          9.125303953913182,
          8.920979229151717,
          8.886876965567614,
          8.927750492437191,
          8.997651050149654,
          8.965205452433114,
          9.04239812393957,
          9.085863664408008,
          8.920011144079277,
          8.933950765210124,
          8.977392544635546,
          8.934642812074795,
          8.89776255276448,
          9.081672680954608,
          8.874354551450008,
          9.035036638423952,
          9.0057516148633,
          8.889861519389553,
          9.126182017614424,
          9.06170348207468,
          14.145472143880163,
          15.122256391199512,
          15.132876557162895,
          14.999322301766293,
          16.060131000502352,
          15.983816817765826,
          15.99141624021362,
          15.973359572360362,
          16.02664063714852,
          16.048032274672344,
          16.090115190991252,
          16.07290193437964,
          16.148938042391283,
          15.909321373518257,
          15.9646760633342,
          16.0681925589446,
          15.971194224233791,
          16.064863922693476,
          19.883087508752617,
          19.85827671980979,
          19.93810421128037,
          19.936235707005295,
          20.019404163975917,
          19.993294047617105,
          20.082185907909675,
          19.935728912892586,
          19.910190561930637,
          19.894503384202874,
          20.142797919888487,
          19.943593695783502,
          19.994641806378834,
          19.966201883853845,
          19.960360542359503,
          19.91985474962465,
          19.867189964238325
         ],
         "xaxis": "x",
         "y": [
          -0.9699572970081949,
          -2.052711370840811,
          0.944286916010374,
          0.1419598963508206,
          -1.0420176351287784,
          0.9745505486164401,
          0.0720798522433081,
          1.0894892319829201,
          1.0329403358125084,
          -2.010711304339305,
          -1.9969186053572485,
          -2.092105998472964,
          -2.0333844380695405,
          -2.0641792950649624,
          0.8985124439488574,
          -2.1214850500839106,
          1.018355435132392,
          0.030012034126733644,
          -0.9118557720481884,
          1.0041503240330523,
          -0.13054087277289034,
          0.023501348295566132,
          -2.001777389183011,
          0.9057132156505182,
          -1.909624324845471,
          0.9668244696928705,
          0.11222542061034199,
          -0.1451993950102257,
          0.12913781925262982,
          -0.12581144645185607,
          2.966455723190957,
          0.9800949809290482,
          -0.12078879111089885,
          0.062076018295623314,
          0.903769112391482,
          -0.019084409525844753,
          1.0338058536591719,
          -0.11418048352937152,
          0.03508271804877669,
          0.019516623282036127,
          -0.088069224903224,
          -0.07350140481554845,
          1.9461533576443693,
          1.0630866034457536,
          -2.8838652614227436,
          -2.1380331300306437,
          -2.1458059378331282,
          -1.9009565581516583,
          0.044297506992594576,
          -1.8603341720990092,
          -2.015040652810128,
          -2.0454707356062323,
          -2.140867496672694,
          -2.1333104265133427,
          -3.1267407288564644,
          -3.085297902037631,
          -3.026664841127227,
          -1.9287412791515002,
          -0.06245650700660782,
          -2.0179782414655016,
          -2.9314002150029204,
          -3.1081512442755246,
          -2.9307788332562983,
          0.08797613900959508,
          -3.0971038791642287,
          -3.1032134163866796,
          -4.107173977816846,
          -4.095926428679145,
          -4.103709506149826,
          -3.046540750032666,
          -3.0295362176835403,
          0.13417449423538327,
          -3.9435418308293975,
          -0.9871712015400511,
          0.1252581331472243,
          -1.9107366069287273,
          -0.9685354700766983,
          -0.11439847880464671,
          -1.0547219918600026,
          -0.9503558292487375,
          -1.01573832768963,
          -0.10416478667099775,
          -0.08684795959347869,
          -0.0729959570692497,
          -0.07877024048967322,
          -0.866622879564705,
          -2.870475442161688,
          -2.9535056010871146,
          -2.885916331130494,
          -2.850971419635249,
          -2.897615045990533,
          -2.046134923587429,
          -3.1023417103731927,
          -0.8973481752329892,
          -2.1377150771652227,
          -1.9737286248024772,
          -1.94674448961519,
          -1.0745347406726753,
          -2.1259640652890766,
          -0.08819775386833559,
          -2.1048412724134646,
          -0.9473851599083882,
          -1.0874443548917125,
          -0.9443614140014256,
          -0.07764313746240951,
          0.1260236613962227,
          0.06950713225367428,
          -1.0506649672680042,
          -1.1173068754462592,
          -0.03156281629444564,
          -1.0664174908011075,
          0.0805424624990074,
          -0.07553215741748846,
          0.0607526129836492,
          0.05723735490706214,
          0.08423971904041469,
          0.12645428437996678,
          -0.0771112455287656,
          -0.024431505216069488,
          0.08447527269591742,
          0.025313129241115173,
          -0.11717989446303831,
          -0.14160137672728546,
          0.9756554911022022,
          -0.8905254040874626,
          -0.0020317512592201437,
          0.09346903637570578,
          -1.8601049819079625,
          -0.08808037189093884,
          0.13456702641583665,
          -2.1293543165121234,
          -1.0146764610332086,
          -1.1139817585159975,
          -1.0696645374476654,
          -0.034604534147119115,
          0.1376898768354811,
          0.0032369321075545188,
          -0.14932780148975744,
          0.05998238047327581,
          1.0075002949458516,
          0.9684077492388962,
          -0.010040610531829641,
          -1.1379452468264089,
          -0.0782204907784312,
          -0.07326860671760073,
          -0.07072954526898113,
          -0.010424667275886451,
          -0.02788949462175294,
          0.010455508892979776,
          0.12254558203578328,
          0.12546508711539842,
          0.039749367349986575,
          -0.02260786631454692,
          0.14711881965725962,
          0.11316224241568054,
          -0.10957046575484528,
          -1.0157133328631263,
          -0.0050952060703581825,
          -1.0482047840156816,
          -1.1392633330725324,
          0.05392706788243001,
          0.13544233764269933,
          0.12643145344504417,
          -0.09417288140288824,
          -0.09098469313574004,
          -0.08108194300524016,
          -0.12606432756633087,
          0.00012877204199246428,
          0.14266287164087912,
          -0.14114219740810593,
          1.110645325875131,
          -0.9911395786716928,
          -0.9461527644675224,
          -0.9994703603432158,
          0.9551306517035746,
          0.973665564075267,
          0.8640701610742715,
          1.1427606288320717,
          1.0807573635493306,
          1.1227102001175902,
          0.9768195836366804,
          1.0461559217970873,
          0.9489765178585928,
          0.9115146217488819,
          1.090212129877202,
          0.8600300790082377,
          1.0071092957553112,
          0.932607905565243,
          1.969710031017496,
          2.108636256377372,
          2.0629293844058907,
          1.879666974690014,
          1.9919546222313587,
          1.9594842313923644,
          2.1478285507991863,
          1.9324917043181649,
          1.9286859314345695,
          1.8539368964394471,
          1.860151788038111,
          1.9351606594420312,
          1.954594454165892,
          2.0940787344230873,
          1.9632482124194834,
          1.8563147599255936,
          1.9706977630883518
         ],
         "yaxis": "y"
        }
       ],
       "layout": {
        "legend": {
         "orientation": "h",
         "title": {
          "text": "SIR"
         },
         "tracegroupgap": 0,
         "x": 1,
         "xanchor": "right",
         "y": 1.02,
         "yanchor": "bottom"
        },
        "template": {
         "data": {
          "bar": [
           {
            "error_x": {
             "color": "#2a3f5f"
            },
            "error_y": {
             "color": "#2a3f5f"
            },
            "marker": {
             "line": {
              "color": "#E5ECF6",
              "width": 0.5
             },
             "pattern": {
              "fillmode": "overlay",
              "size": 10,
              "solidity": 0.2
             }
            },
            "type": "bar"
           }
          ],
          "barpolar": [
           {
            "marker": {
             "line": {
              "color": "#E5ECF6",
              "width": 0.5
             },
             "pattern": {
              "fillmode": "overlay",
              "size": 10,
              "solidity": 0.2
             }
            },
            "type": "barpolar"
           }
          ],
          "carpet": [
           {
            "aaxis": {
             "endlinecolor": "#2a3f5f",
             "gridcolor": "white",
             "linecolor": "white",
             "minorgridcolor": "white",
             "startlinecolor": "#2a3f5f"
            },
            "baxis": {
             "endlinecolor": "#2a3f5f",
             "gridcolor": "white",
             "linecolor": "white",
             "minorgridcolor": "white",
             "startlinecolor": "#2a3f5f"
            },
            "type": "carpet"
           }
          ],
          "choropleth": [
           {
            "colorbar": {
             "outlinewidth": 0,
             "ticks": ""
            },
            "type": "choropleth"
           }
          ],
          "contour": [
           {
            "colorbar": {
             "outlinewidth": 0,
             "ticks": ""
            },
            "colorscale": [
             [
              0,
              "#0d0887"
             ],
             [
              0.1111111111111111,
              "#46039f"
             ],
             [
              0.2222222222222222,
              "#7201a8"
             ],
             [
              0.3333333333333333,
              "#9c179e"
             ],
             [
              0.4444444444444444,
              "#bd3786"
             ],
             [
              0.5555555555555556,
              "#d8576b"
             ],
             [
              0.6666666666666666,
              "#ed7953"
             ],
             [
              0.7777777777777778,
              "#fb9f3a"
             ],
             [
              0.8888888888888888,
              "#fdca26"
             ],
             [
              1,
              "#f0f921"
             ]
            ],
            "type": "contour"
           }
          ],
          "contourcarpet": [
           {
            "colorbar": {
             "outlinewidth": 0,
             "ticks": ""
            },
            "type": "contourcarpet"
           }
          ],
          "heatmap": [
           {
            "colorbar": {
             "outlinewidth": 0,
             "ticks": ""
            },
            "colorscale": [
             [
              0,
              "#0d0887"
             ],
             [
              0.1111111111111111,
              "#46039f"
             ],
             [
              0.2222222222222222,
              "#7201a8"
             ],
             [
              0.3333333333333333,
              "#9c179e"
             ],
             [
              0.4444444444444444,
              "#bd3786"
             ],
             [
              0.5555555555555556,
              "#d8576b"
             ],
             [
              0.6666666666666666,
              "#ed7953"
             ],
             [
              0.7777777777777778,
              "#fb9f3a"
             ],
             [
              0.8888888888888888,
              "#fdca26"
             ],
             [
              1,
              "#f0f921"
             ]
            ],
            "type": "heatmap"
           }
          ],
          "heatmapgl": [
           {
            "colorbar": {
             "outlinewidth": 0,
             "ticks": ""
            },
            "colorscale": [
             [
              0,
              "#0d0887"
             ],
             [
              0.1111111111111111,
              "#46039f"
             ],
             [
              0.2222222222222222,
              "#7201a8"
             ],
             [
              0.3333333333333333,
              "#9c179e"
             ],
             [
              0.4444444444444444,
              "#bd3786"
             ],
             [
              0.5555555555555556,
              "#d8576b"
             ],
             [
              0.6666666666666666,
              "#ed7953"
             ],
             [
              0.7777777777777778,
              "#fb9f3a"
             ],
             [
              0.8888888888888888,
              "#fdca26"
             ],
             [
              1,
              "#f0f921"
             ]
            ],
            "type": "heatmapgl"
           }
          ],
          "histogram": [
           {
            "marker": {
             "pattern": {
              "fillmode": "overlay",
              "size": 10,
              "solidity": 0.2
             }
            },
            "type": "histogram"
           }
          ],
          "histogram2d": [
           {
            "colorbar": {
             "outlinewidth": 0,
             "ticks": ""
            },
            "colorscale": [
             [
              0,
              "#0d0887"
             ],
             [
              0.1111111111111111,
              "#46039f"
             ],
             [
              0.2222222222222222,
              "#7201a8"
             ],
             [
              0.3333333333333333,
              "#9c179e"
             ],
             [
              0.4444444444444444,
              "#bd3786"
             ],
             [
              0.5555555555555556,
              "#d8576b"
             ],
             [
              0.6666666666666666,
              "#ed7953"
             ],
             [
              0.7777777777777778,
              "#fb9f3a"
             ],
             [
              0.8888888888888888,
              "#fdca26"
             ],
             [
              1,
              "#f0f921"
             ]
            ],
            "type": "histogram2d"
           }
          ],
          "histogram2dcontour": [
           {
            "colorbar": {
             "outlinewidth": 0,
             "ticks": ""
            },
            "colorscale": [
             [
              0,
              "#0d0887"
             ],
             [
              0.1111111111111111,
              "#46039f"
             ],
             [
              0.2222222222222222,
              "#7201a8"
             ],
             [
              0.3333333333333333,
              "#9c179e"
             ],
             [
              0.4444444444444444,
              "#bd3786"
             ],
             [
              0.5555555555555556,
              "#d8576b"
             ],
             [
              0.6666666666666666,
              "#ed7953"
             ],
             [
              0.7777777777777778,
              "#fb9f3a"
             ],
             [
              0.8888888888888888,
              "#fdca26"
             ],
             [
              1,
              "#f0f921"
             ]
            ],
            "type": "histogram2dcontour"
           }
          ],
          "mesh3d": [
           {
            "colorbar": {
             "outlinewidth": 0,
             "ticks": ""
            },
            "type": "mesh3d"
           }
          ],
          "parcoords": [
           {
            "line": {
             "colorbar": {
              "outlinewidth": 0,
              "ticks": ""
             }
            },
            "type": "parcoords"
           }
          ],
          "pie": [
           {
            "automargin": true,
            "type": "pie"
           }
          ],
          "scatter": [
           {
            "fillpattern": {
             "fillmode": "overlay",
             "size": 10,
             "solidity": 0.2
            },
            "type": "scatter"
           }
          ],
          "scatter3d": [
           {
            "line": {
             "colorbar": {
              "outlinewidth": 0,
              "ticks": ""
             }
            },
            "marker": {
             "colorbar": {
              "outlinewidth": 0,
              "ticks": ""
             }
            },
            "type": "scatter3d"
           }
          ],
          "scattercarpet": [
           {
            "marker": {
             "colorbar": {
              "outlinewidth": 0,
              "ticks": ""
             }
            },
            "type": "scattercarpet"
           }
          ],
          "scattergeo": [
           {
            "marker": {
             "colorbar": {
              "outlinewidth": 0,
              "ticks": ""
             }
            },
            "type": "scattergeo"
           }
          ],
          "scattergl": [
           {
            "marker": {
             "colorbar": {
              "outlinewidth": 0,
              "ticks": ""
             }
            },
            "type": "scattergl"
           }
          ],
          "scattermapbox": [
           {
            "marker": {
             "colorbar": {
              "outlinewidth": 0,
              "ticks": ""
             }
            },
            "type": "scattermapbox"
           }
          ],
          "scatterpolar": [
           {
            "marker": {
             "colorbar": {
              "outlinewidth": 0,
              "ticks": ""
             }
            },
            "type": "scatterpolar"
           }
          ],
          "scatterpolargl": [
           {
            "marker": {
             "colorbar": {
              "outlinewidth": 0,
              "ticks": ""
             }
            },
            "type": "scatterpolargl"
           }
          ],
          "scatterternary": [
           {
            "marker": {
             "colorbar": {
              "outlinewidth": 0,
              "ticks": ""
             }
            },
            "type": "scatterternary"
           }
          ],
          "surface": [
           {
            "colorbar": {
             "outlinewidth": 0,
             "ticks": ""
            },
            "colorscale": [
             [
              0,
              "#0d0887"
             ],
             [
              0.1111111111111111,
              "#46039f"
             ],
             [
              0.2222222222222222,
              "#7201a8"
             ],
             [
              0.3333333333333333,
              "#9c179e"
             ],
             [
              0.4444444444444444,
              "#bd3786"
             ],
             [
              0.5555555555555556,
              "#d8576b"
             ],
             [
              0.6666666666666666,
              "#ed7953"
             ],
             [
              0.7777777777777778,
              "#fb9f3a"
             ],
             [
              0.8888888888888888,
              "#fdca26"
             ],
             [
              1,
              "#f0f921"
             ]
            ],
            "type": "surface"
           }
          ],
          "table": [
           {
            "cells": {
             "fill": {
              "color": "#EBF0F8"
             },
             "line": {
              "color": "white"
             }
            },
            "header": {
             "fill": {
              "color": "#C8D4E3"
             },
             "line": {
              "color": "white"
             }
            },
            "type": "table"
           }
          ]
         },
         "layout": {
          "annotationdefaults": {
           "arrowcolor": "#2a3f5f",
           "arrowhead": 0,
           "arrowwidth": 1
          },
          "autotypenumbers": "strict",
          "coloraxis": {
           "colorbar": {
            "outlinewidth": 0,
            "ticks": ""
           }
          },
          "colorscale": {
           "diverging": [
            [
             0,
             "#8e0152"
            ],
            [
             0.1,
             "#c51b7d"
            ],
            [
             0.2,
             "#de77ae"
            ],
            [
             0.3,
             "#f1b6da"
            ],
            [
             0.4,
             "#fde0ef"
            ],
            [
             0.5,
             "#f7f7f7"
            ],
            [
             0.6,
             "#e6f5d0"
            ],
            [
             0.7,
             "#b8e186"
            ],
            [
             0.8,
             "#7fbc41"
            ],
            [
             0.9,
             "#4d9221"
            ],
            [
             1,
             "#276419"
            ]
           ],
           "sequential": [
            [
             0,
             "#0d0887"
            ],
            [
             0.1111111111111111,
             "#46039f"
            ],
            [
             0.2222222222222222,
             "#7201a8"
            ],
            [
             0.3333333333333333,
             "#9c179e"
            ],
            [
             0.4444444444444444,
             "#bd3786"
            ],
            [
             0.5555555555555556,
             "#d8576b"
            ],
            [
             0.6666666666666666,
             "#ed7953"
            ],
            [
             0.7777777777777778,
             "#fb9f3a"
            ],
            [
             0.8888888888888888,
             "#fdca26"
            ],
            [
             1,
             "#f0f921"
            ]
           ],
           "sequentialminus": [
            [
             0,
             "#0d0887"
            ],
            [
             0.1111111111111111,
             "#46039f"
            ],
            [
             0.2222222222222222,
             "#7201a8"
            ],
            [
             0.3333333333333333,
             "#9c179e"
            ],
            [
             0.4444444444444444,
             "#bd3786"
            ],
            [
             0.5555555555555556,
             "#d8576b"
            ],
            [
             0.6666666666666666,
             "#ed7953"
            ],
            [
             0.7777777777777778,
             "#fb9f3a"
            ],
            [
             0.8888888888888888,
             "#fdca26"
            ],
            [
             1,
             "#f0f921"
            ]
           ]
          },
          "colorway": [
           "#636efa",
           "#EF553B",
           "#00cc96",
           "#ab63fa",
           "#FFA15A",
           "#19d3f3",
           "#FF6692",
           "#B6E880",
           "#FF97FF",
           "#FECB52"
          ],
          "font": {
           "color": "#2a3f5f"
          },
          "geo": {
           "bgcolor": "white",
           "lakecolor": "white",
           "landcolor": "#E5ECF6",
           "showlakes": true,
           "showland": true,
           "subunitcolor": "white"
          },
          "hoverlabel": {
           "align": "left"
          },
          "hovermode": "closest",
          "mapbox": {
           "style": "light"
          },
          "paper_bgcolor": "white",
          "plot_bgcolor": "#E5ECF6",
          "polar": {
           "angularaxis": {
            "gridcolor": "white",
            "linecolor": "white",
            "ticks": ""
           },
           "bgcolor": "#E5ECF6",
           "radialaxis": {
            "gridcolor": "white",
            "linecolor": "white",
            "ticks": ""
           }
          },
          "scene": {
           "xaxis": {
            "backgroundcolor": "#E5ECF6",
            "gridcolor": "white",
            "gridwidth": 2,
            "linecolor": "white",
            "showbackground": true,
            "ticks": "",
            "zerolinecolor": "white"
           },
           "yaxis": {
            "backgroundcolor": "#E5ECF6",
            "gridcolor": "white",
            "gridwidth": 2,
            "linecolor": "white",
            "showbackground": true,
            "ticks": "",
            "zerolinecolor": "white"
           },
           "zaxis": {
            "backgroundcolor": "#E5ECF6",
            "gridcolor": "white",
            "gridwidth": 2,
            "linecolor": "white",
            "showbackground": true,
            "ticks": "",
            "zerolinecolor": "white"
           }
          },
          "shapedefaults": {
           "line": {
            "color": "#2a3f5f"
           }
          },
          "ternary": {
           "aaxis": {
            "gridcolor": "white",
            "linecolor": "white",
            "ticks": ""
           },
           "baxis": {
            "gridcolor": "white",
            "linecolor": "white",
            "ticks": ""
           },
           "bgcolor": "#E5ECF6",
           "caxis": {
            "gridcolor": "white",
            "linecolor": "white",
            "ticks": ""
           }
          },
          "title": {
           "x": 0.05
          },
          "xaxis": {
           "automargin": true,
           "gridcolor": "white",
           "linecolor": "white",
           "ticks": "",
           "title": {
            "standoff": 15
           },
           "zerolinecolor": "white",
           "zerolinewidth": 2
          },
          "yaxis": {
           "automargin": true,
           "gridcolor": "white",
           "linecolor": "white",
           "ticks": "",
           "title": {
            "standoff": 15
           },
           "zerolinecolor": "white",
           "zerolinewidth": 2
          }
         }
        },
        "title": {
         "text": "Isolate log2(MIC-values) for different antibiotics"
        },
        "xaxis": {
         "anchor": "y",
         "domain": [
          0,
          1
         ],
         "tickmode": "array",
         "ticktext": [
          "Benzylpenicillin",
          "Ampicillin",
          "Cefoxitin",
          "Ceftaroline",
          "Ceftobiprole",
          "Ceftriaxone",
          "Imipenem",
          "Meropenem",
          "Ciprofloxacin",
          "Levofloxacin",
          "Gentamicin",
          "Dalbavancin",
          "Teicoplanin",
          "Vancomycin",
          "Erythromycin",
          "Clindamycin",
          "Tetracycline",
          "Linezolid",
          "Daptomycin",
          "Rifampicin",
          "Trimeth-sulf",
          "D-test",
          "Optochin"
         ],
         "tickvals": [
          0,
          1,
          2,
          3,
          4,
          5,
          6,
          7,
          8,
          9,
          10,
          11,
          12,
          13,
          14,
          15,
          16,
          17,
          18,
          19,
          20,
          21,
          22
         ],
         "title": {
          "text": "Antibiotics"
         }
        },
        "yaxis": {
         "anchor": "x",
         "domain": [
          0,
          1
         ],
         "range": [
          -10,
          11
         ],
         "tickmode": "array",
         "ticktext": [
          "Min C",
          "0.00195",
          "0.00391",
          "0.00781",
          "0.01563",
          "0.03125",
          "0.0625",
          "0.125",
          "0.25",
          "0.5",
          "1",
          "2",
          "4",
          "8",
          "16",
          "32",
          "64",
          "128",
          "256",
          "512",
          "1024",
          "Max C"
         ],
         "tickvals": [
          -10,
          -9,
          -8,
          -7,
          -6,
          -5,
          -4,
          -3,
          -2,
          -1,
          0,
          1,
          2,
          3,
          4,
          5,
          6,
          7,
          8,
          9,
          10,
          11
         ],
         "title": {
          "text": "Log2(MIC-value)"
         }
        }
       }
      }
     },
     "metadata": {},
     "output_type": "display_data"
    }
   ],
   "source": [
    "def main():\n",
    "    # Load files\n",
    "    chosen_isolates_list = pd.read_csv(\"Chosen_isolates_list.csv\")\n",
    "    CIB = pd.ExcelFile(\"CIB_TF-data_AllIsolates_20230302.xlsx\")\n",
    "    matrix_EU = pd.read_excel(CIB, \"matrix EU\")\n",
    "    \n",
    "    # Rename a long name for plotting purposes\n",
    "    matrix_EU.rename(columns={\"Trimethoprim-sulfamethoxazole\": \"Trimeth-sulf\"}, inplace=True)\n",
    "    \n",
    "    # Select isolates\n",
    "    chosen_isolates = extract_chosen_isolates(chosen_isolates_list, matrix_EU)\n",
    "    \n",
    "    # List of antiiotic names\n",
    "    antibiotics = list(chosen_isolates.columns[3:])    \n",
    "     \n",
    "    # Extract all SIRs for an antibiotic.\n",
    "    chosen_isolates_SIR = extract_SIR(chosen_isolates, antibiotics)\n",
    "    \n",
    "    # Remove the tuples that have None in their SIR data\n",
    "    filtered_chosen_isolates_SIR = filter_mic_values(chosen_isolates_SIR)\n",
    "    \n",
    "    # Extract the mic-values of each isolate for each antibiotic.\n",
    "    mic_data = extract_mic_data(filtered_chosen_isolates_SIR, antibiotics)\n",
    "    \n",
    "    # Create dataframe used for plotting\n",
    "    plot_df = create_plot_df(antibiotics, mic_data)\n",
    "    \n",
    "    plotly_dotplot(plot_df, antibiotics)\n",
    "    \n",
    "if __name__ == \"__main__\":\n",
    "    main()\n"
   ]
  }
 ],
 "metadata": {
  "kernelspec": {
   "display_name": "Python 3",
   "language": "python",
   "name": "python3"
  },
  "language_info": {
   "codemirror_mode": {
    "name": "ipython",
    "version": 3
   },
   "file_extension": ".py",
   "mimetype": "text/x-python",
   "name": "python",
   "nbconvert_exporter": "python",
   "pygments_lexer": "ipython3",
   "version": "3.11.0"
  },
  "orig_nbformat": 4
 },
 "nbformat": 4,
 "nbformat_minor": 2
}
