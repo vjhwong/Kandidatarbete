{
 "cells": [
  {
   "cell_type": "code",
   "execution_count": 410,
   "metadata": {},
   "outputs": [],
   "source": [
    "import pandas as pd\n",
    "import numpy as np\n",
    "import plotly.express as px"
   ]
  },
  {
   "cell_type": "code",
   "execution_count": 411,
   "metadata": {},
   "outputs": [],
   "source": [
    "def extract_chosen_isolates(\n",
    "    chosen_isolates: pd.DataFrame, matrix_EU: pd.DataFrame\n",
    ") -> pd.DataFrame:\n",
    "    \"\"\"\n",
    "    Select the chosen isolates from the script. Return a DataFrame only containing the rows of selected isolates\n",
    "    \"\"\"\n",
    "    chosen_rows = matrix_EU[\"Isolate\"].isin(chosen_isolates[\"Isolate\"])\n",
    "    return matrix_EU[chosen_rows]"
   ]
  },
  {
   "cell_type": "code",
   "execution_count": 412,
   "metadata": {},
   "outputs": [],
   "source": [
    "def find_digits(SIR: str) -> int:\n",
    "    \"\"\"Find numbers in a string\"\"\"\n",
    "    digit = \"\"\n",
    "    for character in SIR:\n",
    "        if character.isdigit() or character == \".\":\n",
    "            digit += character\n",
    "    return float(digit)"
   ]
  },
  {
   "cell_type": "code",
   "execution_count": 413,
   "metadata": {},
   "outputs": [],
   "source": [
    "def get_scale(SIR: str) -> bool:\n",
    "    \"\"\"Get on or off scale. True == on-scale\"\"\"\n",
    "    if \"=\" in SIR:\n",
    "        return True\n",
    "    elif \"<\" in SIR or \">\" in SIR:\n",
    "        return False\n",
    "    else:\n",
    "        raise ValueError(\"Not a valid SIR\")"
   ]
  },
  {
   "cell_type": "code",
   "execution_count": 414,
   "metadata": {},
   "outputs": [],
   "source": [
    "def parse_SIR(SIR: str) -> bool:\n",
    "    \"\"\"\n",
    "    Find the isolates with valid SIRs. Not 'Missing BP'\n",
    "    and not 'nip'.\n",
    "    \"\"\"\n",
    "    if SIR.startswith(\"Missing BP\"):\n",
    "        return False\n",
    "    if SIR == \"nip\":\n",
    "        return False\n",
    "    return True      "
   ]
  },
  {
   "cell_type": "code",
   "execution_count": 415,
   "metadata": {},
   "outputs": [],
   "source": [
    "def extract_SIR(chosen_isolates: pd.DataFrame, antibiotics: list) -> dict:\n",
    "    \"\"\"\n",
    "    Extract all SIRs for an antibiotic. Returns a dictionary\n",
    "    with antibiotcs as keys and lists of the isolates and their\n",
    "    SIRs in tuples as value.\n",
    "    \"\"\"\n",
    "    chosen_isolates_SIR ={antibiotic: [] for antibiotic in antibiotics}\n",
    "    \n",
    "    for index, row in chosen_isolates.iterrows():\n",
    "        isolate, pathogen, antibiotic_SIR = row[0], row[1], list(row[3:].items())\n",
    "        for antibiotic, SIR in antibiotic_SIR:\n",
    "            if parse_SIR(SIR):\n",
    "                mic_category = SIR[0]\n",
    "                mic = find_digits(SIR)\n",
    "                scale = get_scale(SIR)\n",
    "                chosen_isolates_SIR[antibiotic].append((isolate, mic, mic_category, scale, pathogen))\n",
    "            else:\n",
    "                # If SIR = \"Missing BP\" or \"nip\"\n",
    "                chosen_isolates_SIR[antibiotic].append((isolate, SIR, None, None, pathogen))\n",
    "    return chosen_isolates_SIR"
   ]
  },
  {
   "cell_type": "code",
   "execution_count": 416,
   "metadata": {},
   "outputs": [],
   "source": [
    "def filter_mic_values(chosen_isolates_SIR: dict) -> None:\n",
    "    \"\"\"\n",
    "    Remove the tuples that have None in their SIR data\n",
    "    \"\"\"\n",
    "    for antibiotic, SIR_data in chosen_isolates_SIR.items():\n",
    "        # tup = (isolate, mic_value, mic_category, scale, pathogen)\n",
    "        chosen_isolates_SIR[antibiotic] = list((tup for tup in SIR_data if tup[2] is not None))\n",
    "    return chosen_isolates_SIR"
   ]
  },
  {
   "cell_type": "code",
   "execution_count": 417,
   "metadata": {},
   "outputs": [],
   "source": [
    "def extract_mic_data(chosen_isolates_SIR: dict, antibiotics: list) -> list:\n",
    "    \"\"\"\n",
    "    Extract the mic-values of each isolate for each antibiotic.\n",
    "    Returns a nested list. Each list represents the mic-values of \n",
    "    all isolates for an antibiotic.\n",
    "    \"\"\"\n",
    "    mic_values = []\n",
    "    # Iterate over all antibioticsz\n",
    "    for antibiotic in antibiotics:\n",
    "        # Create a list to hold the mic-values of isolates for that abx\n",
    "        antibiotic_mic_values = []\n",
    "        # Get value of current abx. List of (isolate, mic_value, mic_category)\n",
    "        SIR_data = chosen_isolates_SIR[antibiotic]\n",
    "        for isolate, mic_value, mic_category, scale, pathogen in SIR_data:\n",
    "            antibiotic_mic_values.append((isolate, np.log2(mic_value), mic_category, scale, pathogen))\n",
    "        mic_values.append(antibiotic_mic_values)\n",
    "    return mic_values"
   ]
  },
  {
   "cell_type": "code",
   "execution_count": 418,
   "metadata": {},
   "outputs": [],
   "source": [
    "def create_plot_df(antibiotics: list, mic_data: list, x_jitter: float=0.15 , y_jitter: float=0.05) -> pd.DataFrame:\n",
    "    \"\"\"Create dataframe used for plotting\"\"\"\n",
    "    \n",
    "    mic_dict = {\n",
    "        \"S\": (\"limegreen\", \"Sensitive\"),\n",
    "        \"I\": (\"gold\", \"Intermediate\"),\n",
    "        \"R\": (\"tomato\", \"Resistant\"),\n",
    "    }\n",
    "    \n",
    "    # Set ticks of x axis\n",
    "    x_axis = [i for i in range(len(antibiotics))]\n",
    "\n",
    "    # Initialize lists to hold values used for plotting\n",
    "    x_values, y_values = [], []\n",
    "    SIR_category_list = []\n",
    "    isolate_names = []\n",
    "    on_off_scale = []\n",
    "    pathogen_list = []\n",
    "\n",
    "    for x_value, abx_mic_data in zip(x_axis, mic_data):\n",
    "        for isolate, mic_value, SIR_category, scale, pathogen in abx_mic_data:            \n",
    "            # Add random noise to avoid overlapping\n",
    "            x_value_jitter = x_value + np.random.uniform(-x_jitter, x_jitter)\n",
    "            mic_value_jitter = mic_value + np.random.uniform(-y_jitter, y_jitter)\n",
    "            # Add data to the lists\n",
    "            isolate_names.append(isolate)\n",
    "            x_values.append(x_value_jitter)\n",
    "            SIR_category_list.append(mic_dict[SIR_category][1])\n",
    "            on_off_scale.append(scale)\n",
    "            pathogen_list.append(pathogen)\n",
    "            if scale is True:\n",
    "                y_values.append(mic_value_jitter)\n",
    "            elif scale is False:\n",
    "                if SIR_category == \"S\":\n",
    "                    y_values.append(-10)\n",
    "                elif SIR_category == \"R\":\n",
    "                    y_values.append(11)\n",
    "                else:\n",
    "                    raise ValueError(f\"SIR Category must be either S or R, not: {SIR_category}\")\n",
    "            else:\n",
    "                raise ValueError(f\"scale must be Boolean value, not {type(scale)}. Current value: {scale}\")\n",
    "\n",
    "    # Create a DF used for plotting\n",
    "    plot_df = pd.DataFrame(\n",
    "        {\n",
    "            \"Antibiotics\": x_values,\n",
    "            \"Log2(MIC-value)\": y_values,\n",
    "            \"Isolate names\": isolate_names,\n",
    "            \"SIR\": SIR_category_list,\n",
    "            \"Scale\": on_off_scale,\n",
    "            \"Pathogen\": pathogen_list\n",
    "        },\n",
    "        index=np.arange(len(x_values)),\n",
    "    )\n",
    "    \n",
    "    return plot_df"
   ]
  },
  {
   "cell_type": "code",
   "execution_count": 419,
   "metadata": {},
   "outputs": [],
   "source": [
    "def plotly_dotplot(plot_df: pd.DataFrame, antibiotics: list) -> None:\n",
    "    \n",
    "    # Set ticks of x axis\n",
    "    x_axis = [i for i in range(len(antibiotics))]\n",
    "    \n",
    "    y_axis_ticktext = [\n",
    "            \"Min C\", \"0.00195\", \"0.00391\", \"0.00781\", \"0.01563\",\"0.03125\", \"0.0625\", \"0.125\", \n",
    "            \"0.25\", \"0.5\", \"1\", \"2\", \"4\", \"8\", \"16\", \"32\", \"64\", \"128\", \"256\", \"512\", \"1024\", \"Max C\"\n",
    "            ]\n",
    "\n",
    "    #plot\n",
    "    fig = px.scatter(\n",
    "        plot_df,\n",
    "        x=\"Antibiotics\",\n",
    "        y=\"Log2(MIC-value)\",\n",
    "        hover_name=\"Isolate names\",\n",
    "        color=\"SIR\",\n",
    "        title=\"Isolate log2(MIC-values) for different antibiotics\",\n",
    "        range_y=[-11, 12],\n",
    "        hover_data={\n",
    "            \"Antibiotics\": False, \n",
    "            \"Log2(MIC-value)\": \":.0f\", \n",
    "            \"Scale\": True,\n",
    "            \"Pathogen\": True\n",
    "            },\n",
    "    )\n",
    "\n",
    "    # Changes the dot color depending on SIR category\n",
    "    def change_trace_color(trace):\n",
    "        if trace.name == \"Resistant\":\n",
    "            trace.update(marker_color=\"tomato\")\n",
    "        elif trace.name == \"Intermediate\":\n",
    "            trace.update(marker_color=\"gold\")\n",
    "        elif trace.name == \"Sensitive\":\n",
    "            trace.update(marker_color=\"limegreen\")\n",
    "        else:\n",
    "            raise ValueError(\"Not a valid trace\")\n",
    "        \n",
    "        # if trace.scale == False:\n",
    "        #     trace.update(marker_symbol=\"square\")\n",
    "\n",
    "    # Update dot color\n",
    "    fig.for_each_trace(change_trace_color)\n",
    "\n",
    "    # Modify x-ticks, y-ticks, legend and title\n",
    "    fig.update_layout(\n",
    "        xaxis=dict(tickmode=\"array\", tickvals=x_axis, ticktext=antibiotics),\n",
    "        yaxis=dict(\n",
    "            tickmode=\"array\",\n",
    "            tickvals=[i for i in range(-10, 12)],\n",
    "            ticktext=y_axis_ticktext,\n",
    "        ),\n",
    "        legend=dict(orientation=\"h\", yanchor=\"bottom\", y=1.02, xanchor=\"right\", x=1),\n",
    "        title_x=0.5,\n",
    "    )\n",
    "    \n",
    "    fig.show()"
   ]
  },
  {
   "cell_type": "code",
   "execution_count": 420,
   "metadata": {},
   "outputs": [
    {
     "data": {
      "application/vnd.plotly.v1+json": {
       "config": {
        "plotlyServerURL": "https://plot.ly"
       },
       "data": [
        {
         "customdata": [
          [
           true,
           "Staphylococcus aureus"
          ],
          [
           true,
           "Staphylococcus aureus"
          ],
          [
           true,
           "Staphylococcus aureus"
          ],
          [
           true,
           "Staphylococcus aureus"
          ],
          [
           true,
           "Staphylococcus aureus"
          ],
          [
           true,
           "Staphylococcus aureus"
          ],
          [
           true,
           "Staphylococcus aureus"
          ],
          [
           true,
           "Staphylococcus aureus"
          ],
          [
           true,
           "Staphylococcus aureus"
          ],
          [
           true,
           "Staphylococcus aureus"
          ],
          [
           true,
           "Staphylococcus aureus"
          ],
          [
           true,
           "Staphylococcus aureus"
          ],
          [
           true,
           "Staphylococcus aureus"
          ],
          [
           true,
           "Staphylococcus aureus"
          ],
          [
           true,
           "Staphylococcus aureus"
          ],
          [
           true,
           "Staphylococcus aureus"
          ],
          [
           true,
           "Staphylococcus aureus"
          ],
          [
           true,
           "Staphylococcus aureus"
          ],
          [
           true,
           "Staphylococcus aureus"
          ],
          [
           true,
           "Staphylococcus aureus"
          ],
          [
           true,
           "Staphylococcus aureus"
          ],
          [
           true,
           "Staphylococcus aureus"
          ],
          [
           true,
           "Staphylococcus aureus"
          ],
          [
           true,
           "Staphylococcus aureus"
          ],
          [
           true,
           "Staphylococcus aureus"
          ],
          [
           true,
           "Streptococcus mitis"
          ],
          [
           true,
           "Staphylococcus aureus"
          ],
          [
           true,
           "Streptococcus pneumoniae"
          ],
          [
           true,
           "Streptococcus pneumoniae"
          ],
          [
           true,
           "Streptococcus pneumoniae"
          ],
          [
           true,
           "Streptococcus salivarius"
          ],
          [
           true,
           "Staphylococcus aureus"
          ],
          [
           true,
           "Staphylococcus aureus"
          ],
          [
           true,
           "Staphylococcus aureus"
          ],
          [
           true,
           "Staphylococcus aureus"
          ],
          [
           true,
           "Staphylococcus aureus"
          ],
          [
           true,
           "Staphylococcus aureus"
          ],
          [
           true,
           "Staphylococcus aureus"
          ],
          [
           true,
           "Staphylococcus aureus"
          ],
          [
           true,
           "Staphylococcus aureus"
          ],
          [
           true,
           "Staphylococcus aureus"
          ],
          [
           true,
           "Staphylococcus aureus"
          ],
          [
           true,
           "Staphylococcus aureus"
          ],
          [
           true,
           "Staphylococcus aureus"
          ],
          [
           true,
           "Staphylococcus aureus"
          ],
          [
           true,
           "Staphylococcus aureus"
          ],
          [
           true,
           "Staphylococcus aureus"
          ],
          [
           true,
           "Staphylococcus aureus"
          ],
          [
           true,
           "Staphylococcus aureus"
          ],
          [
           true,
           "Streptococcus mitis"
          ],
          [
           true,
           "Staphylococcus lugdunensis"
          ],
          [
           true,
           "Staphylococcus lugdunensis"
          ],
          [
           true,
           "Streptococcus mitis"
          ],
          [
           true,
           "Streptococcus sanguinis"
          ],
          [
           true,
           "Streptococcus sanguinis"
          ],
          [
           true,
           "Staphylococcus aureus"
          ],
          [
           true,
           "Staphylococcus aureus"
          ],
          [
           true,
           "Staphylococcus aureus"
          ],
          [
           true,
           "Staphylococcus aureus"
          ],
          [
           true,
           "Staphylococcus aureus"
          ],
          [
           true,
           "Staphylococcus aureus"
          ],
          [
           true,
           "Staphylococcus aureus"
          ],
          [
           true,
           "Staphylococcus aureus"
          ],
          [
           true,
           "Staphylococcus aureus"
          ],
          [
           true,
           "Staphylococcus aureus"
          ],
          [
           true,
           "Staphylococcus aureus"
          ],
          [
           true,
           "Staphylococcus aureus"
          ],
          [
           true,
           "Staphylococcus aureus"
          ],
          [
           true,
           "Staphylococcus aureus"
          ],
          [
           true,
           "Staphylococcus aureus"
          ],
          [
           true,
           "Staphylococcus aureus"
          ],
          [
           true,
           "Staphylococcus aureus"
          ],
          [
           true,
           "Staphylococcus aureus"
          ],
          [
           true,
           "Staphylococcus aureus"
          ],
          [
           false,
           "Staphylococcus aureus"
          ],
          [
           true,
           "Staphylococcus lugdunensis"
          ],
          [
           true,
           "Staphylococcus lugdunensis"
          ],
          [
           true,
           "Staphylococcus lugdunensis"
          ],
          [
           true,
           "Staphylococcus aureus"
          ],
          [
           true,
           "Staphylococcus aureus"
          ],
          [
           true,
           "Staphylococcus aureus"
          ],
          [
           true,
           "Staphylococcus aureus"
          ],
          [
           true,
           "Staphylococcus aureus"
          ],
          [
           true,
           "Staphylococcus aureus"
          ],
          [
           true,
           "Staphylococcus aureus"
          ],
          [
           true,
           "Staphylococcus aureus"
          ],
          [
           true,
           "Staphylococcus aureus"
          ],
          [
           true,
           "Staphylococcus aureus"
          ],
          [
           true,
           "Staphylococcus aureus"
          ],
          [
           true,
           "Staphylococcus aureus"
          ],
          [
           true,
           "Staphylococcus aureus"
          ],
          [
           true,
           "Staphylococcus aureus"
          ],
          [
           true,
           "Staphylococcus aureus"
          ],
          [
           true,
           "Staphylococcus aureus"
          ],
          [
           true,
           "Staphylococcus aureus"
          ],
          [
           true,
           "Staphylococcus aureus"
          ],
          [
           true,
           "Staphylococcus aureus"
          ],
          [
           true,
           "Staphylococcus aureus"
          ],
          [
           false,
           "Staphylococcus aureus"
          ],
          [
           true,
           "Staphylococcus aureus"
          ],
          [
           true,
           "Staphylococcus aureus"
          ],
          [
           true,
           "Staphylococcus aureus"
          ],
          [
           true,
           "Staphylococcus aureus"
          ],
          [
           true,
           "Staphylococcus aureus"
          ],
          [
           true,
           "Staphylococcus aureus"
          ],
          [
           true,
           "Staphylococcus aureus"
          ],
          [
           true,
           "Staphylococcus aureus"
          ],
          [
           true,
           "Staphylococcus aureus"
          ],
          [
           true,
           "Staphylococcus aureus"
          ],
          [
           true,
           "Staphylococcus aureus"
          ],
          [
           true,
           "Staphylococcus aureus"
          ],
          [
           true,
           "Staphylococcus aureus"
          ],
          [
           true,
           "Staphylococcus aureus"
          ],
          [
           true,
           "Staphylococcus aureus"
          ],
          [
           true,
           "Staphylococcus aureus"
          ],
          [
           true,
           "Staphylococcus aureus"
          ],
          [
           true,
           "Streptococcus pneumoniae"
          ],
          [
           true,
           "Streptococcus pneumoniae"
          ],
          [
           true,
           "Streptococcus pneumoniae"
          ],
          [
           false,
           "Streptococcus pneumoniae"
          ],
          [
           false,
           "Streptococcus salivarius"
          ],
          [
           true,
           "Staphylococcus aureus"
          ],
          [
           true,
           "Staphylococcus aureus"
          ],
          [
           true,
           "Staphylococcus aureus"
          ],
          [
           true,
           "Staphylococcus aureus"
          ],
          [
           false,
           "Enterococcus faecium"
          ],
          [
           false,
           "Enterococcus faecium"
          ],
          [
           false,
           "Enterococcus faecium"
          ],
          [
           false,
           "Enterococcus faecium"
          ],
          [
           true,
           "Enterococcus faecium"
          ],
          [
           false,
           "Enterococcus faecium"
          ],
          [
           false,
           "Enterococcus faecium"
          ],
          [
           true,
           "Enterococcus faecium"
          ],
          [
           true,
           "Enterococcus faecalis"
          ],
          [
           false,
           "Enterococcus faecium"
          ],
          [
           false,
           "Enterococcus faecium"
          ],
          [
           false,
           "Enterococcus faecium"
          ],
          [
           false,
           "Enterococcus faecium"
          ],
          [
           false,
           "Streptococcus mitis"
          ],
          [
           true,
           "Streptococcus sanguinis"
          ],
          [
           true,
           "Streptococcus salivarius"
          ],
          [
           true,
           "Enterococcus faecium"
          ],
          [
           false,
           "Enterococcus faecium"
          ],
          [
           false,
           "Enterococcus faecium"
          ],
          [
           false,
           "Enterococcus faecium"
          ],
          [
           false,
           "Enterococcus faecium"
          ],
          [
           false,
           "Enterococcus faecium"
          ],
          [
           false,
           "Enterococcus faecium"
          ],
          [
           true,
           "Enterococcus faecium"
          ],
          [
           false,
           "Enterococcus faecium"
          ],
          [
           false,
           "Enterococcus faecium"
          ],
          [
           false,
           "Enterococcus faecium"
          ],
          [
           false,
           "Enterococcus faecium"
          ],
          [
           false,
           "Enterococcus faecium"
          ],
          [
           false,
           "Enterococcus faecium"
          ],
          [
           false,
           "Enterococcus faecium"
          ],
          [
           false,
           "Enterococcus faecium"
          ],
          [
           false,
           "Enterococcus faecium"
          ],
          [
           false,
           "Enterococcus faecium"
          ],
          [
           false,
           "Enterococcus faecium"
          ],
          [
           true,
           "Streptococcus mitis"
          ],
          [
           true,
           "Streptococcus sanguinis"
          ],
          [
           true,
           "Streptococcus mitis"
          ],
          [
           true,
           "Streptococcus anginosus"
          ],
          [
           false,
           "Enterococcus faecium"
          ],
          [
           false,
           "Enterococcus faecium"
          ],
          [
           false,
           "Enterococcus faecium"
          ],
          [
           false,
           "Enterococcus faecium"
          ],
          [
           false,
           "Enterococcus faecium"
          ],
          [
           false,
           "Enterococcus faecium"
          ],
          [
           false,
           "Enterococcus faecium"
          ],
          [
           false,
           "Enterococcus faecium"
          ],
          [
           false,
           "Enterococcus faecium"
          ],
          [
           true,
           "Streptococcus sanguinis"
          ],
          [
           true,
           "Streptococcus mitis"
          ],
          [
           false,
           "Streptococcus sanguinis"
          ],
          [
           true,
           "Streptococcus sanguinis"
          ],
          [
           false,
           "Enterococcus faecium"
          ],
          [
           false,
           "Enterococcus faecium"
          ],
          [
           true,
           "Streptococcus salivarius"
          ],
          [
           true,
           "Streptococcus salivarius"
          ],
          [
           false,
           "Enterococcus faecalis"
          ],
          [
           true,
           "Staphylococcus aureus"
          ],
          [
           true,
           "Staphylococcus aureus"
          ],
          [
           true,
           "Streptococcus mitis"
          ],
          [
           true,
           "Streptococcus mitis"
          ],
          [
           true,
           "Streptococcus mitis"
          ],
          [
           true,
           "Streptococcus mitis"
          ],
          [
           true,
           "Streptococcus mitis"
          ],
          [
           true,
           "Streptococcus sanguinis"
          ],
          [
           true,
           "Streptococcus sanguinis"
          ],
          [
           true,
           "Streptococcus sanguinis"
          ],
          [
           true,
           "Streptococcus pneumoniae"
          ],
          [
           true,
           "Streptococcus salivarius"
          ],
          [
           true,
           "Streptococcus salivarius"
          ],
          [
           true,
           "Streptococcus salivarius"
          ],
          [
           true,
           "Enterococcus faecalis"
          ],
          [
           false,
           "Enterococcus faecium"
          ],
          [
           true,
           "Enterococcus faecium"
          ],
          [
           false,
           "Enterococcus faecium"
          ],
          [
           false,
           "Enterococcus faecium"
          ],
          [
           false,
           "Enterococcus faecium"
          ],
          [
           false,
           "Enterococcus faecium"
          ],
          [
           false,
           "Enterococcus faecium"
          ],
          [
           false,
           "Enterococcus faecium"
          ],
          [
           false,
           "Enterococcus faecium"
          ],
          [
           false,
           "Enterococcus faecalis"
          ],
          [
           false,
           "Enterococcus faecium"
          ],
          [
           false,
           "Enterococcus faecium"
          ],
          [
           false,
           "Enterococcus faecium"
          ],
          [
           false,
           "Enterococcus faecium"
          ],
          [
           false,
           "Enterococcus faecium"
          ],
          [
           false,
           "Enterococcus faecium"
          ],
          [
           false,
           "Enterococcus faecium"
          ],
          [
           false,
           "Enterococcus faecium"
          ],
          [
           false,
           "Enterococcus faecium"
          ],
          [
           false,
           "Enterococcus faecium"
          ],
          [
           false,
           "Enterococcus faecium"
          ],
          [
           false,
           "Enterococcus faecium"
          ],
          [
           false,
           "Enterococcus faecium"
          ],
          [
           false,
           "Enterococcus faecium"
          ],
          [
           false,
           "Enterococcus faecium"
          ],
          [
           false,
           "Enterococcus faecium"
          ],
          [
           false,
           "Enterococcus faecium"
          ],
          [
           false,
           "Enterococcus faecium"
          ],
          [
           false,
           "Enterococcus faecium"
          ],
          [
           false,
           "Enterococcus faecium"
          ],
          [
           false,
           "Enterococcus faecium"
          ],
          [
           false,
           "Enterococcus faecium"
          ],
          [
           false,
           "Enterococcus faecium"
          ],
          [
           false,
           "Enterococcus faecium"
          ],
          [
           false,
           "Enterococcus faecium"
          ],
          [
           false,
           "Enterococcus faecium"
          ],
          [
           false,
           "Enterococcus faecium"
          ],
          [
           false,
           "Enterococcus faecium"
          ],
          [
           false,
           "Enterococcus faecium"
          ],
          [
           false,
           "Enterococcus faecium"
          ],
          [
           false,
           "Enterococcus faecium"
          ],
          [
           false,
           "Enterococcus faecium"
          ],
          [
           true,
           "Enterococcus faecium"
          ],
          [
           false,
           "Enterococcus faecium"
          ],
          [
           false,
           "Enterococcus faecium"
          ],
          [
           false,
           "Enterococcus faecalis"
          ],
          [
           true,
           "Streptococcus mitis"
          ],
          [
           true,
           "Staphylococcus aureus"
          ],
          [
           true,
           "Staphylococcus aureus"
          ],
          [
           false,
           "Staphylococcus aureus"
          ],
          [
           false,
           "Staphylococcus aureus"
          ],
          [
           false,
           "Staphylococcus aureus"
          ],
          [
           false,
           "Staphylococcus aureus"
          ],
          [
           false,
           "Staphylococcus aureus"
          ],
          [
           false,
           "Staphylococcus aureus"
          ],
          [
           false,
           "Staphylococcus aureus"
          ],
          [
           false,
           "Staphylococcus aureus"
          ],
          [
           false,
           "Staphylococcus aureus"
          ],
          [
           false,
           "Staphylococcus aureus"
          ],
          [
           false,
           "Staphylococcus aureus"
          ],
          [
           false,
           "Staphylococcus aureus"
          ],
          [
           false,
           "Staphylococcus aureus"
          ],
          [
           false,
           "Staphylococcus aureus"
          ],
          [
           false,
           "Staphylococcus aureus"
          ],
          [
           false,
           "Staphylococcus aureus"
          ],
          [
           false,
           "Staphylococcus aureus"
          ],
          [
           false,
           "Staphylococcus aureus"
          ],
          [
           false,
           "Staphylococcus aureus"
          ],
          [
           false,
           "Staphylococcus aureus"
          ],
          [
           true,
           "Staphylococcus aureus"
          ],
          [
           true,
           "Staphylococcus aureus"
          ],
          [
           true,
           "Staphylococcus aureus"
          ],
          [
           false,
           "Staphylococcus aureus"
          ],
          [
           false,
           "Staphylococcus epidermidis"
          ],
          [
           false,
           "Staphylococcus epidermidis"
          ],
          [
           true,
           "Staphylococcus capitis"
          ],
          [
           false,
           "Staphylococcus capitis"
          ],
          [
           false,
           "Staphylococcus capitis"
          ],
          [
           false,
           "Staphylococcus epidermidis"
          ],
          [
           false,
           "Staphylococcus epidermidis"
          ],
          [
           true,
           "Staphylococcus epidermidis"
          ],
          [
           true,
           "Staphylococcus epidermidis"
          ],
          [
           true,
           "Staphylococcus epidermidis"
          ],
          [
           false,
           "Staphylococcus epidermidis"
          ],
          [
           false,
           "Staphylococcus epidermidis"
          ],
          [
           true,
           "Staphylococcus epidermidis"
          ],
          [
           true,
           "Staphylococcus epidermidis"
          ],
          [
           true,
           "Staphylococcus epidermidis"
          ],
          [
           false,
           "Staphylococcus epidermidis"
          ],
          [
           true,
           "Staphylococcus epidermidis"
          ],
          [
           true,
           "Staphylococcus epidermidis"
          ],
          [
           true,
           "Staphylococcus epidermidis"
          ],
          [
           false,
           "Staphylococcus epidermidis"
          ],
          [
           true,
           "Staphylococcus epidermidis"
          ],
          [
           false,
           "Staphylococcus epidermidis"
          ],
          [
           true,
           "Staphylococcus epidermidis"
          ],
          [
           false,
           "Staphylococcus epidermidis"
          ],
          [
           true,
           "Staphylococcus epidermidis"
          ],
          [
           false,
           "Staphylococcus aureus"
          ],
          [
           true,
           "Staphylococcus epidermidis"
          ],
          [
           false,
           "Staphylococcus epidermidis"
          ],
          [
           true,
           "Staphylococcus epidermidis"
          ],
          [
           false,
           "Staphylococcus epidermidis"
          ],
          [
           false,
           "Staphylococcus epidermidis"
          ],
          [
           true,
           "Staphylococcus epidermidis"
          ],
          [
           false,
           "Staphylococcus epidermidis"
          ],
          [
           true,
           "Staphylococcus epidermidis"
          ],
          [
           true,
           "Staphylococcus epidermidis"
          ],
          [
           true,
           "Staphylococcus epidermidis"
          ],
          [
           false,
           "Staphylococcus hominis"
          ],
          [
           false,
           "Staphylococcus hominis"
          ],
          [
           false,
           "Staphylococcus hominis"
          ],
          [
           false,
           "Staphylococcus hominis"
          ],
          [
           true,
           "Staphylococcus aureus"
          ],
          [
           false,
           "Staphylococcus aureus"
          ],
          [
           false,
           "Staphylococcus aureus"
          ],
          [
           false,
           "Staphylococcus aureus"
          ],
          [
           true,
           "Staphylococcus capitis"
          ],
          [
           true,
           "Staphylococcus capitis"
          ],
          [
           true,
           "Staphylococcus hominis"
          ],
          [
           false,
           "Staphylococcus hominis"
          ],
          [
           true,
           "Staphylococcus hominis"
          ],
          [
           false,
           "Staphylococcus hominis"
          ],
          [
           false,
           "Staphylococcus hominis"
          ],
          [
           false,
           "Staphylococcus hominis"
          ],
          [
           false,
           "Staphylococcus hominis"
          ],
          [
           false,
           "Staphylococcus hominis"
          ],
          [
           false,
           "Staphylococcus hominis"
          ],
          [
           false,
           "Staphylococcus hominis"
          ],
          [
           true,
           "Staphylococcus aureus"
          ],
          [
           false,
           "Staphylococcus aureus"
          ],
          [
           false,
           "Staphylococcus aureus"
          ],
          [
           false,
           "Staphylococcus aureus"
          ],
          [
           true,
           "Staphylococcus aureus"
          ],
          [
           true,
           "Staphylococcus aureus"
          ],
          [
           false,
           "Staphylococcus aureus"
          ],
          [
           false,
           "Staphylococcus aureus"
          ],
          [
           false,
           "Staphylococcus aureus"
          ],
          [
           false,
           "Staphylococcus aureus"
          ],
          [
           false,
           "Staphylococcus aureus"
          ],
          [
           false,
           "Staphylococcus aureus"
          ],
          [
           false,
           "Staphylococcus aureus"
          ],
          [
           true,
           "Staphylococcus aureus"
          ],
          [
           true,
           "Staphylococcus capitis"
          ],
          [
           false,
           "Staphylococcus epidermidis"
          ],
          [
           false,
           "Staphylococcus epidermidis"
          ],
          [
           false,
           "Staphylococcus epidermidis"
          ],
          [
           false,
           "Staphylococcus epidermidis"
          ],
          [
           false,
           "Staphylococcus epidermidis"
          ],
          [
           true,
           "Staphylococcus epidermidis"
          ],
          [
           false,
           "Staphylococcus aureus"
          ],
          [
           false,
           "Staphylococcus aureus"
          ],
          [
           false,
           "Staphylococcus aureus"
          ],
          [
           true,
           "Staphylococcus aureus"
          ],
          [
           false,
           "Staphylococcus aureus"
          ],
          [
           false,
           "Staphylococcus aureus"
          ],
          [
           false,
           "Staphylococcus aureus"
          ],
          [
           false,
           "Staphylococcus aureus"
          ],
          [
           false,
           "Staphylococcus aureus"
          ],
          [
           false,
           "Staphylococcus aureus"
          ],
          [
           false,
           "Staphylococcus aureus"
          ],
          [
           true,
           "Staphylococcus aureus"
          ],
          [
           true,
           "Staphylococcus aureus"
          ],
          [
           true,
           "Staphylococcus aureus"
          ],
          [
           false,
           "Staphylococcus aureus"
          ],
          [
           false,
           "Staphylococcus aureus"
          ],
          [
           false,
           "Staphylococcus aureus"
          ],
          [
           true,
           "Staphylococcus aureus"
          ],
          [
           true,
           "Staphylococcus aureus"
          ],
          [
           false,
           "Staphylococcus aureus"
          ],
          [
           false,
           "Staphylococcus aureus"
          ],
          [
           true,
           "Staphylococcus aureus"
          ],
          [
           true,
           "Staphylococcus aureus"
          ],
          [
           true,
           "Staphylococcus aureus"
          ],
          [
           true,
           "Staphylococcus aureus"
          ],
          [
           false,
           "Staphylococcus aureus"
          ],
          [
           true,
           "Staphylococcus aureus"
          ],
          [
           true,
           "Staphylococcus aureus"
          ],
          [
           true,
           "Staphylococcus aureus"
          ],
          [
           true,
           "Staphylococcus aureus"
          ],
          [
           true,
           "Staphylococcus aureus"
          ],
          [
           false,
           "Staphylococcus aureus"
          ],
          [
           false,
           "Staphylococcus aureus"
          ],
          [
           false,
           "Staphylococcus aureus"
          ],
          [
           true,
           "Staphylococcus aureus"
          ],
          [
           true,
           "Staphylococcus aureus"
          ],
          [
           true,
           "Staphylococcus aureus"
          ],
          [
           true,
           "Staphylococcus aureus"
          ],
          [
           true,
           "Staphylococcus aureus"
          ],
          [
           false,
           "Staphylococcus epidermidis"
          ],
          [
           false,
           "Staphylococcus epidermidis"
          ],
          [
           false,
           "Staphylococcus epidermidis"
          ],
          [
           false,
           "Staphylococcus epidermidis"
          ],
          [
           true,
           "Staphylococcus epidermidis"
          ],
          [
           false,
           "Staphylococcus aureus"
          ],
          [
           false,
           "Staphylococcus aureus"
          ],
          [
           false,
           "Staphylococcus aureus"
          ],
          [
           true,
           "Streptococcus agalactiae"
          ],
          [
           true,
           "Streptococcus agalactiae"
          ],
          [
           true,
           "Streptococcus pneumoniae"
          ],
          [
           true,
           "Staphylococcus aureus"
          ],
          [
           true,
           "Staphylococcus aureus"
          ],
          [
           true,
           "Staphylococcus aureus"
          ],
          [
           true,
           "Staphylococcus aureus"
          ],
          [
           true,
           "Staphylococcus aureus"
          ],
          [
           true,
           "Staphylococcus aureus"
          ],
          [
           true,
           "Staphylococcus aureus"
          ],
          [
           true,
           "Staphylococcus aureus"
          ],
          [
           true,
           "Staphylococcus aureus"
          ],
          [
           true,
           "Staphylococcus aureus"
          ],
          [
           true,
           "Staphylococcus aureus"
          ],
          [
           true,
           "Staphylococcus aureus"
          ],
          [
           true,
           "Staphylococcus aureus"
          ],
          [
           true,
           "Staphylococcus aureus"
          ],
          [
           true,
           "Staphylococcus aureus"
          ],
          [
           true,
           "Staphylococcus aureus"
          ],
          [
           true,
           "Staphylococcus aureus"
          ],
          [
           true,
           "Staphylococcus aureus"
          ],
          [
           true,
           "Staphylococcus aureus"
          ],
          [
           true,
           "Staphylococcus aureus"
          ],
          [
           false,
           "Enterococcus faecium"
          ],
          [
           true,
           "Enterococcus faecalis"
          ],
          [
           false,
           "Enterococcus faecium"
          ],
          [
           false,
           "Enterococcus faecalis"
          ],
          [
           false,
           "Enterococcus faecium"
          ],
          [
           false,
           "Enterococcus faecium"
          ],
          [
           true,
           "Staphylococcus aureus"
          ],
          [
           true,
           "Staphylococcus aureus"
          ],
          [
           false,
           "Enterococcus faecium"
          ],
          [
           false,
           "Enterococcus faecium"
          ],
          [
           true,
           "Staphylococcus epidermidis"
          ],
          [
           true,
           "Staphylococcus epidermidis"
          ],
          [
           false,
           "Enterococcus faecalis"
          ],
          [
           true,
           "Staphylococcus hominis"
          ],
          [
           false,
           "Streptococcus salivarius"
          ],
          [
           true,
           "Enterococcus faecium"
          ],
          [
           false,
           "Enterococcus faecium"
          ],
          [
           true,
           "Enterococcus faecium"
          ],
          [
           true,
           "Enterococcus faecium"
          ],
          [
           true,
           "Enterococcus faecium"
          ],
          [
           true,
           "Enterococcus faecium"
          ],
          [
           false,
           "Enterococcus faecium"
          ],
          [
           false,
           "Enterococcus faecium"
          ],
          [
           false,
           "Enterococcus faecium"
          ],
          [
           false,
           "Enterococcus faecium"
          ],
          [
           false,
           "Enterococcus faecium"
          ],
          [
           false,
           "Enterococcus faecium"
          ],
          [
           true,
           "Enterococcus faecium"
          ],
          [
           false,
           "Enterococcus faecium"
          ],
          [
           true,
           "Staphylococcus aureus"
          ],
          [
           true,
           "Staphylococcus aureus"
          ],
          [
           true,
           "Staphylococcus aureus"
          ],
          [
           true,
           "Staphylococcus aureus"
          ],
          [
           true,
           "Staphylococcus aureus"
          ],
          [
           true,
           "Staphylococcus aureus"
          ],
          [
           true,
           "Staphylococcus aureus"
          ],
          [
           true,
           "Staphylococcus aureus"
          ],
          [
           true,
           "Staphylococcus aureus"
          ],
          [
           true,
           "Staphylococcus aureus"
          ],
          [
           true,
           "Staphylococcus aureus"
          ],
          [
           true,
           "Staphylococcus aureus"
          ],
          [
           true,
           "Staphylococcus aureus"
          ],
          [
           false,
           "Enterococcus faecium"
          ],
          [
           false,
           "Enterococcus faecium"
          ],
          [
           true,
           "Staphylococcus epidermidis"
          ],
          [
           true,
           "Staphylococcus epidermidis"
          ],
          [
           false,
           "Streptococcus pneumoniae"
          ],
          [
           false,
           "Enterococcus faecalis"
          ],
          [
           false,
           "Enterococcus faecalis"
          ],
          [
           false,
           "Enterococcus faecalis"
          ],
          [
           false,
           "Enterococcus faecium"
          ],
          [
           false,
           "Enterococcus faecalis"
          ],
          [
           false,
           "Enterococcus faecium"
          ],
          [
           false,
           "Enterococcus faecalis"
          ],
          [
           true,
           "Enterococcus faecium"
          ],
          [
           false,
           "Enterococcus faecium"
          ],
          [
           false,
           "Enterococcus faecium"
          ],
          [
           true,
           "Staphylococcus aureus"
          ],
          [
           true,
           "Staphylococcus aureus"
          ],
          [
           false,
           "Enterococcus faecium"
          ],
          [
           false,
           "Enterococcus faecium"
          ],
          [
           true,
           "Enterococcus faecalis"
          ],
          [
           false,
           "Enterococcus faecium"
          ],
          [
           true,
           "Enterococcus faecium"
          ],
          [
           false,
           "Enterococcus faecalis"
          ],
          [
           false,
           "Streptococcus salivarius"
          ],
          [
           false,
           "Enterococcus faecium"
          ],
          [
           true,
           "Enterococcus faecium"
          ],
          [
           false,
           "Enterococcus faecium"
          ],
          [
           true,
           "Enterococcus faecium"
          ],
          [
           true,
           "Enterococcus faecium"
          ],
          [
           true,
           "Enterococcus faecium"
          ],
          [
           true,
           "Enterococcus faecium"
          ],
          [
           false,
           "Enterococcus faecium"
          ],
          [
           true,
           "Enterococcus faecium"
          ],
          [
           false,
           "Enterococcus faecium"
          ],
          [
           false,
           "Enterococcus faecium"
          ],
          [
           false,
           "Enterococcus faecium"
          ],
          [
           false,
           "Enterococcus faecium"
          ],
          [
           false,
           "Enterococcus faecium"
          ],
          [
           false,
           "Enterococcus faecium"
          ],
          [
           false,
           "Enterococcus faecium"
          ],
          [
           false,
           "Enterococcus faecium"
          ],
          [
           false,
           "Enterococcus faecium"
          ],
          [
           false,
           "Enterococcus faecium"
          ],
          [
           false,
           "Enterococcus faecium"
          ],
          [
           false,
           "Enterococcus faecium"
          ],
          [
           false,
           "Enterococcus faecium"
          ],
          [
           false,
           "Enterococcus faecium"
          ],
          [
           false,
           "Enterococcus faecium"
          ],
          [
           false,
           "Enterococcus faecium"
          ],
          [
           false,
           "Enterococcus faecium"
          ],
          [
           true,
           "Staphylococcus aureus"
          ],
          [
           true,
           "Staphylococcus aureus"
          ],
          [
           true,
           "Staphylococcus aureus"
          ],
          [
           true,
           "Staphylococcus aureus"
          ],
          [
           true,
           "Staphylococcus aureus"
          ],
          [
           true,
           "Staphylococcus aureus"
          ],
          [
           true,
           "Staphylococcus aureus"
          ],
          [
           true,
           "Staphylococcus aureus"
          ],
          [
           true,
           "Staphylococcus aureus"
          ],
          [
           true,
           "Staphylococcus aureus"
          ],
          [
           true,
           "Staphylococcus aureus"
          ],
          [
           true,
           "Staphylococcus aureus"
          ],
          [
           true,
           "Staphylococcus aureus"
          ],
          [
           true,
           "Staphylococcus aureus"
          ],
          [
           true,
           "Staphylococcus aureus"
          ],
          [
           true,
           "Staphylococcus aureus"
          ],
          [
           true,
           "Staphylococcus aureus"
          ],
          [
           false,
           "Enterococcus faecium"
          ],
          [
           false,
           "Enterococcus faecium"
          ],
          [
           false,
           "Streptococcus pneumoniae"
          ],
          [
           false,
           "Enterococcus faecalis"
          ],
          [
           false,
           "Staphylococcus aureus"
          ],
          [
           false,
           "Staphylococcus aureus"
          ],
          [
           false,
           "Staphylococcus aureus"
          ],
          [
           false,
           "Staphylococcus aureus"
          ],
          [
           false,
           "Staphylococcus aureus"
          ],
          [
           false,
           "Staphylococcus aureus"
          ],
          [
           false,
           "Staphylococcus aureus"
          ],
          [
           false,
           "Staphylococcus aureus"
          ],
          [
           false,
           "Staphylococcus aureus"
          ],
          [
           false,
           "Staphylococcus aureus"
          ],
          [
           false,
           "Staphylococcus aureus"
          ],
          [
           false,
           "Staphylococcus aureus"
          ],
          [
           false,
           "Staphylococcus aureus"
          ],
          [
           false,
           "Staphylococcus aureus"
          ],
          [
           true,
           "Staphylococcus aureus"
          ],
          [
           false,
           "Streptococcus agalactiae"
          ],
          [
           false,
           "Streptococcus agalactiae"
          ],
          [
           false,
           "Streptococcus agalactiae"
          ],
          [
           false,
           "Streptococcus agalactiae"
          ],
          [
           false,
           "Streptococcus agalactiae"
          ],
          [
           false,
           "Streptococcus agalactiae"
          ],
          [
           false,
           "Streptococcus agalactiae"
          ],
          [
           false,
           "Streptococcus agalactiae"
          ],
          [
           false,
           "Streptococcus agalactiae"
          ],
          [
           false,
           "Streptococcus agalactiae"
          ],
          [
           false,
           "Streptococcus agalactiae"
          ],
          [
           false,
           "Staphylococcus epidermidis"
          ],
          [
           false,
           "Staphylococcus epidermidis"
          ],
          [
           false,
           "Staphylococcus capitis"
          ],
          [
           false,
           "Staphylococcus capitis"
          ],
          [
           false,
           "Staphylococcus capitis"
          ],
          [
           false,
           "Staphylococcus capitis"
          ],
          [
           false,
           "Staphylococcus capitis"
          ],
          [
           false,
           "Staphylococcus capitis"
          ],
          [
           false,
           "Staphylococcus epidermidis"
          ],
          [
           false,
           "Staphylococcus epidermidis"
          ],
          [
           false,
           "Staphylococcus epidermidis"
          ],
          [
           false,
           "Staphylococcus epidermidis"
          ],
          [
           false,
           "Staphylococcus epidermidis"
          ],
          [
           false,
           "Streptococcus agalactiae"
          ],
          [
           false,
           "Streptococcus agalactiae"
          ],
          [
           false,
           "Streptococcus agalactiae"
          ],
          [
           false,
           "Streptococcus agalactiae"
          ],
          [
           false,
           "Staphylococcus epidermidis"
          ],
          [
           false,
           "Staphylococcus epidermidis"
          ],
          [
           false,
           "Staphylococcus epidermidis"
          ],
          [
           false,
           "Staphylococcus epidermidis"
          ],
          [
           true,
           "Staphylococcus epidermidis"
          ],
          [
           false,
           "Staphylococcus epidermidis"
          ],
          [
           false,
           "Staphylococcus epidermidis"
          ],
          [
           false,
           "Staphylococcus epidermidis"
          ],
          [
           false,
           "Staphylococcus epidermidis"
          ],
          [
           false,
           "Staphylococcus epidermidis"
          ],
          [
           false,
           "Staphylococcus epidermidis"
          ],
          [
           false,
           "Staphylococcus epidermidis"
          ],
          [
           false,
           "Staphylococcus epidermidis"
          ],
          [
           false,
           "Staphylococcus epidermidis"
          ],
          [
           false,
           "Staphylococcus epidermidis"
          ],
          [
           false,
           "Staphylococcus epidermidis"
          ],
          [
           false,
           "Staphylococcus epidermidis"
          ],
          [
           false,
           "Staphylococcus epidermidis"
          ],
          [
           false,
           "Staphylococcus epidermidis"
          ],
          [
           false,
           "Staphylococcus epidermidis"
          ],
          [
           false,
           "Staphylococcus epidermidis"
          ],
          [
           false,
           "Staphylococcus epidermidis"
          ],
          [
           false,
           "Staphylococcus aureus"
          ],
          [
           false,
           "Staphylococcus aureus"
          ],
          [
           false,
           "Staphylococcus epidermidis"
          ],
          [
           false,
           "Staphylococcus epidermidis"
          ],
          [
           false,
           "Staphylococcus epidermidis"
          ],
          [
           false,
           "Staphylococcus epidermidis"
          ],
          [
           false,
           "Staphylococcus epidermidis"
          ],
          [
           false,
           "Staphylococcus epidermidis"
          ],
          [
           false,
           "Staphylococcus epidermidis"
          ],
          [
           false,
           "Staphylococcus epidermidis"
          ],
          [
           false,
           "Staphylococcus epidermidis"
          ],
          [
           false,
           "Staphylococcus epidermidis"
          ],
          [
           false,
           "Staphylococcus hominis"
          ],
          [
           false,
           "Staphylococcus epidermidis"
          ],
          [
           false,
           "Staphylococcus hominis"
          ],
          [
           true,
           "Staphylococcus hominis"
          ],
          [
           false,
           "Staphylococcus hominis"
          ],
          [
           false,
           "Staphylococcus hominis"
          ],
          [
           false,
           "Staphylococcus hominis"
          ],
          [
           false,
           "Staphylococcus hominis"
          ],
          [
           false,
           "Staphylococcus hominis"
          ],
          [
           false,
           "Staphylococcus hominis"
          ],
          [
           false,
           "Staphylococcus hominis"
          ],
          [
           false,
           "Staphylococcus hominis"
          ],
          [
           false,
           "Streptococcus pneumoniae"
          ],
          [
           false,
           "Streptococcus pneumoniae"
          ],
          [
           false,
           "Streptococcus pneumoniae"
          ],
          [
           false,
           "Streptococcus pneumoniae"
          ],
          [
           true,
           "Streptococcus pneumoniae"
          ],
          [
           false,
           "Streptococcus pneumoniae"
          ],
          [
           false,
           "Streptococcus pneumoniae"
          ],
          [
           false,
           "Streptococcus pneumoniae"
          ],
          [
           false,
           "Streptococcus pyogenes"
          ],
          [
           false,
           "Streptococcus pyogenes"
          ],
          [
           false,
           "Streptococcus pyogenes"
          ],
          [
           false,
           "Streptococcus pneumoniae"
          ],
          [
           false,
           "Streptococcus pyogenes"
          ],
          [
           true,
           "Streptococcus pyogenes"
          ],
          [
           false,
           "Streptococcus pyogenes"
          ],
          [
           false,
           "Streptococcus pyogenes"
          ],
          [
           false,
           "Streptococcus pyogenes"
          ],
          [
           false,
           "Streptococcus pyogenes"
          ],
          [
           false,
           "Staphylococcus hominis"
          ],
          [
           false,
           "Staphylococcus hominis"
          ],
          [
           false,
           "Staphylococcus hominis"
          ],
          [
           true,
           "Staphylococcus hominis"
          ],
          [
           false,
           "Staphylococcus hominis"
          ],
          [
           false,
           "Staphylococcus hominis"
          ],
          [
           false,
           "Staphylococcus hominis"
          ],
          [
           false,
           "Staphylococcus aureus"
          ],
          [
           false,
           "Staphylococcus aureus"
          ],
          [
           false,
           "Staphylococcus aureus"
          ],
          [
           false,
           "Staphylococcus aureus"
          ],
          [
           false,
           "Staphylococcus aureus"
          ],
          [
           false,
           "Staphylococcus aureus"
          ],
          [
           false,
           "Staphylococcus aureus"
          ],
          [
           false,
           "Staphylococcus aureus"
          ],
          [
           false,
           "Staphylococcus aureus"
          ],
          [
           true,
           "Staphylococcus aureus"
          ],
          [
           false,
           "Staphylococcus aureus"
          ],
          [
           false,
           "Staphylococcus aureus"
          ],
          [
           false,
           "Staphylococcus aureus"
          ],
          [
           false,
           "Staphylococcus aureus"
          ],
          [
           false,
           "Staphylococcus aureus"
          ],
          [
           false,
           "Staphylococcus aureus"
          ],
          [
           false,
           "Staphylococcus aureus"
          ],
          [
           false,
           "Staphylococcus capitis"
          ],
          [
           true,
           "Streptococcus pneumoniae"
          ],
          [
           false,
           "Streptococcus agalactiae"
          ],
          [
           false,
           "Streptococcus pneumoniae"
          ],
          [
           false,
           "Staphylococcus hominis"
          ],
          [
           false,
           "Staphylococcus hominis"
          ],
          [
           false,
           "Staphylococcus hominis"
          ],
          [
           false,
           "Staphylococcus hominis"
          ],
          [
           false,
           "Staphylococcus hominis"
          ],
          [
           false,
           "Staphylococcus hominis"
          ],
          [
           false,
           "Streptococcus agalactiae"
          ],
          [
           false,
           "Staphylococcus hominis"
          ],
          [
           false,
           "Staphylococcus hominis"
          ],
          [
           false,
           "Staphylococcus hominis"
          ],
          [
           false,
           "Staphylococcus lugdunensis"
          ],
          [
           false,
           "Staphylococcus lugdunensis"
          ],
          [
           false,
           "Streptococcus agalactiae"
          ],
          [
           false,
           "Streptococcus agalactiae"
          ],
          [
           false,
           "Streptococcus agalactiae"
          ],
          [
           false,
           "Streptococcus agalactiae"
          ],
          [
           false,
           "Streptococcus agalactiae"
          ],
          [
           true,
           "Streptococcus agalactiae"
          ],
          [
           false,
           "Streptococcus agalactiae"
          ],
          [
           false,
           "Streptococcus agalactiae"
          ],
          [
           false,
           "Streptococcus pneumoniae"
          ],
          [
           false,
           "Streptococcus pneumoniae"
          ],
          [
           false,
           "Streptococcus pneumoniae"
          ],
          [
           false,
           "Streptococcus pneumoniae"
          ],
          [
           false,
           "Streptococcus pneumoniae"
          ],
          [
           false,
           "Streptococcus pneumoniae"
          ],
          [
           false,
           "Streptococcus pneumoniae"
          ],
          [
           false,
           "Streptococcus pneumoniae"
          ],
          [
           true,
           "Staphylococcus hominis"
          ],
          [
           true,
           "Staphylococcus hominis"
          ],
          [
           false,
           "Staphylococcus hominis"
          ],
          [
           false,
           "Staphylococcus hominis"
          ],
          [
           false,
           "Staphylococcus hominis"
          ],
          [
           false,
           "Streptococcus agalactiae"
          ],
          [
           false,
           "Streptococcus pneumoniae"
          ],
          [
           false,
           "Streptococcus pyogenes"
          ],
          [
           false,
           "Streptococcus pyogenes"
          ],
          [
           false,
           "Streptococcus pyogenes"
          ],
          [
           false,
           "Streptococcus pyogenes"
          ],
          [
           false,
           "Streptococcus pyogenes"
          ],
          [
           false,
           "Streptococcus pyogenes"
          ],
          [
           false,
           "Streptococcus pyogenes"
          ],
          [
           false,
           "Streptococcus pyogenes"
          ],
          [
           false,
           "Streptococcus pyogenes"
          ],
          [
           false,
           "Streptococcus pyogenes"
          ],
          [
           false,
           "Streptococcus pyogenes"
          ],
          [
           false,
           "Streptococcus pyogenes"
          ],
          [
           false,
           "Staphylococcus aureus"
          ],
          [
           false,
           "Staphylococcus aureus"
          ],
          [
           false,
           "Staphylococcus aureus"
          ],
          [
           false,
           "Staphylococcus aureus"
          ],
          [
           false,
           "Staphylococcus aureus"
          ],
          [
           false,
           "Staphylococcus aureus"
          ],
          [
           false,
           "Staphylococcus aureus"
          ],
          [
           false,
           "Staphylococcus aureus"
          ],
          [
           false,
           "Staphylococcus aureus"
          ],
          [
           false,
           "Staphylococcus aureus"
          ],
          [
           false,
           "Staphylococcus aureus"
          ],
          [
           false,
           "Staphylococcus aureus"
          ],
          [
           false,
           "Staphylococcus aureus"
          ],
          [
           false,
           "Staphylococcus aureus"
          ],
          [
           false,
           "Staphylococcus aureus"
          ],
          [
           false,
           "Staphylococcus aureus"
          ],
          [
           false,
           "Staphylococcus aureus"
          ],
          [
           false,
           "Staphylococcus aureus"
          ],
          [
           false,
           "Staphylococcus capitis"
          ],
          [
           false,
           "Staphylococcus lugdunensis"
          ],
          [
           false,
           "Staphylococcus lugdunensis"
          ],
          [
           false,
           "Staphylococcus lugdunensis"
          ],
          [
           false,
           "Staphylococcus lugdunensis"
          ],
          [
           false,
           "Staphylococcus lugdunensis"
          ],
          [
           false,
           "Staphylococcus lugdunensis"
          ],
          [
           false,
           "Staphylococcus epidermidis"
          ],
          [
           false,
           "Staphylococcus epidermidis"
          ],
          [
           false,
           "Staphylococcus epidermidis"
          ],
          [
           false,
           "Staphylococcus epidermidis"
          ],
          [
           false,
           "Staphylococcus epidermidis"
          ],
          [
           false,
           "Staphylococcus epidermidis"
          ],
          [
           false,
           "Staphylococcus epidermidis"
          ],
          [
           false,
           "Staphylococcus lugdunensis"
          ],
          [
           false,
           "Staphylococcus aureus"
          ],
          [
           false,
           "Staphylococcus aureus"
          ],
          [
           false,
           "Staphylococcus aureus"
          ],
          [
           false,
           "Staphylococcus aureus"
          ],
          [
           false,
           "Staphylococcus aureus"
          ],
          [
           false,
           "Staphylococcus aureus"
          ],
          [
           false,
           "Staphylococcus aureus"
          ],
          [
           false,
           "Staphylococcus aureus"
          ],
          [
           false,
           "Staphylococcus aureus"
          ],
          [
           false,
           "Staphylococcus aureus"
          ],
          [
           true,
           "Staphylococcus aureus"
          ],
          [
           false,
           "Staphylococcus aureus"
          ],
          [
           true,
           "Staphylococcus aureus"
          ],
          [
           true,
           "Staphylococcus aureus"
          ],
          [
           false,
           "Staphylococcus aureus"
          ],
          [
           false,
           "Staphylococcus aureus"
          ],
          [
           false,
           "Staphylococcus aureus"
          ],
          [
           false,
           "Staphylococcus aureus"
          ],
          [
           false,
           "Staphylococcus aureus"
          ],
          [
           false,
           "Staphylococcus aureus"
          ],
          [
           false,
           "Staphylococcus aureus"
          ],
          [
           false,
           "Staphylococcus aureus"
          ],
          [
           false,
           "Staphylococcus aureus"
          ],
          [
           false,
           "Staphylococcus aureus"
          ],
          [
           false,
           "Staphylococcus aureus"
          ],
          [
           false,
           "Staphylococcus aureus"
          ],
          [
           true,
           "Staphylococcus aureus"
          ],
          [
           true,
           "Staphylococcus aureus"
          ],
          [
           false,
           "Staphylococcus aureus"
          ],
          [
           false,
           "Staphylococcus aureus"
          ],
          [
           false,
           "Staphylococcus aureus"
          ],
          [
           false,
           "Staphylococcus aureus"
          ],
          [
           false,
           "Staphylococcus aureus"
          ],
          [
           false,
           "Staphylococcus aureus"
          ],
          [
           false,
           "Staphylococcus aureus"
          ],
          [
           true,
           "Staphylococcus aureus"
          ],
          [
           false,
           "Staphylococcus aureus"
          ],
          [
           true,
           "Staphylococcus epidermidis"
          ],
          [
           true,
           "Staphylococcus epidermidis"
          ],
          [
           true,
           "Staphylococcus epidermidis"
          ],
          [
           false,
           "Staphylococcus epidermidis"
          ],
          [
           false,
           "Staphylococcus epidermidis"
          ],
          [
           false,
           "Streptococcus pneumoniae"
          ],
          [
           false,
           "Streptococcus pneumoniae"
          ],
          [
           false,
           "Streptococcus pneumoniae"
          ],
          [
           false,
           "Streptococcus pneumoniae"
          ],
          [
           false,
           "Streptococcus pneumoniae"
          ],
          [
           false,
           "Streptococcus pneumoniae"
          ],
          [
           false,
           "Streptococcus pneumoniae"
          ],
          [
           false,
           "Staphylococcus aureus"
          ],
          [
           false,
           "Staphylococcus aureus"
          ],
          [
           false,
           "Staphylococcus aureus"
          ],
          [
           false,
           "Staphylococcus aureus"
          ],
          [
           false,
           "Staphylococcus aureus"
          ],
          [
           false,
           "Staphylococcus aureus"
          ],
          [
           false,
           "Staphylococcus aureus"
          ],
          [
           false,
           "Staphylococcus aureus"
          ],
          [
           false,
           "Staphylococcus aureus"
          ],
          [
           false,
           "Staphylococcus aureus"
          ],
          [
           false,
           "Staphylococcus aureus"
          ],
          [
           false,
           "Staphylococcus aureus"
          ],
          [
           false,
           "Staphylococcus aureus"
          ],
          [
           false,
           "Staphylococcus aureus"
          ],
          [
           false,
           "Staphylococcus aureus"
          ],
          [
           false,
           "Streptococcus agalactiae"
          ],
          [
           false,
           "Streptococcus agalactiae"
          ],
          [
           false,
           "Streptococcus agalactiae"
          ],
          [
           false,
           "Streptococcus agalactiae"
          ],
          [
           false,
           "Streptococcus agalactiae"
          ],
          [
           false,
           "Streptococcus agalactiae"
          ],
          [
           false,
           "Streptococcus agalactiae"
          ],
          [
           false,
           "Streptococcus agalactiae"
          ],
          [
           false,
           "Streptococcus agalactiae"
          ],
          [
           false,
           "Staphylococcus epidermidis"
          ],
          [
           false,
           "Staphylococcus epidermidis"
          ],
          [
           false,
           "Staphylococcus capitis"
          ],
          [
           false,
           "Staphylococcus capitis"
          ],
          [
           false,
           "Staphylococcus capitis"
          ],
          [
           false,
           "Staphylococcus capitis"
          ],
          [
           false,
           "Staphylococcus capitis"
          ],
          [
           false,
           "Staphylococcus capitis"
          ],
          [
           false,
           "Staphylococcus epidermidis"
          ],
          [
           false,
           "Staphylococcus epidermidis"
          ],
          [
           true,
           "Staphylococcus epidermidis"
          ],
          [
           false,
           "Streptococcus agalactiae"
          ],
          [
           false,
           "Streptococcus agalactiae"
          ],
          [
           false,
           "Streptococcus agalactiae"
          ],
          [
           false,
           "Staphylococcus epidermidis"
          ],
          [
           false,
           "Staphylococcus epidermidis"
          ],
          [
           false,
           "Staphylococcus epidermidis"
          ],
          [
           true,
           "Staphylococcus epidermidis"
          ],
          [
           false,
           "Staphylococcus epidermidis"
          ],
          [
           false,
           "Staphylococcus epidermidis"
          ],
          [
           false,
           "Staphylococcus epidermidis"
          ],
          [
           false,
           "Staphylococcus epidermidis"
          ],
          [
           false,
           "Staphylococcus epidermidis"
          ],
          [
           false,
           "Staphylococcus epidermidis"
          ],
          [
           false,
           "Staphylococcus epidermidis"
          ],
          [
           false,
           "Staphylococcus epidermidis"
          ],
          [
           false,
           "Staphylococcus epidermidis"
          ],
          [
           false,
           "Staphylococcus epidermidis"
          ],
          [
           false,
           "Staphylococcus epidermidis"
          ],
          [
           false,
           "Staphylococcus epidermidis"
          ],
          [
           false,
           "Staphylococcus epidermidis"
          ],
          [
           false,
           "Staphylococcus epidermidis"
          ],
          [
           false,
           "Staphylococcus epidermidis"
          ],
          [
           false,
           "Staphylococcus epidermidis"
          ],
          [
           false,
           "Staphylococcus epidermidis"
          ],
          [
           false,
           "Staphylococcus epidermidis"
          ],
          [
           false,
           "Staphylococcus epidermidis"
          ],
          [
           false,
           "Staphylococcus hominis"
          ],
          [
           false,
           "Staphylococcus epidermidis"
          ],
          [
           false,
           "Staphylococcus hominis"
          ],
          [
           false,
           "Streptococcus pneumoniae"
          ],
          [
           false,
           "Streptococcus pneumoniae"
          ],
          [
           false,
           "Streptococcus pneumoniae"
          ],
          [
           false,
           "Streptococcus pneumoniae"
          ],
          [
           false,
           "Streptococcus pyogenes"
          ],
          [
           false,
           "Streptococcus pneumoniae"
          ],
          [
           false,
           "Streptococcus pyogenes"
          ],
          [
           false,
           "Streptococcus pyogenes"
          ],
          [
           false,
           "Streptococcus pyogenes"
          ],
          [
           false,
           "Staphylococcus hominis"
          ],
          [
           false,
           "Staphylococcus aureus"
          ],
          [
           false,
           "Staphylococcus aureus"
          ],
          [
           false,
           "Staphylococcus aureus"
          ],
          [
           false,
           "Staphylococcus aureus"
          ],
          [
           false,
           "Staphylococcus capitis"
          ],
          [
           false,
           "Streptococcus pneumoniae"
          ],
          [
           false,
           "Streptococcus agalactiae"
          ],
          [
           false,
           "Staphylococcus hominis"
          ],
          [
           false,
           "Staphylococcus hominis"
          ],
          [
           false,
           "Staphylococcus hominis"
          ],
          [
           false,
           "Staphylococcus hominis"
          ],
          [
           false,
           "Streptococcus agalactiae"
          ],
          [
           true,
           "Staphylococcus hominis"
          ],
          [
           true,
           "Staphylococcus hominis"
          ],
          [
           true,
           "Staphylococcus hominis"
          ],
          [
           true,
           "Staphylococcus hominis"
          ],
          [
           false,
           "Staphylococcus lugdunensis"
          ],
          [
           false,
           "Streptococcus agalactiae"
          ],
          [
           false,
           "Streptococcus agalactiae"
          ],
          [
           false,
           "Streptococcus agalactiae"
          ],
          [
           false,
           "Streptococcus agalactiae"
          ],
          [
           false,
           "Streptococcus agalactiae"
          ],
          [
           false,
           "Streptococcus agalactiae"
          ],
          [
           false,
           "Streptococcus pneumoniae"
          ],
          [
           false,
           "Streptococcus pneumoniae"
          ],
          [
           false,
           "Streptococcus pneumoniae"
          ],
          [
           false,
           "Streptococcus pneumoniae"
          ],
          [
           false,
           "Streptococcus pneumoniae"
          ],
          [
           false,
           "Streptococcus pneumoniae"
          ],
          [
           false,
           "Streptococcus pneumoniae"
          ],
          [
           false,
           "Streptococcus pneumoniae"
          ],
          [
           false,
           "Staphylococcus hominis"
          ],
          [
           false,
           "Streptococcus pneumoniae"
          ],
          [
           false,
           "Streptococcus pyogenes"
          ],
          [
           false,
           "Streptococcus pyogenes"
          ],
          [
           false,
           "Streptococcus pyogenes"
          ],
          [
           false,
           "Streptococcus pyogenes"
          ],
          [
           false,
           "Staphylococcus aureus"
          ],
          [
           false,
           "Staphylococcus aureus"
          ],
          [
           false,
           "Staphylococcus aureus"
          ],
          [
           false,
           "Staphylococcus aureus"
          ],
          [
           false,
           "Staphylococcus aureus"
          ],
          [
           false,
           "Staphylococcus aureus"
          ],
          [
           false,
           "Staphylococcus capitis"
          ],
          [
           false,
           "Staphylococcus lugdunensis"
          ],
          [
           false,
           "Staphylococcus lugdunensis"
          ],
          [
           false,
           "Staphylococcus lugdunensis"
          ],
          [
           false,
           "Staphylococcus lugdunensis"
          ],
          [
           false,
           "Staphylococcus epidermidis"
          ],
          [
           false,
           "Staphylococcus epidermidis"
          ],
          [
           false,
           "Staphylococcus epidermidis"
          ],
          [
           false,
           "Staphylococcus epidermidis"
          ],
          [
           false,
           "Staphylococcus epidermidis"
          ],
          [
           false,
           "Staphylococcus epidermidis"
          ],
          [
           true,
           "Staphylococcus epidermidis"
          ],
          [
           false,
           "Staphylococcus lugdunensis"
          ],
          [
           false,
           "Staphylococcus aureus"
          ],
          [
           false,
           "Staphylococcus aureus"
          ],
          [
           false,
           "Staphylococcus aureus"
          ],
          [
           false,
           "Staphylococcus aureus"
          ],
          [
           false,
           "Staphylococcus aureus"
          ],
          [
           false,
           "Staphylococcus aureus"
          ],
          [
           false,
           "Staphylococcus aureus"
          ],
          [
           false,
           "Staphylococcus aureus"
          ],
          [
           false,
           "Staphylococcus aureus"
          ],
          [
           false,
           "Staphylococcus aureus"
          ],
          [
           false,
           "Staphylococcus aureus"
          ],
          [
           false,
           "Staphylococcus aureus"
          ],
          [
           false,
           "Staphylococcus aureus"
          ],
          [
           false,
           "Staphylococcus aureus"
          ],
          [
           false,
           "Staphylococcus aureus"
          ],
          [
           true,
           "Staphylococcus aureus"
          ],
          [
           false,
           "Staphylococcus aureus"
          ],
          [
           false,
           "Staphylococcus aureus"
          ],
          [
           false,
           "Staphylococcus aureus"
          ],
          [
           true,
           "Staphylococcus aureus"
          ],
          [
           true,
           "Staphylococcus aureus"
          ],
          [
           true,
           "Staphylococcus epidermidis"
          ],
          [
           true,
           "Staphylococcus epidermidis"
          ],
          [
           true,
           "Staphylococcus epidermidis"
          ],
          [
           false,
           "Streptococcus pneumoniae"
          ],
          [
           false,
           "Streptococcus pneumoniae"
          ],
          [
           false,
           "Streptococcus pneumoniae"
          ],
          [
           false,
           "Streptococcus pneumoniae"
          ],
          [
           false,
           "Streptococcus pneumoniae"
          ],
          [
           false,
           "Staphylococcus aureus"
          ],
          [
           false,
           "Staphylococcus aureus"
          ],
          [
           true,
           "Staphylococcus aureus"
          ],
          [
           false,
           "Staphylococcus aureus"
          ],
          [
           true,
           "Staphylococcus aureus"
          ],
          [
           true,
           "Staphylococcus aureus"
          ],
          [
           true,
           "Staphylococcus aureus"
          ],
          [
           true,
           "Staphylococcus aureus"
          ],
          [
           false,
           "Staphylococcus aureus"
          ],
          [
           true,
           "Staphylococcus capitis"
          ],
          [
           true,
           "Staphylococcus capitis"
          ],
          [
           true,
           "Staphylococcus epidermidis"
          ],
          [
           false,
           "Staphylococcus epidermidis"
          ],
          [
           true,
           "Staphylococcus epidermidis"
          ],
          [
           false,
           "Staphylococcus epidermidis"
          ],
          [
           false,
           "Staphylococcus epidermidis"
          ],
          [
           false,
           "Staphylococcus epidermidis"
          ],
          [
           true,
           "Staphylococcus epidermidis"
          ],
          [
           true,
           "Staphylococcus epidermidis"
          ],
          [
           false,
           "Staphylococcus epidermidis"
          ],
          [
           true,
           "Staphylococcus epidermidis"
          ],
          [
           true,
           "Staphylococcus epidermidis"
          ],
          [
           true,
           "Staphylococcus hominis"
          ],
          [
           false,
           "Staphylococcus hominis"
          ],
          [
           false,
           "Staphylococcus hominis"
          ],
          [
           true,
           "Staphylococcus hominis"
          ],
          [
           true,
           "Staphylococcus hominis"
          ],
          [
           true,
           "Staphylococcus hominis"
          ],
          [
           false,
           "Streptococcus pneumoniae"
          ],
          [
           false,
           "Streptococcus pneumoniae"
          ],
          [
           false,
           "Streptococcus pneumoniae"
          ],
          [
           true,
           "Streptococcus pneumoniae"
          ],
          [
           false,
           "Streptococcus pneumoniae"
          ],
          [
           false,
           "Streptococcus pneumoniae"
          ],
          [
           false,
           "Streptococcus pneumoniae"
          ],
          [
           true,
           "Streptococcus pneumoniae"
          ],
          [
           false,
           "Streptococcus pneumoniae"
          ],
          [
           true,
           "Staphylococcus hominis"
          ],
          [
           false,
           "Staphylococcus hominis"
          ],
          [
           true,
           "Staphylococcus hominis"
          ],
          [
           true,
           "Staphylococcus hominis"
          ],
          [
           true,
           "Staphylococcus aureus"
          ],
          [
           true,
           "Staphylococcus aureus"
          ],
          [
           true,
           "Staphylococcus aureus"
          ],
          [
           false,
           "Staphylococcus aureus"
          ],
          [
           false,
           "Streptococcus pneumoniae"
          ],
          [
           false,
           "Streptococcus pneumoniae"
          ],
          [
           true,
           "Staphylococcus hominis"
          ],
          [
           true,
           "Staphylococcus lugdunensis"
          ],
          [
           true,
           "Staphylococcus lugdunensis"
          ],
          [
           false,
           "Streptococcus pneumoniae"
          ],
          [
           false,
           "Streptococcus pneumoniae"
          ],
          [
           false,
           "Streptococcus pneumoniae"
          ],
          [
           false,
           "Streptococcus pneumoniae"
          ],
          [
           false,
           "Streptococcus pneumoniae"
          ],
          [
           false,
           "Streptococcus pneumoniae"
          ],
          [
           false,
           "Streptococcus pneumoniae"
          ],
          [
           false,
           "Streptococcus pneumoniae"
          ],
          [
           false,
           "Staphylococcus hominis"
          ],
          [
           true,
           "Staphylococcus hominis"
          ],
          [
           false,
           "Staphylococcus hominis"
          ],
          [
           false,
           "Streptococcus pneumoniae"
          ],
          [
           true,
           "Staphylococcus aureus"
          ],
          [
           true,
           "Staphylococcus aureus"
          ],
          [
           false,
           "Staphylococcus aureus"
          ],
          [
           false,
           "Staphylococcus aureus"
          ],
          [
           true,
           "Staphylococcus aureus"
          ],
          [
           false,
           "Staphylococcus epidermidis"
          ],
          [
           false,
           "Staphylococcus epidermidis"
          ],
          [
           false,
           "Staphylococcus epidermidis"
          ],
          [
           true,
           "Staphylococcus epidermidis"
          ],
          [
           true,
           "Staphylococcus aureus"
          ],
          [
           true,
           "Staphylococcus aureus"
          ],
          [
           true,
           "Staphylococcus aureus"
          ],
          [
           true,
           "Staphylococcus aureus"
          ],
          [
           true,
           "Staphylococcus aureus"
          ],
          [
           true,
           "Staphylococcus aureus"
          ],
          [
           true,
           "Staphylococcus aureus"
          ],
          [
           true,
           "Staphylococcus aureus"
          ],
          [
           true,
           "Staphylococcus aureus"
          ],
          [
           false,
           "Streptococcus pneumoniae"
          ],
          [
           false,
           "Streptococcus pneumoniae"
          ],
          [
           false,
           "Streptococcus pneumoniae"
          ],
          [
           true,
           "Staphylococcus aureus"
          ],
          [
           true,
           "Staphylococcus lugdunensis"
          ],
          [
           true,
           "Staphylococcus aureus"
          ],
          [
           true,
           "Staphylococcus aureus"
          ],
          [
           false,
           "Staphylococcus aureus"
          ],
          [
           true,
           "Staphylococcus aureus"
          ],
          [
           true,
           "Enterococcus faecium"
          ],
          [
           true,
           "Staphylococcus hominis"
          ],
          [
           true,
           "Staphylococcus hominis"
          ],
          [
           true,
           "Staphylococcus hominis"
          ],
          [
           true,
           "Staphylococcus hominis"
          ],
          [
           true,
           "Staphylococcus aureus"
          ],
          [
           true,
           "Staphylococcus aureus"
          ],
          [
           true,
           "Staphylococcus aureus"
          ],
          [
           true,
           "Staphylococcus aureus"
          ],
          [
           true,
           "Staphylococcus aureus"
          ],
          [
           true,
           "Staphylococcus aureus"
          ],
          [
           true,
           "Staphylococcus aureus"
          ],
          [
           true,
           "Staphylococcus aureus"
          ],
          [
           true,
           "Staphylococcus aureus"
          ],
          [
           false,
           "Staphylococcus aureus"
          ],
          [
           true,
           "Staphylococcus aureus"
          ],
          [
           true,
           "Staphylococcus aureus"
          ],
          [
           false,
           "Staphylococcus aureus"
          ],
          [
           true,
           "Staphylococcus aureus"
          ],
          [
           true,
           "Staphylococcus aureus"
          ],
          [
           false,
           "Staphylococcus aureus"
          ],
          [
           true,
           "Staphylococcus aureus"
          ],
          [
           true,
           "Staphylococcus epidermidis"
          ],
          [
           false,
           "Staphylococcus epidermidis"
          ],
          [
           false,
           "Staphylococcus epidermidis"
          ],
          [
           false,
           "Staphylococcus epidermidis"
          ],
          [
           true,
           "Staphylococcus epidermidis"
          ],
          [
           false,
           "Streptococcus pneumoniae"
          ],
          [
           true,
           "Staphylococcus aureus"
          ],
          [
           true,
           "Staphylococcus aureus"
          ],
          [
           true,
           "Staphylococcus aureus"
          ],
          [
           true,
           "Staphylococcus aureus"
          ],
          [
           true,
           "Staphylococcus aureus"
          ],
          [
           true,
           "Staphylococcus aureus"
          ],
          [
           true,
           "Staphylococcus aureus"
          ],
          [
           true,
           "Staphylococcus aureus"
          ],
          [
           true,
           "Staphylococcus aureus"
          ],
          [
           true,
           "Staphylococcus aureus"
          ],
          [
           true,
           "Staphylococcus aureus"
          ],
          [
           false,
           "Staphylococcus aureus"
          ],
          [
           false,
           "Staphylococcus aureus"
          ],
          [
           false,
           "Staphylococcus aureus"
          ],
          [
           true,
           "Staphylococcus aureus"
          ],
          [
           false,
           "Staphylococcus aureus"
          ],
          [
           false,
           "Staphylococcus aureus"
          ],
          [
           false,
           "Staphylococcus capitis"
          ],
          [
           false,
           "Staphylococcus epidermidis"
          ],
          [
           false,
           "Staphylococcus epidermidis"
          ],
          [
           false,
           "Staphylococcus epidermidis"
          ],
          [
           false,
           "Staphylococcus epidermidis"
          ],
          [
           false,
           "Staphylococcus epidermidis"
          ],
          [
           false,
           "Staphylococcus epidermidis"
          ],
          [
           false,
           "Staphylococcus epidermidis"
          ],
          [
           true,
           "Staphylococcus aureus"
          ],
          [
           true,
           "Staphylococcus capitis"
          ],
          [
           true,
           "Staphylococcus capitis"
          ],
          [
           true,
           "Staphylococcus hominis"
          ],
          [
           true,
           "Staphylococcus lugdunensis"
          ],
          [
           true,
           "Staphylococcus hominis"
          ],
          [
           true,
           "Staphylococcus aureus"
          ],
          [
           true,
           "Staphylococcus capitis"
          ],
          [
           false,
           "Staphylococcus epidermidis"
          ],
          [
           false,
           "Staphylococcus epidermidis"
          ],
          [
           false,
           "Staphylococcus epidermidis"
          ],
          [
           false,
           "Staphylococcus aureus"
          ],
          [
           true,
           "Staphylococcus aureus"
          ],
          [
           true,
           "Staphylococcus aureus"
          ],
          [
           false,
           "Staphylococcus aureus"
          ],
          [
           false,
           "Staphylococcus aureus"
          ],
          [
           false,
           "Staphylococcus aureus"
          ],
          [
           false,
           "Staphylococcus aureus"
          ],
          [
           false,
           "Staphylococcus aureus"
          ],
          [
           false,
           "Staphylococcus aureus"
          ],
          [
           false,
           "Staphylococcus aureus"
          ],
          [
           false,
           "Staphylococcus aureus"
          ],
          [
           true,
           "Staphylococcus aureus"
          ],
          [
           true,
           "Staphylococcus aureus"
          ],
          [
           true,
           "Staphylococcus aureus"
          ],
          [
           true,
           "Staphylococcus aureus"
          ],
          [
           false,
           "Staphylococcus epidermidis"
          ],
          [
           false,
           "Staphylococcus epidermidis"
          ],
          [
           false,
           "Staphylococcus epidermidis"
          ],
          [
           true,
           "Staphylococcus epidermidis"
          ],
          [
           true,
           "Staphylococcus epidermidis"
          ],
          [
           true,
           "Staphylococcus epidermidis"
          ],
          [
           true,
           "Staphylococcus epidermidis"
          ],
          [
           true,
           "Staphylococcus epidermidis"
          ],
          [
           true,
           "Staphylococcus epidermidis"
          ],
          [
           true,
           "Staphylococcus epidermidis"
          ],
          [
           true,
           "Staphylococcus hominis"
          ],
          [
           true,
           "Streptococcus pneumoniae"
          ],
          [
           true,
           "Streptococcus pneumoniae"
          ],
          [
           true,
           "Streptococcus pneumoniae"
          ],
          [
           true,
           "Streptococcus pneumoniae"
          ],
          [
           true,
           "Streptococcus pneumoniae"
          ],
          [
           false,
           "Streptococcus pyogenes"
          ],
          [
           true,
           "Streptococcus pneumoniae"
          ],
          [
           true,
           "Staphylococcus hominis"
          ],
          [
           true,
           "Staphylococcus aureus"
          ],
          [
           true,
           "Streptococcus pneumoniae"
          ],
          [
           true,
           "Streptococcus pneumoniae"
          ],
          [
           true,
           "Staphylococcus hominis"
          ],
          [
           true,
           "Staphylococcus hominis"
          ],
          [
           true,
           "Staphylococcus hominis"
          ],
          [
           true,
           "Staphylococcus hominis"
          ],
          [
           true,
           "Streptococcus pneumoniae"
          ],
          [
           true,
           "Staphylococcus hominis"
          ],
          [
           true,
           "Staphylococcus hominis"
          ],
          [
           false,
           "Streptococcus pyogenes"
          ],
          [
           true,
           "Staphylococcus aureus"
          ],
          [
           false,
           "Staphylococcus aureus"
          ],
          [
           true,
           "Staphylococcus aureus"
          ],
          [
           true,
           "Staphylococcus aureus"
          ],
          [
           false,
           "Staphylococcus epidermidis"
          ],
          [
           true,
           "Staphylococcus epidermidis"
          ],
          [
           false,
           "Staphylococcus epidermidis"
          ],
          [
           true,
           "Streptococcus pneumoniae"
          ],
          [
           true,
           "Streptococcus pneumoniae"
          ],
          [
           true,
           "Streptococcus pneumoniae"
          ],
          [
           true,
           "Streptococcus pneumoniae"
          ],
          [
           true,
           "Streptococcus pneumoniae"
          ],
          [
           false,
           "Staphylococcus aureus"
          ],
          [
           false,
           "Staphylococcus aureus"
          ],
          [
           false,
           "Staphylococcus aureus"
          ],
          [
           false,
           "Staphylococcus aureus"
          ],
          [
           false,
           "Staphylococcus aureus"
          ],
          [
           false,
           "Staphylococcus aureus"
          ],
          [
           false,
           "Staphylococcus aureus"
          ],
          [
           false,
           "Staphylococcus aureus"
          ],
          [
           false,
           "Staphylococcus aureus"
          ],
          [
           false,
           "Staphylococcus aureus"
          ],
          [
           false,
           "Staphylococcus aureus"
          ],
          [
           false,
           "Staphylococcus aureus"
          ],
          [
           false,
           "Staphylococcus aureus"
          ],
          [
           false,
           "Staphylococcus aureus"
          ],
          [
           false,
           "Staphylococcus aureus"
          ],
          [
           false,
           "Staphylococcus aureus"
          ],
          [
           false,
           "Staphylococcus aureus"
          ],
          [
           false,
           "Staphylococcus aureus"
          ],
          [
           false,
           "Staphylococcus aureus"
          ],
          [
           false,
           "Staphylococcus aureus"
          ],
          [
           false,
           "Staphylococcus aureus"
          ],
          [
           false,
           "Staphylococcus aureus"
          ],
          [
           false,
           "Staphylococcus aureus"
          ],
          [
           false,
           "Staphylococcus aureus"
          ],
          [
           false,
           "Streptococcus agalactiae"
          ],
          [
           false,
           "Streptococcus agalactiae"
          ],
          [
           false,
           "Streptococcus agalactiae"
          ],
          [
           false,
           "Streptococcus agalactiae"
          ],
          [
           false,
           "Streptococcus agalactiae"
          ],
          [
           false,
           "Streptococcus agalactiae"
          ],
          [
           false,
           "Streptococcus agalactiae"
          ],
          [
           false,
           "Streptococcus agalactiae"
          ],
          [
           false,
           "Streptococcus agalactiae"
          ],
          [
           false,
           "Streptococcus agalactiae"
          ],
          [
           false,
           "Streptococcus agalactiae"
          ],
          [
           false,
           "Staphylococcus epidermidis"
          ],
          [
           false,
           "Staphylococcus epidermidis"
          ],
          [
           false,
           "Staphylococcus capitis"
          ],
          [
           false,
           "Staphylococcus capitis"
          ],
          [
           false,
           "Staphylococcus capitis"
          ],
          [
           false,
           "Staphylococcus capitis"
          ],
          [
           false,
           "Staphylococcus capitis"
          ],
          [
           false,
           "Staphylococcus capitis"
          ],
          [
           false,
           "Staphylococcus epidermidis"
          ],
          [
           false,
           "Staphylococcus epidermidis"
          ],
          [
           false,
           "Staphylococcus epidermidis"
          ],
          [
           false,
           "Staphylococcus epidermidis"
          ],
          [
           false,
           "Staphylococcus epidermidis"
          ],
          [
           false,
           "Streptococcus agalactiae"
          ],
          [
           false,
           "Streptococcus agalactiae"
          ],
          [
           false,
           "Streptococcus agalactiae"
          ],
          [
           false,
           "Streptococcus agalactiae"
          ],
          [
           false,
           "Staphylococcus epidermidis"
          ],
          [
           false,
           "Staphylococcus epidermidis"
          ],
          [
           false,
           "Staphylococcus epidermidis"
          ],
          [
           false,
           "Staphylococcus epidermidis"
          ],
          [
           false,
           "Staphylococcus epidermidis"
          ],
          [
           false,
           "Staphylococcus epidermidis"
          ],
          [
           false,
           "Staphylococcus epidermidis"
          ],
          [
           false,
           "Staphylococcus epidermidis"
          ],
          [
           false,
           "Staphylococcus epidermidis"
          ],
          [
           false,
           "Staphylococcus epidermidis"
          ],
          [
           false,
           "Staphylococcus epidermidis"
          ],
          [
           false,
           "Staphylococcus epidermidis"
          ],
          [
           false,
           "Staphylococcus epidermidis"
          ],
          [
           false,
           "Staphylococcus epidermidis"
          ],
          [
           false,
           "Staphylococcus epidermidis"
          ],
          [
           false,
           "Staphylococcus epidermidis"
          ],
          [
           false,
           "Staphylococcus epidermidis"
          ],
          [
           false,
           "Staphylococcus epidermidis"
          ],
          [
           false,
           "Staphylococcus epidermidis"
          ],
          [
           false,
           "Staphylococcus epidermidis"
          ],
          [
           false,
           "Staphylococcus epidermidis"
          ],
          [
           false,
           "Staphylococcus aureus"
          ],
          [
           false,
           "Staphylococcus epidermidis"
          ],
          [
           false,
           "Staphylococcus epidermidis"
          ],
          [
           false,
           "Staphylococcus epidermidis"
          ],
          [
           false,
           "Staphylococcus epidermidis"
          ],
          [
           false,
           "Staphylococcus epidermidis"
          ],
          [
           false,
           "Staphylococcus epidermidis"
          ],
          [
           false,
           "Staphylococcus epidermidis"
          ],
          [
           false,
           "Staphylococcus epidermidis"
          ],
          [
           false,
           "Staphylococcus epidermidis"
          ],
          [
           false,
           "Staphylococcus epidermidis"
          ],
          [
           false,
           "Staphylococcus hominis"
          ],
          [
           false,
           "Staphylococcus epidermidis"
          ],
          [
           false,
           "Staphylococcus hominis"
          ],
          [
           false,
           "Staphylococcus hominis"
          ],
          [
           false,
           "Staphylococcus hominis"
          ],
          [
           false,
           "Staphylococcus hominis"
          ],
          [
           false,
           "Staphylococcus hominis"
          ],
          [
           false,
           "Staphylococcus hominis"
          ],
          [
           false,
           "Staphylococcus hominis"
          ],
          [
           false,
           "Staphylococcus hominis"
          ],
          [
           false,
           "Staphylococcus hominis"
          ],
          [
           false,
           "Streptococcus pneumoniae"
          ],
          [
           false,
           "Streptococcus pneumoniae"
          ],
          [
           false,
           "Streptococcus pneumoniae"
          ],
          [
           false,
           "Streptococcus pneumoniae"
          ],
          [
           false,
           "Streptococcus pneumoniae"
          ],
          [
           false,
           "Streptococcus pyogenes"
          ],
          [
           false,
           "Streptococcus pyogenes"
          ],
          [
           false,
           "Streptococcus pyogenes"
          ],
          [
           false,
           "Streptococcus pneumoniae"
          ],
          [
           false,
           "Streptococcus pyogenes"
          ],
          [
           false,
           "Streptococcus pyogenes"
          ],
          [
           false,
           "Streptococcus pyogenes"
          ],
          [
           false,
           "Streptococcus pyogenes"
          ],
          [
           false,
           "Streptococcus pyogenes"
          ],
          [
           false,
           "Streptococcus pyogenes"
          ],
          [
           false,
           "Staphylococcus hominis"
          ],
          [
           false,
           "Staphylococcus hominis"
          ],
          [
           false,
           "Staphylococcus hominis"
          ],
          [
           false,
           "Staphylococcus hominis"
          ],
          [
           false,
           "Staphylococcus hominis"
          ],
          [
           false,
           "Staphylococcus hominis"
          ],
          [
           false,
           "Staphylococcus aureus"
          ],
          [
           false,
           "Staphylococcus aureus"
          ],
          [
           false,
           "Staphylococcus aureus"
          ],
          [
           false,
           "Staphylococcus aureus"
          ],
          [
           false,
           "Staphylococcus aureus"
          ],
          [
           false,
           "Staphylococcus aureus"
          ],
          [
           false,
           "Staphylococcus aureus"
          ],
          [
           false,
           "Staphylococcus aureus"
          ],
          [
           false,
           "Staphylococcus aureus"
          ],
          [
           false,
           "Staphylococcus aureus"
          ],
          [
           false,
           "Staphylococcus aureus"
          ],
          [
           false,
           "Staphylococcus aureus"
          ],
          [
           false,
           "Staphylococcus aureus"
          ],
          [
           false,
           "Staphylococcus aureus"
          ],
          [
           false,
           "Staphylococcus aureus"
          ],
          [
           false,
           "Staphylococcus capitis"
          ],
          [
           false,
           "Streptococcus pneumoniae"
          ],
          [
           false,
           "Streptococcus agalactiae"
          ],
          [
           false,
           "Staphylococcus hominis"
          ],
          [
           false,
           "Staphylococcus hominis"
          ],
          [
           false,
           "Staphylococcus hominis"
          ],
          [
           false,
           "Staphylococcus hominis"
          ],
          [
           false,
           "Staphylococcus hominis"
          ],
          [
           false,
           "Staphylococcus hominis"
          ],
          [
           false,
           "Streptococcus agalactiae"
          ],
          [
           false,
           "Staphylococcus hominis"
          ],
          [
           false,
           "Staphylococcus hominis"
          ],
          [
           false,
           "Staphylococcus hominis"
          ],
          [
           false,
           "Staphylococcus lugdunensis"
          ],
          [
           false,
           "Staphylococcus lugdunensis"
          ],
          [
           false,
           "Streptococcus agalactiae"
          ],
          [
           false,
           "Streptococcus agalactiae"
          ],
          [
           false,
           "Streptococcus agalactiae"
          ],
          [
           false,
           "Streptococcus agalactiae"
          ],
          [
           false,
           "Streptococcus agalactiae"
          ],
          [
           false,
           "Streptococcus agalactiae"
          ],
          [
           false,
           "Streptococcus agalactiae"
          ],
          [
           false,
           "Streptococcus agalactiae"
          ],
          [
           false,
           "Streptococcus pneumoniae"
          ],
          [
           false,
           "Streptococcus pneumoniae"
          ],
          [
           false,
           "Streptococcus pneumoniae"
          ],
          [
           false,
           "Streptococcus pneumoniae"
          ],
          [
           false,
           "Streptococcus pneumoniae"
          ],
          [
           false,
           "Streptococcus pneumoniae"
          ],
          [
           false,
           "Streptococcus pneumoniae"
          ],
          [
           false,
           "Streptococcus pneumoniae"
          ],
          [
           false,
           "Staphylococcus hominis"
          ],
          [
           false,
           "Staphylococcus hominis"
          ],
          [
           false,
           "Staphylococcus hominis"
          ],
          [
           false,
           "Streptococcus agalactiae"
          ],
          [
           false,
           "Streptococcus pneumoniae"
          ],
          [
           false,
           "Streptococcus pyogenes"
          ],
          [
           false,
           "Streptococcus pyogenes"
          ],
          [
           false,
           "Streptococcus pyogenes"
          ],
          [
           false,
           "Streptococcus pyogenes"
          ],
          [
           false,
           "Streptococcus pyogenes"
          ],
          [
           false,
           "Streptococcus pyogenes"
          ],
          [
           false,
           "Streptococcus pyogenes"
          ],
          [
           false,
           "Streptococcus pyogenes"
          ],
          [
           false,
           "Streptococcus pyogenes"
          ],
          [
           false,
           "Streptococcus pyogenes"
          ],
          [
           false,
           "Streptococcus pyogenes"
          ],
          [
           false,
           "Streptococcus pyogenes"
          ],
          [
           false,
           "Staphylococcus aureus"
          ],
          [
           false,
           "Staphylococcus aureus"
          ],
          [
           false,
           "Staphylococcus aureus"
          ],
          [
           false,
           "Staphylococcus aureus"
          ],
          [
           false,
           "Staphylococcus aureus"
          ],
          [
           false,
           "Staphylococcus aureus"
          ],
          [
           false,
           "Staphylococcus aureus"
          ],
          [
           false,
           "Staphylococcus aureus"
          ],
          [
           false,
           "Staphylococcus aureus"
          ],
          [
           false,
           "Staphylococcus aureus"
          ],
          [
           false,
           "Staphylococcus aureus"
          ],
          [
           false,
           "Staphylococcus aureus"
          ],
          [
           false,
           "Staphylococcus aureus"
          ],
          [
           false,
           "Staphylococcus aureus"
          ],
          [
           false,
           "Staphylococcus aureus"
          ],
          [
           false,
           "Staphylococcus capitis"
          ],
          [
           false,
           "Staphylococcus lugdunensis"
          ],
          [
           false,
           "Staphylococcus lugdunensis"
          ],
          [
           false,
           "Staphylococcus lugdunensis"
          ],
          [
           false,
           "Staphylococcus lugdunensis"
          ],
          [
           false,
           "Staphylococcus lugdunensis"
          ],
          [
           false,
           "Staphylococcus lugdunensis"
          ],
          [
           false,
           "Staphylococcus epidermidis"
          ],
          [
           false,
           "Staphylococcus epidermidis"
          ],
          [
           false,
           "Staphylococcus epidermidis"
          ],
          [
           false,
           "Staphylococcus epidermidis"
          ],
          [
           false,
           "Staphylococcus epidermidis"
          ],
          [
           false,
           "Staphylococcus epidermidis"
          ],
          [
           false,
           "Staphylococcus epidermidis"
          ],
          [
           false,
           "Staphylococcus lugdunensis"
          ],
          [
           false,
           "Staphylococcus aureus"
          ],
          [
           false,
           "Staphylococcus aureus"
          ],
          [
           false,
           "Staphylococcus aureus"
          ],
          [
           false,
           "Staphylococcus aureus"
          ],
          [
           false,
           "Staphylococcus aureus"
          ],
          [
           false,
           "Staphylococcus aureus"
          ],
          [
           false,
           "Staphylococcus aureus"
          ],
          [
           false,
           "Staphylococcus aureus"
          ],
          [
           false,
           "Staphylococcus aureus"
          ],
          [
           false,
           "Staphylococcus aureus"
          ],
          [
           false,
           "Staphylococcus aureus"
          ],
          [
           false,
           "Staphylococcus aureus"
          ],
          [
           false,
           "Staphylococcus aureus"
          ],
          [
           false,
           "Staphylococcus aureus"
          ],
          [
           false,
           "Staphylococcus aureus"
          ],
          [
           false,
           "Staphylococcus aureus"
          ],
          [
           false,
           "Staphylococcus aureus"
          ],
          [
           false,
           "Staphylococcus aureus"
          ],
          [
           false,
           "Staphylococcus aureus"
          ],
          [
           false,
           "Staphylococcus aureus"
          ],
          [
           false,
           "Staphylococcus aureus"
          ],
          [
           false,
           "Staphylococcus aureus"
          ],
          [
           false,
           "Staphylococcus aureus"
          ],
          [
           false,
           "Staphylococcus aureus"
          ],
          [
           false,
           "Staphylococcus aureus"
          ],
          [
           false,
           "Staphylococcus aureus"
          ],
          [
           false,
           "Staphylococcus aureus"
          ],
          [
           false,
           "Staphylococcus aureus"
          ],
          [
           false,
           "Staphylococcus aureus"
          ],
          [
           false,
           "Staphylococcus aureus"
          ],
          [
           false,
           "Streptococcus pneumoniae"
          ],
          [
           false,
           "Streptococcus pneumoniae"
          ],
          [
           false,
           "Streptococcus pneumoniae"
          ],
          [
           false,
           "Streptococcus pneumoniae"
          ],
          [
           false,
           "Streptococcus pneumoniae"
          ],
          [
           false,
           "Staphylococcus haemolyticus"
          ],
          [
           false,
           "Staphylococcus haemolyticus"
          ],
          [
           false,
           "Staphylococcus haemolyticus"
          ],
          [
           false,
           "Staphylococcus haemolyticus"
          ],
          [
           false,
           "Staphylococcus warneri"
          ],
          [
           false,
           "Staphylococcus warneri"
          ],
          [
           false,
           "Staphylococcus warneri"
          ],
          [
           false,
           "Staphylococcus warneri"
          ],
          [
           false,
           "Staphylococcus aureus"
          ],
          [
           false,
           "Staphylococcus aureus"
          ],
          [
           false,
           "Staphylococcus aureus"
          ],
          [
           false,
           "Staphylococcus aureus"
          ]
         ],
         "hovertemplate": "<b>%{hovertext}</b><br><br>SIR=Resistant<br>Log2(MIC-value)=%{y:.0f}<br>Scale=%{customdata[0]}<br>Pathogen=%{customdata[1]}<extra></extra>",
         "hovertext": [
          "QM307",
          "QM321",
          "QM398",
          "QM518",
          "QM980",
          "QM982",
          "QM984",
          "QM985",
          "QM986",
          "QM988",
          "QM989",
          "QM990",
          "QM991",
          "QM993",
          "QM397",
          "QM995",
          "QM992",
          "QM996",
          "QM997",
          "QM994",
          "HV447",
          "QM262",
          "QM322",
          "HV480",
          "QM998",
          "QM134",
          "BAR052",
          "QM805",
          "QM806",
          "QM807",
          "HV985",
          "QM1325",
          "QM1326",
          "QM1327",
          "QM1358",
          "QM1359",
          "QM1360",
          "QM1362",
          "QM1364",
          "QM1366",
          "QM1367",
          "QM1368",
          "QM1369",
          "QM1370",
          "QM1379",
          "QM1385",
          "QM1388",
          "QM1450",
          "QM1452",
          "QM1406",
          "PER152",
          "QM960",
          "BAR066",
          "QM1491",
          "QM1492",
          "AR0561",
          "AR0562",
          "AR0563",
          "AR0564",
          "AR0565",
          "AR0566",
          "AR0462",
          "AR0465",
          "AR0467",
          "AR0468",
          "AR0469",
          "AR0470",
          "AR0472",
          "AR0474",
          "AR0475",
          "AR0476",
          "AR0477",
          "AR0478",
          "AR0479",
          "AR0480",
          "QM1259",
          "QM1261",
          "QM1269",
          "AR0215",
          "AR0216",
          "AR0217",
          "AR0218",
          "AR0219",
          "AR0220",
          "AR0222",
          "AR0481",
          "AR0482",
          "AR0483",
          "AR0485",
          "AR0486",
          "AR0490",
          "AR0223",
          "AR0224",
          "AR0225",
          "AR0226",
          "AR0227",
          "AR0228",
          "AR0701",
          "AR0702",
          "AR0703",
          "AR0704",
          "AR0705",
          "AR0708",
          "AR0709",
          "AR0711",
          "AR0712",
          "AR0713",
          "AR0715",
          "AR0716",
          "AR0717",
          "AR0718",
          "AR0719",
          "AR0721",
          "AR0722",
          "AR0723",
          "AR0724",
          "QM027",
          "QM326",
          "QM328",
          "QM402",
          "QM1485",
          "QM1324",
          "AR0567",
          "AR0568",
          "AR0570",
          "HV519",
          "PER107",
          "HV772",
          "PER110",
          "QM867",
          "PER108",
          "PER104",
          "QM292",
          "QM312",
          "QM295",
          "QM068",
          "HV896",
          "HV510",
          "QM134",
          "QM1333",
          "HV985",
          "QM1248",
          "QM1250",
          "QM1252",
          "QM1253",
          "QM1254",
          "QM1255",
          "QM1288",
          "QM1289",
          "QM1308",
          "QM1309",
          "QM1310",
          "QM1311",
          "QM1312",
          "QM1313",
          "QM1314",
          "QM1315",
          "QM1316",
          "QM1317",
          "QM1373",
          "QM1406",
          "QM152",
          "BAR064",
          "QM1387",
          "QM1522",
          "QM1523",
          "QM1524",
          "QM1525",
          "QM1526",
          "QM1527",
          "QM1528",
          "QM1530",
          "QM1531",
          "QM872",
          "BAR066",
          "QM1489",
          "QM1491",
          "AR0572",
          "AR0575",
          "QM1483",
          "QM1485",
          "QM067",
          "AR0703",
          "AR0703",
          "QM134",
          "QM1406",
          "BAR064",
          "QM871",
          "BAR066",
          "QM1489",
          "QM1491",
          "QM1492",
          "QM027",
          "QM1483",
          "QM1485",
          "QM1486",
          "QM286",
          "HV519",
          "QM076",
          "PER107",
          "HV772",
          "PER110",
          "QM867",
          "PER108",
          "PER104",
          "QM292",
          "QM312",
          "QM295",
          "QM068",
          "HV896",
          "HV510",
          "QM1248",
          "QM1250",
          "QM1252",
          "QM1253",
          "QM1254",
          "QM1255",
          "QM1288",
          "QM1289",
          "QM1308",
          "QM1309",
          "QM1310",
          "QM1311",
          "QM1312",
          "QM1313",
          "QM1314",
          "QM1315",
          "QM1316",
          "QM1317",
          "QM1373",
          "QM1522",
          "QM1523",
          "QM1524",
          "QM1525",
          "QM1526",
          "QM1527",
          "QM1528",
          "QM1530",
          "QM1531",
          "QM1249",
          "AR0572",
          "AR0575",
          "QM067",
          "QM134",
          "QM307",
          "QM321",
          "QM398",
          "QM518",
          "QM980",
          "QM982",
          "QM984",
          "QM985",
          "QM986",
          "QM988",
          "QM989",
          "QM990",
          "QM991",
          "QM993",
          "QM397",
          "QM995",
          "QM992",
          "QM996",
          "QM997",
          "QM994",
          "HV447",
          "QM262",
          "QM322",
          "HV480",
          "QM308",
          "QM998",
          "HV109",
          "HV116",
          "QM899",
          "BAR002",
          "BAR003",
          "HV119",
          "HV136",
          "HV205",
          "HV254",
          "HV884",
          "HV950",
          "HV953",
          "HV983",
          "HV455",
          "HV462",
          "HV498",
          "HV521",
          "HV523",
          "HV538",
          "HV594",
          "HV283",
          "HV285",
          "HV326",
          "HV413",
          "HV416",
          "BAR052",
          "QM351",
          "QM365",
          "QM370",
          "QM373",
          "QM380",
          "QM381",
          "QM957",
          "QM958",
          "QM968",
          "QM977",
          "HV245",
          "HV262",
          "HV277",
          "HV599",
          "QM1358",
          "QM1366",
          "QM1368",
          "QM1369",
          "QM1263",
          "QM1264",
          "QM971",
          "HV987",
          "QM093",
          "QM1270",
          "QM1271",
          "QM1272",
          "QM1273",
          "HV813",
          "HV820",
          "HV88",
          "AR0561",
          "AR0562",
          "AR0564",
          "AR0565",
          "AR0566",
          "AR0461",
          "AR0462",
          "AR0465",
          "AR0467",
          "AR0468",
          "AR0469",
          "AR0474",
          "AR0479",
          "AR0480",
          "QM1265",
          "QM1258",
          "HV678",
          "HV733",
          "HV734",
          "HV744",
          "HV901",
          "AR0215",
          "AR0216",
          "AR0217",
          "AR0218",
          "AR0219",
          "AR0220",
          "AR0222",
          "AR0482",
          "AR0483",
          "AR0485",
          "AR0486",
          "AR0223",
          "AR0224",
          "AR0225",
          "AR0227",
          "AR0228",
          "AR0701",
          "AR0702",
          "AR0703",
          "AR0705",
          "AR0706",
          "AR0707",
          "AR0708",
          "AR0709",
          "AR0710",
          "AR0711",
          "AR0712",
          "AR0713",
          "AR0714",
          "AR0715",
          "AR0716",
          "AR0717",
          "AR0718",
          "AR0719",
          "AR0720",
          "AR0721",
          "AR0722",
          "AR0723",
          "AR0724",
          "AR0726",
          "AR0727",
          "AR0728",
          "AR0729",
          "AR0730",
          "AR0567",
          "AR0568",
          "AR0570",
          "PER128",
          "QM1546",
          "QM326",
          "QM397",
          "QM992",
          "AR0461",
          "AR0462",
          "AR0465",
          "AR0467",
          "AR0468",
          "AR0474",
          "AR0215",
          "AR0216",
          "AR0217",
          "AR0218",
          "AR0219",
          "AR0221",
          "AR0223",
          "AR0224",
          "AR0225",
          "AR0226",
          "AR0227",
          "AR0228",
          "QM076",
          "QM294",
          "PER107",
          "QM319",
          "QM867",
          "PER108",
          "QM397",
          "QM992",
          "PER104",
          "QM295",
          "HV146",
          "HV953",
          "BAR032",
          "HV245",
          "HV985",
          "QM1248",
          "QM1252",
          "QM1289",
          "QM1312",
          "QM1317",
          "QM1391",
          "QM1523",
          "QM1524",
          "QM1525",
          "QM1526",
          "QM1527",
          "QM1528",
          "QM1531",
          "QM1249",
          "AR0465",
          "AR0467",
          "AR0468",
          "AR0215",
          "AR0216",
          "AR0217",
          "AR0218",
          "AR0219",
          "AR0220",
          "AR0486",
          "AR0223",
          "AR0224",
          "AR0227",
          "AR0572",
          "AR0575",
          "AR0727",
          "AR0729",
          "QM402",
          "QM067",
          "QM286",
          "QM065",
          "QM076",
          "QM294",
          "PER107",
          "QM319",
          "PER110",
          "QM867",
          "PER108",
          "QM397",
          "QM992",
          "PER104",
          "QM292",
          "QM312",
          "QM295",
          "QM068",
          "BAR032",
          "HV985",
          "QM1248",
          "QM1250",
          "QM1252",
          "QM1253",
          "QM1254",
          "QM1255",
          "QM1288",
          "QM1289",
          "QM1308",
          "QM1309",
          "QM1310",
          "QM1311",
          "QM1312",
          "QM1313",
          "QM1314",
          "QM1316",
          "QM1317",
          "QM1391",
          "QM1523",
          "QM1524",
          "QM1525",
          "QM1526",
          "QM1527",
          "QM1528",
          "QM1531",
          "QM1249",
          "AR0462",
          "AR0465",
          "AR0467",
          "AR0468",
          "AR0474",
          "AR0215",
          "AR0216",
          "AR0217",
          "AR0218",
          "AR0219",
          "AR0220",
          "AR0221",
          "AR0222",
          "AR0223",
          "AR0224",
          "AR0227",
          "AR0228",
          "AR0572",
          "AR0575",
          "QM402",
          "QM067",
          "QM321",
          "QM985",
          "QM986",
          "QM988",
          "QM989",
          "QM991",
          "QM993",
          "QM397",
          "QM995",
          "QM996",
          "HV447",
          "QM262",
          "QM322",
          "QM323",
          "QM308",
          "PER128",
          "QM1007",
          "QM1008",
          "QM1010",
          "QM1011",
          "QM1013",
          "QM1014",
          "QM1015",
          "QM886",
          "BAR006",
          "BAR008",
          "HV109",
          "HV116",
          "QM895",
          "QM897",
          "QM899",
          "BAR001",
          "BAR002",
          "BAR003",
          "HV119",
          "HV136",
          "HV156",
          "HV205",
          "HV254",
          "BAR018",
          "BAR019",
          "BAR023",
          "BAR024",
          "HV884",
          "HV912",
          "HV950",
          "HV953",
          "HV975",
          "QM034",
          "QM088",
          "QM089",
          "HV455",
          "HV462",
          "HV498",
          "HV521",
          "HV523",
          "HV538",
          "HV559",
          "HV594",
          "HV615",
          "HV283",
          "HV285",
          "HV326",
          "HV413",
          "HV416",
          "BAR052",
          "BAR059",
          "QM351",
          "QM359",
          "QM365",
          "QM370",
          "QM373",
          "QM380",
          "QM381",
          "QM957",
          "QM958",
          "QM968",
          "QM970",
          "QM977",
          "HV103",
          "HV107",
          "HV114",
          "HV245",
          "HV262",
          "HV271",
          "HV277",
          "HV330",
          "HV412",
          "HV414",
          "QM803",
          "QM804",
          "QM805",
          "QM806",
          "QM807",
          "QM808",
          "QM810",
          "BAR026",
          "QM1002",
          "QM878",
          "QM879",
          "PER134",
          "QM880",
          "QM882",
          "QM883",
          "QM884",
          "PER159",
          "BAR009",
          "HV740",
          "HV753",
          "HV448",
          "HV500",
          "HV508",
          "HV517",
          "HV599",
          "QM1325",
          "QM1327",
          "QM1358",
          "QM1359",
          "QM1360",
          "QM1362",
          "QM1364",
          "QM1366",
          "QM1367",
          "QM1368",
          "QM1369",
          "QM1370",
          "QM1379",
          "QM1385",
          "QM1388",
          "QM1450",
          "QM1452",
          "QM1263",
          "QM325",
          "QM1440",
          "QM1353",
          "QM971",
          "HV986",
          "HV987",
          "QM093",
          "QM963",
          "QM964",
          "QM1533",
          "QM1270",
          "QM1271",
          "QM1273",
          "QM887",
          "QM960",
          "QM1536",
          "QM1537",
          "QM1539",
          "QM1540",
          "QM1541",
          "QM1542",
          "QM1543",
          "QM1545",
          "QM1456",
          "QM1457",
          "QM1460",
          "QM1461",
          "QM1464",
          "QM1468",
          "QM1469",
          "QM1470",
          "HV794",
          "HV813",
          "HV820",
          "HV88",
          "HV902",
          "QM1546",
          "QM1574",
          "QM1547",
          "QM1549",
          "QM1551",
          "QM1552",
          "QM1554",
          "QM1555",
          "QM1556",
          "QM1557",
          "QM1558",
          "QM1559",
          "QM1561",
          "QM1565",
          "AR0562",
          "AR0563",
          "AR0564",
          "AR0565",
          "AR0461",
          "AR0465",
          "AR0467",
          "AR0468",
          "AR0469",
          "AR0470",
          "AR0472",
          "AR0474",
          "AR0475",
          "AR0476",
          "AR0477",
          "AR0478",
          "AR0479",
          "AR0480",
          "QM1265",
          "QM1259",
          "QM1260",
          "QM1261",
          "QM1262",
          "QM1267",
          "QM1269",
          "HV678",
          "HV733",
          "HV734",
          "HV744",
          "HV754",
          "HV773",
          "HV901",
          "BAR040",
          "AR0215",
          "AR0216",
          "AR0218",
          "AR0219",
          "AR0220",
          "AR0481",
          "AR0482",
          "AR0483",
          "AR0485",
          "AR0486",
          "AR0490",
          "AR0224",
          "AR0225",
          "AR0226",
          "AR0227",
          "AR0228",
          "AR0703",
          "AR0704",
          "AR0705",
          "AR0706",
          "AR0707",
          "AR0708",
          "AR0709",
          "AR0710",
          "AR0711",
          "AR0712",
          "AR0713",
          "AR0714",
          "AR0715",
          "AR0716",
          "AR0717",
          "AR0718",
          "AR0719",
          "AR0721",
          "AR0722",
          "AR0723",
          "AR0724",
          "AR0726",
          "AR0727",
          "AR0728",
          "AR0729",
          "AR0730",
          "QM025",
          "QM026",
          "QM027",
          "QM326",
          "QM328",
          "QM329",
          "QM402",
          "QM1324",
          "AR0567",
          "AR0568",
          "AR0570",
          "QM985",
          "QM986",
          "QM988",
          "QM989",
          "QM991",
          "QM993",
          "QM397",
          "QM995",
          "QM996",
          "QM262",
          "QM323",
          "QM1007",
          "QM1008",
          "QM1010",
          "QM1011",
          "QM1014",
          "QM1015",
          "QM886",
          "BAR006",
          "BAR008",
          "HV109",
          "HV116",
          "QM895",
          "QM897",
          "QM899",
          "BAR001",
          "BAR002",
          "BAR003",
          "HV119",
          "HV136",
          "HV156",
          "BAR018",
          "BAR019",
          "BAR023",
          "HV912",
          "HV950",
          "HV953",
          "HV975",
          "QM034",
          "QM088",
          "QM089",
          "HV498",
          "HV523",
          "HV559",
          "HV594",
          "HV283",
          "HV413",
          "QM351",
          "QM359",
          "QM365",
          "QM370",
          "QM373",
          "QM380",
          "QM381",
          "QM957",
          "QM958",
          "QM968",
          "QM970",
          "QM977",
          "HV330",
          "QM803",
          "QM804",
          "QM806",
          "QM810",
          "QM879",
          "PER134",
          "QM880",
          "PER159",
          "BAR009",
          "HV448",
          "QM1358",
          "QM1366",
          "QM1369",
          "QM1450",
          "QM1263",
          "QM325",
          "QM1440",
          "QM971",
          "QM093",
          "QM963",
          "QM964",
          "QM1533",
          "QM1270",
          "QM1271",
          "QM1272",
          "QM1273",
          "QM960",
          "QM1537",
          "QM1540",
          "QM1541",
          "QM1542",
          "QM1543",
          "QM1545",
          "QM1456",
          "QM1457",
          "QM1460",
          "QM1461",
          "QM1464",
          "QM1468",
          "QM1469",
          "QM1470",
          "HV820",
          "QM1574",
          "QM1547",
          "QM1551",
          "QM1555",
          "QM1565",
          "AR0562",
          "AR0564",
          "AR0565",
          "AR0461",
          "AR0469",
          "AR0474",
          "QM1265",
          "QM1259",
          "QM1260",
          "QM1261",
          "QM1262",
          "HV678",
          "HV733",
          "HV734",
          "HV744",
          "HV754",
          "HV773",
          "HV901",
          "BAR040",
          "AR0215",
          "AR0218",
          "AR0219",
          "AR0220",
          "AR0483",
          "AR0485",
          "AR0486",
          "AR0227",
          "AR0228",
          "AR0703",
          "AR0707",
          "AR0709",
          "AR0710",
          "AR0711",
          "AR0712",
          "AR0716",
          "AR0717",
          "AR0718",
          "AR0719",
          "AR0720",
          "AR0721",
          "AR0728",
          "AR0729",
          "AR0730",
          "QM025",
          "QM027",
          "QM326",
          "QM328",
          "QM402",
          "AR0567",
          "AR0570",
          "QM518",
          "QM985",
          "QM397",
          "QM992",
          "QM262",
          "QM322",
          "QM308",
          "QM086",
          "QM899",
          "HV156",
          "HV205",
          "HV884",
          "HV975",
          "QM034",
          "HV462",
          "HV538",
          "HV594",
          "HV615",
          "HV416",
          "QM958",
          "HV103",
          "HV107",
          "HV271",
          "HV330",
          "HV412",
          "HV414",
          "QM803",
          "QM804",
          "QM805",
          "QM806",
          "QM807",
          "QM808",
          "QM810",
          "BAR026",
          "PER134",
          "HV753",
          "HV500",
          "HV508",
          "HV517",
          "QM1326",
          "QM1362",
          "QM1367",
          "QM1450",
          "QM325",
          "QM1353",
          "HV987",
          "QM889",
          "QM894",
          "QM1456",
          "QM1457",
          "QM1460",
          "QM1461",
          "QM1464",
          "QM1468",
          "QM1469",
          "QM1470",
          "HV794",
          "HV813",
          "HV820",
          "QM1574",
          "AR0561",
          "AR0562",
          "AR0565",
          "AR0470",
          "AR0480",
          "HV733",
          "HV734",
          "HV744",
          "HV901",
          "AR0219",
          "AR0222",
          "AR0701",
          "AR0702",
          "AR0707",
          "AR0710",
          "AR0718",
          "AR0720",
          "AR0722",
          "QM025",
          "QM027",
          "QM326",
          "QM1324",
          "BAR043",
          "AR0568",
          "AR0570",
          "QM321",
          "QM322",
          "QM1522",
          "QM1270",
          "QM1271",
          "QM1272",
          "QM1273",
          "AR0702",
          "AR0706",
          "AR0708",
          "AR0710",
          "AR0711",
          "AR0712",
          "AR0713",
          "AR0714",
          "AR0715",
          "AR0716",
          "AR0717",
          "AR0718",
          "AR0720",
          "AR0721",
          "AR0722",
          "AR0723",
          "AR0724",
          "AR0726",
          "AR0727",
          "AR0728",
          "AR0729",
          "AR0730",
          "QM402",
          "QM397",
          "QM992",
          "AR0564",
          "AR0474",
          "AR0216",
          "AR0217",
          "AR0218",
          "AR0222",
          "AR0226",
          "AR0227",
          "AR0228",
          "QM398",
          "QM518",
          "QM980",
          "QM984",
          "QM397",
          "QM992",
          "QM085",
          "HV116",
          "HV254",
          "HV983",
          "HV498",
          "HV413",
          "QM968",
          "QM977",
          "QM1358",
          "QM1263",
          "QM1264",
          "QM093",
          "PER152",
          "HV88",
          "AR0474",
          "QM1265",
          "QM1258",
          "HV678",
          "HV773",
          "AR0219",
          "AR0221",
          "AR0222",
          "AR0485",
          "AR0486",
          "AR0226",
          "AR0702",
          "AR0703",
          "AR0705",
          "AR0708",
          "AR0711",
          "AR0714",
          "AR0718",
          "AR0721",
          "AR0722",
          "AR0726",
          "AR0729",
          "AR0730",
          "HV950",
          "HV983",
          "HV285",
          "QM370",
          "QM373",
          "QM380",
          "QM381",
          "HV262",
          "QM805",
          "QM806",
          "QM807",
          "QM808",
          "BAR026",
          "QM879",
          "PER134",
          "HV599",
          "QM1450",
          "QM325",
          "QM1353",
          "QM1270",
          "QM1271",
          "QM1272",
          "QM1273",
          "QM1470",
          "HV813",
          "HV820",
          "QM1565",
          "AR0565",
          "AR0217",
          "AR0222",
          "AR0703",
          "AR0727",
          "AR0729",
          "AR0730",
          "QM025",
          "QM026",
          "QM027",
          "QM326",
          "QM329",
          "QM307",
          "QM321",
          "QM398",
          "QM980",
          "QM982",
          "QM984",
          "QM985",
          "QM986",
          "QM988",
          "QM989",
          "QM990",
          "QM991",
          "QM993",
          "QM397",
          "QM995",
          "QM992",
          "QM996",
          "QM997",
          "QM994",
          "QM262",
          "QM322",
          "QM323",
          "HV480",
          "QM998",
          "PER128",
          "QM1007",
          "QM1008",
          "QM1010",
          "QM1011",
          "QM1013",
          "QM1014",
          "QM1015",
          "QM886",
          "BAR006",
          "BAR008",
          "HV109",
          "HV116",
          "QM895",
          "QM897",
          "QM899",
          "BAR001",
          "BAR002",
          "BAR003",
          "HV119",
          "HV136",
          "HV156",
          "HV205",
          "HV254",
          "BAR018",
          "BAR019",
          "BAR023",
          "BAR024",
          "HV884",
          "HV912",
          "HV950",
          "HV953",
          "HV975",
          "QM034",
          "QM088",
          "QM089",
          "HV455",
          "HV498",
          "HV521",
          "HV523",
          "HV538",
          "HV559",
          "HV594",
          "HV615",
          "HV283",
          "HV285",
          "HV326",
          "HV413",
          "HV416",
          "BAR059",
          "QM351",
          "QM359",
          "QM365",
          "QM370",
          "QM373",
          "QM380",
          "QM381",
          "QM957",
          "QM958",
          "QM968",
          "QM970",
          "QM977",
          "HV103",
          "HV114",
          "HV245",
          "HV262",
          "HV271",
          "HV277",
          "HV330",
          "HV412",
          "HV414",
          "QM803",
          "QM804",
          "QM806",
          "QM810",
          "BAR026",
          "QM1002",
          "QM878",
          "QM879",
          "PER134",
          "QM880",
          "QM882",
          "QM883",
          "QM884",
          "PER159",
          "BAR009",
          "HV740",
          "HV753",
          "HV448",
          "HV508",
          "HV517",
          "HV599",
          "QM1325",
          "QM1327",
          "QM1358",
          "QM1359",
          "QM1360",
          "QM1362",
          "QM1364",
          "QM1366",
          "QM1367",
          "QM1369",
          "QM1370",
          "QM1379",
          "QM1385",
          "QM1388",
          "QM1450",
          "QM1263",
          "QM325",
          "QM1440",
          "QM971",
          "HV986",
          "HV987",
          "QM093",
          "QM963",
          "QM964",
          "QM1533",
          "QM1270",
          "QM1271",
          "QM1273",
          "QM887",
          "QM960",
          "QM1536",
          "QM1537",
          "QM1539",
          "QM1540",
          "QM1541",
          "QM1542",
          "QM1543",
          "QM1545",
          "QM1456",
          "QM1457",
          "QM1460",
          "QM1461",
          "QM1464",
          "QM1468",
          "QM1469",
          "QM1470",
          "HV820",
          "HV88",
          "HV902",
          "QM1546",
          "QM1574",
          "QM1547",
          "QM1549",
          "QM1551",
          "QM1552",
          "QM1554",
          "QM1555",
          "QM1556",
          "QM1557",
          "QM1558",
          "QM1559",
          "QM1561",
          "QM1565",
          "AR0562",
          "AR0564",
          "AR0565",
          "AR0461",
          "AR0465",
          "AR0467",
          "AR0468",
          "AR0469",
          "AR0470",
          "AR0472",
          "AR0474",
          "AR0476",
          "AR0477",
          "AR0478",
          "AR0479",
          "QM1265",
          "QM1259",
          "QM1260",
          "QM1261",
          "QM1262",
          "QM1267",
          "QM1269",
          "HV678",
          "HV733",
          "HV734",
          "HV744",
          "HV754",
          "HV773",
          "HV901",
          "BAR040",
          "AR0215",
          "AR0218",
          "AR0219",
          "AR0220",
          "AR0481",
          "AR0482",
          "AR0483",
          "AR0485",
          "AR0486",
          "AR0224",
          "AR0227",
          "AR0228",
          "AR0701",
          "AR0703",
          "AR0705",
          "AR0707",
          "AR0708",
          "AR0709",
          "AR0710",
          "AR0711",
          "AR0712",
          "AR0715",
          "AR0716",
          "AR0717",
          "AR0718",
          "AR0719",
          "AR0720",
          "AR0721",
          "AR0722",
          "AR0724",
          "QM025",
          "QM027",
          "QM326",
          "QM328",
          "QM402",
          "QM1498",
          "QM1499",
          "QM1501",
          "QM1503",
          "QM1472",
          "QM1473",
          "QM1474",
          "QM1476",
          "QM1324",
          "AR0567",
          "AR0568",
          "AR0570"
         ],
         "legendgroup": "Resistant",
         "marker": {
          "color": "tomato",
          "symbol": "circle"
         },
         "mode": "markers",
         "name": "Resistant",
         "showlegend": true,
         "type": "scattergl",
         "x": [
          0.1258495595028046,
          -0.04304311806008958,
          -0.12528047846865176,
          0.04855051872554947,
          0.1085433364618861,
          -0.02271961182495605,
          -0.12836357860023714,
          -0.008121134896778903,
          0.12959639708377338,
          0.09874538719478396,
          -0.010137148986978983,
          0.023496199373654797,
          -0.12233741121224245,
          -0.005775992864599844,
          0.0326418265473504,
          -0.05045951019570945,
          0.036820047023882335,
          0.12822821439252088,
          0.08985689664413729,
          0.055010060582640685,
          0.08330913739796605,
          0.04155758325198858,
          0.135462815433923,
          0.11206301832836993,
          0.11881659986888085,
          -0.11995906248091551,
          0.003085036211992742,
          0.004560864993419678,
          -0.013463917778308854,
          0.04789104977862557,
          0.05790102343999856,
          0.1416628622054558,
          -0.12332548130677444,
          0.014303241553626389,
          0.005006530565002831,
          -0.12147796864483373,
          -0.006286522688024571,
          0.030813207035249146,
          -0.03009491887560535,
          0.05348486686433834,
          0.044094438102039835,
          -0.13334931285353288,
          -0.13135295952554382,
          0.11369021512394581,
          -0.1134819176217606,
          -0.056151069973387396,
          0.13104862158224326,
          -0.1405181998401295,
          -0.13834063147388725,
          -0.06486423708135576,
          -0.11254664741958824,
          0.08714671179446543,
          -0.0830398594056661,
          0.0416060076569397,
          0.13793459414786088,
          0.018213007531741987,
          -0.13911711503937874,
          0.1229362737992584,
          0.01244321559146963,
          0.056497915558384904,
          -0.1152468207712508,
          -0.1474224520772697,
          -0.08794754379017658,
          -0.10622649663729711,
          -0.028160348287902676,
          -0.030349636315365816,
          0.0922419978183586,
          -0.07189692113409642,
          -0.13691687474853634,
          0.09562361936095876,
          0.06661057850975438,
          -0.13736953399813587,
          0.04183493509947753,
          0.0864976391359919,
          0.09848704697015939,
          -0.07347626790002024,
          -0.044886818741365894,
          -0.09703910584535064,
          -0.030267517449505885,
          0.01979729557695012,
          -0.03388407815209302,
          0.01107449064955085,
          -0.02377497508697496,
          0.14508699530993,
          -0.095790948948103,
          0.10346795689998847,
          0.1335044592096786,
          0.04929604355169703,
          -0.05838715268926098,
          0.11739721989588173,
          -0.058220966123703255,
          0.13218789105064235,
          0.1240477757503877,
          -0.008456106187613305,
          0.08282454919480692,
          -0.0159563600476198,
          -0.13067018492128923,
          -0.12605869655918775,
          -0.08888898215521157,
          0.05095789349642499,
          0.1073321830082817,
          0.10198526702105185,
          -0.1409464524230173,
          0.14256586215856945,
          0.14342099359362384,
          -0.03950232824877262,
          -0.05380193048945846,
          0.10473542229626362,
          0.11910575446893398,
          0.10284497636766385,
          0.05630802115113659,
          -0.09519803869434043,
          -0.13352483060451545,
          -0.014675108119906632,
          -0.0320809998486183,
          -0.1305921823465063,
          0.10755850122893165,
          -0.020301416248646065,
          -0.07977516677306483,
          0.13953571800665063,
          -0.06475867972959533,
          0.07166298439460556,
          -0.08061099217652531,
          0.05093379761970526,
          -0.10550661624596756,
          0.9121919524578255,
          0.9538100653086314,
          1.0116013148747423,
          0.8587063928498806,
          1.1291386569585324,
          1.1083508994966016,
          1.1227315573408447,
          0.9927078113432242,
          1.0266472870372283,
          0.894715415482896,
          1.1220967616281732,
          1.0804159869542316,
          1.054738392186165,
          1.1205908036812946,
          0.9024180566369219,
          0.8602725678933905,
          1.0232361220837574,
          0.9629368687039677,
          0.9796464011344126,
          1.0972076988614115,
          0.968993345066277,
          1.0397696422579923,
          1.075299033654964,
          1.109696316351876,
          0.908389105390045,
          1.027686167641889,
          0.9031574948901343,
          0.8658899605679675,
          1.0259213001135024,
          0.879057915161712,
          0.8948596572831857,
          0.9047065117710877,
          0.9420498886887595,
          1.1325164239385785,
          1.1125405513258972,
          1.1107826123086937,
          0.9879741474365744,
          0.9691620817270736,
          0.9560671786799406,
          1.0062388981138075,
          0.8853805110619255,
          0.9999679341959486,
          1.1160943017314802,
          1.0129271872513002,
          1.1405059225216332,
          1.041141516575648,
          0.9428581102962572,
          1.0786530504959142,
          0.8958480124498573,
          0.8811917997893529,
          1.1173531420930072,
          1.1056647047636161,
          0.9302958809930653,
          1.1374952187080418,
          0.9040569614823554,
          1.1057412782353955,
          0.9738560299263186,
          2.9379683501860794,
          4.134679416261221,
          5.036964391919668,
          5.06492357838664,
          5.08620176879995,
          4.991659970847776,
          5.122769407107992,
          4.8725027496813045,
          4.96195201498767,
          4.961723530646327,
          4.878289134151759,
          5.146010141855411,
          4.875188761284139,
          4.89547294624425,
          6.016180342742617,
          6.105768698573341,
          5.997091643835371,
          5.883584282156148,
          5.8551182642374,
          5.96964968043893,
          6.0077038653438235,
          6.063176982908327,
          5.926097116472114,
          5.9593950630368075,
          6.0643897886791205,
          5.981864876065448,
          5.92352744491288,
          5.978134940081131,
          5.913632516456918,
          6.108517431034892,
          6.116124420662527,
          5.892527999419397,
          5.907069663897429,
          5.970619670186352,
          6.0726143944848925,
          5.980543864792843,
          6.005194241087581,
          5.973366741319527,
          6.119270324604621,
          5.908955540621174,
          6.046462502777298,
          6.0417622180105575,
          5.993254911101833,
          5.978943692433556,
          5.873223950167186,
          5.924259610339895,
          6.035740239524811,
          5.973789156312112,
          5.955485152323446,
          5.923236289453404,
          6.048109771720751,
          5.9038155410699025,
          5.937433975847089,
          5.858913589903552,
          6.144841616186958,
          6.0378893820370285,
          5.908170431515412,
          6.040072081454878,
          5.983214849967757,
          5.982389393742584,
          6.086209084940203,
          6.851651976785073,
          7.910628356659758,
          7.969460870078775,
          8.023393101840925,
          7.932994190166441,
          7.972637419435437,
          7.89362298753683,
          8.119554734740436,
          8.140201581767986,
          8.05561003677198,
          7.987363194126325,
          7.861096919887587,
          8.083849674691264,
          8.08054005057536,
          7.990998958501965,
          7.9313128406659,
          7.905641755922974,
          8.13257600244687,
          7.8784652759480736,
          7.86595499500519,
          8.014283090910084,
          8.061684235352786,
          7.972626059355439,
          7.9589059732666145,
          8.008158953285992,
          8.126268324981798,
          7.8537656261681414,
          7.956819946913679,
          7.894890403862069,
          7.886491906200943,
          8.038094893404448,
          8.073291285794243,
          8.027585268558324,
          8.030477062767252,
          7.998388947874708,
          8.009040078630443,
          7.893733093002769,
          7.941163661450042,
          8.050816343864122,
          7.941995432238038,
          7.98097624261317,
          7.995198127080945,
          8.047579193468922,
          7.979980816456722,
          8.039617970504668,
          7.935973525997498,
          7.880984273095475,
          7.982298454034007,
          7.95278031772887,
          7.96411858354981,
          7.889102241254905,
          8.08318643772138,
          7.903680456773041,
          7.939489672766222,
          7.867862291195264,
          8.042756588165474,
          8.111595797240955,
          8.092213037601839,
          8.027130252662396,
          8.05630601451673,
          8.096521714876486,
          8.058301166466403,
          7.913742206576157,
          8.08643446767542,
          7.970687986871204,
          7.982929816122106,
          8.147281322535177,
          7.987689681743131,
          8.111216590480216,
          8.072713861824418,
          8.107911469114038,
          8.041759609363096,
          8.07780250327122,
          7.865984588897627,
          7.927910108299737,
          8.031897657960416,
          7.941175160978901,
          7.8740706317219775,
          7.933286440445679,
          7.939488878472423,
          8.08361104346951,
          7.935669416128706,
          8.05408349246872,
          8.121536605786796,
          7.87300097289707,
          8.111389359182661,
          8.078311626995513,
          8.138893398479892,
          8.067161885055262,
          7.864959867798436,
          8.000489065431623,
          8.085191630426644,
          7.978648995519017,
          7.979494243335797,
          7.852640084814285,
          8.030917554984248,
          8.087798795187096,
          7.901435137206674,
          7.99459322426736,
          7.934346118661719,
          8.059216646176145,
          7.922798759983597,
          7.9145928999551485,
          8.033252309547736,
          7.874510771099791,
          8.135849072431274,
          7.8898553916173295,
          8.023727383368948,
          8.015026730944289,
          8.093905573978668,
          7.9716836060192495,
          8.068703101552805,
          7.8567179778192795,
          7.9164499718781025,
          8.104589386018779,
          7.917099893187202,
          8.085015276816819,
          8.023059820372243,
          8.091071397056254,
          7.8508849807166845,
          7.915518625692977,
          7.947787116865013,
          8.112476386423655,
          8.064542665544039,
          8.143605063956366,
          8.000644265475517,
          8.146150222656921,
          8.087626644127832,
          7.9127748316785445,
          7.940333478688004,
          7.910575663517064,
          8.145582723950263,
          7.9337754692854725,
          8.11829330313764,
          8.024455576779363,
          7.9137367110485375,
          8.070055494554405,
          8.10616328450113,
          7.949471394403488,
          7.918710956963518,
          8.08536669966247,
          7.865478650997097,
          7.881535404232037,
          8.045714876619598,
          8.010659364021242,
          7.910162322270275,
          7.8940616935449315,
          8.08662052580671,
          8.115453794125154,
          7.932215214599739,
          8.075870616764059,
          8.905631218305274,
          9.071211401199788,
          8.874413110021788,
          10.897829196646176,
          11.012759696246166,
          11.055190280880993,
          10.898355100659355,
          10.8760903457025,
          11.002273046489266,
          11.092157656302076,
          11.016126407918632,
          11.149639504236676,
          10.913557198785622,
          10.943048262661566,
          10.967865241796362,
          11.109315434628181,
          10.902167186193367,
          10.982153348977652,
          11.148144139614276,
          10.91038986740882,
          10.961426138963143,
          11.11796042957617,
          11.071083905477872,
          11.946504986078219,
          11.925097867940291,
          11.988843107024652,
          11.857235072497987,
          12.012657887591255,
          11.934312754073158,
          12.08699604655246,
          11.98699818797644,
          12.04614185859181,
          12.069532345120196,
          11.988998770989953,
          12.126127965402524,
          12.11257508876569,
          11.963137939923316,
          12.07172381315902,
          12.08505019093918,
          12.12380074584164,
          11.953527876706067,
          12.028929183424376,
          12.097194536024686,
          11.87354997645581,
          12.111403944903062,
          11.925356531103949,
          12.135587798135889,
          11.917946417955427,
          12.096651807111842,
          12.13572682160089,
          12.029968280299125,
          12.088123624146679,
          11.910263383001203,
          12.004787690736334,
          12.017271477342092,
          12.123956199632318,
          11.948173862410853,
          11.896682132113774,
          11.908318615658924,
          11.918584859046994,
          12.016740592846212,
          12.045797447389656,
          11.918462010164616,
          12.025987829254824,
          12.036154523166317,
          11.875693370630275,
          11.92282642460404,
          11.944739422613011,
          11.878070110643073,
          11.991069961532371,
          11.96514246342316,
          12.980809426850824,
          12.935014907428359,
          12.870100375693774,
          12.885771513415142,
          12.988932955647389,
          12.890840374461511,
          13.13719509597217,
          13.086183989146377,
          13.086533884335818,
          13.01821045977834,
          12.919419453134136,
          12.928414910867726,
          13.01369393896455,
          12.932230226590292,
          12.963293283104504,
          12.925521958760058,
          13.092455791959289,
          13.029479551641824,
          12.99765670647187,
          13.093529106310765,
          13.018102600081123,
          13.117178448907277,
          12.86932472243068,
          13.075595573344122,
          13.069089561771992,
          13.066238785555035,
          13.036844170740228,
          13.095541870089479,
          12.877010874643934,
          13.095364238551117,
          13.010284816238292,
          13.041935171062354,
          13.148943798456934,
          13.10260204392171,
          13.111568664008578,
          12.927300156185215,
          13.127900239772522,
          13.06024500574875,
          12.97005693119298,
          13.014931309485858,
          12.917196239409328,
          13.033731041094217,
          12.90609442532778,
          13.006116564657814,
          13.075933817099967,
          12.966619356859878,
          12.932502140046909,
          12.99799764440703,
          13.014750368918342,
          12.995012116111697,
          12.982332683495656,
          13.112407952809837,
          13.034998077453082,
          13.007336693789231,
          13.004084117027313,
          13.068848951874434,
          12.878123491634213,
          12.90839781528433,
          13.072403845483109,
          13.10053365803904,
          12.856151848797001,
          12.958736319712273,
          12.963101701862414,
          12.933011609951544,
          12.988379666190584,
          14.090723129069907,
          14.122808840331041,
          14.148308260591678,
          13.996596041731028,
          14.131688183486611,
          13.988156140366144,
          14.028577403408653,
          13.944164559742894,
          14.039927427995497,
          13.921711362179972,
          13.959958053866117,
          14.055402197646682,
          14.108777567127085,
          14.13004009240704,
          13.914338706457809,
          14.06337584400339,
          14.091491579471588,
          14.058196605812023,
          14.049233362834967,
          14.048724763227558,
          13.91692594585906,
          14.142558300356596,
          13.90308919701886,
          13.994436554907924,
          13.98095958172674,
          14.077959089028408,
          14.111047023404728,
          13.8613644359989,
          13.884881440040694,
          14.130695667678724,
          14.139144263102333,
          14.008172550231686,
          13.883387615985466,
          13.86628276285396,
          13.852633760405942,
          13.894334118709397,
          14.037539009393262,
          14.010531973817034,
          13.908342645963007,
          14.12680914576962,
          13.947397229223437,
          14.070590007642744,
          13.993210568000368,
          14.099517186881004,
          13.93788697016155,
          14.065257449912641,
          14.049488649593595,
          14.015641362742855,
          14.003798641999689,
          14.133180839703906,
          14.05083937596705,
          13.957094072784294,
          14.071887971123191,
          14.058448937284883,
          13.954877801619375,
          13.907426401809634,
          14.125696053894012,
          13.996924191631065,
          14.109281702923914,
          13.998719828435503,
          14.12580636193534,
          13.868410093430233,
          14.141023795789662,
          13.880549819705202,
          13.9201940597083,
          13.85303013327007,
          14.100836228665523,
          14.033449901605609,
          13.997081322971134,
          13.94884623208115,
          14.021676832358049,
          13.905481693710756,
          14.080766157970789,
          14.094661369830483,
          14.146336867017643,
          13.978101893478653,
          13.905370786602319,
          14.129815618362043,
          14.038942571141328,
          13.895596193394695,
          13.947019947134086,
          14.11101466153028,
          14.106868103245061,
          13.931605701728529,
          13.901606564938872,
          13.97806771624629,
          14.0000578710991,
          14.001069642091927,
          13.884251235918555,
          13.957841663883343,
          13.897703365221425,
          13.980354289216788,
          13.853500147551241,
          14.106278130582902,
          13.998293511179257,
          13.883853328968545,
          13.887973652156026,
          14.111213557480118,
          13.867798387964191,
          14.007682451916684,
          13.988277751049166,
          14.078081666218791,
          13.996521462718228,
          13.913588489114993,
          13.895011061773229,
          14.015779885384617,
          14.075456263290363,
          14.073575488447515,
          14.113969404505502,
          14.04416571663234,
          13.988994515897103,
          14.077944333829937,
          14.136524060724524,
          13.97517626512186,
          14.050768082840458,
          14.109678771217384,
          13.87596957431661,
          13.894244752787401,
          14.07779578680318,
          13.977830923082061,
          13.98495481897321,
          14.10011842826645,
          14.006421123978956,
          14.012836956161006,
          13.9951571431272,
          14.104536606191864,
          14.060909104962013,
          14.134835862560786,
          14.078867633528702,
          13.942282823750828,
          14.124621583832853,
          14.085084896203737,
          13.970160652182509,
          14.030598978940306,
          13.93813542753919,
          14.134999428933169,
          13.868858574209957,
          14.069850166143032,
          14.00809320230296,
          14.029176031688493,
          14.003663736325652,
          13.973991694288397,
          14.103421133618625,
          13.88607169463169,
          14.051735616178037,
          13.984524116674125,
          13.98884301565471,
          13.892484832191926,
          13.937958943637089,
          13.96965276981679,
          14.104350460708348,
          14.066060228338156,
          14.028135779836381,
          13.890428681640353,
          13.948730324428036,
          13.87434110018398,
          13.883409945487982,
          13.983052030334042,
          14.117940388262411,
          14.125225385177098,
          14.137676974720584,
          14.041691898566496,
          13.855326942929103,
          14.036923292933857,
          13.991625995400817,
          13.94823184514525,
          13.909513996528657,
          13.930175646856124,
          13.883292704953186,
          14.05734276006532,
          14.116034559484739,
          13.890782359959262,
          13.887163988145351,
          13.927135073044015,
          13.876380427793153,
          14.055662422371952,
          14.075210919097927,
          13.953203601314634,
          13.920819466515557,
          13.939989815904944,
          13.873753092600014,
          13.944143839247483,
          13.979399775503664,
          13.873865429828905,
          14.0947005772116,
          13.903749926942426,
          14.01167635535102,
          13.874640564307072,
          14.118202912560237,
          14.135238639682136,
          13.966756309532066,
          14.1017458123714,
          13.968677373339872,
          14.141081834691805,
          13.921369124475037,
          14.142779073848859,
          13.954991362518175,
          13.910925176325893,
          14.041907207662911,
          13.987559972336843,
          13.986315359546897,
          14.115847570796552,
          14.109099729585456,
          13.995535338267048,
          14.087526884803843,
          13.968150928367097,
          14.115199211733655,
          14.081953811919176,
          13.974732114003098,
          13.999813431712738,
          13.92794787950517,
          14.139381763038983,
          13.861856290664678,
          13.953496505334865,
          13.86245942775055,
          13.934818445150775,
          13.851717903970158,
          13.917085199116208,
          13.924246679612075,
          14.013940566712169,
          14.131077517038925,
          13.917474089989927,
          13.904882573483407,
          13.919809509681219,
          14.088628184015965,
          13.948457674416586,
          14.031146092157545,
          14.138082297327589,
          14.14774022659139,
          14.10818077918249,
          14.001973274737205,
          13.86295024115477,
          13.85557219853121,
          14.081765224097278,
          14.000416214946085,
          13.94385426347465,
          13.85847166639364,
          14.145101599828573,
          14.052503252921252,
          13.890894648823503,
          13.983891098032341,
          13.8561011895618,
          13.889108694783413,
          14.125805529746723,
          13.872393672540081,
          14.11701023106275,
          14.04268503550327,
          13.88749920990998,
          14.03939973718323,
          14.026166625305919,
          13.940760325800067,
          13.956870562620923,
          13.915798453415585,
          13.884826480923808,
          14.021893064411715,
          14.051528820557863,
          14.123038275884712,
          13.941669798824261,
          14.111984041908121,
          14.004665343607556,
          13.899005538909261,
          14.09095884705288,
          13.889116897496368,
          13.966743112599643,
          13.889562783874442,
          13.884440177241602,
          14.01697855089306,
          14.000237633859337,
          14.93519896119968,
          15.141115029305244,
          15.072394545646407,
          14.952245983438228,
          15.001518730435182,
          15.03340304880319,
          14.852265373704292,
          15.084220663094888,
          14.927503759330058,
          14.907469763841258,
          14.95732896890453,
          14.87466179877009,
          14.866071446971302,
          15.055337341320465,
          15.004176306505332,
          14.890816149622841,
          15.149073911905528,
          14.934918295121351,
          14.926593731757881,
          14.875144419972168,
          14.941495180702688,
          15.082236283500489,
          15.050406799823485,
          14.866523755939193,
          15.147116340054003,
          14.915183335695762,
          15.076939901740214,
          15.04916246014197,
          15.072514007845285,
          15.100146857750863,
          15.139067976820561,
          14.964188406612383,
          15.11927556009087,
          15.135509706420306,
          15.14351758720074,
          15.13938786702412,
          14.917291921513606,
          15.02846913338172,
          14.989205871412143,
          15.007954391034605,
          15.068073096997136,
          15.05285904165923,
          14.854905058515346,
          14.98499367423596,
          14.907543713079162,
          14.958199903453172,
          14.854951459850534,
          15.059461515867914,
          15.039920102888633,
          15.042932071622914,
          15.041104481184545,
          15.125832494053313,
          15.113815980796096,
          15.000708171646881,
          15.116934874708,
          15.107878572835569,
          15.034410710880948,
          14.87418484073477,
          14.88117736417619,
          14.891449372806678,
          14.880923109774248,
          15.04597303260269,
          14.992417191555141,
          14.981085443216077,
          15.034584048366312,
          14.95359066044959,
          15.062165246852492,
          14.871284074859604,
          15.00470502880796,
          15.040274202040262,
          14.956502777744626,
          14.959323214085808,
          15.101455929447061,
          15.065455272595978,
          15.041556433400537,
          15.069708738516425,
          15.007280212152557,
          15.01084996594062,
          14.934948398598355,
          15.146643166684344,
          14.945467115967991,
          15.096524227233756,
          15.104921795007598,
          14.981591138236903,
          14.942969889638121,
          14.919792641493917,
          14.918990687531318,
          15.025175590946871,
          15.037964353936866,
          15.093866081752493,
          14.988891500493393,
          15.081838611402086,
          15.004725589096292,
          15.0187247509081,
          15.057391847518895,
          14.87294554916397,
          14.939723946390378,
          14.938917739679924,
          14.93817241307157,
          14.989449780170412,
          15.036893880727163,
          14.956417302795089,
          14.862363567905856,
          15.045239965231307,
          15.013084947306021,
          15.103829558656512,
          15.066137104118672,
          14.97587088729011,
          14.952373619820102,
          15.0484690101394,
          15.116611149780516,
          15.13901858069224,
          14.891680013165804,
          14.963092787917404,
          15.062802189154684,
          15.058905736535456,
          15.113361100360304,
          15.116801819350941,
          14.860660737661044,
          15.068883541009518,
          15.128666531434662,
          14.907936843075994,
          14.989836589922971,
          14.949334941763588,
          15.10874592603406,
          14.854368416779336,
          14.949298851276275,
          14.997439009298175,
          15.122897145182524,
          15.03348255303979,
          15.048518834858063,
          15.059862483926462,
          15.144930596431196,
          15.043295449104859,
          14.858560918349648,
          15.093309080281866,
          14.922059778950864,
          15.1352622937303,
          15.114261225798092,
          14.974114708051681,
          15.004235443250721,
          15.141744285347317,
          15.04262164786118,
          14.954528325708258,
          15.064831769267956,
          15.043791650083294,
          14.987260417227322,
          14.8745599307653,
          15.017640034263115,
          14.949994905957636,
          15.040126627715946,
          14.951587470819593,
          15.07866184478549,
          14.992635153980025,
          14.870152277031888,
          14.910123981143737,
          15.01922909014342,
          16.11672863169875,
          15.903216528291866,
          15.940418284160373,
          16.093841366941128,
          15.992209576871378,
          15.911319186427823,
          16.029927668064087,
          15.984294646806251,
          15.899972230940326,
          16.107090784028916,
          16.130352529088157,
          15.97604931258313,
          16.139955676920607,
          15.858339660384894,
          16.064424223471665,
          15.96432399118317,
          16.10629578236737,
          15.995566132377368,
          15.952356421455704,
          15.996577906723186,
          15.983735638338267,
          16.125813221949556,
          15.937621044994232,
          16.132795046254675,
          16.088166698224104,
          15.999800801387645,
          15.888707113673483,
          16.02276239136742,
          15.97839282759068,
          15.867058794741041,
          15.944555179500453,
          16.10192708268156,
          16.017600897372393,
          16.129234948154163,
          16.052533615028114,
          15.902173452212416,
          16.138776573286815,
          15.962935383938854,
          16.07745394099882,
          15.87205252092847,
          15.996503237336059,
          16.145649802035926,
          15.888723564717727,
          15.987332761940674,
          15.896513846163934,
          16.08053470846818,
          15.988043540892368,
          15.861511480229083,
          15.959115186976696,
          15.926717918223344,
          16.141454640487968,
          16.117768225262203,
          16.128714596890557,
          16.078643174680465,
          16.04532956640082,
          15.97305179894464,
          16.06665915102569,
          16.000580471596738,
          15.855011229067129,
          16.03252377836878,
          15.970986792635918,
          16.100324521013622,
          16.00309956675627,
          16.028862277622643,
          16.079814043355707,
          16.070150471322545,
          15.975778413788904,
          16.010999866961544,
          16.081177589612288,
          16.004127924406095,
          15.973079226711027,
          16.12927608520153,
          15.95610594453204,
          15.93893331620282,
          16.1052229659399,
          16.064731790576662,
          16.122360383226578,
          15.924240875012636,
          16.04421224792455,
          16.063843599691165,
          16.111762946340505,
          16.06493160737868,
          15.964010703753145,
          16.01447719574539,
          15.979127060294042,
          17.101773943444375,
          16.990262213239742,
          17.137032686778824,
          16.933385967179536,
          16.92550747285161,
          16.866444905071468,
          17.08868205413572,
          17.094826424224273,
          17.037620941114664,
          16.965112445671128,
          16.936209256485196,
          17.147566298142085,
          16.887428278106615,
          16.996677291559426,
          16.874480748176666,
          16.970135279757198,
          16.907830805798262,
          17.01984871104653,
          16.960419394961317,
          16.95491401598963,
          17.131724311378523,
          17.06462726036227,
          16.90492583634169,
          16.939866060969745,
          17.008922893559443,
          17.081611016678018,
          16.918503817374905,
          16.877695330513973,
          17.10470218365212,
          17.103241741506867,
          18.141813128202006,
          18.017289698880553,
          17.850203186525892,
          17.975134795193114,
          17.891524302837066,
          18.094253426535595,
          18.13434916067664,
          18.116299855784227,
          17.872775798107273,
          17.898206981814138,
          18.10176705223413,
          19.122896321765968,
          19.0728384328932,
          18.85910180234996,
          18.896205833496264,
          19.058969606353525,
          18.96507645643239,
          19.144384814155487,
          19.017809876775893,
          18.995338949022894,
          18.93979778629037,
          19.122771040809518,
          18.89905245500882,
          18.987403995819573,
          19.101748716633175,
          18.93547396181177,
          19.068391600969644,
          18.858320659813522,
          19.098863196892466,
          18.945507378111067,
          19.0076686411894,
          18.896739650308042,
          18.918951123728448,
          19.101420268847637,
          18.95510578205712,
          18.857256666534514,
          18.90887047089661,
          19.120531928446507,
          19.110381280688948,
          18.966144390462812,
          18.92256495844069,
          19.13930849668244,
          18.934453741883036,
          19.080048740539105,
          19.12762789810076,
          19.053741641704686,
          19.042663123910927,
          19.06191768991209,
          18.937441155184512,
          18.879251794342892,
          18.86358167669553,
          19.01599947525551,
          19.105415177958918,
          19.013253740885204,
          19.87021473369468,
          19.859726124458646,
          19.883141565100797,
          20.043775976831633,
          20.024046693674848,
          19.894905129299794,
          20.0484242671258,
          20.05113621240646,
          20.05057607944551,
          19.95836718475869,
          19.990029146805924,
          20.01579405107598,
          19.90780909713786,
          20.02128711860096,
          19.906724605186366,
          20.069875534408975,
          20.144129979329378,
          19.898622775425117,
          20.094550288335434,
          20.06051509960409,
          20.03494052838922,
          19.925066786356854,
          20.04230420819621,
          19.999042314890417,
          20.14217702391528,
          19.926206673324543,
          19.89231717384195,
          20.00169187883717,
          19.91667527832515,
          20.07014578158737,
          19.952122060017423,
          19.899820580601435,
          19.869688707251825,
          20.031655179580174,
          20.098354196155665,
          20.107885058428742,
          19.87104763903979,
          19.930138470973976,
          20.090194722121847,
          20.93503439405343,
          21.095035869438266,
          21.130536146113297,
          21.023870518718553,
          21.059474333169007,
          20.958752226200374,
          20.902290957494493,
          21.035702113898417,
          20.85193924209007,
          20.9974505857349,
          21.071030023136448,
          21.066358394678904,
          20.93762809449116,
          20.852867313266856,
          20.897538184847598,
          21.050283452445683,
          20.925961155306982,
          21.144344392365156,
          21.052702679583177,
          20.875938717050506,
          20.92579565869946,
          21.09750460891136,
          20.923581853624615,
          20.87874671669708,
          20.853714889260953,
          21.0140523706601,
          21.025636367110142,
          20.909542991397572,
          20.98996986310046,
          20.925667312671962,
          20.928407369793675,
          21.065895875307405,
          21.002552467246087,
          21.02678586741294,
          20.955590234707536,
          20.993582110746903,
          20.933229842640944,
          21.023458769677386,
          20.874536645861827,
          20.956110238739974,
          20.93588734857652,
          20.946232979824828,
          20.888033347447042,
          21.051734320838023,
          20.86107618647458,
          21.11915242444452,
          20.96833954898397,
          20.96752241444817,
          20.996992750783413,
          20.90869710247453,
          21.08773866848168,
          21.087938665434724,
          21.00045820591547,
          20.89838491596931,
          20.983898381234713,
          21.039600878537723,
          21.030381582046143,
          20.92015517775057,
          21.072553435573706,
          20.927311718770607,
          21.064234751186923,
          21.032183122128302,
          20.89428401175808,
          21.14170889491686,
          20.986968646136244,
          21.136947816225476,
          20.900031823793785,
          20.955020165659143,
          21.025322313809372,
          20.959284188796946,
          20.898644858243767,
          21.00666219689568,
          21.10467043713546,
          20.904662214721068,
          21.10088266141241,
          21.07468044603666,
          20.8592069038515,
          20.85452225156797,
          20.865554183431875,
          20.872320689728568,
          20.8924451911868,
          20.909935770025587,
          20.930729298222747,
          20.95010916269305,
          21.032800229546435,
          21.103645808005698,
          21.07241739814999,
          21.060472585445396,
          21.11640136360156,
          21.036311339419218,
          21.02904669602215,
          21.142125363264956,
          21.084881932665414,
          21.14999951122469,
          21.036380623589462,
          21.050560295133913,
          21.07345712652669,
          20.91961414307712,
          20.894449873841413,
          20.993637626807157,
          21.141552693002417,
          20.92090610039725,
          20.87784420089083,
          21.140113942818846,
          20.874648364087037,
          20.879845685324554,
          21.066760613345537,
          21.106636569353043,
          20.96991411035249,
          20.9921477617763,
          21.01253802783623,
          21.108424467496373,
          20.914341540594677,
          21.031646391394297,
          20.87204864780378,
          20.998124431047493,
          21.076460399779926,
          20.950149444103253,
          20.923711917127434,
          21.146220659900912,
          20.988849373434547,
          20.87550665397177,
          20.87554638105385,
          21.102796759398537,
          21.02666109585624,
          21.00719823858531,
          21.149577530137073,
          20.995335740104057,
          20.952165163494428,
          20.863950188681052,
          21.05741960785428,
          20.899937565687924,
          21.084508805956627,
          20.911024734929114,
          20.901832526310496,
          21.075380508955632,
          20.914131248172822,
          21.063253910234064,
          20.96937717615371,
          20.898899039560455,
          20.96591011003237,
          20.873243195638885,
          21.042640993388705,
          21.007415166940522,
          21.11801831996674,
          21.03927784053562,
          21.0963996530695,
          21.01005544429408,
          21.03927918732109,
          20.866019021641787,
          20.9535101022789,
          20.87108933748859,
          21.10028474934624,
          20.92211008785451,
          21.144579621326834,
          21.104527429711805,
          21.006359867797634,
          20.934846085089113,
          21.131123806503908,
          20.993083552886482,
          20.99481832188882,
          21.034526772704908,
          20.877936083946985,
          21.124954440743128,
          21.020001862902845,
          21.068902727942096,
          21.033180089468573,
          21.006693193588394,
          20.964403487180398,
          20.966592054664645,
          21.000324706634643,
          21.100891019830676,
          21.00188235690466,
          20.912525679926922,
          21.144360031937843,
          21.080575996998547,
          21.141604697756524,
          21.12716839662447,
          21.02675005797922,
          21.09056850444383,
          20.957041308695256,
          21.03721553644181,
          20.85476798813709,
          21.044596117706742,
          20.99325534696223,
          20.975609861070154,
          20.8562566735358,
          20.864782202564104,
          21.0678974297167,
          20.91269359761489,
          20.95708195004475,
          21.105034463087005,
          20.938130331470955,
          21.01195342620409,
          20.912169009407272,
          20.86519547672846,
          21.09559115214938,
          20.85117705696046,
          21.070986755502854,
          21.081173793063684,
          20.926160734516742,
          20.951057705950358,
          21.046057403068122,
          21.067385992519384,
          21.098087635057343,
          21.099799115963506,
          21.112603007257686,
          21.105008422094542,
          21.11235861851958,
          21.009059944710504,
          20.92000533527655,
          20.917714259390277,
          21.122375560807352,
          21.026223805568716,
          21.041280473832504,
          20.894712332595983,
          20.991053111757537,
          21.008307598788047,
          21.124414170667873,
          21.016600353886805,
          21.03056100191343,
          20.984343432815503,
          21.128115517383925,
          21.01043557260816,
          21.14236596666658,
          21.082810388328912,
          20.886896174527962,
          20.867465082411776,
          21.051804872521988,
          20.904930440872135,
          21.049830901607578,
          21.017445478414796,
          21.138622266217748,
          20.984497214888222,
          20.899137964247117,
          21.092657129400923,
          21.04718744927253,
          20.907905912395737,
          21.002412427494953,
          20.958931077931616,
          20.933035735083788,
          20.965513414643723,
          20.946014949256103,
          21.0557373114443,
          21.10943319028888,
          21.051424870811054,
          21.117013575890244,
          21.021346401207488,
          20.991138937132174,
          21.09403446454042,
          20.87088337218949,
          21.13346651070818,
          20.99169037313658,
          21.055341926938162,
          20.947330534611556,
          20.856342443296054
         ],
         "xaxis": "x",
         "y": [
          0.01041367614717783,
          1.0029792872845376,
          4.031179958520751,
          5.952152476864949,
          3.9839880721730743,
          5.016742374449898,
          5.038471152958178,
          0.0005127372327021068,
          5.956259741929503,
          6.035793868179025,
          6.027743878936484,
          6.040891429151658,
          5.96050118120964,
          4.9665007117770985,
          4.03058489940374,
          5.950253957990148,
          4.046109704379427,
          6.006314749938887,
          4.03768001358133,
          5.997751289810329,
          4.003722391169887,
          4.971356237615185,
          4.97363775226313,
          5.033630328839849,
          5.028076290731544,
          3.016952639305117,
          4.03697397549046,
          2.03426268631102,
          2.0497476282231606,
          1.9531995888007483,
          3.968602573254624,
          3.9838763607900933,
          2.016846022342761,
          4.0029141855346495,
          0.9551203283712284,
          3.975439713005222,
          0.9533483354074686,
          3.032257595634648,
          0.013309525837589792,
          3.962605509657245,
          5.978739004332218,
          1.9933027509941947,
          5.003219318667732,
          0.004416343085176279,
          -1.9768414575536748,
          0.9887315976057165,
          -2.016902802963604,
          5.956993218446118,
          4.99304364433073,
          3.038934017380689,
          2.9985062643389537,
          5.02989182634909,
          1.9968310220281804,
          2.044845002475685,
          2.0195630362305197,
          6.005629684900912,
          6.00307829820887,
          5.970392191637211,
          4.977489343507246,
          5.974265670909836,
          2.0439365068881257,
          -1.003453446571129,
          1.025282861815484,
          1.0361519154730146,
          1.0434050395626726,
          0.026591525047027165,
          2.0270447877514726,
          2.008763262354173,
          1.034667905845315,
          6.008968729768576,
          2.038451613940528,
          2.965196008374971,
          2.9599724289995364,
          4.009833946304449,
          11,
          3.0102417415575573,
          1.9724759689267863,
          3.0049132682743824,
          4.001154875077292,
          -0.9692708092144872,
          3.023728070162771,
          3.03406195235639,
          4.0355441568086095,
          2.0048993701941185,
          4.033792595662841,
          2.9831733033562036,
          1.9679605571071876,
          -0.04651683976368949,
          0.02972682766345351,
          -0.02066061525647697,
          5.965798923022394,
          0.9525272358646832,
          4.01531671389079,
          1.039411990647316,
          4.015088883961605,
          2.0013039607742065,
          0.958593085054138,
          6.0370186570681454,
          11,
          5.963774630883227,
          5.028984972225497,
          6.0098412491530935,
          3.9951046120636615,
          3.9734104031027733,
          3.997509048239585,
          1.95124779656747,
          5.048387689050568,
          4.980367095598989,
          1.0195410936761045,
          4.981501905096704,
          4.0191927541620736,
          3.9563607441912105,
          1.9634586725932466,
          3.9800638569010562,
          4.012478414329696,
          4.033659960843957,
          3.0125441532257633,
          1.957662699572577,
          2.0212158974172354,
          11,
          11,
          2.987248275085008,
          5.950605768360057,
          1.0240641067732448,
          5.9618189662458825,
          11,
          11,
          11,
          11,
          4.9633927684523655,
          11,
          11,
          4.996182656453421,
          6.023793864560508,
          11,
          11,
          11,
          11,
          11,
          1.966439422494282,
          3.0123564708739092,
          5.046634494200192,
          11,
          11,
          11,
          11,
          11,
          11,
          5.998182892585675,
          11,
          11,
          11,
          11,
          11,
          11,
          11,
          11,
          11,
          11,
          11,
          3.9584712941035036,
          2.042659621369431,
          2.9547853615335122,
          4.016093613834709,
          11,
          11,
          11,
          11,
          11,
          11,
          11,
          11,
          11,
          2.0354299664770354,
          3.0341665552505184,
          11,
          4.038741559187568,
          11,
          11,
          1.9667995189355605,
          3.0140852549824513,
          11,
          3.042259864000869,
          1.9755123776641454,
          1.0165521668723356,
          1.012865936660592,
          -0.0003493065477137916,
          0.024813120919326748,
          2.043510682138719,
          2.0119449391942523,
          3.0170488973752385,
          1.048438536500967,
          2.9979114226083747,
          -0.034699962643432,
          3.9875870381987966,
          0.9646463687284172,
          4.015738926240155,
          11,
          4.048716064702807,
          11,
          11,
          11,
          11,
          11,
          11,
          11,
          11,
          11,
          11,
          11,
          11,
          11,
          11,
          11,
          11,
          11,
          11,
          11,
          11,
          11,
          11,
          11,
          11,
          11,
          11,
          11,
          11,
          11,
          11,
          11,
          11,
          11,
          11,
          11,
          11,
          11,
          11,
          11,
          11,
          4.003267587559486,
          11,
          11,
          11,
          2.0205195519073627,
          3.972588558808506,
          4.042334942462424,
          11,
          11,
          11,
          11,
          11,
          11,
          11,
          11,
          11,
          11,
          11,
          11,
          11,
          11,
          11,
          11,
          11,
          11,
          11,
          11,
          3.9597572472959013,
          1.0088137345463117,
          2.9625948339422914,
          11,
          11,
          11,
          1.965743799579429,
          11,
          11,
          11,
          11,
          1.97836110784401,
          2.968899881456981,
          1.957033629129926,
          11,
          11,
          2.017203240205503,
          1.9842679525742284,
          1.0450227703018167,
          11,
          1.9648101402073532,
          2.9721630900142606,
          2.0327601230106285,
          11,
          4.001214227092651,
          11,
          3.9522347606672383,
          11,
          1.9998008364894941,
          11,
          2.0285500900523212,
          11,
          3.9841575164894625,
          11,
          11,
          4.043421095996579,
          11,
          1.9694619877712616,
          4.00558620496129,
          1.9630537587391197,
          11,
          11,
          11,
          11,
          3.0400103581425197,
          11,
          11,
          11,
          3.030351928425343,
          3.0125748613405214,
          2.9575899600300772,
          11,
          2.983039488428786,
          11,
          11,
          11,
          11,
          11,
          11,
          11,
          4.041807055858071,
          11,
          11,
          11,
          4.001498471143661,
          4.008682908087839,
          11,
          11,
          11,
          11,
          11,
          11,
          11,
          4.020580971017376,
          3.0459033608980937,
          11,
          11,
          11,
          11,
          11,
          1.995965286193463,
          11,
          11,
          11,
          4.010840217398282,
          11,
          11,
          11,
          11,
          11,
          11,
          11,
          4.013716267685182,
          3.9794180435204245,
          3.952069173482709,
          11,
          11,
          11,
          4.010354382717269,
          2.9510572801024475,
          11,
          11,
          3.9549595842251173,
          3.997310887316645,
          3.9888863632542275,
          1.9837083731491545,
          11,
          1.0289021629169655,
          3.998011022667458,
          3.975478030046279,
          4.021780140915867,
          4.000262384799207,
          11,
          11,
          11,
          3.9889493500488284,
          4.02451361178194,
          3.963652960237112,
          2.975750126559204,
          4.047955408617118,
          11,
          11,
          11,
          11,
          3.98652125473206,
          11,
          11,
          11,
          4.977248888058325,
          4.9625608960319365,
          3.0094566526490354,
          -0.990299421365014,
          -0.9717113443859159,
          -2.0066066749109117,
          -2.015734203105757,
          -2.0467555539533793,
          -0.9727732829085574,
          -2.001226574811487,
          -2.0379041044515667,
          -1.0457322371801527,
          -2.0492862020182794,
          -1.9911492436282248,
          -2.0094999559034497,
          0.026678099501854,
          -2.0245146978559476,
          -2.0254032390799637,
          -0.033613518707004755,
          -1.9572369797492144,
          -2.033463673895999,
          -2.0085169980781377,
          -1.960581102885205,
          11,
          5.992643759185677,
          11,
          11,
          11,
          11,
          2.0139048594976474,
          1.9684427266676947,
          11,
          11,
          3.0256315094118085,
          3.0308512828241745,
          11,
          2.993807909975291,
          11,
          5.966127904338724,
          11,
          4.984463498952712,
          5.003045014098169,
          4.957874087277442,
          5.011840300115944,
          11,
          11,
          11,
          11,
          11,
          11,
          5.031991432782121,
          11,
          2.0287622099803504,
          1.9998261176057304,
          1.9569650261632163,
          2.0340479834475844,
          1.980449525414415,
          1.9768421378894276,
          2.0239108014795324,
          2.003016886309717,
          2.012879033891624,
          2.027614749756569,
          2.034196145614445,
          2.997160386912637,
          1.9518426662785513,
          11,
          11,
          3.037989945659545,
          4.040461492495477,
          11,
          11,
          11,
          11,
          11,
          11,
          11,
          11,
          2.967209850005665,
          11,
          11,
          1.9943143799545895,
          2.0401109435481053,
          11,
          11,
          2.9595757946258425,
          11,
          5.037487559280736,
          11,
          11,
          11,
          4.048518025262513,
          11,
          5.9520553126232825,
          5.960565044950873,
          4.0159454569736805,
          3.9739421088018103,
          11,
          3.9623788482080164,
          11,
          11,
          11,
          11,
          11,
          11,
          11,
          11,
          11,
          11,
          11,
          11,
          11,
          11,
          11,
          11,
          11,
          1.9888872250401264,
          1.982692026471465,
          1.9819706211807517,
          2.0444947250942676,
          2.009745287463589,
          2.0440741094250203,
          2.0427265794770824,
          2.0397780628826285,
          1.9807399286002862,
          2.980673471394626,
          1.9519456516445708,
          1.976612271320615,
          2.0449288369785235,
          1.992675782881359,
          1.9953915293054496,
          2.016276118717282,
          1.9783543715197343,
          11,
          11,
          11,
          11,
          11,
          11,
          11,
          11,
          11,
          11,
          11,
          11,
          11,
          11,
          11,
          11,
          11,
          11,
          2.973016899789205,
          11,
          11,
          11,
          11,
          11,
          11,
          11,
          11,
          11,
          11,
          11,
          11,
          11,
          11,
          11,
          11,
          11,
          11,
          11,
          11,
          11,
          11,
          11,
          11,
          11,
          11,
          11,
          11,
          11,
          11,
          11,
          11,
          4.998811768801413,
          11,
          11,
          11,
          11,
          11,
          11,
          11,
          11,
          11,
          11,
          11,
          11,
          11,
          11,
          11,
          11,
          11,
          11,
          11,
          11,
          11,
          11,
          11,
          11,
          11,
          11,
          11,
          11,
          11,
          11,
          11,
          11,
          4.953519787357163,
          11,
          11,
          11,
          11,
          11,
          11,
          11,
          11,
          11,
          11,
          11,
          11,
          0.9660543947134803,
          11,
          11,
          11,
          11,
          11,
          11,
          11,
          11,
          1.0416890227490165,
          11,
          11,
          11,
          11,
          11,
          11,
          11,
          5.011642887696801,
          11,
          11,
          11,
          11,
          11,
          11,
          11,
          11,
          11,
          11,
          11,
          11,
          2.9632482846914563,
          11,
          11,
          11,
          11,
          11,
          11,
          11,
          11,
          0.04077064727401343,
          11,
          11,
          11,
          11,
          11,
          11,
          11,
          11,
          11,
          11,
          11,
          11,
          11,
          11,
          11,
          11,
          11,
          11,
          11,
          1.0218314003408686,
          11,
          11,
          11,
          11,
          11,
          11,
          11,
          11,
          11,
          11,
          4.96956403467805,
          3.972761327995781,
          11,
          11,
          11,
          11,
          11,
          11,
          11,
          11,
          11,
          11,
          11,
          11,
          11,
          11,
          11,
          11,
          11,
          11,
          11,
          11,
          11,
          11,
          11,
          11,
          11,
          11,
          11,
          11,
          11,
          11,
          11,
          11,
          11,
          11,
          11,
          11,
          11,
          11,
          11,
          11,
          11,
          11,
          11,
          11,
          11,
          11,
          11,
          11,
          11,
          11,
          11,
          11,
          11,
          11,
          11,
          11,
          11,
          11,
          11,
          11,
          5.012650498749641,
          11,
          4.998826385725251,
          3.0413322613797087,
          11,
          11,
          11,
          11,
          11,
          11,
          11,
          11,
          11,
          11,
          11,
          11,
          3.0337589673035685,
          5.0259791901508315,
          11,
          11,
          11,
          11,
          11,
          11,
          11,
          3.0293275541862954,
          11,
          3.029893161835715,
          2.975488176013883,
          1.9824680882318666,
          11,
          11,
          11,
          11,
          11,
          11,
          11,
          11,
          11,
          11,
          11,
          11,
          11,
          11,
          11,
          11,
          11,
          11,
          11,
          11,
          11,
          11,
          11,
          11,
          11,
          11,
          11,
          11,
          11,
          11,
          11,
          11,
          11,
          11,
          11,
          11,
          11,
          11,
          11,
          11,
          11,
          11,
          11,
          -0.024385564185451448,
          11,
          11,
          11,
          11,
          11,
          11,
          0.01912020966258851,
          11,
          11,
          11,
          11,
          11,
          11,
          11,
          11,
          11,
          11,
          11,
          11,
          11,
          11,
          11,
          11,
          11,
          11,
          11,
          11,
          11,
          11,
          11,
          11,
          11,
          11,
          11,
          11,
          11,
          11,
          11,
          11,
          11,
          11,
          11,
          11,
          11,
          11,
          11,
          11,
          11,
          11,
          11,
          11,
          0.013703344104877585,
          0.02914297123299439,
          -0.024169471667347432,
          -0.02950091055841372,
          11,
          11,
          11,
          11,
          11,
          11,
          11,
          11,
          11,
          11,
          11,
          11,
          11,
          11,
          11,
          11,
          11,
          11,
          11,
          11,
          11,
          11,
          11,
          11,
          11,
          11,
          11,
          11,
          11,
          11,
          11,
          11,
          11,
          11,
          11,
          11,
          11,
          11,
          0.008635095299889171,
          11,
          11,
          11,
          11,
          11,
          11,
          11,
          11,
          11,
          11,
          11,
          11,
          11,
          11,
          11,
          11,
          0.041899255291936666,
          11,
          11,
          11,
          4.958732901544447,
          -0.0033039374979446437,
          -0.03275855170997838,
          -0.035676046703134394,
          -0.03176866969063889,
          11,
          11,
          11,
          11,
          11,
          11,
          11,
          5.970354354853934,
          11,
          6.018954068891698,
          6.031770327021143,
          5.971342011567652,
          6.047766011027139,
          11,
          6.046448767329792,
          6.0480298671597685,
          6.004258919553625,
          11,
          2.960213227073123,
          11,
          11,
          11,
          2.974075739989523,
          4.015747230084868,
          11,
          2.9984792477885147,
          4.9898214486404004,
          6.039573142455755,
          11,
          11,
          5.954194672871536,
          6.009451313566599,
          3.019722272381378,
          11,
          11,
          11,
          2.954293792954126,
          11,
          11,
          11,
          4.028037029762156,
          11,
          6.003696895834655,
          11,
          5.98639385234369,
          5.965903374648677,
          5.997609905907885,
          4.978574994722087,
          5.995190930422535,
          11,
          11,
          11,
          5.959677347937558,
          6.008380330265661,
          3.0226762854547196,
          11,
          11,
          11,
          11,
          11,
          11,
          11,
          11,
          11,
          4.970829101383406,
          11,
          11,
          4.971448619354551,
          6.032471050176452,
          11,
          11,
          6.048607644628504,
          11,
          11,
          11,
          3.9580182019690278,
          6.0337076606152715,
          5.040693632342336,
          6.021310557206855,
          5.977644973220451,
          4.954056689230917,
          5.995845193538125,
          5.993897557263133,
          5.990581808450589,
          5.974243829258018,
          11,
          11,
          11,
          4.9877960409667885,
          5.04158683021414,
          5.955244460809158,
          5.959440979628779,
          11,
          3.9654900198317904,
          4.049234449240642,
          4.998292576332938,
          4.963875371372338,
          5.033237646361606,
          4.972937438931612,
          3.025540332880259,
          2.959110613432874,
          3.0326848978737373,
          3.9753881650896163,
          3.045558043505057,
          4.035250985165651,
          3.044033263616518,
          3.0342704704993513,
          4.011971509710809,
          11,
          3.9702094761597215,
          3.9778070688277825,
          11,
          4.9885341475729765,
          4.994863200593869,
          11,
          4.997121480537992,
          4.9765079760404625,
          11,
          11,
          11,
          5.003677513632751,
          11,
          1.0311805490826549,
          1.0306681275195562,
          1.96673574419665,
          1.0167477579787234,
          1.999274808425649,
          0.9641185141534682,
          1.966421547779557,
          1.9958349113284095,
          0.9809641024380836,
          1.022219895730572,
          0.9715859161170968,
          11,
          11,
          11,
          4.007846620231261,
          11,
          11,
          11,
          11,
          11,
          11,
          11,
          11,
          11,
          11,
          0.9983834631631275,
          2.0446707517065446,
          2.0023701335063557,
          -1.030879933467724,
          1.034151790397711,
          0.028763153189853397,
          3.992989434929416,
          1.9627757463741131,
          11,
          11,
          11,
          11,
          -0.03358219625509125,
          0.026439513299673437,
          11,
          11,
          11,
          11,
          11,
          11,
          11,
          11,
          2.976208975970407,
          4.038920960167569,
          1.0053865130590025,
          3.039495139026582,
          11,
          11,
          11,
          2.9592911729824785,
          2.97598762089104,
          3.992487717561031,
          3.0352117834715058,
          3.0029944067630545,
          2.979272137379923,
          2.9983090162260195,
          4.012997098308423,
          3.0022976752134207,
          3.967836253107696,
          2.0406552841610033,
          3.0206980955436507,
          2.0373790850085567,
          11,
          2.037140666941136,
          4.001070703497137,
          4.0400726162278895,
          2.049896099433448,
          3.046925181796959,
          2.9588430701686192,
          2.9955678931810366,
          2.9730621933906587,
          3.01434007242017,
          2.965735563623217,
          3.03064146011914,
          2.9598529385949908,
          11,
          4.037642180525384,
          11,
          4.046225070151493,
          4.0136681509664776,
          11,
          3.963345699725222,
          11,
          3.042710373353593,
          2.969762594759061,
          3.9570058632688556,
          1.9724778877346105,
          4.0019655782777175,
          11,
          11,
          11,
          11,
          11,
          11,
          11,
          11,
          11,
          11,
          11,
          11,
          11,
          11,
          11,
          11,
          11,
          11,
          11,
          11,
          11,
          11,
          11,
          11,
          11,
          11,
          11,
          11,
          11,
          11,
          11,
          11,
          11,
          11,
          11,
          11,
          11,
          11,
          11,
          11,
          11,
          11,
          11,
          11,
          11,
          11,
          11,
          11,
          11,
          11,
          11,
          11,
          11,
          11,
          11,
          11,
          11,
          11,
          11,
          11,
          11,
          11,
          11,
          11,
          11,
          11,
          11,
          11,
          11,
          11,
          11,
          11,
          11,
          11,
          11,
          11,
          11,
          11,
          11,
          11,
          11,
          11,
          11,
          11,
          11,
          11,
          11,
          11,
          11,
          11,
          11,
          11,
          11,
          11,
          11,
          11,
          11,
          11,
          11,
          11,
          11,
          11,
          11,
          11,
          11,
          11,
          11,
          11,
          11,
          11,
          11,
          11,
          11,
          11,
          11,
          11,
          11,
          11,
          11,
          11,
          11,
          11,
          11,
          11,
          11,
          11,
          11,
          11,
          11,
          11,
          11,
          11,
          11,
          11,
          11,
          11,
          11,
          11,
          11,
          11,
          11,
          11,
          11,
          11,
          11,
          11,
          11,
          11,
          11,
          11,
          11,
          11,
          11,
          11,
          11,
          11,
          11,
          11,
          11,
          11,
          11,
          11,
          11,
          11,
          11,
          11,
          11,
          11,
          11,
          11,
          11,
          11,
          11,
          11,
          11,
          11,
          11,
          11,
          11,
          11,
          11,
          11,
          11,
          11,
          11,
          11,
          11,
          11,
          11,
          11,
          11,
          11,
          11,
          11,
          11,
          11,
          11,
          11,
          11,
          11,
          11,
          11,
          11,
          11,
          11,
          11,
          11,
          11,
          11,
          11,
          11,
          11,
          11,
          11,
          11,
          11,
          11,
          11,
          11,
          11,
          11,
          11,
          11,
          11,
          11,
          11,
          11,
          11,
          11,
          11,
          11,
          11,
          11,
          11,
          11,
          11,
          11,
          11,
          11,
          11,
          11,
          11,
          11,
          11,
          11,
          11,
          11,
          11,
          11,
          11,
          11,
          11,
          11,
          11,
          11,
          11
         ],
         "yaxis": "y"
        },
        {
         "customdata": [
          [
           true,
           "Streptococcus agalactiae"
          ],
          [
           true,
           "Streptococcus agalactiae"
          ],
          [
           true,
           "Streptococcus anginosus"
          ],
          [
           true,
           "Streptococcus anginosus"
          ],
          [
           true,
           "Streptococcus anginosus"
          ],
          [
           true,
           "Streptococcus agalactiae"
          ],
          [
           true,
           "Streptococcus agalactiae"
          ],
          [
           true,
           "Streptococcus agalactiae"
          ],
          [
           true,
           "Streptococcus agalactiae"
          ],
          [
           true,
           "Streptococcus agalactiae"
          ],
          [
           true,
           "Streptococcus agalactiae"
          ],
          [
           true,
           "Streptococcus agalactiae"
          ],
          [
           true,
           "Streptococcus agalactiae"
          ],
          [
           true,
           "Streptococcus agalactiae"
          ],
          [
           true,
           "Streptococcus anginosus"
          ],
          [
           true,
           "Streptococcus salivarius"
          ],
          [
           true,
           "Staphylococcus aureus"
          ],
          [
           true,
           "Streptococcus pneumoniae"
          ],
          [
           true,
           "Streptococcus pneumoniae"
          ],
          [
           true,
           "Streptococcus pyogenes"
          ],
          [
           true,
           "Streptococcus pyogenes"
          ],
          [
           true,
           "Streptococcus pyogenes"
          ],
          [
           true,
           "Streptococcus oralis"
          ],
          [
           true,
           "Streptococcus oralis"
          ],
          [
           true,
           "Streptococcus oralis"
          ],
          [
           true,
           "Streptococcus pneumoniae"
          ],
          [
           true,
           "Streptococcus pyogenes"
          ],
          [
           true,
           "Streptococcus pyogenes"
          ],
          [
           true,
           "Streptococcus pyogenes"
          ],
          [
           true,
           "Streptococcus pyogenes"
          ],
          [
           true,
           "Streptococcus pyogenes"
          ],
          [
           true,
           "Streptococcus pyogenes"
          ],
          [
           true,
           "Streptococcus agalactiae"
          ],
          [
           true,
           "Streptococcus anginosus"
          ],
          [
           true,
           "Streptococcus sanguinis"
          ],
          [
           true,
           "Streptococcus agalactiae"
          ],
          [
           true,
           "Staphylococcus lugdunensis"
          ],
          [
           true,
           "Staphylococcus lugdunensis"
          ],
          [
           true,
           "Streptococcus agalactiae"
          ],
          [
           true,
           "Streptococcus agalactiae"
          ],
          [
           true,
           "Streptococcus agalactiae"
          ],
          [
           true,
           "Streptococcus agalactiae"
          ],
          [
           true,
           "Streptococcus agalactiae"
          ],
          [
           true,
           "Streptococcus agalactiae"
          ],
          [
           true,
           "Streptococcus agalactiae"
          ],
          [
           true,
           "Streptococcus agalactiae"
          ],
          [
           true,
           "Streptococcus pyogenes"
          ],
          [
           true,
           "Streptococcus pyogenes"
          ],
          [
           true,
           "Streptococcus pyogenes"
          ],
          [
           true,
           "Streptococcus pyogenes"
          ],
          [
           true,
           "Streptococcus pyogenes"
          ],
          [
           true,
           "Streptococcus pyogenes"
          ],
          [
           true,
           "Streptococcus pyogenes"
          ],
          [
           true,
           "Streptococcus pyogenes"
          ],
          [
           true,
           "Streptococcus pyogenes"
          ],
          [
           true,
           "Streptococcus pyogenes"
          ],
          [
           true,
           "Streptococcus pyogenes"
          ],
          [
           true,
           "Streptococcus pyogenes"
          ],
          [
           true,
           "Staphylococcus aureus"
          ],
          [
           true,
           "Staphylococcus lugdunensis"
          ],
          [
           true,
           "Staphylococcus lugdunensis"
          ],
          [
           true,
           "Staphylococcus lugdunensis"
          ],
          [
           true,
           "Staphylococcus aureus"
          ],
          [
           true,
           "Streptococcus pneumoniae"
          ],
          [
           true,
           "Staphylococcus lugdunensis"
          ],
          [
           true,
           "Enterococcus faecalis"
          ],
          [
           true,
           "Enterococcus faecalis"
          ],
          [
           true,
           "Enterococcus faecalis"
          ],
          [
           true,
           "Streptococcus anginosus"
          ],
          [
           true,
           "Streptococcus anginosus"
          ],
          [
           true,
           "Streptococcus anginosus"
          ],
          [
           true,
           "Streptococcus anginosus"
          ],
          [
           true,
           "Streptococcus salivarius"
          ],
          [
           true,
           "Enterococcus faecalis"
          ],
          [
           true,
           "Streptococcus oralis"
          ],
          [
           true,
           "Streptococcus oralis"
          ],
          [
           true,
           "Streptococcus oralis"
          ],
          [
           true,
           "Enterococcus faecium"
          ],
          [
           true,
           "Staphylococcus aureus"
          ],
          [
           true,
           "Staphylococcus aureus"
          ],
          [
           true,
           "Staphylococcus aureus"
          ],
          [
           true,
           "Staphylococcus aureus"
          ],
          [
           true,
           "Staphylococcus aureus"
          ],
          [
           true,
           "Staphylococcus aureus"
          ],
          [
           true,
           "Staphylococcus aureus"
          ],
          [
           true,
           "Staphylococcus aureus"
          ],
          [
           true,
           "Staphylococcus aureus"
          ],
          [
           true,
           "Staphylococcus aureus"
          ],
          [
           true,
           "Staphylococcus aureus"
          ],
          [
           true,
           "Staphylococcus aureus"
          ],
          [
           true,
           "Staphylococcus aureus"
          ],
          [
           true,
           "Staphylococcus aureus"
          ],
          [
           true,
           "Staphylococcus aureus"
          ],
          [
           true,
           "Staphylococcus aureus"
          ],
          [
           true,
           "Staphylococcus aureus"
          ],
          [
           true,
           "Staphylococcus aureus"
          ],
          [
           true,
           "Staphylococcus aureus"
          ],
          [
           true,
           "Staphylococcus aureus"
          ],
          [
           true,
           "Staphylococcus aureus"
          ],
          [
           true,
           "Staphylococcus aureus"
          ],
          [
           true,
           "Staphylococcus aureus"
          ],
          [
           true,
           "Staphylococcus aureus"
          ],
          [
           true,
           "Staphylococcus aureus"
          ],
          [
           true,
           "Staphylococcus aureus"
          ],
          [
           true,
           "Staphylococcus aureus"
          ],
          [
           true,
           "Staphylococcus aureus"
          ],
          [
           true,
           "Staphylococcus aureus"
          ],
          [
           true,
           "Staphylococcus aureus"
          ],
          [
           true,
           "Staphylococcus aureus"
          ],
          [
           true,
           "Staphylococcus aureus"
          ],
          [
           true,
           "Staphylococcus aureus"
          ],
          [
           true,
           "Staphylococcus aureus"
          ],
          [
           true,
           "Staphylococcus aureus"
          ],
          [
           true,
           "Staphylococcus aureus"
          ],
          [
           true,
           "Staphylococcus aureus"
          ],
          [
           true,
           "Staphylococcus aureus"
          ],
          [
           true,
           "Staphylococcus aureus"
          ],
          [
           true,
           "Staphylococcus aureus"
          ],
          [
           true,
           "Staphylococcus aureus"
          ],
          [
           true,
           "Staphylococcus aureus"
          ],
          [
           true,
           "Staphylococcus aureus"
          ],
          [
           true,
           "Staphylococcus aureus"
          ],
          [
           true,
           "Staphylococcus aureus"
          ],
          [
           true,
           "Staphylococcus aureus"
          ],
          [
           true,
           "Staphylococcus aureus"
          ],
          [
           true,
           "Staphylococcus aureus"
          ],
          [
           true,
           "Staphylococcus aureus"
          ],
          [
           true,
           "Staphylococcus aureus"
          ],
          [
           true,
           "Staphylococcus aureus"
          ],
          [
           true,
           "Staphylococcus aureus"
          ],
          [
           true,
           "Staphylococcus aureus"
          ],
          [
           true,
           "Staphylococcus aureus"
          ],
          [
           true,
           "Staphylococcus aureus"
          ],
          [
           true,
           "Staphylococcus aureus"
          ],
          [
           true,
           "Staphylococcus aureus"
          ],
          [
           true,
           "Staphylococcus aureus"
          ],
          [
           true,
           "Staphylococcus aureus"
          ],
          [
           true,
           "Staphylococcus aureus"
          ],
          [
           true,
           "Staphylococcus aureus"
          ],
          [
           true,
           "Staphylococcus aureus"
          ],
          [
           true,
           "Staphylococcus aureus"
          ],
          [
           true,
           "Staphylococcus aureus"
          ],
          [
           true,
           "Staphylococcus aureus"
          ],
          [
           true,
           "Staphylococcus aureus"
          ],
          [
           true,
           "Staphylococcus aureus"
          ],
          [
           true,
           "Staphylococcus aureus"
          ],
          [
           true,
           "Staphylococcus aureus"
          ],
          [
           true,
           "Staphylococcus aureus"
          ],
          [
           true,
           "Staphylococcus aureus"
          ],
          [
           true,
           "Staphylococcus aureus"
          ],
          [
           true,
           "Staphylococcus aureus"
          ],
          [
           true,
           "Staphylococcus aureus"
          ],
          [
           true,
           "Staphylococcus aureus"
          ],
          [
           true,
           "Staphylococcus aureus"
          ],
          [
           true,
           "Staphylococcus aureus"
          ],
          [
           true,
           "Staphylococcus aureus"
          ],
          [
           true,
           "Staphylococcus aureus"
          ],
          [
           true,
           "Staphylococcus aureus"
          ],
          [
           true,
           "Staphylococcus aureus"
          ],
          [
           true,
           "Staphylococcus aureus"
          ],
          [
           true,
           "Staphylococcus aureus"
          ],
          [
           true,
           "Staphylococcus aureus"
          ],
          [
           true,
           "Staphylococcus aureus"
          ],
          [
           true,
           "Staphylococcus aureus"
          ],
          [
           true,
           "Staphylococcus aureus"
          ],
          [
           true,
           "Staphylococcus aureus"
          ],
          [
           true,
           "Staphylococcus aureus"
          ],
          [
           true,
           "Staphylococcus aureus"
          ],
          [
           true,
           "Staphylococcus aureus"
          ],
          [
           true,
           "Staphylococcus aureus"
          ],
          [
           true,
           "Staphylococcus aureus"
          ],
          [
           true,
           "Staphylococcus aureus"
          ],
          [
           true,
           "Staphylococcus aureus"
          ],
          [
           true,
           "Staphylococcus aureus"
          ],
          [
           true,
           "Staphylococcus aureus"
          ],
          [
           true,
           "Staphylococcus aureus"
          ],
          [
           true,
           "Staphylococcus aureus"
          ],
          [
           true,
           "Staphylococcus aureus"
          ],
          [
           true,
           "Staphylococcus aureus"
          ],
          [
           true,
           "Staphylococcus aureus"
          ],
          [
           true,
           "Staphylococcus aureus"
          ],
          [
           true,
           "Staphylococcus aureus"
          ],
          [
           true,
           "Staphylococcus aureus"
          ],
          [
           true,
           "Staphylococcus aureus"
          ],
          [
           true,
           "Staphylococcus aureus"
          ],
          [
           true,
           "Staphylococcus aureus"
          ],
          [
           true,
           "Staphylococcus aureus"
          ],
          [
           true,
           "Staphylococcus aureus"
          ],
          [
           true,
           "Staphylococcus aureus"
          ],
          [
           true,
           "Staphylococcus aureus"
          ],
          [
           true,
           "Staphylococcus aureus"
          ],
          [
           true,
           "Staphylococcus aureus"
          ],
          [
           true,
           "Staphylococcus aureus"
          ],
          [
           true,
           "Staphylococcus aureus"
          ],
          [
           true,
           "Staphylococcus aureus"
          ],
          [
           true,
           "Staphylococcus aureus"
          ],
          [
           true,
           "Staphylococcus aureus"
          ],
          [
           true,
           "Staphylococcus aureus"
          ],
          [
           true,
           "Staphylococcus aureus"
          ],
          [
           true,
           "Staphylococcus aureus"
          ],
          [
           true,
           "Staphylococcus aureus"
          ],
          [
           true,
           "Staphylococcus aureus"
          ],
          [
           true,
           "Staphylococcus aureus"
          ],
          [
           true,
           "Staphylococcus aureus"
          ],
          [
           true,
           "Staphylococcus aureus"
          ],
          [
           true,
           "Staphylococcus aureus"
          ],
          [
           true,
           "Staphylococcus aureus"
          ],
          [
           true,
           "Staphylococcus aureus"
          ],
          [
           true,
           "Staphylococcus aureus"
          ],
          [
           true,
           "Staphylococcus aureus"
          ],
          [
           true,
           "Staphylococcus aureus"
          ],
          [
           true,
           "Staphylococcus aureus"
          ],
          [
           true,
           "Staphylococcus aureus"
          ],
          [
           true,
           "Staphylococcus aureus"
          ],
          [
           true,
           "Staphylococcus aureus"
          ],
          [
           true,
           "Staphylococcus aureus"
          ],
          [
           true,
           "Staphylococcus aureus"
          ],
          [
           true,
           "Staphylococcus aureus"
          ],
          [
           true,
           "Staphylococcus aureus"
          ],
          [
           true,
           "Staphylococcus aureus"
          ],
          [
           true,
           "Staphylococcus aureus"
          ],
          [
           true,
           "Staphylococcus aureus"
          ],
          [
           true,
           "Staphylococcus aureus"
          ],
          [
           true,
           "Staphylococcus aureus"
          ],
          [
           true,
           "Staphylococcus aureus"
          ],
          [
           true,
           "Staphylococcus aureus"
          ],
          [
           true,
           "Staphylococcus aureus"
          ],
          [
           true,
           "Staphylococcus aureus"
          ],
          [
           true,
           "Staphylococcus aureus"
          ],
          [
           true,
           "Staphylococcus aureus"
          ],
          [
           true,
           "Staphylococcus aureus"
          ],
          [
           true,
           "Staphylococcus aureus"
          ],
          [
           true,
           "Staphylococcus aureus"
          ],
          [
           true,
           "Staphylococcus aureus"
          ],
          [
           true,
           "Staphylococcus aureus"
          ],
          [
           true,
           "Staphylococcus aureus"
          ],
          [
           true,
           "Staphylococcus aureus"
          ],
          [
           true,
           "Staphylococcus aureus"
          ],
          [
           true,
           "Staphylococcus aureus"
          ],
          [
           true,
           "Staphylococcus aureus"
          ],
          [
           true,
           "Staphylococcus aureus"
          ],
          [
           true,
           "Staphylococcus aureus"
          ],
          [
           true,
           "Staphylococcus aureus"
          ],
          [
           true,
           "Staphylococcus aureus"
          ],
          [
           true,
           "Staphylococcus aureus"
          ],
          [
           true,
           "Staphylococcus aureus"
          ],
          [
           true,
           "Staphylococcus aureus"
          ],
          [
           true,
           "Staphylococcus aureus"
          ],
          [
           true,
           "Staphylococcus aureus"
          ],
          [
           true,
           "Staphylococcus aureus"
          ],
          [
           true,
           "Staphylococcus aureus"
          ],
          [
           true,
           "Staphylococcus aureus"
          ],
          [
           true,
           "Staphylococcus aureus"
          ],
          [
           true,
           "Staphylococcus aureus"
          ],
          [
           true,
           "Staphylococcus aureus"
          ],
          [
           true,
           "Staphylococcus aureus"
          ],
          [
           true,
           "Staphylococcus aureus"
          ],
          [
           true,
           "Staphylococcus aureus"
          ],
          [
           true,
           "Staphylococcus aureus"
          ],
          [
           true,
           "Staphylococcus aureus"
          ],
          [
           true,
           "Staphylococcus aureus"
          ],
          [
           true,
           "Staphylococcus aureus"
          ],
          [
           true,
           "Staphylococcus aureus"
          ],
          [
           true,
           "Staphylococcus aureus"
          ],
          [
           true,
           "Staphylococcus aureus"
          ],
          [
           true,
           "Staphylococcus aureus"
          ],
          [
           true,
           "Staphylococcus aureus"
          ],
          [
           true,
           "Staphylococcus aureus"
          ],
          [
           true,
           "Staphylococcus aureus"
          ],
          [
           true,
           "Staphylococcus aureus"
          ],
          [
           true,
           "Staphylococcus aureus"
          ],
          [
           true,
           "Staphylococcus aureus"
          ],
          [
           true,
           "Staphylococcus aureus"
          ],
          [
           true,
           "Staphylococcus aureus"
          ],
          [
           true,
           "Staphylococcus aureus"
          ],
          [
           true,
           "Staphylococcus aureus"
          ],
          [
           true,
           "Staphylococcus aureus"
          ],
          [
           true,
           "Staphylococcus aureus"
          ],
          [
           true,
           "Staphylococcus aureus"
          ],
          [
           true,
           "Staphylococcus aureus"
          ],
          [
           true,
           "Staphylococcus aureus"
          ],
          [
           true,
           "Staphylococcus aureus"
          ],
          [
           true,
           "Staphylococcus aureus"
          ],
          [
           true,
           "Staphylococcus aureus"
          ],
          [
           true,
           "Staphylococcus aureus"
          ],
          [
           true,
           "Staphylococcus aureus"
          ],
          [
           true,
           "Staphylococcus aureus"
          ],
          [
           true,
           "Staphylococcus aureus"
          ],
          [
           true,
           "Staphylococcus aureus"
          ],
          [
           true,
           "Staphylococcus aureus"
          ],
          [
           true,
           "Staphylococcus aureus"
          ],
          [
           true,
           "Staphylococcus aureus"
          ],
          [
           true,
           "Staphylococcus aureus"
          ],
          [
           true,
           "Staphylococcus aureus"
          ],
          [
           true,
           "Staphylococcus aureus"
          ],
          [
           true,
           "Staphylococcus aureus"
          ],
          [
           true,
           "Staphylococcus aureus"
          ],
          [
           true,
           "Staphylococcus aureus"
          ],
          [
           true,
           "Staphylococcus aureus"
          ],
          [
           true,
           "Staphylococcus aureus"
          ],
          [
           true,
           "Staphylococcus aureus"
          ],
          [
           true,
           "Staphylococcus aureus"
          ],
          [
           true,
           "Streptococcus anginosus"
          ],
          [
           true,
           "Streptococcus anginosus"
          ],
          [
           true,
           "Streptococcus salivarius"
          ],
          [
           true,
           "Streptococcus pneumoniae"
          ],
          [
           true,
           "Streptococcus pneumoniae"
          ],
          [
           true,
           "Streptococcus pneumoniae"
          ],
          [
           true,
           "Streptococcus pneumoniae"
          ],
          [
           true,
           "Streptococcus pneumoniae"
          ],
          [
           true,
           "Streptococcus oralis"
          ],
          [
           true,
           "Streptococcus oralis"
          ],
          [
           true,
           "Streptococcus pneumoniae"
          ],
          [
           true,
           "Streptococcus sanguinis"
          ],
          [
           true,
           "Streptococcus salivarius"
          ],
          [
           true,
           "Streptococcus pneumoniae"
          ],
          [
           true,
           "Streptococcus anginosus"
          ],
          [
           true,
           "Streptococcus sanguinis"
          ],
          [
           true,
           "Streptococcus anginosus"
          ],
          [
           true,
           "Streptococcus pneumoniae"
          ],
          [
           true,
           "Streptococcus pneumoniae"
          ],
          [
           true,
           "Streptococcus pneumoniae"
          ],
          [
           true,
           "Streptococcus pneumoniae"
          ],
          [
           true,
           "Streptococcus pneumoniae"
          ],
          [
           true,
           "Streptococcus pneumoniae"
          ],
          [
           true,
           "Streptococcus pneumoniae"
          ],
          [
           true,
           "Streptococcus mitis"
          ],
          [
           true,
           "Streptococcus sanguinis"
          ],
          [
           true,
           "Streptococcus oralis"
          ],
          [
           true,
           "Streptococcus pneumoniae"
          ],
          [
           true,
           "Streptococcus pneumoniae"
          ],
          [
           true,
           "Streptococcus pneumoniae"
          ],
          [
           true,
           "Streptococcus pneumoniae"
          ],
          [
           true,
           "Streptococcus pneumoniae"
          ],
          [
           true,
           "Streptococcus salivarius"
          ],
          [
           true,
           "Streptococcus anginosus"
          ],
          [
           true,
           "Streptococcus anginosus"
          ],
          [
           true,
           "Streptococcus anginosus"
          ],
          [
           true,
           "Streptococcus anginosus"
          ],
          [
           true,
           "Streptococcus salivarius"
          ],
          [
           true,
           "Streptococcus pneumoniae"
          ],
          [
           true,
           "Streptococcus pneumoniae"
          ],
          [
           true,
           "Streptococcus pneumoniae"
          ],
          [
           true,
           "Streptococcus pneumoniae"
          ],
          [
           true,
           "Streptococcus pneumoniae"
          ],
          [
           true,
           "Streptococcus pneumoniae"
          ],
          [
           true,
           "Streptococcus pneumoniae"
          ],
          [
           true,
           "Streptococcus pneumoniae"
          ],
          [
           true,
           "Streptococcus oralis"
          ],
          [
           true,
           "Streptococcus oralis"
          ],
          [
           true,
           "Streptococcus oralis"
          ],
          [
           true,
           "Streptococcus pneumoniae"
          ],
          [
           true,
           "Streptococcus sanguinis"
          ],
          [
           true,
           "Streptococcus salivarius"
          ],
          [
           true,
           "Streptococcus salivarius"
          ],
          [
           true,
           "Streptococcus pneumoniae"
          ],
          [
           true,
           "Streptococcus anginosus"
          ],
          [
           true,
           "Streptococcus mitis"
          ],
          [
           true,
           "Streptococcus pneumoniae"
          ],
          [
           true,
           "Streptococcus sanguinis"
          ],
          [
           true,
           "Streptococcus sanguinis"
          ],
          [
           true,
           "Streptococcus mitis"
          ],
          [
           true,
           "Streptococcus anginosus"
          ],
          [
           true,
           "Streptococcus pneumoniae"
          ],
          [
           true,
           "Streptococcus pneumoniae"
          ],
          [
           true,
           "Streptococcus pneumoniae"
          ],
          [
           true,
           "Streptococcus pneumoniae"
          ],
          [
           true,
           "Streptococcus pneumoniae"
          ],
          [
           true,
           "Streptococcus pneumoniae"
          ],
          [
           true,
           "Streptococcus pneumoniae"
          ],
          [
           true,
           "Streptococcus pneumoniae"
          ],
          [
           true,
           "Streptococcus mitis"
          ],
          [
           true,
           "Streptococcus mitis"
          ],
          [
           true,
           "Streptococcus sanguinis"
          ],
          [
           true,
           "Streptococcus mitis"
          ],
          [
           true,
           "Streptococcus oralis"
          ],
          [
           true,
           "Streptococcus oralis"
          ],
          [
           true,
           "Streptococcus pneumoniae"
          ],
          [
           true,
           "Streptococcus sanguinis"
          ],
          [
           true,
           "Streptococcus sanguinis"
          ],
          [
           true,
           "Streptococcus sanguinis"
          ],
          [
           true,
           "Streptococcus pneumoniae"
          ],
          [
           true,
           "Streptococcus pneumoniae"
          ],
          [
           true,
           "Streptococcus pneumoniae"
          ],
          [
           true,
           "Streptococcus pneumoniae"
          ],
          [
           true,
           "Streptococcus pneumoniae"
          ],
          [
           true,
           "Streptococcus pneumoniae"
          ],
          [
           true,
           "Streptococcus pneumoniae"
          ],
          [
           true,
           "Streptococcus salivarius"
          ],
          [
           true,
           "Streptococcus salivarius"
          ],
          [
           true,
           "Streptococcus salivarius"
          ],
          [
           true,
           "Streptococcus salivarius"
          ],
          [
           true,
           "Enterococcus faecalis"
          ],
          [
           false,
           "Enterococcus faecalis"
          ],
          [
           true,
           "Enterococcus faecium"
          ],
          [
           false,
           "Enterococcus faecium"
          ],
          [
           true,
           "Enterococcus faecalis"
          ],
          [
           false,
           "Enterococcus faecium"
          ],
          [
           false,
           "Enterococcus faecalis"
          ],
          [
           true,
           "Enterococcus faecium"
          ],
          [
           false,
           "Enterococcus faecium"
          ],
          [
           true,
           "Enterococcus faecium"
          ],
          [
           false,
           "Enterococcus faecium"
          ],
          [
           false,
           "Enterococcus faecium"
          ],
          [
           false,
           "Enterococcus faecium"
          ],
          [
           true,
           "Enterococcus faecalis"
          ],
          [
           false,
           "Enterococcus faecium"
          ],
          [
           true,
           "Enterococcus faecium"
          ],
          [
           false,
           "Enterococcus faecium"
          ],
          [
           true,
           "Enterococcus faecium"
          ],
          [
           true,
           "Enterococcus faecium"
          ],
          [
           true,
           "Enterococcus faecium"
          ],
          [
           false,
           "Enterococcus faecium"
          ],
          [
           true,
           "Enterococcus faecium"
          ],
          [
           false,
           "Enterococcus faecium"
          ],
          [
           true,
           "Enterococcus faecium"
          ],
          [
           true,
           "Enterococcus faecium"
          ],
          [
           false,
           "Enterococcus faecium"
          ],
          [
           true,
           "Enterococcus faecium"
          ],
          [
           false,
           "Enterococcus faecium"
          ],
          [
           true,
           "Enterococcus faecium"
          ],
          [
           true,
           "Enterococcus faecium"
          ],
          [
           true,
           "Enterococcus faecium"
          ],
          [
           true,
           "Enterococcus faecium"
          ],
          [
           true,
           "Enterococcus faecium"
          ],
          [
           true,
           "Enterococcus faecium"
          ],
          [
           true,
           "Enterococcus faecium"
          ],
          [
           true,
           "Enterococcus faecium"
          ],
          [
           true,
           "Enterococcus faecium"
          ],
          [
           true,
           "Enterococcus faecium"
          ],
          [
           false,
           "Enterococcus faecium"
          ],
          [
           false,
           "Enterococcus faecium"
          ],
          [
           false,
           "Enterococcus faecium"
          ],
          [
           false,
           "Enterococcus faecium"
          ],
          [
           true,
           "Enterococcus faecium"
          ],
          [
           true,
           "Enterococcus faecium"
          ],
          [
           false,
           "Enterococcus faecalis"
          ],
          [
           true,
           "Staphylococcus aureus"
          ],
          [
           true,
           "Staphylococcus aureus"
          ],
          [
           true,
           "Staphylococcus aureus"
          ],
          [
           true,
           "Staphylococcus aureus"
          ],
          [
           true,
           "Staphylococcus aureus"
          ],
          [
           true,
           "Staphylococcus aureus"
          ],
          [
           true,
           "Staphylococcus aureus"
          ],
          [
           true,
           "Staphylococcus aureus"
          ],
          [
           true,
           "Staphylococcus aureus"
          ],
          [
           true,
           "Staphylococcus aureus"
          ],
          [
           true,
           "Staphylococcus aureus"
          ],
          [
           true,
           "Staphylococcus aureus"
          ],
          [
           true,
           "Staphylococcus aureus"
          ],
          [
           true,
           "Staphylococcus aureus"
          ],
          [
           true,
           "Staphylococcus aureus"
          ],
          [
           true,
           "Staphylococcus aureus"
          ],
          [
           true,
           "Staphylococcus aureus"
          ],
          [
           true,
           "Staphylococcus aureus"
          ],
          [
           true,
           "Staphylococcus aureus"
          ],
          [
           true,
           "Staphylococcus aureus"
          ],
          [
           true,
           "Staphylococcus aureus"
          ],
          [
           true,
           "Staphylococcus aureus"
          ],
          [
           true,
           "Staphylococcus aureus"
          ],
          [
           true,
           "Staphylococcus aureus"
          ],
          [
           true,
           "Staphylococcus aureus"
          ],
          [
           true,
           "Staphylococcus capitis"
          ],
          [
           true,
           "Staphylococcus capitis"
          ],
          [
           true,
           "Staphylococcus epidermidis"
          ],
          [
           true,
           "Staphylococcus epidermidis"
          ],
          [
           true,
           "Staphylococcus capitis"
          ],
          [
           true,
           "Staphylococcus capitis"
          ],
          [
           true,
           "Staphylococcus capitis"
          ],
          [
           true,
           "Staphylococcus capitis"
          ],
          [
           true,
           "Staphylococcus capitis"
          ],
          [
           true,
           "Staphylococcus capitis"
          ],
          [
           true,
           "Staphylococcus epidermidis"
          ],
          [
           true,
           "Staphylococcus epidermidis"
          ],
          [
           true,
           "Staphylococcus epidermidis"
          ],
          [
           true,
           "Staphylococcus epidermidis"
          ],
          [
           true,
           "Staphylococcus epidermidis"
          ],
          [
           true,
           "Staphylococcus epidermidis"
          ],
          [
           true,
           "Staphylococcus epidermidis"
          ],
          [
           true,
           "Staphylococcus epidermidis"
          ],
          [
           true,
           "Staphylococcus epidermidis"
          ],
          [
           true,
           "Staphylococcus epidermidis"
          ],
          [
           true,
           "Staphylococcus epidermidis"
          ],
          [
           true,
           "Staphylococcus epidermidis"
          ],
          [
           true,
           "Staphylococcus epidermidis"
          ],
          [
           true,
           "Staphylococcus epidermidis"
          ],
          [
           true,
           "Staphylococcus epidermidis"
          ],
          [
           true,
           "Staphylococcus epidermidis"
          ],
          [
           true,
           "Staphylococcus epidermidis"
          ],
          [
           true,
           "Staphylococcus epidermidis"
          ],
          [
           true,
           "Staphylococcus epidermidis"
          ],
          [
           true,
           "Staphylococcus epidermidis"
          ],
          [
           true,
           "Staphylococcus epidermidis"
          ],
          [
           true,
           "Staphylococcus epidermidis"
          ],
          [
           true,
           "Staphylococcus epidermidis"
          ],
          [
           true,
           "Staphylococcus epidermidis"
          ],
          [
           true,
           "Staphylococcus epidermidis"
          ],
          [
           true,
           "Staphylococcus epidermidis"
          ],
          [
           true,
           "Staphylococcus epidermidis"
          ],
          [
           true,
           "Staphylococcus epidermidis"
          ],
          [
           true,
           "Staphylococcus epidermidis"
          ],
          [
           true,
           "Staphylococcus aureus"
          ],
          [
           true,
           "Staphylococcus aureus"
          ],
          [
           true,
           "Staphylococcus epidermidis"
          ],
          [
           true,
           "Staphylococcus epidermidis"
          ],
          [
           true,
           "Staphylococcus epidermidis"
          ],
          [
           true,
           "Staphylococcus epidermidis"
          ],
          [
           true,
           "Staphylococcus epidermidis"
          ],
          [
           true,
           "Staphylococcus epidermidis"
          ],
          [
           true,
           "Staphylococcus epidermidis"
          ],
          [
           true,
           "Staphylococcus epidermidis"
          ],
          [
           true,
           "Staphylococcus epidermidis"
          ],
          [
           true,
           "Staphylococcus hominis"
          ],
          [
           true,
           "Staphylococcus epidermidis"
          ],
          [
           true,
           "Staphylococcus hominis"
          ],
          [
           true,
           "Staphylococcus hominis"
          ],
          [
           true,
           "Staphylococcus hominis"
          ],
          [
           true,
           "Staphylococcus hominis"
          ],
          [
           true,
           "Staphylococcus hominis"
          ],
          [
           true,
           "Staphylococcus hominis"
          ],
          [
           true,
           "Staphylococcus hominis"
          ],
          [
           true,
           "Staphylococcus hominis"
          ],
          [
           true,
           "Staphylococcus hominis"
          ],
          [
           true,
           "Staphylococcus hominis"
          ],
          [
           true,
           "Staphylococcus hominis"
          ],
          [
           true,
           "Staphylococcus hominis"
          ],
          [
           true,
           "Staphylococcus hominis"
          ],
          [
           true,
           "Staphylococcus hominis"
          ],
          [
           true,
           "Staphylococcus hominis"
          ],
          [
           true,
           "Staphylococcus hominis"
          ],
          [
           true,
           "Staphylococcus aureus"
          ],
          [
           true,
           "Staphylococcus aureus"
          ],
          [
           true,
           "Staphylococcus aureus"
          ],
          [
           true,
           "Staphylococcus aureus"
          ],
          [
           true,
           "Staphylococcus aureus"
          ],
          [
           true,
           "Staphylococcus aureus"
          ],
          [
           true,
           "Staphylococcus aureus"
          ],
          [
           true,
           "Staphylococcus aureus"
          ],
          [
           true,
           "Staphylococcus aureus"
          ],
          [
           true,
           "Staphylococcus aureus"
          ],
          [
           true,
           "Staphylococcus aureus"
          ],
          [
           true,
           "Staphylococcus aureus"
          ],
          [
           true,
           "Staphylococcus aureus"
          ],
          [
           true,
           "Staphylococcus aureus"
          ],
          [
           true,
           "Staphylococcus aureus"
          ],
          [
           true,
           "Staphylococcus aureus"
          ],
          [
           true,
           "Staphylococcus aureus"
          ],
          [
           true,
           "Staphylococcus capitis"
          ],
          [
           true,
           "Staphylococcus capitis"
          ],
          [
           true,
           "Staphylococcus hominis"
          ],
          [
           true,
           "Staphylococcus hominis"
          ],
          [
           true,
           "Staphylococcus hominis"
          ],
          [
           true,
           "Staphylococcus hominis"
          ],
          [
           true,
           "Staphylococcus hominis"
          ],
          [
           true,
           "Staphylococcus hominis"
          ],
          [
           true,
           "Staphylococcus hominis"
          ],
          [
           true,
           "Staphylococcus hominis"
          ],
          [
           true,
           "Staphylococcus hominis"
          ],
          [
           true,
           "Staphylococcus lugdunensis"
          ],
          [
           true,
           "Staphylococcus lugdunensis"
          ],
          [
           true,
           "Staphylococcus lugdunensis"
          ],
          [
           true,
           "Staphylococcus lugdunensis"
          ],
          [
           true,
           "Staphylococcus lugdunensis"
          ],
          [
           true,
           "Staphylococcus hominis"
          ],
          [
           true,
           "Staphylococcus hominis"
          ],
          [
           true,
           "Staphylococcus hominis"
          ],
          [
           true,
           "Staphylococcus hominis"
          ],
          [
           true,
           "Staphylococcus hominis"
          ],
          [
           true,
           "Staphylococcus aureus"
          ],
          [
           true,
           "Staphylococcus aureus"
          ],
          [
           true,
           "Staphylococcus aureus"
          ],
          [
           true,
           "Staphylococcus aureus"
          ],
          [
           true,
           "Staphylococcus aureus"
          ],
          [
           true,
           "Staphylococcus aureus"
          ],
          [
           true,
           "Staphylococcus aureus"
          ],
          [
           true,
           "Staphylococcus aureus"
          ],
          [
           true,
           "Staphylococcus aureus"
          ],
          [
           true,
           "Staphylococcus aureus"
          ],
          [
           true,
           "Staphylococcus aureus"
          ],
          [
           true,
           "Staphylococcus aureus"
          ],
          [
           true,
           "Staphylococcus aureus"
          ],
          [
           true,
           "Staphylococcus aureus"
          ],
          [
           true,
           "Staphylococcus aureus"
          ],
          [
           true,
           "Staphylococcus capitis"
          ],
          [
           true,
           "Staphylococcus epidermidis"
          ],
          [
           true,
           "Staphylococcus lugdunensis"
          ],
          [
           true,
           "Staphylococcus lugdunensis"
          ],
          [
           true,
           "Staphylococcus lugdunensis"
          ],
          [
           true,
           "Staphylococcus lugdunensis"
          ],
          [
           true,
           "Staphylococcus lugdunensis"
          ],
          [
           true,
           "Staphylococcus epidermidis"
          ],
          [
           true,
           "Staphylococcus epidermidis"
          ],
          [
           true,
           "Staphylococcus epidermidis"
          ],
          [
           true,
           "Staphylococcus epidermidis"
          ],
          [
           true,
           "Staphylococcus epidermidis"
          ],
          [
           true,
           "Staphylococcus epidermidis"
          ],
          [
           true,
           "Staphylococcus lugdunensis"
          ],
          [
           true,
           "Staphylococcus aureus"
          ],
          [
           true,
           "Staphylococcus aureus"
          ],
          [
           true,
           "Staphylococcus aureus"
          ],
          [
           true,
           "Staphylococcus aureus"
          ],
          [
           true,
           "Staphylococcus aureus"
          ],
          [
           true,
           "Staphylococcus aureus"
          ],
          [
           true,
           "Staphylococcus aureus"
          ],
          [
           true,
           "Staphylococcus aureus"
          ],
          [
           true,
           "Staphylococcus aureus"
          ],
          [
           true,
           "Staphylococcus aureus"
          ],
          [
           true,
           "Staphylococcus aureus"
          ],
          [
           true,
           "Staphylococcus aureus"
          ],
          [
           true,
           "Staphylococcus aureus"
          ],
          [
           true,
           "Staphylococcus aureus"
          ],
          [
           true,
           "Staphylococcus aureus"
          ],
          [
           true,
           "Staphylococcus aureus"
          ],
          [
           true,
           "Staphylococcus aureus"
          ],
          [
           true,
           "Staphylococcus aureus"
          ],
          [
           true,
           "Staphylococcus aureus"
          ],
          [
           true,
           "Staphylococcus aureus"
          ],
          [
           true,
           "Staphylococcus aureus"
          ],
          [
           true,
           "Staphylococcus aureus"
          ],
          [
           true,
           "Staphylococcus aureus"
          ],
          [
           true,
           "Staphylococcus aureus"
          ],
          [
           true,
           "Staphylococcus aureus"
          ],
          [
           true,
           "Staphylococcus aureus"
          ],
          [
           true,
           "Staphylococcus aureus"
          ],
          [
           true,
           "Staphylococcus aureus"
          ],
          [
           true,
           "Staphylococcus aureus"
          ],
          [
           true,
           "Staphylococcus aureus"
          ],
          [
           true,
           "Staphylococcus epidermidis"
          ],
          [
           true,
           "Staphylococcus epidermidis"
          ],
          [
           true,
           "Staphylococcus epidermidis"
          ],
          [
           true,
           "Staphylococcus epidermidis"
          ],
          [
           true,
           "Staphylococcus epidermidis"
          ],
          [
           true,
           "Staphylococcus aureus"
          ],
          [
           true,
           "Staphylococcus lugdunensis"
          ],
          [
           true,
           "Staphylococcus aureus"
          ],
          [
           true,
           "Staphylococcus aureus"
          ],
          [
           true,
           "Staphylococcus aureus"
          ],
          [
           true,
           "Enterococcus faecalis"
          ],
          [
           true,
           "Enterococcus faecalis"
          ],
          [
           true,
           "Enterococcus faecium"
          ],
          [
           true,
           "Enterococcus faecium"
          ],
          [
           true,
           "Enterococcus faecium"
          ],
          [
           true,
           "Staphylococcus aureus"
          ],
          [
           true,
           "Staphylococcus aureus"
          ],
          [
           true,
           "Staphylococcus aureus"
          ],
          [
           true,
           "Staphylococcus aureus"
          ],
          [
           true,
           "Staphylococcus aureus"
          ],
          [
           true,
           "Staphylococcus aureus"
          ],
          [
           true,
           "Staphylococcus aureus"
          ],
          [
           true,
           "Staphylococcus aureus"
          ],
          [
           true,
           "Staphylococcus aureus"
          ],
          [
           true,
           "Staphylococcus aureus"
          ],
          [
           true,
           "Staphylococcus aureus"
          ],
          [
           true,
           "Staphylococcus aureus"
          ],
          [
           true,
           "Staphylococcus aureus"
          ],
          [
           true,
           "Staphylococcus aureus"
          ],
          [
           true,
           "Staphylococcus aureus"
          ],
          [
           true,
           "Staphylococcus aureus"
          ],
          [
           true,
           "Staphylococcus aureus"
          ],
          [
           true,
           "Staphylococcus aureus"
          ],
          [
           true,
           "Staphylococcus aureus"
          ],
          [
           true,
           "Staphylococcus aureus"
          ],
          [
           true,
           "Staphylococcus aureus"
          ],
          [
           true,
           "Staphylococcus aureus"
          ],
          [
           true,
           "Enterococcus faecium"
          ],
          [
           true,
           "Enterococcus faecalis"
          ],
          [
           true,
           "Enterococcus faecium"
          ],
          [
           true,
           "Enterococcus faecium"
          ],
          [
           true,
           "Enterococcus faecium"
          ],
          [
           true,
           "Staphylococcus aureus"
          ],
          [
           true,
           "Staphylococcus aureus"
          ],
          [
           true,
           "Staphylococcus aureus"
          ],
          [
           true,
           "Streptococcus agalactiae"
          ],
          [
           true,
           "Streptococcus agalactiae"
          ],
          [
           true,
           "Streptococcus agalactiae"
          ],
          [
           true,
           "Streptococcus anginosus"
          ],
          [
           true,
           "Streptococcus anginosus"
          ],
          [
           true,
           "Streptococcus anginosus"
          ],
          [
           true,
           "Streptococcus agalactiae"
          ],
          [
           true,
           "Streptococcus agalactiae"
          ],
          [
           true,
           "Streptococcus agalactiae"
          ],
          [
           true,
           "Streptococcus agalactiae"
          ],
          [
           true,
           "Streptococcus agalactiae"
          ],
          [
           true,
           "Streptococcus agalactiae"
          ],
          [
           true,
           "Streptococcus agalactiae"
          ],
          [
           true,
           "Streptococcus agalactiae"
          ],
          [
           true,
           "Staphylococcus capitis"
          ],
          [
           true,
           "Staphylococcus capitis"
          ],
          [
           true,
           "Staphylococcus epidermidis"
          ],
          [
           true,
           "Staphylococcus capitis"
          ],
          [
           true,
           "Staphylococcus capitis"
          ],
          [
           true,
           "Staphylococcus capitis"
          ],
          [
           true,
           "Staphylococcus capitis"
          ],
          [
           true,
           "Staphylococcus capitis"
          ],
          [
           true,
           "Staphylococcus capitis"
          ],
          [
           true,
           "Staphylococcus epidermidis"
          ],
          [
           true,
           "Staphylococcus epidermidis"
          ],
          [
           true,
           "Staphylococcus epidermidis"
          ],
          [
           true,
           "Staphylococcus epidermidis"
          ],
          [
           true,
           "Streptococcus agalactiae"
          ],
          [
           true,
           "Streptococcus agalactiae"
          ],
          [
           true,
           "Streptococcus agalactiae"
          ],
          [
           true,
           "Streptococcus anginosus"
          ],
          [
           true,
           "Streptococcus salivarius"
          ],
          [
           true,
           "Streptococcus mitis"
          ],
          [
           true,
           "Staphylococcus epidermidis"
          ],
          [
           true,
           "Staphylococcus epidermidis"
          ],
          [
           true,
           "Staphylococcus epidermidis"
          ],
          [
           true,
           "Staphylococcus epidermidis"
          ],
          [
           true,
           "Staphylococcus epidermidis"
          ],
          [
           true,
           "Staphylococcus epidermidis"
          ],
          [
           true,
           "Staphylococcus epidermidis"
          ],
          [
           true,
           "Staphylococcus epidermidis"
          ],
          [
           true,
           "Staphylococcus epidermidis"
          ],
          [
           true,
           "Staphylococcus epidermidis"
          ],
          [
           true,
           "Staphylococcus epidermidis"
          ],
          [
           true,
           "Staphylococcus epidermidis"
          ],
          [
           true,
           "Staphylococcus epidermidis"
          ],
          [
           true,
           "Staphylococcus epidermidis"
          ],
          [
           true,
           "Staphylococcus epidermidis"
          ],
          [
           true,
           "Staphylococcus epidermidis"
          ],
          [
           true,
           "Staphylococcus epidermidis"
          ],
          [
           true,
           "Staphylococcus epidermidis"
          ],
          [
           true,
           "Staphylococcus epidermidis"
          ],
          [
           true,
           "Staphylococcus epidermidis"
          ],
          [
           true,
           "Staphylococcus aureus"
          ],
          [
           true,
           "Staphylococcus aureus"
          ],
          [
           true,
           "Staphylococcus epidermidis"
          ],
          [
           true,
           "Staphylococcus epidermidis"
          ],
          [
           true,
           "Staphylococcus epidermidis"
          ],
          [
           true,
           "Staphylococcus epidermidis"
          ],
          [
           true,
           "Staphylococcus epidermidis"
          ],
          [
           true,
           "Staphylococcus epidermidis"
          ],
          [
           true,
           "Staphylococcus epidermidis"
          ],
          [
           true,
           "Staphylococcus epidermidis"
          ],
          [
           true,
           "Staphylococcus epidermidis"
          ],
          [
           true,
           "Staphylococcus epidermidis"
          ],
          [
           true,
           "Staphylococcus hominis"
          ],
          [
           true,
           "Staphylococcus epidermidis"
          ],
          [
           true,
           "Staphylococcus hominis"
          ],
          [
           true,
           "Staphylococcus hominis"
          ],
          [
           true,
           "Staphylococcus hominis"
          ],
          [
           true,
           "Staphylococcus hominis"
          ],
          [
           true,
           "Staphylococcus hominis"
          ],
          [
           true,
           "Staphylococcus hominis"
          ],
          [
           true,
           "Staphylococcus hominis"
          ],
          [
           true,
           "Staphylococcus hominis"
          ],
          [
           true,
           "Staphylococcus hominis"
          ],
          [
           true,
           "Streptococcus pneumoniae"
          ],
          [
           true,
           "Streptococcus pneumoniae"
          ],
          [
           true,
           "Streptococcus pneumoniae"
          ],
          [
           true,
           "Streptococcus pneumoniae"
          ],
          [
           true,
           "Streptococcus pyogenes"
          ],
          [
           true,
           "Streptococcus pyogenes"
          ],
          [
           true,
           "Streptococcus pyogenes"
          ],
          [
           true,
           "Streptococcus oralis"
          ],
          [
           true,
           "Streptococcus oralis"
          ],
          [
           true,
           "Streptococcus oralis"
          ],
          [
           true,
           "Streptococcus pneumoniae"
          ],
          [
           true,
           "Streptococcus sanguinis"
          ],
          [
           true,
           "Streptococcus pyogenes"
          ],
          [
           true,
           "Streptococcus pyogenes"
          ],
          [
           true,
           "Streptococcus pyogenes"
          ],
          [
           true,
           "Streptococcus pyogenes"
          ],
          [
           true,
           "Streptococcus pyogenes"
          ],
          [
           true,
           "Streptococcus pyogenes"
          ],
          [
           true,
           "Streptococcus salivarius"
          ],
          [
           true,
           "Staphylococcus hominis"
          ],
          [
           true,
           "Staphylococcus hominis"
          ],
          [
           true,
           "Staphylococcus hominis"
          ],
          [
           true,
           "Staphylococcus hominis"
          ],
          [
           true,
           "Staphylococcus hominis"
          ],
          [
           true,
           "Staphylococcus hominis"
          ],
          [
           true,
           "Staphylococcus hominis"
          ],
          [
           true,
           "Enterococcus faecium"
          ],
          [
           true,
           "Enterococcus faecium"
          ],
          [
           true,
           "Enterococcus faecium"
          ],
          [
           true,
           "Enterococcus faecium"
          ],
          [
           true,
           "Enterococcus faecium"
          ],
          [
           true,
           "Enterococcus faecium"
          ],
          [
           true,
           "Enterococcus faecium"
          ],
          [
           true,
           "Enterococcus faecium"
          ],
          [
           true,
           "Enterococcus faecium"
          ],
          [
           true,
           "Enterococcus faecium"
          ],
          [
           true,
           "Staphylococcus aureus"
          ],
          [
           true,
           "Staphylococcus aureus"
          ],
          [
           true,
           "Staphylococcus aureus"
          ],
          [
           true,
           "Staphylococcus aureus"
          ],
          [
           true,
           "Staphylococcus aureus"
          ],
          [
           true,
           "Staphylococcus aureus"
          ],
          [
           true,
           "Staphylococcus aureus"
          ],
          [
           true,
           "Staphylococcus aureus"
          ],
          [
           true,
           "Staphylococcus aureus"
          ],
          [
           true,
           "Staphylococcus aureus"
          ],
          [
           true,
           "Staphylococcus aureus"
          ],
          [
           true,
           "Staphylococcus aureus"
          ],
          [
           true,
           "Staphylococcus aureus"
          ],
          [
           true,
           "Staphylococcus aureus"
          ],
          [
           true,
           "Staphylococcus aureus"
          ],
          [
           true,
           "Staphylococcus aureus"
          ],
          [
           true,
           "Staphylococcus aureus"
          ],
          [
           true,
           "Staphylococcus aureus"
          ],
          [
           true,
           "Staphylococcus capitis"
          ],
          [
           true,
           "Staphylococcus capitis"
          ],
          [
           true,
           "Streptococcus pneumoniae"
          ],
          [
           true,
           "Streptococcus agalactiae"
          ],
          [
           true,
           "Streptococcus anginosus"
          ],
          [
           true,
           "Streptococcus mitis"
          ],
          [
           true,
           "Streptococcus pneumoniae"
          ],
          [
           true,
           "Streptococcus sanguinis"
          ],
          [
           true,
           "Streptococcus sanguinis"
          ],
          [
           true,
           "Streptococcus mitis"
          ],
          [
           true,
           "Streptococcus anginosus"
          ],
          [
           true,
           "Staphylococcus hominis"
          ],
          [
           true,
           "Staphylococcus hominis"
          ],
          [
           true,
           "Staphylococcus hominis"
          ],
          [
           true,
           "Staphylococcus hominis"
          ],
          [
           true,
           "Staphylococcus hominis"
          ],
          [
           true,
           "Enterococcus faecium"
          ],
          [
           true,
           "Enterococcus faecium"
          ],
          [
           true,
           "Streptococcus agalactiae"
          ],
          [
           true,
           "Staphylococcus hominis"
          ],
          [
           true,
           "Staphylococcus hominis"
          ],
          [
           true,
           "Staphylococcus hominis"
          ],
          [
           true,
           "Staphylococcus hominis"
          ],
          [
           true,
           "Staphylococcus lugdunensis"
          ],
          [
           true,
           "Staphylococcus lugdunensis"
          ],
          [
           true,
           "Staphylococcus lugdunensis"
          ],
          [
           true,
           "Staphylococcus lugdunensis"
          ],
          [
           true,
           "Staphylococcus lugdunensis"
          ],
          [
           true,
           "Streptococcus agalactiae"
          ],
          [
           true,
           "Streptococcus agalactiae"
          ],
          [
           true,
           "Streptococcus agalactiae"
          ],
          [
           true,
           "Streptococcus agalactiae"
          ],
          [
           true,
           "Streptococcus agalactiae"
          ],
          [
           true,
           "Streptococcus agalactiae"
          ],
          [
           true,
           "Streptococcus agalactiae"
          ],
          [
           true,
           "Streptococcus agalactiae"
          ],
          [
           true,
           "Streptococcus pneumoniae"
          ],
          [
           true,
           "Streptococcus pneumoniae"
          ],
          [
           true,
           "Staphylococcus hominis"
          ],
          [
           true,
           "Staphylococcus hominis"
          ],
          [
           true,
           "Staphylococcus hominis"
          ],
          [
           true,
           "Staphylococcus hominis"
          ],
          [
           true,
           "Staphylococcus hominis"
          ],
          [
           true,
           "Streptococcus mitis"
          ],
          [
           true,
           "Streptococcus mitis"
          ],
          [
           true,
           "Streptococcus sanguinis"
          ],
          [
           true,
           "Streptococcus mitis"
          ],
          [
           true,
           "Streptococcus oralis"
          ],
          [
           true,
           "Streptococcus oralis"
          ],
          [
           true,
           "Streptococcus agalactiae"
          ],
          [
           true,
           "Streptococcus pneumoniae"
          ],
          [
           true,
           "Streptococcus pyogenes"
          ],
          [
           true,
           "Streptococcus pyogenes"
          ],
          [
           true,
           "Streptococcus pyogenes"
          ],
          [
           true,
           "Streptococcus pyogenes"
          ],
          [
           true,
           "Streptococcus pyogenes"
          ],
          [
           true,
           "Streptococcus pyogenes"
          ],
          [
           true,
           "Streptococcus pyogenes"
          ],
          [
           true,
           "Streptococcus pyogenes"
          ],
          [
           true,
           "Streptococcus pyogenes"
          ],
          [
           true,
           "Streptococcus pyogenes"
          ],
          [
           true,
           "Streptococcus pyogenes"
          ],
          [
           true,
           "Streptococcus pyogenes"
          ],
          [
           true,
           "Streptococcus sanguinis"
          ],
          [
           true,
           "Streptococcus sanguinis"
          ],
          [
           true,
           "Streptococcus sanguinis"
          ],
          [
           true,
           "Staphylococcus aureus"
          ],
          [
           true,
           "Staphylococcus aureus"
          ],
          [
           true,
           "Staphylococcus aureus"
          ],
          [
           true,
           "Staphylococcus aureus"
          ],
          [
           true,
           "Staphylococcus aureus"
          ],
          [
           true,
           "Staphylococcus aureus"
          ],
          [
           true,
           "Staphylococcus aureus"
          ],
          [
           true,
           "Staphylococcus aureus"
          ],
          [
           true,
           "Staphylococcus aureus"
          ],
          [
           true,
           "Staphylococcus aureus"
          ],
          [
           true,
           "Staphylococcus aureus"
          ],
          [
           true,
           "Staphylococcus aureus"
          ],
          [
           true,
           "Staphylococcus aureus"
          ],
          [
           true,
           "Staphylococcus aureus"
          ],
          [
           true,
           "Staphylococcus aureus"
          ],
          [
           true,
           "Staphylococcus aureus"
          ],
          [
           true,
           "Staphylococcus aureus"
          ],
          [
           true,
           "Staphylococcus aureus"
          ],
          [
           true,
           "Staphylococcus capitis"
          ],
          [
           true,
           "Staphylococcus epidermidis"
          ],
          [
           true,
           "Staphylococcus lugdunensis"
          ],
          [
           true,
           "Staphylococcus lugdunensis"
          ],
          [
           true,
           "Staphylococcus lugdunensis"
          ],
          [
           true,
           "Staphylococcus lugdunensis"
          ],
          [
           true,
           "Staphylococcus lugdunensis"
          ],
          [
           true,
           "Staphylococcus lugdunensis"
          ],
          [
           true,
           "Staphylococcus epidermidis"
          ],
          [
           true,
           "Staphylococcus epidermidis"
          ],
          [
           true,
           "Staphylococcus epidermidis"
          ],
          [
           true,
           "Staphylococcus epidermidis"
          ],
          [
           true,
           "Staphylococcus epidermidis"
          ],
          [
           true,
           "Staphylococcus epidermidis"
          ],
          [
           true,
           "Staphylococcus lugdunensis"
          ],
          [
           true,
           "Staphylococcus aureus"
          ],
          [
           true,
           "Staphylococcus aureus"
          ],
          [
           true,
           "Staphylococcus aureus"
          ],
          [
           true,
           "Staphylococcus aureus"
          ],
          [
           true,
           "Staphylococcus aureus"
          ],
          [
           true,
           "Staphylococcus aureus"
          ],
          [
           true,
           "Staphylococcus aureus"
          ],
          [
           true,
           "Staphylococcus aureus"
          ],
          [
           true,
           "Staphylococcus aureus"
          ],
          [
           true,
           "Staphylococcus aureus"
          ],
          [
           true,
           "Staphylococcus aureus"
          ],
          [
           true,
           "Staphylococcus aureus"
          ],
          [
           true,
           "Staphylococcus aureus"
          ],
          [
           true,
           "Staphylococcus aureus"
          ],
          [
           true,
           "Staphylococcus aureus"
          ],
          [
           true,
           "Staphylococcus aureus"
          ],
          [
           true,
           "Staphylococcus aureus"
          ],
          [
           true,
           "Staphylococcus aureus"
          ],
          [
           true,
           "Staphylococcus aureus"
          ],
          [
           true,
           "Staphylococcus aureus"
          ],
          [
           true,
           "Staphylococcus aureus"
          ],
          [
           true,
           "Staphylococcus aureus"
          ],
          [
           true,
           "Staphylococcus aureus"
          ],
          [
           true,
           "Staphylococcus aureus"
          ],
          [
           true,
           "Staphylococcus aureus"
          ],
          [
           true,
           "Staphylococcus aureus"
          ],
          [
           true,
           "Staphylococcus aureus"
          ],
          [
           true,
           "Staphylococcus aureus"
          ],
          [
           true,
           "Staphylococcus aureus"
          ],
          [
           true,
           "Staphylococcus aureus"
          ],
          [
           true,
           "Staphylococcus aureus"
          ],
          [
           true,
           "Staphylococcus aureus"
          ],
          [
           true,
           "Staphylococcus aureus"
          ],
          [
           true,
           "Staphylococcus aureus"
          ],
          [
           true,
           "Staphylococcus epidermidis"
          ],
          [
           true,
           "Staphylococcus epidermidis"
          ],
          [
           true,
           "Streptococcus pneumoniae"
          ],
          [
           true,
           "Streptococcus pneumoniae"
          ],
          [
           true,
           "Streptococcus pneumoniae"
          ],
          [
           true,
           "Streptococcus pneumoniae"
          ],
          [
           true,
           "Streptococcus pneumoniae"
          ],
          [
           true,
           "Streptococcus pneumoniae"
          ],
          [
           true,
           "Streptococcus salivarius"
          ],
          [
           true,
           "Streptococcus salivarius"
          ],
          [
           true,
           "Streptococcus salivarius"
          ],
          [
           true,
           "Streptococcus salivarius"
          ],
          [
           true,
           "Staphylococcus aureus"
          ],
          [
           true,
           "Staphylococcus lugdunensis"
          ],
          [
           true,
           "Staphylococcus aureus"
          ],
          [
           true,
           "Staphylococcus aureus"
          ],
          [
           true,
           "Staphylococcus aureus"
          ],
          [
           true,
           "Enterococcus faecium"
          ],
          [
           true,
           "Enterococcus faecium"
          ],
          [
           true,
           "Staphylococcus aureus"
          ],
          [
           true,
           "Staphylococcus aureus"
          ],
          [
           true,
           "Staphylococcus aureus"
          ],
          [
           true,
           "Staphylococcus aureus"
          ],
          [
           true,
           "Staphylococcus aureus"
          ],
          [
           true,
           "Staphylococcus aureus"
          ],
          [
           true,
           "Staphylococcus aureus"
          ],
          [
           true,
           "Staphylococcus aureus"
          ],
          [
           true,
           "Staphylococcus aureus"
          ],
          [
           true,
           "Staphylococcus aureus"
          ],
          [
           true,
           "Staphylococcus aureus"
          ],
          [
           true,
           "Staphylococcus aureus"
          ],
          [
           true,
           "Staphylococcus aureus"
          ],
          [
           true,
           "Staphylococcus aureus"
          ],
          [
           true,
           "Staphylococcus aureus"
          ],
          [
           true,
           "Staphylococcus aureus"
          ],
          [
           true,
           "Staphylococcus aureus"
          ],
          [
           true,
           "Staphylococcus aureus"
          ],
          [
           true,
           "Staphylococcus aureus"
          ],
          [
           true,
           "Staphylococcus aureus"
          ],
          [
           true,
           "Staphylococcus aureus"
          ],
          [
           true,
           "Staphylococcus aureus"
          ],
          [
           true,
           "Enterococcus faecium"
          ],
          [
           true,
           "Enterococcus faecium"
          ],
          [
           true,
           "Staphylococcus aureus"
          ],
          [
           true,
           "Staphylococcus aureus"
          ],
          [
           true,
           "Staphylococcus aureus"
          ],
          [
           true,
           "Streptococcus agalactiae"
          ],
          [
           true,
           "Streptococcus agalactiae"
          ],
          [
           true,
           "Streptococcus agalactiae"
          ],
          [
           true,
           "Streptococcus anginosus"
          ],
          [
           true,
           "Streptococcus anginosus"
          ],
          [
           true,
           "Streptococcus anginosus"
          ],
          [
           true,
           "Streptococcus agalactiae"
          ],
          [
           true,
           "Streptococcus agalactiae"
          ],
          [
           true,
           "Streptococcus agalactiae"
          ],
          [
           true,
           "Streptococcus agalactiae"
          ],
          [
           true,
           "Streptococcus agalactiae"
          ],
          [
           true,
           "Streptococcus agalactiae"
          ],
          [
           true,
           "Streptococcus agalactiae"
          ],
          [
           true,
           "Streptococcus agalactiae"
          ],
          [
           true,
           "Staphylococcus capitis"
          ],
          [
           true,
           "Staphylococcus capitis"
          ],
          [
           true,
           "Staphylococcus epidermidis"
          ],
          [
           true,
           "Staphylococcus epidermidis"
          ],
          [
           true,
           "Staphylococcus capitis"
          ],
          [
           true,
           "Staphylococcus capitis"
          ],
          [
           true,
           "Staphylococcus capitis"
          ],
          [
           true,
           "Staphylococcus capitis"
          ],
          [
           true,
           "Staphylococcus capitis"
          ],
          [
           true,
           "Staphylococcus epidermidis"
          ],
          [
           true,
           "Staphylococcus epidermidis"
          ],
          [
           true,
           "Staphylococcus epidermidis"
          ],
          [
           true,
           "Staphylococcus epidermidis"
          ],
          [
           true,
           "Staphylococcus epidermidis"
          ],
          [
           true,
           "Staphylococcus epidermidis"
          ],
          [
           true,
           "Streptococcus agalactiae"
          ],
          [
           true,
           "Streptococcus agalactiae"
          ],
          [
           true,
           "Streptococcus agalactiae"
          ],
          [
           true,
           "Streptococcus agalactiae"
          ],
          [
           true,
           "Streptococcus anginosus"
          ],
          [
           true,
           "Streptococcus salivarius"
          ],
          [
           true,
           "Streptococcus mitis"
          ],
          [
           true,
           "Staphylococcus epidermidis"
          ],
          [
           true,
           "Staphylococcus epidermidis"
          ],
          [
           true,
           "Staphylococcus epidermidis"
          ],
          [
           true,
           "Staphylococcus epidermidis"
          ],
          [
           true,
           "Staphylococcus epidermidis"
          ],
          [
           true,
           "Staphylococcus epidermidis"
          ],
          [
           true,
           "Staphylococcus epidermidis"
          ],
          [
           true,
           "Staphylococcus epidermidis"
          ],
          [
           true,
           "Staphylococcus epidermidis"
          ],
          [
           true,
           "Staphylococcus epidermidis"
          ],
          [
           true,
           "Staphylococcus epidermidis"
          ],
          [
           true,
           "Staphylococcus epidermidis"
          ],
          [
           true,
           "Staphylococcus epidermidis"
          ],
          [
           true,
           "Staphylococcus epidermidis"
          ],
          [
           true,
           "Staphylococcus epidermidis"
          ],
          [
           true,
           "Staphylococcus epidermidis"
          ],
          [
           true,
           "Staphylococcus epidermidis"
          ],
          [
           true,
           "Staphylococcus epidermidis"
          ],
          [
           true,
           "Staphylococcus epidermidis"
          ],
          [
           true,
           "Staphylococcus epidermidis"
          ],
          [
           true,
           "Staphylococcus epidermidis"
          ],
          [
           true,
           "Staphylococcus epidermidis"
          ],
          [
           true,
           "Staphylococcus aureus"
          ],
          [
           true,
           "Staphylococcus aureus"
          ],
          [
           true,
           "Staphylococcus epidermidis"
          ],
          [
           true,
           "Staphylococcus epidermidis"
          ],
          [
           true,
           "Staphylococcus epidermidis"
          ],
          [
           true,
           "Staphylococcus epidermidis"
          ],
          [
           true,
           "Staphylococcus epidermidis"
          ],
          [
           true,
           "Staphylococcus epidermidis"
          ],
          [
           true,
           "Staphylococcus epidermidis"
          ],
          [
           true,
           "Staphylococcus epidermidis"
          ],
          [
           true,
           "Staphylococcus epidermidis"
          ],
          [
           true,
           "Staphylococcus epidermidis"
          ],
          [
           true,
           "Staphylococcus hominis"
          ],
          [
           true,
           "Staphylococcus epidermidis"
          ],
          [
           true,
           "Staphylococcus hominis"
          ],
          [
           true,
           "Staphylococcus hominis"
          ],
          [
           true,
           "Staphylococcus hominis"
          ],
          [
           true,
           "Staphylococcus hominis"
          ],
          [
           true,
           "Staphylococcus hominis"
          ],
          [
           true,
           "Staphylococcus hominis"
          ],
          [
           true,
           "Staphylococcus hominis"
          ],
          [
           true,
           "Staphylococcus hominis"
          ],
          [
           true,
           "Staphylococcus hominis"
          ],
          [
           true,
           "Streptococcus pneumoniae"
          ],
          [
           true,
           "Streptococcus pneumoniae"
          ],
          [
           true,
           "Streptococcus pneumoniae"
          ],
          [
           true,
           "Streptococcus pneumoniae"
          ],
          [
           true,
           "Streptococcus pneumoniae"
          ],
          [
           true,
           "Streptococcus pneumoniae"
          ],
          [
           true,
           "Streptococcus pneumoniae"
          ],
          [
           true,
           "Streptococcus pyogenes"
          ],
          [
           true,
           "Streptococcus pyogenes"
          ],
          [
           true,
           "Streptococcus pyogenes"
          ],
          [
           true,
           "Streptococcus oralis"
          ],
          [
           true,
           "Streptococcus oralis"
          ],
          [
           true,
           "Streptococcus oralis"
          ],
          [
           true,
           "Streptococcus pneumoniae"
          ],
          [
           true,
           "Streptococcus sanguinis"
          ],
          [
           true,
           "Streptococcus pyogenes"
          ],
          [
           true,
           "Streptococcus pyogenes"
          ],
          [
           true,
           "Streptococcus pyogenes"
          ],
          [
           true,
           "Streptococcus pyogenes"
          ],
          [
           true,
           "Streptococcus pyogenes"
          ],
          [
           true,
           "Streptococcus pyogenes"
          ],
          [
           true,
           "Streptococcus salivarius"
          ],
          [
           true,
           "Staphylococcus hominis"
          ],
          [
           true,
           "Staphylococcus hominis"
          ],
          [
           true,
           "Staphylococcus hominis"
          ],
          [
           true,
           "Staphylococcus hominis"
          ],
          [
           true,
           "Staphylococcus hominis"
          ],
          [
           true,
           "Staphylococcus hominis"
          ],
          [
           true,
           "Enterococcus faecium"
          ],
          [
           true,
           "Enterococcus faecium"
          ],
          [
           true,
           "Staphylococcus aureus"
          ],
          [
           true,
           "Staphylococcus aureus"
          ],
          [
           true,
           "Staphylococcus aureus"
          ],
          [
           true,
           "Staphylococcus aureus"
          ],
          [
           true,
           "Staphylococcus aureus"
          ],
          [
           true,
           "Staphylococcus aureus"
          ],
          [
           true,
           "Staphylococcus aureus"
          ],
          [
           true,
           "Staphylococcus aureus"
          ],
          [
           true,
           "Staphylococcus aureus"
          ],
          [
           true,
           "Staphylococcus aureus"
          ],
          [
           true,
           "Staphylococcus aureus"
          ],
          [
           true,
           "Staphylococcus aureus"
          ],
          [
           true,
           "Staphylococcus aureus"
          ],
          [
           true,
           "Staphylococcus aureus"
          ],
          [
           true,
           "Staphylococcus aureus"
          ],
          [
           true,
           "Staphylococcus aureus"
          ],
          [
           true,
           "Staphylococcus aureus"
          ],
          [
           true,
           "Staphylococcus aureus"
          ],
          [
           true,
           "Staphylococcus capitis"
          ],
          [
           true,
           "Staphylococcus capitis"
          ],
          [
           true,
           "Streptococcus pneumoniae"
          ],
          [
           true,
           "Streptococcus agalactiae"
          ],
          [
           true,
           "Streptococcus mitis"
          ],
          [
           true,
           "Streptococcus pneumoniae"
          ],
          [
           true,
           "Streptococcus sanguinis"
          ],
          [
           true,
           "Streptococcus sanguinis"
          ],
          [
           true,
           "Streptococcus anginosus"
          ],
          [
           true,
           "Staphylococcus hominis"
          ],
          [
           true,
           "Staphylococcus hominis"
          ],
          [
           true,
           "Staphylococcus hominis"
          ],
          [
           true,
           "Staphylococcus hominis"
          ],
          [
           true,
           "Staphylococcus hominis"
          ],
          [
           true,
           "Enterococcus faecium"
          ],
          [
           true,
           "Enterococcus faecium"
          ],
          [
           true,
           "Streptococcus agalactiae"
          ],
          [
           true,
           "Staphylococcus hominis"
          ],
          [
           true,
           "Staphylococcus hominis"
          ],
          [
           true,
           "Staphylococcus hominis"
          ],
          [
           true,
           "Staphylococcus hominis"
          ],
          [
           true,
           "Staphylococcus lugdunensis"
          ],
          [
           true,
           "Staphylococcus lugdunensis"
          ],
          [
           true,
           "Staphylococcus lugdunensis"
          ],
          [
           true,
           "Staphylococcus lugdunensis"
          ],
          [
           true,
           "Staphylococcus lugdunensis"
          ],
          [
           true,
           "Streptococcus agalactiae"
          ],
          [
           true,
           "Streptococcus agalactiae"
          ],
          [
           true,
           "Streptococcus agalactiae"
          ],
          [
           true,
           "Streptococcus agalactiae"
          ],
          [
           true,
           "Streptococcus agalactiae"
          ],
          [
           true,
           "Streptococcus agalactiae"
          ],
          [
           true,
           "Streptococcus agalactiae"
          ],
          [
           true,
           "Streptococcus pneumoniae"
          ],
          [
           true,
           "Streptococcus pneumoniae"
          ],
          [
           true,
           "Streptococcus pneumoniae"
          ],
          [
           true,
           "Streptococcus pneumoniae"
          ],
          [
           true,
           "Streptococcus pneumoniae"
          ],
          [
           true,
           "Streptococcus pneumoniae"
          ],
          [
           true,
           "Streptococcus pneumoniae"
          ],
          [
           true,
           "Streptococcus pneumoniae"
          ],
          [
           true,
           "Staphylococcus hominis"
          ],
          [
           true,
           "Staphylococcus hominis"
          ],
          [
           true,
           "Staphylococcus hominis"
          ],
          [
           true,
           "Staphylococcus hominis"
          ],
          [
           true,
           "Staphylococcus hominis"
          ],
          [
           true,
           "Streptococcus mitis"
          ],
          [
           true,
           "Streptococcus mitis"
          ],
          [
           true,
           "Streptococcus sanguinis"
          ],
          [
           true,
           "Streptococcus mitis"
          ],
          [
           true,
           "Streptococcus oralis"
          ],
          [
           true,
           "Streptococcus oralis"
          ],
          [
           true,
           "Streptococcus agalactiae"
          ],
          [
           true,
           "Streptococcus pneumoniae"
          ],
          [
           true,
           "Streptococcus pyogenes"
          ],
          [
           true,
           "Streptococcus pyogenes"
          ],
          [
           true,
           "Streptococcus pyogenes"
          ],
          [
           true,
           "Streptococcus pyogenes"
          ],
          [
           true,
           "Streptococcus pyogenes"
          ],
          [
           true,
           "Streptococcus pyogenes"
          ],
          [
           true,
           "Streptococcus pyogenes"
          ],
          [
           true,
           "Streptococcus pyogenes"
          ],
          [
           true,
           "Streptococcus pyogenes"
          ],
          [
           true,
           "Streptococcus pyogenes"
          ],
          [
           true,
           "Streptococcus pyogenes"
          ],
          [
           true,
           "Streptococcus pyogenes"
          ],
          [
           true,
           "Streptococcus sanguinis"
          ],
          [
           true,
           "Streptococcus sanguinis"
          ],
          [
           true,
           "Streptococcus sanguinis"
          ],
          [
           true,
           "Staphylococcus aureus"
          ],
          [
           true,
           "Staphylococcus aureus"
          ],
          [
           true,
           "Staphylococcus aureus"
          ],
          [
           true,
           "Staphylococcus aureus"
          ],
          [
           true,
           "Staphylococcus aureus"
          ],
          [
           true,
           "Staphylococcus aureus"
          ],
          [
           true,
           "Staphylococcus aureus"
          ],
          [
           true,
           "Staphylococcus aureus"
          ],
          [
           true,
           "Staphylococcus aureus"
          ],
          [
           true,
           "Staphylococcus aureus"
          ],
          [
           true,
           "Staphylococcus aureus"
          ],
          [
           true,
           "Staphylococcus aureus"
          ],
          [
           true,
           "Staphylococcus aureus"
          ],
          [
           true,
           "Staphylococcus aureus"
          ],
          [
           true,
           "Staphylococcus aureus"
          ],
          [
           true,
           "Staphylococcus aureus"
          ],
          [
           true,
           "Staphylococcus capitis"
          ],
          [
           true,
           "Staphylococcus epidermidis"
          ],
          [
           true,
           "Staphylococcus lugdunensis"
          ],
          [
           true,
           "Staphylococcus lugdunensis"
          ],
          [
           true,
           "Staphylococcus lugdunensis"
          ],
          [
           true,
           "Staphylococcus lugdunensis"
          ],
          [
           true,
           "Staphylococcus lugdunensis"
          ],
          [
           true,
           "Staphylococcus lugdunensis"
          ],
          [
           true,
           "Staphylococcus epidermidis"
          ],
          [
           true,
           "Staphylococcus epidermidis"
          ],
          [
           true,
           "Staphylococcus epidermidis"
          ],
          [
           true,
           "Staphylococcus epidermidis"
          ],
          [
           true,
           "Staphylococcus epidermidis"
          ],
          [
           true,
           "Staphylococcus epidermidis"
          ],
          [
           true,
           "Staphylococcus lugdunensis"
          ],
          [
           true,
           "Staphylococcus aureus"
          ],
          [
           true,
           "Staphylococcus aureus"
          ],
          [
           true,
           "Staphylococcus aureus"
          ],
          [
           true,
           "Staphylococcus aureus"
          ],
          [
           true,
           "Staphylococcus aureus"
          ],
          [
           true,
           "Staphylococcus aureus"
          ],
          [
           true,
           "Staphylococcus aureus"
          ],
          [
           true,
           "Staphylococcus aureus"
          ],
          [
           true,
           "Staphylococcus aureus"
          ],
          [
           true,
           "Staphylococcus aureus"
          ],
          [
           true,
           "Staphylococcus aureus"
          ],
          [
           true,
           "Staphylococcus aureus"
          ],
          [
           true,
           "Staphylococcus aureus"
          ],
          [
           true,
           "Staphylococcus aureus"
          ],
          [
           true,
           "Staphylococcus aureus"
          ],
          [
           true,
           "Staphylococcus aureus"
          ],
          [
           true,
           "Staphylococcus aureus"
          ],
          [
           true,
           "Staphylococcus aureus"
          ],
          [
           true,
           "Staphylococcus aureus"
          ],
          [
           true,
           "Staphylococcus aureus"
          ],
          [
           true,
           "Staphylococcus aureus"
          ],
          [
           true,
           "Staphylococcus aureus"
          ],
          [
           true,
           "Staphylococcus aureus"
          ],
          [
           true,
           "Staphylococcus aureus"
          ],
          [
           true,
           "Staphylococcus aureus"
          ],
          [
           true,
           "Staphylococcus aureus"
          ],
          [
           true,
           "Staphylococcus aureus"
          ],
          [
           true,
           "Staphylococcus aureus"
          ],
          [
           true,
           "Staphylococcus aureus"
          ],
          [
           true,
           "Staphylococcus aureus"
          ],
          [
           true,
           "Staphylococcus epidermidis"
          ],
          [
           true,
           "Staphylococcus epidermidis"
          ],
          [
           true,
           "Staphylococcus epidermidis"
          ],
          [
           true,
           "Staphylococcus epidermidis"
          ],
          [
           true,
           "Staphylococcus epidermidis"
          ],
          [
           true,
           "Streptococcus pneumoniae"
          ],
          [
           true,
           "Streptococcus pneumoniae"
          ],
          [
           true,
           "Streptococcus pneumoniae"
          ],
          [
           true,
           "Streptococcus pneumoniae"
          ],
          [
           true,
           "Streptococcus pneumoniae"
          ],
          [
           true,
           "Streptococcus pneumoniae"
          ],
          [
           true,
           "Streptococcus salivarius"
          ],
          [
           true,
           "Streptococcus salivarius"
          ],
          [
           true,
           "Streptococcus salivarius"
          ],
          [
           true,
           "Streptococcus salivarius"
          ],
          [
           true,
           "Staphylococcus aureus"
          ],
          [
           true,
           "Staphylococcus lugdunensis"
          ],
          [
           true,
           "Staphylococcus aureus"
          ],
          [
           true,
           "Staphylococcus aureus"
          ],
          [
           true,
           "Staphylococcus capitis"
          ],
          [
           true,
           "Staphylococcus capitis"
          ],
          [
           true,
           "Staphylococcus epidermidis"
          ],
          [
           true,
           "Staphylococcus epidermidis"
          ],
          [
           true,
           "Staphylococcus aureus"
          ],
          [
           true,
           "Staphylococcus hominis"
          ],
          [
           true,
           "Staphylococcus lugdunensis"
          ],
          [
           true,
           "Staphylococcus lugdunensis"
          ],
          [
           true,
           "Staphylococcus lugdunensis"
          ],
          [
           true,
           "Staphylococcus aureus"
          ],
          [
           true,
           "Staphylococcus aureus"
          ],
          [
           true,
           "Staphylococcus aureus"
          ],
          [
           true,
           "Staphylococcus epidermidis"
          ],
          [
           true,
           "Staphylococcus aureus"
          ],
          [
           true,
           "Staphylococcus aureus"
          ],
          [
           true,
           "Staphylococcus aureus"
          ],
          [
           true,
           "Staphylococcus aureus"
          ],
          [
           true,
           "Staphylococcus aureus"
          ],
          [
           true,
           "Staphylococcus lugdunensis"
          ],
          [
           true,
           "Staphylococcus aureus"
          ],
          [
           true,
           "Staphylococcus aureus"
          ],
          [
           true,
           "Staphylococcus aureus"
          ],
          [
           true,
           "Staphylococcus aureus"
          ],
          [
           true,
           "Streptococcus agalactiae"
          ],
          [
           true,
           "Streptococcus agalactiae"
          ],
          [
           true,
           "Staphylococcus capitis"
          ],
          [
           true,
           "Staphylococcus epidermidis"
          ],
          [
           true,
           "Staphylococcus epidermidis"
          ],
          [
           true,
           "Staphylococcus epidermidis"
          ],
          [
           true,
           "Streptococcus agalactiae"
          ],
          [
           true,
           "Staphylococcus epidermidis"
          ],
          [
           true,
           "Staphylococcus epidermidis"
          ],
          [
           true,
           "Staphylococcus epidermidis"
          ],
          [
           true,
           "Staphylococcus epidermidis"
          ],
          [
           true,
           "Staphylococcus epidermidis"
          ],
          [
           true,
           "Staphylococcus epidermidis"
          ],
          [
           true,
           "Staphylococcus epidermidis"
          ],
          [
           true,
           "Staphylococcus epidermidis"
          ],
          [
           true,
           "Staphylococcus aureus"
          ],
          [
           true,
           "Staphylococcus aureus"
          ],
          [
           true,
           "Staphylococcus hominis"
          ],
          [
           true,
           "Staphylococcus hominis"
          ],
          [
           true,
           "Staphylococcus hominis"
          ],
          [
           true,
           "Staphylococcus hominis"
          ],
          [
           true,
           "Staphylococcus hominis"
          ],
          [
           true,
           "Staphylococcus hominis"
          ],
          [
           true,
           "Staphylococcus hominis"
          ],
          [
           true,
           "Staphylococcus hominis"
          ],
          [
           true,
           "Staphylococcus hominis"
          ],
          [
           true,
           "Streptococcus pneumoniae"
          ],
          [
           true,
           "Streptococcus pneumoniae"
          ],
          [
           true,
           "Streptococcus pneumoniae"
          ],
          [
           true,
           "Streptococcus pneumoniae"
          ],
          [
           true,
           "Streptococcus pyogenes"
          ],
          [
           true,
           "Streptococcus pyogenes"
          ],
          [
           true,
           "Streptococcus pyogenes"
          ],
          [
           true,
           "Streptococcus pyogenes"
          ],
          [
           true,
           "Staphylococcus hominis"
          ],
          [
           true,
           "Staphylococcus hominis"
          ],
          [
           true,
           "Staphylococcus hominis"
          ],
          [
           true,
           "Staphylococcus hominis"
          ],
          [
           true,
           "Staphylococcus hominis"
          ],
          [
           true,
           "Staphylococcus hominis"
          ],
          [
           true,
           "Staphylococcus aureus"
          ],
          [
           true,
           "Staphylococcus aureus"
          ],
          [
           true,
           "Staphylococcus aureus"
          ],
          [
           true,
           "Staphylococcus aureus"
          ],
          [
           true,
           "Staphylococcus aureus"
          ],
          [
           true,
           "Staphylococcus aureus"
          ],
          [
           true,
           "Staphylococcus aureus"
          ],
          [
           true,
           "Staphylococcus aureus"
          ],
          [
           true,
           "Staphylococcus aureus"
          ],
          [
           true,
           "Staphylococcus aureus"
          ],
          [
           true,
           "Staphylococcus aureus"
          ],
          [
           true,
           "Staphylococcus aureus"
          ],
          [
           true,
           "Staphylococcus aureus"
          ],
          [
           true,
           "Staphylococcus aureus"
          ],
          [
           true,
           "Streptococcus pneumoniae"
          ],
          [
           true,
           "Staphylococcus hominis"
          ],
          [
           true,
           "Staphylococcus hominis"
          ],
          [
           true,
           "Staphylococcus lugdunensis"
          ],
          [
           true,
           "Staphylococcus lugdunensis"
          ],
          [
           true,
           "Staphylococcus lugdunensis"
          ],
          [
           true,
           "Staphylococcus lugdunensis"
          ],
          [
           true,
           "Streptococcus agalactiae"
          ],
          [
           true,
           "Streptococcus agalactiae"
          ],
          [
           true,
           "Staphylococcus hominis"
          ],
          [
           true,
           "Staphylococcus hominis"
          ],
          [
           true,
           "Staphylococcus hominis"
          ],
          [
           true,
           "Staphylococcus hominis"
          ],
          [
           true,
           "Streptococcus agalactiae"
          ],
          [
           true,
           "Streptococcus pyogenes"
          ],
          [
           true,
           "Streptococcus pyogenes"
          ],
          [
           true,
           "Streptococcus pyogenes"
          ],
          [
           true,
           "Streptococcus pyogenes"
          ],
          [
           true,
           "Streptococcus pyogenes"
          ],
          [
           true,
           "Staphylococcus aureus"
          ],
          [
           true,
           "Staphylococcus aureus"
          ],
          [
           true,
           "Staphylococcus aureus"
          ],
          [
           true,
           "Staphylococcus aureus"
          ],
          [
           true,
           "Staphylococcus aureus"
          ],
          [
           true,
           "Staphylococcus aureus"
          ],
          [
           true,
           "Staphylococcus aureus"
          ],
          [
           true,
           "Staphylococcus aureus"
          ],
          [
           true,
           "Staphylococcus aureus"
          ],
          [
           true,
           "Staphylococcus aureus"
          ],
          [
           true,
           "Staphylococcus aureus"
          ],
          [
           true,
           "Staphylococcus aureus"
          ],
          [
           true,
           "Staphylococcus aureus"
          ],
          [
           true,
           "Staphylococcus aureus"
          ],
          [
           true,
           "Staphylococcus aureus"
          ],
          [
           true,
           "Staphylococcus lugdunensis"
          ],
          [
           true,
           "Staphylococcus lugdunensis"
          ],
          [
           true,
           "Staphylococcus aureus"
          ],
          [
           true,
           "Staphylococcus aureus"
          ],
          [
           true,
           "Staphylococcus aureus"
          ],
          [
           true,
           "Staphylococcus aureus"
          ],
          [
           true,
           "Staphylococcus aureus"
          ],
          [
           true,
           "Staphylococcus aureus"
          ],
          [
           true,
           "Staphylococcus aureus"
          ],
          [
           true,
           "Staphylococcus aureus"
          ],
          [
           true,
           "Staphylococcus aureus"
          ],
          [
           true,
           "Staphylococcus aureus"
          ],
          [
           true,
           "Staphylococcus aureus"
          ],
          [
           true,
           "Staphylococcus aureus"
          ],
          [
           true,
           "Staphylococcus aureus"
          ],
          [
           true,
           "Staphylococcus aureus"
          ],
          [
           true,
           "Staphylococcus aureus"
          ],
          [
           true,
           "Streptococcus pneumoniae"
          ],
          [
           true,
           "Streptococcus pneumoniae"
          ],
          [
           true,
           "Staphylococcus aureus"
          ],
          [
           true,
           "Staphylococcus lugdunensis"
          ],
          [
           true,
           "Staphylococcus aureus"
          ],
          [
           true,
           "Staphylococcus aureus"
          ],
          [
           true,
           "Staphylococcus capitis"
          ],
          [
           true,
           "Staphylococcus epidermidis"
          ],
          [
           true,
           "Staphylococcus capitis"
          ],
          [
           true,
           "Staphylococcus capitis"
          ],
          [
           true,
           "Staphylococcus capitis"
          ],
          [
           true,
           "Staphylococcus capitis"
          ],
          [
           true,
           "Staphylococcus capitis"
          ],
          [
           true,
           "Staphylococcus epidermidis"
          ],
          [
           true,
           "Staphylococcus epidermidis"
          ],
          [
           true,
           "Staphylococcus epidermidis"
          ],
          [
           true,
           "Staphylococcus epidermidis"
          ],
          [
           true,
           "Staphylococcus epidermidis"
          ],
          [
           true,
           "Staphylococcus epidermidis"
          ],
          [
           true,
           "Staphylococcus epidermidis"
          ],
          [
           true,
           "Staphylococcus epidermidis"
          ],
          [
           true,
           "Staphylococcus epidermidis"
          ],
          [
           true,
           "Staphylococcus epidermidis"
          ],
          [
           true,
           "Staphylococcus aureus"
          ],
          [
           true,
           "Staphylococcus aureus"
          ],
          [
           true,
           "Staphylococcus epidermidis"
          ],
          [
           true,
           "Staphylococcus epidermidis"
          ],
          [
           true,
           "Staphylococcus epidermidis"
          ],
          [
           true,
           "Staphylococcus epidermidis"
          ],
          [
           true,
           "Staphylococcus epidermidis"
          ],
          [
           true,
           "Staphylococcus hominis"
          ],
          [
           true,
           "Staphylococcus hominis"
          ],
          [
           true,
           "Staphylococcus hominis"
          ],
          [
           true,
           "Staphylococcus hominis"
          ],
          [
           true,
           "Staphylococcus hominis"
          ],
          [
           true,
           "Staphylococcus hominis"
          ],
          [
           true,
           "Staphylococcus hominis"
          ],
          [
           true,
           "Staphylococcus aureus"
          ],
          [
           true,
           "Staphylococcus aureus"
          ],
          [
           true,
           "Staphylococcus aureus"
          ],
          [
           true,
           "Staphylococcus aureus"
          ],
          [
           true,
           "Staphylococcus aureus"
          ],
          [
           true,
           "Staphylococcus aureus"
          ],
          [
           true,
           "Staphylococcus aureus"
          ],
          [
           true,
           "Staphylococcus hominis"
          ],
          [
           true,
           "Staphylococcus hominis"
          ],
          [
           true,
           "Staphylococcus hominis"
          ],
          [
           true,
           "Staphylococcus hominis"
          ],
          [
           true,
           "Staphylococcus hominis"
          ],
          [
           true,
           "Staphylococcus hominis"
          ],
          [
           true,
           "Staphylococcus hominis"
          ],
          [
           true,
           "Staphylococcus hominis"
          ],
          [
           true,
           "Staphylococcus lugdunensis"
          ],
          [
           true,
           "Staphylococcus lugdunensis"
          ],
          [
           true,
           "Staphylococcus lugdunensis"
          ],
          [
           true,
           "Staphylococcus hominis"
          ],
          [
           true,
           "Staphylococcus hominis"
          ],
          [
           true,
           "Staphylococcus aureus"
          ],
          [
           true,
           "Staphylococcus aureus"
          ],
          [
           true,
           "Staphylococcus aureus"
          ],
          [
           true,
           "Staphylococcus aureus"
          ],
          [
           true,
           "Staphylococcus aureus"
          ],
          [
           true,
           "Staphylococcus aureus"
          ],
          [
           true,
           "Staphylococcus aureus"
          ],
          [
           true,
           "Staphylococcus aureus"
          ],
          [
           true,
           "Staphylococcus aureus"
          ],
          [
           true,
           "Staphylococcus aureus"
          ],
          [
           true,
           "Staphylococcus aureus"
          ],
          [
           true,
           "Staphylococcus aureus"
          ],
          [
           true,
           "Staphylococcus aureus"
          ],
          [
           true,
           "Staphylococcus aureus"
          ],
          [
           true,
           "Staphylococcus aureus"
          ],
          [
           true,
           "Staphylococcus aureus"
          ],
          [
           true,
           "Staphylococcus lugdunensis"
          ],
          [
           true,
           "Staphylococcus lugdunensis"
          ],
          [
           true,
           "Staphylococcus lugdunensis"
          ],
          [
           true,
           "Staphylococcus lugdunensis"
          ],
          [
           true,
           "Staphylococcus epidermidis"
          ],
          [
           true,
           "Staphylococcus epidermidis"
          ],
          [
           true,
           "Staphylococcus epidermidis"
          ],
          [
           true,
           "Staphylococcus aureus"
          ],
          [
           true,
           "Staphylococcus aureus"
          ],
          [
           true,
           "Staphylococcus aureus"
          ],
          [
           true,
           "Staphylococcus aureus"
          ],
          [
           true,
           "Staphylococcus aureus"
          ],
          [
           true,
           "Staphylococcus aureus"
          ],
          [
           true,
           "Staphylococcus aureus"
          ],
          [
           true,
           "Staphylococcus aureus"
          ],
          [
           true,
           "Staphylococcus aureus"
          ],
          [
           true,
           "Staphylococcus aureus"
          ],
          [
           true,
           "Staphylococcus aureus"
          ],
          [
           true,
           "Staphylococcus aureus"
          ],
          [
           true,
           "Staphylococcus aureus"
          ],
          [
           true,
           "Staphylococcus aureus"
          ],
          [
           true,
           "Staphylococcus aureus"
          ],
          [
           true,
           "Staphylococcus aureus"
          ],
          [
           true,
           "Staphylococcus aureus"
          ],
          [
           true,
           "Staphylococcus aureus"
          ],
          [
           true,
           "Staphylococcus aureus"
          ],
          [
           true,
           "Staphylococcus aureus"
          ],
          [
           true,
           "Staphylococcus aureus"
          ],
          [
           true,
           "Staphylococcus aureus"
          ],
          [
           true,
           "Staphylococcus aureus"
          ],
          [
           true,
           "Staphylococcus epidermidis"
          ],
          [
           true,
           "Staphylococcus epidermidis"
          ],
          [
           true,
           "Staphylococcus epidermidis"
          ],
          [
           true,
           "Streptococcus pneumoniae"
          ],
          [
           true,
           "Streptococcus pneumoniae"
          ],
          [
           true,
           "Streptococcus pneumoniae"
          ],
          [
           true,
           "Staphylococcus aureus"
          ],
          [
           true,
           "Enterococcus faecium"
          ],
          [
           true,
           "Enterococcus faecium"
          ],
          [
           true,
           "Enterococcus faecium"
          ],
          [
           true,
           "Enterococcus faecium"
          ],
          [
           true,
           "Enterococcus faecium"
          ],
          [
           true,
           "Staphylococcus aureus"
          ],
          [
           true,
           "Staphylococcus aureus"
          ],
          [
           true,
           "Staphylococcus aureus"
          ],
          [
           true,
           "Staphylococcus aureus"
          ],
          [
           true,
           "Staphylococcus aureus"
          ],
          [
           true,
           "Staphylococcus aureus"
          ],
          [
           true,
           "Staphylococcus aureus"
          ],
          [
           true,
           "Enterococcus faecalis"
          ],
          [
           true,
           "Enterococcus faecium"
          ],
          [
           true,
           "Enterococcus faecium"
          ],
          [
           true,
           "Enterococcus faecium"
          ],
          [
           true,
           "Enterococcus faecium"
          ],
          [
           true,
           "Streptococcus agalactiae"
          ],
          [
           true,
           "Streptococcus agalactiae"
          ],
          [
           true,
           "Streptococcus agalactiae"
          ],
          [
           true,
           "Streptococcus agalactiae"
          ],
          [
           true,
           "Streptococcus agalactiae"
          ],
          [
           true,
           "Streptococcus agalactiae"
          ],
          [
           true,
           "Streptococcus agalactiae"
          ],
          [
           true,
           "Streptococcus agalactiae"
          ],
          [
           true,
           "Streptococcus agalactiae"
          ],
          [
           true,
           "Streptococcus agalactiae"
          ],
          [
           true,
           "Streptococcus agalactiae"
          ],
          [
           true,
           "Staphylococcus capitis"
          ],
          [
           true,
           "Staphylococcus capitis"
          ],
          [
           true,
           "Staphylococcus epidermidis"
          ],
          [
           true,
           "Staphylococcus epidermidis"
          ],
          [
           true,
           "Staphylococcus capitis"
          ],
          [
           true,
           "Staphylococcus capitis"
          ],
          [
           true,
           "Staphylococcus capitis"
          ],
          [
           true,
           "Staphylococcus capitis"
          ],
          [
           true,
           "Staphylococcus capitis"
          ],
          [
           true,
           "Staphylococcus capitis"
          ],
          [
           true,
           "Staphylococcus epidermidis"
          ],
          [
           true,
           "Staphylococcus epidermidis"
          ],
          [
           true,
           "Staphylococcus epidermidis"
          ],
          [
           true,
           "Staphylococcus epidermidis"
          ],
          [
           true,
           "Streptococcus agalactiae"
          ],
          [
           true,
           "Streptococcus agalactiae"
          ],
          [
           true,
           "Streptococcus agalactiae"
          ],
          [
           true,
           "Streptococcus agalactiae"
          ],
          [
           true,
           "Staphylococcus epidermidis"
          ],
          [
           true,
           "Staphylococcus epidermidis"
          ],
          [
           true,
           "Staphylococcus epidermidis"
          ],
          [
           true,
           "Staphylococcus epidermidis"
          ],
          [
           true,
           "Staphylococcus epidermidis"
          ],
          [
           true,
           "Staphylococcus epidermidis"
          ],
          [
           true,
           "Staphylococcus epidermidis"
          ],
          [
           true,
           "Staphylococcus epidermidis"
          ],
          [
           true,
           "Staphylococcus epidermidis"
          ],
          [
           true,
           "Staphylococcus epidermidis"
          ],
          [
           true,
           "Staphylococcus epidermidis"
          ],
          [
           true,
           "Staphylococcus epidermidis"
          ],
          [
           true,
           "Staphylococcus epidermidis"
          ],
          [
           true,
           "Staphylococcus epidermidis"
          ],
          [
           true,
           "Staphylococcus epidermidis"
          ],
          [
           true,
           "Staphylococcus epidermidis"
          ],
          [
           true,
           "Staphylococcus epidermidis"
          ],
          [
           true,
           "Staphylococcus epidermidis"
          ],
          [
           true,
           "Staphylococcus epidermidis"
          ],
          [
           true,
           "Staphylococcus epidermidis"
          ],
          [
           true,
           "Enterococcus faecalis"
          ],
          [
           true,
           "Staphylococcus aureus"
          ],
          [
           true,
           "Staphylococcus aureus"
          ],
          [
           true,
           "Staphylococcus epidermidis"
          ],
          [
           true,
           "Staphylococcus epidermidis"
          ],
          [
           true,
           "Staphylococcus epidermidis"
          ],
          [
           true,
           "Staphylococcus epidermidis"
          ],
          [
           true,
           "Staphylococcus epidermidis"
          ],
          [
           true,
           "Staphylococcus epidermidis"
          ],
          [
           true,
           "Staphylococcus epidermidis"
          ],
          [
           true,
           "Staphylococcus hominis"
          ],
          [
           true,
           "Staphylococcus hominis"
          ],
          [
           true,
           "Staphylococcus hominis"
          ],
          [
           true,
           "Staphylococcus hominis"
          ],
          [
           true,
           "Staphylococcus hominis"
          ],
          [
           true,
           "Staphylococcus hominis"
          ],
          [
           true,
           "Staphylococcus hominis"
          ],
          [
           true,
           "Staphylococcus hominis"
          ],
          [
           true,
           "Staphylococcus hominis"
          ],
          [
           true,
           "Staphylococcus hominis"
          ],
          [
           true,
           "Staphylococcus hominis"
          ],
          [
           true,
           "Streptococcus pneumoniae"
          ],
          [
           true,
           "Streptococcus pneumoniae"
          ],
          [
           true,
           "Streptococcus pneumoniae"
          ],
          [
           true,
           "Streptococcus pneumoniae"
          ],
          [
           true,
           "Streptococcus pneumoniae"
          ],
          [
           true,
           "Streptococcus pneumoniae"
          ],
          [
           true,
           "Streptococcus pyogenes"
          ],
          [
           true,
           "Streptococcus pyogenes"
          ],
          [
           true,
           "Streptococcus pyogenes"
          ],
          [
           true,
           "Streptococcus pneumoniae"
          ],
          [
           true,
           "Streptococcus pyogenes"
          ],
          [
           true,
           "Streptococcus pyogenes"
          ],
          [
           true,
           "Streptococcus pyogenes"
          ],
          [
           true,
           "Streptococcus pyogenes"
          ],
          [
           true,
           "Streptococcus pyogenes"
          ],
          [
           true,
           "Staphylococcus hominis"
          ],
          [
           true,
           "Staphylococcus hominis"
          ],
          [
           true,
           "Staphylococcus hominis"
          ],
          [
           true,
           "Staphylococcus hominis"
          ],
          [
           true,
           "Staphylococcus hominis"
          ],
          [
           true,
           "Staphylococcus hominis"
          ],
          [
           true,
           "Staphylococcus hominis"
          ],
          [
           true,
           "Enterococcus faecium"
          ],
          [
           true,
           "Enterococcus faecium"
          ],
          [
           true,
           "Enterococcus faecium"
          ],
          [
           true,
           "Enterococcus faecium"
          ],
          [
           true,
           "Enterococcus faecium"
          ],
          [
           true,
           "Enterococcus faecium"
          ],
          [
           true,
           "Enterococcus faecium"
          ],
          [
           true,
           "Enterococcus faecium"
          ],
          [
           true,
           "Enterococcus faecium"
          ],
          [
           true,
           "Enterococcus faecium"
          ],
          [
           true,
           "Enterococcus faecium"
          ],
          [
           true,
           "Enterococcus faecium"
          ],
          [
           true,
           "Enterococcus faecium"
          ],
          [
           true,
           "Enterococcus faecium"
          ],
          [
           true,
           "Enterococcus faecium"
          ],
          [
           true,
           "Enterococcus faecium"
          ],
          [
           true,
           "Enterococcus faecium"
          ],
          [
           true,
           "Enterococcus faecium"
          ],
          [
           true,
           "Staphylococcus aureus"
          ],
          [
           true,
           "Staphylococcus aureus"
          ],
          [
           true,
           "Staphylococcus aureus"
          ],
          [
           true,
           "Staphylococcus aureus"
          ],
          [
           true,
           "Staphylococcus aureus"
          ],
          [
           true,
           "Staphylococcus aureus"
          ],
          [
           true,
           "Staphylococcus aureus"
          ],
          [
           true,
           "Staphylococcus aureus"
          ],
          [
           true,
           "Staphylococcus aureus"
          ],
          [
           true,
           "Staphylococcus aureus"
          ],
          [
           true,
           "Staphylococcus aureus"
          ],
          [
           true,
           "Staphylococcus aureus"
          ],
          [
           true,
           "Staphylococcus aureus"
          ],
          [
           true,
           "Staphylococcus capitis"
          ],
          [
           true,
           "Staphylococcus capitis"
          ],
          [
           true,
           "Streptococcus pneumoniae"
          ],
          [
           true,
           "Streptococcus agalactiae"
          ],
          [
           true,
           "Streptococcus pneumoniae"
          ],
          [
           true,
           "Staphylococcus hominis"
          ],
          [
           true,
           "Staphylococcus hominis"
          ],
          [
           true,
           "Staphylococcus hominis"
          ],
          [
           true,
           "Staphylococcus hominis"
          ],
          [
           true,
           "Staphylococcus hominis"
          ],
          [
           true,
           "Staphylococcus hominis"
          ],
          [
           true,
           "Enterococcus faecium"
          ],
          [
           true,
           "Enterococcus faecium"
          ],
          [
           true,
           "Enterococcus faecium"
          ],
          [
           true,
           "Enterococcus faecium"
          ],
          [
           true,
           "Enterococcus faecium"
          ],
          [
           true,
           "Enterococcus faecium"
          ],
          [
           true,
           "Enterococcus faecium"
          ],
          [
           true,
           "Streptococcus agalactiae"
          ],
          [
           true,
           "Staphylococcus lugdunensis"
          ],
          [
           true,
           "Staphylococcus lugdunensis"
          ],
          [
           true,
           "Staphylococcus lugdunensis"
          ],
          [
           true,
           "Streptococcus agalactiae"
          ],
          [
           true,
           "Streptococcus agalactiae"
          ],
          [
           true,
           "Streptococcus agalactiae"
          ],
          [
           true,
           "Streptococcus agalactiae"
          ],
          [
           true,
           "Streptococcus agalactiae"
          ],
          [
           true,
           "Streptococcus agalactiae"
          ],
          [
           true,
           "Streptococcus pneumoniae"
          ],
          [
           true,
           "Streptococcus pneumoniae"
          ],
          [
           true,
           "Streptococcus pneumoniae"
          ],
          [
           true,
           "Streptococcus pneumoniae"
          ],
          [
           true,
           "Streptococcus pneumoniae"
          ],
          [
           true,
           "Staphylococcus hominis"
          ],
          [
           true,
           "Staphylococcus hominis"
          ],
          [
           true,
           "Staphylococcus hominis"
          ],
          [
           true,
           "Staphylococcus hominis"
          ],
          [
           true,
           "Streptococcus agalactiae"
          ],
          [
           true,
           "Streptococcus pneumoniae"
          ],
          [
           true,
           "Streptococcus pyogenes"
          ],
          [
           true,
           "Streptococcus pyogenes"
          ],
          [
           true,
           "Streptococcus pyogenes"
          ],
          [
           true,
           "Streptococcus pyogenes"
          ],
          [
           true,
           "Streptococcus pyogenes"
          ],
          [
           true,
           "Streptococcus pyogenes"
          ],
          [
           true,
           "Streptococcus pyogenes"
          ],
          [
           true,
           "Streptococcus pyogenes"
          ],
          [
           true,
           "Streptococcus pyogenes"
          ],
          [
           true,
           "Streptococcus pyogenes"
          ],
          [
           true,
           "Staphylococcus aureus"
          ],
          [
           true,
           "Staphylococcus aureus"
          ],
          [
           true,
           "Staphylococcus aureus"
          ],
          [
           true,
           "Staphylococcus aureus"
          ],
          [
           true,
           "Staphylococcus aureus"
          ],
          [
           true,
           "Staphylococcus aureus"
          ],
          [
           true,
           "Staphylococcus aureus"
          ],
          [
           true,
           "Staphylococcus aureus"
          ],
          [
           true,
           "Staphylococcus aureus"
          ],
          [
           true,
           "Staphylococcus aureus"
          ],
          [
           true,
           "Staphylococcus aureus"
          ],
          [
           true,
           "Staphylococcus aureus"
          ],
          [
           true,
           "Staphylococcus aureus"
          ],
          [
           true,
           "Staphylococcus aureus"
          ],
          [
           true,
           "Staphylococcus aureus"
          ],
          [
           true,
           "Staphylococcus aureus"
          ],
          [
           true,
           "Staphylococcus aureus"
          ],
          [
           true,
           "Staphylococcus aureus"
          ],
          [
           true,
           "Staphylococcus aureus"
          ],
          [
           true,
           "Staphylococcus aureus"
          ],
          [
           true,
           "Staphylococcus capitis"
          ],
          [
           true,
           "Staphylococcus epidermidis"
          ],
          [
           true,
           "Staphylococcus lugdunensis"
          ],
          [
           true,
           "Staphylococcus lugdunensis"
          ],
          [
           true,
           "Staphylococcus lugdunensis"
          ],
          [
           true,
           "Staphylococcus lugdunensis"
          ],
          [
           true,
           "Staphylococcus lugdunensis"
          ],
          [
           true,
           "Staphylococcus epidermidis"
          ],
          [
           true,
           "Staphylococcus epidermidis"
          ],
          [
           true,
           "Staphylococcus epidermidis"
          ],
          [
           true,
           "Staphylococcus epidermidis"
          ],
          [
           true,
           "Staphylococcus epidermidis"
          ],
          [
           true,
           "Staphylococcus epidermidis"
          ],
          [
           true,
           "Staphylococcus aureus"
          ],
          [
           true,
           "Staphylococcus aureus"
          ],
          [
           true,
           "Staphylococcus aureus"
          ],
          [
           true,
           "Staphylococcus aureus"
          ],
          [
           true,
           "Staphylococcus aureus"
          ],
          [
           true,
           "Staphylococcus aureus"
          ],
          [
           true,
           "Staphylococcus aureus"
          ],
          [
           true,
           "Staphylococcus aureus"
          ],
          [
           true,
           "Staphylococcus aureus"
          ],
          [
           true,
           "Staphylococcus aureus"
          ],
          [
           true,
           "Staphylococcus aureus"
          ],
          [
           true,
           "Staphylococcus aureus"
          ],
          [
           true,
           "Staphylococcus aureus"
          ],
          [
           true,
           "Staphylococcus aureus"
          ],
          [
           true,
           "Staphylococcus aureus"
          ],
          [
           true,
           "Staphylococcus aureus"
          ],
          [
           true,
           "Staphylococcus aureus"
          ],
          [
           true,
           "Staphylococcus aureus"
          ],
          [
           true,
           "Staphylococcus aureus"
          ],
          [
           true,
           "Enterococcus faecium"
          ],
          [
           true,
           "Enterococcus faecium"
          ],
          [
           true,
           "Streptococcus pneumoniae"
          ],
          [
           true,
           "Streptococcus pneumoniae"
          ],
          [
           true,
           "Streptococcus pneumoniae"
          ],
          [
           true,
           "Staphylococcus aureus"
          ],
          [
           true,
           "Staphylococcus aureus"
          ],
          [
           true,
           "Staphylococcus aureus"
          ],
          [
           true,
           "Staphylococcus aureus"
          ],
          [
           true,
           "Staphylococcus aureus"
          ],
          [
           true,
           "Staphylococcus aureus"
          ],
          [
           true,
           "Staphylococcus aureus"
          ],
          [
           true,
           "Staphylococcus aureus"
          ],
          [
           true,
           "Staphylococcus aureus"
          ],
          [
           true,
           "Staphylococcus aureus"
          ],
          [
           true,
           "Staphylococcus aureus"
          ],
          [
           true,
           "Staphylococcus aureus"
          ],
          [
           true,
           "Staphylococcus aureus"
          ],
          [
           true,
           "Staphylococcus aureus"
          ],
          [
           true,
           "Staphylococcus aureus"
          ],
          [
           true,
           "Staphylococcus aureus"
          ],
          [
           true,
           "Staphylococcus aureus"
          ],
          [
           true,
           "Staphylococcus aureus"
          ],
          [
           true,
           "Staphylococcus aureus"
          ],
          [
           true,
           "Staphylococcus aureus"
          ],
          [
           true,
           "Staphylococcus aureus"
          ],
          [
           true,
           "Staphylococcus aureus"
          ],
          [
           true,
           "Staphylococcus aureus"
          ],
          [
           true,
           "Staphylococcus aureus"
          ],
          [
           true,
           "Staphylococcus aureus"
          ],
          [
           true,
           "Staphylococcus aureus"
          ],
          [
           true,
           "Staphylococcus aureus"
          ],
          [
           true,
           "Staphylococcus capitis"
          ],
          [
           true,
           "Staphylococcus capitis"
          ],
          [
           true,
           "Staphylococcus epidermidis"
          ],
          [
           true,
           "Staphylococcus epidermidis"
          ],
          [
           true,
           "Staphylococcus capitis"
          ],
          [
           true,
           "Staphylococcus capitis"
          ],
          [
           true,
           "Staphylococcus capitis"
          ],
          [
           true,
           "Staphylococcus capitis"
          ],
          [
           true,
           "Staphylococcus capitis"
          ],
          [
           true,
           "Staphylococcus epidermidis"
          ],
          [
           true,
           "Staphylococcus epidermidis"
          ],
          [
           true,
           "Staphylococcus epidermidis"
          ],
          [
           true,
           "Staphylococcus epidermidis"
          ],
          [
           true,
           "Staphylococcus epidermidis"
          ],
          [
           true,
           "Staphylococcus epidermidis"
          ],
          [
           true,
           "Staphylococcus epidermidis"
          ],
          [
           true,
           "Staphylococcus epidermidis"
          ],
          [
           true,
           "Staphylococcus epidermidis"
          ],
          [
           true,
           "Staphylococcus epidermidis"
          ],
          [
           true,
           "Staphylococcus epidermidis"
          ],
          [
           true,
           "Staphylococcus epidermidis"
          ],
          [
           true,
           "Staphylococcus epidermidis"
          ],
          [
           true,
           "Staphylococcus epidermidis"
          ],
          [
           true,
           "Staphylococcus epidermidis"
          ],
          [
           true,
           "Staphylococcus epidermidis"
          ],
          [
           true,
           "Staphylococcus epidermidis"
          ],
          [
           true,
           "Staphylococcus epidermidis"
          ],
          [
           true,
           "Staphylococcus epidermidis"
          ],
          [
           true,
           "Staphylococcus epidermidis"
          ],
          [
           true,
           "Staphylococcus epidermidis"
          ],
          [
           true,
           "Staphylococcus epidermidis"
          ],
          [
           true,
           "Staphylococcus epidermidis"
          ],
          [
           true,
           "Staphylococcus epidermidis"
          ],
          [
           true,
           "Staphylococcus epidermidis"
          ],
          [
           true,
           "Staphylococcus epidermidis"
          ],
          [
           true,
           "Staphylococcus epidermidis"
          ],
          [
           true,
           "Staphylococcus epidermidis"
          ],
          [
           true,
           "Staphylococcus epidermidis"
          ],
          [
           true,
           "Staphylococcus aureus"
          ],
          [
           true,
           "Staphylococcus aureus"
          ],
          [
           true,
           "Staphylococcus epidermidis"
          ],
          [
           true,
           "Staphylococcus epidermidis"
          ],
          [
           true,
           "Staphylococcus epidermidis"
          ],
          [
           true,
           "Staphylococcus epidermidis"
          ],
          [
           true,
           "Staphylococcus epidermidis"
          ],
          [
           true,
           "Staphylococcus epidermidis"
          ],
          [
           true,
           "Staphylococcus epidermidis"
          ],
          [
           true,
           "Staphylococcus epidermidis"
          ],
          [
           true,
           "Staphylococcus epidermidis"
          ],
          [
           true,
           "Staphylococcus epidermidis"
          ],
          [
           true,
           "Staphylococcus hominis"
          ],
          [
           true,
           "Staphylococcus epidermidis"
          ],
          [
           true,
           "Staphylococcus hominis"
          ],
          [
           true,
           "Staphylococcus hominis"
          ],
          [
           true,
           "Staphylococcus hominis"
          ],
          [
           true,
           "Staphylococcus hominis"
          ],
          [
           true,
           "Staphylococcus hominis"
          ],
          [
           true,
           "Staphylococcus hominis"
          ],
          [
           true,
           "Staphylococcus hominis"
          ],
          [
           true,
           "Staphylococcus hominis"
          ],
          [
           true,
           "Staphylococcus hominis"
          ],
          [
           true,
           "Staphylococcus hominis"
          ],
          [
           true,
           "Staphylococcus hominis"
          ],
          [
           true,
           "Staphylococcus hominis"
          ],
          [
           true,
           "Staphylococcus hominis"
          ],
          [
           true,
           "Staphylococcus hominis"
          ],
          [
           true,
           "Staphylococcus hominis"
          ],
          [
           true,
           "Staphylococcus hominis"
          ],
          [
           true,
           "Staphylococcus aureus"
          ],
          [
           true,
           "Staphylococcus aureus"
          ],
          [
           true,
           "Staphylococcus aureus"
          ],
          [
           true,
           "Staphylococcus aureus"
          ],
          [
           true,
           "Staphylococcus aureus"
          ],
          [
           true,
           "Staphylococcus aureus"
          ],
          [
           true,
           "Staphylococcus aureus"
          ],
          [
           true,
           "Staphylococcus aureus"
          ],
          [
           true,
           "Staphylococcus aureus"
          ],
          [
           true,
           "Staphylococcus aureus"
          ],
          [
           true,
           "Staphylococcus aureus"
          ],
          [
           true,
           "Staphylococcus aureus"
          ],
          [
           true,
           "Staphylococcus aureus"
          ],
          [
           true,
           "Staphylococcus aureus"
          ],
          [
           true,
           "Staphylococcus aureus"
          ],
          [
           true,
           "Staphylococcus aureus"
          ],
          [
           true,
           "Staphylococcus aureus"
          ],
          [
           true,
           "Staphylococcus capitis"
          ],
          [
           true,
           "Staphylococcus capitis"
          ],
          [
           true,
           "Staphylococcus hominis"
          ],
          [
           true,
           "Staphylococcus hominis"
          ],
          [
           true,
           "Staphylococcus hominis"
          ],
          [
           true,
           "Staphylococcus hominis"
          ],
          [
           true,
           "Staphylococcus hominis"
          ],
          [
           true,
           "Staphylococcus hominis"
          ],
          [
           true,
           "Staphylococcus hominis"
          ],
          [
           true,
           "Staphylococcus hominis"
          ],
          [
           true,
           "Staphylococcus hominis"
          ],
          [
           true,
           "Staphylococcus hominis"
          ],
          [
           true,
           "Staphylococcus lugdunensis"
          ],
          [
           true,
           "Staphylococcus lugdunensis"
          ],
          [
           true,
           "Staphylococcus lugdunensis"
          ],
          [
           true,
           "Staphylococcus lugdunensis"
          ],
          [
           true,
           "Staphylococcus lugdunensis"
          ],
          [
           true,
           "Staphylococcus hominis"
          ],
          [
           true,
           "Staphylococcus hominis"
          ],
          [
           true,
           "Staphylococcus hominis"
          ],
          [
           true,
           "Staphylococcus hominis"
          ],
          [
           true,
           "Staphylococcus hominis"
          ],
          [
           true,
           "Staphylococcus aureus"
          ],
          [
           true,
           "Staphylococcus aureus"
          ],
          [
           true,
           "Staphylococcus aureus"
          ],
          [
           true,
           "Staphylococcus aureus"
          ],
          [
           true,
           "Staphylococcus aureus"
          ],
          [
           true,
           "Staphylococcus aureus"
          ],
          [
           true,
           "Staphylococcus aureus"
          ],
          [
           true,
           "Staphylococcus aureus"
          ],
          [
           true,
           "Staphylococcus aureus"
          ],
          [
           true,
           "Staphylococcus aureus"
          ],
          [
           true,
           "Staphylococcus aureus"
          ],
          [
           true,
           "Staphylococcus aureus"
          ],
          [
           true,
           "Staphylococcus aureus"
          ],
          [
           true,
           "Staphylococcus aureus"
          ],
          [
           true,
           "Staphylococcus aureus"
          ],
          [
           true,
           "Staphylococcus aureus"
          ],
          [
           true,
           "Staphylococcus aureus"
          ],
          [
           true,
           "Staphylococcus aureus"
          ],
          [
           true,
           "Staphylococcus aureus"
          ],
          [
           true,
           "Staphylococcus capitis"
          ],
          [
           true,
           "Staphylococcus epidermidis"
          ],
          [
           true,
           "Staphylococcus lugdunensis"
          ],
          [
           true,
           "Staphylococcus lugdunensis"
          ],
          [
           true,
           "Staphylococcus lugdunensis"
          ],
          [
           true,
           "Staphylococcus lugdunensis"
          ],
          [
           true,
           "Staphylococcus lugdunensis"
          ],
          [
           true,
           "Staphylococcus lugdunensis"
          ],
          [
           true,
           "Staphylococcus epidermidis"
          ],
          [
           true,
           "Staphylococcus epidermidis"
          ],
          [
           true,
           "Staphylococcus epidermidis"
          ],
          [
           true,
           "Staphylococcus epidermidis"
          ],
          [
           true,
           "Staphylococcus epidermidis"
          ],
          [
           true,
           "Staphylococcus epidermidis"
          ],
          [
           true,
           "Staphylococcus epidermidis"
          ],
          [
           true,
           "Staphylococcus lugdunensis"
          ],
          [
           true,
           "Staphylococcus aureus"
          ],
          [
           true,
           "Staphylococcus aureus"
          ],
          [
           true,
           "Staphylococcus aureus"
          ],
          [
           true,
           "Staphylococcus aureus"
          ],
          [
           true,
           "Staphylococcus aureus"
          ],
          [
           true,
           "Staphylococcus aureus"
          ],
          [
           true,
           "Staphylococcus aureus"
          ],
          [
           true,
           "Staphylococcus aureus"
          ],
          [
           true,
           "Staphylococcus aureus"
          ],
          [
           true,
           "Staphylococcus aureus"
          ],
          [
           true,
           "Staphylococcus aureus"
          ],
          [
           true,
           "Staphylococcus aureus"
          ],
          [
           true,
           "Staphylococcus aureus"
          ],
          [
           true,
           "Staphylococcus aureus"
          ],
          [
           true,
           "Staphylococcus aureus"
          ],
          [
           true,
           "Staphylococcus aureus"
          ],
          [
           true,
           "Staphylococcus aureus"
          ],
          [
           true,
           "Staphylococcus aureus"
          ],
          [
           true,
           "Staphylococcus aureus"
          ],
          [
           true,
           "Staphylococcus aureus"
          ],
          [
           true,
           "Staphylococcus aureus"
          ],
          [
           true,
           "Staphylococcus aureus"
          ],
          [
           true,
           "Staphylococcus aureus"
          ],
          [
           true,
           "Staphylococcus aureus"
          ],
          [
           true,
           "Staphylococcus aureus"
          ],
          [
           true,
           "Staphylococcus aureus"
          ],
          [
           true,
           "Staphylococcus aureus"
          ],
          [
           true,
           "Staphylococcus aureus"
          ],
          [
           true,
           "Staphylococcus aureus"
          ],
          [
           true,
           "Staphylococcus aureus"
          ],
          [
           true,
           "Staphylococcus aureus"
          ],
          [
           true,
           "Staphylococcus aureus"
          ],
          [
           true,
           "Staphylococcus aureus"
          ],
          [
           true,
           "Staphylococcus aureus"
          ],
          [
           true,
           "Staphylococcus aureus"
          ],
          [
           true,
           "Staphylococcus epidermidis"
          ],
          [
           true,
           "Staphylococcus epidermidis"
          ],
          [
           true,
           "Staphylococcus epidermidis"
          ],
          [
           true,
           "Staphylococcus epidermidis"
          ],
          [
           true,
           "Staphylococcus epidermidis"
          ],
          [
           true,
           "Staphylococcus lugdunensis"
          ],
          [
           true,
           "Staphylococcus aureus"
          ],
          [
           true,
           "Staphylococcus aureus"
          ],
          [
           true,
           "Staphylococcus aureus"
          ],
          [
           true,
           "Staphylococcus aureus"
          ],
          [
           true,
           "Staphylococcus aureus"
          ],
          [
           true,
           "Staphylococcus aureus"
          ],
          [
           true,
           "Staphylococcus aureus"
          ],
          [
           true,
           "Staphylococcus aureus"
          ],
          [
           true,
           "Staphylococcus aureus"
          ],
          [
           true,
           "Staphylococcus aureus"
          ],
          [
           true,
           "Staphylococcus aureus"
          ],
          [
           true,
           "Staphylococcus aureus"
          ],
          [
           true,
           "Staphylococcus aureus"
          ],
          [
           true,
           "Staphylococcus aureus"
          ],
          [
           true,
           "Staphylococcus aureus"
          ],
          [
           true,
           "Staphylococcus aureus"
          ],
          [
           true,
           "Staphylococcus aureus"
          ],
          [
           true,
           "Staphylococcus aureus"
          ],
          [
           true,
           "Staphylococcus aureus"
          ],
          [
           true,
           "Staphylococcus aureus"
          ],
          [
           true,
           "Staphylococcus aureus"
          ],
          [
           true,
           "Staphylococcus aureus"
          ],
          [
           true,
           "Staphylococcus aureus"
          ],
          [
           true,
           "Staphylococcus aureus"
          ],
          [
           true,
           "Staphylococcus capitis"
          ],
          [
           true,
           "Staphylococcus epidermidis"
          ],
          [
           true,
           "Staphylococcus capitis"
          ],
          [
           true,
           "Staphylococcus capitis"
          ],
          [
           true,
           "Staphylococcus capitis"
          ],
          [
           true,
           "Staphylococcus capitis"
          ],
          [
           true,
           "Staphylococcus capitis"
          ],
          [
           true,
           "Staphylococcus capitis"
          ],
          [
           true,
           "Staphylococcus epidermidis"
          ],
          [
           true,
           "Staphylococcus epidermidis"
          ],
          [
           true,
           "Staphylococcus epidermidis"
          ],
          [
           true,
           "Staphylococcus epidermidis"
          ],
          [
           true,
           "Staphylococcus epidermidis"
          ],
          [
           true,
           "Staphylococcus epidermidis"
          ],
          [
           true,
           "Staphylococcus epidermidis"
          ],
          [
           true,
           "Staphylococcus epidermidis"
          ],
          [
           true,
           "Staphylococcus epidermidis"
          ],
          [
           true,
           "Staphylococcus epidermidis"
          ],
          [
           true,
           "Staphylococcus epidermidis"
          ],
          [
           true,
           "Staphylococcus epidermidis"
          ],
          [
           true,
           "Staphylococcus epidermidis"
          ],
          [
           true,
           "Staphylococcus epidermidis"
          ],
          [
           true,
           "Staphylococcus epidermidis"
          ],
          [
           true,
           "Staphylococcus epidermidis"
          ],
          [
           true,
           "Staphylococcus epidermidis"
          ],
          [
           true,
           "Staphylococcus epidermidis"
          ],
          [
           true,
           "Staphylococcus epidermidis"
          ],
          [
           true,
           "Staphylococcus epidermidis"
          ],
          [
           true,
           "Staphylococcus epidermidis"
          ],
          [
           true,
           "Staphylococcus epidermidis"
          ],
          [
           true,
           "Staphylococcus epidermidis"
          ],
          [
           true,
           "Staphylococcus epidermidis"
          ],
          [
           true,
           "Staphylococcus aureus"
          ],
          [
           true,
           "Staphylococcus aureus"
          ],
          [
           true,
           "Staphylococcus epidermidis"
          ],
          [
           true,
           "Staphylococcus epidermidis"
          ],
          [
           true,
           "Staphylococcus epidermidis"
          ],
          [
           true,
           "Staphylococcus epidermidis"
          ],
          [
           true,
           "Staphylococcus epidermidis"
          ],
          [
           true,
           "Staphylococcus epidermidis"
          ],
          [
           true,
           "Staphylococcus epidermidis"
          ],
          [
           true,
           "Staphylococcus epidermidis"
          ],
          [
           true,
           "Staphylococcus hominis"
          ],
          [
           true,
           "Staphylococcus hominis"
          ],
          [
           true,
           "Staphylococcus hominis"
          ],
          [
           true,
           "Staphylococcus hominis"
          ],
          [
           true,
           "Staphylococcus hominis"
          ],
          [
           true,
           "Staphylococcus hominis"
          ],
          [
           true,
           "Staphylococcus hominis"
          ],
          [
           true,
           "Staphylococcus hominis"
          ],
          [
           true,
           "Staphylococcus hominis"
          ],
          [
           true,
           "Staphylococcus hominis"
          ],
          [
           true,
           "Staphylococcus hominis"
          ],
          [
           true,
           "Staphylococcus hominis"
          ],
          [
           true,
           "Staphylococcus hominis"
          ],
          [
           true,
           "Staphylococcus hominis"
          ],
          [
           true,
           "Staphylococcus hominis"
          ],
          [
           true,
           "Staphylococcus hominis"
          ],
          [
           true,
           "Staphylococcus aureus"
          ],
          [
           true,
           "Staphylococcus aureus"
          ],
          [
           true,
           "Staphylococcus aureus"
          ],
          [
           true,
           "Staphylococcus aureus"
          ],
          [
           true,
           "Staphylococcus aureus"
          ],
          [
           true,
           "Staphylococcus aureus"
          ],
          [
           true,
           "Staphylococcus aureus"
          ],
          [
           true,
           "Staphylococcus aureus"
          ],
          [
           true,
           "Staphylococcus aureus"
          ],
          [
           true,
           "Staphylococcus aureus"
          ],
          [
           true,
           "Staphylococcus aureus"
          ],
          [
           true,
           "Staphylococcus aureus"
          ],
          [
           true,
           "Staphylococcus aureus"
          ],
          [
           true,
           "Staphylococcus aureus"
          ],
          [
           true,
           "Staphylococcus aureus"
          ],
          [
           true,
           "Staphylococcus hominis"
          ],
          [
           true,
           "Staphylococcus hominis"
          ],
          [
           true,
           "Staphylococcus hominis"
          ],
          [
           true,
           "Staphylococcus hominis"
          ],
          [
           true,
           "Staphylococcus hominis"
          ],
          [
           true,
           "Staphylococcus hominis"
          ],
          [
           true,
           "Staphylococcus hominis"
          ],
          [
           true,
           "Staphylococcus hominis"
          ],
          [
           true,
           "Staphylococcus hominis"
          ],
          [
           true,
           "Staphylococcus lugdunensis"
          ],
          [
           true,
           "Staphylococcus lugdunensis"
          ],
          [
           true,
           "Staphylococcus lugdunensis"
          ],
          [
           true,
           "Staphylococcus lugdunensis"
          ],
          [
           true,
           "Staphylococcus hominis"
          ],
          [
           true,
           "Staphylococcus hominis"
          ],
          [
           true,
           "Staphylococcus hominis"
          ],
          [
           true,
           "Staphylococcus aureus"
          ],
          [
           true,
           "Staphylococcus aureus"
          ],
          [
           true,
           "Staphylococcus aureus"
          ],
          [
           true,
           "Staphylococcus aureus"
          ],
          [
           true,
           "Staphylococcus aureus"
          ],
          [
           true,
           "Staphylococcus aureus"
          ],
          [
           true,
           "Staphylococcus aureus"
          ],
          [
           true,
           "Staphylococcus aureus"
          ],
          [
           true,
           "Staphylococcus aureus"
          ],
          [
           true,
           "Staphylococcus aureus"
          ],
          [
           true,
           "Staphylococcus aureus"
          ],
          [
           true,
           "Staphylococcus aureus"
          ],
          [
           true,
           "Staphylococcus aureus"
          ],
          [
           true,
           "Staphylococcus aureus"
          ],
          [
           true,
           "Staphylococcus aureus"
          ],
          [
           true,
           "Staphylococcus aureus"
          ],
          [
           true,
           "Staphylococcus aureus"
          ],
          [
           true,
           "Staphylococcus aureus"
          ],
          [
           true,
           "Staphylococcus aureus"
          ],
          [
           true,
           "Staphylococcus aureus"
          ],
          [
           true,
           "Staphylococcus lugdunensis"
          ],
          [
           true,
           "Staphylococcus lugdunensis"
          ],
          [
           true,
           "Staphylococcus lugdunensis"
          ],
          [
           true,
           "Staphylococcus lugdunensis"
          ],
          [
           true,
           "Staphylococcus lugdunensis"
          ],
          [
           true,
           "Staphylococcus epidermidis"
          ],
          [
           true,
           "Staphylococcus epidermidis"
          ],
          [
           true,
           "Staphylococcus epidermidis"
          ],
          [
           true,
           "Staphylococcus epidermidis"
          ],
          [
           true,
           "Staphylococcus epidermidis"
          ],
          [
           true,
           "Staphylococcus lugdunensis"
          ],
          [
           true,
           "Staphylococcus aureus"
          ],
          [
           true,
           "Staphylococcus aureus"
          ],
          [
           true,
           "Staphylococcus aureus"
          ],
          [
           true,
           "Staphylococcus aureus"
          ],
          [
           true,
           "Staphylococcus aureus"
          ],
          [
           true,
           "Staphylococcus aureus"
          ],
          [
           true,
           "Staphylococcus aureus"
          ],
          [
           true,
           "Staphylococcus aureus"
          ],
          [
           true,
           "Staphylococcus aureus"
          ],
          [
           true,
           "Staphylococcus aureus"
          ],
          [
           true,
           "Staphylococcus aureus"
          ],
          [
           true,
           "Staphylococcus aureus"
          ],
          [
           true,
           "Staphylococcus aureus"
          ],
          [
           true,
           "Staphylococcus aureus"
          ],
          [
           true,
           "Staphylococcus aureus"
          ],
          [
           true,
           "Staphylococcus aureus"
          ],
          [
           true,
           "Staphylococcus aureus"
          ],
          [
           true,
           "Staphylococcus aureus"
          ],
          [
           true,
           "Staphylococcus aureus"
          ],
          [
           true,
           "Staphylococcus aureus"
          ],
          [
           true,
           "Staphylococcus aureus"
          ],
          [
           true,
           "Staphylococcus aureus"
          ],
          [
           true,
           "Staphylococcus aureus"
          ],
          [
           true,
           "Staphylococcus aureus"
          ],
          [
           true,
           "Staphylococcus aureus"
          ],
          [
           true,
           "Staphylococcus aureus"
          ],
          [
           true,
           "Staphylococcus aureus"
          ],
          [
           true,
           "Staphylococcus epidermidis"
          ],
          [
           true,
           "Staphylococcus epidermidis"
          ],
          [
           true,
           "Staphylococcus aureus"
          ],
          [
           true,
           "Staphylococcus aureus"
          ],
          [
           true,
           "Staphylococcus aureus"
          ],
          [
           true,
           "Staphylococcus aureus"
          ],
          [
           true,
           "Staphylococcus aureus"
          ],
          [
           true,
           "Staphylococcus aureus"
          ],
          [
           true,
           "Staphylococcus aureus"
          ],
          [
           true,
           "Staphylococcus aureus"
          ],
          [
           true,
           "Staphylococcus aureus"
          ],
          [
           true,
           "Staphylococcus aureus"
          ],
          [
           true,
           "Staphylococcus aureus"
          ],
          [
           true,
           "Staphylococcus aureus"
          ],
          [
           true,
           "Staphylococcus aureus"
          ],
          [
           true,
           "Staphylococcus aureus"
          ],
          [
           true,
           "Staphylococcus aureus"
          ],
          [
           true,
           "Staphylococcus aureus"
          ],
          [
           true,
           "Staphylococcus aureus"
          ],
          [
           true,
           "Staphylococcus aureus"
          ],
          [
           true,
           "Streptococcus agalactiae"
          ],
          [
           true,
           "Streptococcus agalactiae"
          ],
          [
           true,
           "Streptococcus agalactiae"
          ],
          [
           true,
           "Streptococcus agalactiae"
          ],
          [
           true,
           "Streptococcus agalactiae"
          ],
          [
           true,
           "Streptococcus agalactiae"
          ],
          [
           true,
           "Streptococcus agalactiae"
          ],
          [
           true,
           "Streptococcus agalactiae"
          ],
          [
           true,
           "Streptococcus agalactiae"
          ],
          [
           true,
           "Streptococcus agalactiae"
          ],
          [
           true,
           "Staphylococcus capitis"
          ],
          [
           true,
           "Staphylococcus capitis"
          ],
          [
           true,
           "Staphylococcus capitis"
          ],
          [
           true,
           "Staphylococcus capitis"
          ],
          [
           true,
           "Staphylococcus capitis"
          ],
          [
           true,
           "Staphylococcus capitis"
          ],
          [
           true,
           "Staphylococcus capitis"
          ],
          [
           true,
           "Staphylococcus capitis"
          ],
          [
           true,
           "Staphylococcus epidermidis"
          ],
          [
           true,
           "Staphylococcus epidermidis"
          ],
          [
           true,
           "Staphylococcus epidermidis"
          ],
          [
           true,
           "Staphylococcus epidermidis"
          ],
          [
           true,
           "Streptococcus agalactiae"
          ],
          [
           true,
           "Streptococcus agalactiae"
          ],
          [
           true,
           "Streptococcus agalactiae"
          ],
          [
           true,
           "Streptococcus agalactiae"
          ],
          [
           true,
           "Staphylococcus epidermidis"
          ],
          [
           true,
           "Staphylococcus epidermidis"
          ],
          [
           true,
           "Staphylococcus epidermidis"
          ],
          [
           true,
           "Staphylococcus epidermidis"
          ],
          [
           true,
           "Staphylococcus epidermidis"
          ],
          [
           true,
           "Staphylococcus epidermidis"
          ],
          [
           true,
           "Staphylococcus epidermidis"
          ],
          [
           true,
           "Staphylococcus epidermidis"
          ],
          [
           true,
           "Staphylococcus epidermidis"
          ],
          [
           true,
           "Staphylococcus epidermidis"
          ],
          [
           true,
           "Staphylococcus epidermidis"
          ],
          [
           true,
           "Staphylococcus epidermidis"
          ],
          [
           true,
           "Staphylococcus epidermidis"
          ],
          [
           true,
           "Staphylococcus aureus"
          ],
          [
           true,
           "Staphylococcus epidermidis"
          ],
          [
           true,
           "Staphylococcus epidermidis"
          ],
          [
           true,
           "Staphylococcus epidermidis"
          ],
          [
           true,
           "Staphylococcus hominis"
          ],
          [
           true,
           "Staphylococcus hominis"
          ],
          [
           true,
           "Staphylococcus hominis"
          ],
          [
           true,
           "Staphylococcus hominis"
          ],
          [
           true,
           "Staphylococcus hominis"
          ],
          [
           true,
           "Staphylococcus hominis"
          ],
          [
           true,
           "Staphylococcus hominis"
          ],
          [
           true,
           "Streptococcus pneumoniae"
          ],
          [
           true,
           "Streptococcus pneumoniae"
          ],
          [
           true,
           "Streptococcus pneumoniae"
          ],
          [
           true,
           "Streptococcus pyogenes"
          ],
          [
           true,
           "Streptococcus pyogenes"
          ],
          [
           true,
           "Streptococcus pyogenes"
          ],
          [
           true,
           "Streptococcus pyogenes"
          ],
          [
           true,
           "Streptococcus pyogenes"
          ],
          [
           true,
           "Streptococcus pyogenes"
          ],
          [
           true,
           "Staphylococcus hominis"
          ],
          [
           true,
           "Staphylococcus hominis"
          ],
          [
           true,
           "Staphylococcus hominis"
          ],
          [
           true,
           "Staphylococcus hominis"
          ],
          [
           true,
           "Staphylococcus aureus"
          ],
          [
           true,
           "Staphylococcus aureus"
          ],
          [
           true,
           "Staphylococcus aureus"
          ],
          [
           true,
           "Staphylococcus aureus"
          ],
          [
           true,
           "Staphylococcus aureus"
          ],
          [
           true,
           "Staphylococcus aureus"
          ],
          [
           true,
           "Staphylococcus aureus"
          ],
          [
           true,
           "Staphylococcus aureus"
          ],
          [
           true,
           "Staphylococcus aureus"
          ],
          [
           true,
           "Staphylococcus aureus"
          ],
          [
           true,
           "Staphylococcus aureus"
          ],
          [
           true,
           "Staphylococcus aureus"
          ],
          [
           true,
           "Staphylococcus aureus"
          ],
          [
           true,
           "Staphylococcus aureus"
          ],
          [
           true,
           "Staphylococcus capitis"
          ],
          [
           true,
           "Streptococcus agalactiae"
          ],
          [
           true,
           "Staphylococcus hominis"
          ],
          [
           true,
           "Staphylococcus hominis"
          ],
          [
           true,
           "Staphylococcus hominis"
          ],
          [
           true,
           "Staphylococcus hominis"
          ],
          [
           true,
           "Streptococcus agalactiae"
          ],
          [
           true,
           "Staphylococcus lugdunensis"
          ],
          [
           true,
           "Staphylococcus lugdunensis"
          ],
          [
           true,
           "Staphylococcus lugdunensis"
          ],
          [
           true,
           "Staphylococcus lugdunensis"
          ],
          [
           true,
           "Streptococcus agalactiae"
          ],
          [
           true,
           "Streptococcus agalactiae"
          ],
          [
           true,
           "Streptococcus agalactiae"
          ],
          [
           true,
           "Streptococcus agalactiae"
          ],
          [
           true,
           "Streptococcus agalactiae"
          ],
          [
           true,
           "Streptococcus pneumoniae"
          ],
          [
           true,
           "Streptococcus pneumoniae"
          ],
          [
           true,
           "Streptococcus pneumoniae"
          ],
          [
           true,
           "Streptococcus pneumoniae"
          ],
          [
           true,
           "Streptococcus pneumoniae"
          ],
          [
           true,
           "Streptococcus pneumoniae"
          ],
          [
           true,
           "Streptococcus pneumoniae"
          ],
          [
           true,
           "Staphylococcus hominis"
          ],
          [
           true,
           "Streptococcus agalactiae"
          ],
          [
           true,
           "Streptococcus pneumoniae"
          ],
          [
           true,
           "Streptococcus pyogenes"
          ],
          [
           true,
           "Streptococcus pyogenes"
          ],
          [
           true,
           "Streptococcus pyogenes"
          ],
          [
           true,
           "Streptococcus pyogenes"
          ],
          [
           true,
           "Streptococcus pyogenes"
          ],
          [
           true,
           "Streptococcus pyogenes"
          ],
          [
           true,
           "Streptococcus pyogenes"
          ],
          [
           true,
           "Staphylococcus aureus"
          ],
          [
           true,
           "Staphylococcus aureus"
          ],
          [
           true,
           "Staphylococcus aureus"
          ],
          [
           true,
           "Staphylococcus aureus"
          ],
          [
           true,
           "Staphylococcus aureus"
          ],
          [
           true,
           "Staphylococcus aureus"
          ],
          [
           true,
           "Staphylococcus aureus"
          ],
          [
           true,
           "Staphylococcus aureus"
          ],
          [
           true,
           "Staphylococcus aureus"
          ],
          [
           true,
           "Staphylococcus aureus"
          ],
          [
           true,
           "Staphylococcus aureus"
          ],
          [
           true,
           "Staphylococcus aureus"
          ],
          [
           true,
           "Staphylococcus aureus"
          ],
          [
           true,
           "Staphylococcus aureus"
          ],
          [
           true,
           "Staphylococcus aureus"
          ],
          [
           true,
           "Staphylococcus aureus"
          ],
          [
           true,
           "Staphylococcus aureus"
          ],
          [
           true,
           "Staphylococcus aureus"
          ],
          [
           true,
           "Staphylococcus aureus"
          ],
          [
           true,
           "Staphylococcus aureus"
          ],
          [
           true,
           "Staphylococcus capitis"
          ],
          [
           true,
           "Staphylococcus lugdunensis"
          ],
          [
           true,
           "Staphylococcus lugdunensis"
          ],
          [
           true,
           "Staphylococcus lugdunensis"
          ],
          [
           true,
           "Staphylococcus lugdunensis"
          ],
          [
           true,
           "Staphylococcus lugdunensis"
          ],
          [
           true,
           "Staphylococcus lugdunensis"
          ],
          [
           true,
           "Staphylococcus epidermidis"
          ],
          [
           true,
           "Staphylococcus epidermidis"
          ],
          [
           true,
           "Staphylococcus aureus"
          ],
          [
           true,
           "Staphylococcus aureus"
          ],
          [
           true,
           "Staphylococcus aureus"
          ],
          [
           true,
           "Staphylococcus aureus"
          ],
          [
           true,
           "Staphylococcus aureus"
          ],
          [
           true,
           "Staphylococcus aureus"
          ],
          [
           true,
           "Staphylococcus aureus"
          ],
          [
           true,
           "Staphylococcus aureus"
          ],
          [
           true,
           "Staphylococcus aureus"
          ],
          [
           true,
           "Staphylococcus aureus"
          ],
          [
           true,
           "Staphylococcus aureus"
          ],
          [
           true,
           "Staphylococcus aureus"
          ],
          [
           true,
           "Staphylococcus aureus"
          ],
          [
           true,
           "Staphylococcus aureus"
          ],
          [
           true,
           "Staphylococcus aureus"
          ],
          [
           true,
           "Staphylococcus aureus"
          ],
          [
           true,
           "Staphylococcus aureus"
          ],
          [
           true,
           "Staphylococcus aureus"
          ],
          [
           true,
           "Staphylococcus aureus"
          ],
          [
           true,
           "Staphylococcus aureus"
          ],
          [
           true,
           "Staphylococcus aureus"
          ],
          [
           true,
           "Staphylococcus aureus"
          ],
          [
           true,
           "Staphylococcus aureus"
          ],
          [
           true,
           "Staphylococcus aureus"
          ],
          [
           true,
           "Staphylococcus aureus"
          ],
          [
           true,
           "Staphylococcus aureus"
          ],
          [
           true,
           "Staphylococcus aureus"
          ],
          [
           true,
           "Staphylococcus aureus"
          ],
          [
           true,
           "Staphylococcus aureus"
          ],
          [
           true,
           "Staphylococcus aureus"
          ],
          [
           true,
           "Staphylococcus aureus"
          ],
          [
           true,
           "Staphylococcus aureus"
          ],
          [
           true,
           "Staphylococcus aureus"
          ],
          [
           true,
           "Staphylococcus aureus"
          ],
          [
           true,
           "Streptococcus pneumoniae"
          ],
          [
           true,
           "Streptococcus pneumoniae"
          ],
          [
           true,
           "Staphylococcus aureus"
          ],
          [
           true,
           "Staphylococcus aureus"
          ],
          [
           true,
           "Staphylococcus aureus"
          ],
          [
           true,
           "Staphylococcus aureus"
          ],
          [
           true,
           "Staphylococcus aureus"
          ],
          [
           true,
           "Staphylococcus aureus"
          ],
          [
           true,
           "Staphylococcus capitis"
          ],
          [
           true,
           "Staphylococcus capitis"
          ],
          [
           true,
           "Staphylococcus epidermidis"
          ],
          [
           true,
           "Staphylococcus epidermidis"
          ],
          [
           true,
           "Staphylococcus epidermidis"
          ],
          [
           true,
           "Staphylococcus aureus"
          ],
          [
           true,
           "Staphylococcus hominis"
          ],
          [
           true,
           "Staphylococcus hominis"
          ],
          [
           true,
           "Staphylococcus aureus"
          ],
          [
           true,
           "Staphylococcus aureus"
          ],
          [
           true,
           "Staphylococcus aureus"
          ],
          [
           true,
           "Staphylococcus capitis"
          ],
          [
           true,
           "Streptococcus pneumoniae"
          ],
          [
           true,
           "Staphylococcus lugdunensis"
          ],
          [
           true,
           "Staphylococcus lugdunensis"
          ],
          [
           true,
           "Staphylococcus lugdunensis"
          ],
          [
           true,
           "Staphylococcus hominis"
          ],
          [
           true,
           "Staphylococcus hominis"
          ],
          [
           true,
           "Staphylococcus aureus"
          ],
          [
           true,
           "Staphylococcus aureus"
          ],
          [
           true,
           "Staphylococcus aureus"
          ],
          [
           true,
           "Staphylococcus aureus"
          ],
          [
           true,
           "Staphylococcus aureus"
          ],
          [
           true,
           "Staphylococcus aureus"
          ],
          [
           true,
           "Staphylococcus epidermidis"
          ],
          [
           true,
           "Staphylococcus aureus"
          ],
          [
           true,
           "Staphylococcus aureus"
          ],
          [
           true,
           "Staphylococcus aureus"
          ],
          [
           true,
           "Staphylococcus aureus"
          ],
          [
           true,
           "Staphylococcus aureus"
          ],
          [
           true,
           "Staphylococcus aureus"
          ],
          [
           true,
           "Staphylococcus epidermidis"
          ],
          [
           true,
           "Staphylococcus epidermidis"
          ],
          [
           true,
           "Staphylococcus epidermidis"
          ],
          [
           true,
           "Staphylococcus epidermidis"
          ],
          [
           true,
           "Staphylococcus epidermidis"
          ],
          [
           true,
           "Streptococcus pneumoniae"
          ],
          [
           true,
           "Streptococcus pneumoniae"
          ],
          [
           true,
           "Staphylococcus auricularis"
          ],
          [
           true,
           "Staphylococcus auricularis"
          ],
          [
           true,
           "Staphylococcus auricularis"
          ],
          [
           true,
           "Staphylococcus auricularis"
          ],
          [
           true,
           "Staphylococcus auricularis"
          ],
          [
           true,
           "Staphylococcus warneri"
          ]
         ],
         "hovertemplate": "<b>%{hovertext}</b><br><br>SIR=Sensitive<br>Log2(MIC-value)=%{y:.0f}<br>Scale=%{customdata[0]}<br>Pathogen=%{customdata[1]}<extra></extra>",
         "hovertext": [
          "QM1007",
          "QM1008",
          "HV236",
          "PER144",
          "PER149",
          "QM1010",
          "QM1011",
          "QM1013",
          "QM1014",
          "BAR008",
          "BAR018",
          "BAR019",
          "BAR023",
          "BAR024",
          "QM115",
          "BAR062",
          "BAR059",
          "QM804",
          "BAR026",
          "QM1002",
          "QM878",
          "QM879",
          "QM169",
          "QM874",
          "QM875",
          "PER134",
          "QM880",
          "QM882",
          "QM883",
          "QM884",
          "PER159",
          "BAR009",
          "QM1440",
          "QM1334",
          "QM868",
          "QM1533",
          "QM887",
          "QM889",
          "QM1536",
          "QM1537",
          "QM1539",
          "QM1541",
          "QM1542",
          "QM1543",
          "QM1545",
          "QM1546",
          "QM1547",
          "QM1549",
          "QM1551",
          "QM1552",
          "QM1554",
          "QM1555",
          "QM1556",
          "QM1557",
          "QM1558",
          "QM1559",
          "QM1561",
          "QM1565",
          "AR0461",
          "QM1260",
          "QM1262",
          "QM1267",
          "AR0221",
          "QM025",
          "BAR043",
          "QM286",
          "QM065",
          "QM294",
          "HV236",
          "PER144",
          "PER149",
          "QM115",
          "BAR062",
          "BAR032",
          "QM169",
          "QM874",
          "QM875",
          "QM1391",
          "QM307",
          "QM321",
          "QM398",
          "QM518",
          "QM980",
          "QM982",
          "QM984",
          "QM985",
          "QM986",
          "QM988",
          "QM989",
          "QM990",
          "QM991",
          "QM993",
          "QM397",
          "QM995",
          "QM992",
          "QM996",
          "QM997",
          "QM994",
          "HV447",
          "QM262",
          "QM322",
          "QM323",
          "HV480",
          "QM308",
          "QM998",
          "BAR052",
          "BAR059",
          "QM1325",
          "QM1326",
          "QM1327",
          "QM1358",
          "QM1359",
          "QM1360",
          "QM1362",
          "QM1364",
          "QM1366",
          "QM1367",
          "QM1368",
          "QM1369",
          "QM1370",
          "QM1379",
          "QM1385",
          "QM1388",
          "QM1450",
          "QM1452",
          "AR0561",
          "AR0562",
          "AR0563",
          "AR0564",
          "AR0565",
          "AR0566",
          "AR0461",
          "AR0462",
          "AR0465",
          "AR0467",
          "AR0468",
          "AR0469",
          "AR0470",
          "AR0472",
          "AR0474",
          "AR0475",
          "AR0476",
          "AR0477",
          "AR0478",
          "AR0479",
          "AR0480",
          "AR0215",
          "AR0216",
          "AR0217",
          "AR0218",
          "AR0219",
          "AR0220",
          "AR0221",
          "AR0222",
          "AR0481",
          "AR0482",
          "AR0483",
          "AR0485",
          "AR0486",
          "AR0490",
          "AR0223",
          "AR0224",
          "AR0225",
          "AR0226",
          "AR0227",
          "AR0228",
          "AR0701",
          "AR0704",
          "AR0705",
          "AR0706",
          "AR0707",
          "AR0708",
          "AR0709",
          "AR0710",
          "AR0711",
          "AR0712",
          "AR0713",
          "AR0714",
          "AR0715",
          "AR0716",
          "AR0717",
          "AR0718",
          "AR0719",
          "AR0720",
          "AR0721",
          "AR0722",
          "AR0723",
          "AR0724",
          "QM1324",
          "AR0567",
          "AR0568",
          "AR0570",
          "QM307",
          "QM321",
          "QM398",
          "QM518",
          "QM980",
          "QM982",
          "QM984",
          "QM985",
          "QM986",
          "QM988",
          "QM989",
          "QM990",
          "QM991",
          "QM993",
          "QM397",
          "QM995",
          "QM992",
          "QM996",
          "QM997",
          "QM994",
          "HV447",
          "QM262",
          "QM322",
          "QM323",
          "HV480",
          "QM308",
          "QM998",
          "BAR052",
          "BAR059",
          "QM1325",
          "QM1327",
          "QM1358",
          "QM1359",
          "QM1360",
          "QM1362",
          "QM1364",
          "QM1366",
          "QM1367",
          "QM1368",
          "QM1369",
          "QM1370",
          "QM1379",
          "QM1385",
          "QM1388",
          "QM1450",
          "QM1452",
          "AR0561",
          "AR0562",
          "AR0563",
          "AR0564",
          "AR0565",
          "AR0566",
          "AR0461",
          "AR0462",
          "AR0465",
          "AR0467",
          "AR0468",
          "AR0469",
          "AR0470",
          "AR0472",
          "AR0474",
          "AR0475",
          "AR0476",
          "AR0477",
          "AR0478",
          "AR0479",
          "AR0480",
          "AR0215",
          "AR0216",
          "AR0217",
          "AR0218",
          "AR0219",
          "AR0221",
          "AR0222",
          "AR0481",
          "AR0482",
          "AR0483",
          "AR0485",
          "AR0486",
          "AR0490",
          "AR0223",
          "AR0224",
          "AR0225",
          "AR0226",
          "AR0227",
          "AR0228",
          "AR0701",
          "AR0704",
          "AR0705",
          "AR0706",
          "AR0707",
          "AR0708",
          "AR0709",
          "AR0710",
          "AR0711",
          "AR0712",
          "AR0713",
          "AR0714",
          "AR0716",
          "AR0717",
          "AR0718",
          "AR0719",
          "AR0721",
          "AR0722",
          "AR0723",
          "AR0724",
          "QM1324",
          "AR0567",
          "AR0568",
          "AR0570",
          "PER144",
          "QM115",
          "BAR062",
          "QM803",
          "QM804",
          "QM808",
          "QM810",
          "BAR026",
          "QM169",
          "QM874",
          "PER134",
          "QM1333",
          "QM876",
          "QM325",
          "QM1334",
          "QM868",
          "QM1387",
          "QM1456",
          "QM1457",
          "QM1460",
          "QM1461",
          "QM1464",
          "QM1468",
          "QM1469",
          "QM870",
          "QM872",
          "HV752",
          "QM1574",
          "QM025",
          "QM026",
          "QM329",
          "QM402",
          "QM1487",
          "HV236",
          "PER144",
          "PER149",
          "QM115",
          "BAR062",
          "QM803",
          "QM804",
          "QM805",
          "QM806",
          "QM807",
          "QM808",
          "QM810",
          "BAR026",
          "QM169",
          "QM874",
          "QM875",
          "PER134",
          "QM1333",
          "HV985",
          "QM876",
          "QM325",
          "QM1334",
          "QM1406",
          "QM1353",
          "QM152",
          "QM868",
          "BAR064",
          "QM1387",
          "QM1456",
          "QM1457",
          "QM1460",
          "QM1461",
          "QM1464",
          "QM1468",
          "QM1469",
          "QM1470",
          "QM870",
          "QM871",
          "QM872",
          "BAR066",
          "HV752",
          "QM138",
          "QM1574",
          "QM1489",
          "QM1491",
          "QM1492",
          "QM025",
          "QM026",
          "QM027",
          "QM326",
          "QM328",
          "QM329",
          "QM402",
          "QM1483",
          "QM1485",
          "QM1486",
          "QM1487",
          "QM286",
          "QM065",
          "HV519",
          "QM076",
          "QM294",
          "PER107",
          "QM319",
          "HV772",
          "PER110",
          "QM867",
          "PER108",
          "PER104",
          "QM292",
          "QM312",
          "QM295",
          "QM068",
          "HV896",
          "HV510",
          "QM1248",
          "QM1250",
          "QM1252",
          "QM1253",
          "QM1254",
          "QM1255",
          "QM1288",
          "QM1289",
          "QM1308",
          "QM1309",
          "QM1310",
          "QM1311",
          "QM1312",
          "QM1313",
          "QM1314",
          "QM1315",
          "QM1316",
          "QM1317",
          "QM1373",
          "QM1391",
          "QM1524",
          "QM1526",
          "QM1530",
          "QM1531",
          "AR0572",
          "AR0575",
          "QM067",
          "QM307",
          "QM321",
          "QM398",
          "QM518",
          "QM980",
          "QM982",
          "QM984",
          "QM985",
          "QM986",
          "QM988",
          "QM989",
          "QM990",
          "QM991",
          "QM993",
          "QM995",
          "QM996",
          "QM997",
          "QM994",
          "HV447",
          "QM262",
          "QM322",
          "QM323",
          "HV480",
          "QM308",
          "QM998",
          "QM085",
          "QM086",
          "HV109",
          "HV116",
          "QM895",
          "QM897",
          "QM899",
          "BAR001",
          "BAR002",
          "BAR003",
          "HV119",
          "HV136",
          "HV146",
          "HV156",
          "HV205",
          "HV254",
          "HV884",
          "HV912",
          "HV950",
          "HV953",
          "HV975",
          "HV983",
          "QM034",
          "QM088",
          "QM089",
          "HV455",
          "HV462",
          "HV498",
          "HV521",
          "HV523",
          "HV538",
          "HV559",
          "HV594",
          "HV615",
          "HV283",
          "HV285",
          "HV326",
          "HV413",
          "HV416",
          "BAR052",
          "BAR059",
          "QM351",
          "QM359",
          "QM365",
          "QM370",
          "QM373",
          "QM380",
          "QM381",
          "QM958",
          "QM968",
          "QM970",
          "QM977",
          "HV103",
          "HV107",
          "HV114",
          "HV245",
          "HV262",
          "HV271",
          "HV277",
          "HV330",
          "HV412",
          "HV414",
          "HV740",
          "HV753",
          "HV500",
          "HV508",
          "HV517",
          "HV599",
          "QM1325",
          "QM1326",
          "QM1327",
          "QM1358",
          "QM1359",
          "QM1360",
          "QM1362",
          "QM1364",
          "QM1366",
          "QM1367",
          "QM1368",
          "QM1369",
          "QM1370",
          "QM1379",
          "QM1385",
          "QM1388",
          "QM1452",
          "QM1263",
          "QM1264",
          "QM971",
          "HV986",
          "HV987",
          "QM093",
          "QM963",
          "QM1270",
          "QM1271",
          "QM1272",
          "QM1273",
          "PER152",
          "QM887",
          "QM889",
          "QM894",
          "QM960",
          "HV794",
          "HV813",
          "HV820",
          "HV88",
          "HV902",
          "AR0561",
          "AR0562",
          "AR0563",
          "AR0564",
          "AR0565",
          "AR0566",
          "AR0469",
          "AR0470",
          "AR0472",
          "AR0475",
          "AR0476",
          "AR0477",
          "AR0478",
          "AR0479",
          "AR0480",
          "QM1265",
          "QM1258",
          "QM1259",
          "QM1261",
          "QM1262",
          "QM1267",
          "QM1269",
          "HV678",
          "HV733",
          "HV744",
          "HV754",
          "HV773",
          "HV901",
          "BAR040",
          "AR0220",
          "AR0222",
          "AR0481",
          "AR0482",
          "AR0483",
          "AR0485",
          "AR0486",
          "AR0490",
          "AR0702",
          "AR0703",
          "AR0704",
          "AR0705",
          "AR0706",
          "AR0707",
          "AR0708",
          "AR0709",
          "AR0710",
          "AR0711",
          "AR0712",
          "AR0713",
          "AR0714",
          "AR0715",
          "AR0716",
          "AR0717",
          "AR0718",
          "AR0719",
          "AR0721",
          "AR0722",
          "AR0723",
          "AR0724",
          "AR0726",
          "AR0727",
          "AR0728",
          "AR0729",
          "AR0730",
          "QM1324",
          "BAR043",
          "AR0567",
          "AR0568",
          "AR0570",
          "QM286",
          "QM065",
          "HV519",
          "HV772",
          "PER110",
          "QM307",
          "QM321",
          "QM398",
          "QM518",
          "QM980",
          "QM982",
          "QM984",
          "QM985",
          "QM986",
          "QM988",
          "QM989",
          "QM990",
          "QM991",
          "QM993",
          "QM995",
          "QM996",
          "QM997",
          "QM994",
          "HV447",
          "QM262",
          "QM322",
          "QM323",
          "QM292",
          "QM312",
          "QM068",
          "HV896",
          "HV510",
          "HV480",
          "QM308",
          "QM998",
          "PER128",
          "QM1007",
          "QM1008",
          "HV236",
          "PER144",
          "PER149",
          "QM1010",
          "QM1011",
          "QM1013",
          "QM1014",
          "QM1015",
          "QM886",
          "BAR006",
          "BAR008",
          "QM085",
          "QM086",
          "HV116",
          "QM895",
          "QM897",
          "QM899",
          "BAR001",
          "BAR002",
          "BAR003",
          "HV119",
          "HV136",
          "HV156",
          "HV205",
          "BAR018",
          "BAR023",
          "BAR024",
          "QM115",
          "BAR062",
          "QM134",
          "HV884",
          "HV912",
          "HV950",
          "HV975",
          "QM088",
          "QM089",
          "HV455",
          "HV462",
          "HV498",
          "HV521",
          "HV523",
          "HV538",
          "HV559",
          "HV594",
          "HV615",
          "HV283",
          "HV285",
          "HV326",
          "HV413",
          "HV416",
          "BAR052",
          "BAR059",
          "QM351",
          "QM359",
          "QM365",
          "QM370",
          "QM373",
          "QM380",
          "QM381",
          "QM957",
          "QM958",
          "QM968",
          "QM970",
          "QM977",
          "HV103",
          "HV107",
          "HV114",
          "HV262",
          "HV271",
          "HV277",
          "HV330",
          "HV412",
          "HV414",
          "QM804",
          "QM805",
          "QM806",
          "QM807",
          "QM1002",
          "QM878",
          "QM879",
          "QM169",
          "QM874",
          "QM875",
          "PER134",
          "QM1333",
          "QM880",
          "QM882",
          "QM883",
          "QM884",
          "PER159",
          "BAR009",
          "QM876",
          "HV740",
          "HV753",
          "HV448",
          "HV500",
          "HV508",
          "HV517",
          "HV599",
          "QM1250",
          "QM1253",
          "QM1254",
          "QM1255",
          "QM1288",
          "QM1308",
          "QM1309",
          "QM1310",
          "QM1315",
          "QM1373",
          "QM1325",
          "QM1326",
          "QM1327",
          "QM1358",
          "QM1359",
          "QM1360",
          "QM1362",
          "QM1364",
          "QM1366",
          "QM1367",
          "QM1368",
          "QM1369",
          "QM1370",
          "QM1379",
          "QM1385",
          "QM1388",
          "QM1450",
          "QM1452",
          "QM1263",
          "QM1264",
          "QM325",
          "QM1440",
          "QM1334",
          "QM1406",
          "QM1353",
          "QM152",
          "QM868",
          "BAR064",
          "QM1387",
          "QM971",
          "HV986",
          "QM093",
          "QM963",
          "QM964",
          "QM1522",
          "QM1530",
          "QM1533",
          "QM1270",
          "QM1271",
          "QM1272",
          "QM1273",
          "PER152",
          "QM887",
          "QM889",
          "QM894",
          "QM960",
          "QM1536",
          "QM1537",
          "QM1539",
          "QM1540",
          "QM1541",
          "QM1542",
          "QM1543",
          "QM1545",
          "QM1461",
          "QM1470",
          "HV794",
          "HV813",
          "HV820",
          "HV88",
          "HV902",
          "QM870",
          "QM871",
          "QM872",
          "BAR066",
          "HV752",
          "QM138",
          "QM1546",
          "QM1574",
          "QM1547",
          "QM1549",
          "QM1551",
          "QM1552",
          "QM1554",
          "QM1555",
          "QM1556",
          "QM1557",
          "QM1558",
          "QM1559",
          "QM1561",
          "QM1565",
          "QM1489",
          "QM1491",
          "QM1492",
          "AR0561",
          "AR0562",
          "AR0563",
          "AR0564",
          "AR0565",
          "AR0566",
          "AR0461",
          "AR0462",
          "AR0469",
          "AR0470",
          "AR0472",
          "AR0474",
          "AR0475",
          "AR0476",
          "AR0477",
          "AR0478",
          "AR0479",
          "AR0480",
          "QM1265",
          "QM1258",
          "QM1259",
          "QM1260",
          "QM1261",
          "QM1262",
          "QM1267",
          "QM1269",
          "HV678",
          "HV733",
          "HV744",
          "HV754",
          "HV773",
          "HV901",
          "BAR040",
          "AR0221",
          "AR0222",
          "AR0481",
          "AR0482",
          "AR0483",
          "AR0485",
          "AR0490",
          "AR0225",
          "AR0226",
          "AR0228",
          "AR0701",
          "AR0702",
          "AR0703",
          "AR0704",
          "AR0705",
          "AR0706",
          "AR0707",
          "AR0708",
          "AR0709",
          "AR0710",
          "AR0711",
          "AR0712",
          "AR0713",
          "AR0714",
          "AR0715",
          "AR0716",
          "AR0717",
          "AR0718",
          "AR0719",
          "AR0720",
          "AR0721",
          "AR0722",
          "AR0723",
          "AR0724",
          "AR0726",
          "AR0730",
          "QM025",
          "QM026",
          "QM027",
          "QM326",
          "QM328",
          "QM329",
          "QM1483",
          "QM1485",
          "QM1486",
          "QM1487",
          "QM1324",
          "BAR043",
          "AR0567",
          "AR0568",
          "AR0570",
          "HV519",
          "HV772",
          "QM307",
          "QM321",
          "QM398",
          "QM518",
          "QM980",
          "QM982",
          "QM984",
          "QM985",
          "QM986",
          "QM988",
          "QM989",
          "QM990",
          "QM991",
          "QM993",
          "QM995",
          "QM996",
          "QM997",
          "QM994",
          "HV447",
          "QM262",
          "QM322",
          "QM323",
          "HV896",
          "HV510",
          "HV480",
          "QM308",
          "QM998",
          "PER128",
          "QM1007",
          "QM1008",
          "HV236",
          "PER144",
          "PER149",
          "QM1010",
          "QM1011",
          "QM1013",
          "QM1014",
          "QM1015",
          "QM886",
          "BAR006",
          "BAR008",
          "QM085",
          "QM086",
          "HV109",
          "HV116",
          "QM895",
          "QM897",
          "QM899",
          "BAR002",
          "BAR003",
          "HV119",
          "HV136",
          "HV146",
          "HV156",
          "HV205",
          "HV254",
          "BAR018",
          "BAR019",
          "BAR023",
          "BAR024",
          "QM115",
          "BAR062",
          "QM134",
          "HV884",
          "HV912",
          "HV953",
          "HV975",
          "HV983",
          "QM034",
          "QM088",
          "QM089",
          "HV455",
          "HV462",
          "HV498",
          "HV521",
          "HV523",
          "HV538",
          "HV559",
          "HV594",
          "HV615",
          "HV283",
          "HV285",
          "HV326",
          "HV413",
          "HV416",
          "BAR052",
          "BAR059",
          "QM351",
          "QM359",
          "QM365",
          "QM370",
          "QM373",
          "QM380",
          "QM381",
          "QM957",
          "QM958",
          "QM968",
          "QM970",
          "QM977",
          "HV103",
          "HV114",
          "HV245",
          "HV262",
          "HV271",
          "HV277",
          "HV330",
          "HV412",
          "HV414",
          "QM803",
          "QM804",
          "QM805",
          "QM807",
          "QM808",
          "QM810",
          "BAR026",
          "QM1002",
          "QM878",
          "QM879",
          "QM169",
          "QM874",
          "QM875",
          "PER134",
          "QM1333",
          "QM880",
          "QM882",
          "QM883",
          "QM884",
          "PER159",
          "BAR009",
          "QM876",
          "HV740",
          "HV753",
          "HV448",
          "HV500",
          "HV508",
          "HV517",
          "QM1315",
          "QM1373",
          "QM1325",
          "QM1326",
          "QM1327",
          "QM1358",
          "QM1359",
          "QM1360",
          "QM1362",
          "QM1364",
          "QM1366",
          "QM1367",
          "QM1368",
          "QM1369",
          "QM1370",
          "QM1379",
          "QM1385",
          "QM1388",
          "QM1450",
          "QM1452",
          "QM1263",
          "QM1264",
          "QM325",
          "QM1440",
          "QM1406",
          "QM1353",
          "QM152",
          "QM868",
          "QM1387",
          "QM971",
          "HV986",
          "HV987",
          "QM093",
          "QM964",
          "QM1522",
          "QM1530",
          "QM1533",
          "QM1270",
          "QM1271",
          "QM1272",
          "QM1273",
          "PER152",
          "QM887",
          "QM889",
          "QM894",
          "QM960",
          "QM1536",
          "QM1537",
          "QM1539",
          "QM1540",
          "QM1541",
          "QM1542",
          "QM1545",
          "QM1456",
          "QM1457",
          "QM1460",
          "QM1461",
          "QM1464",
          "QM1468",
          "QM1469",
          "QM1470",
          "HV794",
          "HV813",
          "HV820",
          "HV88",
          "HV902",
          "QM870",
          "QM871",
          "QM872",
          "BAR066",
          "HV752",
          "QM138",
          "QM1546",
          "QM1574",
          "QM1547",
          "QM1549",
          "QM1551",
          "QM1552",
          "QM1554",
          "QM1555",
          "QM1556",
          "QM1557",
          "QM1558",
          "QM1559",
          "QM1561",
          "QM1565",
          "QM1489",
          "QM1491",
          "QM1492",
          "AR0561",
          "AR0562",
          "AR0563",
          "AR0564",
          "AR0565",
          "AR0566",
          "AR0461",
          "AR0469",
          "AR0470",
          "AR0472",
          "AR0475",
          "AR0476",
          "AR0477",
          "AR0478",
          "AR0479",
          "AR0480",
          "QM1265",
          "QM1258",
          "QM1259",
          "QM1260",
          "QM1261",
          "QM1262",
          "QM1267",
          "QM1269",
          "HV678",
          "HV733",
          "HV734",
          "HV744",
          "HV754",
          "HV773",
          "BAR040",
          "AR0481",
          "AR0482",
          "AR0483",
          "AR0485",
          "AR0486",
          "AR0490",
          "AR0225",
          "AR0226",
          "AR0701",
          "AR0702",
          "AR0703",
          "AR0704",
          "AR0705",
          "AR0706",
          "AR0707",
          "AR0708",
          "AR0709",
          "AR0710",
          "AR0711",
          "AR0712",
          "AR0713",
          "AR0714",
          "AR0717",
          "AR0718",
          "AR0719",
          "AR0720",
          "AR0721",
          "AR0722",
          "AR0723",
          "AR0724",
          "AR0726",
          "AR0727",
          "AR0728",
          "AR0729",
          "AR0730",
          "QM025",
          "QM026",
          "QM027",
          "QM326",
          "QM328",
          "QM329",
          "QM1483",
          "QM1485",
          "QM1486",
          "QM1487",
          "QM1324",
          "BAR043",
          "AR0567",
          "AR0568",
          "QM085",
          "QM086",
          "HV146",
          "HV983",
          "QM1326",
          "QM1272",
          "PER152",
          "QM889",
          "QM894",
          "AR0561",
          "AR0566",
          "AR0462",
          "QM1258",
          "AR0217",
          "AR0221",
          "AR0222",
          "AR0223",
          "AR0702",
          "BAR043",
          "QM518",
          "HV447",
          "QM322",
          "QM308",
          "PER128",
          "QM1013",
          "QM086",
          "HV146",
          "HV205",
          "HV254",
          "BAR024",
          "HV884",
          "HV462",
          "HV521",
          "HV538",
          "HV615",
          "HV285",
          "HV326",
          "HV416",
          "BAR052",
          "BAR059",
          "HV103",
          "HV107",
          "HV114",
          "HV245",
          "HV262",
          "HV271",
          "HV277",
          "HV412",
          "HV414",
          "QM805",
          "QM807",
          "QM808",
          "BAR026",
          "QM1002",
          "QM878",
          "QM882",
          "QM884",
          "HV740",
          "HV753",
          "HV500",
          "HV508",
          "HV517",
          "HV599",
          "QM1325",
          "QM1326",
          "QM1327",
          "QM1359",
          "QM1360",
          "QM1362",
          "QM1364",
          "QM1367",
          "QM1368",
          "QM1370",
          "QM1379",
          "QM1385",
          "QM1388",
          "QM1452",
          "QM1353",
          "HV986",
          "HV987",
          "PER152",
          "QM887",
          "QM889",
          "QM894",
          "QM1536",
          "QM1539",
          "HV794",
          "HV813",
          "HV88",
          "HV902",
          "QM1546",
          "QM1549",
          "QM1554",
          "QM1557",
          "QM1558",
          "QM1561",
          "AR0561",
          "AR0563",
          "AR0566",
          "AR0462",
          "AR0465",
          "AR0467",
          "AR0468",
          "AR0470",
          "AR0472",
          "AR0475",
          "AR0476",
          "AR0477",
          "AR0478",
          "AR0479",
          "AR0480",
          "QM1267",
          "QM1269",
          "AR0216",
          "AR0217",
          "AR0221",
          "AR0222",
          "AR0481",
          "AR0482",
          "AR0490",
          "AR0224",
          "AR0225",
          "AR0701",
          "AR0702",
          "AR0704",
          "AR0705",
          "AR0714",
          "AR0715",
          "QM026",
          "QM329",
          "QM1324",
          "BAR043",
          "AR0568",
          "QM323",
          "QM085",
          "HV109",
          "QM895",
          "QM897",
          "BAR001",
          "BAR002",
          "BAR003",
          "HV254",
          "HV912",
          "HV983",
          "HV455",
          "HV523",
          "HV559",
          "HV283",
          "HV285",
          "HV326",
          "HV413",
          "BAR052",
          "BAR059",
          "QM359",
          "QM370",
          "QM373",
          "QM381",
          "QM957",
          "QM970",
          "HV245",
          "HV262",
          "HV277",
          "HV740",
          "HV448",
          "HV599",
          "QM1325",
          "QM1327",
          "QM1358",
          "QM1359",
          "QM1369",
          "QM1379",
          "QM1388",
          "QM971",
          "HV986",
          "QM963",
          "QM964",
          "QM1270",
          "QM1271",
          "QM1272",
          "QM1273",
          "PER152",
          "QM887",
          "QM960",
          "HV88",
          "HV902",
          "AR0563",
          "AR0564",
          "AR0566",
          "AR0461",
          "AR0462",
          "AR0465",
          "AR0467",
          "AR0468",
          "AR0469",
          "AR0472",
          "AR0474",
          "AR0475",
          "AR0476",
          "AR0477",
          "AR0478",
          "AR0479",
          "QM1259",
          "QM1262",
          "QM1267",
          "QM1269",
          "HV678",
          "HV754",
          "HV773",
          "AR0215",
          "AR0216",
          "AR0217",
          "AR0218",
          "AR0220",
          "AR0221",
          "AR0481",
          "AR0482",
          "AR0483",
          "AR0486",
          "AR0224",
          "AR0226",
          "AR0227",
          "AR0228",
          "AR0704",
          "AR0705",
          "AR0708",
          "AR0709",
          "AR0711",
          "AR0713",
          "AR0714",
          "AR0717",
          "AR0723",
          "AR0726",
          "AR0728",
          "AR0729",
          "QM026",
          "QM328",
          "QM329",
          "AR0567",
          "HV519",
          "PER107",
          "HV772",
          "PER110",
          "PER108",
          "QM985",
          "QM988",
          "QM397",
          "QM995",
          "QM992",
          "QM262",
          "QM323",
          "QM312",
          "QM295",
          "QM068",
          "HV896",
          "HV510",
          "PER128",
          "QM1007",
          "QM1008",
          "QM1010",
          "QM1011",
          "QM1013",
          "QM1014",
          "QM1015",
          "QM886",
          "BAR006",
          "BAR008",
          "QM085",
          "QM086",
          "HV109",
          "HV116",
          "QM895",
          "QM897",
          "QM899",
          "BAR001",
          "BAR002",
          "BAR003",
          "HV119",
          "HV136",
          "HV146",
          "HV254",
          "BAR018",
          "BAR019",
          "BAR023",
          "BAR024",
          "HV884",
          "HV912",
          "HV950",
          "HV953",
          "HV975",
          "QM089",
          "HV455",
          "HV462",
          "HV498",
          "HV521",
          "HV523",
          "HV538",
          "HV559",
          "HV594",
          "HV615",
          "HV283",
          "HV285",
          "HV326",
          "HV413",
          "HV416",
          "BAR032",
          "BAR052",
          "BAR059",
          "QM351",
          "QM359",
          "QM370",
          "QM380",
          "QM957",
          "QM958",
          "QM968",
          "QM970",
          "HV103",
          "HV107",
          "HV114",
          "HV245",
          "HV262",
          "HV271",
          "HV277",
          "HV330",
          "HV412",
          "HV414",
          "QM803",
          "QM804",
          "QM806",
          "QM808",
          "QM810",
          "BAR026",
          "QM1002",
          "QM878",
          "QM879",
          "PER134",
          "QM880",
          "QM883",
          "QM884",
          "PER159",
          "BAR009",
          "HV740",
          "HV753",
          "HV448",
          "HV500",
          "HV508",
          "HV517",
          "HV599",
          "QM1248",
          "QM1250",
          "QM1252",
          "QM1254",
          "QM1255",
          "QM1288",
          "QM1289",
          "QM1308",
          "QM1309",
          "QM1310",
          "QM1312",
          "QM1313",
          "QM1314",
          "QM1315",
          "QM1316",
          "QM1317",
          "QM1373",
          "QM1391",
          "QM1325",
          "QM1326",
          "QM1327",
          "QM1358",
          "QM1362",
          "QM1364",
          "QM1366",
          "QM1367",
          "QM1368",
          "QM1369",
          "QM1379",
          "QM1450",
          "QM1452",
          "QM1263",
          "QM1264",
          "QM325",
          "QM1440",
          "QM1353",
          "QM971",
          "HV986",
          "HV987",
          "QM093",
          "QM963",
          "QM964",
          "QM1523",
          "QM1524",
          "QM1525",
          "QM1526",
          "QM1527",
          "QM1528",
          "QM1530",
          "QM1533",
          "QM889",
          "QM894",
          "QM960",
          "QM1536",
          "QM1539",
          "QM1540",
          "QM1541",
          "QM1543",
          "QM1545",
          "QM1457",
          "QM1460",
          "QM1461",
          "QM1469",
          "QM1470",
          "HV794",
          "HV813",
          "HV820",
          "HV902",
          "QM1546",
          "QM1574",
          "QM1547",
          "QM1551",
          "QM1552",
          "QM1554",
          "QM1555",
          "QM1556",
          "QM1557",
          "QM1558",
          "QM1559",
          "QM1561",
          "AR0561",
          "AR0563",
          "AR0564",
          "AR0565",
          "AR0566",
          "AR0461",
          "AR0462",
          "AR0465",
          "AR0467",
          "AR0468",
          "AR0469",
          "AR0470",
          "AR0472",
          "AR0474",
          "AR0475",
          "AR0476",
          "AR0477",
          "AR0478",
          "AR0479",
          "AR0480",
          "QM1265",
          "QM1258",
          "QM1259",
          "QM1260",
          "QM1261",
          "QM1267",
          "QM1269",
          "HV678",
          "HV733",
          "HV734",
          "HV744",
          "HV754",
          "HV773",
          "AR0215",
          "AR0216",
          "AR0217",
          "AR0218",
          "AR0219",
          "AR0220",
          "AR0221",
          "AR0222",
          "AR0481",
          "AR0482",
          "AR0483",
          "AR0485",
          "AR0486",
          "AR0224",
          "AR0225",
          "AR0226",
          "AR0228",
          "AR0703",
          "AR0705",
          "AR0572",
          "AR0575",
          "QM025",
          "QM326",
          "QM329",
          "QM1324",
          "AR0567",
          "AR0570",
          "QM307",
          "QM321",
          "QM398",
          "QM518",
          "QM980",
          "QM982",
          "QM984",
          "QM985",
          "QM986",
          "QM988",
          "QM989",
          "QM990",
          "QM991",
          "QM993",
          "QM995",
          "QM996",
          "QM997",
          "QM994",
          "HV447",
          "QM262",
          "QM322",
          "HV480",
          "QM308",
          "QM998",
          "QM085",
          "QM086",
          "HV109",
          "HV116",
          "QM895",
          "QM897",
          "QM899",
          "BAR001",
          "BAR003",
          "HV119",
          "HV136",
          "HV146",
          "HV156",
          "HV205",
          "HV254",
          "HV884",
          "HV912",
          "HV950",
          "HV953",
          "HV975",
          "HV983",
          "QM034",
          "QM088",
          "QM089",
          "HV455",
          "HV462",
          "HV498",
          "HV521",
          "HV523",
          "HV538",
          "HV559",
          "HV594",
          "HV615",
          "HV283",
          "HV285",
          "HV326",
          "HV413",
          "HV416",
          "BAR052",
          "BAR059",
          "QM351",
          "QM359",
          "QM365",
          "QM370",
          "QM373",
          "QM380",
          "QM381",
          "QM957",
          "QM958",
          "QM968",
          "QM970",
          "QM977",
          "HV103",
          "HV107",
          "HV114",
          "HV245",
          "HV262",
          "HV271",
          "HV277",
          "HV330",
          "HV412",
          "HV414",
          "HV753",
          "HV448",
          "HV500",
          "HV508",
          "HV517",
          "HV599",
          "QM1325",
          "QM1326",
          "QM1327",
          "QM1358",
          "QM1359",
          "QM1360",
          "QM1362",
          "QM1364",
          "QM1366",
          "QM1367",
          "QM1368",
          "QM1369",
          "QM1370",
          "QM1385",
          "QM1388",
          "QM1450",
          "QM1452",
          "QM1263",
          "QM1264",
          "QM971",
          "HV986",
          "HV987",
          "QM093",
          "QM963",
          "QM964",
          "QM1270",
          "QM1271",
          "QM1272",
          "QM1273",
          "PER152",
          "QM887",
          "QM889",
          "QM894",
          "QM960",
          "HV794",
          "HV813",
          "HV820",
          "HV88",
          "HV902",
          "AR0561",
          "AR0562",
          "AR0563",
          "AR0565",
          "AR0566",
          "AR0461",
          "AR0462",
          "AR0465",
          "AR0467",
          "AR0468",
          "AR0469",
          "AR0470",
          "AR0472",
          "AR0475",
          "AR0476",
          "AR0477",
          "AR0478",
          "AR0479",
          "AR0480",
          "QM1265",
          "QM1258",
          "QM1259",
          "QM1260",
          "QM1261",
          "QM1262",
          "QM1267",
          "QM1269",
          "HV678",
          "HV733",
          "HV734",
          "HV744",
          "HV754",
          "HV773",
          "HV901",
          "BAR040",
          "AR0215",
          "AR0219",
          "AR0220",
          "AR0221",
          "AR0481",
          "AR0482",
          "AR0483",
          "AR0485",
          "AR0486",
          "AR0490",
          "AR0223",
          "AR0224",
          "AR0701",
          "AR0702",
          "AR0703",
          "AR0704",
          "AR0705",
          "AR0706",
          "AR0707",
          "AR0708",
          "AR0709",
          "AR0710",
          "AR0711",
          "AR0712",
          "AR0713",
          "AR0715",
          "AR0716",
          "AR0717",
          "AR0718",
          "AR0719",
          "AR0720",
          "AR0721",
          "AR0722",
          "AR0723",
          "AR0724",
          "AR0726",
          "AR0727",
          "AR0728",
          "AR0729",
          "AR0730",
          "BAR043",
          "AR0567",
          "AR0568",
          "AR0570",
          "QM307",
          "QM321",
          "QM982",
          "QM985",
          "QM986",
          "QM988",
          "QM989",
          "QM990",
          "QM991",
          "QM993",
          "QM995",
          "QM996",
          "QM997",
          "QM994",
          "HV447",
          "QM262",
          "QM322",
          "QM323",
          "HV480",
          "QM308",
          "QM998",
          "QM086",
          "HV109",
          "QM895",
          "QM897",
          "QM899",
          "BAR001",
          "BAR002",
          "BAR003",
          "HV119",
          "HV136",
          "HV146",
          "HV205",
          "HV884",
          "HV912",
          "HV950",
          "HV953",
          "HV975",
          "QM034",
          "QM088",
          "QM089",
          "HV455",
          "HV462",
          "HV521",
          "HV523",
          "HV538",
          "HV559",
          "HV594",
          "HV615",
          "HV283",
          "HV285",
          "HV326",
          "HV416",
          "BAR052",
          "BAR059",
          "QM351",
          "QM359",
          "QM365",
          "QM370",
          "QM380",
          "QM381",
          "QM957",
          "QM958",
          "QM970",
          "HV103",
          "HV107",
          "HV114",
          "HV245",
          "HV262",
          "HV271",
          "HV277",
          "HV330",
          "HV412",
          "HV740",
          "HV753",
          "HV448",
          "HV500",
          "HV517",
          "HV599",
          "QM1326",
          "QM1327",
          "QM1360",
          "QM1362",
          "QM1364",
          "QM1366",
          "QM1367",
          "QM1368",
          "QM1369",
          "QM1370",
          "QM1379",
          "QM1385",
          "QM1388",
          "QM1450",
          "QM1452",
          "QM971",
          "HV986",
          "HV987",
          "QM963",
          "QM964",
          "QM1270",
          "QM1271",
          "QM1272",
          "QM1273",
          "QM887",
          "QM889",
          "QM894",
          "QM960",
          "HV794",
          "HV813",
          "HV820",
          "AR0561",
          "AR0562",
          "AR0563",
          "AR0564",
          "AR0565",
          "AR0566",
          "AR0461",
          "AR0462",
          "AR0465",
          "AR0467",
          "AR0468",
          "AR0469",
          "AR0470",
          "AR0472",
          "AR0475",
          "AR0476",
          "AR0477",
          "AR0478",
          "AR0479",
          "AR0480",
          "QM1260",
          "QM1261",
          "QM1262",
          "QM1267",
          "QM1269",
          "HV733",
          "HV734",
          "HV744",
          "HV754",
          "HV901",
          "BAR040",
          "AR0215",
          "AR0216",
          "AR0217",
          "AR0218",
          "AR0220",
          "AR0481",
          "AR0482",
          "AR0483",
          "AR0490",
          "AR0223",
          "AR0224",
          "AR0225",
          "AR0228",
          "AR0701",
          "AR0704",
          "AR0706",
          "AR0709",
          "AR0710",
          "AR0712",
          "AR0713",
          "AR0715",
          "AR0716",
          "AR0717",
          "AR0719",
          "AR0720",
          "AR0723",
          "AR0724",
          "AR0727",
          "AR0728",
          "QM1324",
          "AR0567",
          "AR0568",
          "AR0570",
          "QM321",
          "QM518",
          "QM985",
          "QM986",
          "QM988",
          "QM989",
          "QM991",
          "QM993",
          "QM995",
          "QM996",
          "HV447",
          "QM262",
          "QM322",
          "QM308",
          "QM1007",
          "QM1008",
          "QM1010",
          "QM1011",
          "QM1013",
          "QM1014",
          "QM1015",
          "QM886",
          "BAR006",
          "BAR008",
          "QM085",
          "QM086",
          "QM895",
          "QM897",
          "QM899",
          "BAR001",
          "BAR002",
          "BAR003",
          "HV146",
          "HV156",
          "HV205",
          "HV254",
          "BAR018",
          "BAR019",
          "BAR023",
          "BAR024",
          "HV884",
          "HV912",
          "HV975",
          "QM034",
          "QM089",
          "HV498",
          "HV521",
          "HV538",
          "HV559",
          "HV615",
          "HV283",
          "HV413",
          "HV416",
          "BAR059",
          "QM351",
          "QM359",
          "QM957",
          "QM970",
          "HV103",
          "HV107",
          "HV114",
          "HV330",
          "HV412",
          "HV414",
          "QM803",
          "QM804",
          "QM810",
          "QM1002",
          "QM878",
          "QM882",
          "QM883",
          "QM884",
          "PER159",
          "HV740",
          "HV753",
          "HV500",
          "HV508",
          "QM1325",
          "QM1327",
          "QM1359",
          "QM1360",
          "QM1362",
          "QM1364",
          "QM1366",
          "QM1367",
          "QM1368",
          "QM1369",
          "QM1370",
          "QM1379",
          "QM1388",
          "QM1452",
          "QM1263",
          "QM1440",
          "QM971",
          "HV986",
          "HV987",
          "QM093",
          "QM1533",
          "QM887",
          "QM889",
          "QM894",
          "QM960",
          "QM1536",
          "QM1537",
          "QM1542",
          "QM1543",
          "QM1545",
          "QM1456",
          "QM1457",
          "QM1460",
          "QM1461",
          "QM1464",
          "QM1468",
          "QM1469",
          "HV794",
          "QM1546",
          "QM1574",
          "QM1547",
          "QM1549",
          "QM1551",
          "QM1555",
          "QM1556",
          "QM1557",
          "QM1561",
          "AR0561",
          "AR0562",
          "AR0563",
          "AR0564",
          "AR0566",
          "AR0461",
          "AR0462",
          "AR0465",
          "AR0467",
          "AR0468",
          "AR0469",
          "AR0470",
          "AR0472",
          "AR0474",
          "AR0475",
          "AR0476",
          "AR0477",
          "AR0478",
          "AR0479",
          "AR0480",
          "QM1265",
          "QM1259",
          "QM1260",
          "QM1261",
          "QM1262",
          "QM1267",
          "QM1269",
          "HV678",
          "HV773",
          "AR0215",
          "AR0216",
          "AR0218",
          "AR0219",
          "AR0220",
          "AR0221",
          "AR0481",
          "AR0482",
          "AR0485",
          "AR0486",
          "AR0490",
          "AR0223",
          "AR0224",
          "AR0225",
          "AR0226",
          "AR0227",
          "AR0228",
          "AR0701",
          "AR0702",
          "AR0704",
          "AR0705",
          "AR0706",
          "AR0707",
          "AR0708",
          "AR0711",
          "AR0713",
          "AR0714",
          "AR0715",
          "AR0716",
          "AR0717",
          "AR0718",
          "AR0719",
          "AR0723",
          "AR0724",
          "QM328",
          "QM402",
          "QM1324",
          "AR0568",
          "AR0570",
          "QM518",
          "HV447",
          "QM308",
          "QM085",
          "QM086",
          "HV146",
          "HV983",
          "HV462",
          "BAR052",
          "HV107",
          "HV500",
          "QM1326",
          "QM1368",
          "QM1452",
          "QM1264",
          "QM1353",
          "PER152",
          "QM889",
          "QM894",
          "HV794",
          "HV813",
          "AR0561",
          "AR0563",
          "AR0566",
          "AR0462",
          "AR0475",
          "AR0480",
          "QM1258",
          "AR0216",
          "AR0217",
          "AR0221",
          "AR0222",
          "AR0490",
          "AR0723",
          "AR0726",
          "AR0727",
          "AR0728",
          "AR0729",
          "AR0730",
          "QM026",
          "QM329",
          "QM1493",
          "QM1494",
          "QM1566",
          "QM1567",
          "QM1569",
          "QM1572"
         ],
         "legendgroup": "Sensitive",
         "marker": {
          "color": "limegreen",
          "symbol": "circle"
         },
         "mode": "markers",
         "name": "Sensitive",
         "showlegend": true,
         "type": "scattergl",
         "x": [
          0.027352411250129827,
          -0.03320367718776793,
          0.09810339915611757,
          -0.014442552857545976,
          0.13577505102485757,
          -0.06725051696996533,
          0.02868808968851841,
          -0.07676655380517669,
          0.0006998568154916729,
          0.0063507728515787565,
          -0.0266266803149197,
          0.00225126986981683,
          0.04091762854085437,
          0.052923439982875964,
          0.06267303337384697,
          0.10836595666168639,
          -0.060074790622543006,
          -0.010644922115196492,
          0.058455437401773586,
          -0.02976369232142642,
          -0.058558964432903565,
          0.005971550331932668,
          -0.027913218967511463,
          0.02162998305374944,
          -0.07116129472890238,
          -0.1022836303032719,
          -0.1385789820867807,
          -0.06696400864811657,
          0.10833137551899,
          -0.14384455677484517,
          0.046456122732524086,
          -0.14143309934143453,
          0.0340568204271082,
          0.0468406363311874,
          -0.008867397831299806,
          -0.10608428224054417,
          0.14066473895786333,
          0.07062544728362236,
          -0.06915823968592184,
          -0.08918320894493464,
          0.018122546540817214,
          0.07620914127978537,
          -0.06355728025866382,
          -0.010125532516035873,
          0.1273562637099824,
          0.03937711845617403,
          0.1452409555357744,
          -0.13341459609586492,
          -0.09378966791500945,
          0.0498581343294445,
          -0.06177716459309686,
          0.08977512905030346,
          -0.004345344253429528,
          0.07947066308772846,
          0.09002258844643615,
          -0.033404184328845135,
          -0.07830470708228761,
          0.12398525609484998,
          -0.010451318296455209,
          -0.1035477684790794,
          -0.07308810327731516,
          -0.014399197065875835,
          -0.10827550309323417,
          -0.0021524280065863266,
          0.005484411775541376,
          1.0970629869663884,
          0.9140051450363562,
          0.8879321952663869,
          1.074962514747581,
          0.9812949535011264,
          0.880069200000129,
          0.9920777399903598,
          1.055415640768568,
          1.104260479801491,
          0.8870772715847841,
          1.0740988628434278,
          0.9836095698097426,
          0.9136068591633204,
          2.892131225318955,
          3.061383710681529,
          3.0576790799312668,
          3.06967874448756,
          2.944249108178846,
          2.999196332316174,
          2.864405190068819,
          3.103586497873765,
          2.8851515973591155,
          3.125300674459293,
          2.907236294047121,
          2.9855045542561736,
          2.9473442261168104,
          3.0285039692645266,
          3.064179557852729,
          3.110188441559714,
          3.1176464050342876,
          2.853546178103661,
          2.968548989323343,
          2.995779020938662,
          3.054881970526717,
          2.888131871897086,
          2.8650136159546964,
          3.058739455258756,
          3.0658511392805523,
          2.9514775992343405,
          2.9411249417526664,
          3.024002437293513,
          2.9891740238948104,
          2.983488561191074,
          2.8834558209749153,
          2.9022079269504193,
          2.94658172301529,
          2.972999245857592,
          3.002523116461279,
          3.048097235893821,
          2.934592449108019,
          3.1283225540864925,
          3.1191727752939586,
          2.9588827684771988,
          2.9877269088483085,
          3.1492334296437106,
          3.1436140763383604,
          2.8991954130785076,
          2.982276689555896,
          3.1331859089776186,
          2.908907997107839,
          2.929526280045315,
          3.1262359489096108,
          3.1049794309223717,
          2.9959792212959115,
          2.9704079710575004,
          2.8513636353449514,
          2.9128320192512103,
          3.1144678952705154,
          2.935393614225168,
          2.90063533423997,
          2.9236434159313687,
          2.877258426135368,
          2.9740712421425957,
          3.1079191722767154,
          3.1406225471593596,
          2.9205115091191565,
          3.1147318875297536,
          3.108654625185363,
          2.993670313079953,
          2.922865564535773,
          3.11608602176247,
          2.9794591237772927,
          3.0134804485023037,
          3.1169315989310964,
          2.900666735064608,
          3.137539598683076,
          3.0238364089839425,
          2.969826506215014,
          3.0765510256244095,
          2.881053681720656,
          2.9386652545385985,
          3.0243350669149356,
          2.951981701781269,
          3.0971117016102947,
          2.865177844420844,
          2.8848331467929023,
          2.999860080995172,
          2.916047820874101,
          2.8892837718262174,
          2.968850147598989,
          3.1277609786797402,
          2.965891706052113,
          3.0537121380541845,
          2.8996798069243632,
          2.9881120125129956,
          2.8609517791593255,
          2.9371083854103794,
          3.0997560419744143,
          2.9182584752027854,
          2.9679368753481823,
          2.9478037952742557,
          3.093388108894777,
          3.124912674373998,
          3.092954127476235,
          3.0240798696231868,
          2.90222467739569,
          3.037899057621769,
          2.9658866864403532,
          3.045032232978522,
          3.1397493948961706,
          3.1077538871163464,
          3.0801799913334795,
          3.079057686687845,
          3.052607910502754,
          3.060574598057344,
          2.902872306331333,
          2.8683391877728974,
          3.9228909522412874,
          4.134692660982963,
          3.954837287407277,
          3.883287897111196,
          3.8970431982734572,
          3.8632815008302726,
          4.14289735141965,
          4.023656785663922,
          3.8875919601941433,
          4.048105725321974,
          4.04393848845382,
          4.062957168806992,
          4.022673474412819,
          3.940592993857304,
          3.8795445767912824,
          3.851462358324569,
          3.9741531777629957,
          3.9427038166160955,
          3.991841002550621,
          4.072040630314084,
          3.949470936986276,
          4.068121955278924,
          4.140544602098048,
          4.067543702345073,
          3.970680411665212,
          4.04876484619306,
          4.061404712619978,
          4.063186804369584,
          4.085057410170918,
          4.066432698852782,
          3.9280803233551893,
          3.9028629118628295,
          3.857230782244401,
          4.015518482248475,
          3.917576183725771,
          4.119179413425636,
          3.851772873898922,
          4.128888654290986,
          3.946612959838795,
          4.021925579775631,
          4.131127238399235,
          3.9937824830488324,
          3.886962678971348,
          4.08350410443307,
          4.139339235630299,
          3.9082995507386165,
          3.9077815030589407,
          3.9265009536228197,
          4.062235722437867,
          4.121153286822857,
          3.903276761683517,
          3.9454904814510283,
          4.13282961070319,
          4.023834591637411,
          3.936656550669118,
          3.9970815630850502,
          4.114997215363445,
          3.933801666552813,
          4.081145037471278,
          4.125074116856045,
          4.077984714527796,
          4.068372395617413,
          4.042798220031009,
          4.141735420464229,
          4.112142377990067,
          3.850564674829226,
          4.104291193277982,
          3.931289297219983,
          4.025073752120379,
          4.114522821463273,
          4.067132441950123,
          3.923921484479058,
          4.013449503031566,
          3.9811128556471562,
          4.007586722198759,
          3.904181989244211,
          4.029768405877311,
          3.8759086098444087,
          3.8817118968752835,
          3.9687399578671583,
          3.9837916784051917,
          4.047859959999624,
          4.0585331878644375,
          3.861900269984158,
          3.9054983325937145,
          4.1099908244995715,
          3.981176030921619,
          3.9703352024553342,
          4.034371868364033,
          4.028950181014139,
          4.1494537488069705,
          3.9458525433360307,
          3.859697490612216,
          3.945900385545147,
          4.047003248785937,
          4.070958759967456,
          4.092007425255725,
          3.961703161287858,
          4.009012432345403,
          3.860018232171931,
          4.133082470910698,
          3.893530831760166,
          3.9221002154199835,
          3.8995364284492418,
          3.8797371952508564,
          3.8936445728036317,
          4.09345022417471,
          3.948015298692644,
          3.9337288747814765,
          3.9520433855303403,
          5.082027597557038,
          5.12658447352147,
          5.067654721215584,
          5.008573484104086,
          4.985110352845411,
          5.038182059375895,
          4.953132188407964,
          5.008034260077021,
          4.856878217406382,
          5.11653410024432,
          5.06519720926199,
          5.149161207516036,
          4.953377791735167,
          5.143034367289259,
          4.854598151632369,
          5.121128864430837,
          5.049035908458887,
          4.8515360391797415,
          4.87365431635052,
          5.014059741309989,
          5.081427674698654,
          5.022615417561278,
          4.855156772776488,
          4.927379692213795,
          4.932142076590852,
          5.036881024011901,
          4.860054667636296,
          4.925765103135406,
          4.975100602333033,
          4.879618426636187,
          4.942886030468828,
          5.061436691235007,
          5.050059388310068,
          6.988865334019136,
          7.050516536266235,
          6.890235830415793,
          7.05138544772425,
          6.894473598704281,
          7.0744060808361455,
          7.141270688187814,
          7.081585377409956,
          7.06277175751436,
          7.062368012773502,
          6.979369225819454,
          7.119775337584711,
          6.898879311646032,
          6.860229870876096,
          7.0285001135908045,
          7.052482317311784,
          7.048541548337843,
          6.850431720524608,
          6.980408850909767,
          7.076019245978489,
          6.956381858172884,
          7.054547581593028,
          6.8758987574012735,
          6.985693201427773,
          6.970273966562441,
          7.083731175044762,
          6.948128393208185,
          6.8722653737278785,
          7.083289073925985,
          6.906751403676423,
          7.060020833079674,
          6.952188106050196,
          7.013655444572433,
          6.929812862408404,
          7.073959060877291,
          7.019897989240166,
          6.936222556845918,
          7.1291837778781115,
          6.898898891994134,
          7.0103000901542245,
          6.895376600385388,
          6.908852673277364,
          7.090764216108162,
          7.088873500077029,
          6.885492833429436,
          6.993927064103658,
          6.950604197120107,
          7.064352056001119,
          6.951343680348515,
          7.11706573099502,
          6.9730977826077885,
          7.037021975764324,
          7.143668828184486,
          7.073068173791181,
          6.931789871025265,
          7.101934876936631,
          6.920556206258595,
          9.876334552132668,
          9.903511429578773,
          9.908044440496496,
          10.033289970638199,
          9.98477367771056,
          10.126523689011506,
          9.906405911649538,
          9.867821951106201,
          9.886774532803006,
          10.081318328267793,
          10.095536889294962,
          9.8772963429927,
          10.116244981179646,
          10.100438194667046,
          9.971513282847297,
          10.122154952948542,
          9.869232931634883,
          9.855142644722745,
          10.103014932214204,
          10.040863321852465,
          9.932501767362918,
          9.95181776749573,
          10.040629799016143,
          10.059252970305161,
          9.888014570031416,
          9.971846085798527,
          9.900705500025635,
          9.999185433708563,
          10.050828817813649,
          9.974808103235986,
          9.895770786122943,
          9.969651413481882,
          9.981551072036611,
          10.095267369063604,
          9.91383772334119,
          10.019805408742133,
          9.986761319305154,
          9.982966434061407,
          10.07084628028835,
          10.082928362318706,
          9.864262073498233,
          9.953140011812028,
          10.025004981605482,
          10.04290845786201,
          9.915676659453391,
          10.87182426836392,
          11.081708803810775,
          10.892432738363937,
          10.917300433418825,
          10.941887885689932,
          10.883811188726966,
          10.87455272475245,
          10.995670827330377,
          11.047165795490747,
          11.000929544513525,
          11.141606727252478,
          11.148113907510247,
          11.144048004696515,
          11.119705909295243,
          11.146726802204183,
          10.886506108087751,
          10.974100588195116,
          11.127953207869663,
          11.139761606127676,
          10.973560977357495,
          11.07565149885686,
          10.936167158169825,
          11.134878092504545,
          10.869125973908709,
          11.138373030914142,
          11.068798571208937,
          11.121791978692466,
          10.917437467686408,
          11.05964029631638,
          11.084731133133108,
          10.97688579125043,
          11.032488963676059,
          11.005620093392913,
          10.850447858678985,
          10.956869535294842,
          10.854089821391668,
          11.038418546803884,
          11.095226920050548,
          10.937826652948159,
          11.018069578392836,
          10.99634944967926,
          11.064306838399087,
          11.046935364726233,
          10.974665897945556,
          11.020083974174144,
          11.129469424321814,
          11.087039514982395,
          11.110326087466149,
          11.032797113344786,
          10.954919771172111,
          11.018118182230092,
          11.011927687611884,
          10.951480677376832,
          11.014845159149473,
          11.131296350816092,
          11.042516554254602,
          10.85760693004403,
          10.94197734883167,
          11.01839735191119,
          10.872179799745348,
          10.865505555070047,
          10.88072004269217,
          10.912758643650747,
          10.938525123068212,
          11.104358521176481,
          11.075379466367528,
          11.069477531930595,
          11.03003434017525,
          10.910273684973502,
          10.937826664063572,
          10.96413163422291,
          10.892327116438803,
          10.954583297409396,
          10.873216318521852,
          11.068293439179865,
          11.03889535976479,
          11.042040562153574,
          11.055084361311199,
          10.979241133772714,
          11.029048039569977,
          11.055665452482344,
          11.068017168365783,
          11.021953958756313,
          10.903011945818061,
          11.017043527960196,
          10.904919326027697,
          11.063380879083523,
          10.986042249348028,
          11.03856733346957,
          11.129603648496383,
          11.099003997212215,
          11.12425485514427,
          11.06689856626302,
          11.029373384477545,
          10.97952084068538,
          11.070432906728144,
          11.009113578463168,
          10.981410518676764,
          11.021157774634679,
          10.924738430146393,
          10.997392629530749,
          11.021976833731706,
          10.882969885180994,
          11.086474578319608,
          11.062910508063396,
          10.99731428164389,
          11.078303358383856,
          10.92558885662033,
          11.136006589449071,
          11.051943191778708,
          11.070980305272336,
          10.885623563687828,
          11.130660426449003,
          11.125162769770238,
          11.119008877879473,
          10.879268089225931,
          11.071597824401035,
          10.874334288343883,
          11.097855603017486,
          10.875926142021388,
          10.958596900645558,
          11.094975362447375,
          11.124379148533295,
          10.988974449181715,
          11.045048639611071,
          10.928577214161296,
          11.123551706711472,
          10.992576403702405,
          11.06253186169565,
          10.965442089424865,
          11.03056648019114,
          10.956428498003152,
          10.899138619677064,
          11.147805843313751,
          10.98606473587796,
          11.097788903096797,
          11.039435674698286,
          11.100076941831105,
          11.014565587177135,
          11.028911820397578,
          11.106737687129158,
          11.04914923288758,
          11.106535749162651,
          10.877315413363448,
          11.082927148739646,
          11.129360340249937,
          10.93112748901572,
          10.913610117990736,
          10.952913517522122,
          10.93876788579099,
          11.136608377951012,
          10.943279885447902,
          10.91587517616106,
          11.092190374762172,
          10.974782102643243,
          10.971923411232085,
          10.88417388801939,
          10.973514029116316,
          11.016821928346038,
          11.042939494203189,
          11.122408891123307,
          11.091651702266159,
          10.86534112819051,
          10.899342283561928,
          11.064500371062541,
          10.986095594171157,
          10.988948569382753,
          11.031290249205497,
          11.025480963543917,
          10.981389575124684,
          10.935462309743121,
          10.978912049450305,
          10.954031676998458,
          10.946045677907032,
          10.989513994874043,
          10.92085728747079,
          11.06352833439164,
          11.129199824914386,
          11.065772813616235,
          11.075573701621536,
          10.863844809469416,
          11.027845971942893,
          10.979947422191447,
          10.951662520864629,
          10.91526739611419,
          10.991927473453764,
          10.883201144011348,
          10.873682677007316,
          11.103133679417997,
          10.988755033289316,
          11.048939806971761,
          11.096544483062509,
          10.911277917933292,
          11.078026892542145,
          10.938055086722757,
          10.85644048026984,
          11.043149525055057,
          10.89364572823368,
          10.975413909280457,
          10.918430538976597,
          11.857782936640714,
          12.13253180230084,
          11.87953850933285,
          12.068783807006275,
          12.033053210786306,
          12.065738055702445,
          12.001415465495272,
          12.026858386222209,
          11.967859437066348,
          11.935667315370956,
          12.109260200830724,
          12.088264948149385,
          11.987539228699672,
          12.011973182296966,
          12.125422686843743,
          12.112592219924574,
          11.960005091814613,
          12.036075752104669,
          11.86647047401897,
          11.997147372103706,
          12.128826445377484,
          11.902848174311284,
          12.111399692291934,
          12.090328292976919,
          11.922333737478638,
          11.948419848991165,
          12.008268728109773,
          11.95317736704845,
          12.014016335645929,
          12.105361775535643,
          11.85523356575829,
          12.019174378021724,
          11.897732127535486,
          12.106418668816332,
          12.042061365496618,
          11.910348705920573,
          11.988528885504513,
          12.041704297552384,
          12.033239201144976,
          11.962009858785267,
          12.062058233009601,
          12.079854999758384,
          11.93518500041678,
          11.954893591494024,
          11.88422004377239,
          11.971811840664806,
          12.056755659003835,
          12.099616150327776,
          12.1088018670676,
          11.922176571966775,
          11.974733833674915,
          11.9790814012319,
          11.853379791986214,
          11.889762340145765,
          12.073336558175228,
          11.967474665212166,
          11.89565568691173,
          12.05575952022,
          12.143618140795521,
          12.136382883655953,
          11.897564432624458,
          11.976109011210236,
          12.020971933438425,
          11.894412803635486,
          11.950910933001166,
          11.940852683698958,
          11.985849532133917,
          11.959386792772987,
          11.90044720193959,
          12.028994368764144,
          11.964145917224364,
          11.874517899778848,
          12.081023491045212,
          11.918143607079262,
          12.043609962654683,
          11.984144411206346,
          12.024565427610437,
          12.028784373661255,
          11.958135088164699,
          12.042363254401991,
          11.992538641502676,
          11.951502267990412,
          11.908084936010312,
          12.080505533766484,
          11.997055995474916,
          11.989489216908296,
          12.035297249936304,
          11.958334162548972,
          12.057855284236934,
          12.129635430102539,
          12.0966974665503,
          12.07111116517918,
          11.920811312783318,
          12.116587115529207,
          12.04828536337908,
          12.038689887357089,
          12.07015749180639,
          11.949601070035433,
          11.873646442497739,
          11.992967522861482,
          11.976139867538212,
          11.903975808481484,
          12.068998696535552,
          11.891850950450285,
          11.917349528890178,
          12.118067204972455,
          11.9879562202956,
          11.959280402191618,
          11.906084939554969,
          12.08351341622521,
          12.146820153542343,
          12.031000713698326,
          11.897687416336737,
          11.933035484235944,
          12.065409381329681,
          11.982478359059128,
          11.985099145433193,
          12.065797750897465,
          11.912674765457583,
          11.93696822351607,
          11.875245231198479,
          12.139815381266018,
          12.131576662364166,
          11.989223251442706,
          12.013625445656626,
          11.869965206801526,
          12.01614486827118,
          12.096496868952018,
          11.976287371685927,
          11.953605578951207,
          11.914740194747724,
          11.9954306767246,
          11.900174816700765,
          11.966172782994681,
          11.864327641268035,
          11.940498164051693,
          12.028940228498586,
          12.010785812852701,
          12.040458079057592,
          11.870276655109299,
          11.959828745583463,
          12.01668773164941,
          12.066941364734069,
          11.945360690545824,
          11.893254593818892,
          12.116389897534384,
          12.006031032031553,
          11.944374526293496,
          11.984368007468555,
          11.90445716217905,
          12.12747874150127,
          12.127135807837778,
          12.088312143190542,
          12.125892637421666,
          12.091740655109104,
          12.098799447410011,
          12.066028596164013,
          11.98310408393703,
          11.911423252597267,
          11.997549694704073,
          12.072895774151968,
          12.027136316483272,
          12.045513559475456,
          11.946681069049367,
          11.936140659001321,
          12.09166268398268,
          12.12770310927445,
          11.910651804583077,
          11.88850423908801,
          12.05090995264845,
          12.041826549417326,
          12.065471530071049,
          12.011975635660043,
          12.103252957411316,
          12.089491552747996,
          12.099651157751786,
          11.992283700765222,
          11.962833287581132,
          11.86916780615649,
          11.887886038146908,
          12.119174255923376,
          12.042414226257057,
          11.866228813601232,
          11.86394080123631,
          12.047262775645397,
          11.938668107342982,
          11.94477059395263,
          12.123135722700248,
          12.054827792283628,
          11.958817934128913,
          12.055333712741387,
          11.882081567448399,
          11.918050061355048,
          11.954196547752538,
          12.036931764663501,
          11.95105689240477,
          11.877867998118093,
          11.947643433579627,
          12.058129377540059,
          11.916418386910992,
          12.085060352092656,
          12.080385558989686,
          12.096810580409874,
          12.04123235653981,
          12.123634336048156,
          12.036379558980887,
          12.04455169126007,
          12.018624226349464,
          12.138884528204219,
          12.095342885195624,
          12.088936004839423,
          12.085481630704882,
          12.0341383798496,
          11.991706145568239,
          11.966198772438727,
          12.098611607989648,
          11.999351236577224,
          12.095025055680665,
          11.85247670994014,
          12.125731537374316,
          12.063043216067927,
          12.031833710218569,
          12.067573733654793,
          11.940582369272734,
          12.145446541943945,
          12.057768676652135,
          12.025173204038834,
          12.044821634955376,
          11.993720079876852,
          12.103994739400662,
          11.852092753557923,
          12.01991537199603,
          12.118302061092432,
          11.922165388144688,
          11.901973636395319,
          12.0794205990089,
          12.104860387940066,
          12.145177424881199,
          12.036056160599053,
          12.065513336370277,
          12.137577726028917,
          12.031907351345053,
          11.86906241726276,
          12.101367574255933,
          12.137658851658387,
          11.967600476382406,
          12.043995858464601,
          12.027353024306123,
          12.068690292812919,
          12.071406815667302,
          11.938847849676797,
          12.095620404444134,
          12.135583030680348,
          12.11960163654876,
          11.908499774274423,
          12.106397466065957,
          12.011156715977446,
          11.949550525217761,
          11.874312527998569,
          12.060953591621736,
          11.881890320593385,
          12.135811844106248,
          12.036200727059434,
          12.135538387423827,
          11.991087495485448,
          11.911203245557484,
          12.10681226769316,
          12.077376199988047,
          11.877327460669225,
          11.966609414408714,
          12.130798246201865,
          11.891492222463643,
          12.062836615638066,
          11.948497952704646,
          11.95839360825197,
          12.147516400984017,
          12.047229709960527,
          11.85214953661749,
          12.015560884081127,
          12.12632307676212,
          11.934675203056477,
          11.922520474931284,
          12.11375221614901,
          11.89786364047107,
          11.878226463054428,
          12.069236376093642,
          11.932489155801655,
          12.029658062471336,
          11.98276067382535,
          11.979649926118014,
          11.984446460464609,
          11.898590241120017,
          11.993788246474189,
          12.018818416488058,
          12.110928993318412,
          12.116966358445799,
          11.95756153352676,
          12.124202449584674,
          11.941452429040886,
          12.097530331756907,
          12.144397810501866,
          11.8922813511112,
          12.13738454404556,
          11.931410543420496,
          11.887378960511262,
          11.990943205352242,
          11.994227110412375,
          12.111509100628727,
          11.914513472138726,
          12.109188555437592,
          12.081881151831226,
          11.952877415402368,
          12.105584980695902,
          12.049108011978609,
          12.074597641253058,
          12.927568150668398,
          13.009518998214341,
          13.014209830177775,
          13.031582024799867,
          13.128104311738827,
          13.057183595310315,
          12.961611199412783,
          12.860652680112285,
          13.024740603313631,
          12.98960799826631,
          13.033452841443207,
          13.073215675395051,
          12.882282171462435,
          13.129829799803804,
          12.899626800104286,
          13.06018447129893,
          13.06606795758142,
          12.929471764643159,
          13.021964565823053,
          13.073074031088089,
          12.951241188127693,
          13.061902093239956,
          13.0370222311866,
          12.959679252312474,
          12.942720649347688,
          13.103207655061556,
          13.042043576299447,
          13.083695992586263,
          12.855606148543886,
          12.889495909879697,
          13.135417451318386,
          13.126718523630647,
          12.968351776705907,
          12.919494736767732,
          13.139383844037146,
          12.986636770888449,
          13.001552655661454,
          13.07090250995215,
          12.96886862202729,
          12.924262904283083,
          12.950060774647573,
          13.042797188133555,
          12.994838123299303,
          13.082624406122795,
          12.896692485642523,
          13.099741980912187,
          13.140234118422182,
          13.044201797445522,
          13.021211979963427,
          12.932604023427489,
          13.087904213828715,
          12.893667192261981,
          12.937783300058141,
          12.928671235785743,
          12.945061324336736,
          12.948955564139743,
          13.024336203190252,
          13.038604622464259,
          12.898821893238514,
          13.024745019264136,
          13.061020854553899,
          13.050757392101694,
          12.996496124928422,
          12.939814011673272,
          13.048220772062365,
          12.92084740955958,
          13.085923997510399,
          12.9526944724609,
          12.906125648773797,
          12.988616149168852,
          13.026831619555104,
          13.035552903801785,
          13.139984647799858,
          12.868687572453405,
          13.06424367058214,
          13.12007953208794,
          12.854794618155466,
          12.999760471373753,
          12.899356797499728,
          13.091632602785829,
          13.050771592766711,
          13.020297008463597,
          12.8713574273861,
          12.989417315501637,
          12.96745193454377,
          12.989380781020243,
          13.144001493264035,
          13.130867153532238,
          12.955878310674414,
          13.089268813982233,
          12.920306157453261,
          12.92165612985144,
          12.953083850762333,
          12.88239818146054,
          12.91224341127636,
          12.890442559984239,
          13.007369709706047,
          12.887747102020521,
          13.125995461441079,
          13.091885084828865,
          13.123468846100065,
          13.054193243287944,
          12.947858635325654,
          12.887935225585805,
          12.913357372265025,
          13.103577693555005,
          12.90681542812425,
          12.862851787111953,
          13.04716613891613,
          13.039007897744026,
          13.014028111124723,
          13.131345242317943,
          13.114376927584638,
          13.110596831861555,
          13.06426084038892,
          13.044316945019371,
          13.077028994608044,
          13.111537770450413,
          13.075633988039371,
          13.037586752255434,
          12.926601594121285,
          12.95536344756482,
          13.032764885895721,
          12.92264841083193,
          12.90530450829478,
          12.852817987028407,
          12.989254831213591,
          13.104685081831992,
          13.141804354212244,
          12.9586774575726,
          12.999524825743086,
          12.888554569035906,
          12.961967378508263,
          12.984006814694437,
          13.023045545081663,
          12.881415318603217,
          12.89622863271501,
          12.917536621234824,
          12.884380657820884,
          13.057436250008983,
          12.857610293075409,
          13.124007941645104,
          13.10521470548525,
          12.94018271382986,
          13.12438495193364,
          13.000691471981801,
          13.04104515824556,
          13.100421022636136,
          12.968670500921746,
          13.001510914884978,
          12.87696282798665,
          13.062964761696756,
          13.142877304307834,
          12.910651835524662,
          12.946080533596598,
          13.030535905365564,
          13.126776244400121,
          13.104091645036984,
          13.063419154272097,
          12.856489309866527,
          12.891173924323622,
          12.917561999924628,
          13.06838250781642,
          13.048098550563772,
          12.901227234883082,
          12.992337066392947,
          13.145229306618932,
          13.135251168552914,
          13.070301845828133,
          13.04905652528136,
          13.141104570130887,
          13.14757814083109,
          12.977041610255206,
          12.98170663543443,
          13.05992299056461,
          12.982730916002234,
          12.892666338310411,
          12.903938342185588,
          12.928293395369478,
          12.95035511960581,
          12.93731475402893,
          12.929607467318087,
          12.982300247375532,
          12.861911699058298,
          13.113413297105577,
          12.99225038246499,
          13.03418135052172,
          12.994453830638374,
          12.881093139304276,
          12.924267824587092,
          12.95336461702145,
          13.116015722187758,
          13.080844656351717,
          13.120306875546875,
          13.095488641769256,
          12.85671841738139,
          12.954414231922877,
          12.85954722632112,
          12.875717148802384,
          12.961955631480956,
          13.0282476982872,
          13.036486836350404,
          12.870787248630785,
          13.141206629660811,
          13.055323538598504,
          12.991725792110604,
          13.015463929045561,
          12.998316940670277,
          13.03653841305494,
          13.076196126251272,
          13.04132716009506,
          13.034692016991974,
          13.086937895042404,
          13.02202090243348,
          12.85753339036711,
          12.950553300497269,
          12.954689117200202,
          12.921655323557045,
          13.134163604593006,
          13.086566693149189,
          12.85178702532597,
          12.936408845814617,
          12.999062954118648,
          13.148783815147189,
          13.040568715118141,
          12.857860593476628,
          13.08279568127319,
          13.125105037496345,
          13.124979338681232,
          13.107289933425626,
          13.019818737930317,
          13.05905866883612,
          13.082744668808804,
          13.006208717986,
          12.925687311411833,
          12.932445704658395,
          13.073853136245118,
          12.852231245059704,
          12.945536494996862,
          13.045250479011234,
          12.938394330431985,
          13.132795977888078,
          13.135054994375023,
          13.129923116918736,
          13.087430109162257,
          13.086552969092855,
          12.86127865326126,
          13.0504213927224,
          13.029825360080865,
          13.131979164314794,
          12.917367864175556,
          12.901675334306686,
          13.033942479806242,
          12.953664975439876,
          13.134623352432811,
          13.036359330639847,
          13.115954888957278,
          12.892435486938314,
          13.14792985048913,
          13.101882544514778,
          12.884351061035872,
          12.8697981697962,
          12.921573466879286,
          13.060659583460165,
          13.063788297026026,
          13.11262222469796,
          13.086973997082518,
          12.87511681303131,
          12.892994711541643,
          13.024107958794609,
          12.936434733759672,
          13.083193878245977,
          12.957944909876865,
          12.98269002442761,
          13.054888749454706,
          13.112293180535588,
          13.127289085738086,
          12.851343387584773,
          13.115287517769357,
          12.984897006980848,
          12.883802818168384,
          13.027683407177069,
          13.036187269586488,
          12.90019962260439,
          13.106763920120857,
          12.930708012193298,
          12.897054978247494,
          12.951229657859095,
          13.087128700953189,
          13.004833583264427,
          13.024308502474621,
          12.919357199433092,
          12.961240207705918,
          13.147931561736227,
          13.091065350523063,
          12.888879130706535,
          13.038094185409406,
          12.889700763727861,
          13.050152419841464,
          13.1260785039077,
          13.080480820204375,
          12.945686560028284,
          13.027466961599057,
          12.870983342290204,
          12.970604049583905,
          13.059910174985466,
          13.086085620283395,
          14.014469392597453,
          14.025001706489322,
          14.048829098122608,
          14.119890085007837,
          13.947003912354857,
          14.103569004402711,
          13.931577943663639,
          13.876781579599122,
          13.93538613234805,
          13.880917022327933,
          14.065508443342138,
          14.1039443364765,
          14.115788976627318,
          14.086157363656131,
          13.96553112311579,
          14.10013091411919,
          14.047312104964666,
          14.129608508958574,
          14.114585812422323,
          15.095845732957834,
          14.929203354773392,
          14.888171136779984,
          15.010529537891744,
          15.084252293227545,
          15.063580365501876,
          15.024951890608712,
          14.93829263623595,
          15.091610433439216,
          15.085846176740061,
          14.98213148770746,
          14.965011387747756,
          14.966034593016909,
          15.063605199990619,
          14.928076484661284,
          15.023004150226008,
          15.133344634231829,
          14.892571722566366,
          15.027216152610876,
          14.941751828757875,
          14.929221292531837,
          14.905685337830883,
          14.852831682291614,
          14.917139216197173,
          15.1477148427065,
          14.916241235633482,
          15.088708737408318,
          15.11364517663613,
          15.059385369405947,
          15.10376280413793,
          14.926144924547833,
          14.973940341073353,
          15.12634956773795,
          14.889755668786147,
          14.951515801354674,
          14.877018067080197,
          15.141806827840007,
          14.968482051786133,
          15.142748049030821,
          14.88168356028495,
          15.097688467021822,
          15.125575363488563,
          15.007469215327076,
          15.129859350711273,
          15.086978006505703,
          14.981578317988571,
          14.994335947619806,
          15.030202656353847,
          15.059654723018296,
          14.955472847503977,
          14.888996958480787,
          15.049152722254119,
          14.995326400594681,
          14.879447461628436,
          14.855075227951017,
          14.920753082182168,
          15.095414214853152,
          15.114806722825262,
          14.861151901866123,
          14.996972419748994,
          15.111691081752936,
          14.994214046034804,
          14.854427518372512,
          14.970179883057535,
          15.002727948991,
          14.89924678225019,
          14.95829180877768,
          15.072520616829223,
          15.13077069722835,
          14.925308857108783,
          14.854128634575005,
          14.958145718156793,
          14.90616149073529,
          14.878327371118834,
          14.952119441323495,
          15.10089566599604,
          14.943022810805891,
          15.11057999221935,
          14.933234910136662,
          15.02807375611864,
          15.019646434983663,
          14.961192593236152,
          15.071412754270188,
          15.059901183424456,
          14.923609172691277,
          15.099090895172372,
          14.88056229831787,
          15.114411432063799,
          14.923905644136504,
          15.084553815029576,
          14.938326066714424,
          14.993508522662314,
          15.062388738515981,
          14.964126295785146,
          14.882199391620638,
          15.08561167910627,
          14.97805024330355,
          15.124187004153585,
          14.853597793697483,
          14.903323788541966,
          14.942996198994916,
          14.959494706574246,
          14.855084019662062,
          14.97888225412958,
          15.024352420092336,
          15.047871905818251,
          15.075195270057105,
          15.087977822827156,
          15.149055991545548,
          14.966854091599995,
          15.104688406061427,
          14.985251647705065,
          14.86460079328775,
          15.042120173025824,
          16.135034569776284,
          16.122250129562584,
          15.973120282595794,
          16.053408335208573,
          16.041488285452104,
          15.933316402779893,
          16.001682913753065,
          15.85691542019313,
          16.114562949209922,
          16.10795292833564,
          15.916198184865301,
          15.853796041039839,
          16.0148652374728,
          16.110326623335,
          15.877413207689223,
          16.05825555200755,
          15.937576772482354,
          16.013086756789534,
          16.12341061269581,
          16.0568015826603,
          15.955059783311341,
          16.10634442413841,
          15.93558819357313,
          16.123852164020853,
          15.86032132135795,
          15.961385441223905,
          16.05730438956985,
          16.043753221721644,
          16.00606629408109,
          15.904901681594355,
          16.02163984466487,
          16.107492541715512,
          16.020696302484467,
          15.930076756789667,
          16.057075233607428,
          15.96506759319205,
          16.127996540237913,
          15.992959441361911,
          16.08007502611212,
          16.0582196783571,
          15.99272410422761,
          16.015726324785565,
          16.054843785094697,
          15.872716716701303,
          15.98746965337098,
          15.911763169063901,
          16.076304109619464,
          15.925170021261781,
          16.029772319398145,
          15.924839947446195,
          15.964387559153561,
          15.9248360861201,
          16.133267744653857,
          15.862322506464844,
          16.047659323936617,
          16.101644888811425,
          15.87454813390686,
          16.113662890897693,
          15.929997161012691,
          15.942802509785157,
          15.99754823850573,
          15.889603078427193,
          16.02128200648134,
          15.877738414372644,
          15.92657865007229,
          15.966849156137018,
          15.975829979720352,
          15.98744840380435,
          15.928247503154868,
          16.076954024869025,
          15.870106989082597,
          16.03159622716576,
          16.130010800360196,
          16.01946584101192,
          15.931075693825939,
          15.85006682475672,
          16.046338927688534,
          16.057790593441347,
          16.024741075567576,
          15.94770344068208,
          15.971671023881846,
          16.051796059634167,
          15.961266232180714,
          16.014014322996186,
          15.949580638664429,
          16.07157610347855,
          16.04619516663181,
          15.88618603636696,
          16.046727689253974,
          16.119921992879192,
          15.92880250373408,
          16.096544263088706,
          16.14450624411691,
          16.081121694859824,
          15.926401997995972,
          16.02191045513759,
          15.85322694107269,
          15.929394111314517,
          15.98499934307953,
          15.981691250599322,
          16.11260977725458,
          16.025523582685608,
          16.13347488351767,
          15.913412073136547,
          16.01363940898325,
          16.88144142230135,
          17.040451303934738,
          16.947662411097248,
          17.125137381560183,
          17.123718799399132,
          17.033592322429207,
          16.95073938382303,
          16.859590520461815,
          16.856436526950016,
          17.012658563792183,
          16.97492606016646,
          16.875155734765325,
          16.854149653172247,
          16.902806314090977,
          16.860689124815252,
          16.945873711904508,
          16.873277353634915,
          16.99605352417882,
          16.99142015325483,
          16.9010834735442,
          16.95548814356957,
          17.072200635365615,
          16.887436186005527,
          16.995298130831955,
          17.080120406996745,
          17.14718598171809,
          16.930705586239394,
          17.057792254814153,
          16.961811110289467,
          16.973556231074035,
          17.01939346393142,
          17.121717766107242,
          16.87259457302675,
          16.894533226123098,
          16.972975047135378,
          17.144828785603924,
          16.943270003662896,
          17.140707493965735,
          16.85481874387258,
          16.93566511990313,
          17.014385352076225,
          16.965547121103754,
          16.955136594444717,
          16.97424888306997,
          17.063317925837598,
          16.868137989034405,
          17.031997032679623,
          16.976068230170647,
          17.14676434232901,
          16.892014267110262,
          17.027064347550088,
          16.862012424369688,
          16.85157995285012,
          17.102803139360297,
          17.0637568408477,
          17.125675962887627,
          17.14525570600864,
          17.039215271707302,
          16.9035871860992,
          17.010445229165658,
          16.935993370479103,
          17.11309268421008,
          17.017856535665736,
          16.96422846251297,
          17.047407811042447,
          16.85311915894355,
          16.98356102638392,
          16.941211600594606,
          17.148323382249867,
          17.01261313758775,
          17.042162191210746,
          16.874865462794396,
          17.14854425063645,
          17.148979006159152,
          16.957883511860576,
          16.972914567349424,
          16.945053230693052,
          17.12199524032821,
          16.884681215516462,
          16.98737725273679,
          16.927435515594606,
          16.896911010966818,
          17.073659694517193,
          16.962405770460467,
          16.884797453247455,
          16.928288968484583,
          16.876532709862424,
          16.866793605519696,
          16.98446245061436,
          16.939588810545448,
          17.133873984018752,
          16.95561898068941,
          16.899378847840886,
          16.854098713251844,
          16.909528798844704,
          16.92657995582333,
          16.973499152846696,
          17.02813552054999,
          17.107104997100542,
          17.062238967746964,
          17.13694575627999,
          17.036353901408308,
          16.955045424098174,
          16.88737142023064,
          17.049288282833388,
          16.873926334755623,
          16.963384371456172,
          17.074328026902165,
          17.02802774977111,
          17.10999255124631,
          16.908343857185926,
          17.007134660793138,
          16.958178789263194,
          16.90547296041149,
          16.938514201377583,
          16.87840385001783,
          16.93380961070745,
          16.935336415387948,
          16.959750750034367,
          17.098588298355732,
          16.934477696530102,
          17.135422760805106,
          17.057877436600712,
          16.904856465776508,
          17.038520101613162,
          16.99936749982519,
          16.880923836004154,
          16.891827669962254,
          17.14157577168415,
          16.943929173366932,
          17.131351552981812,
          16.87933560156013,
          16.904608277374958,
          17.004179671753526,
          17.054548578757053,
          17.129273189534633,
          17.11273502224712,
          17.092662541306932,
          17.061945804883525,
          16.86880705401844,
          17.022455684149218,
          16.913563857257014,
          16.90863259167742,
          16.982412828715642,
          17.073422615140668,
          16.934691226234474,
          16.88253146743119,
          17.04940238830946,
          17.018930719003468,
          16.955791449289897,
          17.09325232734501,
          16.90224054987284,
          16.93940804912065,
          17.128044558694068,
          16.852200627219755,
          16.907268667328474,
          16.98602250946745,
          16.89030405567933,
          17.096665890572783,
          17.092655703745834,
          16.971605890957992,
          16.92065457233236,
          16.870852179430756,
          16.90055255186487,
          17.128543180203046,
          16.951868271581713,
          17.07542671911907,
          17.024105911383707,
          16.995207660971744,
          16.949212224736627,
          16.974251007529148,
          16.990212829816883,
          17.072194910616545,
          17.1459959809831,
          17.026256813988617,
          17.083481685574373,
          16.93843373934446,
          16.9774536312984,
          17.088728895160557,
          16.941775278620888,
          16.888375550305028,
          17.131411734068113,
          17.116278434049853,
          16.970934096742404,
          16.952727706845845,
          17.11659387419838,
          16.873742657000207,
          17.027489143113662,
          17.03868656647265,
          16.948368823510663,
          17.074227549372278,
          16.888727725787522,
          17.11682849158089,
          16.93376576985377,
          17.1215096443172,
          16.873380947791453,
          17.053534034533442,
          17.054111860535045,
          16.870601722790436,
          16.976451447200308,
          16.99344119796491,
          17.05319977016561,
          17.026078480134053,
          17.02326127690895,
          16.97291051727409,
          16.903532081350523,
          17.139416813674266,
          17.113548076790913,
          17.123036994868986,
          16.913105106089905,
          16.99526232695338,
          17.13972700259643,
          16.986642920541453,
          16.88970335697496,
          16.959359184544084,
          17.080965744808104,
          17.121213671236006,
          16.90682623732432,
          16.864604780935878,
          17.051463615584836,
          16.967169782100456,
          16.87592838289747,
          16.978130893826396,
          17.107278838098964,
          16.907472767166674,
          17.125447209364015,
          17.06545586380668,
          16.913096966899378,
          17.102715431709825,
          17.101108516925276,
          16.98548686335066,
          17.101051179777638,
          17.07486747496489,
          16.94860244790818,
          16.999626199780483,
          17.0351193458006,
          16.94411335123337,
          17.02419321857608,
          17.02472048024913,
          17.106347719725388,
          16.94356627866178,
          17.09897305629567,
          17.113416014053072,
          17.052581181805305,
          17.03475990987712,
          16.959697360601012,
          16.963514034698328,
          16.86627435405354,
          16.981112408067876,
          18.006862629433112,
          17.96418544754249,
          18.123329234089443,
          17.947572369522145,
          17.93312760307402,
          17.980405306423485,
          17.876171631963288,
          17.90658290416039,
          18.064571341709012,
          18.119623928597886,
          18.003368294769913,
          17.942813615017943,
          17.86528392414412,
          18.008442334734404,
          17.93310383304869,
          17.986615262462884,
          18.049974399935437,
          18.10831226233772,
          17.883364805310826,
          18.03285618087009,
          17.90352428724364,
          18.074510799243644,
          17.96517847857189,
          18.05587431813683,
          17.95290187618243,
          18.053430724639306,
          17.985440164632106,
          17.985334431188093,
          17.910346306836693,
          17.898478072105025,
          17.870325151911988,
          18.055860908351185,
          18.03758841252612,
          17.87408827215672,
          18.127333072162802,
          18.0904540221669,
          18.07120648395931,
          18.005728511968574,
          18.14002723110361,
          18.0958055776255,
          18.136852297324058,
          17.935241755249685,
          17.910575478461666,
          17.962764606412573,
          17.999649688638105,
          18.12938937666988,
          18.101477519301866,
          18.043892335002266,
          17.881868802176868,
          17.88144195892425,
          18.071828683130207,
          18.040636230304074,
          17.866489488130128,
          18.091578663874497,
          17.932352170675642,
          17.89140123561063,
          18.148104126738737,
          17.99238832301094,
          18.146094760810794,
          17.953996555520607,
          18.08416816808917,
          18.112041136370788,
          17.988439649175813,
          18.071010650259694,
          17.938484794276082,
          18.1398286301622,
          17.97457137146271,
          17.878456786781733,
          18.012757977544112,
          17.85957049122342,
          18.065883462443132,
          17.939498127161794,
          17.9976698267182,
          17.91063641728328,
          18.07739741247072,
          17.965662440232503,
          17.901086428090192,
          18.133367532155862,
          18.080329107933455,
          18.131245556620556,
          18.095263496945034,
          17.86554711505629,
          17.925486152951656,
          17.90212816772217,
          17.86144900505474,
          17.871343052126203,
          18.106694711404984,
          18.00745442673246,
          17.87131690921646,
          17.977292285498116,
          17.970960905496277,
          17.986892197144357,
          18.088927616462254,
          17.93024735853037,
          18.098913332237704,
          18.098284228399297,
          17.89076584756186,
          18.12319576066844,
          17.990866998543716,
          18.02720315614659,
          17.93477098095902,
          17.987792374792942,
          17.89260332693852,
          17.996030615245154,
          18.052659880820023,
          18.111046610816167,
          18.045184981846543,
          17.854092226412284,
          18.109321231095745,
          17.85998144464031,
          18.03668473670011,
          17.966152210750412,
          18.069965143367764,
          18.053164616254765,
          17.901660351111857,
          18.003104153435014,
          17.945103517897262,
          18.11266157780411,
          17.925412860953244,
          17.930086256613613,
          17.948488708709398,
          17.99129415478328,
          17.94562535087037,
          17.851347065008873,
          18.11961458421605,
          17.86537987659015,
          17.950690624796028,
          17.91967671709765,
          18.076856314061256,
          18.08394680708977,
          18.005022896564093,
          18.022496121830855,
          17.954055815376215,
          18.03730767934422,
          17.890910767226217,
          17.90763763405064,
          18.02920951000503,
          18.004834254645008,
          18.125014319498693,
          18.12047917779119,
          18.08610744173869,
          18.148525765734483,
          18.00782560202016,
          17.909992216273995,
          17.96752988392801,
          18.02509370087172,
          17.984885896624828,
          18.082294940850076,
          18.025479903001823,
          18.033965745358408,
          18.127414559350143,
          17.95786368643935,
          18.029554065645023,
          17.996731898256023,
          17.99667120324685,
          18.128565527838955,
          18.1066958447823,
          17.96594293534044,
          18.00331547598056,
          18.039880961414543,
          17.98188412490632,
          18.057123676058506,
          18.002937356797975,
          18.03874989646864,
          18.004341801981454,
          17.897471526191303,
          17.93087090222382,
          18.024563651980586,
          18.082159429820912,
          17.906448046190448,
          17.953373715195962,
          17.926442486873714,
          18.134709735171413,
          17.890611022868338,
          17.858992220628025,
          18.025785553464285,
          18.11177146756735,
          17.882633997792976,
          18.149486846200844,
          18.10090717808336,
          18.060109922576924,
          17.860557695371533,
          17.850625269709,
          17.87974528177022,
          17.880948239450944,
          18.025691641867258,
          18.137612293730616,
          18.023438733897198,
          18.107814801349768,
          17.908604249567066,
          18.083490100283008,
          17.98316138234818,
          17.964053317343662,
          17.961192217240363,
          17.97444054995878,
          17.889762124051693,
          17.96350648308775,
          18.00166103730142,
          17.866494210880496,
          18.058661554471374,
          18.093664762559055,
          18.098635048874563,
          18.04903174421985,
          18.079300088729415,
          18.02732410184547,
          18.09455286105095,
          18.012766937598506,
          17.967559657779635,
          18.085871049061033,
          17.930720076370584,
          18.935463256059492,
          19.045289849761286,
          19.10933251349261,
          19.139997587691578,
          19.016031925688395,
          18.93782113773116,
          18.8685404880486,
          19.109848950910106,
          19.11644409722541,
          19.135783997682122,
          19.132405829033708,
          19.094295730826634,
          19.14016781748971,
          19.14601447387509,
          19.030047855928395,
          18.899912643463608,
          18.934019249111145,
          18.872654312656767,
          19.058626690934904,
          19.128095954579567,
          19.090653938101923,
          19.137964002553574,
          19.108432702332905,
          18.92865208196212,
          19.10282261401107,
          19.113372914519402,
          19.091636229072588,
          18.884873178184453,
          19.00603900333994,
          18.974645226209343,
          18.935905994636283,
          18.87240974936321,
          18.914885628023125,
          18.988722402600217,
          18.928791351136923,
          18.98052600798685,
          18.963174084443196,
          18.90768866306881,
          19.080476843959016,
          18.95329127941875,
          18.991695849752787,
          18.898598093658777,
          19.04803254827787,
          19.099305044798257,
          18.98321238535176,
          19.054759281208305,
          18.98789829974901,
          18.990021080288773,
          18.868615619355293,
          19.081614425162243,
          18.965740699464163,
          19.126565364982252,
          19.00384621173171,
          18.963831928592384,
          18.86533256848663,
          18.92322624933863,
          18.899145670317644,
          18.895220271879978,
          19.051195358545446,
          19.140294110702417,
          18.88249330327787,
          18.949605904213673,
          18.979827891173866,
          19.02496962456499,
          19.13154895740911,
          19.140310521831836,
          18.993237024621653,
          18.964083237615025,
          19.019692121351362,
          19.088328338660816,
          18.90158724236822,
          18.919692451718678,
          19.04721203116236,
          18.921104639312322,
          19.146567434870562,
          19.13496228568116,
          18.982423595919766,
          18.99760553758643,
          19.097462448183496,
          19.07866002861152,
          19.08321334281645,
          19.002145418451004,
          19.07754663821981,
          18.88574742307433,
          18.902097269519768,
          19.02450085191082,
          19.01169332127664,
          18.912865356641262,
          18.958478615530577,
          18.88834210782321,
          18.911441001206896,
          19.057868158193454,
          19.04350363472785,
          19.105436326717896,
          19.143576165747493,
          18.98103787690558,
          18.975232138451965,
          18.953927001334012,
          18.85546455379677,
          19.02824865734732,
          18.874007247808553,
          19.056435619363537,
          18.86664550268906,
          18.917247452711976,
          18.99475028646567,
          18.872969318512588,
          18.908206260277105,
          18.876255533489854,
          18.91564427293692,
          19.05780017616039,
          19.009857100654656,
          18.89905192455151,
          19.002412396827857,
          19.007120162005126,
          19.031836380100934,
          19.109827116832758,
          19.10368741514655,
          18.878057681358584,
          18.865370873715985,
          18.88111753270463,
          19.026174972563304,
          19.008825516451704,
          19.05871196652561,
          18.88401475245339,
          19.132524601453916,
          18.864003656562463,
          18.911737298999824,
          19.047410880587947,
          18.927356143558647,
          19.112429048919047,
          19.03351071299061,
          19.040919988702367,
          18.859017916366163,
          19.00506150246433,
          19.125727310488255,
          19.12915524155782,
          19.102795304260205,
          19.082628566652623,
          18.953069358508586,
          19.052213555692887,
          19.10255933118627,
          18.945261059727844,
          19.039993875477006,
          19.031462995873767,
          19.05067548089647,
          19.01557676705095,
          18.991279038643146,
          18.960833718091045,
          18.90134100482884,
          19.11569628559644,
          18.87747655365483,
          18.896295334417875,
          18.952183204652112,
          18.931904034389266,
          18.861473356614148,
          18.979132686315516,
          19.049294161886735,
          18.881366975854537,
          18.900277817497816,
          18.950277516411106,
          18.96795259404281,
          18.9293341085878,
          18.900779937181195,
          19.022085838161512,
          19.120183045917557,
          18.934112772794528,
          19.01525654961955,
          18.927912445896357,
          18.854597444324344,
          18.94259364151037,
          18.921983627184165,
          19.126097638184167,
          18.85890222111549,
          19.1173138115136,
          19.921021324432665,
          20.118783282641147,
          20.02465372016518,
          19.874302912041987,
          19.898722961918104,
          20.039590003251686,
          20.074427220880473,
          19.96671024001506,
          19.978407823323284,
          20.020223682976784,
          20.080814631208668,
          19.88935712825887,
          20.13745958638384,
          20.085859062047685,
          19.978809780100093,
          19.918057616471643,
          20.053696852465066,
          20.14246398848329,
          20.06662826658303,
          19.94954530796368,
          20.04429927238118,
          19.93209771469659,
          19.88227869429465,
          20.133667506627884,
          19.98455136527615,
          19.99493946192106,
          19.90229367184905,
          19.94401104861834,
          19.958425148005244,
          20.051006590648008,
          19.856193860489892,
          19.950243939100517,
          20.099449488424753,
          20.077683232767225,
          19.894183514572564,
          20.08677136164802,
          19.872378824778874,
          19.997824022350656,
          19.895189661497653,
          20.106098511674308,
          20.012329309118503,
          20.058755591106156,
          20.118839611259908,
          19.933816230475387,
          20.030081956670855,
          19.903966395015324,
          19.869542587488773,
          19.85884562172677,
          20.076397637650803,
          19.956468350440147,
          19.9784499071269,
          19.884294581583354,
          20.00391932465827,
          20.11325374485375,
          19.97596102007986,
          19.888669935736853,
          19.87004476052354,
          19.92128544624739,
          20.08601768884323,
          20.11227804602375,
          19.868253010522448,
          19.928817703823,
          20.138122656493646,
          19.864625603870838,
          19.862249722278502,
          19.91533150841255,
          19.885823730792854,
          19.94812408969615,
          20.061018150674965,
          20.099819913350387,
          20.099640417425636,
          20.042282389778215,
          20.083648969136686,
          19.942190000330964,
          20.117996925866812,
          20.04318969521466,
          19.879866463874862,
          19.92428101142322,
          20.125203227695867,
          20.088053162148274,
          20.068527749694294,
          19.860153745790093,
          19.998773251873743,
          19.895466786834813,
          20.141330106011562,
          19.862781675672693,
          19.97621214406242,
          20.138660345815328,
          20.131134794496027,
          19.97023257300186,
          19.963797662546966,
          19.8821941691119,
          20.07939724788105,
          19.94079432232262,
          20.001901722071885,
          20.07536658455799,
          20.12192854004074,
          20.032486658048565,
          20.130049220863704,
          20.047682861954268,
          19.929798895850297,
          19.956727089188906,
          20.065336027789012,
          19.99552678912506,
          20.06152270925334,
          20.014361985303932,
          19.925860325284045,
          19.958819214125157,
          19.866312881938295,
          19.88643259666311,
          19.919483136064894,
          19.924331906962337,
          20.092342981816437,
          20.090494337464257,
          19.9532587291199,
          20.01937122593604,
          20.067029565746385,
          20.128803456795588,
          19.929165788779294,
          19.865156161072417,
          19.910437121809174,
          20.070027589576338,
          19.974967165720848,
          19.989737802503093,
          19.87177834575742,
          19.900747565852864,
          19.904953579298187,
          19.86485088814687,
          19.89209902845806,
          20.061903556861818,
          19.986419410788088,
          19.851136990971455,
          20.121086858807118,
          20.060705042628953,
          20.107225441530122,
          19.96498280746559,
          20.009404066961263,
          19.918928402998485,
          20.026420156116686,
          19.943736165412247,
          19.975618231427646,
          20.144827420303315,
          20.016320080422986,
          19.90252177956297,
          20.01242857710308,
          20.096424847499907,
          20.022143831708597,
          19.92120601897904,
          20.035903646854145,
          19.927594561148908,
          20.107801826158727,
          20.001546353497414,
          19.938187853579407,
          20.066808949777606,
          19.98550949336461,
          19.995606268269913,
          20.027833054558513,
          20.04872664549742,
          20.078596066922316,
          19.942045419810018,
          20.134984795581136,
          20.0247433690015,
          19.978571463836502,
          20.004736308571676,
          20.034951352278974,
          19.931496710857516,
          19.906416135346813,
          19.859145028243326,
          20.10013685182094,
          19.99288448722597,
          20.034480505290194,
          19.998144008892456,
          19.888497106559402,
          20.017080277438055,
          19.85141810032127,
          20.089181506812515,
          20.064847193766635,
          19.98840472101921,
          20.008004212005538,
          20.023857732172186,
          20.05684314972512,
          19.86803217740782,
          19.901413509428306,
          20.131850400955667,
          19.959705242876574,
          19.940733771234246,
          20.057071256128108,
          19.8928506906845,
          20.02459079798914,
          19.91522557944702,
          19.895416590362302,
          19.979347104747156,
          20.85899852752009,
          21.036010507676778,
          21.09944342788544,
          20.866337175320734,
          20.936061614935852,
          20.982500859683597,
          21.003540595356565,
          21.018481702156574,
          20.95476735975687,
          21.06306392410213,
          21.10791122975343,
          21.142714165021623,
          21.064010706522115,
          20.976513093956427,
          20.858482124088635,
          20.89559643030919,
          20.883862359197387,
          20.994054138745117,
          21.068968977308348,
          20.97469034327444,
          20.893393843534657,
          20.86216979169422,
          21.079106883205416,
          20.983486322065374,
          20.933191664765367,
          21.022569565124567,
          20.97230291838425,
          20.896982625975195,
          20.950139804594333,
          21.13006052688551,
          21.084072072575037,
          21.01438688053327,
          21.04957838041441,
          21.055402894794856,
          20.953136434008858,
          20.852685253294602,
          21.083526496291285,
          20.85688060003544,
          21.030056810679273,
          21.087299988396623,
          21.080757284300464,
          20.887769903141514,
          20.863807398247943,
          20.985265467589272,
          20.85190252047147,
          20.85484551126465,
          21.041950047672827
         ],
         "xaxis": "x",
         "y": [
          -3.984355202258952,
          -5.016862638707643,
          -5.985389946463257,
          -4.000527961957319,
          -5.006287909316855,
          -4.030658111408734,
          -5.017151179614977,
          -3.9980156390294606,
          -4.016021094442208,
          -5.031205701785117,
          -4.022880285209595,
          -3.9912965781832033,
          -5.02158986332564,
          -4.03144912633278,
          -3.992153745413493,
          -3.9988597345077728,
          -3.993373978498055,
          -5.049470200060829,
          -6.023530894642435,
          -6.958063045777995,
          -5.957359544604266,
          -6.976911227134049,
          -7.0296951732968225,
          -3.96655810423748,
          -2.032890325519187,
          -3.974919558225876,
          -6.96414336735434,
          -6.0467171956811425,
          -5.9557923105755375,
          -6.022828746192359,
          -7.030778538232405,
          -6.950745486363307,
          -4.042748778091658,
          -3.031038418929199,
          -1.9713727588049663,
          -3.9615167909264084,
          -3.0464418963875626,
          -2.951466384726922,
          -3.955741752989433,
          -5.042189725066689,
          -5.03119607330717,
          -4.042820380252021,
          -4.990477191516424,
          -4.971829743084864,
          -3.990527131050909,
          -5.021185458660039,
          -7.030046321517293,
          -7.004827733028321,
          -6.958261118093178,
          -6.954517402725636,
          -6.991564771476659,
          -6.958401792804492,
          -6.971803465223901,
          -6.967220788593328,
          -5.979287324908678,
          -6.979493305967688,
          -6.988016513386185,
          -6.976815382209826,
          -4.95595397635438,
          -3.0433606101036883,
          -3.0083666779748497,
          -3.0229592752968086,
          -2.9937551263083444,
          -5.966760846564668,
          -3.9611820559909874,
          1.9846382142436276,
          0.9718217360087592,
          -0.04381931504742653,
          -5.03743248627972,
          -2.0256142218271647,
          -4.9909168249280444,
          -3.001487039023159,
          -2.972554807663519,
          0.021462318427120014,
          -5.960155324958505,
          -5.045377817168549,
          -3.0480715585507756,
          -2.047214892758537,
          -2.0366550230034743,
          -1.9710173156014985,
          0.04434980273363591,
          -0.034645778838262156,
          0.022090921478247344,
          -0.002026980381536439,
          -0.01098529543593827,
          -1.9601217935414579,
          0.01698145783690537,
          -0.049795985661898315,
          -0.013229430279441588,
          0.0022221052361495047,
          0.01220182708954648,
          0.037019110579868536,
          -0.0022577713011743272,
          -0.010451977953875632,
          -0.041463810990420916,
          0.02941715810760405,
          0.006382152511394103,
          0.007967130062257445,
          -2.0160166941844255,
          0.03242587383790985,
          -1.9724405695289273,
          -2.9884165078791347,
          -0.9690575320499231,
          -0.9996451125974781,
          0.016953761101054843,
          -1.989310383081458,
          -1.984074030796423,
          -0.957285499003505,
          -1.0163492620909258,
          -2.0370214002272937,
          -2.0243353145301812,
          -2.0148573432189045,
          -1.9813448528121007,
          -1.9676204969015125,
          -1.9730291822287798,
          -2.0035060694061615,
          -0.9767246945392905,
          -0.9573870756663677,
          -0.9527135209287667,
          -2.020579204468795,
          -2.00058089215412,
          -2.029774075694034,
          -1.9934672408078962,
          -1.0317574941496086,
          -3.024681817459438,
          -1.029559112444454,
          -0.03553203945525368,
          -0.9537128342233303,
          0.02745983143248215,
          0.04090980936950292,
          -1.0303294160539929,
          -2.01524754862232,
          -1.9863055520231556,
          -0.9820354619298206,
          -0.9559644580774997,
          -1.0312338603590723,
          -2.035199324054616,
          -2.017580338175344,
          -2.0402762705234383,
          -1.9967217380431372,
          -1.0417948199808498,
          -1.9965365084333961,
          -1.997201251464846,
          -1.9883376277281788,
          -1.9578277825301582,
          -0.9574833313086853,
          0.03992889424828219,
          -0.9754915396793894,
          -0.9586340154422697,
          -0.9925940488436318,
          -0.006839079136262083,
          -1.0067310076886409,
          -3.0046037591640045,
          -0.9921934039350083,
          -0.9979482037286872,
          -2.03868351033735,
          -1.0263960974911919,
          -1.9851062420038976,
          -1.9523966629627414,
          -1.0085367558479739,
          -0.9648004860061297,
          0.04608115541524588,
          -3.0427318565129715,
          -1.0009937980324508,
          -1.028383412648847,
          -1.042690835578902,
          -1.0118973973721725,
          -0.9604146867131552,
          -0.009478632693682806,
          -0.9635668541133346,
          -0.042646732231985965,
          -1.0409394967152557,
          -0.9767711918863964,
          -1.0271615163214487,
          -0.9587101255528834,
          -1.0061572360373565,
          -0.03860441290397568,
          -0.03338038748438678,
          -1.9815799307985555,
          -2.0111447316140563,
          0.012042479332959231,
          0.04865591459567074,
          -0.03400713406886109,
          -0.980481898058279,
          -1.0052668519278412,
          -1.023225329058226,
          -0.9979752035290922,
          0.0008131867806668441,
          -1.0093222799445611,
          -0.9574322542798851,
          -2.0054917364248808,
          -0.019998284828603642,
          -0.9539152719645086,
          -1.955737544545892,
          0.9757544202327789,
          0.9879706818493733,
          1.046733784806838,
          0.9871050043658528,
          1.0123690040885722,
          -0.995179903254763,
          0.038959784069494977,
          0.9836452938042505,
          1.0184056344324388,
          1.022619455572639,
          0.9542849022859532,
          -0.02675749970078416,
          1.0253778963892417,
          1.032107988171091,
          1.0271451982296262,
          0.9822201980559375,
          -0.04620317171890981,
          0.9876869413751936,
          -1.0386496683747821,
          1.045173825028334,
          -1.042810255388783,
          -0.9888283908392971,
          -0.02735674374409014,
          -0.03532422625464985,
          0.022048742220151074,
          -0.9918032061844152,
          -1.0174457755500417,
          0.03687586107150681,
          -1.0316654462581332,
          -0.9648713632049595,
          -1.0057789274524698,
          -1.0484367015206804,
          -0.970332486992011,
          -0.9859385889079336,
          -1.035615026752825,
          -0.038543079931871005,
          -0.022353141653455977,
          -0.008285180218722897,
          -1.0005803428643407,
          -0.9510651776014016,
          -0.9910622750461954,
          -1.03101632200255,
          0.03850455886837588,
          -1.0177519281541314,
          0.023683131439192665,
          1.044291513890093,
          -0.021785657580289053,
          1.0487360103215952,
          0.972397194704508,
          -0.001183572052999668,
          -2.0005484362221355,
          0.02548234583645806,
          0.036462696424134036,
          -0.0009342026611163998,
          -0.0062007106768250525,
          -0.9547034861104452,
          0.045031364521126785,
          0.04514480679382825,
          -0.03020329091333969,
          0.01202358993018067,
          0.018186998124850917,
          -0.03839731629075327,
          -0.021584937899327472,
          -0.03301194317428259,
          -0.0022322876183539023,
          1.0487154432251975,
          -0.008720302747082243,
          0.03270522876263458,
          -0.00282420231662546,
          1.0415809629948354,
          -0.9647751205337207,
          0.04647800221753488,
          0.02418862025095711,
          -1.019868604730003,
          -1.0461391371704172,
          -1.0264963767447677,
          -1.0127944743095325,
          -1.027742492078527,
          -0.002629630664306805,
          0.9737023320068837,
          -1.0217375231187829,
          0.018788038584339473,
          -0.011719103823817668,
          0.955279916229239,
          0.04236992518395703,
          0.049612410865271,
          1.0070017843032475,
          0.9893439292280518,
          0.9747456659644875,
          1.0196374726224298,
          0.027184678680453822,
          -1.047655110120404,
          -0.04433286783924239,
          0.030996806083056952,
          1.0296260677338105,
          1.0440809052520292,
          -2.0122085801449927,
          1.0163909164505798,
          0.9765095812606369,
          0.9939551914170552,
          1.0352041005362713,
          1.0112905912529226,
          0.007748032298811922,
          1.04027325810387,
          -0.9956992565094237,
          -1.0101229890545604,
          -0.984082180811374,
          1.0116123585970225,
          -2.0017881093533654,
          -2.0221826713168145,
          -1.9951027420645593,
          -0.9931235818182241,
          -3.02822851622082,
          -1.0062798685500467,
          -2.9642396033726532,
          -6.011457478122438,
          -7.02005764128015,
          -3.000709735964438,
          -3.952257160044854,
          -0.9975637500766775,
          -1.027298010176474,
          -1.9707175001542487,
          -1.0054622471536236,
          -1.9767153036383336,
          -2.971934622202608,
          -1.9623752153221226,
          -2.0373548224381546,
          -4.000224508599451,
          -1.9764784973023515,
          -4.041207092584382,
          -0.9676547525574742,
          -4.012704827105245,
          -1.0169999233281959,
          -0.9621023273059393,
          -0.9958119290889724,
          -2.0188896405704866,
          -6.007990003658424,
          -0.9506789774792426,
          -3.0264730809608795,
          -3.994309295562118,
          -1.9814866227511325,
          -5.953952293901187,
          -2.9602027605298775,
          -5.0025868852146615,
          -3.9886233671565456,
          -2.9681249423187186,
          -4.013144868111125,
          -5.984474632255314,
          0.028612928215522096,
          -0.9806663378111118,
          0.012496390194554174,
          -1.966361498088783,
          -3.9560152678575444,
          -6.999392706324906,
          -6.036131334931388,
          -6.024592704208622,
          -3.9575385634342473,
          -6.008925375931469,
          -1.951504501875094,
          -2.9908436894985724,
          -2.981000295377628,
          -2.9591715445282802,
          -3.0179489712306453,
          0.9860727865717037,
          -1.031828246548567,
          -2.0449550131522987,
          -5.0399958128415285,
          -1.0022280173850446,
          -0.9552540517435676,
          -3.957845987422954,
          -4.003293444505781,
          -4.968970615386442,
          -4.04069463863041,
          -5.035183577055162,
          -1.952345933277997,
          -4.005958321104307,
          -1.0445279698494119,
          -2.0376629252080627,
          -2.019206359065509,
          0.0013993970053512994,
          0.9787043994001576,
          -2.969568767852265,
          -1.022993115840669,
          -4.0359049368905495,
          1.0144703714091614,
          0.9615024204135137,
          -0.00010058407171995715,
          -6.047337746406427,
          -1.008138918158023,
          0.9991789822225084,
          0.03524384472723503,
          -1.0131732827503794,
          -3.015656288639398,
          -5.995280905384996,
          -0.9526259229479026,
          0.0082799355473274,
          -1.0436933317319537,
          -3.010187177293724,
          7.042623336473158,
          -10,
          6.990301630307053,
          -10,
          6.98152276269763,
          -10,
          -10,
          6.980167615446353,
          -10,
          7.001514271360838,
          -10,
          -10,
          -10,
          6.976372619981925,
          -10,
          7.044924491031578,
          -10,
          6.984986244985574,
          7.013163390943475,
          6.99054603789783,
          -10,
          7.02625237221819,
          -10,
          6.952108151490744,
          7.033972732482212,
          -10,
          6.982538870468237,
          -10,
          6.956007668274627,
          7.04678609546781,
          7.012008934581792,
          7.031655795027294,
          6.96620721437455,
          6.9859016265432885,
          7.029655402773673,
          7.0332787751979176,
          6.983328517328782,
          6.968307192474351,
          -10,
          -10,
          -10,
          -10,
          6.974012210696392,
          7.012355789742821,
          -10,
          -5.033607451568944,
          -5.046408037568149,
          -3.0234035874991174,
          -5.049575648547907,
          -3.0459953215763416,
          -4.995259203649204,
          -4.96612924863047,
          -4.955332823924754,
          -5.0446067194370094,
          -4.981898147988253,
          -4.969320504923738,
          -5.004654948507925,
          -4.957852842597675,
          -4.965503967542792,
          -4.992160369310825,
          -4.993309873174925,
          -4.9689403309547675,
          -3.955172119895597,
          -4.995645327177496,
          -5.010444488829658,
          -6.043595132289731,
          -5.0184520976229505,
          -4.95055479727558,
          -5.020433550241079,
          -3.959240307612863,
          -5.020761608814548,
          -5.95945619930623,
          -5.0326175757348315,
          -4.994479107218613,
          -5.96217437079851,
          -6.95588630015409,
          -6.034354406743087,
          -5.043285817724556,
          -4.966704047385917,
          -5.022756887233824,
          -5.048889775593658,
          -5.0326541827637055,
          -4.02515309970132,
          -5.984631499296744,
          -4.989483835681139,
          -5.016809199904817,
          -4.994158796419428,
          -5.0167375197398405,
          -5.046015805510851,
          -4.024153631378717,
          -4.962442564728839,
          -6.018523085036682,
          -5.000606910587387,
          -5.971931939634134,
          -5.011244303448691,
          -4.998548210373745,
          -5.016469616700815,
          -5.986488949571369,
          -3.9786293040393805,
          -5.014120458336196,
          -5.000597147420154,
          -6.9805762286947015,
          -4.999933647329982,
          -4.960617907969709,
          -5.011302153939389,
          -5.011792638580117,
          -5.0237818171970385,
          -5.037347332246832,
          -4.959829467954711,
          -5.004002631536698,
          -5.04702600036171,
          -4.981443678472654,
          -6.029832891612135,
          -5.981225440328471,
          -6.048681229131845,
          -4.968164685258289,
          -6.035038660924102,
          -5.032822803244155,
          -4.975932388239838,
          -5.002087689385561,
          -4.991612489566769,
          -5.983967131891879,
          -4.988779978375233,
          -4.966576642743783,
          -5.015147094217572,
          -5.047927736927158,
          -6.018915388237553,
          -5.956226236561778,
          -4.960994370642378,
          -5.963703924774319,
          -3.9948315612822256,
          -7.9761591135492065,
          -5.979395213123238,
          -5.003201756373578,
          -6.014207866082794,
          -6.960634274350488,
          -5.989351459955085,
          -5.980630008626102,
          -5.02407310250543,
          -4.956860763417495,
          -5.022940980197684,
          -3.9903409840300905,
          -4.970331938326208,
          -5.020579501636375,
          -4.994785689108572,
          -5.0198943893284875,
          -3.984795138549081,
          -5.023849203976663,
          -4.025671682954721,
          -4.996040737195493,
          -5.0232381546339155,
          -4.988964198277492,
          -5.984484999388858,
          -5.032844882431969,
          -3.966115379250326,
          -4.998115568179947,
          -4.989530169758965,
          -4.9513222672045885,
          -7.038934161366539,
          -5.042413926267496,
          -5.026685704701458,
          -5.965243174180208,
          -5.002046135406482,
          -5.0469821202065415,
          -4.954105847115872,
          -6.03806444995685,
          -5.003443051639041,
          -5.006777748296608,
          -4.9806220243313915,
          -4.955768443528189,
          -4.9538702174519855,
          -5.002626786666994,
          -4.962370504149282,
          -4.971809220450539,
          -4.975484262616975,
          -5.9783339333690995,
          -4.021667126881948,
          -4.0026114628511555,
          -5.037187101775096,
          -2.9973947508031165,
          -4.033989207853698,
          -4.014399180574889,
          -2.9724484987174216,
          -3.990943011115638,
          -5.0114133535306316,
          -5.014699703697371,
          -4.969423912855684,
          -4.977559228802882,
          -4.983074699950026,
          -5.0127200525614235,
          -4.981079826875319,
          -4.980663959074151,
          -4.951409849424653,
          -3.980152694034732,
          -5.02967479500282,
          -4.9794659015715546,
          -4.997733858245916,
          -4.971444882097726,
          -6.018217946054317,
          -4.017217917527545,
          -2.9982675929114904,
          -5.958640636392154,
          -5.020454077961149,
          -4.988441408605406,
          -5.047692376397093,
          -3.013272222896319,
          -2.971356400368126,
          -4.981971469329913,
          -4.967654057704905,
          -5.011517968667185,
          -3.0384800987632,
          -3.0071274394119154,
          -5.045493665219417,
          -4.0357569590404285,
          -4.995915705254209,
          -4.994764359978657,
          -5.038744729742811,
          -3.9634100053776162,
          -4.978666575410009,
          -4.973369032879462,
          -5.0133280674022185,
          -4.95628683634275,
          -4.985522164713294,
          -5.023869657269171,
          -5.039939313125704,
          -4.9710789869386325,
          -4.998833245616753,
          -4.967527693617454,
          -5.02169756976483,
          -5.012698562654743,
          -4.029599130807904,
          -4.989839401210169,
          -3.9502556880401194,
          -4.010590168814221,
          -4.040631739039157,
          -6.026976891306387,
          -5.03797455936417,
          -5.019091483470398,
          -3.0463920227883725,
          -2.95767832298172,
          -4.979272882696793,
          -3.9572570224593298,
          -4.986683209977061,
          -4.981938326363299,
          -4.983747039370038,
          -0.9886542544297117,
          -1.9942670711058117,
          -0.007424679046197334,
          -0.00803067432640029,
          0.02046330064909771,
          -1.0134204642855977,
          -1.9508303682999644,
          0.9784862555302791,
          0.034386636041339735,
          1.0130447880815088,
          -0.027084836990147312,
          -0.04135293543177659,
          -0.00320819463746147,
          -1.980942157468285,
          -1.0373968600375019,
          -1.0115615147639252,
          0.0005534934561821983,
          -0.9532181290791917,
          -0.9554321930290647,
          -0.9872229339348054,
          -0.03652532047776307,
          -1.0450480819752048,
          0.025430480833925018,
          -0.9772783615491857,
          0.025223343175603985,
          -2.045636687492143,
          -1.040254585520539,
          -0.04027244360667325,
          -1.027448354026467,
          -0.9915231325943231,
          -1.025020663196941,
          -0.9695905646862282,
          0.024474701161632514,
          -2.0316727810880244,
          0.016163324247940314,
          -4.030110406022627,
          -2.973158519373481,
          -3.035279904148628,
          -4.992055215981826,
          -5.0282366212139324,
          -4.968712395549827,
          -3.9816993954147883,
          -3.9552410542692424,
          -4.002648172633251,
          -3.9978615199890255,
          -3.9815113230555106,
          -4.04088120037033,
          -2.9650860648211936,
          -3.9843326837529083,
          -1.0166500670649532,
          -0.9838307321121044,
          1.0222839350922936,
          -0.9941388879507692,
          -2.016948338010706,
          -1.0086694365622342,
          -0.014375936677493893,
          -0.005362705584245231,
          -1.0263025726614559,
          2.014242072756255,
          0.9746113651555732,
          0.04254179432551222,
          1.001797210334482,
          -2.97371804888647,
          -2.988068338348965,
          -3.017683506052657,
          -4.976186170441008,
          -4.969119686108321,
          -4.982901172878223,
          1.0424576287780876,
          0.04081401917862326,
          0.98352468225309,
          0.046600439948268776,
          -1.0021683232454266,
          0.9616919730483497,
          1.9732553019180017,
          1.0279010401955924,
          0.038054192828129885,
          2.0306043886565948,
          0.9688093089530003,
          1.019124041254404,
          -0.9729604180226276,
          1.0200526136113948,
          -0.014745392563893081,
          0.9610399544854995,
          -0.004865990683003675,
          2.0168017294407248,
          1.0444731054427867,
          0.9748746044331199,
          -0.9774979244865747,
          -0.9946240797943509,
          0.978204495411922,
          0.004563373964557985,
          0.01985615894436943,
          -0.034746224903252,
          -0.02665144934360264,
          -0.01608387530678538,
          0.9731416225554196,
          0.04788530121468086,
          0.9854470123504365,
          2.0404351805117233,
          1.0025063826349854,
          1.0438777035797961,
          -1.013324743884526,
          0.9502842500325039,
          -0.9691519925640342,
          -2.0020948258764077,
          -2.0133067537864493,
          -0.9873711662552856,
          -2.049971499410837,
          0.040714914530615307,
          -2.970123801695567,
          -3.984785335437351,
          -4.030607424998906,
          -3.960906283153802,
          -3.999266171983311,
          -4.043131522812885,
          -3.992360408682861,
          -3.993417736094958,
          -4.961555442290033,
          -3.9822834685323527,
          -4.009604880938274,
          -4.018783720962757,
          -4.045510480933118,
          -3.976850536453837,
          -4.954395644996555,
          -4.954341211899113,
          -4.03603413961032,
          -3.9566792968426276,
          -3.9761280740543237,
          -3.0250101478260256,
          -2.014699577970289,
          -1.0318809410594956,
          -2.0377415881807277,
          -0.9601326629058039,
          -2.0228652254771275,
          -2.037352792614154,
          -0.984464818287884,
          -1.0128741798165795,
          -1.017584985842964,
          -1.0112544962549923,
          -1.0037384005237566,
          -0.9572731313009175,
          -1.020703023485815,
          -1.0212730551964666,
          -1.018639006511428,
          -1.01521434739829,
          -1.018181731104773,
          -1.0273443527087354,
          0.021860926766626182,
          0.018715109231294366,
          0.0037218902671588908,
          -1.0302656705492477,
          -1.04370764736264,
          0.010187936107824924,
          0.016242313828742735,
          0.011733865673666445,
          -0.0006397310790875119,
          0.015339029155964065,
          -0.9635936764947828,
          -0.04540022011577199,
          -0.9548709546845919,
          -2.0078434386697097,
          -1.013266952623088,
          -1.000518983717691,
          -0.018311007086457165,
          0.0034665705728143745,
          2.004856441507505,
          -4.955360937496671,
          -3.0279569177302608,
          -3.9765003787016306,
          -2.954715912926047,
          -3.971552609731922,
          -4.0147714767836415,
          -5.001379815631553,
          -5.01182378459802,
          -3.0153871208080805,
          -0.9745284367096522,
          -2.0375607126429416,
          -1.002923246310907,
          -2.0300915310664593,
          -2.0121363987158825,
          -0.041798905121067424,
          0.027959248243992818,
          -2.989655022984717,
          -1.0147342596681794,
          -0.962544824163543,
          -1.0488888670856562,
          -0.9550350459666742,
          -1.0194868789712783,
          -0.9999595599231109,
          -1.0063595600745194,
          -0.9530081859435509,
          -0.9904659915459239,
          -3.0092133328138337,
          -2.984225372749989,
          -3.015857619569953,
          -3.0219960202519727,
          -2.989559738888848,
          -3.9925752242914556,
          -3.0416239724707914,
          -4.0240661329616385,
          -4.036525570916044,
          -4.020104857501395,
          -1.0274597473560183,
          -0.9902120358661899,
          -0.9992685905987647,
          -0.9726320747257886,
          -1.9855279727739605,
          -4.999758320298538,
          -4.038193144921997,
          -4.005888034250015,
          -2.9890294766023033,
          -5.047524502085129,
          -2.0157576047067924,
          -2.9702730567826676,
          -4.024705797375097,
          -4.024179458938558,
          -2.960458861153757,
          -5.038774302624201,
          -4.978837407877708,
          -5.023168830636028,
          -2.974682772788872,
          -4.9978760067758365,
          -5.037806414074211,
          -5.022069007747097,
          -4.996584095030674,
          -4.047412950463739,
          -3.985176461656274,
          -2.9884560475615456,
          -3.033750314632545,
          -3.004011468326051,
          -1.0111887598252824,
          0.019293328307118968,
          -1.040977566904865,
          0.9636306428882727,
          -0.004899571316953677,
          -1.0444621037093498,
          0.9741095907033782,
          0.959630248178979,
          0.9969939020282816,
          0.009511175042846133,
          -0.006485015553844363,
          0.950977299393058,
          -1.9816678604312028,
          0.03779024101293259,
          -0.025342810134579452,
          -0.00753784749615867,
          -0.9819992298445767,
          -0.990800951103673,
          -1.0345564549319328,
          1.043279063017546,
          -0.9691941474381472,
          -2.037079615500983,
          -0.9821770098683097,
          -1.9574499895781223,
          -1.0068921356202492,
          -1.9725561227649653,
          0.012166604490221153,
          1.9754972116400513,
          2.015130807940659,
          -0.9924649023715338,
          -0.046015700397189434,
          0.9871998672506278,
          -0.9816686284331073,
          0.9777824286632651,
          0.988817304459439,
          -1.019661905668582,
          -0.9547454658612595,
          -1.0113699954051536,
          1.0016013314202425,
          -0.022079050195913098,
          1.0409507283462764,
          1.0273404912432482,
          0.9974319108404966,
          -1.0171388877740428,
          -0.02730129064193092,
          -0.007275428185752261,
          -1.0498512447569976,
          -1.0007681975561853,
          -0.028539119940904724,
          -1.0008727655512126,
          -0.9926030219880843,
          -1.030152344964433,
          -0.0328192137283389,
          0.001729068872941865,
          -0.9893989719612496,
          -0.978531294093501,
          0.9566851118287625,
          -1.0146480988072677,
          -0.9856150901594583,
          -0.9908666921054535,
          -0.9602593522374444,
          -0.9671441504115207,
          -0.04349959725240389,
          -1.0333934894549075,
          -0.04831820683034654,
          0.01102172028389907,
          -0.9528170903028916,
          -0.03844228432566135,
          1.02140808496643,
          -3.9749478065551482,
          -3.9867360396339717,
          -4.048825172149074,
          -4.014209191905092,
          -3.983171582210598,
          -4.004270046495914,
          -3.0293955962955246,
          -2.037317036274223,
          -2.0478280730550535,
          -3.003824885951151,
          -0.987684086247067,
          -1.0155128243178275,
          0.035656517593746495,
          -1.0357037356851586,
          -0.9515658029168672,
          -1.0119234831107131,
          -0.9962030514916451,
          0.04773659692727236,
          -0.9829028930631265,
          0.9848368178850817,
          -1.0175359176699674,
          1.0199671844970988,
          -0.04999711696986634,
          0.0007859647074087289,
          -1.0265528713233465,
          -0.9919898839253244,
          0.01797284863437311,
          -0.9949759350437645,
          -0.9966792354460351,
          -0.9828138855337063,
          0.038830203760612886,
          0.037316817357616175,
          0.0072967281283954355,
          0.03410143597073842,
          0.03235056092948871,
          -1.0193727194046067,
          -1.0256382139469198,
          -1.002314762335817,
          -0.02726314890004782,
          -1.0282502113461094,
          -1.014326446028011,
          -0.9501257729975879,
          -1.007389396853169,
          0.024390891157798703,
          -1.038358909060604,
          -1.0460774238754447,
          -0.9853794452567881,
          -0.9927204907216635,
          -0.02591202588731788,
          -1.0486644423183817,
          -1.034273525455718,
          -1.97294197380372,
          -1.0453155673095558,
          -1.9556597367102728,
          -1.038264532860694,
          -0.9744043860511323,
          -0.9666086889350481,
          -2.0498746606305174,
          0.027588533502353144,
          -1.037284496370409,
          0.9951648465444307,
          0.9587674273335994,
          -0.0196517863385271,
          -0.9606535884130177,
          -0.9572732181967002,
          -1.0164616088845244,
          -1.0378015904959863,
          1.021796580806384,
          0.9935678739384435,
          1.014614474335178,
          0.021822119980091273,
          0.04334792252113434,
          1.0146743123473965,
          -1.0130612329747033,
          -0.9840990786627196,
          -0.9976655300892209,
          -0.9566369207542175,
          -0.9925981827045283,
          0.004586828756416736,
          -0.9731577950729259,
          -0.038176353667074496,
          -0.022155036777368298,
          0.9953223916073275,
          -0.02376703279602216,
          0.044853430760090976,
          0.018194656434961737,
          0.02277860765096934,
          -0.03693770506485436,
          0.9939144539276222,
          -0.04696497511325414,
          -0.9543492351142583,
          0.9970457095135252,
          0.9589969770481513,
          -0.022491235364200193,
          -0.9959527276884972,
          0.04738303389173586,
          0.001440465967840976,
          0.024323553131430406,
          -0.047370207659729824,
          0.9541173623929962,
          -0.0279631703660561,
          0.025440843691274903,
          -0.04569379829556344,
          -1.017166932737192,
          -0.009726781216411892,
          0.04849035969378877,
          0.008374978611206021,
          0.018437749747400492,
          -0.004821852530832463,
          0.02180241829964938,
          0.9629290929155243,
          0.04479848356826224,
          -0.013231185348803569,
          1.0245820107615164,
          0.033272982171099114,
          0.022450783052599968,
          -0.961731887003528,
          -0.03234031975802491,
          -0.005923738018567992,
          -0.9544503473518244,
          -1.0209222270378477,
          -0.04945302931128975,
          -1.977376247910982,
          -0.016371774342178978,
          -1.9749053256326525,
          -1.9835342498149773,
          -2.031573933132193,
          -2.016116951016638,
          -1.999764644026137,
          -2.0483415173619006,
          -2.024659717075059,
          -1.987897865557956,
          -1.9603572733713468,
          -2.003938008539398,
          -1.0433620069345995,
          -1.0055124973726997,
          -1.0431148143818125,
          -1.020516588878694,
          -2.03708423607723,
          -1.0041209211773234,
          -1.0182618296312527,
          -1.001142866638497,
          -1.0369927614308414,
          -1.042360186299357,
          -0.9825510513446293,
          -2.0364181405444035,
          -1.0006850971809067,
          -1.0135610884328283,
          -0.9903856317518348,
          -2.0144513477687545,
          -1.045302192467587,
          -1.0275784473096876,
          -0.9573834683688709,
          -1.0366676583963548,
          -1.0355481910336273,
          0.003941492527059866,
          -0.01084235056679246,
          -0.018524436096717854,
          -0.02088249231057653,
          -0.028379187088318294,
          -0.04541463834576246,
          0.025784041438001573,
          0.018056597622664997,
          -0.035997763378365404,
          0.007259326818279142,
          0.027526834791356175,
          -0.9843666429806789,
          -0.03614962477408984,
          -0.035460683035975465,
          0.04268090402080783,
          0.04277140751397829,
          0.01201518895128053,
          1.017957983290328,
          0.0398129751215143,
          0.9753091153592586,
          -3.0261639035732015,
          -0.9930561148377526,
          -1.0225563787467145,
          -1.953467385564106,
          -1.0352926853460045,
          -0.9629603172317018,
          -1.0214313837401858,
          -1.019511715922272,
          -0.9589579261543923,
          -0.03258061414980197,
          -0.0003688452274145382,
          -0.963836170140412,
          -1.0122009990987069,
          -1.0248706686835716,
          -1.0359673025222491,
          0.010523603653385574,
          0.035258861903320296,
          0.01686809921224372,
          -0.02758658418472967,
          -1.0106645172760471,
          -1.0397468478358403,
          -0.045404276472297514,
          -0.9736889818052825,
          0.007886927844056181,
          -0.971396539968287,
          -0.9897196689047036,
          -1.0206744669651269,
          -1.0418229304500124,
          -1.0078087533165303,
          -1.9869901380678159,
          -0.9648543759223053,
          -1.9701914307571424,
          -2.045494320720235,
          -2.0239718082077265,
          -2.0368451712396602,
          -1.9945124972619517,
          -2.0164407448349633,
          -2.0497419458800215,
          -0.9951537529451794,
          -0.9938052042886001,
          -1.0185396135639102,
          -0.022915924505447684,
          -1.0020093462565713,
          0.03350392293814834,
          -0.9576083713211357,
          -1.0190363285474056,
          -0.9770115005818156,
          -0.962491047418538,
          -1.0087056197232145,
          -0.9699916879777364,
          -1.9840557303408723,
          -2.026151405721636,
          -2.0404918538343355,
          -2.0217629881027115,
          -1.9591802876687532,
          -1.9836668540391669,
          -1.9511997178329927,
          -1.9976405452190413,
          -1.958547651594425,
          -2.020252385047774,
          -1.994572886311568,
          -1.9563824054334173,
          -1.979480933892683,
          -1.9882155408739557,
          -2.049776269864757,
          -1.0023129476893036,
          -0.9531965460020791,
          -1.0481193617245717,
          0.027788859392273893,
          -0.014905209206139546,
          1.0234314001713845,
          0.03890784884279738,
          -0.024663270740120147,
          0.968678202081693,
          1.0440870379709677,
          -0.027332304863144686,
          -0.01292256173371932,
          -0.010971755425616424,
          0.014100311285368122,
          0.03154072499134418,
          0.0029836073786491113,
          0.00670735589588746,
          0.014250593198879294,
          -0.01687813073359997,
          0.9704362401074197,
          0.03598002659135201,
          -1.0117889670484073,
          -0.017381826299444174,
          -1.0074266184948544,
          -1.035874091140056,
          -1.039436824848687,
          -0.04910854819346584,
          1.019062350907712,
          1.012052593314783,
          0.9783680598004255,
          0.023018453253964302,
          -0.021089160119035277,
          -0.02355971973836121,
          -1.043971038110781,
          0.0366325701846964,
          0.035908647858308884,
          0.9602820889592274,
          1.0246024139346184,
          0.049290341606558485,
          1.0166414289854862,
          1.0285603728036234,
          -0.007648780830436332,
          0.0003956500085395137,
          -0.9813250823216205,
          0.01735282859315919,
          -0.014643826321425114,
          -0.009093833648115522,
          -0.002730332232761798,
          -1.0022131148945956,
          -0.04204107954197746,
          0.03428928308587735,
          0.04788155680157656,
          -0.03492293548572344,
          -0.9961041165653863,
          1.0285813466862737,
          -1.015760366066913,
          -0.007592990424255985,
          -1.0356131522837293,
          0.0464681605900102,
          0.03283291138383995,
          -0.020278956536361525,
          0.04335533986570922,
          -0.03607853255594286,
          0.018317843093843864,
          1.04421975102854,
          0.9623773027593858,
          1.0157376415566575,
          1.0398417169505936,
          -2.0168379826427203,
          -2.0460755114222406,
          -1.9628030408703434,
          -2.0089854511373795,
          -1.9760696070763746,
          -2.015184378694931,
          -1.0203215632934077,
          -0.9763442224428172,
          -0.9666440695024141,
          -0.9626401863258425,
          -1.01481774144573,
          0.018361391907998653,
          -0.9738188852856355,
          -1.0150996910863632,
          -1.9575283103753296,
          -2.9987394371568645,
          -3.046136733378028,
          -3.025087366948153,
          -2.034845356190258,
          -0.9575205787966607,
          -3.0197671828983896,
          -2.98539731892064,
          -4.01526177884345,
          -2.041383673418665,
          -2.0492107315962027,
          -2.0153366422167664,
          -1.9528026492313169,
          -2.9831336458997812,
          -2.005311122561303,
          -2.0353094566966177,
          -3.0232991956918034,
          -1.042956898119048,
          -3.970577446390048,
          -3.003531184756508,
          -2.9738838207375005,
          -1.9606877627374666,
          -4.03483171648145,
          -4.040078558691007,
          -4.025924308874803,
          -4.003719028821022,
          -4.046439611152646,
          -4.036679270690202,
          -3.96447948834824,
          -4.031971724934065,
          -4.028518949365473,
          -3.967673039884304,
          -4.014359075137297,
          -4.014495251917021,
          -4.043313036315408,
          -3.956396797634333,
          -4.024907891443529,
          -3.9510259263634437,
          -2.9792562963965192,
          -3.003923176094556,
          -5.048509821149949,
          -3.954272005302372,
          -5.020883094253401,
          -4.022362515704633,
          -3.9741891545619734,
          -3.9698228691643926,
          -3.9612187927809552,
          -4.982939211229802,
          -4.013194004388107,
          -4.021527841303901,
          -4.023838902460088,
          -3.9808717753864356,
          -1.9891981658696576,
          -4.008373736433326,
          -4.0058911787480485,
          -4.036966664265843,
          -3.9598307559421144,
          -4.043244948376042,
          -3.9815162586817507,
          -4.035660134538554,
          -5.031406921948671,
          -5.039574350953167,
          -4.02992884867608,
          -3.0060657543966904,
          -2.9577039779546634,
          -2.9779301899982125,
          -3.024903076498276,
          -2.9751697681952654,
          -1.9545759701836245,
          -3.0490074341979625,
          -2.9728771781329226,
          -3.010564322425748,
          -3.026897751460149,
          -2.9730854084600233,
          -3.0131756192267924,
          -2.9582279916575103,
          -3.966650707588076,
          -3.9729101455195224,
          -3.9586691016124007,
          -3.9618223979965617,
          -4.0157500681,
          -4.047224704329896,
          -4.019145617884016,
          -5.018094810196483,
          -4.018511405823306,
          -4.046871523543656,
          -4.043085185353292,
          -3.9616069368450697,
          -3.044432523085576,
          -3.9687407088258233,
          -4.03814300699756,
          -3.019381536883113,
          -3.016199519353954,
          -2.978256697435679,
          -2.9848279878839334,
          -3.987707196654833,
          -2.9893789741627184,
          -3.0231085590092968,
          -2.953254740079335,
          -4.001061032126242,
          -2.975371082294038,
          -2.9516507666361527,
          -3.0088392378495747,
          -3.0042187391382327,
          -2.972152824313098,
          -3.038166095581269,
          -3.026866949333978,
          -2.9704846583304043,
          -3.017912321863025,
          -3.0205029729325825,
          -2.968071814489618,
          -3.03700338942088,
          -3.0437719556381118,
          -4.048256255622489,
          -3.9899568278153668,
          -4.007319243520079,
          -3.957453445089124,
          -3.0438777406031097,
          -2.988676120262082,
          -3.9569483796223777,
          -2.988501698727343,
          -3.034510239773518,
          -1.9540411824693151,
          -2.0249681588792474,
          -1.9973466732832779,
          -1.9597503270477468,
          -4.049873869763517,
          -1.965370500942041,
          -3.961602271180277,
          -4.016885798666448,
          -2.981234750194335,
          -4.021923846459034,
          -3.0217699160663574,
          -4.008347895499973,
          -1.9761277743329044,
          0.04524402100253011,
          -0.0027794123961044984,
          -1.0177733609572432,
          -1.973294479449871,
          -1.9540222960694507,
          -1.993969148362529,
          0.031070134004621996,
          -0.02721040173495003,
          -1.984536786011894,
          -2.0302910251124895,
          -3.043744097161679,
          -4.0238524830297475,
          -2.9686996116897064,
          0.04713588146619897,
          0.041175639558747784,
          -1.0086253788257529,
          -1.955245331828624,
          -1.968580000217995,
          0.014751737340449267,
          0.049391729643987484,
          -0.03876833501014085,
          -0.029092273063033948,
          -2.9717371917086104,
          0.047009875835892875,
          -1.9530085415555023,
          -1.9703286359302479,
          -1.9556234150169176,
          -2.0447123762836594,
          -3.0011892631285995,
          -1.9925789583419924,
          -1.9888290329668643,
          -1.990780557174187,
          -1.9869791521087043,
          -1.990619748933982,
          -1.9620686392738371,
          -1.9893429091928287,
          -1.9983170387094153,
          -2.0126782742681244,
          -1.961902457963183,
          -2.0264082771328913,
          -2.001103813385828,
          -2.042843167422294,
          -1.9598353896657732,
          -1.9720788815845613,
          -2.047700699566983,
          -3.0292330860242167,
          -2.9638451600598765,
          -2.9585515200283563,
          -2.971804202565892,
          -2.975753596525366,
          -2.0466802852613597,
          -0.030695883970163887,
          -1.9754725657209398,
          -2.995970667794085,
          -2.0486590301786443,
          -2.0489605972267677,
          -1.982340869862945,
          -1.975081543351781,
          -2.046710679287477,
          -1.9520523938812564,
          -2.997370091838686,
          -3.0478274893515644,
          -2.026036772085117,
          -1.9868050469436034,
          -2.0464718828631128,
          -2.019115255286848,
          -3.0317045198238026,
          -3.015572128474296,
          -3.0413816449712967,
          -2.952397282750157,
          -0.022834102010843106,
          -2.9778346472873833,
          0.011080303565704573,
          -3.014021189473498,
          -2.9771137219089954,
          -4.00696271616916,
          -1.9592706969404605,
          -2.960397888584719,
          -2.9669357667403085,
          -3.036617170153257,
          -2.0398786228378665,
          -2.9525513036579354,
          -2.0259651310430375,
          -1.0323021954673044,
          0.025696507457163204,
          -1.9552634472124053,
          -4.044039854118003,
          -2.9932501981673205,
          -2.968997501970888,
          -3.9919178314605603,
          -2.9766396621245215,
          -2.0286855588300265,
          0.02586276383992836,
          -3.0260634559757458,
          -2.018998977208946,
          -0.9550430652669873,
          -0.04161068830748013,
          0.021370936868876353,
          -0.016018059614513795,
          -2.044664161482971,
          -1.01393133544136,
          -2.0266149118802024,
          0.010320796531063756,
          -1.0008552883091983,
          -0.04652786793484196,
          1.030987674055643,
          0.9855107828496902,
          -0.03457438719103981,
          -0.02250748255138382,
          0.04867390109048414,
          0.005297568421299713,
          -0.03022198196921907,
          -0.036972660067383756,
          0.03906106924142749,
          -1.0374354949246936,
          1.0238089883543087,
          1.031305071425774,
          0.005779929088618983,
          0.9609526425751671,
          -0.022859785420719314,
          0.02221874027932111,
          -0.9525226717227835,
          -0.9718264629363954,
          -0.9920723880343197,
          0.04195752032387874,
          -0.04950348719334538,
          -0.03268653150617107,
          0.010310245906617735,
          -0.9663698713130902,
          0.024395171780443564,
          0.03530131847016614,
          -0.044928314041902964,
          -0.022577936983183312,
          -0.9713462513102502,
          0.01624886776507921,
          0.0002684147439136614,
          -0.013346502497408354,
          -0.011679011136735841,
          0.028337622255423606,
          0.015780462740035223,
          0.028191680081245576,
          -0.03809359731475057,
          -0.9656554215267188,
          0.030523093382956154,
          -0.004855753572430253,
          -0.023451061559154385,
          0.0379026639290717,
          0.04214073901928199,
          0.033880070017664826,
          -1.0192714724507752,
          -0.9661061983456317,
          -0.015928391921727673,
          -0.9537504422795762,
          0.02774759268394847,
          0.029810877972457725,
          -0.9803626639565787,
          0.018628478108037236,
          -0.015798262651378715,
          -1.0246222725640084,
          -0.9623352923245063,
          -0.9808824379368399,
          -2.0417125350784215,
          -1.0467583178371804,
          -0.9943361368890797,
          -0.9650870107055795,
          -1.0319825825187408,
          -1.038201296801556,
          -0.9706513458600031,
          -1.0214256428746777,
          0.008193344157439095,
          1.0419926436734313,
          1.0226795804470659,
          -1.0247346848446723,
          -0.9703416945706625,
          -0.9678822927630366,
          0.016911352207240854,
          -0.9588292624299066,
          -1.0339163192420642,
          0.007953006428041046,
          -0.9797757623576848,
          -1.0349969665706686,
          -1.035214476233101,
          -0.9879598987939631,
          0.04618309312885889,
          0.04977199468831278,
          0.03292928988539834,
          0.04341250093831772,
          -0.0031642148437298484,
          -0.9872597862556772,
          -0.038154569427771116,
          0.012571914539822385,
          -0.9611193782916757,
          0.04016489142814904,
          -0.036940124284286585,
          0.034584113434919767,
          -1.0010586567934596,
          0.9604212248053733,
          1.0388582092043408,
          1.029691372891512,
          -0.9748498193785757,
          -0.04853046497645646,
          -0.015591042647637166,
          -0.042837845263474096,
          0.001220714293688939,
          0.03713616829484542,
          0.0070477971740371195,
          -0.953381377294898,
          -0.9981781669371085,
          0.00039640123469995153,
          -1.049910218368181,
          0.005682668399047033,
          0.03152549464399523,
          1.0223556612025888,
          1.0167955918173484,
          0.9961886386673201,
          0.9645967176805513,
          0.01859622981937792,
          1.027330060199993,
          1.039443182353773,
          0.9525087520511846,
          1.030885491637201,
          0.9898903347513109,
          0.017269339233959582,
          -0.040592459075725576,
          0.0418367670009271,
          0.03868641649268453,
          0.02463143752126401,
          0.04277507478918524,
          0.9501654497527546,
          1.0159988523815908,
          0.9949288639149828,
          1.0029619646657073,
          0.9974432482709014,
          1.0305071579445113,
          0.9776203829270581,
          1.0392070785107494,
          0.9716845701355793,
          0.9584974776178128,
          2.0432925511411213,
          1.014048942987239,
          1.0472306634466462,
          1.0472368052525978,
          1.9788802236706493,
          0.02355927264061107,
          0.9536381108510694,
          0.030729066175245442,
          1.0234901661126603,
          1.0067316916222004,
          0.007731382906571993,
          0.0010888273339245552,
          0.036288676185231586,
          -0.02930502890160377,
          0.04314720725145199,
          0.01028641517648414,
          0.9598279992496417,
          1.038506187722509,
          0.9651896001706277,
          -0.028052509500884018,
          1.0497685931864869,
          1.0027662313807677,
          1.022277735286775,
          -0.0070492463584114345,
          0.02198691368781494,
          -0.03671016560538637,
          0.04848138800301159,
          0.028606211055982586,
          0.033283495380395586,
          0.9911495881333003,
          0.015473590942483226,
          0.9648518609582984,
          0.010807376611744066,
          0.046642447810061244,
          -0.03240961459165379,
          0.019420326898979656,
          0.025835375615145637,
          -0.03361086212137663,
          0.031202398540597184,
          0.03469412777760621,
          0.028313613116884143,
          0.014315726243375737,
          0.043277951649115784,
          0.004395882538902884,
          0.02152064082810544,
          -0.026615757449294355,
          1.015108170895459,
          0.9765789661148051,
          -0.005852605194318197,
          -0.016091709085200558,
          1.0321697063540762,
          0.9761738840006247,
          1.029144173283203,
          0.9769479752767185,
          0.9620555809801701,
          0.9938430892043691,
          0.9530287108732612,
          -0.02901651255863146,
          0.960726821585062,
          -0.0026677312780406873,
          0.9549252582533573,
          0.9981852758177144,
          1.0061481252449114,
          1.011517023181946,
          0.9598412841623878,
          0.03648974657161168,
          1.00337105883593,
          0.9745913177317133,
          0.9828268231984385,
          1.0196065597236172,
          0.9896571308723238,
          0.9570773787606973,
          1.013961207604449,
          1.004588419535697,
          -0.023378096972591703,
          0.0435878320896398,
          0.03566693367964835,
          -0.9501045777672779,
          0.02481839530065935,
          0.035157336127779826,
          -0.9878401560520909,
          -1.014747591941885,
          -0.9555291056925004,
          -1.0337278224275142,
          -0.9990319700998802,
          -2.0463784810459793,
          -1.010479238646788,
          -0.031264062705013085,
          0.9727890237966826,
          -0.039072050059483644,
          0.0007232491585713041,
          0.015918713787109393,
          0.9619398503961425,
          -0.02999359169463516,
          0.9983659345900099,
          0.0068600830432224424,
          0.999943281167006,
          0.955684090130857,
          1.01527654474274,
          0.957456839465877,
          0.9718250317703159,
          1.036866864203263,
          0.028469157694799505,
          -0.02774178176789488,
          2.031450301236758,
          1.9550793681216796,
          0.9525314867297653,
          0.9532592440487422,
          0.033166933299550644,
          0.04863967064911923,
          1.0247908808518307,
          1.0330670231371961,
          0.9923661110875341,
          0.9520583772266433,
          -2.0159926845079053,
          -0.9690886344819301,
          -1.0360495506363938,
          -1.9607380104526315,
          -0.9676903458138286,
          -1.9543027919587947,
          -1.0167336313879898,
          -2.0145357815684655,
          -2.034305695349698,
          -1.0432250441963309,
          -0.9763224547556222,
          -2.028775559846817,
          -1.04350872978857,
          -1.9986034683411256,
          -0.99718786143371,
          -0.987549320298231,
          -0.9727301837743161,
          -0.9952487477529922,
          -1.031961483520882,
          -1.0184069607520976,
          -2.0197505555400146,
          -2.0231231820166884,
          -0.9608563752283669,
          -0.9766475440933817,
          0.00009983586754559737,
          0.007011616986069058,
          -0.9828616575949314,
          -1.0354420402260653,
          -1.007995559285512,
          -0.96589312322254,
          -0.0408456018889442,
          -0.02042882424266458,
          -1.0221846840610769,
          -1.0483323507172149,
          -1.0152002445415833,
          -0.9745650837900776,
          -2.025127764006261,
          -2.0462759001146544,
          -0.9501334163798644,
          -1.9949214127684618,
          -0.9743255689989982,
          -2.0022267209842473,
          -1.024894301296294,
          -2.0477230590439324,
          -1.9695307384523266,
          -1.0336505310495256,
          -0.9556061348655867,
          -1.0112695916395253,
          -0.9771331924686383,
          -0.9896450013265814,
          -2.0211058595546345,
          -1.0338024061192943,
          -1.0321925069559583,
          -1.9957770011172358,
          -1.979320700003843,
          -1.0018958527266801,
          -1.9820747639332432,
          -1.9905066521157095,
          -0.9553303036676853,
          -0.9641232843979619,
          -1.962036526875932,
          -1.9546535895923292,
          -0.9539154041211606,
          -1.9531447743692063,
          -2.0124526607214253,
          -1.9930137030310555,
          -1.0001129844668843,
          -2.0358414739228667,
          -0.9861786865474454,
          -1.9728764024844252,
          -1.9573211063654645,
          -1.007644228613863,
          -1.0457688523930448,
          -1.9741610019524494,
          -1.9805108861005134,
          -1.976012134616513,
          -2.018778234878027,
          -1.9844306230488633,
          -1.9876155281406331,
          -1.9859304991829518,
          -2.006489117586388,
          -2.9617448473464973,
          -1.9974668532668811,
          -3.000158791253345,
          -2.0488819784567474,
          -3.9544382669397353,
          -1.9903065308036882,
          -3.0420083717887216,
          -2.006366793087445,
          -2.9882669295897055,
          -3.0473703278972644,
          -1.952823521365147,
          -0.9902241809764519,
          -2.0364895681755746,
          -0.967336128266604,
          -0.036737417817047514,
          -1.9998103955281656,
          -2.041390727362459,
          -0.9989665475292926,
          -0.9852577629349828,
          -1.0198014127523622,
          -1.0193525172829052,
          -1.0377920066373172,
          -0.958172793159437,
          -0.9693807452296475,
          -1.971783301002596,
          -1.0496997902032823,
          -0.9660242350612143,
          -0.997765715492986,
          -0.0168815735801236,
          0.044077422956163445,
          -2.042376409969484,
          -2.040604406606846,
          -1.968528201485162,
          -2.046720080175812,
          -2.0042468374663325,
          -1.9677346675640768,
          -1.9675465155415914,
          -2.031804443186143,
          -2.041362733084525,
          -2.0006391398982455,
          -2.0456832331476185,
          -2.011820263787913,
          -2.035560995097342,
          -2.0015868194152104,
          -1.9963236000700324,
          -2.0136107667045886,
          -1.9532468632794702,
          -2.0222958186956745,
          -2.032650893369265,
          -1.9714142836753867,
          -0.9928447247031322,
          -0.9586969498218094,
          -1.000281189745278,
          -0.9644079208874601,
          -1.0002570597667009,
          -0.02244726846821642,
          0.030727544324596456,
          -0.03824871146774814,
          -0.03237055633819106,
          0.012368639659127621,
          -0.020404967332498716,
          -0.9542232337589812,
          -2.0028299031363908,
          -2.0161069199987915,
          -1.025868599754142,
          -1.012868002793167,
          -1.0289258104277499,
          -0.9743992573879732,
          -1.0159669363158046,
          -0.043439908284442545,
          -1.0226190909277264,
          -2.0454888045940183,
          -1.9578156648076113,
          -1.972194266581174,
          -2.015124810968377,
          -1.990727612033974,
          -2.017807116134035,
          -1.9528910744957406,
          -0.9582562686911082,
          -1.0179785855156693,
          -1.0261114143083219,
          -1.97349117850749,
          -0.9817535002466654,
          -1.0206079873874525,
          -2.0486399680345007,
          0.04469583533642406,
          0.028890147161991023,
          0.044995116585437464,
          0.037366525256329094,
          -1.9752791695549567,
          -0.9764984901010407,
          -1.9946607115718873,
          0.020713667994024215,
          -0.029507217172938652,
          -1.9792059768913597,
          -0.00828682952033434,
          0.047334519943379685,
          -2.021846193011993,
          -0.9602939406192562,
          -2.0292081388597247,
          -2.0449969708432687,
          -0.9633529047007684,
          -1.02774463415647,
          -2.0478841349986308,
          -0.9686562122812284,
          -0.9610760861209062,
          -1.0351463795643263,
          -0.9690011552433843,
          -1.0169722904306875,
          -2.0027782835073453,
          -1.963541118316539,
          -1.013482637879614,
          -0.9694872660796834,
          -1.023343878411481,
          -1.0421958517134111,
          -1.02169430515106,
          -0.9797566007360194,
          -1.0118365462773697,
          -1.0206260459564465,
          -0.956520836977075,
          -1.9859229036277957,
          -1.0326291804336742,
          -1.032752500643308,
          -2.0475087406105694,
          -1.9541897382880156,
          -0.9653282454839006,
          -0.9565626792637194,
          -2.004770238441188,
          -0.9668376182606708,
          -6.985762390559206,
          -7.040756009989474,
          -6.955871748851998,
          -7.041976176910838,
          -6.997724484880239,
          -6.989192487371305,
          -6.980520336831904,
          -6.013888870035854,
          -6.029626851768248,
          -6.957168910783891,
          -7.005178665619886,
          -5.966575540153607,
          -6.971162847904614,
          -5.963797274004292,
          -6.956083382923583,
          -6.980653296479055,
          -8.04862876671299,
          -6.962790397468127,
          -7.041414263346381,
          -7.005712721903868,
          -6.009796199326246,
          -5.0283742576995,
          -8.033522069944818,
          -5.998324377610506,
          -6.020764828529537,
          -7.039249075715941,
          -6.02630826441303,
          -6.022031086192366,
          -6.0180968642743125,
          -7.999763405812705,
          -7.996600930183462,
          -6.995213875040825,
          -6.99708324333163,
          -6.962501283391547,
          -6.992038209983863,
          -7.032971823104737,
          -7.045409541800759,
          -6.969003566242401,
          -6.9634200165683495,
          -7.039113423337379,
          -7.049455205551637,
          -6.972900349590299,
          -7.044053074799694,
          -7.049609856366954,
          -6.992087651109437,
          -6.9798607938397,
          -8.01332031251435,
          -7.02351604375096,
          -6.976158542219011,
          -7.030605896520249,
          -7.011468215079572,
          -6.962343034314292,
          -7.037231761774021,
          -7.046088968246547,
          -6.987423813739361,
          -7.002725192618378,
          -6.989286470731655,
          -7.023378649866085,
          -7.043176606321202,
          -8.024951531996928,
          -7.950529381057314,
          -6.974487597007183,
          -7.0087379047490925,
          -6.980271250921039,
          -7.96364743111541,
          -7.0060116307962526,
          -9.012951495624261,
          -7.0010084561786705,
          -6.9589127704833125,
          -6.969466251702459,
          -6.962869300298715,
          -6.979126598258508,
          -8.031825616954453,
          -6.960838701265,
          -7.996903029882043,
          -6.956673996182459,
          -7.013195852441455,
          -7.000118439922829,
          -6.992632491311586,
          -5.9841690494438895,
          -5.977551259428814,
          -7.006387143980278,
          -6.044076370725209,
          -6.0202400062917505,
          -5.958012785428684,
          -6.97057696811587,
          -6.025700946817692,
          -7.048475249938146,
          -7.00706241935072,
          -6.9799540460912395,
          -6.992273411770536,
          -7.033022658422848,
          -7.0030961269288765,
          -6.95324021408316,
          -7.000975798433466,
          -7.033388272902172,
          -6.991491559014551,
          -7.02272179734514,
          -6.97926703651606,
          -7.047119714028018,
          -7.021454354564683,
          -7.012131809814919,
          -7.0173260194993015,
          -6.992371468522307,
          -7.046418080220611,
          -7.042831133081945,
          -6.985749677839428,
          -6.979634112931143,
          -7.009718980998211,
          -6.046917186671607,
          -6.039423700550059,
          -5.976851674158905,
          -5.96618347467865,
          -6.001505821189955,
          -6.971860804181914,
          -5.9835024740255145,
          -5.0198769470930005,
          -5.958787103636733,
          -4.955198424020593,
          -4.994423828315415,
          -5.016890608924156,
          -6.003718737810136,
          -6.037508708919191,
          -7.003629198195941,
          -7.045160854644978,
          -7.044519005382766,
          -5.95888002237922,
          -6.046593836134359,
          -5.95421104765192,
          -5.95615428732848,
          -7.025376708789742,
          -6.9571024218133735,
          -6.962222105165616,
          -6.984627189710428,
          -7.03651691035917,
          -6.967195692797444,
          -6.96002500360605,
          -7.010195179139463,
          -8.00462447301715,
          -7.006222089618142,
          -7.012823930399199,
          -6.031542230050363,
          -7.023858202773217,
          -6.026750243256786,
          -7.030393140896147,
          -5.955263674392016,
          -5.965144727791837,
          -5.990866344228405,
          -5.987514708096194,
          -5.985154267439831,
          -5.99053290480521,
          -4.952378493255443,
          -4.9628572138703015,
          -5.971758149983869,
          -5.982471238221923,
          -5.961378574989707,
          -6.009569359361093,
          -7.020255183548903,
          -5.988115835648591,
          -6.035551737326655,
          -6.973342322748945,
          -8.025473472250956,
          -6.965423457695856,
          -5.984628117609802,
          -6.000210310696979,
          -5.982463534884441,
          -5.973238718869828,
          -6.970124234241221,
          -6.988876789782634,
          -6.995810144421778,
          -5.987224512205001,
          -6.957819182510302,
          -6.9731768407769446,
          -5.9501344126851405,
          -4.03203038951771,
          -2.9708658420745557,
          -5.009438558262553,
          -4.010363274491525,
          -5.040496375184512,
          -4.033564943425644,
          -5.0424957558919425,
          -4.04859880777764,
          -4.0086940214246685,
          -3.950266601794426,
          -3.966492254605176,
          -3.9584001973626424,
          -5.044142009774001,
          -2.0400467793467967,
          -4.032348191189089,
          -3.981119747206736,
          -3.9848427225287386,
          -2.998726707680889,
          -4.019521957773705,
          -2.9997881905649253,
          -3.005496017078051,
          -4.019263236316378,
          -3.995571860345707,
          -2.993353090340546,
          -4.978111875957147,
          -5.006656154794715,
          -4.986142896747597,
          -5.007785362209946,
          -2.9533379527241115,
          -2.9517688520783505,
          -2.9597188481189654,
          -3.0493719543487106,
          -3.0245285524228747,
          -2.9612086803860627,
          -2.9839670704823247,
          -3.0250612565655577,
          -4.000868070984119,
          -3.9514994412472624,
          -1.9746266966110104,
          -2.9543055085167977,
          -3.9927021304785377,
          1.016466526014128,
          -3.009452338907417,
          -3.030185776400088,
          -3.012923599656544,
          -2.022035225088666,
          -3.993611708189323,
          -2.9658264266905854,
          -3.0298621422113046,
          -2.9825678047198565,
          -3.953173023379179,
          1.0042991865798134,
          -3.954196753938189,
          -3.9879495109387118,
          -4.021372374930541,
          -3.013629523558278,
          -0.036543206596281075,
          -4.961362596932533,
          -5.000700830046292,
          -3.04554720132417,
          -4.991051007990033,
          -4.012800975344843,
          -4.972681893723452,
          0.991025962284419,
          0.03925434982904008,
          -2.007274612945403,
          -0.9984994277748,
          -0.9729532384112027,
          -4.00223524789565,
          -2.9734265880188886,
          -3.986839505504244,
          -4.022807841599702,
          -4.022087969805449,
          -4.030022796417695,
          -4.978442347344796,
          -3.972694905208197,
          0.9976508021176624,
          1.0081864628023625,
          -4.0165771404850705,
          -3.983167879795222,
          -3.9882836893944176,
          -3.981726301592495,
          -3.9938578934784497,
          -5.0076804961832,
          -3.9953459906483784,
          0.019626398408564727,
          -3.960924482485316,
          -4.983474807962316,
          -3.955929932473376,
          -4.002085652099955,
          -3.9922287178193323,
          -0.9501345394712182,
          -3.0224166389356286,
          -3.950662097896288,
          -2.007419846193481,
          1.008833239440561,
          -1.99542398049316,
          -3.0154977462029393,
          -3.0417908832272134,
          -3.9549911938873827,
          -2.018107570070225,
          -2.9956221885905587,
          -4.004061696737292,
          -3.9833030107804626,
          -1.9839441636705664,
          -4.0359071357013265,
          -2.9781454871001167,
          -0.9883065095707362,
          -0.9718253735539863,
          -2.0086349827306837,
          -1.0442348015337994,
          -1.953583821799649,
          -1.9538359005758357,
          0.024663768998259977,
          -3.0336928012476716,
          -3.0038413779664257,
          -1.0193043201530596,
          -2.995150895494698,
          -3.994863867782449,
          -3.026788627026571,
          -3.972937781526209,
          -5.044597541399511,
          -3.977760124329888,
          -3.9889256513938403,
          -4.040426572421352,
          -4.004183291139919,
          -4.03819296425591,
          -3.9777400484551015,
          -4.995134997560844,
          -3.997331973428639,
          -4.0354437863338735,
          -3.9754574321093035,
          -4.017097867937636,
          -3.965562788212449,
          -4.04698191263838,
          -5.009018180481168,
          -4.007175220586323,
          -4.012146662009144,
          -4.012215477489912,
          -3.9596566747538655,
          -3.9705653715919746,
          -4.002380071659121,
          -4.043062734430225,
          -3.984656937519665,
          -2.017513206505786,
          -2.0163891323421255,
          -1.9537201549809922,
          -2.0115057037731194,
          -1.994876550538053,
          -3.979986009591563,
          -1.9565964577798456,
          -2.9708858759276797,
          -2.958235799837428,
          -4.038622971622586,
          -4.963562295009228,
          -4.024993660810908,
          -3.950080554755982,
          -3.9640428106311916,
          -5.005660993706363,
          -4.028385857324583,
          -5.011961272043473,
          -4.028988408907245,
          -4.013473165268484,
          -1.9949207342031807,
          -4.044382848319243,
          -3.9808920404717107,
          -4.041718163814912,
          -4.000775219946688,
          -3.996529405259739,
          -3.9718622302290334,
          -4.029650971372709,
          1.0445109944086772,
          -4.981062621380367,
          -4.019622400554284,
          -3.9544138890605445,
          -4.022937201291639,
          -4.032952583005787,
          -4.006572581989407,
          -3.974523937723897,
          0.9914580547007614,
          -5.032410021221418,
          -4.046538079627308,
          -3.0496219476232085,
          -2.044644211034477,
          -4.041695837882348,
          -3.9999504805649577,
          -0.006664371949804994,
          -1.9982155998541111,
          -3.9999400027567624,
          -4.021495241940834,
          -3.9942880633438667,
          -4.008060939188597,
          2.010640342534409,
          1.9541137071801704,
          1.962051281937773,
          1.9572242011689922,
          2.0449364544370963,
          2.015534089379927,
          2.047738717662695,
          2.0099817144560475,
          1.9976972159464212,
          2.006408872839321,
          2.028882550004095,
          1.977211814970708,
          1.9767055808780483,
          1.9962986817753992,
          1.9666771843283999,
          -0.043031413474481396,
          2.041970508073131,
          1.9765146598487628,
          1.9759541067762743,
          1.976887873687583,
          1.9723225981676793,
          1.9657595745250105,
          1.957587633574511,
          1.9629888053231692,
          1.9813649292412128,
          1.982062040635168,
          1.9929085869066285,
          1.9524497357385178,
          1.993532325817606,
          2.020631815554049,
          2.014967088487047,
          1.9764434514617972,
          1.977874353145349,
          2.0485813702826787,
          2.024770784284953,
          2.0222682470541296,
          2.00430820465155,
          1.9876806937778102,
          2.026674328744549,
          0.022532447462563623,
          -0.029763132990497366,
          1.9726136423223681,
          2.0460770247676527,
          1.9724185780423549,
          1.9787407451668384,
          2.0279581168227567,
          2.0318479644569596
         ],
         "yaxis": "y"
        },
        {
         "customdata": [
          [
           true,
           "Streptococcus pneumoniae"
          ],
          [
           true,
           "Streptococcus pneumoniae"
          ],
          [
           true,
           "Streptococcus sanguinis"
          ],
          [
           true,
           "Streptococcus salivarius"
          ],
          [
           true,
           "Streptococcus pneumoniae"
          ],
          [
           true,
           "Streptococcus pneumoniae"
          ],
          [
           true,
           "Streptococcus sanguinis"
          ],
          [
           true,
           "Streptococcus mitis"
          ],
          [
           true,
           "Streptococcus anginosus"
          ],
          [
           true,
           "Streptococcus pneumoniae"
          ],
          [
           true,
           "Streptococcus pneumoniae"
          ],
          [
           true,
           "Streptococcus pneumoniae"
          ],
          [
           true,
           "Streptococcus pneumoniae"
          ],
          [
           true,
           "Streptococcus pneumoniae"
          ],
          [
           true,
           "Streptococcus pneumoniae"
          ],
          [
           true,
           "Streptococcus pneumoniae"
          ],
          [
           true,
           "Streptococcus pneumoniae"
          ],
          [
           true,
           "Streptococcus mitis"
          ],
          [
           true,
           "Streptococcus mitis"
          ],
          [
           true,
           "Streptococcus sanguinis"
          ],
          [
           true,
           "Streptococcus oralis"
          ],
          [
           true,
           "Streptococcus oralis"
          ],
          [
           true,
           "Streptococcus pneumoniae"
          ],
          [
           true,
           "Streptococcus pneumoniae"
          ],
          [
           true,
           "Streptococcus pneumoniae"
          ],
          [
           true,
           "Streptococcus salivarius"
          ],
          [
           true,
           "Streptococcus salivarius"
          ],
          [
           true,
           "Streptococcus salivarius"
          ],
          [
           true,
           "Streptococcus anginosus"
          ],
          [
           true,
           "Streptococcus sanguinis"
          ],
          [
           true,
           "Enterococcus faecium"
          ],
          [
           true,
           "Streptococcus mitis"
          ],
          [
           true,
           "Streptococcus mitis"
          ],
          [
           true,
           "Streptococcus oralis"
          ],
          [
           true,
           "Streptococcus oralis"
          ],
          [
           true,
           "Streptococcus salivarius"
          ],
          [
           true,
           "Streptococcus salivarius"
          ],
          [
           true,
           "Streptococcus pneumoniae"
          ],
          [
           true,
           "Streptococcus pneumoniae"
          ],
          [
           true,
           "Streptococcus pneumoniae"
          ],
          [
           true,
           "Streptococcus pneumoniae"
          ],
          [
           true,
           "Streptococcus pneumoniae"
          ],
          [
           true,
           "Enterococcus faecalis"
          ],
          [
           true,
           "Enterococcus faecalis"
          ],
          [
           true,
           "Enterococcus faecium"
          ],
          [
           true,
           "Staphylococcus aureus"
          ],
          [
           true,
           "Staphylococcus capitis"
          ],
          [
           true,
           "Staphylococcus capitis"
          ],
          [
           true,
           "Staphylococcus capitis"
          ],
          [
           true,
           "Staphylococcus capitis"
          ],
          [
           true,
           "Staphylococcus epidermidis"
          ],
          [
           true,
           "Staphylococcus epidermidis"
          ],
          [
           true,
           "Staphylococcus epidermidis"
          ],
          [
           true,
           "Staphylococcus epidermidis"
          ],
          [
           true,
           "Staphylococcus epidermidis"
          ],
          [
           true,
           "Staphylococcus epidermidis"
          ],
          [
           true,
           "Staphylococcus epidermidis"
          ],
          [
           true,
           "Staphylococcus epidermidis"
          ],
          [
           true,
           "Staphylococcus aureus"
          ],
          [
           true,
           "Staphylococcus epidermidis"
          ],
          [
           true,
           "Staphylococcus hominis"
          ],
          [
           true,
           "Staphylococcus hominis"
          ],
          [
           true,
           "Staphylococcus hominis"
          ],
          [
           true,
           "Staphylococcus hominis"
          ],
          [
           true,
           "Staphylococcus hominis"
          ],
          [
           true,
           "Staphylococcus hominis"
          ],
          [
           true,
           "Staphylococcus hominis"
          ],
          [
           true,
           "Staphylococcus hominis"
          ],
          [
           true,
           "Staphylococcus hominis"
          ],
          [
           true,
           "Staphylococcus hominis"
          ],
          [
           true,
           "Staphylococcus hominis"
          ],
          [
           true,
           "Staphylococcus hominis"
          ],
          [
           true,
           "Staphylococcus hominis"
          ],
          [
           true,
           "Staphylococcus aureus"
          ],
          [
           true,
           "Staphylococcus aureus"
          ],
          [
           true,
           "Staphylococcus aureus"
          ],
          [
           true,
           "Staphylococcus aureus"
          ],
          [
           true,
           "Staphylococcus aureus"
          ],
          [
           true,
           "Staphylococcus aureus"
          ],
          [
           true,
           "Staphylococcus aureus"
          ],
          [
           true,
           "Staphylococcus aureus"
          ],
          [
           true,
           "Staphylococcus aureus"
          ],
          [
           true,
           "Staphylococcus aureus"
          ],
          [
           true,
           "Staphylococcus aureus"
          ],
          [
           true,
           "Staphylococcus aureus"
          ],
          [
           true,
           "Staphylococcus aureus"
          ],
          [
           true,
           "Staphylococcus hominis"
          ],
          [
           true,
           "Staphylococcus hominis"
          ],
          [
           true,
           "Staphylococcus hominis"
          ],
          [
           true,
           "Staphylococcus hominis"
          ],
          [
           true,
           "Staphylococcus hominis"
          ],
          [
           true,
           "Staphylococcus aureus"
          ],
          [
           true,
           "Staphylococcus aureus"
          ],
          [
           true,
           "Staphylococcus aureus"
          ],
          [
           true,
           "Staphylococcus aureus"
          ],
          [
           true,
           "Staphylococcus aureus"
          ],
          [
           true,
           "Staphylococcus aureus"
          ],
          [
           true,
           "Staphylococcus aureus"
          ],
          [
           true,
           "Staphylococcus aureus"
          ],
          [
           true,
           "Staphylococcus aureus"
          ],
          [
           true,
           "Staphylococcus aureus"
          ],
          [
           true,
           "Streptococcus agalactiae"
          ],
          [
           true,
           "Streptococcus agalactiae"
          ],
          [
           true,
           "Streptococcus agalactiae"
          ],
          [
           true,
           "Streptococcus agalactiae"
          ],
          [
           true,
           "Streptococcus agalactiae"
          ],
          [
           true,
           "Streptococcus agalactiae"
          ],
          [
           true,
           "Streptococcus agalactiae"
          ],
          [
           true,
           "Streptococcus agalactiae"
          ],
          [
           true,
           "Streptococcus agalactiae"
          ],
          [
           true,
           "Streptococcus agalactiae"
          ],
          [
           true,
           "Streptococcus agalactiae"
          ],
          [
           true,
           "Streptococcus agalactiae"
          ],
          [
           true,
           "Streptococcus agalactiae"
          ],
          [
           true,
           "Streptococcus agalactiae"
          ],
          [
           true,
           "Streptococcus pneumoniae"
          ],
          [
           true,
           "Streptococcus pneumoniae"
          ],
          [
           true,
           "Streptococcus pneumoniae"
          ],
          [
           true,
           "Streptococcus pneumoniae"
          ],
          [
           true,
           "Streptococcus pneumoniae"
          ],
          [
           true,
           "Streptococcus pneumoniae"
          ],
          [
           true,
           "Streptococcus pneumoniae"
          ],
          [
           true,
           "Streptococcus pneumoniae"
          ],
          [
           true,
           "Streptococcus pyogenes"
          ],
          [
           true,
           "Streptococcus pyogenes"
          ],
          [
           true,
           "Streptococcus pyogenes"
          ],
          [
           true,
           "Streptococcus pneumoniae"
          ],
          [
           true,
           "Streptococcus pyogenes"
          ],
          [
           true,
           "Streptococcus pyogenes"
          ],
          [
           true,
           "Streptococcus pyogenes"
          ],
          [
           true,
           "Streptococcus pyogenes"
          ],
          [
           true,
           "Streptococcus pyogenes"
          ],
          [
           true,
           "Streptococcus pyogenes"
          ],
          [
           true,
           "Streptococcus pneumoniae"
          ],
          [
           true,
           "Streptococcus agalactiae"
          ],
          [
           true,
           "Streptococcus pneumoniae"
          ],
          [
           true,
           "Streptococcus agalactiae"
          ],
          [
           true,
           "Streptococcus agalactiae"
          ],
          [
           true,
           "Streptococcus agalactiae"
          ],
          [
           true,
           "Streptococcus agalactiae"
          ],
          [
           true,
           "Streptococcus agalactiae"
          ],
          [
           true,
           "Streptococcus agalactiae"
          ],
          [
           true,
           "Streptococcus agalactiae"
          ],
          [
           true,
           "Streptococcus agalactiae"
          ],
          [
           true,
           "Streptococcus agalactiae"
          ],
          [
           true,
           "Streptococcus pneumoniae"
          ],
          [
           true,
           "Streptococcus pneumoniae"
          ],
          [
           true,
           "Streptococcus pneumoniae"
          ],
          [
           true,
           "Streptococcus pneumoniae"
          ],
          [
           true,
           "Streptococcus pneumoniae"
          ],
          [
           true,
           "Streptococcus pneumoniae"
          ],
          [
           true,
           "Streptococcus pneumoniae"
          ],
          [
           true,
           "Streptococcus pneumoniae"
          ],
          [
           true,
           "Streptococcus pneumoniae"
          ],
          [
           true,
           "Streptococcus pyogenes"
          ],
          [
           true,
           "Streptococcus pyogenes"
          ],
          [
           true,
           "Streptococcus pyogenes"
          ],
          [
           true,
           "Streptococcus pyogenes"
          ],
          [
           true,
           "Streptococcus pyogenes"
          ],
          [
           true,
           "Streptococcus pyogenes"
          ],
          [
           true,
           "Streptococcus pyogenes"
          ],
          [
           true,
           "Streptococcus pyogenes"
          ],
          [
           true,
           "Streptococcus pyogenes"
          ],
          [
           true,
           "Streptococcus pyogenes"
          ],
          [
           true,
           "Streptococcus pyogenes"
          ],
          [
           true,
           "Streptococcus pneumoniae"
          ],
          [
           true,
           "Streptococcus pneumoniae"
          ],
          [
           true,
           "Streptococcus pneumoniae"
          ],
          [
           true,
           "Streptococcus pneumoniae"
          ],
          [
           true,
           "Streptococcus pneumoniae"
          ],
          [
           true,
           "Staphylococcus aureus"
          ],
          [
           true,
           "Staphylococcus epidermidis"
          ],
          [
           true,
           "Staphylococcus aureus"
          ],
          [
           true,
           "Staphylococcus aureus"
          ],
          [
           true,
           "Staphylococcus aureus"
          ],
          [
           true,
           "Staphylococcus aureus"
          ],
          [
           true,
           "Staphylococcus epidermidis"
          ],
          [
           true,
           "Staphylococcus epidermidis"
          ],
          [
           true,
           "Staphylococcus epidermidis"
          ],
          [
           true,
           "Staphylococcus epidermidis"
          ],
          [
           true,
           "Staphylococcus aureus"
          ],
          [
           true,
           "Staphylococcus hominis"
          ],
          [
           true,
           "Staphylococcus epidermidis"
          ],
          [
           true,
           "Staphylococcus aureus"
          ],
          [
           true,
           "Staphylococcus aureus"
          ],
          [
           true,
           "Staphylococcus aureus"
          ],
          [
           true,
           "Staphylococcus aureus"
          ],
          [
           true,
           "Staphylococcus aureus"
          ],
          [
           true,
           "Staphylococcus epidermidis"
          ],
          [
           true,
           "Staphylococcus epidermidis"
          ],
          [
           true,
           "Staphylococcus epidermidis"
          ],
          [
           true,
           "Staphylococcus epidermidis"
          ],
          [
           true,
           "Staphylococcus epidermidis"
          ],
          [
           true,
           "Staphylococcus epidermidis"
          ],
          [
           true,
           "Staphylococcus hominis"
          ],
          [
           true,
           "Staphylococcus hominis"
          ],
          [
           true,
           "Staphylococcus hominis"
          ],
          [
           true,
           "Staphylococcus aureus"
          ],
          [
           true,
           "Staphylococcus hominis"
          ],
          [
           true,
           "Staphylococcus hominis"
          ],
          [
           true,
           "Staphylococcus hominis"
          ],
          [
           true,
           "Staphylococcus hominis"
          ],
          [
           true,
           "Staphylococcus epidermidis"
          ],
          [
           true,
           "Staphylococcus epidermidis"
          ],
          [
           true,
           "Staphylococcus epidermidis"
          ]
         ],
         "hovertemplate": "<b>%{hovertext}</b><br><br>SIR=Intermediate<br>Log2(MIC-value)=%{y:.0f}<br>Scale=%{customdata[0]}<br>Pathogen=%{customdata[1]}<extra></extra>",
         "hovertext": [
          "QM803",
          "QM810",
          "QM1333",
          "QM876",
          "QM325",
          "QM1353",
          "QM152",
          "BAR064",
          "QM1387",
          "QM1456",
          "QM1457",
          "QM1460",
          "QM1461",
          "QM1464",
          "QM1468",
          "QM1469",
          "QM1470",
          "QM870",
          "QM871",
          "QM872",
          "HV752",
          "QM138",
          "QM1574",
          "QM026",
          "QM329",
          "QM1486",
          "QM1487",
          "QM876",
          "QM1334",
          "QM868",
          "QM1249",
          "QM870",
          "QM871",
          "HV752",
          "QM138",
          "QM1486",
          "QM1487",
          "QM806",
          "QM1353",
          "QM1470",
          "QM326",
          "QM328",
          "QM065",
          "QM294",
          "QM1391",
          "QM323",
          "QM085",
          "QM086",
          "QM895",
          "QM897",
          "HV146",
          "HV156",
          "HV912",
          "HV975",
          "QM088",
          "QM089",
          "HV559",
          "HV615",
          "BAR059",
          "QM359",
          "HV103",
          "HV107",
          "HV114",
          "HV271",
          "HV330",
          "HV412",
          "HV414",
          "HV740",
          "HV753",
          "HV448",
          "HV500",
          "HV508",
          "HV517",
          "QM1325",
          "QM1326",
          "QM1327",
          "QM1359",
          "QM1360",
          "QM1362",
          "QM1364",
          "QM1367",
          "QM1370",
          "QM1379",
          "QM1385",
          "QM1388",
          "QM1450",
          "HV986",
          "QM963",
          "QM964",
          "HV794",
          "HV902",
          "AR0563",
          "AR0470",
          "AR0475",
          "AR0476",
          "AR0477",
          "AR0478",
          "AR0221",
          "AR0481",
          "AR0490",
          "AR0704",
          "QM1007",
          "QM1008",
          "QM1010",
          "QM1011",
          "QM1013",
          "QM1014",
          "QM1015",
          "QM886",
          "BAR006",
          "BAR008",
          "BAR018",
          "BAR019",
          "BAR023",
          "BAR024",
          "QM803",
          "QM804",
          "QM805",
          "QM806",
          "QM807",
          "QM808",
          "QM810",
          "BAR026",
          "QM1002",
          "QM878",
          "QM879",
          "PER134",
          "QM880",
          "QM882",
          "QM883",
          "QM884",
          "PER159",
          "BAR009",
          "QM325",
          "QM1440",
          "QM1353",
          "QM1533",
          "QM1536",
          "QM1537",
          "QM1539",
          "QM1540",
          "QM1541",
          "QM1542",
          "QM1543",
          "QM1545",
          "QM1456",
          "QM1457",
          "QM1460",
          "QM1461",
          "QM1464",
          "QM1468",
          "QM1469",
          "QM1470",
          "QM1574",
          "QM1547",
          "QM1549",
          "QM1551",
          "QM1552",
          "QM1555",
          "QM1556",
          "QM1557",
          "QM1558",
          "QM1559",
          "QM1561",
          "QM1565",
          "QM025",
          "QM026",
          "QM027",
          "QM328",
          "QM329",
          "AR0720",
          "HV455",
          "AR0706",
          "AR0724",
          "QM321",
          "QM993",
          "HV116",
          "HV119",
          "HV146",
          "QM968",
          "QM1452",
          "QM093",
          "QM1258",
          "AR0490",
          "AR0225",
          "AR0716",
          "AR0721",
          "AR0724",
          "HV109",
          "HV119",
          "HV136",
          "HV953",
          "HV523",
          "QM968",
          "HV245",
          "HV277",
          "HV517",
          "QM1358",
          "QM963",
          "QM964",
          "HV88",
          "HV902",
          "HV733",
          "HV734",
          "HV744"
         ],
         "legendgroup": "Intermediate",
         "marker": {
          "color": "gold",
          "symbol": "circle"
         },
         "mode": "markers",
         "name": "Intermediate",
         "showlegend": true,
         "type": "scattergl",
         "x": [
          0.07777317989508098,
          0.07268124983960064,
          -0.11801518704730417,
          -0.040551018522405516,
          0.12992734838320816,
          -0.14410193293001408,
          -0.011218653014013452,
          0.0674312763692915,
          0.06541746688517558,
          -0.006655882702744892,
          -0.016837798637710177,
          -0.008049723697073574,
          -0.05716554391708657,
          0.016559621014884784,
          -0.030413753911427158,
          0.12287165961660138,
          -0.06189160444900779,
          -0.1266207117397645,
          -0.10029084871922508,
          0.07016166914388466,
          -0.13155886989552926,
          -0.12685947832812663,
          -0.14430352188972495,
          0.12731724414416654,
          -0.08882364220569348,
          -0.012768133569908274,
          -0.001164299254588913,
          1.1316040991198113,
          0.9750719815086448,
          0.8582618080792793,
          1.0813514179803816,
          0.8536472471291526,
          1.1048772582738617,
          1.0647243553909782,
          0.8977211176312366,
          0.8615501635534624,
          1.098756518533201,
          5.02191981559453,
          4.906582597839932,
          4.920627468853908,
          4.869658624355574,
          4.926875183686749,
          6.111810960727711,
          5.900227419607657,
          6.00867284119839,
          7.973777192924491,
          8.018332548890296,
          7.9805457604817605,
          8.133478589206112,
          7.917855276861048,
          8.022621143109518,
          8.005670320188568,
          7.8916331533654,
          7.992033654209639,
          8.033935026338565,
          7.857889506622266,
          8.008007474653146,
          8.025769098834441,
          7.876779379739563,
          8.067921217331225,
          7.948674611625132,
          7.991989848809857,
          8.075135434220082,
          8.141984079923937,
          7.985635042170408,
          7.955668802678772,
          8.106598090345692,
          7.932660090490013,
          7.951358279841446,
          7.892431102263179,
          8.051000579814898,
          8.106268253732884,
          7.867959602637625,
          8.06636462618495,
          7.8858304390143354,
          8.105894527511897,
          8.043347583254826,
          7.985210817366684,
          8.120354970527584,
          8.042440056189614,
          8.012996490399269,
          7.882481421528706,
          7.856535062360619,
          8.123487699619385,
          8.047655155768629,
          8.087589872885815,
          8.140821844136468,
          8.008184309709906,
          8.141626606257187,
          8.100032014806429,
          8.149565579244785,
          7.883361399829174,
          8.065073289397208,
          8.009947815813444,
          8.015242446163905,
          7.947741971251537,
          8.051844645857095,
          7.9686565316161015,
          7.866485550674145,
          8.02019583173349,
          7.987199504860605,
          8.85170700700883,
          9.031395391985406,
          9.11220717803408,
          9.035827780757465,
          9.079651082838643,
          8.988126374248287,
          9.0201000859223,
          9.052381922151373,
          9.080961180274977,
          9.020182077166064,
          9.107992415546317,
          9.106336938647289,
          9.00629614555044,
          9.01929809301473,
          8.875965002988757,
          9.013963065346768,
          9.037974763800479,
          8.898736286516858,
          8.936782982889456,
          9.072047959466655,
          9.054161073052528,
          9.140907037053982,
          9.000390627515264,
          8.990895367528564,
          8.886567093334584,
          9.132064541278005,
          8.92642389537819,
          9.014205227367638,
          8.854022761173923,
          9.067456796931747,
          8.960855524222982,
          8.969216225563315,
          8.869529404191235,
          8.981403972634928,
          9.060500902197406,
          9.081340137570113,
          8.909494411849106,
          8.885884387199667,
          8.90148053245524,
          9.090000599500236,
          9.07066344349645,
          8.974208705211414,
          8.989261752656779,
          9.074693839918371,
          8.911238597719032,
          9.107161223601638,
          8.977984581713805,
          9.13863871781255,
          9.112709948333718,
          9.05925223651295,
          9.045501235339495,
          9.072574739241135,
          8.933235195146919,
          9.002458208260567,
          9.082229736155206,
          8.995474530673272,
          8.968599380676054,
          9.019982771593211,
          9.08115895717794,
          8.944729188201972,
          8.878122665865439,
          9.013618186399933,
          8.862768793684985,
          8.933793801524628,
          8.904195963554791,
          9.017524316404337,
          8.963798689571252,
          9.128325752730063,
          8.851879039415605,
          14.143708102016866,
          15.10618711255121,
          14.906074567323635,
          14.94437887874943,
          16.04277138572783,
          15.865477332202902,
          16.104773429412507,
          16.09871629130189,
          16.132170215874115,
          16.050962289365284,
          15.958424508835694,
          16.11299203064787,
          15.955998808465136,
          16.039348028690746,
          15.973364844815432,
          16.016013275668463,
          15.94439927176617,
          15.881457287866978,
          19.931559674010092,
          20.11201882645175,
          19.88227946290908,
          19.885232479217912,
          20.121756155889752,
          19.90377905486346,
          20.035571643543765,
          19.867264629106433,
          20.08003114653977,
          19.969150869940506,
          19.923806391700644,
          20.019688244001077,
          19.96859959948207,
          19.96294688783013,
          19.950354050521888,
          20.09926977232572,
          20.140124568283973
         ],
         "xaxis": "x",
         "y": [
          -0.9924817807189763,
          -2.0356803259190768,
          1.0120554773617259,
          0.00013890457972663695,
          -1.0164754090512664,
          1.0411856864535602,
          -0.024125670173664106,
          0.9735547766168481,
          1.040592728175209,
          -2.0357423918179474,
          -2.0219293072077638,
          -1.9783646190780053,
          -2.042048365334813,
          -2.0387278022267092,
          1.0135463660535722,
          -2.0449507141700054,
          1.0236634274613543,
          -0.033964599937442344,
          -1.020200221422225,
          0.9950760629688306,
          -0.003131958031195904,
          0.01449568297614054,
          -1.9502721677659816,
          0.9572026351289112,
          -2.0168259384779432,
          1.011733919663635,
          0.01555682168942163,
          0.018147107976044824,
          0.04823038857797174,
          -0.02976763322511088,
          2.998396728448088,
          1.0125936762969472,
          0.04385016789874695,
          0.0030242853200339453,
          1.019192060728824,
          0.019332833437010796,
          0.9891646439484045,
          0.048416285765386036,
          -0.00327922187408871,
          0.005247217156446868,
          0.030465591295031277,
          -0.01025079602377281,
          1.9916711675420438,
          0.9578181150097888,
          -3.002522625704592,
          -2.0061313681548936,
          -2.023977895547829,
          -1.9803729270440753,
          -0.02925029745883212,
          -2.039104915308015,
          -1.9880794785568208,
          -1.9841737614059867,
          -2.0076073185019134,
          -1.9818658411915893,
          -2.9668019275772455,
          -2.99185614192553,
          -2.9665331544623963,
          -1.9909390878793203,
          -0.03379912101463092,
          -2.0302692361205192,
          -2.9549274173152735,
          -3.000970528135363,
          -2.95066053004402,
          0.025545140997528873,
          -3.046022229289841,
          -2.9725843900222806,
          -3.9515147318579475,
          -4.032571570985547,
          -3.976231523089964,
          -3.036491281676618,
          -2.98250439553677,
          -0.029678387593382982,
          -4.015032810370949,
          -0.9502345635335233,
          -0.008094309450955572,
          -2.03221744931118,
          -0.980245061008304,
          -0.004533955780722278,
          -0.971412667179657,
          -0.9786185543268664,
          -0.9565311474153464,
          0.0021813146724798255,
          0.046960249900562634,
          -0.009987710705032092,
          -0.021683663489776652,
          -1.0393168862548907,
          -2.9550532989886995,
          -2.9971073736221205,
          -3.0326445840279264,
          -3.0313809132418177,
          -2.9617986722431846,
          -2.001144442312895,
          -2.997479752966222,
          -0.9735843742964138,
          -2.009391072975565,
          -2.0144856075571624,
          -2.0221564134950096,
          -0.9880407708189953,
          -2.028716531719907,
          0.009814546663069891,
          -1.9618704401753868,
          -1.0300595107811248,
          -1.0349865338926303,
          -1.000106467056165,
          0.03376086079616092,
          -0.006578135188719192,
          -0.049321605650507284,
          -0.9955867325803023,
          -1.0072255093452822,
          -0.028398051176453578,
          -1.0363359764325595,
          -0.0214859953658754,
          -0.03846997648515102,
          -0.04274061005809823,
          -0.0034375984239056537,
          -0.02090796520172873,
          0.02639117951934719,
          0.03614244728356515,
          0.04718009448835141,
          -0.0024857997335831494,
          -0.005010462750177538,
          0.03757343827184022,
          0.022695051523086957,
          1.0258266549104789,
          -1.0388186386178353,
          -0.026303740627453588,
          0.018588860897629247,
          -2.036832961955324,
          -0.01501086101052812,
          0.031232556072606,
          -1.9908010497238344,
          -1.0089278369834713,
          -1.0336879317131311,
          -1.0459264480440669,
          -0.00043288060569621895,
          -0.004240662446411747,
          0.04731825491430147,
          0.018774585757001735,
          0.020063641855085496,
          1.0321611965278803,
          0.9907410443678896,
          0.01559435314823529,
          -0.9742526867778343,
          -0.013758669492645106,
          0.014237159320513962,
          -0.013932176335065827,
          -0.020641280874555336,
          -0.003422708424510347,
          0.000915860096350106,
          -0.03979078541404229,
          -0.0008382711402656756,
          -0.03251216636541614,
          0.022795552645459474,
          0.0027074978883146264,
          0.04952430653164468,
          0.03321161933494196,
          -0.9591809717141243,
          0.019702593013096972,
          -1.0274850637613768,
          -1.020905105178863,
          -0.022874016546977995,
          -0.019342781874047976,
          -0.03851624379488733,
          -0.011934575324201967,
          0.02344302487010852,
          -0.035217919846322436,
          0.03131270264787492,
          -0.04325031104811131,
          0.045658146271629826,
          -0.024979450603950428,
          1.0391861635807194,
          -1.0332409334890547,
          -1.0269706503678027,
          -0.9653067680856194,
          1.0057603277112226,
          1.0376005743527814,
          0.9846575653317751,
          1.040920277410909,
          1.0394500746724085,
          0.9835772807116983,
          0.9814302703405505,
          1.0127908700253427,
          0.9667525767893571,
          0.9842076205162026,
          0.950215233186721,
          1.0167172369057225,
          1.0441478138919793,
          0.9942167786935192,
          2.044278699190489,
          2.0163264608833718,
          1.993321674296333,
          2.0404275517979453,
          2.0332739242651834,
          1.950644066040261,
          2.004070823795911,
          2.026423519407656,
          1.9624256399730027,
          1.9525746948377969,
          1.9950973009666284,
          2.0477041832140155,
          2.027228364623202,
          1.9550207141845137,
          2.0285664672362866,
          2.03058903897572,
          2.016081782338179
         ],
         "yaxis": "y"
        }
       ],
       "layout": {
        "legend": {
         "orientation": "h",
         "title": {
          "text": "SIR"
         },
         "tracegroupgap": 0,
         "x": 1,
         "xanchor": "right",
         "y": 1.02,
         "yanchor": "bottom"
        },
        "template": {
         "data": {
          "bar": [
           {
            "error_x": {
             "color": "#2a3f5f"
            },
            "error_y": {
             "color": "#2a3f5f"
            },
            "marker": {
             "line": {
              "color": "#E5ECF6",
              "width": 0.5
             },
             "pattern": {
              "fillmode": "overlay",
              "size": 10,
              "solidity": 0.2
             }
            },
            "type": "bar"
           }
          ],
          "barpolar": [
           {
            "marker": {
             "line": {
              "color": "#E5ECF6",
              "width": 0.5
             },
             "pattern": {
              "fillmode": "overlay",
              "size": 10,
              "solidity": 0.2
             }
            },
            "type": "barpolar"
           }
          ],
          "carpet": [
           {
            "aaxis": {
             "endlinecolor": "#2a3f5f",
             "gridcolor": "white",
             "linecolor": "white",
             "minorgridcolor": "white",
             "startlinecolor": "#2a3f5f"
            },
            "baxis": {
             "endlinecolor": "#2a3f5f",
             "gridcolor": "white",
             "linecolor": "white",
             "minorgridcolor": "white",
             "startlinecolor": "#2a3f5f"
            },
            "type": "carpet"
           }
          ],
          "choropleth": [
           {
            "colorbar": {
             "outlinewidth": 0,
             "ticks": ""
            },
            "type": "choropleth"
           }
          ],
          "contour": [
           {
            "colorbar": {
             "outlinewidth": 0,
             "ticks": ""
            },
            "colorscale": [
             [
              0,
              "#0d0887"
             ],
             [
              0.1111111111111111,
              "#46039f"
             ],
             [
              0.2222222222222222,
              "#7201a8"
             ],
             [
              0.3333333333333333,
              "#9c179e"
             ],
             [
              0.4444444444444444,
              "#bd3786"
             ],
             [
              0.5555555555555556,
              "#d8576b"
             ],
             [
              0.6666666666666666,
              "#ed7953"
             ],
             [
              0.7777777777777778,
              "#fb9f3a"
             ],
             [
              0.8888888888888888,
              "#fdca26"
             ],
             [
              1,
              "#f0f921"
             ]
            ],
            "type": "contour"
           }
          ],
          "contourcarpet": [
           {
            "colorbar": {
             "outlinewidth": 0,
             "ticks": ""
            },
            "type": "contourcarpet"
           }
          ],
          "heatmap": [
           {
            "colorbar": {
             "outlinewidth": 0,
             "ticks": ""
            },
            "colorscale": [
             [
              0,
              "#0d0887"
             ],
             [
              0.1111111111111111,
              "#46039f"
             ],
             [
              0.2222222222222222,
              "#7201a8"
             ],
             [
              0.3333333333333333,
              "#9c179e"
             ],
             [
              0.4444444444444444,
              "#bd3786"
             ],
             [
              0.5555555555555556,
              "#d8576b"
             ],
             [
              0.6666666666666666,
              "#ed7953"
             ],
             [
              0.7777777777777778,
              "#fb9f3a"
             ],
             [
              0.8888888888888888,
              "#fdca26"
             ],
             [
              1,
              "#f0f921"
             ]
            ],
            "type": "heatmap"
           }
          ],
          "heatmapgl": [
           {
            "colorbar": {
             "outlinewidth": 0,
             "ticks": ""
            },
            "colorscale": [
             [
              0,
              "#0d0887"
             ],
             [
              0.1111111111111111,
              "#46039f"
             ],
             [
              0.2222222222222222,
              "#7201a8"
             ],
             [
              0.3333333333333333,
              "#9c179e"
             ],
             [
              0.4444444444444444,
              "#bd3786"
             ],
             [
              0.5555555555555556,
              "#d8576b"
             ],
             [
              0.6666666666666666,
              "#ed7953"
             ],
             [
              0.7777777777777778,
              "#fb9f3a"
             ],
             [
              0.8888888888888888,
              "#fdca26"
             ],
             [
              1,
              "#f0f921"
             ]
            ],
            "type": "heatmapgl"
           }
          ],
          "histogram": [
           {
            "marker": {
             "pattern": {
              "fillmode": "overlay",
              "size": 10,
              "solidity": 0.2
             }
            },
            "type": "histogram"
           }
          ],
          "histogram2d": [
           {
            "colorbar": {
             "outlinewidth": 0,
             "ticks": ""
            },
            "colorscale": [
             [
              0,
              "#0d0887"
             ],
             [
              0.1111111111111111,
              "#46039f"
             ],
             [
              0.2222222222222222,
              "#7201a8"
             ],
             [
              0.3333333333333333,
              "#9c179e"
             ],
             [
              0.4444444444444444,
              "#bd3786"
             ],
             [
              0.5555555555555556,
              "#d8576b"
             ],
             [
              0.6666666666666666,
              "#ed7953"
             ],
             [
              0.7777777777777778,
              "#fb9f3a"
             ],
             [
              0.8888888888888888,
              "#fdca26"
             ],
             [
              1,
              "#f0f921"
             ]
            ],
            "type": "histogram2d"
           }
          ],
          "histogram2dcontour": [
           {
            "colorbar": {
             "outlinewidth": 0,
             "ticks": ""
            },
            "colorscale": [
             [
              0,
              "#0d0887"
             ],
             [
              0.1111111111111111,
              "#46039f"
             ],
             [
              0.2222222222222222,
              "#7201a8"
             ],
             [
              0.3333333333333333,
              "#9c179e"
             ],
             [
              0.4444444444444444,
              "#bd3786"
             ],
             [
              0.5555555555555556,
              "#d8576b"
             ],
             [
              0.6666666666666666,
              "#ed7953"
             ],
             [
              0.7777777777777778,
              "#fb9f3a"
             ],
             [
              0.8888888888888888,
              "#fdca26"
             ],
             [
              1,
              "#f0f921"
             ]
            ],
            "type": "histogram2dcontour"
           }
          ],
          "mesh3d": [
           {
            "colorbar": {
             "outlinewidth": 0,
             "ticks": ""
            },
            "type": "mesh3d"
           }
          ],
          "parcoords": [
           {
            "line": {
             "colorbar": {
              "outlinewidth": 0,
              "ticks": ""
             }
            },
            "type": "parcoords"
           }
          ],
          "pie": [
           {
            "automargin": true,
            "type": "pie"
           }
          ],
          "scatter": [
           {
            "fillpattern": {
             "fillmode": "overlay",
             "size": 10,
             "solidity": 0.2
            },
            "type": "scatter"
           }
          ],
          "scatter3d": [
           {
            "line": {
             "colorbar": {
              "outlinewidth": 0,
              "ticks": ""
             }
            },
            "marker": {
             "colorbar": {
              "outlinewidth": 0,
              "ticks": ""
             }
            },
            "type": "scatter3d"
           }
          ],
          "scattercarpet": [
           {
            "marker": {
             "colorbar": {
              "outlinewidth": 0,
              "ticks": ""
             }
            },
            "type": "scattercarpet"
           }
          ],
          "scattergeo": [
           {
            "marker": {
             "colorbar": {
              "outlinewidth": 0,
              "ticks": ""
             }
            },
            "type": "scattergeo"
           }
          ],
          "scattergl": [
           {
            "marker": {
             "colorbar": {
              "outlinewidth": 0,
              "ticks": ""
             }
            },
            "type": "scattergl"
           }
          ],
          "scattermapbox": [
           {
            "marker": {
             "colorbar": {
              "outlinewidth": 0,
              "ticks": ""
             }
            },
            "type": "scattermapbox"
           }
          ],
          "scatterpolar": [
           {
            "marker": {
             "colorbar": {
              "outlinewidth": 0,
              "ticks": ""
             }
            },
            "type": "scatterpolar"
           }
          ],
          "scatterpolargl": [
           {
            "marker": {
             "colorbar": {
              "outlinewidth": 0,
              "ticks": ""
             }
            },
            "type": "scatterpolargl"
           }
          ],
          "scatterternary": [
           {
            "marker": {
             "colorbar": {
              "outlinewidth": 0,
              "ticks": ""
             }
            },
            "type": "scatterternary"
           }
          ],
          "surface": [
           {
            "colorbar": {
             "outlinewidth": 0,
             "ticks": ""
            },
            "colorscale": [
             [
              0,
              "#0d0887"
             ],
             [
              0.1111111111111111,
              "#46039f"
             ],
             [
              0.2222222222222222,
              "#7201a8"
             ],
             [
              0.3333333333333333,
              "#9c179e"
             ],
             [
              0.4444444444444444,
              "#bd3786"
             ],
             [
              0.5555555555555556,
              "#d8576b"
             ],
             [
              0.6666666666666666,
              "#ed7953"
             ],
             [
              0.7777777777777778,
              "#fb9f3a"
             ],
             [
              0.8888888888888888,
              "#fdca26"
             ],
             [
              1,
              "#f0f921"
             ]
            ],
            "type": "surface"
           }
          ],
          "table": [
           {
            "cells": {
             "fill": {
              "color": "#EBF0F8"
             },
             "line": {
              "color": "white"
             }
            },
            "header": {
             "fill": {
              "color": "#C8D4E3"
             },
             "line": {
              "color": "white"
             }
            },
            "type": "table"
           }
          ]
         },
         "layout": {
          "annotationdefaults": {
           "arrowcolor": "#2a3f5f",
           "arrowhead": 0,
           "arrowwidth": 1
          },
          "autotypenumbers": "strict",
          "coloraxis": {
           "colorbar": {
            "outlinewidth": 0,
            "ticks": ""
           }
          },
          "colorscale": {
           "diverging": [
            [
             0,
             "#8e0152"
            ],
            [
             0.1,
             "#c51b7d"
            ],
            [
             0.2,
             "#de77ae"
            ],
            [
             0.3,
             "#f1b6da"
            ],
            [
             0.4,
             "#fde0ef"
            ],
            [
             0.5,
             "#f7f7f7"
            ],
            [
             0.6,
             "#e6f5d0"
            ],
            [
             0.7,
             "#b8e186"
            ],
            [
             0.8,
             "#7fbc41"
            ],
            [
             0.9,
             "#4d9221"
            ],
            [
             1,
             "#276419"
            ]
           ],
           "sequential": [
            [
             0,
             "#0d0887"
            ],
            [
             0.1111111111111111,
             "#46039f"
            ],
            [
             0.2222222222222222,
             "#7201a8"
            ],
            [
             0.3333333333333333,
             "#9c179e"
            ],
            [
             0.4444444444444444,
             "#bd3786"
            ],
            [
             0.5555555555555556,
             "#d8576b"
            ],
            [
             0.6666666666666666,
             "#ed7953"
            ],
            [
             0.7777777777777778,
             "#fb9f3a"
            ],
            [
             0.8888888888888888,
             "#fdca26"
            ],
            [
             1,
             "#f0f921"
            ]
           ],
           "sequentialminus": [
            [
             0,
             "#0d0887"
            ],
            [
             0.1111111111111111,
             "#46039f"
            ],
            [
             0.2222222222222222,
             "#7201a8"
            ],
            [
             0.3333333333333333,
             "#9c179e"
            ],
            [
             0.4444444444444444,
             "#bd3786"
            ],
            [
             0.5555555555555556,
             "#d8576b"
            ],
            [
             0.6666666666666666,
             "#ed7953"
            ],
            [
             0.7777777777777778,
             "#fb9f3a"
            ],
            [
             0.8888888888888888,
             "#fdca26"
            ],
            [
             1,
             "#f0f921"
            ]
           ]
          },
          "colorway": [
           "#636efa",
           "#EF553B",
           "#00cc96",
           "#ab63fa",
           "#FFA15A",
           "#19d3f3",
           "#FF6692",
           "#B6E880",
           "#FF97FF",
           "#FECB52"
          ],
          "font": {
           "color": "#2a3f5f"
          },
          "geo": {
           "bgcolor": "white",
           "lakecolor": "white",
           "landcolor": "#E5ECF6",
           "showlakes": true,
           "showland": true,
           "subunitcolor": "white"
          },
          "hoverlabel": {
           "align": "left"
          },
          "hovermode": "closest",
          "mapbox": {
           "style": "light"
          },
          "paper_bgcolor": "white",
          "plot_bgcolor": "#E5ECF6",
          "polar": {
           "angularaxis": {
            "gridcolor": "white",
            "linecolor": "white",
            "ticks": ""
           },
           "bgcolor": "#E5ECF6",
           "radialaxis": {
            "gridcolor": "white",
            "linecolor": "white",
            "ticks": ""
           }
          },
          "scene": {
           "xaxis": {
            "backgroundcolor": "#E5ECF6",
            "gridcolor": "white",
            "gridwidth": 2,
            "linecolor": "white",
            "showbackground": true,
            "ticks": "",
            "zerolinecolor": "white"
           },
           "yaxis": {
            "backgroundcolor": "#E5ECF6",
            "gridcolor": "white",
            "gridwidth": 2,
            "linecolor": "white",
            "showbackground": true,
            "ticks": "",
            "zerolinecolor": "white"
           },
           "zaxis": {
            "backgroundcolor": "#E5ECF6",
            "gridcolor": "white",
            "gridwidth": 2,
            "linecolor": "white",
            "showbackground": true,
            "ticks": "",
            "zerolinecolor": "white"
           }
          },
          "shapedefaults": {
           "line": {
            "color": "#2a3f5f"
           }
          },
          "ternary": {
           "aaxis": {
            "gridcolor": "white",
            "linecolor": "white",
            "ticks": ""
           },
           "baxis": {
            "gridcolor": "white",
            "linecolor": "white",
            "ticks": ""
           },
           "bgcolor": "#E5ECF6",
           "caxis": {
            "gridcolor": "white",
            "linecolor": "white",
            "ticks": ""
           }
          },
          "title": {
           "x": 0.05
          },
          "xaxis": {
           "automargin": true,
           "gridcolor": "white",
           "linecolor": "white",
           "ticks": "",
           "title": {
            "standoff": 15
           },
           "zerolinecolor": "white",
           "zerolinewidth": 2
          },
          "yaxis": {
           "automargin": true,
           "gridcolor": "white",
           "linecolor": "white",
           "ticks": "",
           "title": {
            "standoff": 15
           },
           "zerolinecolor": "white",
           "zerolinewidth": 2
          }
         }
        },
        "title": {
         "text": "Isolate log2(MIC-values) for different antibiotics",
         "x": 0.5
        },
        "xaxis": {
         "anchor": "y",
         "domain": [
          0,
          1
         ],
         "tickmode": "array",
         "ticktext": [
          "Benzylpenicillin",
          "Ampicillin",
          "Cefoxitin",
          "Ceftaroline",
          "Ceftobiprole",
          "Ceftriaxone",
          "Imipenem",
          "Meropenem",
          "Ciprofloxacin",
          "Levofloxacin",
          "Gentamicin",
          "Dalbavancin",
          "Teicoplanin",
          "Vancomycin",
          "Erythromycin",
          "Clindamycin",
          "Tetracycline",
          "Linezolid",
          "Daptomycin",
          "Rifampicin",
          "Trimeth-sulf",
          "D-test",
          "Optochin"
         ],
         "tickvals": [
          0,
          1,
          2,
          3,
          4,
          5,
          6,
          7,
          8,
          9,
          10,
          11,
          12,
          13,
          14,
          15,
          16,
          17,
          18,
          19,
          20,
          21,
          22
         ],
         "title": {
          "text": "Antibiotics"
         }
        },
        "yaxis": {
         "anchor": "x",
         "domain": [
          0,
          1
         ],
         "range": [
          -11,
          12
         ],
         "tickmode": "array",
         "ticktext": [
          "Min C",
          "0.00195",
          "0.00391",
          "0.00781",
          "0.01563",
          "0.03125",
          "0.0625",
          "0.125",
          "0.25",
          "0.5",
          "1",
          "2",
          "4",
          "8",
          "16",
          "32",
          "64",
          "128",
          "256",
          "512",
          "1024",
          "Max C"
         ],
         "tickvals": [
          -10,
          -9,
          -8,
          -7,
          -6,
          -5,
          -4,
          -3,
          -2,
          -1,
          0,
          1,
          2,
          3,
          4,
          5,
          6,
          7,
          8,
          9,
          10,
          11
         ],
         "title": {
          "text": "Log2(MIC-value)"
         }
        }
       }
      }
     },
     "metadata": {},
     "output_type": "display_data"
    }
   ],
   "source": [
    "def main():\n",
    "    # Load files\n",
    "    chosen_isolates_list = pd.read_csv(\"Chosen_isolates_list.csv\")\n",
    "    CIB = pd.ExcelFile(\"CIB_TF-data_AllIsolates_20230302.xlsx\")\n",
    "    matrix_EU = pd.read_excel(CIB, \"matrix EU\")\n",
    "    \n",
    "    # Rename a long name for plotting purposes\n",
    "    matrix_EU.rename(columns={\"Trimethoprim-sulfamethoxazole\": \"Trimeth-sulf\"}, inplace=True)\n",
    "    \n",
    "    # Select isolates\n",
    "    chosen_isolates = extract_chosen_isolates(chosen_isolates_list, matrix_EU)\n",
    "    \n",
    "    # List of antiiotic names\n",
    "    antibiotics = list(chosen_isolates.columns[3:])    \n",
    "     \n",
    "    # Extract all SIRs for an antibiotic.\n",
    "    chosen_isolates_SIR = extract_SIR(chosen_isolates, antibiotics)\n",
    "    \n",
    "    # Remove the tuples that have None in their SIR data\n",
    "    filtered_chosen_isolates_SIR = filter_mic_values(chosen_isolates_SIR)\n",
    "    \n",
    "    # Extract the mic-values of each isolate for each antibiotic.\n",
    "    mic_data = extract_mic_data(filtered_chosen_isolates_SIR, antibiotics)\n",
    "    \n",
    "    # Create dataframe used for plotting\n",
    "    plot_df = create_plot_df(antibiotics, mic_data)\n",
    "    \n",
    "    plotly_dotplot(plot_df, antibiotics)\n",
    "    \n",
    "if __name__ == \"__main__\":\n",
    "    main()\n"
   ]
  }
 ],
 "metadata": {
  "kernelspec": {
   "display_name": "Python 3",
   "language": "python",
   "name": "python3"
  },
  "language_info": {
   "codemirror_mode": {
    "name": "ipython",
    "version": 3
   },
   "file_extension": ".py",
   "mimetype": "text/x-python",
   "name": "python",
   "nbconvert_exporter": "python",
   "pygments_lexer": "ipython3",
   "version": "3.11.0"
  },
  "orig_nbformat": 4
 },
 "nbformat": 4,
 "nbformat_minor": 2
}
