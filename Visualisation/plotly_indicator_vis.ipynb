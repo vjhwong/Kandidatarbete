{
 "cells": [
  {
   "cell_type": "code",
   "execution_count": 1,
   "metadata": {},
   "outputs": [],
   "source": [
    "import pandas as pd\n",
    "import numpy as np\n",
    "import plotly.express as px"
   ]
  },
  {
   "cell_type": "code",
   "execution_count": 2,
   "metadata": {},
   "outputs": [],
   "source": [
    "def extract_chosen_isolates(\n",
    "    chosen_isolates: pd.DataFrame, matrix_EU: pd.DataFrame\n",
    ") -> pd.DataFrame:\n",
    "    \"\"\"\n",
    "    Select the chosen isolates from the script. Return a DataFrame only containing the rows of selected isolates\n",
    "    \"\"\"\n",
    "    chosen_rows = matrix_EU[\"Isolate\"].isin(chosen_isolates[\"Isolate\"])\n",
    "    return matrix_EU[chosen_rows]"
   ]
  },
  {
   "cell_type": "code",
   "execution_count": 3,
   "metadata": {},
   "outputs": [],
   "source": [
    "def find_digits(SIR: str) -> int:\n",
    "    \"\"\"Find numbers in a string\"\"\"\n",
    "    digit = \"\"\n",
    "    for character in SIR:\n",
    "        if character.isdigit() or character == \".\":\n",
    "            digit += character\n",
    "    return float(digit)"
   ]
  },
  {
   "cell_type": "code",
   "execution_count": 4,
   "metadata": {},
   "outputs": [],
   "source": [
    "def get_scale(SIR: str) -> bool:\n",
    "    \"\"\"Get on or off scale. True == on-scale\"\"\"\n",
    "    if \"=\" in SIR:\n",
    "        return True\n",
    "    elif \"<\" in SIR or \">\" in SIR:\n",
    "        return False\n",
    "    else:\n",
    "        raise ValueError(\"Not a valid SIR\")"
   ]
  },
  {
   "cell_type": "code",
   "execution_count": 5,
   "metadata": {},
   "outputs": [],
   "source": [
    "def parse_SIR(SIR: str) -> bool:\n",
    "    \"\"\"\n",
    "    Find the isolates with valid SIRs. Not 'Missing BP'\n",
    "    and not 'nip'.\n",
    "    \"\"\"\n",
    "    if SIR.startswith(\"Missing BP\"):\n",
    "        return False\n",
    "    if SIR == \"nip\":\n",
    "        return False\n",
    "    return True      "
   ]
  },
  {
   "cell_type": "code",
   "execution_count": 6,
   "metadata": {},
   "outputs": [],
   "source": [
    "def extract_SIR(chosen_isolates: pd.DataFrame, antibiotics: list) -> dict:\n",
    "    \"\"\"\n",
    "    Extract all SIRs for an antibiotic. Returns a dictionary\n",
    "    with antibiotcs as keys and lists of the isolates and their\n",
    "    SIRs in tuples as value.\n",
    "    \"\"\"\n",
    "    chosen_isolates_SIR ={antibiotic: [] for antibiotic in antibiotics}\n",
    "    \n",
    "    for index, row in chosen_isolates.iterrows():\n",
    "        isolate, pathogen, antibiotic_SIR = row[0], row[1], list(row[3:].items())\n",
    "        for antibiotic, SIR in antibiotic_SIR:\n",
    "            if parse_SIR(SIR):\n",
    "                mic_category = SIR[0]\n",
    "                mic = find_digits(SIR)\n",
    "                scale = get_scale(SIR)\n",
    "                chosen_isolates_SIR[antibiotic].append((isolate, mic, mic_category, scale, pathogen))\n",
    "            else:\n",
    "                # If SIR = \"Missing BP\" or \"nip\"\n",
    "                chosen_isolates_SIR[antibiotic].append((isolate, SIR, None, None, pathogen))\n",
    "    return chosen_isolates_SIR"
   ]
  },
  {
   "cell_type": "code",
   "execution_count": 7,
   "metadata": {},
   "outputs": [],
   "source": [
    "def filter_mic_values(chosen_isolates_SIR: dict) -> None:\n",
    "    \"\"\"\n",
    "    Remove the tuples that have None in their SIR data\n",
    "    \"\"\"\n",
    "    for antibiotic, SIR_data in chosen_isolates_SIR.items():\n",
    "        # tup = (isolate, mic_value, mic_category, scale, pathogen)\n",
    "        chosen_isolates_SIR[antibiotic] = list((tup for tup in SIR_data if tup[2] is not None))\n",
    "    return chosen_isolates_SIR"
   ]
  },
  {
   "cell_type": "code",
   "execution_count": 8,
   "metadata": {},
   "outputs": [],
   "source": [
    "def extract_mic_data(chosen_isolates_SIR: dict, antibiotics: list) -> list:\n",
    "    \"\"\"\n",
    "    Extract the mic-values of each isolate for each antibiotic.\n",
    "    Returns a nested list. Each list represents the mic-values of \n",
    "    all isolates for an antibiotic.\n",
    "    \"\"\"\n",
    "    mic_values = []\n",
    "    # Iterate over all antibioticsz\n",
    "    for antibiotic in antibiotics:\n",
    "        # Create a list to hold the mic-values of isolates for that abx\n",
    "        antibiotic_mic_values = []\n",
    "        # Get value of current abx. List of (isolate, mic_value, mic_category)\n",
    "        SIR_data = chosen_isolates_SIR[antibiotic]\n",
    "        for isolate, mic_value, mic_category, scale, pathogen in SIR_data:\n",
    "            antibiotic_mic_values.append((isolate, np.log2(mic_value), mic_category, scale, pathogen))\n",
    "        mic_values.append(antibiotic_mic_values)\n",
    "    return mic_values"
   ]
  },
  {
   "cell_type": "code",
   "execution_count": 9,
   "metadata": {},
   "outputs": [],
   "source": [
    "def create_plot_df(antibiotics: list, mic_data: list, x_jitter: float=0.15 , y_jitter: float=0.05) -> pd.DataFrame:\n",
    "    \"\"\"Create dataframe used for plotting\"\"\"\n",
    "    \n",
    "    mic_dict = {\n",
    "        \"S\": (\"limegreen\", \"Sensitive\"),\n",
    "        \"I\": (\"gold\", \"Intermediate\"),\n",
    "        \"R\": (\"tomato\", \"Resistant\"),\n",
    "    }\n",
    "    \n",
    "    # Set ticks of x axis\n",
    "    x_axis = [i for i in range(len(antibiotics))]\n",
    "\n",
    "    # Initialize lists to hold values used for plotting\n",
    "    x_values, y_values = [], []\n",
    "    SIR_category_list = []\n",
    "    isolate_names = []\n",
    "    on_off_scale = []\n",
    "    pathogen_list = []\n",
    "\n",
    "    for x_value, abx_mic_data in zip(x_axis, mic_data):\n",
    "        for isolate, mic_value, SIR_category, scale, pathogen in abx_mic_data:            \n",
    "            # Add random noise to avoid overlapping\n",
    "            x_value_jitter = x_value + np.random.uniform(-x_jitter, x_jitter)\n",
    "            mic_value_jitter = mic_value + np.random.uniform(-y_jitter, y_jitter)\n",
    "            # Add data to the lists\n",
    "            isolate_names.append(isolate)\n",
    "            x_values.append(x_value_jitter)\n",
    "            SIR_category_list.append(mic_dict[SIR_category][1])\n",
    "            on_off_scale.append(scale)\n",
    "            pathogen_list.append(pathogen)\n",
    "            if scale is True:\n",
    "                y_values.append(mic_value_jitter)\n",
    "            elif scale is False:\n",
    "                if SIR_category == \"S\":\n",
    "                    y_values.append(-10)\n",
    "                elif SIR_category == \"R\":\n",
    "                    y_values.append(11)\n",
    "                else:\n",
    "                    raise ValueError(f\"SIR Category must be either S or R, not: {SIR_category}\")\n",
    "            else:\n",
    "                raise ValueError(f\"scale must be Boolean value, not {type(scale)}. Current value: {scale}\")\n",
    "\n",
    "    # Create a DF used for plotting\n",
    "    plot_df = pd.DataFrame(\n",
    "        {\n",
    "            \"Antibiotics\": x_values,\n",
    "            \"Log2(MIC-value)\": y_values,\n",
    "            \"Isolate names\": isolate_names,\n",
    "            \"SIR\": SIR_category_list,\n",
    "            \"Scale\": on_off_scale,\n",
    "            \"Pathogen\": pathogen_list\n",
    "        },\n",
    "        index=np.arange(len(x_values)),\n",
    "    )\n",
    "    \n",
    "    return plot_df"
   ]
  },
  {
   "cell_type": "code",
   "execution_count": 10,
   "metadata": {},
   "outputs": [],
   "source": [
    "def plotly_dotplot(plot_df: pd.DataFrame, antibiotics: list) -> None:\n",
    "    \n",
    "    # Set ticks of x axis\n",
    "    x_axis = [i for i in range(len(antibiotics))]\n",
    "    \n",
    "    y_axis_ticktext = [\n",
    "            \"Min C\", \"0.00195\", \"0.00391\", \"0.00781\", \"0.01563\",\"0.03125\", \"0.0625\", \"0.125\", \n",
    "            \"0.25\", \"0.5\", \"1\", \"2\", \"4\", \"8\", \"16\", \"32\", \"64\", \"128\", \"256\", \"512\", \"1024\", \"Max C\"\n",
    "            ]\n",
    "\n",
    "    #plot\n",
    "    fig = px.scatter(\n",
    "        plot_df,\n",
    "        x=\"Antibiotics\",\n",
    "        y=\"Log2(MIC-value)\",\n",
    "        hover_name=\"Isolate names\",\n",
    "        color=\"SIR\",\n",
    "        opacity=0.3,\n",
    "        title=\"Isolate log2(MIC-values) for different antibiotics\",\n",
    "        range_y=[-11, 12],\n",
    "        hover_data={\n",
    "            \"Antibiotics\": False, \n",
    "            \"Log2(MIC-value)\": \":.0f\", \n",
    "            \"Scale\": True,\n",
    "            \"Pathogen\": True\n",
    "            },\n",
    "    )\n",
    "\n",
    "    # Changes the dot color depending on SIR category\n",
    "    def change_trace_color(trace):\n",
    "        if trace.name == \"Resistant\":\n",
    "            trace.update(marker_color=\"tomato\")\n",
    "        elif trace.name == \"Intermediate\":\n",
    "            trace.update(marker_color=\"gold\")\n",
    "        elif trace.name == \"Sensitive\":\n",
    "            trace.update(marker_color=\"limegreen\")\n",
    "        else:\n",
    "            raise ValueError(\"Not a valid trace\")\n",
    "        \n",
    "        # if trace.scale == False:\n",
    "        #     trace.update(marker_symbol=\"square\")\n",
    "\n",
    "    # Update dot color\n",
    "    fig.for_each_trace(change_trace_color)\n",
    "\n",
    "    # Modify x-ticks, y-ticks, legend and title\n",
    "    fig.update_layout(\n",
    "        xaxis=dict(tickmode=\"array\", tickvals=x_axis, ticktext=antibiotics),\n",
    "        yaxis=dict(\n",
    "            tickmode=\"array\",\n",
    "            tickvals=[i for i in range(-10, 12)],\n",
    "            ticktext=y_axis_ticktext,\n",
    "        ),\n",
    "        legend=dict(orientation=\"h\", yanchor=\"bottom\", y=1.02, xanchor=\"right\", x=1),\n",
    "        title_x=0.5,\n",
    "        template=\"plotly_dark\"\n",
    "    )\n",
    "    \n",
    "    fig.show()"
   ]
  },
  {
   "cell_type": "code",
   "execution_count": 11,
   "metadata": {},
   "outputs": [
    {
     "data": {
      "application/vnd.plotly.v1+json": {
       "config": {
        "plotlyServerURL": "https://plot.ly"
       },
       "data": [
        {
         "customdata": [
          [
           true,
           "Staphylococcus aureus"
          ],
          [
           true,
           "Staphylococcus aureus"
          ],
          [
           true,
           "Staphylococcus aureus"
          ],
          [
           true,
           "Streptococcus mitis"
          ],
          [
           true,
           "Streptococcus pneumoniae"
          ],
          [
           true,
           "Staphylococcus aureus"
          ],
          [
           true,
           "Streptococcus mitis"
          ],
          [
           true,
           "Staphylococcus lugdunensis"
          ],
          [
           true,
           "Staphylococcus lugdunensis"
          ],
          [
           true,
           "Streptococcus mitis"
          ],
          [
           true,
           "Staphylococcus aureus"
          ],
          [
           true,
           "Staphylococcus lugdunensis"
          ],
          [
           true,
           "Staphylococcus lugdunensis"
          ],
          [
           true,
           "Staphylococcus lugdunensis"
          ],
          [
           true,
           "Staphylococcus aureus"
          ],
          [
           true,
           "Staphylococcus aureus"
          ],
          [
           true,
           "Staphylococcus aureus"
          ],
          [
           true,
           "Staphylococcus aureus"
          ],
          [
           true,
           "Staphylococcus aureus"
          ],
          [
           true,
           "Staphylococcus aureus"
          ],
          [
           true,
           "Staphylococcus aureus"
          ],
          [
           true,
           "Staphylococcus aureus"
          ],
          [
           true,
           "Staphylococcus aureus"
          ],
          [
           true,
           "Staphylococcus aureus"
          ],
          [
           true,
           "Staphylococcus aureus"
          ],
          [
           true,
           "Streptococcus pneumoniae"
          ],
          [
           true,
           "Streptococcus pneumoniae"
          ],
          [
           true,
           "Streptococcus pneumoniae"
          ],
          [
           false,
           "Streptococcus pneumoniae"
          ],
          [
           false,
           "Enterococcus faecium"
          ],
          [
           false,
           "Enterococcus faecium"
          ],
          [
           true,
           "Enterococcus faecalis"
          ],
          [
           false,
           "Enterococcus faecium"
          ],
          [
           false,
           "Streptococcus mitis"
          ],
          [
           false,
           "Enterococcus faecium"
          ],
          [
           true,
           "Streptococcus mitis"
          ],
          [
           true,
           "Streptococcus mitis"
          ],
          [
           false,
           "Enterococcus faecium"
          ],
          [
           true,
           "Streptococcus mitis"
          ],
          [
           false,
           "Enterococcus faecium"
          ],
          [
           false,
           "Enterococcus faecalis"
          ],
          [
           true,
           "Staphylococcus aureus"
          ],
          [
           true,
           "Staphylococcus aureus"
          ],
          [
           true,
           "Streptococcus mitis"
          ],
          [
           true,
           "Streptococcus mitis"
          ],
          [
           true,
           "Streptococcus mitis"
          ],
          [
           true,
           "Streptococcus mitis"
          ],
          [
           true,
           "Streptococcus mitis"
          ],
          [
           true,
           "Streptococcus pneumoniae"
          ],
          [
           true,
           "Enterococcus faecalis"
          ],
          [
           false,
           "Enterococcus faecium"
          ],
          [
           false,
           "Enterococcus faecium"
          ],
          [
           false,
           "Enterococcus faecalis"
          ],
          [
           false,
           "Enterococcus faecium"
          ],
          [
           false,
           "Enterococcus faecium"
          ],
          [
           false,
           "Enterococcus faecium"
          ],
          [
           false,
           "Enterococcus faecium"
          ],
          [
           false,
           "Enterococcus faecalis"
          ],
          [
           true,
           "Streptococcus mitis"
          ],
          [
           false,
           "Staphylococcus aureus"
          ],
          [
           false,
           "Staphylococcus aureus"
          ],
          [
           true,
           "Staphylococcus aureus"
          ],
          [
           false,
           "Staphylococcus epidermidis"
          ],
          [
           true,
           "Staphylococcus capitis"
          ],
          [
           false,
           "Staphylococcus capitis"
          ],
          [
           false,
           "Staphylococcus capitis"
          ],
          [
           false,
           "Staphylococcus epidermidis"
          ],
          [
           true,
           "Staphylococcus epidermidis"
          ],
          [
           false,
           "Staphylococcus hominis"
          ],
          [
           true,
           "Staphylococcus capitis"
          ],
          [
           true,
           "Staphylococcus capitis"
          ],
          [
           false,
           "Staphylococcus hominis"
          ],
          [
           true,
           "Staphylococcus hominis"
          ],
          [
           false,
           "Staphylococcus hominis"
          ],
          [
           false,
           "Staphylococcus hominis"
          ],
          [
           false,
           "Staphylococcus hominis"
          ],
          [
           false,
           "Staphylococcus hominis"
          ],
          [
           false,
           "Staphylococcus hominis"
          ],
          [
           false,
           "Staphylococcus hominis"
          ],
          [
           false,
           "Staphylococcus hominis"
          ],
          [
           false,
           "Staphylococcus aureus"
          ],
          [
           true,
           "Staphylococcus capitis"
          ],
          [
           false,
           "Staphylococcus epidermidis"
          ],
          [
           false,
           "Staphylococcus epidermidis"
          ],
          [
           false,
           "Staphylococcus aureus"
          ],
          [
           true,
           "Staphylococcus aureus"
          ],
          [
           false,
           "Staphylococcus aureus"
          ],
          [
           false,
           "Staphylococcus aureus"
          ],
          [
           false,
           "Staphylococcus aureus"
          ],
          [
           false,
           "Staphylococcus aureus"
          ],
          [
           true,
           "Staphylococcus aureus"
          ],
          [
           true,
           "Staphylococcus aureus"
          ],
          [
           false,
           "Staphylococcus aureus"
          ],
          [
           false,
           "Staphylococcus aureus"
          ],
          [
           false,
           "Staphylococcus aureus"
          ],
          [
           false,
           "Staphylococcus epidermidis"
          ],
          [
           false,
           "Staphylococcus epidermidis"
          ],
          [
           false,
           "Staphylococcus epidermidis"
          ],
          [
           false,
           "Staphylococcus epidermidis"
          ],
          [
           true,
           "Staphylococcus epidermidis"
          ],
          [
           true,
           "Streptococcus pneumoniae"
          ],
          [
           true,
           "Staphylococcus aureus"
          ],
          [
           true,
           "Staphylococcus aureus"
          ],
          [
           true,
           "Staphylococcus aureus"
          ],
          [
           true,
           "Staphylococcus aureus"
          ],
          [
           true,
           "Staphylococcus aureus"
          ],
          [
           true,
           "Staphylococcus aureus"
          ],
          [
           true,
           "Staphylococcus aureus"
          ],
          [
           true,
           "Enterococcus faecalis"
          ],
          [
           false,
           "Enterococcus faecium"
          ],
          [
           false,
           "Enterococcus faecalis"
          ],
          [
           false,
           "Enterococcus faecium"
          ],
          [
           true,
           "Staphylococcus aureus"
          ],
          [
           true,
           "Staphylococcus aureus"
          ],
          [
           false,
           "Enterococcus faecium"
          ],
          [
           true,
           "Staphylococcus epidermidis"
          ],
          [
           true,
           "Staphylococcus epidermidis"
          ],
          [
           false,
           "Enterococcus faecalis"
          ],
          [
           true,
           "Staphylococcus hominis"
          ],
          [
           false,
           "Enterococcus faecium"
          ],
          [
           true,
           "Staphylococcus aureus"
          ],
          [
           true,
           "Staphylococcus aureus"
          ],
          [
           true,
           "Staphylococcus aureus"
          ],
          [
           true,
           "Staphylococcus aureus"
          ],
          [
           false,
           "Enterococcus faecium"
          ],
          [
           true,
           "Staphylococcus epidermidis"
          ],
          [
           true,
           "Staphylococcus epidermidis"
          ],
          [
           false,
           "Streptococcus pneumoniae"
          ],
          [
           false,
           "Enterococcus faecalis"
          ],
          [
           false,
           "Enterococcus faecalis"
          ],
          [
           false,
           "Enterococcus faecalis"
          ],
          [
           false,
           "Enterococcus faecalis"
          ],
          [
           false,
           "Enterococcus faecium"
          ],
          [
           false,
           "Enterococcus faecalis"
          ],
          [
           false,
           "Enterococcus faecium"
          ],
          [
           true,
           "Staphylococcus aureus"
          ],
          [
           true,
           "Staphylococcus aureus"
          ],
          [
           true,
           "Enterococcus faecalis"
          ],
          [
           false,
           "Enterococcus faecium"
          ],
          [
           false,
           "Enterococcus faecalis"
          ],
          [
           false,
           "Enterococcus faecium"
          ],
          [
           true,
           "Staphylococcus aureus"
          ],
          [
           true,
           "Staphylococcus aureus"
          ],
          [
           true,
           "Staphylococcus aureus"
          ],
          [
           true,
           "Staphylococcus aureus"
          ],
          [
           true,
           "Staphylococcus aureus"
          ],
          [
           true,
           "Staphylococcus aureus"
          ],
          [
           false,
           "Enterococcus faecium"
          ],
          [
           false,
           "Streptococcus pneumoniae"
          ],
          [
           false,
           "Enterococcus faecalis"
          ],
          [
           false,
           "Staphylococcus aureus"
          ],
          [
           false,
           "Staphylococcus aureus"
          ],
          [
           false,
           "Staphylococcus epidermidis"
          ],
          [
           false,
           "Staphylococcus capitis"
          ],
          [
           false,
           "Staphylococcus capitis"
          ],
          [
           false,
           "Staphylococcus capitis"
          ],
          [
           false,
           "Staphylococcus epidermidis"
          ],
          [
           false,
           "Staphylococcus epidermidis"
          ],
          [
           false,
           "Staphylococcus hominis"
          ],
          [
           false,
           "Staphylococcus hominis"
          ],
          [
           false,
           "Streptococcus pneumoniae"
          ],
          [
           false,
           "Streptococcus pneumoniae"
          ],
          [
           false,
           "Staphylococcus aureus"
          ],
          [
           false,
           "Staphylococcus capitis"
          ],
          [
           false,
           "Staphylococcus hominis"
          ],
          [
           false,
           "Staphylococcus hominis"
          ],
          [
           false,
           "Staphylococcus hominis"
          ],
          [
           false,
           "Staphylococcus hominis"
          ],
          [
           false,
           "Staphylococcus hominis"
          ],
          [
           false,
           "Staphylococcus lugdunensis"
          ],
          [
           false,
           "Streptococcus pneumoniae"
          ],
          [
           true,
           "Staphylococcus hominis"
          ],
          [
           false,
           "Staphylococcus hominis"
          ],
          [
           false,
           "Staphylococcus hominis"
          ],
          [
           false,
           "Staphylococcus aureus"
          ],
          [
           false,
           "Staphylococcus capitis"
          ],
          [
           false,
           "Staphylococcus lugdunensis"
          ],
          [
           false,
           "Staphylococcus lugdunensis"
          ],
          [
           false,
           "Staphylococcus lugdunensis"
          ],
          [
           false,
           "Staphylococcus lugdunensis"
          ],
          [
           false,
           "Staphylococcus lugdunensis"
          ],
          [
           false,
           "Staphylococcus epidermidis"
          ],
          [
           false,
           "Staphylococcus epidermidis"
          ],
          [
           false,
           "Staphylococcus aureus"
          ],
          [
           false,
           "Staphylococcus aureus"
          ],
          [
           false,
           "Staphylococcus aureus"
          ],
          [
           false,
           "Staphylococcus aureus"
          ],
          [
           false,
           "Staphylococcus aureus"
          ],
          [
           false,
           "Staphylococcus aureus"
          ],
          [
           false,
           "Staphylococcus aureus"
          ],
          [
           false,
           "Staphylococcus aureus"
          ],
          [
           false,
           "Staphylococcus aureus"
          ],
          [
           true,
           "Staphylococcus epidermidis"
          ],
          [
           true,
           "Staphylococcus epidermidis"
          ],
          [
           true,
           "Staphylococcus epidermidis"
          ],
          [
           false,
           "Staphylococcus epidermidis"
          ],
          [
           false,
           "Staphylococcus epidermidis"
          ],
          [
           false,
           "Streptococcus pneumoniae"
          ],
          [
           false,
           "Streptococcus pneumoniae"
          ],
          [
           false,
           "Streptococcus pneumoniae"
          ],
          [
           false,
           "Streptococcus pneumoniae"
          ],
          [
           false,
           "Staphylococcus aureus"
          ],
          [
           false,
           "Staphylococcus epidermidis"
          ],
          [
           false,
           "Staphylococcus capitis"
          ],
          [
           false,
           "Staphylococcus capitis"
          ],
          [
           false,
           "Staphylococcus capitis"
          ],
          [
           false,
           "Staphylococcus epidermidis"
          ],
          [
           false,
           "Staphylococcus epidermidis"
          ],
          [
           false,
           "Streptococcus pneumoniae"
          ],
          [
           false,
           "Staphylococcus aureus"
          ],
          [
           false,
           "Staphylococcus capitis"
          ],
          [
           false,
           "Staphylococcus hominis"
          ],
          [
           true,
           "Staphylococcus hominis"
          ],
          [
           true,
           "Staphylococcus hominis"
          ],
          [
           true,
           "Staphylococcus hominis"
          ],
          [
           true,
           "Staphylococcus hominis"
          ],
          [
           false,
           "Staphylococcus lugdunensis"
          ],
          [
           false,
           "Streptococcus pneumoniae"
          ],
          [
           false,
           "Staphylococcus hominis"
          ],
          [
           false,
           "Staphylococcus aureus"
          ],
          [
           false,
           "Staphylococcus capitis"
          ],
          [
           false,
           "Staphylococcus lugdunensis"
          ],
          [
           false,
           "Staphylococcus lugdunensis"
          ],
          [
           false,
           "Staphylococcus lugdunensis"
          ],
          [
           false,
           "Staphylococcus lugdunensis"
          ],
          [
           false,
           "Staphylococcus epidermidis"
          ],
          [
           false,
           "Staphylococcus epidermidis"
          ],
          [
           false,
           "Staphylococcus aureus"
          ],
          [
           false,
           "Staphylococcus aureus"
          ],
          [
           false,
           "Staphylococcus aureus"
          ],
          [
           false,
           "Staphylococcus aureus"
          ],
          [
           false,
           "Staphylococcus aureus"
          ],
          [
           false,
           "Staphylococcus aureus"
          ],
          [
           false,
           "Staphylococcus aureus"
          ],
          [
           false,
           "Staphylococcus aureus"
          ],
          [
           true,
           "Staphylococcus epidermidis"
          ],
          [
           true,
           "Staphylococcus epidermidis"
          ],
          [
           true,
           "Staphylococcus epidermidis"
          ],
          [
           false,
           "Streptococcus pneumoniae"
          ],
          [
           false,
           "Streptococcus pneumoniae"
          ],
          [
           false,
           "Streptococcus pneumoniae"
          ],
          [
           false,
           "Streptococcus pneumoniae"
          ],
          [
           true,
           "Staphylococcus aureus"
          ],
          [
           true,
           "Staphylococcus aureus"
          ],
          [
           true,
           "Staphylococcus aureus"
          ],
          [
           true,
           "Staphylococcus capitis"
          ],
          [
           true,
           "Staphylococcus capitis"
          ],
          [
           true,
           "Staphylococcus hominis"
          ],
          [
           true,
           "Streptococcus pneumoniae"
          ],
          [
           true,
           "Streptococcus pneumoniae"
          ],
          [
           false,
           "Staphylococcus aureus"
          ],
          [
           true,
           "Staphylococcus hominis"
          ],
          [
           true,
           "Staphylococcus lugdunensis"
          ],
          [
           true,
           "Staphylococcus lugdunensis"
          ],
          [
           false,
           "Streptococcus pneumoniae"
          ],
          [
           true,
           "Staphylococcus hominis"
          ],
          [
           false,
           "Staphylococcus hominis"
          ],
          [
           false,
           "Staphylococcus aureus"
          ],
          [
           false,
           "Staphylococcus epidermidis"
          ],
          [
           false,
           "Staphylococcus epidermidis"
          ],
          [
           true,
           "Staphylococcus aureus"
          ],
          [
           true,
           "Staphylococcus aureus"
          ],
          [
           true,
           "Staphylococcus aureus"
          ],
          [
           false,
           "Streptococcus pneumoniae"
          ],
          [
           false,
           "Streptococcus pneumoniae"
          ],
          [
           true,
           "Staphylococcus lugdunensis"
          ],
          [
           true,
           "Staphylococcus aureus"
          ],
          [
           true,
           "Enterococcus faecium"
          ],
          [
           true,
           "Staphylococcus hominis"
          ],
          [
           true,
           "Staphylococcus hominis"
          ],
          [
           true,
           "Staphylococcus hominis"
          ],
          [
           true,
           "Staphylococcus hominis"
          ],
          [
           true,
           "Staphylococcus aureus"
          ],
          [
           true,
           "Staphylococcus aureus"
          ],
          [
           true,
           "Staphylococcus aureus"
          ],
          [
           true,
           "Staphylococcus aureus"
          ],
          [
           true,
           "Staphylococcus epidermidis"
          ],
          [
           false,
           "Staphylococcus epidermidis"
          ],
          [
           false,
           "Staphylococcus epidermidis"
          ],
          [
           false,
           "Staphylococcus epidermidis"
          ],
          [
           true,
           "Staphylococcus epidermidis"
          ],
          [
           false,
           "Streptococcus pneumoniae"
          ],
          [
           true,
           "Staphylococcus aureus"
          ],
          [
           true,
           "Staphylococcus aureus"
          ],
          [
           true,
           "Staphylococcus aureus"
          ],
          [
           true,
           "Staphylococcus aureus"
          ],
          [
           true,
           "Staphylococcus aureus"
          ],
          [
           true,
           "Staphylococcus aureus"
          ],
          [
           true,
           "Staphylococcus aureus"
          ],
          [
           false,
           "Staphylococcus aureus"
          ],
          [
           false,
           "Staphylococcus aureus"
          ],
          [
           false,
           "Staphylococcus capitis"
          ],
          [
           false,
           "Staphylococcus epidermidis"
          ],
          [
           false,
           "Staphylococcus epidermidis"
          ],
          [
           true,
           "Staphylococcus capitis"
          ],
          [
           true,
           "Staphylococcus capitis"
          ],
          [
           true,
           "Staphylococcus hominis"
          ],
          [
           true,
           "Staphylococcus lugdunensis"
          ],
          [
           true,
           "Staphylococcus hominis"
          ],
          [
           true,
           "Staphylococcus capitis"
          ],
          [
           false,
           "Staphylococcus aureus"
          ],
          [
           true,
           "Staphylococcus aureus"
          ],
          [
           false,
           "Staphylococcus aureus"
          ],
          [
           false,
           "Staphylococcus aureus"
          ],
          [
           false,
           "Staphylococcus aureus"
          ],
          [
           true,
           "Staphylococcus aureus"
          ],
          [
           false,
           "Staphylococcus epidermidis"
          ],
          [
           false,
           "Staphylococcus epidermidis"
          ],
          [
           false,
           "Staphylococcus epidermidis"
          ],
          [
           true,
           "Streptococcus pneumoniae"
          ],
          [
           true,
           "Streptococcus pneumoniae"
          ],
          [
           true,
           "Staphylococcus aureus"
          ],
          [
           true,
           "Staphylococcus hominis"
          ],
          [
           true,
           "Staphylococcus hominis"
          ],
          [
           true,
           "Staphylococcus hominis"
          ],
          [
           true,
           "Staphylococcus hominis"
          ],
          [
           true,
           "Streptococcus pneumoniae"
          ],
          [
           true,
           "Staphylococcus hominis"
          ],
          [
           true,
           "Staphylococcus hominis"
          ],
          [
           true,
           "Staphylococcus aureus"
          ],
          [
           false,
           "Staphylococcus aureus"
          ],
          [
           true,
           "Staphylococcus aureus"
          ],
          [
           true,
           "Staphylococcus aureus"
          ],
          [
           false,
           "Staphylococcus epidermidis"
          ],
          [
           true,
           "Staphylococcus epidermidis"
          ],
          [
           false,
           "Staphylococcus epidermidis"
          ],
          [
           true,
           "Streptococcus pneumoniae"
          ],
          [
           true,
           "Streptococcus pneumoniae"
          ],
          [
           false,
           "Staphylococcus aureus"
          ],
          [
           false,
           "Staphylococcus aureus"
          ],
          [
           false,
           "Staphylococcus aureus"
          ],
          [
           false,
           "Staphylococcus epidermidis"
          ],
          [
           false,
           "Staphylococcus capitis"
          ],
          [
           false,
           "Staphylococcus capitis"
          ],
          [
           false,
           "Staphylococcus capitis"
          ],
          [
           false,
           "Staphylococcus epidermidis"
          ],
          [
           false,
           "Staphylococcus epidermidis"
          ],
          [
           false,
           "Staphylococcus hominis"
          ],
          [
           false,
           "Staphylococcus hominis"
          ],
          [
           false,
           "Streptococcus pneumoniae"
          ],
          [
           false,
           "Streptococcus pneumoniae"
          ],
          [
           false,
           "Staphylococcus aureus"
          ],
          [
           false,
           "Staphylococcus capitis"
          ],
          [
           false,
           "Staphylococcus hominis"
          ],
          [
           false,
           "Staphylococcus hominis"
          ],
          [
           false,
           "Staphylococcus hominis"
          ],
          [
           false,
           "Staphylococcus hominis"
          ],
          [
           false,
           "Staphylococcus hominis"
          ],
          [
           false,
           "Staphylococcus lugdunensis"
          ],
          [
           false,
           "Streptococcus pneumoniae"
          ],
          [
           false,
           "Staphylococcus hominis"
          ],
          [
           false,
           "Staphylococcus hominis"
          ],
          [
           false,
           "Staphylococcus aureus"
          ],
          [
           false,
           "Staphylococcus capitis"
          ],
          [
           false,
           "Staphylococcus lugdunensis"
          ],
          [
           false,
           "Staphylococcus lugdunensis"
          ],
          [
           false,
           "Staphylococcus lugdunensis"
          ],
          [
           false,
           "Staphylococcus lugdunensis"
          ],
          [
           false,
           "Staphylococcus lugdunensis"
          ],
          [
           false,
           "Staphylococcus epidermidis"
          ],
          [
           false,
           "Staphylococcus epidermidis"
          ],
          [
           false,
           "Staphylococcus aureus"
          ],
          [
           false,
           "Staphylococcus aureus"
          ],
          [
           false,
           "Staphylococcus aureus"
          ],
          [
           false,
           "Staphylococcus aureus"
          ],
          [
           false,
           "Staphylococcus aureus"
          ],
          [
           false,
           "Staphylococcus aureus"
          ],
          [
           false,
           "Staphylococcus aureus"
          ],
          [
           false,
           "Staphylococcus aureus"
          ],
          [
           false,
           "Staphylococcus aureus"
          ],
          [
           false,
           "Streptococcus pneumoniae"
          ],
          [
           false,
           "Streptococcus pneumoniae"
          ],
          [
           false,
           "Streptococcus pneumoniae"
          ],
          [
           false,
           "Streptococcus pneumoniae"
          ],
          [
           false,
           "Staphylococcus haemolyticus"
          ],
          [
           false,
           "Staphylococcus haemolyticus"
          ],
          [
           false,
           "Staphylococcus haemolyticus"
          ],
          [
           false,
           "Staphylococcus haemolyticus"
          ],
          [
           false,
           "Staphylococcus warneri"
          ],
          [
           false,
           "Staphylococcus warneri"
          ],
          [
           false,
           "Staphylococcus warneri"
          ],
          [
           false,
           "Staphylococcus warneri"
          ]
         ],
         "hovertemplate": "<b>%{hovertext}</b><br><br>SIR=Resistant<br>Log2(MIC-value)=%{y:.0f}<br>Scale=%{customdata[0]}<br>Pathogen=%{customdata[1]}<extra></extra>",
         "hovertext": [
          "QM397",
          "QM992",
          "QM322",
          "QM134",
          "QM806",
          "QM1450",
          "QM1406",
          "PER152",
          "QM960",
          "BAR066",
          "AR0565",
          "QM1259",
          "QM1261",
          "QM1269",
          "AR0217",
          "AR0218",
          "AR0219",
          "AR0222",
          "AR0227",
          "AR0228",
          "AR0703",
          "AR0708",
          "AR0711",
          "AR0717",
          "AR0718",
          "QM027",
          "QM326",
          "QM328",
          "QM402",
          "PER107",
          "PER108",
          "QM312",
          "QM295",
          "QM134",
          "QM1252",
          "QM1406",
          "BAR064",
          "QM1522",
          "BAR066",
          "AR0572",
          "QM067",
          "AR0703",
          "AR0703",
          "QM134",
          "QM1406",
          "BAR064",
          "QM871",
          "BAR066",
          "QM027",
          "QM286",
          "PER107",
          "PER108",
          "QM312",
          "QM295",
          "QM1252",
          "QM1522",
          "AR0572",
          "QM067",
          "QM134",
          "QM397",
          "QM992",
          "QM322",
          "HV116",
          "QM899",
          "BAR002",
          "BAR003",
          "HV953",
          "QM968",
          "HV245",
          "QM1263",
          "QM1264",
          "HV987",
          "QM093",
          "QM1270",
          "QM1271",
          "QM1272",
          "QM1273",
          "HV813",
          "HV820",
          "HV88",
          "AR0565",
          "QM1265",
          "HV733",
          "HV744",
          "AR0217",
          "AR0218",
          "AR0219",
          "AR0222",
          "AR0227",
          "AR0228",
          "AR0703",
          "AR0708",
          "AR0711",
          "AR0717",
          "AR0718",
          "AR0726",
          "AR0727",
          "AR0728",
          "AR0729",
          "AR0730",
          "QM326",
          "QM397",
          "QM992",
          "AR0217",
          "AR0218",
          "AR0219",
          "AR0227",
          "AR0228",
          "QM294",
          "PER107",
          "QM319",
          "PER108",
          "QM397",
          "QM992",
          "QM295",
          "HV146",
          "HV953",
          "BAR032",
          "HV245",
          "QM1252",
          "AR0217",
          "AR0218",
          "AR0219",
          "AR0227",
          "AR0572",
          "AR0727",
          "AR0729",
          "QM402",
          "QM067",
          "QM286",
          "QM065",
          "QM294",
          "PER107",
          "QM319",
          "PER108",
          "QM397",
          "QM992",
          "QM312",
          "QM295",
          "BAR032",
          "QM1252",
          "AR0217",
          "AR0218",
          "AR0219",
          "AR0222",
          "AR0227",
          "AR0228",
          "AR0572",
          "QM402",
          "QM067",
          "QM397",
          "QM322",
          "HV116",
          "QM899",
          "BAR002",
          "BAR003",
          "HV953",
          "QM968",
          "HV245",
          "HV414",
          "QM806",
          "BAR026",
          "QM1450",
          "QM1263",
          "HV987",
          "QM093",
          "QM1270",
          "QM1271",
          "QM1273",
          "QM960",
          "QM1470",
          "HV813",
          "HV820",
          "HV88",
          "AR0565",
          "QM1265",
          "QM1259",
          "QM1260",
          "QM1261",
          "QM1262",
          "QM1269",
          "HV733",
          "HV744",
          "AR0218",
          "AR0219",
          "AR0227",
          "AR0228",
          "AR0703",
          "AR0708",
          "AR0711",
          "AR0717",
          "AR0718",
          "AR0726",
          "AR0727",
          "AR0728",
          "AR0729",
          "AR0730",
          "QM027",
          "QM326",
          "QM328",
          "QM402",
          "QM397",
          "HV116",
          "QM899",
          "BAR002",
          "BAR003",
          "HV953",
          "QM968",
          "QM806",
          "QM1450",
          "QM1263",
          "QM093",
          "QM1270",
          "QM1271",
          "QM1272",
          "QM1273",
          "QM960",
          "QM1470",
          "HV820",
          "AR0565",
          "QM1265",
          "QM1259",
          "QM1260",
          "QM1261",
          "QM1262",
          "HV733",
          "HV744",
          "AR0218",
          "AR0219",
          "AR0227",
          "AR0228",
          "AR0703",
          "AR0711",
          "AR0717",
          "AR0718",
          "AR0728",
          "AR0729",
          "AR0730",
          "QM027",
          "QM326",
          "QM328",
          "QM402",
          "QM397",
          "QM992",
          "QM322",
          "QM086",
          "QM899",
          "HV414",
          "QM806",
          "BAR026",
          "QM1450",
          "HV987",
          "QM889",
          "QM894",
          "QM1470",
          "HV813",
          "HV820",
          "AR0565",
          "HV733",
          "HV744",
          "AR0219",
          "AR0222",
          "AR0718",
          "QM027",
          "QM326",
          "BAR043",
          "QM322",
          "QM1522",
          "QM1270",
          "QM1271",
          "QM1272",
          "QM1273",
          "AR0708",
          "AR0711",
          "AR0717",
          "AR0718",
          "AR0726",
          "AR0727",
          "AR0728",
          "AR0729",
          "AR0730",
          "QM402",
          "QM397",
          "QM992",
          "AR0217",
          "AR0218",
          "AR0222",
          "AR0227",
          "AR0228",
          "QM397",
          "QM992",
          "QM085",
          "HV116",
          "QM968",
          "QM1263",
          "QM1264",
          "QM093",
          "PER152",
          "HV88",
          "QM1265",
          "AR0219",
          "AR0222",
          "AR0703",
          "AR0708",
          "AR0711",
          "AR0718",
          "AR0726",
          "AR0729",
          "AR0730",
          "QM806",
          "BAR026",
          "QM1450",
          "QM1270",
          "QM1271",
          "QM1272",
          "QM1273",
          "QM1470",
          "HV813",
          "HV820",
          "AR0565",
          "AR0217",
          "AR0222",
          "AR0703",
          "AR0727",
          "AR0729",
          "AR0730",
          "QM027",
          "QM326",
          "QM397",
          "QM992",
          "QM322",
          "HV116",
          "QM899",
          "BAR002",
          "BAR003",
          "HV953",
          "QM968",
          "HV245",
          "HV414",
          "QM806",
          "BAR026",
          "QM1450",
          "QM1263",
          "HV987",
          "QM093",
          "QM1270",
          "QM1271",
          "QM1273",
          "QM960",
          "QM1470",
          "HV820",
          "HV88",
          "AR0565",
          "QM1265",
          "QM1259",
          "QM1260",
          "QM1261",
          "QM1262",
          "QM1269",
          "HV733",
          "HV744",
          "AR0218",
          "AR0219",
          "AR0227",
          "AR0228",
          "AR0703",
          "AR0708",
          "AR0711",
          "AR0717",
          "AR0718",
          "QM027",
          "QM326",
          "QM328",
          "QM402",
          "QM1498",
          "QM1499",
          "QM1501",
          "QM1503",
          "QM1472",
          "QM1473",
          "QM1474",
          "QM1476"
         ],
         "legendgroup": "Resistant",
         "marker": {
          "color": "tomato",
          "opacity": 0.3,
          "symbol": "circle"
         },
         "mode": "markers",
         "name": "Resistant",
         "orientation": "v",
         "showlegend": true,
         "type": "scatter",
         "x": [
          0.1477416487036828,
          0.07945992805615251,
          0.08947694068174214,
          -0.10002664506232153,
          -0.015854360932164774,
          0.1357207755025178,
          0.07442886290684139,
          -0.13557948873886458,
          0.054785981902134684,
          -0.02992510486853449,
          0.13612469244484912,
          -0.04730513775775036,
          0.07889387073225618,
          0.005632139420960497,
          -0.008910467001254946,
          0.10702636729094792,
          -0.11824910569578509,
          -0.0233072941571226,
          0.03306201262485814,
          0.03494813600745833,
          0.12124942529866992,
          0.13689433045467334,
          -0.11988027759707844,
          -0.040460577314289814,
          0.13910040875860016,
          0.04984706606899217,
          -0.012674830237707713,
          0.04903904795148517,
          0.07077550355757231,
          0.9703603011917495,
          1.099183515704884,
          1.0028424553218653,
          1.0709040640525833,
          0.9569190051435648,
          1.1345096630766847,
          0.98240438929673,
          0.9842542387046641,
          1.1135681148727992,
          0.8988915264070931,
          0.8988431514524284,
          1.1227971164229662,
          2.8761587704421454,
          3.9777107017723656,
          4.9285014734409955,
          5.130740957630273,
          4.892185481217468,
          5.133331570332121,
          4.940015486061966,
          5.041923314408255,
          6.089461014870377,
          6.086671807018538,
          5.913242959333062,
          6.125870553617889,
          6.0104193298233035,
          6.081414285731884,
          6.081674379846882,
          6.002969433963184,
          5.89542057676563,
          7.0877821474170615,
          8.037920456475865,
          8.001695613636116,
          8.024998256416893,
          8.065320750961401,
          7.901719169914817,
          7.866484725575344,
          7.988139686678734,
          8.039598373437395,
          8.035579244699246,
          8.08003654399408,
          7.853587498246975,
          7.894718249674626,
          8.014073823742597,
          7.904594651804368,
          8.022675761474371,
          7.977060868733429,
          8.122237014809961,
          8.095282978008003,
          7.928434662106943,
          7.920462406383561,
          8.08591320773308,
          7.97593929026473,
          8.074462223658063,
          7.874287421881849,
          7.858048629241588,
          7.89979340709203,
          8.065380623516711,
          7.944919312847341,
          8.099280057012363,
          8.026305975611121,
          7.909769499576951,
          7.863451385588254,
          7.910227216399085,
          7.994082100919566,
          8.077272371675734,
          8.028695559782399,
          7.905143530259935,
          7.869916949140575,
          8.139765642563974,
          8.108107459382298,
          8.113975263022901,
          9.085432904904781,
          10.987533803336087,
          11.028957041983086,
          11.068994260805535,
          11.140398819313303,
          10.851770931822355,
          10.906135788545924,
          11.137913924103922,
          11.931225365748777,
          12.066252471982967,
          12.022813328975337,
          11.990707245298625,
          12.122659293947672,
          12.114505625081465,
          12.07739398841332,
          12.01381308433496,
          11.928285958690898,
          11.999859403687081,
          11.887040646633888,
          12.03664251698069,
          12.051338312491405,
          11.909113714545917,
          11.897578056758602,
          12.083793045146924,
          11.992591835960173,
          11.97596406109599,
          12.040332605774875,
          12.097509717844463,
          11.958738688669316,
          12.865343426982735,
          13.09623378847042,
          13.059299885088294,
          12.856718354004425,
          13.00335806004705,
          13.064982081223796,
          13.008495840888688,
          12.940206840066338,
          12.935702043532311,
          13.131903083464255,
          13.013667623717472,
          12.859135157292636,
          13.00385927712689,
          13.135107966404389,
          12.988014370930463,
          13.113510926700087,
          12.864049877065968,
          13.083053743936448,
          13.12929743281944,
          12.911536276896541,
          13.059360010779953,
          13.881372570261302,
          14.136959160730358,
          13.874497773333873,
          14.128651653645644,
          14.01510140690822,
          14.033311913626047,
          14.014174804087585,
          14.133306454431729,
          14.063506086962372,
          13.952543316118499,
          14.068278382838,
          14.065968737688694,
          13.886117154769106,
          13.913888279567557,
          13.86775610086899,
          13.95863699031317,
          14.037956931486884,
          13.948933677905146,
          14.049130811691223,
          14.101469828733974,
          14.04020726290997,
          14.111978324274782,
          13.987725027986587,
          14.002318379902293,
          14.029543628534686,
          14.14092181871906,
          13.931280780739169,
          14.043526400466215,
          13.878995014641513,
          13.88668287004208,
          14.032606228864662,
          14.117337532005674,
          13.88906000947849,
          14.129693246682645,
          14.006868672701854,
          13.927233919122852,
          13.875182983629138,
          14.000909650528154,
          13.887469291356547,
          14.042479115182957,
          14.116795268666568,
          14.10812662502492,
          13.94865677650594,
          13.986963655259602,
          14.038241363226946,
          13.890346688720136,
          14.064039656947335,
          13.987629360551525,
          13.948518841067509,
          14.020456324065908,
          14.069605403211428,
          14.95833435149624,
          15.07596329143419,
          15.053046478666737,
          14.93596363974743,
          15.003350770168227,
          14.856547171598036,
          15.125310480083824,
          15.057738721721025,
          14.901200668631107,
          15.03326944061137,
          14.985267997802547,
          14.918550388904215,
          15.111846163737534,
          14.855523131172902,
          14.988236759170155,
          15.097691875383937,
          15.09413909539141,
          15.05409914018424,
          14.9465406602562,
          14.99566017754866,
          15.000147294590377,
          15.011753394579957,
          15.1327142500532,
          15.048909362198355,
          14.888743654124793,
          14.946312211560846,
          15.020264836863387,
          15.02926432203477,
          15.123550848374133,
          15.092015168465933,
          15.145710845833655,
          14.921005322147321,
          15.09521275360798,
          14.926145977038379,
          15.025798475518677,
          14.999121365453469,
          15.079902397313754,
          14.972074773614244,
          14.920449950330562,
          14.895375831629472,
          15.085024072948004,
          16.017808545569444,
          16.082085748018972,
          15.852574985901017,
          15.97422064206923,
          16.031368636595005,
          15.98911037972133,
          16.000769496699096,
          16.07543431746177,
          15.854921764826424,
          16.10483058550804,
          15.873942230119074,
          15.965513687577397,
          15.870132454130681,
          15.892567401086637,
          15.896718945485226,
          15.936730177058706,
          15.87541314535655,
          15.859970998139875,
          15.947341181306209,
          16.031102749833593,
          16.029753472844867,
          16.06901262407722,
          16.02772561331225,
          15.9606022638307,
          16.886479324301604,
          17.052227954624772,
          16.87635289839741,
          17.102463890572125,
          16.938491430137233,
          16.890616875238873,
          17.09684357491086,
          16.956786976647255,
          16.987365219259342,
          17.11742155344061,
          16.912000655650814,
          17.074607414199562,
          17.120529936903083,
          16.899629437988295,
          17.133819450309772,
          17.130488858024645,
          18.038713564171196,
          17.963514164227266,
          17.94238037186765,
          17.917151680586933,
          17.91837170372712,
          17.97215421621958,
          18.02071251759686,
          19.099352656526154,
          18.998628774435517,
          19.10390923525393,
          19.115340671141933,
          18.885422068461157,
          19.044242396586753,
          19.00661347920881,
          19.009482538029328,
          18.875076086465008,
          18.94201221808723,
          18.87621413997864,
          19.015301727448087,
          18.984116395022674,
          19.022366837831164,
          18.91077998252625,
          18.921915860264956,
          18.948308513069914,
          19.137117763273917,
          19.04924860820248,
          18.941092817969725,
          20.11506885508867,
          20.00254047007103,
          20.137758103890405,
          19.92017688928046,
          19.85309920349826,
          19.940353597855328,
          20.113724918905028,
          20.126221366186826,
          19.935559967278813,
          20.04238476516805,
          19.863506988535356,
          20.004980194628576,
          20.114431268924147,
          20.027958000064267,
          19.898362012023792,
          20.08412913425534,
          19.90100821312638,
          20.062712294058013,
          20.146609286525457,
          20.95852172725111,
          20.92452506537839,
          21.03046629585053,
          21.044401165036895,
          21.14663242724916,
          20.900044493449194,
          21.003351001197363,
          20.997040786379493,
          20.97731249249929,
          21.059761237491692,
          21.000329512983825,
          20.861577111424833,
          20.89267197737736,
          20.8961229963652,
          21.14411623194269,
          21.084950678784026,
          20.924880206317475,
          20.864341961203564,
          21.05945116036857,
          21.08221664816899,
          21.06928712097718,
          21.14889483258519,
          20.861839150914093,
          20.99533788094589,
          20.954998894645374,
          20.890663255046768,
          21.135704700183517,
          20.953577333863457,
          21.04956133667716,
          21.116342226504457,
          21.080369698446223,
          20.97245380843993,
          21.110131227896357,
          21.06423167866477,
          21.07734220307515,
          21.00755678903024,
          21.00911325857179,
          20.86288795124995,
          21.118049760462107,
          21.13747894487845,
          20.957086457038443,
          21.040237687278772,
          20.99105953681142,
          21.114717459604815,
          21.075189177126,
          20.89250791289319,
          20.90696393005598,
          20.892381751399345,
          20.92045554298885,
          21.13479314429434,
          21.097606749644942,
          21.01149820205147,
          21.069070128909797,
          20.96970086410667
         ],
         "xaxis": "x",
         "y": [
          3.9776608633628214,
          3.96830950561073,
          4.992339177500603,
          3.014456907754574,
          2.004101778490179,
          5.986184437860354,
          2.950701081948001,
          2.9511533794405813,
          4.958941193091237,
          2.018361290258885,
          5.986107884314914,
          2.9993489436486356,
          2.0159923498086276,
          3.0419726492894044,
          3.0022723628975685,
          3.009650499082463,
          3.9824707785345326,
          4.032539716747664,
          2.0254880466370047,
          0.9623581372810254,
          6.023805736706104,
          3.961149365377529,
          3.959635444032792,
          5.005490143519919,
          3.9910282136365485,
          2.9569036742033528,
          1.9590153503038756,
          1.9764244561249185,
          11,
          11,
          11,
          5.967579465478503,
          11,
          11,
          11,
          4.011654522043333,
          3.015788303688416,
          11,
          2.9667127607016726,
          11,
          11,
          2.956639352100415,
          1.989910276912384,
          1.0096867510919365,
          0.969557268755255,
          -0.005696704683075614,
          0.020307835499123697,
          2.0278667976213627,
          2.975945004216287,
          3.9786742985714456,
          11,
          11,
          11,
          11,
          11,
          11,
          11,
          11,
          1.9926254289720877,
          11,
          11,
          4.025830559492489,
          11,
          1.9780132578300973,
          11,
          11,
          11,
          3.978078393645697,
          11,
          3.005793756503138,
          3.0307182160122514,
          11,
          2.9770992108645364,
          11,
          11,
          11,
          11,
          11,
          11,
          11,
          11,
          2.9535358424008935,
          11,
          11,
          11,
          4.002451268834175,
          11,
          11,
          11,
          11,
          3.0474014304323487,
          3.982825298379564,
          11,
          11,
          11,
          11,
          11,
          11,
          11,
          4.008958190157415,
          3.0455724374539996,
          -0.9913060029183494,
          -1.0036243769676922,
          -1.9574636538392527,
          -2.0298284672197417,
          -0.007300211143034696,
          -1.9727423151209291,
          -2.0029668945224306,
          6.045626367125172,
          11,
          11,
          11,
          2.0357012622229087,
          1.991449947136907,
          11,
          2.9900387969805626,
          3.0420456137690235,
          11,
          2.9524242750395526,
          11,
          2.04760727635668,
          2.0273979253734424,
          2.0057360690476687,
          2.020845041125807,
          11,
          3.0170731661022243,
          4.010146460331107,
          11,
          11,
          11,
          11,
          11,
          11,
          11,
          11,
          1.9566032835000728,
          2.005842883438404,
          2.9885132672543953,
          11,
          11,
          11,
          2.03981855696128,
          1.96432154104348,
          3.012123621356364,
          1.9884815269403089,
          1.9666654141729771,
          1.9966632591322944,
          11,
          11,
          11,
          11,
          11,
          11,
          11,
          11,
          11,
          11,
          11,
          11,
          11,
          11,
          11,
          11,
          11,
          11,
          11,
          11,
          11,
          11,
          11,
          11,
          4.03176638848691,
          11,
          11,
          11,
          11,
          11,
          11,
          11,
          11,
          11,
          11,
          11,
          11,
          11,
          11,
          11,
          11,
          11,
          11,
          11,
          11,
          3.044316227885555,
          3.029326843052405,
          1.9702432065282434,
          11,
          11,
          11,
          11,
          11,
          11,
          11,
          11,
          11,
          11,
          11,
          11,
          11,
          11,
          11,
          11,
          11,
          0.01574036017713966,
          -0.01029176095247273,
          0.00007953823807793636,
          -0.029671004076677568,
          11,
          11,
          11,
          11,
          11,
          11,
          11,
          11,
          11,
          11,
          11,
          11,
          11,
          11,
          11,
          11,
          11,
          11,
          11,
          -0.03161183593800525,
          0.015789903439156164,
          0.03228633131786336,
          11,
          11,
          11,
          11,
          6.028864255907875,
          5.959365273286241,
          5.971601432107544,
          5.998553031538914,
          5.970265190143332,
          3.0180030119340637,
          2.9768837717329593,
          3.981586126924828,
          11,
          6.00262196782987,
          6.042656270530948,
          3.007845642831453,
          11,
          4.984133000122912,
          11,
          11,
          11,
          11,
          5.9997679368564265,
          4.992374375064628,
          6.028392713881337,
          11,
          11,
          5.014580816786543,
          3.9541700810643374,
          3.98362960875314,
          4.960292877509059,
          5.033330252510312,
          5.036082852542427,
          5.009970939352787,
          2.953087623244061,
          2.953370722287767,
          4.03273927539385,
          4.029627765240494,
          4.980624384187933,
          11,
          11,
          11,
          5.001494330822593,
          11,
          0.9611335949926478,
          1.0328746381969705,
          1.0133151697532403,
          2.0180071830977298,
          2.041716248637885,
          0.9959786091051295,
          0.9528501991346864,
          11,
          11,
          11,
          11,
          11,
          2.0153738064326867,
          1.9742003499927887,
          -0.9523376700951078,
          1.006144091315453,
          0.026043842636416403,
          1.9735508288896184,
          11,
          -0.04478683768430879,
          11,
          11,
          11,
          3.975296309545952,
          11,
          11,
          11,
          3.9512031017100253,
          1.9536014605604037,
          4.001692733326809,
          2.9755423020829825,
          2.9545453893093905,
          3.049769657401298,
          2.980667430540776,
          3.0287876331687036,
          2.9977688195140457,
          3.0099078309207035,
          3.9503379694364624,
          11,
          3.9517444406493234,
          3.9835484993090615,
          11,
          3.961646327144959,
          11,
          4.00334944332915,
          1.955976901545425,
          11,
          11,
          11,
          11,
          11,
          11,
          11,
          11,
          11,
          11,
          11,
          11,
          11,
          11,
          11,
          11,
          11,
          11,
          11,
          11,
          11,
          11,
          11,
          11,
          11,
          11,
          11,
          11,
          11,
          11,
          11,
          11,
          11,
          11,
          11,
          11,
          11,
          11,
          11,
          11,
          11,
          11,
          11,
          11,
          11,
          11,
          11,
          11,
          11,
          11,
          11,
          11,
          11,
          11
         ],
         "yaxis": "y"
        },
        {
         "customdata": [
          [
           true,
           "Streptococcus pneumoniae"
          ],
          [
           true,
           "Streptococcus oralis"
          ],
          [
           true,
           "Streptococcus oralis"
          ],
          [
           true,
           "Staphylococcus lugdunensis"
          ],
          [
           true,
           "Staphylococcus lugdunensis"
          ],
          [
           true,
           "Staphylococcus lugdunensis"
          ],
          [
           true,
           "Staphylococcus lugdunensis"
          ],
          [
           true,
           "Enterococcus faecalis"
          ],
          [
           true,
           "Enterococcus faecalis"
          ],
          [
           true,
           "Enterococcus faecalis"
          ],
          [
           true,
           "Enterococcus faecalis"
          ],
          [
           true,
           "Streptococcus oralis"
          ],
          [
           true,
           "Streptococcus oralis"
          ],
          [
           true,
           "Staphylococcus aureus"
          ],
          [
           true,
           "Staphylococcus aureus"
          ],
          [
           true,
           "Staphylococcus aureus"
          ],
          [
           true,
           "Staphylococcus aureus"
          ],
          [
           true,
           "Staphylococcus aureus"
          ],
          [
           true,
           "Staphylococcus aureus"
          ],
          [
           true,
           "Staphylococcus aureus"
          ],
          [
           true,
           "Staphylococcus aureus"
          ],
          [
           true,
           "Staphylococcus aureus"
          ],
          [
           true,
           "Staphylococcus aureus"
          ],
          [
           true,
           "Staphylococcus aureus"
          ],
          [
           true,
           "Staphylococcus aureus"
          ],
          [
           true,
           "Staphylococcus aureus"
          ],
          [
           true,
           "Staphylococcus aureus"
          ],
          [
           true,
           "Staphylococcus aureus"
          ],
          [
           true,
           "Staphylococcus aureus"
          ],
          [
           true,
           "Staphylococcus aureus"
          ],
          [
           true,
           "Staphylococcus aureus"
          ],
          [
           true,
           "Staphylococcus aureus"
          ],
          [
           true,
           "Staphylococcus aureus"
          ],
          [
           true,
           "Staphylococcus aureus"
          ],
          [
           true,
           "Staphylococcus aureus"
          ],
          [
           true,
           "Staphylococcus aureus"
          ],
          [
           true,
           "Staphylococcus aureus"
          ],
          [
           true,
           "Staphylococcus aureus"
          ],
          [
           true,
           "Staphylococcus aureus"
          ],
          [
           true,
           "Staphylococcus aureus"
          ],
          [
           true,
           "Staphylococcus aureus"
          ],
          [
           true,
           "Staphylococcus aureus"
          ],
          [
           true,
           "Staphylococcus aureus"
          ],
          [
           true,
           "Streptococcus pneumoniae"
          ],
          [
           true,
           "Streptococcus oralis"
          ],
          [
           true,
           "Streptococcus oralis"
          ],
          [
           true,
           "Streptococcus mitis"
          ],
          [
           true,
           "Streptococcus oralis"
          ],
          [
           true,
           "Streptococcus pneumoniae"
          ],
          [
           true,
           "Streptococcus pneumoniae"
          ],
          [
           true,
           "Streptococcus pneumoniae"
          ],
          [
           true,
           "Streptococcus oralis"
          ],
          [
           true,
           "Streptococcus oralis"
          ],
          [
           true,
           "Streptococcus mitis"
          ],
          [
           true,
           "Streptococcus mitis"
          ],
          [
           true,
           "Streptococcus pneumoniae"
          ],
          [
           true,
           "Streptococcus mitis"
          ],
          [
           true,
           "Streptococcus mitis"
          ],
          [
           true,
           "Streptococcus mitis"
          ],
          [
           true,
           "Streptococcus oralis"
          ],
          [
           true,
           "Streptococcus oralis"
          ],
          [
           true,
           "Streptococcus pneumoniae"
          ],
          [
           true,
           "Streptococcus pneumoniae"
          ],
          [
           true,
           "Streptococcus pneumoniae"
          ],
          [
           true,
           "Streptococcus pneumoniae"
          ],
          [
           true,
           "Enterococcus faecalis"
          ],
          [
           false,
           "Enterococcus faecalis"
          ],
          [
           true,
           "Enterococcus faecalis"
          ],
          [
           false,
           "Enterococcus faecium"
          ],
          [
           false,
           "Enterococcus faecalis"
          ],
          [
           false,
           "Enterococcus faecium"
          ],
          [
           true,
           "Enterococcus faecalis"
          ],
          [
           false,
           "Enterococcus faecium"
          ],
          [
           false,
           "Enterococcus faecium"
          ],
          [
           true,
           "Enterococcus faecium"
          ],
          [
           false,
           "Enterococcus faecalis"
          ],
          [
           true,
           "Staphylococcus aureus"
          ],
          [
           true,
           "Staphylococcus capitis"
          ],
          [
           true,
           "Staphylococcus capitis"
          ],
          [
           true,
           "Staphylococcus epidermidis"
          ],
          [
           true,
           "Staphylococcus capitis"
          ],
          [
           true,
           "Staphylococcus capitis"
          ],
          [
           true,
           "Staphylococcus capitis"
          ],
          [
           true,
           "Staphylococcus epidermidis"
          ],
          [
           true,
           "Staphylococcus epidermidis"
          ],
          [
           true,
           "Staphylococcus epidermidis"
          ],
          [
           true,
           "Staphylococcus hominis"
          ],
          [
           true,
           "Staphylococcus hominis"
          ],
          [
           true,
           "Staphylococcus capitis"
          ],
          [
           true,
           "Staphylococcus capitis"
          ],
          [
           true,
           "Staphylococcus hominis"
          ],
          [
           true,
           "Staphylococcus hominis"
          ],
          [
           true,
           "Staphylococcus hominis"
          ],
          [
           true,
           "Staphylococcus hominis"
          ],
          [
           true,
           "Staphylococcus hominis"
          ],
          [
           true,
           "Staphylococcus hominis"
          ],
          [
           true,
           "Staphylococcus lugdunensis"
          ],
          [
           true,
           "Staphylococcus lugdunensis"
          ],
          [
           true,
           "Staphylococcus lugdunensis"
          ],
          [
           true,
           "Staphylococcus lugdunensis"
          ],
          [
           true,
           "Staphylococcus hominis"
          ],
          [
           true,
           "Staphylococcus hominis"
          ],
          [
           true,
           "Staphylococcus hominis"
          ],
          [
           true,
           "Staphylococcus aureus"
          ],
          [
           true,
           "Staphylococcus capitis"
          ],
          [
           true,
           "Staphylococcus lugdunensis"
          ],
          [
           true,
           "Staphylococcus lugdunensis"
          ],
          [
           true,
           "Staphylococcus lugdunensis"
          ],
          [
           true,
           "Staphylococcus lugdunensis"
          ],
          [
           true,
           "Staphylococcus epidermidis"
          ],
          [
           true,
           "Staphylococcus epidermidis"
          ],
          [
           true,
           "Staphylococcus aureus"
          ],
          [
           true,
           "Staphylococcus aureus"
          ],
          [
           true,
           "Staphylococcus aureus"
          ],
          [
           true,
           "Staphylococcus aureus"
          ],
          [
           true,
           "Staphylococcus aureus"
          ],
          [
           true,
           "Staphylococcus aureus"
          ],
          [
           true,
           "Staphylococcus epidermidis"
          ],
          [
           true,
           "Staphylococcus epidermidis"
          ],
          [
           true,
           "Staphylococcus epidermidis"
          ],
          [
           true,
           "Staphylococcus epidermidis"
          ],
          [
           true,
           "Staphylococcus epidermidis"
          ],
          [
           true,
           "Staphylococcus lugdunensis"
          ],
          [
           true,
           "Enterococcus faecalis"
          ],
          [
           true,
           "Enterococcus faecalis"
          ],
          [
           true,
           "Staphylococcus aureus"
          ],
          [
           true,
           "Enterococcus faecalis"
          ],
          [
           true,
           "Staphylococcus capitis"
          ],
          [
           true,
           "Staphylococcus capitis"
          ],
          [
           true,
           "Staphylococcus epidermidis"
          ],
          [
           true,
           "Staphylococcus capitis"
          ],
          [
           true,
           "Staphylococcus capitis"
          ],
          [
           true,
           "Staphylococcus capitis"
          ],
          [
           true,
           "Streptococcus mitis"
          ],
          [
           true,
           "Staphylococcus epidermidis"
          ],
          [
           true,
           "Staphylococcus hominis"
          ],
          [
           true,
           "Streptococcus pneumoniae"
          ],
          [
           true,
           "Streptococcus oralis"
          ],
          [
           true,
           "Streptococcus oralis"
          ],
          [
           true,
           "Staphylococcus aureus"
          ],
          [
           true,
           "Staphylococcus capitis"
          ],
          [
           true,
           "Staphylococcus capitis"
          ],
          [
           true,
           "Streptococcus mitis"
          ],
          [
           true,
           "Streptococcus mitis"
          ],
          [
           true,
           "Staphylococcus hominis"
          ],
          [
           true,
           "Enterococcus faecium"
          ],
          [
           true,
           "Staphylococcus hominis"
          ],
          [
           true,
           "Staphylococcus hominis"
          ],
          [
           true,
           "Staphylococcus hominis"
          ],
          [
           true,
           "Staphylococcus hominis"
          ],
          [
           true,
           "Staphylococcus lugdunensis"
          ],
          [
           true,
           "Staphylococcus lugdunensis"
          ],
          [
           true,
           "Staphylococcus lugdunensis"
          ],
          [
           true,
           "Staphylococcus lugdunensis"
          ],
          [
           true,
           "Streptococcus pneumoniae"
          ],
          [
           true,
           "Staphylococcus hominis"
          ],
          [
           true,
           "Staphylococcus hominis"
          ],
          [
           true,
           "Staphylococcus hominis"
          ],
          [
           true,
           "Streptococcus mitis"
          ],
          [
           true,
           "Streptococcus mitis"
          ],
          [
           true,
           "Streptococcus mitis"
          ],
          [
           true,
           "Streptococcus oralis"
          ],
          [
           true,
           "Streptococcus oralis"
          ],
          [
           true,
           "Staphylococcus aureus"
          ],
          [
           true,
           "Staphylococcus capitis"
          ],
          [
           true,
           "Staphylococcus lugdunensis"
          ],
          [
           true,
           "Staphylococcus lugdunensis"
          ],
          [
           true,
           "Staphylococcus lugdunensis"
          ],
          [
           true,
           "Staphylococcus lugdunensis"
          ],
          [
           true,
           "Staphylococcus lugdunensis"
          ],
          [
           true,
           "Staphylococcus epidermidis"
          ],
          [
           true,
           "Staphylococcus epidermidis"
          ],
          [
           true,
           "Staphylococcus aureus"
          ],
          [
           true,
           "Staphylococcus aureus"
          ],
          [
           true,
           "Staphylococcus aureus"
          ],
          [
           true,
           "Staphylococcus aureus"
          ],
          [
           true,
           "Staphylococcus aureus"
          ],
          [
           true,
           "Staphylococcus aureus"
          ],
          [
           true,
           "Staphylococcus aureus"
          ],
          [
           true,
           "Staphylococcus epidermidis"
          ],
          [
           true,
           "Staphylococcus epidermidis"
          ],
          [
           true,
           "Streptococcus pneumoniae"
          ],
          [
           true,
           "Streptococcus pneumoniae"
          ],
          [
           true,
           "Streptococcus pneumoniae"
          ],
          [
           true,
           "Staphylococcus lugdunensis"
          ],
          [
           true,
           "Staphylococcus aureus"
          ],
          [
           true,
           "Staphylococcus capitis"
          ],
          [
           true,
           "Staphylococcus capitis"
          ],
          [
           true,
           "Staphylococcus epidermidis"
          ],
          [
           true,
           "Staphylococcus capitis"
          ],
          [
           true,
           "Staphylococcus capitis"
          ],
          [
           true,
           "Staphylococcus capitis"
          ],
          [
           true,
           "Staphylococcus epidermidis"
          ],
          [
           true,
           "Streptococcus mitis"
          ],
          [
           true,
           "Staphylococcus epidermidis"
          ],
          [
           true,
           "Staphylococcus epidermidis"
          ],
          [
           true,
           "Staphylococcus hominis"
          ],
          [
           true,
           "Staphylococcus hominis"
          ],
          [
           true,
           "Streptococcus pneumoniae"
          ],
          [
           true,
           "Streptococcus oralis"
          ],
          [
           true,
           "Streptococcus oralis"
          ],
          [
           true,
           "Staphylococcus aureus"
          ],
          [
           true,
           "Staphylococcus capitis"
          ],
          [
           true,
           "Staphylococcus capitis"
          ],
          [
           true,
           "Streptococcus mitis"
          ],
          [
           true,
           "Staphylococcus hominis"
          ],
          [
           true,
           "Staphylococcus hominis"
          ],
          [
           true,
           "Enterococcus faecium"
          ],
          [
           true,
           "Staphylococcus hominis"
          ],
          [
           true,
           "Staphylococcus hominis"
          ],
          [
           true,
           "Staphylococcus hominis"
          ],
          [
           true,
           "Staphylococcus hominis"
          ],
          [
           true,
           "Staphylococcus lugdunensis"
          ],
          [
           true,
           "Staphylococcus lugdunensis"
          ],
          [
           true,
           "Staphylococcus lugdunensis"
          ],
          [
           true,
           "Staphylococcus lugdunensis"
          ],
          [
           true,
           "Streptococcus pneumoniae"
          ],
          [
           true,
           "Staphylococcus hominis"
          ],
          [
           true,
           "Staphylococcus hominis"
          ],
          [
           true,
           "Staphylococcus hominis"
          ],
          [
           true,
           "Streptococcus mitis"
          ],
          [
           true,
           "Streptococcus mitis"
          ],
          [
           true,
           "Streptococcus mitis"
          ],
          [
           true,
           "Streptococcus oralis"
          ],
          [
           true,
           "Streptococcus oralis"
          ],
          [
           true,
           "Staphylococcus aureus"
          ],
          [
           true,
           "Staphylococcus capitis"
          ],
          [
           true,
           "Staphylococcus lugdunensis"
          ],
          [
           true,
           "Staphylococcus lugdunensis"
          ],
          [
           true,
           "Staphylococcus lugdunensis"
          ],
          [
           true,
           "Staphylococcus lugdunensis"
          ],
          [
           true,
           "Staphylococcus lugdunensis"
          ],
          [
           true,
           "Staphylococcus epidermidis"
          ],
          [
           true,
           "Staphylococcus epidermidis"
          ],
          [
           true,
           "Staphylococcus aureus"
          ],
          [
           true,
           "Staphylococcus aureus"
          ],
          [
           true,
           "Staphylococcus aureus"
          ],
          [
           true,
           "Staphylococcus aureus"
          ],
          [
           true,
           "Staphylococcus aureus"
          ],
          [
           true,
           "Staphylococcus epidermidis"
          ],
          [
           true,
           "Staphylococcus epidermidis"
          ],
          [
           true,
           "Staphylococcus epidermidis"
          ],
          [
           true,
           "Staphylococcus epidermidis"
          ],
          [
           true,
           "Staphylococcus epidermidis"
          ],
          [
           true,
           "Streptococcus pneumoniae"
          ],
          [
           true,
           "Streptococcus pneumoniae"
          ],
          [
           true,
           "Streptococcus pneumoniae"
          ],
          [
           true,
           "Staphylococcus lugdunensis"
          ],
          [
           true,
           "Staphylococcus capitis"
          ],
          [
           true,
           "Staphylococcus capitis"
          ],
          [
           true,
           "Staphylococcus epidermidis"
          ],
          [
           true,
           "Staphylococcus hominis"
          ],
          [
           true,
           "Staphylococcus lugdunensis"
          ],
          [
           true,
           "Staphylococcus lugdunensis"
          ],
          [
           true,
           "Staphylococcus lugdunensis"
          ],
          [
           true,
           "Staphylococcus aureus"
          ],
          [
           true,
           "Staphylococcus aureus"
          ],
          [
           true,
           "Staphylococcus lugdunensis"
          ],
          [
           true,
           "Staphylococcus aureus"
          ],
          [
           true,
           "Staphylococcus capitis"
          ],
          [
           true,
           "Staphylococcus epidermidis"
          ],
          [
           true,
           "Staphylococcus hominis"
          ],
          [
           true,
           "Staphylococcus hominis"
          ],
          [
           true,
           "Streptococcus pneumoniae"
          ],
          [
           true,
           "Staphylococcus hominis"
          ],
          [
           true,
           "Staphylococcus lugdunensis"
          ],
          [
           true,
           "Staphylococcus lugdunensis"
          ],
          [
           true,
           "Staphylococcus lugdunensis"
          ],
          [
           true,
           "Staphylococcus hominis"
          ],
          [
           true,
           "Staphylococcus hominis"
          ],
          [
           true,
           "Staphylococcus lugdunensis"
          ],
          [
           true,
           "Staphylococcus aureus"
          ],
          [
           true,
           "Staphylococcus aureus"
          ],
          [
           true,
           "Staphylococcus lugdunensis"
          ],
          [
           true,
           "Staphylococcus capitis"
          ],
          [
           true,
           "Staphylococcus capitis"
          ],
          [
           true,
           "Staphylococcus capitis"
          ],
          [
           true,
           "Staphylococcus hominis"
          ],
          [
           true,
           "Staphylococcus hominis"
          ],
          [
           true,
           "Staphylococcus hominis"
          ],
          [
           true,
           "Staphylococcus hominis"
          ],
          [
           true,
           "Staphylococcus hominis"
          ],
          [
           true,
           "Staphylococcus lugdunensis"
          ],
          [
           true,
           "Staphylococcus lugdunensis"
          ],
          [
           true,
           "Staphylococcus hominis"
          ],
          [
           true,
           "Staphylococcus lugdunensis"
          ],
          [
           true,
           "Staphylococcus lugdunensis"
          ],
          [
           true,
           "Staphylococcus lugdunensis"
          ],
          [
           true,
           "Staphylococcus aureus"
          ],
          [
           true,
           "Staphylococcus aureus"
          ],
          [
           true,
           "Staphylococcus aureus"
          ],
          [
           true,
           "Staphylococcus aureus"
          ],
          [
           true,
           "Staphylococcus aureus"
          ],
          [
           true,
           "Staphylococcus aureus"
          ],
          [
           true,
           "Staphylococcus aureus"
          ],
          [
           true,
           "Staphylococcus epidermidis"
          ],
          [
           true,
           "Staphylococcus epidermidis"
          ],
          [
           true,
           "Staphylococcus epidermidis"
          ],
          [
           true,
           "Streptococcus pneumoniae"
          ],
          [
           true,
           "Enterococcus faecium"
          ],
          [
           true,
           "Enterococcus faecium"
          ],
          [
           true,
           "Staphylococcus aureus"
          ],
          [
           true,
           "Staphylococcus aureus"
          ],
          [
           true,
           "Enterococcus faecalis"
          ],
          [
           true,
           "Enterococcus faecium"
          ],
          [
           true,
           "Staphylococcus capitis"
          ],
          [
           true,
           "Staphylococcus capitis"
          ],
          [
           true,
           "Staphylococcus epidermidis"
          ],
          [
           true,
           "Staphylococcus capitis"
          ],
          [
           true,
           "Staphylococcus capitis"
          ],
          [
           true,
           "Staphylococcus capitis"
          ],
          [
           true,
           "Staphylococcus epidermidis"
          ],
          [
           true,
           "Staphylococcus epidermidis"
          ],
          [
           true,
           "Enterococcus faecalis"
          ],
          [
           true,
           "Staphylococcus epidermidis"
          ],
          [
           true,
           "Staphylococcus hominis"
          ],
          [
           true,
           "Staphylococcus hominis"
          ],
          [
           true,
           "Streptococcus pneumoniae"
          ],
          [
           true,
           "Streptococcus pneumoniae"
          ],
          [
           true,
           "Enterococcus faecium"
          ],
          [
           true,
           "Staphylococcus aureus"
          ],
          [
           true,
           "Staphylococcus capitis"
          ],
          [
           true,
           "Staphylococcus capitis"
          ],
          [
           true,
           "Staphylococcus hominis"
          ],
          [
           true,
           "Staphylococcus hominis"
          ],
          [
           true,
           "Staphylococcus lugdunensis"
          ],
          [
           true,
           "Staphylococcus lugdunensis"
          ],
          [
           true,
           "Staphylococcus lugdunensis"
          ],
          [
           true,
           "Streptococcus pneumoniae"
          ],
          [
           true,
           "Staphylococcus hominis"
          ],
          [
           true,
           "Staphylococcus hominis"
          ],
          [
           true,
           "Staphylococcus aureus"
          ],
          [
           true,
           "Staphylococcus capitis"
          ],
          [
           true,
           "Staphylococcus lugdunensis"
          ],
          [
           true,
           "Staphylococcus lugdunensis"
          ],
          [
           true,
           "Staphylococcus lugdunensis"
          ],
          [
           true,
           "Staphylococcus lugdunensis"
          ],
          [
           true,
           "Staphylococcus epidermidis"
          ],
          [
           true,
           "Staphylococcus epidermidis"
          ],
          [
           true,
           "Staphylococcus aureus"
          ],
          [
           true,
           "Staphylococcus aureus"
          ],
          [
           true,
           "Staphylococcus aureus"
          ],
          [
           true,
           "Staphylococcus aureus"
          ],
          [
           true,
           "Staphylococcus aureus"
          ],
          [
           true,
           "Staphylococcus aureus"
          ],
          [
           true,
           "Enterococcus faecium"
          ],
          [
           true,
           "Streptococcus pneumoniae"
          ],
          [
           true,
           "Staphylococcus aureus"
          ],
          [
           true,
           "Staphylococcus capitis"
          ],
          [
           true,
           "Staphylococcus capitis"
          ],
          [
           true,
           "Staphylococcus epidermidis"
          ],
          [
           true,
           "Staphylococcus capitis"
          ],
          [
           true,
           "Staphylococcus capitis"
          ],
          [
           true,
           "Staphylococcus epidermidis"
          ],
          [
           true,
           "Staphylococcus epidermidis"
          ],
          [
           true,
           "Staphylococcus epidermidis"
          ],
          [
           true,
           "Staphylococcus hominis"
          ],
          [
           true,
           "Staphylococcus hominis"
          ],
          [
           true,
           "Staphylococcus aureus"
          ],
          [
           true,
           "Staphylococcus capitis"
          ],
          [
           true,
           "Staphylococcus capitis"
          ],
          [
           true,
           "Staphylococcus hominis"
          ],
          [
           true,
           "Staphylococcus hominis"
          ],
          [
           true,
           "Staphylococcus hominis"
          ],
          [
           true,
           "Staphylococcus hominis"
          ],
          [
           true,
           "Staphylococcus hominis"
          ],
          [
           true,
           "Staphylococcus hominis"
          ],
          [
           true,
           "Staphylococcus lugdunensis"
          ],
          [
           true,
           "Staphylococcus lugdunensis"
          ],
          [
           true,
           "Staphylococcus lugdunensis"
          ],
          [
           true,
           "Staphylococcus lugdunensis"
          ],
          [
           true,
           "Staphylococcus hominis"
          ],
          [
           true,
           "Staphylococcus hominis"
          ],
          [
           true,
           "Staphylococcus hominis"
          ],
          [
           true,
           "Staphylococcus aureus"
          ],
          [
           true,
           "Staphylococcus capitis"
          ],
          [
           true,
           "Staphylococcus lugdunensis"
          ],
          [
           true,
           "Staphylococcus lugdunensis"
          ],
          [
           true,
           "Staphylococcus lugdunensis"
          ],
          [
           true,
           "Staphylococcus lugdunensis"
          ],
          [
           true,
           "Staphylococcus lugdunensis"
          ],
          [
           true,
           "Staphylococcus epidermidis"
          ],
          [
           true,
           "Staphylococcus epidermidis"
          ],
          [
           true,
           "Staphylococcus aureus"
          ],
          [
           true,
           "Staphylococcus aureus"
          ],
          [
           true,
           "Staphylococcus aureus"
          ],
          [
           true,
           "Staphylococcus aureus"
          ],
          [
           true,
           "Staphylococcus aureus"
          ],
          [
           true,
           "Staphylococcus aureus"
          ],
          [
           true,
           "Staphylococcus epidermidis"
          ],
          [
           true,
           "Staphylococcus epidermidis"
          ],
          [
           true,
           "Staphylococcus epidermidis"
          ],
          [
           true,
           "Staphylococcus epidermidis"
          ],
          [
           true,
           "Staphylococcus epidermidis"
          ],
          [
           true,
           "Staphylococcus lugdunensis"
          ],
          [
           true,
           "Staphylococcus aureus"
          ],
          [
           true,
           "Staphylococcus capitis"
          ],
          [
           true,
           "Staphylococcus capitis"
          ],
          [
           true,
           "Staphylococcus capitis"
          ],
          [
           true,
           "Staphylococcus capitis"
          ],
          [
           true,
           "Staphylococcus epidermidis"
          ],
          [
           true,
           "Staphylococcus epidermidis"
          ],
          [
           true,
           "Staphylococcus hominis"
          ],
          [
           true,
           "Staphylococcus aureus"
          ],
          [
           true,
           "Staphylococcus hominis"
          ],
          [
           true,
           "Staphylococcus hominis"
          ],
          [
           true,
           "Staphylococcus hominis"
          ],
          [
           true,
           "Staphylococcus hominis"
          ],
          [
           true,
           "Staphylococcus hominis"
          ],
          [
           true,
           "Staphylococcus lugdunensis"
          ],
          [
           true,
           "Staphylococcus lugdunensis"
          ],
          [
           true,
           "Staphylococcus lugdunensis"
          ],
          [
           true,
           "Staphylococcus hominis"
          ],
          [
           true,
           "Staphylococcus hominis"
          ],
          [
           true,
           "Staphylococcus aureus"
          ],
          [
           true,
           "Staphylococcus lugdunensis"
          ],
          [
           true,
           "Staphylococcus lugdunensis"
          ],
          [
           true,
           "Staphylococcus lugdunensis"
          ],
          [
           true,
           "Staphylococcus lugdunensis"
          ],
          [
           true,
           "Staphylococcus epidermidis"
          ],
          [
           true,
           "Staphylococcus epidermidis"
          ],
          [
           true,
           "Staphylococcus aureus"
          ],
          [
           true,
           "Staphylococcus aureus"
          ],
          [
           true,
           "Staphylococcus aureus"
          ],
          [
           true,
           "Staphylococcus aureus"
          ],
          [
           true,
           "Staphylococcus epidermidis"
          ],
          [
           true,
           "Staphylococcus epidermidis"
          ],
          [
           true,
           "Staphylococcus aureus"
          ],
          [
           true,
           "Staphylococcus capitis"
          ],
          [
           true,
           "Staphylococcus capitis"
          ],
          [
           true,
           "Staphylococcus capitis"
          ],
          [
           true,
           "Staphylococcus capitis"
          ],
          [
           true,
           "Staphylococcus capitis"
          ],
          [
           true,
           "Staphylococcus epidermidis"
          ],
          [
           true,
           "Staphylococcus hominis"
          ],
          [
           true,
           "Staphylococcus capitis"
          ],
          [
           true,
           "Staphylococcus hominis"
          ],
          [
           true,
           "Staphylococcus hominis"
          ],
          [
           true,
           "Staphylococcus lugdunensis"
          ],
          [
           true,
           "Staphylococcus lugdunensis"
          ],
          [
           true,
           "Staphylococcus lugdunensis"
          ],
          [
           true,
           "Staphylococcus capitis"
          ],
          [
           true,
           "Staphylococcus lugdunensis"
          ],
          [
           true,
           "Staphylococcus lugdunensis"
          ],
          [
           true,
           "Staphylococcus lugdunensis"
          ],
          [
           true,
           "Staphylococcus lugdunensis"
          ],
          [
           true,
           "Staphylococcus lugdunensis"
          ],
          [
           true,
           "Staphylococcus aureus"
          ],
          [
           true,
           "Staphylococcus aureus"
          ],
          [
           true,
           "Staphylococcus aureus"
          ],
          [
           true,
           "Staphylococcus aureus"
          ],
          [
           true,
           "Staphylococcus aureus"
          ],
          [
           true,
           "Staphylococcus aureus"
          ],
          [
           true,
           "Staphylococcus aureus"
          ],
          [
           true,
           "Staphylococcus aureus"
          ],
          [
           true,
           "Streptococcus pneumoniae"
          ],
          [
           true,
           "Streptococcus pneumoniae"
          ],
          [
           true,
           "Staphylococcus capitis"
          ],
          [
           true,
           "Staphylococcus capitis"
          ],
          [
           true,
           "Staphylococcus epidermidis"
          ],
          [
           true,
           "Staphylococcus capitis"
          ],
          [
           true,
           "Staphylococcus lugdunensis"
          ],
          [
           true,
           "Staphylococcus lugdunensis"
          ],
          [
           true,
           "Staphylococcus lugdunensis"
          ],
          [
           true,
           "Staphylococcus hominis"
          ],
          [
           true,
           "Staphylococcus aureus"
          ],
          [
           true,
           "Staphylococcus aureus"
          ],
          [
           true,
           "Staphylococcus epidermidis"
          ],
          [
           true,
           "Staphylococcus epidermidis"
          ],
          [
           true,
           "Staphylococcus epidermidis"
          ],
          [
           true,
           "Staphylococcus epidermidis"
          ],
          [
           true,
           "Staphylococcus epidermidis"
          ],
          [
           true,
           "Staphylococcus auricularis"
          ],
          [
           true,
           "Staphylococcus auricularis"
          ],
          [
           true,
           "Staphylococcus auricularis"
          ],
          [
           true,
           "Staphylococcus auricularis"
          ],
          [
           true,
           "Staphylococcus auricularis"
          ],
          [
           true,
           "Staphylococcus warneri"
          ]
         ],
         "hovertemplate": "<b>%{hovertext}</b><br><br>SIR=Sensitive<br>Log2(MIC-value)=%{y:.0f}<br>Scale=%{customdata[0]}<br>Pathogen=%{customdata[1]}<extra></extra>",
         "hovertext": [
          "BAR026",
          "QM169",
          "QM874",
          "QM889",
          "QM1260",
          "QM1262",
          "BAR043",
          "QM286",
          "QM065",
          "QM294",
          "BAR032",
          "QM169",
          "QM874",
          "QM397",
          "QM992",
          "QM322",
          "QM1450",
          "AR0565",
          "AR0217",
          "AR0218",
          "AR0219",
          "AR0222",
          "AR0227",
          "AR0228",
          "AR0708",
          "AR0711",
          "AR0717",
          "AR0718",
          "QM397",
          "QM992",
          "QM322",
          "QM1450",
          "AR0565",
          "AR0217",
          "AR0218",
          "AR0219",
          "AR0222",
          "AR0227",
          "AR0228",
          "AR0708",
          "AR0711",
          "AR0717",
          "AR0718",
          "BAR026",
          "QM169",
          "QM874",
          "QM870",
          "HV752",
          "QM402",
          "QM806",
          "BAR026",
          "QM169",
          "QM874",
          "QM1406",
          "BAR064",
          "QM1470",
          "QM870",
          "QM871",
          "BAR066",
          "HV752",
          "QM138",
          "QM027",
          "QM326",
          "QM328",
          "QM402",
          "QM286",
          "QM065",
          "QM294",
          "PER107",
          "QM319",
          "PER108",
          "QM312",
          "QM295",
          "QM1252",
          "AR0572",
          "QM067",
          "QM322",
          "QM085",
          "QM086",
          "HV116",
          "QM899",
          "BAR002",
          "BAR003",
          "HV146",
          "HV953",
          "QM968",
          "HV245",
          "HV414",
          "QM1263",
          "QM1264",
          "HV987",
          "QM093",
          "QM1270",
          "QM1271",
          "QM1272",
          "QM1273",
          "PER152",
          "QM889",
          "QM894",
          "QM960",
          "HV813",
          "HV820",
          "HV88",
          "AR0565",
          "QM1265",
          "QM1259",
          "QM1261",
          "QM1262",
          "QM1269",
          "HV733",
          "HV744",
          "AR0222",
          "AR0703",
          "AR0708",
          "AR0711",
          "AR0717",
          "AR0718",
          "AR0726",
          "AR0727",
          "AR0728",
          "AR0729",
          "AR0730",
          "BAR043",
          "QM286",
          "QM065",
          "QM322",
          "QM312",
          "QM085",
          "QM086",
          "HV116",
          "QM899",
          "BAR002",
          "BAR003",
          "QM134",
          "QM968",
          "HV414",
          "QM806",
          "QM169",
          "QM874",
          "QM1450",
          "QM1263",
          "QM1264",
          "QM1406",
          "BAR064",
          "QM093",
          "QM1522",
          "QM1270",
          "QM1271",
          "QM1272",
          "QM1273",
          "PER152",
          "QM889",
          "QM894",
          "QM960",
          "QM1470",
          "HV813",
          "HV820",
          "HV88",
          "QM870",
          "QM871",
          "BAR066",
          "HV752",
          "QM138",
          "AR0565",
          "QM1265",
          "QM1259",
          "QM1260",
          "QM1261",
          "QM1262",
          "QM1269",
          "HV733",
          "HV744",
          "AR0222",
          "AR0228",
          "AR0703",
          "AR0708",
          "AR0711",
          "AR0717",
          "AR0718",
          "AR0726",
          "AR0730",
          "QM027",
          "QM326",
          "QM328",
          "BAR043",
          "QM322",
          "QM085",
          "QM086",
          "HV116",
          "QM899",
          "BAR002",
          "BAR003",
          "HV146",
          "QM134",
          "HV953",
          "QM968",
          "HV245",
          "HV414",
          "BAR026",
          "QM169",
          "QM874",
          "QM1450",
          "QM1263",
          "QM1264",
          "QM1406",
          "HV987",
          "QM093",
          "QM1522",
          "QM1270",
          "QM1271",
          "QM1272",
          "QM1273",
          "PER152",
          "QM889",
          "QM894",
          "QM960",
          "QM1470",
          "HV813",
          "HV820",
          "HV88",
          "QM870",
          "QM871",
          "BAR066",
          "HV752",
          "QM138",
          "AR0565",
          "QM1265",
          "QM1259",
          "QM1260",
          "QM1261",
          "QM1262",
          "QM1269",
          "HV733",
          "HV744",
          "AR0703",
          "AR0708",
          "AR0711",
          "AR0717",
          "AR0718",
          "AR0726",
          "AR0727",
          "AR0728",
          "AR0729",
          "AR0730",
          "QM027",
          "QM326",
          "QM328",
          "BAR043",
          "QM085",
          "QM086",
          "HV146",
          "QM1272",
          "PER152",
          "QM889",
          "QM894",
          "AR0217",
          "AR0222",
          "BAR043",
          "QM322",
          "QM086",
          "HV146",
          "HV245",
          "HV414",
          "BAR026",
          "HV987",
          "PER152",
          "QM889",
          "QM894",
          "HV813",
          "HV88",
          "QM1269",
          "AR0217",
          "AR0222",
          "BAR043",
          "QM085",
          "BAR002",
          "BAR003",
          "HV245",
          "QM1270",
          "QM1271",
          "QM1272",
          "QM1273",
          "PER152",
          "QM960",
          "HV88",
          "QM1259",
          "QM1262",
          "QM1269",
          "AR0217",
          "AR0218",
          "AR0227",
          "AR0228",
          "AR0708",
          "AR0711",
          "AR0717",
          "AR0726",
          "AR0728",
          "AR0729",
          "QM328",
          "PER107",
          "PER108",
          "QM397",
          "QM992",
          "QM312",
          "QM295",
          "QM085",
          "QM086",
          "HV116",
          "QM899",
          "BAR002",
          "BAR003",
          "HV146",
          "HV953",
          "BAR032",
          "QM968",
          "HV245",
          "HV414",
          "QM806",
          "BAR026",
          "QM1252",
          "QM1450",
          "QM1263",
          "QM1264",
          "HV987",
          "QM093",
          "QM889",
          "QM894",
          "QM960",
          "QM1470",
          "HV813",
          "HV820",
          "AR0565",
          "QM1265",
          "QM1259",
          "QM1260",
          "QM1261",
          "QM1269",
          "HV733",
          "HV744",
          "AR0217",
          "AR0218",
          "AR0219",
          "AR0222",
          "AR0228",
          "AR0703",
          "AR0572",
          "QM326",
          "QM322",
          "QM085",
          "QM086",
          "HV116",
          "QM899",
          "BAR003",
          "HV146",
          "HV953",
          "QM968",
          "HV245",
          "HV414",
          "QM1450",
          "QM1263",
          "QM1264",
          "HV987",
          "QM093",
          "QM1270",
          "QM1271",
          "QM1272",
          "QM1273",
          "PER152",
          "QM889",
          "QM894",
          "QM960",
          "HV813",
          "HV820",
          "HV88",
          "AR0565",
          "QM1265",
          "QM1259",
          "QM1260",
          "QM1261",
          "QM1262",
          "QM1269",
          "HV733",
          "HV744",
          "AR0219",
          "AR0703",
          "AR0708",
          "AR0711",
          "AR0717",
          "AR0718",
          "AR0726",
          "AR0727",
          "AR0728",
          "AR0729",
          "AR0730",
          "BAR043",
          "QM322",
          "QM086",
          "QM899",
          "BAR002",
          "BAR003",
          "HV146",
          "HV953",
          "HV245",
          "QM1450",
          "HV987",
          "QM1270",
          "QM1271",
          "QM1272",
          "QM1273",
          "QM889",
          "QM894",
          "QM960",
          "HV813",
          "HV820",
          "AR0565",
          "QM1260",
          "QM1261",
          "QM1262",
          "QM1269",
          "HV733",
          "HV744",
          "AR0217",
          "AR0218",
          "AR0228",
          "AR0717",
          "AR0727",
          "AR0728",
          "QM322",
          "QM085",
          "QM086",
          "QM899",
          "BAR002",
          "BAR003",
          "HV146",
          "HV414",
          "QM1263",
          "HV987",
          "QM093",
          "QM889",
          "QM894",
          "QM960",
          "QM1265",
          "QM1259",
          "QM1260",
          "QM1261",
          "QM1262",
          "QM1269",
          "AR0218",
          "AR0219",
          "AR0227",
          "AR0228",
          "AR0708",
          "AR0711",
          "AR0717",
          "AR0718",
          "QM328",
          "QM402",
          "QM085",
          "QM086",
          "HV146",
          "QM1264",
          "PER152",
          "QM889",
          "QM894",
          "HV813",
          "AR0217",
          "AR0222",
          "AR0726",
          "AR0727",
          "AR0728",
          "AR0729",
          "AR0730",
          "QM1493",
          "QM1494",
          "QM1566",
          "QM1567",
          "QM1569",
          "QM1572"
         ],
         "legendgroup": "Sensitive",
         "marker": {
          "color": "limegreen",
          "opacity": 0.3,
          "symbol": "circle"
         },
         "mode": "markers",
         "name": "Sensitive",
         "orientation": "v",
         "showlegend": true,
         "type": "scatter",
         "x": [
          -0.10423632514469815,
          0.13562067229696376,
          -0.13599724583264303,
          0.10245147149003717,
          0.09319531443535387,
          0.06956035134751334,
          -0.12720143457835764,
          0.9585009347396338,
          1.0299814049061513,
          0.9484383534185689,
          1.0526573803367765,
          0.9153546606737298,
          0.9049737439501206,
          2.8896451913634005,
          2.8877490452994787,
          2.960886880418041,
          3.1164398973892666,
          3.049693036227107,
          3.1144694413246348,
          3.1475967821573616,
          3.0379016462856367,
          2.9726884331505867,
          2.8545589477458275,
          3.1387290736874296,
          2.8653546896319884,
          3.0982320725080856,
          2.9445365473274197,
          2.912208748542421,
          4.134507766463043,
          3.9726164287094616,
          4.0699799408767365,
          3.94655430449234,
          4.030685200324965,
          4.082628756243013,
          3.996598398287047,
          4.008001438068164,
          3.93590962561795,
          4.12816072210792,
          4.072179564494477,
          4.038896397059257,
          4.0910177863798705,
          4.122305734675602,
          3.88469968032803,
          4.859282091587849,
          5.102083905317341,
          4.9322701041116925,
          4.896616151965877,
          5.031763644388354,
          5.077654863266914,
          6.899227166913875,
          7.080584124524815,
          6.865512878240819,
          7.073887350905536,
          7.09277385758877,
          7.1307049307139545,
          7.026872740695127,
          7.065280961189258,
          7.096014901251125,
          6.987089871728544,
          7.138050963397139,
          7.014763444402424,
          7.037890343092243,
          6.89176229717437,
          7.1037009718689985,
          7.049751456787151,
          9.877180603193036,
          9.955384879238343,
          9.94320734044793,
          10.056699384389798,
          10.085577790493472,
          10.076828338380144,
          9.986891979067737,
          10.057837816149833,
          9.863694859230312,
          10.051403573671298,
          10.148776399958074,
          11.132765202946725,
          11.005264109560315,
          11.09196450316522,
          11.124747910039744,
          11.148696625459714,
          11.064145295501895,
          11.10610151881734,
          10.974132473816415,
          10.962468592445434,
          10.984066557365297,
          10.99458664559128,
          10.917432857540852,
          11.13628226054152,
          11.106820895169134,
          11.027000597712272,
          11.06204117154474,
          11.038233761269288,
          11.068896709472703,
          11.110215956885765,
          10.85967148361824,
          10.874500991912765,
          11.091306313270398,
          10.887165963646437,
          11.118765821164375,
          10.98225451863923,
          10.972175663387793,
          11.022537407278381,
          10.876594677736808,
          10.904136457685583,
          10.88637581691294,
          11.060814521327762,
          11.017986573649516,
          10.970607307638145,
          10.886526046511044,
          10.998138593659988,
          11.06845180204475,
          11.100257575521203,
          11.014207717838826,
          10.92304589482079,
          11.111510059410973,
          11.070784805537661,
          10.861267664516943,
          10.875482732951298,
          10.995347479528359,
          10.972382279957763,
          10.909590622441677,
          11.011196629774286,
          12.045589315468964,
          12.123005913361157,
          11.879693599954255,
          12.114066094552387,
          12.095171753955755,
          11.961697949556564,
          11.867928766523887,
          12.021490882660176,
          11.995264637212504,
          12.139274884684191,
          11.86928754597328,
          12.073071804440286,
          12.147850769927913,
          12.048164639531382,
          12.134234276797066,
          12.094593799150926,
          11.870533010611997,
          12.053879521107316,
          11.875104635362382,
          11.88891541937699,
          12.11107408832494,
          11.900801461350385,
          11.873030468518493,
          11.960710360502896,
          12.14488697017219,
          11.93326168939089,
          11.866045329371179,
          12.011592862386165,
          11.926193861506059,
          11.978667518279018,
          12.028178322067022,
          11.910315987060665,
          11.927788791765284,
          11.944273892616405,
          12.062133872958938,
          12.072381554784636,
          11.885845642509796,
          11.98397113886157,
          11.99903973573113,
          12.092205087366283,
          11.94446815880859,
          11.888466821759383,
          11.931992353731687,
          11.918594832806459,
          11.86988298516816,
          12.074266218651566,
          12.089778949396957,
          11.923293358705752,
          12.05961454956337,
          11.964588204538861,
          11.862182235081129,
          11.920202666326045,
          11.90223242018039,
          11.97662201226921,
          12.141161581149616,
          11.875400426017444,
          11.997605354029965,
          12.095302120888459,
          12.068017495198612,
          11.973939166824845,
          12.032312708654056,
          11.94140453207627,
          12.875034343472338,
          12.993675791588862,
          13.10920355715487,
          12.923922061153126,
          12.962528616366116,
          13.119697196288717,
          12.93399138389803,
          12.89522327097418,
          13.022932470788259,
          12.997888511512809,
          12.865628832559764,
          12.87451248430062,
          12.885244829557113,
          12.959827536746184,
          12.857796236773252,
          12.86574080887398,
          12.854968162940015,
          12.884355073971353,
          13.040430958368345,
          13.010110438731978,
          13.130165345421899,
          12.958559090893736,
          12.858059412227096,
          12.96178897879272,
          13.111592025084983,
          12.971755098889862,
          13.065042318161089,
          12.873537581085019,
          12.958643089418176,
          12.887814196025484,
          13.051023837209375,
          12.924131936037233,
          12.903013585191365,
          12.959891477803358,
          12.925359253087773,
          12.931932916206591,
          13.007782846734756,
          13.021250358745139,
          12.881642971404252,
          13.103401914492622,
          13.03892588657574,
          12.887214077847174,
          13.07272378024822,
          13.127038061100997,
          12.974917553106502,
          12.977017067974169,
          13.066797248287672,
          13.037708046020535,
          13.105604798458536,
          13.125697216298754,
          13.009598483940081,
          12.9170408805508,
          12.95731990827334,
          12.962684362439937,
          13.118698295053926,
          13.072797353151575,
          12.899002515692565,
          12.864613386020501,
          12.85611861152588,
          12.991904517740531,
          12.970548777802954,
          12.942558603716416,
          12.920235904573996,
          14.11008529706466,
          14.071795143967947,
          14.005883867353663,
          13.860272328903866,
          13.94565735564736,
          14.081489939809893,
          14.085131833553774,
          14.137631883182646,
          14.017632520221003,
          14.044469930311964,
          15.14176408040532,
          15.071061999369629,
          15.047626883818612,
          15.080871210778465,
          14.880128667842845,
          15.087432798893374,
          14.95169387562292,
          15.093808606518671,
          15.094644469263443,
          14.86760100858078,
          15.127032459154009,
          14.948018302131334,
          15.048298991209489,
          15.066442621600237,
          15.104283957267123,
          14.947829368121205,
          15.888887205506842,
          15.933371119477204,
          15.900634715124353,
          15.950373174691501,
          15.872701529827602,
          15.90303719942968,
          15.923563790202582,
          15.880816830911314,
          16.134147074548018,
          15.903760688862212,
          16.118794111668016,
          16.059339614403132,
          15.966323963087502,
          15.861105559370456,
          16.00877471001461,
          16.063930900094917,
          15.9956916615389,
          15.90060828549775,
          16.128812358599873,
          16.131577671534142,
          15.910827904708615,
          16.038950315059463,
          15.86489888896492,
          16.122364472082666,
          15.952595751221809,
          17.137203586752417,
          16.995202627988114,
          17.021282002517168,
          17.019894815089103,
          16.867606921578425,
          16.945634752897828,
          17.034712806659208,
          16.88289036318808,
          16.95415666205252,
          17.075327528157295,
          17.115837410016642,
          17.010885368083628,
          17.12395124236426,
          17.13158614062796,
          17.09620789317651,
          17.013577972818002,
          17.071907203508598,
          17.074953559206875,
          17.074905372883155,
          16.932850580476234,
          16.87194079198937,
          16.93975644903192,
          17.07979319415495,
          17.066444534012465,
          17.02750974939843,
          17.149103314588576,
          16.868903806680724,
          17.103370991864352,
          17.12211890872601,
          17.12342990177426,
          17.044801890815947,
          17.03646265310736,
          17.082346850503804,
          16.997959710790546,
          16.95527031073533,
          16.93714217350316,
          16.854613365746804,
          16.91669248431211,
          16.8644333548568,
          16.908355041543093,
          16.989853865389954,
          17.069334256137843,
          17.137363384623523,
          17.075286743674265,
          17.06692056773641,
          16.860912248574557,
          16.880638794879104,
          17.017447951052436,
          18.10869355819116,
          17.95719619820714,
          18.034623667098852,
          18.047178473516485,
          17.892079786111452,
          18.087509586062385,
          17.918054773530937,
          17.959094236231667,
          17.976628666220627,
          18.054942990717603,
          17.970900053557962,
          18.020875767336427,
          18.089075055903788,
          17.87070983775989,
          17.90311643769294,
          18.11143922316986,
          18.09029605691486,
          17.981745029183603,
          18.079568660937856,
          17.94065620638837,
          18.042656298655295,
          18.00402582820653,
          17.952877627850942,
          17.869954765724085,
          18.02502002254798,
          17.905287033793805,
          18.076565329646904,
          17.898641981660873,
          18.076304565473556,
          17.99559490652105,
          18.065479004632067,
          17.977493633155728,
          18.009970886659012,
          17.990191686180648,
          17.915528587618365,
          17.885281973028707,
          18.145912813379425,
          17.889084980824503,
          17.97140643172707,
          17.939814313057735,
          18.122486888228824,
          18.068674845986628,
          18.09344144741167,
          17.940205873828074,
          18.06780351934584,
          18.012957068306985,
          18.005298402802875,
          18.13063113992722,
          19.101577577481084,
          18.92325271580607,
          18.92459467225209,
          18.90848985454899,
          18.883265208847174,
          19.07288769498005,
          18.904771861978098,
          18.884002481131724,
          18.99638048155884,
          18.857040519079344,
          19.006855099695358,
          19.046844045457537,
          18.883404505152573,
          19.091633509557234,
          19.005437799327975,
          19.119793507134098,
          19.006867955099473,
          19.020783369942045,
          18.99431779669718,
          19.08865471559698,
          18.93317330771883,
          18.972351391583164,
          18.884850715022477,
          18.86956387864448,
          18.89689198210156,
          18.904896156863995,
          19.077052933831787,
          19.105642507820356,
          18.931536591783036,
          18.90230177147207,
          18.87583388762291,
          19.02694810497114,
          19.946630564911946,
          20.07403961724078,
          20.032474751022878,
          20.00201105148273,
          20.073022284249458,
          20.140211786716332,
          20.016991478023478,
          20.069185274326365,
          19.941251563246922,
          19.961765753524585,
          19.85426793601177,
          20.00838030724226,
          19.883295879413772,
          19.904021767625185,
          20.114382987091343,
          20.142704590270487,
          20.02282945931379,
          20.07126575568831,
          20.144094306053077,
          19.93906424818583,
          19.858630254471827,
          20.104457918891146,
          19.943979772335734,
          20.093151616325397,
          20.06442757813509,
          19.916923570572184,
          20.02573828661072,
          20.13556295206187,
          20.052171531358418,
          19.891733597738646,
          21.07708525507271,
          21.105634366596696,
          21.04941946239046,
          21.149332953943585,
          21.074031909488223,
          21.11286313686866,
          21.057245677776613,
          20.998090976437783,
          21.011687592813036,
          21.123755727808135,
          21.09736387390861,
          21.01754514754582,
          20.96792652002521,
          20.875631118209512,
          20.989526055755707,
          21.02990278589109,
          20.926581430488117,
          20.882850682998424,
          20.892703565763657,
          21.122439744298372,
          20.958592022309954
         ],
         "xaxis": "x",
         "y": [
          -6.032349751386675,
          -7.0217419368156415,
          -4.002861914061785,
          -3.0403297474014366,
          -2.983830862181706,
          -3.013585011521613,
          -3.9552664384322185,
          1.9907082439036299,
          1.0272607321688123,
          0.03883575669891649,
          0.045235492820920695,
          -5.979339807716914,
          -5.000743119529342,
          0.04546107301420854,
          -0.006060606123130918,
          -2.024976218851545,
          -0.9703343671926148,
          -0.0483391596623609,
          -0.9629326506232152,
          -0.9828499278382764,
          0.04103704782729728,
          -0.9913027359850016,
          -0.9922066140029715,
          -0.9783847853505575,
          -0.9503304627847698,
          -0.9602803019717495,
          -0.015998954558462945,
          0.037234982617100204,
          1.002789475397979,
          0.9814804572711866,
          -0.9763118019031609,
          -0.0051336794180531845,
          0.9741401434894735,
          -0.02517015227106828,
          -0.000020773504413852673,
          0.9671616049381306,
          -0.010300388018168571,
          0.031878425054847795,
          1.0098511439500666,
          1.0023770603487796,
          -0.019383402678312813,
          0.9670751124823346,
          0.982472463880668,
          -6.023930273283138,
          -7.020326686672886,
          -3.0098425877629116,
          -0.9713887239017318,
          -0.9959214086900169,
          -4.002146529245722,
          -0.9814540480839586,
          -7.017185817315755,
          -6.036961795007832,
          -6.001260085108105,
          0.9966150007702346,
          -1.015925887080346,
          -1.0385935178773895,
          -2.0495461196934635,
          -2.032697097525749,
          0.9715285546516079,
          -2.95290055343985,
          -0.9817964795776858,
          0.9545793374614664,
          0.04987519595417214,
          -0.9672004426640111,
          -5.971400008376934,
          6.961546246900476,
          -10,
          6.958530043726686,
          -10,
          -10,
          -10,
          7.028818927016374,
          -10,
          -10,
          7.04726717272944,
          -10,
          -5.9612717609658485,
          -4.9519064860640585,
          -5.988283016196754,
          -5.0044848045403265,
          -5.963277445447567,
          -4.970505573424191,
          -5.003602285443318,
          -3.9672040353943956,
          -3.976363918834546,
          -5.018544642794009,
          -4.970197735255989,
          -7.9710832782992185,
          -4.984062991511139,
          -4.960571395554148,
          -4.980891405952359,
          -5.035044664316764,
          -5.036464567805136,
          -4.989262450444823,
          -4.956807530947476,
          -6.028593269761356,
          -5.040734270008648,
          -4.972147826366404,
          -4.9817744539915525,
          -5.021975226433318,
          -4.9732646842134685,
          -5.035740729669796,
          -4.981590346604119,
          -4.0434186664756755,
          -5.03499919741171,
          -4.0193918733558816,
          -4.986299398754134,
          -5.02739711014832,
          -5.002399033272323,
          -3.959664448531107,
          -3.029642655191619,
          -2.9679980458153508,
          -5.0275446283575675,
          -5.029791644191461,
          -5.017927334016543,
          -5.026649963864262,
          -5.002780903214498,
          -5.985107009214298,
          -5.004022461717817,
          -4.9774398841671905,
          -2.9692915356318257,
          -3.0094969972180055,
          -3.954893300362921,
          -1.0497384394193316,
          -2.0063858402913786,
          -1.9835273716335529,
          -0.9537501744243724,
          -0.9596075424766077,
          -0.9976918925187146,
          1.0103480991669553,
          -0.9749670538836901,
          0.002275292272123239,
          -0.9644082060210285,
          -4.9741323747444905,
          1.9639543355153253,
          -2.9541880934537015,
          -4.031185948133488,
          -4.9820685207708495,
          -3.9846462829847398,
          -0.9725152426474313,
          0.029055045300512783,
          2.0459002849054735,
          -3.0317429179152144,
          -5.033433051607559,
          -0.9633721334947134,
          -0.005944274627221059,
          -0.9505567769693961,
          -0.9884639923785385,
          -1.0360750108704044,
          -0.9827956032611469,
          -1.0143645230791922,
          -0.9835987320660374,
          -0.9832408486624519,
          -1.0462307022623283,
          -4.022521083696599,
          -1.0374893469791127,
          -1.005985311589669,
          -0.9856923523645622,
          -5.0151536777237675,
          -4.00749561994387,
          -3.0311443446458153,
          -4.955447985144353,
          -2.0047547350310566,
          0.045639005465279645,
          -0.9521241735131242,
          -1.0154514996394397,
          -2.0378852987137637,
          -0.9639588833989545,
          -1.985650655880115,
          -1.953816843005996,
          1.9981234909912695,
          2.0337672103034703,
          0.9624762557230377,
          0.9981606500097178,
          -0.02067139316840835,
          -1.0022427794138433,
          -0.009977005144288079,
          -1.0338976393331853,
          -0.9642207751011349,
          0.03467861821102644,
          0.9655662781979993,
          -3.953547073768332,
          -3.9819399483484887,
          -4.044900961182537,
          -1.002249517398391,
          -0.9735077783958977,
          -0.036261376084048315,
          -0.9764603801488541,
          0.9544497912757264,
          -0.9960663238001533,
          -1.0402090655992808,
          -1.02105414770643,
          0.9567687899299417,
          -1.038540554331645,
          0.9837194888107995,
          0.9651727161916397,
          0.010878864956718116,
          -1.9602315823448848,
          -2.0011165870735255,
          -1.0175558706741632,
          -1.0334224931828766,
          0.02194903009346129,
          0.014042283734029798,
          1.0416535031261511,
          -0.9929331236794394,
          -0.01206498526969492,
          -0.023718210330207025,
          -1.0062407235738156,
          -0.002372572266993535,
          -0.013056358526390692,
          -0.018921443316764975,
          -0.027715616832681745,
          -1.0494405821976978,
          -0.01301837746959246,
          -1.012842293396063,
          0.0458825840111937,
          -0.9965392717424666,
          -0.9506708033894437,
          -0.01098681778681905,
          -1.0498192733792877,
          -1.024629641956753,
          -0.9705996354356714,
          -1.0354752375767455,
          -1.000737080929841,
          -1.0125949786799981,
          0.04026097560251096,
          0.00344835780123922,
          -0.045031872639019976,
          -0.9917302337345547,
          0.044267134709554276,
          -1.0060525614882336,
          -0.954633567375541,
          0.9679078484996958,
          1.0108539706278719,
          -0.9599978793259549,
          -0.9928088147591034,
          0.023653214746636203,
          -1.0374545023580746,
          -0.03828181855794303,
          -0.007336301623741805,
          0.9667481510847382,
          1.027558317920978,
          0.965074210394756,
          1.0175982804975399,
          -1.9877078679453495,
          -1.9798198529011373,
          -1.9766130029872615,
          0.02243106132967153,
          -2.0392010294668053,
          -3.001699457571511,
          -2.965820939992593,
          -0.9712657948708815,
          -2.976956642179237,
          -2.992177075816575,
          -4.048078005913531,
          -3.039800644267947,
          -2.03619774662113,
          -4.041406936770504,
          -2.0272987762697277,
          -3.982787910705616,
          -4.0242640223839965,
          -4.008134487673542,
          -3.9734819045031897,
          -1.9646709536824138,
          -4.017469396339208,
          -3.9943162595647927,
          -4.015734787046468,
          -4.99666751222466,
          -4.010124067200341,
          -2.9586258377830617,
          -3.0157859356091468,
          -4.046844233412194,
          -4.038896920596188,
          -3.9961283014413085,
          -2.033360425283082,
          -1.9768168541451416,
          -2.011559611059279,
          -2.044404769838753,
          -2.0026965330321302,
          -1.997171135706815,
          -1.996321092260868,
          -2.0153161561555923,
          -3.011058836869408,
          -3.0430882336686866,
          -3.046330185091957,
          -3.0152896759639054,
          -3.036435258018866,
          -3.01149425224858,
          -3.973158118731246,
          -2.011239302585711,
          -1.991018219110483,
          -4.005423908877746,
          -3.999580547987139,
          -2.0371285402470978,
          -2.031604449955406,
          -0.04830564320640626,
          -0.02001645548879967,
          -0.01790471714101033,
          -1.003847192380586,
          0.00534121095502036,
          -0.006225505325603453,
          0.042029378957095506,
          0.00710097252077653,
          0.9934618131361193,
          1.0246083336336556,
          0.014831402626106022,
          -0.016287425469893223,
          0.02139726840986647,
          -0.010402891080568875,
          0.0009155147089429314,
          0.03019710493874188,
          -0.013297237573611322,
          -1.008005888559075,
          -0.010680887688597263,
          0.0023360739614185916,
          0.004907610860023934,
          0.015229463395003251,
          0.006864392569177147,
          -0.9528283105785729,
          1.047778482406856,
          1.0065893196063354,
          0.002656371783266921,
          1.0006200322788654,
          0.027833831575749188,
          -0.0064863413671212705,
          0.0073689970041687786,
          -0.016212072143030935,
          0.0185879617818083,
          0.0036348269627739863,
          0.0018676378486296788,
          -0.0386273801868854,
          -0.04639897273378751,
          0.028165881494723752,
          -0.038944686188254744,
          -1.0072575208394619,
          -0.028130378928639944,
          -1.0244724296681738,
          -1.016574041409316,
          -1.0104973729422342,
          -0.04172666427293151,
          0.04959735659465202,
          0.0411779533135118,
          0.969146905801759,
          0.03641242614194644,
          1.9608156622015915,
          0.9582038842532955,
          -0.0415234830066812,
          -1.9676086706523568,
          0.03106009019702649,
          -0.024502184753752643,
          -1.0276613784810924,
          -0.03874814020407134,
          -0.9691746774852525,
          -1.0153260374736992,
          -0.956325085445989,
          -2.0389145288371675,
          -2.010777482222934,
          -3.997828422009477,
          -0.9660075841595873,
          -0.02276258897804815,
          0.009208784599659278,
          -2.036967065022751,
          -2.036145998843863,
          -1.9630217258553904,
          -2.04301468502433,
          -2.042795936628201,
          -2.0342639174942905,
          -2.0459346167984322,
          -2.020990196550851,
          -2.0254083508319987,
          -2.021363643637242,
          -1.9967278966968114,
          -2.0284992919701956,
          -2.0374318861669467,
          -1.0408871718040382,
          0.04938372536598619,
          -1.9531132718174893,
          -1.995679688035749,
          -1.9577480183645963,
          -1.9653850561812793,
          -1.9733718984995536,
          -0.9863421800106502,
          -0.9739491669441293,
          0.02691480026407647,
          -1.9675171565421605,
          -1.0212732837298606,
          -1.0225267679758243,
          -1.033591033955131,
          -1.0051695617616072,
          -2.0489624148052843,
          -1.0236203031322908,
          -1.0429364591972132,
          -2.0406145624183876,
          -1.9618267467064796,
          -0.9951175655102887,
          -8.007435557139267,
          -4.996518360575313,
          -7.040100066484308,
          -6.028167503226756,
          -6.040288441354006,
          -7.033269835847684,
          -6.996424643631432,
          -6.954498403002295,
          -6.977321097000781,
          -6.992491709112227,
          -6.9602268582284115,
          -7.005348599641954,
          -6.99317168437792,
          -7.005809580461537,
          -6.989607701976006,
          -7.000844799540249,
          -6.959348443283765,
          -6.972872214672987,
          -5.998026967534842,
          -7.022795328562848,
          -7.0330820565146865,
          -7.015891900921042,
          -6.958431130681096,
          -7.024339582459094,
          -7.0364982682982165,
          -6.9569052266176605,
          -6.006606542013544,
          -7.003849033223032,
          -6.044625221843653,
          -6.0315293469484725,
          -7.002352551816478,
          -6.96960895015605,
          -4.989539910703087,
          -5.029671116185946,
          -5.032439886564497,
          -2.952946720829709,
          -2.9840220092371714,
          -3.0061029878307766,
          -2.9999437003284295,
          1.0266838666015086,
          -0.9843471609353075,
          0.9631585951455541,
          -2.025036765991131,
          -3.9785364955710154,
          -2.0244289184836957,
          -3.011377310042491,
          -1.9845293051625874,
          -1.9898157375951515,
          -2.0258703255738024,
          -2.0144174480257213,
          -2.01807912320818,
          -1.9662896218868384,
          -3.971061939712889,
          -4.039702767399084,
          -3.9655833768780635,
          -4.002831013976928,
          -4.034877536263613,
          -4.031817038688387,
          -3.0204944044387987,
          -2.0007623215605186,
          -1.985569064986868,
          -3.9803980996189208,
          1.957683422300663,
          1.9629509057595342,
          1.9765733445315747,
          2.0289982926819414,
          1.9859578297109333,
          2.034760893119361,
          2.031017084052328,
          2.0281921434192376,
          1.9622161996685725,
          1.9907208207584066,
          2.008684909038388,
          2.0053056504601905,
          2.0472181961754585,
          2.0023837182766915,
          1.9944368449346415,
          2.0357052173692183,
          2.025554977680472,
          1.9825452038771556,
          1.9574535527184411,
          2.036570162690238,
          1.9503331236896262
         ],
         "yaxis": "y"
        },
        {
         "customdata": [
          [
           true,
           "Streptococcus mitis"
          ],
          [
           true,
           "Streptococcus pneumoniae"
          ],
          [
           true,
           "Streptococcus mitis"
          ],
          [
           true,
           "Streptococcus mitis"
          ],
          [
           true,
           "Streptococcus oralis"
          ],
          [
           true,
           "Streptococcus oralis"
          ],
          [
           true,
           "Streptococcus mitis"
          ],
          [
           true,
           "Streptococcus mitis"
          ],
          [
           true,
           "Streptococcus oralis"
          ],
          [
           true,
           "Streptococcus oralis"
          ],
          [
           true,
           "Streptococcus pneumoniae"
          ],
          [
           true,
           "Streptococcus pneumoniae"
          ],
          [
           true,
           "Streptococcus pneumoniae"
          ],
          [
           true,
           "Streptococcus pneumoniae"
          ],
          [
           true,
           "Enterococcus faecalis"
          ],
          [
           true,
           "Enterococcus faecalis"
          ],
          [
           true,
           "Staphylococcus capitis"
          ],
          [
           true,
           "Staphylococcus capitis"
          ],
          [
           true,
           "Staphylococcus epidermidis"
          ],
          [
           true,
           "Staphylococcus hominis"
          ],
          [
           true,
           "Staphylococcus aureus"
          ],
          [
           true,
           "Streptococcus pneumoniae"
          ],
          [
           true,
           "Streptococcus pneumoniae"
          ],
          [
           true,
           "Streptococcus pneumoniae"
          ],
          [
           true,
           "Streptococcus pneumoniae"
          ],
          [
           true,
           "Streptococcus pneumoniae"
          ],
          [
           true,
           "Staphylococcus epidermidis"
          ],
          [
           true,
           "Staphylococcus epidermidis"
          ],
          [
           true,
           "Staphylococcus epidermidis"
          ],
          [
           true,
           "Staphylococcus hominis"
          ],
          [
           true,
           "Staphylococcus epidermidis"
          ],
          [
           true,
           "Staphylococcus epidermidis"
          ],
          [
           true,
           "Staphylococcus hominis"
          ],
          [
           true,
           "Staphylococcus hominis"
          ],
          [
           true,
           "Staphylococcus epidermidis"
          ],
          [
           true,
           "Staphylococcus epidermidis"
          ]
         ],
         "hovertemplate": "<b>%{hovertext}</b><br><br>SIR=Intermediate<br>Log2(MIC-value)=%{y:.0f}<br>Scale=%{customdata[0]}<br>Pathogen=%{customdata[1]}<extra></extra>",
         "hovertext": [
          "BAR064",
          "QM1470",
          "QM870",
          "QM871",
          "HV752",
          "QM138",
          "QM870",
          "QM871",
          "HV752",
          "QM138",
          "QM806",
          "QM1470",
          "QM326",
          "QM328",
          "QM065",
          "QM294",
          "QM085",
          "QM086",
          "HV146",
          "HV414",
          "QM1450",
          "QM806",
          "BAR026",
          "QM1470",
          "QM027",
          "QM328",
          "HV116",
          "HV146",
          "QM968",
          "QM093",
          "HV953",
          "QM968",
          "HV245",
          "HV88",
          "HV733",
          "HV744"
         ],
         "legendgroup": "Intermediate",
         "marker": {
          "color": "gold",
          "opacity": 0.3,
          "symbol": "circle"
         },
         "mode": "markers",
         "name": "Intermediate",
         "orientation": "v",
         "showlegend": true,
         "type": "scatter",
         "x": [
          -0.1475735988335116,
          0.08226202366805255,
          0.13439493552251944,
          0.13143052371462063,
          0.12114019777302718,
          0.1489189576067059,
          1.0688290834969436,
          1.0102337928036729,
          1.0655673740640157,
          1.1197230282989008,
          5.099614565466211,
          4.974775830596501,
          4.996304775974458,
          5.123341131853243,
          6.050643163197114,
          5.89649593920177,
          7.880727645372345,
          8.085786814141919,
          7.879018766796,
          7.8525138907521566,
          8.107138003011556,
          9.0286822176434,
          9.05549767955058,
          9.132709614118225,
          9.000507049362184,
          9.039970108067283,
          16.05563931683314,
          15.866377555234326,
          16.107198768087475,
          16.022855516606857,
          19.912811646242417,
          19.942706957580544,
          20.027067059984276,
          19.87188162614518,
          20.05265503677251,
          19.91459132266493
         ],
         "xaxis": "x",
         "y": [
          1.0109524907478864,
          0.9839465816823544,
          0.00924334283855014,
          -1.0472974132176924,
          -0.010140926603024382,
          -0.03617086938010369,
          1.0145642519077964,
          0.039388471671154515,
          -0.03706019698567712,
          0.9720963434074437,
          0.01296691298515859,
          0.004688450141479138,
          -0.023207781738901114,
          0.00777095930735381,
          2.043090478438769,
          1.0463134827097065,
          -2.002779677484653,
          -2.0496967980961682,
          -1.994470206097434,
          -3.951696965846456,
          -1.0461434114157555,
          0.049867485486538785,
          0.022678132622165476,
          0.009048975685239304,
          0.02331174107664863,
          -0.04055344593097324,
          0.9851967194229159,
          1.0205083106906194,
          0.998598944315075,
          0.9989158238136139,
          1.9969168616815816,
          2.0079747577362403,
          2.031121349977161,
          1.9749279143146814,
          2.0272907110403717,
          1.9564219549778206
         ],
         "yaxis": "y"
        }
       ],
       "layout": {
        "legend": {
         "orientation": "h",
         "title": {
          "text": "SIR"
         },
         "tracegroupgap": 0,
         "x": 1,
         "xanchor": "right",
         "y": 1.02,
         "yanchor": "bottom"
        },
        "template": {
         "data": {
          "bar": [
           {
            "error_x": {
             "color": "#f2f5fa"
            },
            "error_y": {
             "color": "#f2f5fa"
            },
            "marker": {
             "line": {
              "color": "rgb(17,17,17)",
              "width": 0.5
             },
             "pattern": {
              "fillmode": "overlay",
              "size": 10,
              "solidity": 0.2
             }
            },
            "type": "bar"
           }
          ],
          "barpolar": [
           {
            "marker": {
             "line": {
              "color": "rgb(17,17,17)",
              "width": 0.5
             },
             "pattern": {
              "fillmode": "overlay",
              "size": 10,
              "solidity": 0.2
             }
            },
            "type": "barpolar"
           }
          ],
          "carpet": [
           {
            "aaxis": {
             "endlinecolor": "#A2B1C6",
             "gridcolor": "#506784",
             "linecolor": "#506784",
             "minorgridcolor": "#506784",
             "startlinecolor": "#A2B1C6"
            },
            "baxis": {
             "endlinecolor": "#A2B1C6",
             "gridcolor": "#506784",
             "linecolor": "#506784",
             "minorgridcolor": "#506784",
             "startlinecolor": "#A2B1C6"
            },
            "type": "carpet"
           }
          ],
          "choropleth": [
           {
            "colorbar": {
             "outlinewidth": 0,
             "ticks": ""
            },
            "type": "choropleth"
           }
          ],
          "contour": [
           {
            "colorbar": {
             "outlinewidth": 0,
             "ticks": ""
            },
            "colorscale": [
             [
              0,
              "#0d0887"
             ],
             [
              0.1111111111111111,
              "#46039f"
             ],
             [
              0.2222222222222222,
              "#7201a8"
             ],
             [
              0.3333333333333333,
              "#9c179e"
             ],
             [
              0.4444444444444444,
              "#bd3786"
             ],
             [
              0.5555555555555556,
              "#d8576b"
             ],
             [
              0.6666666666666666,
              "#ed7953"
             ],
             [
              0.7777777777777778,
              "#fb9f3a"
             ],
             [
              0.8888888888888888,
              "#fdca26"
             ],
             [
              1,
              "#f0f921"
             ]
            ],
            "type": "contour"
           }
          ],
          "contourcarpet": [
           {
            "colorbar": {
             "outlinewidth": 0,
             "ticks": ""
            },
            "type": "contourcarpet"
           }
          ],
          "heatmap": [
           {
            "colorbar": {
             "outlinewidth": 0,
             "ticks": ""
            },
            "colorscale": [
             [
              0,
              "#0d0887"
             ],
             [
              0.1111111111111111,
              "#46039f"
             ],
             [
              0.2222222222222222,
              "#7201a8"
             ],
             [
              0.3333333333333333,
              "#9c179e"
             ],
             [
              0.4444444444444444,
              "#bd3786"
             ],
             [
              0.5555555555555556,
              "#d8576b"
             ],
             [
              0.6666666666666666,
              "#ed7953"
             ],
             [
              0.7777777777777778,
              "#fb9f3a"
             ],
             [
              0.8888888888888888,
              "#fdca26"
             ],
             [
              1,
              "#f0f921"
             ]
            ],
            "type": "heatmap"
           }
          ],
          "heatmapgl": [
           {
            "colorbar": {
             "outlinewidth": 0,
             "ticks": ""
            },
            "colorscale": [
             [
              0,
              "#0d0887"
             ],
             [
              0.1111111111111111,
              "#46039f"
             ],
             [
              0.2222222222222222,
              "#7201a8"
             ],
             [
              0.3333333333333333,
              "#9c179e"
             ],
             [
              0.4444444444444444,
              "#bd3786"
             ],
             [
              0.5555555555555556,
              "#d8576b"
             ],
             [
              0.6666666666666666,
              "#ed7953"
             ],
             [
              0.7777777777777778,
              "#fb9f3a"
             ],
             [
              0.8888888888888888,
              "#fdca26"
             ],
             [
              1,
              "#f0f921"
             ]
            ],
            "type": "heatmapgl"
           }
          ],
          "histogram": [
           {
            "marker": {
             "pattern": {
              "fillmode": "overlay",
              "size": 10,
              "solidity": 0.2
             }
            },
            "type": "histogram"
           }
          ],
          "histogram2d": [
           {
            "colorbar": {
             "outlinewidth": 0,
             "ticks": ""
            },
            "colorscale": [
             [
              0,
              "#0d0887"
             ],
             [
              0.1111111111111111,
              "#46039f"
             ],
             [
              0.2222222222222222,
              "#7201a8"
             ],
             [
              0.3333333333333333,
              "#9c179e"
             ],
             [
              0.4444444444444444,
              "#bd3786"
             ],
             [
              0.5555555555555556,
              "#d8576b"
             ],
             [
              0.6666666666666666,
              "#ed7953"
             ],
             [
              0.7777777777777778,
              "#fb9f3a"
             ],
             [
              0.8888888888888888,
              "#fdca26"
             ],
             [
              1,
              "#f0f921"
             ]
            ],
            "type": "histogram2d"
           }
          ],
          "histogram2dcontour": [
           {
            "colorbar": {
             "outlinewidth": 0,
             "ticks": ""
            },
            "colorscale": [
             [
              0,
              "#0d0887"
             ],
             [
              0.1111111111111111,
              "#46039f"
             ],
             [
              0.2222222222222222,
              "#7201a8"
             ],
             [
              0.3333333333333333,
              "#9c179e"
             ],
             [
              0.4444444444444444,
              "#bd3786"
             ],
             [
              0.5555555555555556,
              "#d8576b"
             ],
             [
              0.6666666666666666,
              "#ed7953"
             ],
             [
              0.7777777777777778,
              "#fb9f3a"
             ],
             [
              0.8888888888888888,
              "#fdca26"
             ],
             [
              1,
              "#f0f921"
             ]
            ],
            "type": "histogram2dcontour"
           }
          ],
          "mesh3d": [
           {
            "colorbar": {
             "outlinewidth": 0,
             "ticks": ""
            },
            "type": "mesh3d"
           }
          ],
          "parcoords": [
           {
            "line": {
             "colorbar": {
              "outlinewidth": 0,
              "ticks": ""
             }
            },
            "type": "parcoords"
           }
          ],
          "pie": [
           {
            "automargin": true,
            "type": "pie"
           }
          ],
          "scatter": [
           {
            "marker": {
             "line": {
              "color": "#283442"
             }
            },
            "type": "scatter"
           }
          ],
          "scatter3d": [
           {
            "line": {
             "colorbar": {
              "outlinewidth": 0,
              "ticks": ""
             }
            },
            "marker": {
             "colorbar": {
              "outlinewidth": 0,
              "ticks": ""
             }
            },
            "type": "scatter3d"
           }
          ],
          "scattercarpet": [
           {
            "marker": {
             "colorbar": {
              "outlinewidth": 0,
              "ticks": ""
             }
            },
            "type": "scattercarpet"
           }
          ],
          "scattergeo": [
           {
            "marker": {
             "colorbar": {
              "outlinewidth": 0,
              "ticks": ""
             }
            },
            "type": "scattergeo"
           }
          ],
          "scattergl": [
           {
            "marker": {
             "line": {
              "color": "#283442"
             }
            },
            "type": "scattergl"
           }
          ],
          "scattermapbox": [
           {
            "marker": {
             "colorbar": {
              "outlinewidth": 0,
              "ticks": ""
             }
            },
            "type": "scattermapbox"
           }
          ],
          "scatterpolar": [
           {
            "marker": {
             "colorbar": {
              "outlinewidth": 0,
              "ticks": ""
             }
            },
            "type": "scatterpolar"
           }
          ],
          "scatterpolargl": [
           {
            "marker": {
             "colorbar": {
              "outlinewidth": 0,
              "ticks": ""
             }
            },
            "type": "scatterpolargl"
           }
          ],
          "scatterternary": [
           {
            "marker": {
             "colorbar": {
              "outlinewidth": 0,
              "ticks": ""
             }
            },
            "type": "scatterternary"
           }
          ],
          "surface": [
           {
            "colorbar": {
             "outlinewidth": 0,
             "ticks": ""
            },
            "colorscale": [
             [
              0,
              "#0d0887"
             ],
             [
              0.1111111111111111,
              "#46039f"
             ],
             [
              0.2222222222222222,
              "#7201a8"
             ],
             [
              0.3333333333333333,
              "#9c179e"
             ],
             [
              0.4444444444444444,
              "#bd3786"
             ],
             [
              0.5555555555555556,
              "#d8576b"
             ],
             [
              0.6666666666666666,
              "#ed7953"
             ],
             [
              0.7777777777777778,
              "#fb9f3a"
             ],
             [
              0.8888888888888888,
              "#fdca26"
             ],
             [
              1,
              "#f0f921"
             ]
            ],
            "type": "surface"
           }
          ],
          "table": [
           {
            "cells": {
             "fill": {
              "color": "#506784"
             },
             "line": {
              "color": "rgb(17,17,17)"
             }
            },
            "header": {
             "fill": {
              "color": "#2a3f5f"
             },
             "line": {
              "color": "rgb(17,17,17)"
             }
            },
            "type": "table"
           }
          ]
         },
         "layout": {
          "annotationdefaults": {
           "arrowcolor": "#f2f5fa",
           "arrowhead": 0,
           "arrowwidth": 1
          },
          "autotypenumbers": "strict",
          "coloraxis": {
           "colorbar": {
            "outlinewidth": 0,
            "ticks": ""
           }
          },
          "colorscale": {
           "diverging": [
            [
             0,
             "#8e0152"
            ],
            [
             0.1,
             "#c51b7d"
            ],
            [
             0.2,
             "#de77ae"
            ],
            [
             0.3,
             "#f1b6da"
            ],
            [
             0.4,
             "#fde0ef"
            ],
            [
             0.5,
             "#f7f7f7"
            ],
            [
             0.6,
             "#e6f5d0"
            ],
            [
             0.7,
             "#b8e186"
            ],
            [
             0.8,
             "#7fbc41"
            ],
            [
             0.9,
             "#4d9221"
            ],
            [
             1,
             "#276419"
            ]
           ],
           "sequential": [
            [
             0,
             "#0d0887"
            ],
            [
             0.1111111111111111,
             "#46039f"
            ],
            [
             0.2222222222222222,
             "#7201a8"
            ],
            [
             0.3333333333333333,
             "#9c179e"
            ],
            [
             0.4444444444444444,
             "#bd3786"
            ],
            [
             0.5555555555555556,
             "#d8576b"
            ],
            [
             0.6666666666666666,
             "#ed7953"
            ],
            [
             0.7777777777777778,
             "#fb9f3a"
            ],
            [
             0.8888888888888888,
             "#fdca26"
            ],
            [
             1,
             "#f0f921"
            ]
           ],
           "sequentialminus": [
            [
             0,
             "#0d0887"
            ],
            [
             0.1111111111111111,
             "#46039f"
            ],
            [
             0.2222222222222222,
             "#7201a8"
            ],
            [
             0.3333333333333333,
             "#9c179e"
            ],
            [
             0.4444444444444444,
             "#bd3786"
            ],
            [
             0.5555555555555556,
             "#d8576b"
            ],
            [
             0.6666666666666666,
             "#ed7953"
            ],
            [
             0.7777777777777778,
             "#fb9f3a"
            ],
            [
             0.8888888888888888,
             "#fdca26"
            ],
            [
             1,
             "#f0f921"
            ]
           ]
          },
          "colorway": [
           "#636efa",
           "#EF553B",
           "#00cc96",
           "#ab63fa",
           "#FFA15A",
           "#19d3f3",
           "#FF6692",
           "#B6E880",
           "#FF97FF",
           "#FECB52"
          ],
          "font": {
           "color": "#f2f5fa"
          },
          "geo": {
           "bgcolor": "rgb(17,17,17)",
           "lakecolor": "rgb(17,17,17)",
           "landcolor": "rgb(17,17,17)",
           "showlakes": true,
           "showland": true,
           "subunitcolor": "#506784"
          },
          "hoverlabel": {
           "align": "left"
          },
          "hovermode": "closest",
          "mapbox": {
           "style": "dark"
          },
          "paper_bgcolor": "rgb(17,17,17)",
          "plot_bgcolor": "rgb(17,17,17)",
          "polar": {
           "angularaxis": {
            "gridcolor": "#506784",
            "linecolor": "#506784",
            "ticks": ""
           },
           "bgcolor": "rgb(17,17,17)",
           "radialaxis": {
            "gridcolor": "#506784",
            "linecolor": "#506784",
            "ticks": ""
           }
          },
          "scene": {
           "xaxis": {
            "backgroundcolor": "rgb(17,17,17)",
            "gridcolor": "#506784",
            "gridwidth": 2,
            "linecolor": "#506784",
            "showbackground": true,
            "ticks": "",
            "zerolinecolor": "#C8D4E3"
           },
           "yaxis": {
            "backgroundcolor": "rgb(17,17,17)",
            "gridcolor": "#506784",
            "gridwidth": 2,
            "linecolor": "#506784",
            "showbackground": true,
            "ticks": "",
            "zerolinecolor": "#C8D4E3"
           },
           "zaxis": {
            "backgroundcolor": "rgb(17,17,17)",
            "gridcolor": "#506784",
            "gridwidth": 2,
            "linecolor": "#506784",
            "showbackground": true,
            "ticks": "",
            "zerolinecolor": "#C8D4E3"
           }
          },
          "shapedefaults": {
           "line": {
            "color": "#f2f5fa"
           }
          },
          "sliderdefaults": {
           "bgcolor": "#C8D4E3",
           "bordercolor": "rgb(17,17,17)",
           "borderwidth": 1,
           "tickwidth": 0
          },
          "ternary": {
           "aaxis": {
            "gridcolor": "#506784",
            "linecolor": "#506784",
            "ticks": ""
           },
           "baxis": {
            "gridcolor": "#506784",
            "linecolor": "#506784",
            "ticks": ""
           },
           "bgcolor": "rgb(17,17,17)",
           "caxis": {
            "gridcolor": "#506784",
            "linecolor": "#506784",
            "ticks": ""
           }
          },
          "title": {
           "x": 0.05
          },
          "updatemenudefaults": {
           "bgcolor": "#506784",
           "borderwidth": 0
          },
          "xaxis": {
           "automargin": true,
           "gridcolor": "#283442",
           "linecolor": "#506784",
           "ticks": "",
           "title": {
            "standoff": 15
           },
           "zerolinecolor": "#283442",
           "zerolinewidth": 2
          },
          "yaxis": {
           "automargin": true,
           "gridcolor": "#283442",
           "linecolor": "#506784",
           "ticks": "",
           "title": {
            "standoff": 15
           },
           "zerolinecolor": "#283442",
           "zerolinewidth": 2
          }
         }
        },
        "title": {
         "text": "Isolate log2(MIC-values) for different antibiotics",
         "x": 0.5
        },
        "xaxis": {
         "anchor": "y",
         "domain": [
          0,
          1
         ],
         "tickmode": "array",
         "ticktext": [
          "Benzylpenicillin",
          "Ampicillin",
          "Cefoxitin",
          "Ceftaroline",
          "Ceftobiprole",
          "Ceftriaxone",
          "Imipenem",
          "Meropenem",
          "Ciprofloxacin",
          "Levofloxacin",
          "Gentamicin",
          "Dalbavancin",
          "Teicoplanin",
          "Vancomycin",
          "Erythromycin",
          "Clindamycin",
          "Tetracycline",
          "Linezolid",
          "Daptomycin",
          "Rifampicin",
          "Trimeth-sulf",
          "D-test",
          "Optochin"
         ],
         "tickvals": [
          0,
          1,
          2,
          3,
          4,
          5,
          6,
          7,
          8,
          9,
          10,
          11,
          12,
          13,
          14,
          15,
          16,
          17,
          18,
          19,
          20,
          21,
          22
         ],
         "title": {
          "text": "Antibiotics"
         }
        },
        "yaxis": {
         "anchor": "x",
         "domain": [
          0,
          1
         ],
         "range": [
          -11,
          12
         ],
         "tickmode": "array",
         "ticktext": [
          "Min C",
          "0.00195",
          "0.00391",
          "0.00781",
          "0.01563",
          "0.03125",
          "0.0625",
          "0.125",
          "0.25",
          "0.5",
          "1",
          "2",
          "4",
          "8",
          "16",
          "32",
          "64",
          "128",
          "256",
          "512",
          "1024",
          "Max C"
         ],
         "tickvals": [
          -10,
          -9,
          -8,
          -7,
          -6,
          -5,
          -4,
          -3,
          -2,
          -1,
          0,
          1,
          2,
          3,
          4,
          5,
          6,
          7,
          8,
          9,
          10,
          11
         ],
         "title": {
          "text": "Log2(MIC-value)"
         }
        }
       }
      }
     },
     "metadata": {},
     "output_type": "display_data"
    }
   ],
   "source": [
    "def main():\n",
    "    # Load files\n",
    "    chosen_isolates_list = pd.read_csv(\"Chosen_isolates_list.csv\")\n",
    "    CIB = pd.ExcelFile(\"CIB_TF-data_AllIsolates_20230302.xlsx\")\n",
    "    matrix_EU = pd.read_excel(CIB, \"matrix EU\")\n",
    "    \n",
    "    # Rename a long name for plotting purposes\n",
    "    matrix_EU.rename(columns={\"Trimethoprim-sulfamethoxazole\": \"Trimeth-sulf\"}, inplace=True)\n",
    "    \n",
    "    # Select isolates\n",
    "    chosen_isolates = extract_chosen_isolates(chosen_isolates_list, matrix_EU)\n",
    "    \n",
    "    # List of antiiotic names\n",
    "    antibiotics = list(chosen_isolates.columns[3:])    \n",
    "     \n",
    "    # Extract all SIRs for an antibiotic.\n",
    "    chosen_isolates_SIR = extract_SIR(chosen_isolates, antibiotics)\n",
    "    \n",
    "    # Remove the tuples that have None in their SIR data\n",
    "    filtered_chosen_isolates_SIR = filter_mic_values(chosen_isolates_SIR)\n",
    "    \n",
    "    # Extract the mic-values of each isolate for each antibiotic.\n",
    "    mic_data = extract_mic_data(filtered_chosen_isolates_SIR, antibiotics)\n",
    "    \n",
    "    print(mic_data)\n",
    "    # Create dataframe used for plotting\n",
    "    plot_df = create_plot_df(antibiotics, mic_data)\n",
    "    \n",
    "    plotly_dotplot(plot_df, antibiotics)\n",
    "    \n",
    "if __name__ == \"__main__\":\n",
    "    main()\n"
   ]
  }
 ],
 "metadata": {
  "kernelspec": {
   "display_name": "Python 3",
   "language": "python",
   "name": "python3"
  },
  "language_info": {
   "codemirror_mode": {
    "name": "ipython",
    "version": 3
   },
   "file_extension": ".py",
   "mimetype": "text/x-python",
   "name": "python",
   "nbconvert_exporter": "python",
   "pygments_lexer": "ipython3",
   "version": "3.11.0"
  },
  "orig_nbformat": 4
 },
 "nbformat": 4,
 "nbformat_minor": 2
}
