{
 "cells": [
  {
   "cell_type": "code",
   "execution_count": 3,
   "metadata": {},
   "outputs": [],
   "source": [
    "import pandas as pd\n",
    "import numpy as np\n",
    "import plotly.express as px"
   ]
  },
  {
   "cell_type": "code",
   "execution_count": 4,
   "metadata": {},
   "outputs": [],
   "source": [
    "def extract_chosen_isolates(\n",
    "    chosen_isolates: pd.DataFrame, matrix_EU: pd.DataFrame\n",
    ") -> pd.DataFrame:\n",
    "    \"\"\"\n",
    "    Select the chosen isolates from the script. Return a DataFrame only containing the rows of selected isolates\n",
    "    \"\"\"\n",
    "    chosen_rows = matrix_EU[\"Isolate\"].isin(chosen_isolates[\"Isolate\"])\n",
    "    return matrix_EU[chosen_rows]"
   ]
  },
  {
   "cell_type": "code",
   "execution_count": 5,
   "metadata": {},
   "outputs": [],
   "source": [
    "def find_digits(SIR: str) -> int:\n",
    "    \"\"\"Find numbers in a string\"\"\"\n",
    "    digit = \"\"\n",
    "    for character in SIR:\n",
    "        if character.isdigit() or character == \".\":\n",
    "            digit += character\n",
    "    return float(digit)"
   ]
  },
  {
   "cell_type": "code",
   "execution_count": 6,
   "metadata": {},
   "outputs": [],
   "source": [
    "def get_scale(SIR: str) -> bool:\n",
    "    \"\"\"Get on or off scale. True == on-scale\"\"\"\n",
    "    if \"=\" in SIR:\n",
    "        return True\n",
    "    elif \"<\" in SIR or \">\" in SIR:\n",
    "        return False\n",
    "    else:\n",
    "        raise ValueError(\"Not a valid SIR\")"
   ]
  },
  {
   "cell_type": "code",
   "execution_count": 7,
   "metadata": {},
   "outputs": [],
   "source": [
    "def parse_SIR(SIR: str) -> bool:\n",
    "    \"\"\"\n",
    "    Find the isolates with valid SIRs. Not 'Missing BP'\n",
    "    and not 'nip'.\n",
    "    \"\"\"\n",
    "    if SIR.startswith(\"Missing BP\"):\n",
    "        return False\n",
    "    if SIR == \"nip\":\n",
    "        return False\n",
    "    return True      "
   ]
  },
  {
   "cell_type": "code",
   "execution_count": 8,
   "metadata": {},
   "outputs": [],
   "source": [
    "def extract_SIR(chosen_isolates: pd.DataFrame, antibiotics: list) -> dict:\n",
    "    \"\"\"\n",
    "    Extract all SIRs for an antibiotic. Returns a dictionary\n",
    "    with antibiotcs as keys and lists of the isolates and their\n",
    "    SIRs in tuples as value.\n",
    "    \"\"\"\n",
    "    chosen_isolates_SIR = {antibiotic: [] for antibiotic in antibiotics}\n",
    "    \n",
    "    for index, row in chosen_isolates.iterrows():\n",
    "        isolate, pathogen, antibiotic_SIR = row[0], row[1], list(row[3:].items())\n",
    "        for antibiotic, SIR in antibiotic_SIR:\n",
    "            if parse_SIR(SIR):\n",
    "                mic_category = SIR[0]\n",
    "                mic = find_digits(SIR)\n",
    "                scale = get_scale(SIR)\n",
    "                chosen_isolates_SIR[antibiotic].append((isolate, np.log2(mic), mic_category, scale, pathogen))\n",
    "            else:\n",
    "                # If SIR = \"Missing BP\" or \"nip\"\n",
    "                chosen_isolates_SIR[antibiotic].append((isolate, SIR, None, None, pathogen))\n",
    "    return chosen_isolates_SIR"
   ]
  },
  {
   "cell_type": "code",
   "execution_count": 9,
   "metadata": {},
   "outputs": [],
   "source": [
    "def filter_mic_values(chosen_isolates_SIR: dict) -> None:\n",
    "    \"\"\"\n",
    "    Remove the tuples that have None in their SIR data\n",
    "    \"\"\"\n",
    "    for antibiotic, SIR_data in chosen_isolates_SIR.items():\n",
    "        # tup = (isolate, mic_value, mic_category, scale, pathogen)\n",
    "        chosen_isolates_SIR[antibiotic] = list((tup for tup in SIR_data if tup[2] is not None))\n",
    "    return chosen_isolates_SIR"
   ]
  },
  {
   "cell_type": "code",
   "execution_count": 10,
   "metadata": {},
   "outputs": [],
   "source": [
    "def extract_mic_data(chosen_isolates_SIR: dict, antibiotics: list) -> list:\n",
    "    \"\"\"\n",
    "    Extract the mic-values of each isolate for each antibiotic.\n",
    "    Returns a nested list. Each list represents the mic-values of \n",
    "    all isolates for an antibiotic.\n",
    "    \"\"\"\n",
    "    mic_values = []\n",
    "    # Iterate over all antibiotics\n",
    "    for antibiotic in antibiotics:\n",
    "        # Create a list to hold the mic-values of isolates for that abx\n",
    "        antibiotic_mic_values = []\n",
    "        # Get value of current abx. List of (isolate, mic_value, mic_category)\n",
    "        SIR_data = chosen_isolates_SIR[antibiotic]\n",
    "        for isolate, mic_value, mic_category, scale, pathogen in SIR_data:\n",
    "            antibiotic_mic_values.append((isolate, mic_value, mic_category, scale, pathogen))\n",
    "        mic_values.append(antibiotic_mic_values)\n",
    "    return mic_values"
   ]
  },
  {
   "cell_type": "code",
   "execution_count": 11,
   "metadata": {},
   "outputs": [],
   "source": [
    "def plotly_dotplot(antibiotics: list, mic_data: list) -> None:\n",
    "    mic_dict = {\n",
    "        \"S\": (\"limegreen\", \"Sensitive\"),\n",
    "        \"I\": (\"gold\", \"Intermediate\"),\n",
    "        \"R\": (\"tomato\", \"Resistant\"),\n",
    "    }\n",
    "\n",
    "    # Add noise to data for visualization purposes\n",
    "    jitter = 0.15\n",
    "\n",
    "    # Set ticks of x axis\n",
    "    x_axis = [i for i in range(len(antibiotics))]\n",
    "\n",
    "    # Initialize lists to hold values used for plotting\n",
    "    x_values = []\n",
    "    y_values = []\n",
    "    SIR_category = []\n",
    "    isolate_names = []\n",
    "    on_off_scale = []\n",
    "    pathogen_list = []\n",
    "\n",
    "    for x_value, abx_mic_data in zip(x_axis, mic_data):\n",
    "        for isolate, mic_value, mic_category, scale, pathogen in abx_mic_data:\n",
    "            # Add random noise to avoid overlapping\n",
    "            x_value_jitter = x_value + np.random.uniform(-jitter, jitter)\n",
    "            mic_value_jitter = mic_value + np.random.uniform(-jitter, jitter)\n",
    "            # Add data to the lists\n",
    "            isolate_names.append(isolate)\n",
    "            x_values.append(x_value_jitter)\n",
    "            y_values.append(mic_value_jitter)\n",
    "            SIR_category.append(mic_dict[mic_category][1])\n",
    "            on_off_scale.append(scale)\n",
    "            pathogen_list.append(pathogen)\n",
    "\n",
    "    # Create a DF used for plotting\n",
    "    df = pd.DataFrame(\n",
    "        {\n",
    "            \"Antibiotics\": x_values,\n",
    "            \"Log2(MIC-value)\": y_values,\n",
    "            \"Isolate names\": isolate_names,\n",
    "            \"SIR\": SIR_category,\n",
    "            \"Scale\": on_off_scale,\n",
    "            \"Pathogen\": pathogen_list\n",
    "        },\n",
    "        index=np.arange(len(x_values)),\n",
    "    )\n",
    "\n",
    "    #plot\n",
    "    fig = px.scatter(\n",
    "        df,\n",
    "        x=\"Antibiotics\",\n",
    "        y=\"Log2(MIC-value)\",\n",
    "        hover_name=\"Isolate names\",\n",
    "        color=\"SIR\",\n",
    "        title=\"Isolate log2(MIC-values) for different antibiotics\",\n",
    "        range_y=[-9, 10],\n",
    "        hover_data={\"Antibiotics\": False, \"Log2(MIC-value)\": \":.0f\", \"Scale\": True,\"Pathogen\": True},\n",
    "    )\n",
    "\n",
    "    # Changes the dot color depending on SIR category\n",
    "    def change_trace_color(trace):\n",
    "        if trace.name == \"Resistant\":\n",
    "            trace.update(marker_color=\"tomato\")\n",
    "        elif trace.name == \"Intermediate\":\n",
    "            trace.update(marker_color=\"gold\")\n",
    "        elif trace.name == \"Sensitive\":\n",
    "            trace.update(marker_color=\"limegreen\")\n",
    "        else:\n",
    "            raise ValueError(\"Not a valid trace\")\n",
    "        \n",
    "        # if trace.scale == False:\n",
    "        #     trace.update(marker_symbol=\"square\")\n",
    "\n",
    "    # Update dot color\n",
    "    fig.for_each_trace(change_trace_color)\n",
    "\n",
    "    # Change xticks to antibiotic names\n",
    "    fig.update_layout(\n",
    "        xaxis=dict(tickmode=\"array\", tickvals=x_axis, ticktext=antibiotics)\n",
    "    )\n",
    "    \n",
    "    fig.update_layout(\n",
    "        yaxis=dict(tickmode=\"array\",tickvals= [i for i in range(-9, 11)],\n",
    "            ticktext = [\"0.00195\",\t\"0.00391\",\t\"0.00781\",\t\"0.01563\",\t\"0.03125\",\t\"0.0625\",\t\"0.125\",\t\"0.25\",\t\"0.5\",\t\"1\",\t\"2\",\t\"4\",\t\"8\",\t\"16\",\t\"32\",\t\"64\",\t\"128\",\t\"256\",\t\"512\",\t\"1024\",])\n",
    "    )\n",
    "\n",
    "    # Set horizontal legend\n",
    "    fig.update_layout(\n",
    "        legend=dict(orientation=\"h\", yanchor=\"bottom\", y=1.02, xanchor=\"right\", x=1)\n",
    "    )\n",
    "    fig.show()"
   ]
  },
  {
   "cell_type": "code",
   "execution_count": 12,
   "metadata": {},
   "outputs": [
    {
     "data": {
      "application/vnd.plotly.v1+json": {
       "config": {
        "plotlyServerURL": "https://plot.ly"
       },
       "data": [
        {
         "customdata": [
          [
           true,
           "Staphylococcus aureus"
          ],
          [
           true,
           "Staphylococcus aureus"
          ],
          [
           true,
           "Staphylococcus aureus"
          ],
          [
           true,
           "Staphylococcus aureus"
          ],
          [
           true,
           "Staphylococcus aureus"
          ],
          [
           true,
           "Staphylococcus aureus"
          ],
          [
           true,
           "Staphylococcus aureus"
          ],
          [
           true,
           "Staphylococcus aureus"
          ],
          [
           true,
           "Staphylococcus aureus"
          ],
          [
           true,
           "Staphylococcus aureus"
          ],
          [
           true,
           "Staphylococcus aureus"
          ],
          [
           true,
           "Staphylococcus aureus"
          ],
          [
           true,
           "Staphylococcus aureus"
          ],
          [
           true,
           "Staphylococcus aureus"
          ],
          [
           true,
           "Staphylococcus aureus"
          ],
          [
           true,
           "Staphylococcus aureus"
          ],
          [
           true,
           "Staphylococcus aureus"
          ],
          [
           true,
           "Staphylococcus aureus"
          ],
          [
           true,
           "Staphylococcus aureus"
          ],
          [
           true,
           "Staphylococcus aureus"
          ],
          [
           true,
           "Staphylococcus aureus"
          ],
          [
           true,
           "Staphylococcus aureus"
          ],
          [
           true,
           "Staphylococcus aureus"
          ],
          [
           true,
           "Staphylococcus aureus"
          ],
          [
           true,
           "Staphylococcus aureus"
          ],
          [
           true,
           "Streptococcus mitis"
          ],
          [
           true,
           "Staphylococcus aureus"
          ],
          [
           true,
           "Streptococcus pneumoniae"
          ],
          [
           true,
           "Streptococcus pneumoniae"
          ],
          [
           true,
           "Streptococcus pneumoniae"
          ],
          [
           true,
           "Streptococcus salivarius"
          ],
          [
           true,
           "Staphylococcus aureus"
          ],
          [
           true,
           "Staphylococcus aureus"
          ],
          [
           true,
           "Staphylococcus aureus"
          ],
          [
           true,
           "Staphylococcus aureus"
          ],
          [
           true,
           "Staphylococcus aureus"
          ],
          [
           true,
           "Staphylococcus aureus"
          ],
          [
           true,
           "Staphylococcus aureus"
          ],
          [
           true,
           "Staphylococcus aureus"
          ],
          [
           true,
           "Staphylococcus aureus"
          ],
          [
           true,
           "Staphylococcus aureus"
          ],
          [
           true,
           "Staphylococcus aureus"
          ],
          [
           true,
           "Staphylococcus aureus"
          ],
          [
           true,
           "Staphylococcus aureus"
          ],
          [
           true,
           "Staphylococcus aureus"
          ],
          [
           true,
           "Staphylococcus aureus"
          ],
          [
           true,
           "Staphylococcus aureus"
          ],
          [
           true,
           "Staphylococcus aureus"
          ],
          [
           true,
           "Staphylococcus aureus"
          ],
          [
           true,
           "Streptococcus mitis"
          ],
          [
           true,
           "Staphylococcus lugdunensis"
          ],
          [
           true,
           "Staphylococcus lugdunensis"
          ],
          [
           true,
           "Streptococcus mitis"
          ],
          [
           true,
           "Streptococcus sanguinis"
          ],
          [
           true,
           "Streptococcus sanguinis"
          ],
          [
           true,
           "Staphylococcus aureus"
          ],
          [
           true,
           "Staphylococcus aureus"
          ],
          [
           true,
           "Staphylococcus aureus"
          ],
          [
           true,
           "Staphylococcus aureus"
          ],
          [
           true,
           "Staphylococcus aureus"
          ],
          [
           true,
           "Staphylococcus aureus"
          ],
          [
           true,
           "Staphylococcus aureus"
          ],
          [
           true,
           "Staphylococcus aureus"
          ],
          [
           true,
           "Staphylococcus aureus"
          ],
          [
           true,
           "Staphylococcus aureus"
          ],
          [
           true,
           "Staphylococcus aureus"
          ],
          [
           true,
           "Staphylococcus aureus"
          ],
          [
           true,
           "Staphylococcus aureus"
          ],
          [
           true,
           "Staphylococcus aureus"
          ],
          [
           true,
           "Staphylococcus aureus"
          ],
          [
           true,
           "Staphylococcus aureus"
          ],
          [
           true,
           "Staphylococcus aureus"
          ],
          [
           true,
           "Staphylococcus aureus"
          ],
          [
           true,
           "Staphylococcus aureus"
          ],
          [
           false,
           "Staphylococcus aureus"
          ],
          [
           true,
           "Staphylococcus lugdunensis"
          ],
          [
           true,
           "Staphylococcus lugdunensis"
          ],
          [
           true,
           "Staphylococcus lugdunensis"
          ],
          [
           true,
           "Staphylococcus aureus"
          ],
          [
           true,
           "Staphylococcus aureus"
          ],
          [
           true,
           "Staphylococcus aureus"
          ],
          [
           true,
           "Staphylococcus aureus"
          ],
          [
           true,
           "Staphylococcus aureus"
          ],
          [
           true,
           "Staphylococcus aureus"
          ],
          [
           true,
           "Staphylococcus aureus"
          ],
          [
           true,
           "Staphylococcus aureus"
          ],
          [
           true,
           "Staphylococcus aureus"
          ],
          [
           true,
           "Staphylococcus aureus"
          ],
          [
           true,
           "Staphylococcus aureus"
          ],
          [
           true,
           "Staphylococcus aureus"
          ],
          [
           true,
           "Staphylococcus aureus"
          ],
          [
           true,
           "Staphylococcus aureus"
          ],
          [
           true,
           "Staphylococcus aureus"
          ],
          [
           true,
           "Staphylococcus aureus"
          ],
          [
           true,
           "Staphylococcus aureus"
          ],
          [
           true,
           "Staphylococcus aureus"
          ],
          [
           true,
           "Staphylococcus aureus"
          ],
          [
           true,
           "Staphylococcus aureus"
          ],
          [
           false,
           "Staphylococcus aureus"
          ],
          [
           true,
           "Staphylococcus aureus"
          ],
          [
           true,
           "Staphylococcus aureus"
          ],
          [
           true,
           "Staphylococcus aureus"
          ],
          [
           true,
           "Staphylococcus aureus"
          ],
          [
           true,
           "Staphylococcus aureus"
          ],
          [
           true,
           "Staphylococcus aureus"
          ],
          [
           true,
           "Staphylococcus aureus"
          ],
          [
           true,
           "Staphylococcus aureus"
          ],
          [
           true,
           "Staphylococcus aureus"
          ],
          [
           true,
           "Staphylococcus aureus"
          ],
          [
           true,
           "Staphylococcus aureus"
          ],
          [
           true,
           "Staphylococcus aureus"
          ],
          [
           true,
           "Staphylococcus aureus"
          ],
          [
           true,
           "Staphylococcus aureus"
          ],
          [
           true,
           "Staphylococcus aureus"
          ],
          [
           true,
           "Staphylococcus aureus"
          ],
          [
           true,
           "Staphylococcus aureus"
          ],
          [
           true,
           "Streptococcus pneumoniae"
          ],
          [
           true,
           "Streptococcus pneumoniae"
          ],
          [
           true,
           "Streptococcus pneumoniae"
          ],
          [
           false,
           "Streptococcus pneumoniae"
          ],
          [
           false,
           "Streptococcus salivarius"
          ],
          [
           true,
           "Staphylococcus aureus"
          ],
          [
           true,
           "Staphylococcus aureus"
          ],
          [
           true,
           "Staphylococcus aureus"
          ],
          [
           true,
           "Staphylococcus aureus"
          ],
          [
           false,
           "Enterococcus faecium"
          ],
          [
           false,
           "Enterococcus faecium"
          ],
          [
           false,
           "Enterococcus faecium"
          ],
          [
           false,
           "Enterococcus faecium"
          ],
          [
           true,
           "Enterococcus faecium"
          ],
          [
           false,
           "Enterococcus faecium"
          ],
          [
           false,
           "Enterococcus faecium"
          ],
          [
           true,
           "Enterococcus faecium"
          ],
          [
           true,
           "Enterococcus faecalis"
          ],
          [
           false,
           "Enterococcus faecium"
          ],
          [
           false,
           "Enterococcus faecium"
          ],
          [
           false,
           "Enterococcus faecium"
          ],
          [
           false,
           "Enterococcus faecium"
          ],
          [
           false,
           "Streptococcus mitis"
          ],
          [
           true,
           "Streptococcus sanguinis"
          ],
          [
           true,
           "Streptococcus salivarius"
          ],
          [
           true,
           "Enterococcus faecium"
          ],
          [
           false,
           "Enterococcus faecium"
          ],
          [
           false,
           "Enterococcus faecium"
          ],
          [
           false,
           "Enterococcus faecium"
          ],
          [
           false,
           "Enterococcus faecium"
          ],
          [
           false,
           "Enterococcus faecium"
          ],
          [
           false,
           "Enterococcus faecium"
          ],
          [
           true,
           "Enterococcus faecium"
          ],
          [
           false,
           "Enterococcus faecium"
          ],
          [
           false,
           "Enterococcus faecium"
          ],
          [
           false,
           "Enterococcus faecium"
          ],
          [
           false,
           "Enterococcus faecium"
          ],
          [
           false,
           "Enterococcus faecium"
          ],
          [
           false,
           "Enterococcus faecium"
          ],
          [
           false,
           "Enterococcus faecium"
          ],
          [
           false,
           "Enterococcus faecium"
          ],
          [
           false,
           "Enterococcus faecium"
          ],
          [
           false,
           "Enterococcus faecium"
          ],
          [
           false,
           "Enterococcus faecium"
          ],
          [
           true,
           "Streptococcus mitis"
          ],
          [
           true,
           "Streptococcus sanguinis"
          ],
          [
           true,
           "Streptococcus mitis"
          ],
          [
           true,
           "Streptococcus anginosus"
          ],
          [
           false,
           "Enterococcus faecium"
          ],
          [
           false,
           "Enterococcus faecium"
          ],
          [
           false,
           "Enterococcus faecium"
          ],
          [
           false,
           "Enterococcus faecium"
          ],
          [
           false,
           "Enterococcus faecium"
          ],
          [
           false,
           "Enterococcus faecium"
          ],
          [
           false,
           "Enterococcus faecium"
          ],
          [
           false,
           "Enterococcus faecium"
          ],
          [
           false,
           "Enterococcus faecium"
          ],
          [
           true,
           "Streptococcus sanguinis"
          ],
          [
           true,
           "Streptococcus mitis"
          ],
          [
           false,
           "Streptococcus sanguinis"
          ],
          [
           true,
           "Streptococcus sanguinis"
          ],
          [
           false,
           "Enterococcus faecium"
          ],
          [
           false,
           "Enterococcus faecium"
          ],
          [
           true,
           "Streptococcus salivarius"
          ],
          [
           true,
           "Streptococcus salivarius"
          ],
          [
           false,
           "Enterococcus faecalis"
          ],
          [
           true,
           "Staphylococcus aureus"
          ],
          [
           true,
           "Staphylococcus aureus"
          ],
          [
           true,
           "Streptococcus mitis"
          ],
          [
           true,
           "Streptococcus mitis"
          ],
          [
           true,
           "Streptococcus mitis"
          ],
          [
           true,
           "Streptococcus mitis"
          ],
          [
           true,
           "Streptococcus mitis"
          ],
          [
           true,
           "Streptococcus sanguinis"
          ],
          [
           true,
           "Streptococcus sanguinis"
          ],
          [
           true,
           "Streptococcus sanguinis"
          ],
          [
           true,
           "Streptococcus pneumoniae"
          ],
          [
           true,
           "Streptococcus salivarius"
          ],
          [
           true,
           "Streptococcus salivarius"
          ],
          [
           true,
           "Streptococcus salivarius"
          ],
          [
           true,
           "Enterococcus faecalis"
          ],
          [
           false,
           "Enterococcus faecium"
          ],
          [
           true,
           "Enterococcus faecium"
          ],
          [
           false,
           "Enterococcus faecium"
          ],
          [
           false,
           "Enterococcus faecium"
          ],
          [
           false,
           "Enterococcus faecium"
          ],
          [
           false,
           "Enterococcus faecium"
          ],
          [
           false,
           "Enterococcus faecium"
          ],
          [
           false,
           "Enterococcus faecium"
          ],
          [
           false,
           "Enterococcus faecium"
          ],
          [
           false,
           "Enterococcus faecalis"
          ],
          [
           false,
           "Enterococcus faecium"
          ],
          [
           false,
           "Enterococcus faecium"
          ],
          [
           false,
           "Enterococcus faecium"
          ],
          [
           false,
           "Enterococcus faecium"
          ],
          [
           false,
           "Enterococcus faecium"
          ],
          [
           false,
           "Enterococcus faecium"
          ],
          [
           false,
           "Enterococcus faecium"
          ],
          [
           false,
           "Enterococcus faecium"
          ],
          [
           false,
           "Enterococcus faecium"
          ],
          [
           false,
           "Enterococcus faecium"
          ],
          [
           false,
           "Enterococcus faecium"
          ],
          [
           false,
           "Enterococcus faecium"
          ],
          [
           false,
           "Enterococcus faecium"
          ],
          [
           false,
           "Enterococcus faecium"
          ],
          [
           false,
           "Enterococcus faecium"
          ],
          [
           false,
           "Enterococcus faecium"
          ],
          [
           false,
           "Enterococcus faecium"
          ],
          [
           false,
           "Enterococcus faecium"
          ],
          [
           false,
           "Enterococcus faecium"
          ],
          [
           false,
           "Enterococcus faecium"
          ],
          [
           false,
           "Enterococcus faecium"
          ],
          [
           false,
           "Enterococcus faecium"
          ],
          [
           false,
           "Enterococcus faecium"
          ],
          [
           false,
           "Enterococcus faecium"
          ],
          [
           false,
           "Enterococcus faecium"
          ],
          [
           false,
           "Enterococcus faecium"
          ],
          [
           false,
           "Enterococcus faecium"
          ],
          [
           false,
           "Enterococcus faecium"
          ],
          [
           false,
           "Enterococcus faecium"
          ],
          [
           false,
           "Enterococcus faecium"
          ],
          [
           false,
           "Enterococcus faecium"
          ],
          [
           false,
           "Enterococcus faecium"
          ],
          [
           true,
           "Enterococcus faecium"
          ],
          [
           false,
           "Enterococcus faecium"
          ],
          [
           false,
           "Enterococcus faecium"
          ],
          [
           false,
           "Enterococcus faecalis"
          ],
          [
           true,
           "Streptococcus mitis"
          ],
          [
           true,
           "Staphylococcus aureus"
          ],
          [
           true,
           "Staphylococcus aureus"
          ],
          [
           false,
           "Staphylococcus aureus"
          ],
          [
           false,
           "Staphylococcus aureus"
          ],
          [
           false,
           "Staphylococcus aureus"
          ],
          [
           false,
           "Staphylococcus aureus"
          ],
          [
           false,
           "Staphylococcus aureus"
          ],
          [
           false,
           "Staphylococcus aureus"
          ],
          [
           false,
           "Staphylococcus aureus"
          ],
          [
           false,
           "Staphylococcus aureus"
          ],
          [
           false,
           "Staphylococcus aureus"
          ],
          [
           false,
           "Staphylococcus aureus"
          ],
          [
           false,
           "Staphylococcus aureus"
          ],
          [
           false,
           "Staphylococcus aureus"
          ],
          [
           false,
           "Staphylococcus aureus"
          ],
          [
           false,
           "Staphylococcus aureus"
          ],
          [
           false,
           "Staphylococcus aureus"
          ],
          [
           false,
           "Staphylococcus aureus"
          ],
          [
           false,
           "Staphylococcus aureus"
          ],
          [
           false,
           "Staphylococcus aureus"
          ],
          [
           false,
           "Staphylococcus aureus"
          ],
          [
           false,
           "Staphylococcus aureus"
          ],
          [
           true,
           "Staphylococcus aureus"
          ],
          [
           true,
           "Staphylococcus aureus"
          ],
          [
           true,
           "Staphylococcus aureus"
          ],
          [
           false,
           "Staphylococcus aureus"
          ],
          [
           false,
           "Staphylococcus epidermidis"
          ],
          [
           false,
           "Staphylococcus epidermidis"
          ],
          [
           true,
           "Staphylococcus capitis"
          ],
          [
           false,
           "Staphylococcus capitis"
          ],
          [
           false,
           "Staphylococcus capitis"
          ],
          [
           false,
           "Staphylococcus epidermidis"
          ],
          [
           false,
           "Staphylococcus epidermidis"
          ],
          [
           true,
           "Staphylococcus epidermidis"
          ],
          [
           true,
           "Staphylococcus epidermidis"
          ],
          [
           true,
           "Staphylococcus epidermidis"
          ],
          [
           false,
           "Staphylococcus epidermidis"
          ],
          [
           false,
           "Staphylococcus epidermidis"
          ],
          [
           true,
           "Staphylococcus epidermidis"
          ],
          [
           true,
           "Staphylococcus epidermidis"
          ],
          [
           true,
           "Staphylococcus epidermidis"
          ],
          [
           false,
           "Staphylococcus epidermidis"
          ],
          [
           true,
           "Staphylococcus epidermidis"
          ],
          [
           true,
           "Staphylococcus epidermidis"
          ],
          [
           true,
           "Staphylococcus epidermidis"
          ],
          [
           false,
           "Staphylococcus epidermidis"
          ],
          [
           true,
           "Staphylococcus epidermidis"
          ],
          [
           false,
           "Staphylococcus epidermidis"
          ],
          [
           true,
           "Staphylococcus epidermidis"
          ],
          [
           false,
           "Staphylococcus epidermidis"
          ],
          [
           true,
           "Staphylococcus epidermidis"
          ],
          [
           false,
           "Staphylococcus aureus"
          ],
          [
           true,
           "Staphylococcus epidermidis"
          ],
          [
           false,
           "Staphylococcus epidermidis"
          ],
          [
           true,
           "Staphylococcus epidermidis"
          ],
          [
           false,
           "Staphylococcus epidermidis"
          ],
          [
           false,
           "Staphylococcus epidermidis"
          ],
          [
           true,
           "Staphylococcus epidermidis"
          ],
          [
           false,
           "Staphylococcus epidermidis"
          ],
          [
           true,
           "Staphylococcus epidermidis"
          ],
          [
           true,
           "Staphylococcus epidermidis"
          ],
          [
           true,
           "Staphylococcus epidermidis"
          ],
          [
           false,
           "Staphylococcus hominis"
          ],
          [
           false,
           "Staphylococcus hominis"
          ],
          [
           false,
           "Staphylococcus hominis"
          ],
          [
           false,
           "Staphylococcus hominis"
          ],
          [
           true,
           "Staphylococcus aureus"
          ],
          [
           false,
           "Staphylococcus aureus"
          ],
          [
           false,
           "Staphylococcus aureus"
          ],
          [
           false,
           "Staphylococcus aureus"
          ],
          [
           true,
           "Staphylococcus capitis"
          ],
          [
           true,
           "Staphylococcus capitis"
          ],
          [
           true,
           "Staphylococcus hominis"
          ],
          [
           false,
           "Staphylococcus hominis"
          ],
          [
           true,
           "Staphylococcus hominis"
          ],
          [
           false,
           "Staphylococcus hominis"
          ],
          [
           false,
           "Staphylococcus hominis"
          ],
          [
           false,
           "Staphylococcus hominis"
          ],
          [
           false,
           "Staphylococcus hominis"
          ],
          [
           false,
           "Staphylococcus hominis"
          ],
          [
           false,
           "Staphylococcus hominis"
          ],
          [
           false,
           "Staphylococcus hominis"
          ],
          [
           true,
           "Staphylococcus aureus"
          ],
          [
           false,
           "Staphylococcus aureus"
          ],
          [
           false,
           "Staphylococcus aureus"
          ],
          [
           false,
           "Staphylococcus aureus"
          ],
          [
           true,
           "Staphylococcus aureus"
          ],
          [
           true,
           "Staphylococcus aureus"
          ],
          [
           false,
           "Staphylococcus aureus"
          ],
          [
           false,
           "Staphylococcus aureus"
          ],
          [
           false,
           "Staphylococcus aureus"
          ],
          [
           false,
           "Staphylococcus aureus"
          ],
          [
           false,
           "Staphylococcus aureus"
          ],
          [
           false,
           "Staphylococcus aureus"
          ],
          [
           false,
           "Staphylococcus aureus"
          ],
          [
           true,
           "Staphylococcus aureus"
          ],
          [
           true,
           "Staphylococcus capitis"
          ],
          [
           false,
           "Staphylococcus epidermidis"
          ],
          [
           false,
           "Staphylococcus epidermidis"
          ],
          [
           false,
           "Staphylococcus epidermidis"
          ],
          [
           false,
           "Staphylococcus epidermidis"
          ],
          [
           false,
           "Staphylococcus epidermidis"
          ],
          [
           true,
           "Staphylococcus epidermidis"
          ],
          [
           false,
           "Staphylococcus aureus"
          ],
          [
           false,
           "Staphylococcus aureus"
          ],
          [
           false,
           "Staphylococcus aureus"
          ],
          [
           true,
           "Staphylococcus aureus"
          ],
          [
           false,
           "Staphylococcus aureus"
          ],
          [
           false,
           "Staphylococcus aureus"
          ],
          [
           false,
           "Staphylococcus aureus"
          ],
          [
           false,
           "Staphylococcus aureus"
          ],
          [
           false,
           "Staphylococcus aureus"
          ],
          [
           false,
           "Staphylococcus aureus"
          ],
          [
           false,
           "Staphylococcus aureus"
          ],
          [
           true,
           "Staphylococcus aureus"
          ],
          [
           true,
           "Staphylococcus aureus"
          ],
          [
           true,
           "Staphylococcus aureus"
          ],
          [
           false,
           "Staphylococcus aureus"
          ],
          [
           false,
           "Staphylococcus aureus"
          ],
          [
           false,
           "Staphylococcus aureus"
          ],
          [
           true,
           "Staphylococcus aureus"
          ],
          [
           true,
           "Staphylococcus aureus"
          ],
          [
           false,
           "Staphylococcus aureus"
          ],
          [
           false,
           "Staphylococcus aureus"
          ],
          [
           true,
           "Staphylococcus aureus"
          ],
          [
           true,
           "Staphylococcus aureus"
          ],
          [
           true,
           "Staphylococcus aureus"
          ],
          [
           true,
           "Staphylococcus aureus"
          ],
          [
           false,
           "Staphylococcus aureus"
          ],
          [
           true,
           "Staphylococcus aureus"
          ],
          [
           true,
           "Staphylococcus aureus"
          ],
          [
           true,
           "Staphylococcus aureus"
          ],
          [
           true,
           "Staphylococcus aureus"
          ],
          [
           true,
           "Staphylococcus aureus"
          ],
          [
           false,
           "Staphylococcus aureus"
          ],
          [
           false,
           "Staphylococcus aureus"
          ],
          [
           false,
           "Staphylococcus aureus"
          ],
          [
           true,
           "Staphylococcus aureus"
          ],
          [
           true,
           "Staphylococcus aureus"
          ],
          [
           true,
           "Staphylococcus aureus"
          ],
          [
           true,
           "Staphylococcus aureus"
          ],
          [
           true,
           "Staphylococcus aureus"
          ],
          [
           false,
           "Staphylococcus epidermidis"
          ],
          [
           false,
           "Staphylococcus epidermidis"
          ],
          [
           false,
           "Staphylococcus epidermidis"
          ],
          [
           false,
           "Staphylococcus epidermidis"
          ],
          [
           true,
           "Staphylococcus epidermidis"
          ],
          [
           false,
           "Staphylococcus aureus"
          ],
          [
           false,
           "Staphylococcus aureus"
          ],
          [
           false,
           "Staphylococcus aureus"
          ],
          [
           true,
           "Streptococcus agalactiae"
          ],
          [
           true,
           "Streptococcus agalactiae"
          ],
          [
           true,
           "Streptococcus pneumoniae"
          ],
          [
           true,
           "Staphylococcus aureus"
          ],
          [
           true,
           "Staphylococcus aureus"
          ],
          [
           true,
           "Staphylococcus aureus"
          ],
          [
           true,
           "Staphylococcus aureus"
          ],
          [
           true,
           "Staphylococcus aureus"
          ],
          [
           true,
           "Staphylococcus aureus"
          ],
          [
           true,
           "Staphylococcus aureus"
          ],
          [
           true,
           "Staphylococcus aureus"
          ],
          [
           true,
           "Staphylococcus aureus"
          ],
          [
           true,
           "Staphylococcus aureus"
          ],
          [
           true,
           "Staphylococcus aureus"
          ],
          [
           true,
           "Staphylococcus aureus"
          ],
          [
           true,
           "Staphylococcus aureus"
          ],
          [
           true,
           "Staphylococcus aureus"
          ],
          [
           true,
           "Staphylococcus aureus"
          ],
          [
           true,
           "Staphylococcus aureus"
          ],
          [
           true,
           "Staphylococcus aureus"
          ],
          [
           true,
           "Staphylococcus aureus"
          ],
          [
           true,
           "Staphylococcus aureus"
          ],
          [
           true,
           "Staphylococcus aureus"
          ],
          [
           false,
           "Enterococcus faecium"
          ],
          [
           true,
           "Enterococcus faecalis"
          ],
          [
           false,
           "Enterococcus faecium"
          ],
          [
           false,
           "Enterococcus faecalis"
          ],
          [
           false,
           "Enterococcus faecium"
          ],
          [
           false,
           "Enterococcus faecium"
          ],
          [
           true,
           "Staphylococcus aureus"
          ],
          [
           true,
           "Staphylococcus aureus"
          ],
          [
           false,
           "Enterococcus faecium"
          ],
          [
           false,
           "Enterococcus faecium"
          ],
          [
           true,
           "Staphylococcus epidermidis"
          ],
          [
           true,
           "Staphylococcus epidermidis"
          ],
          [
           false,
           "Enterococcus faecalis"
          ],
          [
           true,
           "Staphylococcus hominis"
          ],
          [
           false,
           "Streptococcus salivarius"
          ],
          [
           true,
           "Enterococcus faecium"
          ],
          [
           false,
           "Enterococcus faecium"
          ],
          [
           true,
           "Enterococcus faecium"
          ],
          [
           true,
           "Enterococcus faecium"
          ],
          [
           true,
           "Enterococcus faecium"
          ],
          [
           true,
           "Enterococcus faecium"
          ],
          [
           false,
           "Enterococcus faecium"
          ],
          [
           false,
           "Enterococcus faecium"
          ],
          [
           false,
           "Enterococcus faecium"
          ],
          [
           false,
           "Enterococcus faecium"
          ],
          [
           false,
           "Enterococcus faecium"
          ],
          [
           false,
           "Enterococcus faecium"
          ],
          [
           true,
           "Enterococcus faecium"
          ],
          [
           false,
           "Enterococcus faecium"
          ],
          [
           true,
           "Staphylococcus aureus"
          ],
          [
           true,
           "Staphylococcus aureus"
          ],
          [
           true,
           "Staphylococcus aureus"
          ],
          [
           true,
           "Staphylococcus aureus"
          ],
          [
           true,
           "Staphylococcus aureus"
          ],
          [
           true,
           "Staphylococcus aureus"
          ],
          [
           true,
           "Staphylococcus aureus"
          ],
          [
           true,
           "Staphylococcus aureus"
          ],
          [
           true,
           "Staphylococcus aureus"
          ],
          [
           true,
           "Staphylococcus aureus"
          ],
          [
           true,
           "Staphylococcus aureus"
          ],
          [
           true,
           "Staphylococcus aureus"
          ],
          [
           true,
           "Staphylococcus aureus"
          ],
          [
           false,
           "Enterococcus faecium"
          ],
          [
           false,
           "Enterococcus faecium"
          ],
          [
           true,
           "Staphylococcus epidermidis"
          ],
          [
           true,
           "Staphylococcus epidermidis"
          ],
          [
           false,
           "Streptococcus pneumoniae"
          ],
          [
           false,
           "Enterococcus faecalis"
          ],
          [
           false,
           "Enterococcus faecalis"
          ],
          [
           false,
           "Enterococcus faecalis"
          ],
          [
           false,
           "Enterococcus faecium"
          ],
          [
           false,
           "Enterococcus faecalis"
          ],
          [
           false,
           "Enterococcus faecium"
          ],
          [
           false,
           "Enterococcus faecalis"
          ],
          [
           true,
           "Enterococcus faecium"
          ],
          [
           false,
           "Enterococcus faecium"
          ],
          [
           false,
           "Enterococcus faecium"
          ],
          [
           true,
           "Staphylococcus aureus"
          ],
          [
           true,
           "Staphylococcus aureus"
          ],
          [
           false,
           "Enterococcus faecium"
          ],
          [
           false,
           "Enterococcus faecium"
          ],
          [
           true,
           "Enterococcus faecalis"
          ],
          [
           false,
           "Enterococcus faecium"
          ],
          [
           true,
           "Enterococcus faecium"
          ],
          [
           false,
           "Enterococcus faecalis"
          ],
          [
           false,
           "Streptococcus salivarius"
          ],
          [
           false,
           "Enterococcus faecium"
          ],
          [
           true,
           "Enterococcus faecium"
          ],
          [
           false,
           "Enterococcus faecium"
          ],
          [
           true,
           "Enterococcus faecium"
          ],
          [
           true,
           "Enterococcus faecium"
          ],
          [
           true,
           "Enterococcus faecium"
          ],
          [
           true,
           "Enterococcus faecium"
          ],
          [
           false,
           "Enterococcus faecium"
          ],
          [
           true,
           "Enterococcus faecium"
          ],
          [
           false,
           "Enterococcus faecium"
          ],
          [
           false,
           "Enterococcus faecium"
          ],
          [
           false,
           "Enterococcus faecium"
          ],
          [
           false,
           "Enterococcus faecium"
          ],
          [
           false,
           "Enterococcus faecium"
          ],
          [
           false,
           "Enterococcus faecium"
          ],
          [
           false,
           "Enterococcus faecium"
          ],
          [
           false,
           "Enterococcus faecium"
          ],
          [
           false,
           "Enterococcus faecium"
          ],
          [
           false,
           "Enterococcus faecium"
          ],
          [
           false,
           "Enterococcus faecium"
          ],
          [
           false,
           "Enterococcus faecium"
          ],
          [
           false,
           "Enterococcus faecium"
          ],
          [
           false,
           "Enterococcus faecium"
          ],
          [
           false,
           "Enterococcus faecium"
          ],
          [
           false,
           "Enterococcus faecium"
          ],
          [
           false,
           "Enterococcus faecium"
          ],
          [
           true,
           "Staphylococcus aureus"
          ],
          [
           true,
           "Staphylococcus aureus"
          ],
          [
           true,
           "Staphylococcus aureus"
          ],
          [
           true,
           "Staphylococcus aureus"
          ],
          [
           true,
           "Staphylococcus aureus"
          ],
          [
           true,
           "Staphylococcus aureus"
          ],
          [
           true,
           "Staphylococcus aureus"
          ],
          [
           true,
           "Staphylococcus aureus"
          ],
          [
           true,
           "Staphylococcus aureus"
          ],
          [
           true,
           "Staphylococcus aureus"
          ],
          [
           true,
           "Staphylococcus aureus"
          ],
          [
           true,
           "Staphylococcus aureus"
          ],
          [
           true,
           "Staphylococcus aureus"
          ],
          [
           true,
           "Staphylococcus aureus"
          ],
          [
           true,
           "Staphylococcus aureus"
          ],
          [
           true,
           "Staphylococcus aureus"
          ],
          [
           true,
           "Staphylococcus aureus"
          ],
          [
           false,
           "Enterococcus faecium"
          ],
          [
           false,
           "Enterococcus faecium"
          ],
          [
           false,
           "Streptococcus pneumoniae"
          ],
          [
           false,
           "Enterococcus faecalis"
          ],
          [
           false,
           "Staphylococcus aureus"
          ],
          [
           false,
           "Staphylococcus aureus"
          ],
          [
           false,
           "Staphylococcus aureus"
          ],
          [
           false,
           "Staphylococcus aureus"
          ],
          [
           false,
           "Staphylococcus aureus"
          ],
          [
           false,
           "Staphylococcus aureus"
          ],
          [
           false,
           "Staphylococcus aureus"
          ],
          [
           false,
           "Staphylococcus aureus"
          ],
          [
           false,
           "Staphylococcus aureus"
          ],
          [
           false,
           "Staphylococcus aureus"
          ],
          [
           false,
           "Staphylococcus aureus"
          ],
          [
           false,
           "Staphylococcus aureus"
          ],
          [
           false,
           "Staphylococcus aureus"
          ],
          [
           false,
           "Staphylococcus aureus"
          ],
          [
           true,
           "Staphylococcus aureus"
          ],
          [
           false,
           "Streptococcus agalactiae"
          ],
          [
           false,
           "Streptococcus agalactiae"
          ],
          [
           false,
           "Streptococcus agalactiae"
          ],
          [
           false,
           "Streptococcus agalactiae"
          ],
          [
           false,
           "Streptococcus agalactiae"
          ],
          [
           false,
           "Streptococcus agalactiae"
          ],
          [
           false,
           "Streptococcus agalactiae"
          ],
          [
           false,
           "Streptococcus agalactiae"
          ],
          [
           false,
           "Streptococcus agalactiae"
          ],
          [
           false,
           "Streptococcus agalactiae"
          ],
          [
           false,
           "Streptococcus agalactiae"
          ],
          [
           false,
           "Staphylococcus epidermidis"
          ],
          [
           false,
           "Staphylococcus epidermidis"
          ],
          [
           false,
           "Staphylococcus capitis"
          ],
          [
           false,
           "Staphylococcus capitis"
          ],
          [
           false,
           "Staphylococcus capitis"
          ],
          [
           false,
           "Staphylococcus capitis"
          ],
          [
           false,
           "Staphylococcus capitis"
          ],
          [
           false,
           "Staphylococcus capitis"
          ],
          [
           false,
           "Staphylococcus epidermidis"
          ],
          [
           false,
           "Staphylococcus epidermidis"
          ],
          [
           false,
           "Staphylococcus epidermidis"
          ],
          [
           false,
           "Staphylococcus epidermidis"
          ],
          [
           false,
           "Staphylococcus epidermidis"
          ],
          [
           false,
           "Streptococcus agalactiae"
          ],
          [
           false,
           "Streptococcus agalactiae"
          ],
          [
           false,
           "Streptococcus agalactiae"
          ],
          [
           false,
           "Streptococcus agalactiae"
          ],
          [
           false,
           "Staphylococcus epidermidis"
          ],
          [
           false,
           "Staphylococcus epidermidis"
          ],
          [
           false,
           "Staphylococcus epidermidis"
          ],
          [
           false,
           "Staphylococcus epidermidis"
          ],
          [
           true,
           "Staphylococcus epidermidis"
          ],
          [
           false,
           "Staphylococcus epidermidis"
          ],
          [
           false,
           "Staphylococcus epidermidis"
          ],
          [
           false,
           "Staphylococcus epidermidis"
          ],
          [
           false,
           "Staphylococcus epidermidis"
          ],
          [
           false,
           "Staphylococcus epidermidis"
          ],
          [
           false,
           "Staphylococcus epidermidis"
          ],
          [
           false,
           "Staphylococcus epidermidis"
          ],
          [
           false,
           "Staphylococcus epidermidis"
          ],
          [
           false,
           "Staphylococcus epidermidis"
          ],
          [
           false,
           "Staphylococcus epidermidis"
          ],
          [
           false,
           "Staphylococcus epidermidis"
          ],
          [
           false,
           "Staphylococcus epidermidis"
          ],
          [
           false,
           "Staphylococcus epidermidis"
          ],
          [
           false,
           "Staphylococcus epidermidis"
          ],
          [
           false,
           "Staphylococcus epidermidis"
          ],
          [
           false,
           "Staphylococcus epidermidis"
          ],
          [
           false,
           "Staphylococcus epidermidis"
          ],
          [
           false,
           "Staphylococcus aureus"
          ],
          [
           false,
           "Staphylococcus aureus"
          ],
          [
           false,
           "Staphylococcus epidermidis"
          ],
          [
           false,
           "Staphylococcus epidermidis"
          ],
          [
           false,
           "Staphylococcus epidermidis"
          ],
          [
           false,
           "Staphylococcus epidermidis"
          ],
          [
           false,
           "Staphylococcus epidermidis"
          ],
          [
           false,
           "Staphylococcus epidermidis"
          ],
          [
           false,
           "Staphylococcus epidermidis"
          ],
          [
           false,
           "Staphylococcus epidermidis"
          ],
          [
           false,
           "Staphylococcus epidermidis"
          ],
          [
           false,
           "Staphylococcus epidermidis"
          ],
          [
           false,
           "Staphylococcus hominis"
          ],
          [
           false,
           "Staphylococcus epidermidis"
          ],
          [
           false,
           "Staphylococcus hominis"
          ],
          [
           true,
           "Staphylococcus hominis"
          ],
          [
           false,
           "Staphylococcus hominis"
          ],
          [
           false,
           "Staphylococcus hominis"
          ],
          [
           false,
           "Staphylococcus hominis"
          ],
          [
           false,
           "Staphylococcus hominis"
          ],
          [
           false,
           "Staphylococcus hominis"
          ],
          [
           false,
           "Staphylococcus hominis"
          ],
          [
           false,
           "Staphylococcus hominis"
          ],
          [
           false,
           "Staphylococcus hominis"
          ],
          [
           false,
           "Streptococcus pneumoniae"
          ],
          [
           false,
           "Streptococcus pneumoniae"
          ],
          [
           false,
           "Streptococcus pneumoniae"
          ],
          [
           false,
           "Streptococcus pneumoniae"
          ],
          [
           true,
           "Streptococcus pneumoniae"
          ],
          [
           false,
           "Streptococcus pneumoniae"
          ],
          [
           false,
           "Streptococcus pneumoniae"
          ],
          [
           false,
           "Streptococcus pneumoniae"
          ],
          [
           false,
           "Streptococcus pyogenes"
          ],
          [
           false,
           "Streptococcus pyogenes"
          ],
          [
           false,
           "Streptococcus pyogenes"
          ],
          [
           false,
           "Streptococcus pneumoniae"
          ],
          [
           false,
           "Streptococcus pyogenes"
          ],
          [
           true,
           "Streptococcus pyogenes"
          ],
          [
           false,
           "Streptococcus pyogenes"
          ],
          [
           false,
           "Streptococcus pyogenes"
          ],
          [
           false,
           "Streptococcus pyogenes"
          ],
          [
           false,
           "Streptococcus pyogenes"
          ],
          [
           false,
           "Staphylococcus hominis"
          ],
          [
           false,
           "Staphylococcus hominis"
          ],
          [
           false,
           "Staphylococcus hominis"
          ],
          [
           true,
           "Staphylococcus hominis"
          ],
          [
           false,
           "Staphylococcus hominis"
          ],
          [
           false,
           "Staphylococcus hominis"
          ],
          [
           false,
           "Staphylococcus hominis"
          ],
          [
           false,
           "Staphylococcus aureus"
          ],
          [
           false,
           "Staphylococcus aureus"
          ],
          [
           false,
           "Staphylococcus aureus"
          ],
          [
           false,
           "Staphylococcus aureus"
          ],
          [
           false,
           "Staphylococcus aureus"
          ],
          [
           false,
           "Staphylococcus aureus"
          ],
          [
           false,
           "Staphylococcus aureus"
          ],
          [
           false,
           "Staphylococcus aureus"
          ],
          [
           false,
           "Staphylococcus aureus"
          ],
          [
           true,
           "Staphylococcus aureus"
          ],
          [
           false,
           "Staphylococcus aureus"
          ],
          [
           false,
           "Staphylococcus aureus"
          ],
          [
           false,
           "Staphylococcus aureus"
          ],
          [
           false,
           "Staphylococcus aureus"
          ],
          [
           false,
           "Staphylococcus aureus"
          ],
          [
           false,
           "Staphylococcus aureus"
          ],
          [
           false,
           "Staphylococcus aureus"
          ],
          [
           false,
           "Staphylococcus capitis"
          ],
          [
           true,
           "Streptococcus pneumoniae"
          ],
          [
           false,
           "Streptococcus agalactiae"
          ],
          [
           false,
           "Streptococcus pneumoniae"
          ],
          [
           false,
           "Staphylococcus hominis"
          ],
          [
           false,
           "Staphylococcus hominis"
          ],
          [
           false,
           "Staphylococcus hominis"
          ],
          [
           false,
           "Staphylococcus hominis"
          ],
          [
           false,
           "Staphylococcus hominis"
          ],
          [
           false,
           "Staphylococcus hominis"
          ],
          [
           false,
           "Streptococcus agalactiae"
          ],
          [
           false,
           "Staphylococcus hominis"
          ],
          [
           false,
           "Staphylococcus hominis"
          ],
          [
           false,
           "Staphylococcus hominis"
          ],
          [
           false,
           "Staphylococcus lugdunensis"
          ],
          [
           false,
           "Staphylococcus lugdunensis"
          ],
          [
           false,
           "Streptococcus agalactiae"
          ],
          [
           false,
           "Streptococcus agalactiae"
          ],
          [
           false,
           "Streptococcus agalactiae"
          ],
          [
           false,
           "Streptococcus agalactiae"
          ],
          [
           false,
           "Streptococcus agalactiae"
          ],
          [
           true,
           "Streptococcus agalactiae"
          ],
          [
           false,
           "Streptococcus agalactiae"
          ],
          [
           false,
           "Streptococcus agalactiae"
          ],
          [
           false,
           "Streptococcus pneumoniae"
          ],
          [
           false,
           "Streptococcus pneumoniae"
          ],
          [
           false,
           "Streptococcus pneumoniae"
          ],
          [
           false,
           "Streptococcus pneumoniae"
          ],
          [
           false,
           "Streptococcus pneumoniae"
          ],
          [
           false,
           "Streptococcus pneumoniae"
          ],
          [
           false,
           "Streptococcus pneumoniae"
          ],
          [
           false,
           "Streptococcus pneumoniae"
          ],
          [
           true,
           "Staphylococcus hominis"
          ],
          [
           true,
           "Staphylococcus hominis"
          ],
          [
           false,
           "Staphylococcus hominis"
          ],
          [
           false,
           "Staphylococcus hominis"
          ],
          [
           false,
           "Staphylococcus hominis"
          ],
          [
           false,
           "Streptococcus agalactiae"
          ],
          [
           false,
           "Streptococcus pneumoniae"
          ],
          [
           false,
           "Streptococcus pyogenes"
          ],
          [
           false,
           "Streptococcus pyogenes"
          ],
          [
           false,
           "Streptococcus pyogenes"
          ],
          [
           false,
           "Streptococcus pyogenes"
          ],
          [
           false,
           "Streptococcus pyogenes"
          ],
          [
           false,
           "Streptococcus pyogenes"
          ],
          [
           false,
           "Streptococcus pyogenes"
          ],
          [
           false,
           "Streptococcus pyogenes"
          ],
          [
           false,
           "Streptococcus pyogenes"
          ],
          [
           false,
           "Streptococcus pyogenes"
          ],
          [
           false,
           "Streptococcus pyogenes"
          ],
          [
           false,
           "Streptococcus pyogenes"
          ],
          [
           false,
           "Staphylococcus aureus"
          ],
          [
           false,
           "Staphylococcus aureus"
          ],
          [
           false,
           "Staphylococcus aureus"
          ],
          [
           false,
           "Staphylococcus aureus"
          ],
          [
           false,
           "Staphylococcus aureus"
          ],
          [
           false,
           "Staphylococcus aureus"
          ],
          [
           false,
           "Staphylococcus aureus"
          ],
          [
           false,
           "Staphylococcus aureus"
          ],
          [
           false,
           "Staphylococcus aureus"
          ],
          [
           false,
           "Staphylococcus aureus"
          ],
          [
           false,
           "Staphylococcus aureus"
          ],
          [
           false,
           "Staphylococcus aureus"
          ],
          [
           false,
           "Staphylococcus aureus"
          ],
          [
           false,
           "Staphylococcus aureus"
          ],
          [
           false,
           "Staphylococcus aureus"
          ],
          [
           false,
           "Staphylococcus aureus"
          ],
          [
           false,
           "Staphylococcus aureus"
          ],
          [
           false,
           "Staphylococcus aureus"
          ],
          [
           false,
           "Staphylococcus capitis"
          ],
          [
           false,
           "Staphylococcus lugdunensis"
          ],
          [
           false,
           "Staphylococcus lugdunensis"
          ],
          [
           false,
           "Staphylococcus lugdunensis"
          ],
          [
           false,
           "Staphylococcus lugdunensis"
          ],
          [
           false,
           "Staphylococcus lugdunensis"
          ],
          [
           false,
           "Staphylococcus lugdunensis"
          ],
          [
           false,
           "Staphylococcus epidermidis"
          ],
          [
           false,
           "Staphylococcus epidermidis"
          ],
          [
           false,
           "Staphylococcus epidermidis"
          ],
          [
           false,
           "Staphylococcus epidermidis"
          ],
          [
           false,
           "Staphylococcus epidermidis"
          ],
          [
           false,
           "Staphylococcus epidermidis"
          ],
          [
           false,
           "Staphylococcus epidermidis"
          ],
          [
           false,
           "Staphylococcus lugdunensis"
          ],
          [
           false,
           "Staphylococcus aureus"
          ],
          [
           false,
           "Staphylococcus aureus"
          ],
          [
           false,
           "Staphylococcus aureus"
          ],
          [
           false,
           "Staphylococcus aureus"
          ],
          [
           false,
           "Staphylococcus aureus"
          ],
          [
           false,
           "Staphylococcus aureus"
          ],
          [
           false,
           "Staphylococcus aureus"
          ],
          [
           false,
           "Staphylococcus aureus"
          ],
          [
           false,
           "Staphylococcus aureus"
          ],
          [
           false,
           "Staphylococcus aureus"
          ],
          [
           true,
           "Staphylococcus aureus"
          ],
          [
           false,
           "Staphylococcus aureus"
          ],
          [
           true,
           "Staphylococcus aureus"
          ],
          [
           true,
           "Staphylococcus aureus"
          ],
          [
           false,
           "Staphylococcus aureus"
          ],
          [
           false,
           "Staphylococcus aureus"
          ],
          [
           false,
           "Staphylococcus aureus"
          ],
          [
           false,
           "Staphylococcus aureus"
          ],
          [
           false,
           "Staphylococcus aureus"
          ],
          [
           false,
           "Staphylococcus aureus"
          ],
          [
           false,
           "Staphylococcus aureus"
          ],
          [
           false,
           "Staphylococcus aureus"
          ],
          [
           false,
           "Staphylococcus aureus"
          ],
          [
           false,
           "Staphylococcus aureus"
          ],
          [
           false,
           "Staphylococcus aureus"
          ],
          [
           false,
           "Staphylococcus aureus"
          ],
          [
           true,
           "Staphylococcus aureus"
          ],
          [
           true,
           "Staphylococcus aureus"
          ],
          [
           false,
           "Staphylococcus aureus"
          ],
          [
           false,
           "Staphylococcus aureus"
          ],
          [
           false,
           "Staphylococcus aureus"
          ],
          [
           false,
           "Staphylococcus aureus"
          ],
          [
           false,
           "Staphylococcus aureus"
          ],
          [
           false,
           "Staphylococcus aureus"
          ],
          [
           false,
           "Staphylococcus aureus"
          ],
          [
           true,
           "Staphylococcus aureus"
          ],
          [
           false,
           "Staphylococcus aureus"
          ],
          [
           true,
           "Staphylococcus epidermidis"
          ],
          [
           true,
           "Staphylococcus epidermidis"
          ],
          [
           true,
           "Staphylococcus epidermidis"
          ],
          [
           false,
           "Staphylococcus epidermidis"
          ],
          [
           false,
           "Staphylococcus epidermidis"
          ],
          [
           false,
           "Streptococcus pneumoniae"
          ],
          [
           false,
           "Streptococcus pneumoniae"
          ],
          [
           false,
           "Streptococcus pneumoniae"
          ],
          [
           false,
           "Streptococcus pneumoniae"
          ],
          [
           false,
           "Streptococcus pneumoniae"
          ],
          [
           false,
           "Streptococcus pneumoniae"
          ],
          [
           false,
           "Streptococcus pneumoniae"
          ],
          [
           false,
           "Staphylococcus aureus"
          ],
          [
           false,
           "Staphylococcus aureus"
          ],
          [
           false,
           "Staphylococcus aureus"
          ],
          [
           false,
           "Staphylococcus aureus"
          ],
          [
           false,
           "Staphylococcus aureus"
          ],
          [
           false,
           "Staphylococcus aureus"
          ],
          [
           false,
           "Staphylococcus aureus"
          ],
          [
           false,
           "Staphylococcus aureus"
          ],
          [
           false,
           "Staphylococcus aureus"
          ],
          [
           false,
           "Staphylococcus aureus"
          ],
          [
           false,
           "Staphylococcus aureus"
          ],
          [
           false,
           "Staphylococcus aureus"
          ],
          [
           false,
           "Staphylococcus aureus"
          ],
          [
           false,
           "Staphylococcus aureus"
          ],
          [
           false,
           "Staphylococcus aureus"
          ],
          [
           false,
           "Streptococcus agalactiae"
          ],
          [
           false,
           "Streptococcus agalactiae"
          ],
          [
           false,
           "Streptococcus agalactiae"
          ],
          [
           false,
           "Streptococcus agalactiae"
          ],
          [
           false,
           "Streptococcus agalactiae"
          ],
          [
           false,
           "Streptococcus agalactiae"
          ],
          [
           false,
           "Streptococcus agalactiae"
          ],
          [
           false,
           "Streptococcus agalactiae"
          ],
          [
           false,
           "Streptococcus agalactiae"
          ],
          [
           false,
           "Staphylococcus epidermidis"
          ],
          [
           false,
           "Staphylococcus epidermidis"
          ],
          [
           false,
           "Staphylococcus capitis"
          ],
          [
           false,
           "Staphylococcus capitis"
          ],
          [
           false,
           "Staphylococcus capitis"
          ],
          [
           false,
           "Staphylococcus capitis"
          ],
          [
           false,
           "Staphylococcus capitis"
          ],
          [
           false,
           "Staphylococcus capitis"
          ],
          [
           false,
           "Staphylococcus epidermidis"
          ],
          [
           false,
           "Staphylococcus epidermidis"
          ],
          [
           true,
           "Staphylococcus epidermidis"
          ],
          [
           false,
           "Streptococcus agalactiae"
          ],
          [
           false,
           "Streptococcus agalactiae"
          ],
          [
           false,
           "Streptococcus agalactiae"
          ],
          [
           false,
           "Staphylococcus epidermidis"
          ],
          [
           false,
           "Staphylococcus epidermidis"
          ],
          [
           false,
           "Staphylococcus epidermidis"
          ],
          [
           true,
           "Staphylococcus epidermidis"
          ],
          [
           false,
           "Staphylococcus epidermidis"
          ],
          [
           false,
           "Staphylococcus epidermidis"
          ],
          [
           false,
           "Staphylococcus epidermidis"
          ],
          [
           false,
           "Staphylococcus epidermidis"
          ],
          [
           false,
           "Staphylococcus epidermidis"
          ],
          [
           false,
           "Staphylococcus epidermidis"
          ],
          [
           false,
           "Staphylococcus epidermidis"
          ],
          [
           false,
           "Staphylococcus epidermidis"
          ],
          [
           false,
           "Staphylococcus epidermidis"
          ],
          [
           false,
           "Staphylococcus epidermidis"
          ],
          [
           false,
           "Staphylococcus epidermidis"
          ],
          [
           false,
           "Staphylococcus epidermidis"
          ],
          [
           false,
           "Staphylococcus epidermidis"
          ],
          [
           false,
           "Staphylococcus epidermidis"
          ],
          [
           false,
           "Staphylococcus epidermidis"
          ],
          [
           false,
           "Staphylococcus epidermidis"
          ],
          [
           false,
           "Staphylococcus epidermidis"
          ],
          [
           false,
           "Staphylococcus epidermidis"
          ],
          [
           false,
           "Staphylococcus epidermidis"
          ],
          [
           false,
           "Staphylococcus hominis"
          ],
          [
           false,
           "Staphylococcus epidermidis"
          ],
          [
           false,
           "Staphylococcus hominis"
          ],
          [
           false,
           "Streptococcus pneumoniae"
          ],
          [
           false,
           "Streptococcus pneumoniae"
          ],
          [
           false,
           "Streptococcus pneumoniae"
          ],
          [
           false,
           "Streptococcus pneumoniae"
          ],
          [
           false,
           "Streptococcus pyogenes"
          ],
          [
           false,
           "Streptococcus pneumoniae"
          ],
          [
           false,
           "Streptococcus pyogenes"
          ],
          [
           false,
           "Streptococcus pyogenes"
          ],
          [
           false,
           "Streptococcus pyogenes"
          ],
          [
           false,
           "Staphylococcus hominis"
          ],
          [
           false,
           "Staphylococcus aureus"
          ],
          [
           false,
           "Staphylococcus aureus"
          ],
          [
           false,
           "Staphylococcus aureus"
          ],
          [
           false,
           "Staphylococcus aureus"
          ],
          [
           false,
           "Staphylococcus capitis"
          ],
          [
           false,
           "Streptococcus pneumoniae"
          ],
          [
           false,
           "Streptococcus agalactiae"
          ],
          [
           false,
           "Staphylococcus hominis"
          ],
          [
           false,
           "Staphylococcus hominis"
          ],
          [
           false,
           "Staphylococcus hominis"
          ],
          [
           false,
           "Staphylococcus hominis"
          ],
          [
           false,
           "Streptococcus agalactiae"
          ],
          [
           true,
           "Staphylococcus hominis"
          ],
          [
           true,
           "Staphylococcus hominis"
          ],
          [
           true,
           "Staphylococcus hominis"
          ],
          [
           true,
           "Staphylococcus hominis"
          ],
          [
           false,
           "Staphylococcus lugdunensis"
          ],
          [
           false,
           "Streptococcus agalactiae"
          ],
          [
           false,
           "Streptococcus agalactiae"
          ],
          [
           false,
           "Streptococcus agalactiae"
          ],
          [
           false,
           "Streptococcus agalactiae"
          ],
          [
           false,
           "Streptococcus agalactiae"
          ],
          [
           false,
           "Streptococcus agalactiae"
          ],
          [
           false,
           "Streptococcus pneumoniae"
          ],
          [
           false,
           "Streptococcus pneumoniae"
          ],
          [
           false,
           "Streptococcus pneumoniae"
          ],
          [
           false,
           "Streptococcus pneumoniae"
          ],
          [
           false,
           "Streptococcus pneumoniae"
          ],
          [
           false,
           "Streptococcus pneumoniae"
          ],
          [
           false,
           "Streptococcus pneumoniae"
          ],
          [
           false,
           "Streptococcus pneumoniae"
          ],
          [
           false,
           "Staphylococcus hominis"
          ],
          [
           false,
           "Streptococcus pneumoniae"
          ],
          [
           false,
           "Streptococcus pyogenes"
          ],
          [
           false,
           "Streptococcus pyogenes"
          ],
          [
           false,
           "Streptococcus pyogenes"
          ],
          [
           false,
           "Streptococcus pyogenes"
          ],
          [
           false,
           "Staphylococcus aureus"
          ],
          [
           false,
           "Staphylococcus aureus"
          ],
          [
           false,
           "Staphylococcus aureus"
          ],
          [
           false,
           "Staphylococcus aureus"
          ],
          [
           false,
           "Staphylococcus aureus"
          ],
          [
           false,
           "Staphylococcus aureus"
          ],
          [
           false,
           "Staphylococcus capitis"
          ],
          [
           false,
           "Staphylococcus lugdunensis"
          ],
          [
           false,
           "Staphylococcus lugdunensis"
          ],
          [
           false,
           "Staphylococcus lugdunensis"
          ],
          [
           false,
           "Staphylococcus lugdunensis"
          ],
          [
           false,
           "Staphylococcus epidermidis"
          ],
          [
           false,
           "Staphylococcus epidermidis"
          ],
          [
           false,
           "Staphylococcus epidermidis"
          ],
          [
           false,
           "Staphylococcus epidermidis"
          ],
          [
           false,
           "Staphylococcus epidermidis"
          ],
          [
           false,
           "Staphylococcus epidermidis"
          ],
          [
           true,
           "Staphylococcus epidermidis"
          ],
          [
           false,
           "Staphylococcus lugdunensis"
          ],
          [
           false,
           "Staphylococcus aureus"
          ],
          [
           false,
           "Staphylococcus aureus"
          ],
          [
           false,
           "Staphylococcus aureus"
          ],
          [
           false,
           "Staphylococcus aureus"
          ],
          [
           false,
           "Staphylococcus aureus"
          ],
          [
           false,
           "Staphylococcus aureus"
          ],
          [
           false,
           "Staphylococcus aureus"
          ],
          [
           false,
           "Staphylococcus aureus"
          ],
          [
           false,
           "Staphylococcus aureus"
          ],
          [
           false,
           "Staphylococcus aureus"
          ],
          [
           false,
           "Staphylococcus aureus"
          ],
          [
           false,
           "Staphylococcus aureus"
          ],
          [
           false,
           "Staphylococcus aureus"
          ],
          [
           false,
           "Staphylococcus aureus"
          ],
          [
           false,
           "Staphylococcus aureus"
          ],
          [
           true,
           "Staphylococcus aureus"
          ],
          [
           false,
           "Staphylococcus aureus"
          ],
          [
           false,
           "Staphylococcus aureus"
          ],
          [
           false,
           "Staphylococcus aureus"
          ],
          [
           true,
           "Staphylococcus aureus"
          ],
          [
           true,
           "Staphylococcus aureus"
          ],
          [
           true,
           "Staphylococcus epidermidis"
          ],
          [
           true,
           "Staphylococcus epidermidis"
          ],
          [
           true,
           "Staphylococcus epidermidis"
          ],
          [
           false,
           "Streptococcus pneumoniae"
          ],
          [
           false,
           "Streptococcus pneumoniae"
          ],
          [
           false,
           "Streptococcus pneumoniae"
          ],
          [
           false,
           "Streptococcus pneumoniae"
          ],
          [
           false,
           "Streptococcus pneumoniae"
          ],
          [
           false,
           "Staphylococcus aureus"
          ],
          [
           false,
           "Staphylococcus aureus"
          ],
          [
           true,
           "Staphylococcus aureus"
          ],
          [
           false,
           "Staphylococcus aureus"
          ],
          [
           true,
           "Staphylococcus aureus"
          ],
          [
           true,
           "Staphylococcus aureus"
          ],
          [
           true,
           "Staphylococcus aureus"
          ],
          [
           true,
           "Staphylococcus aureus"
          ],
          [
           false,
           "Staphylococcus aureus"
          ],
          [
           true,
           "Staphylococcus capitis"
          ],
          [
           true,
           "Staphylococcus capitis"
          ],
          [
           true,
           "Staphylococcus epidermidis"
          ],
          [
           false,
           "Staphylococcus epidermidis"
          ],
          [
           true,
           "Staphylococcus epidermidis"
          ],
          [
           false,
           "Staphylococcus epidermidis"
          ],
          [
           false,
           "Staphylococcus epidermidis"
          ],
          [
           false,
           "Staphylococcus epidermidis"
          ],
          [
           true,
           "Staphylococcus epidermidis"
          ],
          [
           true,
           "Staphylococcus epidermidis"
          ],
          [
           false,
           "Staphylococcus epidermidis"
          ],
          [
           true,
           "Staphylococcus epidermidis"
          ],
          [
           true,
           "Staphylococcus epidermidis"
          ],
          [
           true,
           "Staphylococcus hominis"
          ],
          [
           false,
           "Staphylococcus hominis"
          ],
          [
           false,
           "Staphylococcus hominis"
          ],
          [
           true,
           "Staphylococcus hominis"
          ],
          [
           true,
           "Staphylococcus hominis"
          ],
          [
           true,
           "Staphylococcus hominis"
          ],
          [
           false,
           "Streptococcus pneumoniae"
          ],
          [
           false,
           "Streptococcus pneumoniae"
          ],
          [
           false,
           "Streptococcus pneumoniae"
          ],
          [
           true,
           "Streptococcus pneumoniae"
          ],
          [
           false,
           "Streptococcus pneumoniae"
          ],
          [
           false,
           "Streptococcus pneumoniae"
          ],
          [
           false,
           "Streptococcus pneumoniae"
          ],
          [
           true,
           "Streptococcus pneumoniae"
          ],
          [
           false,
           "Streptococcus pneumoniae"
          ],
          [
           true,
           "Staphylococcus hominis"
          ],
          [
           false,
           "Staphylococcus hominis"
          ],
          [
           true,
           "Staphylococcus hominis"
          ],
          [
           true,
           "Staphylococcus hominis"
          ],
          [
           true,
           "Staphylococcus aureus"
          ],
          [
           true,
           "Staphylococcus aureus"
          ],
          [
           true,
           "Staphylococcus aureus"
          ],
          [
           false,
           "Staphylococcus aureus"
          ],
          [
           false,
           "Streptococcus pneumoniae"
          ],
          [
           false,
           "Streptococcus pneumoniae"
          ],
          [
           true,
           "Staphylococcus hominis"
          ],
          [
           true,
           "Staphylococcus lugdunensis"
          ],
          [
           true,
           "Staphylococcus lugdunensis"
          ],
          [
           false,
           "Streptococcus pneumoniae"
          ],
          [
           false,
           "Streptococcus pneumoniae"
          ],
          [
           false,
           "Streptococcus pneumoniae"
          ],
          [
           false,
           "Streptococcus pneumoniae"
          ],
          [
           false,
           "Streptococcus pneumoniae"
          ],
          [
           false,
           "Streptococcus pneumoniae"
          ],
          [
           false,
           "Streptococcus pneumoniae"
          ],
          [
           false,
           "Streptococcus pneumoniae"
          ],
          [
           false,
           "Staphylococcus hominis"
          ],
          [
           true,
           "Staphylococcus hominis"
          ],
          [
           false,
           "Staphylococcus hominis"
          ],
          [
           false,
           "Streptococcus pneumoniae"
          ],
          [
           true,
           "Staphylococcus aureus"
          ],
          [
           true,
           "Staphylococcus aureus"
          ],
          [
           false,
           "Staphylococcus aureus"
          ],
          [
           false,
           "Staphylococcus aureus"
          ],
          [
           true,
           "Staphylococcus aureus"
          ],
          [
           false,
           "Staphylococcus epidermidis"
          ],
          [
           false,
           "Staphylococcus epidermidis"
          ],
          [
           false,
           "Staphylococcus epidermidis"
          ],
          [
           true,
           "Staphylococcus epidermidis"
          ],
          [
           true,
           "Staphylococcus aureus"
          ],
          [
           true,
           "Staphylococcus aureus"
          ],
          [
           true,
           "Staphylococcus aureus"
          ],
          [
           true,
           "Staphylococcus aureus"
          ],
          [
           true,
           "Staphylococcus aureus"
          ],
          [
           true,
           "Staphylococcus aureus"
          ],
          [
           true,
           "Staphylococcus aureus"
          ],
          [
           true,
           "Staphylococcus aureus"
          ],
          [
           true,
           "Staphylococcus aureus"
          ],
          [
           false,
           "Streptococcus pneumoniae"
          ],
          [
           false,
           "Streptococcus pneumoniae"
          ],
          [
           false,
           "Streptococcus pneumoniae"
          ],
          [
           true,
           "Staphylococcus aureus"
          ],
          [
           true,
           "Staphylococcus lugdunensis"
          ],
          [
           true,
           "Staphylococcus aureus"
          ],
          [
           true,
           "Staphylococcus aureus"
          ],
          [
           false,
           "Staphylococcus aureus"
          ],
          [
           true,
           "Staphylococcus aureus"
          ],
          [
           true,
           "Enterococcus faecium"
          ],
          [
           true,
           "Staphylococcus hominis"
          ],
          [
           true,
           "Staphylococcus hominis"
          ],
          [
           true,
           "Staphylococcus hominis"
          ],
          [
           true,
           "Staphylococcus hominis"
          ],
          [
           true,
           "Staphylococcus aureus"
          ],
          [
           true,
           "Staphylococcus aureus"
          ],
          [
           true,
           "Staphylococcus aureus"
          ],
          [
           true,
           "Staphylococcus aureus"
          ],
          [
           true,
           "Staphylococcus aureus"
          ],
          [
           true,
           "Staphylococcus aureus"
          ],
          [
           true,
           "Staphylococcus aureus"
          ],
          [
           true,
           "Staphylococcus aureus"
          ],
          [
           true,
           "Staphylococcus aureus"
          ],
          [
           false,
           "Staphylococcus aureus"
          ],
          [
           true,
           "Staphylococcus aureus"
          ],
          [
           true,
           "Staphylococcus aureus"
          ],
          [
           false,
           "Staphylococcus aureus"
          ],
          [
           true,
           "Staphylococcus aureus"
          ],
          [
           true,
           "Staphylococcus aureus"
          ],
          [
           false,
           "Staphylococcus aureus"
          ],
          [
           true,
           "Staphylococcus aureus"
          ],
          [
           true,
           "Staphylococcus epidermidis"
          ],
          [
           false,
           "Staphylococcus epidermidis"
          ],
          [
           false,
           "Staphylococcus epidermidis"
          ],
          [
           false,
           "Staphylococcus epidermidis"
          ],
          [
           true,
           "Staphylococcus epidermidis"
          ],
          [
           false,
           "Streptococcus pneumoniae"
          ],
          [
           true,
           "Staphylococcus aureus"
          ],
          [
           true,
           "Staphylococcus aureus"
          ],
          [
           true,
           "Staphylococcus aureus"
          ],
          [
           true,
           "Staphylococcus aureus"
          ],
          [
           true,
           "Staphylococcus aureus"
          ],
          [
           true,
           "Staphylococcus aureus"
          ],
          [
           true,
           "Staphylococcus aureus"
          ],
          [
           true,
           "Staphylococcus aureus"
          ],
          [
           true,
           "Staphylococcus aureus"
          ],
          [
           true,
           "Staphylococcus aureus"
          ],
          [
           true,
           "Staphylococcus aureus"
          ],
          [
           false,
           "Staphylococcus aureus"
          ],
          [
           false,
           "Staphylococcus aureus"
          ],
          [
           false,
           "Staphylococcus aureus"
          ],
          [
           true,
           "Staphylococcus aureus"
          ],
          [
           false,
           "Staphylococcus aureus"
          ],
          [
           false,
           "Staphylococcus aureus"
          ],
          [
           false,
           "Staphylococcus capitis"
          ],
          [
           false,
           "Staphylococcus epidermidis"
          ],
          [
           false,
           "Staphylococcus epidermidis"
          ],
          [
           false,
           "Staphylococcus epidermidis"
          ],
          [
           false,
           "Staphylococcus epidermidis"
          ],
          [
           false,
           "Staphylococcus epidermidis"
          ],
          [
           false,
           "Staphylococcus epidermidis"
          ],
          [
           false,
           "Staphylococcus epidermidis"
          ],
          [
           true,
           "Staphylococcus aureus"
          ],
          [
           true,
           "Staphylococcus capitis"
          ],
          [
           true,
           "Staphylococcus capitis"
          ],
          [
           true,
           "Staphylococcus hominis"
          ],
          [
           true,
           "Staphylococcus lugdunensis"
          ],
          [
           true,
           "Staphylococcus hominis"
          ],
          [
           true,
           "Staphylococcus aureus"
          ],
          [
           true,
           "Staphylococcus capitis"
          ],
          [
           false,
           "Staphylococcus epidermidis"
          ],
          [
           false,
           "Staphylococcus epidermidis"
          ],
          [
           false,
           "Staphylococcus epidermidis"
          ],
          [
           false,
           "Staphylococcus aureus"
          ],
          [
           true,
           "Staphylococcus aureus"
          ],
          [
           true,
           "Staphylococcus aureus"
          ],
          [
           false,
           "Staphylococcus aureus"
          ],
          [
           false,
           "Staphylococcus aureus"
          ],
          [
           false,
           "Staphylococcus aureus"
          ],
          [
           false,
           "Staphylococcus aureus"
          ],
          [
           false,
           "Staphylococcus aureus"
          ],
          [
           false,
           "Staphylococcus aureus"
          ],
          [
           false,
           "Staphylococcus aureus"
          ],
          [
           false,
           "Staphylococcus aureus"
          ],
          [
           true,
           "Staphylococcus aureus"
          ],
          [
           true,
           "Staphylococcus aureus"
          ],
          [
           true,
           "Staphylococcus aureus"
          ],
          [
           true,
           "Staphylococcus aureus"
          ],
          [
           false,
           "Staphylococcus epidermidis"
          ],
          [
           false,
           "Staphylococcus epidermidis"
          ],
          [
           false,
           "Staphylococcus epidermidis"
          ],
          [
           true,
           "Staphylococcus epidermidis"
          ],
          [
           true,
           "Staphylococcus epidermidis"
          ],
          [
           true,
           "Staphylococcus epidermidis"
          ],
          [
           true,
           "Staphylococcus epidermidis"
          ],
          [
           true,
           "Staphylococcus epidermidis"
          ],
          [
           true,
           "Staphylococcus epidermidis"
          ],
          [
           true,
           "Staphylococcus epidermidis"
          ],
          [
           true,
           "Staphylococcus hominis"
          ],
          [
           true,
           "Streptococcus pneumoniae"
          ],
          [
           true,
           "Streptococcus pneumoniae"
          ],
          [
           true,
           "Streptococcus pneumoniae"
          ],
          [
           true,
           "Streptococcus pneumoniae"
          ],
          [
           true,
           "Streptococcus pneumoniae"
          ],
          [
           false,
           "Streptococcus pyogenes"
          ],
          [
           true,
           "Streptococcus pneumoniae"
          ],
          [
           true,
           "Staphylococcus hominis"
          ],
          [
           true,
           "Staphylococcus aureus"
          ],
          [
           true,
           "Streptococcus pneumoniae"
          ],
          [
           true,
           "Streptococcus pneumoniae"
          ],
          [
           true,
           "Staphylococcus hominis"
          ],
          [
           true,
           "Staphylococcus hominis"
          ],
          [
           true,
           "Staphylococcus hominis"
          ],
          [
           true,
           "Staphylococcus hominis"
          ],
          [
           true,
           "Streptococcus pneumoniae"
          ],
          [
           true,
           "Staphylococcus hominis"
          ],
          [
           true,
           "Staphylococcus hominis"
          ],
          [
           false,
           "Streptococcus pyogenes"
          ],
          [
           true,
           "Staphylococcus aureus"
          ],
          [
           false,
           "Staphylococcus aureus"
          ],
          [
           true,
           "Staphylococcus aureus"
          ],
          [
           true,
           "Staphylococcus aureus"
          ],
          [
           false,
           "Staphylococcus epidermidis"
          ],
          [
           true,
           "Staphylococcus epidermidis"
          ],
          [
           false,
           "Staphylococcus epidermidis"
          ],
          [
           true,
           "Streptococcus pneumoniae"
          ],
          [
           true,
           "Streptococcus pneumoniae"
          ],
          [
           true,
           "Streptococcus pneumoniae"
          ],
          [
           true,
           "Streptococcus pneumoniae"
          ],
          [
           true,
           "Streptococcus pneumoniae"
          ],
          [
           false,
           "Staphylococcus aureus"
          ],
          [
           false,
           "Staphylococcus aureus"
          ],
          [
           false,
           "Staphylococcus aureus"
          ],
          [
           false,
           "Staphylococcus aureus"
          ],
          [
           false,
           "Staphylococcus aureus"
          ],
          [
           false,
           "Staphylococcus aureus"
          ],
          [
           false,
           "Staphylococcus aureus"
          ],
          [
           false,
           "Staphylococcus aureus"
          ],
          [
           false,
           "Staphylococcus aureus"
          ],
          [
           false,
           "Staphylococcus aureus"
          ],
          [
           false,
           "Staphylococcus aureus"
          ],
          [
           false,
           "Staphylococcus aureus"
          ],
          [
           false,
           "Staphylococcus aureus"
          ],
          [
           false,
           "Staphylococcus aureus"
          ],
          [
           false,
           "Staphylococcus aureus"
          ],
          [
           false,
           "Staphylococcus aureus"
          ],
          [
           false,
           "Staphylococcus aureus"
          ],
          [
           false,
           "Staphylococcus aureus"
          ],
          [
           false,
           "Staphylococcus aureus"
          ],
          [
           false,
           "Staphylococcus aureus"
          ],
          [
           false,
           "Staphylococcus aureus"
          ],
          [
           false,
           "Staphylococcus aureus"
          ],
          [
           false,
           "Staphylococcus aureus"
          ],
          [
           false,
           "Staphylococcus aureus"
          ],
          [
           false,
           "Streptococcus agalactiae"
          ],
          [
           false,
           "Streptococcus agalactiae"
          ],
          [
           false,
           "Streptococcus agalactiae"
          ],
          [
           false,
           "Streptococcus agalactiae"
          ],
          [
           false,
           "Streptococcus agalactiae"
          ],
          [
           false,
           "Streptococcus agalactiae"
          ],
          [
           false,
           "Streptococcus agalactiae"
          ],
          [
           false,
           "Streptococcus agalactiae"
          ],
          [
           false,
           "Streptococcus agalactiae"
          ],
          [
           false,
           "Streptococcus agalactiae"
          ],
          [
           false,
           "Streptococcus agalactiae"
          ],
          [
           false,
           "Staphylococcus epidermidis"
          ],
          [
           false,
           "Staphylococcus epidermidis"
          ],
          [
           false,
           "Staphylococcus capitis"
          ],
          [
           false,
           "Staphylococcus capitis"
          ],
          [
           false,
           "Staphylococcus capitis"
          ],
          [
           false,
           "Staphylococcus capitis"
          ],
          [
           false,
           "Staphylococcus capitis"
          ],
          [
           false,
           "Staphylococcus capitis"
          ],
          [
           false,
           "Staphylococcus epidermidis"
          ],
          [
           false,
           "Staphylococcus epidermidis"
          ],
          [
           false,
           "Staphylococcus epidermidis"
          ],
          [
           false,
           "Staphylococcus epidermidis"
          ],
          [
           false,
           "Staphylococcus epidermidis"
          ],
          [
           false,
           "Streptococcus agalactiae"
          ],
          [
           false,
           "Streptococcus agalactiae"
          ],
          [
           false,
           "Streptococcus agalactiae"
          ],
          [
           false,
           "Streptococcus agalactiae"
          ],
          [
           false,
           "Staphylococcus epidermidis"
          ],
          [
           false,
           "Staphylococcus epidermidis"
          ],
          [
           false,
           "Staphylococcus epidermidis"
          ],
          [
           false,
           "Staphylococcus epidermidis"
          ],
          [
           false,
           "Staphylococcus epidermidis"
          ],
          [
           false,
           "Staphylococcus epidermidis"
          ],
          [
           false,
           "Staphylococcus epidermidis"
          ],
          [
           false,
           "Staphylococcus epidermidis"
          ],
          [
           false,
           "Staphylococcus epidermidis"
          ],
          [
           false,
           "Staphylococcus epidermidis"
          ],
          [
           false,
           "Staphylococcus epidermidis"
          ],
          [
           false,
           "Staphylococcus epidermidis"
          ],
          [
           false,
           "Staphylococcus epidermidis"
          ],
          [
           false,
           "Staphylococcus epidermidis"
          ],
          [
           false,
           "Staphylococcus epidermidis"
          ],
          [
           false,
           "Staphylococcus epidermidis"
          ],
          [
           false,
           "Staphylococcus epidermidis"
          ],
          [
           false,
           "Staphylococcus epidermidis"
          ],
          [
           false,
           "Staphylococcus epidermidis"
          ],
          [
           false,
           "Staphylococcus epidermidis"
          ],
          [
           false,
           "Staphylococcus epidermidis"
          ],
          [
           false,
           "Staphylococcus aureus"
          ],
          [
           false,
           "Staphylococcus epidermidis"
          ],
          [
           false,
           "Staphylococcus epidermidis"
          ],
          [
           false,
           "Staphylococcus epidermidis"
          ],
          [
           false,
           "Staphylococcus epidermidis"
          ],
          [
           false,
           "Staphylococcus epidermidis"
          ],
          [
           false,
           "Staphylococcus epidermidis"
          ],
          [
           false,
           "Staphylococcus epidermidis"
          ],
          [
           false,
           "Staphylococcus epidermidis"
          ],
          [
           false,
           "Staphylococcus epidermidis"
          ],
          [
           false,
           "Staphylococcus epidermidis"
          ],
          [
           false,
           "Staphylococcus hominis"
          ],
          [
           false,
           "Staphylococcus epidermidis"
          ],
          [
           false,
           "Staphylococcus hominis"
          ],
          [
           false,
           "Staphylococcus hominis"
          ],
          [
           false,
           "Staphylococcus hominis"
          ],
          [
           false,
           "Staphylococcus hominis"
          ],
          [
           false,
           "Staphylococcus hominis"
          ],
          [
           false,
           "Staphylococcus hominis"
          ],
          [
           false,
           "Staphylococcus hominis"
          ],
          [
           false,
           "Staphylococcus hominis"
          ],
          [
           false,
           "Staphylococcus hominis"
          ],
          [
           false,
           "Streptococcus pneumoniae"
          ],
          [
           false,
           "Streptococcus pneumoniae"
          ],
          [
           false,
           "Streptococcus pneumoniae"
          ],
          [
           false,
           "Streptococcus pneumoniae"
          ],
          [
           false,
           "Streptococcus pneumoniae"
          ],
          [
           false,
           "Streptococcus pyogenes"
          ],
          [
           false,
           "Streptococcus pyogenes"
          ],
          [
           false,
           "Streptococcus pyogenes"
          ],
          [
           false,
           "Streptococcus pneumoniae"
          ],
          [
           false,
           "Streptococcus pyogenes"
          ],
          [
           false,
           "Streptococcus pyogenes"
          ],
          [
           false,
           "Streptococcus pyogenes"
          ],
          [
           false,
           "Streptococcus pyogenes"
          ],
          [
           false,
           "Streptococcus pyogenes"
          ],
          [
           false,
           "Streptococcus pyogenes"
          ],
          [
           false,
           "Staphylococcus hominis"
          ],
          [
           false,
           "Staphylococcus hominis"
          ],
          [
           false,
           "Staphylococcus hominis"
          ],
          [
           false,
           "Staphylococcus hominis"
          ],
          [
           false,
           "Staphylococcus hominis"
          ],
          [
           false,
           "Staphylococcus hominis"
          ],
          [
           false,
           "Staphylococcus aureus"
          ],
          [
           false,
           "Staphylococcus aureus"
          ],
          [
           false,
           "Staphylococcus aureus"
          ],
          [
           false,
           "Staphylococcus aureus"
          ],
          [
           false,
           "Staphylococcus aureus"
          ],
          [
           false,
           "Staphylococcus aureus"
          ],
          [
           false,
           "Staphylococcus aureus"
          ],
          [
           false,
           "Staphylococcus aureus"
          ],
          [
           false,
           "Staphylococcus aureus"
          ],
          [
           false,
           "Staphylococcus aureus"
          ],
          [
           false,
           "Staphylococcus aureus"
          ],
          [
           false,
           "Staphylococcus aureus"
          ],
          [
           false,
           "Staphylococcus aureus"
          ],
          [
           false,
           "Staphylococcus aureus"
          ],
          [
           false,
           "Staphylococcus aureus"
          ],
          [
           false,
           "Staphylococcus capitis"
          ],
          [
           false,
           "Streptococcus pneumoniae"
          ],
          [
           false,
           "Streptococcus agalactiae"
          ],
          [
           false,
           "Staphylococcus hominis"
          ],
          [
           false,
           "Staphylococcus hominis"
          ],
          [
           false,
           "Staphylococcus hominis"
          ],
          [
           false,
           "Staphylococcus hominis"
          ],
          [
           false,
           "Staphylococcus hominis"
          ],
          [
           false,
           "Staphylococcus hominis"
          ],
          [
           false,
           "Streptococcus agalactiae"
          ],
          [
           false,
           "Staphylococcus hominis"
          ],
          [
           false,
           "Staphylococcus hominis"
          ],
          [
           false,
           "Staphylococcus hominis"
          ],
          [
           false,
           "Staphylococcus lugdunensis"
          ],
          [
           false,
           "Staphylococcus lugdunensis"
          ],
          [
           false,
           "Streptococcus agalactiae"
          ],
          [
           false,
           "Streptococcus agalactiae"
          ],
          [
           false,
           "Streptococcus agalactiae"
          ],
          [
           false,
           "Streptococcus agalactiae"
          ],
          [
           false,
           "Streptococcus agalactiae"
          ],
          [
           false,
           "Streptococcus agalactiae"
          ],
          [
           false,
           "Streptococcus agalactiae"
          ],
          [
           false,
           "Streptococcus agalactiae"
          ],
          [
           false,
           "Streptococcus pneumoniae"
          ],
          [
           false,
           "Streptococcus pneumoniae"
          ],
          [
           false,
           "Streptococcus pneumoniae"
          ],
          [
           false,
           "Streptococcus pneumoniae"
          ],
          [
           false,
           "Streptococcus pneumoniae"
          ],
          [
           false,
           "Streptococcus pneumoniae"
          ],
          [
           false,
           "Streptococcus pneumoniae"
          ],
          [
           false,
           "Streptococcus pneumoniae"
          ],
          [
           false,
           "Staphylococcus hominis"
          ],
          [
           false,
           "Staphylococcus hominis"
          ],
          [
           false,
           "Staphylococcus hominis"
          ],
          [
           false,
           "Streptococcus agalactiae"
          ],
          [
           false,
           "Streptococcus pneumoniae"
          ],
          [
           false,
           "Streptococcus pyogenes"
          ],
          [
           false,
           "Streptococcus pyogenes"
          ],
          [
           false,
           "Streptococcus pyogenes"
          ],
          [
           false,
           "Streptococcus pyogenes"
          ],
          [
           false,
           "Streptococcus pyogenes"
          ],
          [
           false,
           "Streptococcus pyogenes"
          ],
          [
           false,
           "Streptococcus pyogenes"
          ],
          [
           false,
           "Streptococcus pyogenes"
          ],
          [
           false,
           "Streptococcus pyogenes"
          ],
          [
           false,
           "Streptococcus pyogenes"
          ],
          [
           false,
           "Streptococcus pyogenes"
          ],
          [
           false,
           "Streptococcus pyogenes"
          ],
          [
           false,
           "Staphylococcus aureus"
          ],
          [
           false,
           "Staphylococcus aureus"
          ],
          [
           false,
           "Staphylococcus aureus"
          ],
          [
           false,
           "Staphylococcus aureus"
          ],
          [
           false,
           "Staphylococcus aureus"
          ],
          [
           false,
           "Staphylococcus aureus"
          ],
          [
           false,
           "Staphylococcus aureus"
          ],
          [
           false,
           "Staphylococcus aureus"
          ],
          [
           false,
           "Staphylococcus aureus"
          ],
          [
           false,
           "Staphylococcus aureus"
          ],
          [
           false,
           "Staphylococcus aureus"
          ],
          [
           false,
           "Staphylococcus aureus"
          ],
          [
           false,
           "Staphylococcus aureus"
          ],
          [
           false,
           "Staphylococcus aureus"
          ],
          [
           false,
           "Staphylococcus aureus"
          ],
          [
           false,
           "Staphylococcus capitis"
          ],
          [
           false,
           "Staphylococcus lugdunensis"
          ],
          [
           false,
           "Staphylococcus lugdunensis"
          ],
          [
           false,
           "Staphylococcus lugdunensis"
          ],
          [
           false,
           "Staphylococcus lugdunensis"
          ],
          [
           false,
           "Staphylococcus lugdunensis"
          ],
          [
           false,
           "Staphylococcus lugdunensis"
          ],
          [
           false,
           "Staphylococcus epidermidis"
          ],
          [
           false,
           "Staphylococcus epidermidis"
          ],
          [
           false,
           "Staphylococcus epidermidis"
          ],
          [
           false,
           "Staphylococcus epidermidis"
          ],
          [
           false,
           "Staphylococcus epidermidis"
          ],
          [
           false,
           "Staphylococcus epidermidis"
          ],
          [
           false,
           "Staphylococcus epidermidis"
          ],
          [
           false,
           "Staphylococcus lugdunensis"
          ],
          [
           false,
           "Staphylococcus aureus"
          ],
          [
           false,
           "Staphylococcus aureus"
          ],
          [
           false,
           "Staphylococcus aureus"
          ],
          [
           false,
           "Staphylococcus aureus"
          ],
          [
           false,
           "Staphylococcus aureus"
          ],
          [
           false,
           "Staphylococcus aureus"
          ],
          [
           false,
           "Staphylococcus aureus"
          ],
          [
           false,
           "Staphylococcus aureus"
          ],
          [
           false,
           "Staphylococcus aureus"
          ],
          [
           false,
           "Staphylococcus aureus"
          ],
          [
           false,
           "Staphylococcus aureus"
          ],
          [
           false,
           "Staphylococcus aureus"
          ],
          [
           false,
           "Staphylococcus aureus"
          ],
          [
           false,
           "Staphylococcus aureus"
          ],
          [
           false,
           "Staphylococcus aureus"
          ],
          [
           false,
           "Staphylococcus aureus"
          ],
          [
           false,
           "Staphylococcus aureus"
          ],
          [
           false,
           "Staphylococcus aureus"
          ],
          [
           false,
           "Staphylococcus aureus"
          ],
          [
           false,
           "Staphylococcus aureus"
          ],
          [
           false,
           "Staphylococcus aureus"
          ],
          [
           false,
           "Staphylococcus aureus"
          ],
          [
           false,
           "Staphylococcus aureus"
          ],
          [
           false,
           "Staphylococcus aureus"
          ],
          [
           false,
           "Staphylococcus aureus"
          ],
          [
           false,
           "Staphylococcus aureus"
          ],
          [
           false,
           "Staphylococcus aureus"
          ],
          [
           false,
           "Staphylococcus aureus"
          ],
          [
           false,
           "Staphylococcus aureus"
          ],
          [
           false,
           "Staphylococcus aureus"
          ],
          [
           false,
           "Streptococcus pneumoniae"
          ],
          [
           false,
           "Streptococcus pneumoniae"
          ],
          [
           false,
           "Streptococcus pneumoniae"
          ],
          [
           false,
           "Streptococcus pneumoniae"
          ],
          [
           false,
           "Streptococcus pneumoniae"
          ],
          [
           false,
           "Staphylococcus haemolyticus"
          ],
          [
           false,
           "Staphylococcus haemolyticus"
          ],
          [
           false,
           "Staphylococcus haemolyticus"
          ],
          [
           false,
           "Staphylococcus haemolyticus"
          ],
          [
           false,
           "Staphylococcus warneri"
          ],
          [
           false,
           "Staphylococcus warneri"
          ],
          [
           false,
           "Staphylococcus warneri"
          ],
          [
           false,
           "Staphylococcus warneri"
          ],
          [
           false,
           "Staphylococcus aureus"
          ],
          [
           false,
           "Staphylococcus aureus"
          ],
          [
           false,
           "Staphylococcus aureus"
          ],
          [
           false,
           "Staphylococcus aureus"
          ]
         ],
         "hovertemplate": "<b>%{hovertext}</b><br><br>SIR=Resistant<br>Log2(MIC-value)=%{y:.0f}<br>Scale=%{customdata[0]}<br>Pathogen=%{customdata[1]}<extra></extra>",
         "hovertext": [
          "QM307",
          "QM321",
          "QM398",
          "QM518",
          "QM980",
          "QM982",
          "QM984",
          "QM985",
          "QM986",
          "QM988",
          "QM989",
          "QM990",
          "QM991",
          "QM993",
          "QM397",
          "QM995",
          "QM992",
          "QM996",
          "QM997",
          "QM994",
          "HV447",
          "QM262",
          "QM322",
          "HV480",
          "QM998",
          "QM134",
          "BAR052",
          "QM805",
          "QM806",
          "QM807",
          "HV985",
          "QM1325",
          "QM1326",
          "QM1327",
          "QM1358",
          "QM1359",
          "QM1360",
          "QM1362",
          "QM1364",
          "QM1366",
          "QM1367",
          "QM1368",
          "QM1369",
          "QM1370",
          "QM1379",
          "QM1385",
          "QM1388",
          "QM1450",
          "QM1452",
          "QM1406",
          "PER152",
          "QM960",
          "BAR066",
          "QM1491",
          "QM1492",
          "AR0561",
          "AR0562",
          "AR0563",
          "AR0564",
          "AR0565",
          "AR0566",
          "AR0462",
          "AR0465",
          "AR0467",
          "AR0468",
          "AR0469",
          "AR0470",
          "AR0472",
          "AR0474",
          "AR0475",
          "AR0476",
          "AR0477",
          "AR0478",
          "AR0479",
          "AR0480",
          "QM1259",
          "QM1261",
          "QM1269",
          "AR0215",
          "AR0216",
          "AR0217",
          "AR0218",
          "AR0219",
          "AR0220",
          "AR0222",
          "AR0481",
          "AR0482",
          "AR0483",
          "AR0485",
          "AR0486",
          "AR0490",
          "AR0223",
          "AR0224",
          "AR0225",
          "AR0226",
          "AR0227",
          "AR0228",
          "AR0701",
          "AR0702",
          "AR0703",
          "AR0704",
          "AR0705",
          "AR0708",
          "AR0709",
          "AR0711",
          "AR0712",
          "AR0713",
          "AR0715",
          "AR0716",
          "AR0717",
          "AR0718",
          "AR0719",
          "AR0721",
          "AR0722",
          "AR0723",
          "AR0724",
          "QM027",
          "QM326",
          "QM328",
          "QM402",
          "QM1485",
          "QM1324",
          "AR0567",
          "AR0568",
          "AR0570",
          "HV519",
          "PER107",
          "HV772",
          "PER110",
          "QM867",
          "PER108",
          "PER104",
          "QM292",
          "QM312",
          "QM295",
          "QM068",
          "HV896",
          "HV510",
          "QM134",
          "QM1333",
          "HV985",
          "QM1248",
          "QM1250",
          "QM1252",
          "QM1253",
          "QM1254",
          "QM1255",
          "QM1288",
          "QM1289",
          "QM1308",
          "QM1309",
          "QM1310",
          "QM1311",
          "QM1312",
          "QM1313",
          "QM1314",
          "QM1315",
          "QM1316",
          "QM1317",
          "QM1373",
          "QM1406",
          "QM152",
          "BAR064",
          "QM1387",
          "QM1522",
          "QM1523",
          "QM1524",
          "QM1525",
          "QM1526",
          "QM1527",
          "QM1528",
          "QM1530",
          "QM1531",
          "QM872",
          "BAR066",
          "QM1489",
          "QM1491",
          "AR0572",
          "AR0575",
          "QM1483",
          "QM1485",
          "QM067",
          "AR0703",
          "AR0703",
          "QM134",
          "QM1406",
          "BAR064",
          "QM871",
          "BAR066",
          "QM1489",
          "QM1491",
          "QM1492",
          "QM027",
          "QM1483",
          "QM1485",
          "QM1486",
          "QM286",
          "HV519",
          "QM076",
          "PER107",
          "HV772",
          "PER110",
          "QM867",
          "PER108",
          "PER104",
          "QM292",
          "QM312",
          "QM295",
          "QM068",
          "HV896",
          "HV510",
          "QM1248",
          "QM1250",
          "QM1252",
          "QM1253",
          "QM1254",
          "QM1255",
          "QM1288",
          "QM1289",
          "QM1308",
          "QM1309",
          "QM1310",
          "QM1311",
          "QM1312",
          "QM1313",
          "QM1314",
          "QM1315",
          "QM1316",
          "QM1317",
          "QM1373",
          "QM1522",
          "QM1523",
          "QM1524",
          "QM1525",
          "QM1526",
          "QM1527",
          "QM1528",
          "QM1530",
          "QM1531",
          "QM1249",
          "AR0572",
          "AR0575",
          "QM067",
          "QM134",
          "QM307",
          "QM321",
          "QM398",
          "QM518",
          "QM980",
          "QM982",
          "QM984",
          "QM985",
          "QM986",
          "QM988",
          "QM989",
          "QM990",
          "QM991",
          "QM993",
          "QM397",
          "QM995",
          "QM992",
          "QM996",
          "QM997",
          "QM994",
          "HV447",
          "QM262",
          "QM322",
          "HV480",
          "QM308",
          "QM998",
          "HV109",
          "HV116",
          "QM899",
          "BAR002",
          "BAR003",
          "HV119",
          "HV136",
          "HV205",
          "HV254",
          "HV884",
          "HV950",
          "HV953",
          "HV983",
          "HV455",
          "HV462",
          "HV498",
          "HV521",
          "HV523",
          "HV538",
          "HV594",
          "HV283",
          "HV285",
          "HV326",
          "HV413",
          "HV416",
          "BAR052",
          "QM351",
          "QM365",
          "QM370",
          "QM373",
          "QM380",
          "QM381",
          "QM957",
          "QM958",
          "QM968",
          "QM977",
          "HV245",
          "HV262",
          "HV277",
          "HV599",
          "QM1358",
          "QM1366",
          "QM1368",
          "QM1369",
          "QM1263",
          "QM1264",
          "QM971",
          "HV987",
          "QM093",
          "QM1270",
          "QM1271",
          "QM1272",
          "QM1273",
          "HV813",
          "HV820",
          "HV88",
          "AR0561",
          "AR0562",
          "AR0564",
          "AR0565",
          "AR0566",
          "AR0461",
          "AR0462",
          "AR0465",
          "AR0467",
          "AR0468",
          "AR0469",
          "AR0474",
          "AR0479",
          "AR0480",
          "QM1265",
          "QM1258",
          "HV678",
          "HV733",
          "HV734",
          "HV744",
          "HV901",
          "AR0215",
          "AR0216",
          "AR0217",
          "AR0218",
          "AR0219",
          "AR0220",
          "AR0222",
          "AR0482",
          "AR0483",
          "AR0485",
          "AR0486",
          "AR0223",
          "AR0224",
          "AR0225",
          "AR0227",
          "AR0228",
          "AR0701",
          "AR0702",
          "AR0703",
          "AR0705",
          "AR0706",
          "AR0707",
          "AR0708",
          "AR0709",
          "AR0710",
          "AR0711",
          "AR0712",
          "AR0713",
          "AR0714",
          "AR0715",
          "AR0716",
          "AR0717",
          "AR0718",
          "AR0719",
          "AR0720",
          "AR0721",
          "AR0722",
          "AR0723",
          "AR0724",
          "AR0726",
          "AR0727",
          "AR0728",
          "AR0729",
          "AR0730",
          "AR0567",
          "AR0568",
          "AR0570",
          "PER128",
          "QM1546",
          "QM326",
          "QM397",
          "QM992",
          "AR0461",
          "AR0462",
          "AR0465",
          "AR0467",
          "AR0468",
          "AR0474",
          "AR0215",
          "AR0216",
          "AR0217",
          "AR0218",
          "AR0219",
          "AR0221",
          "AR0223",
          "AR0224",
          "AR0225",
          "AR0226",
          "AR0227",
          "AR0228",
          "QM076",
          "QM294",
          "PER107",
          "QM319",
          "QM867",
          "PER108",
          "QM397",
          "QM992",
          "PER104",
          "QM295",
          "HV146",
          "HV953",
          "BAR032",
          "HV245",
          "HV985",
          "QM1248",
          "QM1252",
          "QM1289",
          "QM1312",
          "QM1317",
          "QM1391",
          "QM1523",
          "QM1524",
          "QM1525",
          "QM1526",
          "QM1527",
          "QM1528",
          "QM1531",
          "QM1249",
          "AR0465",
          "AR0467",
          "AR0468",
          "AR0215",
          "AR0216",
          "AR0217",
          "AR0218",
          "AR0219",
          "AR0220",
          "AR0486",
          "AR0223",
          "AR0224",
          "AR0227",
          "AR0572",
          "AR0575",
          "AR0727",
          "AR0729",
          "QM402",
          "QM067",
          "QM286",
          "QM065",
          "QM076",
          "QM294",
          "PER107",
          "QM319",
          "PER110",
          "QM867",
          "PER108",
          "QM397",
          "QM992",
          "PER104",
          "QM292",
          "QM312",
          "QM295",
          "QM068",
          "BAR032",
          "HV985",
          "QM1248",
          "QM1250",
          "QM1252",
          "QM1253",
          "QM1254",
          "QM1255",
          "QM1288",
          "QM1289",
          "QM1308",
          "QM1309",
          "QM1310",
          "QM1311",
          "QM1312",
          "QM1313",
          "QM1314",
          "QM1316",
          "QM1317",
          "QM1391",
          "QM1523",
          "QM1524",
          "QM1525",
          "QM1526",
          "QM1527",
          "QM1528",
          "QM1531",
          "QM1249",
          "AR0462",
          "AR0465",
          "AR0467",
          "AR0468",
          "AR0474",
          "AR0215",
          "AR0216",
          "AR0217",
          "AR0218",
          "AR0219",
          "AR0220",
          "AR0221",
          "AR0222",
          "AR0223",
          "AR0224",
          "AR0227",
          "AR0228",
          "AR0572",
          "AR0575",
          "QM402",
          "QM067",
          "QM321",
          "QM985",
          "QM986",
          "QM988",
          "QM989",
          "QM991",
          "QM993",
          "QM397",
          "QM995",
          "QM996",
          "HV447",
          "QM262",
          "QM322",
          "QM323",
          "QM308",
          "PER128",
          "QM1007",
          "QM1008",
          "QM1010",
          "QM1011",
          "QM1013",
          "QM1014",
          "QM1015",
          "QM886",
          "BAR006",
          "BAR008",
          "HV109",
          "HV116",
          "QM895",
          "QM897",
          "QM899",
          "BAR001",
          "BAR002",
          "BAR003",
          "HV119",
          "HV136",
          "HV156",
          "HV205",
          "HV254",
          "BAR018",
          "BAR019",
          "BAR023",
          "BAR024",
          "HV884",
          "HV912",
          "HV950",
          "HV953",
          "HV975",
          "QM034",
          "QM088",
          "QM089",
          "HV455",
          "HV462",
          "HV498",
          "HV521",
          "HV523",
          "HV538",
          "HV559",
          "HV594",
          "HV615",
          "HV283",
          "HV285",
          "HV326",
          "HV413",
          "HV416",
          "BAR052",
          "BAR059",
          "QM351",
          "QM359",
          "QM365",
          "QM370",
          "QM373",
          "QM380",
          "QM381",
          "QM957",
          "QM958",
          "QM968",
          "QM970",
          "QM977",
          "HV103",
          "HV107",
          "HV114",
          "HV245",
          "HV262",
          "HV271",
          "HV277",
          "HV330",
          "HV412",
          "HV414",
          "QM803",
          "QM804",
          "QM805",
          "QM806",
          "QM807",
          "QM808",
          "QM810",
          "BAR026",
          "QM1002",
          "QM878",
          "QM879",
          "PER134",
          "QM880",
          "QM882",
          "QM883",
          "QM884",
          "PER159",
          "BAR009",
          "HV740",
          "HV753",
          "HV448",
          "HV500",
          "HV508",
          "HV517",
          "HV599",
          "QM1325",
          "QM1327",
          "QM1358",
          "QM1359",
          "QM1360",
          "QM1362",
          "QM1364",
          "QM1366",
          "QM1367",
          "QM1368",
          "QM1369",
          "QM1370",
          "QM1379",
          "QM1385",
          "QM1388",
          "QM1450",
          "QM1452",
          "QM1263",
          "QM325",
          "QM1440",
          "QM1353",
          "QM971",
          "HV986",
          "HV987",
          "QM093",
          "QM963",
          "QM964",
          "QM1533",
          "QM1270",
          "QM1271",
          "QM1273",
          "QM887",
          "QM960",
          "QM1536",
          "QM1537",
          "QM1539",
          "QM1540",
          "QM1541",
          "QM1542",
          "QM1543",
          "QM1545",
          "QM1456",
          "QM1457",
          "QM1460",
          "QM1461",
          "QM1464",
          "QM1468",
          "QM1469",
          "QM1470",
          "HV794",
          "HV813",
          "HV820",
          "HV88",
          "HV902",
          "QM1546",
          "QM1574",
          "QM1547",
          "QM1549",
          "QM1551",
          "QM1552",
          "QM1554",
          "QM1555",
          "QM1556",
          "QM1557",
          "QM1558",
          "QM1559",
          "QM1561",
          "QM1565",
          "AR0562",
          "AR0563",
          "AR0564",
          "AR0565",
          "AR0461",
          "AR0465",
          "AR0467",
          "AR0468",
          "AR0469",
          "AR0470",
          "AR0472",
          "AR0474",
          "AR0475",
          "AR0476",
          "AR0477",
          "AR0478",
          "AR0479",
          "AR0480",
          "QM1265",
          "QM1259",
          "QM1260",
          "QM1261",
          "QM1262",
          "QM1267",
          "QM1269",
          "HV678",
          "HV733",
          "HV734",
          "HV744",
          "HV754",
          "HV773",
          "HV901",
          "BAR040",
          "AR0215",
          "AR0216",
          "AR0218",
          "AR0219",
          "AR0220",
          "AR0481",
          "AR0482",
          "AR0483",
          "AR0485",
          "AR0486",
          "AR0490",
          "AR0224",
          "AR0225",
          "AR0226",
          "AR0227",
          "AR0228",
          "AR0703",
          "AR0704",
          "AR0705",
          "AR0706",
          "AR0707",
          "AR0708",
          "AR0709",
          "AR0710",
          "AR0711",
          "AR0712",
          "AR0713",
          "AR0714",
          "AR0715",
          "AR0716",
          "AR0717",
          "AR0718",
          "AR0719",
          "AR0721",
          "AR0722",
          "AR0723",
          "AR0724",
          "AR0726",
          "AR0727",
          "AR0728",
          "AR0729",
          "AR0730",
          "QM025",
          "QM026",
          "QM027",
          "QM326",
          "QM328",
          "QM329",
          "QM402",
          "QM1324",
          "AR0567",
          "AR0568",
          "AR0570",
          "QM985",
          "QM986",
          "QM988",
          "QM989",
          "QM991",
          "QM993",
          "QM397",
          "QM995",
          "QM996",
          "QM262",
          "QM323",
          "QM1007",
          "QM1008",
          "QM1010",
          "QM1011",
          "QM1014",
          "QM1015",
          "QM886",
          "BAR006",
          "BAR008",
          "HV109",
          "HV116",
          "QM895",
          "QM897",
          "QM899",
          "BAR001",
          "BAR002",
          "BAR003",
          "HV119",
          "HV136",
          "HV156",
          "BAR018",
          "BAR019",
          "BAR023",
          "HV912",
          "HV950",
          "HV953",
          "HV975",
          "QM034",
          "QM088",
          "QM089",
          "HV498",
          "HV523",
          "HV559",
          "HV594",
          "HV283",
          "HV413",
          "QM351",
          "QM359",
          "QM365",
          "QM370",
          "QM373",
          "QM380",
          "QM381",
          "QM957",
          "QM958",
          "QM968",
          "QM970",
          "QM977",
          "HV330",
          "QM803",
          "QM804",
          "QM806",
          "QM810",
          "QM879",
          "PER134",
          "QM880",
          "PER159",
          "BAR009",
          "HV448",
          "QM1358",
          "QM1366",
          "QM1369",
          "QM1450",
          "QM1263",
          "QM325",
          "QM1440",
          "QM971",
          "QM093",
          "QM963",
          "QM964",
          "QM1533",
          "QM1270",
          "QM1271",
          "QM1272",
          "QM1273",
          "QM960",
          "QM1537",
          "QM1540",
          "QM1541",
          "QM1542",
          "QM1543",
          "QM1545",
          "QM1456",
          "QM1457",
          "QM1460",
          "QM1461",
          "QM1464",
          "QM1468",
          "QM1469",
          "QM1470",
          "HV820",
          "QM1574",
          "QM1547",
          "QM1551",
          "QM1555",
          "QM1565",
          "AR0562",
          "AR0564",
          "AR0565",
          "AR0461",
          "AR0469",
          "AR0474",
          "QM1265",
          "QM1259",
          "QM1260",
          "QM1261",
          "QM1262",
          "HV678",
          "HV733",
          "HV734",
          "HV744",
          "HV754",
          "HV773",
          "HV901",
          "BAR040",
          "AR0215",
          "AR0218",
          "AR0219",
          "AR0220",
          "AR0483",
          "AR0485",
          "AR0486",
          "AR0227",
          "AR0228",
          "AR0703",
          "AR0707",
          "AR0709",
          "AR0710",
          "AR0711",
          "AR0712",
          "AR0716",
          "AR0717",
          "AR0718",
          "AR0719",
          "AR0720",
          "AR0721",
          "AR0728",
          "AR0729",
          "AR0730",
          "QM025",
          "QM027",
          "QM326",
          "QM328",
          "QM402",
          "AR0567",
          "AR0570",
          "QM518",
          "QM985",
          "QM397",
          "QM992",
          "QM262",
          "QM322",
          "QM308",
          "QM086",
          "QM899",
          "HV156",
          "HV205",
          "HV884",
          "HV975",
          "QM034",
          "HV462",
          "HV538",
          "HV594",
          "HV615",
          "HV416",
          "QM958",
          "HV103",
          "HV107",
          "HV271",
          "HV330",
          "HV412",
          "HV414",
          "QM803",
          "QM804",
          "QM805",
          "QM806",
          "QM807",
          "QM808",
          "QM810",
          "BAR026",
          "PER134",
          "HV753",
          "HV500",
          "HV508",
          "HV517",
          "QM1326",
          "QM1362",
          "QM1367",
          "QM1450",
          "QM325",
          "QM1353",
          "HV987",
          "QM889",
          "QM894",
          "QM1456",
          "QM1457",
          "QM1460",
          "QM1461",
          "QM1464",
          "QM1468",
          "QM1469",
          "QM1470",
          "HV794",
          "HV813",
          "HV820",
          "QM1574",
          "AR0561",
          "AR0562",
          "AR0565",
          "AR0470",
          "AR0480",
          "HV733",
          "HV734",
          "HV744",
          "HV901",
          "AR0219",
          "AR0222",
          "AR0701",
          "AR0702",
          "AR0707",
          "AR0710",
          "AR0718",
          "AR0720",
          "AR0722",
          "QM025",
          "QM027",
          "QM326",
          "QM1324",
          "BAR043",
          "AR0568",
          "AR0570",
          "QM321",
          "QM322",
          "QM1522",
          "QM1270",
          "QM1271",
          "QM1272",
          "QM1273",
          "AR0702",
          "AR0706",
          "AR0708",
          "AR0710",
          "AR0711",
          "AR0712",
          "AR0713",
          "AR0714",
          "AR0715",
          "AR0716",
          "AR0717",
          "AR0718",
          "AR0720",
          "AR0721",
          "AR0722",
          "AR0723",
          "AR0724",
          "AR0726",
          "AR0727",
          "AR0728",
          "AR0729",
          "AR0730",
          "QM402",
          "QM397",
          "QM992",
          "AR0564",
          "AR0474",
          "AR0216",
          "AR0217",
          "AR0218",
          "AR0222",
          "AR0226",
          "AR0227",
          "AR0228",
          "QM398",
          "QM518",
          "QM980",
          "QM984",
          "QM397",
          "QM992",
          "QM085",
          "HV116",
          "HV254",
          "HV983",
          "HV498",
          "HV413",
          "QM968",
          "QM977",
          "QM1358",
          "QM1263",
          "QM1264",
          "QM093",
          "PER152",
          "HV88",
          "AR0474",
          "QM1265",
          "QM1258",
          "HV678",
          "HV773",
          "AR0219",
          "AR0221",
          "AR0222",
          "AR0485",
          "AR0486",
          "AR0226",
          "AR0702",
          "AR0703",
          "AR0705",
          "AR0708",
          "AR0711",
          "AR0714",
          "AR0718",
          "AR0721",
          "AR0722",
          "AR0726",
          "AR0729",
          "AR0730",
          "HV950",
          "HV983",
          "HV285",
          "QM370",
          "QM373",
          "QM380",
          "QM381",
          "HV262",
          "QM805",
          "QM806",
          "QM807",
          "QM808",
          "BAR026",
          "QM879",
          "PER134",
          "HV599",
          "QM1450",
          "QM325",
          "QM1353",
          "QM1270",
          "QM1271",
          "QM1272",
          "QM1273",
          "QM1470",
          "HV813",
          "HV820",
          "QM1565",
          "AR0565",
          "AR0217",
          "AR0222",
          "AR0703",
          "AR0727",
          "AR0729",
          "AR0730",
          "QM025",
          "QM026",
          "QM027",
          "QM326",
          "QM329",
          "QM307",
          "QM321",
          "QM398",
          "QM980",
          "QM982",
          "QM984",
          "QM985",
          "QM986",
          "QM988",
          "QM989",
          "QM990",
          "QM991",
          "QM993",
          "QM397",
          "QM995",
          "QM992",
          "QM996",
          "QM997",
          "QM994",
          "QM262",
          "QM322",
          "QM323",
          "HV480",
          "QM998",
          "PER128",
          "QM1007",
          "QM1008",
          "QM1010",
          "QM1011",
          "QM1013",
          "QM1014",
          "QM1015",
          "QM886",
          "BAR006",
          "BAR008",
          "HV109",
          "HV116",
          "QM895",
          "QM897",
          "QM899",
          "BAR001",
          "BAR002",
          "BAR003",
          "HV119",
          "HV136",
          "HV156",
          "HV205",
          "HV254",
          "BAR018",
          "BAR019",
          "BAR023",
          "BAR024",
          "HV884",
          "HV912",
          "HV950",
          "HV953",
          "HV975",
          "QM034",
          "QM088",
          "QM089",
          "HV455",
          "HV498",
          "HV521",
          "HV523",
          "HV538",
          "HV559",
          "HV594",
          "HV615",
          "HV283",
          "HV285",
          "HV326",
          "HV413",
          "HV416",
          "BAR059",
          "QM351",
          "QM359",
          "QM365",
          "QM370",
          "QM373",
          "QM380",
          "QM381",
          "QM957",
          "QM958",
          "QM968",
          "QM970",
          "QM977",
          "HV103",
          "HV114",
          "HV245",
          "HV262",
          "HV271",
          "HV277",
          "HV330",
          "HV412",
          "HV414",
          "QM803",
          "QM804",
          "QM806",
          "QM810",
          "BAR026",
          "QM1002",
          "QM878",
          "QM879",
          "PER134",
          "QM880",
          "QM882",
          "QM883",
          "QM884",
          "PER159",
          "BAR009",
          "HV740",
          "HV753",
          "HV448",
          "HV508",
          "HV517",
          "HV599",
          "QM1325",
          "QM1327",
          "QM1358",
          "QM1359",
          "QM1360",
          "QM1362",
          "QM1364",
          "QM1366",
          "QM1367",
          "QM1369",
          "QM1370",
          "QM1379",
          "QM1385",
          "QM1388",
          "QM1450",
          "QM1263",
          "QM325",
          "QM1440",
          "QM971",
          "HV986",
          "HV987",
          "QM093",
          "QM963",
          "QM964",
          "QM1533",
          "QM1270",
          "QM1271",
          "QM1273",
          "QM887",
          "QM960",
          "QM1536",
          "QM1537",
          "QM1539",
          "QM1540",
          "QM1541",
          "QM1542",
          "QM1543",
          "QM1545",
          "QM1456",
          "QM1457",
          "QM1460",
          "QM1461",
          "QM1464",
          "QM1468",
          "QM1469",
          "QM1470",
          "HV820",
          "HV88",
          "HV902",
          "QM1546",
          "QM1574",
          "QM1547",
          "QM1549",
          "QM1551",
          "QM1552",
          "QM1554",
          "QM1555",
          "QM1556",
          "QM1557",
          "QM1558",
          "QM1559",
          "QM1561",
          "QM1565",
          "AR0562",
          "AR0564",
          "AR0565",
          "AR0461",
          "AR0465",
          "AR0467",
          "AR0468",
          "AR0469",
          "AR0470",
          "AR0472",
          "AR0474",
          "AR0476",
          "AR0477",
          "AR0478",
          "AR0479",
          "QM1265",
          "QM1259",
          "QM1260",
          "QM1261",
          "QM1262",
          "QM1267",
          "QM1269",
          "HV678",
          "HV733",
          "HV734",
          "HV744",
          "HV754",
          "HV773",
          "HV901",
          "BAR040",
          "AR0215",
          "AR0218",
          "AR0219",
          "AR0220",
          "AR0481",
          "AR0482",
          "AR0483",
          "AR0485",
          "AR0486",
          "AR0224",
          "AR0227",
          "AR0228",
          "AR0701",
          "AR0703",
          "AR0705",
          "AR0707",
          "AR0708",
          "AR0709",
          "AR0710",
          "AR0711",
          "AR0712",
          "AR0715",
          "AR0716",
          "AR0717",
          "AR0718",
          "AR0719",
          "AR0720",
          "AR0721",
          "AR0722",
          "AR0724",
          "QM025",
          "QM027",
          "QM326",
          "QM328",
          "QM402",
          "QM1498",
          "QM1499",
          "QM1501",
          "QM1503",
          "QM1472",
          "QM1473",
          "QM1474",
          "QM1476",
          "QM1324",
          "AR0567",
          "AR0568",
          "AR0570"
         ],
         "legendgroup": "Resistant",
         "marker": {
          "color": "tomato",
          "symbol": "circle"
         },
         "mode": "markers",
         "name": "Resistant",
         "showlegend": true,
         "type": "scattergl",
         "x": [
          0.1059625247121567,
          -0.025905705163363546,
          0.06371213335679388,
          -0.07069413690687457,
          -0.04890926419612111,
          0.04133495538375492,
          -0.11394370389562689,
          -0.11404172975274983,
          -0.11210805083124994,
          -0.03454004699813974,
          0.06699041364897543,
          -0.019110459807159808,
          0.0008788983737057776,
          0.02745949919578683,
          0.04683593816401535,
          0.11407905851141795,
          0.14958873561806255,
          -0.0005494239626055164,
          -0.01390727179488685,
          -0.10444715984123978,
          0.02150877415204555,
          0.09320521877805976,
          -0.0014130276468874992,
          0.019899592928080606,
          0.1399731573720591,
          0.03925089758840433,
          0.024675116996396018,
          -0.11585716770996779,
          -0.02665279829958568,
          -0.09715362348236992,
          0.1380478685684796,
          0.09701771948099167,
          0.08074807781980778,
          0.04022965377959939,
          -0.10567277999880274,
          0.04037993236843987,
          0.10061778617248521,
          0.030978029496646686,
          0.10610564223467425,
          0.008370311391286633,
          0.13546385606046354,
          -0.022662861312654603,
          -0.10879334960784667,
          0.13694856137197745,
          0.09521171053299538,
          0.024973667640315028,
          -0.1351825594845245,
          0.03453334305538694,
          0.05302833758850728,
          -0.14149278193727258,
          0.11603515647128096,
          0.056862886225011344,
          -0.034140368555658634,
          -0.0247503972522371,
          -0.13372856762829588,
          0.10116718775921366,
          -0.1087503712470674,
          -0.002434293741991389,
          -0.09310643205409627,
          -0.00457698873163051,
          -0.09034121270430093,
          -0.08308489068101767,
          0.048075034729264554,
          0.13779421550807133,
          0.12243746848471712,
          -0.08969137453785911,
          -0.05513234664135902,
          0.10179503699291806,
          -0.07427514075390791,
          -0.061807439202833034,
          0.08185483925418902,
          -0.03090352803124294,
          0.0425614947808457,
          -0.13176592486062158,
          -0.07020983394021983,
          -0.05168360936845488,
          0.08591096898412301,
          -0.10985564854257263,
          -0.06457304152264999,
          0.02849117882003091,
          0.03429740893910804,
          -0.1474654151540109,
          0.008062240245404417,
          -0.05660641483220542,
          0.07348056268850206,
          -0.0032738893740681396,
          0.09726926661961638,
          -0.09633332297279401,
          -0.0163226536876927,
          -0.12897314951282077,
          0.13044778864617404,
          -0.10901937804608547,
          0.05865732279054112,
          0.056698979256559257,
          0.12726322469137544,
          0.13129434232196205,
          0.04162586345812208,
          0.0713780337333233,
          -0.08231684546024468,
          -0.14507771602966524,
          0.08512319885069489,
          0.10242148781391727,
          -0.025823096633779713,
          -0.12232949282057386,
          0.07721577046829814,
          0.09063782707057588,
          0.06344609948749655,
          -0.0992820639310296,
          -0.014259384523306717,
          -0.02747747643562813,
          0.1372529352501826,
          -0.09123796197593317,
          -0.03524094829634024,
          -0.12730349528679433,
          -0.12508587922289283,
          -0.11372627145404894,
          -0.04523146927259683,
          0.007060244246475861,
          -0.1367357773594263,
          -0.02062552554975547,
          -0.1393388544755793,
          0.08880214564425623,
          0.053767079351774744,
          -0.10868686182212066,
          0.043186196702483304,
          0.994709648611092,
          1.0564135763179143,
          0.9825324447214677,
          1.0010885595621826,
          1.1368345285424768,
          1.0519072537776086,
          0.8672669977598755,
          0.9943833072098025,
          0.8780295670039209,
          0.9806303842016281,
          0.8570774768735907,
          1.0580215637791395,
          0.8853567249904104,
          0.9114654560917637,
          0.927244503070826,
          1.059397682567488,
          1.0421994988515746,
          0.9591653170269729,
          0.8714100156437663,
          1.0041124233040382,
          0.9226637203154183,
          0.8838376263868377,
          1.0584892267284092,
          1.0676351222060076,
          0.8558522071673877,
          1.017685975846885,
          0.9713864696229789,
          1.0822555848347848,
          1.0849795352787583,
          0.926145202828264,
          1.0535630990361005,
          0.9129533030784305,
          1.0342450409115267,
          1.0857645701934702,
          0.8647983417424743,
          1.0378787923706467,
          1.0041875897861672,
          0.8787124945323173,
          1.0952030648554,
          1.0124728627366104,
          0.8849365002226822,
          0.9267300241085846,
          1.0759185942222853,
          0.9531378263507577,
          1.0582836068977073,
          0.9270072370330554,
          0.9241173188341201,
          0.9679052200006225,
          0.9517619027185114,
          1.0288461623795786,
          1.1189836151200092,
          1.135858090878712,
          1.0488714109654282,
          0.9323296969859068,
          0.9208770790001019,
          1.0859128262766908,
          0.9211221129487625,
          2.929257276301801,
          3.933141456161458,
          5.012757067820465,
          4.949371380226612,
          5.032311355989143,
          5.0349136638550975,
          4.865039847695613,
          5.078148799248678,
          4.932857536700561,
          5.075537598561733,
          5.076624091952435,
          5.14166177898934,
          5.139178559291358,
          4.973880659577551,
          6.008382976543493,
          6.0743710554402295,
          5.925072842377225,
          5.904402940870107,
          5.960049473882704,
          5.960109418826205,
          6.011693170856248,
          5.928825540823207,
          5.924492134891939,
          6.133388101190804,
          6.048506643317625,
          5.924153566559324,
          5.954535785436732,
          5.886114789112566,
          5.961907829578875,
          6.136142181642173,
          6.016929697385113,
          5.985895175365984,
          5.967402302657336,
          5.9883231152983285,
          6.134040089201037,
          6.126879669433052,
          6.036857346955772,
          6.019769289372887,
          6.091543446808514,
          6.072400908768512,
          6.1162399219867165,
          5.918121458993242,
          6.08361245312807,
          6.0687224519297125,
          5.860077726425726,
          5.939015525922205,
          6.145718888462802,
          5.964002814449735,
          5.925110151707011,
          6.052240003614177,
          6.040840519430056,
          6.112762536614004,
          5.902232969211162,
          5.913017817338755,
          5.864689562221922,
          6.010291417041718,
          6.074214452633863,
          6.0334646897530355,
          5.895064396502716,
          6.018061452248513,
          5.909324406815558,
          6.955542999693164,
          8.020652607555288,
          8.122510454607088,
          7.991940225591543,
          8.031166901979988,
          7.958525642434562,
          7.979608542412688,
          7.96323101757532,
          7.8506299614645645,
          7.974110418463184,
          7.948102939242458,
          7.899968885763175,
          7.885818407129884,
          7.993846515782667,
          8.080376022557559,
          7.888426589765948,
          7.867455977173621,
          8.031727132506676,
          8.118640928252711,
          8.064093361189778,
          7.879759903117429,
          8.10048070469711,
          8.088898899429136,
          7.924578547635975,
          7.968834498859289,
          7.956687377165286,
          7.85171595071791,
          7.897322585503536,
          7.908057853078258,
          8.124945636340273,
          7.9778859313811115,
          7.9662725873578575,
          8.091360749021112,
          7.871909607105587,
          8.074037851096554,
          7.87492999060259,
          8.03915731829876,
          8.011582942735693,
          8.076009175883126,
          8.132728301674016,
          7.906725458190454,
          8.012822774477227,
          7.983840123774198,
          8.143775664835143,
          7.963230887474062,
          7.962656993389591,
          8.119372726210397,
          7.976899485919022,
          8.111703388442542,
          8.131012618464462,
          8.0880067276135,
          7.877346238853529,
          7.931524847871339,
          7.851700551080603,
          8.082594983795847,
          7.937483268204937,
          8.137431271591181,
          7.863881576152637,
          7.91077695093582,
          7.963568136715389,
          7.898566949991318,
          8.073807587396995,
          8.131128184253125,
          7.915954566021806,
          8.091327088007166,
          7.919724300197671,
          7.958440192410669,
          7.8797488424056095,
          8.12802861819605,
          7.932567490857432,
          8.117653201581996,
          8.069771993043355,
          7.908708139546422,
          7.9680323182463955,
          7.857655454451452,
          8.097032674957495,
          8.147748135954746,
          7.9660236780830695,
          8.072164303624314,
          7.982679503247361,
          8.145020946784589,
          8.06883372795165,
          8.038629157417935,
          7.946932748437368,
          7.907220343136528,
          7.893406309944675,
          8.111454442690242,
          8.03437339463017,
          8.082926372603476,
          8.048879480739487,
          7.899320377444131,
          8.005192790955615,
          8.086643474382809,
          7.943651593839861,
          8.101841474961843,
          8.146284936146094,
          7.888392393928901,
          8.11141990307635,
          7.852157506617012,
          7.966583476251766,
          8.073577913658893,
          7.87264617816772,
          8.126856356259387,
          7.919636131110772,
          7.89928927590878,
          7.9764916988803085,
          8.046053781381136,
          7.913380260080095,
          8.134296940273117,
          7.897730608867443,
          8.109727233620283,
          8.131206750161258,
          8.133250034522385,
          8.137062871197141,
          7.893803446555977,
          8.137796813646395,
          8.055345403891945,
          8.035828153832002,
          8.036337134656337,
          8.079946335773858,
          8.032698108458028,
          8.120602169414177,
          7.887744109372535,
          7.969482264163408,
          7.962553285598645,
          8.038471974562729,
          7.938901250145159,
          7.905462529683768,
          8.099410317186177,
          8.086138968052083,
          7.959659753079686,
          8.031729725332614,
          7.92249523473747,
          7.867598556859114,
          7.851170064315261,
          8.02801994632274,
          8.02333424579833,
          7.877187572503597,
          7.924407882357779,
          8.11705453162533,
          8.092912102948082,
          7.872549493691304,
          7.96632194162046,
          8.072115939869338,
          7.89754034157206,
          7.965710576037773,
          8.113949426859747,
          7.855095387807422,
          7.850812367881348,
          8.098067546380127,
          7.897853727100567,
          8.943000685165567,
          8.919713695604527,
          9.073380010221424,
          10.869659662814453,
          11.03550042811868,
          10.979305460882484,
          10.888134206955275,
          11.09941214026743,
          10.862796686150194,
          11.032990163311654,
          10.913826321268584,
          10.910887094811025,
          10.927259824602588,
          11.078521250557278,
          11.123643335777096,
          10.913993487318967,
          11.055370166976859,
          11.065149596346043,
          11.1183623190596,
          11.071246442938392,
          10.86236240702018,
          10.909872459653704,
          11.026012903014141,
          12.060254485778968,
          12.133380460707773,
          12.023964066828853,
          11.905183741973607,
          12.03091481430694,
          12.11601708904013,
          12.094856808447853,
          12.001383015989056,
          12.096155989396165,
          12.036056805665668,
          12.087160026600344,
          11.918058970201848,
          11.914265183224366,
          11.983783183327459,
          12.028462196995651,
          11.923641490601609,
          11.898411138112854,
          12.116734952523673,
          11.919267035264314,
          11.864226047291318,
          12.04215325619292,
          11.916845350850766,
          12.057291187977778,
          11.969889745630942,
          11.882790639663849,
          11.851607949008088,
          12.136400475172856,
          11.887536271494902,
          12.022440932859107,
          12.039703185127616,
          12.11237519720685,
          11.991238404182596,
          11.940204196448056,
          11.923029888815426,
          11.969759856043476,
          12.137745409922152,
          11.976541429059257,
          12.010216124888881,
          11.916721704963663,
          12.105356669921822,
          11.949171568066488,
          12.125621582857683,
          12.018930646736965,
          12.130745745779599,
          11.892103408281486,
          11.857045018827693,
          12.031623936296201,
          11.98702303522304,
          12.986056674933053,
          13.027608216359225,
          12.862315597042382,
          12.996350944125531,
          12.949486817339706,
          13.101130004245235,
          12.882766971870812,
          12.938394024585147,
          12.897824912760305,
          12.943082610762744,
          12.997746095930205,
          12.985294255252374,
          13.019515887744928,
          13.056682619190154,
          12.8665330719099,
          13.000040640058373,
          13.05959440213619,
          13.0229034244709,
          13.136638748362536,
          12.940582482606164,
          13.055985566861933,
          12.96093286733308,
          12.996925094913243,
          13.020106026384541,
          13.059576470012601,
          13.036553513643966,
          13.130335841589682,
          12.862784372990765,
          13.08509280601748,
          13.014361561751807,
          13.054097431160546,
          13.015801853262962,
          12.96534214294203,
          13.040090514127069,
          13.060819077919259,
          13.13410511844516,
          13.060585656860061,
          13.110980873518816,
          12.97687339277588,
          12.989396524038302,
          12.880669825518375,
          13.085342771038713,
          12.850403769175234,
          12.908766096417729,
          12.92510612221035,
          13.04759741029597,
          13.025025387466105,
          13.086491193010414,
          12.939952912407138,
          12.854956220183194,
          13.0385195668212,
          13.063793476307463,
          12.942368374492732,
          12.860055727990678,
          12.898551141651831,
          12.886978501490626,
          12.879529416607493,
          13.093716271133138,
          13.12888829305576,
          12.980464038436361,
          12.984621843551519,
          12.9218524057626,
          12.958360179797701,
          13.059908647633906,
          12.987284936712333,
          14.11702785197849,
          13.923348814834014,
          13.877952391555352,
          13.934000567156582,
          14.082172175163077,
          13.949780504123659,
          14.050873405024294,
          14.136088382569186,
          14.099592074754588,
          13.993520682649667,
          14.116808497443934,
          13.960954205586807,
          13.851274689294508,
          13.981724817134953,
          14.041123323917523,
          13.938592694464777,
          13.93674926703453,
          13.930706063845514,
          14.091740457755964,
          13.977795181883891,
          14.111936408978723,
          14.12508446964083,
          13.868734870766955,
          14.113516076108509,
          14.073843894935246,
          14.065518656250875,
          13.927269246321726,
          14.031833337333124,
          13.992079252358453,
          14.147791850546595,
          13.980129532689332,
          13.881741674546229,
          14.043816120540226,
          14.107854947364157,
          13.912429808650254,
          13.925208038360342,
          13.885566310850356,
          14.07174127183945,
          14.002447736410076,
          14.056475076136387,
          13.960187504007408,
          14.045942547088272,
          14.100821034382248,
          14.046628313751686,
          13.85118924082727,
          14.048345806250747,
          14.056243440064737,
          13.883732116909648,
          13.968993075418338,
          13.959676966580943,
          13.851863800918927,
          14.069633711304157,
          14.14289582419862,
          13.90127594638486,
          14.102534070609295,
          13.968427392117851,
          13.948705884413771,
          14.092653529561561,
          13.963334630354012,
          13.993274276936637,
          14.102923913542877,
          14.009802064432249,
          13.940056981464114,
          13.9316510868773,
          13.854476891944726,
          14.02385159785397,
          13.97547889984762,
          14.12355526461503,
          14.106753859192093,
          13.961796813493555,
          14.106130621393232,
          14.104300188661899,
          14.04851261636903,
          13.997814636053478,
          13.90005248949913,
          13.892107617987765,
          13.884877968120737,
          13.955899647865817,
          13.983278369108158,
          14.000925103134035,
          14.123361550445761,
          14.037971870683204,
          14.076321355265302,
          14.099253504756755,
          14.099891883734191,
          14.013342406188169,
          14.040007324463932,
          14.017264543526986,
          13.980260686485286,
          13.882432057165497,
          13.92027657134201,
          14.089911715296212,
          13.98257555029015,
          13.971863805507043,
          13.876236755298446,
          14.061905570539173,
          13.958002940128543,
          13.946633493517028,
          14.060392552396461,
          13.926498875173687,
          14.090310244796333,
          13.918001248738014,
          13.955131030570541,
          14.059086077780737,
          14.037728045722195,
          13.903932249285093,
          14.010213632469501,
          13.863898901253274,
          14.090102132834808,
          13.861008071406745,
          14.096238614661166,
          13.90551735004017,
          13.93427779545953,
          14.102718437872547,
          14.084966461230643,
          13.933027384179386,
          14.142129354897875,
          14.016353151883154,
          14.01447581660235,
          14.089605049845032,
          13.991261666918914,
          13.963391543108685,
          14.028035927412748,
          13.887173211367523,
          14.092727056208506,
          14.09421883978995,
          13.93982110898636,
          14.126006363702283,
          13.886081021806552,
          14.056354090623719,
          13.855142703022723,
          13.88216413791842,
          14.081523490609914,
          14.009643879487545,
          14.127156246045601,
          14.12760303376431,
          14.053226240437995,
          13.90272247716894,
          14.1300245991451,
          13.978419107312728,
          14.052291108325402,
          14.096824368893909,
          14.007287916043687,
          13.980046354337524,
          13.899227408312225,
          14.146150599692564,
          13.891961520514768,
          14.048579175257887,
          14.080365902568252,
          13.993454685194433,
          13.895125726624077,
          14.01990270880088,
          13.886495246865264,
          14.048538012230294,
          13.970941166408611,
          14.081153081595494,
          14.004725433174988,
          14.038560278592598,
          14.086957781789305,
          13.921569545735496,
          14.045116155466571,
          13.857527874052165,
          14.03741978513133,
          13.868093775938993,
          14.109360716037607,
          14.098687411994728,
          13.984401496274794,
          13.954777772552301,
          14.027934250597978,
          13.950348099555224,
          13.892966617625497,
          13.939133549436294,
          14.119816382634712,
          13.927121436336344,
          13.9785256805371,
          13.964401272766374,
          13.85453320153169,
          13.901538210869203,
          14.01959160856424,
          14.091760896258055,
          14.008364950885422,
          14.138048627962446,
          14.117696025181212,
          13.979881061543797,
          14.038922530551469,
          14.07403265498296,
          13.907398193036437,
          13.99935044597983,
          14.137237934975763,
          14.046125456550593,
          13.86211078875519,
          13.985962644849957,
          14.13312772643931,
          13.884881379537203,
          13.954157845403293,
          13.863634941999667,
          13.947489891994199,
          14.068175367125535,
          14.086226066643402,
          13.99724038800986,
          13.993127639542138,
          13.88743155197491,
          14.085988007594773,
          14.141607129967166,
          13.946290720294568,
          13.946226985858868,
          13.858268405154819,
          13.858077212129272,
          14.065741733455717,
          13.976195061074257,
          13.959308824905904,
          13.965693584000276,
          14.048144395435653,
          13.908889100832985,
          13.946698921996013,
          13.87513064843655,
          14.107352455134471,
          13.854057897378972,
          13.981496784068444,
          14.088037717327042,
          13.995264519589762,
          13.969326191268033,
          14.129773043670143,
          14.059187532021962,
          13.865061766876412,
          14.019483129052166,
          14.091726003572031,
          14.09655463245825,
          14.109370060929866,
          14.06724621252428,
          13.96438662686146,
          13.855459629994845,
          14.018223578711316,
          13.886479837309922,
          13.990400852296533,
          13.91036775212992,
          14.02112555887259,
          13.999383511962524,
          13.859411507411707,
          13.992851560359693,
          14.006890207277545,
          13.861370004357777,
          13.874134673257036,
          14.080646675475833,
          13.867753281757683,
          13.88928639938501,
          14.081001908437196,
          14.031819076042163,
          14.023422993801752,
          13.984215146621263,
          14.130747987302886,
          14.07019581276409,
          13.911499955047738,
          14.091485601728369,
          14.018704239743107,
          13.901762468110615,
          13.930901499716413,
          14.040302048973889,
          13.958119270181268,
          13.989277776645874,
          13.9603672885199,
          13.947387742293682,
          13.868239151779271,
          13.90781779032006,
          14.075558563362078,
          13.879117572917636,
          13.906718115520734,
          14.022005702413113,
          15.045135134072018,
          15.069363264905679,
          15.087937676302174,
          15.107886304536036,
          15.118654184066049,
          14.855984172384623,
          15.03444212592562,
          15.102900955209316,
          15.105056250652646,
          15.088609220685992,
          14.95746205389982,
          15.047573994044626,
          15.087874439539267,
          14.959990520156925,
          15.000617735045253,
          14.95245192021388,
          15.071083286259965,
          14.855128387605907,
          15.119113003434766,
          15.102917128245005,
          15.0955824210523,
          14.90605365389451,
          14.940441531355338,
          14.962059833871628,
          15.033945420817627,
          14.879170212763807,
          14.965298739458914,
          14.943264525094898,
          14.962212050148244,
          14.996108766759445,
          14.859302600516296,
          14.874427018061736,
          14.932207297996863,
          15.117047937202596,
          15.046611208279339,
          15.051817305312923,
          14.865764086136839,
          14.953895215147533,
          14.922474969226661,
          14.921545466277086,
          14.935723751087465,
          14.972985011857656,
          14.897014543450373,
          14.914577361835802,
          14.999333975459722,
          14.930461618721797,
          14.868340169229512,
          14.987502291469623,
          15.061686947254422,
          15.04874586035815,
          15.021163799312463,
          15.02724066160434,
          14.957056525271582,
          15.084209857973303,
          15.001318096947443,
          14.888537205313298,
          14.968822898640305,
          15.041855846552627,
          14.933499719504756,
          14.968466149852459,
          15.14994916620043,
          15.016799365310973,
          15.096491203684318,
          14.894173286180504,
          15.138947180695697,
          14.861548918490243,
          14.88180236227713,
          14.91200815499849,
          14.963115564764289,
          15.001818908998068,
          15.071497825003682,
          15.13455304909755,
          15.1127659094533,
          14.855260824727416,
          15.03390480098034,
          15.04906964356777,
          14.907533239481472,
          15.026586543177668,
          15.0798771444623,
          15.126835797902793,
          14.98485305558694,
          14.941222282416954,
          14.893447866064093,
          15.104823379545948,
          15.052066660435637,
          15.141602241558376,
          15.017248576508774,
          14.89904929843289,
          14.991863001109714,
          14.9517917932219,
          15.02911107463667,
          15.019533161763412,
          14.98604513374757,
          15.121026205072605,
          15.018715293592141,
          14.935626921479953,
          15.021042644685712,
          14.903262729953452,
          15.05745349987445,
          15.005981555103672,
          15.086517473307937,
          14.9887699367825,
          14.928377477811232,
          14.875173804347307,
          15.061096031935413,
          14.946399651376575,
          14.870875794238316,
          14.868513086165388,
          15.109139849459508,
          15.0916151908985,
          14.991217056486825,
          15.04859132083278,
          15.107732902610337,
          15.048304598719113,
          15.006837287144203,
          14.85037566276385,
          15.003775260937752,
          14.965007319414068,
          15.088348892066755,
          14.908630044961193,
          15.077638383551092,
          14.973073332176455,
          15.012153170324288,
          15.089998829545229,
          14.965889502138724,
          14.921901711871664,
          14.89155382656952,
          14.926076617640982,
          15.017395772810136,
          14.885149669243312,
          14.8972257689937,
          14.925441566845652,
          14.92509765735671,
          15.031933085251172,
          14.958787037703315,
          15.068754984104421,
          15.055815991189979,
          14.856831302502023,
          14.953490144771221,
          15.14609285677222,
          15.130788045763621,
          15.063209252587574,
          14.994168252550397,
          14.928273873548214,
          15.11784635885149,
          15.067628264020172,
          15.111016224247534,
          15.030521721856983,
          14.98934301506882,
          14.854992389537303,
          14.925368310100623,
          14.98059035734073,
          14.975910719045077,
          15.018781207487006,
          14.882658046452311,
          14.927913442962277,
          15.016892588424918,
          16.08506594750063,
          15.978105727804756,
          15.8985148351672,
          16.09074829599431,
          15.901274122092298,
          15.963219991614865,
          15.91991044742465,
          16.090344595252596,
          15.91432879510797,
          15.991060382939578,
          15.924941683110793,
          15.959285649825881,
          16.09676679688008,
          15.860326082297943,
          16.11950289615718,
          16.090915973192246,
          16.02488628759819,
          16.1478557734009,
          16.107522394376442,
          15.953644283115265,
          16.06201408179773,
          15.925672508836218,
          15.883652519874017,
          15.860977624068205,
          15.982728443663586,
          15.949287483369597,
          16.089313869186075,
          15.948972468010496,
          16.057466681460028,
          16.028051886061114,
          16.114114782697055,
          16.09980858225818,
          15.92036429703429,
          15.955007797622018,
          16.061494256328253,
          15.907180984485983,
          15.99686061380702,
          16.01553716996211,
          16.048233358737374,
          16.008344643568794,
          16.095226522364428,
          15.98986725476814,
          15.896995084885006,
          15.877445635979774,
          15.984746454550551,
          16.109707269914733,
          16.028796400936226,
          16.07874670486721,
          15.969107243690221,
          15.859749158517742,
          15.86277718868563,
          15.987348182847139,
          16.122776066449077,
          16.02769615060044,
          15.986945979498639,
          15.911332897599829,
          16.00602930020916,
          16.078618724188708,
          16.117280844077026,
          15.998885374933078,
          15.86100697508919,
          16.089175555154295,
          16.114318153299553,
          16.08587931484297,
          15.965981057471838,
          15.921320530684628,
          16.071675201766336,
          15.895702230658486,
          15.953961724204062,
          16.112198339583227,
          16.099493909845506,
          15.888949305164433,
          15.948264954076405,
          16.111566685976047,
          16.062712385515812,
          16.1311685100971,
          16.076409831761513,
          16.07015820959831,
          16.130755477267485,
          16.06971080744018,
          16.144993931391287,
          15.924030119995331,
          15.99692792188165,
          15.967510834847054,
          16.039502461420856,
          17.095726459479575,
          16.897078192046685,
          16.885960845143988,
          17.04179515646606,
          16.864423045073877,
          17.130292681091092,
          16.873142352217762,
          17.030166308198826,
          16.973374141072192,
          16.889974622614805,
          17.082490471194046,
          16.977521765837537,
          16.86592337031475,
          16.90499224109307,
          16.98409154978107,
          17.102835609407723,
          17.024844104177237,
          17.071299490280275,
          16.86771540917933,
          17.050904493802857,
          17.01828151441338,
          17.036808037926548,
          16.900071882946897,
          16.984331055405967,
          17.08635465726509,
          16.860277878200748,
          16.887492559945507,
          17.129434622204375,
          16.858106993420215,
          17.10129237214975,
          18.05132169786994,
          17.96829320198488,
          18.022261554396014,
          18.05861662946647,
          18.013056523253198,
          17.90702356374892,
          17.92103878779198,
          18.063903049015643,
          17.985300150230387,
          18.066527941200746,
          17.981474449480174,
          18.862901764030912,
          18.91583730114751,
          18.882905555133732,
          18.888560752902148,
          18.8862784207894,
          19.0036862140459,
          18.884611471925886,
          19.01365667053617,
          18.95923038126666,
          19.033492709707843,
          19.066489420920202,
          18.977796621277307,
          19.132067477806068,
          18.94752933672432,
          19.097611208595556,
          18.96608863087641,
          19.126181483629676,
          18.989059458361584,
          19.132333109846623,
          19.111542986144045,
          19.102855696121054,
          18.959412113656924,
          19.03095309036013,
          18.975946840040294,
          18.925898250608864,
          18.982283060647596,
          19.122053266326557,
          18.85139512690086,
          18.861663674853688,
          19.014613073797722,
          18.915982216007457,
          18.853406638891396,
          18.87285695933965,
          18.98124645036091,
          19.03258030664169,
          18.92968286559256,
          19.090052829189183,
          19.14434974746531,
          19.119660347768022,
          18.851461874279185,
          19.025831797801597,
          18.965208782346522,
          19.043874685864353,
          19.913690717175026,
          19.858787059291746,
          19.918506808793488,
          20.132313559757343,
          19.88280330688623,
          19.927556509423386,
          20.062609625549477,
          20.093391025722894,
          20.13936651733267,
          20.06859670326132,
          19.947287443550604,
          20.14676938225762,
          20.092386472512178,
          20.111082747200623,
          19.946033852236628,
          20.136228632064228,
          20.030154743356075,
          19.859551548041473,
          20.02742905331661,
          19.851627978720774,
          19.867663160961754,
          19.910597271622517,
          19.887422604814248,
          20.140990345369975,
          20.00520221236596,
          19.95702528589538,
          19.937858617342666,
          19.893187087988778,
          20.12664775388016,
          20.052357371892068,
          19.884201948025353,
          20.063420885506382,
          20.112163042504903,
          20.140749772533525,
          20.071001563871544,
          19.989177866489687,
          19.940811038718344,
          20.14686487410949,
          19.851610065707714,
          21.037591747655263,
          21.083185522327675,
          20.92075164228166,
          20.901617076235837,
          20.881375591555468,
          20.984972286432097,
          21.122945396317142,
          20.914184959290882,
          21.033069972571543,
          20.94347610513044,
          20.859663319586012,
          21.04242170771791,
          20.85957527310713,
          20.95941384575305,
          20.917089190346896,
          21.002898557605437,
          21.02873657722147,
          20.935714068756948,
          21.057633423279004,
          21.07234029995598,
          20.908635928367847,
          20.979681539957287,
          21.00121247020659,
          20.986960580829955,
          21.085838449718572,
          20.90519364438937,
          20.90077365107197,
          21.02024069512918,
          21.104641406789316,
          20.864402180396016,
          20.88550611371033,
          21.069530926874087,
          21.024410055525554,
          20.956943120382384,
          21.105685968844842,
          21.14136363181188,
          20.878408801273302,
          21.128574081587473,
          21.12013886100075,
          20.96905702093278,
          21.00405084011747,
          20.92608382843582,
          20.919748910256388,
          21.06176326025485,
          21.122415997486332,
          20.953907238171396,
          20.91857820515101,
          20.908253392909735,
          20.991562334187257,
          21.122547956372443,
          21.113289885867207,
          20.983473707508626,
          20.95928194767882,
          20.8904287292386,
          21.149471199808332,
          21.065537056087027,
          21.057885388294544,
          20.870472863581973,
          20.974463001247802,
          20.8800477574076,
          21.045223874897673,
          21.051202492053935,
          20.994412007189652,
          21.062699216723104,
          21.14202047003468,
          20.968237224204525,
          21.00077294043782,
          21.089408403917474,
          21.038759681963224,
          21.04135371807454,
          20.888548088258034,
          21.040761230359948,
          21.09733420216182,
          21.1047957680188,
          21.123348287490426,
          20.86784977774782,
          21.08726139517203,
          21.015566020440108,
          21.010380438607687,
          20.96802275228521,
          20.964437568743588,
          20.980044916299207,
          21.089420240932345,
          21.11899038639936,
          21.10615923357375,
          20.93968921148707,
          21.0863385847382,
          21.11333577649271,
          21.015127841784185,
          21.140594983389953,
          21.05247106373958,
          20.917065421075254,
          20.960817035462924,
          20.992841772567097,
          20.961566312681356,
          20.921405594010007,
          21.0459610593327,
          21.05741761773947,
          21.021242755231885,
          21.016501165783833,
          20.977799499431548,
          20.940984911031588,
          21.02929518980441,
          21.125532198142206,
          20.96281066251829,
          20.970115055816432,
          20.991996992134986,
          21.00191696135164,
          21.104667805231625,
          20.879297273596077,
          21.1452165052165,
          20.85314810051272,
          20.918723903022304,
          20.974424275573234,
          20.973439184959155,
          21.073914810029216,
          21.099067634007838,
          21.113040941310185,
          21.01760900404069,
          21.102536058400016,
          21.093284580190943,
          20.956178807543633,
          21.011515065264803,
          20.933005414080835,
          21.07237334224571,
          20.883943590576315,
          21.078062327171523,
          20.90039769888105,
          21.131617045845566,
          20.88852490929327,
          21.132657250090848,
          20.890432754682596,
          20.93596221962356,
          20.94796245267989,
          21.036638987129255,
          21.07532201350322,
          21.066541168500223,
          20.974956945229426,
          21.1176580657568,
          21.02840808967361,
          20.863729583833035,
          21.1179654396426,
          21.0913187136322,
          20.990246820006558,
          21.040115918059026,
          21.112647779843684,
          21.05785678246941,
          21.079458679510154,
          20.970485819289564,
          21.110195201044966,
          20.881888472477023,
          21.08817854748649,
          20.88092019024373,
          21.003919366894706,
          21.00104107182101,
          20.88062018996602,
          20.85869222754039,
          20.89074190778031,
          21.056047322484638,
          21.027372055319447,
          20.963533940924627,
          20.887226649641146,
          21.081396314253954,
          21.033276555709477,
          21.148152158799906,
          21.001958645098604,
          21.11924209968606,
          21.076243999400926,
          20.9950096734754,
          21.06455002322099,
          20.92873319308002,
          21.042309668006837,
          20.94496911259976,
          21.043316557556228,
          20.87393442360679,
          20.950423558868653,
          20.89397875438192,
          21.1499157717951,
          21.09611534698891,
          20.993762183087718,
          21.054342389219567,
          21.142805638983994,
          20.963379702815775,
          21.02335891208777,
          20.978207918017763,
          21.135591264101162,
          20.980981755727115,
          20.851523769442643,
          20.871191422400962,
          20.859521232298004,
          20.87239498655273,
          21.057562995859954,
          21.099872116505693,
          20.92934238475476,
          20.951696587775846,
          20.94169176276407,
          20.948563800522248,
          20.89983778149693,
          20.98002744530797,
          20.976112099960396,
          20.90107425057264,
          21.07204742815747,
          20.99433857091913,
          20.866446223113268,
          21.064801909773916,
          21.12702893450217,
          20.86108222285023,
          20.90482222695236,
          20.864544814261137,
          20.951940547053393,
          21.12894533553851,
          20.958325859401274,
          21.134839843126635,
          21.021621295170355,
          20.90920669201747,
          21.081577317022973,
          21.13430293372727,
          21.06867567817566,
          20.948774528674555,
          21.142348287292815,
          21.058330009732025,
          20.98626291297262,
          20.91422288021907,
          20.982697998700203,
          21.140254539083617,
          20.968398782731732,
          20.970371349121304,
          21.04707354869968,
          21.059096452060587,
          21.012673428703618,
          20.911710216563073,
          20.923077336904687,
          21.044809836403672,
          20.904949623875385,
          21.014141700659646,
          20.940539562591223,
          21.008699443036747,
          20.96640722556256,
          20.996403446253268,
          21.07337851427772,
          20.905300258488996,
          21.048626525119328,
          21.096609118621412,
          20.973187520555506,
          20.870499267732427,
          20.94270013341918,
          20.878662799075254,
          21.011014861495564,
          21.12567091435581,
          20.86006145340936,
          21.09192401118257,
          21.119279431040876,
          21.041334223109754,
          20.865690944044967,
          21.139830153442194,
          21.06528101124978
         ],
         "xaxis": "x",
         "y": [
          0.10583455209801021,
          1.1017903011149717,
          3.924493382045131,
          5.865163189537658,
          3.971597066636824,
          5.0644263163687695,
          4.996101003576642,
          0.004537079525413601,
          5.890111451510509,
          5.890827856952431,
          5.957095387722404,
          6.051531544632538,
          5.85903347113145,
          5.103423299539488,
          3.9097503712778985,
          5.853706701411138,
          3.9239081717273048,
          5.972513979825271,
          4.116439528420304,
          6.042799598522213,
          3.916428418484158,
          5.0382254065973795,
          4.978047472853838,
          4.89426296200911,
          5.023403531191858,
          3.1041571975285778,
          4.143911462716591,
          2.1125874837442673,
          2.115423703523316,
          1.9483079882867491,
          3.9827441819717753,
          4.132598629939194,
          2.103077247264838,
          4.034982818911714,
          1.0775764582971852,
          4.096099461121784,
          1.0490170232789902,
          2.895807910233999,
          -0.08894908908713459,
          4.141150655679922,
          5.850258779477408,
          2.0390458103030853,
          4.918679913788169,
          -0.013309987922101585,
          -1.9964561654734572,
          0.8566283930783073,
          -1.925862752533797,
          5.924646658722884,
          4.942358651788977,
          3.1159227569727634,
          2.862472617865652,
          4.929066791610468,
          1.883235805102056,
          1.970452713307748,
          2.082416004215984,
          6.014788619610618,
          6.10234937914861,
          6.12232826787394,
          5.118121189970332,
          5.939200245294399,
          2.074544091125329,
          -1.0007387248456163,
          0.893854951945984,
          0.9309302551417973,
          1.051692453962019,
          -0.08421934678669916,
          1.9235279086090162,
          1.8572415347530957,
          0.9284549189750309,
          5.871655320822425,
          1.9110171431245597,
          2.901453279165647,
          2.98415183051052,
          4.087978168162246,
          6.146337994665451,
          2.9823277332414553,
          1.9594885354502896,
          2.8990078486291155,
          4.000576410837543,
          -1.1165706630231018,
          3.0289625573586862,
          3.124869947981802,
          3.9629827676538145,
          1.9654880370000913,
          3.9334859686316985,
          3.1335467182575285,
          2.041679135572481,
          -0.022300841239864616,
          -0.03637938991465535,
          -0.0061242810981658735,
          5.980134748558152,
          0.8575000134181365,
          4.06796715776528,
          1.1120711533009058,
          3.9732896016504937,
          2.04364708353665,
          1.0004336888946281,
          6.112652416307956,
          5.999691774573896,
          5.856181812229958,
          4.90397676051618,
          6.099171553145411,
          3.991353018193157,
          4.029728057700879,
          3.923086599428992,
          1.8524630934466102,
          5.000644963040006,
          4.957184963514956,
          0.9978308587296119,
          4.902697370596635,
          3.973100354975156,
          3.9120060124548446,
          2.0862773092125098,
          3.870237222175459,
          3.9159781916023495,
          3.9323591184633564,
          3.073600911485305,
          1.855970602164112,
          1.9617921114336858,
          3.9675677734960737,
          3.9232938870862104,
          2.982750164674603,
          5.955178634197207,
          0.9685792089350267,
          6.045955829566852,
          6.144557323240367,
          5.956613649229186,
          5.868770261726052,
          6.101469570915814,
          4.851166234732079,
          5.93450371620838,
          6.143455790490842,
          5.134284509317707,
          5.996612911151014,
          6.075676275137932,
          5.8999819699134095,
          6.126519740046733,
          6.060046420595484,
          4.077100038513553,
          1.8796540549995884,
          2.8707015448000233,
          4.982831789050655,
          5.854568866421267,
          6.032781942360557,
          5.939341228195118,
          6.011830009236809,
          6.092087295941428,
          5.933740111994155,
          5.9409879854793095,
          6.007509968134456,
          6.13652445655056,
          6.136656673068018,
          5.925844999917784,
          6.0308042186091075,
          6.085489579978412,
          6.10612644136118,
          6.014388420511047,
          6.038867112246359,
          5.8669781142365505,
          5.895213440340481,
          4.024931017608186,
          2.1280248575944283,
          2.9192411775012213,
          3.9043061978823577,
          5.94764280938759,
          6.0999241659469945,
          6.131814706457213,
          6.017146711874677,
          6.002325262109193,
          6.049745700388097,
          6.009459203943265,
          5.92540005797816,
          6.132459145727345,
          1.9324105446247855,
          2.9885594922173295,
          3.9817831240133224,
          3.8650888981763676,
          6.069844289541089,
          5.997107546951504,
          1.9713969933330273,
          3.049708113868139,
          5.977437460702332,
          3.1223165104939348,
          2.088368262337453,
          1.1132870336958942,
          0.9043184304572486,
          -0.07989925560206303,
          -0.03159825270306778,
          1.875599484387652,
          2.0687597441461465,
          3.149640668467571,
          1.031654995424821,
          2.862672461610572,
          0.13609625929819028,
          4.019513803692351,
          0.9593346678603996,
          3.8903212278843426,
          5.042198327065241,
          3.998385757484628,
          4.890081472171671,
          5.0516807927049125,
          5.129724539110188,
          4.8917066983466695,
          4.905657378763196,
          4.923595521453703,
          5.077847321509012,
          4.997917146660774,
          4.904834196027511,
          5.0033386057689615,
          4.89320906076451,
          5.015874732266831,
          5.100415143382203,
          4.891310584632691,
          4.98445545097452,
          5.120789108168551,
          4.853611674828308,
          4.909016855261005,
          5.0072146111907525,
          4.9720043146736455,
          4.901679905344869,
          4.988384672173317,
          5.137072399540319,
          4.970917798803288,
          5.120120726147846,
          5.104583847627556,
          5.1260273832246614,
          5.081845746199921,
          5.094643398381906,
          5.1287872287100935,
          5.031503499645802,
          5.068407308402907,
          5.033103275790865,
          4.949762717733043,
          5.100337544211628,
          5.046351587452194,
          5.139884994645846,
          5.023730734185643,
          4.87897495120467,
          5.0684484098958125,
          4.061867113572172,
          5.091110116722959,
          5.020279062315268,
          5.14538781916889,
          1.9937208823678922,
          4.125186611622382,
          3.8548575751510668,
          4.046083882920163,
          4.106214221837183,
          3.954813242028219,
          4.003366645111343,
          3.992920188677886,
          3.8698316696371986,
          3.851769984969827,
          3.995296143813117,
          4.131373258944911,
          4.0772136063539435,
          3.9140651102311117,
          4.121542174270877,
          4.141049988033769,
          4.054371368355534,
          3.917280466725103,
          3.8777843464918633,
          4.083036693201474,
          3.9893279608507455,
          3.9047616857155822,
          4.0331694060019245,
          4.072994366658758,
          1.1365396676597905,
          2.9506978543738867,
          4.086290887865714,
          3.9417906538778644,
          3.935358847256823,
          2.1197596740383,
          3.880804448343309,
          4.0906123132806576,
          3.9935202246522645,
          4.146737208713822,
          2.007441101777048,
          2.9868102564381895,
          1.9893832972428909,
          4.029503479966657,
          4.144777045994893,
          2.118336124418581,
          2.13115770806256,
          1.0348062878186959,
          4.043549378417745,
          1.921504848337593,
          3.0169370888664764,
          2.1339980997181245,
          3.979965846730206,
          4.096335514875569,
          3.875654241114711,
          4.07666326990715,
          3.8632697463566563,
          2.0946215851851395,
          3.8933852909402398,
          1.923326776399016,
          3.8651414943998494,
          3.987681259795205,
          4.108521359073783,
          3.989443993973682,
          3.9446075074777545,
          3.9200097111483587,
          1.9233741737213335,
          4.109281966813012,
          1.9347336567436801,
          3.8597554325788606,
          3.8670474491929276,
          4.057680826530602,
          3.8711362507931693,
          3.1246200356075207,
          4.103197858688801,
          3.8520322521078536,
          4.119469393298235,
          3.00616833845489,
          2.972111537264336,
          3.1054696444945344,
          4.033470462109865,
          3.015434184613526,
          4.057361552904396,
          3.927948744016276,
          3.886706400802733,
          3.865441702780588,
          3.9112484752994012,
          4.106528691438893,
          4.046280830706685,
          3.8588462916472794,
          4.04877284205118,
          4.064660057273742,
          3.860617116060107,
          3.977298187909007,
          3.864987462132469,
          4.06756909714801,
          4.133957557871576,
          3.9222426773129273,
          3.887957851427441,
          4.063740136491783,
          3.8958821846953287,
          4.1147190209593285,
          4.093262158605967,
          2.8705357649198104,
          4.110202985337544,
          4.138214232099062,
          4.081461967577466,
          3.98151182876571,
          4.131905634082346,
          1.857664954945128,
          4.008622392198345,
          3.9408922776946578,
          3.8702168997034976,
          3.9861915916541415,
          4.063529020826665,
          3.882683352234507,
          4.024236384020793,
          4.123768922080611,
          3.9389960879740595,
          3.990493161501349,
          4.113597344246358,
          3.862911655917234,
          4.11964595742431,
          4.087926064806333,
          4.129847635059073,
          4.056182898506313,
          3.9129716411264224,
          4.069990779453839,
          2.926935688668805,
          4.068802918038696,
          4.064842663330248,
          3.9032983163390482,
          3.977435716222022,
          3.8570852456545768,
          2.0658015236229406,
          4.082685076703478,
          1.029133335199378,
          4.090315728530146,
          4.130584410939486,
          3.9174077792192175,
          3.9789416284363495,
          3.9441543202441025,
          3.9115011110745095,
          4.135071214640814,
          4.040917365924647,
          4.104318878542112,
          3.9391173754169984,
          3.0478966511233523,
          3.90343159975419,
          3.9188457285135314,
          4.020190082150968,
          4.0181960961832415,
          4.149914760289882,
          4.074806014047438,
          3.944917049915597,
          3.941550843788643,
          4.10757891068973,
          5.035360479914689,
          4.856415089789837,
          2.983043829090273,
          -0.8554450548754639,
          -0.9892967903418037,
          -2.141124022302449,
          -2.0672098631142184,
          -1.9871742500801495,
          -0.8975924705178264,
          -1.9702155814241502,
          -1.8994996791361332,
          -1.0541098533228608,
          -1.9900797849974807,
          -2.0450263556769848,
          -1.8787372259715698,
          0.04496027329395552,
          -1.9228470786965803,
          -2.1054148049673396,
          0.04979725710700991,
          -2.047987407222545,
          -2.0538435263003163,
          -2.0698537003428283,
          -1.8695830491807583,
          5.909530023643439,
          6.081406824631273,
          6.095245860411358,
          6.031800874921022,
          5.850649821327669,
          6.132922989999426,
          2.053568249093848,
          2.047946887896076,
          6.0929431478444265,
          6.132523365075087,
          3.0960301491329187,
          3.0764598859527603,
          6.014360359402316,
          3.0450339465147334,
          2.862855528239189,
          6.029058696346219,
          6.092612503267016,
          4.913826469422231,
          5.069661117449764,
          4.922537938082641,
          5.031338196621486,
          5.885194576825712,
          5.887203061174899,
          6.006512005545363,
          5.913979172744687,
          5.97771439066566,
          6.005822851378925,
          5.102822024768949,
          5.912251618116993,
          1.979166212903369,
          2.0383280598243507,
          1.9218615738347626,
          2.0937544129367254,
          1.8581996930654427,
          1.9942066448529348,
          2.102849050316101,
          1.941389490715153,
          1.9666609021260735,
          1.99512995181376,
          1.8810364616558752,
          2.957842657469951,
          1.9212679200745924,
          6.102844540035176,
          5.876784467674167,
          2.9411847895274783,
          4.095805649612615,
          2.8548321852228637,
          5.945310656228552,
          5.853232000519326,
          5.985744446273421,
          5.947924627401509,
          5.946974156010807,
          6.09846226623934,
          5.880146898470312,
          2.8974578637821566,
          6.111574351620665,
          6.0130398844398245,
          2.1367912664375956,
          1.8842991713976456,
          5.956304770200921,
          6.0504877924458755,
          2.9003460667191296,
          5.878288025531531,
          5.0675134376613915,
          5.921262501124799,
          3.08933315857741,
          6.128421864154457,
          3.9512934996292883,
          6.080627675453596,
          6.02119892409347,
          6.1074248505117295,
          3.9286454372057364,
          4.034352685774098,
          6.118703003008723,
          4.040362264283203,
          6.136139608406636,
          6.019476637337239,
          6.075495101058516,
          5.89013354555945,
          6.143891814332943,
          5.988058510523333,
          5.921806411785063,
          5.998151655806785,
          6.126809986378753,
          6.014913784691449,
          6.101821783962365,
          5.917333640105385,
          6.145813994339054,
          5.955120858735683,
          6.047594830212118,
          5.990489731150259,
          6.054543580552886,
          1.8690010415860898,
          2.1338818304578715,
          2.087917669948519,
          1.9250397474874505,
          2.064976473862059,
          1.9094740065564495,
          1.913247510295337,
          2.012237606039296,
          2.1439358787117264,
          3.037183706127501,
          2.1370738096568958,
          2.0052275804716,
          1.9800187624358578,
          1.850656291150051,
          2.1328639333139163,
          2.0084452361224368,
          2.06862235710738,
          6.13652090897641,
          6.09464888076698,
          2.9905860685217465,
          6.101676614913908,
          4.869748676613388,
          4.991407658481732,
          4.852078722419909,
          4.973472418578975,
          5.050777866479632,
          5.065697545094136,
          5.113006286770704,
          4.979063277868663,
          5.094415482210749,
          4.868188776291977,
          5.124166994347939,
          5.0135798879711615,
          4.9458176669863585,
          4.966474430638243,
          3.139630097113297,
          0.8966614644926846,
          1.067900319304689,
          0.9001467501680636,
          0.9327368603930475,
          1.0231998216607168,
          0.9756889177086314,
          0.9815833358776344,
          0.925138413901473,
          0.9553606511339455,
          1.0480391065350396,
          1.0717980501122195,
          4.855791488545208,
          4.977080451831548,
          5.0495655548117195,
          4.947593042237608,
          4.931730309847537,
          5.115171609645293,
          4.934079391551047,
          5.127310873351421,
          4.8612811253686585,
          5.124393533533226,
          4.924790271165102,
          4.953859093015021,
          4.986674112696862,
          1.1432723476448754,
          1.1467632795225018,
          0.9270457215972441,
          0.9899429846724319,
          5.043074608488595,
          5.086871527488137,
          5.127432556343958,
          5.14324890514926,
          5.050735993715675,
          4.86779803950278,
          4.981974777941593,
          5.07082608028445,
          5.030394467189165,
          4.940313106342276,
          4.860415618539538,
          5.033849829922998,
          4.978504877666063,
          4.977755218393952,
          4.9427442562928,
          5.1196389214117435,
          5.053293937308455,
          4.869125571181486,
          4.852555779546014,
          5.023470899610971,
          4.993592360051706,
          4.858452031733277,
          5.033057534501703,
          4.993222891595136,
          5.086856098236322,
          5.11623411496947,
          4.902907977404803,
          4.969446826583883,
          4.881682508515654,
          5.066029627598769,
          5.145182578420733,
          5.10612770524192,
          5.1166438328163455,
          4.9104610408470455,
          5.115591297214146,
          4.904765090563066,
          4.866069473811815,
          5.081837628862644,
          5.094387540137547,
          4.854686814480046,
          5.112541462329772,
          5.109827275912388,
          4.915434466273132,
          5.034241671948241,
          4.984360796803974,
          4.900612701551799,
          1.0370542838452705,
          0.9228085047664264,
          1.010304549627017,
          1.0309173265424996,
          0.854536926343797,
          0.9407969856387759,
          0.8640929506646893,
          1.041565527197302,
          0.9093155289367427,
          1.0389004633726362,
          1.1060293842401976,
          1.0960836686052091,
          1.009549222737192,
          1.0602241431608015,
          1.054008071800437,
          0.9652749311180234,
          1.0749689137338905,
          0.9606173769035266,
          5.09362211866947,
          5.146658223343656,
          5.0888139857287005,
          5.050006470446659,
          5.0720927027527285,
          5.13836730804691,
          5.011252007046263,
          4.969197027454158,
          5.143665797121859,
          5.149429190791514,
          4.900018205786225,
          4.9453465687377065,
          4.996199188631238,
          5.1466918540287505,
          4.967362632050868,
          4.851757772396133,
          3.0825873315997825,
          5.107856758051564,
          4.891562887147563,
          4.900391859459013,
          5.084992095807433,
          5.030756055629914,
          4.9016776744928565,
          5.010645639342487,
          5.081161525963773,
          -0.07475253751970055,
          1.012365264017581,
          1.0636329063327672,
          5.049854538887286,
          4.887056975523185,
          4.958969056034372,
          4.899880541456048,
          5.04399894534201,
          5.065791860845184,
          1.0112578347646493,
          4.874120341261081,
          4.9889162057501535,
          4.940978671482959,
          5.026144034725376,
          5.03979892532491,
          1.0921135763985756,
          1.0401817715159662,
          0.9604336991563751,
          1.1252675475286482,
          0.8909592900394518,
          1.097274845816332,
          0.8977568811239043,
          1.0028301317566808,
          1.0330458445383859,
          0.9019361989698065,
          0.8690641070798825,
          0.8889346233974972,
          0.9524976382703332,
          1.0017318144543286,
          0.9215327132945283,
          1.1416286250328245,
          4.884904485959093,
          3.950557176951035,
          5.1097057379599935,
          4.998227852291628,
          4.863012677766768,
          1.1108427600422253,
          0.915462135403202,
          0.8536043586171964,
          0.8517195496161286,
          0.9901266471824961,
          1.0459827703222329,
          1.0107883888222604,
          1.0946424467680522,
          0.927538017330001,
          1.0691020576032508,
          1.1149766616415833,
          1.0937065468140397,
          1.0598341480913713,
          1.1339823616251905,
          4.889930472694938,
          5.1329975904647895,
          5.096655509411736,
          5.036315518554022,
          4.892636854023114,
          5.119849182776251,
          4.960987590457724,
          5.013864332646356,
          4.9403849015036085,
          4.970187800617322,
          4.85461610461208,
          4.884303770536916,
          4.886790527356346,
          4.8606620000735345,
          5.10944315290935,
          5.13942390546351,
          4.99317387924491,
          5.095224213057537,
          4.85117926939983,
          4.929789718862898,
          5.028659073648543,
          5.086854176466177,
          5.0962624173119675,
          4.898584400664395,
          5.070584375181237,
          4.9210309075162195,
          5.098445488935393,
          5.080221333917079,
          4.920897963297528,
          5.061119608220903,
          5.070392753297409,
          4.850272069332777,
          4.97548034326383,
          4.90747169249025,
          4.974057883457642,
          5.095152879166299,
          4.8542411270146095,
          5.0159028247362025,
          5.097748527891755,
          4.857911898594596,
          5.1222547268814385,
          5.109966247908695,
          4.881986498722978,
          4.921663005329528,
          4.945565489356072,
          4.903811252103706,
          2.9040060018035985,
          4.999738580792352,
          5.058620085384852,
          5.139465346597632,
          4.976172824523807,
          5.104004708221713,
          5.0368267533353315,
          4.986893147253051,
          5.055800170661211,
          5.102342601940541,
          5.072753808480345,
          4.903947227503779,
          4.87033066425852,
          3.1246096039101605,
          5.0377252064825155,
          4.857888493760628,
          4.882546280495582,
          5.139456364536509,
          4.955920199331904,
          5.1292552591642595,
          5.074048853102524,
          5.143222783295821,
          3.031136824515088,
          4.982287108757479,
          2.922330749786842,
          2.9502634792158706,
          2.089482525748476,
          5.025363011470065,
          5.102843736896583,
          0.9536792725408574,
          1.067820713336192,
          1.143732436285126,
          1.1265480547190492,
          1.0406801001905306,
          1.1061833501539868,
          1.0316251118574313,
          4.860735250543878,
          4.908198092639533,
          5.1271907568270425,
          4.985518832737957,
          5.078940663050189,
          4.898827823307551,
          4.936151561830961,
          5.034981105064673,
          5.132984900852245,
          5.123475251524537,
          4.908321110081274,
          4.987294856295031,
          4.8577388558989405,
          4.851641347705848,
          5.053559050249549,
          0.9051836780748427,
          0.9803215558174925,
          1.0087779707985354,
          0.9037240016467974,
          1.0043838820960385,
          1.0028135382510297,
          0.9645733367380448,
          0.9113338414961387,
          0.8956536816129692,
          5.038856845286482,
          4.863471728608853,
          4.983339978723734,
          4.8588295242235,
          4.974819366289606,
          4.991469317877691,
          4.9635546513614806,
          4.990443288069197,
          4.861082013169208,
          5.030761157340869,
          -0.022316353481759837,
          0.9301744545609547,
          0.9498603295986312,
          1.0011185202320951,
          5.0737020128132855,
          5.03796934735339,
          5.1400534781237255,
          -0.0001231547191066773,
          5.13798917560125,
          4.960569053218306,
          4.989641441224906,
          4.975876104673123,
          4.961259882398095,
          4.877622900874124,
          4.986427861429642,
          4.8518346781691895,
          5.122508566374932,
          5.0771270713488095,
          4.85737491997812,
          4.9862684844959455,
          5.053558301510292,
          4.992284066735746,
          5.142969986362126,
          5.029102713429413,
          4.852861814058154,
          4.938726513093535,
          4.9283571987283015,
          5.093044859139883,
          5.060883409346778,
          4.9336846670972045,
          0.9447119162185467,
          1.0891041056224147,
          1.097052783832507,
          1.1058847506068863,
          1.0852932671254658,
          0.8789327342776959,
          0.9030647254721071,
          1.0580653455724682,
          1.1296132423175165,
          5.061527803924125,
          4.97030670449033,
          5.14766108130866,
          5.065073621690785,
          5.134132855421788,
          5.015073317549438,
          1.057458681320229,
          0.88384384933047,
          4.926943097830692,
          4.878446447764561,
          5.038857866779194,
          5.134078143324813,
          1.0754681441275116,
          -0.10504778787020944,
          -0.0780644842565756,
          0.03853226839178525,
          -0.09905383438727594,
          4.918737935962755,
          0.9892803274486559,
          0.9855286728029119,
          1.005634736275015,
          0.9705448132263335,
          0.9446398447360503,
          1.106737848413584,
          0.9383119845891215,
          0.8559263274437153,
          1.072218177626924,
          1.1183969969760748,
          1.0426651908183808,
          1.0408942456551005,
          1.031279325897523,
          1.0854144071851757,
          4.938910165770382,
          0.9680268432728782,
          1.1059246354961025,
          1.114994573110234,
          1.0912453312429617,
          0.9921775508450636,
          5.019382138214851,
          5.041278647171107,
          5.0943992027845155,
          4.958324789101353,
          4.97416571930236,
          5.1482399452443595,
          5.0555859895854685,
          4.983190679213469,
          5.088990071179099,
          5.097419681301313,
          5.103189148653207,
          5.096410476436338,
          4.988593098611561,
          5.068713989196221,
          5.029673828937635,
          4.998901168553172,
          5.100522353274437,
          -0.11417308510701346,
          5.14828525786055,
          5.134157070868012,
          5.032069618710854,
          4.864083987058554,
          4.922042171733913,
          4.986752006313952,
          5.068668942272593,
          4.900345046768307,
          4.85035193934962,
          4.902215750431661,
          5.059112910547542,
          5.092891592973844,
          5.137653952009856,
          4.8558406205462274,
          4.919275037402023,
          4.90690398971341,
          0.005487551309410421,
          5.001108625923535,
          4.98711750252027,
          4.935222721866582,
          4.905660982159417,
          -0.1422033428280599,
          0.004288558725314667,
          0.05823079568235548,
          -0.11509442959340085,
          0.9258011844660282,
          1.013026215189878,
          0.9835133423252493,
          1.051382238371908,
          0.9489771729196264,
          5.082255966008677,
          5.005806194436928,
          5.964198774059048,
          6.007141694838268,
          6.056973832105313,
          5.919554704293246,
          6.146043744694722,
          5.998673127138849,
          5.878164559724332,
          5.8687522191188775,
          6.089151491865997,
          5.972155743633129,
          5.943277472326521,
          3.1057057297913127,
          5.867525074470089,
          5.922711155214431,
          5.897000112453718,
          3.0634845585906763,
          4.030508791743456,
          5.971049392370051,
          2.8866502955407123,
          4.899444977655939,
          5.999965458502875,
          5.936488071737461,
          5.874238031197902,
          5.993092604806702,
          5.882969936798786,
          2.968186616699633,
          4.004315872513733,
          3.9687689286280845,
          3.915721436432862,
          3.1231405599135167,
          4.098117906588919,
          4.014738476804227,
          3.8682805473949005,
          3.9782314894702124,
          4.017152090485386,
          5.898332064934035,
          5.9192854834698885,
          6.005071620642735,
          6.03084306548537,
          6.139898898074688,
          4.984029815290295,
          5.913668547773515,
          5.96679070232843,
          4.126104341737178,
          4.103390619380405,
          6.106850268767908,
          5.887275358712074,
          3.145893596758901,
          4.035018796179001,
          4.142098162733848,
          3.995655111991166,
          3.95655955211121,
          4.103076473713077,
          3.8869067284252092,
          4.00098778584029,
          4.101164491722813,
          6.113812764891664,
          5.014410132450786,
          5.972777509013709,
          4.083273707219306,
          5.1099959578632195,
          6.149803885915699,
          5.96547582030938,
          6.068990181939694,
          5.989993102026216,
          5.855235750675901,
          6.136064445504695,
          6.058941045265878,
          4.063073825665496,
          6.05045879876365,
          4.9033737780661575,
          5.936474994663364,
          6.070813937060983,
          4.90651463486482,
          5.9243104045175325,
          5.95770717083314,
          6.1401199819159515,
          6.1034027012957255,
          4.126279209748258,
          4.140763748077507,
          4.075092014350272,
          4.911243228551306,
          4.974647850245315,
          6.069166482094428,
          5.8911880295947885,
          5.12452195301797,
          3.9756787027673615,
          4.14787143780915,
          5.018617465601551,
          4.947538005680847,
          5.0680343259606495,
          5.029565939077712,
          2.857452864788113,
          2.926742227571802,
          3.034543682678176,
          4.127028415646837,
          3.0200139457397714,
          4.123743626158277,
          2.896037187328022,
          3.1447268156071067,
          3.936690545451367,
          5.048278696666479,
          4.035801645791229,
          4.125578973079615,
          5.01862054275449,
          4.919101286789289,
          4.989733844273109,
          4.857818376759761,
          5.117982564519823,
          5.131572406565057,
          5.050217418678526,
          4.988635136031021,
          5.133285163854266,
          4.98961449093584,
          3.0260978763895214,
          1.0346462854410579,
          0.9514447211053683,
          1.921888579117877,
          0.9507616105617215,
          2.0723950047127584,
          0.9165458531952542,
          2.083614469239797,
          1.9441106461274202,
          1.126128137973164,
          1.1153656528398501,
          0.9351561971544436,
          4.101318606099624,
          4.143509436892097,
          3.9649744572099,
          4.10740303216976,
          3.90323019889791,
          4.10737138978458,
          4.023344903087483,
          4.143930212868815,
          4.131331602760603,
          4.083989084386658,
          4.021071418922027,
          4.1297535684479625,
          4.10404393831945,
          4.060674632461342,
          0.9756643682052006,
          1.855443768967454,
          1.9211841574714001,
          -1.088266684870284,
          1.0919346565280674,
          -0.1072229226378733,
          4.121053330217893,
          2.137540719326566,
          4.134960661902505,
          4.014984451257069,
          4.0940228207904505,
          3.990262345230765,
          -0.14658413711320512,
          -0.11353632655495807,
          3.9774891369439516,
          3.937364616345405,
          3.8632267702587324,
          3.932346435030962,
          4.013965530826327,
          3.986680675880712,
          4.034858296853732,
          4.007238477476042,
          2.907577420067448,
          3.9404400476029173,
          0.8584323274952047,
          2.8537931892424697,
          4.107314910778019,
          4.115841965112455,
          4.118907641748341,
          2.9264719765980893,
          2.997794952711343,
          3.927387177595198,
          3.0245442539746934,
          2.8993448486764786,
          2.9833586040543065,
          2.8712328019587248,
          3.9529472504992293,
          2.8819637134739025,
          3.8628816028676405,
          2.0956150235083486,
          3.027655424252258,
          2.044146435926304,
          4.121612625476814,
          1.8715413176137767,
          3.935086835473985,
          4.128341313881329,
          2.0886618262481345,
          3.026600516332015,
          3.0770122297247102,
          3.0381502042739803,
          3.011813705621709,
          3.1208770605319636,
          2.9349101971454017,
          3.1340363223091225,
          3.1019641918474528,
          4.111728488615131,
          3.920872646066464,
          4.135483383139965,
          3.8540798079164267,
          4.059719387989747,
          3.977517563513554,
          3.8704438161346815,
          3.9627724180471207,
          2.9421350027499256,
          3.091785757742114,
          4.095854814816275,
          1.9941851498093988,
          3.945819716117349,
          1.9165290327054543,
          1.892976747098129,
          1.867968242973119,
          1.8534448963649297,
          1.9497385517571837,
          1.9983824067537665,
          2.0655088676527678,
          1.9122443022447857,
          1.893588962076411,
          1.9369639908191638,
          2.10402967662957,
          1.9904097224091029,
          1.9249083790196482,
          2.023691567840368,
          2.1013868531053945,
          1.8537269738987385,
          2.1167402926504626,
          1.9681872492228683,
          2.0389631853748593,
          1.9762609451533948,
          1.9974201168787769,
          1.9450115799229484,
          2.1127262978490156,
          1.9926341483653154,
          -0.10675624520558943,
          0.1246845640259904,
          0.1498762725568756,
          0.11771678211563516,
          -0.06723053518410858,
          -0.11103276018402602,
          0.022315288834653196,
          0.026016009633619802,
          0.05170308791977965,
          0.04535467370978305,
          0.07526754160272048,
          2.0304893328906943,
          2.100521170461058,
          1.9735455917781415,
          2.143748586420559,
          2.0196263124743514,
          1.9787788963248754,
          1.9664190425368444,
          1.8856217796101815,
          2.147619430900428,
          2.1246150833739494,
          2.0152511526235286,
          2.0485436159594186,
          2.1084481963158628,
          -0.07512451505150515,
          0.08891894985778132,
          -0.0958179040574697,
          0.0735997601075262,
          2.1477687239518826,
          1.9892109492809076,
          1.9661295880489094,
          1.9959681717690387,
          2.1208805554034305,
          2.029965909808907,
          1.8880397813140308,
          2.0872822950534045,
          2.0206360005286728,
          1.9542165086253727,
          1.9534043170436979,
          1.859395689544581,
          2.1367093773769508,
          1.907424855598773,
          1.9323481517787091,
          1.9530362926593197,
          1.957034847102216,
          1.866071145264815,
          2.0522693786415247,
          1.9171984013309225,
          2.1149017050660763,
          1.9375869033061996,
          1.9781468283540238,
          2.0354588099378055,
          1.9693010381623979,
          2.0289802164907065,
          2.0570156063840037,
          2.1057391738976423,
          1.9276879882401137,
          1.979428477272915,
          1.8509254013717311,
          2.072832454400285,
          1.9618558640352635,
          2.0738579619341073,
          1.919868999656741,
          1.8934455857061268,
          1.907414842627684,
          1.8826794715635509,
          2.104099665815129,
          2.1200552526938568,
          1.9031763539450277,
          2.1454526848734967,
          2.117478220903135,
          -0.08781405705926806,
          0.06937019815709972,
          0.060950375833561915,
          0.02540855716143653,
          -0.04315006146310871,
          0.057079794819150736,
          0.08940970357463418,
          -0.008547487967423162,
          0.11584873860127773,
          0.09051891010642718,
          -0.1262638235439546,
          0.0386793489548542,
          0.1420802685355458,
          0.010931418180829044,
          -0.0014888103373878747,
          1.989183325991938,
          1.8704475453725098,
          2.1069724832193764,
          2.0011073515271334,
          1.9172463326111047,
          2.104338216610565,
          2.124977235126399,
          1.8552407763316534,
          2.0215483080535086,
          1.9572868551372142,
          1.9004909467553728,
          1.9079117625544368,
          1.9170960613680728,
          2.0340735946064536,
          2.057270632971314,
          1.9209966692729956,
          2.120637132238891,
          2.105962113821831,
          1.911380725576449,
          2.0554112565685956,
          1.868624018247653,
          1.8954604237509263,
          -0.0483281456186386,
          0.05037323580977687,
          1.9379606335191921,
          1.8799549046742658,
          2.087433666740275,
          2.1119336470438936,
          1.8840614753769465,
          1.9459648336518123,
          0.012627705129853117,
          2.077595672887453,
          2.0495607726361653,
          2.073603434515749,
          2.013097759215925,
          1.98493318842534,
          0.1381450438573061,
          0.05091556304995096,
          0.08760300391371584,
          -0.1286830349608274,
          -0.01601330726371597,
          0.092025669218988,
          0.11392955986224576,
          -0.06598875667948474,
          0.147427136464137,
          0.05793457558775428,
          -0.14315009050504093,
          -0.0874955137762465,
          -0.07869029578587668,
          0.06197303774195895,
          -0.08304046197439505,
          0.038746669477705636,
          2.0769598577336508,
          1.973179663253602,
          1.8724029641274884,
          0.13894387482454065,
          0.0875616501000189,
          -0.06608767148851492,
          -0.10162946065529146,
          -0.0858348079069614,
          -0.02153597807470592,
          0.0868612095404521,
          0.028943261064343362,
          0.1146751955711812,
          -0.1461968834081396,
          -0.11501986570610945,
          0.01334038177331548,
          0.09297054414147463,
          -0.11346046068139345,
          2.0671484471733574,
          2.0751109386457194,
          2.1084312926863427,
          2.097162219506019,
          1.9939508902690835,
          2.0823026646801193,
          1.8738946681634552,
          1.8671771667990003,
          2.0846107802873135,
          2.042435410695321,
          2.126503279672333,
          1.941593337954128,
          1.9306602068840808,
          1.9898631230576738,
          2.0795554315377407,
          1.9321730852224612,
          1.9619570943642421,
          1.915575870662125,
          2.019957397059958,
          1.8561811251475726,
          1.8817347555038753,
          1.979721857866372,
          2.1197218838102354,
          2.0054419792085008,
          1.8523012676207795,
          1.9452794848348218,
          1.9714598452099996,
          2.0374163766646185,
          1.941336940838779,
          1.9777255654691313,
          1.8577921481948088,
          2.0064228419292816,
          1.8611955561872437,
          1.9200445192223679,
          1.8740387819922635,
          1.9679225321583342,
          1.9423312904522572,
          2.1002336057039286,
          2.1434064960819446,
          1.8902576774830022,
          1.9730435531348387,
          1.9051992394349293,
          1.9239204339581002,
          2.1493321250051394,
          1.9223710940604224,
          2.054611654867621,
          1.9338090139704498,
          2.061469860811418,
          2.1125265382188556,
          2.0989707484524565,
          1.9809889157465774,
          2.1176410243417556,
          2.115435524320716,
          1.995773329229734,
          1.8676687518620978,
          1.8790719577073032,
          2.046720408249886,
          2.1436090757966824,
          2.079884746908198,
          1.9387113312825504,
          -0.09287506888963129,
          -0.02314790690453894,
          0.00213102535831855,
          -0.0005125010161933508,
          0.11778967889405953,
          1.8785987917829714,
          1.9162768592527566,
          2.0895979654604235,
          2.0302934835925126,
          1.888661713545915,
          1.9286631067486568,
          1.897321750818708,
          2.1402718232594986,
          1.957008743657098,
          2.075874775173222,
          1.8776766854005573,
          1.9845478128937941
         ],
         "yaxis": "y"
        },
        {
         "customdata": [
          [
           true,
           "Streptococcus agalactiae"
          ],
          [
           true,
           "Streptococcus agalactiae"
          ],
          [
           true,
           "Streptococcus anginosus"
          ],
          [
           true,
           "Streptococcus anginosus"
          ],
          [
           true,
           "Streptococcus anginosus"
          ],
          [
           true,
           "Streptococcus agalactiae"
          ],
          [
           true,
           "Streptococcus agalactiae"
          ],
          [
           true,
           "Streptococcus agalactiae"
          ],
          [
           true,
           "Streptococcus agalactiae"
          ],
          [
           true,
           "Streptococcus agalactiae"
          ],
          [
           true,
           "Streptococcus agalactiae"
          ],
          [
           true,
           "Streptococcus agalactiae"
          ],
          [
           true,
           "Streptococcus agalactiae"
          ],
          [
           true,
           "Streptococcus agalactiae"
          ],
          [
           true,
           "Streptococcus anginosus"
          ],
          [
           true,
           "Streptococcus salivarius"
          ],
          [
           true,
           "Staphylococcus aureus"
          ],
          [
           true,
           "Streptococcus pneumoniae"
          ],
          [
           true,
           "Streptococcus pneumoniae"
          ],
          [
           true,
           "Streptococcus pyogenes"
          ],
          [
           true,
           "Streptococcus pyogenes"
          ],
          [
           true,
           "Streptococcus pyogenes"
          ],
          [
           true,
           "Streptococcus oralis"
          ],
          [
           true,
           "Streptococcus oralis"
          ],
          [
           true,
           "Streptococcus oralis"
          ],
          [
           true,
           "Streptococcus pneumoniae"
          ],
          [
           true,
           "Streptococcus pyogenes"
          ],
          [
           true,
           "Streptococcus pyogenes"
          ],
          [
           true,
           "Streptococcus pyogenes"
          ],
          [
           true,
           "Streptococcus pyogenes"
          ],
          [
           true,
           "Streptococcus pyogenes"
          ],
          [
           true,
           "Streptococcus pyogenes"
          ],
          [
           true,
           "Streptococcus agalactiae"
          ],
          [
           true,
           "Streptococcus anginosus"
          ],
          [
           true,
           "Streptococcus sanguinis"
          ],
          [
           true,
           "Streptococcus agalactiae"
          ],
          [
           true,
           "Staphylococcus lugdunensis"
          ],
          [
           true,
           "Staphylococcus lugdunensis"
          ],
          [
           true,
           "Streptococcus agalactiae"
          ],
          [
           true,
           "Streptococcus agalactiae"
          ],
          [
           true,
           "Streptococcus agalactiae"
          ],
          [
           true,
           "Streptococcus agalactiae"
          ],
          [
           true,
           "Streptococcus agalactiae"
          ],
          [
           true,
           "Streptococcus agalactiae"
          ],
          [
           true,
           "Streptococcus agalactiae"
          ],
          [
           true,
           "Streptococcus agalactiae"
          ],
          [
           true,
           "Streptococcus pyogenes"
          ],
          [
           true,
           "Streptococcus pyogenes"
          ],
          [
           true,
           "Streptococcus pyogenes"
          ],
          [
           true,
           "Streptococcus pyogenes"
          ],
          [
           true,
           "Streptococcus pyogenes"
          ],
          [
           true,
           "Streptococcus pyogenes"
          ],
          [
           true,
           "Streptococcus pyogenes"
          ],
          [
           true,
           "Streptococcus pyogenes"
          ],
          [
           true,
           "Streptococcus pyogenes"
          ],
          [
           true,
           "Streptococcus pyogenes"
          ],
          [
           true,
           "Streptococcus pyogenes"
          ],
          [
           true,
           "Streptococcus pyogenes"
          ],
          [
           true,
           "Staphylococcus aureus"
          ],
          [
           true,
           "Staphylococcus lugdunensis"
          ],
          [
           true,
           "Staphylococcus lugdunensis"
          ],
          [
           true,
           "Staphylococcus lugdunensis"
          ],
          [
           true,
           "Staphylococcus aureus"
          ],
          [
           true,
           "Streptococcus pneumoniae"
          ],
          [
           true,
           "Staphylococcus lugdunensis"
          ],
          [
           true,
           "Enterococcus faecalis"
          ],
          [
           true,
           "Enterococcus faecalis"
          ],
          [
           true,
           "Enterococcus faecalis"
          ],
          [
           true,
           "Streptococcus anginosus"
          ],
          [
           true,
           "Streptococcus anginosus"
          ],
          [
           true,
           "Streptococcus anginosus"
          ],
          [
           true,
           "Streptococcus anginosus"
          ],
          [
           true,
           "Streptococcus salivarius"
          ],
          [
           true,
           "Enterococcus faecalis"
          ],
          [
           true,
           "Streptococcus oralis"
          ],
          [
           true,
           "Streptococcus oralis"
          ],
          [
           true,
           "Streptococcus oralis"
          ],
          [
           true,
           "Enterococcus faecium"
          ],
          [
           true,
           "Staphylococcus aureus"
          ],
          [
           true,
           "Staphylococcus aureus"
          ],
          [
           true,
           "Staphylococcus aureus"
          ],
          [
           true,
           "Staphylococcus aureus"
          ],
          [
           true,
           "Staphylococcus aureus"
          ],
          [
           true,
           "Staphylococcus aureus"
          ],
          [
           true,
           "Staphylococcus aureus"
          ],
          [
           true,
           "Staphylococcus aureus"
          ],
          [
           true,
           "Staphylococcus aureus"
          ],
          [
           true,
           "Staphylococcus aureus"
          ],
          [
           true,
           "Staphylococcus aureus"
          ],
          [
           true,
           "Staphylococcus aureus"
          ],
          [
           true,
           "Staphylococcus aureus"
          ],
          [
           true,
           "Staphylococcus aureus"
          ],
          [
           true,
           "Staphylococcus aureus"
          ],
          [
           true,
           "Staphylococcus aureus"
          ],
          [
           true,
           "Staphylococcus aureus"
          ],
          [
           true,
           "Staphylococcus aureus"
          ],
          [
           true,
           "Staphylococcus aureus"
          ],
          [
           true,
           "Staphylococcus aureus"
          ],
          [
           true,
           "Staphylococcus aureus"
          ],
          [
           true,
           "Staphylococcus aureus"
          ],
          [
           true,
           "Staphylococcus aureus"
          ],
          [
           true,
           "Staphylococcus aureus"
          ],
          [
           true,
           "Staphylococcus aureus"
          ],
          [
           true,
           "Staphylococcus aureus"
          ],
          [
           true,
           "Staphylococcus aureus"
          ],
          [
           true,
           "Staphylococcus aureus"
          ],
          [
           true,
           "Staphylococcus aureus"
          ],
          [
           true,
           "Staphylococcus aureus"
          ],
          [
           true,
           "Staphylococcus aureus"
          ],
          [
           true,
           "Staphylococcus aureus"
          ],
          [
           true,
           "Staphylococcus aureus"
          ],
          [
           true,
           "Staphylococcus aureus"
          ],
          [
           true,
           "Staphylococcus aureus"
          ],
          [
           true,
           "Staphylococcus aureus"
          ],
          [
           true,
           "Staphylococcus aureus"
          ],
          [
           true,
           "Staphylococcus aureus"
          ],
          [
           true,
           "Staphylococcus aureus"
          ],
          [
           true,
           "Staphylococcus aureus"
          ],
          [
           true,
           "Staphylococcus aureus"
          ],
          [
           true,
           "Staphylococcus aureus"
          ],
          [
           true,
           "Staphylococcus aureus"
          ],
          [
           true,
           "Staphylococcus aureus"
          ],
          [
           true,
           "Staphylococcus aureus"
          ],
          [
           true,
           "Staphylococcus aureus"
          ],
          [
           true,
           "Staphylococcus aureus"
          ],
          [
           true,
           "Staphylococcus aureus"
          ],
          [
           true,
           "Staphylococcus aureus"
          ],
          [
           true,
           "Staphylococcus aureus"
          ],
          [
           true,
           "Staphylococcus aureus"
          ],
          [
           true,
           "Staphylococcus aureus"
          ],
          [
           true,
           "Staphylococcus aureus"
          ],
          [
           true,
           "Staphylococcus aureus"
          ],
          [
           true,
           "Staphylococcus aureus"
          ],
          [
           true,
           "Staphylococcus aureus"
          ],
          [
           true,
           "Staphylococcus aureus"
          ],
          [
           true,
           "Staphylococcus aureus"
          ],
          [
           true,
           "Staphylococcus aureus"
          ],
          [
           true,
           "Staphylococcus aureus"
          ],
          [
           true,
           "Staphylococcus aureus"
          ],
          [
           true,
           "Staphylococcus aureus"
          ],
          [
           true,
           "Staphylococcus aureus"
          ],
          [
           true,
           "Staphylococcus aureus"
          ],
          [
           true,
           "Staphylococcus aureus"
          ],
          [
           true,
           "Staphylococcus aureus"
          ],
          [
           true,
           "Staphylococcus aureus"
          ],
          [
           true,
           "Staphylococcus aureus"
          ],
          [
           true,
           "Staphylococcus aureus"
          ],
          [
           true,
           "Staphylococcus aureus"
          ],
          [
           true,
           "Staphylococcus aureus"
          ],
          [
           true,
           "Staphylococcus aureus"
          ],
          [
           true,
           "Staphylococcus aureus"
          ],
          [
           true,
           "Staphylococcus aureus"
          ],
          [
           true,
           "Staphylococcus aureus"
          ],
          [
           true,
           "Staphylococcus aureus"
          ],
          [
           true,
           "Staphylococcus aureus"
          ],
          [
           true,
           "Staphylococcus aureus"
          ],
          [
           true,
           "Staphylococcus aureus"
          ],
          [
           true,
           "Staphylococcus aureus"
          ],
          [
           true,
           "Staphylococcus aureus"
          ],
          [
           true,
           "Staphylococcus aureus"
          ],
          [
           true,
           "Staphylococcus aureus"
          ],
          [
           true,
           "Staphylococcus aureus"
          ],
          [
           true,
           "Staphylococcus aureus"
          ],
          [
           true,
           "Staphylococcus aureus"
          ],
          [
           true,
           "Staphylococcus aureus"
          ],
          [
           true,
           "Staphylococcus aureus"
          ],
          [
           true,
           "Staphylococcus aureus"
          ],
          [
           true,
           "Staphylococcus aureus"
          ],
          [
           true,
           "Staphylococcus aureus"
          ],
          [
           true,
           "Staphylococcus aureus"
          ],
          [
           true,
           "Staphylococcus aureus"
          ],
          [
           true,
           "Staphylococcus aureus"
          ],
          [
           true,
           "Staphylococcus aureus"
          ],
          [
           true,
           "Staphylococcus aureus"
          ],
          [
           true,
           "Staphylococcus aureus"
          ],
          [
           true,
           "Staphylococcus aureus"
          ],
          [
           true,
           "Staphylococcus aureus"
          ],
          [
           true,
           "Staphylococcus aureus"
          ],
          [
           true,
           "Staphylococcus aureus"
          ],
          [
           true,
           "Staphylococcus aureus"
          ],
          [
           true,
           "Staphylococcus aureus"
          ],
          [
           true,
           "Staphylococcus aureus"
          ],
          [
           true,
           "Staphylococcus aureus"
          ],
          [
           true,
           "Staphylococcus aureus"
          ],
          [
           true,
           "Staphylococcus aureus"
          ],
          [
           true,
           "Staphylococcus aureus"
          ],
          [
           true,
           "Staphylococcus aureus"
          ],
          [
           true,
           "Staphylococcus aureus"
          ],
          [
           true,
           "Staphylococcus aureus"
          ],
          [
           true,
           "Staphylococcus aureus"
          ],
          [
           true,
           "Staphylococcus aureus"
          ],
          [
           true,
           "Staphylococcus aureus"
          ],
          [
           true,
           "Staphylococcus aureus"
          ],
          [
           true,
           "Staphylococcus aureus"
          ],
          [
           true,
           "Staphylococcus aureus"
          ],
          [
           true,
           "Staphylococcus aureus"
          ],
          [
           true,
           "Staphylococcus aureus"
          ],
          [
           true,
           "Staphylococcus aureus"
          ],
          [
           true,
           "Staphylococcus aureus"
          ],
          [
           true,
           "Staphylococcus aureus"
          ],
          [
           true,
           "Staphylococcus aureus"
          ],
          [
           true,
           "Staphylococcus aureus"
          ],
          [
           true,
           "Staphylococcus aureus"
          ],
          [
           true,
           "Staphylococcus aureus"
          ],
          [
           true,
           "Staphylococcus aureus"
          ],
          [
           true,
           "Staphylococcus aureus"
          ],
          [
           true,
           "Staphylococcus aureus"
          ],
          [
           true,
           "Staphylococcus aureus"
          ],
          [
           true,
           "Staphylococcus aureus"
          ],
          [
           true,
           "Staphylococcus aureus"
          ],
          [
           true,
           "Staphylococcus aureus"
          ],
          [
           true,
           "Staphylococcus aureus"
          ],
          [
           true,
           "Staphylococcus aureus"
          ],
          [
           true,
           "Staphylococcus aureus"
          ],
          [
           true,
           "Staphylococcus aureus"
          ],
          [
           true,
           "Staphylococcus aureus"
          ],
          [
           true,
           "Staphylococcus aureus"
          ],
          [
           true,
           "Staphylococcus aureus"
          ],
          [
           true,
           "Staphylococcus aureus"
          ],
          [
           true,
           "Staphylococcus aureus"
          ],
          [
           true,
           "Staphylococcus aureus"
          ],
          [
           true,
           "Staphylococcus aureus"
          ],
          [
           true,
           "Staphylococcus aureus"
          ],
          [
           true,
           "Staphylococcus aureus"
          ],
          [
           true,
           "Staphylococcus aureus"
          ],
          [
           true,
           "Staphylococcus aureus"
          ],
          [
           true,
           "Staphylococcus aureus"
          ],
          [
           true,
           "Staphylococcus aureus"
          ],
          [
           true,
           "Staphylococcus aureus"
          ],
          [
           true,
           "Staphylococcus aureus"
          ],
          [
           true,
           "Staphylococcus aureus"
          ],
          [
           true,
           "Staphylococcus aureus"
          ],
          [
           true,
           "Staphylococcus aureus"
          ],
          [
           true,
           "Staphylococcus aureus"
          ],
          [
           true,
           "Staphylococcus aureus"
          ],
          [
           true,
           "Staphylococcus aureus"
          ],
          [
           true,
           "Staphylococcus aureus"
          ],
          [
           true,
           "Staphylococcus aureus"
          ],
          [
           true,
           "Staphylococcus aureus"
          ],
          [
           true,
           "Staphylococcus aureus"
          ],
          [
           true,
           "Staphylococcus aureus"
          ],
          [
           true,
           "Staphylococcus aureus"
          ],
          [
           true,
           "Staphylococcus aureus"
          ],
          [
           true,
           "Staphylococcus aureus"
          ],
          [
           true,
           "Staphylococcus aureus"
          ],
          [
           true,
           "Staphylococcus aureus"
          ],
          [
           true,
           "Staphylococcus aureus"
          ],
          [
           true,
           "Staphylococcus aureus"
          ],
          [
           true,
           "Staphylococcus aureus"
          ],
          [
           true,
           "Staphylococcus aureus"
          ],
          [
           true,
           "Staphylococcus aureus"
          ],
          [
           true,
           "Staphylococcus aureus"
          ],
          [
           true,
           "Staphylococcus aureus"
          ],
          [
           true,
           "Staphylococcus aureus"
          ],
          [
           true,
           "Staphylococcus aureus"
          ],
          [
           true,
           "Staphylococcus aureus"
          ],
          [
           true,
           "Staphylococcus aureus"
          ],
          [
           true,
           "Staphylococcus aureus"
          ],
          [
           true,
           "Staphylococcus aureus"
          ],
          [
           true,
           "Staphylococcus aureus"
          ],
          [
           true,
           "Staphylococcus aureus"
          ],
          [
           true,
           "Staphylococcus aureus"
          ],
          [
           true,
           "Staphylococcus aureus"
          ],
          [
           true,
           "Staphylococcus aureus"
          ],
          [
           true,
           "Staphylococcus aureus"
          ],
          [
           true,
           "Staphylococcus aureus"
          ],
          [
           true,
           "Staphylococcus aureus"
          ],
          [
           true,
           "Staphylococcus aureus"
          ],
          [
           true,
           "Staphylococcus aureus"
          ],
          [
           true,
           "Staphylococcus aureus"
          ],
          [
           true,
           "Staphylococcus aureus"
          ],
          [
           true,
           "Staphylococcus aureus"
          ],
          [
           true,
           "Staphylococcus aureus"
          ],
          [
           true,
           "Staphylococcus aureus"
          ],
          [
           true,
           "Staphylococcus aureus"
          ],
          [
           true,
           "Staphylococcus aureus"
          ],
          [
           true,
           "Staphylococcus aureus"
          ],
          [
           true,
           "Staphylococcus aureus"
          ],
          [
           true,
           "Staphylococcus aureus"
          ],
          [
           true,
           "Staphylococcus aureus"
          ],
          [
           true,
           "Staphylococcus aureus"
          ],
          [
           true,
           "Staphylococcus aureus"
          ],
          [
           true,
           "Staphylococcus aureus"
          ],
          [
           true,
           "Staphylococcus aureus"
          ],
          [
           true,
           "Staphylococcus aureus"
          ],
          [
           true,
           "Staphylococcus aureus"
          ],
          [
           true,
           "Staphylococcus aureus"
          ],
          [
           true,
           "Staphylococcus aureus"
          ],
          [
           true,
           "Staphylococcus aureus"
          ],
          [
           true,
           "Staphylococcus aureus"
          ],
          [
           true,
           "Staphylococcus aureus"
          ],
          [
           true,
           "Staphylococcus aureus"
          ],
          [
           true,
           "Staphylococcus aureus"
          ],
          [
           true,
           "Staphylococcus aureus"
          ],
          [
           true,
           "Staphylococcus aureus"
          ],
          [
           true,
           "Staphylococcus aureus"
          ],
          [
           true,
           "Staphylococcus aureus"
          ],
          [
           true,
           "Staphylococcus aureus"
          ],
          [
           true,
           "Staphylococcus aureus"
          ],
          [
           true,
           "Staphylococcus aureus"
          ],
          [
           true,
           "Staphylococcus aureus"
          ],
          [
           true,
           "Staphylococcus aureus"
          ],
          [
           true,
           "Streptococcus anginosus"
          ],
          [
           true,
           "Streptococcus anginosus"
          ],
          [
           true,
           "Streptococcus salivarius"
          ],
          [
           true,
           "Streptococcus pneumoniae"
          ],
          [
           true,
           "Streptococcus pneumoniae"
          ],
          [
           true,
           "Streptococcus pneumoniae"
          ],
          [
           true,
           "Streptococcus pneumoniae"
          ],
          [
           true,
           "Streptococcus pneumoniae"
          ],
          [
           true,
           "Streptococcus oralis"
          ],
          [
           true,
           "Streptococcus oralis"
          ],
          [
           true,
           "Streptococcus pneumoniae"
          ],
          [
           true,
           "Streptococcus sanguinis"
          ],
          [
           true,
           "Streptococcus salivarius"
          ],
          [
           true,
           "Streptococcus pneumoniae"
          ],
          [
           true,
           "Streptococcus anginosus"
          ],
          [
           true,
           "Streptococcus sanguinis"
          ],
          [
           true,
           "Streptococcus anginosus"
          ],
          [
           true,
           "Streptococcus pneumoniae"
          ],
          [
           true,
           "Streptococcus pneumoniae"
          ],
          [
           true,
           "Streptococcus pneumoniae"
          ],
          [
           true,
           "Streptococcus pneumoniae"
          ],
          [
           true,
           "Streptococcus pneumoniae"
          ],
          [
           true,
           "Streptococcus pneumoniae"
          ],
          [
           true,
           "Streptococcus pneumoniae"
          ],
          [
           true,
           "Streptococcus mitis"
          ],
          [
           true,
           "Streptococcus sanguinis"
          ],
          [
           true,
           "Streptococcus oralis"
          ],
          [
           true,
           "Streptococcus pneumoniae"
          ],
          [
           true,
           "Streptococcus pneumoniae"
          ],
          [
           true,
           "Streptococcus pneumoniae"
          ],
          [
           true,
           "Streptococcus pneumoniae"
          ],
          [
           true,
           "Streptococcus pneumoniae"
          ],
          [
           true,
           "Streptococcus salivarius"
          ],
          [
           true,
           "Streptococcus anginosus"
          ],
          [
           true,
           "Streptococcus anginosus"
          ],
          [
           true,
           "Streptococcus anginosus"
          ],
          [
           true,
           "Streptococcus anginosus"
          ],
          [
           true,
           "Streptococcus salivarius"
          ],
          [
           true,
           "Streptococcus pneumoniae"
          ],
          [
           true,
           "Streptococcus pneumoniae"
          ],
          [
           true,
           "Streptococcus pneumoniae"
          ],
          [
           true,
           "Streptococcus pneumoniae"
          ],
          [
           true,
           "Streptococcus pneumoniae"
          ],
          [
           true,
           "Streptococcus pneumoniae"
          ],
          [
           true,
           "Streptococcus pneumoniae"
          ],
          [
           true,
           "Streptococcus pneumoniae"
          ],
          [
           true,
           "Streptococcus oralis"
          ],
          [
           true,
           "Streptococcus oralis"
          ],
          [
           true,
           "Streptococcus oralis"
          ],
          [
           true,
           "Streptococcus pneumoniae"
          ],
          [
           true,
           "Streptococcus sanguinis"
          ],
          [
           true,
           "Streptococcus salivarius"
          ],
          [
           true,
           "Streptococcus salivarius"
          ],
          [
           true,
           "Streptococcus pneumoniae"
          ],
          [
           true,
           "Streptococcus anginosus"
          ],
          [
           true,
           "Streptococcus mitis"
          ],
          [
           true,
           "Streptococcus pneumoniae"
          ],
          [
           true,
           "Streptococcus sanguinis"
          ],
          [
           true,
           "Streptococcus sanguinis"
          ],
          [
           true,
           "Streptococcus mitis"
          ],
          [
           true,
           "Streptococcus anginosus"
          ],
          [
           true,
           "Streptococcus pneumoniae"
          ],
          [
           true,
           "Streptococcus pneumoniae"
          ],
          [
           true,
           "Streptococcus pneumoniae"
          ],
          [
           true,
           "Streptococcus pneumoniae"
          ],
          [
           true,
           "Streptococcus pneumoniae"
          ],
          [
           true,
           "Streptococcus pneumoniae"
          ],
          [
           true,
           "Streptococcus pneumoniae"
          ],
          [
           true,
           "Streptococcus pneumoniae"
          ],
          [
           true,
           "Streptococcus mitis"
          ],
          [
           true,
           "Streptococcus mitis"
          ],
          [
           true,
           "Streptococcus sanguinis"
          ],
          [
           true,
           "Streptococcus mitis"
          ],
          [
           true,
           "Streptococcus oralis"
          ],
          [
           true,
           "Streptococcus oralis"
          ],
          [
           true,
           "Streptococcus pneumoniae"
          ],
          [
           true,
           "Streptococcus sanguinis"
          ],
          [
           true,
           "Streptococcus sanguinis"
          ],
          [
           true,
           "Streptococcus sanguinis"
          ],
          [
           true,
           "Streptococcus pneumoniae"
          ],
          [
           true,
           "Streptococcus pneumoniae"
          ],
          [
           true,
           "Streptococcus pneumoniae"
          ],
          [
           true,
           "Streptococcus pneumoniae"
          ],
          [
           true,
           "Streptococcus pneumoniae"
          ],
          [
           true,
           "Streptococcus pneumoniae"
          ],
          [
           true,
           "Streptococcus pneumoniae"
          ],
          [
           true,
           "Streptococcus salivarius"
          ],
          [
           true,
           "Streptococcus salivarius"
          ],
          [
           true,
           "Streptococcus salivarius"
          ],
          [
           true,
           "Streptococcus salivarius"
          ],
          [
           true,
           "Enterococcus faecalis"
          ],
          [
           false,
           "Enterococcus faecalis"
          ],
          [
           true,
           "Enterococcus faecium"
          ],
          [
           false,
           "Enterococcus faecium"
          ],
          [
           true,
           "Enterococcus faecalis"
          ],
          [
           false,
           "Enterococcus faecium"
          ],
          [
           false,
           "Enterococcus faecalis"
          ],
          [
           true,
           "Enterococcus faecium"
          ],
          [
           false,
           "Enterococcus faecium"
          ],
          [
           true,
           "Enterococcus faecium"
          ],
          [
           false,
           "Enterococcus faecium"
          ],
          [
           false,
           "Enterococcus faecium"
          ],
          [
           false,
           "Enterococcus faecium"
          ],
          [
           true,
           "Enterococcus faecalis"
          ],
          [
           false,
           "Enterococcus faecium"
          ],
          [
           true,
           "Enterococcus faecium"
          ],
          [
           false,
           "Enterococcus faecium"
          ],
          [
           true,
           "Enterococcus faecium"
          ],
          [
           true,
           "Enterococcus faecium"
          ],
          [
           true,
           "Enterococcus faecium"
          ],
          [
           false,
           "Enterococcus faecium"
          ],
          [
           true,
           "Enterococcus faecium"
          ],
          [
           false,
           "Enterococcus faecium"
          ],
          [
           true,
           "Enterococcus faecium"
          ],
          [
           true,
           "Enterococcus faecium"
          ],
          [
           false,
           "Enterococcus faecium"
          ],
          [
           true,
           "Enterococcus faecium"
          ],
          [
           false,
           "Enterococcus faecium"
          ],
          [
           true,
           "Enterococcus faecium"
          ],
          [
           true,
           "Enterococcus faecium"
          ],
          [
           true,
           "Enterococcus faecium"
          ],
          [
           true,
           "Enterococcus faecium"
          ],
          [
           true,
           "Enterococcus faecium"
          ],
          [
           true,
           "Enterococcus faecium"
          ],
          [
           true,
           "Enterococcus faecium"
          ],
          [
           true,
           "Enterococcus faecium"
          ],
          [
           true,
           "Enterococcus faecium"
          ],
          [
           true,
           "Enterococcus faecium"
          ],
          [
           false,
           "Enterococcus faecium"
          ],
          [
           false,
           "Enterococcus faecium"
          ],
          [
           false,
           "Enterococcus faecium"
          ],
          [
           false,
           "Enterococcus faecium"
          ],
          [
           true,
           "Enterococcus faecium"
          ],
          [
           true,
           "Enterococcus faecium"
          ],
          [
           false,
           "Enterococcus faecalis"
          ],
          [
           true,
           "Staphylococcus aureus"
          ],
          [
           true,
           "Staphylococcus aureus"
          ],
          [
           true,
           "Staphylococcus aureus"
          ],
          [
           true,
           "Staphylococcus aureus"
          ],
          [
           true,
           "Staphylococcus aureus"
          ],
          [
           true,
           "Staphylococcus aureus"
          ],
          [
           true,
           "Staphylococcus aureus"
          ],
          [
           true,
           "Staphylococcus aureus"
          ],
          [
           true,
           "Staphylococcus aureus"
          ],
          [
           true,
           "Staphylococcus aureus"
          ],
          [
           true,
           "Staphylococcus aureus"
          ],
          [
           true,
           "Staphylococcus aureus"
          ],
          [
           true,
           "Staphylococcus aureus"
          ],
          [
           true,
           "Staphylococcus aureus"
          ],
          [
           true,
           "Staphylococcus aureus"
          ],
          [
           true,
           "Staphylococcus aureus"
          ],
          [
           true,
           "Staphylococcus aureus"
          ],
          [
           true,
           "Staphylococcus aureus"
          ],
          [
           true,
           "Staphylococcus aureus"
          ],
          [
           true,
           "Staphylococcus aureus"
          ],
          [
           true,
           "Staphylococcus aureus"
          ],
          [
           true,
           "Staphylococcus aureus"
          ],
          [
           true,
           "Staphylococcus aureus"
          ],
          [
           true,
           "Staphylococcus aureus"
          ],
          [
           true,
           "Staphylococcus aureus"
          ],
          [
           true,
           "Staphylococcus capitis"
          ],
          [
           true,
           "Staphylococcus capitis"
          ],
          [
           true,
           "Staphylococcus epidermidis"
          ],
          [
           true,
           "Staphylococcus epidermidis"
          ],
          [
           true,
           "Staphylococcus capitis"
          ],
          [
           true,
           "Staphylococcus capitis"
          ],
          [
           true,
           "Staphylococcus capitis"
          ],
          [
           true,
           "Staphylococcus capitis"
          ],
          [
           true,
           "Staphylococcus capitis"
          ],
          [
           true,
           "Staphylococcus capitis"
          ],
          [
           true,
           "Staphylococcus epidermidis"
          ],
          [
           true,
           "Staphylococcus epidermidis"
          ],
          [
           true,
           "Staphylococcus epidermidis"
          ],
          [
           true,
           "Staphylococcus epidermidis"
          ],
          [
           true,
           "Staphylococcus epidermidis"
          ],
          [
           true,
           "Staphylococcus epidermidis"
          ],
          [
           true,
           "Staphylococcus epidermidis"
          ],
          [
           true,
           "Staphylococcus epidermidis"
          ],
          [
           true,
           "Staphylococcus epidermidis"
          ],
          [
           true,
           "Staphylococcus epidermidis"
          ],
          [
           true,
           "Staphylococcus epidermidis"
          ],
          [
           true,
           "Staphylococcus epidermidis"
          ],
          [
           true,
           "Staphylococcus epidermidis"
          ],
          [
           true,
           "Staphylococcus epidermidis"
          ],
          [
           true,
           "Staphylococcus epidermidis"
          ],
          [
           true,
           "Staphylococcus epidermidis"
          ],
          [
           true,
           "Staphylococcus epidermidis"
          ],
          [
           true,
           "Staphylococcus epidermidis"
          ],
          [
           true,
           "Staphylococcus epidermidis"
          ],
          [
           true,
           "Staphylococcus epidermidis"
          ],
          [
           true,
           "Staphylococcus epidermidis"
          ],
          [
           true,
           "Staphylococcus epidermidis"
          ],
          [
           true,
           "Staphylococcus epidermidis"
          ],
          [
           true,
           "Staphylococcus epidermidis"
          ],
          [
           true,
           "Staphylococcus epidermidis"
          ],
          [
           true,
           "Staphylococcus epidermidis"
          ],
          [
           true,
           "Staphylococcus epidermidis"
          ],
          [
           true,
           "Staphylococcus epidermidis"
          ],
          [
           true,
           "Staphylococcus epidermidis"
          ],
          [
           true,
           "Staphylococcus aureus"
          ],
          [
           true,
           "Staphylococcus aureus"
          ],
          [
           true,
           "Staphylococcus epidermidis"
          ],
          [
           true,
           "Staphylococcus epidermidis"
          ],
          [
           true,
           "Staphylococcus epidermidis"
          ],
          [
           true,
           "Staphylococcus epidermidis"
          ],
          [
           true,
           "Staphylococcus epidermidis"
          ],
          [
           true,
           "Staphylococcus epidermidis"
          ],
          [
           true,
           "Staphylococcus epidermidis"
          ],
          [
           true,
           "Staphylococcus epidermidis"
          ],
          [
           true,
           "Staphylococcus epidermidis"
          ],
          [
           true,
           "Staphylococcus hominis"
          ],
          [
           true,
           "Staphylococcus epidermidis"
          ],
          [
           true,
           "Staphylococcus hominis"
          ],
          [
           true,
           "Staphylococcus hominis"
          ],
          [
           true,
           "Staphylococcus hominis"
          ],
          [
           true,
           "Staphylococcus hominis"
          ],
          [
           true,
           "Staphylococcus hominis"
          ],
          [
           true,
           "Staphylococcus hominis"
          ],
          [
           true,
           "Staphylococcus hominis"
          ],
          [
           true,
           "Staphylococcus hominis"
          ],
          [
           true,
           "Staphylococcus hominis"
          ],
          [
           true,
           "Staphylococcus hominis"
          ],
          [
           true,
           "Staphylococcus hominis"
          ],
          [
           true,
           "Staphylococcus hominis"
          ],
          [
           true,
           "Staphylococcus hominis"
          ],
          [
           true,
           "Staphylococcus hominis"
          ],
          [
           true,
           "Staphylococcus hominis"
          ],
          [
           true,
           "Staphylococcus hominis"
          ],
          [
           true,
           "Staphylococcus aureus"
          ],
          [
           true,
           "Staphylococcus aureus"
          ],
          [
           true,
           "Staphylococcus aureus"
          ],
          [
           true,
           "Staphylococcus aureus"
          ],
          [
           true,
           "Staphylococcus aureus"
          ],
          [
           true,
           "Staphylococcus aureus"
          ],
          [
           true,
           "Staphylococcus aureus"
          ],
          [
           true,
           "Staphylococcus aureus"
          ],
          [
           true,
           "Staphylococcus aureus"
          ],
          [
           true,
           "Staphylococcus aureus"
          ],
          [
           true,
           "Staphylococcus aureus"
          ],
          [
           true,
           "Staphylococcus aureus"
          ],
          [
           true,
           "Staphylococcus aureus"
          ],
          [
           true,
           "Staphylococcus aureus"
          ],
          [
           true,
           "Staphylococcus aureus"
          ],
          [
           true,
           "Staphylococcus aureus"
          ],
          [
           true,
           "Staphylococcus aureus"
          ],
          [
           true,
           "Staphylococcus capitis"
          ],
          [
           true,
           "Staphylococcus capitis"
          ],
          [
           true,
           "Staphylococcus hominis"
          ],
          [
           true,
           "Staphylococcus hominis"
          ],
          [
           true,
           "Staphylococcus hominis"
          ],
          [
           true,
           "Staphylococcus hominis"
          ],
          [
           true,
           "Staphylococcus hominis"
          ],
          [
           true,
           "Staphylococcus hominis"
          ],
          [
           true,
           "Staphylococcus hominis"
          ],
          [
           true,
           "Staphylococcus hominis"
          ],
          [
           true,
           "Staphylococcus hominis"
          ],
          [
           true,
           "Staphylococcus lugdunensis"
          ],
          [
           true,
           "Staphylococcus lugdunensis"
          ],
          [
           true,
           "Staphylococcus lugdunensis"
          ],
          [
           true,
           "Staphylococcus lugdunensis"
          ],
          [
           true,
           "Staphylococcus lugdunensis"
          ],
          [
           true,
           "Staphylococcus hominis"
          ],
          [
           true,
           "Staphylococcus hominis"
          ],
          [
           true,
           "Staphylococcus hominis"
          ],
          [
           true,
           "Staphylococcus hominis"
          ],
          [
           true,
           "Staphylococcus hominis"
          ],
          [
           true,
           "Staphylococcus aureus"
          ],
          [
           true,
           "Staphylococcus aureus"
          ],
          [
           true,
           "Staphylococcus aureus"
          ],
          [
           true,
           "Staphylococcus aureus"
          ],
          [
           true,
           "Staphylococcus aureus"
          ],
          [
           true,
           "Staphylococcus aureus"
          ],
          [
           true,
           "Staphylococcus aureus"
          ],
          [
           true,
           "Staphylococcus aureus"
          ],
          [
           true,
           "Staphylococcus aureus"
          ],
          [
           true,
           "Staphylococcus aureus"
          ],
          [
           true,
           "Staphylococcus aureus"
          ],
          [
           true,
           "Staphylococcus aureus"
          ],
          [
           true,
           "Staphylococcus aureus"
          ],
          [
           true,
           "Staphylococcus aureus"
          ],
          [
           true,
           "Staphylococcus aureus"
          ],
          [
           true,
           "Staphylococcus capitis"
          ],
          [
           true,
           "Staphylococcus epidermidis"
          ],
          [
           true,
           "Staphylococcus lugdunensis"
          ],
          [
           true,
           "Staphylococcus lugdunensis"
          ],
          [
           true,
           "Staphylococcus lugdunensis"
          ],
          [
           true,
           "Staphylococcus lugdunensis"
          ],
          [
           true,
           "Staphylococcus lugdunensis"
          ],
          [
           true,
           "Staphylococcus epidermidis"
          ],
          [
           true,
           "Staphylococcus epidermidis"
          ],
          [
           true,
           "Staphylococcus epidermidis"
          ],
          [
           true,
           "Staphylococcus epidermidis"
          ],
          [
           true,
           "Staphylococcus epidermidis"
          ],
          [
           true,
           "Staphylococcus epidermidis"
          ],
          [
           true,
           "Staphylococcus lugdunensis"
          ],
          [
           true,
           "Staphylococcus aureus"
          ],
          [
           true,
           "Staphylococcus aureus"
          ],
          [
           true,
           "Staphylococcus aureus"
          ],
          [
           true,
           "Staphylococcus aureus"
          ],
          [
           true,
           "Staphylococcus aureus"
          ],
          [
           true,
           "Staphylococcus aureus"
          ],
          [
           true,
           "Staphylococcus aureus"
          ],
          [
           true,
           "Staphylococcus aureus"
          ],
          [
           true,
           "Staphylococcus aureus"
          ],
          [
           true,
           "Staphylococcus aureus"
          ],
          [
           true,
           "Staphylococcus aureus"
          ],
          [
           true,
           "Staphylococcus aureus"
          ],
          [
           true,
           "Staphylococcus aureus"
          ],
          [
           true,
           "Staphylococcus aureus"
          ],
          [
           true,
           "Staphylococcus aureus"
          ],
          [
           true,
           "Staphylococcus aureus"
          ],
          [
           true,
           "Staphylococcus aureus"
          ],
          [
           true,
           "Staphylococcus aureus"
          ],
          [
           true,
           "Staphylococcus aureus"
          ],
          [
           true,
           "Staphylococcus aureus"
          ],
          [
           true,
           "Staphylococcus aureus"
          ],
          [
           true,
           "Staphylococcus aureus"
          ],
          [
           true,
           "Staphylococcus aureus"
          ],
          [
           true,
           "Staphylococcus aureus"
          ],
          [
           true,
           "Staphylococcus aureus"
          ],
          [
           true,
           "Staphylococcus aureus"
          ],
          [
           true,
           "Staphylococcus aureus"
          ],
          [
           true,
           "Staphylococcus aureus"
          ],
          [
           true,
           "Staphylococcus aureus"
          ],
          [
           true,
           "Staphylococcus aureus"
          ],
          [
           true,
           "Staphylococcus epidermidis"
          ],
          [
           true,
           "Staphylococcus epidermidis"
          ],
          [
           true,
           "Staphylococcus epidermidis"
          ],
          [
           true,
           "Staphylococcus epidermidis"
          ],
          [
           true,
           "Staphylococcus epidermidis"
          ],
          [
           true,
           "Staphylococcus aureus"
          ],
          [
           true,
           "Staphylococcus lugdunensis"
          ],
          [
           true,
           "Staphylococcus aureus"
          ],
          [
           true,
           "Staphylococcus aureus"
          ],
          [
           true,
           "Staphylococcus aureus"
          ],
          [
           true,
           "Enterococcus faecalis"
          ],
          [
           true,
           "Enterococcus faecalis"
          ],
          [
           true,
           "Enterococcus faecium"
          ],
          [
           true,
           "Enterococcus faecium"
          ],
          [
           true,
           "Enterococcus faecium"
          ],
          [
           true,
           "Staphylococcus aureus"
          ],
          [
           true,
           "Staphylococcus aureus"
          ],
          [
           true,
           "Staphylococcus aureus"
          ],
          [
           true,
           "Staphylococcus aureus"
          ],
          [
           true,
           "Staphylococcus aureus"
          ],
          [
           true,
           "Staphylococcus aureus"
          ],
          [
           true,
           "Staphylococcus aureus"
          ],
          [
           true,
           "Staphylococcus aureus"
          ],
          [
           true,
           "Staphylococcus aureus"
          ],
          [
           true,
           "Staphylococcus aureus"
          ],
          [
           true,
           "Staphylococcus aureus"
          ],
          [
           true,
           "Staphylococcus aureus"
          ],
          [
           true,
           "Staphylococcus aureus"
          ],
          [
           true,
           "Staphylococcus aureus"
          ],
          [
           true,
           "Staphylococcus aureus"
          ],
          [
           true,
           "Staphylococcus aureus"
          ],
          [
           true,
           "Staphylococcus aureus"
          ],
          [
           true,
           "Staphylococcus aureus"
          ],
          [
           true,
           "Staphylococcus aureus"
          ],
          [
           true,
           "Staphylococcus aureus"
          ],
          [
           true,
           "Staphylococcus aureus"
          ],
          [
           true,
           "Staphylococcus aureus"
          ],
          [
           true,
           "Enterococcus faecium"
          ],
          [
           true,
           "Enterococcus faecalis"
          ],
          [
           true,
           "Enterococcus faecium"
          ],
          [
           true,
           "Enterococcus faecium"
          ],
          [
           true,
           "Enterococcus faecium"
          ],
          [
           true,
           "Staphylococcus aureus"
          ],
          [
           true,
           "Staphylococcus aureus"
          ],
          [
           true,
           "Staphylococcus aureus"
          ],
          [
           true,
           "Streptococcus agalactiae"
          ],
          [
           true,
           "Streptococcus agalactiae"
          ],
          [
           true,
           "Streptococcus agalactiae"
          ],
          [
           true,
           "Streptococcus anginosus"
          ],
          [
           true,
           "Streptococcus anginosus"
          ],
          [
           true,
           "Streptococcus anginosus"
          ],
          [
           true,
           "Streptococcus agalactiae"
          ],
          [
           true,
           "Streptococcus agalactiae"
          ],
          [
           true,
           "Streptococcus agalactiae"
          ],
          [
           true,
           "Streptococcus agalactiae"
          ],
          [
           true,
           "Streptococcus agalactiae"
          ],
          [
           true,
           "Streptococcus agalactiae"
          ],
          [
           true,
           "Streptococcus agalactiae"
          ],
          [
           true,
           "Streptococcus agalactiae"
          ],
          [
           true,
           "Staphylococcus capitis"
          ],
          [
           true,
           "Staphylococcus capitis"
          ],
          [
           true,
           "Staphylococcus epidermidis"
          ],
          [
           true,
           "Staphylococcus capitis"
          ],
          [
           true,
           "Staphylococcus capitis"
          ],
          [
           true,
           "Staphylococcus capitis"
          ],
          [
           true,
           "Staphylococcus capitis"
          ],
          [
           true,
           "Staphylococcus capitis"
          ],
          [
           true,
           "Staphylococcus capitis"
          ],
          [
           true,
           "Staphylococcus epidermidis"
          ],
          [
           true,
           "Staphylococcus epidermidis"
          ],
          [
           true,
           "Staphylococcus epidermidis"
          ],
          [
           true,
           "Staphylococcus epidermidis"
          ],
          [
           true,
           "Streptococcus agalactiae"
          ],
          [
           true,
           "Streptococcus agalactiae"
          ],
          [
           true,
           "Streptococcus agalactiae"
          ],
          [
           true,
           "Streptococcus anginosus"
          ],
          [
           true,
           "Streptococcus salivarius"
          ],
          [
           true,
           "Streptococcus mitis"
          ],
          [
           true,
           "Staphylococcus epidermidis"
          ],
          [
           true,
           "Staphylococcus epidermidis"
          ],
          [
           true,
           "Staphylococcus epidermidis"
          ],
          [
           true,
           "Staphylococcus epidermidis"
          ],
          [
           true,
           "Staphylococcus epidermidis"
          ],
          [
           true,
           "Staphylococcus epidermidis"
          ],
          [
           true,
           "Staphylococcus epidermidis"
          ],
          [
           true,
           "Staphylococcus epidermidis"
          ],
          [
           true,
           "Staphylococcus epidermidis"
          ],
          [
           true,
           "Staphylococcus epidermidis"
          ],
          [
           true,
           "Staphylococcus epidermidis"
          ],
          [
           true,
           "Staphylococcus epidermidis"
          ],
          [
           true,
           "Staphylococcus epidermidis"
          ],
          [
           true,
           "Staphylococcus epidermidis"
          ],
          [
           true,
           "Staphylococcus epidermidis"
          ],
          [
           true,
           "Staphylococcus epidermidis"
          ],
          [
           true,
           "Staphylococcus epidermidis"
          ],
          [
           true,
           "Staphylococcus epidermidis"
          ],
          [
           true,
           "Staphylococcus epidermidis"
          ],
          [
           true,
           "Staphylococcus epidermidis"
          ],
          [
           true,
           "Staphylococcus aureus"
          ],
          [
           true,
           "Staphylococcus aureus"
          ],
          [
           true,
           "Staphylococcus epidermidis"
          ],
          [
           true,
           "Staphylococcus epidermidis"
          ],
          [
           true,
           "Staphylococcus epidermidis"
          ],
          [
           true,
           "Staphylococcus epidermidis"
          ],
          [
           true,
           "Staphylococcus epidermidis"
          ],
          [
           true,
           "Staphylococcus epidermidis"
          ],
          [
           true,
           "Staphylococcus epidermidis"
          ],
          [
           true,
           "Staphylococcus epidermidis"
          ],
          [
           true,
           "Staphylococcus epidermidis"
          ],
          [
           true,
           "Staphylococcus epidermidis"
          ],
          [
           true,
           "Staphylococcus hominis"
          ],
          [
           true,
           "Staphylococcus epidermidis"
          ],
          [
           true,
           "Staphylococcus hominis"
          ],
          [
           true,
           "Staphylococcus hominis"
          ],
          [
           true,
           "Staphylococcus hominis"
          ],
          [
           true,
           "Staphylococcus hominis"
          ],
          [
           true,
           "Staphylococcus hominis"
          ],
          [
           true,
           "Staphylococcus hominis"
          ],
          [
           true,
           "Staphylococcus hominis"
          ],
          [
           true,
           "Staphylococcus hominis"
          ],
          [
           true,
           "Staphylococcus hominis"
          ],
          [
           true,
           "Streptococcus pneumoniae"
          ],
          [
           true,
           "Streptococcus pneumoniae"
          ],
          [
           true,
           "Streptococcus pneumoniae"
          ],
          [
           true,
           "Streptococcus pneumoniae"
          ],
          [
           true,
           "Streptococcus pyogenes"
          ],
          [
           true,
           "Streptococcus pyogenes"
          ],
          [
           true,
           "Streptococcus pyogenes"
          ],
          [
           true,
           "Streptococcus oralis"
          ],
          [
           true,
           "Streptococcus oralis"
          ],
          [
           true,
           "Streptococcus oralis"
          ],
          [
           true,
           "Streptococcus pneumoniae"
          ],
          [
           true,
           "Streptococcus sanguinis"
          ],
          [
           true,
           "Streptococcus pyogenes"
          ],
          [
           true,
           "Streptococcus pyogenes"
          ],
          [
           true,
           "Streptococcus pyogenes"
          ],
          [
           true,
           "Streptococcus pyogenes"
          ],
          [
           true,
           "Streptococcus pyogenes"
          ],
          [
           true,
           "Streptococcus pyogenes"
          ],
          [
           true,
           "Streptococcus salivarius"
          ],
          [
           true,
           "Staphylococcus hominis"
          ],
          [
           true,
           "Staphylococcus hominis"
          ],
          [
           true,
           "Staphylococcus hominis"
          ],
          [
           true,
           "Staphylococcus hominis"
          ],
          [
           true,
           "Staphylococcus hominis"
          ],
          [
           true,
           "Staphylococcus hominis"
          ],
          [
           true,
           "Staphylococcus hominis"
          ],
          [
           true,
           "Enterococcus faecium"
          ],
          [
           true,
           "Enterococcus faecium"
          ],
          [
           true,
           "Enterococcus faecium"
          ],
          [
           true,
           "Enterococcus faecium"
          ],
          [
           true,
           "Enterococcus faecium"
          ],
          [
           true,
           "Enterococcus faecium"
          ],
          [
           true,
           "Enterococcus faecium"
          ],
          [
           true,
           "Enterococcus faecium"
          ],
          [
           true,
           "Enterococcus faecium"
          ],
          [
           true,
           "Enterococcus faecium"
          ],
          [
           true,
           "Staphylococcus aureus"
          ],
          [
           true,
           "Staphylococcus aureus"
          ],
          [
           true,
           "Staphylococcus aureus"
          ],
          [
           true,
           "Staphylococcus aureus"
          ],
          [
           true,
           "Staphylococcus aureus"
          ],
          [
           true,
           "Staphylococcus aureus"
          ],
          [
           true,
           "Staphylococcus aureus"
          ],
          [
           true,
           "Staphylococcus aureus"
          ],
          [
           true,
           "Staphylococcus aureus"
          ],
          [
           true,
           "Staphylococcus aureus"
          ],
          [
           true,
           "Staphylococcus aureus"
          ],
          [
           true,
           "Staphylococcus aureus"
          ],
          [
           true,
           "Staphylococcus aureus"
          ],
          [
           true,
           "Staphylococcus aureus"
          ],
          [
           true,
           "Staphylococcus aureus"
          ],
          [
           true,
           "Staphylococcus aureus"
          ],
          [
           true,
           "Staphylococcus aureus"
          ],
          [
           true,
           "Staphylococcus aureus"
          ],
          [
           true,
           "Staphylococcus capitis"
          ],
          [
           true,
           "Staphylococcus capitis"
          ],
          [
           true,
           "Streptococcus pneumoniae"
          ],
          [
           true,
           "Streptococcus agalactiae"
          ],
          [
           true,
           "Streptococcus anginosus"
          ],
          [
           true,
           "Streptococcus mitis"
          ],
          [
           true,
           "Streptococcus pneumoniae"
          ],
          [
           true,
           "Streptococcus sanguinis"
          ],
          [
           true,
           "Streptococcus sanguinis"
          ],
          [
           true,
           "Streptococcus mitis"
          ],
          [
           true,
           "Streptococcus anginosus"
          ],
          [
           true,
           "Staphylococcus hominis"
          ],
          [
           true,
           "Staphylococcus hominis"
          ],
          [
           true,
           "Staphylococcus hominis"
          ],
          [
           true,
           "Staphylococcus hominis"
          ],
          [
           true,
           "Staphylococcus hominis"
          ],
          [
           true,
           "Enterococcus faecium"
          ],
          [
           true,
           "Enterococcus faecium"
          ],
          [
           true,
           "Streptococcus agalactiae"
          ],
          [
           true,
           "Staphylococcus hominis"
          ],
          [
           true,
           "Staphylococcus hominis"
          ],
          [
           true,
           "Staphylococcus hominis"
          ],
          [
           true,
           "Staphylococcus hominis"
          ],
          [
           true,
           "Staphylococcus lugdunensis"
          ],
          [
           true,
           "Staphylococcus lugdunensis"
          ],
          [
           true,
           "Staphylococcus lugdunensis"
          ],
          [
           true,
           "Staphylococcus lugdunensis"
          ],
          [
           true,
           "Staphylococcus lugdunensis"
          ],
          [
           true,
           "Streptococcus agalactiae"
          ],
          [
           true,
           "Streptococcus agalactiae"
          ],
          [
           true,
           "Streptococcus agalactiae"
          ],
          [
           true,
           "Streptococcus agalactiae"
          ],
          [
           true,
           "Streptococcus agalactiae"
          ],
          [
           true,
           "Streptococcus agalactiae"
          ],
          [
           true,
           "Streptococcus agalactiae"
          ],
          [
           true,
           "Streptococcus agalactiae"
          ],
          [
           true,
           "Streptococcus pneumoniae"
          ],
          [
           true,
           "Streptococcus pneumoniae"
          ],
          [
           true,
           "Staphylococcus hominis"
          ],
          [
           true,
           "Staphylococcus hominis"
          ],
          [
           true,
           "Staphylococcus hominis"
          ],
          [
           true,
           "Staphylococcus hominis"
          ],
          [
           true,
           "Staphylococcus hominis"
          ],
          [
           true,
           "Streptococcus mitis"
          ],
          [
           true,
           "Streptococcus mitis"
          ],
          [
           true,
           "Streptococcus sanguinis"
          ],
          [
           true,
           "Streptococcus mitis"
          ],
          [
           true,
           "Streptococcus oralis"
          ],
          [
           true,
           "Streptococcus oralis"
          ],
          [
           true,
           "Streptococcus agalactiae"
          ],
          [
           true,
           "Streptococcus pneumoniae"
          ],
          [
           true,
           "Streptococcus pyogenes"
          ],
          [
           true,
           "Streptococcus pyogenes"
          ],
          [
           true,
           "Streptococcus pyogenes"
          ],
          [
           true,
           "Streptococcus pyogenes"
          ],
          [
           true,
           "Streptococcus pyogenes"
          ],
          [
           true,
           "Streptococcus pyogenes"
          ],
          [
           true,
           "Streptococcus pyogenes"
          ],
          [
           true,
           "Streptococcus pyogenes"
          ],
          [
           true,
           "Streptococcus pyogenes"
          ],
          [
           true,
           "Streptococcus pyogenes"
          ],
          [
           true,
           "Streptococcus pyogenes"
          ],
          [
           true,
           "Streptococcus pyogenes"
          ],
          [
           true,
           "Streptococcus sanguinis"
          ],
          [
           true,
           "Streptococcus sanguinis"
          ],
          [
           true,
           "Streptococcus sanguinis"
          ],
          [
           true,
           "Staphylococcus aureus"
          ],
          [
           true,
           "Staphylococcus aureus"
          ],
          [
           true,
           "Staphylococcus aureus"
          ],
          [
           true,
           "Staphylococcus aureus"
          ],
          [
           true,
           "Staphylococcus aureus"
          ],
          [
           true,
           "Staphylococcus aureus"
          ],
          [
           true,
           "Staphylococcus aureus"
          ],
          [
           true,
           "Staphylococcus aureus"
          ],
          [
           true,
           "Staphylococcus aureus"
          ],
          [
           true,
           "Staphylococcus aureus"
          ],
          [
           true,
           "Staphylococcus aureus"
          ],
          [
           true,
           "Staphylococcus aureus"
          ],
          [
           true,
           "Staphylococcus aureus"
          ],
          [
           true,
           "Staphylococcus aureus"
          ],
          [
           true,
           "Staphylococcus aureus"
          ],
          [
           true,
           "Staphylococcus aureus"
          ],
          [
           true,
           "Staphylococcus aureus"
          ],
          [
           true,
           "Staphylococcus aureus"
          ],
          [
           true,
           "Staphylococcus capitis"
          ],
          [
           true,
           "Staphylococcus epidermidis"
          ],
          [
           true,
           "Staphylococcus lugdunensis"
          ],
          [
           true,
           "Staphylococcus lugdunensis"
          ],
          [
           true,
           "Staphylococcus lugdunensis"
          ],
          [
           true,
           "Staphylococcus lugdunensis"
          ],
          [
           true,
           "Staphylococcus lugdunensis"
          ],
          [
           true,
           "Staphylococcus lugdunensis"
          ],
          [
           true,
           "Staphylococcus epidermidis"
          ],
          [
           true,
           "Staphylococcus epidermidis"
          ],
          [
           true,
           "Staphylococcus epidermidis"
          ],
          [
           true,
           "Staphylococcus epidermidis"
          ],
          [
           true,
           "Staphylococcus epidermidis"
          ],
          [
           true,
           "Staphylococcus epidermidis"
          ],
          [
           true,
           "Staphylococcus lugdunensis"
          ],
          [
           true,
           "Staphylococcus aureus"
          ],
          [
           true,
           "Staphylococcus aureus"
          ],
          [
           true,
           "Staphylococcus aureus"
          ],
          [
           true,
           "Staphylococcus aureus"
          ],
          [
           true,
           "Staphylococcus aureus"
          ],
          [
           true,
           "Staphylococcus aureus"
          ],
          [
           true,
           "Staphylococcus aureus"
          ],
          [
           true,
           "Staphylococcus aureus"
          ],
          [
           true,
           "Staphylococcus aureus"
          ],
          [
           true,
           "Staphylococcus aureus"
          ],
          [
           true,
           "Staphylococcus aureus"
          ],
          [
           true,
           "Staphylococcus aureus"
          ],
          [
           true,
           "Staphylococcus aureus"
          ],
          [
           true,
           "Staphylococcus aureus"
          ],
          [
           true,
           "Staphylococcus aureus"
          ],
          [
           true,
           "Staphylococcus aureus"
          ],
          [
           true,
           "Staphylococcus aureus"
          ],
          [
           true,
           "Staphylococcus aureus"
          ],
          [
           true,
           "Staphylococcus aureus"
          ],
          [
           true,
           "Staphylococcus aureus"
          ],
          [
           true,
           "Staphylococcus aureus"
          ],
          [
           true,
           "Staphylococcus aureus"
          ],
          [
           true,
           "Staphylococcus aureus"
          ],
          [
           true,
           "Staphylococcus aureus"
          ],
          [
           true,
           "Staphylococcus aureus"
          ],
          [
           true,
           "Staphylococcus aureus"
          ],
          [
           true,
           "Staphylococcus aureus"
          ],
          [
           true,
           "Staphylococcus aureus"
          ],
          [
           true,
           "Staphylococcus aureus"
          ],
          [
           true,
           "Staphylococcus aureus"
          ],
          [
           true,
           "Staphylococcus aureus"
          ],
          [
           true,
           "Staphylococcus aureus"
          ],
          [
           true,
           "Staphylococcus aureus"
          ],
          [
           true,
           "Staphylococcus aureus"
          ],
          [
           true,
           "Staphylococcus epidermidis"
          ],
          [
           true,
           "Staphylococcus epidermidis"
          ],
          [
           true,
           "Streptococcus pneumoniae"
          ],
          [
           true,
           "Streptococcus pneumoniae"
          ],
          [
           true,
           "Streptococcus pneumoniae"
          ],
          [
           true,
           "Streptococcus pneumoniae"
          ],
          [
           true,
           "Streptococcus pneumoniae"
          ],
          [
           true,
           "Streptococcus pneumoniae"
          ],
          [
           true,
           "Streptococcus salivarius"
          ],
          [
           true,
           "Streptococcus salivarius"
          ],
          [
           true,
           "Streptococcus salivarius"
          ],
          [
           true,
           "Streptococcus salivarius"
          ],
          [
           true,
           "Staphylococcus aureus"
          ],
          [
           true,
           "Staphylococcus lugdunensis"
          ],
          [
           true,
           "Staphylococcus aureus"
          ],
          [
           true,
           "Staphylococcus aureus"
          ],
          [
           true,
           "Staphylococcus aureus"
          ],
          [
           true,
           "Enterococcus faecium"
          ],
          [
           true,
           "Enterococcus faecium"
          ],
          [
           true,
           "Staphylococcus aureus"
          ],
          [
           true,
           "Staphylococcus aureus"
          ],
          [
           true,
           "Staphylococcus aureus"
          ],
          [
           true,
           "Staphylococcus aureus"
          ],
          [
           true,
           "Staphylococcus aureus"
          ],
          [
           true,
           "Staphylococcus aureus"
          ],
          [
           true,
           "Staphylococcus aureus"
          ],
          [
           true,
           "Staphylococcus aureus"
          ],
          [
           true,
           "Staphylococcus aureus"
          ],
          [
           true,
           "Staphylococcus aureus"
          ],
          [
           true,
           "Staphylococcus aureus"
          ],
          [
           true,
           "Staphylococcus aureus"
          ],
          [
           true,
           "Staphylococcus aureus"
          ],
          [
           true,
           "Staphylococcus aureus"
          ],
          [
           true,
           "Staphylococcus aureus"
          ],
          [
           true,
           "Staphylococcus aureus"
          ],
          [
           true,
           "Staphylococcus aureus"
          ],
          [
           true,
           "Staphylococcus aureus"
          ],
          [
           true,
           "Staphylococcus aureus"
          ],
          [
           true,
           "Staphylococcus aureus"
          ],
          [
           true,
           "Staphylococcus aureus"
          ],
          [
           true,
           "Staphylococcus aureus"
          ],
          [
           true,
           "Enterococcus faecium"
          ],
          [
           true,
           "Enterococcus faecium"
          ],
          [
           true,
           "Staphylococcus aureus"
          ],
          [
           true,
           "Staphylococcus aureus"
          ],
          [
           true,
           "Staphylococcus aureus"
          ],
          [
           true,
           "Streptococcus agalactiae"
          ],
          [
           true,
           "Streptococcus agalactiae"
          ],
          [
           true,
           "Streptococcus agalactiae"
          ],
          [
           true,
           "Streptococcus anginosus"
          ],
          [
           true,
           "Streptococcus anginosus"
          ],
          [
           true,
           "Streptococcus anginosus"
          ],
          [
           true,
           "Streptococcus agalactiae"
          ],
          [
           true,
           "Streptococcus agalactiae"
          ],
          [
           true,
           "Streptococcus agalactiae"
          ],
          [
           true,
           "Streptococcus agalactiae"
          ],
          [
           true,
           "Streptococcus agalactiae"
          ],
          [
           true,
           "Streptococcus agalactiae"
          ],
          [
           true,
           "Streptococcus agalactiae"
          ],
          [
           true,
           "Streptococcus agalactiae"
          ],
          [
           true,
           "Staphylococcus capitis"
          ],
          [
           true,
           "Staphylococcus capitis"
          ],
          [
           true,
           "Staphylococcus epidermidis"
          ],
          [
           true,
           "Staphylococcus epidermidis"
          ],
          [
           true,
           "Staphylococcus capitis"
          ],
          [
           true,
           "Staphylococcus capitis"
          ],
          [
           true,
           "Staphylococcus capitis"
          ],
          [
           true,
           "Staphylococcus capitis"
          ],
          [
           true,
           "Staphylococcus capitis"
          ],
          [
           true,
           "Staphylococcus epidermidis"
          ],
          [
           true,
           "Staphylococcus epidermidis"
          ],
          [
           true,
           "Staphylococcus epidermidis"
          ],
          [
           true,
           "Staphylococcus epidermidis"
          ],
          [
           true,
           "Staphylococcus epidermidis"
          ],
          [
           true,
           "Staphylococcus epidermidis"
          ],
          [
           true,
           "Streptococcus agalactiae"
          ],
          [
           true,
           "Streptococcus agalactiae"
          ],
          [
           true,
           "Streptococcus agalactiae"
          ],
          [
           true,
           "Streptococcus agalactiae"
          ],
          [
           true,
           "Streptococcus anginosus"
          ],
          [
           true,
           "Streptococcus salivarius"
          ],
          [
           true,
           "Streptococcus mitis"
          ],
          [
           true,
           "Staphylococcus epidermidis"
          ],
          [
           true,
           "Staphylococcus epidermidis"
          ],
          [
           true,
           "Staphylococcus epidermidis"
          ],
          [
           true,
           "Staphylococcus epidermidis"
          ],
          [
           true,
           "Staphylococcus epidermidis"
          ],
          [
           true,
           "Staphylococcus epidermidis"
          ],
          [
           true,
           "Staphylococcus epidermidis"
          ],
          [
           true,
           "Staphylococcus epidermidis"
          ],
          [
           true,
           "Staphylococcus epidermidis"
          ],
          [
           true,
           "Staphylococcus epidermidis"
          ],
          [
           true,
           "Staphylococcus epidermidis"
          ],
          [
           true,
           "Staphylococcus epidermidis"
          ],
          [
           true,
           "Staphylococcus epidermidis"
          ],
          [
           true,
           "Staphylococcus epidermidis"
          ],
          [
           true,
           "Staphylococcus epidermidis"
          ],
          [
           true,
           "Staphylococcus epidermidis"
          ],
          [
           true,
           "Staphylococcus epidermidis"
          ],
          [
           true,
           "Staphylococcus epidermidis"
          ],
          [
           true,
           "Staphylococcus epidermidis"
          ],
          [
           true,
           "Staphylococcus epidermidis"
          ],
          [
           true,
           "Staphylococcus epidermidis"
          ],
          [
           true,
           "Staphylococcus epidermidis"
          ],
          [
           true,
           "Staphylococcus aureus"
          ],
          [
           true,
           "Staphylococcus aureus"
          ],
          [
           true,
           "Staphylococcus epidermidis"
          ],
          [
           true,
           "Staphylococcus epidermidis"
          ],
          [
           true,
           "Staphylococcus epidermidis"
          ],
          [
           true,
           "Staphylococcus epidermidis"
          ],
          [
           true,
           "Staphylococcus epidermidis"
          ],
          [
           true,
           "Staphylococcus epidermidis"
          ],
          [
           true,
           "Staphylococcus epidermidis"
          ],
          [
           true,
           "Staphylococcus epidermidis"
          ],
          [
           true,
           "Staphylococcus epidermidis"
          ],
          [
           true,
           "Staphylococcus epidermidis"
          ],
          [
           true,
           "Staphylococcus hominis"
          ],
          [
           true,
           "Staphylococcus epidermidis"
          ],
          [
           true,
           "Staphylococcus hominis"
          ],
          [
           true,
           "Staphylococcus hominis"
          ],
          [
           true,
           "Staphylococcus hominis"
          ],
          [
           true,
           "Staphylococcus hominis"
          ],
          [
           true,
           "Staphylococcus hominis"
          ],
          [
           true,
           "Staphylococcus hominis"
          ],
          [
           true,
           "Staphylococcus hominis"
          ],
          [
           true,
           "Staphylococcus hominis"
          ],
          [
           true,
           "Staphylococcus hominis"
          ],
          [
           true,
           "Streptococcus pneumoniae"
          ],
          [
           true,
           "Streptococcus pneumoniae"
          ],
          [
           true,
           "Streptococcus pneumoniae"
          ],
          [
           true,
           "Streptococcus pneumoniae"
          ],
          [
           true,
           "Streptococcus pneumoniae"
          ],
          [
           true,
           "Streptococcus pneumoniae"
          ],
          [
           true,
           "Streptococcus pneumoniae"
          ],
          [
           true,
           "Streptococcus pyogenes"
          ],
          [
           true,
           "Streptococcus pyogenes"
          ],
          [
           true,
           "Streptococcus pyogenes"
          ],
          [
           true,
           "Streptococcus oralis"
          ],
          [
           true,
           "Streptococcus oralis"
          ],
          [
           true,
           "Streptococcus oralis"
          ],
          [
           true,
           "Streptococcus pneumoniae"
          ],
          [
           true,
           "Streptococcus sanguinis"
          ],
          [
           true,
           "Streptococcus pyogenes"
          ],
          [
           true,
           "Streptococcus pyogenes"
          ],
          [
           true,
           "Streptococcus pyogenes"
          ],
          [
           true,
           "Streptococcus pyogenes"
          ],
          [
           true,
           "Streptococcus pyogenes"
          ],
          [
           true,
           "Streptococcus pyogenes"
          ],
          [
           true,
           "Streptococcus salivarius"
          ],
          [
           true,
           "Staphylococcus hominis"
          ],
          [
           true,
           "Staphylococcus hominis"
          ],
          [
           true,
           "Staphylococcus hominis"
          ],
          [
           true,
           "Staphylococcus hominis"
          ],
          [
           true,
           "Staphylococcus hominis"
          ],
          [
           true,
           "Staphylococcus hominis"
          ],
          [
           true,
           "Enterococcus faecium"
          ],
          [
           true,
           "Enterococcus faecium"
          ],
          [
           true,
           "Staphylococcus aureus"
          ],
          [
           true,
           "Staphylococcus aureus"
          ],
          [
           true,
           "Staphylococcus aureus"
          ],
          [
           true,
           "Staphylococcus aureus"
          ],
          [
           true,
           "Staphylococcus aureus"
          ],
          [
           true,
           "Staphylococcus aureus"
          ],
          [
           true,
           "Staphylococcus aureus"
          ],
          [
           true,
           "Staphylococcus aureus"
          ],
          [
           true,
           "Staphylococcus aureus"
          ],
          [
           true,
           "Staphylococcus aureus"
          ],
          [
           true,
           "Staphylococcus aureus"
          ],
          [
           true,
           "Staphylococcus aureus"
          ],
          [
           true,
           "Staphylococcus aureus"
          ],
          [
           true,
           "Staphylococcus aureus"
          ],
          [
           true,
           "Staphylococcus aureus"
          ],
          [
           true,
           "Staphylococcus aureus"
          ],
          [
           true,
           "Staphylococcus aureus"
          ],
          [
           true,
           "Staphylococcus aureus"
          ],
          [
           true,
           "Staphylococcus capitis"
          ],
          [
           true,
           "Staphylococcus capitis"
          ],
          [
           true,
           "Streptococcus pneumoniae"
          ],
          [
           true,
           "Streptococcus agalactiae"
          ],
          [
           true,
           "Streptococcus mitis"
          ],
          [
           true,
           "Streptococcus pneumoniae"
          ],
          [
           true,
           "Streptococcus sanguinis"
          ],
          [
           true,
           "Streptococcus sanguinis"
          ],
          [
           true,
           "Streptococcus anginosus"
          ],
          [
           true,
           "Staphylococcus hominis"
          ],
          [
           true,
           "Staphylococcus hominis"
          ],
          [
           true,
           "Staphylococcus hominis"
          ],
          [
           true,
           "Staphylococcus hominis"
          ],
          [
           true,
           "Staphylococcus hominis"
          ],
          [
           true,
           "Enterococcus faecium"
          ],
          [
           true,
           "Enterococcus faecium"
          ],
          [
           true,
           "Streptococcus agalactiae"
          ],
          [
           true,
           "Staphylococcus hominis"
          ],
          [
           true,
           "Staphylococcus hominis"
          ],
          [
           true,
           "Staphylococcus hominis"
          ],
          [
           true,
           "Staphylococcus hominis"
          ],
          [
           true,
           "Staphylococcus lugdunensis"
          ],
          [
           true,
           "Staphylococcus lugdunensis"
          ],
          [
           true,
           "Staphylococcus lugdunensis"
          ],
          [
           true,
           "Staphylococcus lugdunensis"
          ],
          [
           true,
           "Staphylococcus lugdunensis"
          ],
          [
           true,
           "Streptococcus agalactiae"
          ],
          [
           true,
           "Streptococcus agalactiae"
          ],
          [
           true,
           "Streptococcus agalactiae"
          ],
          [
           true,
           "Streptococcus agalactiae"
          ],
          [
           true,
           "Streptococcus agalactiae"
          ],
          [
           true,
           "Streptococcus agalactiae"
          ],
          [
           true,
           "Streptococcus agalactiae"
          ],
          [
           true,
           "Streptococcus pneumoniae"
          ],
          [
           true,
           "Streptococcus pneumoniae"
          ],
          [
           true,
           "Streptococcus pneumoniae"
          ],
          [
           true,
           "Streptococcus pneumoniae"
          ],
          [
           true,
           "Streptococcus pneumoniae"
          ],
          [
           true,
           "Streptococcus pneumoniae"
          ],
          [
           true,
           "Streptococcus pneumoniae"
          ],
          [
           true,
           "Streptococcus pneumoniae"
          ],
          [
           true,
           "Staphylococcus hominis"
          ],
          [
           true,
           "Staphylococcus hominis"
          ],
          [
           true,
           "Staphylococcus hominis"
          ],
          [
           true,
           "Staphylococcus hominis"
          ],
          [
           true,
           "Staphylococcus hominis"
          ],
          [
           true,
           "Streptococcus mitis"
          ],
          [
           true,
           "Streptococcus mitis"
          ],
          [
           true,
           "Streptococcus sanguinis"
          ],
          [
           true,
           "Streptococcus mitis"
          ],
          [
           true,
           "Streptococcus oralis"
          ],
          [
           true,
           "Streptococcus oralis"
          ],
          [
           true,
           "Streptococcus agalactiae"
          ],
          [
           true,
           "Streptococcus pneumoniae"
          ],
          [
           true,
           "Streptococcus pyogenes"
          ],
          [
           true,
           "Streptococcus pyogenes"
          ],
          [
           true,
           "Streptococcus pyogenes"
          ],
          [
           true,
           "Streptococcus pyogenes"
          ],
          [
           true,
           "Streptococcus pyogenes"
          ],
          [
           true,
           "Streptococcus pyogenes"
          ],
          [
           true,
           "Streptococcus pyogenes"
          ],
          [
           true,
           "Streptococcus pyogenes"
          ],
          [
           true,
           "Streptococcus pyogenes"
          ],
          [
           true,
           "Streptococcus pyogenes"
          ],
          [
           true,
           "Streptococcus pyogenes"
          ],
          [
           true,
           "Streptococcus pyogenes"
          ],
          [
           true,
           "Streptococcus sanguinis"
          ],
          [
           true,
           "Streptococcus sanguinis"
          ],
          [
           true,
           "Streptococcus sanguinis"
          ],
          [
           true,
           "Staphylococcus aureus"
          ],
          [
           true,
           "Staphylococcus aureus"
          ],
          [
           true,
           "Staphylococcus aureus"
          ],
          [
           true,
           "Staphylococcus aureus"
          ],
          [
           true,
           "Staphylococcus aureus"
          ],
          [
           true,
           "Staphylococcus aureus"
          ],
          [
           true,
           "Staphylococcus aureus"
          ],
          [
           true,
           "Staphylococcus aureus"
          ],
          [
           true,
           "Staphylococcus aureus"
          ],
          [
           true,
           "Staphylococcus aureus"
          ],
          [
           true,
           "Staphylococcus aureus"
          ],
          [
           true,
           "Staphylococcus aureus"
          ],
          [
           true,
           "Staphylococcus aureus"
          ],
          [
           true,
           "Staphylococcus aureus"
          ],
          [
           true,
           "Staphylococcus aureus"
          ],
          [
           true,
           "Staphylococcus aureus"
          ],
          [
           true,
           "Staphylococcus capitis"
          ],
          [
           true,
           "Staphylococcus epidermidis"
          ],
          [
           true,
           "Staphylococcus lugdunensis"
          ],
          [
           true,
           "Staphylococcus lugdunensis"
          ],
          [
           true,
           "Staphylococcus lugdunensis"
          ],
          [
           true,
           "Staphylococcus lugdunensis"
          ],
          [
           true,
           "Staphylococcus lugdunensis"
          ],
          [
           true,
           "Staphylococcus lugdunensis"
          ],
          [
           true,
           "Staphylococcus epidermidis"
          ],
          [
           true,
           "Staphylococcus epidermidis"
          ],
          [
           true,
           "Staphylococcus epidermidis"
          ],
          [
           true,
           "Staphylococcus epidermidis"
          ],
          [
           true,
           "Staphylococcus epidermidis"
          ],
          [
           true,
           "Staphylococcus epidermidis"
          ],
          [
           true,
           "Staphylococcus lugdunensis"
          ],
          [
           true,
           "Staphylococcus aureus"
          ],
          [
           true,
           "Staphylococcus aureus"
          ],
          [
           true,
           "Staphylococcus aureus"
          ],
          [
           true,
           "Staphylococcus aureus"
          ],
          [
           true,
           "Staphylococcus aureus"
          ],
          [
           true,
           "Staphylococcus aureus"
          ],
          [
           true,
           "Staphylococcus aureus"
          ],
          [
           true,
           "Staphylococcus aureus"
          ],
          [
           true,
           "Staphylococcus aureus"
          ],
          [
           true,
           "Staphylococcus aureus"
          ],
          [
           true,
           "Staphylococcus aureus"
          ],
          [
           true,
           "Staphylococcus aureus"
          ],
          [
           true,
           "Staphylococcus aureus"
          ],
          [
           true,
           "Staphylococcus aureus"
          ],
          [
           true,
           "Staphylococcus aureus"
          ],
          [
           true,
           "Staphylococcus aureus"
          ],
          [
           true,
           "Staphylococcus aureus"
          ],
          [
           true,
           "Staphylococcus aureus"
          ],
          [
           true,
           "Staphylococcus aureus"
          ],
          [
           true,
           "Staphylococcus aureus"
          ],
          [
           true,
           "Staphylococcus aureus"
          ],
          [
           true,
           "Staphylococcus aureus"
          ],
          [
           true,
           "Staphylococcus aureus"
          ],
          [
           true,
           "Staphylococcus aureus"
          ],
          [
           true,
           "Staphylococcus aureus"
          ],
          [
           true,
           "Staphylococcus aureus"
          ],
          [
           true,
           "Staphylococcus aureus"
          ],
          [
           true,
           "Staphylococcus aureus"
          ],
          [
           true,
           "Staphylococcus aureus"
          ],
          [
           true,
           "Staphylococcus aureus"
          ],
          [
           true,
           "Staphylococcus epidermidis"
          ],
          [
           true,
           "Staphylococcus epidermidis"
          ],
          [
           true,
           "Staphylococcus epidermidis"
          ],
          [
           true,
           "Staphylococcus epidermidis"
          ],
          [
           true,
           "Staphylococcus epidermidis"
          ],
          [
           true,
           "Streptococcus pneumoniae"
          ],
          [
           true,
           "Streptococcus pneumoniae"
          ],
          [
           true,
           "Streptococcus pneumoniae"
          ],
          [
           true,
           "Streptococcus pneumoniae"
          ],
          [
           true,
           "Streptococcus pneumoniae"
          ],
          [
           true,
           "Streptococcus pneumoniae"
          ],
          [
           true,
           "Streptococcus salivarius"
          ],
          [
           true,
           "Streptococcus salivarius"
          ],
          [
           true,
           "Streptococcus salivarius"
          ],
          [
           true,
           "Streptococcus salivarius"
          ],
          [
           true,
           "Staphylococcus aureus"
          ],
          [
           true,
           "Staphylococcus lugdunensis"
          ],
          [
           true,
           "Staphylococcus aureus"
          ],
          [
           true,
           "Staphylococcus aureus"
          ],
          [
           true,
           "Staphylococcus capitis"
          ],
          [
           true,
           "Staphylococcus capitis"
          ],
          [
           true,
           "Staphylococcus epidermidis"
          ],
          [
           true,
           "Staphylococcus epidermidis"
          ],
          [
           true,
           "Staphylococcus aureus"
          ],
          [
           true,
           "Staphylococcus hominis"
          ],
          [
           true,
           "Staphylococcus lugdunensis"
          ],
          [
           true,
           "Staphylococcus lugdunensis"
          ],
          [
           true,
           "Staphylococcus lugdunensis"
          ],
          [
           true,
           "Staphylococcus aureus"
          ],
          [
           true,
           "Staphylococcus aureus"
          ],
          [
           true,
           "Staphylococcus aureus"
          ],
          [
           true,
           "Staphylococcus epidermidis"
          ],
          [
           true,
           "Staphylococcus aureus"
          ],
          [
           true,
           "Staphylococcus aureus"
          ],
          [
           true,
           "Staphylococcus aureus"
          ],
          [
           true,
           "Staphylococcus aureus"
          ],
          [
           true,
           "Staphylococcus aureus"
          ],
          [
           true,
           "Staphylococcus lugdunensis"
          ],
          [
           true,
           "Staphylococcus aureus"
          ],
          [
           true,
           "Staphylococcus aureus"
          ],
          [
           true,
           "Staphylococcus aureus"
          ],
          [
           true,
           "Staphylococcus aureus"
          ],
          [
           true,
           "Streptococcus agalactiae"
          ],
          [
           true,
           "Streptococcus agalactiae"
          ],
          [
           true,
           "Staphylococcus capitis"
          ],
          [
           true,
           "Staphylococcus epidermidis"
          ],
          [
           true,
           "Staphylococcus epidermidis"
          ],
          [
           true,
           "Staphylococcus epidermidis"
          ],
          [
           true,
           "Streptococcus agalactiae"
          ],
          [
           true,
           "Staphylococcus epidermidis"
          ],
          [
           true,
           "Staphylococcus epidermidis"
          ],
          [
           true,
           "Staphylococcus epidermidis"
          ],
          [
           true,
           "Staphylococcus epidermidis"
          ],
          [
           true,
           "Staphylococcus epidermidis"
          ],
          [
           true,
           "Staphylococcus epidermidis"
          ],
          [
           true,
           "Staphylococcus epidermidis"
          ],
          [
           true,
           "Staphylococcus epidermidis"
          ],
          [
           true,
           "Staphylococcus aureus"
          ],
          [
           true,
           "Staphylococcus aureus"
          ],
          [
           true,
           "Staphylococcus hominis"
          ],
          [
           true,
           "Staphylococcus hominis"
          ],
          [
           true,
           "Staphylococcus hominis"
          ],
          [
           true,
           "Staphylococcus hominis"
          ],
          [
           true,
           "Staphylococcus hominis"
          ],
          [
           true,
           "Staphylococcus hominis"
          ],
          [
           true,
           "Staphylococcus hominis"
          ],
          [
           true,
           "Staphylococcus hominis"
          ],
          [
           true,
           "Staphylococcus hominis"
          ],
          [
           true,
           "Streptococcus pneumoniae"
          ],
          [
           true,
           "Streptococcus pneumoniae"
          ],
          [
           true,
           "Streptococcus pneumoniae"
          ],
          [
           true,
           "Streptococcus pneumoniae"
          ],
          [
           true,
           "Streptococcus pyogenes"
          ],
          [
           true,
           "Streptococcus pyogenes"
          ],
          [
           true,
           "Streptococcus pyogenes"
          ],
          [
           true,
           "Streptococcus pyogenes"
          ],
          [
           true,
           "Staphylococcus hominis"
          ],
          [
           true,
           "Staphylococcus hominis"
          ],
          [
           true,
           "Staphylococcus hominis"
          ],
          [
           true,
           "Staphylococcus hominis"
          ],
          [
           true,
           "Staphylococcus hominis"
          ],
          [
           true,
           "Staphylococcus hominis"
          ],
          [
           true,
           "Staphylococcus aureus"
          ],
          [
           true,
           "Staphylococcus aureus"
          ],
          [
           true,
           "Staphylococcus aureus"
          ],
          [
           true,
           "Staphylococcus aureus"
          ],
          [
           true,
           "Staphylococcus aureus"
          ],
          [
           true,
           "Staphylococcus aureus"
          ],
          [
           true,
           "Staphylococcus aureus"
          ],
          [
           true,
           "Staphylococcus aureus"
          ],
          [
           true,
           "Staphylococcus aureus"
          ],
          [
           true,
           "Staphylococcus aureus"
          ],
          [
           true,
           "Staphylococcus aureus"
          ],
          [
           true,
           "Staphylococcus aureus"
          ],
          [
           true,
           "Staphylococcus aureus"
          ],
          [
           true,
           "Staphylococcus aureus"
          ],
          [
           true,
           "Streptococcus pneumoniae"
          ],
          [
           true,
           "Staphylococcus hominis"
          ],
          [
           true,
           "Staphylococcus hominis"
          ],
          [
           true,
           "Staphylococcus lugdunensis"
          ],
          [
           true,
           "Staphylococcus lugdunensis"
          ],
          [
           true,
           "Staphylococcus lugdunensis"
          ],
          [
           true,
           "Staphylococcus lugdunensis"
          ],
          [
           true,
           "Streptococcus agalactiae"
          ],
          [
           true,
           "Streptococcus agalactiae"
          ],
          [
           true,
           "Staphylococcus hominis"
          ],
          [
           true,
           "Staphylococcus hominis"
          ],
          [
           true,
           "Staphylococcus hominis"
          ],
          [
           true,
           "Staphylococcus hominis"
          ],
          [
           true,
           "Streptococcus agalactiae"
          ],
          [
           true,
           "Streptococcus pyogenes"
          ],
          [
           true,
           "Streptococcus pyogenes"
          ],
          [
           true,
           "Streptococcus pyogenes"
          ],
          [
           true,
           "Streptococcus pyogenes"
          ],
          [
           true,
           "Streptococcus pyogenes"
          ],
          [
           true,
           "Staphylococcus aureus"
          ],
          [
           true,
           "Staphylococcus aureus"
          ],
          [
           true,
           "Staphylococcus aureus"
          ],
          [
           true,
           "Staphylococcus aureus"
          ],
          [
           true,
           "Staphylococcus aureus"
          ],
          [
           true,
           "Staphylococcus aureus"
          ],
          [
           true,
           "Staphylococcus aureus"
          ],
          [
           true,
           "Staphylococcus aureus"
          ],
          [
           true,
           "Staphylococcus aureus"
          ],
          [
           true,
           "Staphylococcus aureus"
          ],
          [
           true,
           "Staphylococcus aureus"
          ],
          [
           true,
           "Staphylococcus aureus"
          ],
          [
           true,
           "Staphylococcus aureus"
          ],
          [
           true,
           "Staphylococcus aureus"
          ],
          [
           true,
           "Staphylococcus aureus"
          ],
          [
           true,
           "Staphylococcus lugdunensis"
          ],
          [
           true,
           "Staphylococcus lugdunensis"
          ],
          [
           true,
           "Staphylococcus aureus"
          ],
          [
           true,
           "Staphylococcus aureus"
          ],
          [
           true,
           "Staphylococcus aureus"
          ],
          [
           true,
           "Staphylococcus aureus"
          ],
          [
           true,
           "Staphylococcus aureus"
          ],
          [
           true,
           "Staphylococcus aureus"
          ],
          [
           true,
           "Staphylococcus aureus"
          ],
          [
           true,
           "Staphylococcus aureus"
          ],
          [
           true,
           "Staphylococcus aureus"
          ],
          [
           true,
           "Staphylococcus aureus"
          ],
          [
           true,
           "Staphylococcus aureus"
          ],
          [
           true,
           "Staphylococcus aureus"
          ],
          [
           true,
           "Staphylococcus aureus"
          ],
          [
           true,
           "Staphylococcus aureus"
          ],
          [
           true,
           "Staphylococcus aureus"
          ],
          [
           true,
           "Streptococcus pneumoniae"
          ],
          [
           true,
           "Streptococcus pneumoniae"
          ],
          [
           true,
           "Staphylococcus aureus"
          ],
          [
           true,
           "Staphylococcus lugdunensis"
          ],
          [
           true,
           "Staphylococcus aureus"
          ],
          [
           true,
           "Staphylococcus aureus"
          ],
          [
           true,
           "Staphylococcus capitis"
          ],
          [
           true,
           "Staphylococcus epidermidis"
          ],
          [
           true,
           "Staphylococcus capitis"
          ],
          [
           true,
           "Staphylococcus capitis"
          ],
          [
           true,
           "Staphylococcus capitis"
          ],
          [
           true,
           "Staphylococcus capitis"
          ],
          [
           true,
           "Staphylococcus capitis"
          ],
          [
           true,
           "Staphylococcus epidermidis"
          ],
          [
           true,
           "Staphylococcus epidermidis"
          ],
          [
           true,
           "Staphylococcus epidermidis"
          ],
          [
           true,
           "Staphylococcus epidermidis"
          ],
          [
           true,
           "Staphylococcus epidermidis"
          ],
          [
           true,
           "Staphylococcus epidermidis"
          ],
          [
           true,
           "Staphylococcus epidermidis"
          ],
          [
           true,
           "Staphylococcus epidermidis"
          ],
          [
           true,
           "Staphylococcus epidermidis"
          ],
          [
           true,
           "Staphylococcus epidermidis"
          ],
          [
           true,
           "Staphylococcus aureus"
          ],
          [
           true,
           "Staphylococcus aureus"
          ],
          [
           true,
           "Staphylococcus epidermidis"
          ],
          [
           true,
           "Staphylococcus epidermidis"
          ],
          [
           true,
           "Staphylococcus epidermidis"
          ],
          [
           true,
           "Staphylococcus epidermidis"
          ],
          [
           true,
           "Staphylococcus epidermidis"
          ],
          [
           true,
           "Staphylococcus hominis"
          ],
          [
           true,
           "Staphylococcus hominis"
          ],
          [
           true,
           "Staphylococcus hominis"
          ],
          [
           true,
           "Staphylococcus hominis"
          ],
          [
           true,
           "Staphylococcus hominis"
          ],
          [
           true,
           "Staphylococcus hominis"
          ],
          [
           true,
           "Staphylococcus hominis"
          ],
          [
           true,
           "Staphylococcus aureus"
          ],
          [
           true,
           "Staphylococcus aureus"
          ],
          [
           true,
           "Staphylococcus aureus"
          ],
          [
           true,
           "Staphylococcus aureus"
          ],
          [
           true,
           "Staphylococcus aureus"
          ],
          [
           true,
           "Staphylococcus aureus"
          ],
          [
           true,
           "Staphylococcus aureus"
          ],
          [
           true,
           "Staphylococcus hominis"
          ],
          [
           true,
           "Staphylococcus hominis"
          ],
          [
           true,
           "Staphylococcus hominis"
          ],
          [
           true,
           "Staphylococcus hominis"
          ],
          [
           true,
           "Staphylococcus hominis"
          ],
          [
           true,
           "Staphylococcus hominis"
          ],
          [
           true,
           "Staphylococcus hominis"
          ],
          [
           true,
           "Staphylococcus hominis"
          ],
          [
           true,
           "Staphylococcus lugdunensis"
          ],
          [
           true,
           "Staphylococcus lugdunensis"
          ],
          [
           true,
           "Staphylococcus lugdunensis"
          ],
          [
           true,
           "Staphylococcus hominis"
          ],
          [
           true,
           "Staphylococcus hominis"
          ],
          [
           true,
           "Staphylococcus aureus"
          ],
          [
           true,
           "Staphylococcus aureus"
          ],
          [
           true,
           "Staphylococcus aureus"
          ],
          [
           true,
           "Staphylococcus aureus"
          ],
          [
           true,
           "Staphylococcus aureus"
          ],
          [
           true,
           "Staphylococcus aureus"
          ],
          [
           true,
           "Staphylococcus aureus"
          ],
          [
           true,
           "Staphylococcus aureus"
          ],
          [
           true,
           "Staphylococcus aureus"
          ],
          [
           true,
           "Staphylococcus aureus"
          ],
          [
           true,
           "Staphylococcus aureus"
          ],
          [
           true,
           "Staphylococcus aureus"
          ],
          [
           true,
           "Staphylococcus aureus"
          ],
          [
           true,
           "Staphylococcus aureus"
          ],
          [
           true,
           "Staphylococcus aureus"
          ],
          [
           true,
           "Staphylococcus aureus"
          ],
          [
           true,
           "Staphylococcus lugdunensis"
          ],
          [
           true,
           "Staphylococcus lugdunensis"
          ],
          [
           true,
           "Staphylococcus lugdunensis"
          ],
          [
           true,
           "Staphylococcus lugdunensis"
          ],
          [
           true,
           "Staphylococcus epidermidis"
          ],
          [
           true,
           "Staphylococcus epidermidis"
          ],
          [
           true,
           "Staphylococcus epidermidis"
          ],
          [
           true,
           "Staphylococcus aureus"
          ],
          [
           true,
           "Staphylococcus aureus"
          ],
          [
           true,
           "Staphylococcus aureus"
          ],
          [
           true,
           "Staphylococcus aureus"
          ],
          [
           true,
           "Staphylococcus aureus"
          ],
          [
           true,
           "Staphylococcus aureus"
          ],
          [
           true,
           "Staphylococcus aureus"
          ],
          [
           true,
           "Staphylococcus aureus"
          ],
          [
           true,
           "Staphylococcus aureus"
          ],
          [
           true,
           "Staphylococcus aureus"
          ],
          [
           true,
           "Staphylococcus aureus"
          ],
          [
           true,
           "Staphylococcus aureus"
          ],
          [
           true,
           "Staphylococcus aureus"
          ],
          [
           true,
           "Staphylococcus aureus"
          ],
          [
           true,
           "Staphylococcus aureus"
          ],
          [
           true,
           "Staphylococcus aureus"
          ],
          [
           true,
           "Staphylococcus aureus"
          ],
          [
           true,
           "Staphylococcus aureus"
          ],
          [
           true,
           "Staphylococcus aureus"
          ],
          [
           true,
           "Staphylococcus aureus"
          ],
          [
           true,
           "Staphylococcus aureus"
          ],
          [
           true,
           "Staphylococcus aureus"
          ],
          [
           true,
           "Staphylococcus aureus"
          ],
          [
           true,
           "Staphylococcus epidermidis"
          ],
          [
           true,
           "Staphylococcus epidermidis"
          ],
          [
           true,
           "Staphylococcus epidermidis"
          ],
          [
           true,
           "Streptococcus pneumoniae"
          ],
          [
           true,
           "Streptococcus pneumoniae"
          ],
          [
           true,
           "Streptococcus pneumoniae"
          ],
          [
           true,
           "Staphylococcus aureus"
          ],
          [
           true,
           "Enterococcus faecium"
          ],
          [
           true,
           "Enterococcus faecium"
          ],
          [
           true,
           "Enterococcus faecium"
          ],
          [
           true,
           "Enterococcus faecium"
          ],
          [
           true,
           "Enterococcus faecium"
          ],
          [
           true,
           "Staphylococcus aureus"
          ],
          [
           true,
           "Staphylococcus aureus"
          ],
          [
           true,
           "Staphylococcus aureus"
          ],
          [
           true,
           "Staphylococcus aureus"
          ],
          [
           true,
           "Staphylococcus aureus"
          ],
          [
           true,
           "Staphylococcus aureus"
          ],
          [
           true,
           "Staphylococcus aureus"
          ],
          [
           true,
           "Enterococcus faecalis"
          ],
          [
           true,
           "Enterococcus faecium"
          ],
          [
           true,
           "Enterococcus faecium"
          ],
          [
           true,
           "Enterococcus faecium"
          ],
          [
           true,
           "Enterococcus faecium"
          ],
          [
           true,
           "Streptococcus agalactiae"
          ],
          [
           true,
           "Streptococcus agalactiae"
          ],
          [
           true,
           "Streptococcus agalactiae"
          ],
          [
           true,
           "Streptococcus agalactiae"
          ],
          [
           true,
           "Streptococcus agalactiae"
          ],
          [
           true,
           "Streptococcus agalactiae"
          ],
          [
           true,
           "Streptococcus agalactiae"
          ],
          [
           true,
           "Streptococcus agalactiae"
          ],
          [
           true,
           "Streptococcus agalactiae"
          ],
          [
           true,
           "Streptococcus agalactiae"
          ],
          [
           true,
           "Streptococcus agalactiae"
          ],
          [
           true,
           "Staphylococcus capitis"
          ],
          [
           true,
           "Staphylococcus capitis"
          ],
          [
           true,
           "Staphylococcus epidermidis"
          ],
          [
           true,
           "Staphylococcus epidermidis"
          ],
          [
           true,
           "Staphylococcus capitis"
          ],
          [
           true,
           "Staphylococcus capitis"
          ],
          [
           true,
           "Staphylococcus capitis"
          ],
          [
           true,
           "Staphylococcus capitis"
          ],
          [
           true,
           "Staphylococcus capitis"
          ],
          [
           true,
           "Staphylococcus capitis"
          ],
          [
           true,
           "Staphylococcus epidermidis"
          ],
          [
           true,
           "Staphylococcus epidermidis"
          ],
          [
           true,
           "Staphylococcus epidermidis"
          ],
          [
           true,
           "Staphylococcus epidermidis"
          ],
          [
           true,
           "Streptococcus agalactiae"
          ],
          [
           true,
           "Streptococcus agalactiae"
          ],
          [
           true,
           "Streptococcus agalactiae"
          ],
          [
           true,
           "Streptococcus agalactiae"
          ],
          [
           true,
           "Staphylococcus epidermidis"
          ],
          [
           true,
           "Staphylococcus epidermidis"
          ],
          [
           true,
           "Staphylococcus epidermidis"
          ],
          [
           true,
           "Staphylococcus epidermidis"
          ],
          [
           true,
           "Staphylococcus epidermidis"
          ],
          [
           true,
           "Staphylococcus epidermidis"
          ],
          [
           true,
           "Staphylococcus epidermidis"
          ],
          [
           true,
           "Staphylococcus epidermidis"
          ],
          [
           true,
           "Staphylococcus epidermidis"
          ],
          [
           true,
           "Staphylococcus epidermidis"
          ],
          [
           true,
           "Staphylococcus epidermidis"
          ],
          [
           true,
           "Staphylococcus epidermidis"
          ],
          [
           true,
           "Staphylococcus epidermidis"
          ],
          [
           true,
           "Staphylococcus epidermidis"
          ],
          [
           true,
           "Staphylococcus epidermidis"
          ],
          [
           true,
           "Staphylococcus epidermidis"
          ],
          [
           true,
           "Staphylococcus epidermidis"
          ],
          [
           true,
           "Staphylococcus epidermidis"
          ],
          [
           true,
           "Staphylococcus epidermidis"
          ],
          [
           true,
           "Staphylococcus epidermidis"
          ],
          [
           true,
           "Enterococcus faecalis"
          ],
          [
           true,
           "Staphylococcus aureus"
          ],
          [
           true,
           "Staphylococcus aureus"
          ],
          [
           true,
           "Staphylococcus epidermidis"
          ],
          [
           true,
           "Staphylococcus epidermidis"
          ],
          [
           true,
           "Staphylococcus epidermidis"
          ],
          [
           true,
           "Staphylococcus epidermidis"
          ],
          [
           true,
           "Staphylococcus epidermidis"
          ],
          [
           true,
           "Staphylococcus epidermidis"
          ],
          [
           true,
           "Staphylococcus epidermidis"
          ],
          [
           true,
           "Staphylococcus hominis"
          ],
          [
           true,
           "Staphylococcus hominis"
          ],
          [
           true,
           "Staphylococcus hominis"
          ],
          [
           true,
           "Staphylococcus hominis"
          ],
          [
           true,
           "Staphylococcus hominis"
          ],
          [
           true,
           "Staphylococcus hominis"
          ],
          [
           true,
           "Staphylococcus hominis"
          ],
          [
           true,
           "Staphylococcus hominis"
          ],
          [
           true,
           "Staphylococcus hominis"
          ],
          [
           true,
           "Staphylococcus hominis"
          ],
          [
           true,
           "Staphylococcus hominis"
          ],
          [
           true,
           "Streptococcus pneumoniae"
          ],
          [
           true,
           "Streptococcus pneumoniae"
          ],
          [
           true,
           "Streptococcus pneumoniae"
          ],
          [
           true,
           "Streptococcus pneumoniae"
          ],
          [
           true,
           "Streptococcus pneumoniae"
          ],
          [
           true,
           "Streptococcus pneumoniae"
          ],
          [
           true,
           "Streptococcus pyogenes"
          ],
          [
           true,
           "Streptococcus pyogenes"
          ],
          [
           true,
           "Streptococcus pyogenes"
          ],
          [
           true,
           "Streptococcus pneumoniae"
          ],
          [
           true,
           "Streptococcus pyogenes"
          ],
          [
           true,
           "Streptococcus pyogenes"
          ],
          [
           true,
           "Streptococcus pyogenes"
          ],
          [
           true,
           "Streptococcus pyogenes"
          ],
          [
           true,
           "Streptococcus pyogenes"
          ],
          [
           true,
           "Staphylococcus hominis"
          ],
          [
           true,
           "Staphylococcus hominis"
          ],
          [
           true,
           "Staphylococcus hominis"
          ],
          [
           true,
           "Staphylococcus hominis"
          ],
          [
           true,
           "Staphylococcus hominis"
          ],
          [
           true,
           "Staphylococcus hominis"
          ],
          [
           true,
           "Staphylococcus hominis"
          ],
          [
           true,
           "Enterococcus faecium"
          ],
          [
           true,
           "Enterococcus faecium"
          ],
          [
           true,
           "Enterococcus faecium"
          ],
          [
           true,
           "Enterococcus faecium"
          ],
          [
           true,
           "Enterococcus faecium"
          ],
          [
           true,
           "Enterococcus faecium"
          ],
          [
           true,
           "Enterococcus faecium"
          ],
          [
           true,
           "Enterococcus faecium"
          ],
          [
           true,
           "Enterococcus faecium"
          ],
          [
           true,
           "Enterococcus faecium"
          ],
          [
           true,
           "Enterococcus faecium"
          ],
          [
           true,
           "Enterococcus faecium"
          ],
          [
           true,
           "Enterococcus faecium"
          ],
          [
           true,
           "Enterococcus faecium"
          ],
          [
           true,
           "Enterococcus faecium"
          ],
          [
           true,
           "Enterococcus faecium"
          ],
          [
           true,
           "Enterococcus faecium"
          ],
          [
           true,
           "Enterococcus faecium"
          ],
          [
           true,
           "Staphylococcus aureus"
          ],
          [
           true,
           "Staphylococcus aureus"
          ],
          [
           true,
           "Staphylococcus aureus"
          ],
          [
           true,
           "Staphylococcus aureus"
          ],
          [
           true,
           "Staphylococcus aureus"
          ],
          [
           true,
           "Staphylococcus aureus"
          ],
          [
           true,
           "Staphylococcus aureus"
          ],
          [
           true,
           "Staphylococcus aureus"
          ],
          [
           true,
           "Staphylococcus aureus"
          ],
          [
           true,
           "Staphylococcus aureus"
          ],
          [
           true,
           "Staphylococcus aureus"
          ],
          [
           true,
           "Staphylococcus aureus"
          ],
          [
           true,
           "Staphylococcus aureus"
          ],
          [
           true,
           "Staphylococcus capitis"
          ],
          [
           true,
           "Staphylococcus capitis"
          ],
          [
           true,
           "Streptococcus pneumoniae"
          ],
          [
           true,
           "Streptococcus agalactiae"
          ],
          [
           true,
           "Streptococcus pneumoniae"
          ],
          [
           true,
           "Staphylococcus hominis"
          ],
          [
           true,
           "Staphylococcus hominis"
          ],
          [
           true,
           "Staphylococcus hominis"
          ],
          [
           true,
           "Staphylococcus hominis"
          ],
          [
           true,
           "Staphylococcus hominis"
          ],
          [
           true,
           "Staphylococcus hominis"
          ],
          [
           true,
           "Enterococcus faecium"
          ],
          [
           true,
           "Enterococcus faecium"
          ],
          [
           true,
           "Enterococcus faecium"
          ],
          [
           true,
           "Enterococcus faecium"
          ],
          [
           true,
           "Enterococcus faecium"
          ],
          [
           true,
           "Enterococcus faecium"
          ],
          [
           true,
           "Enterococcus faecium"
          ],
          [
           true,
           "Streptococcus agalactiae"
          ],
          [
           true,
           "Staphylococcus lugdunensis"
          ],
          [
           true,
           "Staphylococcus lugdunensis"
          ],
          [
           true,
           "Staphylococcus lugdunensis"
          ],
          [
           true,
           "Streptococcus agalactiae"
          ],
          [
           true,
           "Streptococcus agalactiae"
          ],
          [
           true,
           "Streptococcus agalactiae"
          ],
          [
           true,
           "Streptococcus agalactiae"
          ],
          [
           true,
           "Streptococcus agalactiae"
          ],
          [
           true,
           "Streptococcus agalactiae"
          ],
          [
           true,
           "Streptococcus pneumoniae"
          ],
          [
           true,
           "Streptococcus pneumoniae"
          ],
          [
           true,
           "Streptococcus pneumoniae"
          ],
          [
           true,
           "Streptococcus pneumoniae"
          ],
          [
           true,
           "Streptococcus pneumoniae"
          ],
          [
           true,
           "Staphylococcus hominis"
          ],
          [
           true,
           "Staphylococcus hominis"
          ],
          [
           true,
           "Staphylococcus hominis"
          ],
          [
           true,
           "Staphylococcus hominis"
          ],
          [
           true,
           "Streptococcus agalactiae"
          ],
          [
           true,
           "Streptococcus pneumoniae"
          ],
          [
           true,
           "Streptococcus pyogenes"
          ],
          [
           true,
           "Streptococcus pyogenes"
          ],
          [
           true,
           "Streptococcus pyogenes"
          ],
          [
           true,
           "Streptococcus pyogenes"
          ],
          [
           true,
           "Streptococcus pyogenes"
          ],
          [
           true,
           "Streptococcus pyogenes"
          ],
          [
           true,
           "Streptococcus pyogenes"
          ],
          [
           true,
           "Streptococcus pyogenes"
          ],
          [
           true,
           "Streptococcus pyogenes"
          ],
          [
           true,
           "Streptococcus pyogenes"
          ],
          [
           true,
           "Staphylococcus aureus"
          ],
          [
           true,
           "Staphylococcus aureus"
          ],
          [
           true,
           "Staphylococcus aureus"
          ],
          [
           true,
           "Staphylococcus aureus"
          ],
          [
           true,
           "Staphylococcus aureus"
          ],
          [
           true,
           "Staphylococcus aureus"
          ],
          [
           true,
           "Staphylococcus aureus"
          ],
          [
           true,
           "Staphylococcus aureus"
          ],
          [
           true,
           "Staphylococcus aureus"
          ],
          [
           true,
           "Staphylococcus aureus"
          ],
          [
           true,
           "Staphylococcus aureus"
          ],
          [
           true,
           "Staphylococcus aureus"
          ],
          [
           true,
           "Staphylococcus aureus"
          ],
          [
           true,
           "Staphylococcus aureus"
          ],
          [
           true,
           "Staphylococcus aureus"
          ],
          [
           true,
           "Staphylococcus aureus"
          ],
          [
           true,
           "Staphylococcus aureus"
          ],
          [
           true,
           "Staphylococcus aureus"
          ],
          [
           true,
           "Staphylococcus aureus"
          ],
          [
           true,
           "Staphylococcus aureus"
          ],
          [
           true,
           "Staphylococcus capitis"
          ],
          [
           true,
           "Staphylococcus epidermidis"
          ],
          [
           true,
           "Staphylococcus lugdunensis"
          ],
          [
           true,
           "Staphylococcus lugdunensis"
          ],
          [
           true,
           "Staphylococcus lugdunensis"
          ],
          [
           true,
           "Staphylococcus lugdunensis"
          ],
          [
           true,
           "Staphylococcus lugdunensis"
          ],
          [
           true,
           "Staphylococcus epidermidis"
          ],
          [
           true,
           "Staphylococcus epidermidis"
          ],
          [
           true,
           "Staphylococcus epidermidis"
          ],
          [
           true,
           "Staphylococcus epidermidis"
          ],
          [
           true,
           "Staphylococcus epidermidis"
          ],
          [
           true,
           "Staphylococcus epidermidis"
          ],
          [
           true,
           "Staphylococcus aureus"
          ],
          [
           true,
           "Staphylococcus aureus"
          ],
          [
           true,
           "Staphylococcus aureus"
          ],
          [
           true,
           "Staphylococcus aureus"
          ],
          [
           true,
           "Staphylococcus aureus"
          ],
          [
           true,
           "Staphylococcus aureus"
          ],
          [
           true,
           "Staphylococcus aureus"
          ],
          [
           true,
           "Staphylococcus aureus"
          ],
          [
           true,
           "Staphylococcus aureus"
          ],
          [
           true,
           "Staphylococcus aureus"
          ],
          [
           true,
           "Staphylococcus aureus"
          ],
          [
           true,
           "Staphylococcus aureus"
          ],
          [
           true,
           "Staphylococcus aureus"
          ],
          [
           true,
           "Staphylococcus aureus"
          ],
          [
           true,
           "Staphylococcus aureus"
          ],
          [
           true,
           "Staphylococcus aureus"
          ],
          [
           true,
           "Staphylococcus aureus"
          ],
          [
           true,
           "Staphylococcus aureus"
          ],
          [
           true,
           "Staphylococcus aureus"
          ],
          [
           true,
           "Enterococcus faecium"
          ],
          [
           true,
           "Enterococcus faecium"
          ],
          [
           true,
           "Streptococcus pneumoniae"
          ],
          [
           true,
           "Streptococcus pneumoniae"
          ],
          [
           true,
           "Streptococcus pneumoniae"
          ],
          [
           true,
           "Staphylococcus aureus"
          ],
          [
           true,
           "Staphylococcus aureus"
          ],
          [
           true,
           "Staphylococcus aureus"
          ],
          [
           true,
           "Staphylococcus aureus"
          ],
          [
           true,
           "Staphylococcus aureus"
          ],
          [
           true,
           "Staphylococcus aureus"
          ],
          [
           true,
           "Staphylococcus aureus"
          ],
          [
           true,
           "Staphylococcus aureus"
          ],
          [
           true,
           "Staphylococcus aureus"
          ],
          [
           true,
           "Staphylococcus aureus"
          ],
          [
           true,
           "Staphylococcus aureus"
          ],
          [
           true,
           "Staphylococcus aureus"
          ],
          [
           true,
           "Staphylococcus aureus"
          ],
          [
           true,
           "Staphylococcus aureus"
          ],
          [
           true,
           "Staphylococcus aureus"
          ],
          [
           true,
           "Staphylococcus aureus"
          ],
          [
           true,
           "Staphylococcus aureus"
          ],
          [
           true,
           "Staphylococcus aureus"
          ],
          [
           true,
           "Staphylococcus aureus"
          ],
          [
           true,
           "Staphylococcus aureus"
          ],
          [
           true,
           "Staphylococcus aureus"
          ],
          [
           true,
           "Staphylococcus aureus"
          ],
          [
           true,
           "Staphylococcus aureus"
          ],
          [
           true,
           "Staphylococcus aureus"
          ],
          [
           true,
           "Staphylococcus aureus"
          ],
          [
           true,
           "Staphylococcus aureus"
          ],
          [
           true,
           "Staphylococcus aureus"
          ],
          [
           true,
           "Staphylococcus capitis"
          ],
          [
           true,
           "Staphylococcus capitis"
          ],
          [
           true,
           "Staphylococcus epidermidis"
          ],
          [
           true,
           "Staphylococcus epidermidis"
          ],
          [
           true,
           "Staphylococcus capitis"
          ],
          [
           true,
           "Staphylococcus capitis"
          ],
          [
           true,
           "Staphylococcus capitis"
          ],
          [
           true,
           "Staphylococcus capitis"
          ],
          [
           true,
           "Staphylococcus capitis"
          ],
          [
           true,
           "Staphylococcus epidermidis"
          ],
          [
           true,
           "Staphylococcus epidermidis"
          ],
          [
           true,
           "Staphylococcus epidermidis"
          ],
          [
           true,
           "Staphylococcus epidermidis"
          ],
          [
           true,
           "Staphylococcus epidermidis"
          ],
          [
           true,
           "Staphylococcus epidermidis"
          ],
          [
           true,
           "Staphylococcus epidermidis"
          ],
          [
           true,
           "Staphylococcus epidermidis"
          ],
          [
           true,
           "Staphylococcus epidermidis"
          ],
          [
           true,
           "Staphylococcus epidermidis"
          ],
          [
           true,
           "Staphylococcus epidermidis"
          ],
          [
           true,
           "Staphylococcus epidermidis"
          ],
          [
           true,
           "Staphylococcus epidermidis"
          ],
          [
           true,
           "Staphylococcus epidermidis"
          ],
          [
           true,
           "Staphylococcus epidermidis"
          ],
          [
           true,
           "Staphylococcus epidermidis"
          ],
          [
           true,
           "Staphylococcus epidermidis"
          ],
          [
           true,
           "Staphylococcus epidermidis"
          ],
          [
           true,
           "Staphylococcus epidermidis"
          ],
          [
           true,
           "Staphylococcus epidermidis"
          ],
          [
           true,
           "Staphylococcus epidermidis"
          ],
          [
           true,
           "Staphylococcus epidermidis"
          ],
          [
           true,
           "Staphylococcus epidermidis"
          ],
          [
           true,
           "Staphylococcus epidermidis"
          ],
          [
           true,
           "Staphylococcus epidermidis"
          ],
          [
           true,
           "Staphylococcus epidermidis"
          ],
          [
           true,
           "Staphylococcus epidermidis"
          ],
          [
           true,
           "Staphylococcus epidermidis"
          ],
          [
           true,
           "Staphylococcus epidermidis"
          ],
          [
           true,
           "Staphylococcus aureus"
          ],
          [
           true,
           "Staphylococcus aureus"
          ],
          [
           true,
           "Staphylococcus epidermidis"
          ],
          [
           true,
           "Staphylococcus epidermidis"
          ],
          [
           true,
           "Staphylococcus epidermidis"
          ],
          [
           true,
           "Staphylococcus epidermidis"
          ],
          [
           true,
           "Staphylococcus epidermidis"
          ],
          [
           true,
           "Staphylococcus epidermidis"
          ],
          [
           true,
           "Staphylococcus epidermidis"
          ],
          [
           true,
           "Staphylococcus epidermidis"
          ],
          [
           true,
           "Staphylococcus epidermidis"
          ],
          [
           true,
           "Staphylococcus epidermidis"
          ],
          [
           true,
           "Staphylococcus hominis"
          ],
          [
           true,
           "Staphylococcus epidermidis"
          ],
          [
           true,
           "Staphylococcus hominis"
          ],
          [
           true,
           "Staphylococcus hominis"
          ],
          [
           true,
           "Staphylococcus hominis"
          ],
          [
           true,
           "Staphylococcus hominis"
          ],
          [
           true,
           "Staphylococcus hominis"
          ],
          [
           true,
           "Staphylococcus hominis"
          ],
          [
           true,
           "Staphylococcus hominis"
          ],
          [
           true,
           "Staphylococcus hominis"
          ],
          [
           true,
           "Staphylococcus hominis"
          ],
          [
           true,
           "Staphylococcus hominis"
          ],
          [
           true,
           "Staphylococcus hominis"
          ],
          [
           true,
           "Staphylococcus hominis"
          ],
          [
           true,
           "Staphylococcus hominis"
          ],
          [
           true,
           "Staphylococcus hominis"
          ],
          [
           true,
           "Staphylococcus hominis"
          ],
          [
           true,
           "Staphylococcus hominis"
          ],
          [
           true,
           "Staphylococcus aureus"
          ],
          [
           true,
           "Staphylococcus aureus"
          ],
          [
           true,
           "Staphylococcus aureus"
          ],
          [
           true,
           "Staphylococcus aureus"
          ],
          [
           true,
           "Staphylococcus aureus"
          ],
          [
           true,
           "Staphylococcus aureus"
          ],
          [
           true,
           "Staphylococcus aureus"
          ],
          [
           true,
           "Staphylococcus aureus"
          ],
          [
           true,
           "Staphylococcus aureus"
          ],
          [
           true,
           "Staphylococcus aureus"
          ],
          [
           true,
           "Staphylococcus aureus"
          ],
          [
           true,
           "Staphylococcus aureus"
          ],
          [
           true,
           "Staphylococcus aureus"
          ],
          [
           true,
           "Staphylococcus aureus"
          ],
          [
           true,
           "Staphylococcus aureus"
          ],
          [
           true,
           "Staphylococcus aureus"
          ],
          [
           true,
           "Staphylococcus aureus"
          ],
          [
           true,
           "Staphylococcus capitis"
          ],
          [
           true,
           "Staphylococcus capitis"
          ],
          [
           true,
           "Staphylococcus hominis"
          ],
          [
           true,
           "Staphylococcus hominis"
          ],
          [
           true,
           "Staphylococcus hominis"
          ],
          [
           true,
           "Staphylococcus hominis"
          ],
          [
           true,
           "Staphylococcus hominis"
          ],
          [
           true,
           "Staphylococcus hominis"
          ],
          [
           true,
           "Staphylococcus hominis"
          ],
          [
           true,
           "Staphylococcus hominis"
          ],
          [
           true,
           "Staphylococcus hominis"
          ],
          [
           true,
           "Staphylococcus hominis"
          ],
          [
           true,
           "Staphylococcus lugdunensis"
          ],
          [
           true,
           "Staphylococcus lugdunensis"
          ],
          [
           true,
           "Staphylococcus lugdunensis"
          ],
          [
           true,
           "Staphylococcus lugdunensis"
          ],
          [
           true,
           "Staphylococcus lugdunensis"
          ],
          [
           true,
           "Staphylococcus hominis"
          ],
          [
           true,
           "Staphylococcus hominis"
          ],
          [
           true,
           "Staphylococcus hominis"
          ],
          [
           true,
           "Staphylococcus hominis"
          ],
          [
           true,
           "Staphylococcus hominis"
          ],
          [
           true,
           "Staphylococcus aureus"
          ],
          [
           true,
           "Staphylococcus aureus"
          ],
          [
           true,
           "Staphylococcus aureus"
          ],
          [
           true,
           "Staphylococcus aureus"
          ],
          [
           true,
           "Staphylococcus aureus"
          ],
          [
           true,
           "Staphylococcus aureus"
          ],
          [
           true,
           "Staphylococcus aureus"
          ],
          [
           true,
           "Staphylococcus aureus"
          ],
          [
           true,
           "Staphylococcus aureus"
          ],
          [
           true,
           "Staphylococcus aureus"
          ],
          [
           true,
           "Staphylococcus aureus"
          ],
          [
           true,
           "Staphylococcus aureus"
          ],
          [
           true,
           "Staphylococcus aureus"
          ],
          [
           true,
           "Staphylococcus aureus"
          ],
          [
           true,
           "Staphylococcus aureus"
          ],
          [
           true,
           "Staphylococcus aureus"
          ],
          [
           true,
           "Staphylococcus aureus"
          ],
          [
           true,
           "Staphylococcus aureus"
          ],
          [
           true,
           "Staphylococcus aureus"
          ],
          [
           true,
           "Staphylococcus capitis"
          ],
          [
           true,
           "Staphylococcus epidermidis"
          ],
          [
           true,
           "Staphylococcus lugdunensis"
          ],
          [
           true,
           "Staphylococcus lugdunensis"
          ],
          [
           true,
           "Staphylococcus lugdunensis"
          ],
          [
           true,
           "Staphylococcus lugdunensis"
          ],
          [
           true,
           "Staphylococcus lugdunensis"
          ],
          [
           true,
           "Staphylococcus lugdunensis"
          ],
          [
           true,
           "Staphylococcus epidermidis"
          ],
          [
           true,
           "Staphylococcus epidermidis"
          ],
          [
           true,
           "Staphylococcus epidermidis"
          ],
          [
           true,
           "Staphylococcus epidermidis"
          ],
          [
           true,
           "Staphylococcus epidermidis"
          ],
          [
           true,
           "Staphylococcus epidermidis"
          ],
          [
           true,
           "Staphylococcus epidermidis"
          ],
          [
           true,
           "Staphylococcus lugdunensis"
          ],
          [
           true,
           "Staphylococcus aureus"
          ],
          [
           true,
           "Staphylococcus aureus"
          ],
          [
           true,
           "Staphylococcus aureus"
          ],
          [
           true,
           "Staphylococcus aureus"
          ],
          [
           true,
           "Staphylococcus aureus"
          ],
          [
           true,
           "Staphylococcus aureus"
          ],
          [
           true,
           "Staphylococcus aureus"
          ],
          [
           true,
           "Staphylococcus aureus"
          ],
          [
           true,
           "Staphylococcus aureus"
          ],
          [
           true,
           "Staphylococcus aureus"
          ],
          [
           true,
           "Staphylococcus aureus"
          ],
          [
           true,
           "Staphylococcus aureus"
          ],
          [
           true,
           "Staphylococcus aureus"
          ],
          [
           true,
           "Staphylococcus aureus"
          ],
          [
           true,
           "Staphylococcus aureus"
          ],
          [
           true,
           "Staphylococcus aureus"
          ],
          [
           true,
           "Staphylococcus aureus"
          ],
          [
           true,
           "Staphylococcus aureus"
          ],
          [
           true,
           "Staphylococcus aureus"
          ],
          [
           true,
           "Staphylococcus aureus"
          ],
          [
           true,
           "Staphylococcus aureus"
          ],
          [
           true,
           "Staphylococcus aureus"
          ],
          [
           true,
           "Staphylococcus aureus"
          ],
          [
           true,
           "Staphylococcus aureus"
          ],
          [
           true,
           "Staphylococcus aureus"
          ],
          [
           true,
           "Staphylococcus aureus"
          ],
          [
           true,
           "Staphylococcus aureus"
          ],
          [
           true,
           "Staphylococcus aureus"
          ],
          [
           true,
           "Staphylococcus aureus"
          ],
          [
           true,
           "Staphylococcus aureus"
          ],
          [
           true,
           "Staphylococcus aureus"
          ],
          [
           true,
           "Staphylococcus aureus"
          ],
          [
           true,
           "Staphylococcus aureus"
          ],
          [
           true,
           "Staphylococcus aureus"
          ],
          [
           true,
           "Staphylococcus aureus"
          ],
          [
           true,
           "Staphylococcus epidermidis"
          ],
          [
           true,
           "Staphylococcus epidermidis"
          ],
          [
           true,
           "Staphylococcus epidermidis"
          ],
          [
           true,
           "Staphylococcus epidermidis"
          ],
          [
           true,
           "Staphylococcus epidermidis"
          ],
          [
           true,
           "Staphylococcus lugdunensis"
          ],
          [
           true,
           "Staphylococcus aureus"
          ],
          [
           true,
           "Staphylococcus aureus"
          ],
          [
           true,
           "Staphylococcus aureus"
          ],
          [
           true,
           "Staphylococcus aureus"
          ],
          [
           true,
           "Staphylococcus aureus"
          ],
          [
           true,
           "Staphylococcus aureus"
          ],
          [
           true,
           "Staphylococcus aureus"
          ],
          [
           true,
           "Staphylococcus aureus"
          ],
          [
           true,
           "Staphylococcus aureus"
          ],
          [
           true,
           "Staphylococcus aureus"
          ],
          [
           true,
           "Staphylococcus aureus"
          ],
          [
           true,
           "Staphylococcus aureus"
          ],
          [
           true,
           "Staphylococcus aureus"
          ],
          [
           true,
           "Staphylococcus aureus"
          ],
          [
           true,
           "Staphylococcus aureus"
          ],
          [
           true,
           "Staphylococcus aureus"
          ],
          [
           true,
           "Staphylococcus aureus"
          ],
          [
           true,
           "Staphylococcus aureus"
          ],
          [
           true,
           "Staphylococcus aureus"
          ],
          [
           true,
           "Staphylococcus aureus"
          ],
          [
           true,
           "Staphylococcus aureus"
          ],
          [
           true,
           "Staphylococcus aureus"
          ],
          [
           true,
           "Staphylococcus aureus"
          ],
          [
           true,
           "Staphylococcus aureus"
          ],
          [
           true,
           "Staphylococcus capitis"
          ],
          [
           true,
           "Staphylococcus epidermidis"
          ],
          [
           true,
           "Staphylococcus capitis"
          ],
          [
           true,
           "Staphylococcus capitis"
          ],
          [
           true,
           "Staphylococcus capitis"
          ],
          [
           true,
           "Staphylococcus capitis"
          ],
          [
           true,
           "Staphylococcus capitis"
          ],
          [
           true,
           "Staphylococcus capitis"
          ],
          [
           true,
           "Staphylococcus epidermidis"
          ],
          [
           true,
           "Staphylococcus epidermidis"
          ],
          [
           true,
           "Staphylococcus epidermidis"
          ],
          [
           true,
           "Staphylococcus epidermidis"
          ],
          [
           true,
           "Staphylococcus epidermidis"
          ],
          [
           true,
           "Staphylococcus epidermidis"
          ],
          [
           true,
           "Staphylococcus epidermidis"
          ],
          [
           true,
           "Staphylococcus epidermidis"
          ],
          [
           true,
           "Staphylococcus epidermidis"
          ],
          [
           true,
           "Staphylococcus epidermidis"
          ],
          [
           true,
           "Staphylococcus epidermidis"
          ],
          [
           true,
           "Staphylococcus epidermidis"
          ],
          [
           true,
           "Staphylococcus epidermidis"
          ],
          [
           true,
           "Staphylococcus epidermidis"
          ],
          [
           true,
           "Staphylococcus epidermidis"
          ],
          [
           true,
           "Staphylococcus epidermidis"
          ],
          [
           true,
           "Staphylococcus epidermidis"
          ],
          [
           true,
           "Staphylococcus epidermidis"
          ],
          [
           true,
           "Staphylococcus epidermidis"
          ],
          [
           true,
           "Staphylococcus epidermidis"
          ],
          [
           true,
           "Staphylococcus epidermidis"
          ],
          [
           true,
           "Staphylococcus epidermidis"
          ],
          [
           true,
           "Staphylococcus epidermidis"
          ],
          [
           true,
           "Staphylococcus epidermidis"
          ],
          [
           true,
           "Staphylococcus aureus"
          ],
          [
           true,
           "Staphylococcus aureus"
          ],
          [
           true,
           "Staphylococcus epidermidis"
          ],
          [
           true,
           "Staphylococcus epidermidis"
          ],
          [
           true,
           "Staphylococcus epidermidis"
          ],
          [
           true,
           "Staphylococcus epidermidis"
          ],
          [
           true,
           "Staphylococcus epidermidis"
          ],
          [
           true,
           "Staphylococcus epidermidis"
          ],
          [
           true,
           "Staphylococcus epidermidis"
          ],
          [
           true,
           "Staphylococcus epidermidis"
          ],
          [
           true,
           "Staphylococcus hominis"
          ],
          [
           true,
           "Staphylococcus hominis"
          ],
          [
           true,
           "Staphylococcus hominis"
          ],
          [
           true,
           "Staphylococcus hominis"
          ],
          [
           true,
           "Staphylococcus hominis"
          ],
          [
           true,
           "Staphylococcus hominis"
          ],
          [
           true,
           "Staphylococcus hominis"
          ],
          [
           true,
           "Staphylococcus hominis"
          ],
          [
           true,
           "Staphylococcus hominis"
          ],
          [
           true,
           "Staphylococcus hominis"
          ],
          [
           true,
           "Staphylococcus hominis"
          ],
          [
           true,
           "Staphylococcus hominis"
          ],
          [
           true,
           "Staphylococcus hominis"
          ],
          [
           true,
           "Staphylococcus hominis"
          ],
          [
           true,
           "Staphylococcus hominis"
          ],
          [
           true,
           "Staphylococcus hominis"
          ],
          [
           true,
           "Staphylococcus aureus"
          ],
          [
           true,
           "Staphylococcus aureus"
          ],
          [
           true,
           "Staphylococcus aureus"
          ],
          [
           true,
           "Staphylococcus aureus"
          ],
          [
           true,
           "Staphylococcus aureus"
          ],
          [
           true,
           "Staphylococcus aureus"
          ],
          [
           true,
           "Staphylococcus aureus"
          ],
          [
           true,
           "Staphylococcus aureus"
          ],
          [
           true,
           "Staphylococcus aureus"
          ],
          [
           true,
           "Staphylococcus aureus"
          ],
          [
           true,
           "Staphylococcus aureus"
          ],
          [
           true,
           "Staphylococcus aureus"
          ],
          [
           true,
           "Staphylococcus aureus"
          ],
          [
           true,
           "Staphylococcus aureus"
          ],
          [
           true,
           "Staphylococcus aureus"
          ],
          [
           true,
           "Staphylococcus hominis"
          ],
          [
           true,
           "Staphylococcus hominis"
          ],
          [
           true,
           "Staphylococcus hominis"
          ],
          [
           true,
           "Staphylococcus hominis"
          ],
          [
           true,
           "Staphylococcus hominis"
          ],
          [
           true,
           "Staphylococcus hominis"
          ],
          [
           true,
           "Staphylococcus hominis"
          ],
          [
           true,
           "Staphylococcus hominis"
          ],
          [
           true,
           "Staphylococcus hominis"
          ],
          [
           true,
           "Staphylococcus lugdunensis"
          ],
          [
           true,
           "Staphylococcus lugdunensis"
          ],
          [
           true,
           "Staphylococcus lugdunensis"
          ],
          [
           true,
           "Staphylococcus lugdunensis"
          ],
          [
           true,
           "Staphylococcus hominis"
          ],
          [
           true,
           "Staphylococcus hominis"
          ],
          [
           true,
           "Staphylococcus hominis"
          ],
          [
           true,
           "Staphylococcus aureus"
          ],
          [
           true,
           "Staphylococcus aureus"
          ],
          [
           true,
           "Staphylococcus aureus"
          ],
          [
           true,
           "Staphylococcus aureus"
          ],
          [
           true,
           "Staphylococcus aureus"
          ],
          [
           true,
           "Staphylococcus aureus"
          ],
          [
           true,
           "Staphylococcus aureus"
          ],
          [
           true,
           "Staphylococcus aureus"
          ],
          [
           true,
           "Staphylococcus aureus"
          ],
          [
           true,
           "Staphylococcus aureus"
          ],
          [
           true,
           "Staphylococcus aureus"
          ],
          [
           true,
           "Staphylococcus aureus"
          ],
          [
           true,
           "Staphylococcus aureus"
          ],
          [
           true,
           "Staphylococcus aureus"
          ],
          [
           true,
           "Staphylococcus aureus"
          ],
          [
           true,
           "Staphylococcus aureus"
          ],
          [
           true,
           "Staphylococcus aureus"
          ],
          [
           true,
           "Staphylococcus aureus"
          ],
          [
           true,
           "Staphylococcus aureus"
          ],
          [
           true,
           "Staphylococcus aureus"
          ],
          [
           true,
           "Staphylococcus lugdunensis"
          ],
          [
           true,
           "Staphylococcus lugdunensis"
          ],
          [
           true,
           "Staphylococcus lugdunensis"
          ],
          [
           true,
           "Staphylococcus lugdunensis"
          ],
          [
           true,
           "Staphylococcus lugdunensis"
          ],
          [
           true,
           "Staphylococcus epidermidis"
          ],
          [
           true,
           "Staphylococcus epidermidis"
          ],
          [
           true,
           "Staphylococcus epidermidis"
          ],
          [
           true,
           "Staphylococcus epidermidis"
          ],
          [
           true,
           "Staphylococcus epidermidis"
          ],
          [
           true,
           "Staphylococcus lugdunensis"
          ],
          [
           true,
           "Staphylococcus aureus"
          ],
          [
           true,
           "Staphylococcus aureus"
          ],
          [
           true,
           "Staphylococcus aureus"
          ],
          [
           true,
           "Staphylococcus aureus"
          ],
          [
           true,
           "Staphylococcus aureus"
          ],
          [
           true,
           "Staphylococcus aureus"
          ],
          [
           true,
           "Staphylococcus aureus"
          ],
          [
           true,
           "Staphylococcus aureus"
          ],
          [
           true,
           "Staphylococcus aureus"
          ],
          [
           true,
           "Staphylococcus aureus"
          ],
          [
           true,
           "Staphylococcus aureus"
          ],
          [
           true,
           "Staphylococcus aureus"
          ],
          [
           true,
           "Staphylococcus aureus"
          ],
          [
           true,
           "Staphylococcus aureus"
          ],
          [
           true,
           "Staphylococcus aureus"
          ],
          [
           true,
           "Staphylococcus aureus"
          ],
          [
           true,
           "Staphylococcus aureus"
          ],
          [
           true,
           "Staphylococcus aureus"
          ],
          [
           true,
           "Staphylococcus aureus"
          ],
          [
           true,
           "Staphylococcus aureus"
          ],
          [
           true,
           "Staphylococcus aureus"
          ],
          [
           true,
           "Staphylococcus aureus"
          ],
          [
           true,
           "Staphylococcus aureus"
          ],
          [
           true,
           "Staphylococcus aureus"
          ],
          [
           true,
           "Staphylococcus aureus"
          ],
          [
           true,
           "Staphylococcus aureus"
          ],
          [
           true,
           "Staphylococcus aureus"
          ],
          [
           true,
           "Staphylococcus epidermidis"
          ],
          [
           true,
           "Staphylococcus epidermidis"
          ],
          [
           true,
           "Staphylococcus aureus"
          ],
          [
           true,
           "Staphylococcus aureus"
          ],
          [
           true,
           "Staphylococcus aureus"
          ],
          [
           true,
           "Staphylococcus aureus"
          ],
          [
           true,
           "Staphylococcus aureus"
          ],
          [
           true,
           "Staphylococcus aureus"
          ],
          [
           true,
           "Staphylococcus aureus"
          ],
          [
           true,
           "Staphylococcus aureus"
          ],
          [
           true,
           "Staphylococcus aureus"
          ],
          [
           true,
           "Staphylococcus aureus"
          ],
          [
           true,
           "Staphylococcus aureus"
          ],
          [
           true,
           "Staphylococcus aureus"
          ],
          [
           true,
           "Staphylococcus aureus"
          ],
          [
           true,
           "Staphylococcus aureus"
          ],
          [
           true,
           "Staphylococcus aureus"
          ],
          [
           true,
           "Staphylococcus aureus"
          ],
          [
           true,
           "Staphylococcus aureus"
          ],
          [
           true,
           "Staphylococcus aureus"
          ],
          [
           true,
           "Streptococcus agalactiae"
          ],
          [
           true,
           "Streptococcus agalactiae"
          ],
          [
           true,
           "Streptococcus agalactiae"
          ],
          [
           true,
           "Streptococcus agalactiae"
          ],
          [
           true,
           "Streptococcus agalactiae"
          ],
          [
           true,
           "Streptococcus agalactiae"
          ],
          [
           true,
           "Streptococcus agalactiae"
          ],
          [
           true,
           "Streptococcus agalactiae"
          ],
          [
           true,
           "Streptococcus agalactiae"
          ],
          [
           true,
           "Streptococcus agalactiae"
          ],
          [
           true,
           "Staphylococcus capitis"
          ],
          [
           true,
           "Staphylococcus capitis"
          ],
          [
           true,
           "Staphylococcus capitis"
          ],
          [
           true,
           "Staphylococcus capitis"
          ],
          [
           true,
           "Staphylococcus capitis"
          ],
          [
           true,
           "Staphylococcus capitis"
          ],
          [
           true,
           "Staphylococcus capitis"
          ],
          [
           true,
           "Staphylococcus capitis"
          ],
          [
           true,
           "Staphylococcus epidermidis"
          ],
          [
           true,
           "Staphylococcus epidermidis"
          ],
          [
           true,
           "Staphylococcus epidermidis"
          ],
          [
           true,
           "Staphylococcus epidermidis"
          ],
          [
           true,
           "Streptococcus agalactiae"
          ],
          [
           true,
           "Streptococcus agalactiae"
          ],
          [
           true,
           "Streptococcus agalactiae"
          ],
          [
           true,
           "Streptococcus agalactiae"
          ],
          [
           true,
           "Staphylococcus epidermidis"
          ],
          [
           true,
           "Staphylococcus epidermidis"
          ],
          [
           true,
           "Staphylococcus epidermidis"
          ],
          [
           true,
           "Staphylococcus epidermidis"
          ],
          [
           true,
           "Staphylococcus epidermidis"
          ],
          [
           true,
           "Staphylococcus epidermidis"
          ],
          [
           true,
           "Staphylococcus epidermidis"
          ],
          [
           true,
           "Staphylococcus epidermidis"
          ],
          [
           true,
           "Staphylococcus epidermidis"
          ],
          [
           true,
           "Staphylococcus epidermidis"
          ],
          [
           true,
           "Staphylococcus epidermidis"
          ],
          [
           true,
           "Staphylococcus epidermidis"
          ],
          [
           true,
           "Staphylococcus epidermidis"
          ],
          [
           true,
           "Staphylococcus aureus"
          ],
          [
           true,
           "Staphylococcus epidermidis"
          ],
          [
           true,
           "Staphylococcus epidermidis"
          ],
          [
           true,
           "Staphylococcus epidermidis"
          ],
          [
           true,
           "Staphylococcus hominis"
          ],
          [
           true,
           "Staphylococcus hominis"
          ],
          [
           true,
           "Staphylococcus hominis"
          ],
          [
           true,
           "Staphylococcus hominis"
          ],
          [
           true,
           "Staphylococcus hominis"
          ],
          [
           true,
           "Staphylococcus hominis"
          ],
          [
           true,
           "Staphylococcus hominis"
          ],
          [
           true,
           "Streptococcus pneumoniae"
          ],
          [
           true,
           "Streptococcus pneumoniae"
          ],
          [
           true,
           "Streptococcus pneumoniae"
          ],
          [
           true,
           "Streptococcus pyogenes"
          ],
          [
           true,
           "Streptococcus pyogenes"
          ],
          [
           true,
           "Streptococcus pyogenes"
          ],
          [
           true,
           "Streptococcus pyogenes"
          ],
          [
           true,
           "Streptococcus pyogenes"
          ],
          [
           true,
           "Streptococcus pyogenes"
          ],
          [
           true,
           "Staphylococcus hominis"
          ],
          [
           true,
           "Staphylococcus hominis"
          ],
          [
           true,
           "Staphylococcus hominis"
          ],
          [
           true,
           "Staphylococcus hominis"
          ],
          [
           true,
           "Staphylococcus aureus"
          ],
          [
           true,
           "Staphylococcus aureus"
          ],
          [
           true,
           "Staphylococcus aureus"
          ],
          [
           true,
           "Staphylococcus aureus"
          ],
          [
           true,
           "Staphylococcus aureus"
          ],
          [
           true,
           "Staphylococcus aureus"
          ],
          [
           true,
           "Staphylococcus aureus"
          ],
          [
           true,
           "Staphylococcus aureus"
          ],
          [
           true,
           "Staphylococcus aureus"
          ],
          [
           true,
           "Staphylococcus aureus"
          ],
          [
           true,
           "Staphylococcus aureus"
          ],
          [
           true,
           "Staphylococcus aureus"
          ],
          [
           true,
           "Staphylococcus aureus"
          ],
          [
           true,
           "Staphylococcus aureus"
          ],
          [
           true,
           "Staphylococcus capitis"
          ],
          [
           true,
           "Streptococcus agalactiae"
          ],
          [
           true,
           "Staphylococcus hominis"
          ],
          [
           true,
           "Staphylococcus hominis"
          ],
          [
           true,
           "Staphylococcus hominis"
          ],
          [
           true,
           "Staphylococcus hominis"
          ],
          [
           true,
           "Streptococcus agalactiae"
          ],
          [
           true,
           "Staphylococcus lugdunensis"
          ],
          [
           true,
           "Staphylococcus lugdunensis"
          ],
          [
           true,
           "Staphylococcus lugdunensis"
          ],
          [
           true,
           "Staphylococcus lugdunensis"
          ],
          [
           true,
           "Streptococcus agalactiae"
          ],
          [
           true,
           "Streptococcus agalactiae"
          ],
          [
           true,
           "Streptococcus agalactiae"
          ],
          [
           true,
           "Streptococcus agalactiae"
          ],
          [
           true,
           "Streptococcus agalactiae"
          ],
          [
           true,
           "Streptococcus pneumoniae"
          ],
          [
           true,
           "Streptococcus pneumoniae"
          ],
          [
           true,
           "Streptococcus pneumoniae"
          ],
          [
           true,
           "Streptococcus pneumoniae"
          ],
          [
           true,
           "Streptococcus pneumoniae"
          ],
          [
           true,
           "Streptococcus pneumoniae"
          ],
          [
           true,
           "Streptococcus pneumoniae"
          ],
          [
           true,
           "Staphylococcus hominis"
          ],
          [
           true,
           "Streptococcus agalactiae"
          ],
          [
           true,
           "Streptococcus pneumoniae"
          ],
          [
           true,
           "Streptococcus pyogenes"
          ],
          [
           true,
           "Streptococcus pyogenes"
          ],
          [
           true,
           "Streptococcus pyogenes"
          ],
          [
           true,
           "Streptococcus pyogenes"
          ],
          [
           true,
           "Streptococcus pyogenes"
          ],
          [
           true,
           "Streptococcus pyogenes"
          ],
          [
           true,
           "Streptococcus pyogenes"
          ],
          [
           true,
           "Staphylococcus aureus"
          ],
          [
           true,
           "Staphylococcus aureus"
          ],
          [
           true,
           "Staphylococcus aureus"
          ],
          [
           true,
           "Staphylococcus aureus"
          ],
          [
           true,
           "Staphylococcus aureus"
          ],
          [
           true,
           "Staphylococcus aureus"
          ],
          [
           true,
           "Staphylococcus aureus"
          ],
          [
           true,
           "Staphylococcus aureus"
          ],
          [
           true,
           "Staphylococcus aureus"
          ],
          [
           true,
           "Staphylococcus aureus"
          ],
          [
           true,
           "Staphylococcus aureus"
          ],
          [
           true,
           "Staphylococcus aureus"
          ],
          [
           true,
           "Staphylococcus aureus"
          ],
          [
           true,
           "Staphylococcus aureus"
          ],
          [
           true,
           "Staphylococcus aureus"
          ],
          [
           true,
           "Staphylococcus aureus"
          ],
          [
           true,
           "Staphylococcus aureus"
          ],
          [
           true,
           "Staphylococcus aureus"
          ],
          [
           true,
           "Staphylococcus aureus"
          ],
          [
           true,
           "Staphylococcus aureus"
          ],
          [
           true,
           "Staphylococcus capitis"
          ],
          [
           true,
           "Staphylococcus lugdunensis"
          ],
          [
           true,
           "Staphylococcus lugdunensis"
          ],
          [
           true,
           "Staphylococcus lugdunensis"
          ],
          [
           true,
           "Staphylococcus lugdunensis"
          ],
          [
           true,
           "Staphylococcus lugdunensis"
          ],
          [
           true,
           "Staphylococcus lugdunensis"
          ],
          [
           true,
           "Staphylococcus epidermidis"
          ],
          [
           true,
           "Staphylococcus epidermidis"
          ],
          [
           true,
           "Staphylococcus aureus"
          ],
          [
           true,
           "Staphylococcus aureus"
          ],
          [
           true,
           "Staphylococcus aureus"
          ],
          [
           true,
           "Staphylococcus aureus"
          ],
          [
           true,
           "Staphylococcus aureus"
          ],
          [
           true,
           "Staphylococcus aureus"
          ],
          [
           true,
           "Staphylococcus aureus"
          ],
          [
           true,
           "Staphylococcus aureus"
          ],
          [
           true,
           "Staphylococcus aureus"
          ],
          [
           true,
           "Staphylococcus aureus"
          ],
          [
           true,
           "Staphylococcus aureus"
          ],
          [
           true,
           "Staphylococcus aureus"
          ],
          [
           true,
           "Staphylococcus aureus"
          ],
          [
           true,
           "Staphylococcus aureus"
          ],
          [
           true,
           "Staphylococcus aureus"
          ],
          [
           true,
           "Staphylococcus aureus"
          ],
          [
           true,
           "Staphylococcus aureus"
          ],
          [
           true,
           "Staphylococcus aureus"
          ],
          [
           true,
           "Staphylococcus aureus"
          ],
          [
           true,
           "Staphylococcus aureus"
          ],
          [
           true,
           "Staphylococcus aureus"
          ],
          [
           true,
           "Staphylococcus aureus"
          ],
          [
           true,
           "Staphylococcus aureus"
          ],
          [
           true,
           "Staphylococcus aureus"
          ],
          [
           true,
           "Staphylococcus aureus"
          ],
          [
           true,
           "Staphylococcus aureus"
          ],
          [
           true,
           "Staphylococcus aureus"
          ],
          [
           true,
           "Staphylococcus aureus"
          ],
          [
           true,
           "Staphylococcus aureus"
          ],
          [
           true,
           "Staphylococcus aureus"
          ],
          [
           true,
           "Staphylococcus aureus"
          ],
          [
           true,
           "Staphylococcus aureus"
          ],
          [
           true,
           "Staphylococcus aureus"
          ],
          [
           true,
           "Staphylococcus aureus"
          ],
          [
           true,
           "Streptococcus pneumoniae"
          ],
          [
           true,
           "Streptococcus pneumoniae"
          ],
          [
           true,
           "Staphylococcus aureus"
          ],
          [
           true,
           "Staphylococcus aureus"
          ],
          [
           true,
           "Staphylococcus aureus"
          ],
          [
           true,
           "Staphylococcus aureus"
          ],
          [
           true,
           "Staphylococcus aureus"
          ],
          [
           true,
           "Staphylococcus aureus"
          ],
          [
           true,
           "Staphylococcus capitis"
          ],
          [
           true,
           "Staphylococcus capitis"
          ],
          [
           true,
           "Staphylococcus epidermidis"
          ],
          [
           true,
           "Staphylococcus epidermidis"
          ],
          [
           true,
           "Staphylococcus epidermidis"
          ],
          [
           true,
           "Staphylococcus aureus"
          ],
          [
           true,
           "Staphylococcus hominis"
          ],
          [
           true,
           "Staphylococcus hominis"
          ],
          [
           true,
           "Staphylococcus aureus"
          ],
          [
           true,
           "Staphylococcus aureus"
          ],
          [
           true,
           "Staphylococcus aureus"
          ],
          [
           true,
           "Staphylococcus capitis"
          ],
          [
           true,
           "Streptococcus pneumoniae"
          ],
          [
           true,
           "Staphylococcus lugdunensis"
          ],
          [
           true,
           "Staphylococcus lugdunensis"
          ],
          [
           true,
           "Staphylococcus lugdunensis"
          ],
          [
           true,
           "Staphylococcus hominis"
          ],
          [
           true,
           "Staphylococcus hominis"
          ],
          [
           true,
           "Staphylococcus aureus"
          ],
          [
           true,
           "Staphylococcus aureus"
          ],
          [
           true,
           "Staphylococcus aureus"
          ],
          [
           true,
           "Staphylococcus aureus"
          ],
          [
           true,
           "Staphylococcus aureus"
          ],
          [
           true,
           "Staphylococcus aureus"
          ],
          [
           true,
           "Staphylococcus epidermidis"
          ],
          [
           true,
           "Staphylococcus aureus"
          ],
          [
           true,
           "Staphylococcus aureus"
          ],
          [
           true,
           "Staphylococcus aureus"
          ],
          [
           true,
           "Staphylococcus aureus"
          ],
          [
           true,
           "Staphylococcus aureus"
          ],
          [
           true,
           "Staphylococcus aureus"
          ],
          [
           true,
           "Staphylococcus epidermidis"
          ],
          [
           true,
           "Staphylococcus epidermidis"
          ],
          [
           true,
           "Staphylococcus epidermidis"
          ],
          [
           true,
           "Staphylococcus epidermidis"
          ],
          [
           true,
           "Staphylococcus epidermidis"
          ],
          [
           true,
           "Streptococcus pneumoniae"
          ],
          [
           true,
           "Streptococcus pneumoniae"
          ],
          [
           true,
           "Staphylococcus auricularis"
          ],
          [
           true,
           "Staphylococcus auricularis"
          ],
          [
           true,
           "Staphylococcus auricularis"
          ],
          [
           true,
           "Staphylococcus auricularis"
          ],
          [
           true,
           "Staphylococcus auricularis"
          ],
          [
           true,
           "Staphylococcus warneri"
          ]
         ],
         "hovertemplate": "<b>%{hovertext}</b><br><br>SIR=Sensitive<br>Log2(MIC-value)=%{y:.0f}<br>Scale=%{customdata[0]}<br>Pathogen=%{customdata[1]}<extra></extra>",
         "hovertext": [
          "QM1007",
          "QM1008",
          "HV236",
          "PER144",
          "PER149",
          "QM1010",
          "QM1011",
          "QM1013",
          "QM1014",
          "BAR008",
          "BAR018",
          "BAR019",
          "BAR023",
          "BAR024",
          "QM115",
          "BAR062",
          "BAR059",
          "QM804",
          "BAR026",
          "QM1002",
          "QM878",
          "QM879",
          "QM169",
          "QM874",
          "QM875",
          "PER134",
          "QM880",
          "QM882",
          "QM883",
          "QM884",
          "PER159",
          "BAR009",
          "QM1440",
          "QM1334",
          "QM868",
          "QM1533",
          "QM887",
          "QM889",
          "QM1536",
          "QM1537",
          "QM1539",
          "QM1541",
          "QM1542",
          "QM1543",
          "QM1545",
          "QM1546",
          "QM1547",
          "QM1549",
          "QM1551",
          "QM1552",
          "QM1554",
          "QM1555",
          "QM1556",
          "QM1557",
          "QM1558",
          "QM1559",
          "QM1561",
          "QM1565",
          "AR0461",
          "QM1260",
          "QM1262",
          "QM1267",
          "AR0221",
          "QM025",
          "BAR043",
          "QM286",
          "QM065",
          "QM294",
          "HV236",
          "PER144",
          "PER149",
          "QM115",
          "BAR062",
          "BAR032",
          "QM169",
          "QM874",
          "QM875",
          "QM1391",
          "QM307",
          "QM321",
          "QM398",
          "QM518",
          "QM980",
          "QM982",
          "QM984",
          "QM985",
          "QM986",
          "QM988",
          "QM989",
          "QM990",
          "QM991",
          "QM993",
          "QM397",
          "QM995",
          "QM992",
          "QM996",
          "QM997",
          "QM994",
          "HV447",
          "QM262",
          "QM322",
          "QM323",
          "HV480",
          "QM308",
          "QM998",
          "BAR052",
          "BAR059",
          "QM1325",
          "QM1326",
          "QM1327",
          "QM1358",
          "QM1359",
          "QM1360",
          "QM1362",
          "QM1364",
          "QM1366",
          "QM1367",
          "QM1368",
          "QM1369",
          "QM1370",
          "QM1379",
          "QM1385",
          "QM1388",
          "QM1450",
          "QM1452",
          "AR0561",
          "AR0562",
          "AR0563",
          "AR0564",
          "AR0565",
          "AR0566",
          "AR0461",
          "AR0462",
          "AR0465",
          "AR0467",
          "AR0468",
          "AR0469",
          "AR0470",
          "AR0472",
          "AR0474",
          "AR0475",
          "AR0476",
          "AR0477",
          "AR0478",
          "AR0479",
          "AR0480",
          "AR0215",
          "AR0216",
          "AR0217",
          "AR0218",
          "AR0219",
          "AR0220",
          "AR0221",
          "AR0222",
          "AR0481",
          "AR0482",
          "AR0483",
          "AR0485",
          "AR0486",
          "AR0490",
          "AR0223",
          "AR0224",
          "AR0225",
          "AR0226",
          "AR0227",
          "AR0228",
          "AR0701",
          "AR0704",
          "AR0705",
          "AR0706",
          "AR0707",
          "AR0708",
          "AR0709",
          "AR0710",
          "AR0711",
          "AR0712",
          "AR0713",
          "AR0714",
          "AR0715",
          "AR0716",
          "AR0717",
          "AR0718",
          "AR0719",
          "AR0720",
          "AR0721",
          "AR0722",
          "AR0723",
          "AR0724",
          "QM1324",
          "AR0567",
          "AR0568",
          "AR0570",
          "QM307",
          "QM321",
          "QM398",
          "QM518",
          "QM980",
          "QM982",
          "QM984",
          "QM985",
          "QM986",
          "QM988",
          "QM989",
          "QM990",
          "QM991",
          "QM993",
          "QM397",
          "QM995",
          "QM992",
          "QM996",
          "QM997",
          "QM994",
          "HV447",
          "QM262",
          "QM322",
          "QM323",
          "HV480",
          "QM308",
          "QM998",
          "BAR052",
          "BAR059",
          "QM1325",
          "QM1327",
          "QM1358",
          "QM1359",
          "QM1360",
          "QM1362",
          "QM1364",
          "QM1366",
          "QM1367",
          "QM1368",
          "QM1369",
          "QM1370",
          "QM1379",
          "QM1385",
          "QM1388",
          "QM1450",
          "QM1452",
          "AR0561",
          "AR0562",
          "AR0563",
          "AR0564",
          "AR0565",
          "AR0566",
          "AR0461",
          "AR0462",
          "AR0465",
          "AR0467",
          "AR0468",
          "AR0469",
          "AR0470",
          "AR0472",
          "AR0474",
          "AR0475",
          "AR0476",
          "AR0477",
          "AR0478",
          "AR0479",
          "AR0480",
          "AR0215",
          "AR0216",
          "AR0217",
          "AR0218",
          "AR0219",
          "AR0221",
          "AR0222",
          "AR0481",
          "AR0482",
          "AR0483",
          "AR0485",
          "AR0486",
          "AR0490",
          "AR0223",
          "AR0224",
          "AR0225",
          "AR0226",
          "AR0227",
          "AR0228",
          "AR0701",
          "AR0704",
          "AR0705",
          "AR0706",
          "AR0707",
          "AR0708",
          "AR0709",
          "AR0710",
          "AR0711",
          "AR0712",
          "AR0713",
          "AR0714",
          "AR0716",
          "AR0717",
          "AR0718",
          "AR0719",
          "AR0721",
          "AR0722",
          "AR0723",
          "AR0724",
          "QM1324",
          "AR0567",
          "AR0568",
          "AR0570",
          "PER144",
          "QM115",
          "BAR062",
          "QM803",
          "QM804",
          "QM808",
          "QM810",
          "BAR026",
          "QM169",
          "QM874",
          "PER134",
          "QM1333",
          "QM876",
          "QM325",
          "QM1334",
          "QM868",
          "QM1387",
          "QM1456",
          "QM1457",
          "QM1460",
          "QM1461",
          "QM1464",
          "QM1468",
          "QM1469",
          "QM870",
          "QM872",
          "HV752",
          "QM1574",
          "QM025",
          "QM026",
          "QM329",
          "QM402",
          "QM1487",
          "HV236",
          "PER144",
          "PER149",
          "QM115",
          "BAR062",
          "QM803",
          "QM804",
          "QM805",
          "QM806",
          "QM807",
          "QM808",
          "QM810",
          "BAR026",
          "QM169",
          "QM874",
          "QM875",
          "PER134",
          "QM1333",
          "HV985",
          "QM876",
          "QM325",
          "QM1334",
          "QM1406",
          "QM1353",
          "QM152",
          "QM868",
          "BAR064",
          "QM1387",
          "QM1456",
          "QM1457",
          "QM1460",
          "QM1461",
          "QM1464",
          "QM1468",
          "QM1469",
          "QM1470",
          "QM870",
          "QM871",
          "QM872",
          "BAR066",
          "HV752",
          "QM138",
          "QM1574",
          "QM1489",
          "QM1491",
          "QM1492",
          "QM025",
          "QM026",
          "QM027",
          "QM326",
          "QM328",
          "QM329",
          "QM402",
          "QM1483",
          "QM1485",
          "QM1486",
          "QM1487",
          "QM286",
          "QM065",
          "HV519",
          "QM076",
          "QM294",
          "PER107",
          "QM319",
          "HV772",
          "PER110",
          "QM867",
          "PER108",
          "PER104",
          "QM292",
          "QM312",
          "QM295",
          "QM068",
          "HV896",
          "HV510",
          "QM1248",
          "QM1250",
          "QM1252",
          "QM1253",
          "QM1254",
          "QM1255",
          "QM1288",
          "QM1289",
          "QM1308",
          "QM1309",
          "QM1310",
          "QM1311",
          "QM1312",
          "QM1313",
          "QM1314",
          "QM1315",
          "QM1316",
          "QM1317",
          "QM1373",
          "QM1391",
          "QM1524",
          "QM1526",
          "QM1530",
          "QM1531",
          "AR0572",
          "AR0575",
          "QM067",
          "QM307",
          "QM321",
          "QM398",
          "QM518",
          "QM980",
          "QM982",
          "QM984",
          "QM985",
          "QM986",
          "QM988",
          "QM989",
          "QM990",
          "QM991",
          "QM993",
          "QM995",
          "QM996",
          "QM997",
          "QM994",
          "HV447",
          "QM262",
          "QM322",
          "QM323",
          "HV480",
          "QM308",
          "QM998",
          "QM085",
          "QM086",
          "HV109",
          "HV116",
          "QM895",
          "QM897",
          "QM899",
          "BAR001",
          "BAR002",
          "BAR003",
          "HV119",
          "HV136",
          "HV146",
          "HV156",
          "HV205",
          "HV254",
          "HV884",
          "HV912",
          "HV950",
          "HV953",
          "HV975",
          "HV983",
          "QM034",
          "QM088",
          "QM089",
          "HV455",
          "HV462",
          "HV498",
          "HV521",
          "HV523",
          "HV538",
          "HV559",
          "HV594",
          "HV615",
          "HV283",
          "HV285",
          "HV326",
          "HV413",
          "HV416",
          "BAR052",
          "BAR059",
          "QM351",
          "QM359",
          "QM365",
          "QM370",
          "QM373",
          "QM380",
          "QM381",
          "QM958",
          "QM968",
          "QM970",
          "QM977",
          "HV103",
          "HV107",
          "HV114",
          "HV245",
          "HV262",
          "HV271",
          "HV277",
          "HV330",
          "HV412",
          "HV414",
          "HV740",
          "HV753",
          "HV500",
          "HV508",
          "HV517",
          "HV599",
          "QM1325",
          "QM1326",
          "QM1327",
          "QM1358",
          "QM1359",
          "QM1360",
          "QM1362",
          "QM1364",
          "QM1366",
          "QM1367",
          "QM1368",
          "QM1369",
          "QM1370",
          "QM1379",
          "QM1385",
          "QM1388",
          "QM1452",
          "QM1263",
          "QM1264",
          "QM971",
          "HV986",
          "HV987",
          "QM093",
          "QM963",
          "QM1270",
          "QM1271",
          "QM1272",
          "QM1273",
          "PER152",
          "QM887",
          "QM889",
          "QM894",
          "QM960",
          "HV794",
          "HV813",
          "HV820",
          "HV88",
          "HV902",
          "AR0561",
          "AR0562",
          "AR0563",
          "AR0564",
          "AR0565",
          "AR0566",
          "AR0469",
          "AR0470",
          "AR0472",
          "AR0475",
          "AR0476",
          "AR0477",
          "AR0478",
          "AR0479",
          "AR0480",
          "QM1265",
          "QM1258",
          "QM1259",
          "QM1261",
          "QM1262",
          "QM1267",
          "QM1269",
          "HV678",
          "HV733",
          "HV744",
          "HV754",
          "HV773",
          "HV901",
          "BAR040",
          "AR0220",
          "AR0222",
          "AR0481",
          "AR0482",
          "AR0483",
          "AR0485",
          "AR0486",
          "AR0490",
          "AR0702",
          "AR0703",
          "AR0704",
          "AR0705",
          "AR0706",
          "AR0707",
          "AR0708",
          "AR0709",
          "AR0710",
          "AR0711",
          "AR0712",
          "AR0713",
          "AR0714",
          "AR0715",
          "AR0716",
          "AR0717",
          "AR0718",
          "AR0719",
          "AR0721",
          "AR0722",
          "AR0723",
          "AR0724",
          "AR0726",
          "AR0727",
          "AR0728",
          "AR0729",
          "AR0730",
          "QM1324",
          "BAR043",
          "AR0567",
          "AR0568",
          "AR0570",
          "QM286",
          "QM065",
          "HV519",
          "HV772",
          "PER110",
          "QM307",
          "QM321",
          "QM398",
          "QM518",
          "QM980",
          "QM982",
          "QM984",
          "QM985",
          "QM986",
          "QM988",
          "QM989",
          "QM990",
          "QM991",
          "QM993",
          "QM995",
          "QM996",
          "QM997",
          "QM994",
          "HV447",
          "QM262",
          "QM322",
          "QM323",
          "QM292",
          "QM312",
          "QM068",
          "HV896",
          "HV510",
          "HV480",
          "QM308",
          "QM998",
          "PER128",
          "QM1007",
          "QM1008",
          "HV236",
          "PER144",
          "PER149",
          "QM1010",
          "QM1011",
          "QM1013",
          "QM1014",
          "QM1015",
          "QM886",
          "BAR006",
          "BAR008",
          "QM085",
          "QM086",
          "HV116",
          "QM895",
          "QM897",
          "QM899",
          "BAR001",
          "BAR002",
          "BAR003",
          "HV119",
          "HV136",
          "HV156",
          "HV205",
          "BAR018",
          "BAR023",
          "BAR024",
          "QM115",
          "BAR062",
          "QM134",
          "HV884",
          "HV912",
          "HV950",
          "HV975",
          "QM088",
          "QM089",
          "HV455",
          "HV462",
          "HV498",
          "HV521",
          "HV523",
          "HV538",
          "HV559",
          "HV594",
          "HV615",
          "HV283",
          "HV285",
          "HV326",
          "HV413",
          "HV416",
          "BAR052",
          "BAR059",
          "QM351",
          "QM359",
          "QM365",
          "QM370",
          "QM373",
          "QM380",
          "QM381",
          "QM957",
          "QM958",
          "QM968",
          "QM970",
          "QM977",
          "HV103",
          "HV107",
          "HV114",
          "HV262",
          "HV271",
          "HV277",
          "HV330",
          "HV412",
          "HV414",
          "QM804",
          "QM805",
          "QM806",
          "QM807",
          "QM1002",
          "QM878",
          "QM879",
          "QM169",
          "QM874",
          "QM875",
          "PER134",
          "QM1333",
          "QM880",
          "QM882",
          "QM883",
          "QM884",
          "PER159",
          "BAR009",
          "QM876",
          "HV740",
          "HV753",
          "HV448",
          "HV500",
          "HV508",
          "HV517",
          "HV599",
          "QM1250",
          "QM1253",
          "QM1254",
          "QM1255",
          "QM1288",
          "QM1308",
          "QM1309",
          "QM1310",
          "QM1315",
          "QM1373",
          "QM1325",
          "QM1326",
          "QM1327",
          "QM1358",
          "QM1359",
          "QM1360",
          "QM1362",
          "QM1364",
          "QM1366",
          "QM1367",
          "QM1368",
          "QM1369",
          "QM1370",
          "QM1379",
          "QM1385",
          "QM1388",
          "QM1450",
          "QM1452",
          "QM1263",
          "QM1264",
          "QM325",
          "QM1440",
          "QM1334",
          "QM1406",
          "QM1353",
          "QM152",
          "QM868",
          "BAR064",
          "QM1387",
          "QM971",
          "HV986",
          "QM093",
          "QM963",
          "QM964",
          "QM1522",
          "QM1530",
          "QM1533",
          "QM1270",
          "QM1271",
          "QM1272",
          "QM1273",
          "PER152",
          "QM887",
          "QM889",
          "QM894",
          "QM960",
          "QM1536",
          "QM1537",
          "QM1539",
          "QM1540",
          "QM1541",
          "QM1542",
          "QM1543",
          "QM1545",
          "QM1461",
          "QM1470",
          "HV794",
          "HV813",
          "HV820",
          "HV88",
          "HV902",
          "QM870",
          "QM871",
          "QM872",
          "BAR066",
          "HV752",
          "QM138",
          "QM1546",
          "QM1574",
          "QM1547",
          "QM1549",
          "QM1551",
          "QM1552",
          "QM1554",
          "QM1555",
          "QM1556",
          "QM1557",
          "QM1558",
          "QM1559",
          "QM1561",
          "QM1565",
          "QM1489",
          "QM1491",
          "QM1492",
          "AR0561",
          "AR0562",
          "AR0563",
          "AR0564",
          "AR0565",
          "AR0566",
          "AR0461",
          "AR0462",
          "AR0469",
          "AR0470",
          "AR0472",
          "AR0474",
          "AR0475",
          "AR0476",
          "AR0477",
          "AR0478",
          "AR0479",
          "AR0480",
          "QM1265",
          "QM1258",
          "QM1259",
          "QM1260",
          "QM1261",
          "QM1262",
          "QM1267",
          "QM1269",
          "HV678",
          "HV733",
          "HV744",
          "HV754",
          "HV773",
          "HV901",
          "BAR040",
          "AR0221",
          "AR0222",
          "AR0481",
          "AR0482",
          "AR0483",
          "AR0485",
          "AR0490",
          "AR0225",
          "AR0226",
          "AR0228",
          "AR0701",
          "AR0702",
          "AR0703",
          "AR0704",
          "AR0705",
          "AR0706",
          "AR0707",
          "AR0708",
          "AR0709",
          "AR0710",
          "AR0711",
          "AR0712",
          "AR0713",
          "AR0714",
          "AR0715",
          "AR0716",
          "AR0717",
          "AR0718",
          "AR0719",
          "AR0720",
          "AR0721",
          "AR0722",
          "AR0723",
          "AR0724",
          "AR0726",
          "AR0730",
          "QM025",
          "QM026",
          "QM027",
          "QM326",
          "QM328",
          "QM329",
          "QM1483",
          "QM1485",
          "QM1486",
          "QM1487",
          "QM1324",
          "BAR043",
          "AR0567",
          "AR0568",
          "AR0570",
          "HV519",
          "HV772",
          "QM307",
          "QM321",
          "QM398",
          "QM518",
          "QM980",
          "QM982",
          "QM984",
          "QM985",
          "QM986",
          "QM988",
          "QM989",
          "QM990",
          "QM991",
          "QM993",
          "QM995",
          "QM996",
          "QM997",
          "QM994",
          "HV447",
          "QM262",
          "QM322",
          "QM323",
          "HV896",
          "HV510",
          "HV480",
          "QM308",
          "QM998",
          "PER128",
          "QM1007",
          "QM1008",
          "HV236",
          "PER144",
          "PER149",
          "QM1010",
          "QM1011",
          "QM1013",
          "QM1014",
          "QM1015",
          "QM886",
          "BAR006",
          "BAR008",
          "QM085",
          "QM086",
          "HV109",
          "HV116",
          "QM895",
          "QM897",
          "QM899",
          "BAR002",
          "BAR003",
          "HV119",
          "HV136",
          "HV146",
          "HV156",
          "HV205",
          "HV254",
          "BAR018",
          "BAR019",
          "BAR023",
          "BAR024",
          "QM115",
          "BAR062",
          "QM134",
          "HV884",
          "HV912",
          "HV953",
          "HV975",
          "HV983",
          "QM034",
          "QM088",
          "QM089",
          "HV455",
          "HV462",
          "HV498",
          "HV521",
          "HV523",
          "HV538",
          "HV559",
          "HV594",
          "HV615",
          "HV283",
          "HV285",
          "HV326",
          "HV413",
          "HV416",
          "BAR052",
          "BAR059",
          "QM351",
          "QM359",
          "QM365",
          "QM370",
          "QM373",
          "QM380",
          "QM381",
          "QM957",
          "QM958",
          "QM968",
          "QM970",
          "QM977",
          "HV103",
          "HV114",
          "HV245",
          "HV262",
          "HV271",
          "HV277",
          "HV330",
          "HV412",
          "HV414",
          "QM803",
          "QM804",
          "QM805",
          "QM807",
          "QM808",
          "QM810",
          "BAR026",
          "QM1002",
          "QM878",
          "QM879",
          "QM169",
          "QM874",
          "QM875",
          "PER134",
          "QM1333",
          "QM880",
          "QM882",
          "QM883",
          "QM884",
          "PER159",
          "BAR009",
          "QM876",
          "HV740",
          "HV753",
          "HV448",
          "HV500",
          "HV508",
          "HV517",
          "QM1315",
          "QM1373",
          "QM1325",
          "QM1326",
          "QM1327",
          "QM1358",
          "QM1359",
          "QM1360",
          "QM1362",
          "QM1364",
          "QM1366",
          "QM1367",
          "QM1368",
          "QM1369",
          "QM1370",
          "QM1379",
          "QM1385",
          "QM1388",
          "QM1450",
          "QM1452",
          "QM1263",
          "QM1264",
          "QM325",
          "QM1440",
          "QM1406",
          "QM1353",
          "QM152",
          "QM868",
          "QM1387",
          "QM971",
          "HV986",
          "HV987",
          "QM093",
          "QM964",
          "QM1522",
          "QM1530",
          "QM1533",
          "QM1270",
          "QM1271",
          "QM1272",
          "QM1273",
          "PER152",
          "QM887",
          "QM889",
          "QM894",
          "QM960",
          "QM1536",
          "QM1537",
          "QM1539",
          "QM1540",
          "QM1541",
          "QM1542",
          "QM1545",
          "QM1456",
          "QM1457",
          "QM1460",
          "QM1461",
          "QM1464",
          "QM1468",
          "QM1469",
          "QM1470",
          "HV794",
          "HV813",
          "HV820",
          "HV88",
          "HV902",
          "QM870",
          "QM871",
          "QM872",
          "BAR066",
          "HV752",
          "QM138",
          "QM1546",
          "QM1574",
          "QM1547",
          "QM1549",
          "QM1551",
          "QM1552",
          "QM1554",
          "QM1555",
          "QM1556",
          "QM1557",
          "QM1558",
          "QM1559",
          "QM1561",
          "QM1565",
          "QM1489",
          "QM1491",
          "QM1492",
          "AR0561",
          "AR0562",
          "AR0563",
          "AR0564",
          "AR0565",
          "AR0566",
          "AR0461",
          "AR0469",
          "AR0470",
          "AR0472",
          "AR0475",
          "AR0476",
          "AR0477",
          "AR0478",
          "AR0479",
          "AR0480",
          "QM1265",
          "QM1258",
          "QM1259",
          "QM1260",
          "QM1261",
          "QM1262",
          "QM1267",
          "QM1269",
          "HV678",
          "HV733",
          "HV734",
          "HV744",
          "HV754",
          "HV773",
          "BAR040",
          "AR0481",
          "AR0482",
          "AR0483",
          "AR0485",
          "AR0486",
          "AR0490",
          "AR0225",
          "AR0226",
          "AR0701",
          "AR0702",
          "AR0703",
          "AR0704",
          "AR0705",
          "AR0706",
          "AR0707",
          "AR0708",
          "AR0709",
          "AR0710",
          "AR0711",
          "AR0712",
          "AR0713",
          "AR0714",
          "AR0717",
          "AR0718",
          "AR0719",
          "AR0720",
          "AR0721",
          "AR0722",
          "AR0723",
          "AR0724",
          "AR0726",
          "AR0727",
          "AR0728",
          "AR0729",
          "AR0730",
          "QM025",
          "QM026",
          "QM027",
          "QM326",
          "QM328",
          "QM329",
          "QM1483",
          "QM1485",
          "QM1486",
          "QM1487",
          "QM1324",
          "BAR043",
          "AR0567",
          "AR0568",
          "QM085",
          "QM086",
          "HV146",
          "HV983",
          "QM1326",
          "QM1272",
          "PER152",
          "QM889",
          "QM894",
          "AR0561",
          "AR0566",
          "AR0462",
          "QM1258",
          "AR0217",
          "AR0221",
          "AR0222",
          "AR0223",
          "AR0702",
          "BAR043",
          "QM518",
          "HV447",
          "QM322",
          "QM308",
          "PER128",
          "QM1013",
          "QM086",
          "HV146",
          "HV205",
          "HV254",
          "BAR024",
          "HV884",
          "HV462",
          "HV521",
          "HV538",
          "HV615",
          "HV285",
          "HV326",
          "HV416",
          "BAR052",
          "BAR059",
          "HV103",
          "HV107",
          "HV114",
          "HV245",
          "HV262",
          "HV271",
          "HV277",
          "HV412",
          "HV414",
          "QM805",
          "QM807",
          "QM808",
          "BAR026",
          "QM1002",
          "QM878",
          "QM882",
          "QM884",
          "HV740",
          "HV753",
          "HV500",
          "HV508",
          "HV517",
          "HV599",
          "QM1325",
          "QM1326",
          "QM1327",
          "QM1359",
          "QM1360",
          "QM1362",
          "QM1364",
          "QM1367",
          "QM1368",
          "QM1370",
          "QM1379",
          "QM1385",
          "QM1388",
          "QM1452",
          "QM1353",
          "HV986",
          "HV987",
          "PER152",
          "QM887",
          "QM889",
          "QM894",
          "QM1536",
          "QM1539",
          "HV794",
          "HV813",
          "HV88",
          "HV902",
          "QM1546",
          "QM1549",
          "QM1554",
          "QM1557",
          "QM1558",
          "QM1561",
          "AR0561",
          "AR0563",
          "AR0566",
          "AR0462",
          "AR0465",
          "AR0467",
          "AR0468",
          "AR0470",
          "AR0472",
          "AR0475",
          "AR0476",
          "AR0477",
          "AR0478",
          "AR0479",
          "AR0480",
          "QM1267",
          "QM1269",
          "AR0216",
          "AR0217",
          "AR0221",
          "AR0222",
          "AR0481",
          "AR0482",
          "AR0490",
          "AR0224",
          "AR0225",
          "AR0701",
          "AR0702",
          "AR0704",
          "AR0705",
          "AR0714",
          "AR0715",
          "QM026",
          "QM329",
          "QM1324",
          "BAR043",
          "AR0568",
          "QM323",
          "QM085",
          "HV109",
          "QM895",
          "QM897",
          "BAR001",
          "BAR002",
          "BAR003",
          "HV254",
          "HV912",
          "HV983",
          "HV455",
          "HV523",
          "HV559",
          "HV283",
          "HV285",
          "HV326",
          "HV413",
          "BAR052",
          "BAR059",
          "QM359",
          "QM370",
          "QM373",
          "QM381",
          "QM957",
          "QM970",
          "HV245",
          "HV262",
          "HV277",
          "HV740",
          "HV448",
          "HV599",
          "QM1325",
          "QM1327",
          "QM1358",
          "QM1359",
          "QM1369",
          "QM1379",
          "QM1388",
          "QM971",
          "HV986",
          "QM963",
          "QM964",
          "QM1270",
          "QM1271",
          "QM1272",
          "QM1273",
          "PER152",
          "QM887",
          "QM960",
          "HV88",
          "HV902",
          "AR0563",
          "AR0564",
          "AR0566",
          "AR0461",
          "AR0462",
          "AR0465",
          "AR0467",
          "AR0468",
          "AR0469",
          "AR0472",
          "AR0474",
          "AR0475",
          "AR0476",
          "AR0477",
          "AR0478",
          "AR0479",
          "QM1259",
          "QM1262",
          "QM1267",
          "QM1269",
          "HV678",
          "HV754",
          "HV773",
          "AR0215",
          "AR0216",
          "AR0217",
          "AR0218",
          "AR0220",
          "AR0221",
          "AR0481",
          "AR0482",
          "AR0483",
          "AR0486",
          "AR0224",
          "AR0226",
          "AR0227",
          "AR0228",
          "AR0704",
          "AR0705",
          "AR0708",
          "AR0709",
          "AR0711",
          "AR0713",
          "AR0714",
          "AR0717",
          "AR0723",
          "AR0726",
          "AR0728",
          "AR0729",
          "QM026",
          "QM328",
          "QM329",
          "AR0567",
          "HV519",
          "PER107",
          "HV772",
          "PER110",
          "PER108",
          "QM985",
          "QM988",
          "QM397",
          "QM995",
          "QM992",
          "QM262",
          "QM323",
          "QM312",
          "QM295",
          "QM068",
          "HV896",
          "HV510",
          "PER128",
          "QM1007",
          "QM1008",
          "QM1010",
          "QM1011",
          "QM1013",
          "QM1014",
          "QM1015",
          "QM886",
          "BAR006",
          "BAR008",
          "QM085",
          "QM086",
          "HV109",
          "HV116",
          "QM895",
          "QM897",
          "QM899",
          "BAR001",
          "BAR002",
          "BAR003",
          "HV119",
          "HV136",
          "HV146",
          "HV254",
          "BAR018",
          "BAR019",
          "BAR023",
          "BAR024",
          "HV884",
          "HV912",
          "HV950",
          "HV953",
          "HV975",
          "QM089",
          "HV455",
          "HV462",
          "HV498",
          "HV521",
          "HV523",
          "HV538",
          "HV559",
          "HV594",
          "HV615",
          "HV283",
          "HV285",
          "HV326",
          "HV413",
          "HV416",
          "BAR032",
          "BAR052",
          "BAR059",
          "QM351",
          "QM359",
          "QM370",
          "QM380",
          "QM957",
          "QM958",
          "QM968",
          "QM970",
          "HV103",
          "HV107",
          "HV114",
          "HV245",
          "HV262",
          "HV271",
          "HV277",
          "HV330",
          "HV412",
          "HV414",
          "QM803",
          "QM804",
          "QM806",
          "QM808",
          "QM810",
          "BAR026",
          "QM1002",
          "QM878",
          "QM879",
          "PER134",
          "QM880",
          "QM883",
          "QM884",
          "PER159",
          "BAR009",
          "HV740",
          "HV753",
          "HV448",
          "HV500",
          "HV508",
          "HV517",
          "HV599",
          "QM1248",
          "QM1250",
          "QM1252",
          "QM1254",
          "QM1255",
          "QM1288",
          "QM1289",
          "QM1308",
          "QM1309",
          "QM1310",
          "QM1312",
          "QM1313",
          "QM1314",
          "QM1315",
          "QM1316",
          "QM1317",
          "QM1373",
          "QM1391",
          "QM1325",
          "QM1326",
          "QM1327",
          "QM1358",
          "QM1362",
          "QM1364",
          "QM1366",
          "QM1367",
          "QM1368",
          "QM1369",
          "QM1379",
          "QM1450",
          "QM1452",
          "QM1263",
          "QM1264",
          "QM325",
          "QM1440",
          "QM1353",
          "QM971",
          "HV986",
          "HV987",
          "QM093",
          "QM963",
          "QM964",
          "QM1523",
          "QM1524",
          "QM1525",
          "QM1526",
          "QM1527",
          "QM1528",
          "QM1530",
          "QM1533",
          "QM889",
          "QM894",
          "QM960",
          "QM1536",
          "QM1539",
          "QM1540",
          "QM1541",
          "QM1543",
          "QM1545",
          "QM1457",
          "QM1460",
          "QM1461",
          "QM1469",
          "QM1470",
          "HV794",
          "HV813",
          "HV820",
          "HV902",
          "QM1546",
          "QM1574",
          "QM1547",
          "QM1551",
          "QM1552",
          "QM1554",
          "QM1555",
          "QM1556",
          "QM1557",
          "QM1558",
          "QM1559",
          "QM1561",
          "AR0561",
          "AR0563",
          "AR0564",
          "AR0565",
          "AR0566",
          "AR0461",
          "AR0462",
          "AR0465",
          "AR0467",
          "AR0468",
          "AR0469",
          "AR0470",
          "AR0472",
          "AR0474",
          "AR0475",
          "AR0476",
          "AR0477",
          "AR0478",
          "AR0479",
          "AR0480",
          "QM1265",
          "QM1258",
          "QM1259",
          "QM1260",
          "QM1261",
          "QM1267",
          "QM1269",
          "HV678",
          "HV733",
          "HV734",
          "HV744",
          "HV754",
          "HV773",
          "AR0215",
          "AR0216",
          "AR0217",
          "AR0218",
          "AR0219",
          "AR0220",
          "AR0221",
          "AR0222",
          "AR0481",
          "AR0482",
          "AR0483",
          "AR0485",
          "AR0486",
          "AR0224",
          "AR0225",
          "AR0226",
          "AR0228",
          "AR0703",
          "AR0705",
          "AR0572",
          "AR0575",
          "QM025",
          "QM326",
          "QM329",
          "QM1324",
          "AR0567",
          "AR0570",
          "QM307",
          "QM321",
          "QM398",
          "QM518",
          "QM980",
          "QM982",
          "QM984",
          "QM985",
          "QM986",
          "QM988",
          "QM989",
          "QM990",
          "QM991",
          "QM993",
          "QM995",
          "QM996",
          "QM997",
          "QM994",
          "HV447",
          "QM262",
          "QM322",
          "HV480",
          "QM308",
          "QM998",
          "QM085",
          "QM086",
          "HV109",
          "HV116",
          "QM895",
          "QM897",
          "QM899",
          "BAR001",
          "BAR003",
          "HV119",
          "HV136",
          "HV146",
          "HV156",
          "HV205",
          "HV254",
          "HV884",
          "HV912",
          "HV950",
          "HV953",
          "HV975",
          "HV983",
          "QM034",
          "QM088",
          "QM089",
          "HV455",
          "HV462",
          "HV498",
          "HV521",
          "HV523",
          "HV538",
          "HV559",
          "HV594",
          "HV615",
          "HV283",
          "HV285",
          "HV326",
          "HV413",
          "HV416",
          "BAR052",
          "BAR059",
          "QM351",
          "QM359",
          "QM365",
          "QM370",
          "QM373",
          "QM380",
          "QM381",
          "QM957",
          "QM958",
          "QM968",
          "QM970",
          "QM977",
          "HV103",
          "HV107",
          "HV114",
          "HV245",
          "HV262",
          "HV271",
          "HV277",
          "HV330",
          "HV412",
          "HV414",
          "HV753",
          "HV448",
          "HV500",
          "HV508",
          "HV517",
          "HV599",
          "QM1325",
          "QM1326",
          "QM1327",
          "QM1358",
          "QM1359",
          "QM1360",
          "QM1362",
          "QM1364",
          "QM1366",
          "QM1367",
          "QM1368",
          "QM1369",
          "QM1370",
          "QM1385",
          "QM1388",
          "QM1450",
          "QM1452",
          "QM1263",
          "QM1264",
          "QM971",
          "HV986",
          "HV987",
          "QM093",
          "QM963",
          "QM964",
          "QM1270",
          "QM1271",
          "QM1272",
          "QM1273",
          "PER152",
          "QM887",
          "QM889",
          "QM894",
          "QM960",
          "HV794",
          "HV813",
          "HV820",
          "HV88",
          "HV902",
          "AR0561",
          "AR0562",
          "AR0563",
          "AR0565",
          "AR0566",
          "AR0461",
          "AR0462",
          "AR0465",
          "AR0467",
          "AR0468",
          "AR0469",
          "AR0470",
          "AR0472",
          "AR0475",
          "AR0476",
          "AR0477",
          "AR0478",
          "AR0479",
          "AR0480",
          "QM1265",
          "QM1258",
          "QM1259",
          "QM1260",
          "QM1261",
          "QM1262",
          "QM1267",
          "QM1269",
          "HV678",
          "HV733",
          "HV734",
          "HV744",
          "HV754",
          "HV773",
          "HV901",
          "BAR040",
          "AR0215",
          "AR0219",
          "AR0220",
          "AR0221",
          "AR0481",
          "AR0482",
          "AR0483",
          "AR0485",
          "AR0486",
          "AR0490",
          "AR0223",
          "AR0224",
          "AR0701",
          "AR0702",
          "AR0703",
          "AR0704",
          "AR0705",
          "AR0706",
          "AR0707",
          "AR0708",
          "AR0709",
          "AR0710",
          "AR0711",
          "AR0712",
          "AR0713",
          "AR0715",
          "AR0716",
          "AR0717",
          "AR0718",
          "AR0719",
          "AR0720",
          "AR0721",
          "AR0722",
          "AR0723",
          "AR0724",
          "AR0726",
          "AR0727",
          "AR0728",
          "AR0729",
          "AR0730",
          "BAR043",
          "AR0567",
          "AR0568",
          "AR0570",
          "QM307",
          "QM321",
          "QM982",
          "QM985",
          "QM986",
          "QM988",
          "QM989",
          "QM990",
          "QM991",
          "QM993",
          "QM995",
          "QM996",
          "QM997",
          "QM994",
          "HV447",
          "QM262",
          "QM322",
          "QM323",
          "HV480",
          "QM308",
          "QM998",
          "QM086",
          "HV109",
          "QM895",
          "QM897",
          "QM899",
          "BAR001",
          "BAR002",
          "BAR003",
          "HV119",
          "HV136",
          "HV146",
          "HV205",
          "HV884",
          "HV912",
          "HV950",
          "HV953",
          "HV975",
          "QM034",
          "QM088",
          "QM089",
          "HV455",
          "HV462",
          "HV521",
          "HV523",
          "HV538",
          "HV559",
          "HV594",
          "HV615",
          "HV283",
          "HV285",
          "HV326",
          "HV416",
          "BAR052",
          "BAR059",
          "QM351",
          "QM359",
          "QM365",
          "QM370",
          "QM380",
          "QM381",
          "QM957",
          "QM958",
          "QM970",
          "HV103",
          "HV107",
          "HV114",
          "HV245",
          "HV262",
          "HV271",
          "HV277",
          "HV330",
          "HV412",
          "HV740",
          "HV753",
          "HV448",
          "HV500",
          "HV517",
          "HV599",
          "QM1326",
          "QM1327",
          "QM1360",
          "QM1362",
          "QM1364",
          "QM1366",
          "QM1367",
          "QM1368",
          "QM1369",
          "QM1370",
          "QM1379",
          "QM1385",
          "QM1388",
          "QM1450",
          "QM1452",
          "QM971",
          "HV986",
          "HV987",
          "QM963",
          "QM964",
          "QM1270",
          "QM1271",
          "QM1272",
          "QM1273",
          "QM887",
          "QM889",
          "QM894",
          "QM960",
          "HV794",
          "HV813",
          "HV820",
          "AR0561",
          "AR0562",
          "AR0563",
          "AR0564",
          "AR0565",
          "AR0566",
          "AR0461",
          "AR0462",
          "AR0465",
          "AR0467",
          "AR0468",
          "AR0469",
          "AR0470",
          "AR0472",
          "AR0475",
          "AR0476",
          "AR0477",
          "AR0478",
          "AR0479",
          "AR0480",
          "QM1260",
          "QM1261",
          "QM1262",
          "QM1267",
          "QM1269",
          "HV733",
          "HV734",
          "HV744",
          "HV754",
          "HV901",
          "BAR040",
          "AR0215",
          "AR0216",
          "AR0217",
          "AR0218",
          "AR0220",
          "AR0481",
          "AR0482",
          "AR0483",
          "AR0490",
          "AR0223",
          "AR0224",
          "AR0225",
          "AR0228",
          "AR0701",
          "AR0704",
          "AR0706",
          "AR0709",
          "AR0710",
          "AR0712",
          "AR0713",
          "AR0715",
          "AR0716",
          "AR0717",
          "AR0719",
          "AR0720",
          "AR0723",
          "AR0724",
          "AR0727",
          "AR0728",
          "QM1324",
          "AR0567",
          "AR0568",
          "AR0570",
          "QM321",
          "QM518",
          "QM985",
          "QM986",
          "QM988",
          "QM989",
          "QM991",
          "QM993",
          "QM995",
          "QM996",
          "HV447",
          "QM262",
          "QM322",
          "QM308",
          "QM1007",
          "QM1008",
          "QM1010",
          "QM1011",
          "QM1013",
          "QM1014",
          "QM1015",
          "QM886",
          "BAR006",
          "BAR008",
          "QM085",
          "QM086",
          "QM895",
          "QM897",
          "QM899",
          "BAR001",
          "BAR002",
          "BAR003",
          "HV146",
          "HV156",
          "HV205",
          "HV254",
          "BAR018",
          "BAR019",
          "BAR023",
          "BAR024",
          "HV884",
          "HV912",
          "HV975",
          "QM034",
          "QM089",
          "HV498",
          "HV521",
          "HV538",
          "HV559",
          "HV615",
          "HV283",
          "HV413",
          "HV416",
          "BAR059",
          "QM351",
          "QM359",
          "QM957",
          "QM970",
          "HV103",
          "HV107",
          "HV114",
          "HV330",
          "HV412",
          "HV414",
          "QM803",
          "QM804",
          "QM810",
          "QM1002",
          "QM878",
          "QM882",
          "QM883",
          "QM884",
          "PER159",
          "HV740",
          "HV753",
          "HV500",
          "HV508",
          "QM1325",
          "QM1327",
          "QM1359",
          "QM1360",
          "QM1362",
          "QM1364",
          "QM1366",
          "QM1367",
          "QM1368",
          "QM1369",
          "QM1370",
          "QM1379",
          "QM1388",
          "QM1452",
          "QM1263",
          "QM1440",
          "QM971",
          "HV986",
          "HV987",
          "QM093",
          "QM1533",
          "QM887",
          "QM889",
          "QM894",
          "QM960",
          "QM1536",
          "QM1537",
          "QM1542",
          "QM1543",
          "QM1545",
          "QM1456",
          "QM1457",
          "QM1460",
          "QM1461",
          "QM1464",
          "QM1468",
          "QM1469",
          "HV794",
          "QM1546",
          "QM1574",
          "QM1547",
          "QM1549",
          "QM1551",
          "QM1555",
          "QM1556",
          "QM1557",
          "QM1561",
          "AR0561",
          "AR0562",
          "AR0563",
          "AR0564",
          "AR0566",
          "AR0461",
          "AR0462",
          "AR0465",
          "AR0467",
          "AR0468",
          "AR0469",
          "AR0470",
          "AR0472",
          "AR0474",
          "AR0475",
          "AR0476",
          "AR0477",
          "AR0478",
          "AR0479",
          "AR0480",
          "QM1265",
          "QM1259",
          "QM1260",
          "QM1261",
          "QM1262",
          "QM1267",
          "QM1269",
          "HV678",
          "HV773",
          "AR0215",
          "AR0216",
          "AR0218",
          "AR0219",
          "AR0220",
          "AR0221",
          "AR0481",
          "AR0482",
          "AR0485",
          "AR0486",
          "AR0490",
          "AR0223",
          "AR0224",
          "AR0225",
          "AR0226",
          "AR0227",
          "AR0228",
          "AR0701",
          "AR0702",
          "AR0704",
          "AR0705",
          "AR0706",
          "AR0707",
          "AR0708",
          "AR0711",
          "AR0713",
          "AR0714",
          "AR0715",
          "AR0716",
          "AR0717",
          "AR0718",
          "AR0719",
          "AR0723",
          "AR0724",
          "QM328",
          "QM402",
          "QM1324",
          "AR0568",
          "AR0570",
          "QM518",
          "HV447",
          "QM308",
          "QM085",
          "QM086",
          "HV146",
          "HV983",
          "HV462",
          "BAR052",
          "HV107",
          "HV500",
          "QM1326",
          "QM1368",
          "QM1452",
          "QM1264",
          "QM1353",
          "PER152",
          "QM889",
          "QM894",
          "HV794",
          "HV813",
          "AR0561",
          "AR0563",
          "AR0566",
          "AR0462",
          "AR0475",
          "AR0480",
          "QM1258",
          "AR0216",
          "AR0217",
          "AR0221",
          "AR0222",
          "AR0490",
          "AR0723",
          "AR0726",
          "AR0727",
          "AR0728",
          "AR0729",
          "AR0730",
          "QM026",
          "QM329",
          "QM1493",
          "QM1494",
          "QM1566",
          "QM1567",
          "QM1569",
          "QM1572"
         ],
         "legendgroup": "Sensitive",
         "marker": {
          "color": "limegreen",
          "symbol": "circle"
         },
         "mode": "markers",
         "name": "Sensitive",
         "showlegend": true,
         "type": "scattergl",
         "x": [
          -0.03879197994106379,
          0.02563755092576958,
          0.123302242671566,
          0.14823405637031603,
          -0.10824062503609755,
          0.13249989077768812,
          0.06739999689192422,
          0.08806349230842084,
          0.041614110319943276,
          -0.14288701732331924,
          -0.1410971638061436,
          0.026645265786779504,
          -0.04490817784605139,
          -0.14234856795558526,
          0.14460112805302947,
          0.07533935157466451,
          0.03502634733331608,
          -0.09631569281419136,
          -0.060112461621196656,
          -0.09828931721378113,
          0.05312796943523784,
          0.0161580382813801,
          -0.003447366960182968,
          -0.14341564613808816,
          0.11722513733396187,
          0.1379086435421744,
          -0.1182846339063035,
          0.02882897762078651,
          -0.05463371145638847,
          0.14559641781978447,
          -0.03639404445062759,
          0.022725982510041876,
          -0.021430360098051993,
          -0.0430038852517632,
          0.011046395236326167,
          -0.00819996965499975,
          -0.13131445639127948,
          0.019154561924761282,
          -0.1247282161792169,
          -0.13274973894826916,
          -0.043258748799399005,
          -0.011277264648639929,
          0.09784081093839195,
          -0.0809729306540097,
          0.056295786975738005,
          -0.0886822557778462,
          -0.008814797602451935,
          -0.09964192586806707,
          -0.04795711256297899,
          0.04561233746097951,
          0.1033230917249883,
          0.12733780472199144,
          -0.03356084460637561,
          -0.02970186763535046,
          -0.014266232723162298,
          -0.11524294819514772,
          -0.019812797819923622,
          0.036736268877849976,
          0.10173011274192903,
          -0.031630665836913485,
          0.004545492161874415,
          -0.030021954060232045,
          0.11240018956484041,
          0.10222354968295275,
          -0.051589436547311934,
          1.0526494812810907,
          1.0433262709556836,
          0.9696754170765989,
          1.1272204858248482,
          1.112628361527085,
          0.9677747443784123,
          1.0513215062068226,
          1.0605148591993587,
          1.1345277756253773,
          0.9198727984448167,
          1.1173405942725085,
          0.866134602013814,
          0.8940757466503219,
          2.94239170604707,
          2.970351790237098,
          2.9801513163271207,
          2.869591525269489,
          3.149069019255973,
          3.047675403301764,
          3.0813400552818924,
          2.9147959110884143,
          3.0951843532917405,
          3.00312065240688,
          3.011324116303115,
          2.98498928248507,
          2.9507436567561283,
          3.0152770910150934,
          2.9675029595173914,
          2.8567508922389724,
          3.0344112734500284,
          3.042965917259346,
          3.0766180172810262,
          2.869322759989685,
          3.015564065684016,
          2.8828064637282127,
          3.0188708686819488,
          3.0175764558100053,
          2.8999905814827134,
          2.8770402431316233,
          2.8999170361735533,
          2.9562260066096404,
          2.985401304732024,
          3.021364495184323,
          3.076809354848075,
          3.002075784387216,
          2.8550420323210077,
          2.864780863743457,
          3.0384276270506057,
          2.867165792882496,
          2.8781703877188014,
          2.95682358622399,
          2.8893884665611824,
          3.140499022716175,
          3.119805508474181,
          2.9515697349846572,
          3.0406860929696715,
          2.90249502530287,
          2.930227116071627,
          3.049756049161156,
          2.9971234093044217,
          2.8882187986304975,
          2.9327962712403686,
          3.0032528963059266,
          3.129638249636471,
          3.0683596988247457,
          2.8915883879652613,
          2.863104176218622,
          2.9423109117055617,
          3.1302234317427553,
          3.0402368706090783,
          3.0531023705749885,
          3.0286241518618167,
          2.8672650107198483,
          3.0479562643601374,
          3.0944674964536243,
          3.0870234674719357,
          2.9871066394117207,
          3.085779291547022,
          2.9222184053409648,
          3.0700121808984617,
          2.9181074017646838,
          2.8936562611539975,
          2.9526290209338955,
          2.9880399571094314,
          2.868100175975489,
          2.8616701235236626,
          2.9923057975902907,
          2.982096215257052,
          3.0409187030901728,
          3.0409158317701905,
          2.967775545676793,
          2.916392602063649,
          3.140821853800494,
          3.0270986858207394,
          2.942386749063194,
          3.1403667799223616,
          2.8622371388776275,
          2.972719348422753,
          2.8566271676284427,
          2.9913427691555867,
          2.860465693793207,
          2.9106352131468505,
          3.082568938439419,
          2.8862474101574103,
          3.1071630909306585,
          2.960828087352284,
          3.0540611794084427,
          2.8909096509232786,
          3.082721114188421,
          3.1306895641303982,
          2.929151283219039,
          3.0519839835303344,
          2.8892373970371716,
          3.0943469446768623,
          2.872826288820753,
          2.9795777592450796,
          2.873894673403253,
          2.8788201740899786,
          2.874339311545671,
          2.880150158760035,
          3.0384195557711164,
          2.9216563110141975,
          2.948681023061429,
          2.9246581040968467,
          2.9805487772704153,
          3.131614168076576,
          2.9079674432260942,
          3.8705575337842393,
          4.115125406090049,
          3.8545917895332877,
          4.086756273087979,
          3.947935142339968,
          3.8970896392640095,
          3.982259817605839,
          3.90029995562507,
          4.043559572772773,
          4.149825709897162,
          3.88898794412023,
          4.104064305411009,
          4.140804095393583,
          3.853822228304264,
          3.9170619709102437,
          4.077313041806798,
          4.099626789972481,
          4.050736963732564,
          3.88072772175534,
          3.9686968170794716,
          4.091640901200885,
          4.099353045438223,
          4.07565995709686,
          4.026071067683418,
          4.0595830642638004,
          3.986977306836888,
          3.8758892488581833,
          3.916684197272879,
          3.9419414939624215,
          4.093958985887788,
          4.015811680015516,
          3.9191693709001316,
          3.9126816106738076,
          3.94929492845662,
          4.027071113074987,
          3.9019385134312365,
          4.000178809630858,
          4.121730087470354,
          3.9107455185300046,
          4.022540994897195,
          4.038823925475834,
          3.8673817703565248,
          3.9117888756851995,
          4.037995503350757,
          3.909491366765769,
          4.005279243858476,
          4.138747776586446,
          3.886160575496576,
          3.9406574780623167,
          3.881991595589501,
          3.8525513494175962,
          4.137200413250435,
          3.975090373440293,
          3.9888948673947358,
          3.8703662965118495,
          3.8786959835638446,
          4.07528155888849,
          4.086087711796731,
          4.14772685145894,
          4.098734903950925,
          4.064760916519694,
          4.092200211905016,
          4.137227920593932,
          4.002349574833671,
          4.103774501051627,
          3.9530001663291707,
          3.943488196293446,
          4.013460985491758,
          4.078366845079484,
          4.0257214450058,
          3.9616652973576723,
          3.9583356314553315,
          4.099970960988293,
          3.919508247795571,
          4.055512863069741,
          4.104570452295227,
          4.0498333249684615,
          3.933533383461419,
          3.868089036493031,
          3.908276849905227,
          3.859656724419664,
          4.002188216172821,
          3.9282371991438243,
          4.115679647367021,
          3.8791467105653363,
          3.9205211918952463,
          4.066345645944235,
          4.083123909940043,
          3.8980243281253473,
          3.929548349048695,
          4.088556016958759,
          4.064928860990825,
          3.953324308914883,
          4.054254105137969,
          3.9199807576232555,
          4.131899304624677,
          4.133255356851024,
          3.9287339059405713,
          4.090501928140784,
          3.963805952816387,
          4.02744273030325,
          3.998158198496621,
          3.9203470570807566,
          3.9404327309559553,
          3.9813616446897493,
          4.069513972759395,
          3.914709278424743,
          3.8514605535663775,
          4.140267818294446,
          3.9537072368423347,
          5.146019776112472,
          4.927030651061428,
          4.97792789949475,
          5.138072527489714,
          4.954339286872565,
          4.96675390166333,
          4.861182569085384,
          5.076249974494958,
          5.056853353497255,
          4.865144519921345,
          5.128782227596875,
          4.931171227483111,
          5.1406341416129475,
          4.934919311623463,
          4.868787366405421,
          4.884956283036153,
          4.938957994749832,
          5.086232132878435,
          4.924330481322619,
          4.904170286307567,
          4.906608403585502,
          4.954042022805542,
          4.8562962674014045,
          4.981764053621869,
          5.056307045834834,
          5.140328594025051,
          4.902156767964939,
          5.1456650214431425,
          4.869942844949113,
          5.069026370676456,
          4.902840576950582,
          4.915179883190608,
          4.8845978559956835,
          6.990965420881725,
          6.855805615103566,
          6.9351552003699695,
          7.129612010943132,
          7.000606043125513,
          6.893764644058016,
          6.981732297571745,
          6.971284678566369,
          6.864772936725639,
          7.104453593341235,
          6.850562933578242,
          6.913449462843903,
          6.8515565039059005,
          7.0583066578413725,
          7.007769354406898,
          6.9206088238937555,
          6.895840699510648,
          6.918759651881415,
          6.901463065107909,
          6.922417690459955,
          6.8834562698898205,
          7.062326962473647,
          6.8839087908632175,
          6.9691904731625085,
          6.863964091933604,
          6.91609819732882,
          6.870197505596528,
          7.031228802968224,
          6.958556325485125,
          7.103013574712546,
          6.959438232949209,
          6.887622141553788,
          6.960681635517896,
          7.016057874529576,
          7.057380337547054,
          6.88944868626142,
          7.009591176380092,
          6.932860894144415,
          7.003287332261887,
          6.884625618556689,
          6.874512065785711,
          7.062591301529623,
          7.1338711530600385,
          6.8656400882373925,
          6.958106368636341,
          6.862983124648186,
          7.139746958980195,
          6.93388899569611,
          7.067505222896284,
          7.013674172553922,
          7.13130143534792,
          6.993035266180009,
          7.029298830568449,
          6.92063500205395,
          6.898997535164703,
          6.9747988080613315,
          7.006905024557945,
          10.064971475260876,
          9.989604480886966,
          9.99309159979292,
          10.039480351542348,
          9.881707570455891,
          10.006624865031284,
          9.974462789153826,
          9.939860786508405,
          9.90033645270226,
          9.919391794770888,
          9.936066863169765,
          9.921252356282231,
          10.087069328617856,
          10.08659982577686,
          9.901555059344519,
          10.013271686514015,
          10.016375694637125,
          10.003790911332354,
          10.001691372387224,
          9.972531043575225,
          10.003630584798096,
          10.079293883215414,
          9.888120830717705,
          10.12750438282807,
          9.991806012352889,
          10.01172543993835,
          10.133244137997206,
          10.127171713897859,
          10.067734735381881,
          9.98652049793725,
          10.05948743144635,
          10.056684101475371,
          10.102099129975944,
          9.900423471497119,
          9.923535600618909,
          10.13057162704356,
          10.02790282099813,
          9.99082972513816,
          9.884975654409034,
          10.029313378735061,
          10.0622358373038,
          10.096364756050065,
          10.022831820684504,
          10.052653195502174,
          10.029134744416867,
          11.014451662015045,
          11.09003961597392,
          10.960944454013829,
          11.118026011102932,
          11.039364588097303,
          11.000357688713486,
          11.114720962251749,
          11.137354906134009,
          10.908657978704863,
          10.937500120009913,
          11.114116438839206,
          10.905114898226577,
          11.114872100491603,
          11.115511558230338,
          10.967069424550155,
          11.141036386858737,
          11.021293087994597,
          10.986283642827937,
          11.137946766374785,
          11.105032069981378,
          11.056022611464032,
          11.121568722719601,
          10.907472077831708,
          10.906302037952086,
          11.116194511077339,
          10.892193670209554,
          11.088516844643822,
          10.912666444762758,
          11.118981120642864,
          10.903508721823009,
          10.919679085750186,
          11.101077374817377,
          10.91529170135074,
          10.962649402350895,
          10.853978138052945,
          11.098258113024459,
          11.023026010713018,
          10.965325032625058,
          10.85502291249743,
          11.065235962258226,
          11.037049802824829,
          11.02437890757048,
          10.914284288216715,
          10.925136798044614,
          10.940978199637092,
          11.067339321675648,
          11.030714415569783,
          10.858605158767334,
          10.901187007423067,
          10.930246248586503,
          11.048697163901826,
          11.018782396132783,
          10.87402416492403,
          10.986442265686076,
          10.894856572834719,
          10.96335323470099,
          10.906639558020872,
          10.967853897443673,
          11.081890589487553,
          10.96858105346163,
          10.970963552324957,
          11.077580139238304,
          11.020634616637551,
          11.12520587372299,
          10.850783925178218,
          10.853796916159784,
          10.986997101472781,
          10.915642895753285,
          10.910502122736522,
          11.048149213406871,
          10.931836071242175,
          11.140670476962589,
          10.994817903968052,
          10.968791667609866,
          11.029656774088089,
          10.964888872740353,
          10.879360229744794,
          10.862019324949847,
          11.00196634803171,
          11.112419300923177,
          10.975988382360692,
          11.035069179950272,
          11.019396888942406,
          11.038217265493783,
          11.004854450723265,
          11.095751510720357,
          11.022850103566684,
          11.046419181644954,
          11.031702855931043,
          10.924600556015504,
          10.854514551493825,
          10.867697184257391,
          11.044944732204097,
          11.098106487223427,
          10.891552264960037,
          10.978968388194703,
          11.14493499795727,
          10.971758634781988,
          11.102120571662761,
          10.868618617807254,
          11.004393623089396,
          10.990787154257474,
          11.071444404196736,
          11.000863562233155,
          10.883254911590633,
          10.908749205424392,
          11.059227623984732,
          10.892494157162531,
          11.04081311929158,
          10.947505519400094,
          10.9384139496557,
          11.005468319043757,
          10.963441118501708,
          11.098214490421661,
          11.143623400304218,
          11.128228175062553,
          11.019930325764584,
          11.124965071192753,
          10.951999602884989,
          10.889756237284443,
          11.121737212899859,
          10.887481697218401,
          11.07710316451721,
          10.984669107025194,
          11.0463387732234,
          11.073430789693202,
          11.062240330951054,
          11.088998447489574,
          11.039592765872678,
          11.104080286041127,
          10.87341491094932,
          10.991895669041355,
          10.856956117212547,
          11.100584056932023,
          11.022056138064915,
          11.000283353844264,
          11.062429265111964,
          11.103705485573228,
          11.021776014381024,
          10.879574609227422,
          11.04286746053614,
          11.039871719878352,
          11.063157426370024,
          11.149945953082623,
          10.927439515533148,
          11.08372364050532,
          10.937555292313325,
          10.984709129948754,
          11.017862699859325,
          11.053089000261624,
          11.039394504264092,
          10.894400750895969,
          11.046997247251428,
          11.107992584687057,
          10.883890053583878,
          10.914189389038183,
          11.00368324992981,
          10.966732602058386,
          10.989471278887043,
          10.909745159384867,
          11.046618257990987,
          10.950927792392417,
          11.015081993580758,
          11.126935489971894,
          11.005313247953163,
          10.900851689470084,
          10.990994317918215,
          11.10463205044109,
          11.041960377591364,
          10.898941917575556,
          11.090323662135622,
          10.995757694351353,
          11.035073424009548,
          11.050230617387466,
          10.869394638316129,
          10.907967042781399,
          11.067318000556696,
          10.925419205402905,
          10.873357939916605,
          10.88149091289267,
          11.037214499517912,
          11.032618858108032,
          10.936551540468134,
          10.93948674580415,
          10.850100627591972,
          11.058581805626185,
          10.88520907236846,
          10.953863177647648,
          11.065125337031775,
          10.948104114414182,
          10.896992223753479,
          10.885469239838423,
          11.090891658773018,
          11.060411023711348,
          11.06925866006192,
          11.10327474119846,
          11.147368001272513,
          11.076823526871012,
          11.022968820657182,
          10.860475676642745,
          12.10899855981341,
          12.009066802476603,
          12.098026787020935,
          12.049812380155995,
          11.988825951042859,
          12.067789897271851,
          12.066827429896763,
          11.895483798996736,
          11.987915303434162,
          12.135542459300806,
          12.11471570054545,
          12.128318943527718,
          12.100086765321334,
          12.023707156617029,
          11.929041588288971,
          12.051664298193487,
          12.052317242615533,
          12.029663383196944,
          11.853868676315068,
          11.928507674304083,
          11.858509272290958,
          11.939444514179243,
          12.071087987311376,
          12.064916094184154,
          12.02823050720218,
          12.027123507524504,
          11.97744903787963,
          12.103551387557568,
          11.954389805072143,
          11.933062528729685,
          12.058360106538911,
          12.11526936763996,
          12.040921612748292,
          11.933552324188776,
          11.89295251303782,
          11.902332677235028,
          12.05371244491069,
          11.869313579427207,
          11.880240869350986,
          12.014748516272375,
          11.871135402031337,
          12.083084952182393,
          11.972008100689433,
          11.9300147387868,
          12.09498741690235,
          11.859333543937353,
          12.067460367895526,
          11.968441145641634,
          11.99134988867136,
          11.863225393764964,
          11.899101822323495,
          12.111019272007427,
          11.950246200136853,
          12.09335699683674,
          12.025985662522316,
          12.120066516835637,
          12.060769200628764,
          11.959369850128814,
          11.924902525029008,
          11.991219353844604,
          11.983232938003594,
          12.119445807083498,
          11.983148218135764,
          11.937859808912608,
          12.026939725007372,
          12.028797563958173,
          12.111065381433363,
          11.904339364227972,
          11.975114800686896,
          12.071768898121986,
          12.095090750833586,
          12.058122932862469,
          12.095946733319202,
          12.142225074635359,
          11.900722723062811,
          12.029179031255536,
          12.127079563423155,
          11.93238112167424,
          12.093168517671172,
          11.995988139315742,
          11.93027002320063,
          11.935473538005246,
          12.082596729873108,
          12.147311489998247,
          12.08128387758694,
          11.998611290103302,
          11.878059078199648,
          11.945128349055777,
          12.097432505176558,
          12.10750407153686,
          12.083797824135106,
          11.965742615374326,
          12.075588067033499,
          12.087083735084802,
          12.031403486316988,
          11.8584647351728,
          12.128246945031792,
          12.022037399394614,
          12.109554441148179,
          11.940407524968565,
          11.85760715552206,
          11.851748885725021,
          11.950496105328174,
          12.056684867461977,
          12.030444725833322,
          11.936236525787173,
          12.111787044584384,
          11.884352307106823,
          12.086843004055288,
          11.938216127218324,
          11.896121994226931,
          12.139585914120506,
          12.090436437199244,
          12.078174217678852,
          11.862699005406299,
          12.133149444956675,
          12.04692554577383,
          12.035460560692975,
          11.942334178598296,
          12.04986940278786,
          11.93248349529091,
          11.973146139783964,
          11.894104639239305,
          11.945243425483618,
          11.859339587713302,
          12.146617831661914,
          12.08038728975834,
          12.032889367764945,
          12.112739512331451,
          11.916331651919046,
          11.926595259450748,
          12.024527525632806,
          11.99351154383031,
          12.088240637127319,
          12.00424435767565,
          12.132626969292275,
          12.025432104064157,
          11.882391893044668,
          11.956526434074187,
          12.132368493392336,
          11.938978077159875,
          11.963394620754094,
          12.040926201964439,
          11.873338380050154,
          11.992639022117938,
          11.912279426037342,
          12.12728864180907,
          12.127114411087035,
          11.995397608215235,
          11.958015519012186,
          12.142951366290674,
          12.061504357771945,
          12.013250433702773,
          11.937675793130436,
          11.987242876850507,
          12.025858456309416,
          12.004759916175798,
          12.032547028624284,
          11.96790301858676,
          11.948045396856227,
          12.098555120581116,
          12.14504939497396,
          11.954483575932718,
          11.978046233128339,
          12.118599099238025,
          11.860592636223908,
          12.069850832804635,
          11.89145171619711,
          12.064708248211938,
          12.098060820772723,
          11.88687550413589,
          12.1101454613062,
          11.910206655894484,
          12.057747351680815,
          12.093422431255636,
          12.0962550014832,
          12.02879872420805,
          11.904638718689437,
          12.1301931682604,
          11.91648965043463,
          11.98111976291615,
          11.962234376631082,
          12.061485323942412,
          11.931308843356225,
          11.863399136922167,
          12.132260880893776,
          12.009337340089502,
          12.076900595567416,
          11.98291115197743,
          11.865736171489607,
          11.900474067797619,
          11.939974753121604,
          12.084108318720224,
          12.020119487682017,
          11.950160728155035,
          12.135625159807969,
          12.097464765412626,
          12.051051809332911,
          12.138245204229657,
          12.129532871453256,
          11.859546375656421,
          11.872088491401962,
          11.94820119669733,
          11.975943610039728,
          11.967991330037972,
          12.01811260708172,
          11.885090823286811,
          12.049474847987174,
          12.050307730960267,
          11.860039187207015,
          12.100074310044569,
          12.003817137156382,
          12.054358256860063,
          11.85228558809107,
          11.885126707845995,
          11.936896385470131,
          12.144073151984863,
          11.979238292856683,
          11.974480332383903,
          11.926479963657181,
          12.13736120989882,
          12.116253274880876,
          11.873417100059475,
          11.854286704221312,
          12.11678326399878,
          11.938242554367354,
          12.103138967070171,
          11.892027193887307,
          12.012430363623324,
          12.103083492117674,
          12.057048575016932,
          12.084037563538738,
          12.037336551363522,
          12.024444139759748,
          12.057165064193402,
          12.128300822072147,
          11.920098998807395,
          12.06518068629139,
          12.134467847330896,
          11.916133319379295,
          11.861118328531967,
          12.046296939244684,
          12.13752466037322,
          12.021935816929524,
          11.87399766238131,
          11.948744927639954,
          11.86142683718821,
          11.855567324030027,
          11.950662075721429,
          11.970984609282509,
          12.065056963542801,
          12.048232884929652,
          11.906720579177875,
          12.04207563931691,
          11.957129076661714,
          11.942228366469509,
          12.084349851827714,
          11.869703781707534,
          12.114954816823316,
          11.975806776994038,
          12.038130337150848,
          12.141788958081355,
          12.073202682674472,
          12.076956163198036,
          11.982800136096552,
          12.140473864363377,
          12.083159915981335,
          12.093811820781298,
          11.94972434787611,
          11.876789621218974,
          11.965005530979065,
          11.91016117910038,
          11.937402465339202,
          11.892255310382911,
          12.041216949101328,
          11.851297514599336,
          12.015033355651752,
          12.011825825066822,
          12.149891310055073,
          11.855144196560738,
          12.056396514950901,
          11.958921270902122,
          11.94449453789647,
          12.048073228902403,
          11.953636591154796,
          12.103986006174864,
          12.110674106806298,
          11.984522324497316,
          11.884656766133125,
          12.126216088774617,
          11.959812662114036,
          12.07383199892463,
          12.003053465001974,
          12.030051664161945,
          12.02652315612358,
          11.965628752401036,
          11.87849570930682,
          12.059049366014618,
          11.948185502362225,
          11.901132009124153,
          12.134468899704943,
          12.132503716009051,
          12.12925569153387,
          12.010009469537028,
          11.889408230721104,
          12.079262988208013,
          11.890217388064826,
          11.85613732736941,
          12.089557503941805,
          12.108887310392765,
          11.88630299960992,
          12.044455936485576,
          12.01316057116007,
          12.034493244102562,
          11.951495119417832,
          13.047284210349018,
          12.886481574636845,
          13.067771657401362,
          12.85929361893543,
          12.976755030191438,
          13.003455737158584,
          12.94346377108349,
          12.963665442496806,
          13.062839801636619,
          12.92214499310839,
          13.130069910042213,
          13.016149890128178,
          13.062044029511782,
          13.115388703888565,
          13.125177052946604,
          13.029438449839338,
          13.026953181997431,
          12.938603434196546,
          12.983269684056262,
          12.933267478587753,
          13.09240334919618,
          12.96823982229807,
          12.908602239057855,
          12.904035297412452,
          13.05793162925586,
          12.915875122129522,
          13.07462314840003,
          12.883990352637904,
          12.927757130382258,
          13.08405595837041,
          13.04100157229769,
          13.051746893536183,
          13.107737769609246,
          13.115864748305817,
          12.944975992680442,
          12.975886027531523,
          13.017638929676917,
          13.030942601705439,
          13.000660002139792,
          12.975098178486105,
          12.892330525869538,
          12.930197957640466,
          13.068738664638184,
          13.140746338293116,
          12.931150418113765,
          12.963704603020647,
          12.955968726900712,
          13.142940177598312,
          12.9586513142472,
          12.95438537812157,
          12.883899360206136,
          12.994377259057913,
          12.97287464360178,
          12.980117577564505,
          12.935435556255468,
          13.078311829187557,
          12.9411440625307,
          12.91222879325827,
          13.045296428410708,
          13.031963466714954,
          12.914220230402245,
          12.976167208219092,
          13.074548538774462,
          12.95182258991869,
          12.967792094640691,
          13.129640839046289,
          12.915570553379967,
          13.078329612582014,
          13.012471537305919,
          13.021680449600394,
          13.129450506840602,
          13.009096568169166,
          12.871512787897538,
          13.118944808377721,
          12.950584564303716,
          13.014179853995968,
          12.894108191088609,
          12.865006452647835,
          12.945741860860867,
          13.089641194749206,
          13.008529191004406,
          13.046598903773095,
          13.071338228614287,
          12.865014827835864,
          12.892853861643456,
          13.118466083495607,
          13.019453165088589,
          13.114499636890187,
          12.941459473001828,
          13.136545680115244,
          13.02361300900698,
          12.974991068326583,
          12.9625923889247,
          13.044637552673228,
          13.061465061437515,
          13.04358406173828,
          13.015974688876895,
          12.852570770779515,
          13.040284800303468,
          13.041807169408752,
          13.034088656603007,
          12.931073892172327,
          12.863205994141532,
          13.093609782618588,
          13.102497345549487,
          12.966722711870794,
          13.050307260320865,
          12.956638569547996,
          13.007103310111134,
          13.061927036932556,
          12.92607027037764,
          12.891713811038585,
          12.924664787789863,
          13.045000867131488,
          13.09208554458915,
          13.027791905154967,
          13.014669093272525,
          12.894526696408056,
          13.083765491436795,
          13.095926951240408,
          12.98458137852317,
          12.85725632265111,
          13.04440515720288,
          12.880179986778296,
          12.858120624504815,
          12.908766380911835,
          13.018854073734627,
          13.02174986944279,
          12.977335490492877,
          13.089192269284302,
          13.106459312698739,
          12.851679346663616,
          13.03924156926279,
          13.083191208466955,
          12.978662987339694,
          13.04902090317971,
          13.130557482891964,
          13.060918652000879,
          12.962882968581916,
          12.859836708577676,
          13.025213857324976,
          13.121042113383174,
          12.981576910177703,
          12.988136379044144,
          12.862930139145515,
          13.017911801812613,
          12.863941635658037,
          13.145814031931948,
          13.124207071558667,
          12.926517685343653,
          13.099359219697902,
          13.102511416846502,
          12.927034158194443,
          12.986020789644042,
          12.939249827417383,
          13.091252227358154,
          12.850689541771002,
          12.949410698475816,
          13.056275352068967,
          13.01959399117428,
          12.850459355691845,
          12.97276178333478,
          13.0031775957399,
          12.910042876225319,
          13.102139444038391,
          13.062618583891918,
          13.033730125644473,
          13.042847013840689,
          13.007761465015843,
          13.111578135199213,
          12.938585229199932,
          13.09284611347279,
          13.062677565613424,
          13.030291741835322,
          13.074448174210719,
          13.103225952648044,
          12.994777119234227,
          12.980983686243924,
          12.901169549815865,
          13.058489763828252,
          12.918212838222464,
          12.939671200389217,
          13.111004424574057,
          12.953551241094324,
          13.099884711801167,
          12.864165793492747,
          13.14867774584585,
          12.865380547224289,
          12.99378513314701,
          13.038421155780934,
          12.970005888072311,
          13.031154540223792,
          13.125122637144976,
          13.04629370258674,
          12.901487285963404,
          13.135128866991858,
          13.052529617505442,
          12.906356489394339,
          12.95238407881741,
          13.026704355631676,
          13.032911912960381,
          12.922454164814246,
          12.86218372170222,
          12.979259003317253,
          12.899283304832664,
          12.993645019279624,
          13.073532582849037,
          12.858521090748987,
          13.080765912811106,
          12.90497595904351,
          13.084522203384225,
          13.057068462758332,
          13.141181147762683,
          12.871482036796888,
          12.924792131716053,
          12.87756159189274,
          13.103327976386788,
          13.051158569197614,
          12.887501983150937,
          12.93697816024703,
          13.024556842572592,
          12.970065808150128,
          13.012258694492253,
          13.103563532458242,
          13.009207903979455,
          13.065742748228292,
          13.129770098413102,
          12.868846887490422,
          12.856852433366646,
          13.138785216408156,
          12.984361988340442,
          12.935169509439886,
          13.091966175766093,
          12.862343294209772,
          12.90055520146038,
          13.033949398750087,
          13.011854557327663,
          13.045434901984269,
          12.949322688719015,
          12.99322160890275,
          13.109901804095903,
          13.002755962825626,
          13.096378470750537,
          13.096690188473035,
          12.995362310068293,
          12.900257231576235,
          12.861059674991527,
          13.076360327496225,
          13.000859050981855,
          13.083314709734797,
          13.061574609479853,
          12.938459693582884,
          12.916305176677993,
          13.114075227575443,
          13.039391695655187,
          12.954362797603743,
          12.95604279733853,
          12.90270943319008,
          12.97561058380233,
          13.054245532321332,
          12.928461061593415,
          13.067996198085366,
          12.911360842996851,
          12.91570207531822,
          12.925256264474612,
          12.985034997899811,
          13.087582918639841,
          13.082897312365718,
          13.017261952895895,
          12.955161970070154,
          12.918834642931696,
          12.99897177972434,
          13.100523011282188,
          13.06786520178163,
          12.915668026668037,
          12.973813399178368,
          12.893218972896719,
          13.0840008534801,
          12.991994004880036,
          12.946237074063925,
          12.965453360938378,
          12.993399664888644,
          12.971563948901643,
          13.108043767131042,
          12.917952520862617,
          12.98480989737301,
          12.948059014881522,
          12.865740906315311,
          13.097091041318333,
          13.072384045076411,
          13.014899144418553,
          12.851223332660982,
          12.902634071017278,
          12.948465310180898,
          13.117549949398601,
          13.1088014488011,
          12.953287790060745,
          12.96245239048779,
          13.128923240314059,
          12.982972382577046,
          12.982098416541763,
          12.88173364978315,
          13.020207022907048,
          13.048978321110019,
          12.903322093181444,
          13.12283582314678,
          13.03470173754493,
          13.935384842709107,
          14.018694757004845,
          13.986821131814489,
          14.063758681404533,
          14.149688473679607,
          14.022977936028925,
          14.08739489294363,
          14.085341326053722,
          14.067312906500392,
          14.121056335800734,
          14.099863788336204,
          14.138370990146038,
          14.05266244156594,
          13.968402235664513,
          14.1301549588248,
          13.856345784431435,
          13.946894881879095,
          14.130846952375473,
          13.931361587767714,
          15.099321055749328,
          15.049135787628716,
          14.886059497265727,
          14.954751911220065,
          14.991971852692853,
          14.93100650612209,
          15.095515409983882,
          15.046894992563658,
          15.023071572372979,
          15.112668040394817,
          15.129212011077218,
          15.09023568682659,
          15.044644063700893,
          14.91378940801096,
          14.857456657312508,
          14.947994794895838,
          15.076856590665477,
          15.039162771721056,
          15.031569570004786,
          15.020408680571084,
          14.93425273957406,
          15.050736590645435,
          15.041347110899435,
          15.134647775571453,
          15.135716970287842,
          14.989810744993385,
          14.882926459882702,
          15.076495274195743,
          14.885100453197579,
          15.053766420818857,
          15.093145033526497,
          15.049025343529731,
          14.971133358789723,
          15.109427850893823,
          14.92837561771316,
          15.137831233211136,
          14.933220525067329,
          15.13867836086539,
          14.877440838993905,
          15.055578784329743,
          15.0357576589887,
          15.141093707940572,
          15.02401844415999,
          15.08419443169433,
          14.898418042748567,
          15.134837030934282,
          15.060148004959839,
          14.90012451768588,
          14.999367250413428,
          14.985089482893912,
          14.995597380288826,
          15.000476074816302,
          14.867626146949144,
          15.124609759336002,
          15.00315603200974,
          14.957438434956774,
          15.008302193301793,
          14.973895946343866,
          14.920937996969384,
          14.938615582694256,
          14.996188341505986,
          15.10617874764801,
          15.010557361522435,
          14.977914158933956,
          15.071017539827055,
          14.968562297353023,
          15.059839104285217,
          15.115453428840398,
          15.026055022875335,
          14.850469897906823,
          14.9566197988511,
          15.101527828569274,
          14.99569667113398,
          14.86299982977898,
          14.981717775905187,
          15.008464405407148,
          14.888572536724404,
          15.125964845348697,
          15.007174387386675,
          15.148991632022781,
          15.073997201358905,
          15.042295791325438,
          14.872720821510965,
          15.118689984873804,
          15.134682603052058,
          14.981704035386324,
          14.863290651143515,
          14.95019284815438,
          14.861929172105521,
          15.03357329368579,
          15.082695899510645,
          14.917933892708099,
          15.106109078682023,
          15.037288377159348,
          15.134853316552276,
          14.948670382956296,
          15.149681336721459,
          15.066146707966904,
          14.88329233659347,
          14.916263996323726,
          14.91310856993803,
          14.988158913431365,
          15.05907704679481,
          15.038585602326847,
          15.002374256462183,
          15.104615455014683,
          14.998986391224888,
          15.061090016587753,
          14.986769905018134,
          14.958482493446093,
          14.850792536196787,
          15.054436660639038,
          14.853220501245778,
          14.946582529099961,
          15.897029225426348,
          15.967758013065637,
          15.984605017349995,
          15.897090391521477,
          15.950414375142328,
          15.864757002233743,
          15.96366986389482,
          16.142676223084894,
          16.102721810806734,
          16.00322279246043,
          15.913050836327475,
          16.104926355660503,
          16.096858359522624,
          15.858596034657353,
          16.09856946666748,
          16.143694874741882,
          15.918512440177548,
          16.103458491056823,
          15.990414025118715,
          16.14509339570634,
          15.972856732184697,
          16.13809088457764,
          16.08162047066959,
          16.094973093423885,
          15.977531286970216,
          15.951406248841517,
          16.100459598479034,
          16.082238490595618,
          16.104251123380056,
          16.072635353181305,
          15.932125397558933,
          15.909400607046999,
          16.080602876727728,
          16.137142472486854,
          15.974502143434767,
          15.866151537772012,
          15.857757259880925,
          15.884546018894273,
          15.851493704813622,
          15.917357501965249,
          16.00164713656064,
          15.856170558046704,
          16.0358098827172,
          15.924635988287651,
          16.130121980111642,
          15.875475541450248,
          15.89359135048899,
          16.101227632081805,
          16.03578190677295,
          15.94395077959663,
          16.01822279006919,
          15.96214749275337,
          15.91767766142374,
          15.950714197487228,
          16.094853292812548,
          16.134551730911245,
          16.113067263032335,
          15.86469024946984,
          16.061501520351108,
          16.11618692026923,
          16.149477067500598,
          15.85166749299178,
          15.945288504005553,
          15.89723664170412,
          16.142876593686385,
          16.134020492306412,
          15.977719410920262,
          15.941525385683306,
          16.03627049795004,
          16.101678459250294,
          16.029568531556027,
          16.03667214850666,
          16.047911871329855,
          15.89327983120021,
          15.857580641406674,
          16.14371593669349,
          15.932408061078666,
          16.008423094564435,
          15.947338991657352,
          16.14383599717656,
          16.074392386656907,
          15.885655916122161,
          16.061777059232313,
          16.010571863791633,
          16.060818834903568,
          15.944367482955148,
          15.870090612301551,
          16.031007539141022,
          15.960025582294541,
          15.896686748856654,
          16.020321557967435,
          15.963018406029358,
          15.938203880089045,
          16.145106638372553,
          15.988103532896847,
          16.037554142361394,
          16.013262614824257,
          15.95173299221874,
          15.897528625445469,
          15.992873039857209,
          16.13851533943208,
          15.90012614740639,
          15.895517793452374,
          15.935640680087957,
          15.852610917880755,
          17.072268595073442,
          16.87389782159822,
          16.95284121372502,
          17.03751859372199,
          16.875340278385806,
          17.079311611244062,
          16.8505898738052,
          16.951178247532305,
          16.943888213632594,
          17.045454765778967,
          16.90997316128531,
          17.12780667886231,
          16.996417582548876,
          17.005633385734235,
          16.873286244736146,
          17.13890109247513,
          17.068688168249704,
          17.009086824504266,
          16.91963645531646,
          17.118898522240453,
          16.87667609010685,
          16.966127468198426,
          17.052366527271897,
          16.921404087154684,
          17.134847066397434,
          17.144670085686396,
          17.131300630787674,
          16.913084745654064,
          16.922262000437435,
          17.03735831409817,
          17.118658034913643,
          16.850927941758172,
          16.88555305448083,
          16.973421928897377,
          17.043937130737913,
          16.90944453077582,
          16.945833607619726,
          16.97298969409401,
          17.086044100680436,
          16.958782236041575,
          17.132326804489697,
          17.012421136434423,
          16.862079787169247,
          17.051276706001346,
          17.093291419521027,
          17.09232687366199,
          17.108908553635406,
          17.1486866052003,
          17.064829706255118,
          17.04112253632377,
          16.924705401041074,
          17.11204704764642,
          16.92345026048852,
          16.980424255457837,
          17.056368695933784,
          16.907613648515536,
          16.976297830392813,
          16.947187877550665,
          17.05180440842693,
          17.145352074415904,
          16.858136855428008,
          16.99606456085407,
          16.888548355305872,
          16.988800685211046,
          16.871976323456877,
          17.066327493950816,
          17.040985268228955,
          16.89148303889253,
          16.993956099352072,
          16.96384272041537,
          16.93026210457463,
          16.931082709894092,
          17.094921277239248,
          17.003450159282554,
          17.141304113189975,
          16.92558613543548,
          16.878922828623335,
          17.05423348300207,
          16.962119674870955,
          17.14580274461918,
          17.01741572796182,
          17.073268820644063,
          16.993769298774385,
          16.991765489908573,
          16.901156539764543,
          16.87993280572294,
          17.056862305346318,
          17.139968184322058,
          17.026584898313498,
          16.943632466349424,
          16.853228731023044,
          16.94664623671157,
          17.018798830455264,
          16.97997887533213,
          17.100704874216696,
          17.021293818562988,
          17.007342666941533,
          16.899918177254975,
          17.136697504684623,
          16.850292698123535,
          16.93677907354097,
          17.071034537413382,
          17.138100051398407,
          16.99732987669987,
          17.017905802000946,
          17.000655088219386,
          16.925503804908864,
          17.12055272935651,
          17.120761821126006,
          16.975367514731996,
          16.922052334788447,
          17.072074268627777,
          17.073307555246615,
          16.905857268376582,
          17.038239246666127,
          17.113570464261016,
          16.90106423689247,
          17.04982734913638,
          16.911826054914254,
          17.13280585351349,
          17.030059497187498,
          16.936162180103267,
          16.907358998083616,
          16.958604073907146,
          16.860931368534256,
          17.0719889105613,
          16.863741011956293,
          17.063534874507795,
          16.897259360085055,
          17.059033008984457,
          17.11329376124359,
          17.079487077829473,
          17.05022682624621,
          16.893172766673047,
          17.023685830400176,
          16.9239390298731,
          16.872531845287583,
          17.090295124780436,
          16.98082654525578,
          16.87753324345288,
          17.08637372292378,
          16.98145650652356,
          16.905590983538136,
          16.88732950741006,
          17.127721820983595,
          16.886144170076257,
          16.852195225069924,
          16.876187960182406,
          17.096847984589388,
          16.91336608137861,
          16.960200703456238,
          16.900479605470203,
          16.909095319045587,
          16.995078077343532,
          17.078940614944948,
          17.065185083728313,
          16.87697172219924,
          17.041958212763078,
          17.02875688226829,
          17.11560002145369,
          17.108286549720397,
          16.923834521291965,
          16.917928991934527,
          17.089510556922757,
          17.118814673200994,
          16.911113022492493,
          17.038153693868605,
          17.066913778550596,
          16.926161109386424,
          17.137030338154144,
          17.028205050771316,
          17.082419228976782,
          17.01978884997084,
          17.036735734135664,
          17.064192483571563,
          16.895488260957453,
          17.055846472593476,
          16.930677734236912,
          16.878934381954643,
          17.05601651133193,
          17.033218078407582,
          16.92744933143433,
          16.999781725048496,
          17.007688652874386,
          16.856046335775535,
          16.91998941350431,
          16.99684968014816,
          17.014786268237234,
          16.986644105198327,
          16.936527631088417,
          17.024558961537295,
          17.00275676014462,
          17.07162871760988,
          16.944187003815944,
          16.9992167619535,
          16.87490988243743,
          17.07389036869063,
          17.09950419360144,
          17.070972782965733,
          17.040835563414156,
          17.09279840852122,
          17.09558037850747,
          16.91145524320763,
          17.14327923328505,
          17.063212623343134,
          16.85499309374768,
          16.945080601630654,
          16.969527258173517,
          17.020982956378734,
          17.082782730964475,
          17.064838433206923,
          16.883245777933315,
          16.886006493333344,
          16.93453498922426,
          17.029115850068987,
          17.04650014183595,
          17.043258386067528,
          17.043983778508448,
          16.85621623999829,
          16.973834687033964,
          17.048472998864487,
          16.92773398535904,
          17.099221756885186,
          17.015511495514325,
          16.997682762233712,
          16.949599810428616,
          16.98918094379486,
          16.90523006544569,
          17.05435295061525,
          16.952215150407028,
          16.90336633361693,
          16.877979581181307,
          17.135802063685645,
          16.98894608045758,
          17.023286118060785,
          16.888202793845405,
          16.906455536669664,
          17.06787643541968,
          16.889518386738793,
          16.86339834839712,
          16.91128246936613,
          16.95283734243486,
          17.0258894476142,
          16.86703892998068,
          16.977196533876718,
          17.00230410927564,
          16.9349941541107,
          16.874826860829632,
          16.95065542414083,
          17.966818247692316,
          17.945139959256466,
          18.096232826879103,
          17.896672732827238,
          17.859276835933212,
          18.075018748997692,
          18.1152962286827,
          18.097562071711312,
          18.020598291740566,
          18.083521852403436,
          17.916338028772213,
          17.94160394858839,
          18.110649221896153,
          17.86447733899038,
          17.990077958188394,
          18.088860847724796,
          17.983539686947537,
          17.856154301466553,
          17.93974612543257,
          18.017223524451047,
          18.003444219636528,
          17.880036717071153,
          18.122928805207177,
          17.934360399682237,
          18.022602086199782,
          17.950005761021586,
          18.01810797275215,
          18.12935467573176,
          18.10849357751847,
          17.970573493097262,
          17.867917862432936,
          17.88226008125128,
          17.850342798018044,
          18.126864141115295,
          18.10007365056108,
          18.11164681127722,
          17.899658216173002,
          18.08729363133507,
          17.899857606207693,
          18.020289521476542,
          18.016896364357155,
          17.998651181894836,
          17.993478412698508,
          18.046579271594336,
          18.121359732881157,
          17.993259744155548,
          18.11085860139087,
          18.113734746685346,
          17.85488241961707,
          18.047596233203002,
          18.012773825001,
          18.0179446732015,
          18.059165063034072,
          18.015117283835945,
          17.851298019663002,
          18.053835852228524,
          17.982836404834917,
          18.077540806886805,
          17.860742627639667,
          17.861200042662084,
          17.98150643170012,
          17.92754659589978,
          17.861862399573052,
          17.934195644709398,
          17.85400603000902,
          18.066861088482685,
          18.06183362829716,
          17.91505763317476,
          18.133890320126472,
          17.963082535921412,
          18.007972298765186,
          17.875393028581975,
          17.955168290833427,
          17.94017999924482,
          18.06676497531339,
          18.034835605943957,
          17.85249479848741,
          17.887349073226165,
          17.990528256826106,
          18.116909105838985,
          18.108794646745547,
          18.02796195075247,
          18.105891210733244,
          18.030336773265876,
          18.069313446435256,
          17.856306634656374,
          17.888877274901308,
          17.99149626188433,
          18.006262796599277,
          18.084989804355388,
          17.91158042313328,
          18.11331121283412,
          18.036223491219577,
          17.948205132734163,
          17.94175152019044,
          17.903093094354503,
          17.998499999755623,
          17.938802120368514,
          18.13803407699611,
          17.902197070431562,
          17.92332012593423,
          18.06404743978186,
          18.0111980004549,
          18.026336054022075,
          18.09280808934199,
          18.034274857794074,
          17.9517420924599,
          18.04388881754833,
          18.024536441816775,
          18.127052543509095,
          17.882059099104367,
          17.936419875756624,
          18.073804409547318,
          18.06685350018595,
          17.88388084909739,
          17.98463295913095,
          18.036249096984832,
          18.103594091646297,
          17.935371419087797,
          18.042632564583155,
          18.030299933790914,
          17.951227266521258,
          17.907533238695194,
          18.13843128797417,
          18.045214261223933,
          18.090849554304114,
          18.0278464529377,
          17.956904057912926,
          17.87393064788728,
          18.01913027292332,
          17.88969116474246,
          18.109323898379316,
          17.858078953976882,
          17.97391983997646,
          17.914961375810698,
          18.010782465412746,
          18.021240810701727,
          17.962634900641177,
          17.96761312699162,
          17.954994761561075,
          18.065934104769585,
          18.08570763831008,
          17.889871879508036,
          18.042985203988305,
          18.000251501010947,
          17.93613435575902,
          18.06700707171865,
          18.03147239881142,
          18.00358199883292,
          18.026098270618007,
          17.919775653179904,
          17.867282991000014,
          18.082811823614517,
          18.067789624424368,
          17.938954358055852,
          17.961081222666568,
          17.915243316122577,
          18.13002535360037,
          17.951904522624343,
          17.915715705553986,
          18.00432377272246,
          18.100660057985284,
          17.934664504035915,
          18.035742033725384,
          18.015542402063456,
          17.964931573584515,
          17.871591418751056,
          18.053667353685466,
          17.982168199400792,
          17.890064425448713,
          18.046065169255336,
          17.90072352102462,
          17.862686290599513,
          17.99353890054098,
          18.03174113333442,
          17.935012009478903,
          18.12975715783104,
          18.117117781065893,
          18.05705893484509,
          17.854730344726164,
          18.01991206586653,
          18.02400638614174,
          18.02343368766787,
          18.11046922173162,
          17.907754655932518,
          17.98096606063569,
          17.942784009310948,
          17.894434121290214,
          18.11133392339827,
          18.096869424645348,
          18.04408504264768,
          17.938506684514497,
          17.97723214963751,
          17.966238509131173,
          18.054151860698582,
          18.02946220863947,
          17.906475471585793,
          17.914274686210483,
          17.97981159583559,
          17.93026406611259,
          17.97064847923672,
          18.127069277616915,
          17.92651768113721,
          18.132091149403667,
          17.90413590304345,
          18.061948092024707,
          18.122121452156794,
          17.96504966112489,
          18.08288497665123,
          17.868669050215626,
          19.076577159376306,
          18.953735192172957,
          18.94838963517836,
          18.972787868078587,
          19.121534269720318,
          19.089156439893117,
          18.883893378696246,
          19.055388393459836,
          18.883746550525647,
          19.066777248585463,
          18.977127455824714,
          18.942379985598738,
          19.035840793923153,
          19.012112646546417,
          19.077631667515003,
          18.99484560284847,
          19.138181424956556,
          19.058789505497586,
          18.97803846719212,
          19.005398275059207,
          19.098643119643842,
          18.88281136152823,
          19.14018208180199,
          19.033985087452162,
          19.09738343882081,
          18.95292574320319,
          18.9489530326992,
          19.071344971574906,
          19.07790794488006,
          18.87233845542506,
          19.13710535280164,
          19.081685956143783,
          19.13466468710307,
          18.961920996956685,
          18.891742765819927,
          18.93849287369569,
          18.915345304825546,
          19.03494532503638,
          19.080306056148657,
          18.86623923677713,
          18.961927710602247,
          19.09262094327583,
          19.08031171011144,
          19.121212468881758,
          18.902709131047633,
          19.121523406588405,
          19.115775630387997,
          19.02935485572553,
          19.026525773090924,
          19.143795594278817,
          19.084821843507534,
          19.07681706548561,
          19.085718278851413,
          18.856159895251764,
          19.01781018911094,
          19.12679799150569,
          18.967926802029442,
          19.12022428166027,
          19.0365662641394,
          18.875868115994546,
          18.884817013497102,
          19.085925234185993,
          18.973469856839717,
          18.960670389433304,
          18.926306561254947,
          19.077070504929114,
          18.995537676150548,
          19.026246213773174,
          18.97140525734741,
          18.90038218074828,
          19.021279482553542,
          18.95809254304235,
          18.877132766262545,
          18.95553332832434,
          19.10747312676448,
          19.01019082695149,
          18.97602587922523,
          18.997026796798416,
          19.118070370488812,
          18.919594767376456,
          18.91133059048875,
          19.113624725203593,
          18.86762654045024,
          19.137723284604746,
          18.977902331830688,
          19.067782605915493,
          18.857793330044906,
          18.97294433599909,
          19.037348309135545,
          19.110149216852438,
          19.015691558483507,
          19.07154797842778,
          18.898587655767713,
          18.951428922234026,
          18.879826228248465,
          18.963783172448565,
          18.96535382666588,
          18.963378628139594,
          18.851837185212,
          18.96204669544112,
          19.08578479264151,
          18.904966626396014,
          18.991194208754393,
          18.867278402680775,
          18.988773172063972,
          19.000698596012594,
          18.911532346383115,
          19.047181494744194,
          19.093682443372668,
          19.1427964153824,
          18.931374419522907,
          18.968160229561928,
          18.907134232863942,
          18.985987705670915,
          18.96310478751477,
          18.924132253216133,
          18.88273415788961,
          18.9283542512872,
          18.920382065199497,
          18.92480060947214,
          18.922796349628843,
          18.92795691479201,
          18.998618603338578,
          19.145612836257857,
          19.074966980013038,
          19.063463479287243,
          19.015304995709858,
          18.865358757883264,
          18.92599292435636,
          18.882050136431943,
          19.118596252166373,
          18.934381966442682,
          19.08180429941283,
          18.912208275329338,
          18.92529280654274,
          19.1365326569772,
          18.863820856013323,
          18.96036997633896,
          19.064714911359726,
          18.885906698316752,
          18.850793268297508,
          18.870166468833037,
          19.058453819608843,
          19.023831974006818,
          18.870099791247046,
          19.04067002161021,
          19.09640524129854,
          18.954197498719044,
          18.958582028165964,
          19.031274094301057,
          18.923155090913337,
          19.144785803893264,
          19.024665081943184,
          18.872726467866045,
          19.01721097547414,
          18.95122442236708,
          19.108985678827533,
          18.996128195790995,
          18.912079538363056,
          19.071365842440507,
          18.99145198794608,
          19.096382095689854,
          19.108682053857308,
          19.12897907675976,
          19.039157456318527,
          19.099342652042754,
          18.925546054159117,
          19.000772822192634,
          18.855819227830427,
          18.97170945612615,
          19.063802142999062,
          19.099654514299377,
          18.964201800102963,
          18.884992800650878,
          19.892252457293036,
          19.939794618589207,
          19.889409186738618,
          20.08554623479016,
          19.90779711272448,
          19.918500798615426,
          20.142843709343897,
          20.053115755007035,
          20.067570855068276,
          19.891573681231083,
          20.01082031061593,
          20.056412104674425,
          20.127591748472064,
          20.012746409858394,
          20.050376600411735,
          20.147312185062205,
          19.986860429951555,
          19.861660013395735,
          20.081322896160152,
          19.856880579324972,
          20.09779821768151,
          20.089070781393605,
          20.140586462900966,
          20.104429394633296,
          19.91357541315149,
          19.889611161851338,
          19.94377203707262,
          19.942180650492094,
          19.94097355729129,
          19.94611526109731,
          20.078313090495726,
          19.965231560494825,
          20.03386130758697,
          20.060905959639967,
          20.1381054188982,
          20.04519629677703,
          20.126850262470008,
          20.07822756467817,
          20.128227365461463,
          20.142456686353373,
          19.867796860600624,
          19.991731664361836,
          19.99203115992735,
          20.02423663943088,
          20.086926882000782,
          19.918646311849166,
          19.929144945967696,
          19.90288990985223,
          19.979265642609114,
          20.09216878337729,
          20.068069162527944,
          20.05445267137544,
          20.149788293334698,
          20.060259249740962,
          20.10437801872494,
          19.860299432928347,
          20.025043885029493,
          20.094538434985882,
          19.976956571495226,
          19.886583178898935,
          20.099930107897638,
          20.067444641056834,
          20.02382608682808,
          20.055271470682136,
          20.123201280956614,
          20.11605978210441,
          19.995769909117417,
          19.983744677742767,
          19.906787451214623,
          20.03501042537353,
          20.11774071943612,
          20.110147601565828,
          19.947142719007804,
          20.122943836882,
          20.10163943320022,
          20.111585885100414,
          19.962245512521427,
          20.060866981331884,
          20.05072912319883,
          19.976276441753637,
          20.05031974537635,
          19.991718818984474,
          19.92668408807283,
          20.027879169489196,
          19.88013667354228,
          19.891982936522744,
          20.114840082706582,
          20.124165092460867,
          19.97292852358641,
          19.93042509294646,
          20.08702715523662,
          20.112769946421523,
          20.01670492287471,
          19.991745490200408,
          20.04413133873542,
          20.08950107361422,
          19.93773597438551,
          19.879512938507638,
          20.046072057915424,
          19.924056297610367,
          19.928591246560714,
          20.007922059431973,
          20.097097380366005,
          19.851026504368036,
          19.876079773812904,
          20.050655528590944,
          20.097705229454828,
          20.01064424028132,
          20.077360953237214,
          19.93824988311892,
          20.12504860174703,
          20.113071729713713,
          20.115410523313177,
          20.035100466318994,
          19.85120518389232,
          19.955951005762493,
          19.894254791174337,
          19.855793630895867,
          19.894074061139865,
          19.896675061560188,
          20.028427229114744,
          19.92804319952926,
          19.88386461825973,
          19.937201325812513,
          19.90539301282957,
          20.074555023288877,
          20.036137870795827,
          20.064453175837965,
          20.03804315296338,
          20.122212286668503,
          19.964806343614192,
          19.98929114726297,
          19.989431287055154,
          19.96089842396113,
          20.145641598514,
          19.97011968000656,
          19.85941922575016,
          20.09246174993336,
          19.92977373221325,
          19.991619822570136,
          20.08827493690326,
          20.081249422453823,
          19.89239254687702,
          20.07162514290965,
          19.910589800816552,
          20.098961006238106,
          19.989392568804387,
          19.91149285719634,
          20.134321323028168,
          20.145237135519253,
          20.084462643897712,
          20.083302634437334,
          20.1121853833125,
          19.869485461677435,
          19.984211562675608,
          20.02142877460075,
          19.950674117722453,
          19.90745561222951,
          19.96782764373111,
          19.97887929113489,
          20.008183149729078,
          19.959948448442866,
          20.023137747059877,
          20.140266865030842,
          20.081600644558105,
          19.87976035775031,
          19.88552092475177,
          19.99344159706529,
          20.01766574078475,
          20.045999802983843,
          20.066929763743357,
          20.10079578385437,
          20.10460814355325,
          19.988439560388546,
          20.11224999223703,
          19.894822540410214,
          19.916238665523746,
          19.86996515379375,
          20.082776498373498,
          19.97381837229144,
          20.144275970230485,
          19.96703533540127,
          19.859704041990543,
          20.008005712286742,
          20.122271661697805,
          19.879072529751024,
          20.00675208428076,
          19.87019561416212,
          19.907869751825015,
          19.952452053253598,
          20.138967608932546,
          19.88303529573634,
          21.064936273656933,
          21.020548715719105,
          20.89074478121615,
          21.070876480220537,
          21.12751415587483,
          21.12459708794697,
          20.88734122412522,
          21.148711549424885,
          20.873317195558723,
          21.013137264326026,
          21.11074613844578,
          20.86931689336416,
          20.970812595179872,
          21.083235185288615,
          20.935776755433082,
          21.139324537812385,
          20.94786845521551,
          21.103773580425344,
          20.88512990590345,
          21.056523863861674,
          21.023660433760202,
          21.0010191166143,
          21.132453562452277,
          20.939918813656995,
          21.130017770459776,
          20.98598078997577,
          21.09580193992989,
          21.047884751498334,
          21.001769199860835,
          20.863227074284257,
          20.936824309640475,
          21.014630437943808,
          20.91668562457308,
          21.103739084985733,
          21.12339895856388,
          21.000650039605368,
          21.06840477912128,
          21.141053061700532,
          20.897272288659362,
          21.140714111129263,
          21.03484161440264,
          21.089902521705717,
          21.103934191155872,
          20.88085202625013,
          21.018623611664015,
          20.921607646394644,
          20.913833513843386
         ],
         "xaxis": "x",
         "y": [
          -4.119207532910397,
          -4.952225145915004,
          -5.959031009417473,
          -3.9056062702356473,
          -5.14871975658416,
          -4.141693383245498,
          -4.900137494251787,
          -3.9000032202482546,
          -4.149839268614149,
          -5.091369535726239,
          -3.885789524983673,
          -4.07496081012612,
          -4.964490712579606,
          -4.078370926958983,
          -4.124163702572717,
          -4.052648398858231,
          -4.005192684343915,
          -4.985849517918153,
          -5.933516313041289,
          -7.053317322499887,
          -5.986514995611001,
          -6.992213787840943,
          -6.909827176553411,
          -4.108596393197683,
          -2.0573441048142374,
          -4.040787088139088,
          -6.922591217135891,
          -6.097975096999436,
          -6.057009756261283,
          -6.080247265602905,
          -7.051105934568688,
          -7.028986197930576,
          -3.932949171479873,
          -3.119106617186286,
          -1.8681147368260846,
          -4.052787668520516,
          -2.9667844265150096,
          -3.0287499691533637,
          -3.96806946023828,
          -5.135148868865602,
          -4.973991150977696,
          -3.9491398721210422,
          -5.095895837216883,
          -4.918145929796154,
          -4.098351072929959,
          -4.905835797835515,
          -7.0410347136581475,
          -7.100616967330952,
          -6.971182313829476,
          -6.865774357712039,
          -7.065490390800367,
          -6.879465241414576,
          -7.118933914061908,
          -6.910782723735899,
          -6.032176888043712,
          -7.025380355340493,
          -7.0767439282853495,
          -6.916777477566799,
          -5.074602448416442,
          -3.1344149735099314,
          -2.976016718472976,
          -2.9962980690266963,
          -3.023081238243967,
          -6.080609658945046,
          -4.073188183576587,
          1.9463498337752203,
          0.9679557756066113,
          -0.0432682522473727,
          -5.03182846854642,
          -2.004317917440354,
          -4.931559825707132,
          -3.0409259235234094,
          -3.12264091014748,
          0.030682502194304462,
          -6.101025489646679,
          -5.134364585948233,
          -2.8962174233009588,
          -1.9152775303664815,
          -1.9468006244563125,
          -1.9545281606858447,
          0.1357391204341706,
          0.018360037089145187,
          -0.04151759024527006,
          0.04657827657022717,
          0.0496385830204161,
          -2.094717544120644,
          0.015660692148339872,
          0.09452833991276213,
          -0.13129652095351532,
          -0.08603887093261912,
          0.07423565137454138,
          0.07659223865985462,
          0.1120317017401661,
          0.02995702496848135,
          -0.03432290230258975,
          -0.10184462341237768,
          0.006705872725019407,
          0.07885059790453683,
          -1.9383513861397474,
          0.014782346794358303,
          -1.94083817212458,
          -3.015970342594569,
          -0.8746437291835589,
          -1.1488842831627883,
          0.022194809190238363,
          -1.8515488125461501,
          -2.044859871294997,
          -0.9264929622213063,
          -0.9185041858711083,
          -2.0775668727573176,
          -2.1243371270560933,
          -1.8774503107647444,
          -1.9415964021460668,
          -1.8600419020215295,
          -2.1145702813639446,
          -2.0853282814773433,
          -1.1331677309469,
          -1.0864220627160177,
          -0.9831918688020111,
          -2.0182990657086854,
          -2.048521699256235,
          -2.063669072026617,
          -1.8943179699603268,
          -0.943649672879025,
          -2.9333894696472997,
          -1.1241392850993968,
          -0.14546486265173128,
          -0.9642162497600613,
          0.13177870928053118,
          -0.043103250173712415,
          -0.8777690760030268,
          -2.1340082654007952,
          -2.0132357721070635,
          -1.0366692383942504,
          -0.8917842207731879,
          -1.0195000759023458,
          -1.9718169319582968,
          -2.0273893286897877,
          -2.0980357230338917,
          -1.8712840347806865,
          -0.8816553099136196,
          -2.026385578982478,
          -2.1275610561881475,
          -1.9046488938292752,
          -1.9862431732993713,
          -0.9435831267586834,
          0.07488481951986742,
          -1.0833496524042687,
          -1.0696773992905888,
          -0.8910035290038327,
          -0.09720188095947227,
          -0.8776279701828287,
          -2.966540208020299,
          -0.9027968024448116,
          -1.0300729036702057,
          -2.1110297924503607,
          -0.958390285329347,
          -1.9543960226996908,
          -1.9317245704155979,
          -0.9427846333715532,
          -1.0605329550479023,
          -0.001652372898476584,
          -3.146311615774585,
          -1.0164720899413215,
          -1.0087340141759862,
          -0.962091448139665,
          -1.0784934662146424,
          -1.0237463180812487,
          -0.13913673772314764,
          -1.1451055079732633,
          -0.0352871926157213,
          -1.0390931272263442,
          -1.11250436932253,
          -0.9208136807134099,
          -0.9020412624047516,
          -1.0598256108651358,
          -0.11412373582819602,
          0.04224162702563872,
          -2.0798484363482626,
          -2.1176889286891796,
          0.11750660955914813,
          -0.03533797161187538,
          0.04774926624189341,
          -1.108856238096947,
          -1.082807188629732,
          -0.9144139837798343,
          -0.966183974864759,
          -0.03944295561800329,
          -1.0259523781961029,
          -0.9190041121279285,
          -2.0875852632239553,
          0.11512420309311819,
          -1.027476944519788,
          -1.9569176926625336,
          0.912580034231358,
          1.019396829155759,
          0.9566961404147505,
          1.1480830339928627,
          1.0135461760636815,
          -0.9671976041171473,
          -0.03471889999487235,
          0.9820916022938477,
          0.854542188265385,
          0.9151402128945816,
          1.109305037948847,
          -0.03505848729323961,
          1.147376785945202,
          1.119654203585165,
          0.9643604966709289,
          1.0610743491288175,
          0.00459627051151576,
          0.8894930904419115,
          -0.9975034046435206,
          0.9885342019017185,
          -1.0019538401170571,
          -0.9081381433640078,
          0.017497905291031957,
          0.1350074570259482,
          -0.04849547725830279,
          -0.9303168055252432,
          -0.8629240944819345,
          -0.12544431962995573,
          -1.1099901258908493,
          -0.8784550122837169,
          -0.8824500468476407,
          -0.8746479281734668,
          -0.9702161026731848,
          -0.9094173287093096,
          -0.9535040903416204,
          -0.035202800392168804,
          0.046291860307694443,
          0.11033952098732888,
          -0.9931005574687876,
          -0.920901756374383,
          -0.9586228716026021,
          -1.027824207066689,
          0.10499524537074875,
          -0.8573366086660978,
          0.024540964133419496,
          0.9499338372959537,
          0.10128810541219338,
          0.8769761567691042,
          0.9380962172165926,
          -0.020589573179991105,
          -1.9549685084335355,
          -0.07034159636589049,
          -0.10826556102340879,
          0.05224531485144113,
          0.034160449772039136,
          -0.900411560491257,
          -0.07414533717084157,
          -0.09402246558248838,
          -0.037055577108950216,
          -0.037155344147379796,
          0.025255680102133332,
          -0.041441485234797015,
          0.0425191531223236,
          -0.14539987735589616,
          -0.09379090864773934,
          0.8976114320728882,
          -0.03498536323876081,
          -0.003509504497679644,
          0.04637448305258468,
          0.8602930397263198,
          -0.9157141272559264,
          0.11463703232370467,
          0.1309155379402859,
          -1.015840888705958,
          -1.0078186407967569,
          -1.0660287870145568,
          -0.9647498726049673,
          -1.0302081889374175,
          -0.003513257797993913,
          1.0917168094487528,
          -0.8976131685471774,
          -0.02947143875028853,
          0.12622324344736788,
          0.9863393247936312,
          -0.14898623106856226,
          -0.02428209806960152,
          0.9932790396588514,
          0.9269480370838897,
          1.076005804983525,
          0.9176529819029139,
          -0.09635709073830492,
          -1.140107641473267,
          0.04411931934694935,
          0.14537685680455084,
          1.0338963956173601,
          1.0626767733097486,
          -1.8739227071847893,
          1.0173039576301146,
          1.013313142736251,
          1.112859431124553,
          1.0549313398063462,
          0.9908578353968692,
          -0.10807452051407682,
          1.0610325134408967,
          -0.9548329453536206,
          -0.9258618367076705,
          -0.9036900366804426,
          0.9592322022390731,
          -1.9798845485004968,
          -2.0615135079295386,
          -1.9345724876701005,
          -0.9070696172875524,
          -2.897578979234958,
          -0.8664897358977771,
          -3.0981921591041934,
          -6.0559489025345865,
          -6.92805559534403,
          -3.006514328002519,
          -3.868328615890758,
          -1.094205137852672,
          -0.9709509129249203,
          -1.9822306360744244,
          -1.0593312085408846,
          -2.071006695464406,
          -2.9235411604450805,
          -1.870626500877912,
          -1.9715483253587776,
          -3.952726867986534,
          -2.102554706715581,
          -3.9387405812126928,
          -1.0293248498339087,
          -4.096106732264054,
          -1.0942394635423347,
          -0.8590251018804957,
          -0.9466038556978652,
          -1.9780879865623633,
          -5.899319734534357,
          -0.980333602141437,
          -2.8777069429882816,
          -4.101119469516541,
          -2.0276629661778087,
          -5.97563667798059,
          -2.8977185034412987,
          -4.8655264360630675,
          -3.875648636521248,
          -2.9947374578341965,
          -4.096652669904801,
          -5.932426813700957,
          0.007193204992382934,
          -0.902550176385925,
          0.04626223673334917,
          -1.9605762140086247,
          -3.9636759148583187,
          -7.095155044258041,
          -5.856096581164924,
          -6.011453056018727,
          -3.9786556156474946,
          -5.852332659273153,
          -1.8621843534226818,
          -3.08315872619834,
          -2.948892514292099,
          -3.1193177773717826,
          -3.139300749360187,
          1.0278247116109482,
          -0.9538336442833865,
          -1.9164634839660077,
          -4.9785408261892385,
          -0.8510358507034462,
          -0.8595722365533868,
          -4.085966316503592,
          -4.030785578691931,
          -4.912271476965357,
          -3.8802217274195767,
          -4.898479213801598,
          -2.036066707505657,
          -4.085880253358785,
          -0.8800253837057312,
          -1.9455931192428402,
          -1.8898650903781433,
          0.14474858012799005,
          0.9423599572737243,
          -3.0040091773450572,
          -0.861311216545162,
          -4.058942419164061,
          1.129553675417312,
          1.0893013310964585,
          0.09453667103132835,
          -5.89365069021572,
          -1.038289853449886,
          1.0326566471076548,
          -0.13062738153036751,
          -0.8947251125215442,
          -2.940427170663744,
          -6.025402160129879,
          -0.9327834796980686,
          0.00869494784571509,
          -1.0027992666200367,
          -3.007925475334411,
          6.887379441664097,
          6.929018839069204,
          7.070989528511354,
          7.034530559462851,
          6.927175888359314,
          6.927933110560757,
          7.140052167868186,
          6.936499790262439,
          7.048492725677149,
          7.114195919364075,
          6.906485586610356,
          6.871287832467734,
          7.036336035170368,
          7.016878841876366,
          6.991471396001238,
          7.0556689947282685,
          6.977248950068124,
          7.094460973603604,
          7.094976311738108,
          7.0193015730455075,
          6.872324168168559,
          7.0798860918495246,
          6.900550913031145,
          6.866291904672939,
          7.08684692954172,
          6.858407530948677,
          7.051131741949232,
          7.124015877203012,
          6.876274228109883,
          6.876908596877885,
          7.0441140901252135,
          7.014057202540211,
          7.142617722546362,
          6.883438227268149,
          7.141231575646403,
          7.101701977691757,
          6.966675478938099,
          7.115517876675539,
          6.88783747645667,
          7.104021146063405,
          7.086846301005619,
          7.061330610867337,
          7.022494863422394,
          7.141427262981733,
          7.010283422075112,
          -5.047838886018574,
          -5.125119889946866,
          -2.974667979814987,
          -4.911624685793372,
          -2.935119255546812,
          -4.971656378419247,
          -4.932579195308162,
          -5.140743319198491,
          -4.887071629511134,
          -4.903425658999727,
          -4.9726543039216935,
          -4.897028194803029,
          -4.978668358268724,
          -5.010232863089266,
          -4.973995688640953,
          -5.146475613818801,
          -5.009983940061957,
          -4.124334771296055,
          -5.149950185686649,
          -5.085339740934762,
          -5.8652908471449425,
          -5.07528265524606,
          -4.965774626567658,
          -5.116821677133648,
          -4.0986287334259,
          -4.991740006062909,
          -6.042250652527981,
          -5.112638591040022,
          -5.092953079364289,
          -6.104916672995366,
          -6.928995094969801,
          -5.906195958259634,
          -4.915237654296546,
          -4.8544278369615315,
          -4.895547341553798,
          -4.895002189847273,
          -5.124159195223816,
          -4.042076964422692,
          -5.871284373777841,
          -5.068632602121717,
          -5.00361985133817,
          -5.144661995324195,
          -4.885490875042442,
          -4.906478588087972,
          -4.0748185771277585,
          -4.899190393585428,
          -5.922794501869317,
          -4.94694159701638,
          -6.0446212071042655,
          -5.131328669955766,
          -5.048329195257232,
          -5.146853614579856,
          -6.10686869715762,
          -3.940128804708654,
          -4.977739644799283,
          -4.995466241133692,
          -7.019944812483152,
          -4.915846806598614,
          -5.101981817281458,
          -4.893573977688155,
          -4.905240079923152,
          -5.011049233956935,
          -5.105473348246244,
          -5.0442376481985,
          -4.924140261628898,
          -4.873044672495227,
          -4.913459228275777,
          -5.869525479331555,
          -6.040683406050027,
          -6.026584242810047,
          -4.878205367829727,
          -5.972747489600545,
          -4.852243769418365,
          -4.85886313742621,
          -5.145608924831808,
          -4.921176269729253,
          -5.879643261704494,
          -5.016202418494352,
          -4.981261345326907,
          -4.950276018127433,
          -4.892455467376229,
          -5.896000501651431,
          -5.878241784554623,
          -5.038371196029888,
          -5.906788055198554,
          -3.8833657243121094,
          -7.891320530721838,
          -5.9603028006814585,
          -4.977454201274311,
          -6.05743744175311,
          -6.972038467242124,
          -5.954417633512105,
          -6.034502854527854,
          -5.0162468877189506,
          -5.0993446529368365,
          -4.87615920318367,
          -4.109286431935715,
          -5.117397843221779,
          -5.0246190965703805,
          -5.070576335486362,
          -5.135410148940361,
          -3.9591831557078008,
          -4.873358742309549,
          -4.013904895188745,
          -5.07366795477167,
          -5.091956131525684,
          -4.93738894601901,
          -6.024057978734207,
          -5.1327362854418705,
          -4.0506347210880564,
          -5.109867892774305,
          -5.041884222890508,
          -5.068739481879306,
          -6.991634688857258,
          -4.945923635863995,
          -4.962519997132152,
          -6.141737316970371,
          -4.975855790706995,
          -4.914256199305401,
          -5.03411487337641,
          -6.142385829260543,
          -5.036047459464026,
          -5.031441476050476,
          -4.928250209482885,
          -5.084050091607433,
          -5.036457185450937,
          -4.91764369471174,
          -5.143134993745795,
          -4.909234917456701,
          -4.999674999495679,
          -5.913053427930075,
          -4.042434806933438,
          -4.119282146703969,
          -5.09469048650381,
          -3.078481405665866,
          -3.8966205400546605,
          -3.8911395494804353,
          -2.895875028205458,
          -3.898256455458506,
          -5.148417448717211,
          -5.147518653194039,
          -5.124825507344012,
          -4.8793493224831925,
          -5.1484583744861725,
          -5.072848183076089,
          -5.073850078519466,
          -5.081137051668624,
          -5.01333673991758,
          -3.9701312800635673,
          -4.877696185604216,
          -4.962494072435437,
          -5.098140564541319,
          -5.051218500503143,
          -6.078836371511877,
          -3.8593388313367125,
          -2.916001868316085,
          -5.9393028491715025,
          -5.118614169155423,
          -5.020191317761567,
          -4.887902920588844,
          -3.009286492696492,
          -3.142072494035525,
          -4.868052193975976,
          -5.09057471369927,
          -4.992790498407251,
          -2.860504557252882,
          -2.947225160398747,
          -4.882846936057941,
          -4.107915658403285,
          -4.936984273549784,
          -5.062017757178945,
          -5.002450767490881,
          -4.024450634963746,
          -5.117762779845155,
          -5.125439003903574,
          -4.981995597708691,
          -4.953250160464897,
          -5.093959367027064,
          -4.86398724363682,
          -5.139683482301043,
          -5.035201718840468,
          -5.082181616403824,
          -5.000649481721673,
          -5.08554336472785,
          -4.963967486719534,
          -4.005772137091238,
          -4.904343962351322,
          -3.9611241468168954,
          -4.1089484830600345,
          -4.096595015277346,
          -6.105864072966182,
          -4.906911435709514,
          -5.082101504124701,
          -3.1261817393721216,
          -3.0607556904061908,
          -5.009399310162969,
          -3.911605718825008,
          -5.103803316216685,
          -4.8944609954974485,
          -5.091541252565361,
          -1.1470111738062245,
          -1.9766126198751004,
          0.02723284996780942,
          -0.038838401131311304,
          -0.14681266296886716,
          -1.0266048179724359,
          -1.8799100868196787,
          0.8705613826112247,
          -0.04526832911449076,
          0.9619683656992009,
          -0.1453197223718459,
          -0.11568256155266479,
          -0.004115468138755435,
          -1.926299495891331,
          -0.9602215754192314,
          -1.043833446094884,
          -0.004976211845810874,
          -1.110118853597421,
          -0.9686199555360462,
          -1.0774455030562078,
          -0.036652204730756754,
          -0.9501652142871236,
          0.01966552215414752,
          -0.9068216458619456,
          0.04287231346310344,
          -1.9690416087790765,
          -0.8797817384902847,
          0.04881924209779906,
          -0.9396528145776794,
          -0.9481298396176002,
          -1.0681498856996758,
          -0.9481953555988659,
          -0.09296470177778157,
          -1.971883147463404,
          0.12709796619929456,
          -3.8864227510660454,
          -2.933806516957153,
          -3.0933406497896145,
          -4.860093798926523,
          -5.019016871530306,
          -4.867183196651072,
          -3.982844801439614,
          -4.097370161360535,
          -3.9823132881205514,
          -4.006221095890432,
          -3.8992156374208213,
          -3.8851232120048116,
          -3.0163129537851834,
          -4.0830206096090516,
          -1.0961317171335097,
          -1.0259298385346973,
          1.0354907619385227,
          -0.9217425122803231,
          -2.0329291193548276,
          -1.0044944936280347,
          -0.1323206541791703,
          0.14101158574223924,
          -0.9093704286951354,
          1.8686168603449735,
          0.9027788210618343,
          0.09496074431009241,
          0.9122997793737855,
          -3.119170815703842,
          -3.084454223787516,
          -2.951731385300163,
          -4.891114246018333,
          -4.9324962224361775,
          -5.0436056122237645,
          1.1197383375440462,
          0.09849967984871583,
          1.129391514349995,
          -0.06453611819347743,
          -0.8508500360862555,
          1.0408235607467913,
          1.9556683510364408,
          1.0633120548172936,
          0.14312104466658318,
          2.0679748603332437,
          0.966400752110117,
          0.8977428521701004,
          -0.9965828190888817,
          1.1096076093208371,
          -0.12351906408360976,
          1.072387716787153,
          -0.13713495383775884,
          2.0935990013515844,
          0.9644224685384534,
          0.8793794096823652,
          -1.0442694651175255,
          -0.8642978870360984,
          0.9024746142682112,
          0.07969033421791213,
          -0.11048695044539977,
          -0.05230937595205734,
          0.02082072975601143,
          -0.11530157799115509,
          1.0347713852966713,
          0.10102693175824964,
          0.9695839178297037,
          2.017376161798881,
          0.863586018555846,
          0.935638704927346,
          -0.9888237813563074,
          1.107544792477329,
          -0.8558938267598136,
          -2.0284136306445073,
          -2.1290118228505177,
          -1.138429778749743,
          -2.06750637316477,
          0.02313834958989891,
          -3.001077128263514,
          -3.865626025734628,
          -4.037539397105728,
          -3.861184415006311,
          -3.883535247355091,
          -4.06984153272186,
          -4.118150710199391,
          -4.0948477658140385,
          -4.926183335625242,
          -3.9742295145235755,
          -3.9189420736609533,
          -4.1063176943656865,
          -3.9627176274618106,
          -3.9153684828639386,
          -4.947274287018175,
          -4.989129170256432,
          -3.8650195624702346,
          -3.8652724512594707,
          -4.028013221336814,
          -3.095699727606824,
          -2.0559526131051196,
          -1.068294548971121,
          -2.031765690273975,
          -1.0710876165250731,
          -2.1084624315226095,
          -2.0563464026844844,
          -0.9302050796288462,
          -1.1454933777538114,
          -1.12649728553488,
          -1.040132609894587,
          -1.1302073768825522,
          -1.0135419314041303,
          -0.8782531194350438,
          -0.9637170198948951,
          -0.8696239178102766,
          -1.14244807141351,
          -0.88678761705366,
          -0.9770958556985518,
          -0.1432091073138193,
          -0.10474139099453214,
          0.14701099507954582,
          -1.0126148449181245,
          -1.0246710879063505,
          0.04870700188496485,
          0.060409589357128035,
          0.030595808607204927,
          -0.13233676580892506,
          -0.09028222501704608,
          -1.1179136113444408,
          -0.06456561874851227,
          -1.149604776307196,
          -2.043510859383152,
          -1.10934321416281,
          -0.8642153792010852,
          0.06755353378624138,
          -0.09430683335050781,
          2.0509948483037617,
          -4.867869193927,
          -3.0718119738999174,
          -4.026973258097112,
          -2.8602442619918107,
          -4.001844816544266,
          -3.996749569879266,
          -4.949859334509176,
          -4.947362375296598,
          -2.943847937359302,
          -1.0545098516768459,
          -2.0574044941281864,
          -0.9396191349887971,
          -2.0702778560770434,
          -1.8602718850968203,
          -0.006054204500893667,
          0.1427047341137778,
          -2.908712648072129,
          -1.0017619890530125,
          -0.9143135538747196,
          -1.1419392894798797,
          -0.8515708262444274,
          -1.1354318618343584,
          -1.139235403570994,
          -1.0461519955845462,
          -0.9652296741057229,
          -1.0989184986113094,
          -3.005536819020824,
          -2.9153575122585114,
          -3.0658007879168614,
          -2.986769180465031,
          -3.0590198399194706,
          -3.8808018018164714,
          -3.0410782803999266,
          -4.100968034978373,
          -4.144906582300423,
          -3.9048412372646664,
          -1.1492659853476823,
          -0.8815363238833335,
          -1.1093892572940525,
          -1.0101901398524749,
          -1.9161324071978927,
          -5.086609241030718,
          -4.149104067123501,
          -4.0891417441657465,
          -2.9172127591824744,
          -5.0555413720057425,
          -2.082205845046654,
          -2.8877199681810906,
          -4.028197359810577,
          -4.1436274638940915,
          -2.991346925562304,
          -5.1405091665812,
          -5.11318210441882,
          -5.0625331830458995,
          -3.0489867376467847,
          -4.940085457268465,
          -4.9750408125018915,
          -4.9262999964792185,
          -5.079097071122421,
          -4.12154834443762,
          -3.98018081400105,
          -3.004233325527593,
          -3.0736631365375398,
          -3.098663666933023,
          -1.0925409140302902,
          0.07456701225969542,
          -1.0690924638644836,
          0.9037851297955994,
          0.013140599160258254,
          -1.0011429246417152,
          0.8803648893518969,
          1.0873315060959687,
          0.9157752946145739,
          0.02960540612422352,
          -0.06759634591230729,
          1.1096417384191877,
          -2.071961664309569,
          0.06436085440697478,
          0.06902638768843466,
          0.1261366005905624,
          -1.0554197971545827,
          -0.9617142698467698,
          -1.1222718258018936,
          1.024152553834996,
          -0.9171089047587698,
          -2.0025893036831417,
          -1.0450652398866802,
          -1.9124423648361377,
          -0.9061419241434039,
          -1.8915800305955386,
          0.14930366973788853,
          2.080446578371051,
          2.1369078638919494,
          -0.9399902958845279,
          -0.04771565038507347,
          1.1327036652120956,
          -1.056931615455418,
          1.0406928424793236,
          0.8990023559376215,
          -1.0202939226844476,
          -0.8871003098972216,
          -0.987996288834906,
          1.001302582524749,
          0.1060539939183098,
          1.0993395114573623,
          1.0352642929026845,
          0.8810359770218579,
          -1.1492796546501711,
          0.06543374625784706,
          0.03787996344105546,
          -0.8787628621534425,
          -0.8826913178374982,
          0.10430233540870484,
          -1.0894370996160192,
          -1.0857492871119956,
          -0.8571418906529404,
          0.059009471803367824,
          0.02924363393527929,
          -1.1205658726360128,
          -1.0090988287109333,
          1.0251650209585035,
          -0.9606205310541679,
          -1.0593676709464803,
          -0.8804643016673139,
          -0.9864023885454278,
          -1.1445889917254557,
          -0.07673296433427158,
          -1.0990238557267884,
          -0.10457403858634495,
          -0.07625185349928455,
          -1.1440876811491685,
          0.14337430520421493,
          1.0319898671733445,
          -3.887045479473176,
          -4.078425653455056,
          -3.9974626556876856,
          -3.8695074462071966,
          -4.133529647845086,
          -3.93675832380552,
          -2.9944667060820915,
          -2.142131728352594,
          -1.9641193913469126,
          -3.071382194242041,
          -1.1156427102228097,
          -1.0471548036262708,
          -0.021466264748599917,
          -1.0638700833731876,
          -0.8531167102483848,
          -0.896792441269395,
          -1.0134284578546833,
          -0.00429868816676876,
          -1.1109588651036555,
          0.8692646550780689,
          -1.0155290646779522,
          1.0073699051118608,
          -0.03087872125831266,
          -0.03962174799469735,
          -0.9070326802346168,
          -0.9363891967758606,
          -0.05105418711794231,
          -0.9285383169818622,
          -1.0810229687209407,
          -0.8596499620816737,
          0.04168774892308377,
          -0.07504739335829534,
          -0.12781587154322074,
          -0.10618933608474605,
          0.0995715197495318,
          -0.855489506567681,
          -0.8728798775688399,
          -0.9200111262839689,
          -0.13707287816105215,
          -0.9714010007470943,
          -1.0664395746398163,
          -1.0884103790116768,
          -1.0234179109653647,
          -0.008514144967216725,
          -0.9808428862135543,
          -1.0581882681392913,
          -1.0089824530797826,
          -0.9234783774338875,
          -0.10732930710870003,
          -1.1085375203120298,
          -1.0658838066851282,
          -2.1089435899575193,
          -0.9916803044155016,
          -1.868973570131475,
          -0.9914533479265015,
          -0.9436391285978519,
          -1.0519669750370526,
          -1.9240390710118296,
          0.1141460534254072,
          -0.8895269458382508,
          0.8513672638135699,
          1.0207886848767043,
          0.10598278479303355,
          -0.9689336569939702,
          -0.9726976364481759,
          -0.9386874391036122,
          -1.0176501589429008,
          1.0717204791938129,
          0.9886353232054568,
          0.9457796649053986,
          0.029832280018298962,
          0.13442661675327258,
          1.1192280174903342,
          -1.1237487695750061,
          -1.0633911966084626,
          -1.0998560840071427,
          -1.1378095809447144,
          -1.0038974129836593,
          0.006501030403389008,
          -1.1316018708078608,
          0.13412394431735838,
          0.041381508514471865,
          0.9133571325053815,
          0.1449142316827903,
          -0.08246270807884075,
          -0.10959025127324046,
          -0.0800410529758754,
          0.030591161217473545,
          1.0629012996822496,
          -0.05406467781279589,
          -1.008368808899236,
          0.9711240289584964,
          1.1281476627984117,
          0.004426230160388123,
          -1.1025397582214733,
          0.08094483007832562,
          0.014525639696643083,
          0.03554048042343716,
          -0.11393960052159771,
          1.0427708291699647,
          -0.1071778091753264,
          -0.04158288114828383,
          0.09995160542209455,
          -0.951781254700278,
          -0.05845645126326618,
          -0.11022460900380865,
          -0.02151416067497053,
          0.010650921268389957,
          0.11055931113775105,
          -0.04903994818691533,
          0.9383491533349027,
          0.02722448897323057,
          0.021482810287183962,
          1.0869354405113527,
          0.013279329777743903,
          0.06628909619329981,
          -0.9869959616579285,
          -0.10033932307388341,
          -0.01954235467545934,
          -1.13347959300725,
          -1.009716352020995,
          -0.0009253433041260528,
          -2.02553686767197,
          0.0016235568435319925,
          -2.0449289706525935,
          -1.8739048333787969,
          -2.1427204904722674,
          -2.1257537630939156,
          -1.938172423195304,
          -2.0168130739213015,
          -2.1008690425800673,
          -1.9204019231157294,
          -1.87776970973731,
          -2.0165337512037307,
          -1.0299405287491303,
          -1.065956926422038,
          -1.068772796644404,
          -0.9747616073457549,
          -2.0327447406862627,
          -1.1460646587992085,
          -0.9133174495300352,
          -0.9452759979080414,
          -0.944342498144857,
          -0.8553053085209076,
          -1.0285822991772307,
          -2.0485151614365766,
          -0.9348561759903818,
          -1.104505767538113,
          -1.0344794011285516,
          -2.0019877483036517,
          -0.8694432111499069,
          -0.955409835141995,
          -0.8505830480070046,
          -0.9354580680401965,
          -1.05086258041847,
          0.09602709950314281,
          0.005904012962318822,
          -0.014897536055388044,
          -0.012918335778772355,
          0.06623788137286707,
          0.012347866936548907,
          -0.1006051821940794,
          -0.0311174809782698,
          0.014501147372917939,
          0.14149434251731793,
          0.03693664784530007,
          -1.1318394337089717,
          -0.06385300510363569,
          -0.14138497547972184,
          -0.03849923444072828,
          0.005273901087428784,
          -0.14177242818673122,
          1.1140457939825346,
          0.006164335936806625,
          0.8709681816993438,
          -2.8788780149731097,
          -0.9695478378009966,
          -1.1251675031320876,
          -1.916299020928395,
          -1.0413336111391645,
          -1.0275727523389866,
          -0.8767834543632499,
          -1.1358858710582618,
          -1.0101537014807238,
          -0.14099985493127962,
          -0.07036041495669199,
          -0.9455804882531904,
          -0.8789398364376526,
          -0.9779888331082198,
          -1.1128186303148162,
          -0.06626392588721085,
          0.13171409493310024,
          -0.04292508818858873,
          0.12327793236515763,
          -1.0120644374790793,
          -1.1097531657658521,
          0.04357953494626032,
          -0.9965268825615916,
          -0.0366746404286426,
          -1.0396177831050843,
          -1.1212507860600311,
          -0.9653646537955881,
          -1.1494725418980951,
          -1.0902190216353471,
          -2.1041444850444826,
          -1.061754032894836,
          -1.9064942582410023,
          -2.057666572877016,
          -2.0915492651027856,
          -2.0065653080988333,
          -1.9041543702601653,
          -2.1099102179919,
          -1.903606900623247,
          -0.9442963271543598,
          -0.8710078440636909,
          -1.023006699508541,
          -0.09436379272014267,
          -0.9769440477036659,
          -0.06229938304135063,
          -1.0909478856992014,
          -1.03076505217272,
          -1.1234662609360642,
          -0.8689470274815232,
          -0.9608848585698759,
          -1.0526130394964257,
          -2.1464687068997184,
          -1.9485034578933456,
          -1.8646220923306258,
          -2.1019119330711478,
          -2.047667427023776,
          -1.891629805021138,
          -2.0412771601037827,
          -1.886465065431118,
          -1.9012832968180835,
          -2.016239226002735,
          -2.001517919441966,
          -1.944758386094394,
          -1.8520847634841897,
          -2.0331541626760523,
          -1.9003235724850152,
          -0.8953698922600979,
          -0.8580579958693906,
          -1.0728090566972937,
          0.0649758824884073,
          -0.031762271574209106,
          0.9676703964616113,
          -0.06973433637584311,
          0.13525488237814784,
          1.0988563130326485,
          0.8578237594979352,
          -0.09709241011581096,
          0.1062576226790812,
          0.14817008944887797,
          0.1477647654503659,
          0.09093736640735137,
          -0.02572834991052257,
          0.11574424012154064,
          0.1285086591265335,
          0.0961051672826885,
          1.0349543031351078,
          0.013322877841295266,
          -1.0107990928391266,
          0.04872246548215434,
          -0.9000895253752929,
          -1.0955068918428335,
          -0.8567572812580005,
          -0.06262636909293855,
          1.049643800796375,
          1.1266012317064351,
          1.02516590897311,
          -0.08148147674616567,
          -0.028772361382293762,
          -0.03940893796486784,
          -1.1483443296034088,
          0.04026185739433957,
          0.1476831117380951,
          1.0963932107719807,
          0.9667763179928244,
          0.13829799700715287,
          0.8760925987542965,
          1.0109554735221171,
          -0.005959420793026304,
          0.04563768524463602,
          -0.9520042766702898,
          0.11527425025438567,
          0.05484732422293981,
          -0.06092555955309298,
          -0.112307406770052,
          -1.0677519625353935,
          0.09925421643109333,
          -0.0061836133250428305,
          0.06452008053830635,
          -0.09565612156692968,
          -1.0103737528672114,
          0.9200449400080905,
          -1.042310206870474,
          0.05441387630659031,
          -0.9662389407179698,
          0.13086623225518604,
          -0.062021326139582514,
          0.01354609727598674,
          -0.11655488997152921,
          -0.14452707450332888,
          -0.09687421094481846,
          1.1357288324601695,
          1.1285200276910352,
          1.1046127182505299,
          0.9531383553074085,
          -2.0874142640493947,
          -1.8649786179995214,
          -2.033274590293401,
          -2.1256838400449483,
          -2.0309042882922186,
          -1.8735778179561438,
          -1.0011784969611273,
          -1.097447221349935,
          -1.0499356242276696,
          -0.9500739685578086,
          -1.0752162794891034,
          0.11787360861260968,
          -1.1215644902700501,
          -0.8851226200256612,
          -2.072811394673841,
          -2.86893495290556,
          -3.1276473333447314,
          -3.1075905656260874,
          -1.8975145040509929,
          -0.9355031559549571,
          -3.089839845251767,
          -2.860665534756981,
          -4.0637959783898365,
          -1.9527157821018222,
          -2.069552046433094,
          -1.8865948173627376,
          -1.8788274963321412,
          -2.956039046571436,
          -1.9366432880081788,
          -1.9894914046665333,
          -2.9271994282389726,
          -1.0888115147128086,
          -3.8938588645861234,
          -3.0834462599172445,
          -3.1198977074783234,
          -2.108373021786089,
          -4.0656528413145345,
          -4.01087404337684,
          -4.038825751239994,
          -4.032144457915664,
          -4.074211332325477,
          -3.89676613696947,
          -4.067269477532309,
          -3.862222802029087,
          -4.0515175784664805,
          -4.074752327918568,
          -4.118597569018269,
          -3.873814086076809,
          -4.0947648374259735,
          -4.000722507930559,
          -4.078665968436746,
          -4.009518368444843,
          -2.9069324850463873,
          -3.0434698182228668,
          -4.951912315327174,
          -3.8783939569655934,
          -4.96490073778348,
          -4.097126983361131,
          -4.116913689285303,
          -4.125781577879333,
          -3.8802117303162347,
          -4.8663206765096945,
          -3.959495706443838,
          -3.987684775514418,
          -3.9255826283870694,
          -3.9690359547817504,
          -1.928543303301707,
          -3.887040150663484,
          -4.055963404468425,
          -3.940714223265833,
          -4.024513413531443,
          -4.065356315986528,
          -3.8920870018298954,
          -3.9093660567550383,
          -4.974924294123237,
          -4.959736660197074,
          -3.889264795269833,
          -2.9821150639918477,
          -3.069443352565131,
          -3.13971187620008,
          -3.0975601327774935,
          -3.1265569803452595,
          -2.131404434677277,
          -2.8560081756771454,
          -2.9935097945130114,
          -3.0310182211989187,
          -2.882005824089534,
          -2.9067488046204604,
          -2.857523647304442,
          -2.8896388635731194,
          -3.9557890475270097,
          -4.121180683305504,
          -3.90544668838873,
          -4.011500705825171,
          -4.040723758130674,
          -3.8890180242703742,
          -4.088399585207984,
          -4.9894444357802445,
          -4.134188792813867,
          -4.066709676573796,
          -4.10935457251219,
          -4.126342946303296,
          -2.864232149445409,
          -4.0851875695706275,
          -4.072540990635239,
          -3.0724275236212977,
          -3.113470449300548,
          -2.9144398328725516,
          -3.0404711596794556,
          -3.8805990871740077,
          -3.0236988960797064,
          -2.8585397129523056,
          -3.069864658308131,
          -3.9086203607931926,
          -2.927498296487257,
          -3.090290747604519,
          -2.936695720496537,
          -2.9311626712970718,
          -3.055546910609225,
          -2.900511051432168,
          -2.980150465780656,
          -2.9988521635870096,
          -3.012757001221349,
          -3.111637975614791,
          -3.0472570511632613,
          -3.0239862833603492,
          -2.9926092776371096,
          -3.8962968074009776,
          -3.8661369049151184,
          -3.934910014969261,
          -3.983804062422385,
          -3.0313050002568995,
          -2.902333196186173,
          -3.852631820057453,
          -3.033568569004929,
          -3.0345363999044372,
          -1.9162956898690837,
          -2.142328645953518,
          -1.8748361597584586,
          -1.8803639870862665,
          -4.078414775911341,
          -2.0092331607151537,
          -4.130374177733398,
          -3.866101878815603,
          -2.8644479894380437,
          -4.117229493575717,
          -3.064318938433425,
          -4.023468922983554,
          -2.0875713388122845,
          -0.129213460000093,
          -0.11256872613052646,
          -1.0694871797289869,
          -1.9427381937218704,
          -1.974390827750405,
          -1.9157951803407385,
          -0.05185280255409891,
          -0.0539396338840495,
          -1.9179802554045637,
          -2.0759828578412933,
          -3.019757837604833,
          -4.038994811916558,
          -3.139815188702327,
          0.05923201775981474,
          -0.13894478876783925,
          -1.0389377424811144,
          -2.012269797872296,
          -1.9248765107627364,
          0.1408671919614838,
          0.019093562879070825,
          0.040136136272784895,
          0.1159309828430152,
          -3.0964650395979705,
          0.13703313491024452,
          -2.137412678772459,
          -2.0779152618280126,
          -1.8780891309051062,
          -1.9275371230331706,
          -2.8876444579087943,
          -2.046206623432325,
          -1.8655320522972902,
          -1.8938450475210482,
          -2.0972964037567525,
          -2.1383298916985165,
          -1.851776761071512,
          -2.057948869035991,
          -1.9327400962092254,
          -1.9994026375543097,
          -1.8508963292898581,
          -2.0865373735863786,
          -1.9795614829477834,
          -2.0312304722601215,
          -2.023679258021139,
          -1.8926715472219293,
          -1.9356554540014324,
          -2.9093958243693563,
          -2.8546911593439903,
          -3.0977487964187937,
          -2.9444817784139885,
          -2.9004570909482714,
          -1.9443677643288635,
          -0.017330418623125565,
          -1.861235541944546,
          -2.9401082415729665,
          -1.8689094537010047,
          -2.0472371644090015,
          -2.0690869906576403,
          -1.9230568636154735,
          -2.0489801046047638,
          -1.9530367285732448,
          -2.860720246329321,
          -3.1256184307624175,
          -2.114167142493239,
          -2.015384650853959,
          -1.8979902251515817,
          -1.906292631386093,
          -3.0599297642354033,
          -2.954126757165953,
          -2.963235324261695,
          -3.0760308146939965,
          -0.03580118925332797,
          -3.0219508306819023,
          0.11242870297376903,
          -3.1284642681733263,
          -3.145271782475042,
          -3.9651417610855746,
          -1.8742727824064669,
          -3.014179412966814,
          -3.1005940651203105,
          -2.8503215608226458,
          -1.8878465031091176,
          -2.924331054704748,
          -2.1464039276000006,
          -0.8950549956150424,
          0.08757301630735617,
          -1.9482798948680602,
          -4.035863261721023,
          -3.1300261691717806,
          -2.9242281834976875,
          -4.105804113445354,
          -3.025458840822223,
          -1.865826894682978,
          -0.12861722143310708,
          -2.945648576657996,
          -2.0722439067596636,
          -0.8647779209191824,
          0.021968779011014683,
          -0.0019470248485233266,
          -0.07121489922416883,
          -2.0644293624278562,
          -0.9473293120078649,
          -1.9918030034017555,
          -0.12137284911364286,
          -0.9094786949279824,
          -0.02553313837389118,
          1.0765492460899253,
          0.9481892922080704,
          -0.06060964809522952,
          0.024196381924707855,
          0.02501603079480824,
          -0.038308666331762026,
          -0.05055330746994681,
          0.1425607890089773,
          0.056886644312150264,
          -0.9107462700004408,
          0.9549094541185209,
          1.0707230825130065,
          -0.01942229043629698,
          0.9630160284578415,
          0.06912470980133018,
          -0.007906004779778042,
          -1.070270631291676,
          -1.0135249009548342,
          -1.114963875030467,
          -0.020638867653311743,
          0.12243015686722539,
          -0.1337506411538526,
          -0.11896995376734087,
          -0.9298712588824072,
          -0.08889372164576043,
          0.03174596559451842,
          0.043881577048841436,
          -0.07768826875142017,
          -0.8753245490496008,
          0.1250861176546276,
          -0.11902002355118468,
          0.13264446854236997,
          0.09362933855420347,
          0.12439728019871757,
          0.12754201563669518,
          -0.1420954145986889,
          -0.1397333796675083,
          -1.1369150746428398,
          0.04175863791924134,
          -0.038131988616014856,
          -0.13111168300328999,
          0.14257002179535114,
          0.03740455444971527,
          -0.07672642203585245,
          -1.0954008781396836,
          -0.8745010624482873,
          -0.01583288628340404,
          -0.8518273014361488,
          0.12408366652215738,
          -0.040552214905851286,
          -0.9315088333302265,
          -0.03827603499622487,
          0.011553930356675401,
          -0.9210634126370305,
          -0.9969811128774667,
          -1.0371924460303596,
          -1.858960799497413,
          -1.0912817363265777,
          -1.0171893258134637,
          -1.0705643886288752,
          -0.9826362379331729,
          -0.9014770831900907,
          -1.0709786386169167,
          -1.0600114048389122,
          -0.08735403901343441,
          0.8633714347961168,
          0.8558045310161552,
          -1.0783544057094132,
          -0.9134414968784398,
          -1.058189384506963,
          -0.09483029827028286,
          -1.0371461089567773,
          -0.8735712682299127,
          -0.08198137540267438,
          -0.996822045140555,
          -1.0967658936445082,
          -1.056125730924294,
          -1.1184200176118544,
          -0.1005526330183886,
          0.10834356879095716,
          0.031935621389989316,
          0.14383551853280815,
          -0.10242389674114016,
          -1.098748316267089,
          0.13841816901344442,
          -0.02467329950138969,
          -0.9217194161372376,
          -0.0017259336233975964,
          0.09493504292894564,
          -0.10470021466509319,
          -1.0360869675650242,
          0.9255350532832782,
          0.8917750180735243,
          1.1354804875477928,
          -1.1488296539943643,
          0.12398585602643128,
          0.08849671497732953,
          0.10783735285964094,
          0.055831432164212935,
          0.13101609923092047,
          0.05122203261741304,
          -0.9350773840061608,
          -0.8683624273862371,
          -0.09493960821848604,
          -0.8781307558555453,
          0.03753924264562519,
          -0.04419455550655191,
          1.0284260756893888,
          1.036044162843819,
          0.8625323632638865,
          0.8644164194603305,
          0.035645092776641546,
          1.0875084981965484,
          0.9779727994579368,
          1.0644833913902763,
          0.9581351253101349,
          0.9608762723034916,
          -0.07499431444005558,
          0.08434614261087098,
          -0.09841925067872945,
          0.014302839838763182,
          -0.07916882915274003,
          0.067204762905658,
          1.1477991438755062,
          1.1124972692385404,
          1.1097972333476869,
          1.0524958254112877,
          0.9525424462198729,
          1.1301556686563694,
          1.1284678120384397,
          0.8973154239495689,
          0.9292394365797306,
          1.0979289259882317,
          1.9069823224901892,
          1.005150569825541,
          1.0684553591554975,
          0.8947358579323738,
          1.9915810101092397,
          0.14536275790231165,
          0.9761034981432223,
          -0.04732331696491139,
          1.1281969459499923,
          0.9396624443708658,
          0.125336341632211,
          -0.03526787734616618,
          0.006467288417006251,
          -0.10300228067889575,
          -0.01729098711430399,
          0.14593570854771906,
          0.9146000959792948,
          1.1320856832893356,
          0.8718596445574136,
          -0.03705264265705141,
          0.8781550218896543,
          1.0298029956383288,
          0.94839536578689,
          -0.028866678749599223,
          -0.08984845826092538,
          -0.01672638660338427,
          -0.039952870732893664,
          -0.09024171310435036,
          -0.01883984625566079,
          1.083763229059735,
          0.0719755992061284,
          1.1048412093090247,
          -0.08726767423062119,
          0.11742280413442593,
          0.004883201315214358,
          0.09560598056022884,
          -0.14554531013749444,
          0.08425749813241448,
          0.056667233775479886,
          -0.14434236834791445,
          -0.01658044431747696,
          -0.11212155231636566,
          0.05655467149517329,
          -0.13096534089867426,
          0.07319359549888593,
          0.1040014878821853,
          0.885065178834104,
          0.995311391978666,
          -0.09680086250929724,
          0.026905465539061424,
          0.9786245150301918,
          1.1394294036408357,
          1.0642085755767194,
          1.119590542181649,
          0.9056733846588639,
          1.1052924893472436,
          0.863830939329944,
          0.03564766768754546,
          1.1279231144834736,
          -0.017557797398004726,
          1.096183773809384,
          0.9375887414047395,
          0.9580442236318055,
          1.1424344472118209,
          0.8991014863251935,
          -0.13706293641692482,
          1.0612214031952607,
          1.0325091463914498,
          1.0673589812750681,
          0.9505335558855229,
          1.0539817995996903,
          0.8664298396847707,
          0.9337272843014482,
          1.146631217691839,
          -0.041533602326231,
          -0.015906522028570125,
          0.14924969865391527,
          -1.141628996673022,
          -0.022660783035947263,
          0.08268896544342105,
          -1.0548199190436713,
          -0.9399779074500014,
          -0.9115248242672155,
          -0.9502669741227185,
          -0.9392003335067772,
          -2.0234165747279067,
          -0.8613072635383152,
          0.029223597802196133,
          0.9270826707601368,
          0.057860494431375725,
          0.04751930112608965,
          0.11849282723911173,
          1.0992286211580755,
          0.07383660121353625,
          1.0736808053943323,
          -0.08293148681673802,
          0.9500592183502509,
          0.8654907302378504,
          0.9650990795957028,
          1.0006106342606842,
          0.9041880366389319,
          1.0741355610379717,
          0.10483682680064962,
          0.12570808704947453,
          1.8988276299392577,
          2.031465448908326,
          1.096899541673345,
          1.0281848854307625,
          -0.06773032210778461,
          0.06521444921300643,
          0.9434063444373786,
          1.0962334501945081,
          1.0785916472627755,
          1.1204194883807468,
          -1.9149113039281493,
          -1.1042484779960913,
          -1.0639428035658804,
          -1.919715159713231,
          -0.9818909763801278,
          -1.936663120341085,
          -1.0799168731850564,
          -2.0339031915591095,
          -2.030493994970764,
          -0.8874751823741412,
          -0.960565910076566,
          -2.139747930490642,
          -1.0171331264884327,
          -2.0558075568617244,
          -1.1434188395881828,
          -1.0308347635567354,
          -1.0436889747225584,
          -0.9655561023559764,
          -1.1473123716206592,
          -1.0092201586489369,
          -2.0638968633340355,
          -2.132666093842885,
          -1.0418799027395518,
          -1.1158353030665222,
          0.09640519257508365,
          0.13730370931245714,
          -1.014213476357751,
          -0.9430875519740491,
          -0.8850579841974675,
          -1.0977677237993038,
          0.07663747109791111,
          0.11398887069951338,
          -0.8797749505499455,
          -1.0552604685412483,
          -1.0603534585685988,
          -1.0146629190272796,
          -2.0014931942206373,
          -1.9294584089966647,
          -1.0524931762502432,
          -2.0967256221197825,
          -0.8806683057114146,
          -2.092513776043499,
          -1.0375722564281165,
          -1.897248124976955,
          -2.146215252152207,
          -0.986088893281667,
          -1.1230765683232213,
          -1.143179451152347,
          -1.1495819262984555,
          -0.8973458657362084,
          -2.0756711392156624,
          -0.9911299598493892,
          -1.1427196892555698,
          -2.1040205371981573,
          -2.1045952373790104,
          -1.0758753085113344,
          -2.01397950605155,
          -2.0254397124751384,
          -1.1076418930958454,
          -0.9909541269195252,
          -2.0058774854306844,
          -2.1352349527110146,
          -0.8760568429283481,
          -2.085862943990332,
          -1.8530215097419747,
          -1.9255464888527163,
          -0.8589766890610282,
          -1.9327973200507136,
          -1.1035796277017917,
          -2.071452807686459,
          -1.9123272355740806,
          -0.8575252599309892,
          -0.890465157878963,
          -2.0245543596086923,
          -2.0357985497856466,
          -2.0886957710495695,
          -2.099117170205642,
          -2.0708130793431954,
          -2.030690609469731,
          -1.8761424224349121,
          -2.138363549670261,
          -2.916055132743505,
          -2.0050529530926613,
          -3.093792820818596,
          -1.9010158916846966,
          -3.991843777256903,
          -1.915347088094344,
          -2.8849011710339765,
          -1.9389250455161962,
          -2.8640893161625613,
          -2.8853521082382922,
          -2.117539958286635,
          -0.9346176414844811,
          -1.975421128640553,
          -0.9273226461387857,
          -0.12660554758443884,
          -1.9491199794237788,
          -1.9766179172927822,
          -1.1025287098635954,
          -1.033601920320798,
          -1.1201673865525104,
          -0.9156850363704719,
          -0.9384226830919561,
          -0.9093976261007697,
          -1.0288791347419715,
          -2.0826107661663484,
          -0.9253568373706162,
          -0.9224998247420676,
          -0.8840398569467588,
          -0.025165246865862675,
          0.1356585392622561,
          -2.1438841585668116,
          -2.118669296027824,
          -1.8693582917249256,
          -2.048601260099745,
          -2.0995724116413443,
          -1.959874296198979,
          -2.103701263789758,
          -1.9776329315686156,
          -1.9054905292432749,
          -1.9124512564434069,
          -2.147898551671026,
          -2.146253535630226,
          -2.0965000376264817,
          -2.018107361863294,
          -2.12737348590498,
          -1.9282397564817075,
          -1.9046684240881364,
          -1.928827293224031,
          -1.917229965446562,
          -1.8621599791217605,
          -0.972303584605207,
          -0.9770794960966236,
          -1.1375592266828818,
          -1.045574034381339,
          -0.9059576226611812,
          -0.06387097082479078,
          0.00036920167089657396,
          -0.0059723671769170705,
          -0.09643617264203463,
          0.04153695154602474,
          -0.11423168483580724,
          -0.9614671527020988,
          -1.8885907999970468,
          -2.026709027116077,
          -1.0640895822457952,
          -1.1447166181460522,
          -1.0339412805102015,
          -0.9851830634537445,
          -0.8741727994490385,
          -0.10664395481406108,
          -0.8654345500217506,
          -2.1313743010640978,
          -1.8919871735110816,
          -2.06856415490647,
          -2.0905305106329233,
          -2.1211532224593297,
          -1.9872089616357544,
          -2.1457738553025374,
          -0.9058661329118449,
          -0.967721877547066,
          -1.100146793549092,
          -1.944458293597501,
          -0.8698131494492923,
          -0.8793680077739324,
          -2.056037880091587,
          0.03045409400884369,
          -0.1361788573203222,
          0.03688289341028794,
          0.12571788721178453,
          -1.9375924203669603,
          -0.9769885869900921,
          -2.0129192273542316,
          -0.04383850313406136,
          -0.13392818016443953,
          -1.8686255025139142,
          0.07426813784857991,
          0.03351516361243706,
          -1.9815651606689793,
          -1.0542496589210202,
          -1.9638647211584843,
          -2.0293075560517986,
          -0.9415257015010333,
          -0.9562495993357358,
          -2.1084963784000816,
          -0.9029711747182435,
          -1.0993593935273591,
          -0.8881044620958283,
          -0.9769003183859855,
          -1.1329772570624752,
          -2.0787727421003557,
          -1.8606345553273114,
          -1.0311837022369075,
          -1.1028996586333404,
          -0.9519156462075298,
          -0.9980784340053788,
          -1.1089893170937943,
          -0.9860283252291688,
          -1.002721941862295,
          -0.9427815071302148,
          -1.0686673283551362,
          -2.018834120807477,
          -1.1496088129027788,
          -0.8932740517810548,
          -2.141530338152531,
          -1.9828720559460886,
          -0.9497225161220875,
          -1.122291784659172,
          -2.000945334791408,
          -1.0505094805422999,
          -6.918689636176653,
          -7.136623520869149,
          -6.9406082958788975,
          -7.134850842646134,
          -6.9789353744875,
          -7.144372403342553,
          -7.022911102618722,
          -5.940126219672663,
          -6.129523015357545,
          -6.9383206541898215,
          -7.047538124623145,
          -5.88478220174747,
          -7.03667944177815,
          -5.878149605718015,
          -6.9615058172194875,
          -7.000815052500229,
          -7.872514669964344,
          -6.85863807851266,
          -7.128196171335341,
          -6.895996344189868,
          -6.1272618115320014,
          -5.0630032020399485,
          -7.877110809083955,
          -5.999086228853499,
          -5.99737357459417,
          -6.894274499780942,
          -6.089211988524188,
          -6.111749537262277,
          -5.942009810470743,
          -8.061939143021494,
          -7.903828337209575,
          -6.970138281593034,
          -7.07821224064401,
          -6.922048113009058,
          -7.114161534476793,
          -7.0298886134525045,
          -6.8671487082078935,
          -6.967384619707218,
          -6.900562217854546,
          -7.143648597070329,
          -6.930139220258337,
          -7.135651133012633,
          -6.944652802979109,
          -7.087889245857225,
          -6.948685542489607,
          -6.871404140780601,
          -8.1295928163638,
          -6.933414043185022,
          -7.013480857393004,
          -7.111287111446131,
          -7.002510597633366,
          -7.1374049956302965,
          -7.099804854287852,
          -6.89639055856909,
          -6.971961307406431,
          -7.091496320147671,
          -6.960757259648337,
          -6.909061218778642,
          -6.887507884210908,
          -7.893079386035932,
          -7.860081744151078,
          -7.012771544254373,
          -7.08394723451958,
          -6.9350193988731395,
          -7.983962696857973,
          -7.092911716094931,
          -8.984578056176847,
          -6.93686002494454,
          -6.9018091936580275,
          -6.969378639415366,
          -6.958377047375608,
          -6.954603757376575,
          -8.017047714867676,
          -6.986681045129716,
          -8.10360777538166,
          -6.8985024370087995,
          -7.072416831718353,
          -6.889513234141281,
          -7.023440802975113,
          -5.889562531337212,
          -6.069465779177295,
          -6.943776401058096,
          -6.003836153397889,
          -6.06696476247839,
          -5.989581136908403,
          -7.093301902122428,
          -6.032714957809046,
          -7.04407994928904,
          -7.031805849311375,
          -6.927381565713348,
          -7.105799318065565,
          -7.044892403862182,
          -6.947270489024526,
          -6.888735569718404,
          -6.905966771771694,
          -7.012659343009639,
          -7.017058303202797,
          -6.965859986907457,
          -6.988509417448758,
          -6.9570614086188325,
          -7.108997380506367,
          -6.929638371793483,
          -6.968174466960368,
          -7.050218345148578,
          -7.06221525949895,
          -6.960901689331661,
          -6.89135773783642,
          -7.024516242695895,
          -7.0532890631854,
          -5.868062161784414,
          -6.107852082222943,
          -5.911568986529579,
          -5.86430591750856,
          -5.899009685375095,
          -6.963176375922759,
          -6.125985460187475,
          -4.87992117241849,
          -5.864044606059113,
          -5.04592401756838,
          -5.119655353531327,
          -4.9751630006666065,
          -5.877199851389004,
          -6.082014846691558,
          -7.134991634531571,
          -7.005662198822989,
          -6.913372858180672,
          -6.011860027767366,
          -5.963249633344959,
          -5.893306545647024,
          -6.061382637253215,
          -6.95166019752762,
          -7.149527622964536,
          -7.074727844653399,
          -6.940686567957563,
          -6.9385548346771,
          -7.138242960686667,
          -7.1444999262255875,
          -6.867017550121769,
          -7.977276477928064,
          -6.960603597280733,
          -6.941225045477305,
          -6.134274920129081,
          -7.12802483670566,
          -6.117920635126676,
          -6.885765529318066,
          -5.930931726749259,
          -5.88806846503257,
          -5.945873272370701,
          -5.8977409439769115,
          -6.0286120816044475,
          -5.968522176513175,
          -4.954837333332646,
          -4.890746819984107,
          -5.945756836594976,
          -5.985555111591239,
          -6.078522798715589,
          -6.023323930746241,
          -7.097082729560739,
          -5.896810739022095,
          -6.040530635337202,
          -6.9423695693482665,
          -8.032209224130304,
          -7.070317716320094,
          -6.114075562417642,
          -6.0687969768592565,
          -6.107841540585567,
          -6.0207290231232475,
          -6.986589947793648,
          -6.896825869305692,
          -6.937324015079573,
          -6.123415552614671,
          -6.900421520703329,
          -7.049762752469485,
          -5.905725712207015,
          -4.076927841449179,
          -3.081965303533809,
          -4.899805379773757,
          -3.9900601416421306,
          -5.121209033163773,
          -3.914423778610182,
          -4.997078104879125,
          -4.0169507711416355,
          -4.1133953512821915,
          -4.024774524024537,
          -4.006718769989153,
          -3.9446181717651174,
          -4.9784878715690715,
          -1.9686437695253383,
          -3.9474873970167974,
          -4.008054790647107,
          -4.05514699010553,
          -2.9052070628382243,
          -4.039221903110318,
          -2.976898584774219,
          -3.089159434080531,
          -4.013605406446506,
          -4.092466890299911,
          -3.0445133819157397,
          -5.047418643553755,
          -5.062085984060621,
          -5.089587677933731,
          -5.031927738507319,
          -3.1359430679086158,
          -2.8985400785840794,
          -2.891590983550138,
          -3.0146659022172226,
          -2.8698163388992124,
          -2.9748329789084136,
          -2.99348510905374,
          -3.0115077602244145,
          -3.9017635892843776,
          -3.966025480818829,
          -1.9307844776616827,
          -3.1007255801986906,
          -4.119213483219517,
          1.1076614457675915,
          -2.913689188328821,
          -2.9365539862313277,
          -3.079835360021823,
          -2.025749843506438,
          -3.852411091716297,
          -2.9398140518881615,
          -3.1494114362042698,
          -3.0258992371423807,
          -4.0384218464059005,
          0.8536077000519785,
          -3.940354165145475,
          -3.8502657514577523,
          -4.089192525175536,
          -2.957620282950698,
          -0.10516146027575049,
          -5.088550624228758,
          -4.941052374329741,
          -3.059451805946813,
          -5.127690076937282,
          -3.8745187653883657,
          -5.065564777123086,
          0.9261413405465451,
          -0.02322173203830219,
          -1.9096896433524413,
          -1.1215212888201531,
          -1.1084603306758865,
          -4.110133965236685,
          -3.1102712276133664,
          -3.954993773224379,
          -4.047675438704568,
          -3.9308811930177883,
          -4.021650771055316,
          -5.147300257636369,
          -3.9487485769084807,
          1.1012544041706704,
          0.9796073854196327,
          -3.968388306417456,
          -4.112441087346116,
          -3.9123682296518343,
          -4.117129924331273,
          -3.85114162863458,
          -5.148519307270099,
          -4.044583205808554,
          -0.013096908520775136,
          -4.144980623206047,
          -4.886553393432581,
          -3.930726687043778,
          -4.094414875116076,
          -4.124639712122799,
          -1.1472602936273775,
          -2.8768159931661534,
          -4.115799265846847,
          -1.889653949459238,
          1.0199696881114972,
          -2.0462320358589325,
          -3.017403725815376,
          -2.9103036710826884,
          -4.147747559213497,
          -1.888475349499572,
          -2.8675344344651075,
          -3.879446517333208,
          -4.149992882154553,
          -1.9629204328540173,
          -3.9025703268589154,
          -2.96435531380252,
          -1.007699984383085,
          -0.9016910603702468,
          -1.884879801074066,
          -1.0752475014081049,
          -2.0108330025509784,
          -2.1406180626967255,
          0.12090354841781617,
          -2.9134755731711324,
          -2.920433237477941,
          -1.1412247628680006,
          -3.0642637012202565,
          -4.116576807660338,
          -2.953534089602962,
          -3.97196699397131,
          -5.134196562359969,
          -3.9049550114247955,
          -3.871867627398158,
          -4.137167242144472,
          -3.9465289448425986,
          -4.020884322085788,
          -3.988908745713016,
          -5.059958803453007,
          -4.0605201347604,
          -3.921002186820042,
          -4.007346188365622,
          -3.864423888307474,
          -4.132141797889564,
          -3.994565902777948,
          -4.86789918841412,
          -3.937863333361436,
          -4.084754062982894,
          -3.977267023857812,
          -4.074309598395017,
          -3.995494148518571,
          -3.8563176381564395,
          -4.116118901358338,
          -4.073848925882265,
          -1.9719119353782182,
          -2.1064380135898406,
          -2.117143621089663,
          -1.8660741180599814,
          -2.0016123042704868,
          -4.041102691407203,
          -2.064042229196628,
          -3.110411657561412,
          -3.131185923812678,
          -3.909058304038023,
          -5.062050457249098,
          -4.1495965337188965,
          -3.939091692143853,
          -3.9353910977581354,
          -4.9273808999699,
          -4.1442738582763745,
          -4.891543846042989,
          -4.057063686518374,
          -3.9839083099631236,
          -1.9359067776687324,
          -3.8833665286742254,
          -4.050858429263239,
          -3.8973790852305905,
          -3.8888844692568485,
          -3.89262948385904,
          -3.9032456923787597,
          -4.018894954162318,
          0.876072599195229,
          -5.088140752559432,
          -3.988354085833511,
          -3.8761617873044494,
          -3.850897333129413,
          -3.9135292314993246,
          -4.107641711389832,
          -3.8549307056564923,
          0.8607976187949331,
          -4.86542503550012,
          -3.8837143335577298,
          -3.0064245739033164,
          -1.9975654840879027,
          -3.898568953177613,
          -4.060386919914851,
          -0.10712281117286512,
          -1.8975395601911493,
          -4.024603688015814,
          -3.887382175528542,
          -4.020344052875719,
          -3.9754144439378716,
          2.0990390039066007,
          2.090428873725763,
          1.897497838367827,
          1.9245198782285702,
          1.9311818688966358,
          2.121693437883079,
          1.9991664625642371,
          1.99273303128107,
          2.138434726224075,
          1.9550097033196907,
          2.1246474347888413,
          1.9993429792221844,
          1.9563785514706702,
          1.8615576884028746,
          2.13815461208637,
          0.12795807871911388,
          1.9385142143517082,
          1.8935177163594727,
          2.149954523237363,
          1.9824459375197243,
          2.1015637200259305,
          2.1185375417610546,
          2.040197179810525,
          2.0504811674358026,
          1.9431785192810944,
          2.065535252603986,
          2.0372318385722767,
          2.096640550793768,
          1.859091159362968,
          2.0686064213615096,
          2.045831489876467,
          1.8931200236779757,
          1.9690822517270496,
          1.946767405558822,
          1.9390638040893151,
          2.0944608325891414,
          2.1004501893093397,
          1.9199823275986894,
          1.8951111365810869,
          0.0052283528125605105,
          0.05714070289183648,
          2.004989294590132,
          2.0390386419590194,
          2.0841254402884886,
          1.9238738524155543,
          1.9418670752281786,
          2.051538014361612
         ],
         "yaxis": "y"
        },
        {
         "customdata": [
          [
           true,
           "Streptococcus pneumoniae"
          ],
          [
           true,
           "Streptococcus pneumoniae"
          ],
          [
           true,
           "Streptococcus sanguinis"
          ],
          [
           true,
           "Streptococcus salivarius"
          ],
          [
           true,
           "Streptococcus pneumoniae"
          ],
          [
           true,
           "Streptococcus pneumoniae"
          ],
          [
           true,
           "Streptococcus sanguinis"
          ],
          [
           true,
           "Streptococcus mitis"
          ],
          [
           true,
           "Streptococcus anginosus"
          ],
          [
           true,
           "Streptococcus pneumoniae"
          ],
          [
           true,
           "Streptococcus pneumoniae"
          ],
          [
           true,
           "Streptococcus pneumoniae"
          ],
          [
           true,
           "Streptococcus pneumoniae"
          ],
          [
           true,
           "Streptococcus pneumoniae"
          ],
          [
           true,
           "Streptococcus pneumoniae"
          ],
          [
           true,
           "Streptococcus pneumoniae"
          ],
          [
           true,
           "Streptococcus pneumoniae"
          ],
          [
           true,
           "Streptococcus mitis"
          ],
          [
           true,
           "Streptococcus mitis"
          ],
          [
           true,
           "Streptococcus sanguinis"
          ],
          [
           true,
           "Streptococcus oralis"
          ],
          [
           true,
           "Streptococcus oralis"
          ],
          [
           true,
           "Streptococcus pneumoniae"
          ],
          [
           true,
           "Streptococcus pneumoniae"
          ],
          [
           true,
           "Streptococcus pneumoniae"
          ],
          [
           true,
           "Streptococcus salivarius"
          ],
          [
           true,
           "Streptococcus salivarius"
          ],
          [
           true,
           "Streptococcus salivarius"
          ],
          [
           true,
           "Streptococcus anginosus"
          ],
          [
           true,
           "Streptococcus sanguinis"
          ],
          [
           true,
           "Enterococcus faecium"
          ],
          [
           true,
           "Streptococcus mitis"
          ],
          [
           true,
           "Streptococcus mitis"
          ],
          [
           true,
           "Streptococcus oralis"
          ],
          [
           true,
           "Streptococcus oralis"
          ],
          [
           true,
           "Streptococcus salivarius"
          ],
          [
           true,
           "Streptococcus salivarius"
          ],
          [
           true,
           "Streptococcus pneumoniae"
          ],
          [
           true,
           "Streptococcus pneumoniae"
          ],
          [
           true,
           "Streptococcus pneumoniae"
          ],
          [
           true,
           "Streptococcus pneumoniae"
          ],
          [
           true,
           "Streptococcus pneumoniae"
          ],
          [
           true,
           "Enterococcus faecalis"
          ],
          [
           true,
           "Enterococcus faecalis"
          ],
          [
           true,
           "Enterococcus faecium"
          ],
          [
           true,
           "Staphylococcus aureus"
          ],
          [
           true,
           "Staphylococcus capitis"
          ],
          [
           true,
           "Staphylococcus capitis"
          ],
          [
           true,
           "Staphylococcus capitis"
          ],
          [
           true,
           "Staphylococcus capitis"
          ],
          [
           true,
           "Staphylococcus epidermidis"
          ],
          [
           true,
           "Staphylococcus epidermidis"
          ],
          [
           true,
           "Staphylococcus epidermidis"
          ],
          [
           true,
           "Staphylococcus epidermidis"
          ],
          [
           true,
           "Staphylococcus epidermidis"
          ],
          [
           true,
           "Staphylococcus epidermidis"
          ],
          [
           true,
           "Staphylococcus epidermidis"
          ],
          [
           true,
           "Staphylococcus epidermidis"
          ],
          [
           true,
           "Staphylococcus aureus"
          ],
          [
           true,
           "Staphylococcus epidermidis"
          ],
          [
           true,
           "Staphylococcus hominis"
          ],
          [
           true,
           "Staphylococcus hominis"
          ],
          [
           true,
           "Staphylococcus hominis"
          ],
          [
           true,
           "Staphylococcus hominis"
          ],
          [
           true,
           "Staphylococcus hominis"
          ],
          [
           true,
           "Staphylococcus hominis"
          ],
          [
           true,
           "Staphylococcus hominis"
          ],
          [
           true,
           "Staphylococcus hominis"
          ],
          [
           true,
           "Staphylococcus hominis"
          ],
          [
           true,
           "Staphylococcus hominis"
          ],
          [
           true,
           "Staphylococcus hominis"
          ],
          [
           true,
           "Staphylococcus hominis"
          ],
          [
           true,
           "Staphylococcus hominis"
          ],
          [
           true,
           "Staphylococcus aureus"
          ],
          [
           true,
           "Staphylococcus aureus"
          ],
          [
           true,
           "Staphylococcus aureus"
          ],
          [
           true,
           "Staphylococcus aureus"
          ],
          [
           true,
           "Staphylococcus aureus"
          ],
          [
           true,
           "Staphylococcus aureus"
          ],
          [
           true,
           "Staphylococcus aureus"
          ],
          [
           true,
           "Staphylococcus aureus"
          ],
          [
           true,
           "Staphylococcus aureus"
          ],
          [
           true,
           "Staphylococcus aureus"
          ],
          [
           true,
           "Staphylococcus aureus"
          ],
          [
           true,
           "Staphylococcus aureus"
          ],
          [
           true,
           "Staphylococcus aureus"
          ],
          [
           true,
           "Staphylococcus hominis"
          ],
          [
           true,
           "Staphylococcus hominis"
          ],
          [
           true,
           "Staphylococcus hominis"
          ],
          [
           true,
           "Staphylococcus hominis"
          ],
          [
           true,
           "Staphylococcus hominis"
          ],
          [
           true,
           "Staphylococcus aureus"
          ],
          [
           true,
           "Staphylococcus aureus"
          ],
          [
           true,
           "Staphylococcus aureus"
          ],
          [
           true,
           "Staphylococcus aureus"
          ],
          [
           true,
           "Staphylococcus aureus"
          ],
          [
           true,
           "Staphylococcus aureus"
          ],
          [
           true,
           "Staphylococcus aureus"
          ],
          [
           true,
           "Staphylococcus aureus"
          ],
          [
           true,
           "Staphylococcus aureus"
          ],
          [
           true,
           "Staphylococcus aureus"
          ],
          [
           true,
           "Streptococcus agalactiae"
          ],
          [
           true,
           "Streptococcus agalactiae"
          ],
          [
           true,
           "Streptococcus agalactiae"
          ],
          [
           true,
           "Streptococcus agalactiae"
          ],
          [
           true,
           "Streptococcus agalactiae"
          ],
          [
           true,
           "Streptococcus agalactiae"
          ],
          [
           true,
           "Streptococcus agalactiae"
          ],
          [
           true,
           "Streptococcus agalactiae"
          ],
          [
           true,
           "Streptococcus agalactiae"
          ],
          [
           true,
           "Streptococcus agalactiae"
          ],
          [
           true,
           "Streptococcus agalactiae"
          ],
          [
           true,
           "Streptococcus agalactiae"
          ],
          [
           true,
           "Streptococcus agalactiae"
          ],
          [
           true,
           "Streptococcus agalactiae"
          ],
          [
           true,
           "Streptococcus pneumoniae"
          ],
          [
           true,
           "Streptococcus pneumoniae"
          ],
          [
           true,
           "Streptococcus pneumoniae"
          ],
          [
           true,
           "Streptococcus pneumoniae"
          ],
          [
           true,
           "Streptococcus pneumoniae"
          ],
          [
           true,
           "Streptococcus pneumoniae"
          ],
          [
           true,
           "Streptococcus pneumoniae"
          ],
          [
           true,
           "Streptococcus pneumoniae"
          ],
          [
           true,
           "Streptococcus pyogenes"
          ],
          [
           true,
           "Streptococcus pyogenes"
          ],
          [
           true,
           "Streptococcus pyogenes"
          ],
          [
           true,
           "Streptococcus pneumoniae"
          ],
          [
           true,
           "Streptococcus pyogenes"
          ],
          [
           true,
           "Streptococcus pyogenes"
          ],
          [
           true,
           "Streptococcus pyogenes"
          ],
          [
           true,
           "Streptococcus pyogenes"
          ],
          [
           true,
           "Streptococcus pyogenes"
          ],
          [
           true,
           "Streptococcus pyogenes"
          ],
          [
           true,
           "Streptococcus pneumoniae"
          ],
          [
           true,
           "Streptococcus agalactiae"
          ],
          [
           true,
           "Streptococcus pneumoniae"
          ],
          [
           true,
           "Streptococcus agalactiae"
          ],
          [
           true,
           "Streptococcus agalactiae"
          ],
          [
           true,
           "Streptococcus agalactiae"
          ],
          [
           true,
           "Streptococcus agalactiae"
          ],
          [
           true,
           "Streptococcus agalactiae"
          ],
          [
           true,
           "Streptococcus agalactiae"
          ],
          [
           true,
           "Streptococcus agalactiae"
          ],
          [
           true,
           "Streptococcus agalactiae"
          ],
          [
           true,
           "Streptococcus agalactiae"
          ],
          [
           true,
           "Streptococcus pneumoniae"
          ],
          [
           true,
           "Streptococcus pneumoniae"
          ],
          [
           true,
           "Streptococcus pneumoniae"
          ],
          [
           true,
           "Streptococcus pneumoniae"
          ],
          [
           true,
           "Streptococcus pneumoniae"
          ],
          [
           true,
           "Streptococcus pneumoniae"
          ],
          [
           true,
           "Streptococcus pneumoniae"
          ],
          [
           true,
           "Streptococcus pneumoniae"
          ],
          [
           true,
           "Streptococcus pneumoniae"
          ],
          [
           true,
           "Streptococcus pyogenes"
          ],
          [
           true,
           "Streptococcus pyogenes"
          ],
          [
           true,
           "Streptococcus pyogenes"
          ],
          [
           true,
           "Streptococcus pyogenes"
          ],
          [
           true,
           "Streptococcus pyogenes"
          ],
          [
           true,
           "Streptococcus pyogenes"
          ],
          [
           true,
           "Streptococcus pyogenes"
          ],
          [
           true,
           "Streptococcus pyogenes"
          ],
          [
           true,
           "Streptococcus pyogenes"
          ],
          [
           true,
           "Streptococcus pyogenes"
          ],
          [
           true,
           "Streptococcus pyogenes"
          ],
          [
           true,
           "Streptococcus pneumoniae"
          ],
          [
           true,
           "Streptococcus pneumoniae"
          ],
          [
           true,
           "Streptococcus pneumoniae"
          ],
          [
           true,
           "Streptococcus pneumoniae"
          ],
          [
           true,
           "Streptococcus pneumoniae"
          ],
          [
           true,
           "Staphylococcus aureus"
          ],
          [
           true,
           "Staphylococcus epidermidis"
          ],
          [
           true,
           "Staphylococcus aureus"
          ],
          [
           true,
           "Staphylococcus aureus"
          ],
          [
           true,
           "Staphylococcus aureus"
          ],
          [
           true,
           "Staphylococcus aureus"
          ],
          [
           true,
           "Staphylococcus epidermidis"
          ],
          [
           true,
           "Staphylococcus epidermidis"
          ],
          [
           true,
           "Staphylococcus epidermidis"
          ],
          [
           true,
           "Staphylococcus epidermidis"
          ],
          [
           true,
           "Staphylococcus aureus"
          ],
          [
           true,
           "Staphylococcus hominis"
          ],
          [
           true,
           "Staphylococcus epidermidis"
          ],
          [
           true,
           "Staphylococcus aureus"
          ],
          [
           true,
           "Staphylococcus aureus"
          ],
          [
           true,
           "Staphylococcus aureus"
          ],
          [
           true,
           "Staphylococcus aureus"
          ],
          [
           true,
           "Staphylococcus aureus"
          ],
          [
           true,
           "Staphylococcus epidermidis"
          ],
          [
           true,
           "Staphylococcus epidermidis"
          ],
          [
           true,
           "Staphylococcus epidermidis"
          ],
          [
           true,
           "Staphylococcus epidermidis"
          ],
          [
           true,
           "Staphylococcus epidermidis"
          ],
          [
           true,
           "Staphylococcus epidermidis"
          ],
          [
           true,
           "Staphylococcus hominis"
          ],
          [
           true,
           "Staphylococcus hominis"
          ],
          [
           true,
           "Staphylococcus hominis"
          ],
          [
           true,
           "Staphylococcus aureus"
          ],
          [
           true,
           "Staphylococcus hominis"
          ],
          [
           true,
           "Staphylococcus hominis"
          ],
          [
           true,
           "Staphylococcus hominis"
          ],
          [
           true,
           "Staphylococcus hominis"
          ],
          [
           true,
           "Staphylococcus epidermidis"
          ],
          [
           true,
           "Staphylococcus epidermidis"
          ],
          [
           true,
           "Staphylococcus epidermidis"
          ]
         ],
         "hovertemplate": "<b>%{hovertext}</b><br><br>SIR=Intermediate<br>Log2(MIC-value)=%{y:.0f}<br>Scale=%{customdata[0]}<br>Pathogen=%{customdata[1]}<extra></extra>",
         "hovertext": [
          "QM803",
          "QM810",
          "QM1333",
          "QM876",
          "QM325",
          "QM1353",
          "QM152",
          "BAR064",
          "QM1387",
          "QM1456",
          "QM1457",
          "QM1460",
          "QM1461",
          "QM1464",
          "QM1468",
          "QM1469",
          "QM1470",
          "QM870",
          "QM871",
          "QM872",
          "HV752",
          "QM138",
          "QM1574",
          "QM026",
          "QM329",
          "QM1486",
          "QM1487",
          "QM876",
          "QM1334",
          "QM868",
          "QM1249",
          "QM870",
          "QM871",
          "HV752",
          "QM138",
          "QM1486",
          "QM1487",
          "QM806",
          "QM1353",
          "QM1470",
          "QM326",
          "QM328",
          "QM065",
          "QM294",
          "QM1391",
          "QM323",
          "QM085",
          "QM086",
          "QM895",
          "QM897",
          "HV146",
          "HV156",
          "HV912",
          "HV975",
          "QM088",
          "QM089",
          "HV559",
          "HV615",
          "BAR059",
          "QM359",
          "HV103",
          "HV107",
          "HV114",
          "HV271",
          "HV330",
          "HV412",
          "HV414",
          "HV740",
          "HV753",
          "HV448",
          "HV500",
          "HV508",
          "HV517",
          "QM1325",
          "QM1326",
          "QM1327",
          "QM1359",
          "QM1360",
          "QM1362",
          "QM1364",
          "QM1367",
          "QM1370",
          "QM1379",
          "QM1385",
          "QM1388",
          "QM1450",
          "HV986",
          "QM963",
          "QM964",
          "HV794",
          "HV902",
          "AR0563",
          "AR0470",
          "AR0475",
          "AR0476",
          "AR0477",
          "AR0478",
          "AR0221",
          "AR0481",
          "AR0490",
          "AR0704",
          "QM1007",
          "QM1008",
          "QM1010",
          "QM1011",
          "QM1013",
          "QM1014",
          "QM1015",
          "QM886",
          "BAR006",
          "BAR008",
          "BAR018",
          "BAR019",
          "BAR023",
          "BAR024",
          "QM803",
          "QM804",
          "QM805",
          "QM806",
          "QM807",
          "QM808",
          "QM810",
          "BAR026",
          "QM1002",
          "QM878",
          "QM879",
          "PER134",
          "QM880",
          "QM882",
          "QM883",
          "QM884",
          "PER159",
          "BAR009",
          "QM325",
          "QM1440",
          "QM1353",
          "QM1533",
          "QM1536",
          "QM1537",
          "QM1539",
          "QM1540",
          "QM1541",
          "QM1542",
          "QM1543",
          "QM1545",
          "QM1456",
          "QM1457",
          "QM1460",
          "QM1461",
          "QM1464",
          "QM1468",
          "QM1469",
          "QM1470",
          "QM1574",
          "QM1547",
          "QM1549",
          "QM1551",
          "QM1552",
          "QM1555",
          "QM1556",
          "QM1557",
          "QM1558",
          "QM1559",
          "QM1561",
          "QM1565",
          "QM025",
          "QM026",
          "QM027",
          "QM328",
          "QM329",
          "AR0720",
          "HV455",
          "AR0706",
          "AR0724",
          "QM321",
          "QM993",
          "HV116",
          "HV119",
          "HV146",
          "QM968",
          "QM1452",
          "QM093",
          "QM1258",
          "AR0490",
          "AR0225",
          "AR0716",
          "AR0721",
          "AR0724",
          "HV109",
          "HV119",
          "HV136",
          "HV953",
          "HV523",
          "QM968",
          "HV245",
          "HV277",
          "HV517",
          "QM1358",
          "QM963",
          "QM964",
          "HV88",
          "HV902",
          "HV733",
          "HV734",
          "HV744"
         ],
         "legendgroup": "Intermediate",
         "marker": {
          "color": "gold",
          "symbol": "circle"
         },
         "mode": "markers",
         "name": "Intermediate",
         "showlegend": true,
         "type": "scattergl",
         "x": [
          -0.04312319862213207,
          0.04151714437707116,
          -0.11430421240664979,
          0.01709141614559384,
          0.09428242737082107,
          -0.010546990680829121,
          -0.08073228909291479,
          0.040193823652142774,
          -0.04169656628594218,
          0.1120356588587402,
          -0.1450435722506599,
          -0.14352931471599506,
          -0.1345782901211381,
          0.11078960849927819,
          -0.011685729164334135,
          -0.14399098771853658,
          0.12438435028658804,
          -0.013920184279351516,
          -0.0216986557558331,
          -0.001367490912042968,
          -0.046622137727047,
          -0.09364313301345045,
          -0.07795100329600138,
          0.0018747326511060758,
          0.13288734906886632,
          0.02322761333232859,
          0.04304292532540141,
          0.9272815303450983,
          1.0722974240029144,
          1.024364050870352,
          0.9027444519439973,
          0.9338701964206915,
          0.8665463771943926,
          1.0942148357194508,
          1.0220576891353783,
          1.112652583772875,
          0.9819028309349878,
          5.018002448262703,
          4.866880191312685,
          5.044418177087108,
          4.911363306609451,
          5.108921703895701,
          5.906910036662031,
          6.045923762795429,
          6.089493295889036,
          7.865547570404204,
          8.054059641596439,
          7.944686221689356,
          8.080260826962876,
          7.8820174155100124,
          8.13796441732218,
          7.920377475848632,
          7.895256889473134,
          8.049286720098982,
          7.981546323375845,
          7.923920734941336,
          8.011198032885867,
          7.99873542387342,
          8.053934570326842,
          7.931073984277986,
          8.05426363470705,
          7.896098117010192,
          7.904277335072537,
          8.058938271262313,
          8.03910776045456,
          8.029893367397284,
          7.887152043781629,
          8.083080139355085,
          8.118808636869199,
          7.9585387637856,
          7.984118858147634,
          8.138941107080809,
          7.998239839668364,
          7.908147092096511,
          8.031144315502466,
          8.099906330453635,
          7.852637745211748,
          8.140195633779014,
          8.117754569608538,
          7.893426491410864,
          8.053150181753406,
          8.12857455745911,
          7.891288008414066,
          8.133118244939025,
          8.003342658498275,
          8.052629176268274,
          7.898145991842238,
          7.891648833842733,
          8.082445938521506,
          8.07356803402565,
          7.916617737556572,
          7.856589049909359,
          8.013830803010944,
          8.00573035492374,
          8.003121126152966,
          8.105985415778298,
          7.885062858337153,
          8.074411990248882,
          8.067357949163274,
          7.86008542542859,
          8.085583088976767,
          8.903478709314092,
          8.914651200087262,
          8.934319598444679,
          8.857315340254935,
          8.901282828246364,
          8.952600727700768,
          8.919939539148569,
          9.13897278262745,
          9.073178070716615,
          8.903612988547465,
          8.978749281203532,
          9.02147401261059,
          8.994654753609538,
          9.133805294973877,
          8.896419398975944,
          9.133188889368274,
          9.112043071187948,
          9.023354570714043,
          9.05049283148781,
          9.035218208865638,
          8.883262811437588,
          8.956582559355216,
          9.026719046101894,
          8.852394095737685,
          9.117025975663378,
          8.850504965332648,
          8.97418447478501,
          9.131099535706616,
          9.046223977093517,
          8.866906790884425,
          8.956836809172197,
          9.130427903480628,
          8.928302441174479,
          8.897655490365484,
          9.045420862715618,
          9.0651936815255,
          8.907310507758982,
          8.936930477130979,
          9.017913886364461,
          8.961287186488219,
          9.120379569554379,
          9.074770538231713,
          8.90549218744814,
          8.869414220702115,
          9.142442656884356,
          8.879374701383401,
          9.14917370768551,
          9.040070108512998,
          8.867137318554297,
          8.898362143231875,
          9.04626203417657,
          9.051055154390388,
          8.952042772843933,
          8.961784377107405,
          9.046788918711677,
          8.901857897321587,
          9.123459258059725,
          9.038792630924949,
          9.017154924767636,
          9.004814204762534,
          8.952825887018536,
          9.052262912678275,
          8.87136178615149,
          9.123929635251189,
          9.015943763435118,
          8.993351700197158,
          8.958238133801895,
          9.033390451010927,
          9.040805405562516,
          13.862359963997392,
          15.13842273494288,
          15.072609048196963,
          14.980646443144332,
          16.095916630448567,
          16.08266819398945,
          16.102201412446345,
          15.865735997932958,
          16.077670107019326,
          15.898169411612766,
          16.01248628419218,
          16.10912335595908,
          16.132804674739084,
          15.921678909557444,
          15.979739549806197,
          15.9576369777432,
          16.086764984873096,
          16.019367826215966,
          19.921304580344785,
          20.115751319564435,
          20.07201215467595,
          20.060963885362135,
          20.092754377649566,
          19.94825265573401,
          19.924731410572676,
          20.028854194965675,
          19.96191288594294,
          19.93239454519445,
          20.035021756611556,
          20.11017905130209,
          20.11170865649542,
          20.072081764583995,
          19.95930101198948,
          20.089687946686443,
          20.121738530067823
         ],
         "xaxis": "x",
         "y": [
          -1.1099307823886773,
          -2.0528901251202907,
          0.9517355108644738,
          -0.09850287200902674,
          -1.1439102845212692,
          0.8526828713889714,
          -0.08487127308533929,
          0.8625647755575154,
          1.0671482349586001,
          -2.0603609711587905,
          -2.0313394208585582,
          -1.9785280286604836,
          -2.0467786477278347,
          -1.9333356562394437,
          0.9664641453850109,
          -1.8996898635195112,
          1.0140785301292774,
          -0.04033916486194368,
          -1.1298322705751573,
          1.110968070695198,
          0.0089141388810062,
          -0.11061298972826164,
          -1.962256620300619,
          0.9425469188808498,
          -1.9817535246918145,
          1.0939905570343462,
          0.12285990437288244,
          0.08900823757201834,
          -0.007047063263089931,
          0.09536819194353655,
          2.905669451286703,
          1.078440102327823,
          -0.020884081082025524,
          -0.0974004131125926,
          1.0426403872489698,
          0.1125079783768537,
          0.9875594979853042,
          0.09761492403785374,
          -0.08409161008780268,
          -0.12344762079629461,
          -0.0814838677589481,
          0.058599557576681754,
          1.8572982824549167,
          0.9237459192502365,
          -2.9737014097104613,
          -2.1106802062912253,
          -2.0058269428198754,
          -2.049664197609109,
          -0.019517219001545266,
          -2.1251343466683643,
          -1.877626866256347,
          -1.8693329141242228,
          -1.9981417068855936,
          -1.8524009387943967,
          -3.0937225187819157,
          -3.071125890884733,
          -2.876865685055933,
          -1.8531283263161906,
          -0.10577619706902118,
          -1.965281636782402,
          -3.073859486220084,
          -3.0761423974343707,
          -3.081354484799095,
          0.10241926351658379,
          -2.8957285988365844,
          -3.1130388954535073,
          -4.001096364194146,
          -3.8729613020961198,
          -3.9286203627508267,
          -2.9130273254489576,
          -3.1140732880742066,
          0.01664044325945155,
          -4.114928285849165,
          -0.9379048466615647,
          0.05566026401360222,
          -1.926379631972051,
          -1.0271806529714005,
          0.026560976884445003,
          -1.0750130236107827,
          -1.0274357122997193,
          -1.044025157201307,
          -0.0583271178532645,
          -0.08513491708047484,
          0.1338482386446644,
          0.00696102359432238,
          -0.9845744640233393,
          -2.9950417960677265,
          -3.1173742693386117,
          -2.9673064796098267,
          -2.9467908885889256,
          -3.0409651461512404,
          -2.065944173897941,
          -2.876350240289902,
          -0.9848309999414622,
          -1.9650272171314676,
          -2.0519300436716845,
          -2.0421509029308225,
          -0.9271988583209722,
          -1.856259418800134,
          -0.08523474689138501,
          -1.9927509762573639,
          -0.9459491649809603,
          -1.0328817806162132,
          -1.0522810030423497,
          -0.03726394363899668,
          -0.04632824725920133,
          -0.05154312367024265,
          -1.1179815395760377,
          -0.8720835767391586,
          -0.050940353063363863,
          -1.0216363774218244,
          -0.11259283681625529,
          0.12549555403076898,
          0.052264878081264704,
          0.04915720233750526,
          -0.05087512021362685,
          0.014736606398624758,
          0.08234117848881628,
          -0.05151635007698625,
          -0.050216582398086226,
          0.05301904460184004,
          -0.0909335453372613,
          0.03946989135304413,
          0.8900338899056364,
          -1.1187515206169483,
          -0.029099574762586275,
          -0.10460407245413275,
          -1.9813222110354494,
          -0.11395982852051212,
          -0.08055666004688257,
          -1.8869551442050783,
          -0.9583893410808155,
          -1.04389792866122,
          -1.1326769875161677,
          0.13744457652585365,
          -0.10228368006669195,
          0.01829412257797436,
          -0.03715136513595782,
          0.07906122651644817,
          1.104496295459403,
          1.0845105675201292,
          0.03903273765973095,
          -0.8554132912881811,
          -0.14217237155897572,
          0.07209086884624208,
          -0.05334268571642417,
          -0.07233835750989083,
          -0.07579272182550809,
          -0.00020852839297949566,
          0.11126677924757014,
          -0.007156459958039985,
          0.0548987967315987,
          0.11790830003121591,
          0.09472402895729357,
          0.08430980210527134,
          -0.05291852571432336,
          -0.8692872725389346,
          0.04101094363484345,
          -0.8542589182762572,
          -1.0678710007382533,
          0.10986119666917402,
          0.11918594697204352,
          0.05610471248075191,
          -0.02190780505303691,
          -0.09507821912828632,
          -0.003257164519415101,
          -0.08664509655006603,
          -0.026428648114773523,
          -0.04675264147067537,
          0.11288642370180421,
          0.9727062217028049,
          -0.8938214553169432,
          -1.0045740063111417,
          -1.0288051063350896,
          0.9213306990909013,
          0.9934313210146123,
          0.8808519717670006,
          1.0682808077084303,
          0.9019113621167296,
          1.088338061469471,
          0.8744090800538042,
          1.0621917174874826,
          1.0336717767264116,
          1.0928065540616883,
          0.9643755641802666,
          0.9780506768434645,
          0.8929425613994916,
          0.9560869129054635,
          1.9188800196289204,
          2.0816396983963332,
          2.139343826723977,
          1.9445785912333642,
          2.0328299286391553,
          2.0404849986829676,
          2.0588792839471113,
          2.0743800902897798,
          1.9931940708637097,
          2.0865196938724537,
          2.0517332444680187,
          1.8749126946895938,
          2.1227365655097596,
          1.8537291062524053,
          2.1016151808186474,
          2.1234657308842206,
          2.0580413643907933
         ],
         "yaxis": "y"
        }
       ],
       "layout": {
        "legend": {
         "orientation": "h",
         "title": {
          "text": "SIR"
         },
         "tracegroupgap": 0,
         "x": 1,
         "xanchor": "right",
         "y": 1.02,
         "yanchor": "bottom"
        },
        "template": {
         "data": {
          "bar": [
           {
            "error_x": {
             "color": "#2a3f5f"
            },
            "error_y": {
             "color": "#2a3f5f"
            },
            "marker": {
             "line": {
              "color": "#E5ECF6",
              "width": 0.5
             },
             "pattern": {
              "fillmode": "overlay",
              "size": 10,
              "solidity": 0.2
             }
            },
            "type": "bar"
           }
          ],
          "barpolar": [
           {
            "marker": {
             "line": {
              "color": "#E5ECF6",
              "width": 0.5
             },
             "pattern": {
              "fillmode": "overlay",
              "size": 10,
              "solidity": 0.2
             }
            },
            "type": "barpolar"
           }
          ],
          "carpet": [
           {
            "aaxis": {
             "endlinecolor": "#2a3f5f",
             "gridcolor": "white",
             "linecolor": "white",
             "minorgridcolor": "white",
             "startlinecolor": "#2a3f5f"
            },
            "baxis": {
             "endlinecolor": "#2a3f5f",
             "gridcolor": "white",
             "linecolor": "white",
             "minorgridcolor": "white",
             "startlinecolor": "#2a3f5f"
            },
            "type": "carpet"
           }
          ],
          "choropleth": [
           {
            "colorbar": {
             "outlinewidth": 0,
             "ticks": ""
            },
            "type": "choropleth"
           }
          ],
          "contour": [
           {
            "colorbar": {
             "outlinewidth": 0,
             "ticks": ""
            },
            "colorscale": [
             [
              0,
              "#0d0887"
             ],
             [
              0.1111111111111111,
              "#46039f"
             ],
             [
              0.2222222222222222,
              "#7201a8"
             ],
             [
              0.3333333333333333,
              "#9c179e"
             ],
             [
              0.4444444444444444,
              "#bd3786"
             ],
             [
              0.5555555555555556,
              "#d8576b"
             ],
             [
              0.6666666666666666,
              "#ed7953"
             ],
             [
              0.7777777777777778,
              "#fb9f3a"
             ],
             [
              0.8888888888888888,
              "#fdca26"
             ],
             [
              1,
              "#f0f921"
             ]
            ],
            "type": "contour"
           }
          ],
          "contourcarpet": [
           {
            "colorbar": {
             "outlinewidth": 0,
             "ticks": ""
            },
            "type": "contourcarpet"
           }
          ],
          "heatmap": [
           {
            "colorbar": {
             "outlinewidth": 0,
             "ticks": ""
            },
            "colorscale": [
             [
              0,
              "#0d0887"
             ],
             [
              0.1111111111111111,
              "#46039f"
             ],
             [
              0.2222222222222222,
              "#7201a8"
             ],
             [
              0.3333333333333333,
              "#9c179e"
             ],
             [
              0.4444444444444444,
              "#bd3786"
             ],
             [
              0.5555555555555556,
              "#d8576b"
             ],
             [
              0.6666666666666666,
              "#ed7953"
             ],
             [
              0.7777777777777778,
              "#fb9f3a"
             ],
             [
              0.8888888888888888,
              "#fdca26"
             ],
             [
              1,
              "#f0f921"
             ]
            ],
            "type": "heatmap"
           }
          ],
          "heatmapgl": [
           {
            "colorbar": {
             "outlinewidth": 0,
             "ticks": ""
            },
            "colorscale": [
             [
              0,
              "#0d0887"
             ],
             [
              0.1111111111111111,
              "#46039f"
             ],
             [
              0.2222222222222222,
              "#7201a8"
             ],
             [
              0.3333333333333333,
              "#9c179e"
             ],
             [
              0.4444444444444444,
              "#bd3786"
             ],
             [
              0.5555555555555556,
              "#d8576b"
             ],
             [
              0.6666666666666666,
              "#ed7953"
             ],
             [
              0.7777777777777778,
              "#fb9f3a"
             ],
             [
              0.8888888888888888,
              "#fdca26"
             ],
             [
              1,
              "#f0f921"
             ]
            ],
            "type": "heatmapgl"
           }
          ],
          "histogram": [
           {
            "marker": {
             "pattern": {
              "fillmode": "overlay",
              "size": 10,
              "solidity": 0.2
             }
            },
            "type": "histogram"
           }
          ],
          "histogram2d": [
           {
            "colorbar": {
             "outlinewidth": 0,
             "ticks": ""
            },
            "colorscale": [
             [
              0,
              "#0d0887"
             ],
             [
              0.1111111111111111,
              "#46039f"
             ],
             [
              0.2222222222222222,
              "#7201a8"
             ],
             [
              0.3333333333333333,
              "#9c179e"
             ],
             [
              0.4444444444444444,
              "#bd3786"
             ],
             [
              0.5555555555555556,
              "#d8576b"
             ],
             [
              0.6666666666666666,
              "#ed7953"
             ],
             [
              0.7777777777777778,
              "#fb9f3a"
             ],
             [
              0.8888888888888888,
              "#fdca26"
             ],
             [
              1,
              "#f0f921"
             ]
            ],
            "type": "histogram2d"
           }
          ],
          "histogram2dcontour": [
           {
            "colorbar": {
             "outlinewidth": 0,
             "ticks": ""
            },
            "colorscale": [
             [
              0,
              "#0d0887"
             ],
             [
              0.1111111111111111,
              "#46039f"
             ],
             [
              0.2222222222222222,
              "#7201a8"
             ],
             [
              0.3333333333333333,
              "#9c179e"
             ],
             [
              0.4444444444444444,
              "#bd3786"
             ],
             [
              0.5555555555555556,
              "#d8576b"
             ],
             [
              0.6666666666666666,
              "#ed7953"
             ],
             [
              0.7777777777777778,
              "#fb9f3a"
             ],
             [
              0.8888888888888888,
              "#fdca26"
             ],
             [
              1,
              "#f0f921"
             ]
            ],
            "type": "histogram2dcontour"
           }
          ],
          "mesh3d": [
           {
            "colorbar": {
             "outlinewidth": 0,
             "ticks": ""
            },
            "type": "mesh3d"
           }
          ],
          "parcoords": [
           {
            "line": {
             "colorbar": {
              "outlinewidth": 0,
              "ticks": ""
             }
            },
            "type": "parcoords"
           }
          ],
          "pie": [
           {
            "automargin": true,
            "type": "pie"
           }
          ],
          "scatter": [
           {
            "fillpattern": {
             "fillmode": "overlay",
             "size": 10,
             "solidity": 0.2
            },
            "type": "scatter"
           }
          ],
          "scatter3d": [
           {
            "line": {
             "colorbar": {
              "outlinewidth": 0,
              "ticks": ""
             }
            },
            "marker": {
             "colorbar": {
              "outlinewidth": 0,
              "ticks": ""
             }
            },
            "type": "scatter3d"
           }
          ],
          "scattercarpet": [
           {
            "marker": {
             "colorbar": {
              "outlinewidth": 0,
              "ticks": ""
             }
            },
            "type": "scattercarpet"
           }
          ],
          "scattergeo": [
           {
            "marker": {
             "colorbar": {
              "outlinewidth": 0,
              "ticks": ""
             }
            },
            "type": "scattergeo"
           }
          ],
          "scattergl": [
           {
            "marker": {
             "colorbar": {
              "outlinewidth": 0,
              "ticks": ""
             }
            },
            "type": "scattergl"
           }
          ],
          "scattermapbox": [
           {
            "marker": {
             "colorbar": {
              "outlinewidth": 0,
              "ticks": ""
             }
            },
            "type": "scattermapbox"
           }
          ],
          "scatterpolar": [
           {
            "marker": {
             "colorbar": {
              "outlinewidth": 0,
              "ticks": ""
             }
            },
            "type": "scatterpolar"
           }
          ],
          "scatterpolargl": [
           {
            "marker": {
             "colorbar": {
              "outlinewidth": 0,
              "ticks": ""
             }
            },
            "type": "scatterpolargl"
           }
          ],
          "scatterternary": [
           {
            "marker": {
             "colorbar": {
              "outlinewidth": 0,
              "ticks": ""
             }
            },
            "type": "scatterternary"
           }
          ],
          "surface": [
           {
            "colorbar": {
             "outlinewidth": 0,
             "ticks": ""
            },
            "colorscale": [
             [
              0,
              "#0d0887"
             ],
             [
              0.1111111111111111,
              "#46039f"
             ],
             [
              0.2222222222222222,
              "#7201a8"
             ],
             [
              0.3333333333333333,
              "#9c179e"
             ],
             [
              0.4444444444444444,
              "#bd3786"
             ],
             [
              0.5555555555555556,
              "#d8576b"
             ],
             [
              0.6666666666666666,
              "#ed7953"
             ],
             [
              0.7777777777777778,
              "#fb9f3a"
             ],
             [
              0.8888888888888888,
              "#fdca26"
             ],
             [
              1,
              "#f0f921"
             ]
            ],
            "type": "surface"
           }
          ],
          "table": [
           {
            "cells": {
             "fill": {
              "color": "#EBF0F8"
             },
             "line": {
              "color": "white"
             }
            },
            "header": {
             "fill": {
              "color": "#C8D4E3"
             },
             "line": {
              "color": "white"
             }
            },
            "type": "table"
           }
          ]
         },
         "layout": {
          "annotationdefaults": {
           "arrowcolor": "#2a3f5f",
           "arrowhead": 0,
           "arrowwidth": 1
          },
          "autotypenumbers": "strict",
          "coloraxis": {
           "colorbar": {
            "outlinewidth": 0,
            "ticks": ""
           }
          },
          "colorscale": {
           "diverging": [
            [
             0,
             "#8e0152"
            ],
            [
             0.1,
             "#c51b7d"
            ],
            [
             0.2,
             "#de77ae"
            ],
            [
             0.3,
             "#f1b6da"
            ],
            [
             0.4,
             "#fde0ef"
            ],
            [
             0.5,
             "#f7f7f7"
            ],
            [
             0.6,
             "#e6f5d0"
            ],
            [
             0.7,
             "#b8e186"
            ],
            [
             0.8,
             "#7fbc41"
            ],
            [
             0.9,
             "#4d9221"
            ],
            [
             1,
             "#276419"
            ]
           ],
           "sequential": [
            [
             0,
             "#0d0887"
            ],
            [
             0.1111111111111111,
             "#46039f"
            ],
            [
             0.2222222222222222,
             "#7201a8"
            ],
            [
             0.3333333333333333,
             "#9c179e"
            ],
            [
             0.4444444444444444,
             "#bd3786"
            ],
            [
             0.5555555555555556,
             "#d8576b"
            ],
            [
             0.6666666666666666,
             "#ed7953"
            ],
            [
             0.7777777777777778,
             "#fb9f3a"
            ],
            [
             0.8888888888888888,
             "#fdca26"
            ],
            [
             1,
             "#f0f921"
            ]
           ],
           "sequentialminus": [
            [
             0,
             "#0d0887"
            ],
            [
             0.1111111111111111,
             "#46039f"
            ],
            [
             0.2222222222222222,
             "#7201a8"
            ],
            [
             0.3333333333333333,
             "#9c179e"
            ],
            [
             0.4444444444444444,
             "#bd3786"
            ],
            [
             0.5555555555555556,
             "#d8576b"
            ],
            [
             0.6666666666666666,
             "#ed7953"
            ],
            [
             0.7777777777777778,
             "#fb9f3a"
            ],
            [
             0.8888888888888888,
             "#fdca26"
            ],
            [
             1,
             "#f0f921"
            ]
           ]
          },
          "colorway": [
           "#636efa",
           "#EF553B",
           "#00cc96",
           "#ab63fa",
           "#FFA15A",
           "#19d3f3",
           "#FF6692",
           "#B6E880",
           "#FF97FF",
           "#FECB52"
          ],
          "font": {
           "color": "#2a3f5f"
          },
          "geo": {
           "bgcolor": "white",
           "lakecolor": "white",
           "landcolor": "#E5ECF6",
           "showlakes": true,
           "showland": true,
           "subunitcolor": "white"
          },
          "hoverlabel": {
           "align": "left"
          },
          "hovermode": "closest",
          "mapbox": {
           "style": "light"
          },
          "paper_bgcolor": "white",
          "plot_bgcolor": "#E5ECF6",
          "polar": {
           "angularaxis": {
            "gridcolor": "white",
            "linecolor": "white",
            "ticks": ""
           },
           "bgcolor": "#E5ECF6",
           "radialaxis": {
            "gridcolor": "white",
            "linecolor": "white",
            "ticks": ""
           }
          },
          "scene": {
           "xaxis": {
            "backgroundcolor": "#E5ECF6",
            "gridcolor": "white",
            "gridwidth": 2,
            "linecolor": "white",
            "showbackground": true,
            "ticks": "",
            "zerolinecolor": "white"
           },
           "yaxis": {
            "backgroundcolor": "#E5ECF6",
            "gridcolor": "white",
            "gridwidth": 2,
            "linecolor": "white",
            "showbackground": true,
            "ticks": "",
            "zerolinecolor": "white"
           },
           "zaxis": {
            "backgroundcolor": "#E5ECF6",
            "gridcolor": "white",
            "gridwidth": 2,
            "linecolor": "white",
            "showbackground": true,
            "ticks": "",
            "zerolinecolor": "white"
           }
          },
          "shapedefaults": {
           "line": {
            "color": "#2a3f5f"
           }
          },
          "ternary": {
           "aaxis": {
            "gridcolor": "white",
            "linecolor": "white",
            "ticks": ""
           },
           "baxis": {
            "gridcolor": "white",
            "linecolor": "white",
            "ticks": ""
           },
           "bgcolor": "#E5ECF6",
           "caxis": {
            "gridcolor": "white",
            "linecolor": "white",
            "ticks": ""
           }
          },
          "title": {
           "x": 0.05
          },
          "xaxis": {
           "automargin": true,
           "gridcolor": "white",
           "linecolor": "white",
           "ticks": "",
           "title": {
            "standoff": 15
           },
           "zerolinecolor": "white",
           "zerolinewidth": 2
          },
          "yaxis": {
           "automargin": true,
           "gridcolor": "white",
           "linecolor": "white",
           "ticks": "",
           "title": {
            "standoff": 15
           },
           "zerolinecolor": "white",
           "zerolinewidth": 2
          }
         }
        },
        "title": {
         "text": "Isolate log2(MIC-values) for different antibiotics"
        },
        "xaxis": {
         "anchor": "y",
         "domain": [
          0,
          1
         ],
         "tickmode": "array",
         "ticktext": [
          "Benzylpenicillin",
          "Ampicillin",
          "Cefoxitin",
          "Ceftaroline",
          "Ceftobiprole",
          "Ceftriaxone",
          "Imipenem",
          "Meropenem",
          "Ciprofloxacin",
          "Levofloxacin",
          "Gentamicin",
          "Dalbavancin",
          "Teicoplanin",
          "Vancomycin",
          "Erythromycin",
          "Clindamycin",
          "Tetracycline",
          "Linezolid",
          "Daptomycin",
          "Rifampicin",
          "Trimeth-sulf",
          "D-test",
          "Optochin"
         ],
         "tickvals": [
          0,
          1,
          2,
          3,
          4,
          5,
          6,
          7,
          8,
          9,
          10,
          11,
          12,
          13,
          14,
          15,
          16,
          17,
          18,
          19,
          20,
          21,
          22
         ],
         "title": {
          "text": "Antibiotics"
         }
        },
        "yaxis": {
         "anchor": "x",
         "domain": [
          0,
          1
         ],
         "range": [
          -9,
          10
         ],
         "tickmode": "array",
         "ticktext": [
          "0.00195",
          "0.00391",
          "0.00781",
          "0.01563",
          "0.03125",
          "0.0625",
          "0.125",
          "0.25",
          "0.5",
          "1",
          "2",
          "4",
          "8",
          "16",
          "32",
          "64",
          "128",
          "256",
          "512",
          "1024"
         ],
         "tickvals": [
          -9,
          -8,
          -7,
          -6,
          -5,
          -4,
          -3,
          -2,
          -1,
          0,
          1,
          2,
          3,
          4,
          5,
          6,
          7,
          8,
          9,
          10
         ],
         "title": {
          "text": "Log2(MIC-value)"
         }
        }
       }
      }
     },
     "metadata": {},
     "output_type": "display_data"
    }
   ],
   "source": [
    "def main():\n",
    "    # Load files\n",
    "    chosen_isolates_list = pd.read_csv(\"Chosen_isolates_list.csv\")\n",
    "    CIB = pd.ExcelFile(\"CIB_TF-data_AllIsolates_20230302.xlsx\")\n",
    "    matrix_EU = pd.read_excel(CIB, \"matrix EU\")\n",
    "    \n",
    "    # Rename a long name for plotting purposes\n",
    "    matrix_EU.rename(columns={\"Trimethoprim-sulfamethoxazole\": \"Trimeth-sulf\"}, inplace=True)\n",
    "    \n",
    "    \n",
    "    # Select isolates\n",
    "    chosen_isolates = extract_chosen_isolates(chosen_isolates_list, matrix_EU)\n",
    "    \n",
    "    # List of antiiotic names\n",
    "    antibiotics = list(chosen_isolates.columns[3:])    \n",
    "     \n",
    "    # Extract all SIRs for an antibiotic.\n",
    "    chosen_isolates_SIR = extract_SIR(chosen_isolates, antibiotics)\n",
    "    \n",
    "    # Remove the tuples that have None in their SIR data\n",
    "    filtered_chosen_isolates_SIR = filter_mic_values(chosen_isolates_SIR)\n",
    "    \n",
    "    # Extract the mic-values of each isolate for each antibiotic.\n",
    "    mic_data = extract_mic_data(filtered_chosen_isolates_SIR, antibiotics)\n",
    "    \n",
    "    plotly_dotplot(antibiotics, mic_data)\n",
    "if __name__ == \"__main__\":\n",
    "    main()\n"
   ]
  }
 ],
 "metadata": {
  "kernelspec": {
   "display_name": "Python 3",
   "language": "python",
   "name": "python3"
  },
  "language_info": {
   "codemirror_mode": {
    "name": "ipython",
    "version": 3
   },
   "file_extension": ".py",
   "mimetype": "text/x-python",
   "name": "python",
   "nbconvert_exporter": "python",
   "pygments_lexer": "ipython3",
   "version": "3.11.0"
  },
  "orig_nbformat": 4
 },
 "nbformat": 4,
 "nbformat_minor": 2
}
