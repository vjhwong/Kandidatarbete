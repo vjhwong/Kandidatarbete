{
 "cells": [
  {
   "cell_type": "code",
   "execution_count": 173,
   "metadata": {},
   "outputs": [],
   "source": [
    "import pandas as pd\n",
    "import numpy as np\n",
    "import plotly.express as px"
   ]
  },
  {
   "cell_type": "code",
   "execution_count": 174,
   "metadata": {},
   "outputs": [],
   "source": [
    "def extract_chosen_isolates(\n",
    "    chosen_isolates: pd.DataFrame, matrix_EU: pd.DataFrame\n",
    ") -> pd.DataFrame:\n",
    "    \"\"\"\n",
    "    Select the chosen isolates from the script. Return a DataFrame only containing the rows of selected isolates\n",
    "    \"\"\"\n",
    "    chosen_rows = matrix_EU[\"Isolate\"].isin(chosen_isolates[\"Isolate\"])\n",
    "    return matrix_EU[chosen_rows]"
   ]
  },
  {
   "cell_type": "code",
   "execution_count": 175,
   "metadata": {},
   "outputs": [],
   "source": [
    "def find_digits(SIR: str) -> int:\n",
    "    \"\"\"Find numbers in a string\"\"\"\n",
    "    digit = \"\"\n",
    "    for character in SIR:\n",
    "        if character.isdigit() or character == \".\":\n",
    "            digit += character\n",
    "    return float(digit)"
   ]
  },
  {
   "cell_type": "code",
   "execution_count": 176,
   "metadata": {},
   "outputs": [],
   "source": [
    "def get_scale(SIR: str) -> bool:\n",
    "    \"\"\"Get on or off scale. True == on-scale\"\"\"\n",
    "    if \"=\" in SIR:\n",
    "        return True\n",
    "    elif \"<\" in SIR or \">\" in SIR:\n",
    "        return False\n",
    "    else:\n",
    "        raise ValueError(\"Not a valid SIR\")"
   ]
  },
  {
   "cell_type": "code",
   "execution_count": 177,
   "metadata": {},
   "outputs": [],
   "source": [
    "def parse_SIR(SIR: str) -> bool:\n",
    "    \"\"\"\n",
    "    Find the isolates with valid SIRs. Not 'Missing BP'\n",
    "    and not 'nip'.\n",
    "    \"\"\"\n",
    "    if SIR.startswith(\"Missing BP\"):\n",
    "        return False\n",
    "    if SIR == \"nip\":\n",
    "        return False\n",
    "    return True      "
   ]
  },
  {
   "cell_type": "code",
   "execution_count": 178,
   "metadata": {},
   "outputs": [],
   "source": [
    "def extract_SIR(chosen_isolates: pd.DataFrame, antibiotics: list) -> dict:\n",
    "    \"\"\"\n",
    "    Extract all SIRs for an antibiotic. Returns a dictionary\n",
    "    with antibiotcs as keys and lists of the isolates and their\n",
    "    SIRs in tuples as value.\n",
    "    \"\"\"\n",
    "    chosen_isolates_SIR = {antibiotic: [] for antibiotic in antibiotics}\n",
    "    \n",
    "    for index, row in chosen_isolates.iterrows():\n",
    "        isolate, pathogen, antibiotic_SIR = row[0], row[1], list(row[3:].items())\n",
    "        for antibiotic, SIR in antibiotic_SIR:\n",
    "            if parse_SIR(SIR):\n",
    "                mic_category = SIR[0]\n",
    "                mic = find_digits(SIR)\n",
    "                scale = get_scale(SIR)\n",
    "                chosen_isolates_SIR[antibiotic].append((isolate, np.log2(mic), mic_category, scale, pathogen))\n",
    "            else:\n",
    "                # If SIR = \"Missing BP\" or \"nip\"\n",
    "                chosen_isolates_SIR[antibiotic].append((isolate, SIR, None, None, pathogen))\n",
    "    return chosen_isolates_SIR"
   ]
  },
  {
   "cell_type": "code",
   "execution_count": 179,
   "metadata": {},
   "outputs": [],
   "source": [
    "def filter_mic_values(chosen_isolates_SIR: dict) -> None:\n",
    "    \"\"\"\n",
    "    Remove the tuples that have None in their SIR data\n",
    "    \"\"\"\n",
    "    for antibiotic, SIR_data in chosen_isolates_SIR.items():\n",
    "        # tup = (isolate, mic_value, mic_category, scale, pathogen)\n",
    "        chosen_isolates_SIR[antibiotic] = list((tup for tup in SIR_data if tup[2] is not None))\n",
    "    return chosen_isolates_SIR"
   ]
  },
  {
   "cell_type": "code",
   "execution_count": 180,
   "metadata": {},
   "outputs": [],
   "source": [
    "def extract_mic_data(chosen_isolates_SIR: dict, antibiotics: list) -> list:\n",
    "    \"\"\"\n",
    "    Extract the mic-values of each isolate for each antibiotic.\n",
    "    Returns a nested list. Each list represents the mic-values of \n",
    "    all isolates for an antibiotic.\n",
    "    \"\"\"\n",
    "    mic_values = []\n",
    "    # Iterate over all antibiotics\n",
    "    for antibiotic in antibiotics:\n",
    "        # Create a list to hold the mic-values of isolates for that abx\n",
    "        antibiotic_mic_values = []\n",
    "        # Get value of current abx. List of (isolate, mic_value, mic_category)\n",
    "        SIR_data = chosen_isolates_SIR[antibiotic]\n",
    "        for isolate, mic_value, mic_category, scale, pathogen in SIR_data:\n",
    "            antibiotic_mic_values.append((isolate, mic_value, mic_category, scale, pathogen))\n",
    "        mic_values.append(antibiotic_mic_values)\n",
    "    return mic_values"
   ]
  },
  {
   "cell_type": "code",
   "execution_count": null,
   "metadata": {},
   "outputs": [],
   "source": [
    "def create_plot_df(antibiotics: list, mic_data: list, jitter: float=0.15) -> pd.DataFrame:\n",
    "    \"\"\"Create dataframe used for plotting\"\"\"\n",
    "    \n",
    "    mic_dict = {\n",
    "        \"S\": (\"limegreen\", \"Sensitive\"),\n",
    "        \"I\": (\"gold\", \"Intermediate\"),\n",
    "        \"R\": (\"tomato\", \"Resistant\"),\n",
    "    }\n",
    "    \n",
    "    # Set ticks of x axis\n",
    "    x_axis = [i for i in range(len(antibiotics))]\n",
    "\n",
    "    # Initialize lists to hold values used for plotting\n",
    "    x_values = []\n",
    "    y_values = []\n",
    "    SIR_category = []\n",
    "    isolate_names = []\n",
    "    on_off_scale = []\n",
    "    pathogen_list = []\n",
    "\n",
    "    for x_value, abx_mic_data in zip(x_axis, mic_data):\n",
    "        for isolate, mic_value, mic_category, scale, pathogen in abx_mic_data:\n",
    "            # Add random noise to avoid overlapping\n",
    "            x_value_jitter = x_value + np.random.uniform(-jitter, jitter)\n",
    "            mic_value_jitter = mic_value + np.random.uniform(-jitter, jitter)\n",
    "            # Add data to the lists\n",
    "            isolate_names.append(isolate)\n",
    "            x_values.append(x_value_jitter)\n",
    "            y_values.append(mic_value_jitter)\n",
    "            SIR_category.append(mic_dict[mic_category][1])\n",
    "            on_off_scale.append(scale)\n",
    "            pathogen_list.append(pathogen)\n",
    "\n",
    "    # Create a DF used for plotting\n",
    "    plot_df = pd.DataFrame(\n",
    "        {\n",
    "            \"Antibiotics\": x_values,\n",
    "            \"Log2(MIC-value)\": y_values,\n",
    "            \"Isolate names\": isolate_names,\n",
    "            \"SIR\": SIR_category,\n",
    "            \"Scale\": on_off_scale,\n",
    "            \"Pathogen\": pathogen_list\n",
    "        },\n",
    "        index=np.arange(len(x_values)),\n",
    "    )\n",
    "    \n",
    "    return plot_df"
   ]
  },
  {
   "cell_type": "code",
   "execution_count": 181,
   "metadata": {},
   "outputs": [],
   "source": [
    "def plotly_dotplot(plot_df: pd.DataFrame, antibiotics) -> None:\n",
    "    \n",
    "    # Set ticks of x axis\n",
    "    x_axis = [i for i in range(len(antibiotics))]\n",
    "    \n",
    "    y_axis_ticktext = [\n",
    "            \"Min C\", \"0.00195\", \"0.00391\", \"0.00781\", \"0.01563\",\"0.03125\", \"0.0625\", \"0.125\", \n",
    "            \"0.25\", \"0.5\", \"1\", \"2\", \"4\",\t\"8\", \"16\", \"32\", \"64\", \"128\", \"256\", \"512\",\t\"1024\", \"Max C\"\n",
    "            ]\n",
    "\n",
    "    #plot\n",
    "    fig = px.scatter(\n",
    "        plot_df,\n",
    "        x=\"Antibiotics\",\n",
    "        y=\"Log2(MIC-value)\",\n",
    "        hover_name=\"Isolate names\",\n",
    "        color=\"SIR\",\n",
    "        title=\"Isolate log2(MIC-values) for different antibiotics\",\n",
    "        range_y=[-10, 11],\n",
    "        hover_data={\"Antibiotics\": False, \"Log2(MIC-value)\": \":.0f\", \"Scale\": True,\"Pathogen\": True},\n",
    "    )\n",
    "\n",
    "    # Changes the dot color depending on SIR category\n",
    "    def change_trace_color(trace):\n",
    "        if trace.name == \"Resistant\":\n",
    "            trace.update(marker_color=\"tomato\")\n",
    "        elif trace.name == \"Intermediate\":\n",
    "            trace.update(marker_color=\"gold\")\n",
    "        elif trace.name == \"Sensitive\":\n",
    "            trace.update(marker_color=\"limegreen\")\n",
    "        else:\n",
    "            raise ValueError(\"Not a valid trace\")\n",
    "        \n",
    "        # if trace.scale == False:\n",
    "        #     trace.update(marker_symbol=\"square\")\n",
    "\n",
    "    # Update dot color\n",
    "    fig.for_each_trace(change_trace_color)\n",
    "\n",
    "    # Change xticks to antibiotic names\n",
    "    fig.update_layout(\n",
    "        xaxis=dict(\n",
    "            tickmode=\"array\", tickvals=x_axis, ticktext=antibiotics\n",
    "            ),\n",
    "        yaxis=dict(\n",
    "            tickmode=\"array\",tickvals= [i for i in range(-10, 12)], ticktext = y_axis_ticktext)\n",
    "    )\n",
    "    \n",
    "    \n",
    "    fig.update_layout(\n",
    "        yaxis=dict(tickmode=\"array\",tickvals= [i for i in range(-10, 12)],\n",
    "        ticktext = y_axis_ticktext)\n",
    "    )\n",
    "\n",
    "    # Set horizontal legend\n",
    "    fig.update_layout(\n",
    "        legend=dict(orientation=\"h\", yanchor=\"bottom\", y=1.02, xanchor=\"right\", x=1)\n",
    "    )\n",
    "    fig.show()"
   ]
  },
  {
   "cell_type": "code",
   "execution_count": 182,
   "metadata": {},
   "outputs": [
    {
     "data": {
      "application/vnd.plotly.v1+json": {
       "config": {
        "plotlyServerURL": "https://plot.ly"
       },
       "data": [
        {
         "customdata": [
          [
           true,
           "Staphylococcus aureus"
          ],
          [
           true,
           "Staphylococcus aureus"
          ],
          [
           true,
           "Staphylococcus aureus"
          ],
          [
           true,
           "Staphylococcus aureus"
          ],
          [
           true,
           "Staphylococcus aureus"
          ],
          [
           true,
           "Staphylococcus aureus"
          ],
          [
           true,
           "Staphylococcus aureus"
          ],
          [
           true,
           "Staphylococcus aureus"
          ],
          [
           true,
           "Staphylococcus aureus"
          ],
          [
           true,
           "Staphylococcus aureus"
          ],
          [
           true,
           "Staphylococcus aureus"
          ],
          [
           true,
           "Staphylococcus aureus"
          ],
          [
           true,
           "Staphylococcus aureus"
          ],
          [
           true,
           "Staphylococcus aureus"
          ],
          [
           true,
           "Staphylococcus aureus"
          ],
          [
           true,
           "Staphylococcus aureus"
          ],
          [
           true,
           "Staphylococcus aureus"
          ],
          [
           true,
           "Staphylococcus aureus"
          ],
          [
           true,
           "Staphylococcus aureus"
          ],
          [
           true,
           "Staphylococcus aureus"
          ],
          [
           true,
           "Staphylococcus aureus"
          ],
          [
           true,
           "Staphylococcus aureus"
          ],
          [
           true,
           "Staphylococcus aureus"
          ],
          [
           true,
           "Staphylococcus aureus"
          ],
          [
           true,
           "Staphylococcus aureus"
          ],
          [
           true,
           "Streptococcus mitis"
          ],
          [
           true,
           "Staphylococcus aureus"
          ],
          [
           true,
           "Streptococcus pneumoniae"
          ],
          [
           true,
           "Streptococcus pneumoniae"
          ],
          [
           true,
           "Streptococcus pneumoniae"
          ],
          [
           true,
           "Streptococcus salivarius"
          ],
          [
           true,
           "Staphylococcus aureus"
          ],
          [
           true,
           "Staphylococcus aureus"
          ],
          [
           true,
           "Staphylococcus aureus"
          ],
          [
           true,
           "Staphylococcus aureus"
          ],
          [
           true,
           "Staphylococcus aureus"
          ],
          [
           true,
           "Staphylococcus aureus"
          ],
          [
           true,
           "Staphylococcus aureus"
          ],
          [
           true,
           "Staphylococcus aureus"
          ],
          [
           true,
           "Staphylococcus aureus"
          ],
          [
           true,
           "Staphylococcus aureus"
          ],
          [
           true,
           "Staphylococcus aureus"
          ],
          [
           true,
           "Staphylococcus aureus"
          ],
          [
           true,
           "Staphylococcus aureus"
          ],
          [
           true,
           "Staphylococcus aureus"
          ],
          [
           true,
           "Staphylococcus aureus"
          ],
          [
           true,
           "Staphylococcus aureus"
          ],
          [
           true,
           "Staphylococcus aureus"
          ],
          [
           true,
           "Staphylococcus aureus"
          ],
          [
           true,
           "Streptococcus mitis"
          ],
          [
           true,
           "Staphylococcus lugdunensis"
          ],
          [
           true,
           "Staphylococcus lugdunensis"
          ],
          [
           true,
           "Streptococcus mitis"
          ],
          [
           true,
           "Streptococcus sanguinis"
          ],
          [
           true,
           "Streptococcus sanguinis"
          ],
          [
           true,
           "Staphylococcus aureus"
          ],
          [
           true,
           "Staphylococcus aureus"
          ],
          [
           true,
           "Staphylococcus aureus"
          ],
          [
           true,
           "Staphylococcus aureus"
          ],
          [
           true,
           "Staphylococcus aureus"
          ],
          [
           true,
           "Staphylococcus aureus"
          ],
          [
           true,
           "Staphylococcus aureus"
          ],
          [
           true,
           "Staphylococcus aureus"
          ],
          [
           true,
           "Staphylococcus aureus"
          ],
          [
           true,
           "Staphylococcus aureus"
          ],
          [
           true,
           "Staphylococcus aureus"
          ],
          [
           true,
           "Staphylococcus aureus"
          ],
          [
           true,
           "Staphylococcus aureus"
          ],
          [
           true,
           "Staphylococcus aureus"
          ],
          [
           true,
           "Staphylococcus aureus"
          ],
          [
           true,
           "Staphylococcus aureus"
          ],
          [
           true,
           "Staphylococcus aureus"
          ],
          [
           true,
           "Staphylococcus aureus"
          ],
          [
           true,
           "Staphylococcus aureus"
          ],
          [
           false,
           "Staphylococcus aureus"
          ],
          [
           true,
           "Staphylococcus lugdunensis"
          ],
          [
           true,
           "Staphylococcus lugdunensis"
          ],
          [
           true,
           "Staphylococcus lugdunensis"
          ],
          [
           true,
           "Staphylococcus aureus"
          ],
          [
           true,
           "Staphylococcus aureus"
          ],
          [
           true,
           "Staphylococcus aureus"
          ],
          [
           true,
           "Staphylococcus aureus"
          ],
          [
           true,
           "Staphylococcus aureus"
          ],
          [
           true,
           "Staphylococcus aureus"
          ],
          [
           true,
           "Staphylococcus aureus"
          ],
          [
           true,
           "Staphylococcus aureus"
          ],
          [
           true,
           "Staphylococcus aureus"
          ],
          [
           true,
           "Staphylococcus aureus"
          ],
          [
           true,
           "Staphylococcus aureus"
          ],
          [
           true,
           "Staphylococcus aureus"
          ],
          [
           true,
           "Staphylococcus aureus"
          ],
          [
           true,
           "Staphylococcus aureus"
          ],
          [
           true,
           "Staphylococcus aureus"
          ],
          [
           true,
           "Staphylococcus aureus"
          ],
          [
           true,
           "Staphylococcus aureus"
          ],
          [
           true,
           "Staphylococcus aureus"
          ],
          [
           true,
           "Staphylococcus aureus"
          ],
          [
           true,
           "Staphylococcus aureus"
          ],
          [
           false,
           "Staphylococcus aureus"
          ],
          [
           true,
           "Staphylococcus aureus"
          ],
          [
           true,
           "Staphylococcus aureus"
          ],
          [
           true,
           "Staphylococcus aureus"
          ],
          [
           true,
           "Staphylococcus aureus"
          ],
          [
           true,
           "Staphylococcus aureus"
          ],
          [
           true,
           "Staphylococcus aureus"
          ],
          [
           true,
           "Staphylococcus aureus"
          ],
          [
           true,
           "Staphylococcus aureus"
          ],
          [
           true,
           "Staphylococcus aureus"
          ],
          [
           true,
           "Staphylococcus aureus"
          ],
          [
           true,
           "Staphylococcus aureus"
          ],
          [
           true,
           "Staphylococcus aureus"
          ],
          [
           true,
           "Staphylococcus aureus"
          ],
          [
           true,
           "Staphylococcus aureus"
          ],
          [
           true,
           "Staphylococcus aureus"
          ],
          [
           true,
           "Staphylococcus aureus"
          ],
          [
           true,
           "Staphylococcus aureus"
          ],
          [
           true,
           "Streptococcus pneumoniae"
          ],
          [
           true,
           "Streptococcus pneumoniae"
          ],
          [
           true,
           "Streptococcus pneumoniae"
          ],
          [
           false,
           "Streptococcus pneumoniae"
          ],
          [
           false,
           "Streptococcus salivarius"
          ],
          [
           true,
           "Staphylococcus aureus"
          ],
          [
           true,
           "Staphylococcus aureus"
          ],
          [
           true,
           "Staphylococcus aureus"
          ],
          [
           true,
           "Staphylococcus aureus"
          ],
          [
           false,
           "Enterococcus faecium"
          ],
          [
           false,
           "Enterococcus faecium"
          ],
          [
           false,
           "Enterococcus faecium"
          ],
          [
           false,
           "Enterococcus faecium"
          ],
          [
           true,
           "Enterococcus faecium"
          ],
          [
           false,
           "Enterococcus faecium"
          ],
          [
           false,
           "Enterococcus faecium"
          ],
          [
           true,
           "Enterococcus faecium"
          ],
          [
           true,
           "Enterococcus faecalis"
          ],
          [
           false,
           "Enterococcus faecium"
          ],
          [
           false,
           "Enterococcus faecium"
          ],
          [
           false,
           "Enterococcus faecium"
          ],
          [
           false,
           "Enterococcus faecium"
          ],
          [
           false,
           "Streptococcus mitis"
          ],
          [
           true,
           "Streptococcus sanguinis"
          ],
          [
           true,
           "Streptococcus salivarius"
          ],
          [
           true,
           "Enterococcus faecium"
          ],
          [
           false,
           "Enterococcus faecium"
          ],
          [
           false,
           "Enterococcus faecium"
          ],
          [
           false,
           "Enterococcus faecium"
          ],
          [
           false,
           "Enterococcus faecium"
          ],
          [
           false,
           "Enterococcus faecium"
          ],
          [
           false,
           "Enterococcus faecium"
          ],
          [
           true,
           "Enterococcus faecium"
          ],
          [
           false,
           "Enterococcus faecium"
          ],
          [
           false,
           "Enterococcus faecium"
          ],
          [
           false,
           "Enterococcus faecium"
          ],
          [
           false,
           "Enterococcus faecium"
          ],
          [
           false,
           "Enterococcus faecium"
          ],
          [
           false,
           "Enterococcus faecium"
          ],
          [
           false,
           "Enterococcus faecium"
          ],
          [
           false,
           "Enterococcus faecium"
          ],
          [
           false,
           "Enterococcus faecium"
          ],
          [
           false,
           "Enterococcus faecium"
          ],
          [
           false,
           "Enterococcus faecium"
          ],
          [
           true,
           "Streptococcus mitis"
          ],
          [
           true,
           "Streptococcus sanguinis"
          ],
          [
           true,
           "Streptococcus mitis"
          ],
          [
           true,
           "Streptococcus anginosus"
          ],
          [
           false,
           "Enterococcus faecium"
          ],
          [
           false,
           "Enterococcus faecium"
          ],
          [
           false,
           "Enterococcus faecium"
          ],
          [
           false,
           "Enterococcus faecium"
          ],
          [
           false,
           "Enterococcus faecium"
          ],
          [
           false,
           "Enterococcus faecium"
          ],
          [
           false,
           "Enterococcus faecium"
          ],
          [
           false,
           "Enterococcus faecium"
          ],
          [
           false,
           "Enterococcus faecium"
          ],
          [
           true,
           "Streptococcus sanguinis"
          ],
          [
           true,
           "Streptococcus mitis"
          ],
          [
           false,
           "Streptococcus sanguinis"
          ],
          [
           true,
           "Streptococcus sanguinis"
          ],
          [
           false,
           "Enterococcus faecium"
          ],
          [
           false,
           "Enterococcus faecium"
          ],
          [
           true,
           "Streptococcus salivarius"
          ],
          [
           true,
           "Streptococcus salivarius"
          ],
          [
           false,
           "Enterococcus faecalis"
          ],
          [
           true,
           "Staphylococcus aureus"
          ],
          [
           true,
           "Staphylococcus aureus"
          ],
          [
           true,
           "Streptococcus mitis"
          ],
          [
           true,
           "Streptococcus mitis"
          ],
          [
           true,
           "Streptococcus mitis"
          ],
          [
           true,
           "Streptococcus mitis"
          ],
          [
           true,
           "Streptococcus mitis"
          ],
          [
           true,
           "Streptococcus sanguinis"
          ],
          [
           true,
           "Streptococcus sanguinis"
          ],
          [
           true,
           "Streptococcus sanguinis"
          ],
          [
           true,
           "Streptococcus pneumoniae"
          ],
          [
           true,
           "Streptococcus salivarius"
          ],
          [
           true,
           "Streptococcus salivarius"
          ],
          [
           true,
           "Streptococcus salivarius"
          ],
          [
           true,
           "Enterococcus faecalis"
          ],
          [
           false,
           "Enterococcus faecium"
          ],
          [
           true,
           "Enterococcus faecium"
          ],
          [
           false,
           "Enterococcus faecium"
          ],
          [
           false,
           "Enterococcus faecium"
          ],
          [
           false,
           "Enterococcus faecium"
          ],
          [
           false,
           "Enterococcus faecium"
          ],
          [
           false,
           "Enterococcus faecium"
          ],
          [
           false,
           "Enterococcus faecium"
          ],
          [
           false,
           "Enterococcus faecium"
          ],
          [
           false,
           "Enterococcus faecalis"
          ],
          [
           false,
           "Enterococcus faecium"
          ],
          [
           false,
           "Enterococcus faecium"
          ],
          [
           false,
           "Enterococcus faecium"
          ],
          [
           false,
           "Enterococcus faecium"
          ],
          [
           false,
           "Enterococcus faecium"
          ],
          [
           false,
           "Enterococcus faecium"
          ],
          [
           false,
           "Enterococcus faecium"
          ],
          [
           false,
           "Enterococcus faecium"
          ],
          [
           false,
           "Enterococcus faecium"
          ],
          [
           false,
           "Enterococcus faecium"
          ],
          [
           false,
           "Enterococcus faecium"
          ],
          [
           false,
           "Enterococcus faecium"
          ],
          [
           false,
           "Enterococcus faecium"
          ],
          [
           false,
           "Enterococcus faecium"
          ],
          [
           false,
           "Enterococcus faecium"
          ],
          [
           false,
           "Enterococcus faecium"
          ],
          [
           false,
           "Enterococcus faecium"
          ],
          [
           false,
           "Enterococcus faecium"
          ],
          [
           false,
           "Enterococcus faecium"
          ],
          [
           false,
           "Enterococcus faecium"
          ],
          [
           false,
           "Enterococcus faecium"
          ],
          [
           false,
           "Enterococcus faecium"
          ],
          [
           false,
           "Enterococcus faecium"
          ],
          [
           false,
           "Enterococcus faecium"
          ],
          [
           false,
           "Enterococcus faecium"
          ],
          [
           false,
           "Enterococcus faecium"
          ],
          [
           false,
           "Enterococcus faecium"
          ],
          [
           false,
           "Enterococcus faecium"
          ],
          [
           false,
           "Enterococcus faecium"
          ],
          [
           false,
           "Enterococcus faecium"
          ],
          [
           false,
           "Enterococcus faecium"
          ],
          [
           false,
           "Enterococcus faecium"
          ],
          [
           true,
           "Enterococcus faecium"
          ],
          [
           false,
           "Enterococcus faecium"
          ],
          [
           false,
           "Enterococcus faecium"
          ],
          [
           false,
           "Enterococcus faecalis"
          ],
          [
           true,
           "Streptococcus mitis"
          ],
          [
           true,
           "Staphylococcus aureus"
          ],
          [
           true,
           "Staphylococcus aureus"
          ],
          [
           false,
           "Staphylococcus aureus"
          ],
          [
           false,
           "Staphylococcus aureus"
          ],
          [
           false,
           "Staphylococcus aureus"
          ],
          [
           false,
           "Staphylococcus aureus"
          ],
          [
           false,
           "Staphylococcus aureus"
          ],
          [
           false,
           "Staphylococcus aureus"
          ],
          [
           false,
           "Staphylococcus aureus"
          ],
          [
           false,
           "Staphylococcus aureus"
          ],
          [
           false,
           "Staphylococcus aureus"
          ],
          [
           false,
           "Staphylococcus aureus"
          ],
          [
           false,
           "Staphylococcus aureus"
          ],
          [
           false,
           "Staphylococcus aureus"
          ],
          [
           false,
           "Staphylococcus aureus"
          ],
          [
           false,
           "Staphylococcus aureus"
          ],
          [
           false,
           "Staphylococcus aureus"
          ],
          [
           false,
           "Staphylococcus aureus"
          ],
          [
           false,
           "Staphylococcus aureus"
          ],
          [
           false,
           "Staphylococcus aureus"
          ],
          [
           false,
           "Staphylococcus aureus"
          ],
          [
           false,
           "Staphylococcus aureus"
          ],
          [
           true,
           "Staphylococcus aureus"
          ],
          [
           true,
           "Staphylococcus aureus"
          ],
          [
           true,
           "Staphylococcus aureus"
          ],
          [
           false,
           "Staphylococcus aureus"
          ],
          [
           false,
           "Staphylococcus epidermidis"
          ],
          [
           false,
           "Staphylococcus epidermidis"
          ],
          [
           true,
           "Staphylococcus capitis"
          ],
          [
           false,
           "Staphylococcus capitis"
          ],
          [
           false,
           "Staphylococcus capitis"
          ],
          [
           false,
           "Staphylococcus epidermidis"
          ],
          [
           false,
           "Staphylococcus epidermidis"
          ],
          [
           true,
           "Staphylococcus epidermidis"
          ],
          [
           true,
           "Staphylococcus epidermidis"
          ],
          [
           true,
           "Staphylococcus epidermidis"
          ],
          [
           false,
           "Staphylococcus epidermidis"
          ],
          [
           false,
           "Staphylococcus epidermidis"
          ],
          [
           true,
           "Staphylococcus epidermidis"
          ],
          [
           true,
           "Staphylococcus epidermidis"
          ],
          [
           true,
           "Staphylococcus epidermidis"
          ],
          [
           false,
           "Staphylococcus epidermidis"
          ],
          [
           true,
           "Staphylococcus epidermidis"
          ],
          [
           true,
           "Staphylococcus epidermidis"
          ],
          [
           true,
           "Staphylococcus epidermidis"
          ],
          [
           false,
           "Staphylococcus epidermidis"
          ],
          [
           true,
           "Staphylococcus epidermidis"
          ],
          [
           false,
           "Staphylococcus epidermidis"
          ],
          [
           true,
           "Staphylococcus epidermidis"
          ],
          [
           false,
           "Staphylococcus epidermidis"
          ],
          [
           true,
           "Staphylococcus epidermidis"
          ],
          [
           false,
           "Staphylococcus aureus"
          ],
          [
           true,
           "Staphylococcus epidermidis"
          ],
          [
           false,
           "Staphylococcus epidermidis"
          ],
          [
           true,
           "Staphylococcus epidermidis"
          ],
          [
           false,
           "Staphylococcus epidermidis"
          ],
          [
           false,
           "Staphylococcus epidermidis"
          ],
          [
           true,
           "Staphylococcus epidermidis"
          ],
          [
           false,
           "Staphylococcus epidermidis"
          ],
          [
           true,
           "Staphylococcus epidermidis"
          ],
          [
           true,
           "Staphylococcus epidermidis"
          ],
          [
           true,
           "Staphylococcus epidermidis"
          ],
          [
           false,
           "Staphylococcus hominis"
          ],
          [
           false,
           "Staphylococcus hominis"
          ],
          [
           false,
           "Staphylococcus hominis"
          ],
          [
           false,
           "Staphylococcus hominis"
          ],
          [
           true,
           "Staphylococcus aureus"
          ],
          [
           false,
           "Staphylococcus aureus"
          ],
          [
           false,
           "Staphylococcus aureus"
          ],
          [
           false,
           "Staphylococcus aureus"
          ],
          [
           true,
           "Staphylococcus capitis"
          ],
          [
           true,
           "Staphylococcus capitis"
          ],
          [
           true,
           "Staphylococcus hominis"
          ],
          [
           false,
           "Staphylococcus hominis"
          ],
          [
           true,
           "Staphylococcus hominis"
          ],
          [
           false,
           "Staphylococcus hominis"
          ],
          [
           false,
           "Staphylococcus hominis"
          ],
          [
           false,
           "Staphylococcus hominis"
          ],
          [
           false,
           "Staphylococcus hominis"
          ],
          [
           false,
           "Staphylococcus hominis"
          ],
          [
           false,
           "Staphylococcus hominis"
          ],
          [
           false,
           "Staphylococcus hominis"
          ],
          [
           true,
           "Staphylococcus aureus"
          ],
          [
           false,
           "Staphylococcus aureus"
          ],
          [
           false,
           "Staphylococcus aureus"
          ],
          [
           false,
           "Staphylococcus aureus"
          ],
          [
           true,
           "Staphylococcus aureus"
          ],
          [
           true,
           "Staphylococcus aureus"
          ],
          [
           false,
           "Staphylococcus aureus"
          ],
          [
           false,
           "Staphylococcus aureus"
          ],
          [
           false,
           "Staphylococcus aureus"
          ],
          [
           false,
           "Staphylococcus aureus"
          ],
          [
           false,
           "Staphylococcus aureus"
          ],
          [
           false,
           "Staphylococcus aureus"
          ],
          [
           false,
           "Staphylococcus aureus"
          ],
          [
           true,
           "Staphylococcus aureus"
          ],
          [
           true,
           "Staphylococcus capitis"
          ],
          [
           false,
           "Staphylococcus epidermidis"
          ],
          [
           false,
           "Staphylococcus epidermidis"
          ],
          [
           false,
           "Staphylococcus epidermidis"
          ],
          [
           false,
           "Staphylococcus epidermidis"
          ],
          [
           false,
           "Staphylococcus epidermidis"
          ],
          [
           true,
           "Staphylococcus epidermidis"
          ],
          [
           false,
           "Staphylococcus aureus"
          ],
          [
           false,
           "Staphylococcus aureus"
          ],
          [
           false,
           "Staphylococcus aureus"
          ],
          [
           true,
           "Staphylococcus aureus"
          ],
          [
           false,
           "Staphylococcus aureus"
          ],
          [
           false,
           "Staphylococcus aureus"
          ],
          [
           false,
           "Staphylococcus aureus"
          ],
          [
           false,
           "Staphylococcus aureus"
          ],
          [
           false,
           "Staphylococcus aureus"
          ],
          [
           false,
           "Staphylococcus aureus"
          ],
          [
           false,
           "Staphylococcus aureus"
          ],
          [
           true,
           "Staphylococcus aureus"
          ],
          [
           true,
           "Staphylococcus aureus"
          ],
          [
           true,
           "Staphylococcus aureus"
          ],
          [
           false,
           "Staphylococcus aureus"
          ],
          [
           false,
           "Staphylococcus aureus"
          ],
          [
           false,
           "Staphylococcus aureus"
          ],
          [
           true,
           "Staphylococcus aureus"
          ],
          [
           true,
           "Staphylococcus aureus"
          ],
          [
           false,
           "Staphylococcus aureus"
          ],
          [
           false,
           "Staphylococcus aureus"
          ],
          [
           true,
           "Staphylococcus aureus"
          ],
          [
           true,
           "Staphylococcus aureus"
          ],
          [
           true,
           "Staphylococcus aureus"
          ],
          [
           true,
           "Staphylococcus aureus"
          ],
          [
           false,
           "Staphylococcus aureus"
          ],
          [
           true,
           "Staphylococcus aureus"
          ],
          [
           true,
           "Staphylococcus aureus"
          ],
          [
           true,
           "Staphylococcus aureus"
          ],
          [
           true,
           "Staphylococcus aureus"
          ],
          [
           true,
           "Staphylococcus aureus"
          ],
          [
           false,
           "Staphylococcus aureus"
          ],
          [
           false,
           "Staphylococcus aureus"
          ],
          [
           false,
           "Staphylococcus aureus"
          ],
          [
           true,
           "Staphylococcus aureus"
          ],
          [
           true,
           "Staphylococcus aureus"
          ],
          [
           true,
           "Staphylococcus aureus"
          ],
          [
           true,
           "Staphylococcus aureus"
          ],
          [
           true,
           "Staphylococcus aureus"
          ],
          [
           false,
           "Staphylococcus epidermidis"
          ],
          [
           false,
           "Staphylococcus epidermidis"
          ],
          [
           false,
           "Staphylococcus epidermidis"
          ],
          [
           false,
           "Staphylococcus epidermidis"
          ],
          [
           true,
           "Staphylococcus epidermidis"
          ],
          [
           false,
           "Staphylococcus aureus"
          ],
          [
           false,
           "Staphylococcus aureus"
          ],
          [
           false,
           "Staphylococcus aureus"
          ],
          [
           true,
           "Streptococcus agalactiae"
          ],
          [
           true,
           "Streptococcus agalactiae"
          ],
          [
           true,
           "Streptococcus pneumoniae"
          ],
          [
           true,
           "Staphylococcus aureus"
          ],
          [
           true,
           "Staphylococcus aureus"
          ],
          [
           true,
           "Staphylococcus aureus"
          ],
          [
           true,
           "Staphylococcus aureus"
          ],
          [
           true,
           "Staphylococcus aureus"
          ],
          [
           true,
           "Staphylococcus aureus"
          ],
          [
           true,
           "Staphylococcus aureus"
          ],
          [
           true,
           "Staphylococcus aureus"
          ],
          [
           true,
           "Staphylococcus aureus"
          ],
          [
           true,
           "Staphylococcus aureus"
          ],
          [
           true,
           "Staphylococcus aureus"
          ],
          [
           true,
           "Staphylococcus aureus"
          ],
          [
           true,
           "Staphylococcus aureus"
          ],
          [
           true,
           "Staphylococcus aureus"
          ],
          [
           true,
           "Staphylococcus aureus"
          ],
          [
           true,
           "Staphylococcus aureus"
          ],
          [
           true,
           "Staphylococcus aureus"
          ],
          [
           true,
           "Staphylococcus aureus"
          ],
          [
           true,
           "Staphylococcus aureus"
          ],
          [
           true,
           "Staphylococcus aureus"
          ],
          [
           false,
           "Enterococcus faecium"
          ],
          [
           true,
           "Enterococcus faecalis"
          ],
          [
           false,
           "Enterococcus faecium"
          ],
          [
           false,
           "Enterococcus faecalis"
          ],
          [
           false,
           "Enterococcus faecium"
          ],
          [
           false,
           "Enterococcus faecium"
          ],
          [
           true,
           "Staphylococcus aureus"
          ],
          [
           true,
           "Staphylococcus aureus"
          ],
          [
           false,
           "Enterococcus faecium"
          ],
          [
           false,
           "Enterococcus faecium"
          ],
          [
           true,
           "Staphylococcus epidermidis"
          ],
          [
           true,
           "Staphylococcus epidermidis"
          ],
          [
           false,
           "Enterococcus faecalis"
          ],
          [
           true,
           "Staphylococcus hominis"
          ],
          [
           false,
           "Streptococcus salivarius"
          ],
          [
           true,
           "Enterococcus faecium"
          ],
          [
           false,
           "Enterococcus faecium"
          ],
          [
           true,
           "Enterococcus faecium"
          ],
          [
           true,
           "Enterococcus faecium"
          ],
          [
           true,
           "Enterococcus faecium"
          ],
          [
           true,
           "Enterococcus faecium"
          ],
          [
           false,
           "Enterococcus faecium"
          ],
          [
           false,
           "Enterococcus faecium"
          ],
          [
           false,
           "Enterococcus faecium"
          ],
          [
           false,
           "Enterococcus faecium"
          ],
          [
           false,
           "Enterococcus faecium"
          ],
          [
           false,
           "Enterococcus faecium"
          ],
          [
           true,
           "Enterococcus faecium"
          ],
          [
           false,
           "Enterococcus faecium"
          ],
          [
           true,
           "Staphylococcus aureus"
          ],
          [
           true,
           "Staphylococcus aureus"
          ],
          [
           true,
           "Staphylococcus aureus"
          ],
          [
           true,
           "Staphylococcus aureus"
          ],
          [
           true,
           "Staphylococcus aureus"
          ],
          [
           true,
           "Staphylococcus aureus"
          ],
          [
           true,
           "Staphylococcus aureus"
          ],
          [
           true,
           "Staphylococcus aureus"
          ],
          [
           true,
           "Staphylococcus aureus"
          ],
          [
           true,
           "Staphylococcus aureus"
          ],
          [
           true,
           "Staphylococcus aureus"
          ],
          [
           true,
           "Staphylococcus aureus"
          ],
          [
           true,
           "Staphylococcus aureus"
          ],
          [
           false,
           "Enterococcus faecium"
          ],
          [
           false,
           "Enterococcus faecium"
          ],
          [
           true,
           "Staphylococcus epidermidis"
          ],
          [
           true,
           "Staphylococcus epidermidis"
          ],
          [
           false,
           "Streptococcus pneumoniae"
          ],
          [
           false,
           "Enterococcus faecalis"
          ],
          [
           false,
           "Enterococcus faecalis"
          ],
          [
           false,
           "Enterococcus faecalis"
          ],
          [
           false,
           "Enterococcus faecium"
          ],
          [
           false,
           "Enterococcus faecalis"
          ],
          [
           false,
           "Enterococcus faecium"
          ],
          [
           false,
           "Enterococcus faecalis"
          ],
          [
           true,
           "Enterococcus faecium"
          ],
          [
           false,
           "Enterococcus faecium"
          ],
          [
           false,
           "Enterococcus faecium"
          ],
          [
           true,
           "Staphylococcus aureus"
          ],
          [
           true,
           "Staphylococcus aureus"
          ],
          [
           false,
           "Enterococcus faecium"
          ],
          [
           false,
           "Enterococcus faecium"
          ],
          [
           true,
           "Enterococcus faecalis"
          ],
          [
           false,
           "Enterococcus faecium"
          ],
          [
           true,
           "Enterococcus faecium"
          ],
          [
           false,
           "Enterococcus faecalis"
          ],
          [
           false,
           "Streptococcus salivarius"
          ],
          [
           false,
           "Enterococcus faecium"
          ],
          [
           true,
           "Enterococcus faecium"
          ],
          [
           false,
           "Enterococcus faecium"
          ],
          [
           true,
           "Enterococcus faecium"
          ],
          [
           true,
           "Enterococcus faecium"
          ],
          [
           true,
           "Enterococcus faecium"
          ],
          [
           true,
           "Enterococcus faecium"
          ],
          [
           false,
           "Enterococcus faecium"
          ],
          [
           true,
           "Enterococcus faecium"
          ],
          [
           false,
           "Enterococcus faecium"
          ],
          [
           false,
           "Enterococcus faecium"
          ],
          [
           false,
           "Enterococcus faecium"
          ],
          [
           false,
           "Enterococcus faecium"
          ],
          [
           false,
           "Enterococcus faecium"
          ],
          [
           false,
           "Enterococcus faecium"
          ],
          [
           false,
           "Enterococcus faecium"
          ],
          [
           false,
           "Enterococcus faecium"
          ],
          [
           false,
           "Enterococcus faecium"
          ],
          [
           false,
           "Enterococcus faecium"
          ],
          [
           false,
           "Enterococcus faecium"
          ],
          [
           false,
           "Enterococcus faecium"
          ],
          [
           false,
           "Enterococcus faecium"
          ],
          [
           false,
           "Enterococcus faecium"
          ],
          [
           false,
           "Enterococcus faecium"
          ],
          [
           false,
           "Enterococcus faecium"
          ],
          [
           false,
           "Enterococcus faecium"
          ],
          [
           true,
           "Staphylococcus aureus"
          ],
          [
           true,
           "Staphylococcus aureus"
          ],
          [
           true,
           "Staphylococcus aureus"
          ],
          [
           true,
           "Staphylococcus aureus"
          ],
          [
           true,
           "Staphylococcus aureus"
          ],
          [
           true,
           "Staphylococcus aureus"
          ],
          [
           true,
           "Staphylococcus aureus"
          ],
          [
           true,
           "Staphylococcus aureus"
          ],
          [
           true,
           "Staphylococcus aureus"
          ],
          [
           true,
           "Staphylococcus aureus"
          ],
          [
           true,
           "Staphylococcus aureus"
          ],
          [
           true,
           "Staphylococcus aureus"
          ],
          [
           true,
           "Staphylococcus aureus"
          ],
          [
           true,
           "Staphylococcus aureus"
          ],
          [
           true,
           "Staphylococcus aureus"
          ],
          [
           true,
           "Staphylococcus aureus"
          ],
          [
           true,
           "Staphylococcus aureus"
          ],
          [
           false,
           "Enterococcus faecium"
          ],
          [
           false,
           "Enterococcus faecium"
          ],
          [
           false,
           "Streptococcus pneumoniae"
          ],
          [
           false,
           "Enterococcus faecalis"
          ],
          [
           false,
           "Staphylococcus aureus"
          ],
          [
           false,
           "Staphylococcus aureus"
          ],
          [
           false,
           "Staphylococcus aureus"
          ],
          [
           false,
           "Staphylococcus aureus"
          ],
          [
           false,
           "Staphylococcus aureus"
          ],
          [
           false,
           "Staphylococcus aureus"
          ],
          [
           false,
           "Staphylococcus aureus"
          ],
          [
           false,
           "Staphylococcus aureus"
          ],
          [
           false,
           "Staphylococcus aureus"
          ],
          [
           false,
           "Staphylococcus aureus"
          ],
          [
           false,
           "Staphylococcus aureus"
          ],
          [
           false,
           "Staphylococcus aureus"
          ],
          [
           false,
           "Staphylococcus aureus"
          ],
          [
           false,
           "Staphylococcus aureus"
          ],
          [
           true,
           "Staphylococcus aureus"
          ],
          [
           false,
           "Streptococcus agalactiae"
          ],
          [
           false,
           "Streptococcus agalactiae"
          ],
          [
           false,
           "Streptococcus agalactiae"
          ],
          [
           false,
           "Streptococcus agalactiae"
          ],
          [
           false,
           "Streptococcus agalactiae"
          ],
          [
           false,
           "Streptococcus agalactiae"
          ],
          [
           false,
           "Streptococcus agalactiae"
          ],
          [
           false,
           "Streptococcus agalactiae"
          ],
          [
           false,
           "Streptococcus agalactiae"
          ],
          [
           false,
           "Streptococcus agalactiae"
          ],
          [
           false,
           "Streptococcus agalactiae"
          ],
          [
           false,
           "Staphylococcus epidermidis"
          ],
          [
           false,
           "Staphylococcus epidermidis"
          ],
          [
           false,
           "Staphylococcus capitis"
          ],
          [
           false,
           "Staphylococcus capitis"
          ],
          [
           false,
           "Staphylococcus capitis"
          ],
          [
           false,
           "Staphylococcus capitis"
          ],
          [
           false,
           "Staphylococcus capitis"
          ],
          [
           false,
           "Staphylococcus capitis"
          ],
          [
           false,
           "Staphylococcus epidermidis"
          ],
          [
           false,
           "Staphylococcus epidermidis"
          ],
          [
           false,
           "Staphylococcus epidermidis"
          ],
          [
           false,
           "Staphylococcus epidermidis"
          ],
          [
           false,
           "Staphylococcus epidermidis"
          ],
          [
           false,
           "Streptococcus agalactiae"
          ],
          [
           false,
           "Streptococcus agalactiae"
          ],
          [
           false,
           "Streptococcus agalactiae"
          ],
          [
           false,
           "Streptococcus agalactiae"
          ],
          [
           false,
           "Staphylococcus epidermidis"
          ],
          [
           false,
           "Staphylococcus epidermidis"
          ],
          [
           false,
           "Staphylococcus epidermidis"
          ],
          [
           false,
           "Staphylococcus epidermidis"
          ],
          [
           true,
           "Staphylococcus epidermidis"
          ],
          [
           false,
           "Staphylococcus epidermidis"
          ],
          [
           false,
           "Staphylococcus epidermidis"
          ],
          [
           false,
           "Staphylococcus epidermidis"
          ],
          [
           false,
           "Staphylococcus epidermidis"
          ],
          [
           false,
           "Staphylococcus epidermidis"
          ],
          [
           false,
           "Staphylococcus epidermidis"
          ],
          [
           false,
           "Staphylococcus epidermidis"
          ],
          [
           false,
           "Staphylococcus epidermidis"
          ],
          [
           false,
           "Staphylococcus epidermidis"
          ],
          [
           false,
           "Staphylococcus epidermidis"
          ],
          [
           false,
           "Staphylococcus epidermidis"
          ],
          [
           false,
           "Staphylococcus epidermidis"
          ],
          [
           false,
           "Staphylococcus epidermidis"
          ],
          [
           false,
           "Staphylococcus epidermidis"
          ],
          [
           false,
           "Staphylococcus epidermidis"
          ],
          [
           false,
           "Staphylococcus epidermidis"
          ],
          [
           false,
           "Staphylococcus epidermidis"
          ],
          [
           false,
           "Staphylococcus aureus"
          ],
          [
           false,
           "Staphylococcus aureus"
          ],
          [
           false,
           "Staphylococcus epidermidis"
          ],
          [
           false,
           "Staphylococcus epidermidis"
          ],
          [
           false,
           "Staphylococcus epidermidis"
          ],
          [
           false,
           "Staphylococcus epidermidis"
          ],
          [
           false,
           "Staphylococcus epidermidis"
          ],
          [
           false,
           "Staphylococcus epidermidis"
          ],
          [
           false,
           "Staphylococcus epidermidis"
          ],
          [
           false,
           "Staphylococcus epidermidis"
          ],
          [
           false,
           "Staphylococcus epidermidis"
          ],
          [
           false,
           "Staphylococcus epidermidis"
          ],
          [
           false,
           "Staphylococcus hominis"
          ],
          [
           false,
           "Staphylococcus epidermidis"
          ],
          [
           false,
           "Staphylococcus hominis"
          ],
          [
           true,
           "Staphylococcus hominis"
          ],
          [
           false,
           "Staphylococcus hominis"
          ],
          [
           false,
           "Staphylococcus hominis"
          ],
          [
           false,
           "Staphylococcus hominis"
          ],
          [
           false,
           "Staphylococcus hominis"
          ],
          [
           false,
           "Staphylococcus hominis"
          ],
          [
           false,
           "Staphylococcus hominis"
          ],
          [
           false,
           "Staphylococcus hominis"
          ],
          [
           false,
           "Staphylococcus hominis"
          ],
          [
           false,
           "Streptococcus pneumoniae"
          ],
          [
           false,
           "Streptococcus pneumoniae"
          ],
          [
           false,
           "Streptococcus pneumoniae"
          ],
          [
           false,
           "Streptococcus pneumoniae"
          ],
          [
           true,
           "Streptococcus pneumoniae"
          ],
          [
           false,
           "Streptococcus pneumoniae"
          ],
          [
           false,
           "Streptococcus pneumoniae"
          ],
          [
           false,
           "Streptococcus pneumoniae"
          ],
          [
           false,
           "Streptococcus pyogenes"
          ],
          [
           false,
           "Streptococcus pyogenes"
          ],
          [
           false,
           "Streptococcus pyogenes"
          ],
          [
           false,
           "Streptococcus pneumoniae"
          ],
          [
           false,
           "Streptococcus pyogenes"
          ],
          [
           true,
           "Streptococcus pyogenes"
          ],
          [
           false,
           "Streptococcus pyogenes"
          ],
          [
           false,
           "Streptococcus pyogenes"
          ],
          [
           false,
           "Streptococcus pyogenes"
          ],
          [
           false,
           "Streptococcus pyogenes"
          ],
          [
           false,
           "Staphylococcus hominis"
          ],
          [
           false,
           "Staphylococcus hominis"
          ],
          [
           false,
           "Staphylococcus hominis"
          ],
          [
           true,
           "Staphylococcus hominis"
          ],
          [
           false,
           "Staphylococcus hominis"
          ],
          [
           false,
           "Staphylococcus hominis"
          ],
          [
           false,
           "Staphylococcus hominis"
          ],
          [
           false,
           "Staphylococcus aureus"
          ],
          [
           false,
           "Staphylococcus aureus"
          ],
          [
           false,
           "Staphylococcus aureus"
          ],
          [
           false,
           "Staphylococcus aureus"
          ],
          [
           false,
           "Staphylococcus aureus"
          ],
          [
           false,
           "Staphylococcus aureus"
          ],
          [
           false,
           "Staphylococcus aureus"
          ],
          [
           false,
           "Staphylococcus aureus"
          ],
          [
           false,
           "Staphylococcus aureus"
          ],
          [
           true,
           "Staphylococcus aureus"
          ],
          [
           false,
           "Staphylococcus aureus"
          ],
          [
           false,
           "Staphylococcus aureus"
          ],
          [
           false,
           "Staphylococcus aureus"
          ],
          [
           false,
           "Staphylococcus aureus"
          ],
          [
           false,
           "Staphylococcus aureus"
          ],
          [
           false,
           "Staphylococcus aureus"
          ],
          [
           false,
           "Staphylococcus aureus"
          ],
          [
           false,
           "Staphylococcus capitis"
          ],
          [
           true,
           "Streptococcus pneumoniae"
          ],
          [
           false,
           "Streptococcus agalactiae"
          ],
          [
           false,
           "Streptococcus pneumoniae"
          ],
          [
           false,
           "Staphylococcus hominis"
          ],
          [
           false,
           "Staphylococcus hominis"
          ],
          [
           false,
           "Staphylococcus hominis"
          ],
          [
           false,
           "Staphylococcus hominis"
          ],
          [
           false,
           "Staphylococcus hominis"
          ],
          [
           false,
           "Staphylococcus hominis"
          ],
          [
           false,
           "Streptococcus agalactiae"
          ],
          [
           false,
           "Staphylococcus hominis"
          ],
          [
           false,
           "Staphylococcus hominis"
          ],
          [
           false,
           "Staphylococcus hominis"
          ],
          [
           false,
           "Staphylococcus lugdunensis"
          ],
          [
           false,
           "Staphylococcus lugdunensis"
          ],
          [
           false,
           "Streptococcus agalactiae"
          ],
          [
           false,
           "Streptococcus agalactiae"
          ],
          [
           false,
           "Streptococcus agalactiae"
          ],
          [
           false,
           "Streptococcus agalactiae"
          ],
          [
           false,
           "Streptococcus agalactiae"
          ],
          [
           true,
           "Streptococcus agalactiae"
          ],
          [
           false,
           "Streptococcus agalactiae"
          ],
          [
           false,
           "Streptococcus agalactiae"
          ],
          [
           false,
           "Streptococcus pneumoniae"
          ],
          [
           false,
           "Streptococcus pneumoniae"
          ],
          [
           false,
           "Streptococcus pneumoniae"
          ],
          [
           false,
           "Streptococcus pneumoniae"
          ],
          [
           false,
           "Streptococcus pneumoniae"
          ],
          [
           false,
           "Streptococcus pneumoniae"
          ],
          [
           false,
           "Streptococcus pneumoniae"
          ],
          [
           false,
           "Streptococcus pneumoniae"
          ],
          [
           true,
           "Staphylococcus hominis"
          ],
          [
           true,
           "Staphylococcus hominis"
          ],
          [
           false,
           "Staphylococcus hominis"
          ],
          [
           false,
           "Staphylococcus hominis"
          ],
          [
           false,
           "Staphylococcus hominis"
          ],
          [
           false,
           "Streptococcus agalactiae"
          ],
          [
           false,
           "Streptococcus pneumoniae"
          ],
          [
           false,
           "Streptococcus pyogenes"
          ],
          [
           false,
           "Streptococcus pyogenes"
          ],
          [
           false,
           "Streptococcus pyogenes"
          ],
          [
           false,
           "Streptococcus pyogenes"
          ],
          [
           false,
           "Streptococcus pyogenes"
          ],
          [
           false,
           "Streptococcus pyogenes"
          ],
          [
           false,
           "Streptococcus pyogenes"
          ],
          [
           false,
           "Streptococcus pyogenes"
          ],
          [
           false,
           "Streptococcus pyogenes"
          ],
          [
           false,
           "Streptococcus pyogenes"
          ],
          [
           false,
           "Streptococcus pyogenes"
          ],
          [
           false,
           "Streptococcus pyogenes"
          ],
          [
           false,
           "Staphylococcus aureus"
          ],
          [
           false,
           "Staphylococcus aureus"
          ],
          [
           false,
           "Staphylococcus aureus"
          ],
          [
           false,
           "Staphylococcus aureus"
          ],
          [
           false,
           "Staphylococcus aureus"
          ],
          [
           false,
           "Staphylococcus aureus"
          ],
          [
           false,
           "Staphylococcus aureus"
          ],
          [
           false,
           "Staphylococcus aureus"
          ],
          [
           false,
           "Staphylococcus aureus"
          ],
          [
           false,
           "Staphylococcus aureus"
          ],
          [
           false,
           "Staphylococcus aureus"
          ],
          [
           false,
           "Staphylococcus aureus"
          ],
          [
           false,
           "Staphylococcus aureus"
          ],
          [
           false,
           "Staphylococcus aureus"
          ],
          [
           false,
           "Staphylococcus aureus"
          ],
          [
           false,
           "Staphylococcus aureus"
          ],
          [
           false,
           "Staphylococcus aureus"
          ],
          [
           false,
           "Staphylococcus aureus"
          ],
          [
           false,
           "Staphylococcus capitis"
          ],
          [
           false,
           "Staphylococcus lugdunensis"
          ],
          [
           false,
           "Staphylococcus lugdunensis"
          ],
          [
           false,
           "Staphylococcus lugdunensis"
          ],
          [
           false,
           "Staphylococcus lugdunensis"
          ],
          [
           false,
           "Staphylococcus lugdunensis"
          ],
          [
           false,
           "Staphylococcus lugdunensis"
          ],
          [
           false,
           "Staphylococcus epidermidis"
          ],
          [
           false,
           "Staphylococcus epidermidis"
          ],
          [
           false,
           "Staphylococcus epidermidis"
          ],
          [
           false,
           "Staphylococcus epidermidis"
          ],
          [
           false,
           "Staphylococcus epidermidis"
          ],
          [
           false,
           "Staphylococcus epidermidis"
          ],
          [
           false,
           "Staphylococcus epidermidis"
          ],
          [
           false,
           "Staphylococcus lugdunensis"
          ],
          [
           false,
           "Staphylococcus aureus"
          ],
          [
           false,
           "Staphylococcus aureus"
          ],
          [
           false,
           "Staphylococcus aureus"
          ],
          [
           false,
           "Staphylococcus aureus"
          ],
          [
           false,
           "Staphylococcus aureus"
          ],
          [
           false,
           "Staphylococcus aureus"
          ],
          [
           false,
           "Staphylococcus aureus"
          ],
          [
           false,
           "Staphylococcus aureus"
          ],
          [
           false,
           "Staphylococcus aureus"
          ],
          [
           false,
           "Staphylococcus aureus"
          ],
          [
           true,
           "Staphylococcus aureus"
          ],
          [
           false,
           "Staphylococcus aureus"
          ],
          [
           true,
           "Staphylococcus aureus"
          ],
          [
           true,
           "Staphylococcus aureus"
          ],
          [
           false,
           "Staphylococcus aureus"
          ],
          [
           false,
           "Staphylococcus aureus"
          ],
          [
           false,
           "Staphylococcus aureus"
          ],
          [
           false,
           "Staphylococcus aureus"
          ],
          [
           false,
           "Staphylococcus aureus"
          ],
          [
           false,
           "Staphylococcus aureus"
          ],
          [
           false,
           "Staphylococcus aureus"
          ],
          [
           false,
           "Staphylococcus aureus"
          ],
          [
           false,
           "Staphylococcus aureus"
          ],
          [
           false,
           "Staphylococcus aureus"
          ],
          [
           false,
           "Staphylococcus aureus"
          ],
          [
           false,
           "Staphylococcus aureus"
          ],
          [
           true,
           "Staphylococcus aureus"
          ],
          [
           true,
           "Staphylococcus aureus"
          ],
          [
           false,
           "Staphylococcus aureus"
          ],
          [
           false,
           "Staphylococcus aureus"
          ],
          [
           false,
           "Staphylococcus aureus"
          ],
          [
           false,
           "Staphylococcus aureus"
          ],
          [
           false,
           "Staphylococcus aureus"
          ],
          [
           false,
           "Staphylococcus aureus"
          ],
          [
           false,
           "Staphylococcus aureus"
          ],
          [
           true,
           "Staphylococcus aureus"
          ],
          [
           false,
           "Staphylococcus aureus"
          ],
          [
           true,
           "Staphylococcus epidermidis"
          ],
          [
           true,
           "Staphylococcus epidermidis"
          ],
          [
           true,
           "Staphylococcus epidermidis"
          ],
          [
           false,
           "Staphylococcus epidermidis"
          ],
          [
           false,
           "Staphylococcus epidermidis"
          ],
          [
           false,
           "Streptococcus pneumoniae"
          ],
          [
           false,
           "Streptococcus pneumoniae"
          ],
          [
           false,
           "Streptococcus pneumoniae"
          ],
          [
           false,
           "Streptococcus pneumoniae"
          ],
          [
           false,
           "Streptococcus pneumoniae"
          ],
          [
           false,
           "Streptococcus pneumoniae"
          ],
          [
           false,
           "Streptococcus pneumoniae"
          ],
          [
           false,
           "Staphylococcus aureus"
          ],
          [
           false,
           "Staphylococcus aureus"
          ],
          [
           false,
           "Staphylococcus aureus"
          ],
          [
           false,
           "Staphylococcus aureus"
          ],
          [
           false,
           "Staphylococcus aureus"
          ],
          [
           false,
           "Staphylococcus aureus"
          ],
          [
           false,
           "Staphylococcus aureus"
          ],
          [
           false,
           "Staphylococcus aureus"
          ],
          [
           false,
           "Staphylococcus aureus"
          ],
          [
           false,
           "Staphylococcus aureus"
          ],
          [
           false,
           "Staphylococcus aureus"
          ],
          [
           false,
           "Staphylococcus aureus"
          ],
          [
           false,
           "Staphylococcus aureus"
          ],
          [
           false,
           "Staphylococcus aureus"
          ],
          [
           false,
           "Staphylococcus aureus"
          ],
          [
           false,
           "Streptococcus agalactiae"
          ],
          [
           false,
           "Streptococcus agalactiae"
          ],
          [
           false,
           "Streptococcus agalactiae"
          ],
          [
           false,
           "Streptococcus agalactiae"
          ],
          [
           false,
           "Streptococcus agalactiae"
          ],
          [
           false,
           "Streptococcus agalactiae"
          ],
          [
           false,
           "Streptococcus agalactiae"
          ],
          [
           false,
           "Streptococcus agalactiae"
          ],
          [
           false,
           "Streptococcus agalactiae"
          ],
          [
           false,
           "Staphylococcus epidermidis"
          ],
          [
           false,
           "Staphylococcus epidermidis"
          ],
          [
           false,
           "Staphylococcus capitis"
          ],
          [
           false,
           "Staphylococcus capitis"
          ],
          [
           false,
           "Staphylococcus capitis"
          ],
          [
           false,
           "Staphylococcus capitis"
          ],
          [
           false,
           "Staphylococcus capitis"
          ],
          [
           false,
           "Staphylococcus capitis"
          ],
          [
           false,
           "Staphylococcus epidermidis"
          ],
          [
           false,
           "Staphylococcus epidermidis"
          ],
          [
           true,
           "Staphylococcus epidermidis"
          ],
          [
           false,
           "Streptococcus agalactiae"
          ],
          [
           false,
           "Streptococcus agalactiae"
          ],
          [
           false,
           "Streptococcus agalactiae"
          ],
          [
           false,
           "Staphylococcus epidermidis"
          ],
          [
           false,
           "Staphylococcus epidermidis"
          ],
          [
           false,
           "Staphylococcus epidermidis"
          ],
          [
           true,
           "Staphylococcus epidermidis"
          ],
          [
           false,
           "Staphylococcus epidermidis"
          ],
          [
           false,
           "Staphylococcus epidermidis"
          ],
          [
           false,
           "Staphylococcus epidermidis"
          ],
          [
           false,
           "Staphylococcus epidermidis"
          ],
          [
           false,
           "Staphylococcus epidermidis"
          ],
          [
           false,
           "Staphylococcus epidermidis"
          ],
          [
           false,
           "Staphylococcus epidermidis"
          ],
          [
           false,
           "Staphylococcus epidermidis"
          ],
          [
           false,
           "Staphylococcus epidermidis"
          ],
          [
           false,
           "Staphylococcus epidermidis"
          ],
          [
           false,
           "Staphylococcus epidermidis"
          ],
          [
           false,
           "Staphylococcus epidermidis"
          ],
          [
           false,
           "Staphylococcus epidermidis"
          ],
          [
           false,
           "Staphylococcus epidermidis"
          ],
          [
           false,
           "Staphylococcus epidermidis"
          ],
          [
           false,
           "Staphylococcus epidermidis"
          ],
          [
           false,
           "Staphylococcus epidermidis"
          ],
          [
           false,
           "Staphylococcus epidermidis"
          ],
          [
           false,
           "Staphylococcus epidermidis"
          ],
          [
           false,
           "Staphylococcus hominis"
          ],
          [
           false,
           "Staphylococcus epidermidis"
          ],
          [
           false,
           "Staphylococcus hominis"
          ],
          [
           false,
           "Streptococcus pneumoniae"
          ],
          [
           false,
           "Streptococcus pneumoniae"
          ],
          [
           false,
           "Streptococcus pneumoniae"
          ],
          [
           false,
           "Streptococcus pneumoniae"
          ],
          [
           false,
           "Streptococcus pyogenes"
          ],
          [
           false,
           "Streptococcus pneumoniae"
          ],
          [
           false,
           "Streptococcus pyogenes"
          ],
          [
           false,
           "Streptococcus pyogenes"
          ],
          [
           false,
           "Streptococcus pyogenes"
          ],
          [
           false,
           "Staphylococcus hominis"
          ],
          [
           false,
           "Staphylococcus aureus"
          ],
          [
           false,
           "Staphylococcus aureus"
          ],
          [
           false,
           "Staphylococcus aureus"
          ],
          [
           false,
           "Staphylococcus aureus"
          ],
          [
           false,
           "Staphylococcus capitis"
          ],
          [
           false,
           "Streptococcus pneumoniae"
          ],
          [
           false,
           "Streptococcus agalactiae"
          ],
          [
           false,
           "Staphylococcus hominis"
          ],
          [
           false,
           "Staphylococcus hominis"
          ],
          [
           false,
           "Staphylococcus hominis"
          ],
          [
           false,
           "Staphylococcus hominis"
          ],
          [
           false,
           "Streptococcus agalactiae"
          ],
          [
           true,
           "Staphylococcus hominis"
          ],
          [
           true,
           "Staphylococcus hominis"
          ],
          [
           true,
           "Staphylococcus hominis"
          ],
          [
           true,
           "Staphylococcus hominis"
          ],
          [
           false,
           "Staphylococcus lugdunensis"
          ],
          [
           false,
           "Streptococcus agalactiae"
          ],
          [
           false,
           "Streptococcus agalactiae"
          ],
          [
           false,
           "Streptococcus agalactiae"
          ],
          [
           false,
           "Streptococcus agalactiae"
          ],
          [
           false,
           "Streptococcus agalactiae"
          ],
          [
           false,
           "Streptococcus agalactiae"
          ],
          [
           false,
           "Streptococcus pneumoniae"
          ],
          [
           false,
           "Streptococcus pneumoniae"
          ],
          [
           false,
           "Streptococcus pneumoniae"
          ],
          [
           false,
           "Streptococcus pneumoniae"
          ],
          [
           false,
           "Streptococcus pneumoniae"
          ],
          [
           false,
           "Streptococcus pneumoniae"
          ],
          [
           false,
           "Streptococcus pneumoniae"
          ],
          [
           false,
           "Streptococcus pneumoniae"
          ],
          [
           false,
           "Staphylococcus hominis"
          ],
          [
           false,
           "Streptococcus pneumoniae"
          ],
          [
           false,
           "Streptococcus pyogenes"
          ],
          [
           false,
           "Streptococcus pyogenes"
          ],
          [
           false,
           "Streptococcus pyogenes"
          ],
          [
           false,
           "Streptococcus pyogenes"
          ],
          [
           false,
           "Staphylococcus aureus"
          ],
          [
           false,
           "Staphylococcus aureus"
          ],
          [
           false,
           "Staphylococcus aureus"
          ],
          [
           false,
           "Staphylococcus aureus"
          ],
          [
           false,
           "Staphylococcus aureus"
          ],
          [
           false,
           "Staphylococcus aureus"
          ],
          [
           false,
           "Staphylococcus capitis"
          ],
          [
           false,
           "Staphylococcus lugdunensis"
          ],
          [
           false,
           "Staphylococcus lugdunensis"
          ],
          [
           false,
           "Staphylococcus lugdunensis"
          ],
          [
           false,
           "Staphylococcus lugdunensis"
          ],
          [
           false,
           "Staphylococcus epidermidis"
          ],
          [
           false,
           "Staphylococcus epidermidis"
          ],
          [
           false,
           "Staphylococcus epidermidis"
          ],
          [
           false,
           "Staphylococcus epidermidis"
          ],
          [
           false,
           "Staphylococcus epidermidis"
          ],
          [
           false,
           "Staphylococcus epidermidis"
          ],
          [
           true,
           "Staphylococcus epidermidis"
          ],
          [
           false,
           "Staphylococcus lugdunensis"
          ],
          [
           false,
           "Staphylococcus aureus"
          ],
          [
           false,
           "Staphylococcus aureus"
          ],
          [
           false,
           "Staphylococcus aureus"
          ],
          [
           false,
           "Staphylococcus aureus"
          ],
          [
           false,
           "Staphylococcus aureus"
          ],
          [
           false,
           "Staphylococcus aureus"
          ],
          [
           false,
           "Staphylococcus aureus"
          ],
          [
           false,
           "Staphylococcus aureus"
          ],
          [
           false,
           "Staphylococcus aureus"
          ],
          [
           false,
           "Staphylococcus aureus"
          ],
          [
           false,
           "Staphylococcus aureus"
          ],
          [
           false,
           "Staphylococcus aureus"
          ],
          [
           false,
           "Staphylococcus aureus"
          ],
          [
           false,
           "Staphylococcus aureus"
          ],
          [
           false,
           "Staphylococcus aureus"
          ],
          [
           true,
           "Staphylococcus aureus"
          ],
          [
           false,
           "Staphylococcus aureus"
          ],
          [
           false,
           "Staphylococcus aureus"
          ],
          [
           false,
           "Staphylococcus aureus"
          ],
          [
           true,
           "Staphylococcus aureus"
          ],
          [
           true,
           "Staphylococcus aureus"
          ],
          [
           true,
           "Staphylococcus epidermidis"
          ],
          [
           true,
           "Staphylococcus epidermidis"
          ],
          [
           true,
           "Staphylococcus epidermidis"
          ],
          [
           false,
           "Streptococcus pneumoniae"
          ],
          [
           false,
           "Streptococcus pneumoniae"
          ],
          [
           false,
           "Streptococcus pneumoniae"
          ],
          [
           false,
           "Streptococcus pneumoniae"
          ],
          [
           false,
           "Streptococcus pneumoniae"
          ],
          [
           false,
           "Staphylococcus aureus"
          ],
          [
           false,
           "Staphylococcus aureus"
          ],
          [
           true,
           "Staphylococcus aureus"
          ],
          [
           false,
           "Staphylococcus aureus"
          ],
          [
           true,
           "Staphylococcus aureus"
          ],
          [
           true,
           "Staphylococcus aureus"
          ],
          [
           true,
           "Staphylococcus aureus"
          ],
          [
           true,
           "Staphylococcus aureus"
          ],
          [
           false,
           "Staphylococcus aureus"
          ],
          [
           true,
           "Staphylococcus capitis"
          ],
          [
           true,
           "Staphylococcus capitis"
          ],
          [
           true,
           "Staphylococcus epidermidis"
          ],
          [
           false,
           "Staphylococcus epidermidis"
          ],
          [
           true,
           "Staphylococcus epidermidis"
          ],
          [
           false,
           "Staphylococcus epidermidis"
          ],
          [
           false,
           "Staphylococcus epidermidis"
          ],
          [
           false,
           "Staphylococcus epidermidis"
          ],
          [
           true,
           "Staphylococcus epidermidis"
          ],
          [
           true,
           "Staphylococcus epidermidis"
          ],
          [
           false,
           "Staphylococcus epidermidis"
          ],
          [
           true,
           "Staphylococcus epidermidis"
          ],
          [
           true,
           "Staphylococcus epidermidis"
          ],
          [
           true,
           "Staphylococcus hominis"
          ],
          [
           false,
           "Staphylococcus hominis"
          ],
          [
           false,
           "Staphylococcus hominis"
          ],
          [
           true,
           "Staphylococcus hominis"
          ],
          [
           true,
           "Staphylococcus hominis"
          ],
          [
           true,
           "Staphylococcus hominis"
          ],
          [
           false,
           "Streptococcus pneumoniae"
          ],
          [
           false,
           "Streptococcus pneumoniae"
          ],
          [
           false,
           "Streptococcus pneumoniae"
          ],
          [
           true,
           "Streptococcus pneumoniae"
          ],
          [
           false,
           "Streptococcus pneumoniae"
          ],
          [
           false,
           "Streptococcus pneumoniae"
          ],
          [
           false,
           "Streptococcus pneumoniae"
          ],
          [
           true,
           "Streptococcus pneumoniae"
          ],
          [
           false,
           "Streptococcus pneumoniae"
          ],
          [
           true,
           "Staphylococcus hominis"
          ],
          [
           false,
           "Staphylococcus hominis"
          ],
          [
           true,
           "Staphylococcus hominis"
          ],
          [
           true,
           "Staphylococcus hominis"
          ],
          [
           true,
           "Staphylococcus aureus"
          ],
          [
           true,
           "Staphylococcus aureus"
          ],
          [
           true,
           "Staphylococcus aureus"
          ],
          [
           false,
           "Staphylococcus aureus"
          ],
          [
           false,
           "Streptococcus pneumoniae"
          ],
          [
           false,
           "Streptococcus pneumoniae"
          ],
          [
           true,
           "Staphylococcus hominis"
          ],
          [
           true,
           "Staphylococcus lugdunensis"
          ],
          [
           true,
           "Staphylococcus lugdunensis"
          ],
          [
           false,
           "Streptococcus pneumoniae"
          ],
          [
           false,
           "Streptococcus pneumoniae"
          ],
          [
           false,
           "Streptococcus pneumoniae"
          ],
          [
           false,
           "Streptococcus pneumoniae"
          ],
          [
           false,
           "Streptococcus pneumoniae"
          ],
          [
           false,
           "Streptococcus pneumoniae"
          ],
          [
           false,
           "Streptococcus pneumoniae"
          ],
          [
           false,
           "Streptococcus pneumoniae"
          ],
          [
           false,
           "Staphylococcus hominis"
          ],
          [
           true,
           "Staphylococcus hominis"
          ],
          [
           false,
           "Staphylococcus hominis"
          ],
          [
           false,
           "Streptococcus pneumoniae"
          ],
          [
           true,
           "Staphylococcus aureus"
          ],
          [
           true,
           "Staphylococcus aureus"
          ],
          [
           false,
           "Staphylococcus aureus"
          ],
          [
           false,
           "Staphylococcus aureus"
          ],
          [
           true,
           "Staphylococcus aureus"
          ],
          [
           false,
           "Staphylococcus epidermidis"
          ],
          [
           false,
           "Staphylococcus epidermidis"
          ],
          [
           false,
           "Staphylococcus epidermidis"
          ],
          [
           true,
           "Staphylococcus epidermidis"
          ],
          [
           true,
           "Staphylococcus aureus"
          ],
          [
           true,
           "Staphylococcus aureus"
          ],
          [
           true,
           "Staphylococcus aureus"
          ],
          [
           true,
           "Staphylococcus aureus"
          ],
          [
           true,
           "Staphylococcus aureus"
          ],
          [
           true,
           "Staphylococcus aureus"
          ],
          [
           true,
           "Staphylococcus aureus"
          ],
          [
           true,
           "Staphylococcus aureus"
          ],
          [
           true,
           "Staphylococcus aureus"
          ],
          [
           false,
           "Streptococcus pneumoniae"
          ],
          [
           false,
           "Streptococcus pneumoniae"
          ],
          [
           false,
           "Streptococcus pneumoniae"
          ],
          [
           true,
           "Staphylococcus aureus"
          ],
          [
           true,
           "Staphylococcus lugdunensis"
          ],
          [
           true,
           "Staphylococcus aureus"
          ],
          [
           true,
           "Staphylococcus aureus"
          ],
          [
           false,
           "Staphylococcus aureus"
          ],
          [
           true,
           "Staphylococcus aureus"
          ],
          [
           true,
           "Enterococcus faecium"
          ],
          [
           true,
           "Staphylococcus hominis"
          ],
          [
           true,
           "Staphylococcus hominis"
          ],
          [
           true,
           "Staphylococcus hominis"
          ],
          [
           true,
           "Staphylococcus hominis"
          ],
          [
           true,
           "Staphylococcus aureus"
          ],
          [
           true,
           "Staphylococcus aureus"
          ],
          [
           true,
           "Staphylococcus aureus"
          ],
          [
           true,
           "Staphylococcus aureus"
          ],
          [
           true,
           "Staphylococcus aureus"
          ],
          [
           true,
           "Staphylococcus aureus"
          ],
          [
           true,
           "Staphylococcus aureus"
          ],
          [
           true,
           "Staphylococcus aureus"
          ],
          [
           true,
           "Staphylococcus aureus"
          ],
          [
           false,
           "Staphylococcus aureus"
          ],
          [
           true,
           "Staphylococcus aureus"
          ],
          [
           true,
           "Staphylococcus aureus"
          ],
          [
           false,
           "Staphylococcus aureus"
          ],
          [
           true,
           "Staphylococcus aureus"
          ],
          [
           true,
           "Staphylococcus aureus"
          ],
          [
           false,
           "Staphylococcus aureus"
          ],
          [
           true,
           "Staphylococcus aureus"
          ],
          [
           true,
           "Staphylococcus epidermidis"
          ],
          [
           false,
           "Staphylococcus epidermidis"
          ],
          [
           false,
           "Staphylococcus epidermidis"
          ],
          [
           false,
           "Staphylococcus epidermidis"
          ],
          [
           true,
           "Staphylococcus epidermidis"
          ],
          [
           false,
           "Streptococcus pneumoniae"
          ],
          [
           true,
           "Staphylococcus aureus"
          ],
          [
           true,
           "Staphylococcus aureus"
          ],
          [
           true,
           "Staphylococcus aureus"
          ],
          [
           true,
           "Staphylococcus aureus"
          ],
          [
           true,
           "Staphylococcus aureus"
          ],
          [
           true,
           "Staphylococcus aureus"
          ],
          [
           true,
           "Staphylococcus aureus"
          ],
          [
           true,
           "Staphylococcus aureus"
          ],
          [
           true,
           "Staphylococcus aureus"
          ],
          [
           true,
           "Staphylococcus aureus"
          ],
          [
           true,
           "Staphylococcus aureus"
          ],
          [
           false,
           "Staphylococcus aureus"
          ],
          [
           false,
           "Staphylococcus aureus"
          ],
          [
           false,
           "Staphylococcus aureus"
          ],
          [
           true,
           "Staphylococcus aureus"
          ],
          [
           false,
           "Staphylococcus aureus"
          ],
          [
           false,
           "Staphylococcus aureus"
          ],
          [
           false,
           "Staphylococcus capitis"
          ],
          [
           false,
           "Staphylococcus epidermidis"
          ],
          [
           false,
           "Staphylococcus epidermidis"
          ],
          [
           false,
           "Staphylococcus epidermidis"
          ],
          [
           false,
           "Staphylococcus epidermidis"
          ],
          [
           false,
           "Staphylococcus epidermidis"
          ],
          [
           false,
           "Staphylococcus epidermidis"
          ],
          [
           false,
           "Staphylococcus epidermidis"
          ],
          [
           true,
           "Staphylococcus aureus"
          ],
          [
           true,
           "Staphylococcus capitis"
          ],
          [
           true,
           "Staphylococcus capitis"
          ],
          [
           true,
           "Staphylococcus hominis"
          ],
          [
           true,
           "Staphylococcus lugdunensis"
          ],
          [
           true,
           "Staphylococcus hominis"
          ],
          [
           true,
           "Staphylococcus aureus"
          ],
          [
           true,
           "Staphylococcus capitis"
          ],
          [
           false,
           "Staphylococcus epidermidis"
          ],
          [
           false,
           "Staphylococcus epidermidis"
          ],
          [
           false,
           "Staphylococcus epidermidis"
          ],
          [
           false,
           "Staphylococcus aureus"
          ],
          [
           true,
           "Staphylococcus aureus"
          ],
          [
           true,
           "Staphylococcus aureus"
          ],
          [
           false,
           "Staphylococcus aureus"
          ],
          [
           false,
           "Staphylococcus aureus"
          ],
          [
           false,
           "Staphylococcus aureus"
          ],
          [
           false,
           "Staphylococcus aureus"
          ],
          [
           false,
           "Staphylococcus aureus"
          ],
          [
           false,
           "Staphylococcus aureus"
          ],
          [
           false,
           "Staphylococcus aureus"
          ],
          [
           false,
           "Staphylococcus aureus"
          ],
          [
           true,
           "Staphylococcus aureus"
          ],
          [
           true,
           "Staphylococcus aureus"
          ],
          [
           true,
           "Staphylococcus aureus"
          ],
          [
           true,
           "Staphylococcus aureus"
          ],
          [
           false,
           "Staphylococcus epidermidis"
          ],
          [
           false,
           "Staphylococcus epidermidis"
          ],
          [
           false,
           "Staphylococcus epidermidis"
          ],
          [
           true,
           "Staphylococcus epidermidis"
          ],
          [
           true,
           "Staphylococcus epidermidis"
          ],
          [
           true,
           "Staphylococcus epidermidis"
          ],
          [
           true,
           "Staphylococcus epidermidis"
          ],
          [
           true,
           "Staphylococcus epidermidis"
          ],
          [
           true,
           "Staphylococcus epidermidis"
          ],
          [
           true,
           "Staphylococcus epidermidis"
          ],
          [
           true,
           "Staphylococcus hominis"
          ],
          [
           true,
           "Streptococcus pneumoniae"
          ],
          [
           true,
           "Streptococcus pneumoniae"
          ],
          [
           true,
           "Streptococcus pneumoniae"
          ],
          [
           true,
           "Streptococcus pneumoniae"
          ],
          [
           true,
           "Streptococcus pneumoniae"
          ],
          [
           false,
           "Streptococcus pyogenes"
          ],
          [
           true,
           "Streptococcus pneumoniae"
          ],
          [
           true,
           "Staphylococcus hominis"
          ],
          [
           true,
           "Staphylococcus aureus"
          ],
          [
           true,
           "Streptococcus pneumoniae"
          ],
          [
           true,
           "Streptococcus pneumoniae"
          ],
          [
           true,
           "Staphylococcus hominis"
          ],
          [
           true,
           "Staphylococcus hominis"
          ],
          [
           true,
           "Staphylococcus hominis"
          ],
          [
           true,
           "Staphylococcus hominis"
          ],
          [
           true,
           "Streptococcus pneumoniae"
          ],
          [
           true,
           "Staphylococcus hominis"
          ],
          [
           true,
           "Staphylococcus hominis"
          ],
          [
           false,
           "Streptococcus pyogenes"
          ],
          [
           true,
           "Staphylococcus aureus"
          ],
          [
           false,
           "Staphylococcus aureus"
          ],
          [
           true,
           "Staphylococcus aureus"
          ],
          [
           true,
           "Staphylococcus aureus"
          ],
          [
           false,
           "Staphylococcus epidermidis"
          ],
          [
           true,
           "Staphylococcus epidermidis"
          ],
          [
           false,
           "Staphylococcus epidermidis"
          ],
          [
           true,
           "Streptococcus pneumoniae"
          ],
          [
           true,
           "Streptococcus pneumoniae"
          ],
          [
           true,
           "Streptococcus pneumoniae"
          ],
          [
           true,
           "Streptococcus pneumoniae"
          ],
          [
           true,
           "Streptococcus pneumoniae"
          ],
          [
           false,
           "Staphylococcus aureus"
          ],
          [
           false,
           "Staphylococcus aureus"
          ],
          [
           false,
           "Staphylococcus aureus"
          ],
          [
           false,
           "Staphylococcus aureus"
          ],
          [
           false,
           "Staphylococcus aureus"
          ],
          [
           false,
           "Staphylococcus aureus"
          ],
          [
           false,
           "Staphylococcus aureus"
          ],
          [
           false,
           "Staphylococcus aureus"
          ],
          [
           false,
           "Staphylococcus aureus"
          ],
          [
           false,
           "Staphylococcus aureus"
          ],
          [
           false,
           "Staphylococcus aureus"
          ],
          [
           false,
           "Staphylococcus aureus"
          ],
          [
           false,
           "Staphylococcus aureus"
          ],
          [
           false,
           "Staphylococcus aureus"
          ],
          [
           false,
           "Staphylococcus aureus"
          ],
          [
           false,
           "Staphylococcus aureus"
          ],
          [
           false,
           "Staphylococcus aureus"
          ],
          [
           false,
           "Staphylococcus aureus"
          ],
          [
           false,
           "Staphylococcus aureus"
          ],
          [
           false,
           "Staphylococcus aureus"
          ],
          [
           false,
           "Staphylococcus aureus"
          ],
          [
           false,
           "Staphylococcus aureus"
          ],
          [
           false,
           "Staphylococcus aureus"
          ],
          [
           false,
           "Staphylococcus aureus"
          ],
          [
           false,
           "Streptococcus agalactiae"
          ],
          [
           false,
           "Streptococcus agalactiae"
          ],
          [
           false,
           "Streptococcus agalactiae"
          ],
          [
           false,
           "Streptococcus agalactiae"
          ],
          [
           false,
           "Streptococcus agalactiae"
          ],
          [
           false,
           "Streptococcus agalactiae"
          ],
          [
           false,
           "Streptococcus agalactiae"
          ],
          [
           false,
           "Streptococcus agalactiae"
          ],
          [
           false,
           "Streptococcus agalactiae"
          ],
          [
           false,
           "Streptococcus agalactiae"
          ],
          [
           false,
           "Streptococcus agalactiae"
          ],
          [
           false,
           "Staphylococcus epidermidis"
          ],
          [
           false,
           "Staphylococcus epidermidis"
          ],
          [
           false,
           "Staphylococcus capitis"
          ],
          [
           false,
           "Staphylococcus capitis"
          ],
          [
           false,
           "Staphylococcus capitis"
          ],
          [
           false,
           "Staphylococcus capitis"
          ],
          [
           false,
           "Staphylococcus capitis"
          ],
          [
           false,
           "Staphylococcus capitis"
          ],
          [
           false,
           "Staphylococcus epidermidis"
          ],
          [
           false,
           "Staphylococcus epidermidis"
          ],
          [
           false,
           "Staphylococcus epidermidis"
          ],
          [
           false,
           "Staphylococcus epidermidis"
          ],
          [
           false,
           "Staphylococcus epidermidis"
          ],
          [
           false,
           "Streptococcus agalactiae"
          ],
          [
           false,
           "Streptococcus agalactiae"
          ],
          [
           false,
           "Streptococcus agalactiae"
          ],
          [
           false,
           "Streptococcus agalactiae"
          ],
          [
           false,
           "Staphylococcus epidermidis"
          ],
          [
           false,
           "Staphylococcus epidermidis"
          ],
          [
           false,
           "Staphylococcus epidermidis"
          ],
          [
           false,
           "Staphylococcus epidermidis"
          ],
          [
           false,
           "Staphylococcus epidermidis"
          ],
          [
           false,
           "Staphylococcus epidermidis"
          ],
          [
           false,
           "Staphylococcus epidermidis"
          ],
          [
           false,
           "Staphylococcus epidermidis"
          ],
          [
           false,
           "Staphylococcus epidermidis"
          ],
          [
           false,
           "Staphylococcus epidermidis"
          ],
          [
           false,
           "Staphylococcus epidermidis"
          ],
          [
           false,
           "Staphylococcus epidermidis"
          ],
          [
           false,
           "Staphylococcus epidermidis"
          ],
          [
           false,
           "Staphylococcus epidermidis"
          ],
          [
           false,
           "Staphylococcus epidermidis"
          ],
          [
           false,
           "Staphylococcus epidermidis"
          ],
          [
           false,
           "Staphylococcus epidermidis"
          ],
          [
           false,
           "Staphylococcus epidermidis"
          ],
          [
           false,
           "Staphylococcus epidermidis"
          ],
          [
           false,
           "Staphylococcus epidermidis"
          ],
          [
           false,
           "Staphylococcus epidermidis"
          ],
          [
           false,
           "Staphylococcus aureus"
          ],
          [
           false,
           "Staphylococcus epidermidis"
          ],
          [
           false,
           "Staphylococcus epidermidis"
          ],
          [
           false,
           "Staphylococcus epidermidis"
          ],
          [
           false,
           "Staphylococcus epidermidis"
          ],
          [
           false,
           "Staphylococcus epidermidis"
          ],
          [
           false,
           "Staphylococcus epidermidis"
          ],
          [
           false,
           "Staphylococcus epidermidis"
          ],
          [
           false,
           "Staphylococcus epidermidis"
          ],
          [
           false,
           "Staphylococcus epidermidis"
          ],
          [
           false,
           "Staphylococcus epidermidis"
          ],
          [
           false,
           "Staphylococcus hominis"
          ],
          [
           false,
           "Staphylococcus epidermidis"
          ],
          [
           false,
           "Staphylococcus hominis"
          ],
          [
           false,
           "Staphylococcus hominis"
          ],
          [
           false,
           "Staphylococcus hominis"
          ],
          [
           false,
           "Staphylococcus hominis"
          ],
          [
           false,
           "Staphylococcus hominis"
          ],
          [
           false,
           "Staphylococcus hominis"
          ],
          [
           false,
           "Staphylococcus hominis"
          ],
          [
           false,
           "Staphylococcus hominis"
          ],
          [
           false,
           "Staphylococcus hominis"
          ],
          [
           false,
           "Streptococcus pneumoniae"
          ],
          [
           false,
           "Streptococcus pneumoniae"
          ],
          [
           false,
           "Streptococcus pneumoniae"
          ],
          [
           false,
           "Streptococcus pneumoniae"
          ],
          [
           false,
           "Streptococcus pneumoniae"
          ],
          [
           false,
           "Streptococcus pyogenes"
          ],
          [
           false,
           "Streptococcus pyogenes"
          ],
          [
           false,
           "Streptococcus pyogenes"
          ],
          [
           false,
           "Streptococcus pneumoniae"
          ],
          [
           false,
           "Streptococcus pyogenes"
          ],
          [
           false,
           "Streptococcus pyogenes"
          ],
          [
           false,
           "Streptococcus pyogenes"
          ],
          [
           false,
           "Streptococcus pyogenes"
          ],
          [
           false,
           "Streptococcus pyogenes"
          ],
          [
           false,
           "Streptococcus pyogenes"
          ],
          [
           false,
           "Staphylococcus hominis"
          ],
          [
           false,
           "Staphylococcus hominis"
          ],
          [
           false,
           "Staphylococcus hominis"
          ],
          [
           false,
           "Staphylococcus hominis"
          ],
          [
           false,
           "Staphylococcus hominis"
          ],
          [
           false,
           "Staphylococcus hominis"
          ],
          [
           false,
           "Staphylococcus aureus"
          ],
          [
           false,
           "Staphylococcus aureus"
          ],
          [
           false,
           "Staphylococcus aureus"
          ],
          [
           false,
           "Staphylococcus aureus"
          ],
          [
           false,
           "Staphylococcus aureus"
          ],
          [
           false,
           "Staphylococcus aureus"
          ],
          [
           false,
           "Staphylococcus aureus"
          ],
          [
           false,
           "Staphylococcus aureus"
          ],
          [
           false,
           "Staphylococcus aureus"
          ],
          [
           false,
           "Staphylococcus aureus"
          ],
          [
           false,
           "Staphylococcus aureus"
          ],
          [
           false,
           "Staphylococcus aureus"
          ],
          [
           false,
           "Staphylococcus aureus"
          ],
          [
           false,
           "Staphylococcus aureus"
          ],
          [
           false,
           "Staphylococcus aureus"
          ],
          [
           false,
           "Staphylococcus capitis"
          ],
          [
           false,
           "Streptococcus pneumoniae"
          ],
          [
           false,
           "Streptococcus agalactiae"
          ],
          [
           false,
           "Staphylococcus hominis"
          ],
          [
           false,
           "Staphylococcus hominis"
          ],
          [
           false,
           "Staphylococcus hominis"
          ],
          [
           false,
           "Staphylococcus hominis"
          ],
          [
           false,
           "Staphylococcus hominis"
          ],
          [
           false,
           "Staphylococcus hominis"
          ],
          [
           false,
           "Streptococcus agalactiae"
          ],
          [
           false,
           "Staphylococcus hominis"
          ],
          [
           false,
           "Staphylococcus hominis"
          ],
          [
           false,
           "Staphylococcus hominis"
          ],
          [
           false,
           "Staphylococcus lugdunensis"
          ],
          [
           false,
           "Staphylococcus lugdunensis"
          ],
          [
           false,
           "Streptococcus agalactiae"
          ],
          [
           false,
           "Streptococcus agalactiae"
          ],
          [
           false,
           "Streptococcus agalactiae"
          ],
          [
           false,
           "Streptococcus agalactiae"
          ],
          [
           false,
           "Streptococcus agalactiae"
          ],
          [
           false,
           "Streptococcus agalactiae"
          ],
          [
           false,
           "Streptococcus agalactiae"
          ],
          [
           false,
           "Streptococcus agalactiae"
          ],
          [
           false,
           "Streptococcus pneumoniae"
          ],
          [
           false,
           "Streptococcus pneumoniae"
          ],
          [
           false,
           "Streptococcus pneumoniae"
          ],
          [
           false,
           "Streptococcus pneumoniae"
          ],
          [
           false,
           "Streptococcus pneumoniae"
          ],
          [
           false,
           "Streptococcus pneumoniae"
          ],
          [
           false,
           "Streptococcus pneumoniae"
          ],
          [
           false,
           "Streptococcus pneumoniae"
          ],
          [
           false,
           "Staphylococcus hominis"
          ],
          [
           false,
           "Staphylococcus hominis"
          ],
          [
           false,
           "Staphylococcus hominis"
          ],
          [
           false,
           "Streptococcus agalactiae"
          ],
          [
           false,
           "Streptococcus pneumoniae"
          ],
          [
           false,
           "Streptococcus pyogenes"
          ],
          [
           false,
           "Streptococcus pyogenes"
          ],
          [
           false,
           "Streptococcus pyogenes"
          ],
          [
           false,
           "Streptococcus pyogenes"
          ],
          [
           false,
           "Streptococcus pyogenes"
          ],
          [
           false,
           "Streptococcus pyogenes"
          ],
          [
           false,
           "Streptococcus pyogenes"
          ],
          [
           false,
           "Streptococcus pyogenes"
          ],
          [
           false,
           "Streptococcus pyogenes"
          ],
          [
           false,
           "Streptococcus pyogenes"
          ],
          [
           false,
           "Streptococcus pyogenes"
          ],
          [
           false,
           "Streptococcus pyogenes"
          ],
          [
           false,
           "Staphylococcus aureus"
          ],
          [
           false,
           "Staphylococcus aureus"
          ],
          [
           false,
           "Staphylococcus aureus"
          ],
          [
           false,
           "Staphylococcus aureus"
          ],
          [
           false,
           "Staphylococcus aureus"
          ],
          [
           false,
           "Staphylococcus aureus"
          ],
          [
           false,
           "Staphylococcus aureus"
          ],
          [
           false,
           "Staphylococcus aureus"
          ],
          [
           false,
           "Staphylococcus aureus"
          ],
          [
           false,
           "Staphylococcus aureus"
          ],
          [
           false,
           "Staphylococcus aureus"
          ],
          [
           false,
           "Staphylococcus aureus"
          ],
          [
           false,
           "Staphylococcus aureus"
          ],
          [
           false,
           "Staphylococcus aureus"
          ],
          [
           false,
           "Staphylococcus aureus"
          ],
          [
           false,
           "Staphylococcus capitis"
          ],
          [
           false,
           "Staphylococcus lugdunensis"
          ],
          [
           false,
           "Staphylococcus lugdunensis"
          ],
          [
           false,
           "Staphylococcus lugdunensis"
          ],
          [
           false,
           "Staphylococcus lugdunensis"
          ],
          [
           false,
           "Staphylococcus lugdunensis"
          ],
          [
           false,
           "Staphylococcus lugdunensis"
          ],
          [
           false,
           "Staphylococcus epidermidis"
          ],
          [
           false,
           "Staphylococcus epidermidis"
          ],
          [
           false,
           "Staphylococcus epidermidis"
          ],
          [
           false,
           "Staphylococcus epidermidis"
          ],
          [
           false,
           "Staphylococcus epidermidis"
          ],
          [
           false,
           "Staphylococcus epidermidis"
          ],
          [
           false,
           "Staphylococcus epidermidis"
          ],
          [
           false,
           "Staphylococcus lugdunensis"
          ],
          [
           false,
           "Staphylococcus aureus"
          ],
          [
           false,
           "Staphylococcus aureus"
          ],
          [
           false,
           "Staphylococcus aureus"
          ],
          [
           false,
           "Staphylococcus aureus"
          ],
          [
           false,
           "Staphylococcus aureus"
          ],
          [
           false,
           "Staphylococcus aureus"
          ],
          [
           false,
           "Staphylococcus aureus"
          ],
          [
           false,
           "Staphylococcus aureus"
          ],
          [
           false,
           "Staphylococcus aureus"
          ],
          [
           false,
           "Staphylococcus aureus"
          ],
          [
           false,
           "Staphylococcus aureus"
          ],
          [
           false,
           "Staphylococcus aureus"
          ],
          [
           false,
           "Staphylococcus aureus"
          ],
          [
           false,
           "Staphylococcus aureus"
          ],
          [
           false,
           "Staphylococcus aureus"
          ],
          [
           false,
           "Staphylococcus aureus"
          ],
          [
           false,
           "Staphylococcus aureus"
          ],
          [
           false,
           "Staphylococcus aureus"
          ],
          [
           false,
           "Staphylococcus aureus"
          ],
          [
           false,
           "Staphylococcus aureus"
          ],
          [
           false,
           "Staphylococcus aureus"
          ],
          [
           false,
           "Staphylococcus aureus"
          ],
          [
           false,
           "Staphylococcus aureus"
          ],
          [
           false,
           "Staphylococcus aureus"
          ],
          [
           false,
           "Staphylococcus aureus"
          ],
          [
           false,
           "Staphylococcus aureus"
          ],
          [
           false,
           "Staphylococcus aureus"
          ],
          [
           false,
           "Staphylococcus aureus"
          ],
          [
           false,
           "Staphylococcus aureus"
          ],
          [
           false,
           "Staphylococcus aureus"
          ],
          [
           false,
           "Streptococcus pneumoniae"
          ],
          [
           false,
           "Streptococcus pneumoniae"
          ],
          [
           false,
           "Streptococcus pneumoniae"
          ],
          [
           false,
           "Streptococcus pneumoniae"
          ],
          [
           false,
           "Streptococcus pneumoniae"
          ],
          [
           false,
           "Staphylococcus haemolyticus"
          ],
          [
           false,
           "Staphylococcus haemolyticus"
          ],
          [
           false,
           "Staphylococcus haemolyticus"
          ],
          [
           false,
           "Staphylococcus haemolyticus"
          ],
          [
           false,
           "Staphylococcus warneri"
          ],
          [
           false,
           "Staphylococcus warneri"
          ],
          [
           false,
           "Staphylococcus warneri"
          ],
          [
           false,
           "Staphylococcus warneri"
          ],
          [
           false,
           "Staphylococcus aureus"
          ],
          [
           false,
           "Staphylococcus aureus"
          ],
          [
           false,
           "Staphylococcus aureus"
          ],
          [
           false,
           "Staphylococcus aureus"
          ]
         ],
         "hovertemplate": "<b>%{hovertext}</b><br><br>SIR=Resistant<br>Log2(MIC-value)=%{y:.0f}<br>Scale=%{customdata[0]}<br>Pathogen=%{customdata[1]}<extra></extra>",
         "hovertext": [
          "QM307",
          "QM321",
          "QM398",
          "QM518",
          "QM980",
          "QM982",
          "QM984",
          "QM985",
          "QM986",
          "QM988",
          "QM989",
          "QM990",
          "QM991",
          "QM993",
          "QM397",
          "QM995",
          "QM992",
          "QM996",
          "QM997",
          "QM994",
          "HV447",
          "QM262",
          "QM322",
          "HV480",
          "QM998",
          "QM134",
          "BAR052",
          "QM805",
          "QM806",
          "QM807",
          "HV985",
          "QM1325",
          "QM1326",
          "QM1327",
          "QM1358",
          "QM1359",
          "QM1360",
          "QM1362",
          "QM1364",
          "QM1366",
          "QM1367",
          "QM1368",
          "QM1369",
          "QM1370",
          "QM1379",
          "QM1385",
          "QM1388",
          "QM1450",
          "QM1452",
          "QM1406",
          "PER152",
          "QM960",
          "BAR066",
          "QM1491",
          "QM1492",
          "AR0561",
          "AR0562",
          "AR0563",
          "AR0564",
          "AR0565",
          "AR0566",
          "AR0462",
          "AR0465",
          "AR0467",
          "AR0468",
          "AR0469",
          "AR0470",
          "AR0472",
          "AR0474",
          "AR0475",
          "AR0476",
          "AR0477",
          "AR0478",
          "AR0479",
          "AR0480",
          "QM1259",
          "QM1261",
          "QM1269",
          "AR0215",
          "AR0216",
          "AR0217",
          "AR0218",
          "AR0219",
          "AR0220",
          "AR0222",
          "AR0481",
          "AR0482",
          "AR0483",
          "AR0485",
          "AR0486",
          "AR0490",
          "AR0223",
          "AR0224",
          "AR0225",
          "AR0226",
          "AR0227",
          "AR0228",
          "AR0701",
          "AR0702",
          "AR0703",
          "AR0704",
          "AR0705",
          "AR0708",
          "AR0709",
          "AR0711",
          "AR0712",
          "AR0713",
          "AR0715",
          "AR0716",
          "AR0717",
          "AR0718",
          "AR0719",
          "AR0721",
          "AR0722",
          "AR0723",
          "AR0724",
          "QM027",
          "QM326",
          "QM328",
          "QM402",
          "QM1485",
          "QM1324",
          "AR0567",
          "AR0568",
          "AR0570",
          "HV519",
          "PER107",
          "HV772",
          "PER110",
          "QM867",
          "PER108",
          "PER104",
          "QM292",
          "QM312",
          "QM295",
          "QM068",
          "HV896",
          "HV510",
          "QM134",
          "QM1333",
          "HV985",
          "QM1248",
          "QM1250",
          "QM1252",
          "QM1253",
          "QM1254",
          "QM1255",
          "QM1288",
          "QM1289",
          "QM1308",
          "QM1309",
          "QM1310",
          "QM1311",
          "QM1312",
          "QM1313",
          "QM1314",
          "QM1315",
          "QM1316",
          "QM1317",
          "QM1373",
          "QM1406",
          "QM152",
          "BAR064",
          "QM1387",
          "QM1522",
          "QM1523",
          "QM1524",
          "QM1525",
          "QM1526",
          "QM1527",
          "QM1528",
          "QM1530",
          "QM1531",
          "QM872",
          "BAR066",
          "QM1489",
          "QM1491",
          "AR0572",
          "AR0575",
          "QM1483",
          "QM1485",
          "QM067",
          "AR0703",
          "AR0703",
          "QM134",
          "QM1406",
          "BAR064",
          "QM871",
          "BAR066",
          "QM1489",
          "QM1491",
          "QM1492",
          "QM027",
          "QM1483",
          "QM1485",
          "QM1486",
          "QM286",
          "HV519",
          "QM076",
          "PER107",
          "HV772",
          "PER110",
          "QM867",
          "PER108",
          "PER104",
          "QM292",
          "QM312",
          "QM295",
          "QM068",
          "HV896",
          "HV510",
          "QM1248",
          "QM1250",
          "QM1252",
          "QM1253",
          "QM1254",
          "QM1255",
          "QM1288",
          "QM1289",
          "QM1308",
          "QM1309",
          "QM1310",
          "QM1311",
          "QM1312",
          "QM1313",
          "QM1314",
          "QM1315",
          "QM1316",
          "QM1317",
          "QM1373",
          "QM1522",
          "QM1523",
          "QM1524",
          "QM1525",
          "QM1526",
          "QM1527",
          "QM1528",
          "QM1530",
          "QM1531",
          "QM1249",
          "AR0572",
          "AR0575",
          "QM067",
          "QM134",
          "QM307",
          "QM321",
          "QM398",
          "QM518",
          "QM980",
          "QM982",
          "QM984",
          "QM985",
          "QM986",
          "QM988",
          "QM989",
          "QM990",
          "QM991",
          "QM993",
          "QM397",
          "QM995",
          "QM992",
          "QM996",
          "QM997",
          "QM994",
          "HV447",
          "QM262",
          "QM322",
          "HV480",
          "QM308",
          "QM998",
          "HV109",
          "HV116",
          "QM899",
          "BAR002",
          "BAR003",
          "HV119",
          "HV136",
          "HV205",
          "HV254",
          "HV884",
          "HV950",
          "HV953",
          "HV983",
          "HV455",
          "HV462",
          "HV498",
          "HV521",
          "HV523",
          "HV538",
          "HV594",
          "HV283",
          "HV285",
          "HV326",
          "HV413",
          "HV416",
          "BAR052",
          "QM351",
          "QM365",
          "QM370",
          "QM373",
          "QM380",
          "QM381",
          "QM957",
          "QM958",
          "QM968",
          "QM977",
          "HV245",
          "HV262",
          "HV277",
          "HV599",
          "QM1358",
          "QM1366",
          "QM1368",
          "QM1369",
          "QM1263",
          "QM1264",
          "QM971",
          "HV987",
          "QM093",
          "QM1270",
          "QM1271",
          "QM1272",
          "QM1273",
          "HV813",
          "HV820",
          "HV88",
          "AR0561",
          "AR0562",
          "AR0564",
          "AR0565",
          "AR0566",
          "AR0461",
          "AR0462",
          "AR0465",
          "AR0467",
          "AR0468",
          "AR0469",
          "AR0474",
          "AR0479",
          "AR0480",
          "QM1265",
          "QM1258",
          "HV678",
          "HV733",
          "HV734",
          "HV744",
          "HV901",
          "AR0215",
          "AR0216",
          "AR0217",
          "AR0218",
          "AR0219",
          "AR0220",
          "AR0222",
          "AR0482",
          "AR0483",
          "AR0485",
          "AR0486",
          "AR0223",
          "AR0224",
          "AR0225",
          "AR0227",
          "AR0228",
          "AR0701",
          "AR0702",
          "AR0703",
          "AR0705",
          "AR0706",
          "AR0707",
          "AR0708",
          "AR0709",
          "AR0710",
          "AR0711",
          "AR0712",
          "AR0713",
          "AR0714",
          "AR0715",
          "AR0716",
          "AR0717",
          "AR0718",
          "AR0719",
          "AR0720",
          "AR0721",
          "AR0722",
          "AR0723",
          "AR0724",
          "AR0726",
          "AR0727",
          "AR0728",
          "AR0729",
          "AR0730",
          "AR0567",
          "AR0568",
          "AR0570",
          "PER128",
          "QM1546",
          "QM326",
          "QM397",
          "QM992",
          "AR0461",
          "AR0462",
          "AR0465",
          "AR0467",
          "AR0468",
          "AR0474",
          "AR0215",
          "AR0216",
          "AR0217",
          "AR0218",
          "AR0219",
          "AR0221",
          "AR0223",
          "AR0224",
          "AR0225",
          "AR0226",
          "AR0227",
          "AR0228",
          "QM076",
          "QM294",
          "PER107",
          "QM319",
          "QM867",
          "PER108",
          "QM397",
          "QM992",
          "PER104",
          "QM295",
          "HV146",
          "HV953",
          "BAR032",
          "HV245",
          "HV985",
          "QM1248",
          "QM1252",
          "QM1289",
          "QM1312",
          "QM1317",
          "QM1391",
          "QM1523",
          "QM1524",
          "QM1525",
          "QM1526",
          "QM1527",
          "QM1528",
          "QM1531",
          "QM1249",
          "AR0465",
          "AR0467",
          "AR0468",
          "AR0215",
          "AR0216",
          "AR0217",
          "AR0218",
          "AR0219",
          "AR0220",
          "AR0486",
          "AR0223",
          "AR0224",
          "AR0227",
          "AR0572",
          "AR0575",
          "AR0727",
          "AR0729",
          "QM402",
          "QM067",
          "QM286",
          "QM065",
          "QM076",
          "QM294",
          "PER107",
          "QM319",
          "PER110",
          "QM867",
          "PER108",
          "QM397",
          "QM992",
          "PER104",
          "QM292",
          "QM312",
          "QM295",
          "QM068",
          "BAR032",
          "HV985",
          "QM1248",
          "QM1250",
          "QM1252",
          "QM1253",
          "QM1254",
          "QM1255",
          "QM1288",
          "QM1289",
          "QM1308",
          "QM1309",
          "QM1310",
          "QM1311",
          "QM1312",
          "QM1313",
          "QM1314",
          "QM1316",
          "QM1317",
          "QM1391",
          "QM1523",
          "QM1524",
          "QM1525",
          "QM1526",
          "QM1527",
          "QM1528",
          "QM1531",
          "QM1249",
          "AR0462",
          "AR0465",
          "AR0467",
          "AR0468",
          "AR0474",
          "AR0215",
          "AR0216",
          "AR0217",
          "AR0218",
          "AR0219",
          "AR0220",
          "AR0221",
          "AR0222",
          "AR0223",
          "AR0224",
          "AR0227",
          "AR0228",
          "AR0572",
          "AR0575",
          "QM402",
          "QM067",
          "QM321",
          "QM985",
          "QM986",
          "QM988",
          "QM989",
          "QM991",
          "QM993",
          "QM397",
          "QM995",
          "QM996",
          "HV447",
          "QM262",
          "QM322",
          "QM323",
          "QM308",
          "PER128",
          "QM1007",
          "QM1008",
          "QM1010",
          "QM1011",
          "QM1013",
          "QM1014",
          "QM1015",
          "QM886",
          "BAR006",
          "BAR008",
          "HV109",
          "HV116",
          "QM895",
          "QM897",
          "QM899",
          "BAR001",
          "BAR002",
          "BAR003",
          "HV119",
          "HV136",
          "HV156",
          "HV205",
          "HV254",
          "BAR018",
          "BAR019",
          "BAR023",
          "BAR024",
          "HV884",
          "HV912",
          "HV950",
          "HV953",
          "HV975",
          "QM034",
          "QM088",
          "QM089",
          "HV455",
          "HV462",
          "HV498",
          "HV521",
          "HV523",
          "HV538",
          "HV559",
          "HV594",
          "HV615",
          "HV283",
          "HV285",
          "HV326",
          "HV413",
          "HV416",
          "BAR052",
          "BAR059",
          "QM351",
          "QM359",
          "QM365",
          "QM370",
          "QM373",
          "QM380",
          "QM381",
          "QM957",
          "QM958",
          "QM968",
          "QM970",
          "QM977",
          "HV103",
          "HV107",
          "HV114",
          "HV245",
          "HV262",
          "HV271",
          "HV277",
          "HV330",
          "HV412",
          "HV414",
          "QM803",
          "QM804",
          "QM805",
          "QM806",
          "QM807",
          "QM808",
          "QM810",
          "BAR026",
          "QM1002",
          "QM878",
          "QM879",
          "PER134",
          "QM880",
          "QM882",
          "QM883",
          "QM884",
          "PER159",
          "BAR009",
          "HV740",
          "HV753",
          "HV448",
          "HV500",
          "HV508",
          "HV517",
          "HV599",
          "QM1325",
          "QM1327",
          "QM1358",
          "QM1359",
          "QM1360",
          "QM1362",
          "QM1364",
          "QM1366",
          "QM1367",
          "QM1368",
          "QM1369",
          "QM1370",
          "QM1379",
          "QM1385",
          "QM1388",
          "QM1450",
          "QM1452",
          "QM1263",
          "QM325",
          "QM1440",
          "QM1353",
          "QM971",
          "HV986",
          "HV987",
          "QM093",
          "QM963",
          "QM964",
          "QM1533",
          "QM1270",
          "QM1271",
          "QM1273",
          "QM887",
          "QM960",
          "QM1536",
          "QM1537",
          "QM1539",
          "QM1540",
          "QM1541",
          "QM1542",
          "QM1543",
          "QM1545",
          "QM1456",
          "QM1457",
          "QM1460",
          "QM1461",
          "QM1464",
          "QM1468",
          "QM1469",
          "QM1470",
          "HV794",
          "HV813",
          "HV820",
          "HV88",
          "HV902",
          "QM1546",
          "QM1574",
          "QM1547",
          "QM1549",
          "QM1551",
          "QM1552",
          "QM1554",
          "QM1555",
          "QM1556",
          "QM1557",
          "QM1558",
          "QM1559",
          "QM1561",
          "QM1565",
          "AR0562",
          "AR0563",
          "AR0564",
          "AR0565",
          "AR0461",
          "AR0465",
          "AR0467",
          "AR0468",
          "AR0469",
          "AR0470",
          "AR0472",
          "AR0474",
          "AR0475",
          "AR0476",
          "AR0477",
          "AR0478",
          "AR0479",
          "AR0480",
          "QM1265",
          "QM1259",
          "QM1260",
          "QM1261",
          "QM1262",
          "QM1267",
          "QM1269",
          "HV678",
          "HV733",
          "HV734",
          "HV744",
          "HV754",
          "HV773",
          "HV901",
          "BAR040",
          "AR0215",
          "AR0216",
          "AR0218",
          "AR0219",
          "AR0220",
          "AR0481",
          "AR0482",
          "AR0483",
          "AR0485",
          "AR0486",
          "AR0490",
          "AR0224",
          "AR0225",
          "AR0226",
          "AR0227",
          "AR0228",
          "AR0703",
          "AR0704",
          "AR0705",
          "AR0706",
          "AR0707",
          "AR0708",
          "AR0709",
          "AR0710",
          "AR0711",
          "AR0712",
          "AR0713",
          "AR0714",
          "AR0715",
          "AR0716",
          "AR0717",
          "AR0718",
          "AR0719",
          "AR0721",
          "AR0722",
          "AR0723",
          "AR0724",
          "AR0726",
          "AR0727",
          "AR0728",
          "AR0729",
          "AR0730",
          "QM025",
          "QM026",
          "QM027",
          "QM326",
          "QM328",
          "QM329",
          "QM402",
          "QM1324",
          "AR0567",
          "AR0568",
          "AR0570",
          "QM985",
          "QM986",
          "QM988",
          "QM989",
          "QM991",
          "QM993",
          "QM397",
          "QM995",
          "QM996",
          "QM262",
          "QM323",
          "QM1007",
          "QM1008",
          "QM1010",
          "QM1011",
          "QM1014",
          "QM1015",
          "QM886",
          "BAR006",
          "BAR008",
          "HV109",
          "HV116",
          "QM895",
          "QM897",
          "QM899",
          "BAR001",
          "BAR002",
          "BAR003",
          "HV119",
          "HV136",
          "HV156",
          "BAR018",
          "BAR019",
          "BAR023",
          "HV912",
          "HV950",
          "HV953",
          "HV975",
          "QM034",
          "QM088",
          "QM089",
          "HV498",
          "HV523",
          "HV559",
          "HV594",
          "HV283",
          "HV413",
          "QM351",
          "QM359",
          "QM365",
          "QM370",
          "QM373",
          "QM380",
          "QM381",
          "QM957",
          "QM958",
          "QM968",
          "QM970",
          "QM977",
          "HV330",
          "QM803",
          "QM804",
          "QM806",
          "QM810",
          "QM879",
          "PER134",
          "QM880",
          "PER159",
          "BAR009",
          "HV448",
          "QM1358",
          "QM1366",
          "QM1369",
          "QM1450",
          "QM1263",
          "QM325",
          "QM1440",
          "QM971",
          "QM093",
          "QM963",
          "QM964",
          "QM1533",
          "QM1270",
          "QM1271",
          "QM1272",
          "QM1273",
          "QM960",
          "QM1537",
          "QM1540",
          "QM1541",
          "QM1542",
          "QM1543",
          "QM1545",
          "QM1456",
          "QM1457",
          "QM1460",
          "QM1461",
          "QM1464",
          "QM1468",
          "QM1469",
          "QM1470",
          "HV820",
          "QM1574",
          "QM1547",
          "QM1551",
          "QM1555",
          "QM1565",
          "AR0562",
          "AR0564",
          "AR0565",
          "AR0461",
          "AR0469",
          "AR0474",
          "QM1265",
          "QM1259",
          "QM1260",
          "QM1261",
          "QM1262",
          "HV678",
          "HV733",
          "HV734",
          "HV744",
          "HV754",
          "HV773",
          "HV901",
          "BAR040",
          "AR0215",
          "AR0218",
          "AR0219",
          "AR0220",
          "AR0483",
          "AR0485",
          "AR0486",
          "AR0227",
          "AR0228",
          "AR0703",
          "AR0707",
          "AR0709",
          "AR0710",
          "AR0711",
          "AR0712",
          "AR0716",
          "AR0717",
          "AR0718",
          "AR0719",
          "AR0720",
          "AR0721",
          "AR0728",
          "AR0729",
          "AR0730",
          "QM025",
          "QM027",
          "QM326",
          "QM328",
          "QM402",
          "AR0567",
          "AR0570",
          "QM518",
          "QM985",
          "QM397",
          "QM992",
          "QM262",
          "QM322",
          "QM308",
          "QM086",
          "QM899",
          "HV156",
          "HV205",
          "HV884",
          "HV975",
          "QM034",
          "HV462",
          "HV538",
          "HV594",
          "HV615",
          "HV416",
          "QM958",
          "HV103",
          "HV107",
          "HV271",
          "HV330",
          "HV412",
          "HV414",
          "QM803",
          "QM804",
          "QM805",
          "QM806",
          "QM807",
          "QM808",
          "QM810",
          "BAR026",
          "PER134",
          "HV753",
          "HV500",
          "HV508",
          "HV517",
          "QM1326",
          "QM1362",
          "QM1367",
          "QM1450",
          "QM325",
          "QM1353",
          "HV987",
          "QM889",
          "QM894",
          "QM1456",
          "QM1457",
          "QM1460",
          "QM1461",
          "QM1464",
          "QM1468",
          "QM1469",
          "QM1470",
          "HV794",
          "HV813",
          "HV820",
          "QM1574",
          "AR0561",
          "AR0562",
          "AR0565",
          "AR0470",
          "AR0480",
          "HV733",
          "HV734",
          "HV744",
          "HV901",
          "AR0219",
          "AR0222",
          "AR0701",
          "AR0702",
          "AR0707",
          "AR0710",
          "AR0718",
          "AR0720",
          "AR0722",
          "QM025",
          "QM027",
          "QM326",
          "QM1324",
          "BAR043",
          "AR0568",
          "AR0570",
          "QM321",
          "QM322",
          "QM1522",
          "QM1270",
          "QM1271",
          "QM1272",
          "QM1273",
          "AR0702",
          "AR0706",
          "AR0708",
          "AR0710",
          "AR0711",
          "AR0712",
          "AR0713",
          "AR0714",
          "AR0715",
          "AR0716",
          "AR0717",
          "AR0718",
          "AR0720",
          "AR0721",
          "AR0722",
          "AR0723",
          "AR0724",
          "AR0726",
          "AR0727",
          "AR0728",
          "AR0729",
          "AR0730",
          "QM402",
          "QM397",
          "QM992",
          "AR0564",
          "AR0474",
          "AR0216",
          "AR0217",
          "AR0218",
          "AR0222",
          "AR0226",
          "AR0227",
          "AR0228",
          "QM398",
          "QM518",
          "QM980",
          "QM984",
          "QM397",
          "QM992",
          "QM085",
          "HV116",
          "HV254",
          "HV983",
          "HV498",
          "HV413",
          "QM968",
          "QM977",
          "QM1358",
          "QM1263",
          "QM1264",
          "QM093",
          "PER152",
          "HV88",
          "AR0474",
          "QM1265",
          "QM1258",
          "HV678",
          "HV773",
          "AR0219",
          "AR0221",
          "AR0222",
          "AR0485",
          "AR0486",
          "AR0226",
          "AR0702",
          "AR0703",
          "AR0705",
          "AR0708",
          "AR0711",
          "AR0714",
          "AR0718",
          "AR0721",
          "AR0722",
          "AR0726",
          "AR0729",
          "AR0730",
          "HV950",
          "HV983",
          "HV285",
          "QM370",
          "QM373",
          "QM380",
          "QM381",
          "HV262",
          "QM805",
          "QM806",
          "QM807",
          "QM808",
          "BAR026",
          "QM879",
          "PER134",
          "HV599",
          "QM1450",
          "QM325",
          "QM1353",
          "QM1270",
          "QM1271",
          "QM1272",
          "QM1273",
          "QM1470",
          "HV813",
          "HV820",
          "QM1565",
          "AR0565",
          "AR0217",
          "AR0222",
          "AR0703",
          "AR0727",
          "AR0729",
          "AR0730",
          "QM025",
          "QM026",
          "QM027",
          "QM326",
          "QM329",
          "QM307",
          "QM321",
          "QM398",
          "QM980",
          "QM982",
          "QM984",
          "QM985",
          "QM986",
          "QM988",
          "QM989",
          "QM990",
          "QM991",
          "QM993",
          "QM397",
          "QM995",
          "QM992",
          "QM996",
          "QM997",
          "QM994",
          "QM262",
          "QM322",
          "QM323",
          "HV480",
          "QM998",
          "PER128",
          "QM1007",
          "QM1008",
          "QM1010",
          "QM1011",
          "QM1013",
          "QM1014",
          "QM1015",
          "QM886",
          "BAR006",
          "BAR008",
          "HV109",
          "HV116",
          "QM895",
          "QM897",
          "QM899",
          "BAR001",
          "BAR002",
          "BAR003",
          "HV119",
          "HV136",
          "HV156",
          "HV205",
          "HV254",
          "BAR018",
          "BAR019",
          "BAR023",
          "BAR024",
          "HV884",
          "HV912",
          "HV950",
          "HV953",
          "HV975",
          "QM034",
          "QM088",
          "QM089",
          "HV455",
          "HV498",
          "HV521",
          "HV523",
          "HV538",
          "HV559",
          "HV594",
          "HV615",
          "HV283",
          "HV285",
          "HV326",
          "HV413",
          "HV416",
          "BAR059",
          "QM351",
          "QM359",
          "QM365",
          "QM370",
          "QM373",
          "QM380",
          "QM381",
          "QM957",
          "QM958",
          "QM968",
          "QM970",
          "QM977",
          "HV103",
          "HV114",
          "HV245",
          "HV262",
          "HV271",
          "HV277",
          "HV330",
          "HV412",
          "HV414",
          "QM803",
          "QM804",
          "QM806",
          "QM810",
          "BAR026",
          "QM1002",
          "QM878",
          "QM879",
          "PER134",
          "QM880",
          "QM882",
          "QM883",
          "QM884",
          "PER159",
          "BAR009",
          "HV740",
          "HV753",
          "HV448",
          "HV508",
          "HV517",
          "HV599",
          "QM1325",
          "QM1327",
          "QM1358",
          "QM1359",
          "QM1360",
          "QM1362",
          "QM1364",
          "QM1366",
          "QM1367",
          "QM1369",
          "QM1370",
          "QM1379",
          "QM1385",
          "QM1388",
          "QM1450",
          "QM1263",
          "QM325",
          "QM1440",
          "QM971",
          "HV986",
          "HV987",
          "QM093",
          "QM963",
          "QM964",
          "QM1533",
          "QM1270",
          "QM1271",
          "QM1273",
          "QM887",
          "QM960",
          "QM1536",
          "QM1537",
          "QM1539",
          "QM1540",
          "QM1541",
          "QM1542",
          "QM1543",
          "QM1545",
          "QM1456",
          "QM1457",
          "QM1460",
          "QM1461",
          "QM1464",
          "QM1468",
          "QM1469",
          "QM1470",
          "HV820",
          "HV88",
          "HV902",
          "QM1546",
          "QM1574",
          "QM1547",
          "QM1549",
          "QM1551",
          "QM1552",
          "QM1554",
          "QM1555",
          "QM1556",
          "QM1557",
          "QM1558",
          "QM1559",
          "QM1561",
          "QM1565",
          "AR0562",
          "AR0564",
          "AR0565",
          "AR0461",
          "AR0465",
          "AR0467",
          "AR0468",
          "AR0469",
          "AR0470",
          "AR0472",
          "AR0474",
          "AR0476",
          "AR0477",
          "AR0478",
          "AR0479",
          "QM1265",
          "QM1259",
          "QM1260",
          "QM1261",
          "QM1262",
          "QM1267",
          "QM1269",
          "HV678",
          "HV733",
          "HV734",
          "HV744",
          "HV754",
          "HV773",
          "HV901",
          "BAR040",
          "AR0215",
          "AR0218",
          "AR0219",
          "AR0220",
          "AR0481",
          "AR0482",
          "AR0483",
          "AR0485",
          "AR0486",
          "AR0224",
          "AR0227",
          "AR0228",
          "AR0701",
          "AR0703",
          "AR0705",
          "AR0707",
          "AR0708",
          "AR0709",
          "AR0710",
          "AR0711",
          "AR0712",
          "AR0715",
          "AR0716",
          "AR0717",
          "AR0718",
          "AR0719",
          "AR0720",
          "AR0721",
          "AR0722",
          "AR0724",
          "QM025",
          "QM027",
          "QM326",
          "QM328",
          "QM402",
          "QM1498",
          "QM1499",
          "QM1501",
          "QM1503",
          "QM1472",
          "QM1473",
          "QM1474",
          "QM1476",
          "QM1324",
          "AR0567",
          "AR0568",
          "AR0570"
         ],
         "legendgroup": "Resistant",
         "marker": {
          "color": "tomato",
          "symbol": "circle"
         },
         "mode": "markers",
         "name": "Resistant",
         "showlegend": true,
         "type": "scattergl",
         "x": [
          -0.12755325542566423,
          -0.12562628464479766,
          0.022689285378557855,
          -0.04357874382111185,
          0.10275755294496011,
          0.04323110278727113,
          0.01095851590460506,
          0.1072833035915585,
          0.054642696234799615,
          -0.11872906750219923,
          0.13210325208397886,
          0.04288492812854791,
          0.029543403918015493,
          -0.04914778477783348,
          0.03305201160889801,
          0.09881948425982773,
          -0.1124282372516712,
          0.06881298685586168,
          0.06406575621551922,
          -0.08173063018117839,
          0.0356884034804503,
          -0.12804040483465381,
          -0.028244996269623915,
          -0.0023124916426200404,
          0.09721387959664843,
          -0.1103677859706274,
          -0.13774714645026745,
          0.08217425500343131,
          0.011575120118530235,
          0.05191523679112592,
          0.07157177622751001,
          0.1334880230469054,
          0.12914603609024064,
          -0.06868458436084136,
          -0.07137427160935873,
          0.1293457403162371,
          0.029292323523106095,
          0.02361856943038454,
          0.00047999101447665504,
          -0.09013703659102779,
          0.14701783454712722,
          0.029323833454605458,
          0.135184766514211,
          -0.14819906952755732,
          -0.10854483397785707,
          -0.0028250216989877674,
          0.035111603598980856,
          0.1016570283536585,
          0.04536595085227241,
          0.12153006464497743,
          0.057279593432744136,
          0.1393668466297723,
          0.10687675414825867,
          -0.031422960811780115,
          -0.04553341951838909,
          -0.08751827909341531,
          0.06588465821211117,
          0.02318732399486051,
          -0.1404426163103628,
          0.11921512582880497,
          -0.05671093914304544,
          0.14883875949042544,
          0.1239840497655488,
          -0.07196589556946659,
          -0.052710630852028,
          -0.14212210412444232,
          -0.1029313746792229,
          -0.10015187014207555,
          -0.1384387275004361,
          -0.14052528309802517,
          0.14210642210259503,
          0.046441262628896446,
          -0.13201527213770364,
          -0.06509025585075554,
          0.08010549698619412,
          -0.10118336957810485,
          0.08662484464836209,
          -0.07068757337236231,
          -0.0013634638286350031,
          0.02442578465758688,
          0.01439363174143063,
          0.05342374929558222,
          -0.11094213370747094,
          0.1100850377300496,
          -0.056076442550011665,
          -0.0844879680995863,
          0.019833787947383663,
          0.09520867094943777,
          -0.10325182516656277,
          -0.14295838733087474,
          0.04765699650950819,
          -0.09121673083399107,
          -0.06619381364545852,
          0.12239005243135145,
          0.14450495496914825,
          0.0005050438747720154,
          0.044631140360215094,
          -0.14868586493440947,
          0.032520148493565465,
          -0.03814345903604732,
          0.12489958645484037,
          0.08033658041480957,
          0.10662262728274183,
          0.04083218143376571,
          0.03724947725769567,
          0.09093822528885775,
          0.08690520576414637,
          0.14529626005999066,
          0.13521787895639456,
          0.07668718138941477,
          -0.0833385045259797,
          -0.14526848415968857,
          -0.09708109838650408,
          -0.09258560344332993,
          -0.09411485282086537,
          0.11028914800599746,
          -0.014930817733595947,
          -0.1325632839066191,
          0.0759714011172675,
          0.04479416874781331,
          -0.04334115461852814,
          -0.10965727555090912,
          0.11907344938184464,
          -0.026464728865555884,
          -0.03473088770844715,
          1.1078637677905778,
          0.9300503711505608,
          1.0844559411871475,
          0.8634516244696011,
          0.8976440270453069,
          0.8720946592556462,
          0.8966095410921885,
          1.0516346250893784,
          1.0100674453822849,
          1.0108949027272403,
          0.8835838446022058,
          1.1145847651958378,
          1.0782917119041684,
          0.8572935400495292,
          1.1285941578565128,
          0.9786112040330808,
          0.916890824207408,
          0.8790686833132935,
          0.9602519199501905,
          0.9527574314775326,
          1.0236189058117537,
          1.1468339569259804,
          1.0315235054581613,
          0.961228456565541,
          0.8533716857197529,
          1.1378068847437584,
          1.0847142087756307,
          0.9906393325039742,
          1.051919608554484,
          0.8620448365551342,
          1.0928093360197944,
          1.144297929994415,
          1.0103903614454042,
          0.9984837381049914,
          0.9996998986399797,
          1.0061006058697128,
          0.8845803352209888,
          0.949047414164154,
          0.9559406460547837,
          1.145842890140213,
          1.0208088687660208,
          1.0018853361570832,
          1.1114634121542475,
          1.0610803203193733,
          0.8679749270854952,
          1.068880668647805,
          1.0067528826237038,
          1.06056208892312,
          1.089813217415274,
          0.9274835152620722,
          0.9650405360755384,
          1.0460528462474652,
          1.1205140849570017,
          0.9589973660853707,
          0.8801383116418163,
          1.1464533233364256,
          0.9858784184584692,
          2.92369440064543,
          3.9208059300596,
          5.078598735023328,
          5.0743811635742215,
          4.943981457417483,
          4.856727255217129,
          5.125831368423859,
          4.93951515068878,
          4.923116789343181,
          5.00476995413635,
          4.914475134843348,
          5.021812662212633,
          5.0459632769394025,
          5.127712117869402,
          5.953952148111485,
          5.912086358009033,
          5.880958035389339,
          6.127921394046683,
          5.970094477198281,
          5.973039805763659,
          5.872026240347988,
          5.871075836290698,
          6.0011865630159775,
          5.987404163601968,
          6.026671616646346,
          6.017233764820695,
          5.885946831378417,
          5.989764015433964,
          6.012815884213747,
          5.979693404495563,
          6.089220637359992,
          6.083779498137204,
          5.960922035192931,
          6.1438849480645255,
          6.088092480382394,
          6.051756563908676,
          6.055036341501443,
          5.960006321756887,
          5.864839624747148,
          6.098882715708167,
          5.923075997881006,
          6.0537209278004624,
          6.005301675836437,
          6.05426684688258,
          5.928515716008343,
          6.051496756102521,
          5.952690805722433,
          5.89741213234766,
          5.892168003751905,
          6.062711338453143,
          5.875907191532979,
          6.132720224368881,
          6.025853808411466,
          5.890348072750517,
          6.0808353516498554,
          5.9890789263814845,
          5.924144641577784,
          5.88895028121585,
          6.022679524170127,
          5.985768511089747,
          5.950801801308335,
          7.0905506335201265,
          8.070100608343822,
          8.09144667065986,
          7.8725877800449995,
          8.09491855641767,
          8.118305590068227,
          7.850244755551793,
          7.90007881176366,
          8.028697563763124,
          8.128600133181578,
          7.931137775030668,
          7.972025325207351,
          7.999227970934753,
          7.967011537018616,
          8.032281008423068,
          8.050752759730857,
          8.106977895423281,
          8.142406420126957,
          8.088284169202309,
          7.9396856706026275,
          7.898181634946739,
          8.003722672260123,
          8.021044851875722,
          8.014082101724856,
          7.98008848053676,
          8.093768143521752,
          7.934500813488405,
          7.999450966498408,
          7.907787604211692,
          8.039122127240562,
          7.879046929146345,
          8.117818347366688,
          8.020385724165816,
          8.128429075171777,
          7.9917185962517925,
          8.141223204666211,
          7.874884719207392,
          7.932762648954687,
          8.13489071811026,
          7.942543345839639,
          7.910340996113427,
          8.090835019323409,
          8.143528065374715,
          8.010995639156173,
          8.11847286470014,
          7.902767881159294,
          7.9086668000631715,
          7.877342434422635,
          7.887011879597031,
          8.002973822288608,
          7.931363875716907,
          8.053397105255279,
          7.864551289188632,
          8.131912684593857,
          7.88791277143959,
          7.967990344866046,
          7.861231762199785,
          8.103319782468697,
          8.102755536947106,
          7.923023355808193,
          7.989219325548578,
          7.997129335958036,
          8.027684830430909,
          7.953488221616037,
          7.922026102873827,
          8.057049320394276,
          8.137263599796837,
          7.997493594741211,
          8.07912184381973,
          8.083610015008265,
          7.970655289696956,
          7.905246428688168,
          8.051728022250574,
          7.995107365056986,
          7.90972166035265,
          7.943616050534008,
          7.882622152147313,
          7.993811106577088,
          8.094556653705014,
          7.958672186291569,
          8.115095106631209,
          8.138253838376807,
          7.981919285067556,
          8.06233483057118,
          7.86367250513442,
          8.11702638745043,
          7.995442920729955,
          8.11637511324317,
          8.103602149409001,
          7.908106505310979,
          7.933869363528069,
          8.050090885303888,
          8.000812922871726,
          7.866179047514928,
          8.117235302307305,
          8.008665708956357,
          8.147131058940008,
          7.945223056797577,
          8.082372454886293,
          8.090163738199303,
          8.124429977030944,
          8.016959497932728,
          8.010130854666954,
          8.062793616762917,
          7.914466346367274,
          8.120866985984351,
          8.039608727929215,
          8.055447958008426,
          8.113343727418716,
          7.956273159920263,
          8.141280637627759,
          7.8933510485045515,
          8.055334566635043,
          8.09964609867605,
          7.907823606806258,
          8.02676917008714,
          7.856089729180291,
          7.944108155889916,
          7.900949040253773,
          7.994237904829965,
          7.970565617648914,
          7.867023717328175,
          7.9518013746159255,
          8.127750039658942,
          8.038282249585867,
          8.008200251097968,
          7.97398198305108,
          7.933801943941832,
          8.019940267778276,
          8.009517756361907,
          8.12966901410636,
          7.906953263696592,
          7.851589041010979,
          7.968168167618994,
          7.981450329625565,
          8.090035943531674,
          7.9473529708972475,
          8.001188729969506,
          7.949402569889824,
          7.912319451266385,
          7.981962432320629,
          7.969690721987772,
          7.956741369465422,
          7.982947298171775,
          8.03955467942258,
          7.940569880424769,
          8.10130474536803,
          7.906271879793593,
          7.949325952395539,
          7.878468821718225,
          8.090337620954093,
          9.101164456132722,
          8.87610866538096,
          9.134013605217216,
          11.031680013430629,
          11.012042836729421,
          10.938477697058163,
          10.882517400586128,
          10.92237627686442,
          10.854525001254503,
          10.97618044782302,
          10.925539729139222,
          11.081353765741275,
          10.927448329337661,
          11.11689007998861,
          10.882775818435361,
          11.079885650396283,
          11.000307631157407,
          10.91709319303195,
          10.880887322887776,
          10.94723811398213,
          10.85632955055813,
          11.128001481910363,
          10.982029186359231,
          11.892709372870485,
          11.955991997408333,
          12.109981631441395,
          11.914481224836209,
          11.888408770185952,
          11.944432730959749,
          11.978191200368467,
          11.959042845595606,
          12.058721586597335,
          11.977908862033562,
          11.923211219501157,
          11.968287577445578,
          11.870174672371578,
          11.853085900854369,
          12.023334717519857,
          12.06996400419241,
          12.058902751643592,
          11.9273250731222,
          12.126335849384875,
          12.099516241076858,
          12.00953647183327,
          11.8606686583123,
          12.070897559626927,
          12.01653353082278,
          11.963627371717017,
          11.907852987423482,
          11.859312890599142,
          11.871383785177974,
          11.891667215587857,
          11.976116787382745,
          12.084112785928891,
          12.04192432168089,
          12.139929043448356,
          11.866017193247668,
          12.005688530322663,
          12.083471708342673,
          12.007614639412845,
          11.906725268297409,
          12.03377829954352,
          12.130163842667745,
          11.874476821933179,
          11.886005556839812,
          12.07022111059496,
          11.925855288957713,
          11.893187365816036,
          11.995973902149322,
          11.982119577479441,
          11.886625500285893,
          12.875804072976173,
          12.93970911544758,
          13.122679371092879,
          12.98186195191687,
          13.072556274687859,
          13.009048007256316,
          13.060905383675792,
          13.053969491511094,
          12.887564625904217,
          13.11966894375335,
          13.13437203967013,
          13.113225803916109,
          12.929135453313842,
          13.137926822432727,
          13.121184472022094,
          12.938770293040898,
          13.001612857329981,
          12.94955127844387,
          13.033763093861957,
          13.006126331415865,
          13.01528443841293,
          12.93361290844664,
          12.923823189796162,
          13.108625565573488,
          13.114172367577567,
          12.93362402513565,
          13.103911604714428,
          13.146644445805403,
          12.968434527097372,
          13.138755010590453,
          12.943200598938683,
          13.104307176520608,
          12.88597755329897,
          12.996746671675657,
          12.973957832966157,
          12.952785828316319,
          13.077345608664444,
          13.050600686072734,
          13.122890103747109,
          12.886859254855029,
          13.12907501999369,
          12.86443068098073,
          13.076559626902716,
          13.14377164587217,
          12.913128070971423,
          13.08754821272863,
          13.09800108915985,
          13.05016193921987,
          12.969991654544845,
          12.88108506593497,
          12.91977688931999,
          13.082633399343493,
          13.142568793991693,
          12.879264286334426,
          12.889726856468299,
          12.977137764541778,
          13.112309699416361,
          13.144625634537347,
          13.027390013706858,
          13.000709194539693,
          13.134711032757846,
          12.9933128354574,
          12.930484198421361,
          13.126513080305957,
          13.07365024405826,
          14.12269496787528,
          13.972806466428745,
          14.10548748452548,
          13.922555915868864,
          14.09867748525921,
          13.95813031344114,
          14.045985255517223,
          14.12016585703095,
          14.132614010197665,
          14.084015902106337,
          13.852466311607346,
          14.050492264945758,
          13.921063017956287,
          14.072093350927242,
          13.925685602123968,
          14.086459441132561,
          13.874269103147828,
          13.92214261780304,
          14.136869802256117,
          14.097241094381955,
          13.940794906746802,
          14.076941826948941,
          14.122628912918302,
          13.930557078675157,
          13.8573674929975,
          14.127432078110575,
          13.993238901044913,
          14.006235525094418,
          14.072123165220727,
          14.028475769305256,
          14.144984169829938,
          14.074686531793851,
          14.107049383051455,
          13.960075633323962,
          14.103954304914923,
          13.862686871525899,
          14.045080555002997,
          13.862017813093876,
          13.986066341330359,
          14.06159681891131,
          13.936930240164077,
          13.983417910078565,
          13.974669139289492,
          13.91662139293861,
          13.887839836291032,
          14.116398342906445,
          13.918226378805853,
          13.979996969340872,
          14.078641030071836,
          14.052471949481085,
          13.949147117926737,
          14.13452304000411,
          14.092307765231123,
          13.960314746867658,
          14.011273701535291,
          13.961010358617964,
          13.897837292484835,
          14.0885858394397,
          14.0261872945007,
          13.87037842582871,
          14.119634931364807,
          13.913786887427417,
          14.04115624511886,
          13.906004703129092,
          13.996839364475822,
          14.119349133786494,
          14.045159853721177,
          13.95530321887098,
          14.041228497422683,
          13.9541327228826,
          13.941554304699059,
          13.937817593816478,
          13.850553435227596,
          14.051011172559315,
          13.9831048059282,
          14.09048693678722,
          13.94060199398295,
          13.973882333550096,
          13.876755282812383,
          14.04758734312979,
          13.863772981563468,
          14.075156549316095,
          14.087613655388001,
          13.990309812770064,
          14.118629822504712,
          13.94397871777218,
          14.052732413677676,
          14.084778696686792,
          14.031161723355455,
          14.133868399891682,
          13.919958876321257,
          14.008844044727187,
          13.893807855411682,
          14.117525158002248,
          14.082731447650369,
          13.920157394026601,
          14.098997520030682,
          13.926463323134564,
          14.032638291988013,
          14.019538464238822,
          14.12738714134077,
          14.133259464735586,
          14.040930311319082,
          13.962850471477699,
          14.034289007653111,
          14.148929983596243,
          14.106033285066232,
          13.923461491409146,
          13.872363590559651,
          13.867188591497973,
          14.057978292565872,
          14.010655787570434,
          13.8999671366934,
          13.962229785845128,
          14.135198691134187,
          14.006007262554556,
          13.937864553630405,
          14.050887669442176,
          13.897845765688537,
          13.900160091399105,
          13.89533739795924,
          13.877698105630722,
          14.056075627306349,
          13.872746782695769,
          14.11816060024341,
          13.875218710976647,
          14.134849406422193,
          13.981519188151884,
          13.956928910235701,
          13.891278449833736,
          14.050412735102972,
          14.108178049990276,
          14.136299340563276,
          13.92710325071681,
          13.931822121616804,
          13.933582136207857,
          14.128010712773083,
          14.034488162290227,
          14.108034754942075,
          14.090882341641748,
          14.056534363117908,
          14.141265859386591,
          13.89225808841013,
          13.885831437317337,
          14.050470870060238,
          14.027329261290339,
          13.926129303625663,
          13.971338822040547,
          13.910049367239852,
          13.883735353554293,
          13.864816044545783,
          13.851396054085672,
          13.983967585232648,
          13.882213039040549,
          14.114317370759043,
          13.961351032189471,
          14.074242901321654,
          13.9932781310264,
          13.89035652378235,
          14.008802413951624,
          14.095105356963717,
          13.960797589978984,
          14.080671459152445,
          13.921782613150814,
          13.904335747890155,
          14.109305677400936,
          14.085671131992402,
          14.009540757869605,
          13.876818968795662,
          13.867457845000573,
          14.146582172743058,
          14.057758102279406,
          13.981400863716544,
          13.94566459116471,
          14.098996313994732,
          14.052875410534948,
          14.0167025688715,
          13.860457820867564,
          14.094078796891502,
          14.089506117667073,
          13.941498739117325,
          13.902839996077942,
          14.127079430090122,
          14.009128108264486,
          14.103072518626725,
          14.076315143037654,
          13.951008534668032,
          14.012450963838115,
          14.138492704325358,
          14.031426443958177,
          14.068366988634988,
          14.134297979832347,
          13.96999568044979,
          14.016046795970528,
          14.010863396685451,
          13.994571998740362,
          13.89898016025705,
          14.056427437159146,
          13.853346126735268,
          14.126424792228466,
          14.010139888020287,
          13.897922595418452,
          13.89220179078043,
          13.940468364089822,
          13.95886951069609,
          13.98421699597947,
          14.018931667240048,
          14.070206861894455,
          13.973806191901812,
          14.109041947869628,
          13.964616406503286,
          14.103529482659185,
          14.081806369893043,
          13.88897317767422,
          13.855470246875155,
          13.922050541298496,
          13.92806246658325,
          13.921795547379642,
          14.054358759536072,
          14.02793364274724,
          14.01192679614219,
          14.113050801456238,
          14.021759468308117,
          14.095177404645954,
          14.13792241409371,
          13.918212395555816,
          13.964857772854103,
          13.934099094171467,
          14.011658588531825,
          14.116878239311978,
          13.951845818339406,
          13.89182189314241,
          13.894833474460789,
          14.084219095978007,
          14.06314393566175,
          13.871693115707723,
          13.905531971881418,
          14.093628676792397,
          13.866563674614943,
          13.973766912255147,
          13.995104309541896,
          14.011298057816054,
          13.99327225388176,
          14.09926680772296,
          14.119738362569883,
          13.86497380176419,
          13.98268723226933,
          14.046332147275633,
          14.084858831522855,
          13.944431484185412,
          13.854085542754502,
          13.884555044906008,
          13.981564946363106,
          13.944385052845616,
          14.120997557364927,
          13.931001672798844,
          13.881659036366413,
          14.118773111776074,
          13.899188617578318,
          14.000256532930463,
          13.990988742023303,
          14.048649689883815,
          13.99813103184489,
          13.957754792301108,
          13.95347415954731,
          13.951264270611528,
          13.853700463872556,
          14.043415210097804,
          14.851990212052993,
          14.883469993943418,
          15.069700866678398,
          14.919078687432513,
          14.92440491885369,
          15.065789443071518,
          15.132697676795502,
          15.129642736736429,
          15.073340763448805,
          15.043887186782305,
          15.053089030842884,
          15.083744560278866,
          14.853721944801112,
          15.105797671415697,
          14.932826043456389,
          15.14451435822622,
          14.87977732133383,
          14.966403189247549,
          15.124690477874216,
          15.132453241333447,
          15.078126367892635,
          14.948502954299117,
          15.02612024115361,
          14.970418079124116,
          15.136392207186372,
          15.097285001010375,
          15.122409127906314,
          15.022552089700634,
          14.869599404122033,
          14.966852497255292,
          15.115869114010113,
          14.98738653068665,
          14.954971916304647,
          15.137065097033727,
          15.073157164363963,
          14.985005444150117,
          14.942263344427884,
          14.941256404782655,
          14.996787759972866,
          14.915779028434521,
          15.00149380772346,
          15.006535240351205,
          15.046544860884856,
          15.128450369612894,
          15.105066177679989,
          14.940390617309443,
          14.98839073102304,
          14.88465710980342,
          14.975626285482017,
          14.948099976554634,
          14.999111866302666,
          14.97454019638795,
          15.026579089118584,
          15.07595692839141,
          14.87416488692775,
          14.924343479724564,
          15.139058420929613,
          15.068252681501882,
          15.083504392788244,
          14.980868222460344,
          14.931271700535218,
          14.999604418430673,
          15.137635490523962,
          15.048116943863404,
          14.97281144829804,
          14.950326640312838,
          15.041390139802527,
          14.859080124221592,
          15.014899043991248,
          15.144728749059592,
          14.93862071001249,
          15.08975038572434,
          14.970083015821112,
          14.952382570816766,
          15.11855241930295,
          15.109625426605227,
          14.889956306478972,
          14.860670272538485,
          15.023089075908993,
          14.88728711075969,
          15.102230875779451,
          15.089118201289814,
          14.990531482967754,
          15.080176312061843,
          14.933623933557708,
          14.964222772859063,
          15.116904568834366,
          14.873181494721564,
          14.869607370079061,
          14.972572594282816,
          14.974126836827764,
          15.146527434635235,
          14.938959339522807,
          15.134661501417355,
          14.920609311151338,
          15.022893684886508,
          14.891579506822314,
          14.868593478300175,
          15.062023641658348,
          15.044015542617592,
          15.014032411716478,
          15.131377963195368,
          14.913134258591102,
          15.058066585208557,
          15.0747945676759,
          15.086581707347746,
          15.11504197425467,
          14.976539789390264,
          14.880423817292103,
          15.13273090192367,
          14.95281414952694,
          14.913226592890066,
          14.968194576373481,
          14.912987326608642,
          15.034786947194325,
          15.019933619129741,
          15.141288860452697,
          14.89294833964527,
          14.95786452440766,
          14.983227678637423,
          15.029851970638905,
          15.096841919021307,
          14.948912713851508,
          15.089137159365604,
          15.037653273865294,
          15.063765634220337,
          14.968436697814221,
          15.092631039983589,
          15.11649399776507,
          14.923135728928365,
          15.046263422219903,
          14.93592583344001,
          14.986088575335538,
          15.149247463373516,
          14.973864200504334,
          15.023400155541637,
          14.95771487865352,
          14.96569938553862,
          14.96415243560693,
          15.133853758294142,
          15.040022333027355,
          15.084555697847696,
          15.077119373817084,
          14.90989548390735,
          15.1023674545327,
          15.046820766906022,
          15.120521062119064,
          15.016298793658388,
          15.05648481838958,
          15.003077313722518,
          15.021120888497547,
          15.124843084898655,
          15.053879439485332,
          15.118084895155594,
          14.975405627218905,
          14.85162353877976,
          14.927277733280446,
          16.083700434765955,
          15.853834457639932,
          15.95020393105811,
          15.90111817921236,
          15.900543935801132,
          15.939298204461618,
          16.02748239371879,
          15.871233899832028,
          16.12969882451219,
          16.122753669615577,
          15.951557252747088,
          15.858229594003863,
          15.945647973903538,
          16.034910953129422,
          15.871024409959896,
          16.008074674356983,
          15.953854550857455,
          15.971250241859813,
          16.009667474694265,
          16.07227116490516,
          16.015463129422585,
          16.085173185664086,
          16.09671325019961,
          15.85927665467499,
          15.880442275885594,
          16.11603278752639,
          15.900673874800956,
          16.12423598716315,
          15.947553643333425,
          16.01317140431567,
          16.066818954892643,
          15.85843641644296,
          15.85437170540702,
          15.974705266714652,
          16.13013196615557,
          16.030722139126308,
          16.10313359508438,
          16.023329545120536,
          15.937221429753706,
          15.86028165973181,
          15.854749619755427,
          16.103871907312207,
          16.149046068154156,
          15.86435704406671,
          16.11798077238992,
          16.13684127294382,
          15.906653696788627,
          15.982308127918998,
          15.942596643210347,
          15.895231424438057,
          15.885198136105277,
          15.937720180681408,
          16.0290284145017,
          15.970143244270467,
          15.953278761421926,
          15.903779549943552,
          16.116659435250074,
          16.0980833601445,
          15.950120879483103,
          16.123598073999354,
          15.949107855916974,
          15.983395757878483,
          15.878302638041529,
          15.955871848300028,
          15.86343457409974,
          15.983143424486434,
          16.055545273510326,
          16.09843457003203,
          15.888316726452246,
          15.860894456106909,
          15.880186958471466,
          15.984423503448692,
          16.017167657966144,
          16.018814208839288,
          15.892989692054652,
          16.066989218014637,
          16.09068070404615,
          15.910497178169447,
          16.067270257204754,
          16.076000971836887,
          15.852206870770399,
          15.994325326557478,
          15.912650775606345,
          15.872882839275858,
          16.132216465923204,
          17.131522409160763,
          17.12504318227417,
          17.062565767195217,
          17.068369717011198,
          16.962768660057588,
          16.89153279263658,
          16.933747280450188,
          17.110466255678542,
          16.879016201221415,
          16.94202705993089,
          16.972356257003625,
          17.000467101273212,
          17.09461681026759,
          16.96638047356086,
          17.005672965892597,
          17.099594491592242,
          16.884556013278583,
          17.14091993334488,
          17.09183537522175,
          17.06581831304658,
          16.931821786694115,
          16.956521736883705,
          16.87058089347347,
          17.101027199977352,
          17.05408726046894,
          16.935392210191168,
          16.862152055357893,
          17.05447619395658,
          16.903051374747758,
          16.872869984240758,
          17.950714072302038,
          17.96733399364878,
          17.86275198639134,
          17.971329899813544,
          17.942357078672494,
          18.099515920646493,
          17.87519262285427,
          17.857589585947153,
          18.09421822064814,
          17.917491211250358,
          17.99137847645086,
          18.98391916561523,
          19.05081320427809,
          19.034767942445782,
          19.100873371065955,
          19.031351680745896,
          18.97067039478231,
          18.8972504924129,
          19.092894946954686,
          19.05591460355336,
          18.996630591582175,
          19.125409547871726,
          18.880759673834987,
          18.90461954290925,
          18.9252655001003,
          18.90361008187455,
          19.040556092218694,
          19.068064806277803,
          18.874223551569344,
          18.92337116099718,
          19.14027912581728,
          18.949720681356418,
          18.866362465775087,
          19.101375233689968,
          19.08143685725666,
          18.9275209495802,
          19.10281013305461,
          19.142138807477703,
          19.086658309298365,
          19.05742203296117,
          19.059636012080123,
          18.85042399192065,
          19.089247622342718,
          18.97487774094134,
          18.996832639917315,
          18.943977751739588,
          19.02657285628307,
          18.994239999943034,
          18.970965468459,
          18.90518605900726,
          19.0835795778132,
          19.065045455505228,
          18.978229571699668,
          18.87498661597842,
          19.980275229550617,
          19.932963765835982,
          20.070529642169063,
          19.998294342660362,
          19.855573696212065,
          19.960636318736622,
          19.917072418259664,
          20.038960734459778,
          19.86121882659639,
          20.138018634666995,
          19.85493924157548,
          20.087776822316187,
          20.121426147892482,
          19.864833158469935,
          19.891648214682682,
          20.12109578706202,
          20.110201044391538,
          20.026830328015702,
          19.869621676902476,
          19.897413580410177,
          20.082223649499067,
          20.08575334806187,
          20.01751069870383,
          19.9176908827373,
          20.112027374124178,
          20.064482951594318,
          19.95742061542938,
          19.943193311225755,
          19.851049939289922,
          20.00566488336815,
          20.067247736621034,
          19.928833097752037,
          19.909465802703895,
          20.12148169374483,
          20.005000907083016,
          19.86420833421905,
          19.92735694539769,
          20.140402303652206,
          20.115551238023663,
          20.853100502583676,
          21.035513906169566,
          21.07961788089033,
          21.1080447364221,
          21.06161324779512,
          20.915997630954475,
          20.88468001714775,
          21.123466701751866,
          21.002219978825657,
          21.1105090319787,
          21.03877823383358,
          20.88068197060969,
          21.047839365065602,
          21.056929590333354,
          21.135520740418862,
          20.97081297996644,
          21.051724149561725,
          21.050158611543406,
          21.072040808633886,
          20.913524181981344,
          21.079174853433088,
          20.984820988234134,
          20.90738670864009,
          21.00012248421115,
          21.103602641991873,
          20.925216343871917,
          20.895963563495133,
          20.890136832053543,
          20.922053073197432,
          21.06115926005627,
          21.078117803288453,
          21.053732347184987,
          20.88215276018432,
          20.928911876285817,
          21.053051047281272,
          21.12387703001704,
          20.86436839668943,
          21.021782923671758,
          21.12221269149532,
          21.042430712561735,
          20.934855877088307,
          20.997354083565853,
          21.134448635179233,
          20.888143103416667,
          21.09797749232493,
          20.886858425071367,
          21.071618662999256,
          21.091989604979116,
          21.077716779652388,
          21.126398459037,
          20.942174192674116,
          21.12238632312243,
          20.998643763033837,
          21.045196447955135,
          20.886993903384667,
          20.940512285618777,
          20.912376382421066,
          20.901526254048463,
          20.924844574492575,
          20.880870505130257,
          21.040600954821333,
          20.905208318694896,
          20.920207424460777,
          21.079988131924274,
          20.879489723382385,
          20.94311194525212,
          21.00836280875249,
          21.034171840779972,
          20.934461942982118,
          20.9245390993973,
          20.855398035751428,
          21.035419290348766,
          20.938732708649802,
          21.137360677141583,
          21.12240404890114,
          21.136352706671726,
          21.12319730575731,
          20.964918216994835,
          21.042938802500807,
          20.93707784584028,
          21.144562883025827,
          21.04768418318652,
          20.982038508405836,
          20.88241190904284,
          20.956413027228574,
          20.997360406289044,
          20.905448014924882,
          21.088883298478272,
          21.14385560121746,
          20.875653786242843,
          20.897056344390084,
          20.875125949470807,
          20.897010249522967,
          20.88494031777454,
          20.856080159177136,
          21.14366160924862,
          20.955013161034937,
          20.887857312454607,
          21.10861792509797,
          20.911755583443107,
          21.01038510013874,
          20.863583774352914,
          21.06639807589291,
          21.04395204049055,
          20.859869653305942,
          20.939266645122025,
          20.977318831541453,
          20.985759305376835,
          21.03028882188809,
          21.092201622881518,
          20.91070128423781,
          20.95664531367888,
          21.130908592224262,
          21.10771846525744,
          21.097438261253235,
          20.89763360747786,
          20.945407337602322,
          20.95996659900677,
          20.983216776255727,
          21.091721716072527,
          20.951631143651667,
          21.037778578490855,
          21.00809410470617,
          21.050326225144527,
          21.035285834019152,
          21.084621498745094,
          21.052934430342443,
          20.965626400207523,
          20.9448714385829,
          21.136658716542385,
          20.916390918834256,
          20.93356484547688,
          20.935101952443656,
          21.131506330530517,
          21.04192306627717,
          20.960393031664402,
          20.987980062421084,
          20.887728035411065,
          21.00501099868519,
          21.077722505296244,
          21.037325992716376,
          21.146868111434095,
          20.895144265685587,
          21.06287009022871,
          20.97283865066033,
          21.081435327869993,
          21.0121395579185,
          21.101644248421717,
          21.08146650576252,
          21.078989248733663,
          20.939503953951316,
          20.92267613670946,
          21.075916095226223,
          21.1193188485567,
          21.066188575127253,
          20.861735994069154,
          21.054498057373607,
          21.069749834192674,
          20.950024154815598,
          20.992921765264516,
          20.92984384181811,
          20.985821739465543,
          20.89804477444727,
          20.95741549048511,
          20.969858791305736,
          21.04876934515802,
          21.07361079329054,
          20.85147441156919,
          20.93347371990532,
          20.87291429585325,
          21.053462032375073,
          21.034981530744272,
          21.061995534240474,
          21.057084349058037,
          21.027720462664586,
          20.86343840022498,
          21.149841181175514,
          21.1022556316455,
          21.045448961220266,
          20.918799038227714,
          21.09548081530602,
          21.055944819743175,
          21.082780678253084,
          20.970446870962405,
          21.046242654804356,
          21.005403907735133,
          20.997699758082838,
          20.975671706941995,
          20.992370094402627,
          21.147967406127776,
          20.919886334376013,
          21.094249959717413,
          21.125055736671744,
          20.979302898189278,
          20.96402315635844,
          21.14664290834203,
          21.143781960842844,
          20.863122155689204,
          20.92791005468396,
          20.90512685031818,
          20.955519805583457,
          21.045727940173045,
          21.05628532168104,
          20.892595536284066,
          21.049646364775096,
          20.99375157705684,
          21.035634079671357,
          20.885850848041464,
          20.921257406823695,
          20.913772878835317,
          20.95277200665454,
          20.888671448536453,
          21.10585450277696,
          21.020934987997254,
          21.073110721193952,
          20.85828751244536,
          20.956313554858717,
          20.891840330175764,
          21.09198646970826,
          20.950152935996776,
          20.859099795310847,
          21.133757723812444,
          21.00559086251659,
          20.985686956039586,
          20.928102362926055,
          20.903067290605854,
          20.869077305802964,
          20.98536757585852,
          20.851809445395478,
          21.1066030833943,
          20.925509434717902,
          21.02033036066179,
          21.114804856693393,
          20.87068473771251,
          21.149596719079376,
          21.069818046556694,
          21.073299890641344,
          20.99515585446124,
          20.95825774727289,
          20.912169189383636,
          20.93304049550187,
          21.020754967796506,
          21.14532765406386,
          21.066835549996377,
          20.997561448952773,
          21.0749525987036,
          21.08967684579893,
          21.10983472454357,
          20.945147124091612,
          21.005424387540586,
          20.94825787342203,
          20.886738368835655,
          21.03914433095283,
          21.118568969957707,
          21.139645772079508,
          20.930666154028938
         ],
         "xaxis": "x",
         "y": [
          -0.03590478768723661,
          0.9282315527011501,
          3.8757756785601254,
          5.9033165938725,
          3.978707930668967,
          5.0517273679093675,
          4.956334217578597,
          -0.008091776565108733,
          5.902537100154403,
          6.068837444621017,
          6.078510349753043,
          6.114397225666616,
          5.860699452529056,
          4.9996716065921225,
          4.05564535447282,
          5.98576843628909,
          3.896191037358156,
          6.1005133466479124,
          4.044064667938542,
          5.927523494845698,
          3.9938544508679015,
          5.131429694139944,
          5.091518278512966,
          4.884943396071611,
          5.060128083349572,
          3.0032117335194197,
          3.8647393123294886,
          2.0817288566817562,
          2.065285642857026,
          1.9382188436453984,
          4.084307249917155,
          4.044581103558718,
          1.8676779661238772,
          4.024138611962475,
          0.900664352450455,
          4.130181285367066,
          1.0116554361891867,
          2.9970392295368757,
          -0.13620830299355544,
          3.8884772318857954,
          5.908675302667913,
          2.1276769778162445,
          4.8813626472100164,
          0.13446032510890962,
          -1.9632049962374882,
          0.9775625726376764,
          -2.022626833234291,
          5.853761337191998,
          5.0243690892882285,
          2.9957697712978035,
          2.8657217116917404,
          4.906752727769265,
          1.9352232689047664,
          2.0093846694188153,
          2.0719667527758747,
          6.000563714040507,
          5.864939260465219,
          6.133979417198803,
          4.863271948206185,
          6.044016788816311,
          1.932405738763843,
          -1.0354152476394574,
          0.8668409894838772,
          0.8944259580234457,
          0.9602025297752609,
          -0.059575976002577025,
          1.9635449637924007,
          2.1048066464217032,
          0.9856978120928198,
          6.05340974336226,
          2.0213800469513687,
          3.1281251164369066,
          3.14434466387241,
          3.9915252307757996,
          6.046238304984868,
          2.9696784261436693,
          1.8906078611207136,
          3.092180870073324,
          3.8538365374499763,
          -0.8825612636675639,
          3.08211388061162,
          3.043656667013583,
          3.925369615376954,
          2.08596753674992,
          4.117792644990205,
          3.127293512586106,
          1.9343139175107582,
          -0.027304283177577937,
          0.10133418880575226,
          -0.07393073626081716,
          5.961257866596728,
          1.004407102884142,
          3.8573398372123724,
          0.8864409166733098,
          4.099621362210045,
          2.0047461104601734,
          0.9490144855162057,
          6.055483638931308,
          5.863527567732558,
          6.094214582506353,
          4.8879337818160975,
          5.988245852694631,
          4.144647668719603,
          4.095713301584138,
          4.069844891701017,
          2.086502022582182,
          5.1188383832980255,
          5.083250249164517,
          0.9510152793542748,
          4.973460186968778,
          3.9858616678282237,
          3.97958173057413,
          1.8781165037414895,
          3.854286444895025,
          3.9251080875132502,
          3.8905244946408635,
          2.8931711590770517,
          2.062804042245829,
          1.9820784938741043,
          3.975117032280452,
          3.9668198430645103,
          3.067148261552253,
          5.984917704598634,
          1.0874553123313009,
          5.950689891703221,
          5.935984921535892,
          6.120253607797982,
          5.877577746520524,
          5.889851494409246,
          5.133949224721699,
          5.910579502900749,
          5.87008758565126,
          4.95278612142954,
          6.091080312551446,
          5.8684439717011845,
          6.0798275666938135,
          5.917194184313161,
          5.879991934397015,
          3.9268731558301715,
          2.1203443041827934,
          2.9182639775909145,
          4.960413044043627,
          5.906203656738169,
          5.9277491189698654,
          6.0848043862267085,
          5.859876171989477,
          6.118855319999047,
          6.112781575321569,
          5.914152035835589,
          6.064406141979898,
          5.86660758578867,
          5.870388028977494,
          6.046580673809517,
          6.09125552224773,
          6.146586494624029,
          5.994599722847486,
          5.958696732928967,
          6.024434154585815,
          6.080575441118031,
          6.136926095712766,
          4.0565889258003285,
          1.9726691217344023,
          2.87951893126882,
          3.997645859070415,
          6.118731626029131,
          5.969034429111091,
          5.956063926780576,
          6.136685219725935,
          6.097337268500038,
          5.851730312004039,
          5.905122109703138,
          5.96448586694532,
          6.031327654852092,
          2.0599148258140505,
          2.9688058679759655,
          4.004844340568437,
          4.089548166968865,
          5.885620476233631,
          5.899275837414409,
          1.934376859302749,
          3.050274572427127,
          6.078218067540173,
          3.130975505505125,
          2.013634172611827,
          0.8796587487592653,
          0.8884484488270237,
          -0.14450959766662858,
          -0.07732917546679959,
          2.1208118777326423,
          2.1343242473480024,
          2.965864554236122,
          0.889052184513994,
          2.918968029000243,
          -0.05030705679399261,
          3.9498697757236947,
          0.8975617547557251,
          4.141727191874568,
          4.927897562533207,
          4.017033094172196,
          4.906150355130883,
          5.121421714831656,
          4.854721458475045,
          4.918374964430635,
          5.092745053491502,
          4.974821563053233,
          5.069173359730752,
          4.958014784386854,
          4.874626465460621,
          5.025608041900136,
          4.862387835330079,
          4.879452956521587,
          4.890312569704526,
          4.9715127942289925,
          5.067819002873528,
          4.960553614077712,
          5.037284034952269,
          4.854762810091945,
          4.923189415268061,
          4.90870962378057,
          5.102944538571426,
          5.071855105166,
          4.934756087839969,
          5.146399091517576,
          4.880491365009361,
          4.947046865555333,
          4.951684636936362,
          5.070745510169895,
          5.114890908403486,
          4.877124312857435,
          5.0767910308549595,
          4.901695163854181,
          5.130477116647986,
          4.956141617426005,
          5.1186870653786425,
          5.064608278051225,
          4.970671502750998,
          5.08851258228385,
          4.899966330713581,
          4.956859548678233,
          3.8982380486013337,
          4.9964617284691,
          5.0579577373880715,
          5.073214421585613,
          1.8872694688624532,
          4.028028571169493,
          3.938687059256062,
          4.077668275095262,
          3.8666257545742058,
          4.007768048519562,
          3.868211711803234,
          3.968440498345204,
          3.857825895941478,
          4.142798600433162,
          4.011327848876652,
          3.9362213154869155,
          4.091806103512829,
          4.148915673508679,
          4.055501912913831,
          3.8639958125014804,
          3.8963635210053735,
          4.127933022001668,
          4.068334318151991,
          4.037960227040658,
          3.941649995486117,
          4.0914035391234185,
          4.033238728214784,
          3.9096163412893743,
          0.8787475213879787,
          2.9523286444869403,
          4.1053805163134545,
          3.875134206460289,
          4.021986542445079,
          1.880583366114896,
          3.9740839228233242,
          4.096143405136754,
          3.920715665092617,
          3.86224555712223,
          2.0850423533693383,
          2.947683962912258,
          2.0292593272078903,
          4.137446645094102,
          3.868357906150187,
          1.8880832646139956,
          2.13298598048444,
          0.9788538717853721,
          3.891994294720732,
          2.0965430616478895,
          3.0670574878220873,
          2.0767141017290083,
          4.138131340400103,
          3.9555690296195976,
          4.117249319232553,
          3.850814447504785,
          3.9215644734238397,
          2.086000254683694,
          3.974249086161943,
          2.0249980805561902,
          4.008003740041476,
          3.9608500665294177,
          4.055405816228641,
          3.8981869441256527,
          3.9319520258067095,
          3.8682797875287105,
          2.039267705900113,
          3.9434035310152824,
          1.8864844075288918,
          4.13335312375955,
          4.125947273464967,
          4.082391614094694,
          3.9123068176295064,
          3.012511454181037,
          4.115954175186188,
          3.93501102960122,
          4.0159835499747505,
          2.8910386663583307,
          2.8562704617934864,
          3.0569197712047327,
          3.946967872707968,
          3.080788347209703,
          4.074625487225477,
          3.8712049947489433,
          3.8724565880818362,
          4.007912264226412,
          4.049785439280667,
          3.9373125712373724,
          4.02302903722105,
          4.062699980171778,
          3.9840452809627616,
          3.907055508064899,
          4.09961126094,
          3.898552808111165,
          3.8830393304346593,
          4.138462013312113,
          3.9510057554712588,
          3.945969112335899,
          3.867141303954427,
          3.951230858987339,
          3.8948362301471,
          4.048775979420347,
          4.07041696394896,
          3.018430821177395,
          4.0057145116391695,
          4.031015921685703,
          3.8802335759771203,
          3.9583434111644515,
          3.939736327946807,
          1.9196369935452298,
          4.094911686372687,
          4.069548377634792,
          4.146610117720218,
          4.0138606032403095,
          3.907869672840269,
          3.918485202832272,
          3.98544964812862,
          3.993872475347246,
          3.9415717560741212,
          3.956805521195037,
          4.116071496575831,
          4.02681926785747,
          3.926899073746389,
          3.8954013110980497,
          3.858546803956337,
          3.9929401222206926,
          4.125128812330239,
          4.062736034351203,
          2.9008095724257617,
          3.974526553663061,
          4.071711475453626,
          3.925035507545979,
          3.9712480247760373,
          3.988686963377137,
          2.1081222397803314,
          4.1057706556656335,
          1.0522385031773613,
          3.8508616124265695,
          3.916604283940429,
          3.903563941074836,
          3.901892621506508,
          3.920607620447362,
          3.936786950648559,
          4.039893555355552,
          4.062934131731984,
          4.049877195662205,
          3.913046514138353,
          2.945357802872722,
          3.977233646876395,
          4.1108623819008185,
          4.111327634398584,
          3.8619350863156963,
          4.088622897065687,
          3.964288823350175,
          3.993213115016403,
          4.090244551280071,
          3.956438051117972,
          4.986684799065539,
          5.101531765422288,
          2.998803562708794,
          -1.1262591939240978,
          -0.8528034956365022,
          -1.9620908513017101,
          -2.1224818074351335,
          -2.1152638183244354,
          -1.0558684464291332,
          -1.9405847465968458,
          -1.9427898972733544,
          -1.0759939694855778,
          -1.9843326208328325,
          -2.1167393643938937,
          -1.9177262541750875,
          0.1317973944618516,
          -1.880208882113614,
          -2.0785343093887114,
          0.1375783311902651,
          -2.0098660615831405,
          -1.8587602161454,
          -1.962885707654482,
          -2.050030958307503,
          5.958143359288244,
          5.9337321145687385,
          6.108495679929678,
          5.989835840594015,
          5.959247703536149,
          6.0523491591914595,
          1.8942892238724593,
          2.0793345476461713,
          5.905514561968596,
          5.851156366927116,
          2.862780965243821,
          3.0683982497148596,
          5.956340427494642,
          2.860893336338545,
          3.0290685699683824,
          5.879512233780933,
          5.89171380569723,
          4.853556483232164,
          4.986642667534868,
          5.1058633193286,
          5.010408810771454,
          6.1445196064090135,
          6.087857257975583,
          5.905363495160356,
          6.104232444639323,
          5.984345623944672,
          6.103752888165414,
          5.07273178373586,
          6.135176081052642,
          1.9832047617457804,
          1.92436736389307,
          1.9389173992161377,
          1.9185533236839263,
          1.9798104737223101,
          1.9952269729763015,
          1.9458604538166475,
          2.098827261248109,
          2.031794913676229,
          1.9860595850602987,
          2.0301763302041995,
          3.142147492393517,
          1.96286838706763,
          6.014873621599906,
          6.033681200440578,
          2.949441567108873,
          4.075591991261142,
          3.0537753871302757,
          6.005914195647294,
          5.990608002786835,
          5.8766022042038815,
          6.138775520744051,
          5.869748625737891,
          6.068294728289522,
          5.978381117982264,
          2.9744540133091584,
          5.969317518481499,
          6.095023310204009,
          1.8570495930012358,
          2.085720621004949,
          5.9966446006778025,
          6.074264247222249,
          3.129109098646623,
          6.112409960743352,
          4.869122513801805,
          5.910119446922026,
          3.0863969991540974,
          6.020556029279902,
          3.972036159573919,
          5.9882848154554065,
          6.109540288702933,
          5.869287466828553,
          4.11395885830183,
          4.016288458824438,
          5.979000411887502,
          3.9196536038824417,
          5.8879491010378775,
          6.096161451022679,
          6.057506007875423,
          6.038752345491891,
          5.939935559767966,
          5.885277844817043,
          6.090838166784736,
          6.1043703660280135,
          6.0910508006835435,
          6.115111762618098,
          5.9243977052034875,
          6.123036714625837,
          5.9282543764882485,
          5.947906388286558,
          6.123373439432175,
          6.090536224402422,
          6.13390142588286,
          1.940610288833808,
          1.9669842900154781,
          2.124191342703034,
          1.9229060723224642,
          2.123085609952912,
          1.9831839356875902,
          1.9056891742566582,
          2.0434655477915946,
          2.076366120269344,
          2.921919991062275,
          1.9475649782472646,
          2.1446407559303604,
          2.119746394025662,
          1.8947938776784885,
          1.8914349855528665,
          2.0095315958910023,
          2.0946712601638477,
          5.9251807721166125,
          6.138049518682299,
          2.970406923753884,
          6.041235797777378,
          5.050714936757752,
          5.068090363910622,
          4.862413522552466,
          5.026606380679332,
          5.050108462684409,
          5.015860988490073,
          4.976580246100046,
          5.132552411877482,
          4.9525597636733165,
          5.135755796518933,
          4.973035787123783,
          4.954954961794744,
          5.078037143439507,
          4.863494085451619,
          3.0733732534363023,
          1.0275409594361518,
          0.8836613988128759,
          1.068813039877543,
          1.0361204853928832,
          0.9312165398922307,
          1.0450513660389393,
          1.0658575448636491,
          1.0106439447821425,
          0.9695145171998827,
          0.918838923957695,
          1.1225665411618588,
          4.989342457338223,
          5.139589356786054,
          4.851351831564147,
          5.117491765844522,
          4.918796999529245,
          5.010552679547901,
          4.941730493588589,
          4.920367655558945,
          5.141368981725846,
          5.128931127554446,
          4.885589075133512,
          5.041638630940104,
          5.000689786581159,
          1.0496537692006203,
          0.9793155685072946,
          1.1126730066007586,
          0.9655454081283357,
          5.083485949149036,
          4.932331978873471,
          5.104039201414706,
          5.11322683367567,
          5.048426043611049,
          4.905233241724016,
          5.071607849652868,
          5.016614327747356,
          5.038335567221229,
          4.913173662362538,
          4.985006736991465,
          5.115085158871042,
          5.064919978766406,
          4.9996730525212625,
          5.130023003814347,
          5.063298093243642,
          5.081580627858121,
          4.9156370200822534,
          4.9343027138144775,
          5.084119491366938,
          5.0506075017130225,
          4.861248427750855,
          4.934859631660087,
          4.982271197179469,
          5.102959658819236,
          5.094608084848194,
          4.878325695494972,
          5.026298748861553,
          4.929078104643684,
          5.083893361068371,
          4.918730940538955,
          4.963446531687608,
          5.006200632398235,
          4.889641408511907,
          5.043136853171335,
          5.149790556272295,
          5.112180334509498,
          5.077809306557921,
          4.9359990671773355,
          5.1244549123225305,
          4.8761027909496875,
          5.0608833014190875,
          4.90152959912733,
          5.025178751365384,
          4.8558506378438,
          4.962740588729133,
          0.883023657804825,
          0.9992573879806961,
          0.9809147717652649,
          0.9078915697961266,
          1.1236163145105853,
          1.0827810632906671,
          0.947131684463454,
          1.1491232241162426,
          0.9194109925329563,
          1.0541975644927253,
          0.9955638886666157,
          0.9740078656539872,
          1.086186872650338,
          1.098798979756955,
          1.0400514879946823,
          1.0518153943859376,
          0.9541059347107889,
          1.1371574637807036,
          5.113669768717091,
          5.007716624112977,
          4.920568656417918,
          5.078595576934701,
          5.01356657328912,
          5.075056192534913,
          4.945318096849585,
          4.855414143563637,
          4.970674883241082,
          4.857641763932514,
          4.9645942766365945,
          5.085363919815758,
          4.865788154184293,
          5.062943484895144,
          5.055453916583343,
          5.09388714330184,
          3.1054762841092844,
          5.001120219210076,
          5.04855434006408,
          5.0331191617738416,
          5.020256664329318,
          5.1091772450111375,
          4.903475150836025,
          4.89238775141102,
          5.075218121001152,
          -0.10378754627267706,
          0.8677200231153598,
          1.0659676704792975,
          5.146737123699494,
          5.060695890316367,
          4.853405970455804,
          4.971534643609369,
          5.142844192278283,
          5.11071547519899,
          1.1182270979999944,
          5.097595185679039,
          5.142545453551004,
          5.022987309649998,
          5.088698879639613,
          5.065558588491113,
          0.9965641142872274,
          1.0106414021636019,
          0.932292952845501,
          1.0626543807254953,
          1.0696995035143253,
          0.877331068077067,
          1.0452154549361818,
          1.0368934913997683,
          0.8594875023551292,
          1.0036524857936584,
          0.9072321927235685,
          1.1266255472292954,
          0.8918829130511856,
          0.9360763614145883,
          0.9340965076570609,
          1.135710201770347,
          4.982352799141758,
          4.020763873299754,
          4.957486549346829,
          5.015001800596222,
          5.1165438725307135,
          1.0580763519483662,
          1.0654599044606279,
          1.0377777906191852,
          1.0286992863095343,
          0.8960822301347878,
          0.9849227546633578,
          1.1309419521893842,
          0.9878610027587305,
          0.9997935958362586,
          0.8708772969098145,
          1.118400148448462,
          1.0842018039760135,
          1.079319865377696,
          0.9826358412884135,
          5.082868224756203,
          4.904687909233192,
          5.011844764208691,
          5.149870944816837,
          4.915492223695394,
          4.86384060913373,
          5.090127718483339,
          4.968249600039953,
          4.905664436749293,
          4.901672669388789,
          5.045650382250239,
          4.919938490159506,
          4.966811878307863,
          4.852714711615636,
          4.957745497947459,
          4.868071363167107,
          4.9544460108454675,
          4.985051139704468,
          4.9439406843978935,
          4.996650902983841,
          4.919547369315156,
          5.056447631354467,
          5.084053839967708,
          5.0210680097247415,
          4.967535949881805,
          4.877818729366562,
          5.07985054324047,
          5.108110394194632,
          5.141129121547873,
          4.88148543379368,
          4.907212180621721,
          5.029333019156198,
          4.871431810778026,
          5.060027371589276,
          4.8847936761065425,
          5.01485632426454,
          5.093564893422083,
          4.920229496509482,
          5.100801997525612,
          5.0768593518738685,
          5.0792026307311415,
          4.87191938384198,
          5.131365630416067,
          4.977332814959317,
          4.880188020698603,
          5.045151440091781,
          3.0815820451987523,
          4.894723560849221,
          4.923375066186591,
          5.100642375161926,
          4.9692398017530195,
          5.003165708898459,
          4.850787027574024,
          5.062198341489863,
          4.876798058191627,
          5.103903688018266,
          5.012840014031144,
          4.984336881086593,
          4.88010969489487,
          2.930346337818055,
          5.139861375237823,
          4.887813138167429,
          5.129726878171438,
          4.971472127618426,
          5.136262444657556,
          4.905016768080502,
          5.022928723591267,
          5.065739043971849,
          2.9678871690160156,
          4.851001078287564,
          3.0792131683180877,
          2.9381709885368537,
          1.93669622841507,
          4.8569848969553275,
          5.105118728225702,
          1.0041480344890155,
          0.9875339712909085,
          1.1324091791793134,
          0.9131395633242345,
          1.0955122417109107,
          0.9201202616906644,
          1.0794842696419071,
          5.029217042889923,
          5.111935030755709,
          4.919540357111789,
          4.892820863269673,
          4.904740698030721,
          4.99678475304978,
          4.968462624406975,
          5.13870762230927,
          4.8962742996512825,
          5.11872179159901,
          5.126324667281833,
          5.006298127309269,
          5.075883146332857,
          5.016252748853217,
          4.99775372937983,
          1.140855756152033,
          1.0508242882711338,
          1.0580146494583333,
          1.0875421636055815,
          1.057912919364027,
          0.8858552745433362,
          1.1327980906606305,
          1.0787910172934312,
          0.9006492784761104,
          5.13715692884659,
          5.06088167209132,
          4.9671845336621345,
          4.911611283705069,
          5.052867215353613,
          4.950838704457489,
          4.973073571575654,
          4.9501769830683156,
          4.953364534244168,
          5.039726633323264,
          -0.028935797684789696,
          0.8771997700254677,
          0.8680210706694191,
          0.9756738832709928,
          4.975245298632176,
          4.876634723460088,
          4.871809939885782,
          0.009372130285302621,
          5.1199975544259155,
          4.934676198466818,
          5.0301474563556665,
          4.865147265751718,
          4.9374957376665245,
          4.851844192059395,
          5.035279502573044,
          5.038727445476109,
          5.067465559874493,
          4.895342933335698,
          4.857595364688096,
          4.9595438425081575,
          5.1367750750334205,
          5.14430530478936,
          5.055322641563703,
          4.914516135758076,
          5.02363599997284,
          4.981067754532394,
          4.8574683652940545,
          4.910599996244224,
          5.097209819957709,
          5.036139270558384,
          0.8958157873239984,
          0.9874700295261291,
          0.9898569038211318,
          0.8578089633840706,
          1.092854959803764,
          0.8724805746941124,
          1.1112389350258087,
          1.1207545905589218,
          0.9812550882134863,
          4.981832519241564,
          5.038703372079256,
          5.070416930470989,
          5.044783805776779,
          4.862078306404997,
          5.035185314524488,
          0.9476385950479239,
          0.9317083604693643,
          4.973743224524625,
          4.8724426645050745,
          5.089514815585424,
          4.992160476778886,
          1.1024248631206275,
          0.01493505694917266,
          0.08187707105573164,
          0.1353251131637536,
          -0.112027213937653,
          4.990751606064177,
          1.0858201831360157,
          1.1165843124575345,
          1.0167416983012234,
          1.1089213275181418,
          0.9004336697728106,
          0.862112146633346,
          0.9552670447254895,
          1.0738267208679504,
          0.9093142250015568,
          1.134533316623405,
          1.07828461058776,
          1.048054406667791,
          1.0321124859406023,
          0.9908863591224013,
          5.06270162506837,
          0.9427652664118339,
          1.0307794274338964,
          1.1045014818234415,
          1.1102044752632187,
          0.9649110528724877,
          4.900077035336526,
          4.943531720320231,
          4.928996465247428,
          4.921587570272174,
          4.927493675304693,
          4.938467036875055,
          5.013503962751768,
          5.085037616870085,
          5.037258027501318,
          4.951452370751368,
          4.997093260751067,
          4.953027477338468,
          5.043918102716166,
          5.014462671079832,
          4.863222307428317,
          4.919863896105351,
          5.112129795022785,
          0.08926440372205746,
          4.926209297713946,
          5.107122798581394,
          4.854061284552609,
          5.075347241025163,
          5.0926784337004465,
          4.895201075147023,
          5.104347848553837,
          4.980842792675659,
          5.089323837725021,
          4.851323175611552,
          4.9457263475045945,
          5.1332415510373375,
          5.039656790178682,
          5.079944064402623,
          4.85956128412615,
          4.928951207246509,
          -0.009598195873681825,
          4.974779172809397,
          5.12008145815712,
          5.0704305764809385,
          4.858717052923,
          -0.09668823656221037,
          0.005365320305108001,
          -0.045043483318347496,
          0.10978774473446049,
          0.9175678565326592,
          0.9686930791821884,
          0.9273926008136297,
          1.1204246209001842,
          0.8619280827691911,
          4.921940095939468,
          5.098648186712837,
          6.126106973259589,
          5.860041641636772,
          6.134944959308362,
          6.065096379154102,
          5.928492384410588,
          6.116836461801785,
          6.067176709846829,
          5.882256926957524,
          5.98945429817871,
          5.908840139094903,
          6.146006157551296,
          3.0935221447796875,
          6.037469173249018,
          6.114462748058439,
          6.041916282678877,
          2.902513699490847,
          3.9063704118590974,
          6.054900160176443,
          2.9365470783036858,
          5.068776488492932,
          5.941403888336914,
          5.920917995158105,
          6.14598218691267,
          5.880502634029863,
          6.042196393330941,
          2.868001896610651,
          4.124965121904558,
          4.055156520060622,
          3.862699541409271,
          3.1257747800525295,
          3.9562626110000334,
          4.097013065456153,
          4.125558923382287,
          3.9321476683775227,
          3.9509416049568826,
          5.935785635024044,
          5.9110296935266815,
          5.857655506838473,
          5.900324139563654,
          5.91726945018011,
          4.884553689281407,
          5.9638433411852665,
          6.119839268491777,
          3.8716338308667972,
          3.9298613168606793,
          6.079891432694606,
          6.039926220020705,
          2.931342489163451,
          4.058720918273421,
          4.100071673997106,
          3.984164798273744,
          4.0635025499600985,
          4.1272209395689,
          4.09381320825813,
          3.8825586612726073,
          3.971382017544363,
          5.965675556548604,
          5.131350293598274,
          5.986764546463575,
          3.972248545472066,
          4.90035583408498,
          6.11716520452003,
          5.994777068038945,
          5.877987100634462,
          6.095694730808232,
          5.913200676919762,
          5.912657084101127,
          6.0807344783413155,
          4.025216029109937,
          6.078620330044917,
          4.96415255557932,
          5.983156957148713,
          6.003499407949699,
          4.8799417299860535,
          6.029602975365405,
          5.915324995298899,
          6.015377369498339,
          6.025465589406528,
          4.121522555469881,
          4.131368393170815,
          4.1399209940674995,
          4.950218133307958,
          4.880652892649321,
          6.02424343924523,
          6.020042406903498,
          5.082923878420046,
          4.01024532875658,
          3.878039767900123,
          4.913975946413818,
          5.083553680174558,
          4.993263823464217,
          5.116887688152505,
          3.014661220996526,
          3.033477795620569,
          3.094449355555501,
          4.090758977218254,
          2.910824029432598,
          3.863186308433261,
          2.9148364903892783,
          2.8835704605933707,
          4.0191509950764495,
          4.8863351809720434,
          3.9419680400160484,
          3.9966605204177923,
          5.029123501506928,
          4.975477433750451,
          5.019861238032702,
          5.1175929163300315,
          5.095739007142168,
          5.049870225149125,
          4.924765037457038,
          4.872978180709951,
          5.086797159531884,
          4.974229141336468,
          2.9422651733906355,
          0.8562210307175911,
          1.0459910421204743,
          2.0446348110108237,
          1.054849440531992,
          1.8570059083930446,
          0.9906270547840644,
          1.9807038672452504,
          2.035972338017276,
          1.125578989847381,
          1.001009816512329,
          1.1459596270740862,
          4.135659739779524,
          3.8974347495178376,
          3.925195228656787,
          3.9716510688070534,
          4.023264849099411,
          3.9970032389992416,
          3.977424721817001,
          3.9593639377350107,
          4.061627730712107,
          4.108168930926916,
          3.904977936367686,
          3.8530278149433337,
          4.106362611563132,
          3.9716445763046173,
          0.8955361298801072,
          1.8841365698534978,
          2.125773910691475,
          -1.1384453015867249,
          0.9781473372307329,
          0.139979181551152,
          4.096304805029745,
          1.9894496111167754,
          4.073033390542285,
          4.142441604974393,
          3.892324111970195,
          4.094962086528505,
          0.08049154152148161,
          -0.07953124580854928,
          4.128573383861887,
          3.930880101244166,
          4.071527846046001,
          3.923363450629253,
          3.983356454190857,
          3.985281071585157,
          3.892314527286431,
          4.0014567708449915,
          3.064325749928045,
          4.034222735144067,
          1.0112303758773291,
          3.1363919641029936,
          3.9951229662399963,
          4.005195984366814,
          3.887387052557645,
          3.1374447082163184,
          2.8761899431175535,
          3.88993975985119,
          2.945397519278009,
          2.9868771811438295,
          3.017827386324129,
          2.894177761190322,
          4.125240511279594,
          2.918090848519004,
          3.861153660000244,
          2.036698720914461,
          2.867881334042032,
          2.095344260476706,
          3.9525738127218233,
          1.8515065013316852,
          4.149970892691551,
          3.995388278220974,
          1.9721250681419578,
          2.9804816325998393,
          3.0896260987381408,
          2.9570812285838413,
          3.0581577826759188,
          2.9068971303045887,
          2.850702412714596,
          2.9187257725845392,
          2.9779926206971292,
          3.9139855260956566,
          3.9230765058262502,
          3.9665861338878297,
          3.9279120608618503,
          3.970951235658617,
          3.864686923169555,
          3.8724018429229203,
          3.9113425524920418,
          2.896223283156337,
          2.9139574555563885,
          4.074903574339273,
          2.0233323420957667,
          3.8519660432031917,
          1.909185854537873,
          1.8817319062849238,
          2.033453995491929,
          2.0460957454032673,
          2.0372911998087972,
          1.954471050445971,
          1.9527090798358553,
          1.9843245867423223,
          1.8561659088714775,
          1.88569169621817,
          2.1064198273056585,
          1.8965511089217615,
          2.1287937612945473,
          1.919174856828639,
          2.1179024826818256,
          1.9803019272530642,
          2.0323467339200656,
          2.0660349175713755,
          2.0347321459155183,
          1.9593482446544945,
          1.9080298447835928,
          2.0539933467148543,
          1.9129132228430425,
          1.9934874702249363,
          -0.02870116420693916,
          -0.05210128291264145,
          -0.10047439144191952,
          -0.044356969447262376,
          0.05458618262656226,
          -0.14653734661463574,
          -0.09002763183866247,
          -0.043781817484109586,
          -0.05597401553399081,
          0.09067081957678477,
          -0.08320361165304499,
          2.03453521767649,
          1.9145985472044826,
          1.8885950347661653,
          1.885266892709371,
          2.067160705672747,
          1.9460581835063557,
          2.0709599371995924,
          1.9480569514706114,
          2.1073210950565904,
          2.000858548039986,
          2.077626893914151,
          1.9882699082458728,
          2.008017051652395,
          0.005527214424741689,
          0.02554046071467722,
          -0.037693095628476295,
          -0.010245983274007359,
          1.9750426236602716,
          1.900031580242682,
          2.0037363345892527,
          2.0895085535794005,
          1.853454415060486,
          2.063374284798566,
          1.9529093931544954,
          2.0108644954669983,
          1.938229850091654,
          2.1385491643717636,
          2.108176729423812,
          1.9406990892519578,
          2.0711525910648922,
          1.8552841264106712,
          1.9776668841386278,
          2.0496529598024713,
          2.107788893789865,
          1.8677557542590248,
          1.901759692440224,
          2.1304886940311696,
          1.9168357220965808,
          1.8663211651570009,
          1.9153920169120715,
          2.06848685620461,
          2.1289193783076,
          1.8554532478695722,
          1.8904848765617261,
          2.018556580579748,
          2.0801394484839855,
          2.035880979472754,
          1.9639260361327886,
          2.122181424782647,
          1.8538709728973122,
          2.112906286656859,
          2.009868677611054,
          2.0632173304662764,
          1.9331822183766112,
          2.009812423848062,
          2.1273696581377637,
          2.0310485489097116,
          2.1338948751064417,
          1.9098742821310668,
          2.095996606457796,
          -0.14782552596531667,
          0.0689248344258308,
          -0.009243628764470657,
          0.08490074269810563,
          0.09189172264516732,
          0.08369455784639648,
          -0.11020008652824298,
          -0.039914832097117894,
          0.14760229794205396,
          0.020541586748214852,
          0.041979968053057454,
          0.06721846620059127,
          0.04828730151911084,
          -0.050326820002286166,
          -0.10123595790027065,
          2.1324964228165575,
          2.120074372757072,
          2.100375482228484,
          1.886178113945915,
          2.1132464889904354,
          1.9462184473775852,
          1.912435665110598,
          2.1074024659120703,
          1.982129654358931,
          1.9959172180523443,
          2.128135089395077,
          2.0144264125912157,
          2.1078718807470014,
          1.8957877310510423,
          2.0142973688073686,
          1.9655929335664073,
          2.1406525068443205,
          2.134211880915122,
          1.9197084527576476,
          1.981672479365283,
          2.032229564922125,
          2.0949139082332815,
          0.09256964168549756,
          -0.03879786377683882,
          1.9744942601131932,
          1.9770064156995175,
          2.0108163680026108,
          2.100700401145125,
          2.0625874800199924,
          2.021374450406396,
          0.07645860809936042,
          1.902944076681428,
          2.086149510060962,
          2.1461079373490497,
          1.9027438740593527,
          2.063278217250606,
          0.11006965580528369,
          0.1297414293722524,
          0.02395565824641005,
          -0.13564364074485383,
          -0.029191102039065914,
          -0.11690001048049956,
          0.0703627580973015,
          0.09975665011557355,
          0.14835292328860814,
          0.14170005777873831,
          -0.04219554779648316,
          -0.06742233748653727,
          0.020432936400547108,
          -0.09661455441643177,
          0.055887316437329304,
          -0.14743401997932845,
          1.9955537345372059,
          2.020285591446641,
          1.9546762253750272,
          -0.03361928250819669,
          0.006420397929794375,
          0.04357131383468876,
          -0.11051576808837463,
          0.0707252188939437,
          -0.10047026971262356,
          0.12412762143821673,
          -0.06972444385959504,
          -0.03428199282607651,
          0.10667483995738433,
          0.1409179181118896,
          0.02840322961562966,
          0.08151158054286517,
          -0.007110569919673404,
          1.9136980624392272,
          1.9997614009967315,
          1.9641773542979242,
          1.90015707272448,
          1.8988458236595642,
          2.090382588866291,
          1.8668902082660113,
          2.1235298943709084,
          2.0194588512104787,
          2.063960178241543,
          1.9821048087347881,
          1.8902757517768738,
          2.031156714911078,
          1.8855079673317343,
          2.120222845940846,
          1.9682655783459264,
          1.9085126700003028,
          2.144504059994616,
          2.1027071200496366,
          2.0623552977964743,
          1.8581689711366738,
          2.0026932675490277,
          1.8910716235541412,
          1.9284139994095406,
          1.8513143340130418,
          1.9347080205437528,
          2.027972382287587,
          2.034457458320762,
          2.0698969493719828,
          1.9585989728457025,
          2.0779416922406346,
          1.9413888187944441,
          1.9607147599408628,
          1.956312743210355,
          1.8543729033240697,
          1.8595751093989068,
          1.859949608999182,
          1.9928369811339912,
          1.8832752412579605,
          1.8734674359210977,
          1.9766515738523338,
          2.056837880874106,
          2.123251466421295,
          2.1402700879057255,
          1.9378561467706963,
          2.11177936219669,
          2.036597212306864,
          1.8896830612914888,
          1.9203762159845754,
          2.0219561400143693,
          2.020837876653171,
          2.0857905436378066,
          2.106199588188637,
          1.9345879398171362,
          1.9406779480100935,
          1.9564878194965338,
          2.128191122345841,
          1.9296599424136613,
          1.853533726195884,
          1.9748700029436226,
          0.026860412411261525,
          -0.04293305490672375,
          -0.07887616219618276,
          0.012299150059136787,
          -0.06252006210351684,
          1.9094547158661108,
          2.144942662742884,
          1.98048864906313,
          1.990808259140906,
          1.8806879181467904,
          2.093457252324586,
          2.1011820354407442,
          1.8772179447770627,
          2.003932819947027,
          1.8787392662408622,
          1.9380147913592811,
          2.1172783094102376
         ],
         "yaxis": "y"
        },
        {
         "customdata": [
          [
           true,
           "Streptococcus agalactiae"
          ],
          [
           true,
           "Streptococcus agalactiae"
          ],
          [
           true,
           "Streptococcus anginosus"
          ],
          [
           true,
           "Streptococcus anginosus"
          ],
          [
           true,
           "Streptococcus anginosus"
          ],
          [
           true,
           "Streptococcus agalactiae"
          ],
          [
           true,
           "Streptococcus agalactiae"
          ],
          [
           true,
           "Streptococcus agalactiae"
          ],
          [
           true,
           "Streptococcus agalactiae"
          ],
          [
           true,
           "Streptococcus agalactiae"
          ],
          [
           true,
           "Streptococcus agalactiae"
          ],
          [
           true,
           "Streptococcus agalactiae"
          ],
          [
           true,
           "Streptococcus agalactiae"
          ],
          [
           true,
           "Streptococcus agalactiae"
          ],
          [
           true,
           "Streptococcus anginosus"
          ],
          [
           true,
           "Streptococcus salivarius"
          ],
          [
           true,
           "Staphylococcus aureus"
          ],
          [
           true,
           "Streptococcus pneumoniae"
          ],
          [
           true,
           "Streptococcus pneumoniae"
          ],
          [
           true,
           "Streptococcus pyogenes"
          ],
          [
           true,
           "Streptococcus pyogenes"
          ],
          [
           true,
           "Streptococcus pyogenes"
          ],
          [
           true,
           "Streptococcus oralis"
          ],
          [
           true,
           "Streptococcus oralis"
          ],
          [
           true,
           "Streptococcus oralis"
          ],
          [
           true,
           "Streptococcus pneumoniae"
          ],
          [
           true,
           "Streptococcus pyogenes"
          ],
          [
           true,
           "Streptococcus pyogenes"
          ],
          [
           true,
           "Streptococcus pyogenes"
          ],
          [
           true,
           "Streptococcus pyogenes"
          ],
          [
           true,
           "Streptococcus pyogenes"
          ],
          [
           true,
           "Streptococcus pyogenes"
          ],
          [
           true,
           "Streptococcus agalactiae"
          ],
          [
           true,
           "Streptococcus anginosus"
          ],
          [
           true,
           "Streptococcus sanguinis"
          ],
          [
           true,
           "Streptococcus agalactiae"
          ],
          [
           true,
           "Staphylococcus lugdunensis"
          ],
          [
           true,
           "Staphylococcus lugdunensis"
          ],
          [
           true,
           "Streptococcus agalactiae"
          ],
          [
           true,
           "Streptococcus agalactiae"
          ],
          [
           true,
           "Streptococcus agalactiae"
          ],
          [
           true,
           "Streptococcus agalactiae"
          ],
          [
           true,
           "Streptococcus agalactiae"
          ],
          [
           true,
           "Streptococcus agalactiae"
          ],
          [
           true,
           "Streptococcus agalactiae"
          ],
          [
           true,
           "Streptococcus agalactiae"
          ],
          [
           true,
           "Streptococcus pyogenes"
          ],
          [
           true,
           "Streptococcus pyogenes"
          ],
          [
           true,
           "Streptococcus pyogenes"
          ],
          [
           true,
           "Streptococcus pyogenes"
          ],
          [
           true,
           "Streptococcus pyogenes"
          ],
          [
           true,
           "Streptococcus pyogenes"
          ],
          [
           true,
           "Streptococcus pyogenes"
          ],
          [
           true,
           "Streptococcus pyogenes"
          ],
          [
           true,
           "Streptococcus pyogenes"
          ],
          [
           true,
           "Streptococcus pyogenes"
          ],
          [
           true,
           "Streptococcus pyogenes"
          ],
          [
           true,
           "Streptococcus pyogenes"
          ],
          [
           true,
           "Staphylococcus aureus"
          ],
          [
           true,
           "Staphylococcus lugdunensis"
          ],
          [
           true,
           "Staphylococcus lugdunensis"
          ],
          [
           true,
           "Staphylococcus lugdunensis"
          ],
          [
           true,
           "Staphylococcus aureus"
          ],
          [
           true,
           "Streptococcus pneumoniae"
          ],
          [
           true,
           "Staphylococcus lugdunensis"
          ],
          [
           true,
           "Enterococcus faecalis"
          ],
          [
           true,
           "Enterococcus faecalis"
          ],
          [
           true,
           "Enterococcus faecalis"
          ],
          [
           true,
           "Streptococcus anginosus"
          ],
          [
           true,
           "Streptococcus anginosus"
          ],
          [
           true,
           "Streptococcus anginosus"
          ],
          [
           true,
           "Streptococcus anginosus"
          ],
          [
           true,
           "Streptococcus salivarius"
          ],
          [
           true,
           "Enterococcus faecalis"
          ],
          [
           true,
           "Streptococcus oralis"
          ],
          [
           true,
           "Streptococcus oralis"
          ],
          [
           true,
           "Streptococcus oralis"
          ],
          [
           true,
           "Enterococcus faecium"
          ],
          [
           true,
           "Staphylococcus aureus"
          ],
          [
           true,
           "Staphylococcus aureus"
          ],
          [
           true,
           "Staphylococcus aureus"
          ],
          [
           true,
           "Staphylococcus aureus"
          ],
          [
           true,
           "Staphylococcus aureus"
          ],
          [
           true,
           "Staphylococcus aureus"
          ],
          [
           true,
           "Staphylococcus aureus"
          ],
          [
           true,
           "Staphylococcus aureus"
          ],
          [
           true,
           "Staphylococcus aureus"
          ],
          [
           true,
           "Staphylococcus aureus"
          ],
          [
           true,
           "Staphylococcus aureus"
          ],
          [
           true,
           "Staphylococcus aureus"
          ],
          [
           true,
           "Staphylococcus aureus"
          ],
          [
           true,
           "Staphylococcus aureus"
          ],
          [
           true,
           "Staphylococcus aureus"
          ],
          [
           true,
           "Staphylococcus aureus"
          ],
          [
           true,
           "Staphylococcus aureus"
          ],
          [
           true,
           "Staphylococcus aureus"
          ],
          [
           true,
           "Staphylococcus aureus"
          ],
          [
           true,
           "Staphylococcus aureus"
          ],
          [
           true,
           "Staphylococcus aureus"
          ],
          [
           true,
           "Staphylococcus aureus"
          ],
          [
           true,
           "Staphylococcus aureus"
          ],
          [
           true,
           "Staphylococcus aureus"
          ],
          [
           true,
           "Staphylococcus aureus"
          ],
          [
           true,
           "Staphylococcus aureus"
          ],
          [
           true,
           "Staphylococcus aureus"
          ],
          [
           true,
           "Staphylococcus aureus"
          ],
          [
           true,
           "Staphylococcus aureus"
          ],
          [
           true,
           "Staphylococcus aureus"
          ],
          [
           true,
           "Staphylococcus aureus"
          ],
          [
           true,
           "Staphylococcus aureus"
          ],
          [
           true,
           "Staphylococcus aureus"
          ],
          [
           true,
           "Staphylococcus aureus"
          ],
          [
           true,
           "Staphylococcus aureus"
          ],
          [
           true,
           "Staphylococcus aureus"
          ],
          [
           true,
           "Staphylococcus aureus"
          ],
          [
           true,
           "Staphylococcus aureus"
          ],
          [
           true,
           "Staphylococcus aureus"
          ],
          [
           true,
           "Staphylococcus aureus"
          ],
          [
           true,
           "Staphylococcus aureus"
          ],
          [
           true,
           "Staphylococcus aureus"
          ],
          [
           true,
           "Staphylococcus aureus"
          ],
          [
           true,
           "Staphylococcus aureus"
          ],
          [
           true,
           "Staphylococcus aureus"
          ],
          [
           true,
           "Staphylococcus aureus"
          ],
          [
           true,
           "Staphylococcus aureus"
          ],
          [
           true,
           "Staphylococcus aureus"
          ],
          [
           true,
           "Staphylococcus aureus"
          ],
          [
           true,
           "Staphylococcus aureus"
          ],
          [
           true,
           "Staphylococcus aureus"
          ],
          [
           true,
           "Staphylococcus aureus"
          ],
          [
           true,
           "Staphylococcus aureus"
          ],
          [
           true,
           "Staphylococcus aureus"
          ],
          [
           true,
           "Staphylococcus aureus"
          ],
          [
           true,
           "Staphylococcus aureus"
          ],
          [
           true,
           "Staphylococcus aureus"
          ],
          [
           true,
           "Staphylococcus aureus"
          ],
          [
           true,
           "Staphylococcus aureus"
          ],
          [
           true,
           "Staphylococcus aureus"
          ],
          [
           true,
           "Staphylococcus aureus"
          ],
          [
           true,
           "Staphylococcus aureus"
          ],
          [
           true,
           "Staphylococcus aureus"
          ],
          [
           true,
           "Staphylococcus aureus"
          ],
          [
           true,
           "Staphylococcus aureus"
          ],
          [
           true,
           "Staphylococcus aureus"
          ],
          [
           true,
           "Staphylococcus aureus"
          ],
          [
           true,
           "Staphylococcus aureus"
          ],
          [
           true,
           "Staphylococcus aureus"
          ],
          [
           true,
           "Staphylococcus aureus"
          ],
          [
           true,
           "Staphylococcus aureus"
          ],
          [
           true,
           "Staphylococcus aureus"
          ],
          [
           true,
           "Staphylococcus aureus"
          ],
          [
           true,
           "Staphylococcus aureus"
          ],
          [
           true,
           "Staphylococcus aureus"
          ],
          [
           true,
           "Staphylococcus aureus"
          ],
          [
           true,
           "Staphylococcus aureus"
          ],
          [
           true,
           "Staphylococcus aureus"
          ],
          [
           true,
           "Staphylococcus aureus"
          ],
          [
           true,
           "Staphylococcus aureus"
          ],
          [
           true,
           "Staphylococcus aureus"
          ],
          [
           true,
           "Staphylococcus aureus"
          ],
          [
           true,
           "Staphylococcus aureus"
          ],
          [
           true,
           "Staphylococcus aureus"
          ],
          [
           true,
           "Staphylococcus aureus"
          ],
          [
           true,
           "Staphylococcus aureus"
          ],
          [
           true,
           "Staphylococcus aureus"
          ],
          [
           true,
           "Staphylococcus aureus"
          ],
          [
           true,
           "Staphylococcus aureus"
          ],
          [
           true,
           "Staphylococcus aureus"
          ],
          [
           true,
           "Staphylococcus aureus"
          ],
          [
           true,
           "Staphylococcus aureus"
          ],
          [
           true,
           "Staphylococcus aureus"
          ],
          [
           true,
           "Staphylococcus aureus"
          ],
          [
           true,
           "Staphylococcus aureus"
          ],
          [
           true,
           "Staphylococcus aureus"
          ],
          [
           true,
           "Staphylococcus aureus"
          ],
          [
           true,
           "Staphylococcus aureus"
          ],
          [
           true,
           "Staphylococcus aureus"
          ],
          [
           true,
           "Staphylococcus aureus"
          ],
          [
           true,
           "Staphylococcus aureus"
          ],
          [
           true,
           "Staphylococcus aureus"
          ],
          [
           true,
           "Staphylococcus aureus"
          ],
          [
           true,
           "Staphylococcus aureus"
          ],
          [
           true,
           "Staphylococcus aureus"
          ],
          [
           true,
           "Staphylococcus aureus"
          ],
          [
           true,
           "Staphylococcus aureus"
          ],
          [
           true,
           "Staphylococcus aureus"
          ],
          [
           true,
           "Staphylococcus aureus"
          ],
          [
           true,
           "Staphylococcus aureus"
          ],
          [
           true,
           "Staphylococcus aureus"
          ],
          [
           true,
           "Staphylococcus aureus"
          ],
          [
           true,
           "Staphylococcus aureus"
          ],
          [
           true,
           "Staphylococcus aureus"
          ],
          [
           true,
           "Staphylococcus aureus"
          ],
          [
           true,
           "Staphylococcus aureus"
          ],
          [
           true,
           "Staphylococcus aureus"
          ],
          [
           true,
           "Staphylococcus aureus"
          ],
          [
           true,
           "Staphylococcus aureus"
          ],
          [
           true,
           "Staphylococcus aureus"
          ],
          [
           true,
           "Staphylococcus aureus"
          ],
          [
           true,
           "Staphylococcus aureus"
          ],
          [
           true,
           "Staphylococcus aureus"
          ],
          [
           true,
           "Staphylococcus aureus"
          ],
          [
           true,
           "Staphylococcus aureus"
          ],
          [
           true,
           "Staphylococcus aureus"
          ],
          [
           true,
           "Staphylococcus aureus"
          ],
          [
           true,
           "Staphylococcus aureus"
          ],
          [
           true,
           "Staphylococcus aureus"
          ],
          [
           true,
           "Staphylococcus aureus"
          ],
          [
           true,
           "Staphylococcus aureus"
          ],
          [
           true,
           "Staphylococcus aureus"
          ],
          [
           true,
           "Staphylococcus aureus"
          ],
          [
           true,
           "Staphylococcus aureus"
          ],
          [
           true,
           "Staphylococcus aureus"
          ],
          [
           true,
           "Staphylococcus aureus"
          ],
          [
           true,
           "Staphylococcus aureus"
          ],
          [
           true,
           "Staphylococcus aureus"
          ],
          [
           true,
           "Staphylococcus aureus"
          ],
          [
           true,
           "Staphylococcus aureus"
          ],
          [
           true,
           "Staphylococcus aureus"
          ],
          [
           true,
           "Staphylococcus aureus"
          ],
          [
           true,
           "Staphylococcus aureus"
          ],
          [
           true,
           "Staphylococcus aureus"
          ],
          [
           true,
           "Staphylococcus aureus"
          ],
          [
           true,
           "Staphylococcus aureus"
          ],
          [
           true,
           "Staphylococcus aureus"
          ],
          [
           true,
           "Staphylococcus aureus"
          ],
          [
           true,
           "Staphylococcus aureus"
          ],
          [
           true,
           "Staphylococcus aureus"
          ],
          [
           true,
           "Staphylococcus aureus"
          ],
          [
           true,
           "Staphylococcus aureus"
          ],
          [
           true,
           "Staphylococcus aureus"
          ],
          [
           true,
           "Staphylococcus aureus"
          ],
          [
           true,
           "Staphylococcus aureus"
          ],
          [
           true,
           "Staphylococcus aureus"
          ],
          [
           true,
           "Staphylococcus aureus"
          ],
          [
           true,
           "Staphylococcus aureus"
          ],
          [
           true,
           "Staphylococcus aureus"
          ],
          [
           true,
           "Staphylococcus aureus"
          ],
          [
           true,
           "Staphylococcus aureus"
          ],
          [
           true,
           "Staphylococcus aureus"
          ],
          [
           true,
           "Staphylococcus aureus"
          ],
          [
           true,
           "Staphylococcus aureus"
          ],
          [
           true,
           "Staphylococcus aureus"
          ],
          [
           true,
           "Staphylococcus aureus"
          ],
          [
           true,
           "Staphylococcus aureus"
          ],
          [
           true,
           "Staphylococcus aureus"
          ],
          [
           true,
           "Staphylococcus aureus"
          ],
          [
           true,
           "Staphylococcus aureus"
          ],
          [
           true,
           "Staphylococcus aureus"
          ],
          [
           true,
           "Staphylococcus aureus"
          ],
          [
           true,
           "Staphylococcus aureus"
          ],
          [
           true,
           "Staphylococcus aureus"
          ],
          [
           true,
           "Staphylococcus aureus"
          ],
          [
           true,
           "Staphylococcus aureus"
          ],
          [
           true,
           "Staphylococcus aureus"
          ],
          [
           true,
           "Staphylococcus aureus"
          ],
          [
           true,
           "Staphylococcus aureus"
          ],
          [
           true,
           "Staphylococcus aureus"
          ],
          [
           true,
           "Staphylococcus aureus"
          ],
          [
           true,
           "Staphylococcus aureus"
          ],
          [
           true,
           "Staphylococcus aureus"
          ],
          [
           true,
           "Staphylococcus aureus"
          ],
          [
           true,
           "Staphylococcus aureus"
          ],
          [
           true,
           "Staphylococcus aureus"
          ],
          [
           true,
           "Staphylococcus aureus"
          ],
          [
           true,
           "Staphylococcus aureus"
          ],
          [
           true,
           "Staphylococcus aureus"
          ],
          [
           true,
           "Staphylococcus aureus"
          ],
          [
           true,
           "Staphylococcus aureus"
          ],
          [
           true,
           "Staphylococcus aureus"
          ],
          [
           true,
           "Staphylococcus aureus"
          ],
          [
           true,
           "Staphylococcus aureus"
          ],
          [
           true,
           "Staphylococcus aureus"
          ],
          [
           true,
           "Staphylococcus aureus"
          ],
          [
           true,
           "Staphylococcus aureus"
          ],
          [
           true,
           "Staphylococcus aureus"
          ],
          [
           true,
           "Staphylococcus aureus"
          ],
          [
           true,
           "Staphylococcus aureus"
          ],
          [
           true,
           "Staphylococcus aureus"
          ],
          [
           true,
           "Staphylococcus aureus"
          ],
          [
           true,
           "Staphylococcus aureus"
          ],
          [
           true,
           "Staphylococcus aureus"
          ],
          [
           true,
           "Staphylococcus aureus"
          ],
          [
           true,
           "Staphylococcus aureus"
          ],
          [
           true,
           "Staphylococcus aureus"
          ],
          [
           true,
           "Staphylococcus aureus"
          ],
          [
           true,
           "Staphylococcus aureus"
          ],
          [
           true,
           "Staphylococcus aureus"
          ],
          [
           true,
           "Staphylococcus aureus"
          ],
          [
           true,
           "Staphylococcus aureus"
          ],
          [
           true,
           "Staphylococcus aureus"
          ],
          [
           true,
           "Staphylococcus aureus"
          ],
          [
           true,
           "Staphylococcus aureus"
          ],
          [
           true,
           "Staphylococcus aureus"
          ],
          [
           true,
           "Staphylococcus aureus"
          ],
          [
           true,
           "Staphylococcus aureus"
          ],
          [
           true,
           "Staphylococcus aureus"
          ],
          [
           true,
           "Staphylococcus aureus"
          ],
          [
           true,
           "Staphylococcus aureus"
          ],
          [
           true,
           "Staphylococcus aureus"
          ],
          [
           true,
           "Staphylococcus aureus"
          ],
          [
           true,
           "Staphylococcus aureus"
          ],
          [
           true,
           "Streptococcus anginosus"
          ],
          [
           true,
           "Streptococcus anginosus"
          ],
          [
           true,
           "Streptococcus salivarius"
          ],
          [
           true,
           "Streptococcus pneumoniae"
          ],
          [
           true,
           "Streptococcus pneumoniae"
          ],
          [
           true,
           "Streptococcus pneumoniae"
          ],
          [
           true,
           "Streptococcus pneumoniae"
          ],
          [
           true,
           "Streptococcus pneumoniae"
          ],
          [
           true,
           "Streptococcus oralis"
          ],
          [
           true,
           "Streptococcus oralis"
          ],
          [
           true,
           "Streptococcus pneumoniae"
          ],
          [
           true,
           "Streptococcus sanguinis"
          ],
          [
           true,
           "Streptococcus salivarius"
          ],
          [
           true,
           "Streptococcus pneumoniae"
          ],
          [
           true,
           "Streptococcus anginosus"
          ],
          [
           true,
           "Streptococcus sanguinis"
          ],
          [
           true,
           "Streptococcus anginosus"
          ],
          [
           true,
           "Streptococcus pneumoniae"
          ],
          [
           true,
           "Streptococcus pneumoniae"
          ],
          [
           true,
           "Streptococcus pneumoniae"
          ],
          [
           true,
           "Streptococcus pneumoniae"
          ],
          [
           true,
           "Streptococcus pneumoniae"
          ],
          [
           true,
           "Streptococcus pneumoniae"
          ],
          [
           true,
           "Streptococcus pneumoniae"
          ],
          [
           true,
           "Streptococcus mitis"
          ],
          [
           true,
           "Streptococcus sanguinis"
          ],
          [
           true,
           "Streptococcus oralis"
          ],
          [
           true,
           "Streptococcus pneumoniae"
          ],
          [
           true,
           "Streptococcus pneumoniae"
          ],
          [
           true,
           "Streptococcus pneumoniae"
          ],
          [
           true,
           "Streptococcus pneumoniae"
          ],
          [
           true,
           "Streptococcus pneumoniae"
          ],
          [
           true,
           "Streptococcus salivarius"
          ],
          [
           true,
           "Streptococcus anginosus"
          ],
          [
           true,
           "Streptococcus anginosus"
          ],
          [
           true,
           "Streptococcus anginosus"
          ],
          [
           true,
           "Streptococcus anginosus"
          ],
          [
           true,
           "Streptococcus salivarius"
          ],
          [
           true,
           "Streptococcus pneumoniae"
          ],
          [
           true,
           "Streptococcus pneumoniae"
          ],
          [
           true,
           "Streptococcus pneumoniae"
          ],
          [
           true,
           "Streptococcus pneumoniae"
          ],
          [
           true,
           "Streptococcus pneumoniae"
          ],
          [
           true,
           "Streptococcus pneumoniae"
          ],
          [
           true,
           "Streptococcus pneumoniae"
          ],
          [
           true,
           "Streptococcus pneumoniae"
          ],
          [
           true,
           "Streptococcus oralis"
          ],
          [
           true,
           "Streptococcus oralis"
          ],
          [
           true,
           "Streptococcus oralis"
          ],
          [
           true,
           "Streptococcus pneumoniae"
          ],
          [
           true,
           "Streptococcus sanguinis"
          ],
          [
           true,
           "Streptococcus salivarius"
          ],
          [
           true,
           "Streptococcus salivarius"
          ],
          [
           true,
           "Streptococcus pneumoniae"
          ],
          [
           true,
           "Streptococcus anginosus"
          ],
          [
           true,
           "Streptococcus mitis"
          ],
          [
           true,
           "Streptococcus pneumoniae"
          ],
          [
           true,
           "Streptococcus sanguinis"
          ],
          [
           true,
           "Streptococcus sanguinis"
          ],
          [
           true,
           "Streptococcus mitis"
          ],
          [
           true,
           "Streptococcus anginosus"
          ],
          [
           true,
           "Streptococcus pneumoniae"
          ],
          [
           true,
           "Streptococcus pneumoniae"
          ],
          [
           true,
           "Streptococcus pneumoniae"
          ],
          [
           true,
           "Streptococcus pneumoniae"
          ],
          [
           true,
           "Streptococcus pneumoniae"
          ],
          [
           true,
           "Streptococcus pneumoniae"
          ],
          [
           true,
           "Streptococcus pneumoniae"
          ],
          [
           true,
           "Streptococcus pneumoniae"
          ],
          [
           true,
           "Streptococcus mitis"
          ],
          [
           true,
           "Streptococcus mitis"
          ],
          [
           true,
           "Streptococcus sanguinis"
          ],
          [
           true,
           "Streptococcus mitis"
          ],
          [
           true,
           "Streptococcus oralis"
          ],
          [
           true,
           "Streptococcus oralis"
          ],
          [
           true,
           "Streptococcus pneumoniae"
          ],
          [
           true,
           "Streptococcus sanguinis"
          ],
          [
           true,
           "Streptococcus sanguinis"
          ],
          [
           true,
           "Streptococcus sanguinis"
          ],
          [
           true,
           "Streptococcus pneumoniae"
          ],
          [
           true,
           "Streptococcus pneumoniae"
          ],
          [
           true,
           "Streptococcus pneumoniae"
          ],
          [
           true,
           "Streptococcus pneumoniae"
          ],
          [
           true,
           "Streptococcus pneumoniae"
          ],
          [
           true,
           "Streptococcus pneumoniae"
          ],
          [
           true,
           "Streptococcus pneumoniae"
          ],
          [
           true,
           "Streptococcus salivarius"
          ],
          [
           true,
           "Streptococcus salivarius"
          ],
          [
           true,
           "Streptococcus salivarius"
          ],
          [
           true,
           "Streptococcus salivarius"
          ],
          [
           true,
           "Enterococcus faecalis"
          ],
          [
           false,
           "Enterococcus faecalis"
          ],
          [
           true,
           "Enterococcus faecium"
          ],
          [
           false,
           "Enterococcus faecium"
          ],
          [
           true,
           "Enterococcus faecalis"
          ],
          [
           false,
           "Enterococcus faecium"
          ],
          [
           false,
           "Enterococcus faecalis"
          ],
          [
           true,
           "Enterococcus faecium"
          ],
          [
           false,
           "Enterococcus faecium"
          ],
          [
           true,
           "Enterococcus faecium"
          ],
          [
           false,
           "Enterococcus faecium"
          ],
          [
           false,
           "Enterococcus faecium"
          ],
          [
           false,
           "Enterococcus faecium"
          ],
          [
           true,
           "Enterococcus faecalis"
          ],
          [
           false,
           "Enterococcus faecium"
          ],
          [
           true,
           "Enterococcus faecium"
          ],
          [
           false,
           "Enterococcus faecium"
          ],
          [
           true,
           "Enterococcus faecium"
          ],
          [
           true,
           "Enterococcus faecium"
          ],
          [
           true,
           "Enterococcus faecium"
          ],
          [
           false,
           "Enterococcus faecium"
          ],
          [
           true,
           "Enterococcus faecium"
          ],
          [
           false,
           "Enterococcus faecium"
          ],
          [
           true,
           "Enterococcus faecium"
          ],
          [
           true,
           "Enterococcus faecium"
          ],
          [
           false,
           "Enterococcus faecium"
          ],
          [
           true,
           "Enterococcus faecium"
          ],
          [
           false,
           "Enterococcus faecium"
          ],
          [
           true,
           "Enterococcus faecium"
          ],
          [
           true,
           "Enterococcus faecium"
          ],
          [
           true,
           "Enterococcus faecium"
          ],
          [
           true,
           "Enterococcus faecium"
          ],
          [
           true,
           "Enterococcus faecium"
          ],
          [
           true,
           "Enterococcus faecium"
          ],
          [
           true,
           "Enterococcus faecium"
          ],
          [
           true,
           "Enterococcus faecium"
          ],
          [
           true,
           "Enterococcus faecium"
          ],
          [
           true,
           "Enterococcus faecium"
          ],
          [
           false,
           "Enterococcus faecium"
          ],
          [
           false,
           "Enterococcus faecium"
          ],
          [
           false,
           "Enterococcus faecium"
          ],
          [
           false,
           "Enterococcus faecium"
          ],
          [
           true,
           "Enterococcus faecium"
          ],
          [
           true,
           "Enterococcus faecium"
          ],
          [
           false,
           "Enterococcus faecalis"
          ],
          [
           true,
           "Staphylococcus aureus"
          ],
          [
           true,
           "Staphylococcus aureus"
          ],
          [
           true,
           "Staphylococcus aureus"
          ],
          [
           true,
           "Staphylococcus aureus"
          ],
          [
           true,
           "Staphylococcus aureus"
          ],
          [
           true,
           "Staphylococcus aureus"
          ],
          [
           true,
           "Staphylococcus aureus"
          ],
          [
           true,
           "Staphylococcus aureus"
          ],
          [
           true,
           "Staphylococcus aureus"
          ],
          [
           true,
           "Staphylococcus aureus"
          ],
          [
           true,
           "Staphylococcus aureus"
          ],
          [
           true,
           "Staphylococcus aureus"
          ],
          [
           true,
           "Staphylococcus aureus"
          ],
          [
           true,
           "Staphylococcus aureus"
          ],
          [
           true,
           "Staphylococcus aureus"
          ],
          [
           true,
           "Staphylococcus aureus"
          ],
          [
           true,
           "Staphylococcus aureus"
          ],
          [
           true,
           "Staphylococcus aureus"
          ],
          [
           true,
           "Staphylococcus aureus"
          ],
          [
           true,
           "Staphylococcus aureus"
          ],
          [
           true,
           "Staphylococcus aureus"
          ],
          [
           true,
           "Staphylococcus aureus"
          ],
          [
           true,
           "Staphylococcus aureus"
          ],
          [
           true,
           "Staphylococcus aureus"
          ],
          [
           true,
           "Staphylococcus aureus"
          ],
          [
           true,
           "Staphylococcus capitis"
          ],
          [
           true,
           "Staphylococcus capitis"
          ],
          [
           true,
           "Staphylococcus epidermidis"
          ],
          [
           true,
           "Staphylococcus epidermidis"
          ],
          [
           true,
           "Staphylococcus capitis"
          ],
          [
           true,
           "Staphylococcus capitis"
          ],
          [
           true,
           "Staphylococcus capitis"
          ],
          [
           true,
           "Staphylococcus capitis"
          ],
          [
           true,
           "Staphylococcus capitis"
          ],
          [
           true,
           "Staphylococcus capitis"
          ],
          [
           true,
           "Staphylococcus epidermidis"
          ],
          [
           true,
           "Staphylococcus epidermidis"
          ],
          [
           true,
           "Staphylococcus epidermidis"
          ],
          [
           true,
           "Staphylococcus epidermidis"
          ],
          [
           true,
           "Staphylococcus epidermidis"
          ],
          [
           true,
           "Staphylococcus epidermidis"
          ],
          [
           true,
           "Staphylococcus epidermidis"
          ],
          [
           true,
           "Staphylococcus epidermidis"
          ],
          [
           true,
           "Staphylococcus epidermidis"
          ],
          [
           true,
           "Staphylococcus epidermidis"
          ],
          [
           true,
           "Staphylococcus epidermidis"
          ],
          [
           true,
           "Staphylococcus epidermidis"
          ],
          [
           true,
           "Staphylococcus epidermidis"
          ],
          [
           true,
           "Staphylococcus epidermidis"
          ],
          [
           true,
           "Staphylococcus epidermidis"
          ],
          [
           true,
           "Staphylococcus epidermidis"
          ],
          [
           true,
           "Staphylococcus epidermidis"
          ],
          [
           true,
           "Staphylococcus epidermidis"
          ],
          [
           true,
           "Staphylococcus epidermidis"
          ],
          [
           true,
           "Staphylococcus epidermidis"
          ],
          [
           true,
           "Staphylococcus epidermidis"
          ],
          [
           true,
           "Staphylococcus epidermidis"
          ],
          [
           true,
           "Staphylococcus epidermidis"
          ],
          [
           true,
           "Staphylococcus epidermidis"
          ],
          [
           true,
           "Staphylococcus epidermidis"
          ],
          [
           true,
           "Staphylococcus epidermidis"
          ],
          [
           true,
           "Staphylococcus epidermidis"
          ],
          [
           true,
           "Staphylococcus epidermidis"
          ],
          [
           true,
           "Staphylococcus epidermidis"
          ],
          [
           true,
           "Staphylococcus aureus"
          ],
          [
           true,
           "Staphylococcus aureus"
          ],
          [
           true,
           "Staphylococcus epidermidis"
          ],
          [
           true,
           "Staphylococcus epidermidis"
          ],
          [
           true,
           "Staphylococcus epidermidis"
          ],
          [
           true,
           "Staphylococcus epidermidis"
          ],
          [
           true,
           "Staphylococcus epidermidis"
          ],
          [
           true,
           "Staphylococcus epidermidis"
          ],
          [
           true,
           "Staphylococcus epidermidis"
          ],
          [
           true,
           "Staphylococcus epidermidis"
          ],
          [
           true,
           "Staphylococcus epidermidis"
          ],
          [
           true,
           "Staphylococcus hominis"
          ],
          [
           true,
           "Staphylococcus epidermidis"
          ],
          [
           true,
           "Staphylococcus hominis"
          ],
          [
           true,
           "Staphylococcus hominis"
          ],
          [
           true,
           "Staphylococcus hominis"
          ],
          [
           true,
           "Staphylococcus hominis"
          ],
          [
           true,
           "Staphylococcus hominis"
          ],
          [
           true,
           "Staphylococcus hominis"
          ],
          [
           true,
           "Staphylococcus hominis"
          ],
          [
           true,
           "Staphylococcus hominis"
          ],
          [
           true,
           "Staphylococcus hominis"
          ],
          [
           true,
           "Staphylococcus hominis"
          ],
          [
           true,
           "Staphylococcus hominis"
          ],
          [
           true,
           "Staphylococcus hominis"
          ],
          [
           true,
           "Staphylococcus hominis"
          ],
          [
           true,
           "Staphylococcus hominis"
          ],
          [
           true,
           "Staphylococcus hominis"
          ],
          [
           true,
           "Staphylococcus hominis"
          ],
          [
           true,
           "Staphylococcus aureus"
          ],
          [
           true,
           "Staphylococcus aureus"
          ],
          [
           true,
           "Staphylococcus aureus"
          ],
          [
           true,
           "Staphylococcus aureus"
          ],
          [
           true,
           "Staphylococcus aureus"
          ],
          [
           true,
           "Staphylococcus aureus"
          ],
          [
           true,
           "Staphylococcus aureus"
          ],
          [
           true,
           "Staphylococcus aureus"
          ],
          [
           true,
           "Staphylococcus aureus"
          ],
          [
           true,
           "Staphylococcus aureus"
          ],
          [
           true,
           "Staphylococcus aureus"
          ],
          [
           true,
           "Staphylococcus aureus"
          ],
          [
           true,
           "Staphylococcus aureus"
          ],
          [
           true,
           "Staphylococcus aureus"
          ],
          [
           true,
           "Staphylococcus aureus"
          ],
          [
           true,
           "Staphylococcus aureus"
          ],
          [
           true,
           "Staphylococcus aureus"
          ],
          [
           true,
           "Staphylococcus capitis"
          ],
          [
           true,
           "Staphylococcus capitis"
          ],
          [
           true,
           "Staphylococcus hominis"
          ],
          [
           true,
           "Staphylococcus hominis"
          ],
          [
           true,
           "Staphylococcus hominis"
          ],
          [
           true,
           "Staphylococcus hominis"
          ],
          [
           true,
           "Staphylococcus hominis"
          ],
          [
           true,
           "Staphylococcus hominis"
          ],
          [
           true,
           "Staphylococcus hominis"
          ],
          [
           true,
           "Staphylococcus hominis"
          ],
          [
           true,
           "Staphylococcus hominis"
          ],
          [
           true,
           "Staphylococcus lugdunensis"
          ],
          [
           true,
           "Staphylococcus lugdunensis"
          ],
          [
           true,
           "Staphylococcus lugdunensis"
          ],
          [
           true,
           "Staphylococcus lugdunensis"
          ],
          [
           true,
           "Staphylococcus lugdunensis"
          ],
          [
           true,
           "Staphylococcus hominis"
          ],
          [
           true,
           "Staphylococcus hominis"
          ],
          [
           true,
           "Staphylococcus hominis"
          ],
          [
           true,
           "Staphylococcus hominis"
          ],
          [
           true,
           "Staphylococcus hominis"
          ],
          [
           true,
           "Staphylococcus aureus"
          ],
          [
           true,
           "Staphylococcus aureus"
          ],
          [
           true,
           "Staphylococcus aureus"
          ],
          [
           true,
           "Staphylococcus aureus"
          ],
          [
           true,
           "Staphylococcus aureus"
          ],
          [
           true,
           "Staphylococcus aureus"
          ],
          [
           true,
           "Staphylococcus aureus"
          ],
          [
           true,
           "Staphylococcus aureus"
          ],
          [
           true,
           "Staphylococcus aureus"
          ],
          [
           true,
           "Staphylococcus aureus"
          ],
          [
           true,
           "Staphylococcus aureus"
          ],
          [
           true,
           "Staphylococcus aureus"
          ],
          [
           true,
           "Staphylococcus aureus"
          ],
          [
           true,
           "Staphylococcus aureus"
          ],
          [
           true,
           "Staphylococcus aureus"
          ],
          [
           true,
           "Staphylococcus capitis"
          ],
          [
           true,
           "Staphylococcus epidermidis"
          ],
          [
           true,
           "Staphylococcus lugdunensis"
          ],
          [
           true,
           "Staphylococcus lugdunensis"
          ],
          [
           true,
           "Staphylococcus lugdunensis"
          ],
          [
           true,
           "Staphylococcus lugdunensis"
          ],
          [
           true,
           "Staphylococcus lugdunensis"
          ],
          [
           true,
           "Staphylococcus epidermidis"
          ],
          [
           true,
           "Staphylococcus epidermidis"
          ],
          [
           true,
           "Staphylococcus epidermidis"
          ],
          [
           true,
           "Staphylococcus epidermidis"
          ],
          [
           true,
           "Staphylococcus epidermidis"
          ],
          [
           true,
           "Staphylococcus epidermidis"
          ],
          [
           true,
           "Staphylococcus lugdunensis"
          ],
          [
           true,
           "Staphylococcus aureus"
          ],
          [
           true,
           "Staphylococcus aureus"
          ],
          [
           true,
           "Staphylococcus aureus"
          ],
          [
           true,
           "Staphylococcus aureus"
          ],
          [
           true,
           "Staphylococcus aureus"
          ],
          [
           true,
           "Staphylococcus aureus"
          ],
          [
           true,
           "Staphylococcus aureus"
          ],
          [
           true,
           "Staphylococcus aureus"
          ],
          [
           true,
           "Staphylococcus aureus"
          ],
          [
           true,
           "Staphylococcus aureus"
          ],
          [
           true,
           "Staphylococcus aureus"
          ],
          [
           true,
           "Staphylococcus aureus"
          ],
          [
           true,
           "Staphylococcus aureus"
          ],
          [
           true,
           "Staphylococcus aureus"
          ],
          [
           true,
           "Staphylococcus aureus"
          ],
          [
           true,
           "Staphylococcus aureus"
          ],
          [
           true,
           "Staphylococcus aureus"
          ],
          [
           true,
           "Staphylococcus aureus"
          ],
          [
           true,
           "Staphylococcus aureus"
          ],
          [
           true,
           "Staphylococcus aureus"
          ],
          [
           true,
           "Staphylococcus aureus"
          ],
          [
           true,
           "Staphylococcus aureus"
          ],
          [
           true,
           "Staphylococcus aureus"
          ],
          [
           true,
           "Staphylococcus aureus"
          ],
          [
           true,
           "Staphylococcus aureus"
          ],
          [
           true,
           "Staphylococcus aureus"
          ],
          [
           true,
           "Staphylococcus aureus"
          ],
          [
           true,
           "Staphylococcus aureus"
          ],
          [
           true,
           "Staphylococcus aureus"
          ],
          [
           true,
           "Staphylococcus aureus"
          ],
          [
           true,
           "Staphylococcus epidermidis"
          ],
          [
           true,
           "Staphylococcus epidermidis"
          ],
          [
           true,
           "Staphylococcus epidermidis"
          ],
          [
           true,
           "Staphylococcus epidermidis"
          ],
          [
           true,
           "Staphylococcus epidermidis"
          ],
          [
           true,
           "Staphylococcus aureus"
          ],
          [
           true,
           "Staphylococcus lugdunensis"
          ],
          [
           true,
           "Staphylococcus aureus"
          ],
          [
           true,
           "Staphylococcus aureus"
          ],
          [
           true,
           "Staphylococcus aureus"
          ],
          [
           true,
           "Enterococcus faecalis"
          ],
          [
           true,
           "Enterococcus faecalis"
          ],
          [
           true,
           "Enterococcus faecium"
          ],
          [
           true,
           "Enterococcus faecium"
          ],
          [
           true,
           "Enterococcus faecium"
          ],
          [
           true,
           "Staphylococcus aureus"
          ],
          [
           true,
           "Staphylococcus aureus"
          ],
          [
           true,
           "Staphylococcus aureus"
          ],
          [
           true,
           "Staphylococcus aureus"
          ],
          [
           true,
           "Staphylococcus aureus"
          ],
          [
           true,
           "Staphylococcus aureus"
          ],
          [
           true,
           "Staphylococcus aureus"
          ],
          [
           true,
           "Staphylococcus aureus"
          ],
          [
           true,
           "Staphylococcus aureus"
          ],
          [
           true,
           "Staphylococcus aureus"
          ],
          [
           true,
           "Staphylococcus aureus"
          ],
          [
           true,
           "Staphylococcus aureus"
          ],
          [
           true,
           "Staphylococcus aureus"
          ],
          [
           true,
           "Staphylococcus aureus"
          ],
          [
           true,
           "Staphylococcus aureus"
          ],
          [
           true,
           "Staphylococcus aureus"
          ],
          [
           true,
           "Staphylococcus aureus"
          ],
          [
           true,
           "Staphylococcus aureus"
          ],
          [
           true,
           "Staphylococcus aureus"
          ],
          [
           true,
           "Staphylococcus aureus"
          ],
          [
           true,
           "Staphylococcus aureus"
          ],
          [
           true,
           "Staphylococcus aureus"
          ],
          [
           true,
           "Enterococcus faecium"
          ],
          [
           true,
           "Enterococcus faecalis"
          ],
          [
           true,
           "Enterococcus faecium"
          ],
          [
           true,
           "Enterococcus faecium"
          ],
          [
           true,
           "Enterococcus faecium"
          ],
          [
           true,
           "Staphylococcus aureus"
          ],
          [
           true,
           "Staphylococcus aureus"
          ],
          [
           true,
           "Staphylococcus aureus"
          ],
          [
           true,
           "Streptococcus agalactiae"
          ],
          [
           true,
           "Streptococcus agalactiae"
          ],
          [
           true,
           "Streptococcus agalactiae"
          ],
          [
           true,
           "Streptococcus anginosus"
          ],
          [
           true,
           "Streptococcus anginosus"
          ],
          [
           true,
           "Streptococcus anginosus"
          ],
          [
           true,
           "Streptococcus agalactiae"
          ],
          [
           true,
           "Streptococcus agalactiae"
          ],
          [
           true,
           "Streptococcus agalactiae"
          ],
          [
           true,
           "Streptococcus agalactiae"
          ],
          [
           true,
           "Streptococcus agalactiae"
          ],
          [
           true,
           "Streptococcus agalactiae"
          ],
          [
           true,
           "Streptococcus agalactiae"
          ],
          [
           true,
           "Streptococcus agalactiae"
          ],
          [
           true,
           "Staphylococcus capitis"
          ],
          [
           true,
           "Staphylococcus capitis"
          ],
          [
           true,
           "Staphylococcus epidermidis"
          ],
          [
           true,
           "Staphylococcus capitis"
          ],
          [
           true,
           "Staphylococcus capitis"
          ],
          [
           true,
           "Staphylococcus capitis"
          ],
          [
           true,
           "Staphylococcus capitis"
          ],
          [
           true,
           "Staphylococcus capitis"
          ],
          [
           true,
           "Staphylococcus capitis"
          ],
          [
           true,
           "Staphylococcus epidermidis"
          ],
          [
           true,
           "Staphylococcus epidermidis"
          ],
          [
           true,
           "Staphylococcus epidermidis"
          ],
          [
           true,
           "Staphylococcus epidermidis"
          ],
          [
           true,
           "Streptococcus agalactiae"
          ],
          [
           true,
           "Streptococcus agalactiae"
          ],
          [
           true,
           "Streptococcus agalactiae"
          ],
          [
           true,
           "Streptococcus anginosus"
          ],
          [
           true,
           "Streptococcus salivarius"
          ],
          [
           true,
           "Streptococcus mitis"
          ],
          [
           true,
           "Staphylococcus epidermidis"
          ],
          [
           true,
           "Staphylococcus epidermidis"
          ],
          [
           true,
           "Staphylococcus epidermidis"
          ],
          [
           true,
           "Staphylococcus epidermidis"
          ],
          [
           true,
           "Staphylococcus epidermidis"
          ],
          [
           true,
           "Staphylococcus epidermidis"
          ],
          [
           true,
           "Staphylococcus epidermidis"
          ],
          [
           true,
           "Staphylococcus epidermidis"
          ],
          [
           true,
           "Staphylococcus epidermidis"
          ],
          [
           true,
           "Staphylococcus epidermidis"
          ],
          [
           true,
           "Staphylococcus epidermidis"
          ],
          [
           true,
           "Staphylococcus epidermidis"
          ],
          [
           true,
           "Staphylococcus epidermidis"
          ],
          [
           true,
           "Staphylococcus epidermidis"
          ],
          [
           true,
           "Staphylococcus epidermidis"
          ],
          [
           true,
           "Staphylococcus epidermidis"
          ],
          [
           true,
           "Staphylococcus epidermidis"
          ],
          [
           true,
           "Staphylococcus epidermidis"
          ],
          [
           true,
           "Staphylococcus epidermidis"
          ],
          [
           true,
           "Staphylococcus epidermidis"
          ],
          [
           true,
           "Staphylococcus aureus"
          ],
          [
           true,
           "Staphylococcus aureus"
          ],
          [
           true,
           "Staphylococcus epidermidis"
          ],
          [
           true,
           "Staphylococcus epidermidis"
          ],
          [
           true,
           "Staphylococcus epidermidis"
          ],
          [
           true,
           "Staphylococcus epidermidis"
          ],
          [
           true,
           "Staphylococcus epidermidis"
          ],
          [
           true,
           "Staphylococcus epidermidis"
          ],
          [
           true,
           "Staphylococcus epidermidis"
          ],
          [
           true,
           "Staphylococcus epidermidis"
          ],
          [
           true,
           "Staphylococcus epidermidis"
          ],
          [
           true,
           "Staphylococcus epidermidis"
          ],
          [
           true,
           "Staphylococcus hominis"
          ],
          [
           true,
           "Staphylococcus epidermidis"
          ],
          [
           true,
           "Staphylococcus hominis"
          ],
          [
           true,
           "Staphylococcus hominis"
          ],
          [
           true,
           "Staphylococcus hominis"
          ],
          [
           true,
           "Staphylococcus hominis"
          ],
          [
           true,
           "Staphylococcus hominis"
          ],
          [
           true,
           "Staphylococcus hominis"
          ],
          [
           true,
           "Staphylococcus hominis"
          ],
          [
           true,
           "Staphylococcus hominis"
          ],
          [
           true,
           "Staphylococcus hominis"
          ],
          [
           true,
           "Streptococcus pneumoniae"
          ],
          [
           true,
           "Streptococcus pneumoniae"
          ],
          [
           true,
           "Streptococcus pneumoniae"
          ],
          [
           true,
           "Streptococcus pneumoniae"
          ],
          [
           true,
           "Streptococcus pyogenes"
          ],
          [
           true,
           "Streptococcus pyogenes"
          ],
          [
           true,
           "Streptococcus pyogenes"
          ],
          [
           true,
           "Streptococcus oralis"
          ],
          [
           true,
           "Streptococcus oralis"
          ],
          [
           true,
           "Streptococcus oralis"
          ],
          [
           true,
           "Streptococcus pneumoniae"
          ],
          [
           true,
           "Streptococcus sanguinis"
          ],
          [
           true,
           "Streptococcus pyogenes"
          ],
          [
           true,
           "Streptococcus pyogenes"
          ],
          [
           true,
           "Streptococcus pyogenes"
          ],
          [
           true,
           "Streptococcus pyogenes"
          ],
          [
           true,
           "Streptococcus pyogenes"
          ],
          [
           true,
           "Streptococcus pyogenes"
          ],
          [
           true,
           "Streptococcus salivarius"
          ],
          [
           true,
           "Staphylococcus hominis"
          ],
          [
           true,
           "Staphylococcus hominis"
          ],
          [
           true,
           "Staphylococcus hominis"
          ],
          [
           true,
           "Staphylococcus hominis"
          ],
          [
           true,
           "Staphylococcus hominis"
          ],
          [
           true,
           "Staphylococcus hominis"
          ],
          [
           true,
           "Staphylococcus hominis"
          ],
          [
           true,
           "Enterococcus faecium"
          ],
          [
           true,
           "Enterococcus faecium"
          ],
          [
           true,
           "Enterococcus faecium"
          ],
          [
           true,
           "Enterococcus faecium"
          ],
          [
           true,
           "Enterococcus faecium"
          ],
          [
           true,
           "Enterococcus faecium"
          ],
          [
           true,
           "Enterococcus faecium"
          ],
          [
           true,
           "Enterococcus faecium"
          ],
          [
           true,
           "Enterococcus faecium"
          ],
          [
           true,
           "Enterococcus faecium"
          ],
          [
           true,
           "Staphylococcus aureus"
          ],
          [
           true,
           "Staphylococcus aureus"
          ],
          [
           true,
           "Staphylococcus aureus"
          ],
          [
           true,
           "Staphylococcus aureus"
          ],
          [
           true,
           "Staphylococcus aureus"
          ],
          [
           true,
           "Staphylococcus aureus"
          ],
          [
           true,
           "Staphylococcus aureus"
          ],
          [
           true,
           "Staphylococcus aureus"
          ],
          [
           true,
           "Staphylococcus aureus"
          ],
          [
           true,
           "Staphylococcus aureus"
          ],
          [
           true,
           "Staphylococcus aureus"
          ],
          [
           true,
           "Staphylococcus aureus"
          ],
          [
           true,
           "Staphylococcus aureus"
          ],
          [
           true,
           "Staphylococcus aureus"
          ],
          [
           true,
           "Staphylococcus aureus"
          ],
          [
           true,
           "Staphylococcus aureus"
          ],
          [
           true,
           "Staphylococcus aureus"
          ],
          [
           true,
           "Staphylococcus aureus"
          ],
          [
           true,
           "Staphylococcus capitis"
          ],
          [
           true,
           "Staphylococcus capitis"
          ],
          [
           true,
           "Streptococcus pneumoniae"
          ],
          [
           true,
           "Streptococcus agalactiae"
          ],
          [
           true,
           "Streptococcus anginosus"
          ],
          [
           true,
           "Streptococcus mitis"
          ],
          [
           true,
           "Streptococcus pneumoniae"
          ],
          [
           true,
           "Streptococcus sanguinis"
          ],
          [
           true,
           "Streptococcus sanguinis"
          ],
          [
           true,
           "Streptococcus mitis"
          ],
          [
           true,
           "Streptococcus anginosus"
          ],
          [
           true,
           "Staphylococcus hominis"
          ],
          [
           true,
           "Staphylococcus hominis"
          ],
          [
           true,
           "Staphylococcus hominis"
          ],
          [
           true,
           "Staphylococcus hominis"
          ],
          [
           true,
           "Staphylococcus hominis"
          ],
          [
           true,
           "Enterococcus faecium"
          ],
          [
           true,
           "Enterococcus faecium"
          ],
          [
           true,
           "Streptococcus agalactiae"
          ],
          [
           true,
           "Staphylococcus hominis"
          ],
          [
           true,
           "Staphylococcus hominis"
          ],
          [
           true,
           "Staphylococcus hominis"
          ],
          [
           true,
           "Staphylococcus hominis"
          ],
          [
           true,
           "Staphylococcus lugdunensis"
          ],
          [
           true,
           "Staphylococcus lugdunensis"
          ],
          [
           true,
           "Staphylococcus lugdunensis"
          ],
          [
           true,
           "Staphylococcus lugdunensis"
          ],
          [
           true,
           "Staphylococcus lugdunensis"
          ],
          [
           true,
           "Streptococcus agalactiae"
          ],
          [
           true,
           "Streptococcus agalactiae"
          ],
          [
           true,
           "Streptococcus agalactiae"
          ],
          [
           true,
           "Streptococcus agalactiae"
          ],
          [
           true,
           "Streptococcus agalactiae"
          ],
          [
           true,
           "Streptococcus agalactiae"
          ],
          [
           true,
           "Streptococcus agalactiae"
          ],
          [
           true,
           "Streptococcus agalactiae"
          ],
          [
           true,
           "Streptococcus pneumoniae"
          ],
          [
           true,
           "Streptococcus pneumoniae"
          ],
          [
           true,
           "Staphylococcus hominis"
          ],
          [
           true,
           "Staphylococcus hominis"
          ],
          [
           true,
           "Staphylococcus hominis"
          ],
          [
           true,
           "Staphylococcus hominis"
          ],
          [
           true,
           "Staphylococcus hominis"
          ],
          [
           true,
           "Streptococcus mitis"
          ],
          [
           true,
           "Streptococcus mitis"
          ],
          [
           true,
           "Streptococcus sanguinis"
          ],
          [
           true,
           "Streptococcus mitis"
          ],
          [
           true,
           "Streptococcus oralis"
          ],
          [
           true,
           "Streptococcus oralis"
          ],
          [
           true,
           "Streptococcus agalactiae"
          ],
          [
           true,
           "Streptococcus pneumoniae"
          ],
          [
           true,
           "Streptococcus pyogenes"
          ],
          [
           true,
           "Streptococcus pyogenes"
          ],
          [
           true,
           "Streptococcus pyogenes"
          ],
          [
           true,
           "Streptococcus pyogenes"
          ],
          [
           true,
           "Streptococcus pyogenes"
          ],
          [
           true,
           "Streptococcus pyogenes"
          ],
          [
           true,
           "Streptococcus pyogenes"
          ],
          [
           true,
           "Streptococcus pyogenes"
          ],
          [
           true,
           "Streptococcus pyogenes"
          ],
          [
           true,
           "Streptococcus pyogenes"
          ],
          [
           true,
           "Streptococcus pyogenes"
          ],
          [
           true,
           "Streptococcus pyogenes"
          ],
          [
           true,
           "Streptococcus sanguinis"
          ],
          [
           true,
           "Streptococcus sanguinis"
          ],
          [
           true,
           "Streptococcus sanguinis"
          ],
          [
           true,
           "Staphylococcus aureus"
          ],
          [
           true,
           "Staphylococcus aureus"
          ],
          [
           true,
           "Staphylococcus aureus"
          ],
          [
           true,
           "Staphylococcus aureus"
          ],
          [
           true,
           "Staphylococcus aureus"
          ],
          [
           true,
           "Staphylococcus aureus"
          ],
          [
           true,
           "Staphylococcus aureus"
          ],
          [
           true,
           "Staphylococcus aureus"
          ],
          [
           true,
           "Staphylococcus aureus"
          ],
          [
           true,
           "Staphylococcus aureus"
          ],
          [
           true,
           "Staphylococcus aureus"
          ],
          [
           true,
           "Staphylococcus aureus"
          ],
          [
           true,
           "Staphylococcus aureus"
          ],
          [
           true,
           "Staphylococcus aureus"
          ],
          [
           true,
           "Staphylococcus aureus"
          ],
          [
           true,
           "Staphylococcus aureus"
          ],
          [
           true,
           "Staphylococcus aureus"
          ],
          [
           true,
           "Staphylococcus aureus"
          ],
          [
           true,
           "Staphylococcus capitis"
          ],
          [
           true,
           "Staphylococcus epidermidis"
          ],
          [
           true,
           "Staphylococcus lugdunensis"
          ],
          [
           true,
           "Staphylococcus lugdunensis"
          ],
          [
           true,
           "Staphylococcus lugdunensis"
          ],
          [
           true,
           "Staphylococcus lugdunensis"
          ],
          [
           true,
           "Staphylococcus lugdunensis"
          ],
          [
           true,
           "Staphylococcus lugdunensis"
          ],
          [
           true,
           "Staphylococcus epidermidis"
          ],
          [
           true,
           "Staphylococcus epidermidis"
          ],
          [
           true,
           "Staphylococcus epidermidis"
          ],
          [
           true,
           "Staphylococcus epidermidis"
          ],
          [
           true,
           "Staphylococcus epidermidis"
          ],
          [
           true,
           "Staphylococcus epidermidis"
          ],
          [
           true,
           "Staphylococcus lugdunensis"
          ],
          [
           true,
           "Staphylococcus aureus"
          ],
          [
           true,
           "Staphylococcus aureus"
          ],
          [
           true,
           "Staphylococcus aureus"
          ],
          [
           true,
           "Staphylococcus aureus"
          ],
          [
           true,
           "Staphylococcus aureus"
          ],
          [
           true,
           "Staphylococcus aureus"
          ],
          [
           true,
           "Staphylococcus aureus"
          ],
          [
           true,
           "Staphylococcus aureus"
          ],
          [
           true,
           "Staphylococcus aureus"
          ],
          [
           true,
           "Staphylococcus aureus"
          ],
          [
           true,
           "Staphylococcus aureus"
          ],
          [
           true,
           "Staphylococcus aureus"
          ],
          [
           true,
           "Staphylococcus aureus"
          ],
          [
           true,
           "Staphylococcus aureus"
          ],
          [
           true,
           "Staphylococcus aureus"
          ],
          [
           true,
           "Staphylococcus aureus"
          ],
          [
           true,
           "Staphylococcus aureus"
          ],
          [
           true,
           "Staphylococcus aureus"
          ],
          [
           true,
           "Staphylococcus aureus"
          ],
          [
           true,
           "Staphylococcus aureus"
          ],
          [
           true,
           "Staphylococcus aureus"
          ],
          [
           true,
           "Staphylococcus aureus"
          ],
          [
           true,
           "Staphylococcus aureus"
          ],
          [
           true,
           "Staphylococcus aureus"
          ],
          [
           true,
           "Staphylococcus aureus"
          ],
          [
           true,
           "Staphylococcus aureus"
          ],
          [
           true,
           "Staphylococcus aureus"
          ],
          [
           true,
           "Staphylococcus aureus"
          ],
          [
           true,
           "Staphylococcus aureus"
          ],
          [
           true,
           "Staphylococcus aureus"
          ],
          [
           true,
           "Staphylococcus aureus"
          ],
          [
           true,
           "Staphylococcus aureus"
          ],
          [
           true,
           "Staphylococcus aureus"
          ],
          [
           true,
           "Staphylococcus aureus"
          ],
          [
           true,
           "Staphylococcus epidermidis"
          ],
          [
           true,
           "Staphylococcus epidermidis"
          ],
          [
           true,
           "Streptococcus pneumoniae"
          ],
          [
           true,
           "Streptococcus pneumoniae"
          ],
          [
           true,
           "Streptococcus pneumoniae"
          ],
          [
           true,
           "Streptococcus pneumoniae"
          ],
          [
           true,
           "Streptococcus pneumoniae"
          ],
          [
           true,
           "Streptococcus pneumoniae"
          ],
          [
           true,
           "Streptococcus salivarius"
          ],
          [
           true,
           "Streptococcus salivarius"
          ],
          [
           true,
           "Streptococcus salivarius"
          ],
          [
           true,
           "Streptococcus salivarius"
          ],
          [
           true,
           "Staphylococcus aureus"
          ],
          [
           true,
           "Staphylococcus lugdunensis"
          ],
          [
           true,
           "Staphylococcus aureus"
          ],
          [
           true,
           "Staphylococcus aureus"
          ],
          [
           true,
           "Staphylococcus aureus"
          ],
          [
           true,
           "Enterococcus faecium"
          ],
          [
           true,
           "Enterococcus faecium"
          ],
          [
           true,
           "Staphylococcus aureus"
          ],
          [
           true,
           "Staphylococcus aureus"
          ],
          [
           true,
           "Staphylococcus aureus"
          ],
          [
           true,
           "Staphylococcus aureus"
          ],
          [
           true,
           "Staphylococcus aureus"
          ],
          [
           true,
           "Staphylococcus aureus"
          ],
          [
           true,
           "Staphylococcus aureus"
          ],
          [
           true,
           "Staphylococcus aureus"
          ],
          [
           true,
           "Staphylococcus aureus"
          ],
          [
           true,
           "Staphylococcus aureus"
          ],
          [
           true,
           "Staphylococcus aureus"
          ],
          [
           true,
           "Staphylococcus aureus"
          ],
          [
           true,
           "Staphylococcus aureus"
          ],
          [
           true,
           "Staphylococcus aureus"
          ],
          [
           true,
           "Staphylococcus aureus"
          ],
          [
           true,
           "Staphylococcus aureus"
          ],
          [
           true,
           "Staphylococcus aureus"
          ],
          [
           true,
           "Staphylococcus aureus"
          ],
          [
           true,
           "Staphylococcus aureus"
          ],
          [
           true,
           "Staphylococcus aureus"
          ],
          [
           true,
           "Staphylococcus aureus"
          ],
          [
           true,
           "Staphylococcus aureus"
          ],
          [
           true,
           "Enterococcus faecium"
          ],
          [
           true,
           "Enterococcus faecium"
          ],
          [
           true,
           "Staphylococcus aureus"
          ],
          [
           true,
           "Staphylococcus aureus"
          ],
          [
           true,
           "Staphylococcus aureus"
          ],
          [
           true,
           "Streptococcus agalactiae"
          ],
          [
           true,
           "Streptococcus agalactiae"
          ],
          [
           true,
           "Streptococcus agalactiae"
          ],
          [
           true,
           "Streptococcus anginosus"
          ],
          [
           true,
           "Streptococcus anginosus"
          ],
          [
           true,
           "Streptococcus anginosus"
          ],
          [
           true,
           "Streptococcus agalactiae"
          ],
          [
           true,
           "Streptococcus agalactiae"
          ],
          [
           true,
           "Streptococcus agalactiae"
          ],
          [
           true,
           "Streptococcus agalactiae"
          ],
          [
           true,
           "Streptococcus agalactiae"
          ],
          [
           true,
           "Streptococcus agalactiae"
          ],
          [
           true,
           "Streptococcus agalactiae"
          ],
          [
           true,
           "Streptococcus agalactiae"
          ],
          [
           true,
           "Staphylococcus capitis"
          ],
          [
           true,
           "Staphylococcus capitis"
          ],
          [
           true,
           "Staphylococcus epidermidis"
          ],
          [
           true,
           "Staphylococcus epidermidis"
          ],
          [
           true,
           "Staphylococcus capitis"
          ],
          [
           true,
           "Staphylococcus capitis"
          ],
          [
           true,
           "Staphylococcus capitis"
          ],
          [
           true,
           "Staphylococcus capitis"
          ],
          [
           true,
           "Staphylococcus capitis"
          ],
          [
           true,
           "Staphylococcus epidermidis"
          ],
          [
           true,
           "Staphylococcus epidermidis"
          ],
          [
           true,
           "Staphylococcus epidermidis"
          ],
          [
           true,
           "Staphylococcus epidermidis"
          ],
          [
           true,
           "Staphylococcus epidermidis"
          ],
          [
           true,
           "Staphylococcus epidermidis"
          ],
          [
           true,
           "Streptococcus agalactiae"
          ],
          [
           true,
           "Streptococcus agalactiae"
          ],
          [
           true,
           "Streptococcus agalactiae"
          ],
          [
           true,
           "Streptococcus agalactiae"
          ],
          [
           true,
           "Streptococcus anginosus"
          ],
          [
           true,
           "Streptococcus salivarius"
          ],
          [
           true,
           "Streptococcus mitis"
          ],
          [
           true,
           "Staphylococcus epidermidis"
          ],
          [
           true,
           "Staphylococcus epidermidis"
          ],
          [
           true,
           "Staphylococcus epidermidis"
          ],
          [
           true,
           "Staphylococcus epidermidis"
          ],
          [
           true,
           "Staphylococcus epidermidis"
          ],
          [
           true,
           "Staphylococcus epidermidis"
          ],
          [
           true,
           "Staphylococcus epidermidis"
          ],
          [
           true,
           "Staphylococcus epidermidis"
          ],
          [
           true,
           "Staphylococcus epidermidis"
          ],
          [
           true,
           "Staphylococcus epidermidis"
          ],
          [
           true,
           "Staphylococcus epidermidis"
          ],
          [
           true,
           "Staphylococcus epidermidis"
          ],
          [
           true,
           "Staphylococcus epidermidis"
          ],
          [
           true,
           "Staphylococcus epidermidis"
          ],
          [
           true,
           "Staphylococcus epidermidis"
          ],
          [
           true,
           "Staphylococcus epidermidis"
          ],
          [
           true,
           "Staphylococcus epidermidis"
          ],
          [
           true,
           "Staphylococcus epidermidis"
          ],
          [
           true,
           "Staphylococcus epidermidis"
          ],
          [
           true,
           "Staphylococcus epidermidis"
          ],
          [
           true,
           "Staphylococcus epidermidis"
          ],
          [
           true,
           "Staphylococcus epidermidis"
          ],
          [
           true,
           "Staphylococcus aureus"
          ],
          [
           true,
           "Staphylococcus aureus"
          ],
          [
           true,
           "Staphylococcus epidermidis"
          ],
          [
           true,
           "Staphylococcus epidermidis"
          ],
          [
           true,
           "Staphylococcus epidermidis"
          ],
          [
           true,
           "Staphylococcus epidermidis"
          ],
          [
           true,
           "Staphylococcus epidermidis"
          ],
          [
           true,
           "Staphylococcus epidermidis"
          ],
          [
           true,
           "Staphylococcus epidermidis"
          ],
          [
           true,
           "Staphylococcus epidermidis"
          ],
          [
           true,
           "Staphylococcus epidermidis"
          ],
          [
           true,
           "Staphylococcus epidermidis"
          ],
          [
           true,
           "Staphylococcus hominis"
          ],
          [
           true,
           "Staphylococcus epidermidis"
          ],
          [
           true,
           "Staphylococcus hominis"
          ],
          [
           true,
           "Staphylococcus hominis"
          ],
          [
           true,
           "Staphylococcus hominis"
          ],
          [
           true,
           "Staphylococcus hominis"
          ],
          [
           true,
           "Staphylococcus hominis"
          ],
          [
           true,
           "Staphylococcus hominis"
          ],
          [
           true,
           "Staphylococcus hominis"
          ],
          [
           true,
           "Staphylococcus hominis"
          ],
          [
           true,
           "Staphylococcus hominis"
          ],
          [
           true,
           "Streptococcus pneumoniae"
          ],
          [
           true,
           "Streptococcus pneumoniae"
          ],
          [
           true,
           "Streptococcus pneumoniae"
          ],
          [
           true,
           "Streptococcus pneumoniae"
          ],
          [
           true,
           "Streptococcus pneumoniae"
          ],
          [
           true,
           "Streptococcus pneumoniae"
          ],
          [
           true,
           "Streptococcus pneumoniae"
          ],
          [
           true,
           "Streptococcus pyogenes"
          ],
          [
           true,
           "Streptococcus pyogenes"
          ],
          [
           true,
           "Streptococcus pyogenes"
          ],
          [
           true,
           "Streptococcus oralis"
          ],
          [
           true,
           "Streptococcus oralis"
          ],
          [
           true,
           "Streptococcus oralis"
          ],
          [
           true,
           "Streptococcus pneumoniae"
          ],
          [
           true,
           "Streptococcus sanguinis"
          ],
          [
           true,
           "Streptococcus pyogenes"
          ],
          [
           true,
           "Streptococcus pyogenes"
          ],
          [
           true,
           "Streptococcus pyogenes"
          ],
          [
           true,
           "Streptococcus pyogenes"
          ],
          [
           true,
           "Streptococcus pyogenes"
          ],
          [
           true,
           "Streptococcus pyogenes"
          ],
          [
           true,
           "Streptococcus salivarius"
          ],
          [
           true,
           "Staphylococcus hominis"
          ],
          [
           true,
           "Staphylococcus hominis"
          ],
          [
           true,
           "Staphylococcus hominis"
          ],
          [
           true,
           "Staphylococcus hominis"
          ],
          [
           true,
           "Staphylococcus hominis"
          ],
          [
           true,
           "Staphylococcus hominis"
          ],
          [
           true,
           "Enterococcus faecium"
          ],
          [
           true,
           "Enterococcus faecium"
          ],
          [
           true,
           "Staphylococcus aureus"
          ],
          [
           true,
           "Staphylococcus aureus"
          ],
          [
           true,
           "Staphylococcus aureus"
          ],
          [
           true,
           "Staphylococcus aureus"
          ],
          [
           true,
           "Staphylococcus aureus"
          ],
          [
           true,
           "Staphylococcus aureus"
          ],
          [
           true,
           "Staphylococcus aureus"
          ],
          [
           true,
           "Staphylococcus aureus"
          ],
          [
           true,
           "Staphylococcus aureus"
          ],
          [
           true,
           "Staphylococcus aureus"
          ],
          [
           true,
           "Staphylococcus aureus"
          ],
          [
           true,
           "Staphylococcus aureus"
          ],
          [
           true,
           "Staphylococcus aureus"
          ],
          [
           true,
           "Staphylococcus aureus"
          ],
          [
           true,
           "Staphylococcus aureus"
          ],
          [
           true,
           "Staphylococcus aureus"
          ],
          [
           true,
           "Staphylococcus aureus"
          ],
          [
           true,
           "Staphylococcus aureus"
          ],
          [
           true,
           "Staphylococcus capitis"
          ],
          [
           true,
           "Staphylococcus capitis"
          ],
          [
           true,
           "Streptococcus pneumoniae"
          ],
          [
           true,
           "Streptococcus agalactiae"
          ],
          [
           true,
           "Streptococcus mitis"
          ],
          [
           true,
           "Streptococcus pneumoniae"
          ],
          [
           true,
           "Streptococcus sanguinis"
          ],
          [
           true,
           "Streptococcus sanguinis"
          ],
          [
           true,
           "Streptococcus anginosus"
          ],
          [
           true,
           "Staphylococcus hominis"
          ],
          [
           true,
           "Staphylococcus hominis"
          ],
          [
           true,
           "Staphylococcus hominis"
          ],
          [
           true,
           "Staphylococcus hominis"
          ],
          [
           true,
           "Staphylococcus hominis"
          ],
          [
           true,
           "Enterococcus faecium"
          ],
          [
           true,
           "Enterococcus faecium"
          ],
          [
           true,
           "Streptococcus agalactiae"
          ],
          [
           true,
           "Staphylococcus hominis"
          ],
          [
           true,
           "Staphylococcus hominis"
          ],
          [
           true,
           "Staphylococcus hominis"
          ],
          [
           true,
           "Staphylococcus hominis"
          ],
          [
           true,
           "Staphylococcus lugdunensis"
          ],
          [
           true,
           "Staphylococcus lugdunensis"
          ],
          [
           true,
           "Staphylococcus lugdunensis"
          ],
          [
           true,
           "Staphylococcus lugdunensis"
          ],
          [
           true,
           "Staphylococcus lugdunensis"
          ],
          [
           true,
           "Streptococcus agalactiae"
          ],
          [
           true,
           "Streptococcus agalactiae"
          ],
          [
           true,
           "Streptococcus agalactiae"
          ],
          [
           true,
           "Streptococcus agalactiae"
          ],
          [
           true,
           "Streptococcus agalactiae"
          ],
          [
           true,
           "Streptococcus agalactiae"
          ],
          [
           true,
           "Streptococcus agalactiae"
          ],
          [
           true,
           "Streptococcus pneumoniae"
          ],
          [
           true,
           "Streptococcus pneumoniae"
          ],
          [
           true,
           "Streptococcus pneumoniae"
          ],
          [
           true,
           "Streptococcus pneumoniae"
          ],
          [
           true,
           "Streptococcus pneumoniae"
          ],
          [
           true,
           "Streptococcus pneumoniae"
          ],
          [
           true,
           "Streptococcus pneumoniae"
          ],
          [
           true,
           "Streptococcus pneumoniae"
          ],
          [
           true,
           "Staphylococcus hominis"
          ],
          [
           true,
           "Staphylococcus hominis"
          ],
          [
           true,
           "Staphylococcus hominis"
          ],
          [
           true,
           "Staphylococcus hominis"
          ],
          [
           true,
           "Staphylococcus hominis"
          ],
          [
           true,
           "Streptococcus mitis"
          ],
          [
           true,
           "Streptococcus mitis"
          ],
          [
           true,
           "Streptococcus sanguinis"
          ],
          [
           true,
           "Streptococcus mitis"
          ],
          [
           true,
           "Streptococcus oralis"
          ],
          [
           true,
           "Streptococcus oralis"
          ],
          [
           true,
           "Streptococcus agalactiae"
          ],
          [
           true,
           "Streptococcus pneumoniae"
          ],
          [
           true,
           "Streptococcus pyogenes"
          ],
          [
           true,
           "Streptococcus pyogenes"
          ],
          [
           true,
           "Streptococcus pyogenes"
          ],
          [
           true,
           "Streptococcus pyogenes"
          ],
          [
           true,
           "Streptococcus pyogenes"
          ],
          [
           true,
           "Streptococcus pyogenes"
          ],
          [
           true,
           "Streptococcus pyogenes"
          ],
          [
           true,
           "Streptococcus pyogenes"
          ],
          [
           true,
           "Streptococcus pyogenes"
          ],
          [
           true,
           "Streptococcus pyogenes"
          ],
          [
           true,
           "Streptococcus pyogenes"
          ],
          [
           true,
           "Streptococcus pyogenes"
          ],
          [
           true,
           "Streptococcus sanguinis"
          ],
          [
           true,
           "Streptococcus sanguinis"
          ],
          [
           true,
           "Streptococcus sanguinis"
          ],
          [
           true,
           "Staphylococcus aureus"
          ],
          [
           true,
           "Staphylococcus aureus"
          ],
          [
           true,
           "Staphylococcus aureus"
          ],
          [
           true,
           "Staphylococcus aureus"
          ],
          [
           true,
           "Staphylococcus aureus"
          ],
          [
           true,
           "Staphylococcus aureus"
          ],
          [
           true,
           "Staphylococcus aureus"
          ],
          [
           true,
           "Staphylococcus aureus"
          ],
          [
           true,
           "Staphylococcus aureus"
          ],
          [
           true,
           "Staphylococcus aureus"
          ],
          [
           true,
           "Staphylococcus aureus"
          ],
          [
           true,
           "Staphylococcus aureus"
          ],
          [
           true,
           "Staphylococcus aureus"
          ],
          [
           true,
           "Staphylococcus aureus"
          ],
          [
           true,
           "Staphylococcus aureus"
          ],
          [
           true,
           "Staphylococcus aureus"
          ],
          [
           true,
           "Staphylococcus capitis"
          ],
          [
           true,
           "Staphylococcus epidermidis"
          ],
          [
           true,
           "Staphylococcus lugdunensis"
          ],
          [
           true,
           "Staphylococcus lugdunensis"
          ],
          [
           true,
           "Staphylococcus lugdunensis"
          ],
          [
           true,
           "Staphylococcus lugdunensis"
          ],
          [
           true,
           "Staphylococcus lugdunensis"
          ],
          [
           true,
           "Staphylococcus lugdunensis"
          ],
          [
           true,
           "Staphylococcus epidermidis"
          ],
          [
           true,
           "Staphylococcus epidermidis"
          ],
          [
           true,
           "Staphylococcus epidermidis"
          ],
          [
           true,
           "Staphylococcus epidermidis"
          ],
          [
           true,
           "Staphylococcus epidermidis"
          ],
          [
           true,
           "Staphylococcus epidermidis"
          ],
          [
           true,
           "Staphylococcus lugdunensis"
          ],
          [
           true,
           "Staphylococcus aureus"
          ],
          [
           true,
           "Staphylococcus aureus"
          ],
          [
           true,
           "Staphylococcus aureus"
          ],
          [
           true,
           "Staphylococcus aureus"
          ],
          [
           true,
           "Staphylococcus aureus"
          ],
          [
           true,
           "Staphylococcus aureus"
          ],
          [
           true,
           "Staphylococcus aureus"
          ],
          [
           true,
           "Staphylococcus aureus"
          ],
          [
           true,
           "Staphylococcus aureus"
          ],
          [
           true,
           "Staphylococcus aureus"
          ],
          [
           true,
           "Staphylococcus aureus"
          ],
          [
           true,
           "Staphylococcus aureus"
          ],
          [
           true,
           "Staphylococcus aureus"
          ],
          [
           true,
           "Staphylococcus aureus"
          ],
          [
           true,
           "Staphylococcus aureus"
          ],
          [
           true,
           "Staphylococcus aureus"
          ],
          [
           true,
           "Staphylococcus aureus"
          ],
          [
           true,
           "Staphylococcus aureus"
          ],
          [
           true,
           "Staphylococcus aureus"
          ],
          [
           true,
           "Staphylococcus aureus"
          ],
          [
           true,
           "Staphylococcus aureus"
          ],
          [
           true,
           "Staphylococcus aureus"
          ],
          [
           true,
           "Staphylococcus aureus"
          ],
          [
           true,
           "Staphylococcus aureus"
          ],
          [
           true,
           "Staphylococcus aureus"
          ],
          [
           true,
           "Staphylococcus aureus"
          ],
          [
           true,
           "Staphylococcus aureus"
          ],
          [
           true,
           "Staphylococcus aureus"
          ],
          [
           true,
           "Staphylococcus aureus"
          ],
          [
           true,
           "Staphylococcus aureus"
          ],
          [
           true,
           "Staphylococcus epidermidis"
          ],
          [
           true,
           "Staphylococcus epidermidis"
          ],
          [
           true,
           "Staphylococcus epidermidis"
          ],
          [
           true,
           "Staphylococcus epidermidis"
          ],
          [
           true,
           "Staphylococcus epidermidis"
          ],
          [
           true,
           "Streptococcus pneumoniae"
          ],
          [
           true,
           "Streptococcus pneumoniae"
          ],
          [
           true,
           "Streptococcus pneumoniae"
          ],
          [
           true,
           "Streptococcus pneumoniae"
          ],
          [
           true,
           "Streptococcus pneumoniae"
          ],
          [
           true,
           "Streptococcus pneumoniae"
          ],
          [
           true,
           "Streptococcus salivarius"
          ],
          [
           true,
           "Streptococcus salivarius"
          ],
          [
           true,
           "Streptococcus salivarius"
          ],
          [
           true,
           "Streptococcus salivarius"
          ],
          [
           true,
           "Staphylococcus aureus"
          ],
          [
           true,
           "Staphylococcus lugdunensis"
          ],
          [
           true,
           "Staphylococcus aureus"
          ],
          [
           true,
           "Staphylococcus aureus"
          ],
          [
           true,
           "Staphylococcus capitis"
          ],
          [
           true,
           "Staphylococcus capitis"
          ],
          [
           true,
           "Staphylococcus epidermidis"
          ],
          [
           true,
           "Staphylococcus epidermidis"
          ],
          [
           true,
           "Staphylococcus aureus"
          ],
          [
           true,
           "Staphylococcus hominis"
          ],
          [
           true,
           "Staphylococcus lugdunensis"
          ],
          [
           true,
           "Staphylococcus lugdunensis"
          ],
          [
           true,
           "Staphylococcus lugdunensis"
          ],
          [
           true,
           "Staphylococcus aureus"
          ],
          [
           true,
           "Staphylococcus aureus"
          ],
          [
           true,
           "Staphylococcus aureus"
          ],
          [
           true,
           "Staphylococcus epidermidis"
          ],
          [
           true,
           "Staphylococcus aureus"
          ],
          [
           true,
           "Staphylococcus aureus"
          ],
          [
           true,
           "Staphylococcus aureus"
          ],
          [
           true,
           "Staphylococcus aureus"
          ],
          [
           true,
           "Staphylococcus aureus"
          ],
          [
           true,
           "Staphylococcus lugdunensis"
          ],
          [
           true,
           "Staphylococcus aureus"
          ],
          [
           true,
           "Staphylococcus aureus"
          ],
          [
           true,
           "Staphylococcus aureus"
          ],
          [
           true,
           "Staphylococcus aureus"
          ],
          [
           true,
           "Streptococcus agalactiae"
          ],
          [
           true,
           "Streptococcus agalactiae"
          ],
          [
           true,
           "Staphylococcus capitis"
          ],
          [
           true,
           "Staphylococcus epidermidis"
          ],
          [
           true,
           "Staphylococcus epidermidis"
          ],
          [
           true,
           "Staphylococcus epidermidis"
          ],
          [
           true,
           "Streptococcus agalactiae"
          ],
          [
           true,
           "Staphylococcus epidermidis"
          ],
          [
           true,
           "Staphylococcus epidermidis"
          ],
          [
           true,
           "Staphylococcus epidermidis"
          ],
          [
           true,
           "Staphylococcus epidermidis"
          ],
          [
           true,
           "Staphylococcus epidermidis"
          ],
          [
           true,
           "Staphylococcus epidermidis"
          ],
          [
           true,
           "Staphylococcus epidermidis"
          ],
          [
           true,
           "Staphylococcus epidermidis"
          ],
          [
           true,
           "Staphylococcus aureus"
          ],
          [
           true,
           "Staphylococcus aureus"
          ],
          [
           true,
           "Staphylococcus hominis"
          ],
          [
           true,
           "Staphylococcus hominis"
          ],
          [
           true,
           "Staphylococcus hominis"
          ],
          [
           true,
           "Staphylococcus hominis"
          ],
          [
           true,
           "Staphylococcus hominis"
          ],
          [
           true,
           "Staphylococcus hominis"
          ],
          [
           true,
           "Staphylococcus hominis"
          ],
          [
           true,
           "Staphylococcus hominis"
          ],
          [
           true,
           "Staphylococcus hominis"
          ],
          [
           true,
           "Streptococcus pneumoniae"
          ],
          [
           true,
           "Streptococcus pneumoniae"
          ],
          [
           true,
           "Streptococcus pneumoniae"
          ],
          [
           true,
           "Streptococcus pneumoniae"
          ],
          [
           true,
           "Streptococcus pyogenes"
          ],
          [
           true,
           "Streptococcus pyogenes"
          ],
          [
           true,
           "Streptococcus pyogenes"
          ],
          [
           true,
           "Streptococcus pyogenes"
          ],
          [
           true,
           "Staphylococcus hominis"
          ],
          [
           true,
           "Staphylococcus hominis"
          ],
          [
           true,
           "Staphylococcus hominis"
          ],
          [
           true,
           "Staphylococcus hominis"
          ],
          [
           true,
           "Staphylococcus hominis"
          ],
          [
           true,
           "Staphylococcus hominis"
          ],
          [
           true,
           "Staphylococcus aureus"
          ],
          [
           true,
           "Staphylococcus aureus"
          ],
          [
           true,
           "Staphylococcus aureus"
          ],
          [
           true,
           "Staphylococcus aureus"
          ],
          [
           true,
           "Staphylococcus aureus"
          ],
          [
           true,
           "Staphylococcus aureus"
          ],
          [
           true,
           "Staphylococcus aureus"
          ],
          [
           true,
           "Staphylococcus aureus"
          ],
          [
           true,
           "Staphylococcus aureus"
          ],
          [
           true,
           "Staphylococcus aureus"
          ],
          [
           true,
           "Staphylococcus aureus"
          ],
          [
           true,
           "Staphylococcus aureus"
          ],
          [
           true,
           "Staphylococcus aureus"
          ],
          [
           true,
           "Staphylococcus aureus"
          ],
          [
           true,
           "Streptococcus pneumoniae"
          ],
          [
           true,
           "Staphylococcus hominis"
          ],
          [
           true,
           "Staphylococcus hominis"
          ],
          [
           true,
           "Staphylococcus lugdunensis"
          ],
          [
           true,
           "Staphylococcus lugdunensis"
          ],
          [
           true,
           "Staphylococcus lugdunensis"
          ],
          [
           true,
           "Staphylococcus lugdunensis"
          ],
          [
           true,
           "Streptococcus agalactiae"
          ],
          [
           true,
           "Streptococcus agalactiae"
          ],
          [
           true,
           "Staphylococcus hominis"
          ],
          [
           true,
           "Staphylococcus hominis"
          ],
          [
           true,
           "Staphylococcus hominis"
          ],
          [
           true,
           "Staphylococcus hominis"
          ],
          [
           true,
           "Streptococcus agalactiae"
          ],
          [
           true,
           "Streptococcus pyogenes"
          ],
          [
           true,
           "Streptococcus pyogenes"
          ],
          [
           true,
           "Streptococcus pyogenes"
          ],
          [
           true,
           "Streptococcus pyogenes"
          ],
          [
           true,
           "Streptococcus pyogenes"
          ],
          [
           true,
           "Staphylococcus aureus"
          ],
          [
           true,
           "Staphylococcus aureus"
          ],
          [
           true,
           "Staphylococcus aureus"
          ],
          [
           true,
           "Staphylococcus aureus"
          ],
          [
           true,
           "Staphylococcus aureus"
          ],
          [
           true,
           "Staphylococcus aureus"
          ],
          [
           true,
           "Staphylococcus aureus"
          ],
          [
           true,
           "Staphylococcus aureus"
          ],
          [
           true,
           "Staphylococcus aureus"
          ],
          [
           true,
           "Staphylococcus aureus"
          ],
          [
           true,
           "Staphylococcus aureus"
          ],
          [
           true,
           "Staphylococcus aureus"
          ],
          [
           true,
           "Staphylococcus aureus"
          ],
          [
           true,
           "Staphylococcus aureus"
          ],
          [
           true,
           "Staphylococcus aureus"
          ],
          [
           true,
           "Staphylococcus lugdunensis"
          ],
          [
           true,
           "Staphylococcus lugdunensis"
          ],
          [
           true,
           "Staphylococcus aureus"
          ],
          [
           true,
           "Staphylococcus aureus"
          ],
          [
           true,
           "Staphylococcus aureus"
          ],
          [
           true,
           "Staphylococcus aureus"
          ],
          [
           true,
           "Staphylococcus aureus"
          ],
          [
           true,
           "Staphylococcus aureus"
          ],
          [
           true,
           "Staphylococcus aureus"
          ],
          [
           true,
           "Staphylococcus aureus"
          ],
          [
           true,
           "Staphylococcus aureus"
          ],
          [
           true,
           "Staphylococcus aureus"
          ],
          [
           true,
           "Staphylococcus aureus"
          ],
          [
           true,
           "Staphylococcus aureus"
          ],
          [
           true,
           "Staphylococcus aureus"
          ],
          [
           true,
           "Staphylococcus aureus"
          ],
          [
           true,
           "Staphylococcus aureus"
          ],
          [
           true,
           "Streptococcus pneumoniae"
          ],
          [
           true,
           "Streptococcus pneumoniae"
          ],
          [
           true,
           "Staphylococcus aureus"
          ],
          [
           true,
           "Staphylococcus lugdunensis"
          ],
          [
           true,
           "Staphylococcus aureus"
          ],
          [
           true,
           "Staphylococcus aureus"
          ],
          [
           true,
           "Staphylococcus capitis"
          ],
          [
           true,
           "Staphylococcus epidermidis"
          ],
          [
           true,
           "Staphylococcus capitis"
          ],
          [
           true,
           "Staphylococcus capitis"
          ],
          [
           true,
           "Staphylococcus capitis"
          ],
          [
           true,
           "Staphylococcus capitis"
          ],
          [
           true,
           "Staphylococcus capitis"
          ],
          [
           true,
           "Staphylococcus epidermidis"
          ],
          [
           true,
           "Staphylococcus epidermidis"
          ],
          [
           true,
           "Staphylococcus epidermidis"
          ],
          [
           true,
           "Staphylococcus epidermidis"
          ],
          [
           true,
           "Staphylococcus epidermidis"
          ],
          [
           true,
           "Staphylococcus epidermidis"
          ],
          [
           true,
           "Staphylococcus epidermidis"
          ],
          [
           true,
           "Staphylococcus epidermidis"
          ],
          [
           true,
           "Staphylococcus epidermidis"
          ],
          [
           true,
           "Staphylococcus epidermidis"
          ],
          [
           true,
           "Staphylococcus aureus"
          ],
          [
           true,
           "Staphylococcus aureus"
          ],
          [
           true,
           "Staphylococcus epidermidis"
          ],
          [
           true,
           "Staphylococcus epidermidis"
          ],
          [
           true,
           "Staphylococcus epidermidis"
          ],
          [
           true,
           "Staphylococcus epidermidis"
          ],
          [
           true,
           "Staphylococcus epidermidis"
          ],
          [
           true,
           "Staphylococcus hominis"
          ],
          [
           true,
           "Staphylococcus hominis"
          ],
          [
           true,
           "Staphylococcus hominis"
          ],
          [
           true,
           "Staphylococcus hominis"
          ],
          [
           true,
           "Staphylococcus hominis"
          ],
          [
           true,
           "Staphylococcus hominis"
          ],
          [
           true,
           "Staphylococcus hominis"
          ],
          [
           true,
           "Staphylococcus aureus"
          ],
          [
           true,
           "Staphylococcus aureus"
          ],
          [
           true,
           "Staphylococcus aureus"
          ],
          [
           true,
           "Staphylococcus aureus"
          ],
          [
           true,
           "Staphylococcus aureus"
          ],
          [
           true,
           "Staphylococcus aureus"
          ],
          [
           true,
           "Staphylococcus aureus"
          ],
          [
           true,
           "Staphylococcus hominis"
          ],
          [
           true,
           "Staphylococcus hominis"
          ],
          [
           true,
           "Staphylococcus hominis"
          ],
          [
           true,
           "Staphylococcus hominis"
          ],
          [
           true,
           "Staphylococcus hominis"
          ],
          [
           true,
           "Staphylococcus hominis"
          ],
          [
           true,
           "Staphylococcus hominis"
          ],
          [
           true,
           "Staphylococcus hominis"
          ],
          [
           true,
           "Staphylococcus lugdunensis"
          ],
          [
           true,
           "Staphylococcus lugdunensis"
          ],
          [
           true,
           "Staphylococcus lugdunensis"
          ],
          [
           true,
           "Staphylococcus hominis"
          ],
          [
           true,
           "Staphylococcus hominis"
          ],
          [
           true,
           "Staphylococcus aureus"
          ],
          [
           true,
           "Staphylococcus aureus"
          ],
          [
           true,
           "Staphylococcus aureus"
          ],
          [
           true,
           "Staphylococcus aureus"
          ],
          [
           true,
           "Staphylococcus aureus"
          ],
          [
           true,
           "Staphylococcus aureus"
          ],
          [
           true,
           "Staphylococcus aureus"
          ],
          [
           true,
           "Staphylococcus aureus"
          ],
          [
           true,
           "Staphylococcus aureus"
          ],
          [
           true,
           "Staphylococcus aureus"
          ],
          [
           true,
           "Staphylococcus aureus"
          ],
          [
           true,
           "Staphylococcus aureus"
          ],
          [
           true,
           "Staphylococcus aureus"
          ],
          [
           true,
           "Staphylococcus aureus"
          ],
          [
           true,
           "Staphylococcus aureus"
          ],
          [
           true,
           "Staphylococcus aureus"
          ],
          [
           true,
           "Staphylococcus lugdunensis"
          ],
          [
           true,
           "Staphylococcus lugdunensis"
          ],
          [
           true,
           "Staphylococcus lugdunensis"
          ],
          [
           true,
           "Staphylococcus lugdunensis"
          ],
          [
           true,
           "Staphylococcus epidermidis"
          ],
          [
           true,
           "Staphylococcus epidermidis"
          ],
          [
           true,
           "Staphylococcus epidermidis"
          ],
          [
           true,
           "Staphylococcus aureus"
          ],
          [
           true,
           "Staphylococcus aureus"
          ],
          [
           true,
           "Staphylococcus aureus"
          ],
          [
           true,
           "Staphylococcus aureus"
          ],
          [
           true,
           "Staphylococcus aureus"
          ],
          [
           true,
           "Staphylococcus aureus"
          ],
          [
           true,
           "Staphylococcus aureus"
          ],
          [
           true,
           "Staphylococcus aureus"
          ],
          [
           true,
           "Staphylococcus aureus"
          ],
          [
           true,
           "Staphylococcus aureus"
          ],
          [
           true,
           "Staphylococcus aureus"
          ],
          [
           true,
           "Staphylococcus aureus"
          ],
          [
           true,
           "Staphylococcus aureus"
          ],
          [
           true,
           "Staphylococcus aureus"
          ],
          [
           true,
           "Staphylococcus aureus"
          ],
          [
           true,
           "Staphylococcus aureus"
          ],
          [
           true,
           "Staphylococcus aureus"
          ],
          [
           true,
           "Staphylococcus aureus"
          ],
          [
           true,
           "Staphylococcus aureus"
          ],
          [
           true,
           "Staphylococcus aureus"
          ],
          [
           true,
           "Staphylococcus aureus"
          ],
          [
           true,
           "Staphylococcus aureus"
          ],
          [
           true,
           "Staphylococcus aureus"
          ],
          [
           true,
           "Staphylococcus epidermidis"
          ],
          [
           true,
           "Staphylococcus epidermidis"
          ],
          [
           true,
           "Staphylococcus epidermidis"
          ],
          [
           true,
           "Streptococcus pneumoniae"
          ],
          [
           true,
           "Streptococcus pneumoniae"
          ],
          [
           true,
           "Streptococcus pneumoniae"
          ],
          [
           true,
           "Staphylococcus aureus"
          ],
          [
           true,
           "Enterococcus faecium"
          ],
          [
           true,
           "Enterococcus faecium"
          ],
          [
           true,
           "Enterococcus faecium"
          ],
          [
           true,
           "Enterococcus faecium"
          ],
          [
           true,
           "Enterococcus faecium"
          ],
          [
           true,
           "Staphylococcus aureus"
          ],
          [
           true,
           "Staphylococcus aureus"
          ],
          [
           true,
           "Staphylococcus aureus"
          ],
          [
           true,
           "Staphylococcus aureus"
          ],
          [
           true,
           "Staphylococcus aureus"
          ],
          [
           true,
           "Staphylococcus aureus"
          ],
          [
           true,
           "Staphylococcus aureus"
          ],
          [
           true,
           "Enterococcus faecalis"
          ],
          [
           true,
           "Enterococcus faecium"
          ],
          [
           true,
           "Enterococcus faecium"
          ],
          [
           true,
           "Enterococcus faecium"
          ],
          [
           true,
           "Enterococcus faecium"
          ],
          [
           true,
           "Streptococcus agalactiae"
          ],
          [
           true,
           "Streptococcus agalactiae"
          ],
          [
           true,
           "Streptococcus agalactiae"
          ],
          [
           true,
           "Streptococcus agalactiae"
          ],
          [
           true,
           "Streptococcus agalactiae"
          ],
          [
           true,
           "Streptococcus agalactiae"
          ],
          [
           true,
           "Streptococcus agalactiae"
          ],
          [
           true,
           "Streptococcus agalactiae"
          ],
          [
           true,
           "Streptococcus agalactiae"
          ],
          [
           true,
           "Streptococcus agalactiae"
          ],
          [
           true,
           "Streptococcus agalactiae"
          ],
          [
           true,
           "Staphylococcus capitis"
          ],
          [
           true,
           "Staphylococcus capitis"
          ],
          [
           true,
           "Staphylococcus epidermidis"
          ],
          [
           true,
           "Staphylococcus epidermidis"
          ],
          [
           true,
           "Staphylococcus capitis"
          ],
          [
           true,
           "Staphylococcus capitis"
          ],
          [
           true,
           "Staphylococcus capitis"
          ],
          [
           true,
           "Staphylococcus capitis"
          ],
          [
           true,
           "Staphylococcus capitis"
          ],
          [
           true,
           "Staphylococcus capitis"
          ],
          [
           true,
           "Staphylococcus epidermidis"
          ],
          [
           true,
           "Staphylococcus epidermidis"
          ],
          [
           true,
           "Staphylococcus epidermidis"
          ],
          [
           true,
           "Staphylococcus epidermidis"
          ],
          [
           true,
           "Streptococcus agalactiae"
          ],
          [
           true,
           "Streptococcus agalactiae"
          ],
          [
           true,
           "Streptococcus agalactiae"
          ],
          [
           true,
           "Streptococcus agalactiae"
          ],
          [
           true,
           "Staphylococcus epidermidis"
          ],
          [
           true,
           "Staphylococcus epidermidis"
          ],
          [
           true,
           "Staphylococcus epidermidis"
          ],
          [
           true,
           "Staphylococcus epidermidis"
          ],
          [
           true,
           "Staphylococcus epidermidis"
          ],
          [
           true,
           "Staphylococcus epidermidis"
          ],
          [
           true,
           "Staphylococcus epidermidis"
          ],
          [
           true,
           "Staphylococcus epidermidis"
          ],
          [
           true,
           "Staphylococcus epidermidis"
          ],
          [
           true,
           "Staphylococcus epidermidis"
          ],
          [
           true,
           "Staphylococcus epidermidis"
          ],
          [
           true,
           "Staphylococcus epidermidis"
          ],
          [
           true,
           "Staphylococcus epidermidis"
          ],
          [
           true,
           "Staphylococcus epidermidis"
          ],
          [
           true,
           "Staphylococcus epidermidis"
          ],
          [
           true,
           "Staphylococcus epidermidis"
          ],
          [
           true,
           "Staphylococcus epidermidis"
          ],
          [
           true,
           "Staphylococcus epidermidis"
          ],
          [
           true,
           "Staphylococcus epidermidis"
          ],
          [
           true,
           "Staphylococcus epidermidis"
          ],
          [
           true,
           "Enterococcus faecalis"
          ],
          [
           true,
           "Staphylococcus aureus"
          ],
          [
           true,
           "Staphylococcus aureus"
          ],
          [
           true,
           "Staphylococcus epidermidis"
          ],
          [
           true,
           "Staphylococcus epidermidis"
          ],
          [
           true,
           "Staphylococcus epidermidis"
          ],
          [
           true,
           "Staphylococcus epidermidis"
          ],
          [
           true,
           "Staphylococcus epidermidis"
          ],
          [
           true,
           "Staphylococcus epidermidis"
          ],
          [
           true,
           "Staphylococcus epidermidis"
          ],
          [
           true,
           "Staphylococcus hominis"
          ],
          [
           true,
           "Staphylococcus hominis"
          ],
          [
           true,
           "Staphylococcus hominis"
          ],
          [
           true,
           "Staphylococcus hominis"
          ],
          [
           true,
           "Staphylococcus hominis"
          ],
          [
           true,
           "Staphylococcus hominis"
          ],
          [
           true,
           "Staphylococcus hominis"
          ],
          [
           true,
           "Staphylococcus hominis"
          ],
          [
           true,
           "Staphylococcus hominis"
          ],
          [
           true,
           "Staphylococcus hominis"
          ],
          [
           true,
           "Staphylococcus hominis"
          ],
          [
           true,
           "Streptococcus pneumoniae"
          ],
          [
           true,
           "Streptococcus pneumoniae"
          ],
          [
           true,
           "Streptococcus pneumoniae"
          ],
          [
           true,
           "Streptococcus pneumoniae"
          ],
          [
           true,
           "Streptococcus pneumoniae"
          ],
          [
           true,
           "Streptococcus pneumoniae"
          ],
          [
           true,
           "Streptococcus pyogenes"
          ],
          [
           true,
           "Streptococcus pyogenes"
          ],
          [
           true,
           "Streptococcus pyogenes"
          ],
          [
           true,
           "Streptococcus pneumoniae"
          ],
          [
           true,
           "Streptococcus pyogenes"
          ],
          [
           true,
           "Streptococcus pyogenes"
          ],
          [
           true,
           "Streptococcus pyogenes"
          ],
          [
           true,
           "Streptococcus pyogenes"
          ],
          [
           true,
           "Streptococcus pyogenes"
          ],
          [
           true,
           "Staphylococcus hominis"
          ],
          [
           true,
           "Staphylococcus hominis"
          ],
          [
           true,
           "Staphylococcus hominis"
          ],
          [
           true,
           "Staphylococcus hominis"
          ],
          [
           true,
           "Staphylococcus hominis"
          ],
          [
           true,
           "Staphylococcus hominis"
          ],
          [
           true,
           "Staphylococcus hominis"
          ],
          [
           true,
           "Enterococcus faecium"
          ],
          [
           true,
           "Enterococcus faecium"
          ],
          [
           true,
           "Enterococcus faecium"
          ],
          [
           true,
           "Enterococcus faecium"
          ],
          [
           true,
           "Enterococcus faecium"
          ],
          [
           true,
           "Enterococcus faecium"
          ],
          [
           true,
           "Enterococcus faecium"
          ],
          [
           true,
           "Enterococcus faecium"
          ],
          [
           true,
           "Enterococcus faecium"
          ],
          [
           true,
           "Enterococcus faecium"
          ],
          [
           true,
           "Enterococcus faecium"
          ],
          [
           true,
           "Enterococcus faecium"
          ],
          [
           true,
           "Enterococcus faecium"
          ],
          [
           true,
           "Enterococcus faecium"
          ],
          [
           true,
           "Enterococcus faecium"
          ],
          [
           true,
           "Enterococcus faecium"
          ],
          [
           true,
           "Enterococcus faecium"
          ],
          [
           true,
           "Enterococcus faecium"
          ],
          [
           true,
           "Staphylococcus aureus"
          ],
          [
           true,
           "Staphylococcus aureus"
          ],
          [
           true,
           "Staphylococcus aureus"
          ],
          [
           true,
           "Staphylococcus aureus"
          ],
          [
           true,
           "Staphylococcus aureus"
          ],
          [
           true,
           "Staphylococcus aureus"
          ],
          [
           true,
           "Staphylococcus aureus"
          ],
          [
           true,
           "Staphylococcus aureus"
          ],
          [
           true,
           "Staphylococcus aureus"
          ],
          [
           true,
           "Staphylococcus aureus"
          ],
          [
           true,
           "Staphylococcus aureus"
          ],
          [
           true,
           "Staphylococcus aureus"
          ],
          [
           true,
           "Staphylococcus aureus"
          ],
          [
           true,
           "Staphylococcus capitis"
          ],
          [
           true,
           "Staphylococcus capitis"
          ],
          [
           true,
           "Streptococcus pneumoniae"
          ],
          [
           true,
           "Streptococcus agalactiae"
          ],
          [
           true,
           "Streptococcus pneumoniae"
          ],
          [
           true,
           "Staphylococcus hominis"
          ],
          [
           true,
           "Staphylococcus hominis"
          ],
          [
           true,
           "Staphylococcus hominis"
          ],
          [
           true,
           "Staphylococcus hominis"
          ],
          [
           true,
           "Staphylococcus hominis"
          ],
          [
           true,
           "Staphylococcus hominis"
          ],
          [
           true,
           "Enterococcus faecium"
          ],
          [
           true,
           "Enterococcus faecium"
          ],
          [
           true,
           "Enterococcus faecium"
          ],
          [
           true,
           "Enterococcus faecium"
          ],
          [
           true,
           "Enterococcus faecium"
          ],
          [
           true,
           "Enterococcus faecium"
          ],
          [
           true,
           "Enterococcus faecium"
          ],
          [
           true,
           "Streptococcus agalactiae"
          ],
          [
           true,
           "Staphylococcus lugdunensis"
          ],
          [
           true,
           "Staphylococcus lugdunensis"
          ],
          [
           true,
           "Staphylococcus lugdunensis"
          ],
          [
           true,
           "Streptococcus agalactiae"
          ],
          [
           true,
           "Streptococcus agalactiae"
          ],
          [
           true,
           "Streptococcus agalactiae"
          ],
          [
           true,
           "Streptococcus agalactiae"
          ],
          [
           true,
           "Streptococcus agalactiae"
          ],
          [
           true,
           "Streptococcus agalactiae"
          ],
          [
           true,
           "Streptococcus pneumoniae"
          ],
          [
           true,
           "Streptococcus pneumoniae"
          ],
          [
           true,
           "Streptococcus pneumoniae"
          ],
          [
           true,
           "Streptococcus pneumoniae"
          ],
          [
           true,
           "Streptococcus pneumoniae"
          ],
          [
           true,
           "Staphylococcus hominis"
          ],
          [
           true,
           "Staphylococcus hominis"
          ],
          [
           true,
           "Staphylococcus hominis"
          ],
          [
           true,
           "Staphylococcus hominis"
          ],
          [
           true,
           "Streptococcus agalactiae"
          ],
          [
           true,
           "Streptococcus pneumoniae"
          ],
          [
           true,
           "Streptococcus pyogenes"
          ],
          [
           true,
           "Streptococcus pyogenes"
          ],
          [
           true,
           "Streptococcus pyogenes"
          ],
          [
           true,
           "Streptococcus pyogenes"
          ],
          [
           true,
           "Streptococcus pyogenes"
          ],
          [
           true,
           "Streptococcus pyogenes"
          ],
          [
           true,
           "Streptococcus pyogenes"
          ],
          [
           true,
           "Streptococcus pyogenes"
          ],
          [
           true,
           "Streptococcus pyogenes"
          ],
          [
           true,
           "Streptococcus pyogenes"
          ],
          [
           true,
           "Staphylococcus aureus"
          ],
          [
           true,
           "Staphylococcus aureus"
          ],
          [
           true,
           "Staphylococcus aureus"
          ],
          [
           true,
           "Staphylococcus aureus"
          ],
          [
           true,
           "Staphylococcus aureus"
          ],
          [
           true,
           "Staphylococcus aureus"
          ],
          [
           true,
           "Staphylococcus aureus"
          ],
          [
           true,
           "Staphylococcus aureus"
          ],
          [
           true,
           "Staphylococcus aureus"
          ],
          [
           true,
           "Staphylococcus aureus"
          ],
          [
           true,
           "Staphylococcus aureus"
          ],
          [
           true,
           "Staphylococcus aureus"
          ],
          [
           true,
           "Staphylococcus aureus"
          ],
          [
           true,
           "Staphylococcus aureus"
          ],
          [
           true,
           "Staphylococcus aureus"
          ],
          [
           true,
           "Staphylococcus aureus"
          ],
          [
           true,
           "Staphylococcus aureus"
          ],
          [
           true,
           "Staphylococcus aureus"
          ],
          [
           true,
           "Staphylococcus aureus"
          ],
          [
           true,
           "Staphylococcus aureus"
          ],
          [
           true,
           "Staphylococcus capitis"
          ],
          [
           true,
           "Staphylococcus epidermidis"
          ],
          [
           true,
           "Staphylococcus lugdunensis"
          ],
          [
           true,
           "Staphylococcus lugdunensis"
          ],
          [
           true,
           "Staphylococcus lugdunensis"
          ],
          [
           true,
           "Staphylococcus lugdunensis"
          ],
          [
           true,
           "Staphylococcus lugdunensis"
          ],
          [
           true,
           "Staphylococcus epidermidis"
          ],
          [
           true,
           "Staphylococcus epidermidis"
          ],
          [
           true,
           "Staphylococcus epidermidis"
          ],
          [
           true,
           "Staphylococcus epidermidis"
          ],
          [
           true,
           "Staphylococcus epidermidis"
          ],
          [
           true,
           "Staphylococcus epidermidis"
          ],
          [
           true,
           "Staphylococcus aureus"
          ],
          [
           true,
           "Staphylococcus aureus"
          ],
          [
           true,
           "Staphylococcus aureus"
          ],
          [
           true,
           "Staphylococcus aureus"
          ],
          [
           true,
           "Staphylococcus aureus"
          ],
          [
           true,
           "Staphylococcus aureus"
          ],
          [
           true,
           "Staphylococcus aureus"
          ],
          [
           true,
           "Staphylococcus aureus"
          ],
          [
           true,
           "Staphylococcus aureus"
          ],
          [
           true,
           "Staphylococcus aureus"
          ],
          [
           true,
           "Staphylococcus aureus"
          ],
          [
           true,
           "Staphylococcus aureus"
          ],
          [
           true,
           "Staphylococcus aureus"
          ],
          [
           true,
           "Staphylococcus aureus"
          ],
          [
           true,
           "Staphylococcus aureus"
          ],
          [
           true,
           "Staphylococcus aureus"
          ],
          [
           true,
           "Staphylococcus aureus"
          ],
          [
           true,
           "Staphylococcus aureus"
          ],
          [
           true,
           "Staphylococcus aureus"
          ],
          [
           true,
           "Enterococcus faecium"
          ],
          [
           true,
           "Enterococcus faecium"
          ],
          [
           true,
           "Streptococcus pneumoniae"
          ],
          [
           true,
           "Streptococcus pneumoniae"
          ],
          [
           true,
           "Streptococcus pneumoniae"
          ],
          [
           true,
           "Staphylococcus aureus"
          ],
          [
           true,
           "Staphylococcus aureus"
          ],
          [
           true,
           "Staphylococcus aureus"
          ],
          [
           true,
           "Staphylococcus aureus"
          ],
          [
           true,
           "Staphylococcus aureus"
          ],
          [
           true,
           "Staphylococcus aureus"
          ],
          [
           true,
           "Staphylococcus aureus"
          ],
          [
           true,
           "Staphylococcus aureus"
          ],
          [
           true,
           "Staphylococcus aureus"
          ],
          [
           true,
           "Staphylococcus aureus"
          ],
          [
           true,
           "Staphylococcus aureus"
          ],
          [
           true,
           "Staphylococcus aureus"
          ],
          [
           true,
           "Staphylococcus aureus"
          ],
          [
           true,
           "Staphylococcus aureus"
          ],
          [
           true,
           "Staphylococcus aureus"
          ],
          [
           true,
           "Staphylococcus aureus"
          ],
          [
           true,
           "Staphylococcus aureus"
          ],
          [
           true,
           "Staphylococcus aureus"
          ],
          [
           true,
           "Staphylococcus aureus"
          ],
          [
           true,
           "Staphylococcus aureus"
          ],
          [
           true,
           "Staphylococcus aureus"
          ],
          [
           true,
           "Staphylococcus aureus"
          ],
          [
           true,
           "Staphylococcus aureus"
          ],
          [
           true,
           "Staphylococcus aureus"
          ],
          [
           true,
           "Staphylococcus aureus"
          ],
          [
           true,
           "Staphylococcus aureus"
          ],
          [
           true,
           "Staphylococcus aureus"
          ],
          [
           true,
           "Staphylococcus capitis"
          ],
          [
           true,
           "Staphylococcus capitis"
          ],
          [
           true,
           "Staphylococcus epidermidis"
          ],
          [
           true,
           "Staphylococcus epidermidis"
          ],
          [
           true,
           "Staphylococcus capitis"
          ],
          [
           true,
           "Staphylococcus capitis"
          ],
          [
           true,
           "Staphylococcus capitis"
          ],
          [
           true,
           "Staphylococcus capitis"
          ],
          [
           true,
           "Staphylococcus capitis"
          ],
          [
           true,
           "Staphylococcus epidermidis"
          ],
          [
           true,
           "Staphylococcus epidermidis"
          ],
          [
           true,
           "Staphylococcus epidermidis"
          ],
          [
           true,
           "Staphylococcus epidermidis"
          ],
          [
           true,
           "Staphylococcus epidermidis"
          ],
          [
           true,
           "Staphylococcus epidermidis"
          ],
          [
           true,
           "Staphylococcus epidermidis"
          ],
          [
           true,
           "Staphylococcus epidermidis"
          ],
          [
           true,
           "Staphylococcus epidermidis"
          ],
          [
           true,
           "Staphylococcus epidermidis"
          ],
          [
           true,
           "Staphylococcus epidermidis"
          ],
          [
           true,
           "Staphylococcus epidermidis"
          ],
          [
           true,
           "Staphylococcus epidermidis"
          ],
          [
           true,
           "Staphylococcus epidermidis"
          ],
          [
           true,
           "Staphylococcus epidermidis"
          ],
          [
           true,
           "Staphylococcus epidermidis"
          ],
          [
           true,
           "Staphylococcus epidermidis"
          ],
          [
           true,
           "Staphylococcus epidermidis"
          ],
          [
           true,
           "Staphylococcus epidermidis"
          ],
          [
           true,
           "Staphylococcus epidermidis"
          ],
          [
           true,
           "Staphylococcus epidermidis"
          ],
          [
           true,
           "Staphylococcus epidermidis"
          ],
          [
           true,
           "Staphylococcus epidermidis"
          ],
          [
           true,
           "Staphylococcus epidermidis"
          ],
          [
           true,
           "Staphylococcus epidermidis"
          ],
          [
           true,
           "Staphylococcus epidermidis"
          ],
          [
           true,
           "Staphylococcus epidermidis"
          ],
          [
           true,
           "Staphylococcus epidermidis"
          ],
          [
           true,
           "Staphylococcus epidermidis"
          ],
          [
           true,
           "Staphylococcus aureus"
          ],
          [
           true,
           "Staphylococcus aureus"
          ],
          [
           true,
           "Staphylococcus epidermidis"
          ],
          [
           true,
           "Staphylococcus epidermidis"
          ],
          [
           true,
           "Staphylococcus epidermidis"
          ],
          [
           true,
           "Staphylococcus epidermidis"
          ],
          [
           true,
           "Staphylococcus epidermidis"
          ],
          [
           true,
           "Staphylococcus epidermidis"
          ],
          [
           true,
           "Staphylococcus epidermidis"
          ],
          [
           true,
           "Staphylococcus epidermidis"
          ],
          [
           true,
           "Staphylococcus epidermidis"
          ],
          [
           true,
           "Staphylococcus epidermidis"
          ],
          [
           true,
           "Staphylococcus hominis"
          ],
          [
           true,
           "Staphylococcus epidermidis"
          ],
          [
           true,
           "Staphylococcus hominis"
          ],
          [
           true,
           "Staphylococcus hominis"
          ],
          [
           true,
           "Staphylococcus hominis"
          ],
          [
           true,
           "Staphylococcus hominis"
          ],
          [
           true,
           "Staphylococcus hominis"
          ],
          [
           true,
           "Staphylococcus hominis"
          ],
          [
           true,
           "Staphylococcus hominis"
          ],
          [
           true,
           "Staphylococcus hominis"
          ],
          [
           true,
           "Staphylococcus hominis"
          ],
          [
           true,
           "Staphylococcus hominis"
          ],
          [
           true,
           "Staphylococcus hominis"
          ],
          [
           true,
           "Staphylococcus hominis"
          ],
          [
           true,
           "Staphylococcus hominis"
          ],
          [
           true,
           "Staphylococcus hominis"
          ],
          [
           true,
           "Staphylococcus hominis"
          ],
          [
           true,
           "Staphylococcus hominis"
          ],
          [
           true,
           "Staphylococcus aureus"
          ],
          [
           true,
           "Staphylococcus aureus"
          ],
          [
           true,
           "Staphylococcus aureus"
          ],
          [
           true,
           "Staphylococcus aureus"
          ],
          [
           true,
           "Staphylococcus aureus"
          ],
          [
           true,
           "Staphylococcus aureus"
          ],
          [
           true,
           "Staphylococcus aureus"
          ],
          [
           true,
           "Staphylococcus aureus"
          ],
          [
           true,
           "Staphylococcus aureus"
          ],
          [
           true,
           "Staphylococcus aureus"
          ],
          [
           true,
           "Staphylococcus aureus"
          ],
          [
           true,
           "Staphylococcus aureus"
          ],
          [
           true,
           "Staphylococcus aureus"
          ],
          [
           true,
           "Staphylococcus aureus"
          ],
          [
           true,
           "Staphylococcus aureus"
          ],
          [
           true,
           "Staphylococcus aureus"
          ],
          [
           true,
           "Staphylococcus aureus"
          ],
          [
           true,
           "Staphylococcus capitis"
          ],
          [
           true,
           "Staphylococcus capitis"
          ],
          [
           true,
           "Staphylococcus hominis"
          ],
          [
           true,
           "Staphylococcus hominis"
          ],
          [
           true,
           "Staphylococcus hominis"
          ],
          [
           true,
           "Staphylococcus hominis"
          ],
          [
           true,
           "Staphylococcus hominis"
          ],
          [
           true,
           "Staphylococcus hominis"
          ],
          [
           true,
           "Staphylococcus hominis"
          ],
          [
           true,
           "Staphylococcus hominis"
          ],
          [
           true,
           "Staphylococcus hominis"
          ],
          [
           true,
           "Staphylococcus hominis"
          ],
          [
           true,
           "Staphylococcus lugdunensis"
          ],
          [
           true,
           "Staphylococcus lugdunensis"
          ],
          [
           true,
           "Staphylococcus lugdunensis"
          ],
          [
           true,
           "Staphylococcus lugdunensis"
          ],
          [
           true,
           "Staphylococcus lugdunensis"
          ],
          [
           true,
           "Staphylococcus hominis"
          ],
          [
           true,
           "Staphylococcus hominis"
          ],
          [
           true,
           "Staphylococcus hominis"
          ],
          [
           true,
           "Staphylococcus hominis"
          ],
          [
           true,
           "Staphylococcus hominis"
          ],
          [
           true,
           "Staphylococcus aureus"
          ],
          [
           true,
           "Staphylococcus aureus"
          ],
          [
           true,
           "Staphylococcus aureus"
          ],
          [
           true,
           "Staphylococcus aureus"
          ],
          [
           true,
           "Staphylococcus aureus"
          ],
          [
           true,
           "Staphylococcus aureus"
          ],
          [
           true,
           "Staphylococcus aureus"
          ],
          [
           true,
           "Staphylococcus aureus"
          ],
          [
           true,
           "Staphylococcus aureus"
          ],
          [
           true,
           "Staphylococcus aureus"
          ],
          [
           true,
           "Staphylococcus aureus"
          ],
          [
           true,
           "Staphylococcus aureus"
          ],
          [
           true,
           "Staphylococcus aureus"
          ],
          [
           true,
           "Staphylococcus aureus"
          ],
          [
           true,
           "Staphylococcus aureus"
          ],
          [
           true,
           "Staphylococcus aureus"
          ],
          [
           true,
           "Staphylococcus aureus"
          ],
          [
           true,
           "Staphylococcus aureus"
          ],
          [
           true,
           "Staphylococcus aureus"
          ],
          [
           true,
           "Staphylococcus capitis"
          ],
          [
           true,
           "Staphylococcus epidermidis"
          ],
          [
           true,
           "Staphylococcus lugdunensis"
          ],
          [
           true,
           "Staphylococcus lugdunensis"
          ],
          [
           true,
           "Staphylococcus lugdunensis"
          ],
          [
           true,
           "Staphylococcus lugdunensis"
          ],
          [
           true,
           "Staphylococcus lugdunensis"
          ],
          [
           true,
           "Staphylococcus lugdunensis"
          ],
          [
           true,
           "Staphylococcus epidermidis"
          ],
          [
           true,
           "Staphylococcus epidermidis"
          ],
          [
           true,
           "Staphylococcus epidermidis"
          ],
          [
           true,
           "Staphylococcus epidermidis"
          ],
          [
           true,
           "Staphylococcus epidermidis"
          ],
          [
           true,
           "Staphylococcus epidermidis"
          ],
          [
           true,
           "Staphylococcus epidermidis"
          ],
          [
           true,
           "Staphylococcus lugdunensis"
          ],
          [
           true,
           "Staphylococcus aureus"
          ],
          [
           true,
           "Staphylococcus aureus"
          ],
          [
           true,
           "Staphylococcus aureus"
          ],
          [
           true,
           "Staphylococcus aureus"
          ],
          [
           true,
           "Staphylococcus aureus"
          ],
          [
           true,
           "Staphylococcus aureus"
          ],
          [
           true,
           "Staphylococcus aureus"
          ],
          [
           true,
           "Staphylococcus aureus"
          ],
          [
           true,
           "Staphylococcus aureus"
          ],
          [
           true,
           "Staphylococcus aureus"
          ],
          [
           true,
           "Staphylococcus aureus"
          ],
          [
           true,
           "Staphylococcus aureus"
          ],
          [
           true,
           "Staphylococcus aureus"
          ],
          [
           true,
           "Staphylococcus aureus"
          ],
          [
           true,
           "Staphylococcus aureus"
          ],
          [
           true,
           "Staphylococcus aureus"
          ],
          [
           true,
           "Staphylococcus aureus"
          ],
          [
           true,
           "Staphylococcus aureus"
          ],
          [
           true,
           "Staphylococcus aureus"
          ],
          [
           true,
           "Staphylococcus aureus"
          ],
          [
           true,
           "Staphylococcus aureus"
          ],
          [
           true,
           "Staphylococcus aureus"
          ],
          [
           true,
           "Staphylococcus aureus"
          ],
          [
           true,
           "Staphylococcus aureus"
          ],
          [
           true,
           "Staphylococcus aureus"
          ],
          [
           true,
           "Staphylococcus aureus"
          ],
          [
           true,
           "Staphylococcus aureus"
          ],
          [
           true,
           "Staphylococcus aureus"
          ],
          [
           true,
           "Staphylococcus aureus"
          ],
          [
           true,
           "Staphylococcus aureus"
          ],
          [
           true,
           "Staphylococcus aureus"
          ],
          [
           true,
           "Staphylococcus aureus"
          ],
          [
           true,
           "Staphylococcus aureus"
          ],
          [
           true,
           "Staphylococcus aureus"
          ],
          [
           true,
           "Staphylococcus aureus"
          ],
          [
           true,
           "Staphylococcus epidermidis"
          ],
          [
           true,
           "Staphylococcus epidermidis"
          ],
          [
           true,
           "Staphylococcus epidermidis"
          ],
          [
           true,
           "Staphylococcus epidermidis"
          ],
          [
           true,
           "Staphylococcus epidermidis"
          ],
          [
           true,
           "Staphylococcus lugdunensis"
          ],
          [
           true,
           "Staphylococcus aureus"
          ],
          [
           true,
           "Staphylococcus aureus"
          ],
          [
           true,
           "Staphylococcus aureus"
          ],
          [
           true,
           "Staphylococcus aureus"
          ],
          [
           true,
           "Staphylococcus aureus"
          ],
          [
           true,
           "Staphylococcus aureus"
          ],
          [
           true,
           "Staphylococcus aureus"
          ],
          [
           true,
           "Staphylococcus aureus"
          ],
          [
           true,
           "Staphylococcus aureus"
          ],
          [
           true,
           "Staphylococcus aureus"
          ],
          [
           true,
           "Staphylococcus aureus"
          ],
          [
           true,
           "Staphylococcus aureus"
          ],
          [
           true,
           "Staphylococcus aureus"
          ],
          [
           true,
           "Staphylococcus aureus"
          ],
          [
           true,
           "Staphylococcus aureus"
          ],
          [
           true,
           "Staphylococcus aureus"
          ],
          [
           true,
           "Staphylococcus aureus"
          ],
          [
           true,
           "Staphylococcus aureus"
          ],
          [
           true,
           "Staphylococcus aureus"
          ],
          [
           true,
           "Staphylococcus aureus"
          ],
          [
           true,
           "Staphylococcus aureus"
          ],
          [
           true,
           "Staphylococcus aureus"
          ],
          [
           true,
           "Staphylococcus aureus"
          ],
          [
           true,
           "Staphylococcus aureus"
          ],
          [
           true,
           "Staphylococcus capitis"
          ],
          [
           true,
           "Staphylococcus epidermidis"
          ],
          [
           true,
           "Staphylococcus capitis"
          ],
          [
           true,
           "Staphylococcus capitis"
          ],
          [
           true,
           "Staphylococcus capitis"
          ],
          [
           true,
           "Staphylococcus capitis"
          ],
          [
           true,
           "Staphylococcus capitis"
          ],
          [
           true,
           "Staphylococcus capitis"
          ],
          [
           true,
           "Staphylococcus epidermidis"
          ],
          [
           true,
           "Staphylococcus epidermidis"
          ],
          [
           true,
           "Staphylococcus epidermidis"
          ],
          [
           true,
           "Staphylococcus epidermidis"
          ],
          [
           true,
           "Staphylococcus epidermidis"
          ],
          [
           true,
           "Staphylococcus epidermidis"
          ],
          [
           true,
           "Staphylococcus epidermidis"
          ],
          [
           true,
           "Staphylococcus epidermidis"
          ],
          [
           true,
           "Staphylococcus epidermidis"
          ],
          [
           true,
           "Staphylococcus epidermidis"
          ],
          [
           true,
           "Staphylococcus epidermidis"
          ],
          [
           true,
           "Staphylococcus epidermidis"
          ],
          [
           true,
           "Staphylococcus epidermidis"
          ],
          [
           true,
           "Staphylococcus epidermidis"
          ],
          [
           true,
           "Staphylococcus epidermidis"
          ],
          [
           true,
           "Staphylococcus epidermidis"
          ],
          [
           true,
           "Staphylococcus epidermidis"
          ],
          [
           true,
           "Staphylococcus epidermidis"
          ],
          [
           true,
           "Staphylococcus epidermidis"
          ],
          [
           true,
           "Staphylococcus epidermidis"
          ],
          [
           true,
           "Staphylococcus epidermidis"
          ],
          [
           true,
           "Staphylococcus epidermidis"
          ],
          [
           true,
           "Staphylococcus epidermidis"
          ],
          [
           true,
           "Staphylococcus epidermidis"
          ],
          [
           true,
           "Staphylococcus aureus"
          ],
          [
           true,
           "Staphylococcus aureus"
          ],
          [
           true,
           "Staphylococcus epidermidis"
          ],
          [
           true,
           "Staphylococcus epidermidis"
          ],
          [
           true,
           "Staphylococcus epidermidis"
          ],
          [
           true,
           "Staphylococcus epidermidis"
          ],
          [
           true,
           "Staphylococcus epidermidis"
          ],
          [
           true,
           "Staphylococcus epidermidis"
          ],
          [
           true,
           "Staphylococcus epidermidis"
          ],
          [
           true,
           "Staphylococcus epidermidis"
          ],
          [
           true,
           "Staphylococcus hominis"
          ],
          [
           true,
           "Staphylococcus hominis"
          ],
          [
           true,
           "Staphylococcus hominis"
          ],
          [
           true,
           "Staphylococcus hominis"
          ],
          [
           true,
           "Staphylococcus hominis"
          ],
          [
           true,
           "Staphylococcus hominis"
          ],
          [
           true,
           "Staphylococcus hominis"
          ],
          [
           true,
           "Staphylococcus hominis"
          ],
          [
           true,
           "Staphylococcus hominis"
          ],
          [
           true,
           "Staphylococcus hominis"
          ],
          [
           true,
           "Staphylococcus hominis"
          ],
          [
           true,
           "Staphylococcus hominis"
          ],
          [
           true,
           "Staphylococcus hominis"
          ],
          [
           true,
           "Staphylococcus hominis"
          ],
          [
           true,
           "Staphylococcus hominis"
          ],
          [
           true,
           "Staphylococcus hominis"
          ],
          [
           true,
           "Staphylococcus aureus"
          ],
          [
           true,
           "Staphylococcus aureus"
          ],
          [
           true,
           "Staphylococcus aureus"
          ],
          [
           true,
           "Staphylococcus aureus"
          ],
          [
           true,
           "Staphylococcus aureus"
          ],
          [
           true,
           "Staphylococcus aureus"
          ],
          [
           true,
           "Staphylococcus aureus"
          ],
          [
           true,
           "Staphylococcus aureus"
          ],
          [
           true,
           "Staphylococcus aureus"
          ],
          [
           true,
           "Staphylococcus aureus"
          ],
          [
           true,
           "Staphylococcus aureus"
          ],
          [
           true,
           "Staphylococcus aureus"
          ],
          [
           true,
           "Staphylococcus aureus"
          ],
          [
           true,
           "Staphylococcus aureus"
          ],
          [
           true,
           "Staphylococcus aureus"
          ],
          [
           true,
           "Staphylococcus hominis"
          ],
          [
           true,
           "Staphylococcus hominis"
          ],
          [
           true,
           "Staphylococcus hominis"
          ],
          [
           true,
           "Staphylococcus hominis"
          ],
          [
           true,
           "Staphylococcus hominis"
          ],
          [
           true,
           "Staphylococcus hominis"
          ],
          [
           true,
           "Staphylococcus hominis"
          ],
          [
           true,
           "Staphylococcus hominis"
          ],
          [
           true,
           "Staphylococcus hominis"
          ],
          [
           true,
           "Staphylococcus lugdunensis"
          ],
          [
           true,
           "Staphylococcus lugdunensis"
          ],
          [
           true,
           "Staphylococcus lugdunensis"
          ],
          [
           true,
           "Staphylococcus lugdunensis"
          ],
          [
           true,
           "Staphylococcus hominis"
          ],
          [
           true,
           "Staphylococcus hominis"
          ],
          [
           true,
           "Staphylococcus hominis"
          ],
          [
           true,
           "Staphylococcus aureus"
          ],
          [
           true,
           "Staphylococcus aureus"
          ],
          [
           true,
           "Staphylococcus aureus"
          ],
          [
           true,
           "Staphylococcus aureus"
          ],
          [
           true,
           "Staphylococcus aureus"
          ],
          [
           true,
           "Staphylococcus aureus"
          ],
          [
           true,
           "Staphylococcus aureus"
          ],
          [
           true,
           "Staphylococcus aureus"
          ],
          [
           true,
           "Staphylococcus aureus"
          ],
          [
           true,
           "Staphylococcus aureus"
          ],
          [
           true,
           "Staphylococcus aureus"
          ],
          [
           true,
           "Staphylococcus aureus"
          ],
          [
           true,
           "Staphylococcus aureus"
          ],
          [
           true,
           "Staphylococcus aureus"
          ],
          [
           true,
           "Staphylococcus aureus"
          ],
          [
           true,
           "Staphylococcus aureus"
          ],
          [
           true,
           "Staphylococcus aureus"
          ],
          [
           true,
           "Staphylococcus aureus"
          ],
          [
           true,
           "Staphylococcus aureus"
          ],
          [
           true,
           "Staphylococcus aureus"
          ],
          [
           true,
           "Staphylococcus lugdunensis"
          ],
          [
           true,
           "Staphylococcus lugdunensis"
          ],
          [
           true,
           "Staphylococcus lugdunensis"
          ],
          [
           true,
           "Staphylococcus lugdunensis"
          ],
          [
           true,
           "Staphylococcus lugdunensis"
          ],
          [
           true,
           "Staphylococcus epidermidis"
          ],
          [
           true,
           "Staphylococcus epidermidis"
          ],
          [
           true,
           "Staphylococcus epidermidis"
          ],
          [
           true,
           "Staphylococcus epidermidis"
          ],
          [
           true,
           "Staphylococcus epidermidis"
          ],
          [
           true,
           "Staphylococcus lugdunensis"
          ],
          [
           true,
           "Staphylococcus aureus"
          ],
          [
           true,
           "Staphylococcus aureus"
          ],
          [
           true,
           "Staphylococcus aureus"
          ],
          [
           true,
           "Staphylococcus aureus"
          ],
          [
           true,
           "Staphylococcus aureus"
          ],
          [
           true,
           "Staphylococcus aureus"
          ],
          [
           true,
           "Staphylococcus aureus"
          ],
          [
           true,
           "Staphylococcus aureus"
          ],
          [
           true,
           "Staphylococcus aureus"
          ],
          [
           true,
           "Staphylococcus aureus"
          ],
          [
           true,
           "Staphylococcus aureus"
          ],
          [
           true,
           "Staphylococcus aureus"
          ],
          [
           true,
           "Staphylococcus aureus"
          ],
          [
           true,
           "Staphylococcus aureus"
          ],
          [
           true,
           "Staphylococcus aureus"
          ],
          [
           true,
           "Staphylococcus aureus"
          ],
          [
           true,
           "Staphylococcus aureus"
          ],
          [
           true,
           "Staphylococcus aureus"
          ],
          [
           true,
           "Staphylococcus aureus"
          ],
          [
           true,
           "Staphylococcus aureus"
          ],
          [
           true,
           "Staphylococcus aureus"
          ],
          [
           true,
           "Staphylococcus aureus"
          ],
          [
           true,
           "Staphylococcus aureus"
          ],
          [
           true,
           "Staphylococcus aureus"
          ],
          [
           true,
           "Staphylococcus aureus"
          ],
          [
           true,
           "Staphylococcus aureus"
          ],
          [
           true,
           "Staphylococcus aureus"
          ],
          [
           true,
           "Staphylococcus epidermidis"
          ],
          [
           true,
           "Staphylococcus epidermidis"
          ],
          [
           true,
           "Staphylococcus aureus"
          ],
          [
           true,
           "Staphylococcus aureus"
          ],
          [
           true,
           "Staphylococcus aureus"
          ],
          [
           true,
           "Staphylococcus aureus"
          ],
          [
           true,
           "Staphylococcus aureus"
          ],
          [
           true,
           "Staphylococcus aureus"
          ],
          [
           true,
           "Staphylococcus aureus"
          ],
          [
           true,
           "Staphylococcus aureus"
          ],
          [
           true,
           "Staphylococcus aureus"
          ],
          [
           true,
           "Staphylococcus aureus"
          ],
          [
           true,
           "Staphylococcus aureus"
          ],
          [
           true,
           "Staphylococcus aureus"
          ],
          [
           true,
           "Staphylococcus aureus"
          ],
          [
           true,
           "Staphylococcus aureus"
          ],
          [
           true,
           "Staphylococcus aureus"
          ],
          [
           true,
           "Staphylococcus aureus"
          ],
          [
           true,
           "Staphylococcus aureus"
          ],
          [
           true,
           "Staphylococcus aureus"
          ],
          [
           true,
           "Streptococcus agalactiae"
          ],
          [
           true,
           "Streptococcus agalactiae"
          ],
          [
           true,
           "Streptococcus agalactiae"
          ],
          [
           true,
           "Streptococcus agalactiae"
          ],
          [
           true,
           "Streptococcus agalactiae"
          ],
          [
           true,
           "Streptococcus agalactiae"
          ],
          [
           true,
           "Streptococcus agalactiae"
          ],
          [
           true,
           "Streptococcus agalactiae"
          ],
          [
           true,
           "Streptococcus agalactiae"
          ],
          [
           true,
           "Streptococcus agalactiae"
          ],
          [
           true,
           "Staphylococcus capitis"
          ],
          [
           true,
           "Staphylococcus capitis"
          ],
          [
           true,
           "Staphylococcus capitis"
          ],
          [
           true,
           "Staphylococcus capitis"
          ],
          [
           true,
           "Staphylococcus capitis"
          ],
          [
           true,
           "Staphylococcus capitis"
          ],
          [
           true,
           "Staphylococcus capitis"
          ],
          [
           true,
           "Staphylococcus capitis"
          ],
          [
           true,
           "Staphylococcus epidermidis"
          ],
          [
           true,
           "Staphylococcus epidermidis"
          ],
          [
           true,
           "Staphylococcus epidermidis"
          ],
          [
           true,
           "Staphylococcus epidermidis"
          ],
          [
           true,
           "Streptococcus agalactiae"
          ],
          [
           true,
           "Streptococcus agalactiae"
          ],
          [
           true,
           "Streptococcus agalactiae"
          ],
          [
           true,
           "Streptococcus agalactiae"
          ],
          [
           true,
           "Staphylococcus epidermidis"
          ],
          [
           true,
           "Staphylococcus epidermidis"
          ],
          [
           true,
           "Staphylococcus epidermidis"
          ],
          [
           true,
           "Staphylococcus epidermidis"
          ],
          [
           true,
           "Staphylococcus epidermidis"
          ],
          [
           true,
           "Staphylococcus epidermidis"
          ],
          [
           true,
           "Staphylococcus epidermidis"
          ],
          [
           true,
           "Staphylococcus epidermidis"
          ],
          [
           true,
           "Staphylococcus epidermidis"
          ],
          [
           true,
           "Staphylococcus epidermidis"
          ],
          [
           true,
           "Staphylococcus epidermidis"
          ],
          [
           true,
           "Staphylococcus epidermidis"
          ],
          [
           true,
           "Staphylococcus epidermidis"
          ],
          [
           true,
           "Staphylococcus aureus"
          ],
          [
           true,
           "Staphylococcus epidermidis"
          ],
          [
           true,
           "Staphylococcus epidermidis"
          ],
          [
           true,
           "Staphylococcus epidermidis"
          ],
          [
           true,
           "Staphylococcus hominis"
          ],
          [
           true,
           "Staphylococcus hominis"
          ],
          [
           true,
           "Staphylococcus hominis"
          ],
          [
           true,
           "Staphylococcus hominis"
          ],
          [
           true,
           "Staphylococcus hominis"
          ],
          [
           true,
           "Staphylococcus hominis"
          ],
          [
           true,
           "Staphylococcus hominis"
          ],
          [
           true,
           "Streptococcus pneumoniae"
          ],
          [
           true,
           "Streptococcus pneumoniae"
          ],
          [
           true,
           "Streptococcus pneumoniae"
          ],
          [
           true,
           "Streptococcus pyogenes"
          ],
          [
           true,
           "Streptococcus pyogenes"
          ],
          [
           true,
           "Streptococcus pyogenes"
          ],
          [
           true,
           "Streptococcus pyogenes"
          ],
          [
           true,
           "Streptococcus pyogenes"
          ],
          [
           true,
           "Streptococcus pyogenes"
          ],
          [
           true,
           "Staphylococcus hominis"
          ],
          [
           true,
           "Staphylococcus hominis"
          ],
          [
           true,
           "Staphylococcus hominis"
          ],
          [
           true,
           "Staphylococcus hominis"
          ],
          [
           true,
           "Staphylococcus aureus"
          ],
          [
           true,
           "Staphylococcus aureus"
          ],
          [
           true,
           "Staphylococcus aureus"
          ],
          [
           true,
           "Staphylococcus aureus"
          ],
          [
           true,
           "Staphylococcus aureus"
          ],
          [
           true,
           "Staphylococcus aureus"
          ],
          [
           true,
           "Staphylococcus aureus"
          ],
          [
           true,
           "Staphylococcus aureus"
          ],
          [
           true,
           "Staphylococcus aureus"
          ],
          [
           true,
           "Staphylococcus aureus"
          ],
          [
           true,
           "Staphylococcus aureus"
          ],
          [
           true,
           "Staphylococcus aureus"
          ],
          [
           true,
           "Staphylococcus aureus"
          ],
          [
           true,
           "Staphylococcus aureus"
          ],
          [
           true,
           "Staphylococcus capitis"
          ],
          [
           true,
           "Streptococcus agalactiae"
          ],
          [
           true,
           "Staphylococcus hominis"
          ],
          [
           true,
           "Staphylococcus hominis"
          ],
          [
           true,
           "Staphylococcus hominis"
          ],
          [
           true,
           "Staphylococcus hominis"
          ],
          [
           true,
           "Streptococcus agalactiae"
          ],
          [
           true,
           "Staphylococcus lugdunensis"
          ],
          [
           true,
           "Staphylococcus lugdunensis"
          ],
          [
           true,
           "Staphylococcus lugdunensis"
          ],
          [
           true,
           "Staphylococcus lugdunensis"
          ],
          [
           true,
           "Streptococcus agalactiae"
          ],
          [
           true,
           "Streptococcus agalactiae"
          ],
          [
           true,
           "Streptococcus agalactiae"
          ],
          [
           true,
           "Streptococcus agalactiae"
          ],
          [
           true,
           "Streptococcus agalactiae"
          ],
          [
           true,
           "Streptococcus pneumoniae"
          ],
          [
           true,
           "Streptococcus pneumoniae"
          ],
          [
           true,
           "Streptococcus pneumoniae"
          ],
          [
           true,
           "Streptococcus pneumoniae"
          ],
          [
           true,
           "Streptococcus pneumoniae"
          ],
          [
           true,
           "Streptococcus pneumoniae"
          ],
          [
           true,
           "Streptococcus pneumoniae"
          ],
          [
           true,
           "Staphylococcus hominis"
          ],
          [
           true,
           "Streptococcus agalactiae"
          ],
          [
           true,
           "Streptococcus pneumoniae"
          ],
          [
           true,
           "Streptococcus pyogenes"
          ],
          [
           true,
           "Streptococcus pyogenes"
          ],
          [
           true,
           "Streptococcus pyogenes"
          ],
          [
           true,
           "Streptococcus pyogenes"
          ],
          [
           true,
           "Streptococcus pyogenes"
          ],
          [
           true,
           "Streptococcus pyogenes"
          ],
          [
           true,
           "Streptococcus pyogenes"
          ],
          [
           true,
           "Staphylococcus aureus"
          ],
          [
           true,
           "Staphylococcus aureus"
          ],
          [
           true,
           "Staphylococcus aureus"
          ],
          [
           true,
           "Staphylococcus aureus"
          ],
          [
           true,
           "Staphylococcus aureus"
          ],
          [
           true,
           "Staphylococcus aureus"
          ],
          [
           true,
           "Staphylococcus aureus"
          ],
          [
           true,
           "Staphylococcus aureus"
          ],
          [
           true,
           "Staphylococcus aureus"
          ],
          [
           true,
           "Staphylococcus aureus"
          ],
          [
           true,
           "Staphylococcus aureus"
          ],
          [
           true,
           "Staphylococcus aureus"
          ],
          [
           true,
           "Staphylococcus aureus"
          ],
          [
           true,
           "Staphylococcus aureus"
          ],
          [
           true,
           "Staphylococcus aureus"
          ],
          [
           true,
           "Staphylococcus aureus"
          ],
          [
           true,
           "Staphylococcus aureus"
          ],
          [
           true,
           "Staphylococcus aureus"
          ],
          [
           true,
           "Staphylococcus aureus"
          ],
          [
           true,
           "Staphylococcus aureus"
          ],
          [
           true,
           "Staphylococcus capitis"
          ],
          [
           true,
           "Staphylococcus lugdunensis"
          ],
          [
           true,
           "Staphylococcus lugdunensis"
          ],
          [
           true,
           "Staphylococcus lugdunensis"
          ],
          [
           true,
           "Staphylococcus lugdunensis"
          ],
          [
           true,
           "Staphylococcus lugdunensis"
          ],
          [
           true,
           "Staphylococcus lugdunensis"
          ],
          [
           true,
           "Staphylococcus epidermidis"
          ],
          [
           true,
           "Staphylococcus epidermidis"
          ],
          [
           true,
           "Staphylococcus aureus"
          ],
          [
           true,
           "Staphylococcus aureus"
          ],
          [
           true,
           "Staphylococcus aureus"
          ],
          [
           true,
           "Staphylococcus aureus"
          ],
          [
           true,
           "Staphylococcus aureus"
          ],
          [
           true,
           "Staphylococcus aureus"
          ],
          [
           true,
           "Staphylococcus aureus"
          ],
          [
           true,
           "Staphylococcus aureus"
          ],
          [
           true,
           "Staphylococcus aureus"
          ],
          [
           true,
           "Staphylococcus aureus"
          ],
          [
           true,
           "Staphylococcus aureus"
          ],
          [
           true,
           "Staphylococcus aureus"
          ],
          [
           true,
           "Staphylococcus aureus"
          ],
          [
           true,
           "Staphylococcus aureus"
          ],
          [
           true,
           "Staphylococcus aureus"
          ],
          [
           true,
           "Staphylococcus aureus"
          ],
          [
           true,
           "Staphylococcus aureus"
          ],
          [
           true,
           "Staphylococcus aureus"
          ],
          [
           true,
           "Staphylococcus aureus"
          ],
          [
           true,
           "Staphylococcus aureus"
          ],
          [
           true,
           "Staphylococcus aureus"
          ],
          [
           true,
           "Staphylococcus aureus"
          ],
          [
           true,
           "Staphylococcus aureus"
          ],
          [
           true,
           "Staphylococcus aureus"
          ],
          [
           true,
           "Staphylococcus aureus"
          ],
          [
           true,
           "Staphylococcus aureus"
          ],
          [
           true,
           "Staphylococcus aureus"
          ],
          [
           true,
           "Staphylococcus aureus"
          ],
          [
           true,
           "Staphylococcus aureus"
          ],
          [
           true,
           "Staphylococcus aureus"
          ],
          [
           true,
           "Staphylococcus aureus"
          ],
          [
           true,
           "Staphylococcus aureus"
          ],
          [
           true,
           "Staphylococcus aureus"
          ],
          [
           true,
           "Staphylococcus aureus"
          ],
          [
           true,
           "Streptococcus pneumoniae"
          ],
          [
           true,
           "Streptococcus pneumoniae"
          ],
          [
           true,
           "Staphylococcus aureus"
          ],
          [
           true,
           "Staphylococcus aureus"
          ],
          [
           true,
           "Staphylococcus aureus"
          ],
          [
           true,
           "Staphylococcus aureus"
          ],
          [
           true,
           "Staphylococcus aureus"
          ],
          [
           true,
           "Staphylococcus aureus"
          ],
          [
           true,
           "Staphylococcus capitis"
          ],
          [
           true,
           "Staphylococcus capitis"
          ],
          [
           true,
           "Staphylococcus epidermidis"
          ],
          [
           true,
           "Staphylococcus epidermidis"
          ],
          [
           true,
           "Staphylococcus epidermidis"
          ],
          [
           true,
           "Staphylococcus aureus"
          ],
          [
           true,
           "Staphylococcus hominis"
          ],
          [
           true,
           "Staphylococcus hominis"
          ],
          [
           true,
           "Staphylococcus aureus"
          ],
          [
           true,
           "Staphylococcus aureus"
          ],
          [
           true,
           "Staphylococcus aureus"
          ],
          [
           true,
           "Staphylococcus capitis"
          ],
          [
           true,
           "Streptococcus pneumoniae"
          ],
          [
           true,
           "Staphylococcus lugdunensis"
          ],
          [
           true,
           "Staphylococcus lugdunensis"
          ],
          [
           true,
           "Staphylococcus lugdunensis"
          ],
          [
           true,
           "Staphylococcus hominis"
          ],
          [
           true,
           "Staphylococcus hominis"
          ],
          [
           true,
           "Staphylococcus aureus"
          ],
          [
           true,
           "Staphylococcus aureus"
          ],
          [
           true,
           "Staphylococcus aureus"
          ],
          [
           true,
           "Staphylococcus aureus"
          ],
          [
           true,
           "Staphylococcus aureus"
          ],
          [
           true,
           "Staphylococcus aureus"
          ],
          [
           true,
           "Staphylococcus epidermidis"
          ],
          [
           true,
           "Staphylococcus aureus"
          ],
          [
           true,
           "Staphylococcus aureus"
          ],
          [
           true,
           "Staphylococcus aureus"
          ],
          [
           true,
           "Staphylococcus aureus"
          ],
          [
           true,
           "Staphylococcus aureus"
          ],
          [
           true,
           "Staphylococcus aureus"
          ],
          [
           true,
           "Staphylococcus epidermidis"
          ],
          [
           true,
           "Staphylococcus epidermidis"
          ],
          [
           true,
           "Staphylococcus epidermidis"
          ],
          [
           true,
           "Staphylococcus epidermidis"
          ],
          [
           true,
           "Staphylococcus epidermidis"
          ],
          [
           true,
           "Streptococcus pneumoniae"
          ],
          [
           true,
           "Streptococcus pneumoniae"
          ],
          [
           true,
           "Staphylococcus auricularis"
          ],
          [
           true,
           "Staphylococcus auricularis"
          ],
          [
           true,
           "Staphylococcus auricularis"
          ],
          [
           true,
           "Staphylococcus auricularis"
          ],
          [
           true,
           "Staphylococcus auricularis"
          ],
          [
           true,
           "Staphylococcus warneri"
          ]
         ],
         "hovertemplate": "<b>%{hovertext}</b><br><br>SIR=Sensitive<br>Log2(MIC-value)=%{y:.0f}<br>Scale=%{customdata[0]}<br>Pathogen=%{customdata[1]}<extra></extra>",
         "hovertext": [
          "QM1007",
          "QM1008",
          "HV236",
          "PER144",
          "PER149",
          "QM1010",
          "QM1011",
          "QM1013",
          "QM1014",
          "BAR008",
          "BAR018",
          "BAR019",
          "BAR023",
          "BAR024",
          "QM115",
          "BAR062",
          "BAR059",
          "QM804",
          "BAR026",
          "QM1002",
          "QM878",
          "QM879",
          "QM169",
          "QM874",
          "QM875",
          "PER134",
          "QM880",
          "QM882",
          "QM883",
          "QM884",
          "PER159",
          "BAR009",
          "QM1440",
          "QM1334",
          "QM868",
          "QM1533",
          "QM887",
          "QM889",
          "QM1536",
          "QM1537",
          "QM1539",
          "QM1541",
          "QM1542",
          "QM1543",
          "QM1545",
          "QM1546",
          "QM1547",
          "QM1549",
          "QM1551",
          "QM1552",
          "QM1554",
          "QM1555",
          "QM1556",
          "QM1557",
          "QM1558",
          "QM1559",
          "QM1561",
          "QM1565",
          "AR0461",
          "QM1260",
          "QM1262",
          "QM1267",
          "AR0221",
          "QM025",
          "BAR043",
          "QM286",
          "QM065",
          "QM294",
          "HV236",
          "PER144",
          "PER149",
          "QM115",
          "BAR062",
          "BAR032",
          "QM169",
          "QM874",
          "QM875",
          "QM1391",
          "QM307",
          "QM321",
          "QM398",
          "QM518",
          "QM980",
          "QM982",
          "QM984",
          "QM985",
          "QM986",
          "QM988",
          "QM989",
          "QM990",
          "QM991",
          "QM993",
          "QM397",
          "QM995",
          "QM992",
          "QM996",
          "QM997",
          "QM994",
          "HV447",
          "QM262",
          "QM322",
          "QM323",
          "HV480",
          "QM308",
          "QM998",
          "BAR052",
          "BAR059",
          "QM1325",
          "QM1326",
          "QM1327",
          "QM1358",
          "QM1359",
          "QM1360",
          "QM1362",
          "QM1364",
          "QM1366",
          "QM1367",
          "QM1368",
          "QM1369",
          "QM1370",
          "QM1379",
          "QM1385",
          "QM1388",
          "QM1450",
          "QM1452",
          "AR0561",
          "AR0562",
          "AR0563",
          "AR0564",
          "AR0565",
          "AR0566",
          "AR0461",
          "AR0462",
          "AR0465",
          "AR0467",
          "AR0468",
          "AR0469",
          "AR0470",
          "AR0472",
          "AR0474",
          "AR0475",
          "AR0476",
          "AR0477",
          "AR0478",
          "AR0479",
          "AR0480",
          "AR0215",
          "AR0216",
          "AR0217",
          "AR0218",
          "AR0219",
          "AR0220",
          "AR0221",
          "AR0222",
          "AR0481",
          "AR0482",
          "AR0483",
          "AR0485",
          "AR0486",
          "AR0490",
          "AR0223",
          "AR0224",
          "AR0225",
          "AR0226",
          "AR0227",
          "AR0228",
          "AR0701",
          "AR0704",
          "AR0705",
          "AR0706",
          "AR0707",
          "AR0708",
          "AR0709",
          "AR0710",
          "AR0711",
          "AR0712",
          "AR0713",
          "AR0714",
          "AR0715",
          "AR0716",
          "AR0717",
          "AR0718",
          "AR0719",
          "AR0720",
          "AR0721",
          "AR0722",
          "AR0723",
          "AR0724",
          "QM1324",
          "AR0567",
          "AR0568",
          "AR0570",
          "QM307",
          "QM321",
          "QM398",
          "QM518",
          "QM980",
          "QM982",
          "QM984",
          "QM985",
          "QM986",
          "QM988",
          "QM989",
          "QM990",
          "QM991",
          "QM993",
          "QM397",
          "QM995",
          "QM992",
          "QM996",
          "QM997",
          "QM994",
          "HV447",
          "QM262",
          "QM322",
          "QM323",
          "HV480",
          "QM308",
          "QM998",
          "BAR052",
          "BAR059",
          "QM1325",
          "QM1327",
          "QM1358",
          "QM1359",
          "QM1360",
          "QM1362",
          "QM1364",
          "QM1366",
          "QM1367",
          "QM1368",
          "QM1369",
          "QM1370",
          "QM1379",
          "QM1385",
          "QM1388",
          "QM1450",
          "QM1452",
          "AR0561",
          "AR0562",
          "AR0563",
          "AR0564",
          "AR0565",
          "AR0566",
          "AR0461",
          "AR0462",
          "AR0465",
          "AR0467",
          "AR0468",
          "AR0469",
          "AR0470",
          "AR0472",
          "AR0474",
          "AR0475",
          "AR0476",
          "AR0477",
          "AR0478",
          "AR0479",
          "AR0480",
          "AR0215",
          "AR0216",
          "AR0217",
          "AR0218",
          "AR0219",
          "AR0221",
          "AR0222",
          "AR0481",
          "AR0482",
          "AR0483",
          "AR0485",
          "AR0486",
          "AR0490",
          "AR0223",
          "AR0224",
          "AR0225",
          "AR0226",
          "AR0227",
          "AR0228",
          "AR0701",
          "AR0704",
          "AR0705",
          "AR0706",
          "AR0707",
          "AR0708",
          "AR0709",
          "AR0710",
          "AR0711",
          "AR0712",
          "AR0713",
          "AR0714",
          "AR0716",
          "AR0717",
          "AR0718",
          "AR0719",
          "AR0721",
          "AR0722",
          "AR0723",
          "AR0724",
          "QM1324",
          "AR0567",
          "AR0568",
          "AR0570",
          "PER144",
          "QM115",
          "BAR062",
          "QM803",
          "QM804",
          "QM808",
          "QM810",
          "BAR026",
          "QM169",
          "QM874",
          "PER134",
          "QM1333",
          "QM876",
          "QM325",
          "QM1334",
          "QM868",
          "QM1387",
          "QM1456",
          "QM1457",
          "QM1460",
          "QM1461",
          "QM1464",
          "QM1468",
          "QM1469",
          "QM870",
          "QM872",
          "HV752",
          "QM1574",
          "QM025",
          "QM026",
          "QM329",
          "QM402",
          "QM1487",
          "HV236",
          "PER144",
          "PER149",
          "QM115",
          "BAR062",
          "QM803",
          "QM804",
          "QM805",
          "QM806",
          "QM807",
          "QM808",
          "QM810",
          "BAR026",
          "QM169",
          "QM874",
          "QM875",
          "PER134",
          "QM1333",
          "HV985",
          "QM876",
          "QM325",
          "QM1334",
          "QM1406",
          "QM1353",
          "QM152",
          "QM868",
          "BAR064",
          "QM1387",
          "QM1456",
          "QM1457",
          "QM1460",
          "QM1461",
          "QM1464",
          "QM1468",
          "QM1469",
          "QM1470",
          "QM870",
          "QM871",
          "QM872",
          "BAR066",
          "HV752",
          "QM138",
          "QM1574",
          "QM1489",
          "QM1491",
          "QM1492",
          "QM025",
          "QM026",
          "QM027",
          "QM326",
          "QM328",
          "QM329",
          "QM402",
          "QM1483",
          "QM1485",
          "QM1486",
          "QM1487",
          "QM286",
          "QM065",
          "HV519",
          "QM076",
          "QM294",
          "PER107",
          "QM319",
          "HV772",
          "PER110",
          "QM867",
          "PER108",
          "PER104",
          "QM292",
          "QM312",
          "QM295",
          "QM068",
          "HV896",
          "HV510",
          "QM1248",
          "QM1250",
          "QM1252",
          "QM1253",
          "QM1254",
          "QM1255",
          "QM1288",
          "QM1289",
          "QM1308",
          "QM1309",
          "QM1310",
          "QM1311",
          "QM1312",
          "QM1313",
          "QM1314",
          "QM1315",
          "QM1316",
          "QM1317",
          "QM1373",
          "QM1391",
          "QM1524",
          "QM1526",
          "QM1530",
          "QM1531",
          "AR0572",
          "AR0575",
          "QM067",
          "QM307",
          "QM321",
          "QM398",
          "QM518",
          "QM980",
          "QM982",
          "QM984",
          "QM985",
          "QM986",
          "QM988",
          "QM989",
          "QM990",
          "QM991",
          "QM993",
          "QM995",
          "QM996",
          "QM997",
          "QM994",
          "HV447",
          "QM262",
          "QM322",
          "QM323",
          "HV480",
          "QM308",
          "QM998",
          "QM085",
          "QM086",
          "HV109",
          "HV116",
          "QM895",
          "QM897",
          "QM899",
          "BAR001",
          "BAR002",
          "BAR003",
          "HV119",
          "HV136",
          "HV146",
          "HV156",
          "HV205",
          "HV254",
          "HV884",
          "HV912",
          "HV950",
          "HV953",
          "HV975",
          "HV983",
          "QM034",
          "QM088",
          "QM089",
          "HV455",
          "HV462",
          "HV498",
          "HV521",
          "HV523",
          "HV538",
          "HV559",
          "HV594",
          "HV615",
          "HV283",
          "HV285",
          "HV326",
          "HV413",
          "HV416",
          "BAR052",
          "BAR059",
          "QM351",
          "QM359",
          "QM365",
          "QM370",
          "QM373",
          "QM380",
          "QM381",
          "QM958",
          "QM968",
          "QM970",
          "QM977",
          "HV103",
          "HV107",
          "HV114",
          "HV245",
          "HV262",
          "HV271",
          "HV277",
          "HV330",
          "HV412",
          "HV414",
          "HV740",
          "HV753",
          "HV500",
          "HV508",
          "HV517",
          "HV599",
          "QM1325",
          "QM1326",
          "QM1327",
          "QM1358",
          "QM1359",
          "QM1360",
          "QM1362",
          "QM1364",
          "QM1366",
          "QM1367",
          "QM1368",
          "QM1369",
          "QM1370",
          "QM1379",
          "QM1385",
          "QM1388",
          "QM1452",
          "QM1263",
          "QM1264",
          "QM971",
          "HV986",
          "HV987",
          "QM093",
          "QM963",
          "QM1270",
          "QM1271",
          "QM1272",
          "QM1273",
          "PER152",
          "QM887",
          "QM889",
          "QM894",
          "QM960",
          "HV794",
          "HV813",
          "HV820",
          "HV88",
          "HV902",
          "AR0561",
          "AR0562",
          "AR0563",
          "AR0564",
          "AR0565",
          "AR0566",
          "AR0469",
          "AR0470",
          "AR0472",
          "AR0475",
          "AR0476",
          "AR0477",
          "AR0478",
          "AR0479",
          "AR0480",
          "QM1265",
          "QM1258",
          "QM1259",
          "QM1261",
          "QM1262",
          "QM1267",
          "QM1269",
          "HV678",
          "HV733",
          "HV744",
          "HV754",
          "HV773",
          "HV901",
          "BAR040",
          "AR0220",
          "AR0222",
          "AR0481",
          "AR0482",
          "AR0483",
          "AR0485",
          "AR0486",
          "AR0490",
          "AR0702",
          "AR0703",
          "AR0704",
          "AR0705",
          "AR0706",
          "AR0707",
          "AR0708",
          "AR0709",
          "AR0710",
          "AR0711",
          "AR0712",
          "AR0713",
          "AR0714",
          "AR0715",
          "AR0716",
          "AR0717",
          "AR0718",
          "AR0719",
          "AR0721",
          "AR0722",
          "AR0723",
          "AR0724",
          "AR0726",
          "AR0727",
          "AR0728",
          "AR0729",
          "AR0730",
          "QM1324",
          "BAR043",
          "AR0567",
          "AR0568",
          "AR0570",
          "QM286",
          "QM065",
          "HV519",
          "HV772",
          "PER110",
          "QM307",
          "QM321",
          "QM398",
          "QM518",
          "QM980",
          "QM982",
          "QM984",
          "QM985",
          "QM986",
          "QM988",
          "QM989",
          "QM990",
          "QM991",
          "QM993",
          "QM995",
          "QM996",
          "QM997",
          "QM994",
          "HV447",
          "QM262",
          "QM322",
          "QM323",
          "QM292",
          "QM312",
          "QM068",
          "HV896",
          "HV510",
          "HV480",
          "QM308",
          "QM998",
          "PER128",
          "QM1007",
          "QM1008",
          "HV236",
          "PER144",
          "PER149",
          "QM1010",
          "QM1011",
          "QM1013",
          "QM1014",
          "QM1015",
          "QM886",
          "BAR006",
          "BAR008",
          "QM085",
          "QM086",
          "HV116",
          "QM895",
          "QM897",
          "QM899",
          "BAR001",
          "BAR002",
          "BAR003",
          "HV119",
          "HV136",
          "HV156",
          "HV205",
          "BAR018",
          "BAR023",
          "BAR024",
          "QM115",
          "BAR062",
          "QM134",
          "HV884",
          "HV912",
          "HV950",
          "HV975",
          "QM088",
          "QM089",
          "HV455",
          "HV462",
          "HV498",
          "HV521",
          "HV523",
          "HV538",
          "HV559",
          "HV594",
          "HV615",
          "HV283",
          "HV285",
          "HV326",
          "HV413",
          "HV416",
          "BAR052",
          "BAR059",
          "QM351",
          "QM359",
          "QM365",
          "QM370",
          "QM373",
          "QM380",
          "QM381",
          "QM957",
          "QM958",
          "QM968",
          "QM970",
          "QM977",
          "HV103",
          "HV107",
          "HV114",
          "HV262",
          "HV271",
          "HV277",
          "HV330",
          "HV412",
          "HV414",
          "QM804",
          "QM805",
          "QM806",
          "QM807",
          "QM1002",
          "QM878",
          "QM879",
          "QM169",
          "QM874",
          "QM875",
          "PER134",
          "QM1333",
          "QM880",
          "QM882",
          "QM883",
          "QM884",
          "PER159",
          "BAR009",
          "QM876",
          "HV740",
          "HV753",
          "HV448",
          "HV500",
          "HV508",
          "HV517",
          "HV599",
          "QM1250",
          "QM1253",
          "QM1254",
          "QM1255",
          "QM1288",
          "QM1308",
          "QM1309",
          "QM1310",
          "QM1315",
          "QM1373",
          "QM1325",
          "QM1326",
          "QM1327",
          "QM1358",
          "QM1359",
          "QM1360",
          "QM1362",
          "QM1364",
          "QM1366",
          "QM1367",
          "QM1368",
          "QM1369",
          "QM1370",
          "QM1379",
          "QM1385",
          "QM1388",
          "QM1450",
          "QM1452",
          "QM1263",
          "QM1264",
          "QM325",
          "QM1440",
          "QM1334",
          "QM1406",
          "QM1353",
          "QM152",
          "QM868",
          "BAR064",
          "QM1387",
          "QM971",
          "HV986",
          "QM093",
          "QM963",
          "QM964",
          "QM1522",
          "QM1530",
          "QM1533",
          "QM1270",
          "QM1271",
          "QM1272",
          "QM1273",
          "PER152",
          "QM887",
          "QM889",
          "QM894",
          "QM960",
          "QM1536",
          "QM1537",
          "QM1539",
          "QM1540",
          "QM1541",
          "QM1542",
          "QM1543",
          "QM1545",
          "QM1461",
          "QM1470",
          "HV794",
          "HV813",
          "HV820",
          "HV88",
          "HV902",
          "QM870",
          "QM871",
          "QM872",
          "BAR066",
          "HV752",
          "QM138",
          "QM1546",
          "QM1574",
          "QM1547",
          "QM1549",
          "QM1551",
          "QM1552",
          "QM1554",
          "QM1555",
          "QM1556",
          "QM1557",
          "QM1558",
          "QM1559",
          "QM1561",
          "QM1565",
          "QM1489",
          "QM1491",
          "QM1492",
          "AR0561",
          "AR0562",
          "AR0563",
          "AR0564",
          "AR0565",
          "AR0566",
          "AR0461",
          "AR0462",
          "AR0469",
          "AR0470",
          "AR0472",
          "AR0474",
          "AR0475",
          "AR0476",
          "AR0477",
          "AR0478",
          "AR0479",
          "AR0480",
          "QM1265",
          "QM1258",
          "QM1259",
          "QM1260",
          "QM1261",
          "QM1262",
          "QM1267",
          "QM1269",
          "HV678",
          "HV733",
          "HV744",
          "HV754",
          "HV773",
          "HV901",
          "BAR040",
          "AR0221",
          "AR0222",
          "AR0481",
          "AR0482",
          "AR0483",
          "AR0485",
          "AR0490",
          "AR0225",
          "AR0226",
          "AR0228",
          "AR0701",
          "AR0702",
          "AR0703",
          "AR0704",
          "AR0705",
          "AR0706",
          "AR0707",
          "AR0708",
          "AR0709",
          "AR0710",
          "AR0711",
          "AR0712",
          "AR0713",
          "AR0714",
          "AR0715",
          "AR0716",
          "AR0717",
          "AR0718",
          "AR0719",
          "AR0720",
          "AR0721",
          "AR0722",
          "AR0723",
          "AR0724",
          "AR0726",
          "AR0730",
          "QM025",
          "QM026",
          "QM027",
          "QM326",
          "QM328",
          "QM329",
          "QM1483",
          "QM1485",
          "QM1486",
          "QM1487",
          "QM1324",
          "BAR043",
          "AR0567",
          "AR0568",
          "AR0570",
          "HV519",
          "HV772",
          "QM307",
          "QM321",
          "QM398",
          "QM518",
          "QM980",
          "QM982",
          "QM984",
          "QM985",
          "QM986",
          "QM988",
          "QM989",
          "QM990",
          "QM991",
          "QM993",
          "QM995",
          "QM996",
          "QM997",
          "QM994",
          "HV447",
          "QM262",
          "QM322",
          "QM323",
          "HV896",
          "HV510",
          "HV480",
          "QM308",
          "QM998",
          "PER128",
          "QM1007",
          "QM1008",
          "HV236",
          "PER144",
          "PER149",
          "QM1010",
          "QM1011",
          "QM1013",
          "QM1014",
          "QM1015",
          "QM886",
          "BAR006",
          "BAR008",
          "QM085",
          "QM086",
          "HV109",
          "HV116",
          "QM895",
          "QM897",
          "QM899",
          "BAR002",
          "BAR003",
          "HV119",
          "HV136",
          "HV146",
          "HV156",
          "HV205",
          "HV254",
          "BAR018",
          "BAR019",
          "BAR023",
          "BAR024",
          "QM115",
          "BAR062",
          "QM134",
          "HV884",
          "HV912",
          "HV953",
          "HV975",
          "HV983",
          "QM034",
          "QM088",
          "QM089",
          "HV455",
          "HV462",
          "HV498",
          "HV521",
          "HV523",
          "HV538",
          "HV559",
          "HV594",
          "HV615",
          "HV283",
          "HV285",
          "HV326",
          "HV413",
          "HV416",
          "BAR052",
          "BAR059",
          "QM351",
          "QM359",
          "QM365",
          "QM370",
          "QM373",
          "QM380",
          "QM381",
          "QM957",
          "QM958",
          "QM968",
          "QM970",
          "QM977",
          "HV103",
          "HV114",
          "HV245",
          "HV262",
          "HV271",
          "HV277",
          "HV330",
          "HV412",
          "HV414",
          "QM803",
          "QM804",
          "QM805",
          "QM807",
          "QM808",
          "QM810",
          "BAR026",
          "QM1002",
          "QM878",
          "QM879",
          "QM169",
          "QM874",
          "QM875",
          "PER134",
          "QM1333",
          "QM880",
          "QM882",
          "QM883",
          "QM884",
          "PER159",
          "BAR009",
          "QM876",
          "HV740",
          "HV753",
          "HV448",
          "HV500",
          "HV508",
          "HV517",
          "QM1315",
          "QM1373",
          "QM1325",
          "QM1326",
          "QM1327",
          "QM1358",
          "QM1359",
          "QM1360",
          "QM1362",
          "QM1364",
          "QM1366",
          "QM1367",
          "QM1368",
          "QM1369",
          "QM1370",
          "QM1379",
          "QM1385",
          "QM1388",
          "QM1450",
          "QM1452",
          "QM1263",
          "QM1264",
          "QM325",
          "QM1440",
          "QM1406",
          "QM1353",
          "QM152",
          "QM868",
          "QM1387",
          "QM971",
          "HV986",
          "HV987",
          "QM093",
          "QM964",
          "QM1522",
          "QM1530",
          "QM1533",
          "QM1270",
          "QM1271",
          "QM1272",
          "QM1273",
          "PER152",
          "QM887",
          "QM889",
          "QM894",
          "QM960",
          "QM1536",
          "QM1537",
          "QM1539",
          "QM1540",
          "QM1541",
          "QM1542",
          "QM1545",
          "QM1456",
          "QM1457",
          "QM1460",
          "QM1461",
          "QM1464",
          "QM1468",
          "QM1469",
          "QM1470",
          "HV794",
          "HV813",
          "HV820",
          "HV88",
          "HV902",
          "QM870",
          "QM871",
          "QM872",
          "BAR066",
          "HV752",
          "QM138",
          "QM1546",
          "QM1574",
          "QM1547",
          "QM1549",
          "QM1551",
          "QM1552",
          "QM1554",
          "QM1555",
          "QM1556",
          "QM1557",
          "QM1558",
          "QM1559",
          "QM1561",
          "QM1565",
          "QM1489",
          "QM1491",
          "QM1492",
          "AR0561",
          "AR0562",
          "AR0563",
          "AR0564",
          "AR0565",
          "AR0566",
          "AR0461",
          "AR0469",
          "AR0470",
          "AR0472",
          "AR0475",
          "AR0476",
          "AR0477",
          "AR0478",
          "AR0479",
          "AR0480",
          "QM1265",
          "QM1258",
          "QM1259",
          "QM1260",
          "QM1261",
          "QM1262",
          "QM1267",
          "QM1269",
          "HV678",
          "HV733",
          "HV734",
          "HV744",
          "HV754",
          "HV773",
          "BAR040",
          "AR0481",
          "AR0482",
          "AR0483",
          "AR0485",
          "AR0486",
          "AR0490",
          "AR0225",
          "AR0226",
          "AR0701",
          "AR0702",
          "AR0703",
          "AR0704",
          "AR0705",
          "AR0706",
          "AR0707",
          "AR0708",
          "AR0709",
          "AR0710",
          "AR0711",
          "AR0712",
          "AR0713",
          "AR0714",
          "AR0717",
          "AR0718",
          "AR0719",
          "AR0720",
          "AR0721",
          "AR0722",
          "AR0723",
          "AR0724",
          "AR0726",
          "AR0727",
          "AR0728",
          "AR0729",
          "AR0730",
          "QM025",
          "QM026",
          "QM027",
          "QM326",
          "QM328",
          "QM329",
          "QM1483",
          "QM1485",
          "QM1486",
          "QM1487",
          "QM1324",
          "BAR043",
          "AR0567",
          "AR0568",
          "QM085",
          "QM086",
          "HV146",
          "HV983",
          "QM1326",
          "QM1272",
          "PER152",
          "QM889",
          "QM894",
          "AR0561",
          "AR0566",
          "AR0462",
          "QM1258",
          "AR0217",
          "AR0221",
          "AR0222",
          "AR0223",
          "AR0702",
          "BAR043",
          "QM518",
          "HV447",
          "QM322",
          "QM308",
          "PER128",
          "QM1013",
          "QM086",
          "HV146",
          "HV205",
          "HV254",
          "BAR024",
          "HV884",
          "HV462",
          "HV521",
          "HV538",
          "HV615",
          "HV285",
          "HV326",
          "HV416",
          "BAR052",
          "BAR059",
          "HV103",
          "HV107",
          "HV114",
          "HV245",
          "HV262",
          "HV271",
          "HV277",
          "HV412",
          "HV414",
          "QM805",
          "QM807",
          "QM808",
          "BAR026",
          "QM1002",
          "QM878",
          "QM882",
          "QM884",
          "HV740",
          "HV753",
          "HV500",
          "HV508",
          "HV517",
          "HV599",
          "QM1325",
          "QM1326",
          "QM1327",
          "QM1359",
          "QM1360",
          "QM1362",
          "QM1364",
          "QM1367",
          "QM1368",
          "QM1370",
          "QM1379",
          "QM1385",
          "QM1388",
          "QM1452",
          "QM1353",
          "HV986",
          "HV987",
          "PER152",
          "QM887",
          "QM889",
          "QM894",
          "QM1536",
          "QM1539",
          "HV794",
          "HV813",
          "HV88",
          "HV902",
          "QM1546",
          "QM1549",
          "QM1554",
          "QM1557",
          "QM1558",
          "QM1561",
          "AR0561",
          "AR0563",
          "AR0566",
          "AR0462",
          "AR0465",
          "AR0467",
          "AR0468",
          "AR0470",
          "AR0472",
          "AR0475",
          "AR0476",
          "AR0477",
          "AR0478",
          "AR0479",
          "AR0480",
          "QM1267",
          "QM1269",
          "AR0216",
          "AR0217",
          "AR0221",
          "AR0222",
          "AR0481",
          "AR0482",
          "AR0490",
          "AR0224",
          "AR0225",
          "AR0701",
          "AR0702",
          "AR0704",
          "AR0705",
          "AR0714",
          "AR0715",
          "QM026",
          "QM329",
          "QM1324",
          "BAR043",
          "AR0568",
          "QM323",
          "QM085",
          "HV109",
          "QM895",
          "QM897",
          "BAR001",
          "BAR002",
          "BAR003",
          "HV254",
          "HV912",
          "HV983",
          "HV455",
          "HV523",
          "HV559",
          "HV283",
          "HV285",
          "HV326",
          "HV413",
          "BAR052",
          "BAR059",
          "QM359",
          "QM370",
          "QM373",
          "QM381",
          "QM957",
          "QM970",
          "HV245",
          "HV262",
          "HV277",
          "HV740",
          "HV448",
          "HV599",
          "QM1325",
          "QM1327",
          "QM1358",
          "QM1359",
          "QM1369",
          "QM1379",
          "QM1388",
          "QM971",
          "HV986",
          "QM963",
          "QM964",
          "QM1270",
          "QM1271",
          "QM1272",
          "QM1273",
          "PER152",
          "QM887",
          "QM960",
          "HV88",
          "HV902",
          "AR0563",
          "AR0564",
          "AR0566",
          "AR0461",
          "AR0462",
          "AR0465",
          "AR0467",
          "AR0468",
          "AR0469",
          "AR0472",
          "AR0474",
          "AR0475",
          "AR0476",
          "AR0477",
          "AR0478",
          "AR0479",
          "QM1259",
          "QM1262",
          "QM1267",
          "QM1269",
          "HV678",
          "HV754",
          "HV773",
          "AR0215",
          "AR0216",
          "AR0217",
          "AR0218",
          "AR0220",
          "AR0221",
          "AR0481",
          "AR0482",
          "AR0483",
          "AR0486",
          "AR0224",
          "AR0226",
          "AR0227",
          "AR0228",
          "AR0704",
          "AR0705",
          "AR0708",
          "AR0709",
          "AR0711",
          "AR0713",
          "AR0714",
          "AR0717",
          "AR0723",
          "AR0726",
          "AR0728",
          "AR0729",
          "QM026",
          "QM328",
          "QM329",
          "AR0567",
          "HV519",
          "PER107",
          "HV772",
          "PER110",
          "PER108",
          "QM985",
          "QM988",
          "QM397",
          "QM995",
          "QM992",
          "QM262",
          "QM323",
          "QM312",
          "QM295",
          "QM068",
          "HV896",
          "HV510",
          "PER128",
          "QM1007",
          "QM1008",
          "QM1010",
          "QM1011",
          "QM1013",
          "QM1014",
          "QM1015",
          "QM886",
          "BAR006",
          "BAR008",
          "QM085",
          "QM086",
          "HV109",
          "HV116",
          "QM895",
          "QM897",
          "QM899",
          "BAR001",
          "BAR002",
          "BAR003",
          "HV119",
          "HV136",
          "HV146",
          "HV254",
          "BAR018",
          "BAR019",
          "BAR023",
          "BAR024",
          "HV884",
          "HV912",
          "HV950",
          "HV953",
          "HV975",
          "QM089",
          "HV455",
          "HV462",
          "HV498",
          "HV521",
          "HV523",
          "HV538",
          "HV559",
          "HV594",
          "HV615",
          "HV283",
          "HV285",
          "HV326",
          "HV413",
          "HV416",
          "BAR032",
          "BAR052",
          "BAR059",
          "QM351",
          "QM359",
          "QM370",
          "QM380",
          "QM957",
          "QM958",
          "QM968",
          "QM970",
          "HV103",
          "HV107",
          "HV114",
          "HV245",
          "HV262",
          "HV271",
          "HV277",
          "HV330",
          "HV412",
          "HV414",
          "QM803",
          "QM804",
          "QM806",
          "QM808",
          "QM810",
          "BAR026",
          "QM1002",
          "QM878",
          "QM879",
          "PER134",
          "QM880",
          "QM883",
          "QM884",
          "PER159",
          "BAR009",
          "HV740",
          "HV753",
          "HV448",
          "HV500",
          "HV508",
          "HV517",
          "HV599",
          "QM1248",
          "QM1250",
          "QM1252",
          "QM1254",
          "QM1255",
          "QM1288",
          "QM1289",
          "QM1308",
          "QM1309",
          "QM1310",
          "QM1312",
          "QM1313",
          "QM1314",
          "QM1315",
          "QM1316",
          "QM1317",
          "QM1373",
          "QM1391",
          "QM1325",
          "QM1326",
          "QM1327",
          "QM1358",
          "QM1362",
          "QM1364",
          "QM1366",
          "QM1367",
          "QM1368",
          "QM1369",
          "QM1379",
          "QM1450",
          "QM1452",
          "QM1263",
          "QM1264",
          "QM325",
          "QM1440",
          "QM1353",
          "QM971",
          "HV986",
          "HV987",
          "QM093",
          "QM963",
          "QM964",
          "QM1523",
          "QM1524",
          "QM1525",
          "QM1526",
          "QM1527",
          "QM1528",
          "QM1530",
          "QM1533",
          "QM889",
          "QM894",
          "QM960",
          "QM1536",
          "QM1539",
          "QM1540",
          "QM1541",
          "QM1543",
          "QM1545",
          "QM1457",
          "QM1460",
          "QM1461",
          "QM1469",
          "QM1470",
          "HV794",
          "HV813",
          "HV820",
          "HV902",
          "QM1546",
          "QM1574",
          "QM1547",
          "QM1551",
          "QM1552",
          "QM1554",
          "QM1555",
          "QM1556",
          "QM1557",
          "QM1558",
          "QM1559",
          "QM1561",
          "AR0561",
          "AR0563",
          "AR0564",
          "AR0565",
          "AR0566",
          "AR0461",
          "AR0462",
          "AR0465",
          "AR0467",
          "AR0468",
          "AR0469",
          "AR0470",
          "AR0472",
          "AR0474",
          "AR0475",
          "AR0476",
          "AR0477",
          "AR0478",
          "AR0479",
          "AR0480",
          "QM1265",
          "QM1258",
          "QM1259",
          "QM1260",
          "QM1261",
          "QM1267",
          "QM1269",
          "HV678",
          "HV733",
          "HV734",
          "HV744",
          "HV754",
          "HV773",
          "AR0215",
          "AR0216",
          "AR0217",
          "AR0218",
          "AR0219",
          "AR0220",
          "AR0221",
          "AR0222",
          "AR0481",
          "AR0482",
          "AR0483",
          "AR0485",
          "AR0486",
          "AR0224",
          "AR0225",
          "AR0226",
          "AR0228",
          "AR0703",
          "AR0705",
          "AR0572",
          "AR0575",
          "QM025",
          "QM326",
          "QM329",
          "QM1324",
          "AR0567",
          "AR0570",
          "QM307",
          "QM321",
          "QM398",
          "QM518",
          "QM980",
          "QM982",
          "QM984",
          "QM985",
          "QM986",
          "QM988",
          "QM989",
          "QM990",
          "QM991",
          "QM993",
          "QM995",
          "QM996",
          "QM997",
          "QM994",
          "HV447",
          "QM262",
          "QM322",
          "HV480",
          "QM308",
          "QM998",
          "QM085",
          "QM086",
          "HV109",
          "HV116",
          "QM895",
          "QM897",
          "QM899",
          "BAR001",
          "BAR003",
          "HV119",
          "HV136",
          "HV146",
          "HV156",
          "HV205",
          "HV254",
          "HV884",
          "HV912",
          "HV950",
          "HV953",
          "HV975",
          "HV983",
          "QM034",
          "QM088",
          "QM089",
          "HV455",
          "HV462",
          "HV498",
          "HV521",
          "HV523",
          "HV538",
          "HV559",
          "HV594",
          "HV615",
          "HV283",
          "HV285",
          "HV326",
          "HV413",
          "HV416",
          "BAR052",
          "BAR059",
          "QM351",
          "QM359",
          "QM365",
          "QM370",
          "QM373",
          "QM380",
          "QM381",
          "QM957",
          "QM958",
          "QM968",
          "QM970",
          "QM977",
          "HV103",
          "HV107",
          "HV114",
          "HV245",
          "HV262",
          "HV271",
          "HV277",
          "HV330",
          "HV412",
          "HV414",
          "HV753",
          "HV448",
          "HV500",
          "HV508",
          "HV517",
          "HV599",
          "QM1325",
          "QM1326",
          "QM1327",
          "QM1358",
          "QM1359",
          "QM1360",
          "QM1362",
          "QM1364",
          "QM1366",
          "QM1367",
          "QM1368",
          "QM1369",
          "QM1370",
          "QM1385",
          "QM1388",
          "QM1450",
          "QM1452",
          "QM1263",
          "QM1264",
          "QM971",
          "HV986",
          "HV987",
          "QM093",
          "QM963",
          "QM964",
          "QM1270",
          "QM1271",
          "QM1272",
          "QM1273",
          "PER152",
          "QM887",
          "QM889",
          "QM894",
          "QM960",
          "HV794",
          "HV813",
          "HV820",
          "HV88",
          "HV902",
          "AR0561",
          "AR0562",
          "AR0563",
          "AR0565",
          "AR0566",
          "AR0461",
          "AR0462",
          "AR0465",
          "AR0467",
          "AR0468",
          "AR0469",
          "AR0470",
          "AR0472",
          "AR0475",
          "AR0476",
          "AR0477",
          "AR0478",
          "AR0479",
          "AR0480",
          "QM1265",
          "QM1258",
          "QM1259",
          "QM1260",
          "QM1261",
          "QM1262",
          "QM1267",
          "QM1269",
          "HV678",
          "HV733",
          "HV734",
          "HV744",
          "HV754",
          "HV773",
          "HV901",
          "BAR040",
          "AR0215",
          "AR0219",
          "AR0220",
          "AR0221",
          "AR0481",
          "AR0482",
          "AR0483",
          "AR0485",
          "AR0486",
          "AR0490",
          "AR0223",
          "AR0224",
          "AR0701",
          "AR0702",
          "AR0703",
          "AR0704",
          "AR0705",
          "AR0706",
          "AR0707",
          "AR0708",
          "AR0709",
          "AR0710",
          "AR0711",
          "AR0712",
          "AR0713",
          "AR0715",
          "AR0716",
          "AR0717",
          "AR0718",
          "AR0719",
          "AR0720",
          "AR0721",
          "AR0722",
          "AR0723",
          "AR0724",
          "AR0726",
          "AR0727",
          "AR0728",
          "AR0729",
          "AR0730",
          "BAR043",
          "AR0567",
          "AR0568",
          "AR0570",
          "QM307",
          "QM321",
          "QM982",
          "QM985",
          "QM986",
          "QM988",
          "QM989",
          "QM990",
          "QM991",
          "QM993",
          "QM995",
          "QM996",
          "QM997",
          "QM994",
          "HV447",
          "QM262",
          "QM322",
          "QM323",
          "HV480",
          "QM308",
          "QM998",
          "QM086",
          "HV109",
          "QM895",
          "QM897",
          "QM899",
          "BAR001",
          "BAR002",
          "BAR003",
          "HV119",
          "HV136",
          "HV146",
          "HV205",
          "HV884",
          "HV912",
          "HV950",
          "HV953",
          "HV975",
          "QM034",
          "QM088",
          "QM089",
          "HV455",
          "HV462",
          "HV521",
          "HV523",
          "HV538",
          "HV559",
          "HV594",
          "HV615",
          "HV283",
          "HV285",
          "HV326",
          "HV416",
          "BAR052",
          "BAR059",
          "QM351",
          "QM359",
          "QM365",
          "QM370",
          "QM380",
          "QM381",
          "QM957",
          "QM958",
          "QM970",
          "HV103",
          "HV107",
          "HV114",
          "HV245",
          "HV262",
          "HV271",
          "HV277",
          "HV330",
          "HV412",
          "HV740",
          "HV753",
          "HV448",
          "HV500",
          "HV517",
          "HV599",
          "QM1326",
          "QM1327",
          "QM1360",
          "QM1362",
          "QM1364",
          "QM1366",
          "QM1367",
          "QM1368",
          "QM1369",
          "QM1370",
          "QM1379",
          "QM1385",
          "QM1388",
          "QM1450",
          "QM1452",
          "QM971",
          "HV986",
          "HV987",
          "QM963",
          "QM964",
          "QM1270",
          "QM1271",
          "QM1272",
          "QM1273",
          "QM887",
          "QM889",
          "QM894",
          "QM960",
          "HV794",
          "HV813",
          "HV820",
          "AR0561",
          "AR0562",
          "AR0563",
          "AR0564",
          "AR0565",
          "AR0566",
          "AR0461",
          "AR0462",
          "AR0465",
          "AR0467",
          "AR0468",
          "AR0469",
          "AR0470",
          "AR0472",
          "AR0475",
          "AR0476",
          "AR0477",
          "AR0478",
          "AR0479",
          "AR0480",
          "QM1260",
          "QM1261",
          "QM1262",
          "QM1267",
          "QM1269",
          "HV733",
          "HV734",
          "HV744",
          "HV754",
          "HV901",
          "BAR040",
          "AR0215",
          "AR0216",
          "AR0217",
          "AR0218",
          "AR0220",
          "AR0481",
          "AR0482",
          "AR0483",
          "AR0490",
          "AR0223",
          "AR0224",
          "AR0225",
          "AR0228",
          "AR0701",
          "AR0704",
          "AR0706",
          "AR0709",
          "AR0710",
          "AR0712",
          "AR0713",
          "AR0715",
          "AR0716",
          "AR0717",
          "AR0719",
          "AR0720",
          "AR0723",
          "AR0724",
          "AR0727",
          "AR0728",
          "QM1324",
          "AR0567",
          "AR0568",
          "AR0570",
          "QM321",
          "QM518",
          "QM985",
          "QM986",
          "QM988",
          "QM989",
          "QM991",
          "QM993",
          "QM995",
          "QM996",
          "HV447",
          "QM262",
          "QM322",
          "QM308",
          "QM1007",
          "QM1008",
          "QM1010",
          "QM1011",
          "QM1013",
          "QM1014",
          "QM1015",
          "QM886",
          "BAR006",
          "BAR008",
          "QM085",
          "QM086",
          "QM895",
          "QM897",
          "QM899",
          "BAR001",
          "BAR002",
          "BAR003",
          "HV146",
          "HV156",
          "HV205",
          "HV254",
          "BAR018",
          "BAR019",
          "BAR023",
          "BAR024",
          "HV884",
          "HV912",
          "HV975",
          "QM034",
          "QM089",
          "HV498",
          "HV521",
          "HV538",
          "HV559",
          "HV615",
          "HV283",
          "HV413",
          "HV416",
          "BAR059",
          "QM351",
          "QM359",
          "QM957",
          "QM970",
          "HV103",
          "HV107",
          "HV114",
          "HV330",
          "HV412",
          "HV414",
          "QM803",
          "QM804",
          "QM810",
          "QM1002",
          "QM878",
          "QM882",
          "QM883",
          "QM884",
          "PER159",
          "HV740",
          "HV753",
          "HV500",
          "HV508",
          "QM1325",
          "QM1327",
          "QM1359",
          "QM1360",
          "QM1362",
          "QM1364",
          "QM1366",
          "QM1367",
          "QM1368",
          "QM1369",
          "QM1370",
          "QM1379",
          "QM1388",
          "QM1452",
          "QM1263",
          "QM1440",
          "QM971",
          "HV986",
          "HV987",
          "QM093",
          "QM1533",
          "QM887",
          "QM889",
          "QM894",
          "QM960",
          "QM1536",
          "QM1537",
          "QM1542",
          "QM1543",
          "QM1545",
          "QM1456",
          "QM1457",
          "QM1460",
          "QM1461",
          "QM1464",
          "QM1468",
          "QM1469",
          "HV794",
          "QM1546",
          "QM1574",
          "QM1547",
          "QM1549",
          "QM1551",
          "QM1555",
          "QM1556",
          "QM1557",
          "QM1561",
          "AR0561",
          "AR0562",
          "AR0563",
          "AR0564",
          "AR0566",
          "AR0461",
          "AR0462",
          "AR0465",
          "AR0467",
          "AR0468",
          "AR0469",
          "AR0470",
          "AR0472",
          "AR0474",
          "AR0475",
          "AR0476",
          "AR0477",
          "AR0478",
          "AR0479",
          "AR0480",
          "QM1265",
          "QM1259",
          "QM1260",
          "QM1261",
          "QM1262",
          "QM1267",
          "QM1269",
          "HV678",
          "HV773",
          "AR0215",
          "AR0216",
          "AR0218",
          "AR0219",
          "AR0220",
          "AR0221",
          "AR0481",
          "AR0482",
          "AR0485",
          "AR0486",
          "AR0490",
          "AR0223",
          "AR0224",
          "AR0225",
          "AR0226",
          "AR0227",
          "AR0228",
          "AR0701",
          "AR0702",
          "AR0704",
          "AR0705",
          "AR0706",
          "AR0707",
          "AR0708",
          "AR0711",
          "AR0713",
          "AR0714",
          "AR0715",
          "AR0716",
          "AR0717",
          "AR0718",
          "AR0719",
          "AR0723",
          "AR0724",
          "QM328",
          "QM402",
          "QM1324",
          "AR0568",
          "AR0570",
          "QM518",
          "HV447",
          "QM308",
          "QM085",
          "QM086",
          "HV146",
          "HV983",
          "HV462",
          "BAR052",
          "HV107",
          "HV500",
          "QM1326",
          "QM1368",
          "QM1452",
          "QM1264",
          "QM1353",
          "PER152",
          "QM889",
          "QM894",
          "HV794",
          "HV813",
          "AR0561",
          "AR0563",
          "AR0566",
          "AR0462",
          "AR0475",
          "AR0480",
          "QM1258",
          "AR0216",
          "AR0217",
          "AR0221",
          "AR0222",
          "AR0490",
          "AR0723",
          "AR0726",
          "AR0727",
          "AR0728",
          "AR0729",
          "AR0730",
          "QM026",
          "QM329",
          "QM1493",
          "QM1494",
          "QM1566",
          "QM1567",
          "QM1569",
          "QM1572"
         ],
         "legendgroup": "Sensitive",
         "marker": {
          "color": "limegreen",
          "symbol": "circle"
         },
         "mode": "markers",
         "name": "Sensitive",
         "showlegend": true,
         "type": "scattergl",
         "x": [
          -0.13753792474279586,
          -0.10171678673949461,
          -0.02299087686105536,
          0.14404449855941606,
          -0.14045930282947802,
          -0.12273708362815994,
          0.12568899370666572,
          0.04072930907943423,
          -0.14031507595949436,
          -0.09026870991358599,
          0.13444222199202818,
          0.132298123410205,
          0.004888641640394098,
          0.026744518855569277,
          -0.06641198678369177,
          0.1488100972051584,
          -0.08377919425214432,
          0.08025148480478309,
          -0.11563694023496218,
          -0.010454628691963425,
          0.037197758947182386,
          -0.1333896880608427,
          -0.03604366963611903,
          0.10074975233035874,
          -0.02399858526872478,
          -0.07717649107232756,
          0.05959164683155685,
          0.045850037888452044,
          0.005249132870108142,
          0.04076272929881439,
          -0.07574448252467063,
          0.06444988352756659,
          0.1025312969265402,
          -0.10320170021123545,
          -0.07304985257636275,
          -0.10291991589524796,
          -0.019597212245085094,
          0.0999228952920895,
          -0.043557903754137,
          -0.0287956689784393,
          0.048337663704126455,
          0.038738958928355965,
          -0.05841155595946507,
          -0.028415290153832762,
          -0.02052035522706444,
          0.1324031038481858,
          0.08951431576528757,
          -0.058789254295000495,
          -0.1345864519690763,
          -0.02075500306146838,
          -0.09698665859553582,
          0.055150486000984655,
          -0.11130486058699993,
          0.08308771889669225,
          -0.13332238033964885,
          0.14287085956300435,
          0.11742920213534655,
          -0.07208654406471478,
          0.0769161755476396,
          0.14685920665514882,
          -0.12707700389762933,
          0.1267990125207182,
          0.11622049036240609,
          0.09710356007648124,
          0.08651563244474289,
          1.09855327157736,
          0.89736445877484,
          1.0530461381772869,
          0.8647748023877918,
          0.994932954764707,
          1.0511608520272346,
          0.8775017382352297,
          0.9896145465806997,
          0.994153737886884,
          1.0578984596114465,
          0.8888886787737513,
          0.9231823832434146,
          1.0704841617972094,
          2.859258427867141,
          2.9193421343447254,
          3.1035784304787146,
          3.0772255837454927,
          2.9101717081464904,
          2.882243458377564,
          3.011127480935603,
          3.1051525087032403,
          3.141108314248737,
          2.8597467843081836,
          3.1151841465268917,
          3.0793257530855858,
          2.918756842334245,
          3.061962913108335,
          3.127133203085433,
          3.1015850970042504,
          3.0202522472521074,
          3.1126365000754586,
          2.8602206861144666,
          2.881672796607997,
          2.9095584282968954,
          2.952379580463431,
          3.0836567766386094,
          2.9548797553881574,
          3.107773775704787,
          3.1311388413485135,
          3.0056661095388164,
          2.9940005841391715,
          3.0263634960500694,
          3.085337304363397,
          2.966593449570877,
          3.001997782411156,
          3.0869268838599724,
          3.0517498798995244,
          2.9304622647146017,
          3.081135267383227,
          2.9620829885883624,
          3.1484755015329124,
          3.0433372396785,
          2.8555303653958224,
          2.955940466567195,
          2.9262878108439843,
          3.053228107239394,
          3.0433855277756674,
          2.932988442005899,
          3.0062443711038784,
          3.0716604538752064,
          3.097404856094367,
          2.998958733054233,
          2.8747050197922013,
          2.9813488107144623,
          3.093639551955339,
          2.9628062716656838,
          3.0148193412589155,
          2.974592643848048,
          3.1296069882267195,
          3.0963497071543062,
          2.9607404019880654,
          2.895152277040936,
          3.147651482726509,
          2.9254130029830057,
          3.0505645396751313,
          3.0656841249041715,
          2.9508475908499943,
          2.9787953936983667,
          3.08408061049624,
          3.0952385510611697,
          3.0363407469293455,
          3.1166428184684896,
          2.850837212052446,
          3.133522010787591,
          2.8725912376770366,
          2.877943031684639,
          2.860861564875099,
          2.88734156291068,
          3.0495658347700014,
          2.976360694947475,
          3.0376451734645253,
          3.12095513404682,
          2.9944857081909544,
          3.14161780544271,
          2.978000218849468,
          2.909126863756828,
          3.0709163249496028,
          2.9912107362924143,
          2.929877507349472,
          3.10665578427609,
          2.9875756332605135,
          3.0431592133552674,
          2.888009058646517,
          3.1058675439424497,
          2.9674586203179993,
          2.8506202755086196,
          2.8903011076332987,
          2.8747385684110216,
          3.0125571694584337,
          2.8562417714738,
          2.8708483357615644,
          2.9547926530733295,
          2.873921927441439,
          2.9705972597625263,
          2.9935966999990633,
          2.945527793441088,
          2.927424612272861,
          2.8986056070505812,
          2.9442247989927406,
          3.1176941365424486,
          3.018071745161613,
          3.1235257584619784,
          2.8604201844835035,
          2.914444621561773,
          2.8922245455208553,
          3.0306146579229867,
          3.037723070044588,
          3.890677433176175,
          3.94368568156686,
          3.9152968427637003,
          3.973396327610829,
          4.054953590068507,
          3.9198518176250285,
          3.9624480566480305,
          3.918249721524203,
          4.0058950213715185,
          3.9133819948023776,
          4.028419186859825,
          4.057657614195236,
          4.024874353452712,
          3.9346483819947324,
          4.0474776183596575,
          3.889734716587014,
          3.8533421431650283,
          4.14889218970274,
          3.9657289541915257,
          3.861370534011332,
          3.950909685196466,
          4.144230337894143,
          4.017260051186284,
          3.9086716064006577,
          3.857696707697386,
          3.8904354815180584,
          4.104011427154066,
          4.06104616204781,
          3.8655739511854943,
          4.081210245995913,
          3.9782575809841365,
          3.998977601724585,
          3.896460738058777,
          4.056189950582641,
          4.093609922482103,
          4.0242534109832615,
          3.9472456919362364,
          3.9735816576411698,
          3.8649918659016533,
          3.914467282901096,
          4.035226619147069,
          3.973540813360943,
          3.9522620141406746,
          3.8921328087479474,
          4.138022282770537,
          4.090571374803809,
          3.912439911054144,
          4.106374161503647,
          4.107459932960952,
          4.006517438224509,
          4.066036005693222,
          4.043967316539155,
          4.088114309146385,
          4.148750993020688,
          4.011003330084204,
          4.091409110030061,
          4.077400157429422,
          4.004038207375746,
          3.9699711188231404,
          3.9900262647001887,
          3.9591720874516914,
          3.8625314032031297,
          4.081806761359751,
          4.004301296103581,
          3.8846919437059713,
          4.007511273918102,
          3.9774089329554627,
          3.915486523538508,
          4.058571560258511,
          3.9371979072978784,
          3.8658321802149374,
          3.906226195731526,
          3.9765164928912666,
          3.906145522447634,
          4.0272351182201795,
          3.9849073782335087,
          3.9782736404607175,
          3.9984324193776253,
          3.9684536670326778,
          3.952643691215676,
          3.974193314355362,
          3.8612498256087266,
          3.9612216003068874,
          3.928962172903654,
          3.972980891943595,
          3.9745025208028237,
          3.8894526810606047,
          4.103659324817607,
          4.128755667701864,
          3.9262988687381806,
          3.889180268042717,
          4.1492902634125155,
          4.041774154575103,
          3.9129465499653064,
          3.8930356329331675,
          3.969391263800928,
          3.9433342664611835,
          4.115739688717232,
          3.8884958762000257,
          4.027583834145784,
          4.072281960070081,
          4.025327409721062,
          4.141164946814932,
          4.016873240975021,
          4.042797300838007,
          4.1096120412458355,
          3.952325823607598,
          4.075765979152081,
          4.00464328102653,
          3.9860980723130623,
          5.142160397198498,
          4.853464272454471,
          5.084760051319798,
          5.14699012585578,
          5.140000759136736,
          4.930243881641163,
          5.058383501631937,
          4.858609337467307,
          5.012037665744795,
          4.945314936980387,
          5.043056806917022,
          4.876228688905751,
          4.924038628198556,
          4.915976416915495,
          5.025845085338144,
          5.138428904794377,
          4.92094394177447,
          4.850067810434245,
          4.932204060543552,
          4.970163743371332,
          5.029319811376986,
          5.134354080519169,
          5.0156661419835205,
          4.877903494959064,
          5.116217978324606,
          5.092539325212962,
          5.077442155841215,
          5.140254500449195,
          5.077259194146115,
          4.950241982465193,
          5.00910907117609,
          5.147781360857118,
          4.945039276281211,
          7.064678737606892,
          6.936690178345755,
          6.998778868185926,
          7.081858737942049,
          6.930226606563334,
          6.961362624913953,
          7.11026771525924,
          6.932351940454755,
          6.909855425741735,
          6.866012315489435,
          7.088251880217725,
          7.120397868328649,
          6.945178115842649,
          6.852754399381186,
          7.100459727094887,
          6.869686885335821,
          7.0293496735923355,
          6.8724951016339375,
          6.917136599153475,
          6.869308345202463,
          6.8605729116641605,
          6.892103767597919,
          7.076433036395215,
          7.145450207648689,
          6.954666875493283,
          6.932177571448887,
          7.114982877755364,
          6.976042838990824,
          7.033149442400058,
          6.858312216942274,
          7.096107163366259,
          6.864408965091566,
          6.9824463845718086,
          7.147834008527238,
          7.020983589937555,
          6.939937182995152,
          7.112855340428531,
          7.0434459184575555,
          6.9079014509539975,
          6.874427434846723,
          6.8734900373236,
          7.084376348294387,
          6.861767396684276,
          6.8927141782141215,
          7.116385822906022,
          6.920366728729604,
          6.992241635133915,
          7.061422691075015,
          7.121562574522154,
          7.0091844465715365,
          6.942896534745305,
          7.0109793896540475,
          7.118699447891079,
          6.987255264986924,
          6.8655978662518935,
          6.886556515487766,
          7.017041728082935,
          9.85369487349504,
          9.928411498083477,
          9.951581764356796,
          10.098958959086275,
          10.12698142379457,
          10.083792063246696,
          10.073828394537832,
          9.942137817229884,
          9.995579250436242,
          10.029834596638642,
          10.128181133819183,
          10.125763269045208,
          10.076649562305358,
          9.873519267150341,
          9.904446715730007,
          9.914656494819567,
          9.871125751069611,
          10.113816739455162,
          9.8545276748901,
          10.09554506655018,
          9.876426273465546,
          10.082360248859754,
          10.031794365601849,
          9.861483073172437,
          9.868024678782499,
          9.969903344757018,
          10.131148994132285,
          9.954026949721793,
          10.049901462930755,
          9.876452452409703,
          10.131512841589055,
          9.914284654629471,
          10.1083011303204,
          10.009944329085489,
          10.113592544351427,
          9.920457381128143,
          10.142095655419604,
          10.06574657028139,
          10.094962450392199,
          9.916614635764619,
          10.111449858740583,
          10.112940518247777,
          9.977450622668067,
          10.0447981055019,
          10.047137747061718,
          10.857786514919523,
          11.132168108154012,
          10.880234733894973,
          10.926369724683152,
          11.104028252980466,
          10.941362894855509,
          10.931293115865019,
          10.94712345914986,
          10.99030907997095,
          10.953408345155962,
          10.869345780159339,
          11.065837025351911,
          11.095574038891264,
          10.862102508669988,
          10.88944990821997,
          11.011476597924785,
          11.02783658588846,
          11.046868135132712,
          11.013123664667214,
          11.05802772256236,
          11.064120714633631,
          10.88133137193231,
          10.867821863581133,
          11.147511326309711,
          10.993219531378957,
          11.062926199909777,
          10.976319732653769,
          11.121321747708727,
          11.00382740133752,
          11.14546929752729,
          10.87891103646313,
          10.917211672824557,
          10.87183672909924,
          10.90234508783225,
          11.028270369884245,
          11.046709377382493,
          10.9135547880117,
          10.9625815394353,
          10.972357139270997,
          10.957394820429327,
          10.961730928214248,
          11.112943270094608,
          11.13639831570817,
          11.039703826437062,
          11.106653329291769,
          11.021270555787282,
          10.866043582334095,
          11.052674641517548,
          10.999267365362815,
          10.968846405160766,
          11.078841299967115,
          10.994508966594807,
          10.852617052439985,
          11.064283418615476,
          11.143127932383871,
          10.980584459729908,
          11.062826405217681,
          11.01441871748895,
          10.917699808900139,
          10.95540513786461,
          10.885678866102493,
          10.958880908550963,
          11.057093256429148,
          11.140036602141258,
          11.124978959837202,
          10.871367558216596,
          10.907414278909565,
          10.980420466336192,
          11.130976489978215,
          10.997143664497278,
          10.892996167875385,
          11.075178641668495,
          10.943881395356817,
          11.071604383611401,
          10.853577419398299,
          11.117717276067314,
          10.862686725501005,
          10.886834426676488,
          10.88355336102516,
          11.036499159332145,
          10.963073948054971,
          11.003698249118381,
          11.072342017621065,
          11.105081624404542,
          11.09236950681699,
          11.137429730748567,
          10.958662034952601,
          11.010608651807795,
          10.98520395622623,
          11.13310113709464,
          10.952984110695214,
          10.90334357277527,
          10.919958462175185,
          10.867882055982953,
          10.917447651580309,
          10.896185661953728,
          10.970531428812782,
          11.074866476279404,
          10.899226753040777,
          10.961695847108944,
          10.95462592289946,
          11.061353095961394,
          11.053659616707627,
          10.997960624238258,
          10.919561663460609,
          11.069967711750873,
          11.067550414176058,
          11.080623752328812,
          10.912913625901325,
          10.876727455385101,
          10.897767875870896,
          11.090247180484896,
          10.960153587176867,
          10.949734395309907,
          10.986186879479842,
          10.914658936438958,
          10.884749597039667,
          11.047246979503594,
          10.953347372253376,
          11.013334126096927,
          11.13260257135793,
          11.138964958949062,
          11.053437189316913,
          10.911066600488523,
          11.109745161344676,
          11.076246826863908,
          10.939788602234199,
          10.971673454387128,
          10.988506053180874,
          11.048297181077363,
          11.021032411088509,
          11.135699041815563,
          11.083875435506217,
          10.940226526362547,
          10.931803178504817,
          10.949178185472524,
          10.916978069138263,
          10.911686009362224,
          11.014446756291758,
          10.955455324512474,
          10.885676070183143,
          11.038723541537566,
          10.916204888439307,
          10.9170284874074,
          11.034317163312481,
          10.95134512555093,
          11.00892076299332,
          11.120645589710833,
          11.032641991272584,
          11.04764654744833,
          10.972196865832718,
          11.111987689970794,
          10.979876589374836,
          11.101627608059509,
          10.982099907051568,
          10.851696543942637,
          11.149745706144898,
          10.972666749627106,
          10.985592174700793,
          10.936954351872204,
          10.97769553939229,
          11.125946510444054,
          11.108019181494814,
          10.853062397930017,
          10.924275858349981,
          10.874717124096124,
          10.87448681704726,
          11.001825094011762,
          10.940039803481065,
          10.969641949437472,
          10.9182980347109,
          10.957261270438629,
          10.856274699598545,
          11.076168011353383,
          10.860354398330783,
          10.885914869925724,
          10.878367649649457,
          11.060228387674139,
          11.046083594997167,
          11.10873484643594,
          10.926590617319976,
          10.923126617660293,
          10.928012109955832,
          11.148771802820736,
          10.988327683455813,
          11.027525863076942,
          11.032071823787673,
          10.99191963097882,
          11.075403509187403,
          11.128160829497686,
          11.067893249384769,
          11.090825079848482,
          11.140886198814817,
          10.855769435826057,
          10.852147188466258,
          11.006899955102803,
          11.135377270262484,
          11.035631777004275,
          10.856594745237093,
          10.87255530881588,
          11.867232183830648,
          12.13203672557198,
          11.981959460807948,
          11.857819480678438,
          12.146002364510654,
          11.884879797179664,
          12.109192883089982,
          11.93504880754824,
          11.877085374673081,
          12.100040778779015,
          11.952710272405813,
          12.072266896861972,
          12.126157640774322,
          12.009416170927938,
          11.89672034883286,
          12.13729237447638,
          11.911460807998164,
          11.881771407113352,
          12.009653113505367,
          12.144176818598854,
          12.101673705556392,
          11.97214745170725,
          12.033114124897644,
          11.90456659063342,
          11.937798106257661,
          11.958010370945152,
          11.862845637388613,
          11.864683854142246,
          12.086268312485394,
          12.141111002290017,
          12.039080488922966,
          12.04319673256384,
          12.091031871962494,
          12.03109855108414,
          12.072136176660193,
          11.865571205071486,
          12.117581210821369,
          11.92051712874079,
          11.859336904150487,
          11.932841508872267,
          12.139350179926556,
          12.108442509230388,
          12.14175241505869,
          11.904401694885493,
          11.884148855331444,
          12.128032214784795,
          12.06269544468861,
          11.92043304053148,
          12.099098359525776,
          11.903696135262939,
          11.913210801155149,
          11.907993910432472,
          11.943240372229623,
          12.138214042475765,
          12.006444980146783,
          11.985952372217012,
          12.13849169424726,
          12.038949525770832,
          11.881641393405346,
          11.974490971684514,
          12.053703551879114,
          12.045715637630556,
          11.860262247734656,
          12.08524181348072,
          11.862526107371366,
          12.007313286522658,
          12.06562789247809,
          11.91615488472961,
          11.962506693419499,
          11.92396325308303,
          12.115550139415936,
          12.004626825540823,
          12.054048842052252,
          12.12933895289881,
          12.132542596553268,
          12.082680328207722,
          12.071016799015643,
          11.89829902195299,
          11.970372317063646,
          12.0295384562771,
          11.99616983575408,
          12.009238608179558,
          12.028630943037586,
          11.998482284973072,
          11.986843222086083,
          12.053052831566932,
          11.907793629765866,
          11.971039062665747,
          12.051359223850508,
          11.923912466289346,
          12.018910345694106,
          11.894263709492861,
          11.901984982972964,
          12.05052275721516,
          11.933960319139784,
          12.091504926070726,
          12.10120107867143,
          12.03543454142152,
          12.084216831469917,
          11.913089977062786,
          11.874319980904158,
          12.118190070036247,
          11.851698153135189,
          12.029828621645914,
          11.953204923162408,
          12.052030673893324,
          12.082860017025341,
          11.96873668228795,
          11.889942488658411,
          12.028961205797989,
          12.045897672482392,
          12.06794698867892,
          11.98860905178951,
          12.033353458338203,
          11.88754023084494,
          11.96547867193088,
          12.110421533109028,
          11.87224102684746,
          11.851298899131047,
          12.059671277530116,
          12.014360942258433,
          12.04196449777499,
          12.00363145839127,
          11.958849621486399,
          12.02382046503381,
          11.948670532745094,
          11.966160940941558,
          12.020188031210973,
          12.080721487594587,
          12.135780867143472,
          11.979744368376261,
          12.068859685665261,
          11.99481926825207,
          11.945842778336317,
          11.85032902903647,
          12.142623682819664,
          12.058233030224946,
          12.041361608548549,
          12.072002188086076,
          11.929781976442888,
          12.05541343930839,
          12.004023717931926,
          11.968586892063525,
          11.941105564532247,
          11.925871057106338,
          11.91669396115532,
          11.93950179216294,
          11.9855793379465,
          11.898182621222848,
          12.101438394834656,
          11.959104546901603,
          11.955401642913577,
          12.027046964161752,
          12.143167475728678,
          11.955574442936063,
          12.136412870724268,
          12.097124946495088,
          11.851813563476743,
          12.121396427693092,
          11.90715556418731,
          12.109045199937091,
          12.11563061022568,
          12.124653034276445,
          11.945206878927722,
          12.082673519617217,
          12.086091598582074,
          12.000193237844552,
          11.881430779799107,
          12.013898457046608,
          12.063015505615843,
          11.913347566179054,
          11.906725928721226,
          11.877680795555781,
          12.148253855715227,
          11.9325901036071,
          11.94473446058943,
          12.05896276243098,
          11.865840530059243,
          12.095953042331846,
          11.968459665996262,
          12.028793672124587,
          11.965866441899665,
          12.051594429749732,
          11.912387146606834,
          11.977261666087019,
          12.015142643087064,
          11.864203384497708,
          11.87057762436873,
          11.993693775175142,
          12.146255599606384,
          12.069335092480863,
          12.01337285080368,
          11.8501252093328,
          12.0454196787676,
          12.017648482443727,
          12.021164145259023,
          11.875193653796016,
          12.108488826894757,
          11.95121728874686,
          11.974870744481052,
          12.031694948568141,
          12.144917849593547,
          11.852080051243895,
          12.047521854971958,
          11.893780609210856,
          12.024845571359169,
          12.093675537383605,
          12.01090973858222,
          11.950388691153337,
          12.139265113438453,
          12.099226997103232,
          12.072066574593416,
          11.99366980428685,
          12.09657473349137,
          12.046888584862392,
          12.033152599643723,
          12.032032934256504,
          11.878731150820634,
          11.96663085456732,
          12.104179187088965,
          12.100260662442693,
          11.938168049068523,
          12.14730550539744,
          12.120856490010077,
          12.012180984656073,
          11.859651529753531,
          12.022906132606384,
          11.992131505666917,
          12.053672039947068,
          11.91607972565371,
          12.068808134363161,
          12.072839500435284,
          12.091864450639823,
          12.149957599460196,
          11.936399449888476,
          11.857441694495941,
          11.85047014262187,
          11.857193394373681,
          12.147713568403914,
          11.886777265135413,
          11.909125263067125,
          11.992420989847561,
          12.063819654159824,
          12.081712279266084,
          11.88965587687672,
          11.945989927306227,
          12.025417551854805,
          12.06628657998185,
          12.10468398580457,
          12.14803043884163,
          12.11329848523832,
          11.982357167208187,
          12.069443531670455,
          11.963920119991151,
          11.939805380232624,
          12.128149092731215,
          11.888254219146994,
          12.032261714831543,
          12.122282301274355,
          11.909986585197343,
          11.957042205735197,
          11.883779515111069,
          12.001408122989648,
          12.054123498178173,
          12.04460367134592,
          11.98923594736583,
          12.031593409089732,
          11.930232332192546,
          11.902731539258356,
          12.13298003920569,
          11.861365667742618,
          11.943923174228962,
          12.062383480938257,
          11.980411571794866,
          12.12102909170019,
          12.050797024425709,
          12.08041914982669,
          12.11862650188968,
          12.122300968934509,
          11.879290425896388,
          11.985836318309095,
          12.099558440424778,
          12.059473010635013,
          12.029808480850182,
          12.026547475354809,
          12.112540920937127,
          11.886331674080003,
          12.015102337156327,
          12.018434100386319,
          12.13933835987906,
          12.041052772953636,
          11.900109248846132,
          11.862080250642977,
          12.114630618904613,
          12.06038833304346,
          11.941886542517631,
          11.954938802532503,
          11.872904415247493,
          11.988211839422219,
          11.919835315159185,
          11.979981560298611,
          12.123032902961853,
          12.043903666671355,
          11.931402952424422,
          12.146183125606065,
          12.109998845531498,
          12.079063233951533,
          11.901793516492601,
          11.936427578391273,
          12.05447671636176,
          12.071424357153479,
          12.066173921996091,
          11.856749912845912,
          12.109873641338872,
          11.965663884603945,
          12.8807319446252,
          13.143168500356243,
          13.038590324313844,
          13.034588591890618,
          12.910956207374332,
          12.896656202315087,
          13.041923640656995,
          13.005844484416578,
          12.950169045417212,
          13.08161171795686,
          13.090629890315029,
          12.891649038283889,
          12.858731197954173,
          12.990746359033164,
          13.077691632489456,
          13.100780005457898,
          12.944517314003534,
          13.06349547451292,
          13.142162508039656,
          13.046549852812714,
          13.093858521770779,
          13.018179853717353,
          12.874839004667129,
          13.06072717789564,
          13.127113057655222,
          13.138485689733459,
          12.89072848080512,
          13.144559675979732,
          13.143653076996896,
          12.924698115610349,
          13.05102218187646,
          13.112968958555264,
          12.915357846276715,
          13.057692695580155,
          13.007329965664423,
          13.138026653107401,
          12.85673295271291,
          13.10825204447258,
          13.10473466140969,
          12.87949689534497,
          13.05506580468985,
          13.068763786676742,
          13.108628225104702,
          12.972643421012412,
          12.933820412789448,
          12.988845504349039,
          12.881433347429471,
          12.958000592675054,
          13.11076111313191,
          13.014635951418398,
          13.10375280681197,
          13.136851765905964,
          13.09684644667469,
          12.983710714228312,
          12.851634013052916,
          12.888225292646464,
          13.05469354756481,
          12.888476751732997,
          13.134894179686357,
          12.879219846719616,
          13.062288107437656,
          12.872914048840318,
          12.950655620582008,
          12.999918255493998,
          12.999795130037178,
          13.041741845994341,
          13.023687961026056,
          12.897103496630738,
          13.030462758345372,
          12.98737534961645,
          12.85761336359251,
          13.072448925833841,
          12.893497792626468,
          12.8782485977817,
          13.101353720029731,
          12.89429088258359,
          13.000523899271675,
          13.063728823568615,
          13.095611710561682,
          13.030542671172338,
          12.930360076573331,
          12.968590761803782,
          13.120771821207176,
          13.002651458999509,
          12.949206997473043,
          13.060350663701923,
          12.952453689561317,
          13.131244576038021,
          12.865216278833191,
          12.873348351251924,
          13.123521187266961,
          12.865311336352123,
          13.087002439129039,
          13.083689428638138,
          12.946278476624153,
          12.961819143724517,
          13.042394088610203,
          12.8816936197429,
          12.912698891942469,
          12.916910164011142,
          13.075917517379901,
          13.1477272117636,
          12.975401275671697,
          12.943524877582096,
          12.973116612404429,
          12.945709061419658,
          12.990945799123383,
          13.094169385825852,
          13.043345379358202,
          12.935675405731343,
          12.8908653420733,
          12.950880592124955,
          13.05848323784158,
          12.860876054264411,
          13.013154545816674,
          12.855293533459557,
          13.009218476635787,
          12.888970161230217,
          12.937515483829374,
          13.014458266734364,
          12.915876941530069,
          13.016404748918397,
          13.024084709584214,
          13.147590349995756,
          12.948687177771586,
          13.08509521551928,
          13.072225064164664,
          12.92565928565406,
          13.052453001655957,
          12.85212448346919,
          12.963239593827256,
          13.081610591032716,
          13.103924853759157,
          12.914377144688412,
          12.984489107260114,
          12.85846996665394,
          13.101958342322066,
          12.880062125368944,
          13.077655443071288,
          12.861542384110619,
          12.896626787589192,
          13.073432969208598,
          12.938980809787013,
          12.949176230419047,
          12.871275908656356,
          12.896936389708156,
          13.101577925450789,
          12.916140716822623,
          13.148969787578272,
          13.08675377700495,
          13.079604422879278,
          12.897846379924578,
          12.858126897726406,
          12.941341274413219,
          13.11077208669448,
          13.107615125754148,
          13.117219584457965,
          13.047540045912845,
          13.128457205310307,
          12.91872492679066,
          13.127293209109006,
          12.890478512580339,
          12.937151449807653,
          13.02009058268241,
          12.960946712451928,
          13.005201867342292,
          12.853172741437287,
          13.141660482851682,
          12.952841959066133,
          13.098446534722454,
          12.871192994333818,
          13.025393086781287,
          12.944989554381761,
          12.922772308824301,
          12.906965859219667,
          12.931941723675699,
          12.988003760133665,
          13.076521454830395,
          13.033982381460104,
          13.12973038524497,
          12.911609790017208,
          13.062194674499512,
          12.86827529467234,
          12.865579161645174,
          13.0854175152173,
          13.119148175330052,
          13.040524860096554,
          13.123841808789772,
          13.025554530858269,
          13.13849579237601,
          12.899102165752815,
          13.002297191662565,
          12.852848434848267,
          13.068114944538213,
          12.89466064844947,
          13.074348269979225,
          13.090959260636927,
          13.04053284833491,
          12.94792220607552,
          12.898520364732258,
          12.860010993736433,
          13.03527791677837,
          12.85537940613226,
          12.916079567391918,
          13.12109247888629,
          13.136734994547693,
          13.073807567315372,
          12.905157107768447,
          12.925966540905309,
          12.983747729636237,
          12.90000319220237,
          12.85940692434257,
          13.078371851966047,
          13.000460257137252,
          13.03966401016125,
          13.01739065107258,
          13.08104459476232,
          13.07692227176393,
          13.122775661356119,
          12.942646295172741,
          13.015719380396897,
          13.14748752545415,
          12.964826292769947,
          12.963767654219323,
          12.896828643406234,
          12.883405824008893,
          12.891489044873474,
          12.984974329063766,
          13.016077681429358,
          12.962338731543747,
          13.07675268871289,
          13.01360105394653,
          12.876108106564287,
          13.097977075131688,
          12.918463795940655,
          13.13071998445812,
          13.11838477010685,
          13.025627269205783,
          12.86080672649059,
          13.145906708547411,
          13.146511662597023,
          12.91620567932699,
          12.87122886407668,
          12.880518425488592,
          12.926579724398284,
          12.986065355260893,
          12.933355689425236,
          13.05372307315945,
          12.850421000891428,
          12.961903158963999,
          12.882151080895433,
          12.920819786465499,
          13.149792196362128,
          13.055880243598594,
          12.936824999048998,
          12.966294383312905,
          13.04950564509806,
          13.110841321266166,
          12.908787123313699,
          12.931340215368914,
          12.951539105425843,
          13.049611425386848,
          12.889920469427635,
          13.051959928932424,
          12.930462806118914,
          13.093334846065606,
          13.061220459217637,
          13.107844771880728,
          12.986929492213392,
          12.899860180632615,
          12.945638226022714,
          13.010652738837825,
          13.12648746881028,
          13.048809086294611,
          12.941396631234733,
          12.883611959880128,
          13.09079739380859,
          13.096196698311184,
          12.889402658260192,
          13.054039937386806,
          12.979259867683352,
          12.869741466003628,
          12.915949253753812,
          12.929103483474575,
          13.096182927525424,
          13.048761168422422,
          12.900486823444222,
          12.997452308381947,
          12.984737072295106,
          13.085755315468353,
          13.056451354261299,
          13.117678537494987,
          13.009799091896415,
          12.897420640613941,
          12.85381354729676,
          12.868840878201858,
          12.891415749401219,
          12.91382731298879,
          12.955027002604169,
          13.024402081152507,
          12.863433650245442,
          13.087668439078614,
          12.854143876191761,
          13.076038784943506,
          13.147147617171578,
          13.131101289882771,
          13.081617398393952,
          14.124380732513863,
          14.106925049255597,
          14.134186210352745,
          14.14651986310914,
          13.971482114984653,
          13.923814264802994,
          13.971751142779336,
          13.95502560010156,
          14.002477734464595,
          14.032629301795625,
          14.096098220081016,
          14.111863583473655,
          14.014285013976732,
          13.90904987723007,
          14.006585941211787,
          13.964141576652654,
          13.878233740543784,
          14.092404018245388,
          13.884624429454881,
          14.99247249493243,
          14.962468835191899,
          15.101804995275444,
          15.08130408101188,
          15.049519142552116,
          15.149174225121538,
          14.994349944039579,
          15.107531351778857,
          15.146073330344878,
          15.119059780631872,
          15.13454156330049,
          14.981528001811729,
          15.055150808669786,
          15.061838182799244,
          14.98435253647199,
          14.860001124389795,
          15.018516686971235,
          15.07814717822827,
          14.932057198967845,
          14.936266901101561,
          15.045271587112271,
          14.991200979442452,
          14.922709753362582,
          14.962263983882965,
          15.042740350994558,
          15.04110922997314,
          15.132302188305063,
          15.01151489124037,
          15.080882803826338,
          14.939876427315482,
          14.905002900274123,
          15.014558472927597,
          15.030520820162467,
          14.950547383248402,
          15.054435312348097,
          14.915824036465699,
          15.014793103998507,
          15.102681717567837,
          15.000841787213572,
          14.859411931762596,
          14.91002530324053,
          15.122462023148291,
          14.877944915719324,
          14.903070151719927,
          15.061139781254996,
          15.072775431135918,
          14.850705277973756,
          14.944955681097548,
          15.032725611844999,
          15.057765316191306,
          14.923392624483858,
          15.015158388728663,
          14.914262302359893,
          14.907562217103038,
          15.05013360660755,
          15.07563947255104,
          15.025064907445941,
          15.110957002088794,
          14.864913182719947,
          14.876799812834415,
          14.961708034314988,
          15.113749529146489,
          15.114400714375792,
          14.99472937546304,
          14.92874763261389,
          15.086157694624777,
          14.851413639522578,
          15.12378900109673,
          14.989687149221798,
          14.936501884908063,
          14.938305739651357,
          14.866045384836477,
          15.069271198666566,
          15.049239409339371,
          14.956122547439554,
          15.068435329598389,
          15.035002602548266,
          14.930631653943568,
          15.072569525653668,
          14.948267145155508,
          15.06245064509801,
          15.137948493009635,
          15.074886049026414,
          15.118524024705325,
          15.148734561356477,
          15.11467808250985,
          15.09965410301571,
          14.94106233936508,
          15.016866399759312,
          15.015713127755834,
          14.961375403745722,
          15.046171261895992,
          15.043874159239436,
          15.026693782186788,
          15.003139527645164,
          14.997278050344548,
          15.149061787948817,
          14.865800956302225,
          14.914178223748154,
          14.864579171675492,
          15.014584122150747,
          15.147876077927805,
          15.08257554364678,
          15.072914744405953,
          14.945367508869657,
          15.149380447452206,
          14.881251332905876,
          15.040994229957894,
          14.964581303696134,
          15.140031089971364,
          14.890272287024803,
          15.078313407801208,
          14.925351408724755,
          15.07177088245548,
          16.066043068376075,
          15.971416126391183,
          16.042349331075513,
          16.11047405515041,
          15.856786783592698,
          15.96176072058452,
          16.116939598467823,
          16.069526339514848,
          16.037674792447895,
          15.968280988967194,
          15.90114645055716,
          16.079640795651095,
          16.08191166629667,
          16.053220116428488,
          15.986135062990387,
          15.937661907847268,
          16.12657979623694,
          16.148585460953484,
          15.864456109494991,
          16.126995452757303,
          16.00375616093661,
          16.008235746102706,
          15.90320446625711,
          15.956898637621416,
          15.895470238345293,
          16.02737874313412,
          16.013895933710337,
          16.06279721707008,
          15.900038903482972,
          16.017539511750563,
          15.981655809104875,
          16.03801752386454,
          16.045265334458918,
          16.1106015865696,
          15.910156767677117,
          15.89582919035319,
          16.01382486638754,
          15.971242946288319,
          16.03593431759264,
          15.991883983780824,
          15.856413212155397,
          15.883214719091903,
          16.08189630462976,
          16.040154877438628,
          15.958903094041919,
          16.0929566203121,
          15.914836717980386,
          15.86526761458551,
          16.08863145982639,
          16.017961337368,
          16.123212027343882,
          15.950638837857909,
          16.075451804346052,
          16.036686496423222,
          16.002906724918574,
          15.941386024696607,
          16.096518974830182,
          16.091471804792988,
          15.945452649540746,
          16.053762278462916,
          16.02202596776684,
          15.858230557144662,
          16.012731022286513,
          16.10208695765799,
          16.057609953920437,
          15.925638875816714,
          15.879904877966366,
          16.042592146487692,
          15.908394845983903,
          15.932486888854811,
          15.987055287484807,
          15.872528505856973,
          15.883882033572087,
          15.977925750694396,
          15.905752647889171,
          15.980858199473014,
          16.052717152767645,
          16.00550472532137,
          15.907813579054201,
          16.078594416790878,
          16.069962349457736,
          15.995641071169564,
          15.855761245621359,
          15.885520141207039,
          16.073983536071843,
          16.134307720867383,
          15.950237557104469,
          15.97769350117241,
          15.975843050589324,
          15.88714307827298,
          16.097014971927095,
          15.88012685923612,
          15.900411217501693,
          16.124545877622765,
          16.147997433246648,
          15.909465259249298,
          16.132716960097643,
          15.85394511342271,
          16.00619671115417,
          15.860394636056903,
          15.852599465035762,
          16.06057829795753,
          16.064681344439304,
          16.106428338133917,
          16.047795537057837,
          16.9831158251585,
          16.969245960954986,
          17.04436899371285,
          17.099587006612303,
          16.901920919375033,
          17.017039753972483,
          16.959276519773198,
          16.933347682425055,
          17.051913336093897,
          17.021732702712644,
          16.986998654556103,
          17.140108729398413,
          16.90965065616452,
          17.09395648336676,
          16.858686791384823,
          17.142223933443415,
          17.09394200584032,
          17.015653203177777,
          17.09950117956334,
          16.876230861310667,
          17.039976266533465,
          16.88094177669986,
          16.972168166146616,
          17.05280930879312,
          16.98640628377993,
          16.907612227457438,
          17.006523702065827,
          16.984069842587566,
          16.852636749405065,
          17.022512236794228,
          17.099453505446533,
          17.136595348768743,
          16.919348887733374,
          16.99584968037829,
          17.064357307442602,
          16.912121934204837,
          17.11098529771707,
          17.014117649196287,
          16.962085932403884,
          16.93998482021358,
          17.048708708475697,
          16.867457456383995,
          17.01036394051395,
          16.881168538490435,
          17.06898924708494,
          17.14084135448514,
          17.076761751228958,
          17.095282956272204,
          16.88362712383285,
          17.0240432203644,
          17.096610671264482,
          16.93055306137904,
          17.057363978891072,
          17.038720109792514,
          17.009394529887953,
          16.96520492643258,
          16.965252982554333,
          16.9168811346423,
          17.093288098885854,
          16.940747719687288,
          16.863787327419075,
          16.9075713742924,
          17.08257617378983,
          16.927739160876275,
          16.97463956142933,
          17.107754459390684,
          16.989956043143824,
          17.12337989504908,
          16.93892784404512,
          17.087979107422935,
          16.99687025324261,
          17.101296780943894,
          17.126531657892702,
          16.93433161776302,
          17.129070358989253,
          16.93646275413006,
          17.01451627816339,
          16.887892611730372,
          16.866199092036243,
          16.989667143256824,
          16.876347454373594,
          16.88538378147545,
          17.090094856650293,
          16.861641098607176,
          16.858205634702507,
          16.962401644320504,
          16.938010427851662,
          16.898612847700715,
          16.869160961277615,
          17.012940227104494,
          17.054407287505953,
          16.980024401553777,
          17.051312083989515,
          16.91620890298149,
          17.018348895961125,
          17.101104452667492,
          16.879989446671072,
          17.021402641460323,
          16.98842065804327,
          17.104247888236795,
          17.081257677715133,
          16.98085000495745,
          16.977458903934377,
          16.9499714622481,
          17.072479929958625,
          17.03862854232165,
          16.93211026683544,
          17.00160032821237,
          16.901278073121247,
          17.066563157324254,
          17.0552030494767,
          17.016696572698667,
          16.888324654065798,
          17.057881169956648,
          16.94264533509687,
          16.920860965839065,
          16.870123705938944,
          17.123629943944753,
          17.04608906280929,
          16.990086558322734,
          17.144495864829764,
          17.100409065600935,
          17.148830791684137,
          16.895673481672507,
          16.90969423863683,
          16.92006373407514,
          17.121601037343794,
          17.067007222309254,
          17.00367434521316,
          17.107696478669734,
          17.13886155185037,
          17.05516424230365,
          16.97335944088715,
          17.049552624039073,
          16.993576832525672,
          16.943035091641985,
          17.092325580712387,
          17.086117122950284,
          17.007898875070715,
          16.9496682917071,
          17.018407282318808,
          17.024297133011732,
          16.85043525713347,
          17.06244862980768,
          17.023027307899333,
          16.862229783653554,
          17.023939992899557,
          17.082793530610353,
          17.042280771826398,
          16.912394835148387,
          16.929922895362722,
          16.88076954413948,
          17.109959387348233,
          17.063079595533527,
          16.969842581182593,
          17.00879487319738,
          16.88536769821679,
          16.97405563510658,
          17.14577480318907,
          16.862808716455206,
          17.060780730533704,
          17.147646316854217,
          16.89503254728531,
          17.007171964499936,
          17.12219949120028,
          17.040278642643393,
          16.913191569989785,
          17.1228160388192,
          16.862724491836694,
          16.98639334974647,
          16.90535038111025,
          16.888486479440548,
          17.04276698400716,
          17.093868861117745,
          17.116761005786124,
          16.915782585414522,
          17.006783785367325,
          16.941150772670508,
          16.85159856424518,
          17.09704708448797,
          16.975192492041977,
          16.908739488405512,
          17.05838897823803,
          16.991701590899797,
          17.034683037020322,
          17.048048423142617,
          17.139141741687155,
          17.097313578734898,
          17.13356147746417,
          16.995785900773424,
          16.852183034708002,
          16.97484188486883,
          17.01745369044815,
          16.95035468958913,
          17.14331871784098,
          17.13587588765714,
          16.984350296754197,
          16.95736062530138,
          17.073349314945304,
          16.95606429629639,
          17.0885394620956,
          16.914490602460077,
          17.013568836083586,
          17.02387233086038,
          17.05881906301081,
          16.947941213677733,
          16.95617956367622,
          16.855420984640418,
          16.858383734493493,
          17.035527024843383,
          16.862978991077746,
          17.063912923982617,
          16.903789537526883,
          17.049282212015754,
          17.014298907167316,
          16.96562245568825,
          17.034267734973245,
          17.088659681918465,
          17.020431081884695,
          17.022220830780093,
          17.100708458536804,
          17.149162814719645,
          16.924441290114988,
          16.873404726937697,
          17.005310019836216,
          16.983515276998894,
          17.027282209495375,
          16.896970404886318,
          16.969279069478976,
          17.03308454602622,
          16.862303567310313,
          17.048449262216895,
          17.048220876924237,
          16.91564740679128,
          17.025434035268677,
          16.925994896362457,
          17.055170210104563,
          16.923406641361456,
          16.951201086522325,
          17.13749871778268,
          16.88975888094843,
          16.967407940268025,
          16.908871234401214,
          16.85269084610389,
          16.951695877600287,
          17.017299316443083,
          16.9060966101831,
          16.94261060852964,
          17.053865375933086,
          17.951676395893667,
          17.912210643003462,
          17.92017535002146,
          17.86270760448181,
          18.115055531792642,
          18.11107748883964,
          18.10904802459744,
          17.975310292353605,
          18.082273488447715,
          17.936926529185676,
          18.073618046868518,
          17.88769289102635,
          18.107455811062277,
          17.873333932285114,
          18.039269953247647,
          17.946575218883897,
          18.1043669703033,
          17.941800876329577,
          18.105411778920327,
          17.928192282751887,
          17.90847894289296,
          17.897891605115596,
          17.86518587271825,
          17.86596023108364,
          18.14083607094699,
          18.039730501509016,
          18.037661618523867,
          18.061023803654255,
          18.135830533840146,
          17.94671122947658,
          17.869216444976907,
          18.043417443832027,
          18.13860904693189,
          17.89711147930789,
          18.045327183492194,
          18.03529914404867,
          18.12111373066825,
          18.07874603012364,
          18.117220068573953,
          17.987229746445546,
          18.045905609131612,
          18.09639703919222,
          17.952737190964736,
          18.04420757344481,
          18.117682912567606,
          18.127056120500082,
          18.075750182536567,
          17.91907097823841,
          17.88718327882926,
          18.075581669271124,
          17.97526996549707,
          18.026732046703668,
          18.07246166094452,
          18.044930623558596,
          17.899600516389658,
          17.94451011038589,
          18.106980045373632,
          17.914282777736737,
          18.014980132099737,
          18.072092833443463,
          17.89588267857358,
          18.079893672448897,
          18.11659836568631,
          18.068822841965794,
          17.90916297743895,
          18.09018200755073,
          17.901790761870018,
          17.884085911697124,
          17.915012024551096,
          17.921775313817697,
          18.122539419270222,
          17.962621071328424,
          18.106238691954953,
          18.066313731793027,
          17.924431706864883,
          17.991522385685798,
          18.082949138255366,
          18.11441158441102,
          18.122431533991044,
          18.043261497206327,
          17.926755761431416,
          17.948332207625832,
          17.933359126284177,
          18.046978692613255,
          17.92717330362481,
          17.944845732408165,
          18.04120357318519,
          17.98392748133207,
          17.97338138815477,
          17.872976313167573,
          18.10029336741194,
          18.037647522152042,
          17.891229037253737,
          17.933519606029712,
          17.969095414891036,
          17.937904916099004,
          17.953125776976297,
          17.969997385489734,
          17.913989205722153,
          18.084350927627586,
          18.021896740718063,
          17.921235524524885,
          17.935242354434163,
          18.08888281355837,
          18.083324274924333,
          18.07226086686318,
          17.933374810278057,
          17.93220973204889,
          17.9702788323278,
          17.983139430894607,
          17.96715211437577,
          18.136500051605832,
          17.925107250458815,
          17.890479067439983,
          17.888401091631703,
          18.024230787932616,
          18.014517060888085,
          18.076647099594616,
          18.052761360981695,
          17.912164844899884,
          18.072064611845175,
          18.07134360625937,
          18.060476141191323,
          17.98210659213521,
          18.13302444083154,
          17.992948808691946,
          18.0365481023266,
          17.892237242491355,
          17.884141883018916,
          18.018832791150427,
          17.978526679519554,
          18.06233667584971,
          17.989833788665166,
          17.96661478818696,
          18.148856064262375,
          17.928882085670462,
          17.8726589406352,
          17.92873088568164,
          17.918189311583063,
          17.866822764941208,
          17.900633000142864,
          18.01344000057765,
          17.864252614367047,
          17.921650436799727,
          17.9342286289254,
          18.12007573641888,
          17.952434449068942,
          17.96137984426717,
          17.949853316151692,
          17.96377515787975,
          18.064049736532002,
          17.98279261305912,
          17.901061254117852,
          17.867930699374185,
          18.079186384897053,
          18.113092720640207,
          18.138288816424406,
          17.9779535162824,
          17.940358714095602,
          18.13386899531258,
          17.885140254021785,
          17.949883384896886,
          18.029164208144156,
          18.044758834473704,
          18.05205829520799,
          17.96385742898406,
          18.04543306760686,
          17.864382069589112,
          18.043605619924303,
          17.949661150339395,
          18.00528953218208,
          17.972553866969196,
          18.078134382458472,
          17.852310525824983,
          18.00827074317516,
          18.026445123230708,
          18.039264736447418,
          17.90760048076838,
          17.88003464240486,
          18.021512628664972,
          17.88279957715814,
          17.900449421527977,
          17.905133504886084,
          17.91466644567844,
          18.14834307025877,
          18.091828779947118,
          17.88704770084623,
          17.94495776242969,
          18.103133488477585,
          17.99750000489329,
          17.995614094322367,
          18.021023318503357,
          18.074632290501,
          17.94200273621871,
          18.04328620509008,
          17.95405453013852,
          18.00920440504072,
          17.962737219575253,
          17.9888700960664,
          17.871485305074224,
          17.911884337387082,
          18.029373577393176,
          18.144565507685634,
          18.03401423577639,
          17.870758120512082,
          17.9953680119179,
          17.877925798276372,
          17.910994369929107,
          17.98195924257759,
          18.06167963397157,
          19.11317753384178,
          18.853672347874046,
          18.99623233916244,
          18.968360115807705,
          18.89784131425613,
          19.111490576580508,
          18.990441556021995,
          18.864797518690466,
          18.883186721543588,
          19.06335840969134,
          19.10042479871622,
          19.108975149163193,
          18.942052969067856,
          19.135403382299323,
          19.046330867431607,
          19.123021782485704,
          19.025784248669478,
          18.903608782734445,
          18.884182547548082,
          18.892166498196513,
          19.09901002282925,
          19.04662708991176,
          18.96610065296611,
          19.05666929413904,
          18.952593490139453,
          19.02724917850202,
          19.085720447994508,
          18.997115035295863,
          18.949443901967143,
          18.91612353143677,
          18.89649311971232,
          19.07298108308344,
          18.913010436803027,
          19.127675129807663,
          18.970796410866434,
          18.93357297631227,
          19.005488535902423,
          19.082672183957317,
          18.970864365268024,
          19.120465489420283,
          18.941110306419052,
          19.100957193998127,
          19.0485796572213,
          19.028224254456692,
          19.113911507302905,
          18.88569927742354,
          18.86015688563663,
          19.0176653774215,
          19.11184325196502,
          19.061516491374856,
          19.020816179171636,
          18.935913743908188,
          19.141935897962057,
          18.934713013046007,
          19.014058797520427,
          18.993588521521605,
          19.135200837294832,
          18.966089855910365,
          19.092552554251146,
          18.926498475398425,
          18.87848223719233,
          18.93913121174156,
          19.03911740217555,
          18.986000010517227,
          18.994504903142268,
          19.021281180190538,
          18.953526858253205,
          19.041392041266597,
          18.86724763019311,
          18.961566571786452,
          19.001300113939553,
          18.886102646257257,
          19.015852756743257,
          18.977047527862545,
          18.862187298432648,
          19.111666060603227,
          18.953381574479664,
          19.083664395830656,
          19.01148735761475,
          18.856227917623105,
          18.99328772880518,
          18.933317338182153,
          19.022996171520568,
          19.00759028105122,
          19.019246077592264,
          18.883317486804525,
          19.032506697419375,
          18.926583899296567,
          18.967887390598055,
          18.91231142357754,
          18.883535649586545,
          18.935320536873782,
          19.10092107862359,
          18.874146057864376,
          19.06511015538115,
          18.91285646032736,
          18.85646947378484,
          18.989013072604717,
          18.970265931874227,
          18.87481145455832,
          18.88458776550845,
          19.11471521948306,
          18.939486933426252,
          19.089367184162583,
          19.053981547298445,
          18.978511013337112,
          19.126492728979457,
          18.98709360871565,
          18.932251992117994,
          18.92124963025148,
          19.111110549660385,
          18.87549490143297,
          19.14454061098593,
          18.91835509471232,
          19.053675541038753,
          18.99629786567626,
          18.986128129728456,
          19.041762331507215,
          19.0190583255343,
          19.140654398880407,
          18.941005946446797,
          19.13334050139263,
          19.002893012873713,
          18.88364095375821,
          19.054740638508008,
          18.960188733217823,
          19.0011930286914,
          19.061508350512483,
          18.887180086640324,
          18.994738670980627,
          19.103155005773104,
          19.078466423556492,
          19.11798315781897,
          18.99710351760329,
          19.032132763110106,
          19.0290274642199,
          19.036451517439147,
          18.890199461347986,
          19.024903938807476,
          19.01206249677849,
          19.084613487233355,
          18.97848723251467,
          19.148097949643,
          19.012706617050895,
          18.990973565030064,
          19.034662270209818,
          18.855562699315406,
          19.005750621898265,
          18.960630883986532,
          19.020377912483145,
          19.07369639365254,
          19.002164465211766,
          19.070606994886873,
          18.89384871102064,
          18.908742115536537,
          18.92817424006,
          19.10778457382504,
          19.05518350771831,
          18.882021778610753,
          18.92859056378548,
          18.99469189903883,
          18.984494209718935,
          19.062355541814863,
          18.862054854098766,
          19.11016279184463,
          19.02021871706812,
          19.106210804645563,
          18.857122512143555,
          18.976997720122814,
          18.89980101255181,
          19.130496893291415,
          19.08177363376334,
          18.860211288603864,
          19.13793404140291,
          20.128884574479173,
          20.07011864682262,
          19.98598301346365,
          19.97755204720541,
          20.071768430389433,
          20.091612779158577,
          20.072091404405764,
          20.004506134192038,
          20.114377003571047,
          19.854276990547454,
          20.142260259913016,
          20.13843025332686,
          19.96759466203702,
          20.046183137533443,
          20.081211108196285,
          20.139366671467002,
          19.902210784208673,
          20.12438043830562,
          20.035629634985387,
          20.115686522645937,
          20.13095919447041,
          20.134573774873857,
          19.946507954179083,
          20.079483280723277,
          20.021552400759777,
          20.078021074109614,
          20.062631229334286,
          20.14345494524471,
          20.016852721772647,
          19.938094668013594,
          19.923672509323936,
          19.874135530418762,
          20.127325250221666,
          20.13612636154613,
          20.090879122022816,
          20.045520586584967,
          19.871104828748166,
          20.044139881366657,
          20.075850356972243,
          20.04508044033473,
          19.935419014587577,
          19.90765140218681,
          19.94673159471549,
          20.042784352056152,
          19.87310530568336,
          20.06963579731924,
          20.009625902748194,
          19.867764593039585,
          19.968103624024614,
          19.945349585934558,
          20.049280246761775,
          19.927691495374166,
          20.059374047445637,
          19.91589951103232,
          19.99788401242011,
          19.89615146514632,
          19.950332093766278,
          19.949730952947917,
          20.10338664909903,
          19.881280740096464,
          19.87386610024795,
          19.973496835281086,
          20.027783915396565,
          20.097300071637434,
          19.997562214716723,
          19.928360319572594,
          19.964492237209598,
          20.07258019315648,
          20.113673316985444,
          19.870810327736578,
          20.01328418876838,
          20.027280282163016,
          19.925596096412402,
          19.898693254438648,
          20.145045062649203,
          20.135057865664013,
          20.04517314402599,
          19.923151569443927,
          20.034822518860476,
          19.978726037372926,
          19.887460136184004,
          20.043575356749965,
          20.121983169711235,
          19.923450726402947,
          19.858293913794682,
          20.135123551297834,
          19.924865694259143,
          20.086582108163636,
          20.09197599288255,
          20.073322973545075,
          19.970671369505954,
          20.10592953652501,
          19.992345654303318,
          19.90179990687399,
          20.095445421679432,
          20.038941952489825,
          20.134178699989416,
          19.87701851618564,
          20.078153050843397,
          20.119114478460297,
          19.975531474652282,
          20.096175595774053,
          19.938762685117975,
          19.85811412303725,
          20.1425363812486,
          19.907133839555303,
          19.85273735082437,
          20.120117128448484,
          20.000670956161894,
          19.983049496664485,
          19.918523385276046,
          19.918448111627587,
          20.137031860960892,
          19.962146700403515,
          20.10862110096936,
          20.11891656886847,
          20.12496654524329,
          19.946588828613894,
          19.904813461808956,
          19.925980271421317,
          19.85926617095293,
          20.042918655827375,
          19.913034262662947,
          20.12941180095426,
          19.917790169538137,
          20.14860433953672,
          20.13384694856891,
          19.901475984194004,
          20.049199189523737,
          20.028668238488223,
          20.05271251067761,
          20.09375067581638,
          20.120449307216237,
          19.916160993971797,
          20.144031545432295,
          19.95261517826354,
          19.908292861649997,
          19.867699010158656,
          20.027595894064948,
          19.926713715947244,
          20.00511318914968,
          20.084792372508456,
          19.943660019292885,
          20.048376252996,
          19.910584595277005,
          20.135614630772654,
          19.945754242783835,
          20.041523737982214,
          19.85199361518673,
          20.097251875473024,
          20.00593619781776,
          20.141579572817943,
          19.98141468205867,
          20.01865909725766,
          19.915233814297142,
          20.097149701520895,
          19.943743306826878,
          20.094861161262564,
          19.87526086858301,
          20.118235597325235,
          19.93991031219466,
          20.010261817031946,
          19.986346800956436,
          19.891279233532906,
          19.9739524144619,
          20.06016662156822,
          20.039591430758428,
          19.9341801886471,
          20.08683777505973,
          20.08372631531791,
          20.00211742411906,
          19.852283617004304,
          19.994445863204312,
          19.989016373738068,
          19.85607832796483,
          19.921441900518843,
          20.041958199958998,
          20.097071184647827,
          19.924255149156743,
          19.884742738120813,
          20.001927060443073,
          19.88308370150523,
          19.996834399032707,
          20.078765093901744,
          20.024827661916945,
          19.91065298903292,
          20.103135844613142,
          20.098230667007144,
          19.86107384776023,
          20.03498032121436,
          19.856982438548926,
          19.937891216671837,
          21.137497922241085,
          20.91207835950158,
          20.865885474752492,
          20.878513554937104,
          20.858730462111318,
          20.886318059458656,
          21.027472176586937,
          21.083702821249787,
          21.008338594810166,
          20.90747059723302,
          21.131002528282046,
          20.90148629781904,
          20.874285691780976,
          20.953294240969,
          21.13536936422689,
          20.870354477925215,
          21.100300553552472,
          21.089001838382973,
          21.089911791093012,
          20.904055928618288,
          21.00096217472203,
          20.98435766564296,
          21.06915062867855,
          20.90833986047024,
          20.939398340135153,
          20.90828843902144,
          20.922188029637685,
          20.905605530540843,
          20.97894651354743,
          20.98724605927897,
          20.922657413811052,
          21.005995879201034,
          21.08188451668553,
          20.859895107315133,
          20.854811469448876,
          20.995172836782302,
          21.03913769774557,
          20.887065004772854,
          21.11392534174873,
          20.95627242700089,
          20.98234544560087,
          21.040485902715353,
          20.896436297154146,
          20.906364290266303,
          20.976641747872286,
          21.129038144943273,
          20.91005314266198
         ],
         "xaxis": "x",
         "y": [
          -4.001108661704876,
          -4.864204366341882,
          -6.0630037489156186,
          -4.0513036934241295,
          -5.051861382173211,
          -4.034670818630552,
          -4.875293052925065,
          -3.984294236356771,
          -3.967062957719433,
          -4.941040449367169,
          -4.097365558488319,
          -4.039807397823292,
          -5.122516788837666,
          -4.143289653411348,
          -3.8857790046019076,
          -4.090191327496314,
          -3.917629540725898,
          -5.07054392983896,
          -5.893601418673327,
          -6.978217226504229,
          -5.894479669262724,
          -6.965102440961275,
          -7.06493183878421,
          -4.051739159482269,
          -1.945055548091455,
          -3.978979063344687,
          -6.884355826966426,
          -5.956876380825455,
          -6.131574001959458,
          -5.895826336892338,
          -7.147640503326053,
          -7.148164676879229,
          -4.143529116692218,
          -3.0863301281648114,
          -1.8870968590253523,
          -4.139626365352374,
          -3.040861418352667,
          -2.89948546551305,
          -3.9893101384175496,
          -4.937585169679524,
          -4.8651808919026145,
          -3.9481110167217435,
          -5.142879006476688,
          -5.024822258615483,
          -4.010549847582426,
          -5.133761346692804,
          -7.087583455169947,
          -7.021079857878366,
          -7.008369835434815,
          -7.067893658892573,
          -6.925773326959372,
          -6.95823363349115,
          -6.883398752398889,
          -7.05705134256027,
          -5.894028648141278,
          -7.108929208604133,
          -7.136536790266075,
          -7.019493526135953,
          -4.929548231574936,
          -2.9660719168176355,
          -2.902066651661925,
          -2.9282180675722103,
          -2.9006344496838117,
          -6.08811067497133,
          -4.066056483224647,
          2.0405836083172857,
          1.0969857380220995,
          0.04483867656287244,
          -5.071603063999467,
          -1.996542157554723,
          -5.129893778044663,
          -2.958579260995917,
          -3.0075686731963973,
          -0.06356789540039703,
          -5.8685357397088485,
          -5.110534242653306,
          -3.1254172879433457,
          -1.910412367205748,
          -2.117430025456762,
          -1.9705978274988996,
          0.04038032047411802,
          -0.11325511419727362,
          -0.02352255634454198,
          0.06111374425232852,
          -0.04566494249717623,
          -1.9957155335641852,
          0.01883487049901128,
          -0.12829261158542313,
          -0.0810771011858057,
          -0.03161424830336598,
          0.057450121397430914,
          -0.04095738699378089,
          0.1218376149696406,
          -0.10738158940838446,
          -0.025256415857100284,
          -0.04380253862207413,
          -0.09736712866679692,
          0.07834153049768236,
          -1.9921797200310136,
          -0.12925737168963386,
          -1.9211221840969084,
          -3.118593993049596,
          -1.084291327717799,
          -1.0440016300198394,
          0.008403350308927332,
          -1.9270988926757977,
          -2.064186285808047,
          -0.9917779642651303,
          -1.1390265725092743,
          -2.0603885490825773,
          -1.8737620295767947,
          -2.0589437427186996,
          -1.9536216230685963,
          -1.927032559442044,
          -1.8701076343241292,
          -2.022634488146558,
          -1.117540088908441,
          -0.9473263060360281,
          -0.8798704674163232,
          -2.053258470780691,
          -2.0863359490718056,
          -1.9863695374901817,
          -2.11359692126422,
          -1.061552428784996,
          -3.113592466822213,
          -1.144083607985261,
          0.1495790169085313,
          -1.1278975109936087,
          0.0063368528715124495,
          -0.1038674427582332,
          -0.8775094985789142,
          -1.8916418986295256,
          -2.1417819772105635,
          -0.9329638588383039,
          -0.9419248204576486,
          -0.8534667655441933,
          -2.0247953881298866,
          -1.921734966678204,
          -1.9838013228041969,
          -2.0393441833244395,
          -1.013496844855284,
          -1.8850990786493542,
          -2.130776968713507,
          -2.1196653658536406,
          -2.0090983518749033,
          -0.8757320617738387,
          -0.06635232315465624,
          -0.9475503257794751,
          -0.9596254205730383,
          -1.0952500339079185,
          0.027954978455969115,
          -1.0214067500469277,
          -3.106723223916974,
          -1.0519270781907097,
          -0.9358689473341306,
          -2.08030942659745,
          -1.1323569482622178,
          -2.035660472923353,
          -1.8586078694006132,
          -0.9954261109911183,
          -0.9118345224831585,
          -0.0005540194441942536,
          -3.1232371332597357,
          -1.0907536108130822,
          -1.1032600457977986,
          -1.0684163599651004,
          -1.13744893496514,
          -0.9946603414107266,
          -0.1314279914019956,
          -0.8566589721577749,
          -0.09566731914813045,
          -1.0441247516719627,
          -1.0415629476196828,
          -1.0540387786276069,
          -0.9165653698485672,
          -0.9727371945083192,
          -0.10093225499837363,
          -0.13896210176811716,
          -2.0783939132107494,
          -2.082361286097641,
          0.11502889714632455,
          0.12706689814410285,
          -0.04104749893467989,
          -1.1387152147154185,
          -1.0869461631541504,
          -1.023221444359021,
          -1.1398571815443301,
          -0.08379200108722215,
          -1.032274797183125,
          -1.0287964856942464,
          -2.1038486060529635,
          -0.04588822008992714,
          -0.9986476827671987,
          -1.9299162638142102,
          1.120503899775267,
          0.9793312423586336,
          1.0912989745739945,
          1.1019401905467687,
          0.8608120992830965,
          -1.0679232191487666,
          -0.058845003332691395,
          1.1145920305911108,
          0.9214883105973707,
          1.1018408302800307,
          0.988949984021348,
          0.011822946417819169,
          1.1140379391168804,
          0.9293463877845362,
          1.08744965098965,
          1.1368383175605243,
          0.12481793931191262,
          0.9989300087740083,
          -1.1426549499414356,
          0.9367137127518632,
          -0.9790000697888057,
          -1.1171526956707627,
          -0.08753183681052873,
          0.10659322913099709,
          0.12033124036269935,
          -0.9486915936841237,
          -0.9162787688744086,
          -0.07763422959098693,
          -1.11174631896602,
          -1.0685261225335307,
          -1.0605694030326764,
          -1.0581826378633017,
          -1.0327098618793598,
          -1.0292107143336608,
          -0.9772546396692321,
          -0.038501817443224576,
          -0.017600107828143335,
          -0.030902483565349664,
          -1.137216223389717,
          -0.9747713510664414,
          -0.9408022358523924,
          -1.1439400861757891,
          -0.14017877051656538,
          -0.8608995302085964,
          -0.04000668787588768,
          0.8928063117888254,
          0.06475587735244653,
          0.9104787101408267,
          1.1454517531580424,
          -0.07278626989566693,
          -1.9727959680848015,
          -0.1163724715029473,
          0.024284505580616483,
          0.13784379451799803,
          -0.0002454546484026987,
          -1.1229177337545377,
          -0.13723352273962644,
          -0.0557078331176111,
          -0.09669595468565417,
          -0.11145644393682745,
          -0.09702163254912419,
          -0.017294463508688573,
          0.09995609767841307,
          -0.06144970829974121,
          0.07300682576210626,
          0.9952124845660325,
          0.0719003817926869,
          -0.08973501579612325,
          0.03735266640511811,
          1.0716546600920487,
          -0.9121265811890814,
          -0.027685604488112983,
          0.09977235533929646,
          -0.9796085774813195,
          -1.019631530847866,
          -0.9439846326209922,
          -1.0354621697607669,
          -0.9011699672341918,
          0.030494410059402677,
          1.1440965274558255,
          -0.9585070717412665,
          -0.11131641516432522,
          0.09871801055303242,
          0.9804417841483624,
          -0.05114465337698014,
          0.07639823970595325,
          1.0751664181114966,
          1.0316654794510398,
          1.0375276006498901,
          0.8983888797629509,
          0.0363232659657628,
          -1.0358865512961837,
          -0.06731754265090613,
          -0.1390487064655593,
          1.0259846549831888,
          0.9677016089252786,
          -2.030783394648582,
          0.8722502236919846,
          1.0943901652074943,
          0.8546832824325186,
          0.9122375904748352,
          1.1265570686544815,
          -0.10539843093617318,
          0.9601676280392966,
          -0.9798865073466648,
          -0.938690232207073,
          -1.0063831571736035,
          0.8637442060762703,
          -2.081409045594162,
          -1.8673307893247608,
          -2.132787180200124,
          -0.967696428000403,
          -2.9078477366329274,
          -1.1340375742114726,
          -3.0725457991411624,
          -5.966774155753123,
          -6.914747271626588,
          -2.97807410568188,
          -4.108821483144863,
          -1.0802484486619586,
          -0.9710641303372542,
          -1.9683320743313757,
          -1.1170339940790663,
          -1.976701402217673,
          -2.9869754831628703,
          -1.862107857985334,
          -1.985738980836181,
          -4.114022062779115,
          -1.895273330059193,
          -4.040654661502119,
          -1.0243076583173354,
          -3.8751063266219425,
          -0.9325040074653413,
          -0.9549410104990326,
          -0.9569812933964128,
          -1.8921121475799558,
          -6.137227044228376,
          -1.1478262800368642,
          -2.8997507409707346,
          -3.96837892799427,
          -1.8844053421064593,
          -5.87461476685284,
          -3.099263712759638,
          -5.043645035061744,
          -4.116853468215273,
          -2.9824076125935246,
          -3.895069713754995,
          -5.856346954565591,
          -0.09447331318807131,
          -1.0715308051215604,
          0.09088540898374078,
          -2.1117956207780533,
          -4.000397994053111,
          -6.901870844030685,
          -5.871801459909017,
          -6.0222522667027985,
          -4.098990207672482,
          -6.080945902256887,
          -2.0891702433818713,
          -2.9267057623419377,
          -3.1402917874291902,
          -3.0193164231045455,
          -2.8813180233166236,
          1.1286895788522684,
          -0.9520611426676834,
          -1.8776397882898375,
          -4.858066685048526,
          -1.0002012825437743,
          -1.1149012049572302,
          -3.887550549926421,
          -4.053444333846498,
          -5.008127821336884,
          -3.978689481091557,
          -5.113385012628446,
          -2.0485124743374845,
          -4.13576246342541,
          -1.1381958704190038,
          -1.9619681238344813,
          -1.9578786725196946,
          0.03434317150134039,
          0.9331928154063854,
          -3.1455487731132394,
          -0.8939050930821107,
          -4.096370816510428,
          1.058307843583992,
          0.8839522004758428,
          0.0032555766849212686,
          -5.868242543549078,
          -0.925006829470699,
          1.0179873621699846,
          0.03418942920563292,
          -0.9952002495639505,
          -3.047721851136285,
          -5.9183035966325965,
          -0.9825919788343002,
          -0.0838005112212007,
          -0.9934047768464926,
          -3.1163474780168694,
          7.039723499701008,
          7.003414637233284,
          6.869253889718037,
          7.042411371201211,
          7.124130069776713,
          6.933308076256211,
          7.028648601760299,
          7.103640893626299,
          7.087350025074067,
          6.9923921498984765,
          7.09115989391293,
          7.149298105145771,
          6.894570471257559,
          7.080628214859923,
          7.139731398300731,
          6.921653610110648,
          6.920771788833663,
          6.85548337964943,
          6.9705591106212275,
          7.146667046766604,
          7.065483529518298,
          6.953048693366873,
          7.031719936427666,
          6.932247850593968,
          7.099859406004392,
          6.888006187619617,
          6.946527031935698,
          7.062152506819327,
          7.062910285771456,
          6.96671650235673,
          7.064577043194263,
          6.890310607696294,
          7.063626009707167,
          7.141646250739803,
          6.924370689173385,
          6.914261352085331,
          6.89042021209034,
          6.958872445024568,
          7.08905084182398,
          6.878261771573386,
          6.96281674694978,
          6.891614530636828,
          7.0244689216984355,
          7.000055997938041,
          7.0600951902553115,
          -4.905353132209186,
          -5.063807949803046,
          -3.1421054382001246,
          -5.125009663659549,
          -2.9308621856053256,
          -4.904975841230706,
          -4.955973122806132,
          -4.8513176232887885,
          -5.068288126531469,
          -5.1153619127831025,
          -4.922076758598043,
          -5.087949525035347,
          -4.879039993277698,
          -4.9873522631043095,
          -5.1283938518743195,
          -5.0940009762041845,
          -4.850319260462998,
          -4.099730752561541,
          -5.135254455282409,
          -5.025018788153532,
          -5.939241596405531,
          -5.071020768249912,
          -4.894952662610712,
          -4.9575345286218875,
          -3.8750909663766655,
          -4.861487222578028,
          -5.9203725155068,
          -5.048465546510504,
          -5.051260739992161,
          -5.899990453963177,
          -7.086748040428852,
          -5.945337866538286,
          -5.072251434375655,
          -5.003206484064162,
          -4.9405351970597025,
          -5.095909000945163,
          -4.8534101781348555,
          -4.037698422095016,
          -5.867770012369261,
          -4.993310199751539,
          -4.934208985236041,
          -4.903870827773538,
          -5.04201358302617,
          -5.062012832034243,
          -3.8838387211027214,
          -4.855702773901923,
          -6.0507690914641445,
          -4.994235354764586,
          -5.9901018558392005,
          -4.956910744263441,
          -5.0560282203112825,
          -4.9513151701521085,
          -6.086286773958249,
          -3.9259817549703175,
          -5.084152195773434,
          -4.911479215878264,
          -7.120170615436946,
          -5.103007519593083,
          -5.08702662685515,
          -5.099651153631246,
          -5.0354219865473615,
          -5.120479342525806,
          -5.131857378657034,
          -4.889876056098656,
          -4.99513641420844,
          -4.919475604103199,
          -5.137763009546237,
          -6.094469607600445,
          -5.9829128833739915,
          -6.090919096687954,
          -4.875422233808251,
          -6.013737883309274,
          -5.000470166013351,
          -5.09814130363279,
          -4.854978393286304,
          -4.927540182192068,
          -6.14034467646568,
          -5.060011497257721,
          -4.950818105401016,
          -5.149648797938501,
          -5.139110162591323,
          -6.018912494410863,
          -6.014060631681307,
          -4.897256560641304,
          -5.897751776806345,
          -3.928525391194766,
          -7.963172988455816,
          -5.883370895111176,
          -5.134761284998438,
          -6.014176179397284,
          -6.911952475393817,
          -6.143348898384383,
          -6.1361437865720125,
          -4.916554711000483,
          -4.948941451097165,
          -4.8575192641083165,
          -4.088189742417375,
          -4.986710487154465,
          -4.974609564292748,
          -5.0308112540118675,
          -5.06833245166903,
          -4.048113259992305,
          -5.094438503451259,
          -3.935818096718312,
          -4.901175747776725,
          -4.918965135661492,
          -4.916955576633192,
          -5.86077049724221,
          -5.030202210287034,
          -4.095525340391827,
          -5.007140187369699,
          -5.035212558840695,
          -5.092337140263798,
          -7.148962768381282,
          -4.993161648409212,
          -5.133564714232332,
          -5.931958874317428,
          -5.067509128752226,
          -4.992534893984002,
          -5.0800067479416064,
          -6.007832899231016,
          -4.944617683886057,
          -4.956528943136873,
          -5.031537889185737,
          -4.97487968507031,
          -5.010549675488416,
          -4.892868283064782,
          -4.9784312513636575,
          -5.139740006276428,
          -5.015340878794361,
          -5.988713602203989,
          -3.9582525303191143,
          -4.044571673071358,
          -4.891356007983116,
          -3.105111383047553,
          -4.046458264507359,
          -4.10248050729886,
          -2.9121609018320314,
          -3.8739376620515222,
          -5.0080488031816515,
          -5.016740287408111,
          -4.875415300275354,
          -5.055017665990945,
          -5.115738786063121,
          -5.033543760312117,
          -4.915196233394406,
          -5.067098804293514,
          -4.93923197423745,
          -3.9940423936194343,
          -4.8904660039489825,
          -4.859936088859798,
          -5.0741508922834715,
          -5.10874139175107,
          -6.141720065691381,
          -4.118485623295012,
          -3.0209666338261933,
          -5.998813355430518,
          -5.142402395543977,
          -5.058299709272665,
          -4.883098638976734,
          -3.060498897520807,
          -2.972607015502047,
          -5.109374891156822,
          -5.048131910029083,
          -4.985337803555468,
          -3.004375224613684,
          -2.9756933399609897,
          -4.940152569022496,
          -3.8922601259720984,
          -5.028532642768337,
          -4.893523826875901,
          -4.938711951675414,
          -3.8651431862399757,
          -5.130133176274903,
          -5.086350915998094,
          -5.053995137065298,
          -4.881512260533181,
          -4.978230366696872,
          -4.925326850233144,
          -4.991483993768408,
          -4.929798742838086,
          -5.052705843929273,
          -4.9232616765112205,
          -4.929795804259372,
          -5.107773139083016,
          -3.936184198750705,
          -4.971878276778819,
          -4.115175273905382,
          -3.9644219718740628,
          -3.9350119189358796,
          -5.885197582334708,
          -4.880405448386131,
          -4.973423336350591,
          -2.9717574841080707,
          -2.90943515026296,
          -5.029972000662283,
          -4.1268855408682885,
          -5.116755559666205,
          -5.040528619042966,
          -4.855993236979896,
          -0.9416744160693459,
          -2.1093441956111483,
          0.02867572783567543,
          -0.015877494725806962,
          0.033109158253711884,
          -0.8805390516327293,
          -1.9897992032203673,
          0.9371616168525682,
          0.1065006932330865,
          1.023270673711393,
          0.10494537255632982,
          0.028150044489736403,
          0.09979743229226604,
          -2.033488681917775,
          -1.1407162569454998,
          -1.140862550887256,
          -0.08746103950923141,
          -0.9003097841818133,
          -1.092539561627637,
          -1.113212065539108,
          -0.09137171352561843,
          -1.036229326236543,
          0.027920662889958536,
          -0.9931177383451968,
          0.028258864390977523,
          -2.066657528597544,
          -0.8720598489116972,
          0.13120013096306407,
          -0.9384433515002111,
          -1.1266239355563006,
          -1.0888011802826276,
          -0.9620244540718726,
          0.14683156321966548,
          -2.1276278494315513,
          -0.07900756945495113,
          -4.054979241550297,
          -3.106553943670621,
          -3.0185021730092707,
          -5.061958450839149,
          -5.113120984118658,
          -5.074850029091873,
          -3.89508857349078,
          -4.121526304900516,
          -4.070838462807551,
          -4.044991960275714,
          -4.147836031819943,
          -4.042527947983358,
          -2.999364046628119,
          -4.054367539951214,
          -1.0072807464798486,
          -1.009352338839326,
          1.1445892432738203,
          -1.0418856996172947,
          -2.0420841211272944,
          -0.975031954744795,
          -0.09877566885400739,
          0.012827996647432671,
          -0.9340872351612922,
          1.9480425703137056,
          0.9436453205772892,
          0.00004788542857367406,
          1.0942363944661226,
          -2.9785845826542436,
          -3.0192655587009773,
          -3.0343397643295678,
          -5.093051084065482,
          -4.929161879340408,
          -5.006160006225028,
          0.938769028188224,
          0.0787761232391945,
          0.9639592469354793,
          0.05018298182355005,
          -1.024897893013058,
          1.050092106079993,
          1.9947582776974546,
          0.9268824552760954,
          0.0298611800168114,
          2.1344320618656516,
          0.8590358308209567,
          1.0495688277862412,
          -0.8971457417834204,
          0.8546866735018005,
          -0.04138929532161323,
          0.8753387679961544,
          0.00853744239839549,
          2.1063221337318643,
          1.0064313915151568,
          0.9922542184063698,
          -1.1326618702917752,
          -0.9390985439772127,
          0.9302708108495044,
          0.052462652594304354,
          -0.025208939188194918,
          -0.07585076265127097,
          -0.13942961896475417,
          0.02958791424398058,
          0.9387391993926699,
          0.0804456640419885,
          0.8993552589834983,
          2.036996153828746,
          1.1265625871252283,
          1.078552288115056,
          -1.0012578210976297,
          0.8945820642728437,
          -0.908705754956795,
          -1.92773794064606,
          -2.016562338228857,
          -1.1126954698744465,
          -2.0790566189129995,
          0.02210071506828104,
          -3.0419189185893476,
          -4.068731047663161,
          -4.00349022744719,
          -4.006415516587464,
          -4.13833855223041,
          -4.107583318632113,
          -4.064195877909112,
          -4.102570263819953,
          -4.936886646625377,
          -4.0093955320427614,
          -4.044364647692863,
          -4.0476899456309345,
          -4.147112121320956,
          -3.9289596999130176,
          -5.128327389569596,
          -5.058579085721549,
          -3.8582106424875273,
          -3.8633423679612533,
          -4.119219666296232,
          -3.141841189970245,
          -1.9070873525017422,
          -1.064229960309423,
          -2.0532377602911827,
          -1.0144520118264433,
          -2.078264888868484,
          -1.877549502635233,
          -0.9697384950082815,
          -1.041269993209907,
          -0.9857134986159046,
          -1.1292885208150358,
          -0.9612611076957333,
          -1.0604687398592454,
          -0.8726105671140667,
          -0.8802896609307065,
          -0.8885449846451664,
          -0.9895711387250407,
          -1.008255775973948,
          -0.9060420793410103,
          0.09966479731809608,
          -0.07363027898908169,
          0.03589040149777972,
          -1.0057858316345945,
          -0.9193766282917781,
          -0.06669461378819232,
          -0.05436861209615265,
          -0.09663854516543047,
          -0.03968123256237262,
          0.035079386382812244,
          -0.9326452269363704,
          -0.01946135360017054,
          -1.0358458285022427,
          -1.9752555084777021,
          -0.8536972719197276,
          -1.137923933907244,
          -0.09500108664093752,
          0.08795462487069247,
          1.9143819729576912,
          -4.883469871305296,
          -3.029840702390647,
          -3.911852542384605,
          -2.9017282026396947,
          -4.06054168846269,
          -3.8990697471668434,
          -4.894988302018111,
          -4.914334611186359,
          -3.087835405882168,
          -1.1232051509522127,
          -2.0632773927362766,
          -0.872013265770719,
          -1.8824468521504967,
          -2.0913119611900903,
          0.118566824857643,
          0.1274007904848896,
          -2.9051793162694293,
          -1.0026369685663015,
          -0.9299376034575244,
          -1.0032187326156463,
          -0.8777629194713695,
          -0.8973114486731046,
          -0.8946034339366872,
          -0.9716266723358926,
          -1.113215102341833,
          -0.9860586119432324,
          -2.9425776957900713,
          -3.135553672107488,
          -2.9621828556002825,
          -3.032558061410751,
          -3.033649061514079,
          -4.010724689892612,
          -3.1447558523754315,
          -3.877930350708561,
          -3.932811419493692,
          -3.9222055745221795,
          -1.0651888569739016,
          -1.0767164816678858,
          -0.9787301850830763,
          -1.0788750530357416,
          -1.8826220034919148,
          -5.035549868785104,
          -3.980498715374469,
          -3.861538995610198,
          -3.035203014339494,
          -5.064725997429143,
          -2.089095233816235,
          -3.0840845235950876,
          -3.948519511069796,
          -4.088664112119844,
          -3.0892146462770755,
          -5.046878806585525,
          -4.871662896134347,
          -5.126234187123125,
          -3.1099352238105458,
          -4.973478899352332,
          -5.146638691188499,
          -4.992226514097749,
          -5.052487566890764,
          -4.085434316180383,
          -4.0566353212326165,
          -2.9573673841436765,
          -2.9063008384906883,
          -3.089840296689679,
          -1.0295663410442746,
          -0.07091832371103891,
          -1.1289048205009662,
          0.9482074120631264,
          -0.09495280053252314,
          -1.0955239027692156,
          0.9757119662772091,
          0.9872944269512206,
          0.9455802450842026,
          -0.06062136685873401,
          0.06600722851351618,
          1.0218797546156808,
          -1.9670065059433934,
          -0.08260842159747787,
          -0.05255893065053703,
          0.12265495920925887,
          -0.9179241056347746,
          -1.0720280542126508,
          -1.07593203757082,
          1.104869918208491,
          -1.1006813764254404,
          -1.8696876803112297,
          -1.138306880483484,
          -1.9708276816219554,
          -1.1212530779890877,
          -2.1313812023110184,
          0.0017235571694320106,
          1.8953208475333296,
          1.8843730085075132,
          -0.957650718276255,
          0.05078291525353268,
          0.870813407966609,
          -1.0985244658552056,
          0.9117124737514751,
          1.120345593924897,
          -1.1065812057167081,
          -0.9203073990705946,
          -0.8684770745611987,
          0.9346032586839924,
          0.09827761954637115,
          1.1185915328162037,
          1.0412157745408064,
          0.9151485193024104,
          -1.139605449499483,
          0.1406550158396053,
          0.051953961227516665,
          -1.0537529314182235,
          -1.132155981100489,
          0.09206097480456349,
          -1.0189837576510865,
          -1.1228208535334223,
          -0.9921897463755023,
          0.028321436808192907,
          -0.03719254228275848,
          -1.034483230349143,
          -0.8751846907669031,
          1.1378200788798303,
          -1.0672227958267193,
          -0.9682757519512438,
          -0.8807765150303066,
          -1.1411840483006472,
          -0.923317806686373,
          0.08895645384439199,
          -0.8896748514847278,
          0.08178549444004815,
          0.12888735051899078,
          -1.070178202506547,
          0.10212605169574615,
          1.0787515512367791,
          -3.85927848865175,
          -3.936770529253876,
          -4.003173862940934,
          -3.9330817090880243,
          -3.9019103346560344,
          -3.887477329278373,
          -2.85063678060285,
          -2.079733025386951,
          -1.93459334040186,
          -3.020160467289505,
          -0.9328330377734795,
          -1.1027785216988628,
          0.014367808257539721,
          -0.9124395818373908,
          -1.0335367889874973,
          -0.9608856471175978,
          -1.0870897055432458,
          0.052709641736373936,
          -1.1063042671735972,
          1.1457600047992056,
          -1.0753098620754988,
          1.0549563321045317,
          0.006766244967858326,
          -0.06419568026391012,
          -0.9851725994683579,
          -1.0893695589267471,
          -0.0003854644293463938,
          -0.8627954464012638,
          -0.9440000120592588,
          -0.8730804692706681,
          0.024693539519067415,
          0.07544353235535217,
          -0.0706899282833642,
          0.044065865645064844,
          0.00874240632608389,
          -1.1320468757099391,
          -0.9053739017649414,
          -0.8766644885362784,
          -0.05790022040994232,
          -1.011169354848945,
          -0.8611731197841531,
          -1.0014850521621075,
          -0.852863225950858,
          -0.11534801084596169,
          -0.9164600272984061,
          -0.9793554055727177,
          -1.0162501958940733,
          -0.8976556794267825,
          -0.12199432332051983,
          -1.0772051996261733,
          -1.1478997843131755,
          -1.8770391158421633,
          -1.136093847370347,
          -2.0393837988523087,
          -1.1233599789365025,
          -0.980741252120347,
          -0.9383766616541166,
          -1.9317450319395975,
          -0.08976924918187545,
          -1.0725517889824068,
          0.8736246339156922,
          0.8887636391139216,
          0.06086664537420508,
          -1.0832154372432836,
          -1.1035685241126583,
          -0.9680817951814197,
          -1.029028054617614,
          1.0379202325138122,
          0.9432736042791198,
          1.0417193553266948,
          -0.0070543090391256,
          0.14487678440951504,
          0.9494738020621345,
          -0.9423240875248331,
          -0.9401251372200066,
          -0.8719343979746266,
          -0.8886443726764014,
          -0.9264647209318597,
          0.09160665813074789,
          -1.0492205157120618,
          0.11403548523923315,
          0.13184051424214124,
          1.1461947662444878,
          0.024967764207599608,
          0.11745759478203158,
          0.06541503643591082,
          -0.08576481943953233,
          0.08283884276401765,
          0.9936149529024991,
          0.0830115259562228,
          -0.8706782438992551,
          0.9390460116829991,
          0.933259103912413,
          -0.00569750899318186,
          -0.9227180922724562,
          0.0986770085178583,
          0.1476268534873084,
          -0.08265637968890684,
          0.1262457055846202,
          0.987632022473585,
          -0.09652606204668006,
          0.00544610936495421,
          0.0023777198673026467,
          -0.8990676796933833,
          0.06025738247448406,
          -0.03527574231259917,
          -0.06920608941042801,
          0.013905420192108275,
          0.09941141035351064,
          -0.11268337419595748,
          1.0621425348644469,
          0.14277517152551253,
          -0.1034411531294275,
          1.140768612519194,
          -0.07592253760161753,
          0.04526317812104211,
          -0.9117680907755085,
          0.11005607779670043,
          0.04535746579144004,
          -1.0571157813666292,
          -0.8933784396756783,
          0.1380509480176406,
          -1.9225452412784119,
          -0.09204224478003407,
          -2.1163197580278164,
          -2.0505188468701534,
          -2.0879145466813784,
          -1.8512535980013531,
          -1.9690068126408788,
          -1.957087486573677,
          -2.0982927803474234,
          -1.8943096750708892,
          -2.03620042714915,
          -1.8625317413723792,
          -1.110721550813114,
          -1.075871635916491,
          -0.9899591233315544,
          -1.0273578199235323,
          -2.043179368603979,
          -0.8777462407320653,
          -1.015454931304495,
          -0.9010205195592599,
          -1.012601997411055,
          -1.0833647384433072,
          -0.8887680007466126,
          -1.8995260631767241,
          -0.9690145637640739,
          -1.0506621074952411,
          -0.8522058971116881,
          -2.1200207684968997,
          -0.955599561628176,
          -0.9318642806299712,
          -1.0836332214869158,
          -1.0923858107658586,
          -1.1138131752484106,
          -0.0006232387835988229,
          0.008909754504914713,
          -0.041102567703147935,
          0.1230647935498054,
          0.14096013491716622,
          -0.013217831865628915,
          -0.10738713022314414,
          -0.0360008203109423,
          -0.10932354232762145,
          0.10220563323081669,
          0.053139589689955746,
          -0.9312515021620199,
          0.11071949342425716,
          -0.01574302551699827,
          -0.125506329589768,
          0.13984137592330345,
          0.06709937297256818,
          1.0233000362753728,
          -0.054061400196837084,
          0.9824554062197665,
          -2.9593560388270355,
          -0.961859207641055,
          -1.1366610072876648,
          -2.0221800207507217,
          -0.9644968622532066,
          -0.910436283026994,
          -0.8636048720102216,
          -1.1052439810557495,
          -1.0132023411129494,
          0.06070793736260949,
          0.054555189882809996,
          -0.9332204359870966,
          -1.0104101918493238,
          -1.0560166837610951,
          -0.8864752624771156,
          0.07750569938574922,
          0.008844480843207964,
          0.048990474237018744,
          0.14754640522454218,
          -1.0897304312763678,
          -0.9577003177036004,
          0.05130126336693738,
          -0.9680720399978904,
          0.048711091492539604,
          -1.024232230529299,
          -0.8568234745366773,
          -0.9251295443530316,
          -1.0676594097108842,
          -1.0658786938518128,
          -1.9922024347928757,
          -0.8731257903722628,
          -1.9150243278269574,
          -1.9599902380589387,
          -1.9325557685337944,
          -2.042052486160952,
          -1.8783119252888845,
          -2.0671534905766378,
          -2.0170426529410888,
          -1.0444496134454897,
          -0.904338285106235,
          -1.0034744297277416,
          0.07823198714876992,
          -1.113365080239399,
          -0.005439335047935812,
          -0.9978626113391978,
          -0.9442843474931719,
          -0.9328606618008703,
          -0.8751482134880781,
          -0.9195247563380126,
          -0.8910792388487798,
          -2.11724316919077,
          -2.083905639824203,
          -2.0545604103752035,
          -2.077010119172486,
          -1.9647318475508642,
          -2.007300075896565,
          -2.1227268039894778,
          -2.0576291430450526,
          -1.9377189806809154,
          -1.9605933604928383,
          -2.099871985421554,
          -2.102377119172866,
          -1.9091601943692202,
          -1.9494482586323136,
          -2.094065859177653,
          -1.1146806471941069,
          -0.8553341612284688,
          -0.885646047997715,
          -0.10483672421769932,
          -0.05053224685401923,
          1.0987398386535603,
          -0.12809464903543127,
          0.011033010919792668,
          0.9001225545780724,
          0.9108214080730703,
          -0.12457547967889226,
          0.07752408805123043,
          0.12043941311199155,
          0.00807148013069256,
          -0.03170504168888562,
          0.0649028982328411,
          0.08422890050211532,
          -0.11895561492664058,
          -0.12188765091916141,
          1.0889610297502001,
          0.0010261473027589618,
          -1.0558514653761075,
          -0.022781300028273888,
          -0.9437223535670161,
          -0.9301785883493264,
          -1.113586641790229,
          0.12247090428860155,
          1.127669704793576,
          0.9934415666530874,
          0.9156591324327825,
          0.07271718705232505,
          0.0483992787234192,
          -0.08036807303634104,
          -1.0116755137432318,
          -0.014768198724918746,
          -0.003700640971492808,
          1.0732633072257485,
          1.1477613500980353,
          0.03817082766208607,
          0.9534221495461601,
          0.8665740615504725,
          -0.14188370617552942,
          -0.07984035089673164,
          -1.126131717613201,
          -0.04229618599777575,
          0.017862296126473026,
          0.1291320722805809,
          -0.08847977672862853,
          -0.9356297412411945,
          0.009651820451689774,
          -0.1341179922030191,
          -0.12426242343382692,
          -0.07970806335307372,
          -1.125844980482857,
          1.097294774036837,
          -0.8537362996021214,
          -0.03403562304923795,
          -1.1278005441834167,
          0.12497121922930979,
          -0.013092011351222732,
          0.10924644064968794,
          0.03428729694412233,
          0.09341545529198311,
          -0.13424669481445245,
          1.0429144660206038,
          0.9847390399988667,
          1.07277704637498,
          0.8645037908684199,
          -1.9276638785683349,
          -2.0394600091472816,
          -2.1251243385623253,
          -2.081943910812876,
          -2.045575598105345,
          -2.1038929555223485,
          -0.860199378717382,
          -0.9372673492462604,
          -0.9302428149801306,
          -0.9705683723224372,
          -0.9388580008029433,
          0.12332250954776616,
          -0.8874562118419319,
          -0.9496979087679895,
          -1.9389831077016175,
          -2.9172041888226694,
          -2.9558071116295883,
          -2.8586243890550516,
          -1.9117966318707822,
          -0.9556299394199463,
          -3.024359701297571,
          -2.859869811305665,
          -3.9249571198872433,
          -1.9015645719451977,
          -1.9243696434682587,
          -1.8570359951365711,
          -2.0541072944637513,
          -3.1068106311761268,
          -1.9327983292579534,
          -2.0684995120045904,
          -3.068443944838992,
          -0.8992201182315156,
          -4.01838655169304,
          -2.907383210343836,
          -3.1024391581203274,
          -2.096557585522965,
          -3.999676264044375,
          -3.883822915101764,
          -4.0954194498294605,
          -4.017915410450322,
          -4.045222043231311,
          -3.9099939808845408,
          -4.1097709123979485,
          -3.971454196245196,
          -3.9965652233432705,
          -3.932606370186743,
          -3.8689573835120736,
          -3.8745682105100756,
          -3.9278489224843645,
          -4.071067739427117,
          -3.987736320530348,
          -3.90446341425422,
          -2.9123481619524862,
          -3.006687838183801,
          -5.114209633073985,
          -4.13200420551679,
          -4.894327674286189,
          -3.8809541172367266,
          -3.930530686521302,
          -3.9733840256172335,
          -4.057825909528157,
          -4.894722572320873,
          -4.101609504563753,
          -3.9078869214078025,
          -3.8547656419388048,
          -3.889752203138785,
          -2.0069456375894315,
          -3.888169136602446,
          -4.106763628900823,
          -4.068628526884307,
          -4.141545268280321,
          -3.9687291129324196,
          -3.8980770338327067,
          -3.99796509406628,
          -4.94918565241192,
          -5.127475937951966,
          -3.890388868399936,
          -2.9341605420334655,
          -3.001700934840002,
          -2.8790674013019744,
          -2.943588349456622,
          -2.9047586311104947,
          -1.8953455024340558,
          -2.8518366733455465,
          -3.094021219069395,
          -3.013496393395842,
          -3.0107546609870353,
          -2.929716601883127,
          -2.9727248898445238,
          -3.143118037467114,
          -4.008573932078504,
          -4.074330482750599,
          -3.9137231537358375,
          -4.004890456257106,
          -4.034249500497752,
          -4.042440783140022,
          -4.029963876829089,
          -5.040360560946124,
          -4.016026618945295,
          -3.877620861569408,
          -3.881094980333504,
          -4.034112238883577,
          -3.002753834393082,
          -3.9372547954044417,
          -3.981272710890621,
          -3.114454783134068,
          -2.8668839808866986,
          -3.031013700786498,
          -2.85076353918854,
          -4.1340624238791,
          -3.0347042620207185,
          -3.122849427684309,
          -2.9754009371232346,
          -4.037305632614537,
          -2.9908947045282206,
          -2.9637091881730973,
          -3.044127469649084,
          -2.916570187480641,
          -3.1120852924908764,
          -3.064778511932917,
          -3.0225073826901303,
          -3.035062929113938,
          -3.034602227490496,
          -2.9678303211965433,
          -2.9340585532270334,
          -3.067508231405943,
          -2.958092415940518,
          -4.0351658811625075,
          -3.908482954832554,
          -3.977255373081209,
          -3.9474557016985234,
          -3.0696855200010287,
          -2.859101534569118,
          -3.928628950951562,
          -2.868171015621141,
          -2.950404066748343,
          -1.9694764923323373,
          -1.8936183637355704,
          -2.139911442549096,
          -1.8819547582936502,
          -3.9586549308646877,
          -1.98565822025875,
          -3.8735106120689773,
          -4.009472777139264,
          -2.962945292259465,
          -3.8566595947962456,
          -3.0590865250243704,
          -4.13339385964546,
          -2.0090746229529803,
          -0.03412091324650765,
          0.10632027855463552,
          -1.068834994575945,
          -1.8795821615219008,
          -2.0337331823307925,
          -1.8856130959264088,
          0.13916338190876817,
          -0.11823601002084666,
          -1.9606101209759395,
          -2.056708110082162,
          -2.8619289039653775,
          -3.8687613111076145,
          -3.09002815340664,
          -0.061041514880644965,
          0.037468612148841146,
          -1.0146880639798637,
          -2.0408891494448356,
          -2.04309870310401,
          -0.07698117281564827,
          -0.046062836137245114,
          -0.0772589480386777,
          0.08857086178392407,
          -3.0427657506210513,
          -0.003138341470024536,
          -2.019674849157615,
          -1.9547324260536911,
          -2.116989424064669,
          -2.0247825647620306,
          -3.089892624645623,
          -2.0845833441628496,
          -1.9797098637315842,
          -2.0063234982957106,
          -1.9226434257296159,
          -2.0125229180480404,
          -2.0238899307795237,
          -2.080796592587666,
          -2.1455751259637768,
          -1.8589514032304444,
          -1.8581160855800445,
          -2.139508410069574,
          -2.0609763106237704,
          -2.0745937783974173,
          -2.1104650868632193,
          -1.8703220636532205,
          -2.001061472929505,
          -3.0789985870016827,
          -2.8662132037640173,
          -3.104794349444685,
          -2.9246807643405246,
          -2.9607973567698394,
          -1.9921763484883255,
          0.1108375320224412,
          -2.121910198471876,
          -2.902065609137951,
          -2.007019067271981,
          -2.00296827638388,
          -1.884667225809316,
          -2.0504513172604137,
          -1.9203493545382802,
          -2.1203986060445326,
          -2.9922623788095897,
          -3.0208070223030123,
          -2.0933167542436464,
          -1.890220762977302,
          -2.0908756668823387,
          -1.895860309854662,
          -3.0734422388094065,
          -2.902041371595791,
          -2.903079524180918,
          -2.8801047695883293,
          -0.062913569743414,
          -3.013014978277197,
          0.1188078308641489,
          -2.963542899789768,
          -2.8852812021048564,
          -3.8735939675590845,
          -1.907324337688317,
          -3.138068183298751,
          -3.093452025945982,
          -3.0812250100954564,
          -2.1354987831077206,
          -3.0114632948142765,
          -2.0477369006313877,
          -1.1444881091747903,
          -0.033875580536950514,
          -1.9407610040053331,
          -3.9309461915922257,
          -3.1003442275587814,
          -3.0908191441799198,
          -4.110035869088968,
          -3.1404848500121556,
          -1.870002429177122,
          0.05541860294830464,
          -3.0673499625469,
          -2.1017202438847447,
          -1.0116025242774993,
          -0.07738740657888794,
          0.011617744891255166,
          -0.0651645076338529,
          -1.9058060021382748,
          -0.9995854510061434,
          -1.991755332145588,
          -0.12628068841505016,
          -0.9901432507189123,
          -0.11421547392325687,
          1.1029222363802773,
          1.056115245171282,
          -0.14012949118384485,
          -0.011806245058448711,
          0.05737532699703568,
          0.07375269283007,
          0.08623354764558272,
          0.10862630725156738,
          -0.022774904240823346,
          -1.000904238614694,
          0.9202960356150939,
          0.9227887229861782,
          0.1435914939115965,
          1.1340359381020453,
          -0.11748451106789379,
          -0.06463303525757876,
          -0.9609364433726911,
          -1.1256076449414838,
          -0.936060473927518,
          -0.039315251744558924,
          0.06283366285759978,
          0.03663783544335075,
          0.07492676419966146,
          -1.0928887870664172,
          0.01427926719134201,
          -0.10516448306486295,
          -0.08309971389902772,
          0.08329833518096469,
          -0.8886825179870088,
          0.06608623226259674,
          -0.127493093653641,
          0.06804359228615403,
          -0.06906430464813283,
          0.03727503854030373,
          -0.12333215579152093,
          -0.04411007828747644,
          0.1114356684380238,
          -1.0450269876933993,
          0.060760206248999055,
          0.064829543335714,
          0.08958517187916148,
          0.061407009985419564,
          -0.01608888505720446,
          0.12577819968741447,
          -0.8591715308831888,
          -0.981030501025791,
          -0.10467569777821223,
          -0.8896382544788423,
          0.053351954935402734,
          -0.08887248614871776,
          -0.9893674606146423,
          0.039631840317601086,
          -0.027720676042039094,
          -1.1485794550329311,
          -0.9905383952777023,
          -1.028556521220248,
          -2.035181073626767,
          -0.8744290341632001,
          -0.9771202003081638,
          -0.9605427544625558,
          -1.0813424273060341,
          -0.8691569082938042,
          -0.8764001864885521,
          -1.068566314906746,
          -0.14620569993895755,
          1.1441943774613372,
          0.8635841059506221,
          -1.0828576231984643,
          -1.1378946481321597,
          -1.148295479413858,
          0.13765668282797064,
          -0.9497704308693594,
          -1.0017031871464694,
          0.0867644158683134,
          -1.015355040513652,
          -1.099192010225542,
          -1.03686165963288,
          -0.997767654709058,
          0.05552962386381849,
          0.01380601712675103,
          0.026312250056321623,
          -0.11430015510501271,
          0.10058740933410718,
          -1.1052459848104026,
          -0.012465393495167898,
          0.08103225425945479,
          -0.8978417465929578,
          0.010634340497267247,
          -0.04629720010064839,
          -0.13303208536216263,
          -0.8713290943419869,
          0.8680853841980312,
          0.9222089636837042,
          0.8665518909889994,
          -1.09633000428195,
          -0.047634778518701584,
          0.08793256846995029,
          -0.1410529140507309,
          -0.1122506373204262,
          0.03822429618574219,
          0.08777074765608764,
          -1.1183518164092145,
          -1.1394391498537275,
          -0.036528294012105125,
          -1.1282207798038786,
          0.1489875358529459,
          0.0791643814848298,
          0.9818846554361771,
          1.122898655108919,
          0.9880171973450128,
          1.1041160636191483,
          -0.0009203802647520243,
          1.0767138056961572,
          0.8598070892116356,
          0.8711709584755276,
          0.9890702680566329,
          1.0723252184846954,
          -0.09044702448827671,
          -0.0959224212415209,
          0.0024856658392881092,
          -0.03770180255348109,
          -0.08470648540454086,
          0.08576376100995123,
          1.0975016557075985,
          0.9638002077573521,
          1.0966599093891356,
          1.0058728720441017,
          0.8715095396068616,
          1.0702910204530398,
          0.9049444401378584,
          0.8856979348568437,
          1.1150573944480644,
          1.094025628403713,
          1.9241926686719302,
          0.8798361832665266,
          1.1090997885892857,
          0.9521005780485899,
          1.854889613771855,
          -0.00911700027234602,
          0.9834334271999782,
          0.016244243319645163,
          1.0667162380209823,
          0.8878750998699741,
          0.11267452751592219,
          0.08623249463752025,
          0.03957665340424499,
          -0.14860563473698268,
          0.07897327491909864,
          -0.057411969809770605,
          1.1492953967959807,
          0.9682915051391207,
          1.0250645355519785,
          0.000882127090588769,
          1.1054211323287053,
          1.1346343295811911,
          1.0663785568497095,
          0.1269457816021771,
          0.0260672126797436,
          0.05200032669582896,
          -0.02045832202224193,
          0.0478427085860669,
          0.14690273798834805,
          0.9075026028268549,
          0.12600235883768937,
          1.1009424592567159,
          0.0664802752592128,
          -0.13947272918344303,
          -0.09011383369323156,
          0.037363404632893615,
          -0.028478825477296105,
          -0.12321493253552987,
          -0.062034580586959195,
          -0.018679758527114343,
          0.13456786452061967,
          0.12830167425093067,
          0.14273679092394922,
          -0.008549425448182602,
          -0.14963050562126065,
          0.03925709284726425,
          1.1495480592483294,
          1.0163143012846676,
          -0.055419778938985656,
          -0.04895663572020355,
          1.1269544116309393,
          0.9987666983045808,
          1.0757008833042265,
          1.1330781240168093,
          1.1144753498176394,
          1.1479286718172725,
          1.0685327407283143,
          -0.06926588420732742,
          0.9220337150662914,
          0.03153175202460107,
          1.1416086288790155,
          1.0110472303570859,
          0.9061999825657548,
          0.9065331656889293,
          0.9397811003897314,
          0.1499456461812332,
          0.8839729324450841,
          1.0918680109871008,
          1.1000011744466756,
          0.944301842751528,
          1.0007774151771196,
          1.0357621795696146,
          0.9211152550605365,
          0.9643468906235082,
          -0.0016952216119967556,
          0.03271142718763673,
          -0.07507369973432862,
          -1.0533123823864348,
          -0.06618806781702365,
          0.09805073670434991,
          -0.8680658004365892,
          -0.9539201086276812,
          -0.9193939430867257,
          -1.0423417083554127,
          -1.124389099705936,
          -2.0459482303586696,
          -1.0851370869948433,
          -0.05086041011586656,
          0.8984428800062154,
          -0.078255946096556,
          -0.0830873960346332,
          -0.044898494159077554,
          1.0610896924494106,
          0.09186906024188748,
          1.1006902037522854,
          0.11298814073280608,
          0.9035167581123897,
          0.8757755152868332,
          1.0483931492487837,
          1.0638795174131912,
          1.128347414223752,
          0.9755966390333407,
          -0.06783495784287456,
          0.12700866885593795,
          2.03908660323162,
          2.0315518050599004,
          0.9155654186012933,
          1.0521073198086912,
          -0.02759646528418927,
          0.030781495979354145,
          1.009429675242312,
          0.9804472915006627,
          0.878384168492126,
          1.024911446190754,
          -1.9805318235218743,
          -1.0933658053805018,
          -0.9970358429269681,
          -1.9825684849963587,
          -1.1391081338909022,
          -1.9522862203608897,
          -0.9472953658389685,
          -1.870879342047793,
          -2.0978820299491434,
          -0.8848747086289065,
          -1.034637435700966,
          -2.039385030528616,
          -1.0336197612951545,
          -1.9786558309791307,
          -1.08837437655767,
          -0.869089551383898,
          -0.9799809672024826,
          -0.9892987153595645,
          -1.0683277415220003,
          -1.116257168604439,
          -2.1396606236955216,
          -2.096030235775959,
          -0.9802759143884545,
          -0.9781858606913069,
          -0.07257559317194973,
          -0.10063690114831861,
          -0.943189618975328,
          -0.9965993645620381,
          -0.8806489315890583,
          -0.9380038878482512,
          0.14085726724658956,
          0.07710976096226269,
          -1.0689177053522618,
          -0.948975502467011,
          -0.9189481321053361,
          -0.9652635589737812,
          -1.9048806790631654,
          -1.9840682541644283,
          -1.0359288893168226,
          -1.9839242368509304,
          -0.8644908828436632,
          -1.8746031896712658,
          -0.9883182656027416,
          -2.072294506262879,
          -2.030702509941786,
          -0.9298993911004476,
          -0.9086560765644858,
          -1.117555021130898,
          -0.8916286798259687,
          -1.1478963001261977,
          -2.1491187020593787,
          -1.1088477190520254,
          -1.131278372918741,
          -2.0117114826113207,
          -1.9299794667547594,
          -1.0891248922880998,
          -1.9752314702166007,
          -2.0087285128150842,
          -0.9526262346316965,
          -0.8544331583210847,
          -2.1164404173094837,
          -2.1206892850141927,
          -0.934561537991655,
          -1.9367219968645324,
          -1.8512714666213992,
          -2.0656901374523047,
          -1.0924642714453001,
          -1.9529420427169235,
          -1.0782864653064597,
          -1.970032800269086,
          -1.9939757272896186,
          -0.8745586693671237,
          -0.9425176993845847,
          -2.0309219898634163,
          -1.9187229499137537,
          -2.0109255652049765,
          -2.0214461117301217,
          -1.9333652875617533,
          -1.8688264497181624,
          -2.0223497805740656,
          -1.9232059495367633,
          -3.040063993858223,
          -1.9859164624495786,
          -3.0703700922929795,
          -2.0113516127742765,
          -3.9169262679698273,
          -2.1496752628869307,
          -2.988926123958486,
          -2.035128176341037,
          -3.0436552645936104,
          -3.043179217157736,
          -1.900923368525479,
          -1.0240980668300819,
          -2.000426260644346,
          -0.8569797825510339,
          -0.005986603451899997,
          -1.97016932917095,
          -2.055063249793219,
          -1.076814273565535,
          -0.9369811367050406,
          -1.1252141086998748,
          -1.0849030544921217,
          -0.9363386368425949,
          -1.1237929731714185,
          -0.9635177891486337,
          -1.940169780572616,
          -1.1435508699451644,
          -1.0006336812326886,
          -1.1486360462764749,
          -0.029096784836813605,
          0.04558603610263695,
          -2.1334384074390256,
          -2.090286266521116,
          -1.9036368003749486,
          -2.1166406508515148,
          -2.051809794438363,
          -1.9395689098090303,
          -2.030330478430574,
          -2.0181756819755163,
          -1.9166366043226668,
          -2.0824520122755033,
          -1.8903042965935306,
          -1.957412611660534,
          -2.0679897153383484,
          -2.061319107695632,
          -1.9195489548098181,
          -2.1080512943583907,
          -1.9717509878398258,
          -2.0097667206122503,
          -2.1425865381034144,
          -1.9733750507888823,
          -0.941803191364104,
          -1.0427260458354048,
          -0.925131994821597,
          -0.9002073371896255,
          -1.0300428448918406,
          -0.09133641645616605,
          0.07925058386431785,
          0.09703785033105694,
          -0.10818771434577212,
          0.027780971724161635,
          0.12051926335646265,
          -0.9149241309249266,
          -2.033453148200001,
          -2.044097088907513,
          -0.9324181392105237,
          -0.9490852958397866,
          -0.945815044868493,
          -0.8780123014306286,
          -1.1257344160132159,
          -0.10663844237475578,
          -1.1441067859358791,
          -2.0207821162501394,
          -2.128654640524975,
          -1.9663278809756846,
          -1.8995630216981374,
          -2.0705324247838655,
          -1.9829478010656758,
          -1.9957037544024623,
          -0.8675459086542285,
          -1.0161121269842877,
          -1.1330623116401441,
          -1.9339245047680438,
          -1.1111015362038699,
          -1.0556473115775296,
          -1.973888224015144,
          0.081662849170245,
          0.12736085752662865,
          0.09434277427638954,
          -0.00548070887113003,
          -2.1049939148299543,
          -0.943609064180907,
          -1.9063073255788885,
          -0.07857885914464818,
          0.04462414764399458,
          -1.9145131243458582,
          -0.11427451700397416,
          0.11571504513014078,
          -1.9685325028508807,
          -0.8963681324694284,
          -1.941089195810541,
          -2.1424232804875154,
          -1.0412662376420208,
          -1.0386592602796665,
          -2.115302714747602,
          -0.9033628507799096,
          -0.9945396078242842,
          -1.1004992785592984,
          -1.1092343707056256,
          -1.0922085098300434,
          -1.8846298706367284,
          -1.9529809973305265,
          -0.8584110072901242,
          -1.1317409327174115,
          -1.0023803158755853,
          -1.1184337665577835,
          -1.0599533324133472,
          -1.006692219216763,
          -0.9145451558861087,
          -1.0065169664207692,
          -0.9487790916798226,
          -2.124878034264146,
          -1.0934143867788395,
          -1.044295119465827,
          -2.0417801818668155,
          -2.137485923607402,
          -0.883976978009102,
          -0.8990312860008556,
          -2.041759813286577,
          -1.0515019517578308,
          -6.862511002818401,
          -7.131534025115745,
          -7.125896176977418,
          -7.001725380430319,
          -6.908053102958703,
          -7.122076870169317,
          -6.900396740995163,
          -5.937526731742214,
          -6.133025591529133,
          -6.90395719682928,
          -6.85534914374086,
          -6.013386468648667,
          -7.026526659791792,
          -6.025175212343777,
          -7.067960848350991,
          -6.865466163663224,
          -7.894101530248265,
          -6.902887741306405,
          -6.9212387821593095,
          -7.080240861492596,
          -5.91190222134391,
          -5.031565356072969,
          -7.914916757326131,
          -6.057130953277551,
          -6.087272844795666,
          -6.922719784986044,
          -6.142487728773418,
          -6.098008404224352,
          -5.943429031744926,
          -7.8614445742760655,
          -7.915130668384349,
          -6.966985556418866,
          -6.916675293370413,
          -6.881773751554862,
          -6.955726988597115,
          -7.052295255245375,
          -6.939737266453392,
          -6.915781772898882,
          -6.97547956754452,
          -6.939054227555272,
          -6.993499252204369,
          -6.899877435797344,
          -7.0209708749875475,
          -6.922683198943134,
          -6.977389531265606,
          -6.9165857807276065,
          -8.018505589034714,
          -7.004597540559939,
          -6.938998539038594,
          -7.073390666604774,
          -7.098446031581731,
          -6.952061453116259,
          -7.095255308544016,
          -7.111843862104047,
          -7.086598111985299,
          -6.871564816444815,
          -6.995500785919103,
          -7.04939014160887,
          -6.977514983595581,
          -8.103776008090612,
          -7.974206823764336,
          -7.140915094349387,
          -7.11781236129068,
          -7.097566476140092,
          -8.043346312137704,
          -7.147346557544728,
          -9.009827064808333,
          -6.974191603881154,
          -7.039847206487682,
          -6.961453435370296,
          -7.138941999007376,
          -6.900145999335186,
          -7.900613928093772,
          -6.873583693897835,
          -7.897429514939015,
          -6.919205331142225,
          -6.875380367695729,
          -6.914784635442458,
          -7.065780472396762,
          -6.114039530316228,
          -5.8908951596437165,
          -7.112637438079928,
          -5.956594531528574,
          -5.867748114947202,
          -6.037274446879249,
          -7.056099909799335,
          -6.088333702941194,
          -7.026502079400653,
          -6.855184542732106,
          -6.95239355945038,
          -6.8822545455996895,
          -7.008711775043805,
          -6.895349295347757,
          -6.98739267773437,
          -7.020159277168383,
          -7.0967803285672515,
          -6.97135381482261,
          -6.868545771143907,
          -6.95105473858808,
          -6.968969909315714,
          -6.874035559948426,
          -7.007779406412222,
          -7.040857661948281,
          -7.026003736166158,
          -6.986825964807061,
          -7.02608006459542,
          -7.085854569062145,
          -6.964476688393834,
          -6.947492682821245,
          -5.922021708698883,
          -6.035898481592992,
          -5.9281382691688576,
          -5.9194915978569815,
          -5.853134971753359,
          -6.943782928169057,
          -5.874586814402825,
          -5.140941561353632,
          -6.112304523916044,
          -4.889953914556172,
          -5.051637609557638,
          -5.05978540037626,
          -5.903252421378346,
          -5.997468383374709,
          -7.14491110291711,
          -6.99872481520394,
          -7.14655057352134,
          -5.952951349242794,
          -5.947356552129881,
          -5.929997314066198,
          -5.980718569214623,
          -6.9851022343535645,
          -7.001409394466759,
          -6.940381382720401,
          -6.975944184005458,
          -7.006098786286875,
          -6.940517916996181,
          -6.9936220807739655,
          -6.974218989811586,
          -8.038313009329388,
          -7.072630522492371,
          -6.934335164811225,
          -5.8630093485061225,
          -7.0505471738415375,
          -6.0357715261763,
          -6.9245987331850625,
          -6.105485804372352,
          -6.070439536392582,
          -5.891557475468375,
          -5.9579303658606415,
          -5.927175081956202,
          -6.045156307503735,
          -4.854920572763842,
          -5.022525941936333,
          -5.917559984628349,
          -6.136188868301534,
          -5.861418201121113,
          -5.982921322505887,
          -6.868950721096564,
          -6.0434785187767455,
          -6.023437706388198,
          -7.149664537148818,
          -8.05305119091512,
          -7.149884161463613,
          -5.856218383672469,
          -6.143233335465624,
          -5.975417959203115,
          -6.097898516825109,
          -7.0787424348722014,
          -7.133090869273224,
          -7.122270610137977,
          -6.034978700954343,
          -6.9200258055175015,
          -6.943541735828755,
          -5.9616980054132975,
          -4.064543218632149,
          -3.032210687715285,
          -5.110119794851586,
          -4.0765713211849794,
          -4.898081552397401,
          -3.9082273364338733,
          -4.973246631645342,
          -4.077569569693719,
          -4.044962390314583,
          -3.9053526398780267,
          -3.984297176682909,
          -3.8574650904068766,
          -5.0598328910610615,
          -1.952846531281256,
          -3.942279663689428,
          -3.9130303877975723,
          -4.018060902564892,
          -2.9502410536389263,
          -3.9348354811628528,
          -3.0460893965291063,
          -2.982456779056252,
          -3.9945101008689736,
          -3.9856682023995296,
          -2.962898911452251,
          -5.022795814159371,
          -4.986504159078948,
          -5.00997210006714,
          -4.936037731563484,
          -3.143765150843179,
          -3.011765792229306,
          -3.038261486124186,
          -2.9854290274985855,
          -2.9603099578996637,
          -3.1339448143274327,
          -2.9926180313187962,
          -2.865695468471188,
          -4.094194498083784,
          -4.115445953082463,
          -2.093637926111458,
          -3.00518662550414,
          -4.116588072776687,
          0.9413018019659645,
          -3.149838288795282,
          -2.972920867042551,
          -2.881062844402241,
          -1.9372683989817523,
          -3.9667859580186353,
          -2.877906033679668,
          -3.1101657819139628,
          -3.0201390682606024,
          -4.031270973017864,
          1.1354230178916036,
          -4.002666244790258,
          -4.084175573613513,
          -4.126775437322662,
          -2.9321123748549978,
          -0.01388687630506863,
          -4.868228113031648,
          -5.091255479592686,
          -3.1317908865411206,
          -5.095610610345474,
          -4.00362477158655,
          -5.111461025529983,
          0.9271882521960592,
          0.017283725992250476,
          -1.964959716394875,
          -0.9709750279472122,
          -0.9089097782517254,
          -3.868650735674101,
          -3.0709600232083196,
          -3.896123045040623,
          -4.003796546205042,
          -4.095458013201835,
          -3.892228258101759,
          -5.051360898935931,
          -3.895943660326475,
          0.9178697316651443,
          0.8626752571418514,
          -3.9272818795969044,
          -3.875054322471552,
          -3.957764833787177,
          -4.038827409662903,
          -3.8575521287237176,
          -5.068803891940801,
          -3.9030717261855843,
          0.0048796808711658035,
          -4.143003780056675,
          -5.025304195317374,
          -3.934319201464631,
          -4.086489401537491,
          -4.129789756905073,
          -0.9072566048725542,
          -2.9877822991011307,
          -4.0408076853096935,
          -1.9042787709490927,
          0.8721339439256878,
          -2.081044475003508,
          -2.929170773832097,
          -3.071576326982039,
          -3.9898071646966025,
          -1.8778553800707156,
          -3.0694072362747726,
          -4.12020148261043,
          -4.021472778292492,
          -2.10185891127214,
          -4.131829281066181,
          -3.1015758072871393,
          -0.8560178819019684,
          -0.877132863619894,
          -1.9403308783164501,
          -0.9997798996664282,
          -1.9283893006984645,
          -2.062527809584542,
          -0.013654426997346758,
          -3.085552120062634,
          -3.011738834580647,
          -0.8902809953491135,
          -3.1264476767694567,
          -3.9249350070344002,
          -2.9029004184560514,
          -3.9881947702927287,
          -5.032236973073808,
          -3.9519330080203168,
          -4.024075114419033,
          -3.9288301834761827,
          -3.9161253267652687,
          -4.030632540970104,
          -3.9225154254321435,
          -5.132609800554435,
          -3.933571608777243,
          -3.9501530692404137,
          -4.12361721693344,
          -3.8774615837946076,
          -3.8543728299806443,
          -3.987007761903219,
          -5.036484087320609,
          -4.043995492055785,
          -4.134548670227142,
          -4.11171052102319,
          -3.911418169262439,
          -4.02564310697667,
          -3.9745733402536083,
          -4.111272992037658,
          -3.9806209779697874,
          -1.9508553989095883,
          -1.8633975472196076,
          -1.8798718340570197,
          -2.036481909155794,
          -1.8964216333717274,
          -4.060178794310753,
          -2.019251526423557,
          -2.9283469208085062,
          -2.891935134895412,
          -3.8831815297523837,
          -4.888204049424279,
          -3.963337165304548,
          -4.146859267465374,
          -3.925802911396752,
          -4.982941647293068,
          -4.033570849823901,
          -5.082072389698048,
          -4.074812060602149,
          -4.056424957887153,
          -1.9384637495981663,
          -3.8715066002955183,
          -3.9434063198987905,
          -3.8802853694505792,
          -3.8561205462307635,
          -3.9836600507152498,
          -4.101099177296841,
          -3.9989219689973354,
          1.0918978621394415,
          -4.959326364128984,
          -4.06232866635645,
          -4.059347209255679,
          -3.9297367269037666,
          -4.078441101591631,
          -3.898682767339784,
          -4.007041457344262,
          1.0733105784753905,
          -5.01188934636973,
          -4.0655360692690365,
          -3.1402500038164187,
          -2.116804811146033,
          -4.097280211869459,
          -4.066427745873441,
          0.07107883568335199,
          -1.95016608559605,
          -4.0566032376801635,
          -4.134205109589758,
          -3.9398397720516867,
          -4.034673440606118,
          1.9071811743205336,
          1.8707723050933167,
          2.129286045629595,
          1.9456306900972993,
          1.9636829562222375,
          2.0107975206205246,
          2.0456112876526005,
          1.9718555820249146,
          2.0866100512094166,
          1.9939759084570519,
          1.9641566727371682,
          2.014722876511041,
          2.004670336638885,
          2.1396662893381753,
          1.9855886472632414,
          0.09224139438314169,
          1.875522920532045,
          1.9161681685259877,
          1.9496752623732252,
          1.9817087969963583,
          1.880014142924002,
          2.0100555100157265,
          1.9991218030266935,
          1.9509439549636447,
          1.856245073769363,
          2.101330729075075,
          2.003285564020195,
          2.0654469259387738,
          2.03834405320219,
          2.0811696883674675,
          1.9582412125662656,
          1.9154226094753013,
          1.9805096447451245,
          2.1355081782243373,
          1.854572750166028,
          2.1380928747086263,
          1.9202151483390562,
          2.042004998161298,
          2.0404082563062556,
          0.10860902293341038,
          -0.13062286921057323,
          1.9492406573779177,
          1.9115096211363705,
          1.9100715429093758,
          2.0724940217270276,
          2.029150667047413,
          2.098352537120431
         ],
         "yaxis": "y"
        },
        {
         "customdata": [
          [
           true,
           "Streptococcus pneumoniae"
          ],
          [
           true,
           "Streptococcus pneumoniae"
          ],
          [
           true,
           "Streptococcus sanguinis"
          ],
          [
           true,
           "Streptococcus salivarius"
          ],
          [
           true,
           "Streptococcus pneumoniae"
          ],
          [
           true,
           "Streptococcus pneumoniae"
          ],
          [
           true,
           "Streptococcus sanguinis"
          ],
          [
           true,
           "Streptococcus mitis"
          ],
          [
           true,
           "Streptococcus anginosus"
          ],
          [
           true,
           "Streptococcus pneumoniae"
          ],
          [
           true,
           "Streptococcus pneumoniae"
          ],
          [
           true,
           "Streptococcus pneumoniae"
          ],
          [
           true,
           "Streptococcus pneumoniae"
          ],
          [
           true,
           "Streptococcus pneumoniae"
          ],
          [
           true,
           "Streptococcus pneumoniae"
          ],
          [
           true,
           "Streptococcus pneumoniae"
          ],
          [
           true,
           "Streptococcus pneumoniae"
          ],
          [
           true,
           "Streptococcus mitis"
          ],
          [
           true,
           "Streptococcus mitis"
          ],
          [
           true,
           "Streptococcus sanguinis"
          ],
          [
           true,
           "Streptococcus oralis"
          ],
          [
           true,
           "Streptococcus oralis"
          ],
          [
           true,
           "Streptococcus pneumoniae"
          ],
          [
           true,
           "Streptococcus pneumoniae"
          ],
          [
           true,
           "Streptococcus pneumoniae"
          ],
          [
           true,
           "Streptococcus salivarius"
          ],
          [
           true,
           "Streptococcus salivarius"
          ],
          [
           true,
           "Streptococcus salivarius"
          ],
          [
           true,
           "Streptococcus anginosus"
          ],
          [
           true,
           "Streptococcus sanguinis"
          ],
          [
           true,
           "Enterococcus faecium"
          ],
          [
           true,
           "Streptococcus mitis"
          ],
          [
           true,
           "Streptococcus mitis"
          ],
          [
           true,
           "Streptococcus oralis"
          ],
          [
           true,
           "Streptococcus oralis"
          ],
          [
           true,
           "Streptococcus salivarius"
          ],
          [
           true,
           "Streptococcus salivarius"
          ],
          [
           true,
           "Streptococcus pneumoniae"
          ],
          [
           true,
           "Streptococcus pneumoniae"
          ],
          [
           true,
           "Streptococcus pneumoniae"
          ],
          [
           true,
           "Streptococcus pneumoniae"
          ],
          [
           true,
           "Streptococcus pneumoniae"
          ],
          [
           true,
           "Enterococcus faecalis"
          ],
          [
           true,
           "Enterococcus faecalis"
          ],
          [
           true,
           "Enterococcus faecium"
          ],
          [
           true,
           "Staphylococcus aureus"
          ],
          [
           true,
           "Staphylococcus capitis"
          ],
          [
           true,
           "Staphylococcus capitis"
          ],
          [
           true,
           "Staphylococcus capitis"
          ],
          [
           true,
           "Staphylococcus capitis"
          ],
          [
           true,
           "Staphylococcus epidermidis"
          ],
          [
           true,
           "Staphylococcus epidermidis"
          ],
          [
           true,
           "Staphylococcus epidermidis"
          ],
          [
           true,
           "Staphylococcus epidermidis"
          ],
          [
           true,
           "Staphylococcus epidermidis"
          ],
          [
           true,
           "Staphylococcus epidermidis"
          ],
          [
           true,
           "Staphylococcus epidermidis"
          ],
          [
           true,
           "Staphylococcus epidermidis"
          ],
          [
           true,
           "Staphylococcus aureus"
          ],
          [
           true,
           "Staphylococcus epidermidis"
          ],
          [
           true,
           "Staphylococcus hominis"
          ],
          [
           true,
           "Staphylococcus hominis"
          ],
          [
           true,
           "Staphylococcus hominis"
          ],
          [
           true,
           "Staphylococcus hominis"
          ],
          [
           true,
           "Staphylococcus hominis"
          ],
          [
           true,
           "Staphylococcus hominis"
          ],
          [
           true,
           "Staphylococcus hominis"
          ],
          [
           true,
           "Staphylococcus hominis"
          ],
          [
           true,
           "Staphylococcus hominis"
          ],
          [
           true,
           "Staphylococcus hominis"
          ],
          [
           true,
           "Staphylococcus hominis"
          ],
          [
           true,
           "Staphylococcus hominis"
          ],
          [
           true,
           "Staphylococcus hominis"
          ],
          [
           true,
           "Staphylococcus aureus"
          ],
          [
           true,
           "Staphylococcus aureus"
          ],
          [
           true,
           "Staphylococcus aureus"
          ],
          [
           true,
           "Staphylococcus aureus"
          ],
          [
           true,
           "Staphylococcus aureus"
          ],
          [
           true,
           "Staphylococcus aureus"
          ],
          [
           true,
           "Staphylococcus aureus"
          ],
          [
           true,
           "Staphylococcus aureus"
          ],
          [
           true,
           "Staphylococcus aureus"
          ],
          [
           true,
           "Staphylococcus aureus"
          ],
          [
           true,
           "Staphylococcus aureus"
          ],
          [
           true,
           "Staphylococcus aureus"
          ],
          [
           true,
           "Staphylococcus aureus"
          ],
          [
           true,
           "Staphylococcus hominis"
          ],
          [
           true,
           "Staphylococcus hominis"
          ],
          [
           true,
           "Staphylococcus hominis"
          ],
          [
           true,
           "Staphylococcus hominis"
          ],
          [
           true,
           "Staphylococcus hominis"
          ],
          [
           true,
           "Staphylococcus aureus"
          ],
          [
           true,
           "Staphylococcus aureus"
          ],
          [
           true,
           "Staphylococcus aureus"
          ],
          [
           true,
           "Staphylococcus aureus"
          ],
          [
           true,
           "Staphylococcus aureus"
          ],
          [
           true,
           "Staphylococcus aureus"
          ],
          [
           true,
           "Staphylococcus aureus"
          ],
          [
           true,
           "Staphylococcus aureus"
          ],
          [
           true,
           "Staphylococcus aureus"
          ],
          [
           true,
           "Staphylococcus aureus"
          ],
          [
           true,
           "Streptococcus agalactiae"
          ],
          [
           true,
           "Streptococcus agalactiae"
          ],
          [
           true,
           "Streptococcus agalactiae"
          ],
          [
           true,
           "Streptococcus agalactiae"
          ],
          [
           true,
           "Streptococcus agalactiae"
          ],
          [
           true,
           "Streptococcus agalactiae"
          ],
          [
           true,
           "Streptococcus agalactiae"
          ],
          [
           true,
           "Streptococcus agalactiae"
          ],
          [
           true,
           "Streptococcus agalactiae"
          ],
          [
           true,
           "Streptococcus agalactiae"
          ],
          [
           true,
           "Streptococcus agalactiae"
          ],
          [
           true,
           "Streptococcus agalactiae"
          ],
          [
           true,
           "Streptococcus agalactiae"
          ],
          [
           true,
           "Streptococcus agalactiae"
          ],
          [
           true,
           "Streptococcus pneumoniae"
          ],
          [
           true,
           "Streptococcus pneumoniae"
          ],
          [
           true,
           "Streptococcus pneumoniae"
          ],
          [
           true,
           "Streptococcus pneumoniae"
          ],
          [
           true,
           "Streptococcus pneumoniae"
          ],
          [
           true,
           "Streptococcus pneumoniae"
          ],
          [
           true,
           "Streptococcus pneumoniae"
          ],
          [
           true,
           "Streptococcus pneumoniae"
          ],
          [
           true,
           "Streptococcus pyogenes"
          ],
          [
           true,
           "Streptococcus pyogenes"
          ],
          [
           true,
           "Streptococcus pyogenes"
          ],
          [
           true,
           "Streptococcus pneumoniae"
          ],
          [
           true,
           "Streptococcus pyogenes"
          ],
          [
           true,
           "Streptococcus pyogenes"
          ],
          [
           true,
           "Streptococcus pyogenes"
          ],
          [
           true,
           "Streptococcus pyogenes"
          ],
          [
           true,
           "Streptococcus pyogenes"
          ],
          [
           true,
           "Streptococcus pyogenes"
          ],
          [
           true,
           "Streptococcus pneumoniae"
          ],
          [
           true,
           "Streptococcus agalactiae"
          ],
          [
           true,
           "Streptococcus pneumoniae"
          ],
          [
           true,
           "Streptococcus agalactiae"
          ],
          [
           true,
           "Streptococcus agalactiae"
          ],
          [
           true,
           "Streptococcus agalactiae"
          ],
          [
           true,
           "Streptococcus agalactiae"
          ],
          [
           true,
           "Streptococcus agalactiae"
          ],
          [
           true,
           "Streptococcus agalactiae"
          ],
          [
           true,
           "Streptococcus agalactiae"
          ],
          [
           true,
           "Streptococcus agalactiae"
          ],
          [
           true,
           "Streptococcus agalactiae"
          ],
          [
           true,
           "Streptococcus pneumoniae"
          ],
          [
           true,
           "Streptococcus pneumoniae"
          ],
          [
           true,
           "Streptococcus pneumoniae"
          ],
          [
           true,
           "Streptococcus pneumoniae"
          ],
          [
           true,
           "Streptococcus pneumoniae"
          ],
          [
           true,
           "Streptococcus pneumoniae"
          ],
          [
           true,
           "Streptococcus pneumoniae"
          ],
          [
           true,
           "Streptococcus pneumoniae"
          ],
          [
           true,
           "Streptococcus pneumoniae"
          ],
          [
           true,
           "Streptococcus pyogenes"
          ],
          [
           true,
           "Streptococcus pyogenes"
          ],
          [
           true,
           "Streptococcus pyogenes"
          ],
          [
           true,
           "Streptococcus pyogenes"
          ],
          [
           true,
           "Streptococcus pyogenes"
          ],
          [
           true,
           "Streptococcus pyogenes"
          ],
          [
           true,
           "Streptococcus pyogenes"
          ],
          [
           true,
           "Streptococcus pyogenes"
          ],
          [
           true,
           "Streptococcus pyogenes"
          ],
          [
           true,
           "Streptococcus pyogenes"
          ],
          [
           true,
           "Streptococcus pyogenes"
          ],
          [
           true,
           "Streptococcus pneumoniae"
          ],
          [
           true,
           "Streptococcus pneumoniae"
          ],
          [
           true,
           "Streptococcus pneumoniae"
          ],
          [
           true,
           "Streptococcus pneumoniae"
          ],
          [
           true,
           "Streptococcus pneumoniae"
          ],
          [
           true,
           "Staphylococcus aureus"
          ],
          [
           true,
           "Staphylococcus epidermidis"
          ],
          [
           true,
           "Staphylococcus aureus"
          ],
          [
           true,
           "Staphylococcus aureus"
          ],
          [
           true,
           "Staphylococcus aureus"
          ],
          [
           true,
           "Staphylococcus aureus"
          ],
          [
           true,
           "Staphylococcus epidermidis"
          ],
          [
           true,
           "Staphylococcus epidermidis"
          ],
          [
           true,
           "Staphylococcus epidermidis"
          ],
          [
           true,
           "Staphylococcus epidermidis"
          ],
          [
           true,
           "Staphylococcus aureus"
          ],
          [
           true,
           "Staphylococcus hominis"
          ],
          [
           true,
           "Staphylococcus epidermidis"
          ],
          [
           true,
           "Staphylococcus aureus"
          ],
          [
           true,
           "Staphylococcus aureus"
          ],
          [
           true,
           "Staphylococcus aureus"
          ],
          [
           true,
           "Staphylococcus aureus"
          ],
          [
           true,
           "Staphylococcus aureus"
          ],
          [
           true,
           "Staphylococcus epidermidis"
          ],
          [
           true,
           "Staphylococcus epidermidis"
          ],
          [
           true,
           "Staphylococcus epidermidis"
          ],
          [
           true,
           "Staphylococcus epidermidis"
          ],
          [
           true,
           "Staphylococcus epidermidis"
          ],
          [
           true,
           "Staphylococcus epidermidis"
          ],
          [
           true,
           "Staphylococcus hominis"
          ],
          [
           true,
           "Staphylococcus hominis"
          ],
          [
           true,
           "Staphylococcus hominis"
          ],
          [
           true,
           "Staphylococcus aureus"
          ],
          [
           true,
           "Staphylococcus hominis"
          ],
          [
           true,
           "Staphylococcus hominis"
          ],
          [
           true,
           "Staphylococcus hominis"
          ],
          [
           true,
           "Staphylococcus hominis"
          ],
          [
           true,
           "Staphylococcus epidermidis"
          ],
          [
           true,
           "Staphylococcus epidermidis"
          ],
          [
           true,
           "Staphylococcus epidermidis"
          ]
         ],
         "hovertemplate": "<b>%{hovertext}</b><br><br>SIR=Intermediate<br>Log2(MIC-value)=%{y:.0f}<br>Scale=%{customdata[0]}<br>Pathogen=%{customdata[1]}<extra></extra>",
         "hovertext": [
          "QM803",
          "QM810",
          "QM1333",
          "QM876",
          "QM325",
          "QM1353",
          "QM152",
          "BAR064",
          "QM1387",
          "QM1456",
          "QM1457",
          "QM1460",
          "QM1461",
          "QM1464",
          "QM1468",
          "QM1469",
          "QM1470",
          "QM870",
          "QM871",
          "QM872",
          "HV752",
          "QM138",
          "QM1574",
          "QM026",
          "QM329",
          "QM1486",
          "QM1487",
          "QM876",
          "QM1334",
          "QM868",
          "QM1249",
          "QM870",
          "QM871",
          "HV752",
          "QM138",
          "QM1486",
          "QM1487",
          "QM806",
          "QM1353",
          "QM1470",
          "QM326",
          "QM328",
          "QM065",
          "QM294",
          "QM1391",
          "QM323",
          "QM085",
          "QM086",
          "QM895",
          "QM897",
          "HV146",
          "HV156",
          "HV912",
          "HV975",
          "QM088",
          "QM089",
          "HV559",
          "HV615",
          "BAR059",
          "QM359",
          "HV103",
          "HV107",
          "HV114",
          "HV271",
          "HV330",
          "HV412",
          "HV414",
          "HV740",
          "HV753",
          "HV448",
          "HV500",
          "HV508",
          "HV517",
          "QM1325",
          "QM1326",
          "QM1327",
          "QM1359",
          "QM1360",
          "QM1362",
          "QM1364",
          "QM1367",
          "QM1370",
          "QM1379",
          "QM1385",
          "QM1388",
          "QM1450",
          "HV986",
          "QM963",
          "QM964",
          "HV794",
          "HV902",
          "AR0563",
          "AR0470",
          "AR0475",
          "AR0476",
          "AR0477",
          "AR0478",
          "AR0221",
          "AR0481",
          "AR0490",
          "AR0704",
          "QM1007",
          "QM1008",
          "QM1010",
          "QM1011",
          "QM1013",
          "QM1014",
          "QM1015",
          "QM886",
          "BAR006",
          "BAR008",
          "BAR018",
          "BAR019",
          "BAR023",
          "BAR024",
          "QM803",
          "QM804",
          "QM805",
          "QM806",
          "QM807",
          "QM808",
          "QM810",
          "BAR026",
          "QM1002",
          "QM878",
          "QM879",
          "PER134",
          "QM880",
          "QM882",
          "QM883",
          "QM884",
          "PER159",
          "BAR009",
          "QM325",
          "QM1440",
          "QM1353",
          "QM1533",
          "QM1536",
          "QM1537",
          "QM1539",
          "QM1540",
          "QM1541",
          "QM1542",
          "QM1543",
          "QM1545",
          "QM1456",
          "QM1457",
          "QM1460",
          "QM1461",
          "QM1464",
          "QM1468",
          "QM1469",
          "QM1470",
          "QM1574",
          "QM1547",
          "QM1549",
          "QM1551",
          "QM1552",
          "QM1555",
          "QM1556",
          "QM1557",
          "QM1558",
          "QM1559",
          "QM1561",
          "QM1565",
          "QM025",
          "QM026",
          "QM027",
          "QM328",
          "QM329",
          "AR0720",
          "HV455",
          "AR0706",
          "AR0724",
          "QM321",
          "QM993",
          "HV116",
          "HV119",
          "HV146",
          "QM968",
          "QM1452",
          "QM093",
          "QM1258",
          "AR0490",
          "AR0225",
          "AR0716",
          "AR0721",
          "AR0724",
          "HV109",
          "HV119",
          "HV136",
          "HV953",
          "HV523",
          "QM968",
          "HV245",
          "HV277",
          "HV517",
          "QM1358",
          "QM963",
          "QM964",
          "HV88",
          "HV902",
          "HV733",
          "HV734",
          "HV744"
         ],
         "legendgroup": "Intermediate",
         "marker": {
          "color": "gold",
          "symbol": "circle"
         },
         "mode": "markers",
         "name": "Intermediate",
         "showlegend": true,
         "type": "scattergl",
         "x": [
          -0.0728763166911205,
          -0.11078798407470083,
          -0.1270506939340312,
          0.05779416769830714,
          0.05304486700421468,
          0.10441856005149983,
          -0.004726141854906468,
          0.032361883660505075,
          -0.035228503371014006,
          0.11272500407201405,
          -0.10647850244796081,
          0.07869981248463484,
          -0.08752918795028863,
          0.1492025299940675,
          -0.12065850749010396,
          0.02565129180387668,
          0.1278234052600334,
          -0.14905997276633284,
          -0.13562970106674996,
          0.023744707795174236,
          0.13565749212082287,
          0.01748955910435382,
          -0.05185136829166549,
          0.0971260983874618,
          -0.05697235520140466,
          -0.14996356195841007,
          -0.04980040758707177,
          0.8732696202334199,
          1.1232460681620093,
          0.96612101067295,
          0.8724038161278957,
          0.9900131416958147,
          1.1286236457690775,
          1.072284024322208,
          0.9475973004136118,
          1.1081204899876065,
          1.1099036612914108,
          5.053787734494556,
          4.95294729026774,
          4.9867846303298915,
          4.919732969095419,
          5.045447647187466,
          5.9197068437928,
          6.037350117152475,
          5.997890914258411,
          8.010482861212036,
          7.88082315449079,
          7.9835933233621095,
          7.933069227508576,
          8.035020049832678,
          8.149126893589166,
          8.064857522837004,
          7.85427516472916,
          8.01105454596382,
          7.959193925079482,
          7.855519617197936,
          7.959365777655134,
          8.097232241748145,
          8.039641700286607,
          8.06720418384822,
          8.041365737879543,
          8.02806816345424,
          8.061282050897166,
          7.880235235904068,
          7.894727729809579,
          7.8773921734369114,
          7.99369564892481,
          8.07365657962983,
          8.133266172431899,
          7.850652957374683,
          7.923485232485732,
          8.074057127575939,
          8.030618612182083,
          7.9036717777799605,
          7.863836985689372,
          8.006839433603721,
          8.07333430246355,
          8.08233691311361,
          7.913014203375111,
          8.086963473871762,
          8.074306972790273,
          7.904883712149761,
          7.85286233982546,
          7.945966987825539,
          7.902559321032819,
          7.951792398112143,
          7.890713656593612,
          8.102202287774816,
          7.9063089704193406,
          7.916235373570138,
          7.921414182417286,
          7.898366493417447,
          7.979836841344219,
          8.006375630600617,
          7.95752805555004,
          8.01225628719735,
          7.975595457441693,
          8.0418424086908,
          7.997266403600534,
          8.070997673311414,
          7.916723160821697,
          8.990545347471068,
          9.046268938746003,
          9.05566842186667,
          8.969342034463184,
          9.093667478217942,
          8.99051643381233,
          8.938782289804813,
          9.02531531928581,
          9.028133619565903,
          9.063850041398753,
          9.128124121215185,
          9.11242488997216,
          9.096528526924526,
          9.12619420654188,
          9.096766776759955,
          8.981408772594927,
          9.071930025495822,
          9.039126043703453,
          9.04918943804601,
          9.054057924114865,
          9.069959345797024,
          8.925262129187102,
          9.059860359704087,
          8.936354642817301,
          8.913914180661298,
          8.87162988771946,
          8.865433476954589,
          8.937036312660835,
          9.13419581247903,
          8.919776713498836,
          8.91285663047468,
          9.09212280622862,
          9.139845962641749,
          8.954295569960314,
          9.057274451037344,
          8.909285776016693,
          8.930281908030125,
          9.026461711616086,
          8.89170136723311,
          8.871759134879396,
          8.914136036102816,
          8.941138997668913,
          8.985085551942708,
          9.045297150422407,
          8.99254892126509,
          8.91128907889246,
          8.93707243979907,
          9.01440856884979,
          8.938057452101322,
          9.080374039079024,
          9.136899764554467,
          8.996729694580987,
          8.955112624893207,
          9.055965332150292,
          9.129792999125021,
          9.007971559837644,
          9.065363164130328,
          9.13245798579372,
          9.032850724006584,
          8.898866721728403,
          8.918090870507479,
          8.881871970712822,
          8.91502272811674,
          8.978207242333092,
          8.856438667592384,
          8.885810943592386,
          8.902269696236221,
          9.007955935289537,
          8.9553198035224,
          14.099927644187373,
          14.871195334468094,
          14.987937625381996,
          15.124400017041522,
          16.056154068843068,
          16.11696567620469,
          16.10233338847062,
          16.05470815410268,
          15.998090634830419,
          16.08089956676014,
          15.898458893328646,
          15.975933965191281,
          16.00737291159679,
          15.90602122410412,
          16.110797964462403,
          15.889253613779319,
          16.057802365992163,
          15.885859935343413,
          20.086550541497864,
          19.976734099052667,
          19.991603560169697,
          19.98901349460571,
          19.97262803300009,
          19.85267872690783,
          19.930101786399977,
          20.1045269169407,
          20.089422940426886,
          19.927591346752386,
          20.065341223565046,
          19.854481739569234,
          20.044051733595733,
          19.916551233782275,
          20.027069561207288,
          19.851587223718617,
          19.889375221067215
         ],
         "xaxis": "x",
         "y": [
          -0.9325311002232727,
          -1.9295106381069327,
          1.1143671003355133,
          -0.09217425033476634,
          -1.0949206102651092,
          0.9542281410060204,
          0.014047954404237034,
          0.9111153281422262,
          1.1112698930892204,
          -2.1213633439288992,
          -2.109559542993932,
          -2.0431991638209985,
          -2.0151622645368406,
          -2.0997974994408346,
          1.0525303879058945,
          -2.0686207972159307,
          0.9639209813442695,
          0.015305600765989635,
          -1.0729580369842375,
          0.8993688366041896,
          -0.01102409385608119,
          0.01821167102252086,
          -2.1373055217513386,
          1.0647522921064798,
          -1.9139982184328281,
          1.124830107636188,
          -0.019215750017770067,
          -0.010214348060258754,
          0.009434752502826216,
          0.08193475240897954,
          3.032783645767954,
          1.0443348435921291,
          0.05411546413513907,
          -0.14724901350981914,
          0.923406098295257,
          -0.0037737816893771425,
          0.9406198706203788,
          -0.061438662798948177,
          0.07063907393445329,
          0.09207451317061396,
          -0.030632156775768804,
          0.02348021044450177,
          1.9613342687515969,
          1.1218025686532545,
          -2.8930333263226595,
          -2.05971681517353,
          -1.990620820820946,
          -2.1466196768059547,
          0.06738780641518202,
          -2.0793413040669604,
          -2.1119149929509287,
          -1.9096933567664243,
          -2.0319299224595087,
          -1.911615492208866,
          -2.9436128938558648,
          -3.0302290228526174,
          -3.0615983936780133,
          -2.0155789808261013,
          -0.020861702607678778,
          -1.8984173957832275,
          -3.01403890453307,
          -2.922582389455586,
          -3.026314100047624,
          0.10179848882747985,
          -3.077888908809858,
          -3.139199944020368,
          -3.9994718365574347,
          -3.9854492038533684,
          -3.9768578458773423,
          -2.86470451468216,
          -2.922029001480693,
          -0.11871571392432886,
          -4.082023324179025,
          -0.8613863221727744,
          0.13307738415488127,
          -1.9211218625177966,
          -1.1186466898144596,
          0.05857767130229091,
          -1.076799243763334,
          -0.8758216973383002,
          -0.9749301521801597,
          0.11124728722555707,
          0.11779986684569901,
          -0.13099579449465112,
          0.08858548857715162,
          -0.9078919575708906,
          -2.9323304130949386,
          -2.864301751058587,
          -2.989474958242119,
          -2.8746913157332434,
          -3.128706813590454,
          -1.960255444236315,
          -3.020698508425951,
          -0.8570274205610098,
          -1.956964345871785,
          -2.0308781394846154,
          -1.9553997261037939,
          -0.9440730620401256,
          -2.09202503963527,
          0.13507613104536956,
          -1.999488694256852,
          -0.9492630287044224,
          -1.0448490643138517,
          -0.8659484671415223,
          0.04941699398461097,
          0.05301232675896053,
          0.04207104552534224,
          -0.9995142822716145,
          -0.9774837897542845,
          -0.1119944170940229,
          -0.8552405062146512,
          0.1363335354775663,
          -0.11924779236782465,
          0.0527280159990878,
          -0.09018324620391986,
          -0.11201058635244751,
          -0.09598418636033844,
          -0.093665608704361,
          -0.06664900091400025,
          -0.0008741130672887676,
          0.13855172010282138,
          0.06273431215045447,
          -0.07023016645157708,
          1.0392210072386723,
          -0.8555531900937847,
          0.0675737363390958,
          -0.051125938251874184,
          -1.899880679490826,
          -0.08073822975244609,
          0.05787807999346245,
          -1.920008906840724,
          -1.0353756798741964,
          -1.08262977775168,
          -1.0015062071440632,
          -0.050261095251660226,
          0.1014376887195095,
          -0.13283783854658343,
          0.1006549419104347,
          0.10205562540987537,
          0.8646996624063867,
          1.0684925982913158,
          0.029860560419682963,
          -1.0708785175009385,
          0.03596929298390897,
          0.07663675877807799,
          -0.08176516008501993,
          0.13666864458631847,
          0.10258801711661905,
          -0.11518417891761848,
          0.12225287186468711,
          0.07313663717308744,
          -0.11784350299982992,
          0.03531130757026324,
          0.027494639688229905,
          0.054865246319808214,
          -0.061503947761273506,
          -1.1471556135318208,
          0.00029084450424674,
          -0.9370296254198254,
          -0.9120420294394515,
          0.027973319014079012,
          -0.0015312193806881202,
          0.13732526239611667,
          0.14513533960431732,
          -0.1307765175050496,
          0.10023816311841552,
          -0.1389986343838663,
          -0.13812179298116767,
          0.03954953085767238,
          0.14661044401798748,
          1.0863429122009616,
          -1.1135994191368719,
          -1.122451002443985,
          -1.1462493609058773,
          1.0733871929748218,
          0.9435860990984327,
          0.923137472326137,
          0.9447005820238387,
          0.9699658691930133,
          0.8628760923251997,
          1.0068285965069912,
          1.0131339790981404,
          0.9637586944722916,
          1.0031712481776032,
          1.0909183611003173,
          0.9768775005763524,
          1.0940849686104261,
          1.141154204789492,
          1.8650954910795594,
          1.8527777680646276,
          1.9628849560755888,
          1.8793666182208748,
          2.138857958290065,
          1.8752192332206943,
          1.9318788439058803,
          1.8644411458452872,
          2.0457496870117127,
          2.1397278923990988,
          2.1030357272449547,
          1.9855029098726686,
          2.0605335222243495,
          1.9373011021811528,
          1.987622280280671,
          1.9803338190622426,
          1.9828694907246431
         ],
         "yaxis": "y"
        }
       ],
       "layout": {
        "legend": {
         "orientation": "h",
         "title": {
          "text": "SIR"
         },
         "tracegroupgap": 0,
         "x": 1,
         "xanchor": "right",
         "y": 1.02,
         "yanchor": "bottom"
        },
        "template": {
         "data": {
          "bar": [
           {
            "error_x": {
             "color": "#2a3f5f"
            },
            "error_y": {
             "color": "#2a3f5f"
            },
            "marker": {
             "line": {
              "color": "#E5ECF6",
              "width": 0.5
             },
             "pattern": {
              "fillmode": "overlay",
              "size": 10,
              "solidity": 0.2
             }
            },
            "type": "bar"
           }
          ],
          "barpolar": [
           {
            "marker": {
             "line": {
              "color": "#E5ECF6",
              "width": 0.5
             },
             "pattern": {
              "fillmode": "overlay",
              "size": 10,
              "solidity": 0.2
             }
            },
            "type": "barpolar"
           }
          ],
          "carpet": [
           {
            "aaxis": {
             "endlinecolor": "#2a3f5f",
             "gridcolor": "white",
             "linecolor": "white",
             "minorgridcolor": "white",
             "startlinecolor": "#2a3f5f"
            },
            "baxis": {
             "endlinecolor": "#2a3f5f",
             "gridcolor": "white",
             "linecolor": "white",
             "minorgridcolor": "white",
             "startlinecolor": "#2a3f5f"
            },
            "type": "carpet"
           }
          ],
          "choropleth": [
           {
            "colorbar": {
             "outlinewidth": 0,
             "ticks": ""
            },
            "type": "choropleth"
           }
          ],
          "contour": [
           {
            "colorbar": {
             "outlinewidth": 0,
             "ticks": ""
            },
            "colorscale": [
             [
              0,
              "#0d0887"
             ],
             [
              0.1111111111111111,
              "#46039f"
             ],
             [
              0.2222222222222222,
              "#7201a8"
             ],
             [
              0.3333333333333333,
              "#9c179e"
             ],
             [
              0.4444444444444444,
              "#bd3786"
             ],
             [
              0.5555555555555556,
              "#d8576b"
             ],
             [
              0.6666666666666666,
              "#ed7953"
             ],
             [
              0.7777777777777778,
              "#fb9f3a"
             ],
             [
              0.8888888888888888,
              "#fdca26"
             ],
             [
              1,
              "#f0f921"
             ]
            ],
            "type": "contour"
           }
          ],
          "contourcarpet": [
           {
            "colorbar": {
             "outlinewidth": 0,
             "ticks": ""
            },
            "type": "contourcarpet"
           }
          ],
          "heatmap": [
           {
            "colorbar": {
             "outlinewidth": 0,
             "ticks": ""
            },
            "colorscale": [
             [
              0,
              "#0d0887"
             ],
             [
              0.1111111111111111,
              "#46039f"
             ],
             [
              0.2222222222222222,
              "#7201a8"
             ],
             [
              0.3333333333333333,
              "#9c179e"
             ],
             [
              0.4444444444444444,
              "#bd3786"
             ],
             [
              0.5555555555555556,
              "#d8576b"
             ],
             [
              0.6666666666666666,
              "#ed7953"
             ],
             [
              0.7777777777777778,
              "#fb9f3a"
             ],
             [
              0.8888888888888888,
              "#fdca26"
             ],
             [
              1,
              "#f0f921"
             ]
            ],
            "type": "heatmap"
           }
          ],
          "heatmapgl": [
           {
            "colorbar": {
             "outlinewidth": 0,
             "ticks": ""
            },
            "colorscale": [
             [
              0,
              "#0d0887"
             ],
             [
              0.1111111111111111,
              "#46039f"
             ],
             [
              0.2222222222222222,
              "#7201a8"
             ],
             [
              0.3333333333333333,
              "#9c179e"
             ],
             [
              0.4444444444444444,
              "#bd3786"
             ],
             [
              0.5555555555555556,
              "#d8576b"
             ],
             [
              0.6666666666666666,
              "#ed7953"
             ],
             [
              0.7777777777777778,
              "#fb9f3a"
             ],
             [
              0.8888888888888888,
              "#fdca26"
             ],
             [
              1,
              "#f0f921"
             ]
            ],
            "type": "heatmapgl"
           }
          ],
          "histogram": [
           {
            "marker": {
             "pattern": {
              "fillmode": "overlay",
              "size": 10,
              "solidity": 0.2
             }
            },
            "type": "histogram"
           }
          ],
          "histogram2d": [
           {
            "colorbar": {
             "outlinewidth": 0,
             "ticks": ""
            },
            "colorscale": [
             [
              0,
              "#0d0887"
             ],
             [
              0.1111111111111111,
              "#46039f"
             ],
             [
              0.2222222222222222,
              "#7201a8"
             ],
             [
              0.3333333333333333,
              "#9c179e"
             ],
             [
              0.4444444444444444,
              "#bd3786"
             ],
             [
              0.5555555555555556,
              "#d8576b"
             ],
             [
              0.6666666666666666,
              "#ed7953"
             ],
             [
              0.7777777777777778,
              "#fb9f3a"
             ],
             [
              0.8888888888888888,
              "#fdca26"
             ],
             [
              1,
              "#f0f921"
             ]
            ],
            "type": "histogram2d"
           }
          ],
          "histogram2dcontour": [
           {
            "colorbar": {
             "outlinewidth": 0,
             "ticks": ""
            },
            "colorscale": [
             [
              0,
              "#0d0887"
             ],
             [
              0.1111111111111111,
              "#46039f"
             ],
             [
              0.2222222222222222,
              "#7201a8"
             ],
             [
              0.3333333333333333,
              "#9c179e"
             ],
             [
              0.4444444444444444,
              "#bd3786"
             ],
             [
              0.5555555555555556,
              "#d8576b"
             ],
             [
              0.6666666666666666,
              "#ed7953"
             ],
             [
              0.7777777777777778,
              "#fb9f3a"
             ],
             [
              0.8888888888888888,
              "#fdca26"
             ],
             [
              1,
              "#f0f921"
             ]
            ],
            "type": "histogram2dcontour"
           }
          ],
          "mesh3d": [
           {
            "colorbar": {
             "outlinewidth": 0,
             "ticks": ""
            },
            "type": "mesh3d"
           }
          ],
          "parcoords": [
           {
            "line": {
             "colorbar": {
              "outlinewidth": 0,
              "ticks": ""
             }
            },
            "type": "parcoords"
           }
          ],
          "pie": [
           {
            "automargin": true,
            "type": "pie"
           }
          ],
          "scatter": [
           {
            "fillpattern": {
             "fillmode": "overlay",
             "size": 10,
             "solidity": 0.2
            },
            "type": "scatter"
           }
          ],
          "scatter3d": [
           {
            "line": {
             "colorbar": {
              "outlinewidth": 0,
              "ticks": ""
             }
            },
            "marker": {
             "colorbar": {
              "outlinewidth": 0,
              "ticks": ""
             }
            },
            "type": "scatter3d"
           }
          ],
          "scattercarpet": [
           {
            "marker": {
             "colorbar": {
              "outlinewidth": 0,
              "ticks": ""
             }
            },
            "type": "scattercarpet"
           }
          ],
          "scattergeo": [
           {
            "marker": {
             "colorbar": {
              "outlinewidth": 0,
              "ticks": ""
             }
            },
            "type": "scattergeo"
           }
          ],
          "scattergl": [
           {
            "marker": {
             "colorbar": {
              "outlinewidth": 0,
              "ticks": ""
             }
            },
            "type": "scattergl"
           }
          ],
          "scattermapbox": [
           {
            "marker": {
             "colorbar": {
              "outlinewidth": 0,
              "ticks": ""
             }
            },
            "type": "scattermapbox"
           }
          ],
          "scatterpolar": [
           {
            "marker": {
             "colorbar": {
              "outlinewidth": 0,
              "ticks": ""
             }
            },
            "type": "scatterpolar"
           }
          ],
          "scatterpolargl": [
           {
            "marker": {
             "colorbar": {
              "outlinewidth": 0,
              "ticks": ""
             }
            },
            "type": "scatterpolargl"
           }
          ],
          "scatterternary": [
           {
            "marker": {
             "colorbar": {
              "outlinewidth": 0,
              "ticks": ""
             }
            },
            "type": "scatterternary"
           }
          ],
          "surface": [
           {
            "colorbar": {
             "outlinewidth": 0,
             "ticks": ""
            },
            "colorscale": [
             [
              0,
              "#0d0887"
             ],
             [
              0.1111111111111111,
              "#46039f"
             ],
             [
              0.2222222222222222,
              "#7201a8"
             ],
             [
              0.3333333333333333,
              "#9c179e"
             ],
             [
              0.4444444444444444,
              "#bd3786"
             ],
             [
              0.5555555555555556,
              "#d8576b"
             ],
             [
              0.6666666666666666,
              "#ed7953"
             ],
             [
              0.7777777777777778,
              "#fb9f3a"
             ],
             [
              0.8888888888888888,
              "#fdca26"
             ],
             [
              1,
              "#f0f921"
             ]
            ],
            "type": "surface"
           }
          ],
          "table": [
           {
            "cells": {
             "fill": {
              "color": "#EBF0F8"
             },
             "line": {
              "color": "white"
             }
            },
            "header": {
             "fill": {
              "color": "#C8D4E3"
             },
             "line": {
              "color": "white"
             }
            },
            "type": "table"
           }
          ]
         },
         "layout": {
          "annotationdefaults": {
           "arrowcolor": "#2a3f5f",
           "arrowhead": 0,
           "arrowwidth": 1
          },
          "autotypenumbers": "strict",
          "coloraxis": {
           "colorbar": {
            "outlinewidth": 0,
            "ticks": ""
           }
          },
          "colorscale": {
           "diverging": [
            [
             0,
             "#8e0152"
            ],
            [
             0.1,
             "#c51b7d"
            ],
            [
             0.2,
             "#de77ae"
            ],
            [
             0.3,
             "#f1b6da"
            ],
            [
             0.4,
             "#fde0ef"
            ],
            [
             0.5,
             "#f7f7f7"
            ],
            [
             0.6,
             "#e6f5d0"
            ],
            [
             0.7,
             "#b8e186"
            ],
            [
             0.8,
             "#7fbc41"
            ],
            [
             0.9,
             "#4d9221"
            ],
            [
             1,
             "#276419"
            ]
           ],
           "sequential": [
            [
             0,
             "#0d0887"
            ],
            [
             0.1111111111111111,
             "#46039f"
            ],
            [
             0.2222222222222222,
             "#7201a8"
            ],
            [
             0.3333333333333333,
             "#9c179e"
            ],
            [
             0.4444444444444444,
             "#bd3786"
            ],
            [
             0.5555555555555556,
             "#d8576b"
            ],
            [
             0.6666666666666666,
             "#ed7953"
            ],
            [
             0.7777777777777778,
             "#fb9f3a"
            ],
            [
             0.8888888888888888,
             "#fdca26"
            ],
            [
             1,
             "#f0f921"
            ]
           ],
           "sequentialminus": [
            [
             0,
             "#0d0887"
            ],
            [
             0.1111111111111111,
             "#46039f"
            ],
            [
             0.2222222222222222,
             "#7201a8"
            ],
            [
             0.3333333333333333,
             "#9c179e"
            ],
            [
             0.4444444444444444,
             "#bd3786"
            ],
            [
             0.5555555555555556,
             "#d8576b"
            ],
            [
             0.6666666666666666,
             "#ed7953"
            ],
            [
             0.7777777777777778,
             "#fb9f3a"
            ],
            [
             0.8888888888888888,
             "#fdca26"
            ],
            [
             1,
             "#f0f921"
            ]
           ]
          },
          "colorway": [
           "#636efa",
           "#EF553B",
           "#00cc96",
           "#ab63fa",
           "#FFA15A",
           "#19d3f3",
           "#FF6692",
           "#B6E880",
           "#FF97FF",
           "#FECB52"
          ],
          "font": {
           "color": "#2a3f5f"
          },
          "geo": {
           "bgcolor": "white",
           "lakecolor": "white",
           "landcolor": "#E5ECF6",
           "showlakes": true,
           "showland": true,
           "subunitcolor": "white"
          },
          "hoverlabel": {
           "align": "left"
          },
          "hovermode": "closest",
          "mapbox": {
           "style": "light"
          },
          "paper_bgcolor": "white",
          "plot_bgcolor": "#E5ECF6",
          "polar": {
           "angularaxis": {
            "gridcolor": "white",
            "linecolor": "white",
            "ticks": ""
           },
           "bgcolor": "#E5ECF6",
           "radialaxis": {
            "gridcolor": "white",
            "linecolor": "white",
            "ticks": ""
           }
          },
          "scene": {
           "xaxis": {
            "backgroundcolor": "#E5ECF6",
            "gridcolor": "white",
            "gridwidth": 2,
            "linecolor": "white",
            "showbackground": true,
            "ticks": "",
            "zerolinecolor": "white"
           },
           "yaxis": {
            "backgroundcolor": "#E5ECF6",
            "gridcolor": "white",
            "gridwidth": 2,
            "linecolor": "white",
            "showbackground": true,
            "ticks": "",
            "zerolinecolor": "white"
           },
           "zaxis": {
            "backgroundcolor": "#E5ECF6",
            "gridcolor": "white",
            "gridwidth": 2,
            "linecolor": "white",
            "showbackground": true,
            "ticks": "",
            "zerolinecolor": "white"
           }
          },
          "shapedefaults": {
           "line": {
            "color": "#2a3f5f"
           }
          },
          "ternary": {
           "aaxis": {
            "gridcolor": "white",
            "linecolor": "white",
            "ticks": ""
           },
           "baxis": {
            "gridcolor": "white",
            "linecolor": "white",
            "ticks": ""
           },
           "bgcolor": "#E5ECF6",
           "caxis": {
            "gridcolor": "white",
            "linecolor": "white",
            "ticks": ""
           }
          },
          "title": {
           "x": 0.05
          },
          "xaxis": {
           "automargin": true,
           "gridcolor": "white",
           "linecolor": "white",
           "ticks": "",
           "title": {
            "standoff": 15
           },
           "zerolinecolor": "white",
           "zerolinewidth": 2
          },
          "yaxis": {
           "automargin": true,
           "gridcolor": "white",
           "linecolor": "white",
           "ticks": "",
           "title": {
            "standoff": 15
           },
           "zerolinecolor": "white",
           "zerolinewidth": 2
          }
         }
        },
        "title": {
         "text": "Isolate log2(MIC-values) for different antibiotics"
        },
        "xaxis": {
         "anchor": "y",
         "domain": [
          0,
          1
         ],
         "tickmode": "array",
         "ticktext": [
          "Benzylpenicillin",
          "Ampicillin",
          "Cefoxitin",
          "Ceftaroline",
          "Ceftobiprole",
          "Ceftriaxone",
          "Imipenem",
          "Meropenem",
          "Ciprofloxacin",
          "Levofloxacin",
          "Gentamicin",
          "Dalbavancin",
          "Teicoplanin",
          "Vancomycin",
          "Erythromycin",
          "Clindamycin",
          "Tetracycline",
          "Linezolid",
          "Daptomycin",
          "Rifampicin",
          "Trimeth-sulf",
          "D-test",
          "Optochin"
         ],
         "tickvals": [
          0,
          1,
          2,
          3,
          4,
          5,
          6,
          7,
          8,
          9,
          10,
          11,
          12,
          13,
          14,
          15,
          16,
          17,
          18,
          19,
          20,
          21,
          22
         ],
         "title": {
          "text": "Antibiotics"
         }
        },
        "yaxis": {
         "anchor": "x",
         "domain": [
          0,
          1
         ],
         "range": [
          -10,
          11
         ],
         "tickmode": "array",
         "ticktext": [
          "Min C",
          "0.00195",
          "0.00391",
          "0.00781",
          "0.01563",
          "0.03125",
          "0.0625",
          "0.125",
          "0.25",
          "0.5",
          "1",
          "2",
          "4",
          "8",
          "16",
          "32",
          "64",
          "128",
          "256",
          "512",
          "1024",
          "Max C"
         ],
         "tickvals": [
          -10,
          -9,
          -8,
          -7,
          -6,
          -5,
          -4,
          -3,
          -2,
          -1,
          0,
          1,
          2,
          3,
          4,
          5,
          6,
          7,
          8,
          9,
          10,
          11
         ],
         "title": {
          "text": "Log2(MIC-value)"
         }
        }
       }
      }
     },
     "metadata": {},
     "output_type": "display_data"
    }
   ],
   "source": [
    "def main():\n",
    "    # Load files\n",
    "    chosen_isolates_list = pd.read_csv(\"Chosen_isolates_list.csv\")\n",
    "    CIB = pd.ExcelFile(\"CIB_TF-data_AllIsolates_20230302.xlsx\")\n",
    "    matrix_EU = pd.read_excel(CIB, \"matrix EU\")\n",
    "    \n",
    "    # Rename a long name for plotting purposes\n",
    "    matrix_EU.rename(columns={\"Trimethoprim-sulfamethoxazole\": \"Trimeth-sulf\"}, inplace=True)\n",
    "    \n",
    "    # Select isolates\n",
    "    chosen_isolates = extract_chosen_isolates(chosen_isolates_list, matrix_EU)\n",
    "    \n",
    "    # List of antiiotic names\n",
    "    antibiotics = list(chosen_isolates.columns[3:])    \n",
    "     \n",
    "    # Extract all SIRs for an antibiotic.\n",
    "    chosen_isolates_SIR = extract_SIR(chosen_isolates, antibiotics)\n",
    "    \n",
    "    # Remove the tuples that have None in their SIR data\n",
    "    filtered_chosen_isolates_SIR = filter_mic_values(chosen_isolates_SIR)\n",
    "    \n",
    "    # Extract the mic-values of each isolate for each antibiotic.\n",
    "    mic_data = extract_mic_data(filtered_chosen_isolates_SIR, antibiotics)\n",
    "    \n",
    "    # Create dataframe used for plotting\n",
    "    plot_df = create_plot_df(antibiotics, mic_data)\n",
    "    \n",
    "    plotly_dotplot(antibiotics, mic_data)\n",
    "    \n",
    "if __name__ == \"__main__\":\n",
    "    main()\n"
   ]
  }
 ],
 "metadata": {
  "kernelspec": {
   "display_name": "Python 3",
   "language": "python",
   "name": "python3"
  },
  "language_info": {
   "codemirror_mode": {
    "name": "ipython",
    "version": 3
   },
   "file_extension": ".py",
   "mimetype": "text/x-python",
   "name": "python",
   "nbconvert_exporter": "python",
   "pygments_lexer": "ipython3",
   "version": "3.11.0"
  },
  "orig_nbformat": 4
 },
 "nbformat": 4,
 "nbformat_minor": 2
}
