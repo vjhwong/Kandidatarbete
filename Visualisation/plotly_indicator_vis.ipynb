{
 "cells": [
  {
   "cell_type": "code",
   "execution_count": 12,
   "metadata": {},
   "outputs": [],
   "source": [
    "import pandas as pd\n",
    "import numpy as np\n",
    "import plotly.express as px"
   ]
  },
  {
   "cell_type": "code",
   "execution_count": 13,
   "metadata": {},
   "outputs": [],
   "source": [
    "def extract_chosen_isolates(\n",
    "    chosen_isolates: pd.DataFrame, matrix_EU: pd.DataFrame\n",
    ") -> pd.DataFrame:\n",
    "    \"\"\"\n",
    "    Select the chosen isolates from the script. Return a DataFrame only containing the rows of selected isolates\n",
    "    \"\"\"\n",
    "    chosen_rows = matrix_EU[\"Isolate\"].isin(chosen_isolates[\"Isolate\"])\n",
    "    return matrix_EU[chosen_rows]"
   ]
  },
  {
   "cell_type": "code",
   "execution_count": 14,
   "metadata": {},
   "outputs": [],
   "source": [
    "def find_digits(SIR: str) -> int:\n",
    "    \"\"\"Find numbers in a string\"\"\"\n",
    "    digit = \"\"\n",
    "    for character in SIR:\n",
    "        if character.isdigit() or character == \".\":\n",
    "            digit += character\n",
    "    return float(digit)"
   ]
  },
  {
   "cell_type": "code",
   "execution_count": 15,
   "metadata": {},
   "outputs": [],
   "source": [
    "def get_scale(SIR: str) -> bool:\n",
    "    \"\"\"Get on or off scale. True == on-scale\"\"\"\n",
    "    if \"=\" in SIR:\n",
    "        return True\n",
    "    elif \"<\" in SIR or \">\" in SIR:\n",
    "        return False\n",
    "    else:\n",
    "        raise ValueError(\"Not a valid SIR\")"
   ]
  },
  {
   "cell_type": "code",
   "execution_count": 16,
   "metadata": {},
   "outputs": [],
   "source": [
    "def parse_SIR(SIR: str) -> bool:\n",
    "    \"\"\"\n",
    "    Find the isolates with valid SIRs. Not 'Missing BP'\n",
    "    and not 'nip'.\n",
    "    \"\"\"\n",
    "    if SIR.startswith(\"Missing BP\"):\n",
    "        return False\n",
    "    if SIR == \"nip\":\n",
    "        return False\n",
    "    return True      "
   ]
  },
  {
   "cell_type": "code",
   "execution_count": 17,
   "metadata": {},
   "outputs": [],
   "source": [
    "def extract_SIR(chosen_isolates: pd.DataFrame, antibiotics: list) -> dict:\n",
    "    \"\"\"\n",
    "    Extract all SIRs for an antibiotic. Returns a dictionary\n",
    "    with antibiotcs as keys and lists of the isolates and their\n",
    "    SIRs in tuples as value.\n",
    "    \"\"\"\n",
    "    chosen_isolates_SIR ={antibiotic: [] for antibiotic in antibiotics}\n",
    "    \n",
    "    for index, row in chosen_isolates.iterrows():\n",
    "        isolate, pathogen, antibiotic_SIR = row[0], row[1], list(row[3:].items())\n",
    "        for antibiotic, SIR in antibiotic_SIR:\n",
    "            if parse_SIR(SIR):\n",
    "                mic_category = SIR[0]\n",
    "                mic = find_digits(SIR)\n",
    "                scale = get_scale(SIR)\n",
    "                chosen_isolates_SIR[antibiotic].append((isolate, mic, mic_category, scale, pathogen))\n",
    "            else:\n",
    "                # If SIR = \"Missing BP\" or \"nip\"\n",
    "                chosen_isolates_SIR[antibiotic].append((isolate, SIR, None, None, pathogen))\n",
    "    return chosen_isolates_SIR"
   ]
  },
  {
   "cell_type": "code",
   "execution_count": 18,
   "metadata": {},
   "outputs": [],
   "source": [
    "def filter_mic_values(chosen_isolates_SIR: dict) -> None:\n",
    "    \"\"\"\n",
    "    Remove the tuples that have None in their SIR data\n",
    "    \"\"\"\n",
    "    for antibiotic, SIR_data in chosen_isolates_SIR.items():\n",
    "        # tup = (isolate, mic_value, mic_category, scale, pathogen)\n",
    "        chosen_isolates_SIR[antibiotic] = list((tup for tup in SIR_data if tup[2] is not None))\n",
    "    return chosen_isolates_SIR"
   ]
  },
  {
   "cell_type": "code",
   "execution_count": 19,
   "metadata": {},
   "outputs": [],
   "source": [
    "def extract_mic_data(chosen_isolates_SIR: dict, antibiotics: list) -> list:\n",
    "    \"\"\"\n",
    "    Extract the mic-values of each isolate for each antibiotic.\n",
    "    Returns a nested list. Each list represents the mic-values of \n",
    "    all isolates for an antibiotic.\n",
    "    \"\"\"\n",
    "    mic_values = []\n",
    "    # Iterate over all antibioticsz\n",
    "    for antibiotic in antibiotics:\n",
    "        # Create a list to hold the mic-values of isolates for that abx\n",
    "        antibiotic_mic_values = []\n",
    "        # Get value of current abx. List of (isolate, mic_value, mic_category)\n",
    "        SIR_data = chosen_isolates_SIR[antibiotic]\n",
    "        for isolate, mic_value, mic_category, scale, pathogen in SIR_data:\n",
    "            antibiotic_mic_values.append((isolate, np.log2(mic_value), mic_category, scale, pathogen))\n",
    "        mic_values.append(antibiotic_mic_values)\n",
    "    return mic_values"
   ]
  },
  {
   "cell_type": "code",
   "execution_count": 20,
   "metadata": {},
   "outputs": [],
   "source": [
    "def create_plot_df(antibiotics: list, mic_data: list, x_jitter: float=0.15 , y_jitter: float=0.05) -> pd.DataFrame:\n",
    "    \"\"\"Create dataframe used for plotting\"\"\"\n",
    "    \n",
    "    mic_dict = {\n",
    "        \"S\": (\"limegreen\", \"Sensitive\"),\n",
    "        \"I\": (\"gold\", \"Intermediate\"),\n",
    "        \"R\": (\"tomato\", \"Resistant\"),\n",
    "    }\n",
    "    \n",
    "    # Set ticks of x axis\n",
    "    x_axis = [i for i in range(len(antibiotics))]\n",
    "\n",
    "    # Initialize lists to hold values used for plotting\n",
    "    x_values, y_values = [], []\n",
    "    SIR_category_list = []\n",
    "    isolate_names = []\n",
    "    on_off_scale = []\n",
    "    pathogen_list = []\n",
    "\n",
    "    for x_value, abx_mic_data in zip(x_axis, mic_data):\n",
    "        for isolate, mic_value, SIR_category, scale, pathogen in abx_mic_data:            \n",
    "            # Add random noise to avoid overlapping\n",
    "            x_value_jitter = x_value + np.random.uniform(-x_jitter, x_jitter)\n",
    "            mic_value_jitter = mic_value + np.random.uniform(-y_jitter, y_jitter)\n",
    "            # Add data to the lists\n",
    "            isolate_names.append(isolate)\n",
    "            x_values.append(x_value_jitter)\n",
    "            SIR_category_list.append(mic_dict[SIR_category][1])\n",
    "            on_off_scale.append(scale)\n",
    "            pathogen_list.append(pathogen)\n",
    "            if scale is True:\n",
    "                y_values.append(mic_value_jitter)\n",
    "            elif scale is False:\n",
    "                if SIR_category == \"S\":\n",
    "                    y_values.append(-10)\n",
    "                elif SIR_category == \"R\":\n",
    "                    y_values.append(11)\n",
    "                else:\n",
    "                    raise ValueError(f\"SIR Category must be either S or R, not: {SIR_category}\")\n",
    "            else:\n",
    "                raise ValueError(f\"scale must be Boolean value, not {type(scale)}. Current value: {scale}\")\n",
    "\n",
    "    # Create a DF used for plotting\n",
    "    plot_df = pd.DataFrame(\n",
    "        {\n",
    "            \"Antibiotics\": x_values,\n",
    "            \"Log2(MIC-value)\": y_values,\n",
    "            \"Isolate names\": isolate_names,\n",
    "            \"SIR\": SIR_category_list,\n",
    "            \"Scale\": on_off_scale,\n",
    "            \"Pathogen\": pathogen_list\n",
    "        },\n",
    "        index=np.arange(len(x_values)),\n",
    "    )\n",
    "    \n",
    "    return plot_df"
   ]
  },
  {
   "cell_type": "code",
   "execution_count": 21,
   "metadata": {},
   "outputs": [],
   "source": [
    "def plotly_dotplot(plot_df: pd.DataFrame, antibiotics: list) -> None:\n",
    "    \n",
    "    # Set ticks of x axis\n",
    "    x_axis = [i for i in range(len(antibiotics))]\n",
    "    \n",
    "    y_axis_ticktext = [\n",
    "            \"Min C\", \"0.00195\", \"0.00391\", \"0.00781\", \"0.01563\",\"0.03125\", \"0.0625\", \"0.125\", \n",
    "            \"0.25\", \"0.5\", \"1\", \"2\", \"4\", \"8\", \"16\", \"32\", \"64\", \"128\", \"256\", \"512\", \"1024\", \"Max C\"\n",
    "            ]\n",
    "\n",
    "    #plot\n",
    "    fig = px.scatter(\n",
    "        plot_df,\n",
    "        x=\"Antibiotics\",\n",
    "        y=\"Log2(MIC-value)\",\n",
    "        hover_name=\"Isolate names\",\n",
    "        color=\"SIR\",\n",
    "        title=\"Isolate log2(MIC-values) for different antibiotics\",\n",
    "        range_y=[-11, 12],\n",
    "        hover_data={\n",
    "            \"Antibiotics\": False, \n",
    "            \"Log2(MIC-value)\": \":.0f\", \n",
    "            \"Scale\": True,\n",
    "            \"Pathogen\": True\n",
    "            },\n",
    "    )\n",
    "\n",
    "    # Changes the dot color depending on SIR category\n",
    "    def change_trace_color(trace):\n",
    "        if trace.name == \"Resistant\":\n",
    "            trace.update(marker_color=\"tomato\")\n",
    "        elif trace.name == \"Intermediate\":\n",
    "            trace.update(marker_color=\"gold\")\n",
    "        elif trace.name == \"Sensitive\":\n",
    "            trace.update(marker_color=\"limegreen\")\n",
    "        else:\n",
    "            raise ValueError(\"Not a valid trace\")\n",
    "        \n",
    "        # if trace.scale == False:\n",
    "        #     trace.update(marker_symbol=\"square\")\n",
    "\n",
    "    # Update dot color\n",
    "    fig.for_each_trace(change_trace_color)\n",
    "\n",
    "    # Modify x-ticks, y-ticks, legend and title\n",
    "    fig.update_layout(\n",
    "        xaxis=dict(tickmode=\"array\", tickvals=x_axis, ticktext=antibiotics),\n",
    "        yaxis=dict(\n",
    "            tickmode=\"array\",\n",
    "            tickvals=[i for i in range(-10, 12)],\n",
    "            ticktext=y_axis_ticktext,\n",
    "        ),\n",
    "        legend=dict(orientation=\"h\", yanchor=\"bottom\", y=1.02, xanchor=\"right\", x=1),\n",
    "        title_x=0.5,\n",
    "    )\n",
    "    \n",
    "    fig.show()"
   ]
  },
  {
   "cell_type": "code",
   "execution_count": 22,
   "metadata": {},
   "outputs": [
    {
     "data": {
      "application/vnd.plotly.v1+json": {
       "config": {
        "plotlyServerURL": "https://plot.ly"
       },
       "data": [
        {
         "customdata": [
          [
           true,
           "Staphylococcus aureus"
          ],
          [
           true,
           "Staphylococcus aureus"
          ],
          [
           true,
           "Staphylococcus aureus"
          ],
          [
           true,
           "Streptococcus mitis"
          ],
          [
           true,
           "Streptococcus pneumoniae"
          ],
          [
           true,
           "Staphylococcus aureus"
          ],
          [
           true,
           "Streptococcus mitis"
          ],
          [
           true,
           "Staphylococcus lugdunensis"
          ],
          [
           true,
           "Staphylococcus lugdunensis"
          ],
          [
           true,
           "Streptococcus mitis"
          ],
          [
           true,
           "Staphylococcus aureus"
          ],
          [
           true,
           "Staphylococcus lugdunensis"
          ],
          [
           true,
           "Staphylococcus lugdunensis"
          ],
          [
           true,
           "Staphylococcus lugdunensis"
          ],
          [
           true,
           "Staphylococcus aureus"
          ],
          [
           true,
           "Staphylococcus aureus"
          ],
          [
           true,
           "Staphylococcus aureus"
          ],
          [
           true,
           "Staphylococcus aureus"
          ],
          [
           true,
           "Staphylococcus aureus"
          ],
          [
           true,
           "Staphylococcus aureus"
          ],
          [
           true,
           "Staphylococcus aureus"
          ],
          [
           true,
           "Staphylococcus aureus"
          ],
          [
           true,
           "Staphylococcus aureus"
          ],
          [
           true,
           "Staphylococcus aureus"
          ],
          [
           true,
           "Staphylococcus aureus"
          ],
          [
           true,
           "Streptococcus pneumoniae"
          ],
          [
           true,
           "Streptococcus pneumoniae"
          ],
          [
           true,
           "Streptococcus pneumoniae"
          ],
          [
           false,
           "Streptococcus pneumoniae"
          ],
          [
           false,
           "Enterococcus faecium"
          ],
          [
           false,
           "Enterococcus faecium"
          ],
          [
           true,
           "Enterococcus faecalis"
          ],
          [
           false,
           "Enterococcus faecium"
          ],
          [
           false,
           "Streptococcus mitis"
          ],
          [
           false,
           "Enterococcus faecium"
          ],
          [
           true,
           "Streptococcus mitis"
          ],
          [
           true,
           "Streptococcus mitis"
          ],
          [
           false,
           "Enterococcus faecium"
          ],
          [
           true,
           "Streptococcus mitis"
          ],
          [
           false,
           "Enterococcus faecium"
          ],
          [
           false,
           "Enterococcus faecalis"
          ],
          [
           true,
           "Staphylococcus aureus"
          ],
          [
           true,
           "Staphylococcus aureus"
          ],
          [
           true,
           "Streptococcus mitis"
          ],
          [
           true,
           "Streptococcus mitis"
          ],
          [
           true,
           "Streptococcus mitis"
          ],
          [
           true,
           "Streptococcus mitis"
          ],
          [
           true,
           "Streptococcus mitis"
          ],
          [
           true,
           "Streptococcus pneumoniae"
          ],
          [
           true,
           "Enterococcus faecalis"
          ],
          [
           false,
           "Enterococcus faecium"
          ],
          [
           false,
           "Enterococcus faecium"
          ],
          [
           false,
           "Enterococcus faecalis"
          ],
          [
           false,
           "Enterococcus faecium"
          ],
          [
           false,
           "Enterococcus faecium"
          ],
          [
           false,
           "Enterococcus faecium"
          ],
          [
           false,
           "Enterococcus faecium"
          ],
          [
           false,
           "Enterococcus faecalis"
          ],
          [
           true,
           "Streptococcus mitis"
          ],
          [
           false,
           "Staphylococcus aureus"
          ],
          [
           false,
           "Staphylococcus aureus"
          ],
          [
           true,
           "Staphylococcus aureus"
          ],
          [
           false,
           "Staphylococcus epidermidis"
          ],
          [
           true,
           "Staphylococcus capitis"
          ],
          [
           false,
           "Staphylococcus capitis"
          ],
          [
           false,
           "Staphylococcus capitis"
          ],
          [
           false,
           "Staphylococcus epidermidis"
          ],
          [
           true,
           "Staphylococcus epidermidis"
          ],
          [
           false,
           "Staphylococcus hominis"
          ],
          [
           true,
           "Staphylococcus capitis"
          ],
          [
           true,
           "Staphylococcus capitis"
          ],
          [
           false,
           "Staphylococcus hominis"
          ],
          [
           true,
           "Staphylococcus hominis"
          ],
          [
           false,
           "Staphylococcus hominis"
          ],
          [
           false,
           "Staphylococcus hominis"
          ],
          [
           false,
           "Staphylococcus hominis"
          ],
          [
           false,
           "Staphylococcus hominis"
          ],
          [
           false,
           "Staphylococcus hominis"
          ],
          [
           false,
           "Staphylococcus hominis"
          ],
          [
           false,
           "Staphylococcus hominis"
          ],
          [
           false,
           "Staphylococcus aureus"
          ],
          [
           true,
           "Staphylococcus capitis"
          ],
          [
           false,
           "Staphylococcus epidermidis"
          ],
          [
           false,
           "Staphylococcus epidermidis"
          ],
          [
           false,
           "Staphylococcus aureus"
          ],
          [
           true,
           "Staphylococcus aureus"
          ],
          [
           false,
           "Staphylococcus aureus"
          ],
          [
           false,
           "Staphylococcus aureus"
          ],
          [
           false,
           "Staphylococcus aureus"
          ],
          [
           false,
           "Staphylococcus aureus"
          ],
          [
           true,
           "Staphylococcus aureus"
          ],
          [
           true,
           "Staphylococcus aureus"
          ],
          [
           false,
           "Staphylococcus aureus"
          ],
          [
           false,
           "Staphylococcus aureus"
          ],
          [
           false,
           "Staphylococcus aureus"
          ],
          [
           false,
           "Staphylococcus epidermidis"
          ],
          [
           false,
           "Staphylococcus epidermidis"
          ],
          [
           false,
           "Staphylococcus epidermidis"
          ],
          [
           false,
           "Staphylococcus epidermidis"
          ],
          [
           true,
           "Staphylococcus epidermidis"
          ],
          [
           true,
           "Streptococcus pneumoniae"
          ],
          [
           true,
           "Staphylococcus aureus"
          ],
          [
           true,
           "Staphylococcus aureus"
          ],
          [
           true,
           "Staphylococcus aureus"
          ],
          [
           true,
           "Staphylococcus aureus"
          ],
          [
           true,
           "Staphylococcus aureus"
          ],
          [
           true,
           "Staphylococcus aureus"
          ],
          [
           true,
           "Staphylococcus aureus"
          ],
          [
           true,
           "Enterococcus faecalis"
          ],
          [
           false,
           "Enterococcus faecium"
          ],
          [
           false,
           "Enterococcus faecalis"
          ],
          [
           false,
           "Enterococcus faecium"
          ],
          [
           true,
           "Staphylococcus aureus"
          ],
          [
           true,
           "Staphylococcus aureus"
          ],
          [
           false,
           "Enterococcus faecium"
          ],
          [
           true,
           "Staphylococcus epidermidis"
          ],
          [
           true,
           "Staphylococcus epidermidis"
          ],
          [
           false,
           "Enterococcus faecalis"
          ],
          [
           true,
           "Staphylococcus hominis"
          ],
          [
           false,
           "Enterococcus faecium"
          ],
          [
           true,
           "Staphylococcus aureus"
          ],
          [
           true,
           "Staphylococcus aureus"
          ],
          [
           true,
           "Staphylococcus aureus"
          ],
          [
           true,
           "Staphylococcus aureus"
          ],
          [
           false,
           "Enterococcus faecium"
          ],
          [
           true,
           "Staphylococcus epidermidis"
          ],
          [
           true,
           "Staphylococcus epidermidis"
          ],
          [
           false,
           "Streptococcus pneumoniae"
          ],
          [
           false,
           "Enterococcus faecalis"
          ],
          [
           false,
           "Enterococcus faecalis"
          ],
          [
           false,
           "Enterococcus faecalis"
          ],
          [
           false,
           "Enterococcus faecalis"
          ],
          [
           false,
           "Enterococcus faecium"
          ],
          [
           false,
           "Enterococcus faecalis"
          ],
          [
           false,
           "Enterococcus faecium"
          ],
          [
           true,
           "Staphylococcus aureus"
          ],
          [
           true,
           "Staphylococcus aureus"
          ],
          [
           true,
           "Enterococcus faecalis"
          ],
          [
           false,
           "Enterococcus faecium"
          ],
          [
           false,
           "Enterococcus faecalis"
          ],
          [
           false,
           "Enterococcus faecium"
          ],
          [
           true,
           "Staphylococcus aureus"
          ],
          [
           true,
           "Staphylococcus aureus"
          ],
          [
           true,
           "Staphylococcus aureus"
          ],
          [
           true,
           "Staphylococcus aureus"
          ],
          [
           true,
           "Staphylococcus aureus"
          ],
          [
           true,
           "Staphylococcus aureus"
          ],
          [
           false,
           "Enterococcus faecium"
          ],
          [
           false,
           "Streptococcus pneumoniae"
          ],
          [
           false,
           "Enterococcus faecalis"
          ],
          [
           false,
           "Staphylococcus aureus"
          ],
          [
           false,
           "Staphylococcus aureus"
          ],
          [
           false,
           "Staphylococcus epidermidis"
          ],
          [
           false,
           "Staphylococcus capitis"
          ],
          [
           false,
           "Staphylococcus capitis"
          ],
          [
           false,
           "Staphylococcus capitis"
          ],
          [
           false,
           "Staphylococcus epidermidis"
          ],
          [
           false,
           "Staphylococcus epidermidis"
          ],
          [
           false,
           "Staphylococcus hominis"
          ],
          [
           false,
           "Staphylococcus hominis"
          ],
          [
           false,
           "Streptococcus pneumoniae"
          ],
          [
           false,
           "Streptococcus pneumoniae"
          ],
          [
           false,
           "Staphylococcus aureus"
          ],
          [
           false,
           "Staphylococcus capitis"
          ],
          [
           false,
           "Staphylococcus hominis"
          ],
          [
           false,
           "Staphylococcus hominis"
          ],
          [
           false,
           "Staphylococcus hominis"
          ],
          [
           false,
           "Staphylococcus hominis"
          ],
          [
           false,
           "Staphylococcus hominis"
          ],
          [
           false,
           "Staphylococcus lugdunensis"
          ],
          [
           false,
           "Streptococcus pneumoniae"
          ],
          [
           true,
           "Staphylococcus hominis"
          ],
          [
           false,
           "Staphylococcus hominis"
          ],
          [
           false,
           "Staphylococcus hominis"
          ],
          [
           false,
           "Staphylococcus aureus"
          ],
          [
           false,
           "Staphylococcus capitis"
          ],
          [
           false,
           "Staphylococcus lugdunensis"
          ],
          [
           false,
           "Staphylococcus lugdunensis"
          ],
          [
           false,
           "Staphylococcus lugdunensis"
          ],
          [
           false,
           "Staphylococcus lugdunensis"
          ],
          [
           false,
           "Staphylococcus lugdunensis"
          ],
          [
           false,
           "Staphylococcus epidermidis"
          ],
          [
           false,
           "Staphylococcus epidermidis"
          ],
          [
           false,
           "Staphylococcus aureus"
          ],
          [
           false,
           "Staphylococcus aureus"
          ],
          [
           false,
           "Staphylococcus aureus"
          ],
          [
           false,
           "Staphylococcus aureus"
          ],
          [
           false,
           "Staphylococcus aureus"
          ],
          [
           false,
           "Staphylococcus aureus"
          ],
          [
           false,
           "Staphylococcus aureus"
          ],
          [
           false,
           "Staphylococcus aureus"
          ],
          [
           false,
           "Staphylococcus aureus"
          ],
          [
           true,
           "Staphylococcus epidermidis"
          ],
          [
           true,
           "Staphylococcus epidermidis"
          ],
          [
           true,
           "Staphylococcus epidermidis"
          ],
          [
           false,
           "Staphylococcus epidermidis"
          ],
          [
           false,
           "Staphylococcus epidermidis"
          ],
          [
           false,
           "Streptococcus pneumoniae"
          ],
          [
           false,
           "Streptococcus pneumoniae"
          ],
          [
           false,
           "Streptococcus pneumoniae"
          ],
          [
           false,
           "Streptococcus pneumoniae"
          ],
          [
           false,
           "Staphylococcus aureus"
          ],
          [
           false,
           "Staphylococcus epidermidis"
          ],
          [
           false,
           "Staphylococcus capitis"
          ],
          [
           false,
           "Staphylococcus capitis"
          ],
          [
           false,
           "Staphylococcus capitis"
          ],
          [
           false,
           "Staphylococcus epidermidis"
          ],
          [
           false,
           "Staphylococcus epidermidis"
          ],
          [
           false,
           "Streptococcus pneumoniae"
          ],
          [
           false,
           "Staphylococcus aureus"
          ],
          [
           false,
           "Staphylococcus capitis"
          ],
          [
           false,
           "Staphylococcus hominis"
          ],
          [
           true,
           "Staphylococcus hominis"
          ],
          [
           true,
           "Staphylococcus hominis"
          ],
          [
           true,
           "Staphylococcus hominis"
          ],
          [
           true,
           "Staphylococcus hominis"
          ],
          [
           false,
           "Staphylococcus lugdunensis"
          ],
          [
           false,
           "Streptococcus pneumoniae"
          ],
          [
           false,
           "Staphylococcus hominis"
          ],
          [
           false,
           "Staphylococcus aureus"
          ],
          [
           false,
           "Staphylococcus capitis"
          ],
          [
           false,
           "Staphylococcus lugdunensis"
          ],
          [
           false,
           "Staphylococcus lugdunensis"
          ],
          [
           false,
           "Staphylococcus lugdunensis"
          ],
          [
           false,
           "Staphylococcus lugdunensis"
          ],
          [
           false,
           "Staphylococcus epidermidis"
          ],
          [
           false,
           "Staphylococcus epidermidis"
          ],
          [
           false,
           "Staphylococcus aureus"
          ],
          [
           false,
           "Staphylococcus aureus"
          ],
          [
           false,
           "Staphylococcus aureus"
          ],
          [
           false,
           "Staphylococcus aureus"
          ],
          [
           false,
           "Staphylococcus aureus"
          ],
          [
           false,
           "Staphylococcus aureus"
          ],
          [
           false,
           "Staphylococcus aureus"
          ],
          [
           false,
           "Staphylococcus aureus"
          ],
          [
           true,
           "Staphylococcus epidermidis"
          ],
          [
           true,
           "Staphylococcus epidermidis"
          ],
          [
           true,
           "Staphylococcus epidermidis"
          ],
          [
           false,
           "Streptococcus pneumoniae"
          ],
          [
           false,
           "Streptococcus pneumoniae"
          ],
          [
           false,
           "Streptococcus pneumoniae"
          ],
          [
           false,
           "Streptococcus pneumoniae"
          ],
          [
           true,
           "Staphylococcus aureus"
          ],
          [
           true,
           "Staphylococcus aureus"
          ],
          [
           true,
           "Staphylococcus aureus"
          ],
          [
           true,
           "Staphylococcus capitis"
          ],
          [
           true,
           "Staphylococcus capitis"
          ],
          [
           true,
           "Staphylococcus hominis"
          ],
          [
           true,
           "Streptococcus pneumoniae"
          ],
          [
           true,
           "Streptococcus pneumoniae"
          ],
          [
           false,
           "Staphylococcus aureus"
          ],
          [
           true,
           "Staphylococcus hominis"
          ],
          [
           true,
           "Staphylococcus lugdunensis"
          ],
          [
           true,
           "Staphylococcus lugdunensis"
          ],
          [
           false,
           "Streptococcus pneumoniae"
          ],
          [
           true,
           "Staphylococcus hominis"
          ],
          [
           false,
           "Staphylococcus hominis"
          ],
          [
           false,
           "Staphylococcus aureus"
          ],
          [
           false,
           "Staphylococcus epidermidis"
          ],
          [
           false,
           "Staphylococcus epidermidis"
          ],
          [
           true,
           "Staphylococcus aureus"
          ],
          [
           true,
           "Staphylococcus aureus"
          ],
          [
           true,
           "Staphylococcus aureus"
          ],
          [
           false,
           "Streptococcus pneumoniae"
          ],
          [
           false,
           "Streptococcus pneumoniae"
          ],
          [
           true,
           "Staphylococcus lugdunensis"
          ],
          [
           true,
           "Staphylococcus aureus"
          ],
          [
           true,
           "Enterococcus faecium"
          ],
          [
           true,
           "Staphylococcus hominis"
          ],
          [
           true,
           "Staphylococcus hominis"
          ],
          [
           true,
           "Staphylococcus hominis"
          ],
          [
           true,
           "Staphylococcus hominis"
          ],
          [
           true,
           "Staphylococcus aureus"
          ],
          [
           true,
           "Staphylococcus aureus"
          ],
          [
           true,
           "Staphylococcus aureus"
          ],
          [
           true,
           "Staphylococcus aureus"
          ],
          [
           true,
           "Staphylococcus epidermidis"
          ],
          [
           false,
           "Staphylococcus epidermidis"
          ],
          [
           false,
           "Staphylococcus epidermidis"
          ],
          [
           false,
           "Staphylococcus epidermidis"
          ],
          [
           true,
           "Staphylococcus epidermidis"
          ],
          [
           false,
           "Streptococcus pneumoniae"
          ],
          [
           true,
           "Staphylococcus aureus"
          ],
          [
           true,
           "Staphylococcus aureus"
          ],
          [
           true,
           "Staphylococcus aureus"
          ],
          [
           true,
           "Staphylococcus aureus"
          ],
          [
           true,
           "Staphylococcus aureus"
          ],
          [
           true,
           "Staphylococcus aureus"
          ],
          [
           true,
           "Staphylococcus aureus"
          ],
          [
           false,
           "Staphylococcus aureus"
          ],
          [
           false,
           "Staphylococcus aureus"
          ],
          [
           false,
           "Staphylococcus capitis"
          ],
          [
           false,
           "Staphylococcus epidermidis"
          ],
          [
           false,
           "Staphylococcus epidermidis"
          ],
          [
           true,
           "Staphylococcus capitis"
          ],
          [
           true,
           "Staphylococcus capitis"
          ],
          [
           true,
           "Staphylococcus hominis"
          ],
          [
           true,
           "Staphylococcus lugdunensis"
          ],
          [
           true,
           "Staphylococcus hominis"
          ],
          [
           true,
           "Staphylococcus capitis"
          ],
          [
           false,
           "Staphylococcus aureus"
          ],
          [
           true,
           "Staphylococcus aureus"
          ],
          [
           false,
           "Staphylococcus aureus"
          ],
          [
           false,
           "Staphylococcus aureus"
          ],
          [
           false,
           "Staphylococcus aureus"
          ],
          [
           true,
           "Staphylococcus aureus"
          ],
          [
           false,
           "Staphylococcus epidermidis"
          ],
          [
           false,
           "Staphylococcus epidermidis"
          ],
          [
           false,
           "Staphylococcus epidermidis"
          ],
          [
           true,
           "Streptococcus pneumoniae"
          ],
          [
           true,
           "Streptococcus pneumoniae"
          ],
          [
           true,
           "Staphylococcus aureus"
          ],
          [
           true,
           "Staphylococcus hominis"
          ],
          [
           true,
           "Staphylococcus hominis"
          ],
          [
           true,
           "Staphylococcus hominis"
          ],
          [
           true,
           "Staphylococcus hominis"
          ],
          [
           true,
           "Streptococcus pneumoniae"
          ],
          [
           true,
           "Staphylococcus hominis"
          ],
          [
           true,
           "Staphylococcus hominis"
          ],
          [
           true,
           "Staphylococcus aureus"
          ],
          [
           false,
           "Staphylococcus aureus"
          ],
          [
           true,
           "Staphylococcus aureus"
          ],
          [
           true,
           "Staphylococcus aureus"
          ],
          [
           false,
           "Staphylococcus epidermidis"
          ],
          [
           true,
           "Staphylococcus epidermidis"
          ],
          [
           false,
           "Staphylococcus epidermidis"
          ],
          [
           true,
           "Streptococcus pneumoniae"
          ],
          [
           true,
           "Streptococcus pneumoniae"
          ],
          [
           false,
           "Staphylococcus aureus"
          ],
          [
           false,
           "Staphylococcus aureus"
          ],
          [
           false,
           "Staphylococcus aureus"
          ],
          [
           false,
           "Staphylococcus epidermidis"
          ],
          [
           false,
           "Staphylococcus capitis"
          ],
          [
           false,
           "Staphylococcus capitis"
          ],
          [
           false,
           "Staphylococcus capitis"
          ],
          [
           false,
           "Staphylococcus epidermidis"
          ],
          [
           false,
           "Staphylococcus epidermidis"
          ],
          [
           false,
           "Staphylococcus hominis"
          ],
          [
           false,
           "Staphylococcus hominis"
          ],
          [
           false,
           "Streptococcus pneumoniae"
          ],
          [
           false,
           "Streptococcus pneumoniae"
          ],
          [
           false,
           "Staphylococcus aureus"
          ],
          [
           false,
           "Staphylococcus capitis"
          ],
          [
           false,
           "Staphylococcus hominis"
          ],
          [
           false,
           "Staphylococcus hominis"
          ],
          [
           false,
           "Staphylococcus hominis"
          ],
          [
           false,
           "Staphylococcus hominis"
          ],
          [
           false,
           "Staphylococcus hominis"
          ],
          [
           false,
           "Staphylococcus lugdunensis"
          ],
          [
           false,
           "Streptococcus pneumoniae"
          ],
          [
           false,
           "Staphylococcus hominis"
          ],
          [
           false,
           "Staphylococcus hominis"
          ],
          [
           false,
           "Staphylococcus aureus"
          ],
          [
           false,
           "Staphylococcus capitis"
          ],
          [
           false,
           "Staphylococcus lugdunensis"
          ],
          [
           false,
           "Staphylococcus lugdunensis"
          ],
          [
           false,
           "Staphylococcus lugdunensis"
          ],
          [
           false,
           "Staphylococcus lugdunensis"
          ],
          [
           false,
           "Staphylococcus lugdunensis"
          ],
          [
           false,
           "Staphylococcus epidermidis"
          ],
          [
           false,
           "Staphylococcus epidermidis"
          ],
          [
           false,
           "Staphylococcus aureus"
          ],
          [
           false,
           "Staphylococcus aureus"
          ],
          [
           false,
           "Staphylococcus aureus"
          ],
          [
           false,
           "Staphylococcus aureus"
          ],
          [
           false,
           "Staphylococcus aureus"
          ],
          [
           false,
           "Staphylococcus aureus"
          ],
          [
           false,
           "Staphylococcus aureus"
          ],
          [
           false,
           "Staphylococcus aureus"
          ],
          [
           false,
           "Staphylococcus aureus"
          ],
          [
           false,
           "Streptococcus pneumoniae"
          ],
          [
           false,
           "Streptococcus pneumoniae"
          ],
          [
           false,
           "Streptococcus pneumoniae"
          ],
          [
           false,
           "Streptococcus pneumoniae"
          ],
          [
           false,
           "Staphylococcus haemolyticus"
          ],
          [
           false,
           "Staphylococcus haemolyticus"
          ],
          [
           false,
           "Staphylococcus haemolyticus"
          ],
          [
           false,
           "Staphylococcus haemolyticus"
          ],
          [
           false,
           "Staphylococcus warneri"
          ],
          [
           false,
           "Staphylococcus warneri"
          ],
          [
           false,
           "Staphylococcus warneri"
          ],
          [
           false,
           "Staphylococcus warneri"
          ]
         ],
         "hovertemplate": "<b>%{hovertext}</b><br><br>SIR=Resistant<br>Log2(MIC-value)=%{y:.0f}<br>Scale=%{customdata[0]}<br>Pathogen=%{customdata[1]}<extra></extra>",
         "hovertext": [
          "QM397",
          "QM992",
          "QM322",
          "QM134",
          "QM806",
          "QM1450",
          "QM1406",
          "PER152",
          "QM960",
          "BAR066",
          "AR0565",
          "QM1259",
          "QM1261",
          "QM1269",
          "AR0217",
          "AR0218",
          "AR0219",
          "AR0222",
          "AR0227",
          "AR0228",
          "AR0703",
          "AR0708",
          "AR0711",
          "AR0717",
          "AR0718",
          "QM027",
          "QM326",
          "QM328",
          "QM402",
          "PER107",
          "PER108",
          "QM312",
          "QM295",
          "QM134",
          "QM1252",
          "QM1406",
          "BAR064",
          "QM1522",
          "BAR066",
          "AR0572",
          "QM067",
          "AR0703",
          "AR0703",
          "QM134",
          "QM1406",
          "BAR064",
          "QM871",
          "BAR066",
          "QM027",
          "QM286",
          "PER107",
          "PER108",
          "QM312",
          "QM295",
          "QM1252",
          "QM1522",
          "AR0572",
          "QM067",
          "QM134",
          "QM397",
          "QM992",
          "QM322",
          "HV116",
          "QM899",
          "BAR002",
          "BAR003",
          "HV953",
          "QM968",
          "HV245",
          "QM1263",
          "QM1264",
          "HV987",
          "QM093",
          "QM1270",
          "QM1271",
          "QM1272",
          "QM1273",
          "HV813",
          "HV820",
          "HV88",
          "AR0565",
          "QM1265",
          "HV733",
          "HV744",
          "AR0217",
          "AR0218",
          "AR0219",
          "AR0222",
          "AR0227",
          "AR0228",
          "AR0703",
          "AR0708",
          "AR0711",
          "AR0717",
          "AR0718",
          "AR0726",
          "AR0727",
          "AR0728",
          "AR0729",
          "AR0730",
          "QM326",
          "QM397",
          "QM992",
          "AR0217",
          "AR0218",
          "AR0219",
          "AR0227",
          "AR0228",
          "QM294",
          "PER107",
          "QM319",
          "PER108",
          "QM397",
          "QM992",
          "QM295",
          "HV146",
          "HV953",
          "BAR032",
          "HV245",
          "QM1252",
          "AR0217",
          "AR0218",
          "AR0219",
          "AR0227",
          "AR0572",
          "AR0727",
          "AR0729",
          "QM402",
          "QM067",
          "QM286",
          "QM065",
          "QM294",
          "PER107",
          "QM319",
          "PER108",
          "QM397",
          "QM992",
          "QM312",
          "QM295",
          "BAR032",
          "QM1252",
          "AR0217",
          "AR0218",
          "AR0219",
          "AR0222",
          "AR0227",
          "AR0228",
          "AR0572",
          "QM402",
          "QM067",
          "QM397",
          "QM322",
          "HV116",
          "QM899",
          "BAR002",
          "BAR003",
          "HV953",
          "QM968",
          "HV245",
          "HV414",
          "QM806",
          "BAR026",
          "QM1450",
          "QM1263",
          "HV987",
          "QM093",
          "QM1270",
          "QM1271",
          "QM1273",
          "QM960",
          "QM1470",
          "HV813",
          "HV820",
          "HV88",
          "AR0565",
          "QM1265",
          "QM1259",
          "QM1260",
          "QM1261",
          "QM1262",
          "QM1269",
          "HV733",
          "HV744",
          "AR0218",
          "AR0219",
          "AR0227",
          "AR0228",
          "AR0703",
          "AR0708",
          "AR0711",
          "AR0717",
          "AR0718",
          "AR0726",
          "AR0727",
          "AR0728",
          "AR0729",
          "AR0730",
          "QM027",
          "QM326",
          "QM328",
          "QM402",
          "QM397",
          "HV116",
          "QM899",
          "BAR002",
          "BAR003",
          "HV953",
          "QM968",
          "QM806",
          "QM1450",
          "QM1263",
          "QM093",
          "QM1270",
          "QM1271",
          "QM1272",
          "QM1273",
          "QM960",
          "QM1470",
          "HV820",
          "AR0565",
          "QM1265",
          "QM1259",
          "QM1260",
          "QM1261",
          "QM1262",
          "HV733",
          "HV744",
          "AR0218",
          "AR0219",
          "AR0227",
          "AR0228",
          "AR0703",
          "AR0711",
          "AR0717",
          "AR0718",
          "AR0728",
          "AR0729",
          "AR0730",
          "QM027",
          "QM326",
          "QM328",
          "QM402",
          "QM397",
          "QM992",
          "QM322",
          "QM086",
          "QM899",
          "HV414",
          "QM806",
          "BAR026",
          "QM1450",
          "HV987",
          "QM889",
          "QM894",
          "QM1470",
          "HV813",
          "HV820",
          "AR0565",
          "HV733",
          "HV744",
          "AR0219",
          "AR0222",
          "AR0718",
          "QM027",
          "QM326",
          "BAR043",
          "QM322",
          "QM1522",
          "QM1270",
          "QM1271",
          "QM1272",
          "QM1273",
          "AR0708",
          "AR0711",
          "AR0717",
          "AR0718",
          "AR0726",
          "AR0727",
          "AR0728",
          "AR0729",
          "AR0730",
          "QM402",
          "QM397",
          "QM992",
          "AR0217",
          "AR0218",
          "AR0222",
          "AR0227",
          "AR0228",
          "QM397",
          "QM992",
          "QM085",
          "HV116",
          "QM968",
          "QM1263",
          "QM1264",
          "QM093",
          "PER152",
          "HV88",
          "QM1265",
          "AR0219",
          "AR0222",
          "AR0703",
          "AR0708",
          "AR0711",
          "AR0718",
          "AR0726",
          "AR0729",
          "AR0730",
          "QM806",
          "BAR026",
          "QM1450",
          "QM1270",
          "QM1271",
          "QM1272",
          "QM1273",
          "QM1470",
          "HV813",
          "HV820",
          "AR0565",
          "AR0217",
          "AR0222",
          "AR0703",
          "AR0727",
          "AR0729",
          "AR0730",
          "QM027",
          "QM326",
          "QM397",
          "QM992",
          "QM322",
          "HV116",
          "QM899",
          "BAR002",
          "BAR003",
          "HV953",
          "QM968",
          "HV245",
          "HV414",
          "QM806",
          "BAR026",
          "QM1450",
          "QM1263",
          "HV987",
          "QM093",
          "QM1270",
          "QM1271",
          "QM1273",
          "QM960",
          "QM1470",
          "HV820",
          "HV88",
          "AR0565",
          "QM1265",
          "QM1259",
          "QM1260",
          "QM1261",
          "QM1262",
          "QM1269",
          "HV733",
          "HV744",
          "AR0218",
          "AR0219",
          "AR0227",
          "AR0228",
          "AR0703",
          "AR0708",
          "AR0711",
          "AR0717",
          "AR0718",
          "QM027",
          "QM326",
          "QM328",
          "QM402",
          "QM1498",
          "QM1499",
          "QM1501",
          "QM1503",
          "QM1472",
          "QM1473",
          "QM1474",
          "QM1476"
         ],
         "legendgroup": "Resistant",
         "marker": {
          "color": "tomato",
          "symbol": "circle"
         },
         "mode": "markers",
         "name": "Resistant",
         "orientation": "v",
         "showlegend": true,
         "type": "scatter",
         "x": [
          0.13520704057994445,
          0.06332567277392304,
          -0.029047549924988925,
          -0.11661484488847035,
          0.07969732873842211,
          -0.1413318861656328,
          0.11787662696104614,
          -0.0030265510464956014,
          0.03887769107036759,
          -0.007173527325524481,
          -0.14018551912516977,
          0.04398181139191687,
          0.08992004352337968,
          0.0870508143957941,
          0.12330683687385738,
          0.053281425936090504,
          -0.10373576257428894,
          -0.12316312542636647,
          -0.01526303523834921,
          0.0804661611472455,
          0.12948588944714404,
          -0.057550560965209635,
          -0.05046246999019201,
          -0.13274116856109575,
          -0.13875491755808209,
          0.11573891127705874,
          0.06297972812922992,
          -0.11155154937549974,
          0.006161589115529775,
          1.0578441251592179,
          1.0190604638056264,
          1.054072884955425,
          1.135829021527875,
          0.8986226801053012,
          0.911623041090962,
          1.1464567404781125,
          1.0178302535816801,
          0.9302691087539726,
          1.0135118700199746,
          1.0561365018061517,
          0.9738686513536243,
          3.002411846423829,
          4.076782349793845,
          5.144451457867028,
          4.880906673225127,
          4.861740308091109,
          5.040124698197321,
          4.896209818442141,
          5.063002535883729,
          6.065150887188227,
          5.9348041041162505,
          5.980395189861376,
          5.860120604501363,
          6.048064928997242,
          5.933186215964325,
          5.897216502828508,
          6.038527108515171,
          5.980549474083642,
          6.950920351209105,
          7.94740981315534,
          7.869912360933505,
          8.073961136349173,
          8.094796777997809,
          7.9009663227564255,
          7.906890036189191,
          8.067197375899324,
          8.03623677372476,
          8.040546255319622,
          7.982167728334808,
          8.085000424435266,
          7.885153478424226,
          7.99486338743726,
          8.071097484617514,
          7.889736305649546,
          8.039285710417419,
          8.064957294147982,
          7.852804238185389,
          8.064019359522575,
          8.118885268076221,
          8.090974308404878,
          7.9390881493608,
          7.857603972171042,
          7.925608712065222,
          8.05022385815204,
          7.920614144122029,
          8.07225758846339,
          8.055197097134023,
          8.007193742191554,
          7.9553687434497204,
          7.922813458529017,
          8.018781908271512,
          7.888484202713325,
          8.087163856719025,
          8.059725837962299,
          7.974312833334349,
          8.03965210252402,
          7.938040340948768,
          8.147105098086225,
          7.908019867713627,
          7.929758570267102,
          8.874688357142558,
          10.867952549463018,
          11.106907718085141,
          10.997099225803266,
          10.96043256108562,
          10.943104705205297,
          11.108985391551895,
          10.864741164719904,
          11.998366817632602,
          12.04746195209511,
          12.060925074478789,
          12.101491532526046,
          11.887873788555076,
          12.064740744834985,
          12.014021641798001,
          11.930987265502592,
          11.911021225089666,
          11.85556916735212,
          12.098366919863437,
          11.855385393256006,
          12.025869293388856,
          12.076679416759783,
          11.926031800156604,
          12.003357531247586,
          11.864429971869543,
          11.880409886394954,
          11.895795033156604,
          11.953756445169113,
          11.933063602935544,
          13.026095120968831,
          13.13252675120516,
          12.869317648984696,
          13.099523969697474,
          12.917522366738611,
          12.989310487564955,
          13.025889652142897,
          13.020710793917173,
          12.913010907671154,
          12.950199667383275,
          13.134736294072106,
          12.972875061304853,
          13.082265076542653,
          12.951209196650055,
          12.90151526410667,
          12.933189933967796,
          12.918391059948783,
          13.044015835445746,
          12.929195728334316,
          13.000874449487856,
          12.906713179216577,
          14.104833685134672,
          13.902861091764686,
          14.03984746907442,
          14.104570634660469,
          14.0490224300562,
          13.901550064799286,
          14.050895819956406,
          14.081528503884941,
          13.909253660921793,
          13.856717545442349,
          13.894107267244486,
          13.96597494400663,
          14.081865547080934,
          13.887839723021255,
          14.081019915291977,
          13.925186289057946,
          14.04374703699098,
          14.026538395755965,
          13.994886468542257,
          13.88181875461463,
          14.057970692793083,
          13.968158475066359,
          14.035903952473722,
          14.042425474666521,
          13.979928196730183,
          14.068682758710032,
          13.991550296660412,
          13.92412984984352,
          13.93767217406214,
          13.937890983618889,
          13.97004860785773,
          14.059636991466935,
          13.890430217106356,
          14.00264463109934,
          13.990937340686202,
          13.929668142619759,
          13.902236844379559,
          13.99645584021475,
          14.062204741229042,
          14.132814706004815,
          14.043786364867197,
          14.022847985168097,
          13.933250065286446,
          13.98511262187424,
          14.087841317674549,
          13.926133362696886,
          13.874587325851465,
          14.130667709954166,
          13.920561824098145,
          14.091508164874522,
          13.975910342701138,
          15.121278721758307,
          15.06015275095722,
          14.904478698649896,
          14.867171562736115,
          15.010274114452843,
          14.94706940674549,
          15.031543149430842,
          14.874768700705687,
          14.892481048769751,
          14.87439555809241,
          14.876820390451542,
          14.852596601405377,
          15.123317552702886,
          15.102849345016013,
          14.87445266636333,
          14.908621558473687,
          14.877213845778751,
          14.91482656688973,
          14.991371154619728,
          15.021576086446023,
          14.955942549240534,
          14.974605659344771,
          14.917351186170094,
          14.977777730087547,
          15.138152169627961,
          14.886771307820583,
          14.98717328173808,
          15.099093667837982,
          15.085294011003114,
          14.86920345166117,
          14.886795809596565,
          14.916399153881077,
          14.890543407906,
          14.881219262114957,
          15.092121718350308,
          14.910061198628721,
          14.975581277357257,
          15.073397536353799,
          14.987609584508354,
          14.896432356726457,
          14.953935054562432,
          15.933641266876673,
          16.064308993451974,
          15.887160252733326,
          15.878840452102784,
          16.022440508456395,
          15.856863369574516,
          16.106239181592194,
          16.03432639714091,
          15.883156865837886,
          16.001555407356733,
          15.910297507185403,
          16.04096208468954,
          16.02696510747303,
          15.975963405799874,
          15.951399373976972,
          15.97044960834043,
          16.119787853635582,
          16.064060331452655,
          15.862155392977467,
          16.127086420370286,
          15.940136819903197,
          16.118313557512565,
          15.892334347924663,
          16.058034098586496,
          17.129354429512837,
          17.126477081948618,
          17.0265118916411,
          16.884558278788255,
          16.86396289546487,
          17.004671824672073,
          16.85146298106883,
          17.005095286519904,
          17.081563690522056,
          17.04265839170448,
          16.910521665160132,
          17.02262830276606,
          17.02492414334952,
          16.858447304620583,
          17.113867558550695,
          16.921802057207774,
          17.925545700411526,
          18.093629912749897,
          17.979174205011027,
          18.116214445275514,
          17.947957181291052,
          17.92092445780868,
          17.922471812973647,
          18.86184956185083,
          19.00109171987714,
          19.145958259762132,
          19.043018204806447,
          19.109499883310196,
          19.130296468385154,
          18.880799360885387,
          19.01485859685365,
          19.05474481758536,
          19.006450991230633,
          18.894618753646284,
          19.098124584256563,
          18.987248740309745,
          19.05389883393128,
          19.04332869646335,
          18.92176164076373,
          18.850888003932745,
          18.921942540570846,
          19.03077446529412,
          19.03972314666114,
          19.852649102608186,
          19.8536050845459,
          19.961533568228585,
          19.88790838757639,
          20.149242282648785,
          19.899738929296667,
          20.041524038824576,
          20.03847715861224,
          19.99077834579542,
          20.10308667637249,
          19.98778960682089,
          20.02904086161913,
          20.07001716478388,
          20.11084450116834,
          19.990975991660605,
          20.040981740054512,
          20.020516704158428,
          19.881232888541,
          19.867906247785275,
          20.933389718955233,
          20.85843101804801,
          21.0227772021778,
          20.90721048443173,
          21.018851384258813,
          21.0695261582967,
          20.925953148458138,
          20.908141967589668,
          20.868223594174516,
          20.96917395808578,
          21.079314260596192,
          21.046238153825527,
          21.040235180611198,
          20.908065358165047,
          20.93462316177451,
          20.940195330084148,
          21.0126406471575,
          20.876125697066456,
          20.922830035191236,
          20.983306856139464,
          20.917962352030028,
          21.14637040492797,
          20.990376887340478,
          21.034363466894927,
          20.914959269626202,
          21.023055903296243,
          20.944825574875164,
          21.08556689270605,
          20.96473767427975,
          20.87340661849504,
          21.12845688201541,
          20.9636171927337,
          21.128175593633557,
          20.970798580537213,
          20.988376751926676,
          20.94817950922612,
          20.94917832574741,
          20.85407370748474,
          20.96434772623322,
          20.99850849657685,
          21.14489342669732,
          21.133736737642838,
          20.963651896563945,
          20.955346652104158,
          20.95100573797757,
          21.07198469777003,
          20.931401517910214,
          20.91629199624176,
          20.879102925883508,
          21.0537338566888,
          20.921775010751055,
          21.04181800386524,
          21.08875523947904,
          20.911645969303304
         ],
         "xaxis": "x",
         "y": [
          4.013085214976228,
          4.022488984982022,
          4.98628258453437,
          2.9852807352397313,
          1.9703319659488456,
          6.010625922010463,
          2.994465110579297,
          3.0215399298555297,
          4.97103355189926,
          1.9698854902741407,
          5.951159237961212,
          3.048751359679938,
          1.9646085192592806,
          2.9713549760889073,
          3.0294628063552995,
          3.043250810498984,
          3.9890746687604346,
          3.985214253856682,
          1.9529368028549332,
          0.9809439983937153,
          5.9706225419229435,
          4.024737146593666,
          3.9573389843933886,
          5.036217818234873,
          4.022335175123169,
          2.9909695487099843,
          1.9592544211522647,
          2.0279547380697416,
          11,
          11,
          11,
          6.035378136291942,
          11,
          11,
          11,
          4.035831781741742,
          2.973948809965713,
          11,
          3.0288626182617473,
          11,
          11,
          2.967576295604775,
          1.985843610544872,
          0.9669778275522614,
          0.9788100791786827,
          0.023212358522443327,
          0.02037453657411438,
          2.0120821026642095,
          2.9764222899280126,
          3.993723671192416,
          11,
          11,
          11,
          11,
          11,
          11,
          11,
          11,
          1.996955272928166,
          11,
          11,
          3.979072121905764,
          11,
          1.9809224175667286,
          11,
          11,
          11,
          4.045688265215827,
          11,
          3.0291244716295584,
          3.0466808299112533,
          11,
          2.975026628319745,
          11,
          11,
          11,
          11,
          11,
          11,
          11,
          11,
          3.006940708513025,
          11,
          11,
          11,
          3.983721184480109,
          11,
          11,
          11,
          11,
          3.038767928182511,
          4.02652281652161,
          11,
          11,
          11,
          11,
          11,
          11,
          11,
          3.9696513268512548,
          3.0331129274950297,
          -0.9769668464022901,
          -0.9571124391317213,
          -2.0459552544223936,
          -1.9529568449598567,
          -0.007535374783005679,
          -1.9507128299602605,
          -1.9903488584240532,
          6.009467878866771,
          11,
          11,
          11,
          1.9890364514367314,
          1.9540833998542404,
          11,
          3.0264488383699586,
          2.9743941005764,
          11,
          3.0459658474413485,
          11,
          1.9733857217970099,
          2.0177162423812365,
          1.9984573101828764,
          2.042715327021453,
          11,
          3.0389988866931956,
          4.032075024656162,
          11,
          11,
          11,
          11,
          11,
          11,
          11,
          11,
          1.9791883904625789,
          2.0003215390937874,
          2.986388047842635,
          11,
          11,
          11,
          2.009518886071548,
          2.0151198872599525,
          3.008297272938449,
          2.0110210580460057,
          1.9636838868591961,
          2.021924595635005,
          11,
          11,
          11,
          11,
          11,
          11,
          11,
          11,
          11,
          11,
          11,
          11,
          11,
          11,
          11,
          11,
          11,
          11,
          11,
          11,
          11,
          11,
          11,
          11,
          4.004483053038714,
          11,
          11,
          11,
          11,
          11,
          11,
          11,
          11,
          11,
          11,
          11,
          11,
          11,
          11,
          11,
          11,
          11,
          11,
          11,
          11,
          2.98543356425391,
          2.956848250797647,
          2.049407491609093,
          11,
          11,
          11,
          11,
          11,
          11,
          11,
          11,
          11,
          11,
          11,
          11,
          11,
          11,
          11,
          11,
          11,
          0.0028245428811216958,
          0.001528617447075331,
          0.03470641424009503,
          -0.025008033840043978,
          11,
          11,
          11,
          11,
          11,
          11,
          11,
          11,
          11,
          11,
          11,
          11,
          11,
          11,
          11,
          11,
          11,
          11,
          11,
          -0.01877554597596072,
          -0.0009974182760075015,
          0.038631371456640834,
          11,
          11,
          11,
          11,
          5.969395697543502,
          6.000234900471717,
          6.031933555873674,
          5.986640819183038,
          6.010722035923876,
          2.9768638325233594,
          2.9671702610344797,
          3.9865331401088127,
          11,
          5.9991112577031105,
          5.994195363527538,
          3.049565290905623,
          11,
          5.033518399874206,
          11,
          11,
          11,
          11,
          6.0370163543191575,
          4.955587498514824,
          6.045089254569266,
          11,
          11,
          4.96069546012281,
          3.9713140987322535,
          3.9958551639339968,
          4.991567523951857,
          5.009346648338573,
          4.9553089688066105,
          5.041385671062445,
          2.9511450744733287,
          2.9967856185033312,
          3.970394124975278,
          3.976046995488513,
          4.997553916613545,
          11,
          11,
          11,
          5.046085246034406,
          11,
          1.0027942104429528,
          1.01353717202881,
          1.0189286451634498,
          1.9594737104644333,
          2.009047369351842,
          0.9642852187989552,
          1.039320503370958,
          11,
          11,
          11,
          11,
          11,
          1.9564299361137696,
          1.962876217502477,
          -1.0161769353918697,
          0.996244572748864,
          0.014881778085451713,
          2.0325440949048095,
          11,
          0.007567663748673584,
          11,
          11,
          11,
          3.992702520368401,
          11,
          11,
          11,
          3.9959712457267145,
          1.991006398675728,
          4.035818908032995,
          2.968140231541054,
          2.9991380944910233,
          2.954923697279192,
          3.037793156229632,
          3.0342981461566088,
          3.0303749650164207,
          3.0488897258044614,
          4.034561726741862,
          11,
          3.953270739839144,
          4.016855334019757,
          11,
          3.968019825374917,
          11,
          3.954930107827088,
          2.026250780242148,
          11,
          11,
          11,
          11,
          11,
          11,
          11,
          11,
          11,
          11,
          11,
          11,
          11,
          11,
          11,
          11,
          11,
          11,
          11,
          11,
          11,
          11,
          11,
          11,
          11,
          11,
          11,
          11,
          11,
          11,
          11,
          11,
          11,
          11,
          11,
          11,
          11,
          11,
          11,
          11,
          11,
          11,
          11,
          11,
          11,
          11,
          11,
          11,
          11,
          11,
          11,
          11,
          11,
          11
         ],
         "yaxis": "y"
        },
        {
         "customdata": [
          [
           true,
           "Streptococcus pneumoniae"
          ],
          [
           true,
           "Streptococcus oralis"
          ],
          [
           true,
           "Streptococcus oralis"
          ],
          [
           true,
           "Staphylococcus lugdunensis"
          ],
          [
           true,
           "Staphylococcus lugdunensis"
          ],
          [
           true,
           "Staphylococcus lugdunensis"
          ],
          [
           true,
           "Staphylococcus lugdunensis"
          ],
          [
           true,
           "Enterococcus faecalis"
          ],
          [
           true,
           "Enterococcus faecalis"
          ],
          [
           true,
           "Enterococcus faecalis"
          ],
          [
           true,
           "Enterococcus faecalis"
          ],
          [
           true,
           "Streptococcus oralis"
          ],
          [
           true,
           "Streptococcus oralis"
          ],
          [
           true,
           "Staphylococcus aureus"
          ],
          [
           true,
           "Staphylococcus aureus"
          ],
          [
           true,
           "Staphylococcus aureus"
          ],
          [
           true,
           "Staphylococcus aureus"
          ],
          [
           true,
           "Staphylococcus aureus"
          ],
          [
           true,
           "Staphylococcus aureus"
          ],
          [
           true,
           "Staphylococcus aureus"
          ],
          [
           true,
           "Staphylococcus aureus"
          ],
          [
           true,
           "Staphylococcus aureus"
          ],
          [
           true,
           "Staphylococcus aureus"
          ],
          [
           true,
           "Staphylococcus aureus"
          ],
          [
           true,
           "Staphylococcus aureus"
          ],
          [
           true,
           "Staphylococcus aureus"
          ],
          [
           true,
           "Staphylococcus aureus"
          ],
          [
           true,
           "Staphylococcus aureus"
          ],
          [
           true,
           "Staphylococcus aureus"
          ],
          [
           true,
           "Staphylococcus aureus"
          ],
          [
           true,
           "Staphylococcus aureus"
          ],
          [
           true,
           "Staphylococcus aureus"
          ],
          [
           true,
           "Staphylococcus aureus"
          ],
          [
           true,
           "Staphylococcus aureus"
          ],
          [
           true,
           "Staphylococcus aureus"
          ],
          [
           true,
           "Staphylococcus aureus"
          ],
          [
           true,
           "Staphylococcus aureus"
          ],
          [
           true,
           "Staphylococcus aureus"
          ],
          [
           true,
           "Staphylococcus aureus"
          ],
          [
           true,
           "Staphylococcus aureus"
          ],
          [
           true,
           "Staphylococcus aureus"
          ],
          [
           true,
           "Staphylococcus aureus"
          ],
          [
           true,
           "Staphylococcus aureus"
          ],
          [
           true,
           "Streptococcus pneumoniae"
          ],
          [
           true,
           "Streptococcus oralis"
          ],
          [
           true,
           "Streptococcus oralis"
          ],
          [
           true,
           "Streptococcus mitis"
          ],
          [
           true,
           "Streptococcus oralis"
          ],
          [
           true,
           "Streptococcus pneumoniae"
          ],
          [
           true,
           "Streptococcus pneumoniae"
          ],
          [
           true,
           "Streptococcus pneumoniae"
          ],
          [
           true,
           "Streptococcus oralis"
          ],
          [
           true,
           "Streptococcus oralis"
          ],
          [
           true,
           "Streptococcus mitis"
          ],
          [
           true,
           "Streptococcus mitis"
          ],
          [
           true,
           "Streptococcus pneumoniae"
          ],
          [
           true,
           "Streptococcus mitis"
          ],
          [
           true,
           "Streptococcus mitis"
          ],
          [
           true,
           "Streptococcus mitis"
          ],
          [
           true,
           "Streptococcus oralis"
          ],
          [
           true,
           "Streptococcus oralis"
          ],
          [
           true,
           "Streptococcus pneumoniae"
          ],
          [
           true,
           "Streptococcus pneumoniae"
          ],
          [
           true,
           "Streptococcus pneumoniae"
          ],
          [
           true,
           "Streptococcus pneumoniae"
          ],
          [
           true,
           "Enterococcus faecalis"
          ],
          [
           false,
           "Enterococcus faecalis"
          ],
          [
           true,
           "Enterococcus faecalis"
          ],
          [
           false,
           "Enterococcus faecium"
          ],
          [
           false,
           "Enterococcus faecalis"
          ],
          [
           false,
           "Enterococcus faecium"
          ],
          [
           true,
           "Enterococcus faecalis"
          ],
          [
           false,
           "Enterococcus faecium"
          ],
          [
           false,
           "Enterococcus faecium"
          ],
          [
           true,
           "Enterococcus faecium"
          ],
          [
           false,
           "Enterococcus faecalis"
          ],
          [
           true,
           "Staphylococcus aureus"
          ],
          [
           true,
           "Staphylococcus capitis"
          ],
          [
           true,
           "Staphylococcus capitis"
          ],
          [
           true,
           "Staphylococcus epidermidis"
          ],
          [
           true,
           "Staphylococcus capitis"
          ],
          [
           true,
           "Staphylococcus capitis"
          ],
          [
           true,
           "Staphylococcus capitis"
          ],
          [
           true,
           "Staphylococcus epidermidis"
          ],
          [
           true,
           "Staphylococcus epidermidis"
          ],
          [
           true,
           "Staphylococcus epidermidis"
          ],
          [
           true,
           "Staphylococcus hominis"
          ],
          [
           true,
           "Staphylococcus hominis"
          ],
          [
           true,
           "Staphylococcus capitis"
          ],
          [
           true,
           "Staphylococcus capitis"
          ],
          [
           true,
           "Staphylococcus hominis"
          ],
          [
           true,
           "Staphylococcus hominis"
          ],
          [
           true,
           "Staphylococcus hominis"
          ],
          [
           true,
           "Staphylococcus hominis"
          ],
          [
           true,
           "Staphylococcus hominis"
          ],
          [
           true,
           "Staphylococcus hominis"
          ],
          [
           true,
           "Staphylococcus lugdunensis"
          ],
          [
           true,
           "Staphylococcus lugdunensis"
          ],
          [
           true,
           "Staphylococcus lugdunensis"
          ],
          [
           true,
           "Staphylococcus lugdunensis"
          ],
          [
           true,
           "Staphylococcus hominis"
          ],
          [
           true,
           "Staphylococcus hominis"
          ],
          [
           true,
           "Staphylococcus hominis"
          ],
          [
           true,
           "Staphylococcus aureus"
          ],
          [
           true,
           "Staphylococcus capitis"
          ],
          [
           true,
           "Staphylococcus lugdunensis"
          ],
          [
           true,
           "Staphylococcus lugdunensis"
          ],
          [
           true,
           "Staphylococcus lugdunensis"
          ],
          [
           true,
           "Staphylococcus lugdunensis"
          ],
          [
           true,
           "Staphylococcus epidermidis"
          ],
          [
           true,
           "Staphylococcus epidermidis"
          ],
          [
           true,
           "Staphylococcus aureus"
          ],
          [
           true,
           "Staphylococcus aureus"
          ],
          [
           true,
           "Staphylococcus aureus"
          ],
          [
           true,
           "Staphylococcus aureus"
          ],
          [
           true,
           "Staphylococcus aureus"
          ],
          [
           true,
           "Staphylococcus aureus"
          ],
          [
           true,
           "Staphylococcus epidermidis"
          ],
          [
           true,
           "Staphylococcus epidermidis"
          ],
          [
           true,
           "Staphylococcus epidermidis"
          ],
          [
           true,
           "Staphylococcus epidermidis"
          ],
          [
           true,
           "Staphylococcus epidermidis"
          ],
          [
           true,
           "Staphylococcus lugdunensis"
          ],
          [
           true,
           "Enterococcus faecalis"
          ],
          [
           true,
           "Enterococcus faecalis"
          ],
          [
           true,
           "Staphylococcus aureus"
          ],
          [
           true,
           "Enterococcus faecalis"
          ],
          [
           true,
           "Staphylococcus capitis"
          ],
          [
           true,
           "Staphylococcus capitis"
          ],
          [
           true,
           "Staphylococcus epidermidis"
          ],
          [
           true,
           "Staphylococcus capitis"
          ],
          [
           true,
           "Staphylococcus capitis"
          ],
          [
           true,
           "Staphylococcus capitis"
          ],
          [
           true,
           "Streptococcus mitis"
          ],
          [
           true,
           "Staphylococcus epidermidis"
          ],
          [
           true,
           "Staphylococcus hominis"
          ],
          [
           true,
           "Streptococcus pneumoniae"
          ],
          [
           true,
           "Streptococcus oralis"
          ],
          [
           true,
           "Streptococcus oralis"
          ],
          [
           true,
           "Staphylococcus aureus"
          ],
          [
           true,
           "Staphylococcus capitis"
          ],
          [
           true,
           "Staphylococcus capitis"
          ],
          [
           true,
           "Streptococcus mitis"
          ],
          [
           true,
           "Streptococcus mitis"
          ],
          [
           true,
           "Staphylococcus hominis"
          ],
          [
           true,
           "Enterococcus faecium"
          ],
          [
           true,
           "Staphylococcus hominis"
          ],
          [
           true,
           "Staphylococcus hominis"
          ],
          [
           true,
           "Staphylococcus hominis"
          ],
          [
           true,
           "Staphylococcus hominis"
          ],
          [
           true,
           "Staphylococcus lugdunensis"
          ],
          [
           true,
           "Staphylococcus lugdunensis"
          ],
          [
           true,
           "Staphylococcus lugdunensis"
          ],
          [
           true,
           "Staphylococcus lugdunensis"
          ],
          [
           true,
           "Streptococcus pneumoniae"
          ],
          [
           true,
           "Staphylococcus hominis"
          ],
          [
           true,
           "Staphylococcus hominis"
          ],
          [
           true,
           "Staphylococcus hominis"
          ],
          [
           true,
           "Streptococcus mitis"
          ],
          [
           true,
           "Streptococcus mitis"
          ],
          [
           true,
           "Streptococcus mitis"
          ],
          [
           true,
           "Streptococcus oralis"
          ],
          [
           true,
           "Streptococcus oralis"
          ],
          [
           true,
           "Staphylococcus aureus"
          ],
          [
           true,
           "Staphylococcus capitis"
          ],
          [
           true,
           "Staphylococcus lugdunensis"
          ],
          [
           true,
           "Staphylococcus lugdunensis"
          ],
          [
           true,
           "Staphylococcus lugdunensis"
          ],
          [
           true,
           "Staphylococcus lugdunensis"
          ],
          [
           true,
           "Staphylococcus lugdunensis"
          ],
          [
           true,
           "Staphylococcus epidermidis"
          ],
          [
           true,
           "Staphylococcus epidermidis"
          ],
          [
           true,
           "Staphylococcus aureus"
          ],
          [
           true,
           "Staphylococcus aureus"
          ],
          [
           true,
           "Staphylococcus aureus"
          ],
          [
           true,
           "Staphylococcus aureus"
          ],
          [
           true,
           "Staphylococcus aureus"
          ],
          [
           true,
           "Staphylococcus aureus"
          ],
          [
           true,
           "Staphylococcus aureus"
          ],
          [
           true,
           "Staphylococcus epidermidis"
          ],
          [
           true,
           "Staphylococcus epidermidis"
          ],
          [
           true,
           "Streptococcus pneumoniae"
          ],
          [
           true,
           "Streptococcus pneumoniae"
          ],
          [
           true,
           "Streptococcus pneumoniae"
          ],
          [
           true,
           "Staphylococcus lugdunensis"
          ],
          [
           true,
           "Staphylococcus aureus"
          ],
          [
           true,
           "Staphylococcus capitis"
          ],
          [
           true,
           "Staphylococcus capitis"
          ],
          [
           true,
           "Staphylococcus epidermidis"
          ],
          [
           true,
           "Staphylococcus capitis"
          ],
          [
           true,
           "Staphylococcus capitis"
          ],
          [
           true,
           "Staphylococcus capitis"
          ],
          [
           true,
           "Staphylococcus epidermidis"
          ],
          [
           true,
           "Streptococcus mitis"
          ],
          [
           true,
           "Staphylococcus epidermidis"
          ],
          [
           true,
           "Staphylococcus epidermidis"
          ],
          [
           true,
           "Staphylococcus hominis"
          ],
          [
           true,
           "Staphylococcus hominis"
          ],
          [
           true,
           "Streptococcus pneumoniae"
          ],
          [
           true,
           "Streptococcus oralis"
          ],
          [
           true,
           "Streptococcus oralis"
          ],
          [
           true,
           "Staphylococcus aureus"
          ],
          [
           true,
           "Staphylococcus capitis"
          ],
          [
           true,
           "Staphylococcus capitis"
          ],
          [
           true,
           "Streptococcus mitis"
          ],
          [
           true,
           "Staphylococcus hominis"
          ],
          [
           true,
           "Staphylococcus hominis"
          ],
          [
           true,
           "Enterococcus faecium"
          ],
          [
           true,
           "Staphylococcus hominis"
          ],
          [
           true,
           "Staphylococcus hominis"
          ],
          [
           true,
           "Staphylococcus hominis"
          ],
          [
           true,
           "Staphylococcus hominis"
          ],
          [
           true,
           "Staphylococcus lugdunensis"
          ],
          [
           true,
           "Staphylococcus lugdunensis"
          ],
          [
           true,
           "Staphylococcus lugdunensis"
          ],
          [
           true,
           "Staphylococcus lugdunensis"
          ],
          [
           true,
           "Streptococcus pneumoniae"
          ],
          [
           true,
           "Staphylococcus hominis"
          ],
          [
           true,
           "Staphylococcus hominis"
          ],
          [
           true,
           "Staphylococcus hominis"
          ],
          [
           true,
           "Streptococcus mitis"
          ],
          [
           true,
           "Streptococcus mitis"
          ],
          [
           true,
           "Streptococcus mitis"
          ],
          [
           true,
           "Streptococcus oralis"
          ],
          [
           true,
           "Streptococcus oralis"
          ],
          [
           true,
           "Staphylococcus aureus"
          ],
          [
           true,
           "Staphylococcus capitis"
          ],
          [
           true,
           "Staphylococcus lugdunensis"
          ],
          [
           true,
           "Staphylococcus lugdunensis"
          ],
          [
           true,
           "Staphylococcus lugdunensis"
          ],
          [
           true,
           "Staphylococcus lugdunensis"
          ],
          [
           true,
           "Staphylococcus lugdunensis"
          ],
          [
           true,
           "Staphylococcus epidermidis"
          ],
          [
           true,
           "Staphylococcus epidermidis"
          ],
          [
           true,
           "Staphylococcus aureus"
          ],
          [
           true,
           "Staphylococcus aureus"
          ],
          [
           true,
           "Staphylococcus aureus"
          ],
          [
           true,
           "Staphylococcus aureus"
          ],
          [
           true,
           "Staphylococcus aureus"
          ],
          [
           true,
           "Staphylococcus epidermidis"
          ],
          [
           true,
           "Staphylococcus epidermidis"
          ],
          [
           true,
           "Staphylococcus epidermidis"
          ],
          [
           true,
           "Staphylococcus epidermidis"
          ],
          [
           true,
           "Staphylococcus epidermidis"
          ],
          [
           true,
           "Streptococcus pneumoniae"
          ],
          [
           true,
           "Streptococcus pneumoniae"
          ],
          [
           true,
           "Streptococcus pneumoniae"
          ],
          [
           true,
           "Staphylococcus lugdunensis"
          ],
          [
           true,
           "Staphylococcus capitis"
          ],
          [
           true,
           "Staphylococcus capitis"
          ],
          [
           true,
           "Staphylococcus epidermidis"
          ],
          [
           true,
           "Staphylococcus hominis"
          ],
          [
           true,
           "Staphylococcus lugdunensis"
          ],
          [
           true,
           "Staphylococcus lugdunensis"
          ],
          [
           true,
           "Staphylococcus lugdunensis"
          ],
          [
           true,
           "Staphylococcus aureus"
          ],
          [
           true,
           "Staphylococcus aureus"
          ],
          [
           true,
           "Staphylococcus lugdunensis"
          ],
          [
           true,
           "Staphylococcus aureus"
          ],
          [
           true,
           "Staphylococcus capitis"
          ],
          [
           true,
           "Staphylococcus epidermidis"
          ],
          [
           true,
           "Staphylococcus hominis"
          ],
          [
           true,
           "Staphylococcus hominis"
          ],
          [
           true,
           "Streptococcus pneumoniae"
          ],
          [
           true,
           "Staphylococcus hominis"
          ],
          [
           true,
           "Staphylococcus lugdunensis"
          ],
          [
           true,
           "Staphylococcus lugdunensis"
          ],
          [
           true,
           "Staphylococcus lugdunensis"
          ],
          [
           true,
           "Staphylococcus hominis"
          ],
          [
           true,
           "Staphylococcus hominis"
          ],
          [
           true,
           "Staphylococcus lugdunensis"
          ],
          [
           true,
           "Staphylococcus aureus"
          ],
          [
           true,
           "Staphylococcus aureus"
          ],
          [
           true,
           "Staphylococcus lugdunensis"
          ],
          [
           true,
           "Staphylococcus capitis"
          ],
          [
           true,
           "Staphylococcus capitis"
          ],
          [
           true,
           "Staphylococcus capitis"
          ],
          [
           true,
           "Staphylococcus hominis"
          ],
          [
           true,
           "Staphylococcus hominis"
          ],
          [
           true,
           "Staphylococcus hominis"
          ],
          [
           true,
           "Staphylococcus hominis"
          ],
          [
           true,
           "Staphylococcus hominis"
          ],
          [
           true,
           "Staphylococcus lugdunensis"
          ],
          [
           true,
           "Staphylococcus lugdunensis"
          ],
          [
           true,
           "Staphylococcus hominis"
          ],
          [
           true,
           "Staphylococcus lugdunensis"
          ],
          [
           true,
           "Staphylococcus lugdunensis"
          ],
          [
           true,
           "Staphylococcus lugdunensis"
          ],
          [
           true,
           "Staphylococcus aureus"
          ],
          [
           true,
           "Staphylococcus aureus"
          ],
          [
           true,
           "Staphylococcus aureus"
          ],
          [
           true,
           "Staphylococcus aureus"
          ],
          [
           true,
           "Staphylococcus aureus"
          ],
          [
           true,
           "Staphylococcus aureus"
          ],
          [
           true,
           "Staphylococcus aureus"
          ],
          [
           true,
           "Staphylococcus epidermidis"
          ],
          [
           true,
           "Staphylococcus epidermidis"
          ],
          [
           true,
           "Staphylococcus epidermidis"
          ],
          [
           true,
           "Streptococcus pneumoniae"
          ],
          [
           true,
           "Enterococcus faecium"
          ],
          [
           true,
           "Enterococcus faecium"
          ],
          [
           true,
           "Staphylococcus aureus"
          ],
          [
           true,
           "Staphylococcus aureus"
          ],
          [
           true,
           "Enterococcus faecalis"
          ],
          [
           true,
           "Enterococcus faecium"
          ],
          [
           true,
           "Staphylococcus capitis"
          ],
          [
           true,
           "Staphylococcus capitis"
          ],
          [
           true,
           "Staphylococcus epidermidis"
          ],
          [
           true,
           "Staphylococcus capitis"
          ],
          [
           true,
           "Staphylococcus capitis"
          ],
          [
           true,
           "Staphylococcus capitis"
          ],
          [
           true,
           "Staphylococcus epidermidis"
          ],
          [
           true,
           "Staphylococcus epidermidis"
          ],
          [
           true,
           "Enterococcus faecalis"
          ],
          [
           true,
           "Staphylococcus epidermidis"
          ],
          [
           true,
           "Staphylococcus hominis"
          ],
          [
           true,
           "Staphylococcus hominis"
          ],
          [
           true,
           "Streptococcus pneumoniae"
          ],
          [
           true,
           "Streptococcus pneumoniae"
          ],
          [
           true,
           "Enterococcus faecium"
          ],
          [
           true,
           "Staphylococcus aureus"
          ],
          [
           true,
           "Staphylococcus capitis"
          ],
          [
           true,
           "Staphylococcus capitis"
          ],
          [
           true,
           "Staphylococcus hominis"
          ],
          [
           true,
           "Staphylococcus hominis"
          ],
          [
           true,
           "Staphylococcus lugdunensis"
          ],
          [
           true,
           "Staphylococcus lugdunensis"
          ],
          [
           true,
           "Staphylococcus lugdunensis"
          ],
          [
           true,
           "Streptococcus pneumoniae"
          ],
          [
           true,
           "Staphylococcus hominis"
          ],
          [
           true,
           "Staphylococcus hominis"
          ],
          [
           true,
           "Staphylococcus aureus"
          ],
          [
           true,
           "Staphylococcus capitis"
          ],
          [
           true,
           "Staphylococcus lugdunensis"
          ],
          [
           true,
           "Staphylococcus lugdunensis"
          ],
          [
           true,
           "Staphylococcus lugdunensis"
          ],
          [
           true,
           "Staphylococcus lugdunensis"
          ],
          [
           true,
           "Staphylococcus epidermidis"
          ],
          [
           true,
           "Staphylococcus epidermidis"
          ],
          [
           true,
           "Staphylococcus aureus"
          ],
          [
           true,
           "Staphylococcus aureus"
          ],
          [
           true,
           "Staphylococcus aureus"
          ],
          [
           true,
           "Staphylococcus aureus"
          ],
          [
           true,
           "Staphylococcus aureus"
          ],
          [
           true,
           "Staphylococcus aureus"
          ],
          [
           true,
           "Enterococcus faecium"
          ],
          [
           true,
           "Streptococcus pneumoniae"
          ],
          [
           true,
           "Staphylococcus aureus"
          ],
          [
           true,
           "Staphylococcus capitis"
          ],
          [
           true,
           "Staphylococcus capitis"
          ],
          [
           true,
           "Staphylococcus epidermidis"
          ],
          [
           true,
           "Staphylococcus capitis"
          ],
          [
           true,
           "Staphylococcus capitis"
          ],
          [
           true,
           "Staphylococcus epidermidis"
          ],
          [
           true,
           "Staphylococcus epidermidis"
          ],
          [
           true,
           "Staphylococcus epidermidis"
          ],
          [
           true,
           "Staphylococcus hominis"
          ],
          [
           true,
           "Staphylococcus hominis"
          ],
          [
           true,
           "Staphylococcus aureus"
          ],
          [
           true,
           "Staphylococcus capitis"
          ],
          [
           true,
           "Staphylococcus capitis"
          ],
          [
           true,
           "Staphylococcus hominis"
          ],
          [
           true,
           "Staphylococcus hominis"
          ],
          [
           true,
           "Staphylococcus hominis"
          ],
          [
           true,
           "Staphylococcus hominis"
          ],
          [
           true,
           "Staphylococcus hominis"
          ],
          [
           true,
           "Staphylococcus hominis"
          ],
          [
           true,
           "Staphylococcus lugdunensis"
          ],
          [
           true,
           "Staphylococcus lugdunensis"
          ],
          [
           true,
           "Staphylococcus lugdunensis"
          ],
          [
           true,
           "Staphylococcus lugdunensis"
          ],
          [
           true,
           "Staphylococcus hominis"
          ],
          [
           true,
           "Staphylococcus hominis"
          ],
          [
           true,
           "Staphylococcus hominis"
          ],
          [
           true,
           "Staphylococcus aureus"
          ],
          [
           true,
           "Staphylococcus capitis"
          ],
          [
           true,
           "Staphylococcus lugdunensis"
          ],
          [
           true,
           "Staphylococcus lugdunensis"
          ],
          [
           true,
           "Staphylococcus lugdunensis"
          ],
          [
           true,
           "Staphylococcus lugdunensis"
          ],
          [
           true,
           "Staphylococcus lugdunensis"
          ],
          [
           true,
           "Staphylococcus epidermidis"
          ],
          [
           true,
           "Staphylococcus epidermidis"
          ],
          [
           true,
           "Staphylococcus aureus"
          ],
          [
           true,
           "Staphylococcus aureus"
          ],
          [
           true,
           "Staphylococcus aureus"
          ],
          [
           true,
           "Staphylococcus aureus"
          ],
          [
           true,
           "Staphylococcus aureus"
          ],
          [
           true,
           "Staphylococcus aureus"
          ],
          [
           true,
           "Staphylococcus epidermidis"
          ],
          [
           true,
           "Staphylococcus epidermidis"
          ],
          [
           true,
           "Staphylococcus epidermidis"
          ],
          [
           true,
           "Staphylococcus epidermidis"
          ],
          [
           true,
           "Staphylococcus epidermidis"
          ],
          [
           true,
           "Staphylococcus lugdunensis"
          ],
          [
           true,
           "Staphylococcus aureus"
          ],
          [
           true,
           "Staphylococcus capitis"
          ],
          [
           true,
           "Staphylococcus capitis"
          ],
          [
           true,
           "Staphylococcus capitis"
          ],
          [
           true,
           "Staphylococcus capitis"
          ],
          [
           true,
           "Staphylococcus epidermidis"
          ],
          [
           true,
           "Staphylococcus epidermidis"
          ],
          [
           true,
           "Staphylococcus hominis"
          ],
          [
           true,
           "Staphylococcus aureus"
          ],
          [
           true,
           "Staphylococcus hominis"
          ],
          [
           true,
           "Staphylococcus hominis"
          ],
          [
           true,
           "Staphylococcus hominis"
          ],
          [
           true,
           "Staphylococcus hominis"
          ],
          [
           true,
           "Staphylococcus hominis"
          ],
          [
           true,
           "Staphylococcus lugdunensis"
          ],
          [
           true,
           "Staphylococcus lugdunensis"
          ],
          [
           true,
           "Staphylococcus lugdunensis"
          ],
          [
           true,
           "Staphylococcus hominis"
          ],
          [
           true,
           "Staphylococcus hominis"
          ],
          [
           true,
           "Staphylococcus aureus"
          ],
          [
           true,
           "Staphylococcus lugdunensis"
          ],
          [
           true,
           "Staphylococcus lugdunensis"
          ],
          [
           true,
           "Staphylococcus lugdunensis"
          ],
          [
           true,
           "Staphylococcus lugdunensis"
          ],
          [
           true,
           "Staphylococcus epidermidis"
          ],
          [
           true,
           "Staphylococcus epidermidis"
          ],
          [
           true,
           "Staphylococcus aureus"
          ],
          [
           true,
           "Staphylococcus aureus"
          ],
          [
           true,
           "Staphylococcus aureus"
          ],
          [
           true,
           "Staphylococcus aureus"
          ],
          [
           true,
           "Staphylococcus epidermidis"
          ],
          [
           true,
           "Staphylococcus epidermidis"
          ],
          [
           true,
           "Staphylococcus aureus"
          ],
          [
           true,
           "Staphylococcus capitis"
          ],
          [
           true,
           "Staphylococcus capitis"
          ],
          [
           true,
           "Staphylococcus capitis"
          ],
          [
           true,
           "Staphylococcus capitis"
          ],
          [
           true,
           "Staphylococcus capitis"
          ],
          [
           true,
           "Staphylococcus epidermidis"
          ],
          [
           true,
           "Staphylococcus hominis"
          ],
          [
           true,
           "Staphylococcus capitis"
          ],
          [
           true,
           "Staphylococcus hominis"
          ],
          [
           true,
           "Staphylococcus hominis"
          ],
          [
           true,
           "Staphylococcus lugdunensis"
          ],
          [
           true,
           "Staphylococcus lugdunensis"
          ],
          [
           true,
           "Staphylococcus lugdunensis"
          ],
          [
           true,
           "Staphylococcus capitis"
          ],
          [
           true,
           "Staphylococcus lugdunensis"
          ],
          [
           true,
           "Staphylococcus lugdunensis"
          ],
          [
           true,
           "Staphylococcus lugdunensis"
          ],
          [
           true,
           "Staphylococcus lugdunensis"
          ],
          [
           true,
           "Staphylococcus lugdunensis"
          ],
          [
           true,
           "Staphylococcus aureus"
          ],
          [
           true,
           "Staphylococcus aureus"
          ],
          [
           true,
           "Staphylococcus aureus"
          ],
          [
           true,
           "Staphylococcus aureus"
          ],
          [
           true,
           "Staphylococcus aureus"
          ],
          [
           true,
           "Staphylococcus aureus"
          ],
          [
           true,
           "Staphylococcus aureus"
          ],
          [
           true,
           "Staphylococcus aureus"
          ],
          [
           true,
           "Streptococcus pneumoniae"
          ],
          [
           true,
           "Streptococcus pneumoniae"
          ],
          [
           true,
           "Staphylococcus capitis"
          ],
          [
           true,
           "Staphylococcus capitis"
          ],
          [
           true,
           "Staphylococcus epidermidis"
          ],
          [
           true,
           "Staphylococcus capitis"
          ],
          [
           true,
           "Staphylococcus lugdunensis"
          ],
          [
           true,
           "Staphylococcus lugdunensis"
          ],
          [
           true,
           "Staphylococcus lugdunensis"
          ],
          [
           true,
           "Staphylococcus hominis"
          ],
          [
           true,
           "Staphylococcus aureus"
          ],
          [
           true,
           "Staphylococcus aureus"
          ],
          [
           true,
           "Staphylococcus epidermidis"
          ],
          [
           true,
           "Staphylococcus epidermidis"
          ],
          [
           true,
           "Staphylococcus epidermidis"
          ],
          [
           true,
           "Staphylococcus epidermidis"
          ],
          [
           true,
           "Staphylococcus epidermidis"
          ],
          [
           true,
           "Staphylococcus auricularis"
          ],
          [
           true,
           "Staphylococcus auricularis"
          ],
          [
           true,
           "Staphylococcus auricularis"
          ],
          [
           true,
           "Staphylococcus auricularis"
          ],
          [
           true,
           "Staphylococcus auricularis"
          ],
          [
           true,
           "Staphylococcus warneri"
          ]
         ],
         "hovertemplate": "<b>%{hovertext}</b><br><br>SIR=Sensitive<br>Log2(MIC-value)=%{y:.0f}<br>Scale=%{customdata[0]}<br>Pathogen=%{customdata[1]}<extra></extra>",
         "hovertext": [
          "BAR026",
          "QM169",
          "QM874",
          "QM889",
          "QM1260",
          "QM1262",
          "BAR043",
          "QM286",
          "QM065",
          "QM294",
          "BAR032",
          "QM169",
          "QM874",
          "QM397",
          "QM992",
          "QM322",
          "QM1450",
          "AR0565",
          "AR0217",
          "AR0218",
          "AR0219",
          "AR0222",
          "AR0227",
          "AR0228",
          "AR0708",
          "AR0711",
          "AR0717",
          "AR0718",
          "QM397",
          "QM992",
          "QM322",
          "QM1450",
          "AR0565",
          "AR0217",
          "AR0218",
          "AR0219",
          "AR0222",
          "AR0227",
          "AR0228",
          "AR0708",
          "AR0711",
          "AR0717",
          "AR0718",
          "BAR026",
          "QM169",
          "QM874",
          "QM870",
          "HV752",
          "QM402",
          "QM806",
          "BAR026",
          "QM169",
          "QM874",
          "QM1406",
          "BAR064",
          "QM1470",
          "QM870",
          "QM871",
          "BAR066",
          "HV752",
          "QM138",
          "QM027",
          "QM326",
          "QM328",
          "QM402",
          "QM286",
          "QM065",
          "QM294",
          "PER107",
          "QM319",
          "PER108",
          "QM312",
          "QM295",
          "QM1252",
          "AR0572",
          "QM067",
          "QM322",
          "QM085",
          "QM086",
          "HV116",
          "QM899",
          "BAR002",
          "BAR003",
          "HV146",
          "HV953",
          "QM968",
          "HV245",
          "HV414",
          "QM1263",
          "QM1264",
          "HV987",
          "QM093",
          "QM1270",
          "QM1271",
          "QM1272",
          "QM1273",
          "PER152",
          "QM889",
          "QM894",
          "QM960",
          "HV813",
          "HV820",
          "HV88",
          "AR0565",
          "QM1265",
          "QM1259",
          "QM1261",
          "QM1262",
          "QM1269",
          "HV733",
          "HV744",
          "AR0222",
          "AR0703",
          "AR0708",
          "AR0711",
          "AR0717",
          "AR0718",
          "AR0726",
          "AR0727",
          "AR0728",
          "AR0729",
          "AR0730",
          "BAR043",
          "QM286",
          "QM065",
          "QM322",
          "QM312",
          "QM085",
          "QM086",
          "HV116",
          "QM899",
          "BAR002",
          "BAR003",
          "QM134",
          "QM968",
          "HV414",
          "QM806",
          "QM169",
          "QM874",
          "QM1450",
          "QM1263",
          "QM1264",
          "QM1406",
          "BAR064",
          "QM093",
          "QM1522",
          "QM1270",
          "QM1271",
          "QM1272",
          "QM1273",
          "PER152",
          "QM889",
          "QM894",
          "QM960",
          "QM1470",
          "HV813",
          "HV820",
          "HV88",
          "QM870",
          "QM871",
          "BAR066",
          "HV752",
          "QM138",
          "AR0565",
          "QM1265",
          "QM1259",
          "QM1260",
          "QM1261",
          "QM1262",
          "QM1269",
          "HV733",
          "HV744",
          "AR0222",
          "AR0228",
          "AR0703",
          "AR0708",
          "AR0711",
          "AR0717",
          "AR0718",
          "AR0726",
          "AR0730",
          "QM027",
          "QM326",
          "QM328",
          "BAR043",
          "QM322",
          "QM085",
          "QM086",
          "HV116",
          "QM899",
          "BAR002",
          "BAR003",
          "HV146",
          "QM134",
          "HV953",
          "QM968",
          "HV245",
          "HV414",
          "BAR026",
          "QM169",
          "QM874",
          "QM1450",
          "QM1263",
          "QM1264",
          "QM1406",
          "HV987",
          "QM093",
          "QM1522",
          "QM1270",
          "QM1271",
          "QM1272",
          "QM1273",
          "PER152",
          "QM889",
          "QM894",
          "QM960",
          "QM1470",
          "HV813",
          "HV820",
          "HV88",
          "QM870",
          "QM871",
          "BAR066",
          "HV752",
          "QM138",
          "AR0565",
          "QM1265",
          "QM1259",
          "QM1260",
          "QM1261",
          "QM1262",
          "QM1269",
          "HV733",
          "HV744",
          "AR0703",
          "AR0708",
          "AR0711",
          "AR0717",
          "AR0718",
          "AR0726",
          "AR0727",
          "AR0728",
          "AR0729",
          "AR0730",
          "QM027",
          "QM326",
          "QM328",
          "BAR043",
          "QM085",
          "QM086",
          "HV146",
          "QM1272",
          "PER152",
          "QM889",
          "QM894",
          "AR0217",
          "AR0222",
          "BAR043",
          "QM322",
          "QM086",
          "HV146",
          "HV245",
          "HV414",
          "BAR026",
          "HV987",
          "PER152",
          "QM889",
          "QM894",
          "HV813",
          "HV88",
          "QM1269",
          "AR0217",
          "AR0222",
          "BAR043",
          "QM085",
          "BAR002",
          "BAR003",
          "HV245",
          "QM1270",
          "QM1271",
          "QM1272",
          "QM1273",
          "PER152",
          "QM960",
          "HV88",
          "QM1259",
          "QM1262",
          "QM1269",
          "AR0217",
          "AR0218",
          "AR0227",
          "AR0228",
          "AR0708",
          "AR0711",
          "AR0717",
          "AR0726",
          "AR0728",
          "AR0729",
          "QM328",
          "PER107",
          "PER108",
          "QM397",
          "QM992",
          "QM312",
          "QM295",
          "QM085",
          "QM086",
          "HV116",
          "QM899",
          "BAR002",
          "BAR003",
          "HV146",
          "HV953",
          "BAR032",
          "QM968",
          "HV245",
          "HV414",
          "QM806",
          "BAR026",
          "QM1252",
          "QM1450",
          "QM1263",
          "QM1264",
          "HV987",
          "QM093",
          "QM889",
          "QM894",
          "QM960",
          "QM1470",
          "HV813",
          "HV820",
          "AR0565",
          "QM1265",
          "QM1259",
          "QM1260",
          "QM1261",
          "QM1269",
          "HV733",
          "HV744",
          "AR0217",
          "AR0218",
          "AR0219",
          "AR0222",
          "AR0228",
          "AR0703",
          "AR0572",
          "QM326",
          "QM322",
          "QM085",
          "QM086",
          "HV116",
          "QM899",
          "BAR003",
          "HV146",
          "HV953",
          "QM968",
          "HV245",
          "HV414",
          "QM1450",
          "QM1263",
          "QM1264",
          "HV987",
          "QM093",
          "QM1270",
          "QM1271",
          "QM1272",
          "QM1273",
          "PER152",
          "QM889",
          "QM894",
          "QM960",
          "HV813",
          "HV820",
          "HV88",
          "AR0565",
          "QM1265",
          "QM1259",
          "QM1260",
          "QM1261",
          "QM1262",
          "QM1269",
          "HV733",
          "HV744",
          "AR0219",
          "AR0703",
          "AR0708",
          "AR0711",
          "AR0717",
          "AR0718",
          "AR0726",
          "AR0727",
          "AR0728",
          "AR0729",
          "AR0730",
          "BAR043",
          "QM322",
          "QM086",
          "QM899",
          "BAR002",
          "BAR003",
          "HV146",
          "HV953",
          "HV245",
          "QM1450",
          "HV987",
          "QM1270",
          "QM1271",
          "QM1272",
          "QM1273",
          "QM889",
          "QM894",
          "QM960",
          "HV813",
          "HV820",
          "AR0565",
          "QM1260",
          "QM1261",
          "QM1262",
          "QM1269",
          "HV733",
          "HV744",
          "AR0217",
          "AR0218",
          "AR0228",
          "AR0717",
          "AR0727",
          "AR0728",
          "QM322",
          "QM085",
          "QM086",
          "QM899",
          "BAR002",
          "BAR003",
          "HV146",
          "HV414",
          "QM1263",
          "HV987",
          "QM093",
          "QM889",
          "QM894",
          "QM960",
          "QM1265",
          "QM1259",
          "QM1260",
          "QM1261",
          "QM1262",
          "QM1269",
          "AR0218",
          "AR0219",
          "AR0227",
          "AR0228",
          "AR0708",
          "AR0711",
          "AR0717",
          "AR0718",
          "QM328",
          "QM402",
          "QM085",
          "QM086",
          "HV146",
          "QM1264",
          "PER152",
          "QM889",
          "QM894",
          "HV813",
          "AR0217",
          "AR0222",
          "AR0726",
          "AR0727",
          "AR0728",
          "AR0729",
          "AR0730",
          "QM1493",
          "QM1494",
          "QM1566",
          "QM1567",
          "QM1569",
          "QM1572"
         ],
         "legendgroup": "Sensitive",
         "marker": {
          "color": "limegreen",
          "symbol": "circle"
         },
         "mode": "markers",
         "name": "Sensitive",
         "orientation": "v",
         "showlegend": true,
         "type": "scatter",
         "x": [
          -0.011771821300250923,
          -0.07130837621355864,
          0.08403386001997143,
          0.05574703249842872,
          -0.08648366387056568,
          0.045611604075552425,
          -0.04301735133315747,
          0.9923352704942052,
          1.1045654265402252,
          0.9013122958335454,
          1.1019110801556307,
          1.0778869588410387,
          1.1298207615583054,
          3.063912423116835,
          3.1448100975249678,
          3.1410039949990347,
          3.0430571208158677,
          2.8700403310890046,
          3.007540132822127,
          3.1170631707548138,
          2.916506949476644,
          2.9678046431270313,
          2.862983826243398,
          2.9537517294945466,
          3.0910093929204043,
          3.1454061244830998,
          3.085823170911182,
          3.1098899513990634,
          3.9641472402832396,
          3.863219418768446,
          3.9887562357634305,
          3.971480095156443,
          4.0617461397383225,
          4.058480249678968,
          4.102962541577399,
          3.948538631799191,
          3.9498940668591445,
          3.990394029669392,
          4.093202715507291,
          4.061087458515313,
          3.9506924864981143,
          3.9570628489524142,
          3.94729012631423,
          5.011685645067409,
          5.089368824650866,
          5.084507318090184,
          5.013298523117298,
          5.040151132979354,
          5.05454587415511,
          7.028862643960097,
          7.087418761850773,
          7.056873460600931,
          7.1435861733274795,
          6.945568326246632,
          7.000297479837267,
          6.877680483452339,
          6.9537120083723565,
          7.00445514955767,
          7.124086540883196,
          7.058049604124804,
          7.1039843729445,
          6.961893449484981,
          7.053282869788791,
          7.146996893960386,
          6.97131885747611,
          9.978303486308555,
          10.147187712165005,
          10.085048411129975,
          10.051840586340488,
          10.097079829473882,
          9.891394883338819,
          10.023226820958856,
          9.928588124963216,
          10.133477143270788,
          10.076986364377136,
          10.027718567975494,
          10.957780684308858,
          10.941200741330213,
          11.069115379325956,
          11.019254358774573,
          10.983835206275314,
          11.004896660292937,
          11.023356965153713,
          10.857886567373349,
          10.857288976713912,
          10.874544964560949,
          11.066086837469362,
          10.983803265916439,
          10.891623734808565,
          10.904271074642084,
          11.106459897846001,
          10.896448479953966,
          11.023581133918794,
          11.019454421294949,
          11.031817169811864,
          10.877260786375823,
          10.941111323350698,
          11.096480528897928,
          11.135479732473167,
          11.009042664867176,
          10.872017649655032,
          10.859377802998662,
          10.869620898689288,
          11.138870130142166,
          11.0392774094012,
          11.127343045285574,
          11.012936752970177,
          11.129133760229113,
          11.130564132824066,
          11.076178854627715,
          11.13695168549444,
          11.110751992641204,
          11.06633364883949,
          10.999852971001038,
          11.134647259163572,
          10.957300172196659,
          10.869785536770578,
          10.931842328686285,
          10.985354753577496,
          11.100415307158467,
          11.117183467410428,
          11.007878852280918,
          11.085907942980075,
          12.067969476257003,
          11.876842260942002,
          11.867428845788249,
          11.899719497268283,
          11.85481536209644,
          12.050034451699824,
          12.090189263777484,
          11.98036402119146,
          11.902840571501228,
          12.004244832600177,
          12.000079367011915,
          11.990318527272537,
          11.99420815937135,
          12.007440031653413,
          12.134212374938123,
          12.13418934067305,
          11.936060092750212,
          11.901816855201712,
          12.001605327542427,
          12.114561356648698,
          11.966831881511627,
          12.066766461491143,
          11.984795643286871,
          12.122606016904628,
          12.149462500637089,
          11.980335056591233,
          12.068135829116088,
          11.864060263735128,
          12.078457865701735,
          11.85228550858754,
          11.886878625475923,
          11.899030031677249,
          12.03749973383062,
          11.885938437381851,
          11.916598351306831,
          11.929250390867766,
          11.892929322601805,
          11.958193462981827,
          11.952859737197297,
          11.893272593967485,
          11.985937088195655,
          12.061910008090996,
          11.97507223688172,
          11.900325956026855,
          12.133591865768498,
          11.898563496300026,
          12.145485700787503,
          12.113128832225856,
          12.063617891510317,
          11.899001771760679,
          11.997580362112336,
          12.060203283386302,
          12.05666512012544,
          12.085002280012688,
          11.95710428266888,
          12.104131202997948,
          12.005830412141899,
          11.996377570038044,
          11.92617317787773,
          11.987683537144902,
          11.943146941140593,
          12.008633963950292,
          13.021675787831432,
          13.096547378476043,
          12.969943690187577,
          12.936018066153832,
          13.00519290574288,
          13.009907767614473,
          13.081495607874903,
          13.00387934627102,
          13.126100395148665,
          12.980071386355254,
          12.981634992512813,
          13.063845425520228,
          12.984782620449753,
          12.901706636577755,
          12.9882090555321,
          12.964043290663854,
          12.99061958324516,
          13.005430296973282,
          12.989297695611487,
          13.092205585666212,
          12.949912557344398,
          13.07972453777824,
          12.964464672383679,
          12.850228757430875,
          12.915350996257699,
          13.024296844297446,
          13.096269964844318,
          12.859724148010995,
          13.011818892546403,
          12.95835012214099,
          13.049195431798637,
          12.865001690770105,
          13.11027968782907,
          13.06666848912219,
          13.026375233392262,
          13.044802894271944,
          13.053903468398762,
          12.88757487198265,
          13.026661749334854,
          13.03078667098244,
          12.955593854464977,
          13.13339757668284,
          12.88064701391024,
          13.039609941498792,
          13.115987696232345,
          12.980241681449929,
          13.116720704488456,
          12.86586587316963,
          12.91768531121662,
          13.009374541795957,
          12.957859532644818,
          12.985407643786266,
          13.131283581631221,
          12.932545248979462,
          12.942211122044267,
          13.083500374354745,
          13.116371626077534,
          13.12320159729134,
          13.141228340710782,
          13.047044722011126,
          12.926379665155867,
          12.896475765832733,
          13.05120950147567,
          14.000819156370623,
          13.955219785040667,
          13.963826015345356,
          13.866004228537944,
          14.00397170341876,
          13.91372462426684,
          13.92009794608928,
          13.857155541962893,
          14.081310382957927,
          14.104567949491019,
          14.85281582625132,
          15.038530111767315,
          14.930614093718095,
          14.898440331724208,
          15.069236653517208,
          15.119806183396523,
          15.032655484530142,
          14.870323620761173,
          15.084466054021956,
          14.986043832563697,
          15.110765183676504,
          15.008792682904362,
          15.123727504652088,
          14.9623782307483,
          14.957887816267084,
          15.08769689622085,
          15.938577631380829,
          16.04143009088182,
          15.919432610053127,
          15.933089326095429,
          16.096388502132598,
          15.976742011210018,
          16.014351582178058,
          15.952218319179003,
          16.054339292870615,
          16.047828423819134,
          16.069029015690738,
          15.891530125146165,
          15.97656638827751,
          15.888561546730138,
          16.080127573294412,
          16.066002026690082,
          16.05098538347271,
          16.03517733697454,
          16.01219803339313,
          16.081027842363863,
          15.874295604249571,
          16.013343072553678,
          15.913282069371641,
          16.024979193256094,
          16.023333048377523,
          17.12364861370572,
          17.07333041576617,
          16.99760165024619,
          17.138692540610716,
          17.08708617124631,
          16.99376425084624,
          17.108021139809978,
          17.04855232764646,
          17.12502823316806,
          17.13020643731289,
          17.045681679261964,
          16.888593797570245,
          16.86543742262783,
          16.90275127272236,
          17.000907384479156,
          16.85553641721093,
          17.092151220138906,
          17.057250270170755,
          16.948318787977286,
          16.9993949038973,
          16.948304147540412,
          17.005982907619646,
          17.023149414948126,
          17.022521778937744,
          16.92371318805452,
          16.910960404178674,
          17.084694514206383,
          17.010022399635478,
          16.86637581198698,
          16.945585564763935,
          17.08726943337013,
          16.96299655652173,
          17.002212460169876,
          17.063410049371164,
          16.9373479756531,
          17.05252627351881,
          17.063354261803042,
          17.043656616879737,
          17.068980659200697,
          16.923882024821197,
          17.12405036654205,
          16.860014277461726,
          16.954619755549153,
          17.098264844421113,
          16.954255926784736,
          17.07406787386443,
          16.968423220739172,
          16.91472527232604,
          18.098324338498614,
          17.92160719606313,
          18.140496704682718,
          17.898090294266925,
          18.012383495008805,
          18.02825603519515,
          18.090401821741793,
          18.084411026079586,
          18.129567291716548,
          17.889241841875144,
          18.08078165859117,
          17.908893585427126,
          18.146465326772308,
          18.142387152624334,
          18.104374185270487,
          18.098782837845572,
          17.86924367325867,
          18.126942167862232,
          17.90505583535828,
          17.942437845875823,
          17.92050981972519,
          18.071540285953304,
          18.13409292400201,
          18.058029743250803,
          18.08065485738059,
          17.99462950859768,
          18.01549399464197,
          18.1195373110014,
          18.04380993422698,
          18.137196448903268,
          18.09773657609108,
          18.0173430872796,
          18.111802036047326,
          18.12243554733769,
          17.972942000684103,
          17.91660345984276,
          18.02267236834887,
          18.099781472965933,
          18.021734386119398,
          17.87148964716811,
          18.049986078035484,
          18.09562494766242,
          17.943360828474713,
          18.043617180410916,
          17.890521347427775,
          17.890635221255376,
          17.920152113212968,
          18.113908939323185,
          18.975270937572116,
          18.938340774782525,
          18.895140366607563,
          18.913531478510624,
          18.968400151159646,
          19.017330472938657,
          18.919816494944893,
          19.040945767413564,
          18.948254178986137,
          18.976870196556824,
          18.999178005970645,
          18.90142048233447,
          19.057900256521,
          18.990700240402905,
          18.892210003821678,
          18.915515800183098,
          18.961141336228327,
          18.99518199545571,
          19.023922920043038,
          19.046455147915818,
          19.138654846794694,
          18.97012480903055,
          19.077877858187005,
          19.021225187591202,
          18.978743881353452,
          19.062678830672855,
          18.944276727256796,
          18.886182059809308,
          19.093836487541115,
          19.105488634726143,
          19.133531622653447,
          19.09624767476882,
          20.01673507868904,
          19.903455420095515,
          20.080141210208076,
          20.09871577897648,
          20.04837538121007,
          19.878541398625334,
          19.98569565380839,
          20.118680937216627,
          19.95942746495105,
          19.887117008866575,
          20.08040904526602,
          20.005953247470423,
          19.888556645548675,
          20.077492665664128,
          20.104588942051713,
          20.003878992677496,
          19.905320674800002,
          20.116819641954923,
          19.92643316205582,
          20.035591824698802,
          19.897103582728295,
          20.12820056487608,
          20.08365374174005,
          19.995411714789718,
          19.89674399752548,
          20.090271558285107,
          20.094462251453912,
          19.995218240661053,
          20.121733969824742,
          19.93818361847908,
          21.045054733012,
          20.90247054023462,
          21.089075338423058,
          20.99583401833896,
          21.110326607842545,
          21.043337213937974,
          21.070046945953802,
          21.041406146880835,
          20.891307866151806,
          21.12790669122209,
          20.915059204805466,
          20.98320830532636,
          20.96775528289911,
          20.93366508083107,
          21.124546755454517,
          20.98359074639097,
          20.98675685638676,
          20.999178392395237,
          20.937452517971664,
          20.87903340886212,
          21.09054101773573
         ],
         "xaxis": "x",
         "y": [
          -6.022931906820293,
          -6.973842044178481,
          -3.9903891191942096,
          -2.9652515603281087,
          -3.017914835217998,
          -3.0357331861275423,
          -4.00977020511495,
          2.005148968700863,
          1.0169146308988943,
          -0.04054392120865206,
          -0.03156793850055212,
          -6.017846314300834,
          -5.03990168930438,
          -0.031072198791757644,
          0.04274132499529602,
          -2.0132287217266223,
          -1.017956721620703,
          -0.011543166442944633,
          -1.0248389088094647,
          -0.9903084042112236,
          0.02500113974590583,
          -1.0265985533404927,
          -0.9570822445656751,
          -0.9890999877912016,
          -0.957463416248193,
          -1.0071794082925922,
          -0.047461937526336886,
          0.034297782299029536,
          1.0364023328122913,
          0.9915680779890572,
          -0.9909909939397327,
          -0.024672798374109496,
          1.0444341213414237,
          0.044909416557192036,
          0.04545985213544919,
          0.978075642087421,
          -0.028791078353451096,
          -0.0124056409537876,
          0.994737387225122,
          1.02238063783459,
          0.010443950807958055,
          0.9830349269516089,
          1.0123438886576157,
          -6.009868703626374,
          -7.03752557344438,
          -3.047770558033942,
          -0.9700841819293677,
          -1.009695126751633,
          -3.9951363855312767,
          -0.9804678923549563,
          -7.004385994253287,
          -6.043205885176762,
          -6.017743727170011,
          0.9871736853674222,
          -1.014067713841009,
          -1.042682967426727,
          -1.9895911499264125,
          -2.034696089642348,
          0.9580312553742418,
          -3.039465745578029,
          -1.0098885210392194,
          1.024568181155803,
          -0.0378130868290256,
          -0.9933352650417363,
          -6.045098134347018,
          7.02548342758904,
          -10,
          7.035871961090071,
          -10,
          -10,
          -10,
          6.966720012900597,
          -10,
          -10,
          7.04501668449055,
          -10,
          -6.037940481987565,
          -4.964769086384789,
          -5.974095066672778,
          -4.988807280066532,
          -5.962293463619032,
          -5.009496992164312,
          -4.9510459407331044,
          -3.9650141048763965,
          -4.028916565388579,
          -4.997395116987136,
          -5.014043587192059,
          -8.027252694847633,
          -4.975558457050419,
          -5.014059102236777,
          -4.969688887297467,
          -4.991109495078903,
          -4.997538495344474,
          -4.970051448803701,
          -5.036356027026684,
          -5.983862353477901,
          -5.012323785320081,
          -5.019570474124038,
          -5.03720808970309,
          -4.980876774249257,
          -5.008901256796374,
          -4.9653139910516115,
          -4.9551978006487,
          -4.013550232049797,
          -5.040747447042149,
          -4.000699247390717,
          -5.049521084124346,
          -4.993389596688235,
          -4.97332486439568,
          -3.9529156525533677,
          -2.975686345850654,
          -2.9985625899788224,
          -4.971860928531932,
          -5.004388777688395,
          -5.0012708416193945,
          -4.956467351599433,
          -4.988233923783369,
          -6.018832290978581,
          -4.9715241254281315,
          -4.9721689490837475,
          -3.0361508980687955,
          -2.984883999800184,
          -3.962665343835243,
          -1.0096260649585458,
          -1.9988035603782301,
          -2.000030589640973,
          -0.954072720991359,
          -0.9814519297291275,
          -1.0491251095014535,
          1.0318172113517736,
          -0.9684848312453754,
          -0.046540895813064545,
          -1.0111094078986036,
          -5.040141425559636,
          2.0456189407470133,
          -3.011778357428919,
          -4.026727168742529,
          -4.95620046236877,
          -4.007569109933566,
          -1.0477541753222661,
          -0.019535739411445832,
          2.0492492520387278,
          -3.0047722405545882,
          -5.00695618906954,
          -1.027703433511838,
          0.015761589410301063,
          -0.967806108020975,
          -1.028145662159221,
          -0.9589419420602928,
          -0.9878733241251816,
          -1.0191160336240939,
          -1.0475029003996792,
          -1.0104597315877257,
          -1.0368279417193507,
          -4.003924437890778,
          -1.0035273483714502,
          -0.9970344717593473,
          -0.9684517036065364,
          -5.008391612475417,
          -3.9986503061539804,
          -3.038337601258882,
          -5.030514488873452,
          -1.9533364354354175,
          -0.009406056089815026,
          -0.9892480459440252,
          -0.9948375797218831,
          -2.001112073448356,
          -0.9526141107782948,
          -1.9964345754771897,
          -1.9687000804294248,
          1.952758803606717,
          1.9690490074303852,
          0.9778481371501595,
          1.0355139855185462,
          -0.04312027370216823,
          -1.0030567711367222,
          -0.01407968386537737,
          -1.0352390807648404,
          -0.9602771717298406,
          0.028285989946890397,
          0.951396185233408,
          -3.9703975931390723,
          -3.9859317842671027,
          -4.015363229054854,
          -0.9530169220782441,
          -1.0134992715564004,
          0.019882768726048078,
          -1.03890717473932,
          1.0288986491589427,
          -1.011793934096403,
          -1.034351694899581,
          -1.035772516836636,
          1.0371258284799418,
          -0.9697685785349535,
          0.988118217280229,
          1.0273607212112954,
          -0.009400262987003014,
          -2.0203898998410823,
          -2.0392333661062136,
          -0.9997144177969858,
          -0.9532806090192071,
          -0.04345593663806692,
          0.03576941185412395,
          0.951171387696629,
          -0.9987514559948089,
          -0.041419842839472365,
          0.017137381073325894,
          -1.0478953375739004,
          -0.025307884950761916,
          0.03625960784212716,
          0.03916465476835067,
          0.021939047071027035,
          -1.0193163470587812,
          0.02023013258529785,
          -0.9675156705531958,
          0.017551423232310667,
          -0.9705074157078631,
          -0.9845542419526088,
          0.041840341706955816,
          -1.0017843496782317,
          -1.046658416818536,
          -0.9706733510866288,
          -1.009630137638273,
          -1.0214103898897853,
          -0.978700549998033,
          -0.04558127478063916,
          -0.03414889496367769,
          -0.017664223231112365,
          -0.9552749139219232,
          0.03173730199631808,
          -1.0042616795317398,
          -1.0087127519914285,
          0.9729356716964266,
          0.9648989712948104,
          -1.043269679352076,
          -0.9946247040956389,
          0.004246670048163682,
          -1.0351205046667835,
          -0.019439842281964905,
          -0.01716616673106676,
          1.018681699540655,
          1.0331916245372719,
          1.025961085896844,
          0.9688875551605218,
          -2.0324198821767103,
          -2.028764009342691,
          -1.9803573005659714,
          0.01185476499613447,
          -2.0173372718937386,
          -2.9626328707568703,
          -2.995830430122328,
          -1.0328272658773965,
          -2.9941410697947406,
          -3.0457086948440923,
          -4.011629200831922,
          -3.0362034540016865,
          -2.0008444412662474,
          -3.9904265676829356,
          -1.9569114153761975,
          -3.994205933426159,
          -4.023030307376943,
          -4.035759795448278,
          -4.0441882996602425,
          -1.9682405423395926,
          -3.9791776415034574,
          -3.9629688080862127,
          -4.038754309607707,
          -5.0345841428606715,
          -4.026201829128828,
          -2.994907563331155,
          -3.0408246709262055,
          -4.025751556845458,
          -3.955929403724452,
          -4.022648208605718,
          -1.9993664890609801,
          -1.9876232220286163,
          -1.9821640409764416,
          -2.03771331807959,
          -1.9776077591212737,
          -1.9755936280034267,
          -1.9884010680931796,
          -1.9944879271322355,
          -3.03298364509251,
          -3.0184212113932216,
          -3.028591717377479,
          -2.957172576925093,
          -3.033955911418686,
          -3.0109544697444135,
          -4.036419630177584,
          -2.01627611376244,
          -1.9822159563921753,
          -4.005192377617898,
          -3.9704985514113624,
          -2.0385532036825285,
          -1.970830520995986,
          -0.0017704780871894213,
          0.030277999227101643,
          -0.01895220067931054,
          -1.0061822555463726,
          0.03869452906605575,
          -0.025882992970765184,
          0.023700386914822888,
          -0.014930064144836365,
          0.9512636727222775,
          0.9698912604513753,
          -0.027682520762411733,
          0.013398216004389812,
          -0.03464711261725705,
          0.003421866061130388,
          -0.01770150873213379,
          0.03221019973079951,
          -0.0048138530539483665,
          -1.0035990728490725,
          0.035825558966542714,
          -0.03641464520932594,
          0.013157924850057873,
          0.026897470822644307,
          0.026014784421881945,
          -1.0120366120589657,
          0.9803602344079835,
          0.9826260245660017,
          -0.0037393202809580944,
          0.9761230889379156,
          0.03513871292007503,
          0.015361643565920319,
          0.04007993781652393,
          -0.01874003450141986,
          0.01645050560217362,
          0.008576622214457784,
          0.022403685307818375,
          0.014580997315450567,
          0.016085533407454944,
          0.02660019763496764,
          -0.009079304403965628,
          -0.9845584207896733,
          0.0010163328130301727,
          -1.0497482722660176,
          -0.9502932460528842,
          -0.958644654861902,
          -0.021119179748673313,
          0.02120839645393721,
          -0.005645489422292246,
          1.0332588615274894,
          0.013268177504148965,
          2.032227396095242,
          0.9529566088819299,
          0.0319859832932841,
          -2.0062512852438377,
          0.03962748829870942,
          0.03909439904557446,
          -0.9975808760549914,
          -0.035237006672865015,
          -0.9511950906587325,
          -1.029748178514666,
          -1.0343697520226995,
          -2.0463869179822085,
          -2.039570172293644,
          -4.027807214787179,
          -0.9827212936430126,
          -0.03827665394096548,
          -0.005457600766397189,
          -2.009724735457687,
          -2.0175721534058453,
          -2.0092144069986966,
          -1.9777084030589354,
          -2.0263197280909173,
          -1.9577639804643892,
          -1.9686217149025378,
          -2.0251509552355573,
          -1.96901066878947,
          -2.006973064273689,
          -2.007958144131967,
          -2.013027842871283,
          -2.041388160121679,
          -0.9660011352423915,
          0.03002930932455382,
          -2.0245513460980975,
          -1.9860292577628538,
          -1.956455052011762,
          -1.9538693513116494,
          -2.0410445901985366,
          -1.013891714054274,
          -0.9882988457355248,
          -0.01863676738458364,
          -1.9842684943903983,
          -0.9591408925282104,
          -0.9790926236146239,
          -0.9590235783727772,
          -0.9540144679703655,
          -1.9784487275290008,
          -0.9834766321504805,
          -1.0323399670411761,
          -1.9783031380563922,
          -2.0337264020897847,
          -1.013058217906584,
          -8.042017670310358,
          -5.002832676549901,
          -6.987693606439779,
          -6.021757520936996,
          -5.968686157329934,
          -6.980516101190182,
          -7.030136360414001,
          -6.983997519885959,
          -7.043523797843626,
          -6.968327059334337,
          -6.967344474485679,
          -6.994698441345434,
          -6.985127822391735,
          -6.962975281729115,
          -7.0342999856454,
          -6.960024387481595,
          -6.993148831560346,
          -6.956329841767066,
          -6.031857647081919,
          -7.002852860251996,
          -6.967760798708739,
          -6.962775712519463,
          -6.993177477706505,
          -7.005063429205688,
          -6.956432575388242,
          -7.042474072652604,
          -6.019757826925207,
          -6.987347323213111,
          -6.01788564407412,
          -5.9598781795289195,
          -6.959208359746759,
          -6.998337027581084,
          -5.012111650790916,
          -5.006735046581885,
          -4.987334188375521,
          -2.990645214061163,
          -2.9651664245164397,
          -3.0263520140192677,
          -3.002948499568311,
          1.022000277620803,
          -0.9875112974618693,
          1.007244016626206,
          -2.045353872593072,
          -3.9982405030230925,
          -2.0081766586312186,
          -2.9562663725585416,
          -1.9543500430115006,
          -1.956020496211438,
          -2.0309080056863746,
          -2.006406937864284,
          -1.9758933339960356,
          -1.9840614427932048,
          -3.975839717708381,
          -4.010744132282788,
          -3.9904281325415285,
          -3.9912180610636443,
          -4.047999107896318,
          -3.990668971854335,
          -3.0490473239576907,
          -1.9870117592543994,
          -2.028928006678383,
          -3.9964988428491672,
          1.9658725831129422,
          1.9866523901053106,
          1.9797267610299278,
          2.0434324060761284,
          2.0371698134821496,
          1.9544389171486212,
          2.0425441196703646,
          1.98787444379962,
          2.0049158867294468,
          1.9851651934078085,
          2.0473098932932747,
          1.9580840508658788,
          2.0250241554898616,
          2.046721937567717,
          2.0116635460686414,
          1.9981289315251556,
          1.9628382115747531,
          1.9866162443878117,
          2.0377559400677585,
          2.01889391510215,
          1.9529133387740645
         ],
         "yaxis": "y"
        },
        {
         "customdata": [
          [
           true,
           "Streptococcus mitis"
          ],
          [
           true,
           "Streptococcus pneumoniae"
          ],
          [
           true,
           "Streptococcus mitis"
          ],
          [
           true,
           "Streptococcus mitis"
          ],
          [
           true,
           "Streptococcus oralis"
          ],
          [
           true,
           "Streptococcus oralis"
          ],
          [
           true,
           "Streptococcus mitis"
          ],
          [
           true,
           "Streptococcus mitis"
          ],
          [
           true,
           "Streptococcus oralis"
          ],
          [
           true,
           "Streptococcus oralis"
          ],
          [
           true,
           "Streptococcus pneumoniae"
          ],
          [
           true,
           "Streptococcus pneumoniae"
          ],
          [
           true,
           "Streptococcus pneumoniae"
          ],
          [
           true,
           "Streptococcus pneumoniae"
          ],
          [
           true,
           "Enterococcus faecalis"
          ],
          [
           true,
           "Enterococcus faecalis"
          ],
          [
           true,
           "Staphylococcus capitis"
          ],
          [
           true,
           "Staphylococcus capitis"
          ],
          [
           true,
           "Staphylococcus epidermidis"
          ],
          [
           true,
           "Staphylococcus hominis"
          ],
          [
           true,
           "Staphylococcus aureus"
          ],
          [
           true,
           "Streptococcus pneumoniae"
          ],
          [
           true,
           "Streptococcus pneumoniae"
          ],
          [
           true,
           "Streptococcus pneumoniae"
          ],
          [
           true,
           "Streptococcus pneumoniae"
          ],
          [
           true,
           "Streptococcus pneumoniae"
          ],
          [
           true,
           "Staphylococcus epidermidis"
          ],
          [
           true,
           "Staphylococcus epidermidis"
          ],
          [
           true,
           "Staphylococcus epidermidis"
          ],
          [
           true,
           "Staphylococcus hominis"
          ],
          [
           true,
           "Staphylococcus epidermidis"
          ],
          [
           true,
           "Staphylococcus epidermidis"
          ],
          [
           true,
           "Staphylococcus hominis"
          ],
          [
           true,
           "Staphylococcus hominis"
          ],
          [
           true,
           "Staphylococcus epidermidis"
          ],
          [
           true,
           "Staphylococcus epidermidis"
          ]
         ],
         "hovertemplate": "<b>%{hovertext}</b><br><br>SIR=Intermediate<br>Log2(MIC-value)=%{y:.0f}<br>Scale=%{customdata[0]}<br>Pathogen=%{customdata[1]}<extra></extra>",
         "hovertext": [
          "BAR064",
          "QM1470",
          "QM870",
          "QM871",
          "HV752",
          "QM138",
          "QM870",
          "QM871",
          "HV752",
          "QM138",
          "QM806",
          "QM1470",
          "QM326",
          "QM328",
          "QM065",
          "QM294",
          "QM085",
          "QM086",
          "HV146",
          "HV414",
          "QM1450",
          "QM806",
          "BAR026",
          "QM1470",
          "QM027",
          "QM328",
          "HV116",
          "HV146",
          "QM968",
          "QM093",
          "HV953",
          "QM968",
          "HV245",
          "HV88",
          "HV733",
          "HV744"
         ],
         "legendgroup": "Intermediate",
         "marker": {
          "color": "gold",
          "symbol": "circle"
         },
         "mode": "markers",
         "name": "Intermediate",
         "orientation": "v",
         "showlegend": true,
         "type": "scatter",
         "x": [
          -0.04569728927175362,
          -0.04868437139718969,
          -0.08596543270021036,
          0.11366121442091695,
          -0.08449063185465432,
          -0.09570665442440793,
          1.1205280282731345,
          0.9820489311919589,
          0.9869866455252797,
          0.8924966592680339,
          4.871362237762675,
          5.09945851768242,
          4.93126099209241,
          5.1234935032325275,
          5.936342808272205,
          5.880154604464691,
          8.064363041240687,
          7.887490704192108,
          8.04902824791649,
          7.997967674730396,
          7.901847560514191,
          9.093923428087978,
          8.916349972625099,
          9.030291567295647,
          9.133678596139852,
          8.881710309666644,
          15.958280396542241,
          15.95548420284453,
          16.067655827640575,
          16.143916484040396,
          20.145335568451355,
          20.14232347446924,
          20.09074325655079,
          20.113647315142178,
          20.049926758947354,
          20.13760626237042
         ],
         "xaxis": "x",
         "y": [
          1.0255822719250989,
          1.0478409327571494,
          -0.0055792338842990535,
          -1.0111129301451032,
          -0.031036540619549413,
          0.00509203264563781,
          0.9667198942103117,
          0.024460046152576534,
          -0.03117979540434103,
          0.9810049528689503,
          -0.029629955205021208,
          -0.025527026242249052,
          -0.0017614249019099679,
          0.01722915296794411,
          1.9571772750663523,
          0.9574365161835467,
          -1.9674065171790824,
          -1.9647929069771883,
          -2.047914911867263,
          -3.9641602236871627,
          -1.0239814379041043,
          -0.036991357160161165,
          0.0005294051247984113,
          0.006218021896995288,
          -0.029934724145838688,
          -0.03988051861388338,
          1.0268223705286583,
          0.9585015000396412,
          0.9967147697401237,
          1.012909379086886,
          1.9759408463464971,
          2.036733784779461,
          2.0431925388492505,
          1.9926301697412552,
          1.997303003796273,
          2.0118506655791664
         ],
         "yaxis": "y"
        }
       ],
       "layout": {
        "legend": {
         "orientation": "h",
         "title": {
          "text": "SIR"
         },
         "tracegroupgap": 0,
         "x": 1,
         "xanchor": "right",
         "y": 1.02,
         "yanchor": "bottom"
        },
        "template": {
         "data": {
          "bar": [
           {
            "error_x": {
             "color": "#2a3f5f"
            },
            "error_y": {
             "color": "#2a3f5f"
            },
            "marker": {
             "line": {
              "color": "#E5ECF6",
              "width": 0.5
             },
             "pattern": {
              "fillmode": "overlay",
              "size": 10,
              "solidity": 0.2
             }
            },
            "type": "bar"
           }
          ],
          "barpolar": [
           {
            "marker": {
             "line": {
              "color": "#E5ECF6",
              "width": 0.5
             },
             "pattern": {
              "fillmode": "overlay",
              "size": 10,
              "solidity": 0.2
             }
            },
            "type": "barpolar"
           }
          ],
          "carpet": [
           {
            "aaxis": {
             "endlinecolor": "#2a3f5f",
             "gridcolor": "white",
             "linecolor": "white",
             "minorgridcolor": "white",
             "startlinecolor": "#2a3f5f"
            },
            "baxis": {
             "endlinecolor": "#2a3f5f",
             "gridcolor": "white",
             "linecolor": "white",
             "minorgridcolor": "white",
             "startlinecolor": "#2a3f5f"
            },
            "type": "carpet"
           }
          ],
          "choropleth": [
           {
            "colorbar": {
             "outlinewidth": 0,
             "ticks": ""
            },
            "type": "choropleth"
           }
          ],
          "contour": [
           {
            "colorbar": {
             "outlinewidth": 0,
             "ticks": ""
            },
            "colorscale": [
             [
              0,
              "#0d0887"
             ],
             [
              0.1111111111111111,
              "#46039f"
             ],
             [
              0.2222222222222222,
              "#7201a8"
             ],
             [
              0.3333333333333333,
              "#9c179e"
             ],
             [
              0.4444444444444444,
              "#bd3786"
             ],
             [
              0.5555555555555556,
              "#d8576b"
             ],
             [
              0.6666666666666666,
              "#ed7953"
             ],
             [
              0.7777777777777778,
              "#fb9f3a"
             ],
             [
              0.8888888888888888,
              "#fdca26"
             ],
             [
              1,
              "#f0f921"
             ]
            ],
            "type": "contour"
           }
          ],
          "contourcarpet": [
           {
            "colorbar": {
             "outlinewidth": 0,
             "ticks": ""
            },
            "type": "contourcarpet"
           }
          ],
          "heatmap": [
           {
            "colorbar": {
             "outlinewidth": 0,
             "ticks": ""
            },
            "colorscale": [
             [
              0,
              "#0d0887"
             ],
             [
              0.1111111111111111,
              "#46039f"
             ],
             [
              0.2222222222222222,
              "#7201a8"
             ],
             [
              0.3333333333333333,
              "#9c179e"
             ],
             [
              0.4444444444444444,
              "#bd3786"
             ],
             [
              0.5555555555555556,
              "#d8576b"
             ],
             [
              0.6666666666666666,
              "#ed7953"
             ],
             [
              0.7777777777777778,
              "#fb9f3a"
             ],
             [
              0.8888888888888888,
              "#fdca26"
             ],
             [
              1,
              "#f0f921"
             ]
            ],
            "type": "heatmap"
           }
          ],
          "heatmapgl": [
           {
            "colorbar": {
             "outlinewidth": 0,
             "ticks": ""
            },
            "colorscale": [
             [
              0,
              "#0d0887"
             ],
             [
              0.1111111111111111,
              "#46039f"
             ],
             [
              0.2222222222222222,
              "#7201a8"
             ],
             [
              0.3333333333333333,
              "#9c179e"
             ],
             [
              0.4444444444444444,
              "#bd3786"
             ],
             [
              0.5555555555555556,
              "#d8576b"
             ],
             [
              0.6666666666666666,
              "#ed7953"
             ],
             [
              0.7777777777777778,
              "#fb9f3a"
             ],
             [
              0.8888888888888888,
              "#fdca26"
             ],
             [
              1,
              "#f0f921"
             ]
            ],
            "type": "heatmapgl"
           }
          ],
          "histogram": [
           {
            "marker": {
             "pattern": {
              "fillmode": "overlay",
              "size": 10,
              "solidity": 0.2
             }
            },
            "type": "histogram"
           }
          ],
          "histogram2d": [
           {
            "colorbar": {
             "outlinewidth": 0,
             "ticks": ""
            },
            "colorscale": [
             [
              0,
              "#0d0887"
             ],
             [
              0.1111111111111111,
              "#46039f"
             ],
             [
              0.2222222222222222,
              "#7201a8"
             ],
             [
              0.3333333333333333,
              "#9c179e"
             ],
             [
              0.4444444444444444,
              "#bd3786"
             ],
             [
              0.5555555555555556,
              "#d8576b"
             ],
             [
              0.6666666666666666,
              "#ed7953"
             ],
             [
              0.7777777777777778,
              "#fb9f3a"
             ],
             [
              0.8888888888888888,
              "#fdca26"
             ],
             [
              1,
              "#f0f921"
             ]
            ],
            "type": "histogram2d"
           }
          ],
          "histogram2dcontour": [
           {
            "colorbar": {
             "outlinewidth": 0,
             "ticks": ""
            },
            "colorscale": [
             [
              0,
              "#0d0887"
             ],
             [
              0.1111111111111111,
              "#46039f"
             ],
             [
              0.2222222222222222,
              "#7201a8"
             ],
             [
              0.3333333333333333,
              "#9c179e"
             ],
             [
              0.4444444444444444,
              "#bd3786"
             ],
             [
              0.5555555555555556,
              "#d8576b"
             ],
             [
              0.6666666666666666,
              "#ed7953"
             ],
             [
              0.7777777777777778,
              "#fb9f3a"
             ],
             [
              0.8888888888888888,
              "#fdca26"
             ],
             [
              1,
              "#f0f921"
             ]
            ],
            "type": "histogram2dcontour"
           }
          ],
          "mesh3d": [
           {
            "colorbar": {
             "outlinewidth": 0,
             "ticks": ""
            },
            "type": "mesh3d"
           }
          ],
          "parcoords": [
           {
            "line": {
             "colorbar": {
              "outlinewidth": 0,
              "ticks": ""
             }
            },
            "type": "parcoords"
           }
          ],
          "pie": [
           {
            "automargin": true,
            "type": "pie"
           }
          ],
          "scatter": [
           {
            "fillpattern": {
             "fillmode": "overlay",
             "size": 10,
             "solidity": 0.2
            },
            "type": "scatter"
           }
          ],
          "scatter3d": [
           {
            "line": {
             "colorbar": {
              "outlinewidth": 0,
              "ticks": ""
             }
            },
            "marker": {
             "colorbar": {
              "outlinewidth": 0,
              "ticks": ""
             }
            },
            "type": "scatter3d"
           }
          ],
          "scattercarpet": [
           {
            "marker": {
             "colorbar": {
              "outlinewidth": 0,
              "ticks": ""
             }
            },
            "type": "scattercarpet"
           }
          ],
          "scattergeo": [
           {
            "marker": {
             "colorbar": {
              "outlinewidth": 0,
              "ticks": ""
             }
            },
            "type": "scattergeo"
           }
          ],
          "scattergl": [
           {
            "marker": {
             "colorbar": {
              "outlinewidth": 0,
              "ticks": ""
             }
            },
            "type": "scattergl"
           }
          ],
          "scattermapbox": [
           {
            "marker": {
             "colorbar": {
              "outlinewidth": 0,
              "ticks": ""
             }
            },
            "type": "scattermapbox"
           }
          ],
          "scatterpolar": [
           {
            "marker": {
             "colorbar": {
              "outlinewidth": 0,
              "ticks": ""
             }
            },
            "type": "scatterpolar"
           }
          ],
          "scatterpolargl": [
           {
            "marker": {
             "colorbar": {
              "outlinewidth": 0,
              "ticks": ""
             }
            },
            "type": "scatterpolargl"
           }
          ],
          "scatterternary": [
           {
            "marker": {
             "colorbar": {
              "outlinewidth": 0,
              "ticks": ""
             }
            },
            "type": "scatterternary"
           }
          ],
          "surface": [
           {
            "colorbar": {
             "outlinewidth": 0,
             "ticks": ""
            },
            "colorscale": [
             [
              0,
              "#0d0887"
             ],
             [
              0.1111111111111111,
              "#46039f"
             ],
             [
              0.2222222222222222,
              "#7201a8"
             ],
             [
              0.3333333333333333,
              "#9c179e"
             ],
             [
              0.4444444444444444,
              "#bd3786"
             ],
             [
              0.5555555555555556,
              "#d8576b"
             ],
             [
              0.6666666666666666,
              "#ed7953"
             ],
             [
              0.7777777777777778,
              "#fb9f3a"
             ],
             [
              0.8888888888888888,
              "#fdca26"
             ],
             [
              1,
              "#f0f921"
             ]
            ],
            "type": "surface"
           }
          ],
          "table": [
           {
            "cells": {
             "fill": {
              "color": "#EBF0F8"
             },
             "line": {
              "color": "white"
             }
            },
            "header": {
             "fill": {
              "color": "#C8D4E3"
             },
             "line": {
              "color": "white"
             }
            },
            "type": "table"
           }
          ]
         },
         "layout": {
          "annotationdefaults": {
           "arrowcolor": "#2a3f5f",
           "arrowhead": 0,
           "arrowwidth": 1
          },
          "autotypenumbers": "strict",
          "coloraxis": {
           "colorbar": {
            "outlinewidth": 0,
            "ticks": ""
           }
          },
          "colorscale": {
           "diverging": [
            [
             0,
             "#8e0152"
            ],
            [
             0.1,
             "#c51b7d"
            ],
            [
             0.2,
             "#de77ae"
            ],
            [
             0.3,
             "#f1b6da"
            ],
            [
             0.4,
             "#fde0ef"
            ],
            [
             0.5,
             "#f7f7f7"
            ],
            [
             0.6,
             "#e6f5d0"
            ],
            [
             0.7,
             "#b8e186"
            ],
            [
             0.8,
             "#7fbc41"
            ],
            [
             0.9,
             "#4d9221"
            ],
            [
             1,
             "#276419"
            ]
           ],
           "sequential": [
            [
             0,
             "#0d0887"
            ],
            [
             0.1111111111111111,
             "#46039f"
            ],
            [
             0.2222222222222222,
             "#7201a8"
            ],
            [
             0.3333333333333333,
             "#9c179e"
            ],
            [
             0.4444444444444444,
             "#bd3786"
            ],
            [
             0.5555555555555556,
             "#d8576b"
            ],
            [
             0.6666666666666666,
             "#ed7953"
            ],
            [
             0.7777777777777778,
             "#fb9f3a"
            ],
            [
             0.8888888888888888,
             "#fdca26"
            ],
            [
             1,
             "#f0f921"
            ]
           ],
           "sequentialminus": [
            [
             0,
             "#0d0887"
            ],
            [
             0.1111111111111111,
             "#46039f"
            ],
            [
             0.2222222222222222,
             "#7201a8"
            ],
            [
             0.3333333333333333,
             "#9c179e"
            ],
            [
             0.4444444444444444,
             "#bd3786"
            ],
            [
             0.5555555555555556,
             "#d8576b"
            ],
            [
             0.6666666666666666,
             "#ed7953"
            ],
            [
             0.7777777777777778,
             "#fb9f3a"
            ],
            [
             0.8888888888888888,
             "#fdca26"
            ],
            [
             1,
             "#f0f921"
            ]
           ]
          },
          "colorway": [
           "#636efa",
           "#EF553B",
           "#00cc96",
           "#ab63fa",
           "#FFA15A",
           "#19d3f3",
           "#FF6692",
           "#B6E880",
           "#FF97FF",
           "#FECB52"
          ],
          "font": {
           "color": "#2a3f5f"
          },
          "geo": {
           "bgcolor": "white",
           "lakecolor": "white",
           "landcolor": "#E5ECF6",
           "showlakes": true,
           "showland": true,
           "subunitcolor": "white"
          },
          "hoverlabel": {
           "align": "left"
          },
          "hovermode": "closest",
          "mapbox": {
           "style": "light"
          },
          "paper_bgcolor": "white",
          "plot_bgcolor": "#E5ECF6",
          "polar": {
           "angularaxis": {
            "gridcolor": "white",
            "linecolor": "white",
            "ticks": ""
           },
           "bgcolor": "#E5ECF6",
           "radialaxis": {
            "gridcolor": "white",
            "linecolor": "white",
            "ticks": ""
           }
          },
          "scene": {
           "xaxis": {
            "backgroundcolor": "#E5ECF6",
            "gridcolor": "white",
            "gridwidth": 2,
            "linecolor": "white",
            "showbackground": true,
            "ticks": "",
            "zerolinecolor": "white"
           },
           "yaxis": {
            "backgroundcolor": "#E5ECF6",
            "gridcolor": "white",
            "gridwidth": 2,
            "linecolor": "white",
            "showbackground": true,
            "ticks": "",
            "zerolinecolor": "white"
           },
           "zaxis": {
            "backgroundcolor": "#E5ECF6",
            "gridcolor": "white",
            "gridwidth": 2,
            "linecolor": "white",
            "showbackground": true,
            "ticks": "",
            "zerolinecolor": "white"
           }
          },
          "shapedefaults": {
           "line": {
            "color": "#2a3f5f"
           }
          },
          "ternary": {
           "aaxis": {
            "gridcolor": "white",
            "linecolor": "white",
            "ticks": ""
           },
           "baxis": {
            "gridcolor": "white",
            "linecolor": "white",
            "ticks": ""
           },
           "bgcolor": "#E5ECF6",
           "caxis": {
            "gridcolor": "white",
            "linecolor": "white",
            "ticks": ""
           }
          },
          "title": {
           "x": 0.05
          },
          "xaxis": {
           "automargin": true,
           "gridcolor": "white",
           "linecolor": "white",
           "ticks": "",
           "title": {
            "standoff": 15
           },
           "zerolinecolor": "white",
           "zerolinewidth": 2
          },
          "yaxis": {
           "automargin": true,
           "gridcolor": "white",
           "linecolor": "white",
           "ticks": "",
           "title": {
            "standoff": 15
           },
           "zerolinecolor": "white",
           "zerolinewidth": 2
          }
         }
        },
        "title": {
         "text": "Isolate log2(MIC-values) for different antibiotics",
         "x": 0.5
        },
        "xaxis": {
         "anchor": "y",
         "domain": [
          0,
          1
         ],
         "tickmode": "array",
         "ticktext": [
          "Benzylpenicillin",
          "Ampicillin",
          "Cefoxitin",
          "Ceftaroline",
          "Ceftobiprole",
          "Ceftriaxone",
          "Imipenem",
          "Meropenem",
          "Ciprofloxacin",
          "Levofloxacin",
          "Gentamicin",
          "Dalbavancin",
          "Teicoplanin",
          "Vancomycin",
          "Erythromycin",
          "Clindamycin",
          "Tetracycline",
          "Linezolid",
          "Daptomycin",
          "Rifampicin",
          "Trimeth-sulf",
          "D-test",
          "Optochin"
         ],
         "tickvals": [
          0,
          1,
          2,
          3,
          4,
          5,
          6,
          7,
          8,
          9,
          10,
          11,
          12,
          13,
          14,
          15,
          16,
          17,
          18,
          19,
          20,
          21,
          22
         ],
         "title": {
          "text": "Antibiotics"
         }
        },
        "yaxis": {
         "anchor": "x",
         "domain": [
          0,
          1
         ],
         "range": [
          -11,
          12
         ],
         "tickmode": "array",
         "ticktext": [
          "Min C",
          "0.00195",
          "0.00391",
          "0.00781",
          "0.01563",
          "0.03125",
          "0.0625",
          "0.125",
          "0.25",
          "0.5",
          "1",
          "2",
          "4",
          "8",
          "16",
          "32",
          "64",
          "128",
          "256",
          "512",
          "1024",
          "Max C"
         ],
         "tickvals": [
          -10,
          -9,
          -8,
          -7,
          -6,
          -5,
          -4,
          -3,
          -2,
          -1,
          0,
          1,
          2,
          3,
          4,
          5,
          6,
          7,
          8,
          9,
          10,
          11
         ],
         "title": {
          "text": "Log2(MIC-value)"
         }
        }
       }
      }
     },
     "metadata": {},
     "output_type": "display_data"
    }
   ],
   "source": [
    "def main():\n",
    "    # Load files\n",
    "    chosen_isolates_list = pd.read_csv(\"Chosen_isolates_list.csv\")\n",
    "    CIB = pd.ExcelFile(\"CIB_TF-data_AllIsolates_20230302.xlsx\")\n",
    "    matrix_EU = pd.read_excel(CIB, \"matrix EU\")\n",
    "    \n",
    "    # Rename a long name for plotting purposes\n",
    "    matrix_EU.rename(columns={\"Trimethoprim-sulfamethoxazole\": \"Trimeth-sulf\"}, inplace=True)\n",
    "    \n",
    "    # Select isolates\n",
    "    chosen_isolates = extract_chosen_isolates(chosen_isolates_list, matrix_EU)\n",
    "    \n",
    "    # List of antiiotic names\n",
    "    antibiotics = list(chosen_isolates.columns[3:])    \n",
    "     \n",
    "    # Extract all SIRs for an antibiotic.\n",
    "    chosen_isolates_SIR = extract_SIR(chosen_isolates, antibiotics)\n",
    "    \n",
    "    # Remove the tuples that have None in their SIR data\n",
    "    filtered_chosen_isolates_SIR = filter_mic_values(chosen_isolates_SIR)\n",
    "    \n",
    "    # Extract the mic-values of each isolate for each antibiotic.\n",
    "    mic_data = extract_mic_data(filtered_chosen_isolates_SIR, antibiotics)\n",
    "    \n",
    "    # Create dataframe used for plotting\n",
    "    plot_df = create_plot_df(antibiotics, mic_data)\n",
    "    \n",
    "    plotly_dotplot(plot_df, antibiotics)\n",
    "    \n",
    "if __name__ == \"__main__\":\n",
    "    main()\n"
   ]
  }
 ],
 "metadata": {
  "kernelspec": {
   "display_name": "Python 3",
   "language": "python",
   "name": "python3"
  },
  "language_info": {
   "codemirror_mode": {
    "name": "ipython",
    "version": 3
   },
   "file_extension": ".py",
   "mimetype": "text/x-python",
   "name": "python",
   "nbconvert_exporter": "python",
   "pygments_lexer": "ipython3",
   "version": "3.11.0"
  },
  "orig_nbformat": 4
 },
 "nbformat": 4,
 "nbformat_minor": 2
}
