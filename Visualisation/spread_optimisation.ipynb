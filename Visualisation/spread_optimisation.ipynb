{
 "cells": [
  {
   "cell_type": "code",
   "execution_count": 362,
   "metadata": {},
   "outputs": [],
   "source": [
    "import numpy as np\n",
    "import pandas as pd\n",
    "from IPython.display import display\n",
    "from pprint import pprint"
   ]
  },
  {
   "cell_type": "code",
   "execution_count": 363,
   "metadata": {},
   "outputs": [],
   "source": [
    "total_range = (0, 10)\n",
    "\n",
    "antibiotics = [\"AB1\", \"AB2\"]\n",
    "ranges = [(3, 7), (1, 6)]\n",
    "\n",
    "isolate_names = [\"A\", \"B\", \"C\", \"D\", \"E\", \"F\"]\n",
    "isolate_mic = [(4, 1), (None, 5), (6, None), (7, 2), (4, 2), (3, 4)]"
   ]
  },
  {
   "cell_type": "code",
   "execution_count": 364,
   "metadata": {},
   "outputs": [
    {
     "data": {
      "text/html": [
       "<div>\n",
       "<style scoped>\n",
       "    .dataframe tbody tr th:only-of-type {\n",
       "        vertical-align: middle;\n",
       "    }\n",
       "\n",
       "    .dataframe tbody tr th {\n",
       "        vertical-align: top;\n",
       "    }\n",
       "\n",
       "    .dataframe thead th {\n",
       "        text-align: right;\n",
       "    }\n",
       "</style>\n",
       "<table border=\"1\" class=\"dataframe\">\n",
       "  <thead>\n",
       "    <tr style=\"text-align: right;\">\n",
       "      <th></th>\n",
       "      <th>AB1</th>\n",
       "      <th>AB2</th>\n",
       "    </tr>\n",
       "  </thead>\n",
       "  <tbody>\n",
       "    <tr>\n",
       "      <th>A</th>\n",
       "      <td>4.0</td>\n",
       "      <td>1.0</td>\n",
       "    </tr>\n",
       "    <tr>\n",
       "      <th>B</th>\n",
       "      <td>NaN</td>\n",
       "      <td>5.0</td>\n",
       "    </tr>\n",
       "    <tr>\n",
       "      <th>C</th>\n",
       "      <td>6.0</td>\n",
       "      <td>NaN</td>\n",
       "    </tr>\n",
       "    <tr>\n",
       "      <th>D</th>\n",
       "      <td>7.0</td>\n",
       "      <td>2.0</td>\n",
       "    </tr>\n",
       "    <tr>\n",
       "      <th>E</th>\n",
       "      <td>4.0</td>\n",
       "      <td>2.0</td>\n",
       "    </tr>\n",
       "    <tr>\n",
       "      <th>F</th>\n",
       "      <td>3.0</td>\n",
       "      <td>4.0</td>\n",
       "    </tr>\n",
       "  </tbody>\n",
       "</table>\n",
       "</div>"
      ],
      "text/plain": [
       "   AB1  AB2\n",
       "A  4.0  1.0\n",
       "B  NaN  5.0\n",
       "C  6.0  NaN\n",
       "D  7.0  2.0\n",
       "E  4.0  2.0\n",
       "F  3.0  4.0"
      ]
     },
     "metadata": {},
     "output_type": "display_data"
    },
    {
     "data": {
      "text/html": [
       "<div>\n",
       "<style scoped>\n",
       "    .dataframe tbody tr th:only-of-type {\n",
       "        vertical-align: middle;\n",
       "    }\n",
       "\n",
       "    .dataframe tbody tr th {\n",
       "        vertical-align: top;\n",
       "    }\n",
       "\n",
       "    .dataframe thead th {\n",
       "        text-align: right;\n",
       "    }\n",
       "</style>\n",
       "<table border=\"1\" class=\"dataframe\">\n",
       "  <thead>\n",
       "    <tr style=\"text-align: right;\">\n",
       "      <th></th>\n",
       "      <th>AB1</th>\n",
       "      <th>AB2</th>\n",
       "    </tr>\n",
       "  </thead>\n",
       "  <tbody>\n",
       "    <tr>\n",
       "      <th>A</th>\n",
       "      <td>0.0</td>\n",
       "      <td>0.0</td>\n",
       "    </tr>\n",
       "    <tr>\n",
       "      <th>B</th>\n",
       "      <td>0.0</td>\n",
       "      <td>0.0</td>\n",
       "    </tr>\n",
       "    <tr>\n",
       "      <th>C</th>\n",
       "      <td>0.0</td>\n",
       "      <td>0.0</td>\n",
       "    </tr>\n",
       "    <tr>\n",
       "      <th>D</th>\n",
       "      <td>0.0</td>\n",
       "      <td>0.0</td>\n",
       "    </tr>\n",
       "    <tr>\n",
       "      <th>E</th>\n",
       "      <td>0.0</td>\n",
       "      <td>0.0</td>\n",
       "    </tr>\n",
       "    <tr>\n",
       "      <th>F</th>\n",
       "      <td>0.0</td>\n",
       "      <td>0.0</td>\n",
       "    </tr>\n",
       "  </tbody>\n",
       "</table>\n",
       "</div>"
      ],
      "text/plain": [
       "   AB1  AB2\n",
       "A  0.0  0.0\n",
       "B  0.0  0.0\n",
       "C  0.0  0.0\n",
       "D  0.0  0.0\n",
       "E  0.0  0.0\n",
       "F  0.0  0.0"
      ]
     },
     "metadata": {},
     "output_type": "display_data"
    }
   ],
   "source": [
    "isolates = pd.DataFrame(\n",
    "    data=isolate_mic, \n",
    "    columns=antibiotics, \n",
    "    index=isolate_names\n",
    "    )\n",
    "display(isolates)"
   ]
  },
  {
   "cell_type": "code",
   "execution_count": 365,
   "metadata": {},
   "outputs": [
    {
     "name": "stdout",
     "output_type": "stream",
     "text": [
      "{'AB1': (3, 7), 'AB2': (1, 6)}\n",
      "{'AB1': [0, 0, 0, 0, 0, 0, 0, 0, 0, 0], 'AB2': [0, 0, 0, 0, 0, 0, 0, 0, 0, 0]}\n"
     ]
    }
   ],
   "source": [
    "antibiotic_ranges = {\n",
    "    abx: abx_range for abx, abx_range in zip(antibiotics, ranges)\n",
    "    }\n",
    "\n",
    "antibiotic_fill = {\n",
    "    abx: [0 for _ in range(total_range[1])] for abx in antibiotics\n",
    "}\n",
    "\n",
    "pprint(antibiotic_ranges)\n",
    "pprint(antibiotic_fill)"
   ]
  },
  {
   "cell_type": "code",
   "execution_count": 366,
   "metadata": {},
   "outputs": [
    {
     "name": "stdout",
     "output_type": "stream",
     "text": [
      "{'AB1': [None, None, None, 0, 0, 0, 0, 0, None, None], 'AB2': [None, 0, 0, 0, 0, 0, 0, None, None, None]}\n"
     ]
    }
   ],
   "source": [
    "for abx, fill_list in antibiotic_fill.items():\n",
    "    lower_limit, upper_limit = antibiotic_ranges[abx]\n",
    "    for index, value in enumerate(fill_list):\n",
    "        if index < lower_limit:\n",
    "            fill_list[index] = None\n",
    "        elif index > upper_limit:\n",
    "            fill_list[index] = None\n",
    "print(antibiotic_fill)"
   ]
  },
  {
   "cell_type": "code",
   "execution_count": 367,
   "metadata": {},
   "outputs": [],
   "source": [
    "def count_gap_length(valid_list: list) -> float:    \n",
    "    total_gap_length = 0\n",
    "    gap_length = 0\n",
    "    \n",
    "    for value in valid_list:\n",
    "        if value == 0:\n",
    "            gap_length += 1\n",
    "        else: # if current value == 1\n",
    "            if gap_length >= 2: \n",
    "                total_gap_length += gap_length - 1\n",
    "            gap_length = 0\n",
    "    # If the last values were also 0s and the gap length is at least 2. \n",
    "    # Add the length of the gap to the total gap length\n",
    "    if gap_length >= 2:\n",
    "        total_gap_length += gap_length - 1\n",
    "    return total_gap_length"
   ]
  },
  {
   "cell_type": "code",
   "execution_count": 368,
   "metadata": {},
   "outputs": [],
   "source": [
    "def check_edges(valid_list:list) -> float:    \n",
    "    edge_penalty = 0\n",
    "    \n",
    "    if valid_list[0] == 0: \n",
    "        edge_penalty += 0.5\n",
    "    if valid_list[-1] == 0: \n",
    "        edge_penalty += 0.5\n",
    "    \n",
    "    return edge_penalty"
   ]
  },
  {
   "cell_type": "code",
   "execution_count": 369,
   "metadata": {},
   "outputs": [],
   "source": [
    "def score_fill_list(fill_list: list) -> float:\n",
    "    valid_list = ([i for i in fill_list if i is not None])\n",
    "    \n",
    "    if len(valid_list) <= 1:\n",
    "        raise ValueError(\"Length of valid list must be greater than 1\")\n",
    "    \n",
    "    penalty = 0\n",
    "    penalty += count_gap_length(valid_list)\n",
    "    penalty += check_edges(valid_list)\n",
    "    \n",
    "    return penalty"
   ]
  },
  {
   "cell_type": "code",
   "execution_count": 370,
   "metadata": {},
   "outputs": [
    {
     "name": "stdout",
     "output_type": "stream",
     "text": [
      "Test list: [0, 0]| Score: 2.0 | Correct score: 2\n",
      "Test list: [0, 0, 0, 0, 0]| Score: 5.0 | Correct score: 5\n",
      "Test list: [1, 0, 0, 0, 0]| Score: 3.5 | Correct score: 3.5\n",
      "Test list: [0, 0, 0, 0, 1]| Score: 3.5 | Correct score: 3.5\n",
      "Test list: [1, 0, 1, 0, 0]| Score: 1.5 | Correct score: 1.5\n",
      "Test list: [1, 1, 0, 0, 0]| Score: 2.5 | Correct score: 2.5\n",
      "Test list: [0, 1, 0, 1, 0]| Score: 1.0 | Correct score: 1\n",
      "Test list: [0, 0, 1, 0, 0]| Score: 3.0 | Correct score: 3\n"
     ]
    }
   ],
   "source": [
    "test_score_fill_list = [\n",
    "    ([0, 0], 2),\n",
    "    ([0, 0, 0, 0, 0], 5),\n",
    "    ([1, 0, 0, 0, 0], 3.5),\n",
    "    ([0, 0, 0, 0, 1], 3.5),\n",
    "    ([1, 0, 1, 0, 0], 1.5),\n",
    "    ([1, 1, 0, 0, 0], 2.5),\n",
    "    ([0, 1, 0, 1, 0], 1),\n",
    "    ([0, 0, 1, 0, 0], 3),]\n",
    "\n",
    "\n",
    "for test, correct_score in test_score_fill_list:\n",
    "    print(f\"Test list: {test}| Score: {score_fill_list(test)} | Correct score: {correct_score}\")"
   ]
  }
 ],
 "metadata": {
  "kernelspec": {
   "display_name": "Python 3",
   "language": "python",
   "name": "python3"
  },
  "language_info": {
   "codemirror_mode": {
    "name": "ipython",
    "version": 3
   },
   "file_extension": ".py",
   "mimetype": "text/x-python",
   "name": "python",
   "nbconvert_exporter": "python",
   "pygments_lexer": "ipython3",
   "version": "3.11.0"
  },
  "orig_nbformat": 4
 },
 "nbformat": 4,
 "nbformat_minor": 2
}
